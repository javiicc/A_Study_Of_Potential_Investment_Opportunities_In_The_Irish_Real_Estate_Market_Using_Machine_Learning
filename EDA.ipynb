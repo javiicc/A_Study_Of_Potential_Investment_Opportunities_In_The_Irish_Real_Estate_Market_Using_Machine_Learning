{
 "cells": [
  {
   "cell_type": "code",
   "execution_count": 9,
   "id": "a9e8d26d-4a7c-4abf-832b-059a8d7165ef",
   "metadata": {},
   "outputs": [],
   "source": [
    "import numpy as np\n",
    "import pandas as pd\n",
    "import matplotlib.pyplot as plt\n",
    "import seaborn as sns"
   ]
  },
  {
   "cell_type": "code",
   "execution_count": 10,
   "id": "a19e208d-3d7a-4d75-b0f6-48cf0a59e244",
   "metadata": {},
   "outputs": [],
   "source": [
    "pd.set_option('display.max_rows', None)\n",
    "pd.set_option('display.max_columns', None)\n",
    "plt.style.use('seaborn')"
   ]
  },
  {
   "cell_type": "code",
   "execution_count": 11,
   "id": "914d694d-8b29-4d5a-a950-7d44d83b0456",
   "metadata": {},
   "outputs": [
    {
     "data": {
      "text/plain": [
       "(10448, 14)"
      ]
     },
     "execution_count": 11,
     "metadata": {},
     "output_type": "execute_result"
    }
   ],
   "source": [
    "sale_data = pd.read_csv('data_available/sale_data_post_C&W.csv', sep=',', parse_dates=['entered_renewed', 'scraping_date'])\n",
    "sale_data.shape"
   ]
  },
  {
   "cell_type": "code",
   "execution_count": 12,
   "id": "7311256b-88e0-43a6-b81a-a80c4fbe88d6",
   "metadata": {},
   "outputs": [
    {
     "name": "stdout",
     "output_type": "stream",
     "text": [
      "<class 'pandas.core.frame.DataFrame'>\n",
      "RangeIndex: 10448 entries, 0 to 10447\n",
      "Data columns (total 14 columns):\n",
      " #   Column           Non-Null Count  Dtype         \n",
      "---  ------           --------------  -----         \n",
      " 0   daft_id          10448 non-null  int64         \n",
      " 1   url              10448 non-null  object        \n",
      " 2   name             10448 non-null  object        \n",
      " 3   price            10448 non-null  float64       \n",
      " 4   sale_type        10448 non-null  object        \n",
      " 5   floor_area       10448 non-null  int64         \n",
      " 6   entered_renewed  10448 non-null  datetime64[ns]\n",
      " 7   views            10448 non-null  float64       \n",
      " 8   type             10448 non-null  object        \n",
      " 9   scraping_date    10448 non-null  datetime64[ns]\n",
      " 10  latitude         10448 non-null  float64       \n",
      " 11  longitude        10448 non-null  float64       \n",
      " 12  bedroom          10448 non-null  int64         \n",
      " 13  bathroom         10448 non-null  int64         \n",
      "dtypes: datetime64[ns](2), float64(4), int64(4), object(4)\n",
      "memory usage: 1.1+ MB\n"
     ]
    }
   ],
   "source": [
    "sale_data.info()"
   ]
  },
  {
   "cell_type": "code",
   "execution_count": 13,
   "id": "efbca231-a436-4334-8b18-796dca054e2b",
   "metadata": {},
   "outputs": [
    {
     "data": {
      "text/html": [
       "<div>\n",
       "<style scoped>\n",
       "    .dataframe tbody tr th:only-of-type {\n",
       "        vertical-align: middle;\n",
       "    }\n",
       "\n",
       "    .dataframe tbody tr th {\n",
       "        vertical-align: top;\n",
       "    }\n",
       "\n",
       "    .dataframe thead th {\n",
       "        text-align: right;\n",
       "    }\n",
       "</style>\n",
       "<table border=\"1\" class=\"dataframe\">\n",
       "  <thead>\n",
       "    <tr style=\"text-align: right;\">\n",
       "      <th></th>\n",
       "      <th>daft_id</th>\n",
       "      <th>url</th>\n",
       "      <th>name</th>\n",
       "      <th>price</th>\n",
       "      <th>sale_type</th>\n",
       "      <th>floor_area</th>\n",
       "      <th>entered_renewed</th>\n",
       "      <th>views</th>\n",
       "      <th>type</th>\n",
       "      <th>scraping_date</th>\n",
       "      <th>latitude</th>\n",
       "      <th>longitude</th>\n",
       "      <th>bedroom</th>\n",
       "      <th>bathroom</th>\n",
       "    </tr>\n",
       "  </thead>\n",
       "  <tbody>\n",
       "    <tr>\n",
       "      <th>7515</th>\n",
       "      <td>14471380</td>\n",
       "      <td>https://www.daft.ie/for-sale/semi-detached-hou...</td>\n",
       "      <td>26 Clonshaugh Walk, Clonshaugh, Dublin 17</td>\n",
       "      <td>370000.0</td>\n",
       "      <td>For Sale by Private Treaty</td>\n",
       "      <td>87</td>\n",
       "      <td>2021-09-25</td>\n",
       "      <td>6997.0</td>\n",
       "      <td>buy</td>\n",
       "      <td>2021-09-25</td>\n",
       "      <td>53.403933</td>\n",
       "      <td>-6.208746</td>\n",
       "      <td>3</td>\n",
       "      <td>1</td>\n",
       "    </tr>\n",
       "    <tr>\n",
       "      <th>3495</th>\n",
       "      <td>16091009</td>\n",
       "      <td>https://www.daft.ie/for-sale/semi-detached-hou...</td>\n",
       "      <td>14 White Pines Heights, Stocking Avenue, Rathf...</td>\n",
       "      <td>575000.0</td>\n",
       "      <td>For Sale by Private Treaty</td>\n",
       "      <td>134</td>\n",
       "      <td>2021-10-04</td>\n",
       "      <td>4491.0</td>\n",
       "      <td>buy</td>\n",
       "      <td>2021-10-05</td>\n",
       "      <td>53.274613</td>\n",
       "      <td>-6.314900</td>\n",
       "      <td>4</td>\n",
       "      <td>3</td>\n",
       "    </tr>\n",
       "    <tr>\n",
       "      <th>1618</th>\n",
       "      <td>14809080</td>\n",
       "      <td>https://www.daft.ie/for-sale/terraced-house-6-...</td>\n",
       "      <td>6 Maryville, Southern Road, Co. Cork</td>\n",
       "      <td>415000.0</td>\n",
       "      <td>For Sale by Private Treaty</td>\n",
       "      <td>120</td>\n",
       "      <td>2021-10-12</td>\n",
       "      <td>20318.0</td>\n",
       "      <td>buy</td>\n",
       "      <td>2021-10-13</td>\n",
       "      <td>51.892278</td>\n",
       "      <td>-8.465976</td>\n",
       "      <td>3</td>\n",
       "      <td>2</td>\n",
       "    </tr>\n",
       "    <tr>\n",
       "      <th>965</th>\n",
       "      <td>16521647</td>\n",
       "      <td>https://www.daft.ie/for-sale/bungalow-9-the-gr...</td>\n",
       "      <td>9 The Grove, Kingswood Heights, Tallaght, Dubl...</td>\n",
       "      <td>280000.0</td>\n",
       "      <td>For Sale by Private Treaty</td>\n",
       "      <td>51</td>\n",
       "      <td>2021-10-13</td>\n",
       "      <td>416.0</td>\n",
       "      <td>buy</td>\n",
       "      <td>2021-10-14</td>\n",
       "      <td>53.303962</td>\n",
       "      <td>-6.375458</td>\n",
       "      <td>2</td>\n",
       "      <td>1</td>\n",
       "    </tr>\n",
       "    <tr>\n",
       "      <th>9311</th>\n",
       "      <td>16132666</td>\n",
       "      <td>https://www.daft.ie/for-sale/detached-house-ke...</td>\n",
       "      <td>Kellymount, Paulstown, Co. Kilkenny</td>\n",
       "      <td>295000.0</td>\n",
       "      <td>For Sale by Private Treaty</td>\n",
       "      <td>109</td>\n",
       "      <td>2021-09-24</td>\n",
       "      <td>2693.0</td>\n",
       "      <td>buy</td>\n",
       "      <td>2021-09-25</td>\n",
       "      <td>52.681846</td>\n",
       "      <td>-7.029379</td>\n",
       "      <td>4</td>\n",
       "      <td>2</td>\n",
       "    </tr>\n",
       "  </tbody>\n",
       "</table>\n",
       "</div>"
      ],
      "text/plain": [
       "       daft_id                                                url  \\\n",
       "7515  14471380  https://www.daft.ie/for-sale/semi-detached-hou...   \n",
       "3495  16091009  https://www.daft.ie/for-sale/semi-detached-hou...   \n",
       "1618  14809080  https://www.daft.ie/for-sale/terraced-house-6-...   \n",
       "965   16521647  https://www.daft.ie/for-sale/bungalow-9-the-gr...   \n",
       "9311  16132666  https://www.daft.ie/for-sale/detached-house-ke...   \n",
       "\n",
       "                                                   name     price  \\\n",
       "7515          26 Clonshaugh Walk, Clonshaugh, Dublin 17  370000.0   \n",
       "3495  14 White Pines Heights, Stocking Avenue, Rathf...  575000.0   \n",
       "1618               6 Maryville, Southern Road, Co. Cork  415000.0   \n",
       "965   9 The Grove, Kingswood Heights, Tallaght, Dubl...  280000.0   \n",
       "9311                Kellymount, Paulstown, Co. Kilkenny  295000.0   \n",
       "\n",
       "                       sale_type  floor_area entered_renewed    views type  \\\n",
       "7515  For Sale by Private Treaty          87      2021-09-25   6997.0  buy   \n",
       "3495  For Sale by Private Treaty         134      2021-10-04   4491.0  buy   \n",
       "1618  For Sale by Private Treaty         120      2021-10-12  20318.0  buy   \n",
       "965   For Sale by Private Treaty          51      2021-10-13    416.0  buy   \n",
       "9311  For Sale by Private Treaty         109      2021-09-24   2693.0  buy   \n",
       "\n",
       "     scraping_date   latitude  longitude  bedroom  bathroom  \n",
       "7515    2021-09-25  53.403933  -6.208746        3         1  \n",
       "3495    2021-10-05  53.274613  -6.314900        4         3  \n",
       "1618    2021-10-13  51.892278  -8.465976        3         2  \n",
       "965     2021-10-14  53.303962  -6.375458        2         1  \n",
       "9311    2021-09-25  52.681846  -7.029379        4         2  "
      ]
     },
     "execution_count": 13,
     "metadata": {},
     "output_type": "execute_result"
    }
   ],
   "source": [
    "sale_data.sample(5)#.transpose()"
   ]
  },
  {
   "cell_type": "markdown",
   "id": "1b54a31c-534c-4f37-9b12-91143a282643",
   "metadata": {},
   "source": [
    "--------------"
   ]
  },
  {
   "cell_type": "markdown",
   "id": "f5dcce5a-8c9a-412a-9dc8-0fd20ecb352e",
   "metadata": {},
   "source": [
    "Target: `price`\n",
    "\n",
    "Feature == Important == In-between == Not-important ==Reason\n",
    "\n",
    "|||\n",
    "|:---:|:---:|\n",
    "|**daft_id**:|skdbcldbjvl|\n",
    "|**Verdict**:|aldbcoadv|\n",
    "|**Reason**:|alsdnclkdnv|\n",
    "|-----|-----|\n",
    "|||\n",
    "|||\n",
    "|||\n",
    "|-----|-----|\n",
    "|||\n",
    "|||\n",
    "|||\n",
    "|-----|-----|\n",
    "|||"
   ]
  },
  {
   "cell_type": "code",
   "execution_count": 14,
   "id": "f0ce8c7f-8e60-456f-b242-782a384ea013",
   "metadata": {},
   "outputs": [
    {
     "data": {
      "image/png": "[encoded data removed]",
      "text/plain": [
       "<Figure size 576x396 with 2 Axes>"
      ]
     },
     "metadata": {},
     "output_type": "display_data"
    }
   ],
   "source": [
    "sns.heatmap(sale_data.corr(), annot=True, cmap='mako');"
   ]
  },
  {
   "cell_type": "code",
   "execution_count": null,
   "id": "8c89b56f-e297-4a28-9f90-898eff0bcf7c",
   "metadata": {},
   "outputs": [],
   "source": []
  }
 ],
 "metadata": {
  "kernelspec": {
   "display_name": "Python 3 (ipykernel)",
   "language": "python",
   "name": "python3"
  },
  "language_info": {
   "codemirror_mode": {
    "name": "ipython",
    "version": 3
   },
   "file_extension": ".py",
   "mimetype": "text/x-python",
   "name": "python",
   "nbconvert_exporter": "python",
   "pygments_lexer": "ipython3",
   "version": "3.7.11"
  }
 },
 "nbformat": 4,
 "nbformat_minor": 5
}
