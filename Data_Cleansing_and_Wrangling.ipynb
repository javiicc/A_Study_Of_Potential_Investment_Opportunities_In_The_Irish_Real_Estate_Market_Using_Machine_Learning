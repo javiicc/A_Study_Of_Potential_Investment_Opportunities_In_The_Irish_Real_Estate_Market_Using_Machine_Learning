{
 "cells": [
  {
   "cell_type": "markdown",
   "id": "ac5ff85e-6a6f-45a1-a2a6-79ab3fce4222",
   "metadata": {
    "tags": []
   },
   "source": [
    "# Cleansing and Wrangling Data"
   ]
  },
  {
   "cell_type": "markdown",
   "id": "2b87cff5-60a3-4bd3-9f1a-55ac8628ee6d",
   "metadata": {},
   "source": [
    "We need to do some cleansing and wrangling task before start analysing the data. "
   ]
  },
  {
   "cell_type": "markdown",
   "id": "784d05a6-d076-41af-bd27-1cf4c09a94d4",
   "metadata": {
    "tags": []
   },
   "source": [
    "## Import Libraries and Set Options"
   ]
  },
  {
   "cell_type": "code",
   "execution_count": 1,
   "id": "baee3aeb-1780-4c57-b74f-2da0c07a9982",
   "metadata": {},
   "outputs": [],
   "source": [
    "import sqlite3\n",
    "\n",
    "import numpy as np\n",
    "import pandas as pd\n",
    "import matplotlib.pyplot as plt\n",
    "\n",
    "import collections\n",
    "\n",
    "from daftpy.daftdata import get_db, db_dict, to_datetime, sale_dict_daily, drop_renewed, concatenate_dropping_renewed\n",
    "\n",
    "from daftpy.daftprep import (num_perc, process_price, process_coordinates, drop_coord_outliers, drop_floor_area, \n",
    "                             floor_area_wragling, process_floor_area, drop_info, process_info, process_views, process_rooms)"
   ]
  },
  {
   "cell_type": "code",
   "execution_count": 2,
   "id": "313e192f-3157-415e-b586-eae61c434588",
   "metadata": {},
   "outputs": [],
   "source": [
    "pd.set_option('display.max_rows', None)\n",
    "pd.set_option('display.max_columns', None)\n",
    "plt.style.use('seaborn')"
   ]
  },
  {
   "cell_type": "markdown",
   "id": "f5d452ad-34ac-4114-ab18-63048b806453",
   "metadata": {
    "tags": []
   },
   "source": [
    "## Load Data"
   ]
  },
  {
   "cell_type": "markdown",
   "id": "914423be-e757-4b14-9ef9-636e75ece002",
   "metadata": {},
   "source": [
    "We load the information through a fuction whict drops the advertiser's private information. "
   ]
  },
  {
   "cell_type": "code",
   "execution_count": 3,
   "id": "3d51039a-844a-44d4-8162-6cd561c67232",
   "metadata": {},
   "outputs": [],
   "source": [
    "sale = get_db(dbname='2021-11-25.db')"
   ]
  },
  {
   "cell_type": "code",
   "execution_count": 4,
   "id": "a346a762-c60c-4479-a5af-49cdd3e3c0b2",
   "metadata": {},
   "outputs": [
    {
     "name": "stdout",
     "output_type": "stream",
     "text": [
      "<class 'pandas.core.frame.DataFrame'>\n",
      "RangeIndex: 15391 entries, 0 to 15390\n",
      "Data columns (total 18 columns):\n",
      " #   Column                        Non-Null Count  Dtype \n",
      "---  ------                        --------------  ----- \n",
      " 0   daft_id                       15391 non-null  object\n",
      " 1   item_id                       15391 non-null  object\n",
      " 2   url                           15391 non-null  object\n",
      " 3   name                          15391 non-null  object\n",
      " 4   price                         15391 non-null  object\n",
      " 5   info                          15391 non-null  object\n",
      " 6   sale_type                     15391 non-null  object\n",
      " 7   floor_area                    15391 non-null  object\n",
      " 8   psr                           15391 non-null  object\n",
      " 9   ber                           15391 non-null  object\n",
      " 10  entered_renewed               15391 non-null  object\n",
      " 11  views                         15391 non-null  object\n",
      " 12  type_house                    15391 non-null  object\n",
      " 13  energy_performance_indicator  15391 non-null  object\n",
      " 14  coordinates                   15391 non-null  object\n",
      " 15  type                          15391 non-null  object\n",
      " 16  scraping_date                 15391 non-null  object\n",
      " 17  description                   15391 non-null  object\n",
      "dtypes: object(18)\n",
      "memory usage: 2.1+ MB\n"
     ]
    }
   ],
   "source": [
    "sale.info()"
   ]
  },
  {
   "cell_type": "markdown",
   "id": "ec9fa2e0-cdaf-499a-acfc-0f57574e54aa",
   "metadata": {
    "tags": []
   },
   "source": [
    "## Check Missing Values and Duplicates"
   ]
  },
  {
   "cell_type": "code",
   "execution_count": 5,
   "id": "e07becae-74c1-49c5-abf3-48ee012c4114",
   "metadata": {},
   "outputs": [
    {
     "data": {
      "text/html": [
       "<div>\n",
       "<style scoped>\n",
       "    .dataframe tbody tr th:only-of-type {\n",
       "        vertical-align: middle;\n",
       "    }\n",
       "\n",
       "    .dataframe tbody tr th {\n",
       "        vertical-align: top;\n",
       "    }\n",
       "\n",
       "    .dataframe thead th {\n",
       "        text-align: right;\n",
       "    }\n",
       "</style>\n",
       "<table border=\"1\" class=\"dataframe\">\n",
       "  <thead>\n",
       "    <tr style=\"text-align: right;\">\n",
       "      <th></th>\n",
       "      <th>Absolute</th>\n",
       "      <th>Relative</th>\n",
       "    </tr>\n",
       "  </thead>\n",
       "  <tbody>\n",
       "    <tr>\n",
       "      <th>daft_id</th>\n",
       "      <td>0</td>\n",
       "      <td>0.000000</td>\n",
       "    </tr>\n",
       "    <tr>\n",
       "      <th>item_id</th>\n",
       "      <td>0</td>\n",
       "      <td>0.000000</td>\n",
       "    </tr>\n",
       "    <tr>\n",
       "      <th>url</th>\n",
       "      <td>0</td>\n",
       "      <td>0.000000</td>\n",
       "    </tr>\n",
       "    <tr>\n",
       "      <th>name</th>\n",
       "      <td>278</td>\n",
       "      <td>0.018063</td>\n",
       "    </tr>\n",
       "    <tr>\n",
       "      <th>price</th>\n",
       "      <td>278</td>\n",
       "      <td>0.018063</td>\n",
       "    </tr>\n",
       "    <tr>\n",
       "      <th>info</th>\n",
       "      <td>278</td>\n",
       "      <td>0.018063</td>\n",
       "    </tr>\n",
       "    <tr>\n",
       "      <th>sale_type</th>\n",
       "      <td>285</td>\n",
       "      <td>0.018517</td>\n",
       "    </tr>\n",
       "    <tr>\n",
       "      <th>floor_area</th>\n",
       "      <td>285</td>\n",
       "      <td>0.018517</td>\n",
       "    </tr>\n",
       "    <tr>\n",
       "      <th>psr</th>\n",
       "      <td>80</td>\n",
       "      <td>0.005198</td>\n",
       "    </tr>\n",
       "    <tr>\n",
       "      <th>ber</th>\n",
       "      <td>3742</td>\n",
       "      <td>0.243129</td>\n",
       "    </tr>\n",
       "    <tr>\n",
       "      <th>entered_renewed</th>\n",
       "      <td>0</td>\n",
       "      <td>0.000000</td>\n",
       "    </tr>\n",
       "    <tr>\n",
       "      <th>views</th>\n",
       "      <td>0</td>\n",
       "      <td>0.000000</td>\n",
       "    </tr>\n",
       "    <tr>\n",
       "      <th>type_house</th>\n",
       "      <td>4122</td>\n",
       "      <td>0.267819</td>\n",
       "    </tr>\n",
       "    <tr>\n",
       "      <th>energy_performance_indicator</th>\n",
       "      <td>9698</td>\n",
       "      <td>0.630109</td>\n",
       "    </tr>\n",
       "    <tr>\n",
       "      <th>coordinates</th>\n",
       "      <td>0</td>\n",
       "      <td>0.000000</td>\n",
       "    </tr>\n",
       "    <tr>\n",
       "      <th>type</th>\n",
       "      <td>0</td>\n",
       "      <td>0.000000</td>\n",
       "    </tr>\n",
       "    <tr>\n",
       "      <th>scraping_date</th>\n",
       "      <td>0</td>\n",
       "      <td>0.000000</td>\n",
       "    </tr>\n",
       "    <tr>\n",
       "      <th>description</th>\n",
       "      <td>2</td>\n",
       "      <td>0.000130</td>\n",
       "    </tr>\n",
       "  </tbody>\n",
       "</table>\n",
       "</div>"
      ],
      "text/plain": [
       "                              Absolute  Relative\n",
       "daft_id                              0  0.000000\n",
       "item_id                              0  0.000000\n",
       "url                                  0  0.000000\n",
       "name                               278  0.018063\n",
       "price                              278  0.018063\n",
       "info                               278  0.018063\n",
       "sale_type                          285  0.018517\n",
       "floor_area                         285  0.018517\n",
       "psr                                 80  0.005198\n",
       "ber                               3742  0.243129\n",
       "entered_renewed                      0  0.000000\n",
       "views                                0  0.000000\n",
       "type_house                        4122  0.267819\n",
       "energy_performance_indicator      9698  0.630109\n",
       "coordinates                          0  0.000000\n",
       "type                                 0  0.000000\n",
       "scraping_date                        0  0.000000\n",
       "description                          2  0.000130"
      ]
     },
     "execution_count": 5,
     "metadata": {},
     "output_type": "execute_result"
    }
   ],
   "source": [
    "sale.replace('none', np.nan, inplace=True)\n",
    "\n",
    "# Check missing values in absolute and relative terms\n",
    "pd.DataFrame({\n",
    "    'Absolute': sale.isna().sum(), \n",
    "    'Relative': sale.isna().sum() / sale.shape[0]\n",
    "             })"
   ]
  },
  {
   "cell_type": "markdown",
   "id": "a13b144b-6b1c-456a-88de-4685e089acd1",
   "metadata": {},
   "source": [
    "The feature `energy_performance_indicator` has too many missing values, thus we should beware of them.\n",
    "\n",
    "|Feature|% missing values|\n",
    "|:---:|:---:|\n",
    "|energy_performance_indicator|62|\n",
    "\n",
    "As it has such a high percentage of missing values and it doesn't appear to be a critical feature we can drop it.\n",
    "\n",
    "We shouldn't have any duplicated listing thanks to the DuplicatesPipeline implemented in the Scrapy project."
   ]
  },
  {
   "cell_type": "code",
   "execution_count": 6,
   "id": "b851501e-239d-4cec-8e8f-eab730d593c4",
   "metadata": {},
   "outputs": [
    {
     "data": {
      "text/plain": [
       "0"
      ]
     },
     "execution_count": 6,
     "metadata": {},
     "output_type": "execute_result"
    }
   ],
   "source": [
    "sale.duplicated(keep=False).sum()"
   ]
  },
  {
   "cell_type": "code",
   "execution_count": 7,
   "id": "07a4234c-5b04-43ef-87b7-f7296c250662",
   "metadata": {},
   "outputs": [
    {
     "data": {
      "text/html": [
       "<div>\n",
       "<style scoped>\n",
       "    .dataframe tbody tr th:only-of-type {\n",
       "        vertical-align: middle;\n",
       "    }\n",
       "\n",
       "    .dataframe tbody tr th {\n",
       "        vertical-align: top;\n",
       "    }\n",
       "\n",
       "    .dataframe thead th {\n",
       "        text-align: right;\n",
       "    }\n",
       "</style>\n",
       "<table border=\"1\" class=\"dataframe\">\n",
       "  <thead>\n",
       "    <tr style=\"text-align: right;\">\n",
       "      <th></th>\n",
       "      <th>daft_id</th>\n",
       "      <th>item_id</th>\n",
       "      <th>url</th>\n",
       "      <th>name</th>\n",
       "      <th>price</th>\n",
       "      <th>info</th>\n",
       "      <th>sale_type</th>\n",
       "      <th>floor_area</th>\n",
       "      <th>psr</th>\n",
       "      <th>ber</th>\n",
       "      <th>entered_renewed</th>\n",
       "      <th>views</th>\n",
       "      <th>type_house</th>\n",
       "      <th>energy_performance_indicator</th>\n",
       "      <th>coordinates</th>\n",
       "      <th>type</th>\n",
       "      <th>scraping_date</th>\n",
       "      <th>description</th>\n",
       "    </tr>\n",
       "  </thead>\n",
       "  <tbody>\n",
       "    <tr>\n",
       "      <th>1082</th>\n",
       "      <td>16088889</td>\n",
       "      <td>3516992</td>\n",
       "      <td>https://www.daft.ie/for-sale/apartment-apartme...</td>\n",
       "      <td>Apartment 1, Waveney House, Howth, Dublin 13</td>\n",
       "      <td>€320,000</td>\n",
       "      <td>1 Bed,1 Bath,55 m²,Apartment</td>\n",
       "      <td>For Sale by Private Treaty</td>\n",
       "      <td>55 m²</td>\n",
       "      <td>001012</td>\n",
       "      <td>D1</td>\n",
       "      <td>22/11/2021</td>\n",
       "      <td>8,154</td>\n",
       "      <td>apartment</td>\n",
       "      <td>240.26 kWh/m2/yr</td>\n",
       "      <td>53.388233+-6.071194</td>\n",
       "      <td>buy</td>\n",
       "      <td>2021-11-25</td>\n",
       "      <td>Mc Peake Auctioneers are delighted to introduc...</td>\n",
       "    </tr>\n",
       "  </tbody>\n",
       "</table>\n",
       "</div>"
      ],
      "text/plain": [
       "       daft_id  item_id                                                url  \\\n",
       "1082  16088889  3516992  https://www.daft.ie/for-sale/apartment-apartme...   \n",
       "\n",
       "                                              name     price  \\\n",
       "1082  Apartment 1, Waveney House, Howth, Dublin 13  €320,000   \n",
       "\n",
       "                              info                   sale_type floor_area  \\\n",
       "1082  1 Bed,1 Bath,55 m²,Apartment  For Sale by Private Treaty      55 m²   \n",
       "\n",
       "         psr ber entered_renewed  views type_house  \\\n",
       "1082  001012  D1      22/11/2021  8,154  apartment   \n",
       "\n",
       "     energy_performance_indicator          coordinates type scraping_date  \\\n",
       "1082             240.26 kWh/m2/yr  53.388233+-6.071194  buy    2021-11-25   \n",
       "\n",
       "                                            description  \n",
       "1082  Mc Peake Auctioneers are delighted to introduc...  "
      ]
     },
     "execution_count": 7,
     "metadata": {},
     "output_type": "execute_result"
    }
   ],
   "source": [
    "sale.sample()"
   ]
  },
  {
   "cell_type": "markdown",
   "id": "bfa56211-8ed5-4058-a428-f5c21b96d390",
   "metadata": {},
   "source": [
    "Next, let's start the cleansing and wrangling tasks."
   ]
  },
  {
   "cell_type": "markdown",
   "id": "669ca13d-c358-4c54-8f1a-c1cd9f116599",
   "metadata": {
    "tags": []
   },
   "source": [
    "## Psr and Energy Performance Indicator"
   ]
  },
  {
   "cell_type": "markdown",
   "id": "80664749-a19b-43b4-92a9-b468bb6e3b16",
   "metadata": {},
   "source": [
    "We start dropping both columns as we concluded above."
   ]
  },
  {
   "cell_type": "code",
   "execution_count": 8,
   "id": "03bff320-a9bd-4345-8c04-974842988493",
   "metadata": {},
   "outputs": [
    {
     "name": "stdout",
     "output_type": "stream",
     "text": [
      "Before dropping: (15391, 18)\n",
      "After dropping: (15391, 17)\n"
     ]
    }
   ],
   "source": [
    "print(f'Before dropping: {sale.shape}')\n",
    "sale.drop(columns=['energy_performance_indicator'], inplace=True)\n",
    "print(f'After dropping: {sale.shape}')"
   ]
  },
  {
   "cell_type": "markdown",
   "id": "c8dae39f-9572-4a84-a769-c76d4c687109",
   "metadata": {
    "tags": []
   },
   "source": [
    "## Price"
   ]
  },
  {
   "cell_type": "markdown",
   "id": "16355217-a723-4a81-a76f-bfc70444fcc2",
   "metadata": {},
   "source": [
    "We have strange data points in the column. Let's investigate the different structures we can see:"
   ]
  },
  {
   "cell_type": "code",
   "execution_count": 9,
   "id": "063d796d-0454-48d6-8b9e-2f895740a6d6",
   "metadata": {
    "tags": []
   },
   "outputs": [],
   "source": [
    "#sale['price'].value_counts()"
   ]
  },
  {
   "cell_type": "code",
   "execution_count": 10,
   "id": "9948116d-f680-4ed8-be63-9430fa2d15a2",
   "metadata": {
    "tags": []
   },
   "outputs": [
    {
     "data": {
      "text/plain": [
       "0                         €549,000\n",
       "8                    AMV: €725,000\n",
       "13                             NaN\n",
       "28            Price on Application\n",
       "1442     AMV: Price on Application\n",
       "12842          £149,000 (€173,554)\n",
       "Name: price, dtype: object"
      ]
     },
     "execution_count": 10,
     "metadata": {},
     "output_type": "execute_result"
    }
   ],
   "source": [
    "# The following are the diferent data point extructures that we can see in \n",
    "# the `price` column\n",
    "sale['price'][[0, 8, 13, 28, 1442, 12842]]"
   ]
  },
  {
   "cell_type": "markdown",
   "id": "77fe46ee-c94c-4477-845c-1e535bca5044",
   "metadata": {},
   "source": [
    "**1. Price on Application**"
   ]
  },
  {
   "cell_type": "markdown",
   "id": "3f9ddaa2-4462-48b6-9d5a-bfd2955cb980",
   "metadata": {},
   "source": [
    "`Price on Application` is the most repeated value in the `price` column. It equates to a 7.63% of ads."
   ]
  },
  {
   "cell_type": "code",
   "execution_count": 11,
   "id": "1b87f484-fb78-4c47-90c5-e781c67beb22",
   "metadata": {},
   "outputs": [
    {
     "name": "stdout",
     "output_type": "stream",
     "text": [
      "Ads with \"Price on Application\": 1174\n",
      "Ads with \"Price on Application\": 7.63%\n"
     ]
    },
    {
     "data": {
      "text/html": [
       "<div>\n",
       "<style scoped>\n",
       "    .dataframe tbody tr th:only-of-type {\n",
       "        vertical-align: middle;\n",
       "    }\n",
       "\n",
       "    .dataframe tbody tr th {\n",
       "        vertical-align: top;\n",
       "    }\n",
       "\n",
       "    .dataframe thead th {\n",
       "        text-align: right;\n",
       "    }\n",
       "</style>\n",
       "<table border=\"1\" class=\"dataframe\">\n",
       "  <thead>\n",
       "    <tr style=\"text-align: right;\">\n",
       "      <th></th>\n",
       "      <th>daft_id</th>\n",
       "      <th>item_id</th>\n",
       "      <th>url</th>\n",
       "      <th>name</th>\n",
       "      <th>price</th>\n",
       "      <th>info</th>\n",
       "      <th>sale_type</th>\n",
       "      <th>floor_area</th>\n",
       "      <th>psr</th>\n",
       "      <th>ber</th>\n",
       "      <th>entered_renewed</th>\n",
       "      <th>views</th>\n",
       "      <th>type_house</th>\n",
       "      <th>coordinates</th>\n",
       "      <th>type</th>\n",
       "      <th>scraping_date</th>\n",
       "      <th>description</th>\n",
       "    </tr>\n",
       "  </thead>\n",
       "  <tbody>\n",
       "    <tr>\n",
       "      <th>3687</th>\n",
       "      <td>16823432</td>\n",
       "      <td>3604100</td>\n",
       "      <td>https://www.daft.ie/for-sale/apartment-2-meado...</td>\n",
       "      <td>2 Meadow Court, Elm Park, Claremorris, Co. Mayo</td>\n",
       "      <td>Price on Application</td>\n",
       "      <td>2 Bed,2 Bath,70 m²,Apartment</td>\n",
       "      <td>For Sale by Private Treaty</td>\n",
       "      <td>70 m²</td>\n",
       "      <td>002305</td>\n",
       "      <td>C3</td>\n",
       "      <td>05/11/2021</td>\n",
       "      <td>958</td>\n",
       "      <td>apartment</td>\n",
       "      <td>53.727685+-8.996586</td>\n",
       "      <td>buy</td>\n",
       "      <td>2021-11-25</td>\n",
       "      <td>No.2 Meadow Court is a two bedroom ground floo...</td>\n",
       "    </tr>\n",
       "  </tbody>\n",
       "</table>\n",
       "</div>"
      ],
      "text/plain": [
       "       daft_id  item_id                                                url  \\\n",
       "3687  16823432  3604100  https://www.daft.ie/for-sale/apartment-2-meado...   \n",
       "\n",
       "                                                 name                 price  \\\n",
       "3687  2 Meadow Court, Elm Park, Claremorris, Co. Mayo  Price on Application   \n",
       "\n",
       "                              info                   sale_type floor_area  \\\n",
       "3687  2 Bed,2 Bath,70 m²,Apartment  For Sale by Private Treaty      70 m²   \n",
       "\n",
       "         psr ber entered_renewed views type_house          coordinates type  \\\n",
       "3687  002305  C3      05/11/2021   958  apartment  53.727685+-8.996586  buy   \n",
       "\n",
       "     scraping_date                                        description  \n",
       "3687    2021-11-25  No.2 Meadow Court is a two bedroom ground floo...  "
      ]
     },
     "execution_count": 11,
     "metadata": {},
     "output_type": "execute_result"
    }
   ],
   "source": [
    "# Ads with `Price on Application` pattern\n",
    "num_perc(df=sale, \n",
    "         feature='price', \n",
    "         pattern='Price on Application')"
   ]
  },
  {
   "cell_type": "markdown",
   "id": "a7cc775a-ac50-4f0f-b941-0160c9fe3ed7",
   "metadata": {},
   "source": [
    "We will drop this kind of ads because we can't find out their prices."
   ]
  },
  {
   "cell_type": "markdown",
   "id": "4d91e5fe-0669-4b4e-8ae1-e456176b9735",
   "metadata": {},
   "source": [
    "**2. AMV: Price on Application**"
   ]
  },
  {
   "cell_type": "code",
   "execution_count": 12,
   "id": "7a4bf87c-71f3-41b3-aba5-aab103139e25",
   "metadata": {},
   "outputs": [
    {
     "name": "stdout",
     "output_type": "stream",
     "text": [
      "Ads with \"AMV: Price on Application\": 8\n",
      "Ads with \"AMV: Price on Application\": 0.05%\n"
     ]
    },
    {
     "data": {
      "text/html": [
       "<div>\n",
       "<style scoped>\n",
       "    .dataframe tbody tr th:only-of-type {\n",
       "        vertical-align: middle;\n",
       "    }\n",
       "\n",
       "    .dataframe tbody tr th {\n",
       "        vertical-align: top;\n",
       "    }\n",
       "\n",
       "    .dataframe thead th {\n",
       "        text-align: right;\n",
       "    }\n",
       "</style>\n",
       "<table border=\"1\" class=\"dataframe\">\n",
       "  <thead>\n",
       "    <tr style=\"text-align: right;\">\n",
       "      <th></th>\n",
       "      <th>daft_id</th>\n",
       "      <th>item_id</th>\n",
       "      <th>url</th>\n",
       "      <th>name</th>\n",
       "      <th>price</th>\n",
       "      <th>info</th>\n",
       "      <th>sale_type</th>\n",
       "      <th>floor_area</th>\n",
       "      <th>psr</th>\n",
       "      <th>ber</th>\n",
       "      <th>entered_renewed</th>\n",
       "      <th>views</th>\n",
       "      <th>type_house</th>\n",
       "      <th>coordinates</th>\n",
       "      <th>type</th>\n",
       "      <th>scraping_date</th>\n",
       "      <th>description</th>\n",
       "    </tr>\n",
       "  </thead>\n",
       "  <tbody>\n",
       "    <tr>\n",
       "      <th>11133</th>\n",
       "      <td>15531906</td>\n",
       "      <td>3441506</td>\n",
       "      <td>https://www.daft.ie/for-sale/detached-house-as...</td>\n",
       "      <td>Askinamoe, Ferns, Enniscorthy, Co. Wexford</td>\n",
       "      <td>AMV: Price on Application</td>\n",
       "      <td>1 Bed,Detached</td>\n",
       "      <td>For Sale by Public Auction</td>\n",
       "      <td>ON-LINE</td>\n",
       "      <td>002020</td>\n",
       "      <td>SI_666</td>\n",
       "      <td>24/11/2021</td>\n",
       "      <td>4,118</td>\n",
       "      <td>house</td>\n",
       "      <td>52.6068023705902+-6.518592035977434</td>\n",
       "      <td>buy</td>\n",
       "      <td>2021-11-25</td>\n",
       "      <td>Property Ref: P4986\\r\\n \\r\\nValuable C. 7.2 Ac...</td>\n",
       "    </tr>\n",
       "  </tbody>\n",
       "</table>\n",
       "</div>"
      ],
      "text/plain": [
       "        daft_id  item_id                                                url  \\\n",
       "11133  15531906  3441506  https://www.daft.ie/for-sale/detached-house-as...   \n",
       "\n",
       "                                             name                      price  \\\n",
       "11133  Askinamoe, Ferns, Enniscorthy, Co. Wexford  AMV: Price on Application   \n",
       "\n",
       "                 info                   sale_type floor_area     psr     ber  \\\n",
       "11133  1 Bed,Detached  For Sale by Public Auction    ON-LINE  002020  SI_666   \n",
       "\n",
       "      entered_renewed  views type_house                          coordinates  \\\n",
       "11133      24/11/2021  4,118      house  52.6068023705902+-6.518592035977434   \n",
       "\n",
       "      type scraping_date                                        description  \n",
       "11133  buy    2021-11-25  Property Ref: P4986\\r\\n \\r\\nValuable C. 7.2 Ac...  "
      ]
     },
     "execution_count": 12,
     "metadata": {},
     "output_type": "execute_result"
    }
   ],
   "source": [
    "# Ads with `AMV: Price on Application` pattern\n",
    "num_perc(df=sale, \n",
    "         feature='price', \n",
    "         pattern='AMV: Price on Application')"
   ]
  },
  {
   "cell_type": "markdown",
   "id": "b3ee7cdf-d7dd-492b-87e0-174b3e4cf917",
   "metadata": {},
   "source": [
    "We will drop this kind of ads because we can't find out their prices."
   ]
  },
  {
   "cell_type": "markdown",
   "id": "456aa69c-bed2-4510-bcc0-157dec234f17",
   "metadata": {},
   "source": [
    "**3. AMV: €725,000**"
   ]
  },
  {
   "cell_type": "markdown",
   "id": "38a50165-717d-42a4-80d6-11227bc7b6fd",
   "metadata": {},
   "source": [
    "This patron is repeated a lot of times in the column, we will have to apply wrangling task on them."
   ]
  },
  {
   "cell_type": "markdown",
   "id": "f02b2710-ff77-4d8d-91c7-6589841f094a",
   "metadata": {},
   "source": [
    "**4. NaN**"
   ]
  },
  {
   "cell_type": "code",
   "execution_count": 13,
   "id": "8a47da76-be6b-4d0d-842e-2694c963de1e",
   "metadata": {},
   "outputs": [
    {
     "name": "stdout",
     "output_type": "stream",
     "text": [
      "Ads with \"nan\": 278\n",
      "Ads with \"nan\": 1.81%\n"
     ]
    },
    {
     "data": {
      "text/html": [
       "<div>\n",
       "<style scoped>\n",
       "    .dataframe tbody tr th:only-of-type {\n",
       "        vertical-align: middle;\n",
       "    }\n",
       "\n",
       "    .dataframe tbody tr th {\n",
       "        vertical-align: top;\n",
       "    }\n",
       "\n",
       "    .dataframe thead th {\n",
       "        text-align: right;\n",
       "    }\n",
       "</style>\n",
       "<table border=\"1\" class=\"dataframe\">\n",
       "  <thead>\n",
       "    <tr style=\"text-align: right;\">\n",
       "      <th></th>\n",
       "      <th>daft_id</th>\n",
       "      <th>item_id</th>\n",
       "      <th>url</th>\n",
       "      <th>name</th>\n",
       "      <th>price</th>\n",
       "      <th>info</th>\n",
       "      <th>sale_type</th>\n",
       "      <th>floor_area</th>\n",
       "      <th>psr</th>\n",
       "      <th>ber</th>\n",
       "      <th>entered_renewed</th>\n",
       "      <th>views</th>\n",
       "      <th>type_house</th>\n",
       "      <th>coordinates</th>\n",
       "      <th>type</th>\n",
       "      <th>scraping_date</th>\n",
       "      <th>description</th>\n",
       "    </tr>\n",
       "  </thead>\n",
       "  <tbody>\n",
       "    <tr>\n",
       "      <th>642</th>\n",
       "      <td>93322334</td>\n",
       "      <td>2841491</td>\n",
       "      <td>https://www.daft.ie/new-home-for-sale/gallowhi...</td>\n",
       "      <td>NaN</td>\n",
       "      <td>NaN</td>\n",
       "      <td>NaN</td>\n",
       "      <td>NaN</td>\n",
       "      <td>NaN</td>\n",
       "      <td>001382</td>\n",
       "      <td>NA</td>\n",
       "      <td>19/10/2021</td>\n",
       "      <td>8,539</td>\n",
       "      <td>NaN</td>\n",
       "      <td>52.99672004705863+-6.962314621711755</td>\n",
       "      <td>buy</td>\n",
       "      <td>2021-11-25</td>\n",
       "      <td>** August launch of 3 Bedroom Semi-detached ho...</td>\n",
       "    </tr>\n",
       "  </tbody>\n",
       "</table>\n",
       "</div>"
      ],
      "text/plain": [
       "      daft_id  item_id                                                url  \\\n",
       "642  93322334  2841491  https://www.daft.ie/new-home-for-sale/gallowhi...   \n",
       "\n",
       "    name price info sale_type floor_area     psr ber entered_renewed  views  \\\n",
       "642  NaN   NaN  NaN       NaN        NaN  001382  NA      19/10/2021  8,539   \n",
       "\n",
       "    type_house                           coordinates type scraping_date  \\\n",
       "642        NaN  52.99672004705863+-6.962314621711755  buy    2021-11-25   \n",
       "\n",
       "                                           description  \n",
       "642  ** August launch of 3 Bedroom Semi-detached ho...  "
      ]
     },
     "execution_count": 13,
     "metadata": {},
     "output_type": "execute_result"
    }
   ],
   "source": [
    "# Ads with missing values\n",
    "num_perc(df=sale, \n",
    "         feature='price', \n",
    "         pattern=np.nan)"
   ]
  },
  {
   "cell_type": "markdown",
   "id": "de95f547-5090-41f2-936e-e3f4ee835152",
   "metadata": {},
   "source": [
    "Advertisements with missing values in the `price` column are 'Development' ads, not 'Houses' ads. Development ads have several houses in it and that is why they have missing values. Furthermore, the houses belonging to developments are already scraped so we should drop the development ads."
   ]
  },
  {
   "cell_type": "code",
   "execution_count": 14,
   "id": "4a983840-e960-46d7-ac9f-6eff37ebdcb7",
   "metadata": {},
   "outputs": [
    {
     "data": {
      "text/plain": [
       "array(['https://www.daft.ie/new-home-for-sale/elmbury-carrigane-carrigtwohill-co-cork/2328473'],\n",
       "      dtype=object)"
      ]
     },
     "execution_count": 14,
     "metadata": {},
     "output_type": "execute_result"
    }
   ],
   "source": [
    "# You can check the above statement with the lines of code bellow\n",
    "\n",
    "# sale[sale['price'].isna()] # Commented for sthetic reasons\n",
    "sale.loc[sale['price'].isna(), 'url'].sample().values # url to check the ad"
   ]
  },
  {
   "cell_type": "markdown",
   "id": "b8cd735d-efbe-4f5e-ac53-56ea87127350",
   "metadata": {},
   "source": [
    "**5. £149,000 (€173,554)**"
   ]
  },
  {
   "cell_type": "code",
   "execution_count": 15,
   "id": "0e90fcf8-6bbc-429a-af4e-f525d6a23e46",
   "metadata": {},
   "outputs": [
    {
     "name": "stdout",
     "output_type": "stream",
     "text": [
      "Ads with \"£\": 25\n",
      "Ads with \"£\": 0.16%\n"
     ]
    },
    {
     "data": {
      "text/html": [
       "<div>\n",
       "<style scoped>\n",
       "    .dataframe tbody tr th:only-of-type {\n",
       "        vertical-align: middle;\n",
       "    }\n",
       "\n",
       "    .dataframe tbody tr th {\n",
       "        vertical-align: top;\n",
       "    }\n",
       "\n",
       "    .dataframe thead th {\n",
       "        text-align: right;\n",
       "    }\n",
       "</style>\n",
       "<table border=\"1\" class=\"dataframe\">\n",
       "  <thead>\n",
       "    <tr style=\"text-align: right;\">\n",
       "      <th></th>\n",
       "      <th>daft_id</th>\n",
       "      <th>item_id</th>\n",
       "      <th>url</th>\n",
       "      <th>name</th>\n",
       "      <th>price</th>\n",
       "      <th>info</th>\n",
       "      <th>sale_type</th>\n",
       "      <th>floor_area</th>\n",
       "      <th>psr</th>\n",
       "      <th>ber</th>\n",
       "      <th>entered_renewed</th>\n",
       "      <th>views</th>\n",
       "      <th>type_house</th>\n",
       "      <th>coordinates</th>\n",
       "      <th>type</th>\n",
       "      <th>scraping_date</th>\n",
       "      <th>description</th>\n",
       "    </tr>\n",
       "  </thead>\n",
       "  <tbody>\n",
       "    <tr>\n",
       "      <th>2895</th>\n",
       "      <td>16900398</td>\n",
       "      <td>3611134</td>\n",
       "      <td>https://www.daft.ie/for-sale/terraced-house-60...</td>\n",
       "      <td>60 Shore Road, Belfast City Centre, Co. Antrim</td>\n",
       "      <td>£77,500 (€90,272)</td>\n",
       "      <td>4 Bed,1 Bath,Terrace</td>\n",
       "      <td>For Sale by Private Treaty</td>\n",
       "      <td>For Sale by Private Treaty</td>\n",
       "      <td>002978</td>\n",
       "      <td>NaN</td>\n",
       "      <td>12/11/2021</td>\n",
       "      <td>1,274</td>\n",
       "      <td>house</td>\n",
       "      <td>54.6239209+-5.9231668</td>\n",
       "      <td>buy</td>\n",
       "      <td>2021-11-25</td>\n",
       "      <td>McMillan Estate Agents in partnership with NI ...</td>\n",
       "    </tr>\n",
       "  </tbody>\n",
       "</table>\n",
       "</div>"
      ],
      "text/plain": [
       "       daft_id  item_id                                                url  \\\n",
       "2895  16900398  3611134  https://www.daft.ie/for-sale/terraced-house-60...   \n",
       "\n",
       "                                                name              price  \\\n",
       "2895  60 Shore Road, Belfast City Centre, Co. Antrim  £77,500 (€90,272)   \n",
       "\n",
       "                      info                   sale_type  \\\n",
       "2895  4 Bed,1 Bath,Terrace  For Sale by Private Treaty   \n",
       "\n",
       "                      floor_area     psr  ber entered_renewed  views  \\\n",
       "2895  For Sale by Private Treaty  002978  NaN      12/11/2021  1,274   \n",
       "\n",
       "     type_house            coordinates type scraping_date  \\\n",
       "2895      house  54.6239209+-5.9231668  buy    2021-11-25   \n",
       "\n",
       "                                            description  \n",
       "2895  McMillan Estate Agents in partnership with NI ...  "
      ]
     },
     "execution_count": 15,
     "metadata": {},
     "output_type": "execute_result"
    }
   ],
   "source": [
    "# Ads with '£' pattern\n",
    "num_perc(df=sale, \n",
    "         feature='price', \n",
    "         pattern='£')"
   ]
  },
  {
   "cell_type": "markdown",
   "id": "333c162a-893e-4ee3-a81d-ea0bad73412b",
   "metadata": {},
   "source": [
    "Ads with prices in pounds are usually from North Ireland, which belongs to United Kingdom so we will drop these ads."
   ]
  },
  {
   "cell_type": "code",
   "execution_count": 16,
   "id": "f30eb2fb-e466-4925-acd8-0abbdf91b4e1",
   "metadata": {},
   "outputs": [
    {
     "data": {
      "text/plain": [
       "array(['https://www.daft.ie/for-sale/terraced-house-46-windsor-avenue-whitehead-carrickfergus-co-antrim/3576092'],\n",
       "      dtype=object)"
      ]
     },
     "execution_count": 16,
     "metadata": {},
     "output_type": "execute_result"
    }
   ],
   "source": [
    "# You can check the above statement with the lines of code bellow\n",
    "\n",
    "# sale.dropna(subset=['price']).loc[\n",
    " #    sale.dropna(subset=['price'])['price'].str.contains('£')] # Commented for sthetic reasons\n",
    "\n",
    "sale.dropna(subset=['price']).loc[\n",
    "    sale.dropna(subset=['price'])['price'].str.contains('£'), 'url'\n",
    "                                 ].sample().values # url to check the ad"
   ]
  },
  {
   "cell_type": "markdown",
   "id": "0feacbd5-857b-4255-aa08-31ec463899c9",
   "metadata": {},
   "source": [
    "**-> Conclusion**"
   ]
  },
  {
   "cell_type": "markdown",
   "id": "2c03d54f-dcba-45da-9ba8-262de0ea9f43",
   "metadata": {},
   "source": [
    "Wrangling and cleansing tasks: \n",
    "\n",
    "|Value structure in ad's price|Number of ads|Percentage of ads|Task|\n",
    "|:---:|:---:|:---:|:---:|\n",
    "|€549,000|||Wrangling|\n",
    "|AMV: €725,000|||Wrangling|\n",
    "|£149,000 (€173,554)|25|0.16%|Drop|\n",
    "|Price on Application|1174|7.63%|Drop|\n",
    "|AMV: Price on Application|8|0.05%|Drop|\n",
    "|NaN|278|1.81%|Drop|"
   ]
  },
  {
   "cell_type": "markdown",
   "id": "d18fa6bf-9155-4687-9a3b-57b0dca36a1f",
   "metadata": {},
   "source": [
    "Let's compare the before and after of transformations."
   ]
  },
  {
   "cell_type": "code",
   "execution_count": 17,
   "id": "71735666-f159-4552-be7f-8f97c3a89784",
   "metadata": {},
   "outputs": [
    {
     "name": "stdout",
     "output_type": "stream",
     "text": [
      "Rows before dropping: 15391\n",
      "Rows after dropping: 13906\n",
      "----------\n",
      "Difference: -1485\n"
     ]
    },
    {
     "data": {
      "text/html": [
       "<div>\n",
       "<style scoped>\n",
       "    .dataframe tbody tr th:only-of-type {\n",
       "        vertical-align: middle;\n",
       "    }\n",
       "\n",
       "    .dataframe tbody tr th {\n",
       "        vertical-align: top;\n",
       "    }\n",
       "\n",
       "    .dataframe thead th {\n",
       "        text-align: right;\n",
       "    }\n",
       "</style>\n",
       "<table border=\"1\" class=\"dataframe\">\n",
       "  <thead>\n",
       "    <tr style=\"text-align: right;\">\n",
       "      <th></th>\n",
       "      <th>before</th>\n",
       "      <th>after</th>\n",
       "    </tr>\n",
       "  </thead>\n",
       "  <tbody>\n",
       "    <tr>\n",
       "      <th>0</th>\n",
       "      <td>€549,000</td>\n",
       "      <td>549000.0</td>\n",
       "    </tr>\n",
       "    <tr>\n",
       "      <th>1</th>\n",
       "      <td>€220,000</td>\n",
       "      <td>220000.0</td>\n",
       "    </tr>\n",
       "    <tr>\n",
       "      <th>2</th>\n",
       "      <td>€495,000</td>\n",
       "      <td>495000.0</td>\n",
       "    </tr>\n",
       "    <tr>\n",
       "      <th>3</th>\n",
       "      <td>€350,000</td>\n",
       "      <td>350000.0</td>\n",
       "    </tr>\n",
       "    <tr>\n",
       "      <th>4</th>\n",
       "      <td>€450,000</td>\n",
       "      <td>450000.0</td>\n",
       "    </tr>\n",
       "    <tr>\n",
       "      <th>5</th>\n",
       "      <td>€365,000</td>\n",
       "      <td>365000.0</td>\n",
       "    </tr>\n",
       "    <tr>\n",
       "      <th>6</th>\n",
       "      <td>€325,000</td>\n",
       "      <td>325000.0</td>\n",
       "    </tr>\n",
       "    <tr>\n",
       "      <th>7</th>\n",
       "      <td>€550,000</td>\n",
       "      <td>550000.0</td>\n",
       "    </tr>\n",
       "    <tr>\n",
       "      <th>8</th>\n",
       "      <td>AMV: €725,000</td>\n",
       "      <td>725000.0</td>\n",
       "    </tr>\n",
       "    <tr>\n",
       "      <th>9</th>\n",
       "      <td>€325,000</td>\n",
       "      <td>325000.0</td>\n",
       "    </tr>\n",
       "  </tbody>\n",
       "</table>\n",
       "</div>"
      ],
      "text/plain": [
       "          before     after\n",
       "0       €549,000  549000.0\n",
       "1       €220,000  220000.0\n",
       "2       €495,000  495000.0\n",
       "3       €350,000  350000.0\n",
       "4       €450,000  450000.0\n",
       "5       €365,000  365000.0\n",
       "6       €325,000  325000.0\n",
       "7       €550,000  550000.0\n",
       "8  AMV: €725,000  725000.0\n",
       "9       €325,000  325000.0"
      ]
     },
     "execution_count": 17,
     "metadata": {},
     "output_type": "execute_result"
    }
   ],
   "source": [
    "pd.DataFrame({'before': sale['price'], \n",
    "              'after': process_price(sale)['price']}).head(10)"
   ]
  },
  {
   "cell_type": "markdown",
   "id": "d534b941-3e3d-48c8-a325-0faa888d0ec9",
   "metadata": {},
   "source": [
    "Let's do it!"
   ]
  },
  {
   "cell_type": "code",
   "execution_count": 19,
   "id": "36bba0c3-7963-4897-b12f-889b6ee1a06c",
   "metadata": {},
   "outputs": [
    {
     "name": "stdout",
     "output_type": "stream",
     "text": [
      "Rows before dropping: 15391\n",
      "Rows after dropping: 13906\n",
      "----------\n",
      "Difference: -1485\n"
     ]
    }
   ],
   "source": [
    "sale = process_price(sale.copy()).reset_index(drop=True)"
   ]
  },
  {
   "cell_type": "markdown",
   "id": "e358169b-8453-4a96-bd46-fb8af574a218",
   "metadata": {
    "tags": []
   },
   "source": [
    "## Coordinates"
   ]
  },
  {
   "cell_type": "code",
   "execution_count": 13,
   "id": "1c4db85d-58bf-4b62-b6a6-bf77f0b588ef",
   "metadata": {},
   "outputs": [
    {
     "data": {
      "text/plain": [
       "9029    51.885624+-8.566972\n",
       "Name: coordinates, dtype: object"
      ]
     },
     "execution_count": 13,
     "metadata": {},
     "output_type": "execute_result"
    }
   ],
   "source": [
    "sale_data['coordinates'].sample()"
   ]
  },
  {
   "cell_type": "code",
   "execution_count": 14,
   "id": "4e1d3303-9770-4d3c-8aaa-ea20b2387e2e",
   "metadata": {},
   "outputs": [
    {
     "name": "stdout",
     "output_type": "stream",
     "text": [
      "(14832, 17)\n",
      "(14832, 18)\n"
     ]
    }
   ],
   "source": [
    "sale_data = process_coordinates(sale_data)"
   ]
  },
  {
   "cell_type": "code",
   "execution_count": 15,
   "id": "0b2aea88-d63c-4d7d-9ccb-0272a2900171",
   "metadata": {},
   "outputs": [
    {
     "data": {
      "image/png": "[encoded data removed]",
      "text/plain": [
       "<Figure size 576x396 with 1 Axes>"
      ]
     },
     "metadata": {},
     "output_type": "display_data"
    }
   ],
   "source": [
    "sale_data.plot(kind='scatter', x='longitude', y='latitude', title='Houses for sale, Ireland');"
   ]
  },
  {
   "cell_type": "code",
   "execution_count": 16,
   "id": "c6f70397-2526-4dc4-9844-bed2978bb5ac",
   "metadata": {},
   "outputs": [
    {
     "name": "stdout",
     "output_type": "stream",
     "text": [
      "(14832, 18)\n",
      "(14823, 18)\n"
     ]
    }
   ],
   "source": [
    "sale_data = drop_coord_outliers(sale_data)"
   ]
  },
  {
   "cell_type": "code",
   "execution_count": 17,
   "id": "44bb480f-f6ea-4c71-9473-94f97264d9e9",
   "metadata": {},
   "outputs": [
    {
     "data": {
      "image/png": "[encoded data removed]",
      "text/plain": [
       "<Figure size 576x396 with 1 Axes>"
      ]
     },
     "metadata": {},
     "output_type": "display_data"
    }
   ],
   "source": [
    "sale_data.plot(kind='scatter', x='longitude', y='latitude', title='Houses for sale, Ireland'); # esta un poco achatada pero es Irlanda"
   ]
  },
  {
   "cell_type": "markdown",
   "id": "c510c569-99aa-4291-94e4-2a9687bc4c4c",
   "metadata": {
    "jp-MarkdownHeadingCollapsed": true,
    "tags": []
   },
   "source": [
    "## Floor Area"
   ]
  },
  {
   "cell_type": "code",
   "execution_count": 18,
   "id": "8f0456f7-b907-4c07-bc56-8e5a5ad453c2",
   "metadata": {},
   "outputs": [
    {
     "data": {
      "text/plain": [
       "14204                        756 m²\n",
       "5113                           2 ac\n",
       "9182                          60 m²\n",
       "7024                          68 m²\n",
       "8713                         210 m²\n",
       "2426     For Sale by Private Treaty\n",
       "7438                         157 m²\n",
       "9189                        0.63 ac\n",
       "9738                         149 m²\n",
       "13601                         58 m²\n",
       "6476     For Sale by Private Treaty\n",
       "6700                         126 m²\n",
       "13097    For Sale by Private Treaty\n",
       "10942                        116 m²\n",
       "5979                         111 m²\n",
       "7771                         127 m²\n",
       "1498                         125 m²\n",
       "10944                       0.75 ac\n",
       "14649                       0.55 ac\n",
       "12369    For Sale by Private Treaty\n",
       "3993                          91 m²\n",
       "3426                         118 m²\n",
       "10928    For Sale by Private Treaty\n",
       "12622                        256 m²\n",
       "11375                         87 m²\n",
       "2516                         1.3 ac\n",
       "1000                          90 m²\n",
       "13897                        286 m²\n",
       "10510                        296 m²\n",
       "14374                       0.59 ac\n",
       "Name: floor_area, dtype: object"
      ]
     },
     "execution_count": 18,
     "metadata": {},
     "output_type": "execute_result"
    }
   ],
   "source": [
    "sale_data['floor_area'].sample(30)"
   ]
  },
  {
   "cell_type": "code",
   "execution_count": 19,
   "id": "2be724c6-bfe4-4cd1-91a4-914399c7ff34",
   "metadata": {},
   "outputs": [
    {
     "data": {
      "text/plain": [
       "8356"
      ]
     },
     "execution_count": 19,
     "metadata": {},
     "output_type": "execute_result"
    }
   ],
   "source": [
    "sale_data['floor_area'].str.contains('m²').sum()"
   ]
  },
  {
   "cell_type": "code",
   "execution_count": 20,
   "id": "5f45d23e-399a-45ab-a0f8-71dea3d7fdba",
   "metadata": {},
   "outputs": [
    {
     "data": {
      "text/plain": [
       "6467"
      ]
     },
     "execution_count": 20,
     "metadata": {},
     "output_type": "execute_result"
    }
   ],
   "source": [
    "sale_data.shape[0] - sale_data['floor_area'].str.contains('m²').sum() #---> Drop 6467 assets\n",
    "# Estudiar los precios medios, etc, de las casas eliminadas para ver si son similares a los que tienen m²"
   ]
  },
  {
   "cell_type": "code",
   "execution_count": 21,
   "id": "b0fc7fcb-b593-4da4-863b-46034de3a3c8",
   "metadata": {},
   "outputs": [
    {
     "data": {
      "text/plain": [
       "0     True\n",
       "1     True\n",
       "2    False\n",
       "Name: floor_area, dtype: object"
      ]
     },
     "execution_count": 21,
     "metadata": {},
     "output_type": "execute_result"
    }
   ],
   "source": [
    "sale_data['floor_area'].str.contains('m²').head(3)"
   ]
  },
  {
   "cell_type": "code",
   "execution_count": 22,
   "id": "f8105834-ae8f-42fd-880e-15605a59b87e",
   "metadata": {},
   "outputs": [
    {
     "data": {
      "text/plain": [
       "0    False\n",
       "1    False\n",
       "2     True\n",
       "Name: floor_area, dtype: bool"
      ]
     },
     "execution_count": 22,
     "metadata": {},
     "output_type": "execute_result"
    }
   ],
   "source": [
    "sale_data['floor_area'].str.contains('m²').head(3) == False"
   ]
  },
  {
   "cell_type": "code",
   "execution_count": 23,
   "id": "57a65794-2de6-4914-aa51-8805faeb2ae7",
   "metadata": {},
   "outputs": [
    {
     "data": {
      "text/plain": [
       "6174"
      ]
     },
     "execution_count": 23,
     "metadata": {},
     "output_type": "execute_result"
    }
   ],
   "source": [
    "index_to_drop = sale_data[sale_data['floor_area'].str.contains('m²') == False].index\n",
    "len(index_to_drop) # esta diferenci de 8 se debe a missing values"
   ]
  },
  {
   "cell_type": "code",
   "execution_count": 24,
   "id": "9c7fd2f2-33ac-415a-bb85-1bce705721b6",
   "metadata": {},
   "outputs": [
    {
     "data": {
      "text/plain": [
       "293"
      ]
     },
     "execution_count": 24,
     "metadata": {},
     "output_type": "execute_result"
    }
   ],
   "source": [
    "#, inplace=True\n",
    "sale_data.drop(index=index_to_drop)['floor_area'].isna().sum()"
   ]
  },
  {
   "cell_type": "code",
   "execution_count": 25,
   "id": "15f9ed37-e772-43b2-8a58-93758d83e86d",
   "metadata": {},
   "outputs": [
    {
     "data": {
      "text/html": [
       "<div>\n",
       "<style scoped>\n",
       "    .dataframe tbody tr th:only-of-type {\n",
       "        vertical-align: middle;\n",
       "    }\n",
       "\n",
       "    .dataframe tbody tr th {\n",
       "        vertical-align: top;\n",
       "    }\n",
       "\n",
       "    .dataframe thead th {\n",
       "        text-align: right;\n",
       "    }\n",
       "</style>\n",
       "<table border=\"1\" class=\"dataframe\">\n",
       "  <thead>\n",
       "    <tr style=\"text-align: right;\">\n",
       "      <th></th>\n",
       "      <th>info</th>\n",
       "    </tr>\n",
       "  </thead>\n",
       "  <tbody>\n",
       "    <tr>\n",
       "      <th>26</th>\n",
       "      <td>NaN</td>\n",
       "    </tr>\n",
       "    <tr>\n",
       "      <th>27</th>\n",
       "      <td>NaN</td>\n",
       "    </tr>\n",
       "    <tr>\n",
       "      <th>28</th>\n",
       "      <td>NaN</td>\n",
       "    </tr>\n",
       "    <tr>\n",
       "      <th>29</th>\n",
       "      <td>NaN</td>\n",
       "    </tr>\n",
       "    <tr>\n",
       "      <th>31</th>\n",
       "      <td>NaN</td>\n",
       "    </tr>\n",
       "  </tbody>\n",
       "</table>\n",
       "</div>"
      ],
      "text/plain": [
       "   info\n",
       "26  NaN\n",
       "27  NaN\n",
       "28  NaN\n",
       "29  NaN\n",
       "31  NaN"
      ]
     },
     "execution_count": 25,
     "metadata": {},
     "output_type": "execute_result"
    }
   ],
   "source": [
    "sale_data.drop(index=index_to_drop).loc[sale_data.drop(index=index_to_drop)['floor_area'].isna(), ['info']].head()\n",
    "# Los que tienen missing value en `floor_area` tampoco tienen los m² en `info` ---> Drop"
   ]
  },
  {
   "cell_type": "code",
   "execution_count": 26,
   "id": "5a7ca6f8-6a96-4d33-b468-f3c202a9ebcb",
   "metadata": {},
   "outputs": [
    {
     "data": {
      "text/plain": [
       "6467"
      ]
     },
     "execution_count": 26,
     "metadata": {},
     "output_type": "execute_result"
    }
   ],
   "source": [
    "index_to_drop = sale_data[(sale_data['floor_area'].str.contains('m²') == False) | \n",
    "                          (sale_data['floor_area'].isna())].index\n",
    "len(index_to_drop) # esta diferenci de 8 se debe a missing values"
   ]
  },
  {
   "cell_type": "code",
   "execution_count": 27,
   "id": "1770c34a-75c8-4005-bf22-3dd57607d799",
   "metadata": {},
   "outputs": [
    {
     "data": {
      "text/plain": [
       "12955                         91 m²\n",
       "10464    For Sale by Private Treaty\n",
       "8256                          51 m²\n",
       "Name: floor_area, dtype: object"
      ]
     },
     "execution_count": 27,
     "metadata": {},
     "output_type": "execute_result"
    }
   ],
   "source": [
    "sale_data['floor_area'].sample(3)"
   ]
  },
  {
   "cell_type": "code",
   "execution_count": 28,
   "id": "b1bdfc33-86ff-4d02-ae88-a5be855c5607",
   "metadata": {},
   "outputs": [
    {
     "name": "stdout",
     "output_type": "stream",
     "text": [
      "Before: (14823, 18)\n",
      "index_to_drop: 6467\n",
      "\n",
      "Before dropping: (14823, 18)\n",
      "After dropping: (8356, 18)\n",
      "----------\n",
      "Diference: 6467 rows\n",
      "After: (8356, 18)\n"
     ]
    }
   ],
   "source": [
    "print(f'Before: {sale_data.shape}')\n",
    "sale_data = process_floor_area(sale_data)\n",
    "print(f'After: {sale_data.shape}')"
   ]
  },
  {
   "cell_type": "markdown",
   "id": "103e38d8-1204-47cb-808a-e56c73f22145",
   "metadata": {
    "jp-MarkdownHeadingCollapsed": true,
    "tags": []
   },
   "source": [
    "## Info"
   ]
  },
  {
   "cell_type": "code",
   "execution_count": 29,
   "id": "ce7cc64e-6ef2-4a83-8d81-5da962bc7f8a",
   "metadata": {},
   "outputs": [
    {
     "data": {
      "text/html": [
       "<div>\n",
       "<style scoped>\n",
       "    .dataframe tbody tr th:only-of-type {\n",
       "        vertical-align: middle;\n",
       "    }\n",
       "\n",
       "    .dataframe tbody tr th {\n",
       "        vertical-align: top;\n",
       "    }\n",
       "\n",
       "    .dataframe thead th {\n",
       "        text-align: right;\n",
       "    }\n",
       "</style>\n",
       "<table border=\"1\" class=\"dataframe\">\n",
       "  <thead>\n",
       "    <tr style=\"text-align: right;\">\n",
       "      <th></th>\n",
       "      <th>info</th>\n",
       "      <th>floor_area</th>\n",
       "    </tr>\n",
       "  </thead>\n",
       "  <tbody>\n",
       "    <tr>\n",
       "      <th>12951</th>\n",
       "      <td>4 Bed,1 Bath,315 m²,Detached</td>\n",
       "      <td>315</td>\n",
       "    </tr>\n",
       "    <tr>\n",
       "      <th>11381</th>\n",
       "      <td>4 Bed,3 Bath,455 m²,Detached</td>\n",
       "      <td>455</td>\n",
       "    </tr>\n",
       "    <tr>\n",
       "      <th>8136</th>\n",
       "      <td>2 Bed,1 Bath,75 m²,Detached</td>\n",
       "      <td>75</td>\n",
       "    </tr>\n",
       "    <tr>\n",
       "      <th>11772</th>\n",
       "      <td>5 Bed,4 Bath,443 m²,Detached</td>\n",
       "      <td>443</td>\n",
       "    </tr>\n",
       "    <tr>\n",
       "      <th>11544</th>\n",
       "      <td>5 Bed,4 Bath,251 m²,Detached</td>\n",
       "      <td>251</td>\n",
       "    </tr>\n",
       "    <tr>\n",
       "      <th>7236</th>\n",
       "      <td>2 Bed,2 Bath,70 m²,Terrace</td>\n",
       "      <td>70</td>\n",
       "    </tr>\n",
       "    <tr>\n",
       "      <th>5885</th>\n",
       "      <td>1 Bed,1 Bath,46 m²,Apartment</td>\n",
       "      <td>46</td>\n",
       "    </tr>\n",
       "    <tr>\n",
       "      <th>10</th>\n",
       "      <td>5 Bed,2 Bath,152 m²,Semi-D</td>\n",
       "      <td>152</td>\n",
       "    </tr>\n",
       "    <tr>\n",
       "      <th>12871</th>\n",
       "      <td>4 Bed,2 Bath,136 m²,Detached</td>\n",
       "      <td>136</td>\n",
       "    </tr>\n",
       "    <tr>\n",
       "      <th>540</th>\n",
       "      <td>5 Bed,4 Bath,315 m²,Detached</td>\n",
       "      <td>315</td>\n",
       "    </tr>\n",
       "    <tr>\n",
       "      <th>11386</th>\n",
       "      <td>5 Bed,5 Bath,352 m²,Terrace</td>\n",
       "      <td>352</td>\n",
       "    </tr>\n",
       "    <tr>\n",
       "      <th>4537</th>\n",
       "      <td>4 Bed,3 Bath,107 m²,Semi-D</td>\n",
       "      <td>107</td>\n",
       "    </tr>\n",
       "    <tr>\n",
       "      <th>9687</th>\n",
       "      <td>2 Bed,1 Bath,33 m²,Detached</td>\n",
       "      <td>33</td>\n",
       "    </tr>\n",
       "    <tr>\n",
       "      <th>6084</th>\n",
       "      <td>2 Bed,1 Bath,45 m²,Apartment</td>\n",
       "      <td>45</td>\n",
       "    </tr>\n",
       "    <tr>\n",
       "      <th>2887</th>\n",
       "      <td>4 Bed,3 Bath,125 m²,Detached</td>\n",
       "      <td>125</td>\n",
       "    </tr>\n",
       "  </tbody>\n",
       "</table>\n",
       "</div>"
      ],
      "text/plain": [
       "                               info floor_area\n",
       "12951  4 Bed,1 Bath,315 m²,Detached        315\n",
       "11381  4 Bed,3 Bath,455 m²,Detached        455\n",
       "8136    2 Bed,1 Bath,75 m²,Detached         75\n",
       "11772  5 Bed,4 Bath,443 m²,Detached        443\n",
       "11544  5 Bed,4 Bath,251 m²,Detached        251\n",
       "7236     2 Bed,2 Bath,70 m²,Terrace         70\n",
       "5885   1 Bed,1 Bath,46 m²,Apartment         46\n",
       "10       5 Bed,2 Bath,152 m²,Semi-D        152\n",
       "12871  4 Bed,2 Bath,136 m²,Detached        136\n",
       "540    5 Bed,4 Bath,315 m²,Detached        315\n",
       "11386   5 Bed,5 Bath,352 m²,Terrace        352\n",
       "4537     4 Bed,3 Bath,107 m²,Semi-D        107\n",
       "9687    2 Bed,1 Bath,33 m²,Detached         33\n",
       "6084   2 Bed,1 Bath,45 m²,Apartment         45\n",
       "2887   4 Bed,3 Bath,125 m²,Detached        125"
      ]
     },
     "execution_count": 29,
     "metadata": {},
     "output_type": "execute_result"
    }
   ],
   "source": [
    "sale_data[['info', 'floor_area']].sample(15)"
   ]
  },
  {
   "cell_type": "code",
   "execution_count": 30,
   "id": "d77d7c72-1d0b-4f02-9bc2-9a8cfc59b90f",
   "metadata": {},
   "outputs": [
    {
     "data": {
      "text/plain": [
       "0"
      ]
     },
     "execution_count": 30,
     "metadata": {},
     "output_type": "execute_result"
    }
   ],
   "source": [
    "sale_data['info'].isna().sum()"
   ]
  },
  {
   "cell_type": "code",
   "execution_count": 31,
   "id": "c759ae52-29f8-4169-9ebd-35ce12e3bcaa",
   "metadata": {},
   "outputs": [
    {
     "data": {
      "text/plain": [
       "4    8235\n",
       "3     109\n",
       "2      12\n",
       "Name: info, dtype: int64"
      ]
     },
     "execution_count": 31,
     "metadata": {},
     "output_type": "execute_result"
    }
   ],
   "source": [
    "sale_data['info'].dropna().str.split(',').apply(len).value_counts()"
   ]
  },
  {
   "cell_type": "code",
   "execution_count": 32,
   "id": "ccd6db5e-d4fc-4e1b-90ce-e0c5e372ad32",
   "metadata": {},
   "outputs": [
    {
     "data": {
      "text/html": [
       "<div>\n",
       "<style scoped>\n",
       "    .dataframe tbody tr th:only-of-type {\n",
       "        vertical-align: middle;\n",
       "    }\n",
       "\n",
       "    .dataframe tbody tr th {\n",
       "        vertical-align: top;\n",
       "    }\n",
       "\n",
       "    .dataframe thead th {\n",
       "        text-align: right;\n",
       "    }\n",
       "</style>\n",
       "<table border=\"1\" class=\"dataframe\">\n",
       "  <thead>\n",
       "    <tr style=\"text-align: right;\">\n",
       "      <th></th>\n",
       "      <th>info</th>\n",
       "      <th>floor_area</th>\n",
       "    </tr>\n",
       "  </thead>\n",
       "  <tbody>\n",
       "    <tr>\n",
       "      <th>834</th>\n",
       "      <td>121 m²,Terrace</td>\n",
       "      <td>121</td>\n",
       "    </tr>\n",
       "    <tr>\n",
       "      <th>2201</th>\n",
       "      <td>223 m²,Detached</td>\n",
       "      <td>223</td>\n",
       "    </tr>\n",
       "    <tr>\n",
       "      <th>4352</th>\n",
       "      <td>3035 m²,Detached</td>\n",
       "      <td>3035</td>\n",
       "    </tr>\n",
       "    <tr>\n",
       "      <th>5068</th>\n",
       "      <td>204 m²,Terrace</td>\n",
       "      <td>204</td>\n",
       "    </tr>\n",
       "    <tr>\n",
       "      <th>5518</th>\n",
       "      <td>26 m²,Studio</td>\n",
       "      <td>26</td>\n",
       "    </tr>\n",
       "  </tbody>\n",
       "</table>\n",
       "</div>"
      ],
      "text/plain": [
       "                  info floor_area\n",
       "834     121 m²,Terrace        121\n",
       "2201   223 m²,Detached        223\n",
       "4352  3035 m²,Detached       3035\n",
       "5068    204 m²,Terrace        204\n",
       "5518      26 m²,Studio         26"
      ]
     },
     "execution_count": 32,
     "metadata": {},
     "output_type": "execute_result"
    }
   ],
   "source": [
    "sale_data.dropna(subset=['info']).loc[sale_data['info'].dropna().str.split(',').apply(len) == 2, ['info', 'floor_area']].head() \n",
    "#---> Drop, no tenemos info sobre `bedroom` and `bathroom`"
   ]
  },
  {
   "cell_type": "code",
   "execution_count": 33,
   "id": "b2cba4ab-0f49-4162-ab20-ba4f37f966c0",
   "metadata": {},
   "outputs": [
    {
     "data": {
      "text/html": [
       "<div>\n",
       "<style scoped>\n",
       "    .dataframe tbody tr th:only-of-type {\n",
       "        vertical-align: middle;\n",
       "    }\n",
       "\n",
       "    .dataframe tbody tr th {\n",
       "        vertical-align: top;\n",
       "    }\n",
       "\n",
       "    .dataframe thead th {\n",
       "        text-align: right;\n",
       "    }\n",
       "</style>\n",
       "<table border=\"1\" class=\"dataframe\">\n",
       "  <thead>\n",
       "    <tr style=\"text-align: right;\">\n",
       "      <th></th>\n",
       "      <th>info</th>\n",
       "      <th>floor_area</th>\n",
       "    </tr>\n",
       "  </thead>\n",
       "  <tbody>\n",
       "    <tr>\n",
       "      <th>61</th>\n",
       "      <td>3 Bed,82 m²,Bungalow</td>\n",
       "      <td>82</td>\n",
       "    </tr>\n",
       "    <tr>\n",
       "      <th>62</th>\n",
       "      <td>5 Bed,260 m²,Detached</td>\n",
       "      <td>260</td>\n",
       "    </tr>\n",
       "    <tr>\n",
       "      <th>286</th>\n",
       "      <td>22 Bed,743 m²,Detached</td>\n",
       "      <td>743</td>\n",
       "    </tr>\n",
       "    <tr>\n",
       "      <th>725</th>\n",
       "      <td>4 Bed,165 m²,Terrace</td>\n",
       "      <td>165</td>\n",
       "    </tr>\n",
       "    <tr>\n",
       "      <th>835</th>\n",
       "      <td>3 Bed,95 m²,Terrace</td>\n",
       "      <td>95</td>\n",
       "    </tr>\n",
       "  </tbody>\n",
       "</table>\n",
       "</div>"
      ],
      "text/plain": [
       "                       info floor_area\n",
       "61     3 Bed,82 m²,Bungalow         82\n",
       "62    5 Bed,260 m²,Detached        260\n",
       "286  22 Bed,743 m²,Detached        743\n",
       "725    4 Bed,165 m²,Terrace        165\n",
       "835     3 Bed,95 m²,Terrace         95"
      ]
     },
     "execution_count": 33,
     "metadata": {},
     "output_type": "execute_result"
    }
   ],
   "source": [
    "sale_data.dropna(subset=['info']).loc[(sale_data['info'].dropna().str.split(',').apply(len) == 3), ['info', 'floor_area']].head()\n",
    "#---> Drop, falta info sobre `bedrooms` or `bathroom`. Si esas variables resultan no ser relevantes podemos agnadir las rows despues"
   ]
  },
  {
   "cell_type": "code",
   "execution_count": 34,
   "id": "71cc2c8b-b890-4e52-adad-0a64e434c8d0",
   "metadata": {},
   "outputs": [
    {
     "name": "stdout",
     "output_type": "stream",
     "text": [
      "(8356, 18)\n",
      "(8235, 18) \n",
      "---------\n",
      "Dropped: 121 rows\n",
      "\n",
      "(8235, 18)\n",
      "(8235, 20) \n",
      "---------\n",
      "Dropped: 2 columns\n",
      "\n"
     ]
    }
   ],
   "source": [
    "sale_data = process_info(sale_data)"
   ]
  },
  {
   "cell_type": "markdown",
   "id": "786314ac-69be-43a8-b0aa-999456700f9b",
   "metadata": {
    "jp-MarkdownHeadingCollapsed": true,
    "tags": []
   },
   "source": [
    "## Ber and Type House"
   ]
  },
  {
   "cell_type": "markdown",
   "id": "7e93d5c6-1e8e-4254-8840-4b722dc43b79",
   "metadata": {},
   "source": [
    "No parecen variables muy relevantes a priori, de modo que las vamos a eliminar en un principio para no lidiar con los missing values de dichas clumnas."
   ]
  },
  {
   "cell_type": "code",
   "execution_count": 38,
   "id": "77d95fb8-9d70-4a91-87ac-cb499539cf84",
   "metadata": {},
   "outputs": [
    {
     "name": "stdout",
     "output_type": "stream",
     "text": [
      "Before dropping: (8235, 18)\n",
      "After dropping: (8235, 15)\n"
     ]
    }
   ],
   "source": [
    "print(f'Before dropping: {sale_data.shape}')\n",
    "sale_data.drop(columns=['ber', 'item_id', 'info'], inplace=True) # tambien eliminamos otra que seran inutiles  , 'type_house'\n",
    "print(f'After dropping: {sale_data.shape}')"
   ]
  },
  {
   "cell_type": "code",
   "execution_count": 39,
   "id": "7e50d248-69c7-4588-9926-b8ad1efad0ed",
   "metadata": {},
   "outputs": [
    {
     "data": {
      "text/html": [
       "<div>\n",
       "<style scoped>\n",
       "    .dataframe tbody tr th:only-of-type {\n",
       "        vertical-align: middle;\n",
       "    }\n",
       "\n",
       "    .dataframe tbody tr th {\n",
       "        vertical-align: top;\n",
       "    }\n",
       "\n",
       "    .dataframe thead th {\n",
       "        text-align: right;\n",
       "    }\n",
       "</style>\n",
       "<table border=\"1\" class=\"dataframe\">\n",
       "  <thead>\n",
       "    <tr style=\"text-align: right;\">\n",
       "      <th></th>\n",
       "      <th>daft_id</th>\n",
       "      <th>url</th>\n",
       "      <th>name</th>\n",
       "      <th>price</th>\n",
       "      <th>sale_type</th>\n",
       "      <th>floor_area</th>\n",
       "      <th>entered_renewed</th>\n",
       "      <th>views</th>\n",
       "      <th>type_house</th>\n",
       "      <th>type</th>\n",
       "      <th>scraping_date</th>\n",
       "      <th>latitude</th>\n",
       "      <th>longitude</th>\n",
       "      <th>bedroom</th>\n",
       "      <th>bathroom</th>\n",
       "    </tr>\n",
       "  </thead>\n",
       "  <tbody>\n",
       "    <tr>\n",
       "      <th>6981</th>\n",
       "      <td>16132696</td>\n",
       "      <td>https://www.daft.ie/for-sale/semi-detached-hou...</td>\n",
       "      <td>Rionova, 99 Lus Na Meala, Banduff, Co. Cork</td>\n",
       "      <td>275000.0</td>\n",
       "      <td>For Sale by Private Treaty</td>\n",
       "      <td>92</td>\n",
       "      <td>2021-09-14</td>\n",
       "      <td>2,682</td>\n",
       "      <td>house</td>\n",
       "      <td>buy</td>\n",
       "      <td>2021-10-19</td>\n",
       "      <td>51.91944</td>\n",
       "      <td>-8.426329</td>\n",
       "      <td>3 Bed</td>\n",
       "      <td>2 Bath</td>\n",
       "    </tr>\n",
       "  </tbody>\n",
       "</table>\n",
       "</div>"
      ],
      "text/plain": [
       "       daft_id                                                url  \\\n",
       "6981  16132696  https://www.daft.ie/for-sale/semi-detached-hou...   \n",
       "\n",
       "                                             name     price  \\\n",
       "6981  Rionova, 99 Lus Na Meala, Banduff, Co. Cork  275000.0   \n",
       "\n",
       "                       sale_type floor_area entered_renewed  views type_house  \\\n",
       "6981  For Sale by Private Treaty         92      2021-09-14  2,682      house   \n",
       "\n",
       "     type scraping_date  latitude  longitude bedroom bathroom  \n",
       "6981  buy    2021-10-19  51.91944  -8.426329   3 Bed   2 Bath  "
      ]
     },
     "execution_count": 39,
     "metadata": {},
     "output_type": "execute_result"
    }
   ],
   "source": [
    "sale_data.sample()"
   ]
  },
  {
   "cell_type": "code",
   "execution_count": null,
   "id": "61066c4f-e37a-439b-8d10-bb4ae372cff6",
   "metadata": {},
   "outputs": [],
   "source": []
  },
  {
   "cell_type": "code",
   "execution_count": 40,
   "id": "a4e478e3-eaf5-4fae-9433-66af1c949685",
   "metadata": {},
   "outputs": [],
   "source": [
    "sale_data.dropna(subset=['type_house'], inplace=True)"
   ]
  },
  {
   "cell_type": "code",
   "execution_count": null,
   "id": "7807ed00-63b0-4e2f-be6b-196c344746a8",
   "metadata": {},
   "outputs": [],
   "source": []
  },
  {
   "cell_type": "code",
   "execution_count": 41,
   "id": "d8ad5715-bb9f-4575-b15f-8751d021890d",
   "metadata": {},
   "outputs": [
    {
     "data": {
      "text/plain": [
       "daft_id            0\n",
       "url                0\n",
       "name               0\n",
       "price              0\n",
       "sale_type          0\n",
       "floor_area         0\n",
       "entered_renewed    0\n",
       "views              0\n",
       "type_house         0\n",
       "type               0\n",
       "scraping_date      0\n",
       "latitude           0\n",
       "longitude          0\n",
       "bedroom            0\n",
       "bathroom           0\n",
       "dtype: int64"
      ]
     },
     "execution_count": 41,
     "metadata": {},
     "output_type": "execute_result"
    }
   ],
   "source": [
    "sale_data.isna().sum()"
   ]
  },
  {
   "cell_type": "markdown",
   "id": "da344587-9bae-4d58-ad26-dd9a2e17e3fa",
   "metadata": {
    "jp-MarkdownHeadingCollapsed": true,
    "tags": []
   },
   "source": [
    "## Views"
   ]
  },
  {
   "cell_type": "code",
   "execution_count": 42,
   "id": "1e34c608-c905-4eee-97c5-974467b24962",
   "metadata": {},
   "outputs": [
    {
     "data": {
      "text/plain": [
       "0"
      ]
     },
     "execution_count": 42,
     "metadata": {},
     "output_type": "execute_result"
    }
   ],
   "source": [
    "sale_data['views'].isna().sum()"
   ]
  },
  {
   "cell_type": "code",
   "execution_count": 43,
   "id": "b80d16f2-3dfc-4a73-8703-dbc7aad23ef5",
   "metadata": {},
   "outputs": [],
   "source": [
    "def process_views(df):\n",
    "    df['views'] = df['views'].str.replace(',', '').astype(float)\n",
    "    return df"
   ]
  },
  {
   "cell_type": "code",
   "execution_count": 44,
   "id": "6e535a2a-db34-4c56-9582-33013a15b4db",
   "metadata": {},
   "outputs": [],
   "source": [
    "sale_data = process_views(sale_data)"
   ]
  },
  {
   "cell_type": "markdown",
   "id": "31cad9eb-b5fb-4c3b-894b-f86dbb398bc7",
   "metadata": {
    "jp-MarkdownHeadingCollapsed": true,
    "tags": []
   },
   "source": [
    "## Bedroom and Bathroom"
   ]
  },
  {
   "cell_type": "code",
   "execution_count": 45,
   "id": "98870415-2513-4e11-94fb-c23d2188ce00",
   "metadata": {},
   "outputs": [
    {
     "data": {
      "text/plain": [
       "3 Bed     2632\n",
       "4 Bed     2004\n",
       "2 Bed     1520\n",
       "5 Bed      828\n",
       "1 Bed      309\n",
       "6 Bed      232\n",
       "7 Bed       75\n",
       "8 Bed       44\n",
       "9 Bed       13\n",
       "10 Bed      12\n",
       "12 Bed       6\n",
       "14 Bed       5\n",
       "11 Bed       3\n",
       "13 Bed       3\n",
       "15 Bed       3\n",
       "18 Bed       2\n",
       "24 Bed       1\n",
       "16 Bed       1\n",
       "43 Bed       1\n",
       "30 Bed       1\n",
       "Name: bedroom, dtype: int64"
      ]
     },
     "execution_count": 45,
     "metadata": {},
     "output_type": "execute_result"
    }
   ],
   "source": [
    "sale_data['bedroom'].value_counts()"
   ]
  },
  {
   "cell_type": "code",
   "execution_count": 46,
   "id": "2a00e38d-8b51-4768-831b-f920a1e3df0e",
   "metadata": {},
   "outputs": [
    {
     "data": {
      "text/plain": [
       "2 Bath     2454\n",
       "1 Bath     2285\n",
       "3 Bath     1899\n",
       "4 Bath      632\n",
       "5 Bath      220\n",
       "6 Bath       88\n",
       "7 Bath       46\n",
       "8 Bath       32\n",
       "9 Bath       17\n",
       "10 Bath       7\n",
       "11 Bath       5\n",
       "16 Bath       3\n",
       "12 Bath       2\n",
       "15 Bath       2\n",
       "14 Bath       1\n",
       "47 Bath       1\n",
       "20 Bath       1\n",
       "Name: bathroom, dtype: int64"
      ]
     },
     "execution_count": 46,
     "metadata": {},
     "output_type": "execute_result"
    }
   ],
   "source": [
    "sale_data['bathroom'].value_counts()"
   ]
  },
  {
   "cell_type": "code",
   "execution_count": 47,
   "id": "f59a246f-08aa-4a99-a6bb-f0252c2a4ddd",
   "metadata": {},
   "outputs": [],
   "source": [
    "def process_rooms(df):\n",
    "    df['bedroom'] = df['bedroom'].str.split(' ').str[0]\n",
    "    df['bathroom'] = df['bathroom'].str.split(' ').str[0]\n",
    "    return df"
   ]
  },
  {
   "cell_type": "code",
   "execution_count": 48,
   "id": "03eb4c88-e0e3-4e5a-a8d4-4a328a13a00a",
   "metadata": {},
   "outputs": [],
   "source": [
    "sale_data = process_rooms(sale_data)"
   ]
  },
  {
   "cell_type": "code",
   "execution_count": 49,
   "id": "1d2bc504-f921-48e5-8d67-2bdfce2631b1",
   "metadata": {},
   "outputs": [
    {
     "data": {
      "text/html": [
       "<div>\n",
       "<style scoped>\n",
       "    .dataframe tbody tr th:only-of-type {\n",
       "        vertical-align: middle;\n",
       "    }\n",
       "\n",
       "    .dataframe tbody tr th {\n",
       "        vertical-align: top;\n",
       "    }\n",
       "\n",
       "    .dataframe thead th {\n",
       "        text-align: right;\n",
       "    }\n",
       "</style>\n",
       "<table border=\"1\" class=\"dataframe\">\n",
       "  <thead>\n",
       "    <tr style=\"text-align: right;\">\n",
       "      <th></th>\n",
       "      <th>bedroom</th>\n",
       "      <th>bathroom</th>\n",
       "    </tr>\n",
       "  </thead>\n",
       "  <tbody>\n",
       "    <tr>\n",
       "      <th>1010</th>\n",
       "      <td>2</td>\n",
       "      <td>1</td>\n",
       "    </tr>\n",
       "    <tr>\n",
       "      <th>2081</th>\n",
       "      <td>3</td>\n",
       "      <td>1</td>\n",
       "    </tr>\n",
       "    <tr>\n",
       "      <th>7460</th>\n",
       "      <td>2</td>\n",
       "      <td>1</td>\n",
       "    </tr>\n",
       "  </tbody>\n",
       "</table>\n",
       "</div>"
      ],
      "text/plain": [
       "     bedroom bathroom\n",
       "1010       2        1\n",
       "2081       3        1\n",
       "7460       2        1"
      ]
     },
     "execution_count": 49,
     "metadata": {},
     "output_type": "execute_result"
    }
   ],
   "source": [
    "sale_data[['bedroom', 'bathroom']].sample(3)"
   ]
  },
  {
   "cell_type": "code",
   "execution_count": 50,
   "id": "1a854fc6-759b-422e-af04-6135b4833ce9",
   "metadata": {},
   "outputs": [],
   "source": [
    "sale_data.to_csv('data_available/sale_data_post_C&W.csv', sep=',', index=False)"
   ]
  },
  {
   "cell_type": "code",
   "execution_count": 51,
   "id": "03f79efd-ca4a-46c5-a8d4-bcb472b40e9d",
   "metadata": {},
   "outputs": [],
   "source": [
    "#pd.read_csv('data_available/sale_data_post_C&W.csv', sep=',').shape"
   ]
  },
  {
   "cell_type": "code",
   "execution_count": null,
   "id": "4ccee180-602e-4d01-a215-093a379700ca",
   "metadata": {},
   "outputs": [],
   "source": []
  }
 ],
 "metadata": {
  "kernelspec": {
   "display_name": "Python 3 (ipykernel)",
   "language": "python",
   "name": "python3"
  },
  "language_info": {
   "codemirror_mode": {
    "name": "ipython",
    "version": 3
   },
   "file_extension": ".py",
   "mimetype": "text/x-python",
   "name": "python",
   "nbconvert_exporter": "python",
   "pygments_lexer": "ipython3",
   "version": "3.7.11"
  },
  "toc-autonumbering": true
 },
 "nbformat": 4,
 "nbformat_minor": 5
}
