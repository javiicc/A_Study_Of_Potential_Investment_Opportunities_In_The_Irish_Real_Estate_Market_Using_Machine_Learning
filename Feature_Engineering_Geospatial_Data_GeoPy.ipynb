{
 "cells": [
  {
   "cell_type": "markdown",
   "id": "d63523e5-4e4e-4388-be31-78152569c134",
   "metadata": {},
   "source": [
    "In this notebook we are going to use the GeoPy API in order to obtain more useful location related information from the coordinates. This technique is called \"Reverse Geocoding\".\n",
    "\n",
    "Feature Engineering Geospatial Data"
   ]
  },
  {
   "cell_type": "markdown",
   "id": "23c18132-0057-4356-861c-bdcc61b583b8",
   "metadata": {
    "jp-MarkdownHeadingCollapsed": true,
    "tags": []
   },
   "source": [
    "# Import Libraries and Set Options"
   ]
  },
  {
   "cell_type": "code",
   "execution_count": 1,
   "id": "f8f37eac-b693-47b8-aa47-2f1310654d1d",
   "metadata": {},
   "outputs": [],
   "source": [
    "import numpy as np\n",
    "import pandas as pd\n",
    "import matplotlib.pyplot as plt\n",
    "\n",
    "from daftpy.daftfeanalysis import (location_dict, location_dataframe, location_engineering, \n",
    "                                   geonames_dict)\n",
    "\n",
    "from daftpy.daftfeanalysis import missing_values"
   ]
  },
  {
   "cell_type": "code",
   "execution_count": 2,
   "id": "b025ec19-c389-4aa0-877a-fa4156180a78",
   "metadata": {},
   "outputs": [],
   "source": [
    "pd.set_option('display.max_rows', None)\n",
    "pd.set_option('display.max_columns', None)\n",
    "plt.style.use('seaborn')"
   ]
  },
  {
   "cell_type": "markdown",
   "id": "79d2c822-f121-49ee-838c-893a8a094c84",
   "metadata": {
    "tags": []
   },
   "source": [
    "## Load Data"
   ]
  },
  {
   "cell_type": "code",
   "execution_count": 4,
   "id": "912d0d11-c163-4185-94ac-2a7748cac027",
   "metadata": {},
   "outputs": [
    {
     "data": {
      "text/plain": [
       "(7662, 19)"
      ]
     },
     "execution_count": 4,
     "metadata": {},
     "output_type": "execute_result"
    }
   ],
   "source": [
    "sale = pd.read_csv('data_available/sale_cleaned.csv', sep=',', parse_dates=['entered_renewed', 'scraping_date'])\n",
    "sale.shape"
   ]
  },
  {
   "cell_type": "code",
   "execution_count": 5,
   "id": "88da4bef-1760-4f63-88d7-5927c353450f",
   "metadata": {},
   "outputs": [
    {
     "name": "stdout",
     "output_type": "stream",
     "text": [
      "<class 'pandas.core.frame.DataFrame'>\n",
      "RangeIndex: 7662 entries, 0 to 7661\n",
      "Data columns (total 19 columns):\n",
      " #   Column           Non-Null Count  Dtype         \n",
      "---  ------           --------------  -----         \n",
      " 0   daft_id          7662 non-null   int64         \n",
      " 1   url              7662 non-null   object        \n",
      " 2   name             7662 non-null   object        \n",
      " 3   price            7662 non-null   float64       \n",
      " 4   sale_type        7662 non-null   object        \n",
      " 5   floor_area       7662 non-null   int64         \n",
      " 6   psr              7646 non-null   float64       \n",
      " 7   ber              7467 non-null   object        \n",
      " 8   entered_renewed  7662 non-null   datetime64[ns]\n",
      " 9   views            7662 non-null   float64       \n",
      " 10  type_house       7175 non-null   object        \n",
      " 11  type             7662 non-null   object        \n",
      " 12  scraping_date    7662 non-null   datetime64[ns]\n",
      " 13  description      7661 non-null   object        \n",
      " 14  latitude         7662 non-null   float64       \n",
      " 15  longitude        7662 non-null   float64       \n",
      " 16  bedroom          7662 non-null   int64         \n",
      " 17  bathroom         7662 non-null   int64         \n",
      " 18  plus_info        7662 non-null   object        \n",
      "dtypes: datetime64[ns](2), float64(5), int64(4), object(8)\n",
      "memory usage: 1.1+ MB\n"
     ]
    }
   ],
   "source": [
    "sale.info()"
   ]
  },
  {
   "cell_type": "markdown",
   "id": "cbb8fd6d-4007-48d2-8249-4346e302bdd1",
   "metadata": {
    "jp-MarkdownHeadingCollapsed": true,
    "tags": []
   },
   "source": [
    "# Check Missing Values"
   ]
  },
  {
   "cell_type": "code",
   "execution_count": 6,
   "id": "23385f86-d57c-4492-9c03-f8ac76e04227",
   "metadata": {},
   "outputs": [
    {
     "data": {
      "text/html": [
       "<div>\n",
       "<style scoped>\n",
       "    .dataframe tbody tr th:only-of-type {\n",
       "        vertical-align: middle;\n",
       "    }\n",
       "\n",
       "    .dataframe tbody tr th {\n",
       "        vertical-align: top;\n",
       "    }\n",
       "\n",
       "    .dataframe thead th {\n",
       "        text-align: right;\n",
       "    }\n",
       "</style>\n",
       "<table border=\"1\" class=\"dataframe\">\n",
       "  <thead>\n",
       "    <tr style=\"text-align: right;\">\n",
       "      <th></th>\n",
       "      <th>Absolute</th>\n",
       "      <th>Relative</th>\n",
       "    </tr>\n",
       "  </thead>\n",
       "  <tbody>\n",
       "    <tr>\n",
       "      <th>daft_id</th>\n",
       "      <td>0</td>\n",
       "      <td>0.000000</td>\n",
       "    </tr>\n",
       "    <tr>\n",
       "      <th>url</th>\n",
       "      <td>0</td>\n",
       "      <td>0.000000</td>\n",
       "    </tr>\n",
       "    <tr>\n",
       "      <th>name</th>\n",
       "      <td>0</td>\n",
       "      <td>0.000000</td>\n",
       "    </tr>\n",
       "    <tr>\n",
       "      <th>price</th>\n",
       "      <td>0</td>\n",
       "      <td>0.000000</td>\n",
       "    </tr>\n",
       "    <tr>\n",
       "      <th>sale_type</th>\n",
       "      <td>0</td>\n",
       "      <td>0.000000</td>\n",
       "    </tr>\n",
       "    <tr>\n",
       "      <th>floor_area</th>\n",
       "      <td>0</td>\n",
       "      <td>0.000000</td>\n",
       "    </tr>\n",
       "    <tr>\n",
       "      <th>psr</th>\n",
       "      <td>16</td>\n",
       "      <td>0.002088</td>\n",
       "    </tr>\n",
       "    <tr>\n",
       "      <th>ber</th>\n",
       "      <td>195</td>\n",
       "      <td>0.025450</td>\n",
       "    </tr>\n",
       "    <tr>\n",
       "      <th>entered_renewed</th>\n",
       "      <td>0</td>\n",
       "      <td>0.000000</td>\n",
       "    </tr>\n",
       "    <tr>\n",
       "      <th>views</th>\n",
       "      <td>0</td>\n",
       "      <td>0.000000</td>\n",
       "    </tr>\n",
       "    <tr>\n",
       "      <th>type_house</th>\n",
       "      <td>487</td>\n",
       "      <td>0.063560</td>\n",
       "    </tr>\n",
       "    <tr>\n",
       "      <th>type</th>\n",
       "      <td>0</td>\n",
       "      <td>0.000000</td>\n",
       "    </tr>\n",
       "    <tr>\n",
       "      <th>scraping_date</th>\n",
       "      <td>0</td>\n",
       "      <td>0.000000</td>\n",
       "    </tr>\n",
       "    <tr>\n",
       "      <th>description</th>\n",
       "      <td>1</td>\n",
       "      <td>0.000131</td>\n",
       "    </tr>\n",
       "    <tr>\n",
       "      <th>latitude</th>\n",
       "      <td>0</td>\n",
       "      <td>0.000000</td>\n",
       "    </tr>\n",
       "    <tr>\n",
       "      <th>longitude</th>\n",
       "      <td>0</td>\n",
       "      <td>0.000000</td>\n",
       "    </tr>\n",
       "    <tr>\n",
       "      <th>bedroom</th>\n",
       "      <td>0</td>\n",
       "      <td>0.000000</td>\n",
       "    </tr>\n",
       "    <tr>\n",
       "      <th>bathroom</th>\n",
       "      <td>0</td>\n",
       "      <td>0.000000</td>\n",
       "    </tr>\n",
       "    <tr>\n",
       "      <th>plus_info</th>\n",
       "      <td>0</td>\n",
       "      <td>0.000000</td>\n",
       "    </tr>\n",
       "  </tbody>\n",
       "</table>\n",
       "</div>"
      ],
      "text/plain": [
       "                 Absolute  Relative\n",
       "daft_id                 0  0.000000\n",
       "url                     0  0.000000\n",
       "name                    0  0.000000\n",
       "price                   0  0.000000\n",
       "sale_type               0  0.000000\n",
       "floor_area              0  0.000000\n",
       "psr                    16  0.002088\n",
       "ber                   195  0.025450\n",
       "entered_renewed         0  0.000000\n",
       "views                   0  0.000000\n",
       "type_house            487  0.063560\n",
       "type                    0  0.000000\n",
       "scraping_date           0  0.000000\n",
       "description             1  0.000131\n",
       "latitude                0  0.000000\n",
       "longitude               0  0.000000\n",
       "bedroom                 0  0.000000\n",
       "bathroom                0  0.000000\n",
       "plus_info               0  0.000000"
      ]
     },
     "execution_count": 6,
     "metadata": {},
     "output_type": "execute_result"
    }
   ],
   "source": [
    "# Check missing values in absolute and relative terms\n",
    "missing_values(sale)"
   ]
  },
  {
   "cell_type": "markdown",
   "id": "de60c86f-4869-42c8-936a-b54637adbca4",
   "metadata": {},
   "source": [
    "If you pay attention to the `ber` column you will note that now there are 195 missing values instead 192 as in the other notebook. That is because there was 3 ads which have `NA` in that column. We can understand `NA` value as a lack of information so the the `pd.read_csv` function has fixed that for us."
   ]
  },
  {
   "cell_type": "markdown",
   "id": "a9310e0d-e1d9-45e1-bbcb-7657d1592050",
   "metadata": {
    "jp-MarkdownHeadingCollapsed": true,
    "tags": []
   },
   "source": [
    "# Reverse Geocoding"
   ]
  },
  {
   "cell_type": "markdown",
   "id": "3f4ba0a2-491e-462e-a29b-a8cfd96f55df",
   "metadata": {},
   "source": [
    "We do reverse geocoding with GeoPy and Nominatim geolocator. The `location_engineering` function uses two more functions, one to creating a dictionary with the extracted information and another one to add that dictionary to the DataFrame."
   ]
  },
  {
   "cell_type": "code",
   "execution_count": 5,
   "id": "dc8216aa-7728-441e-b929-d2c1e963862f",
   "metadata": {},
   "outputs": [
    {
     "name": "stdout",
     "output_type": "stream",
     "text": [
      "0\n",
      "200\n",
      "400\n",
      "600\n",
      "800\n",
      "1000\n",
      "1200\n",
      "1400\n",
      "1600\n",
      "1800\n",
      "2000\n",
      "2200\n",
      "2400\n",
      "2600\n",
      "2800\n",
      "3000\n",
      "3200\n",
      "3400\n",
      "3600\n",
      "3800\n",
      "4000\n",
      "4200\n",
      "4400\n",
      "4600\n",
      "4800\n",
      "5000\n",
      "5200\n",
      "5400\n",
      "5600\n",
      "5800\n",
      "6000\n",
      "6200\n",
      "6400\n",
      "6600\n",
      "6800\n",
      "7000\n",
      "7200\n",
      "7400\n",
      "7600\n",
      "Shape before adding: (7662, 19)\n",
      "Shape after adding: (7662, 32)\n",
      "----------\n",
      "Difference: 13 columns\n"
     ]
    }
   ],
   "source": [
    "sale = location_engineering(df=sale)"
   ]
  },
  {
   "cell_type": "markdown",
   "id": "15207681-6efa-41d4-b867-66ee639ff214",
   "metadata": {},
   "source": [
    "It took a long time so I decided save the resulted dataframe into a csv file."
   ]
  },
  {
   "cell_type": "code",
   "execution_count": 6,
   "id": "52059846-f0a6-4ae9-a843-d19b9284c1af",
   "metadata": {},
   "outputs": [],
   "source": [
    "sale.to_csv('data_available/sale_post_reverse_geocoding.csv', \n",
    "            sep=',', index=False)"
   ]
  },
  {
   "cell_type": "markdown",
   "id": "ab760ed6-ab59-4a04-9da0-6729fcb43d70",
   "metadata": {},
   "source": [
    "--------------"
   ]
  },
  {
   "cell_type": "markdown",
   "id": "60ad9a4b-737e-48eb-8ed9-91597c3a0dfc",
   "metadata": {
    "jp-MarkdownHeadingCollapsed": true,
    "tags": []
   },
   "source": [
    "# Load Post Reverse Geocoding Data"
   ]
  },
  {
   "cell_type": "code",
   "execution_count": 7,
   "id": "393c40be-80d5-4e5a-896b-9105cbe3fd35",
   "metadata": {},
   "outputs": [
    {
     "data": {
      "text/plain": [
       "(7662, 32)"
      ]
     },
     "execution_count": 7,
     "metadata": {},
     "output_type": "execute_result"
    }
   ],
   "source": [
    "sale = pd.read_csv('data_available/sale_post_reverse_geocoding.csv', sep=',')\n",
    "sale.shape"
   ]
  },
  {
   "cell_type": "code",
   "execution_count": 8,
   "id": "d1258b64-70af-4b72-85b7-c47c835f3304",
   "metadata": {},
   "outputs": [
    {
     "name": "stdout",
     "output_type": "stream",
     "text": [
      "<class 'pandas.core.frame.DataFrame'>\n",
      "RangeIndex: 7662 entries, 0 to 7661\n",
      "Data columns (total 32 columns):\n",
      " #   Column           Non-Null Count  Dtype  \n",
      "---  ------           --------------  -----  \n",
      " 0   daft_id          7662 non-null   int64  \n",
      " 1   url              7662 non-null   object \n",
      " 2   name             7662 non-null   object \n",
      " 3   price            7662 non-null   float64\n",
      " 4   sale_type        7662 non-null   object \n",
      " 5   floor_area       7662 non-null   int64  \n",
      " 6   psr              7646 non-null   float64\n",
      " 7   ber              7467 non-null   object \n",
      " 8   entered_renewed  7662 non-null   object \n",
      " 9   views            7662 non-null   float64\n",
      " 10  type_house       7175 non-null   object \n",
      " 11  type             7662 non-null   object \n",
      " 12  scraping_date    7662 non-null   object \n",
      " 13  description      7661 non-null   object \n",
      " 14  latitude         7662 non-null   float64\n",
      " 15  longitude        7662 non-null   float64\n",
      " 16  bedroom          7662 non-null   int64  \n",
      " 17  bathroom         7662 non-null   int64  \n",
      " 18  plus_info        7662 non-null   object \n",
      " 19  country_code     7662 non-null   object \n",
      " 20  country          7662 non-null   object \n",
      " 21  postcode         6454 non-null   object \n",
      " 22  state_district   7267 non-null   object \n",
      " 23  county           6967 non-null   object \n",
      " 24  municipality     1271 non-null   object \n",
      " 25  city             2016 non-null   object \n",
      " 26  town             1141 non-null   object \n",
      " 27  city_district    7294 non-null   object \n",
      " 28  locality         6 non-null      object \n",
      " 29  suburb           1754 non-null   object \n",
      " 30  road             5727 non-null   object \n",
      " 31  house_number     1404 non-null   object \n",
      "dtypes: float64(5), int64(4), object(23)\n",
      "memory usage: 1.9+ MB\n"
     ]
    }
   ],
   "source": [
    "sale.info()"
   ]
  },
  {
   "cell_type": "markdown",
   "id": "1657cc1e-5c22-4c77-b297-23957e083f4d",
   "metadata": {
    "jp-MarkdownHeadingCollapsed": true,
    "tags": []
   },
   "source": [
    "# Check Missing Values"
   ]
  },
  {
   "cell_type": "code",
   "execution_count": 9,
   "id": "7f8bdbcd-a1ec-4845-9228-0c164a9c350d",
   "metadata": {},
   "outputs": [
    {
     "data": {
      "text/html": [
       "<div>\n",
       "<style scoped>\n",
       "    .dataframe tbody tr th:only-of-type {\n",
       "        vertical-align: middle;\n",
       "    }\n",
       "\n",
       "    .dataframe tbody tr th {\n",
       "        vertical-align: top;\n",
       "    }\n",
       "\n",
       "    .dataframe thead th {\n",
       "        text-align: right;\n",
       "    }\n",
       "</style>\n",
       "<table border=\"1\" class=\"dataframe\">\n",
       "  <thead>\n",
       "    <tr style=\"text-align: right;\">\n",
       "      <th></th>\n",
       "      <th>Absolute</th>\n",
       "      <th>Relative</th>\n",
       "    </tr>\n",
       "  </thead>\n",
       "  <tbody>\n",
       "    <tr>\n",
       "      <th>daft_id</th>\n",
       "      <td>0</td>\n",
       "      <td>0.000000</td>\n",
       "    </tr>\n",
       "    <tr>\n",
       "      <th>url</th>\n",
       "      <td>0</td>\n",
       "      <td>0.000000</td>\n",
       "    </tr>\n",
       "    <tr>\n",
       "      <th>name</th>\n",
       "      <td>0</td>\n",
       "      <td>0.000000</td>\n",
       "    </tr>\n",
       "    <tr>\n",
       "      <th>price</th>\n",
       "      <td>0</td>\n",
       "      <td>0.000000</td>\n",
       "    </tr>\n",
       "    <tr>\n",
       "      <th>sale_type</th>\n",
       "      <td>0</td>\n",
       "      <td>0.000000</td>\n",
       "    </tr>\n",
       "    <tr>\n",
       "      <th>floor_area</th>\n",
       "      <td>0</td>\n",
       "      <td>0.000000</td>\n",
       "    </tr>\n",
       "    <tr>\n",
       "      <th>psr</th>\n",
       "      <td>16</td>\n",
       "      <td>0.002088</td>\n",
       "    </tr>\n",
       "    <tr>\n",
       "      <th>ber</th>\n",
       "      <td>195</td>\n",
       "      <td>0.025450</td>\n",
       "    </tr>\n",
       "    <tr>\n",
       "      <th>entered_renewed</th>\n",
       "      <td>0</td>\n",
       "      <td>0.000000</td>\n",
       "    </tr>\n",
       "    <tr>\n",
       "      <th>views</th>\n",
       "      <td>0</td>\n",
       "      <td>0.000000</td>\n",
       "    </tr>\n",
       "    <tr>\n",
       "      <th>type_house</th>\n",
       "      <td>487</td>\n",
       "      <td>0.063560</td>\n",
       "    </tr>\n",
       "    <tr>\n",
       "      <th>type</th>\n",
       "      <td>0</td>\n",
       "      <td>0.000000</td>\n",
       "    </tr>\n",
       "    <tr>\n",
       "      <th>scraping_date</th>\n",
       "      <td>0</td>\n",
       "      <td>0.000000</td>\n",
       "    </tr>\n",
       "    <tr>\n",
       "      <th>description</th>\n",
       "      <td>1</td>\n",
       "      <td>0.000131</td>\n",
       "    </tr>\n",
       "    <tr>\n",
       "      <th>latitude</th>\n",
       "      <td>0</td>\n",
       "      <td>0.000000</td>\n",
       "    </tr>\n",
       "    <tr>\n",
       "      <th>longitude</th>\n",
       "      <td>0</td>\n",
       "      <td>0.000000</td>\n",
       "    </tr>\n",
       "    <tr>\n",
       "      <th>bedroom</th>\n",
       "      <td>0</td>\n",
       "      <td>0.000000</td>\n",
       "    </tr>\n",
       "    <tr>\n",
       "      <th>bathroom</th>\n",
       "      <td>0</td>\n",
       "      <td>0.000000</td>\n",
       "    </tr>\n",
       "    <tr>\n",
       "      <th>plus_info</th>\n",
       "      <td>0</td>\n",
       "      <td>0.000000</td>\n",
       "    </tr>\n",
       "    <tr>\n",
       "      <th>country_code</th>\n",
       "      <td>0</td>\n",
       "      <td>0.000000</td>\n",
       "    </tr>\n",
       "    <tr>\n",
       "      <th>country</th>\n",
       "      <td>0</td>\n",
       "      <td>0.000000</td>\n",
       "    </tr>\n",
       "    <tr>\n",
       "      <th>postcode</th>\n",
       "      <td>1208</td>\n",
       "      <td>0.157661</td>\n",
       "    </tr>\n",
       "    <tr>\n",
       "      <th>state_district</th>\n",
       "      <td>395</td>\n",
       "      <td>0.051553</td>\n",
       "    </tr>\n",
       "    <tr>\n",
       "      <th>county</th>\n",
       "      <td>695</td>\n",
       "      <td>0.090707</td>\n",
       "    </tr>\n",
       "    <tr>\n",
       "      <th>municipality</th>\n",
       "      <td>6391</td>\n",
       "      <td>0.834116</td>\n",
       "    </tr>\n",
       "    <tr>\n",
       "      <th>city</th>\n",
       "      <td>5646</td>\n",
       "      <td>0.736883</td>\n",
       "    </tr>\n",
       "    <tr>\n",
       "      <th>town</th>\n",
       "      <td>6521</td>\n",
       "      <td>0.851083</td>\n",
       "    </tr>\n",
       "    <tr>\n",
       "      <th>city_district</th>\n",
       "      <td>368</td>\n",
       "      <td>0.048029</td>\n",
       "    </tr>\n",
       "    <tr>\n",
       "      <th>locality</th>\n",
       "      <td>7656</td>\n",
       "      <td>0.999217</td>\n",
       "    </tr>\n",
       "    <tr>\n",
       "      <th>suburb</th>\n",
       "      <td>5908</td>\n",
       "      <td>0.771078</td>\n",
       "    </tr>\n",
       "    <tr>\n",
       "      <th>road</th>\n",
       "      <td>1935</td>\n",
       "      <td>0.252545</td>\n",
       "    </tr>\n",
       "    <tr>\n",
       "      <th>house_number</th>\n",
       "      <td>6258</td>\n",
       "      <td>0.816758</td>\n",
       "    </tr>\n",
       "  </tbody>\n",
       "</table>\n",
       "</div>"
      ],
      "text/plain": [
       "                 Absolute  Relative\n",
       "daft_id                 0  0.000000\n",
       "url                     0  0.000000\n",
       "name                    0  0.000000\n",
       "price                   0  0.000000\n",
       "sale_type               0  0.000000\n",
       "floor_area              0  0.000000\n",
       "psr                    16  0.002088\n",
       "ber                   195  0.025450\n",
       "entered_renewed         0  0.000000\n",
       "views                   0  0.000000\n",
       "type_house            487  0.063560\n",
       "type                    0  0.000000\n",
       "scraping_date           0  0.000000\n",
       "description             1  0.000131\n",
       "latitude                0  0.000000\n",
       "longitude               0  0.000000\n",
       "bedroom                 0  0.000000\n",
       "bathroom                0  0.000000\n",
       "plus_info               0  0.000000\n",
       "country_code            0  0.000000\n",
       "country                 0  0.000000\n",
       "postcode             1208  0.157661\n",
       "state_district        395  0.051553\n",
       "county                695  0.090707\n",
       "municipality         6391  0.834116\n",
       "city                 5646  0.736883\n",
       "town                 6521  0.851083\n",
       "city_district         368  0.048029\n",
       "locality             7656  0.999217\n",
       "suburb               5908  0.771078\n",
       "road                 1935  0.252545\n",
       "house_number         6258  0.816758"
      ]
     },
     "execution_count": 9,
     "metadata": {},
     "output_type": "execute_result"
    }
   ],
   "source": [
    "# Check missing values in absolute and relative terms\n",
    "missing_values(sale)"
   ]
  },
  {
   "cell_type": "markdown",
   "id": "1c8cc976-10d2-4f62-8365-0a7dcf5711fe",
   "metadata": {},
   "source": [
    "As we can see there are a lot of new missing values in the data recently added. We are going to deal with them in a minut but first let's see if any UK ad managed to skip our data cleaning task when we cleaned the coordinates ."
   ]
  },
  {
   "cell_type": "code",
   "execution_count": 59,
   "id": "8f9fbbb7-81d1-440c-9378-ba6f1e85031e",
   "metadata": {},
   "outputs": [
    {
     "data": {
      "text/plain": [
       "Éire / Ireland    7661\n",
       "United Kingdom       1\n",
       "Name: country, dtype: int64"
      ]
     },
     "execution_count": 59,
     "metadata": {},
     "output_type": "execute_result"
    }
   ],
   "source": [
    "sale.country.value_counts()"
   ]
  },
  {
   "cell_type": "markdown",
   "id": "6a49e7a3-8a26-4e73-a086-9cae6072e995",
   "metadata": {},
   "source": [
    "There it is. Let's quickly drop it."
   ]
  },
  {
   "cell_type": "code",
   "execution_count": 60,
   "id": "e022c745-f1da-46a6-bea4-ab55c97a31d4",
   "metadata": {},
   "outputs": [
    {
     "data": {
      "text/plain": [
       "Éire / Ireland    7661\n",
       "Name: country, dtype: int64"
      ]
     },
     "execution_count": 60,
     "metadata": {},
     "output_type": "execute_result"
    }
   ],
   "source": [
    "sale.drop(sale[sale.country == 'United Kingdom'].index, inplace=True)\n",
    "sale.country.value_counts()"
   ]
  },
  {
   "cell_type": "markdown",
   "id": "bcf954e5-04d6-48fb-86d8-2cd080dd908e",
   "metadata": {},
   "source": [
    "# Dealing With The New Missing Values"
   ]
  },
  {
   "cell_type": "markdown",
   "id": "2ab0c26a-016e-472b-9836-c94874558cfd",
   "metadata": {},
   "source": [
    "Aislamos las variables relacionadas con la localizacion para trabajar mas comodamente"
   ]
  },
  {
   "cell_type": "code",
   "execution_count": 10,
   "id": "b47ed65d-057d-4e6c-aaeb-6a6160984597",
   "metadata": {},
   "outputs": [
    {
     "data": {
      "text/html": [
       "<div>\n",
       "<style scoped>\n",
       "    .dataframe tbody tr th:only-of-type {\n",
       "        vertical-align: middle;\n",
       "    }\n",
       "\n",
       "    .dataframe tbody tr th {\n",
       "        vertical-align: top;\n",
       "    }\n",
       "\n",
       "    .dataframe thead th {\n",
       "        text-align: right;\n",
       "    }\n",
       "</style>\n",
       "<table border=\"1\" class=\"dataframe\">\n",
       "  <thead>\n",
       "    <tr style=\"text-align: right;\">\n",
       "      <th></th>\n",
       "      <th>Absolute</th>\n",
       "      <th>Relative</th>\n",
       "    </tr>\n",
       "  </thead>\n",
       "  <tbody>\n",
       "    <tr>\n",
       "      <th>url</th>\n",
       "      <td>0</td>\n",
       "      <td>0.000000</td>\n",
       "    </tr>\n",
       "    <tr>\n",
       "      <th>latitude</th>\n",
       "      <td>0</td>\n",
       "      <td>0.000000</td>\n",
       "    </tr>\n",
       "    <tr>\n",
       "      <th>longitude</th>\n",
       "      <td>0</td>\n",
       "      <td>0.000000</td>\n",
       "    </tr>\n",
       "    <tr>\n",
       "      <th>country_code</th>\n",
       "      <td>0</td>\n",
       "      <td>0.000000</td>\n",
       "    </tr>\n",
       "    <tr>\n",
       "      <th>country</th>\n",
       "      <td>0</td>\n",
       "      <td>0.000000</td>\n",
       "    </tr>\n",
       "    <tr>\n",
       "      <th>postcode</th>\n",
       "      <td>1208</td>\n",
       "      <td>0.157661</td>\n",
       "    </tr>\n",
       "    <tr>\n",
       "      <th>state_district</th>\n",
       "      <td>395</td>\n",
       "      <td>0.051553</td>\n",
       "    </tr>\n",
       "    <tr>\n",
       "      <th>county</th>\n",
       "      <td>695</td>\n",
       "      <td>0.090707</td>\n",
       "    </tr>\n",
       "    <tr>\n",
       "      <th>municipality</th>\n",
       "      <td>6391</td>\n",
       "      <td>0.834116</td>\n",
       "    </tr>\n",
       "    <tr>\n",
       "      <th>city</th>\n",
       "      <td>5646</td>\n",
       "      <td>0.736883</td>\n",
       "    </tr>\n",
       "    <tr>\n",
       "      <th>town</th>\n",
       "      <td>6521</td>\n",
       "      <td>0.851083</td>\n",
       "    </tr>\n",
       "    <tr>\n",
       "      <th>city_district</th>\n",
       "      <td>368</td>\n",
       "      <td>0.048029</td>\n",
       "    </tr>\n",
       "    <tr>\n",
       "      <th>locality</th>\n",
       "      <td>7656</td>\n",
       "      <td>0.999217</td>\n",
       "    </tr>\n",
       "    <tr>\n",
       "      <th>road</th>\n",
       "      <td>1935</td>\n",
       "      <td>0.252545</td>\n",
       "    </tr>\n",
       "    <tr>\n",
       "      <th>house_number</th>\n",
       "      <td>6258</td>\n",
       "      <td>0.816758</td>\n",
       "    </tr>\n",
       "  </tbody>\n",
       "</table>\n",
       "</div>"
      ],
      "text/plain": [
       "                Absolute  Relative\n",
       "url                    0  0.000000\n",
       "latitude               0  0.000000\n",
       "longitude              0  0.000000\n",
       "country_code           0  0.000000\n",
       "country                0  0.000000\n",
       "postcode            1208  0.157661\n",
       "state_district       395  0.051553\n",
       "county               695  0.090707\n",
       "municipality        6391  0.834116\n",
       "city                5646  0.736883\n",
       "town                6521  0.851083\n",
       "city_district        368  0.048029\n",
       "locality            7656  0.999217\n",
       "road                1935  0.252545\n",
       "house_number        6258  0.816758"
      ]
     },
     "execution_count": 10,
     "metadata": {},
     "output_type": "execute_result"
    }
   ],
   "source": [
    "location_features = sale[['url', \n",
    "                          'latitude', \n",
    "                          'longitude', \n",
    "                          'country_code', \n",
    "                          'country', \n",
    "                          'postcode', \n",
    "                          'state_district', \n",
    "                          'county', \n",
    "                          'municipality', \n",
    "                          'city', \n",
    "                          'town', \n",
    "                          'city_district', \n",
    "                          'locality', \n",
    "                          'road', \n",
    "                          'house_number']].copy()\n",
    "\n",
    "missing_values(location_features)"
   ]
  },
  {
   "cell_type": "markdown",
   "id": "d3f0bd55-de61-46f5-ba75-15dde1ae88f8",
   "metadata": {},
   "source": [
    "Mis coordenadas estan en grados decimales, DD.\n",
    "\n",
    "Estrategia 1 para llenar missing values:\n",
    "- Urban area = city/town\n",
    "- postcode -> urban area"
   ]
  },
  {
   "cell_type": "code",
   "execution_count": 195,
   "id": "cf2d8255-100a-4729-9099-af70d4cf6e9a",
   "metadata": {},
   "outputs": [
    {
     "data": {
      "text/plain": [
       "(4519, 15)"
      ]
     },
     "execution_count": 195,
     "metadata": {},
     "output_type": "execute_result"
    }
   ],
   "source": [
    "# 506 no tienen ni city ni town\n",
    "location_features.loc[location_features[['city', 'town']].isna().all(axis=1)].shape"
   ]
  },
  {
   "cell_type": "code",
   "execution_count": 196,
   "id": "1ab3c9a2-271f-4d8d-bc99-6857012b65fa",
   "metadata": {},
   "outputs": [
    {
     "name": "stdout",
     "output_type": "stream",
     "text": [
      "(6, 2)\n"
     ]
    },
    {
     "data": {
      "text/html": [
       "<div>\n",
       "<style scoped>\n",
       "    .dataframe tbody tr th:only-of-type {\n",
       "        vertical-align: middle;\n",
       "    }\n",
       "\n",
       "    .dataframe tbody tr th {\n",
       "        vertical-align: top;\n",
       "    }\n",
       "\n",
       "    .dataframe thead th {\n",
       "        text-align: right;\n",
       "    }\n",
       "</style>\n",
       "<table border=\"1\" class=\"dataframe\">\n",
       "  <thead>\n",
       "    <tr style=\"text-align: right;\">\n",
       "      <th></th>\n",
       "      <th>city</th>\n",
       "      <th>town</th>\n",
       "    </tr>\n",
       "  </thead>\n",
       "  <tbody>\n",
       "    <tr>\n",
       "      <th>2113</th>\n",
       "      <td>Cork</td>\n",
       "      <td>Ballincollig</td>\n",
       "    </tr>\n",
       "    <tr>\n",
       "      <th>3194</th>\n",
       "      <td>Cork</td>\n",
       "      <td>Blarney</td>\n",
       "    </tr>\n",
       "    <tr>\n",
       "      <th>4039</th>\n",
       "      <td>Cork</td>\n",
       "      <td>Blarney</td>\n",
       "    </tr>\n",
       "    <tr>\n",
       "      <th>6553</th>\n",
       "      <td>The Municipal District of Adare — Rathkeale</td>\n",
       "      <td>Foynes</td>\n",
       "    </tr>\n",
       "    <tr>\n",
       "      <th>7000</th>\n",
       "      <td>Blarney - Macroom</td>\n",
       "      <td>Macroom</td>\n",
       "    </tr>\n",
       "  </tbody>\n",
       "</table>\n",
       "</div>"
      ],
      "text/plain": [
       "                                             city          town\n",
       "2113                                         Cork  Ballincollig\n",
       "3194                                         Cork       Blarney\n",
       "4039                                         Cork       Blarney\n",
       "6553  The Municipal District of Adare — Rathkeale        Foynes\n",
       "7000                            Blarney - Macroom       Macroom"
      ]
     },
     "execution_count": 196,
     "metadata": {},
     "output_type": "execute_result"
    }
   ],
   "source": [
    "# \n",
    "print(location_features.loc[location_features[['city', 'town']].notna().all(axis=1), ['city', 'town']].shape)\n",
    "location_features.loc[location_features[['city', 'town']].notna().all(axis=1), ['city', 'town']].head()"
   ]
  },
  {
   "cell_type": "code",
   "execution_count": 197,
   "id": "ac1019a4-d57e-428f-9b0a-f56722dd25ee",
   "metadata": {},
   "outputs": [
    {
     "data": {
      "text/plain": [
       "(1095, 15)"
      ]
     },
     "execution_count": 197,
     "metadata": {},
     "output_type": "execute_result"
    }
   ],
   "source": [
    "location_features.loc[location_features[['city', 'town', 'postcode']].isna().all(axis=1)].shape"
   ]
  },
  {
   "cell_type": "code",
   "execution_count": 198,
   "id": "199372f2-b71a-45c2-a45d-db63a344b2f8",
   "metadata": {},
   "outputs": [
    {
     "data": {
      "text/plain": [
       "1215"
      ]
     },
     "execution_count": 198,
     "metadata": {},
     "output_type": "execute_result"
    }
   ],
   "source": [
    "location_features.postcode.isna().sum()"
   ]
  },
  {
   "cell_type": "markdown",
   "id": "9352a3d5-6e4a-47d4-87c8-af63cded8ea3",
   "metadata": {},
   "source": [
    "![](imgs/eircode.png)"
   ]
  },
  {
   "cell_type": "code",
   "execution_count": null,
   "id": "c02cf3ce-f8e0-43a9-acd9-5439b55708f4",
   "metadata": {},
   "outputs": [],
   "source": []
  },
  {
   "cell_type": "raw",
   "id": "6065f7dc-e0a7-4710-98d6-5c49c17ee56a",
   "metadata": {},
   "source": [
    "import requests\n",
    "import lxml.html as lh\n",
    "\n",
    "def geonames_dict():\n",
    "    \n",
    "    url = 'http://www.geonames.org/postalcode-search.html?q=&country=IE'\n",
    "    page = requests.get(url)\n",
    "    doc = lh.fromstring(page.content) \n",
    "    tr_elements = doc.xpath('//tr')\n",
    "    \n",
    "    #Create empty dict\n",
    "    col = {}\n",
    "    #For each row, store each first element (header) and an empty list\n",
    "    for i, t in enumerate(tr_elements[2]):\n",
    "        key = t.text_content().lower()\n",
    "        #print('%d: \"%s\"'%(i,name))\n",
    "        col[key] = [] \n",
    "    col['place_coordinates'] = []\n",
    "\n",
    "    # Fill dict\n",
    "    #print(tr_elements[-1].text_content())\n",
    "    for tr in tr_elements[3:]:\n",
    "        \n",
    "        if len(tr) == 7:\n",
    "   \n",
    "            for key, td in zip(col, tr):\n",
    "                td = td.text_content()\n",
    "                #print(td)\n",
    "                col[key].append(td)\n",
    "        elif len(tr) == 2:\n",
    "        \n",
    "            td = tr[-1].text_content()\n",
    "            #print(td)\n",
    "            col['place_coordinates'].append(td)\n",
    "            \n",
    "    del col['']\n",
    "    del col['country']\n",
    "    del col['admin2']\n",
    "    del col['admin3']\n",
    "\n",
    "    return col"
   ]
  },
  {
   "cell_type": "code",
   "execution_count": 200,
   "id": "1e0282e9-f5b8-464f-a8a4-d850ff578954",
   "metadata": {},
   "outputs": [
    {
     "data": {
      "text/html": [
       "<div>\n",
       "<style scoped>\n",
       "    .dataframe tbody tr th:only-of-type {\n",
       "        vertical-align: middle;\n",
       "    }\n",
       "\n",
       "    .dataframe tbody tr th {\n",
       "        vertical-align: top;\n",
       "    }\n",
       "\n",
       "    .dataframe thead th {\n",
       "        text-align: right;\n",
       "    }\n",
       "</style>\n",
       "<table border=\"1\" class=\"dataframe\">\n",
       "  <thead>\n",
       "    <tr style=\"text-align: right;\">\n",
       "      <th></th>\n",
       "      <th>place</th>\n",
       "      <th>code</th>\n",
       "      <th>admin1</th>\n",
       "      <th>place_coordinates</th>\n",
       "    </tr>\n",
       "  </thead>\n",
       "  <tbody>\n",
       "    <tr>\n",
       "      <th>0</th>\n",
       "      <td>Ballyboughal</td>\n",
       "      <td>A41</td>\n",
       "      <td>Leinster</td>\n",
       "      <td>53.52/-6.267</td>\n",
       "    </tr>\n",
       "    <tr>\n",
       "      <th>1</th>\n",
       "      <td>Garristown</td>\n",
       "      <td>A42</td>\n",
       "      <td>Leinster</td>\n",
       "      <td>53.566/-6.386</td>\n",
       "    </tr>\n",
       "    <tr>\n",
       "      <th>2</th>\n",
       "      <td>Oldtown</td>\n",
       "      <td>A45</td>\n",
       "      <td>Leinster</td>\n",
       "      <td>53.525/-6.316</td>\n",
       "    </tr>\n",
       "  </tbody>\n",
       "</table>\n",
       "</div>"
      ],
      "text/plain": [
       "          place code    admin1 place_coordinates\n",
       "0  Ballyboughal  A41  Leinster      53.52/-6.267\n",
       "1    Garristown  A42  Leinster     53.566/-6.386\n",
       "2       Oldtown  A45  Leinster     53.525/-6.316"
      ]
     },
     "execution_count": 200,
     "metadata": {},
     "output_type": "execute_result"
    }
   ],
   "source": [
    "geonames_dict = geonames_dict()  # solo se puede ejecutar una vez\n",
    "geonames_df = pd.DataFrame(geonames_dict)\n",
    "geonames_df.head(3)"
   ]
  },
  {
   "cell_type": "code",
   "execution_count": null,
   "id": "7c155127-08e1-418a-89df-82720a3255a7",
   "metadata": {},
   "outputs": [],
   "source": []
  },
  {
   "cell_type": "code",
   "execution_count": 201,
   "id": "1f111c24-d338-4c92-a32e-9e9022543188",
   "metadata": {},
   "outputs": [
    {
     "data": {
      "text/html": [
       "<div>\n",
       "<style scoped>\n",
       "    .dataframe tbody tr th:only-of-type {\n",
       "        vertical-align: middle;\n",
       "    }\n",
       "\n",
       "    .dataframe tbody tr th {\n",
       "        vertical-align: top;\n",
       "    }\n",
       "\n",
       "    .dataframe thead th {\n",
       "        text-align: right;\n",
       "    }\n",
       "</style>\n",
       "<table border=\"1\" class=\"dataframe\">\n",
       "  <thead>\n",
       "    <tr style=\"text-align: right;\">\n",
       "      <th></th>\n",
       "      <th>url</th>\n",
       "      <th>latitude</th>\n",
       "      <th>longitude</th>\n",
       "      <th>country_code</th>\n",
       "      <th>country</th>\n",
       "      <th>postcode</th>\n",
       "      <th>state_district</th>\n",
       "      <th>county</th>\n",
       "      <th>municipality</th>\n",
       "      <th>city</th>\n",
       "      <th>town</th>\n",
       "      <th>city_district</th>\n",
       "      <th>locality</th>\n",
       "      <th>road</th>\n",
       "      <th>house_number</th>\n",
       "    </tr>\n",
       "  </thead>\n",
       "  <tbody>\n",
       "    <tr>\n",
       "      <th>3</th>\n",
       "      <td>https://www.daft.ie/for-sale/semi-detached-hou...</td>\n",
       "      <td>52.830996</td>\n",
       "      <td>-8.972552</td>\n",
       "      <td>ie</td>\n",
       "      <td>Éire / Ireland</td>\n",
       "      <td>V95 W893</td>\n",
       "      <td>Munster</td>\n",
       "      <td>County Clare</td>\n",
       "      <td>NaN</td>\n",
       "      <td>NaN</td>\n",
       "      <td>NaN</td>\n",
       "      <td>Ennis Rural ED</td>\n",
       "      <td>NaN</td>\n",
       "      <td>Abbey Court</td>\n",
       "      <td>91</td>\n",
       "    </tr>\n",
       "    <tr>\n",
       "      <th>4</th>\n",
       "      <td>https://www.daft.ie/new-home-for-sale/townhous...</td>\n",
       "      <td>53.043874</td>\n",
       "      <td>-7.260309</td>\n",
       "      <td>ie</td>\n",
       "      <td>Éire / Ireland</td>\n",
       "      <td>R32 DTW5</td>\n",
       "      <td>Leinster</td>\n",
       "      <td>County Laois</td>\n",
       "      <td>NaN</td>\n",
       "      <td>NaN</td>\n",
       "      <td>NaN</td>\n",
       "      <td>Portlaoise Rural ED</td>\n",
       "      <td>NaN</td>\n",
       "      <td>R445</td>\n",
       "      <td>NaN</td>\n",
       "    </tr>\n",
       "    <tr>\n",
       "      <th>5</th>\n",
       "      <td>https://www.daft.ie/for-sale/apartment-20-thor...</td>\n",
       "      <td>53.403388</td>\n",
       "      <td>-6.411067</td>\n",
       "      <td>ie</td>\n",
       "      <td>Éire / Ireland</td>\n",
       "      <td>D15 X925</td>\n",
       "      <td>Leinster</td>\n",
       "      <td>NaN</td>\n",
       "      <td>Fingal</td>\n",
       "      <td>NaN</td>\n",
       "      <td>NaN</td>\n",
       "      <td>Blanchardstown-Blakestown ED</td>\n",
       "      <td>NaN</td>\n",
       "      <td>Thornbury Square</td>\n",
       "      <td>NaN</td>\n",
       "    </tr>\n",
       "    <tr>\n",
       "      <th>6</th>\n",
       "      <td>https://www.daft.ie/for-sale/detached-house-90...</td>\n",
       "      <td>53.374213</td>\n",
       "      <td>-6.358932</td>\n",
       "      <td>ie</td>\n",
       "      <td>Éire / Ireland</td>\n",
       "      <td>D15 W9DH</td>\n",
       "      <td>Leinster</td>\n",
       "      <td>County Dublin</td>\n",
       "      <td>Fingal</td>\n",
       "      <td>NaN</td>\n",
       "      <td>NaN</td>\n",
       "      <td>Blanchardstown ED</td>\n",
       "      <td>NaN</td>\n",
       "      <td>Castleknock Park</td>\n",
       "      <td>90</td>\n",
       "    </tr>\n",
       "    <tr>\n",
       "      <th>11</th>\n",
       "      <td>https://www.daft.ie/for-sale/semi-detached-hou...</td>\n",
       "      <td>52.702058</td>\n",
       "      <td>-8.869069</td>\n",
       "      <td>ie</td>\n",
       "      <td>Éire / Ireland</td>\n",
       "      <td>V14 PV30</td>\n",
       "      <td>Munster</td>\n",
       "      <td>County Clare</td>\n",
       "      <td>NaN</td>\n",
       "      <td>NaN</td>\n",
       "      <td>NaN</td>\n",
       "      <td>Clenagh ED</td>\n",
       "      <td>NaN</td>\n",
       "      <td>NaN</td>\n",
       "      <td>NaN</td>\n",
       "    </tr>\n",
       "  </tbody>\n",
       "</table>\n",
       "</div>"
      ],
      "text/plain": [
       "                                                  url   latitude  longitude  \\\n",
       "3   https://www.daft.ie/for-sale/semi-detached-hou...  52.830996  -8.972552   \n",
       "4   https://www.daft.ie/new-home-for-sale/townhous...  53.043874  -7.260309   \n",
       "5   https://www.daft.ie/for-sale/apartment-20-thor...  53.403388  -6.411067   \n",
       "6   https://www.daft.ie/for-sale/detached-house-90...  53.374213  -6.358932   \n",
       "11  https://www.daft.ie/for-sale/semi-detached-hou...  52.702058  -8.869069   \n",
       "\n",
       "   country_code         country  postcode state_district         county  \\\n",
       "3            ie  Éire / Ireland  V95 W893        Munster   County Clare   \n",
       "4            ie  Éire / Ireland  R32 DTW5       Leinster   County Laois   \n",
       "5            ie  Éire / Ireland  D15 X925       Leinster            NaN   \n",
       "6            ie  Éire / Ireland  D15 W9DH       Leinster  County Dublin   \n",
       "11           ie  Éire / Ireland  V14 PV30        Munster   County Clare   \n",
       "\n",
       "   municipality city town                 city_district locality  \\\n",
       "3           NaN  NaN  NaN                Ennis Rural ED      NaN   \n",
       "4           NaN  NaN  NaN           Portlaoise Rural ED      NaN   \n",
       "5        Fingal  NaN  NaN  Blanchardstown-Blakestown ED      NaN   \n",
       "6        Fingal  NaN  NaN             Blanchardstown ED      NaN   \n",
       "11          NaN  NaN  NaN                    Clenagh ED      NaN   \n",
       "\n",
       "                road house_number  \n",
       "3        Abbey Court           91  \n",
       "4               R445          NaN  \n",
       "5   Thornbury Square          NaN  \n",
       "6   Castleknock Park           90  \n",
       "11               NaN          NaN  "
      ]
     },
     "execution_count": 201,
     "metadata": {},
     "output_type": "execute_result"
    }
   ],
   "source": [
    "locna = location_features.loc[location_features[['city', 'town']].isna().all(axis=1)].copy()\n",
    "locna.head()"
   ]
  },
  {
   "cell_type": "code",
   "execution_count": 202,
   "id": "13a9884b-01af-43f1-b910-56483e7c4303",
   "metadata": {},
   "outputs": [
    {
     "data": {
      "text/plain": [
       "8.0     2968\n",
       "7.0      394\n",
       "10.0      22\n",
       "9.0       14\n",
       "3.0       13\n",
       "12.0       7\n",
       "6.0        2\n",
       "13.0       2\n",
       "4.0        1\n",
       "11.0       1\n",
       "Name: postcode, dtype: int64"
      ]
     },
     "execution_count": 202,
     "metadata": {},
     "output_type": "execute_result"
    }
   ],
   "source": [
    "locna['postcode'].str.len().value_counts()"
   ]
  },
  {
   "cell_type": "code",
   "execution_count": null,
   "id": "bddd4dc8-b12a-413d-8796-4069b1441d78",
   "metadata": {},
   "outputs": [],
   "source": []
  },
  {
   "cell_type": "code",
   "execution_count": 203,
   "id": "aef7afd3-cdc0-43e9-9044-ea61a9c0a540",
   "metadata": {},
   "outputs": [
    {
     "data": {
      "text/plain": [
       "6291    V23 EH32\n",
       "5181    P25 YY72\n",
       "3270    A96 CD72\n",
       "Name: postcode, dtype: object"
      ]
     },
     "execution_count": 203,
     "metadata": {},
     "output_type": "execute_result"
    }
   ],
   "source": [
    "locna.loc[locna.postcode.str.len() == 8, 'postcode'].sample(3)"
   ]
  },
  {
   "cell_type": "code",
   "execution_count": 204,
   "id": "5b994585-c33d-4d7a-a5f1-254caabea5bc",
   "metadata": {},
   "outputs": [
    {
     "data": {
      "text/plain": [
       "4423    A92DKR0\n",
       "4063    P25A062\n",
       "2561    C15X4A7\n",
       "5948    R32W8C5\n",
       "6468    W91XW6H\n",
       "Name: postcode, dtype: object"
      ]
     },
     "execution_count": 204,
     "metadata": {},
     "output_type": "execute_result"
    }
   ],
   "source": [
    "locna.loc[locna.postcode.str.len() == 7, 'postcode'].sample(5)"
   ]
  },
  {
   "cell_type": "code",
   "execution_count": 205,
   "id": "8d67f19e-7fa6-44dd-bbe8-6223c96c4f46",
   "metadata": {},
   "outputs": [
    {
     "data": {
      "text/plain": [
       "1862    CO WICKLOW\n",
       "2529    CO.ATHLONE\n",
       "762     CO.ATHLONE\n",
       "5418    CO.ATHLONE\n",
       "7484    CO.ATHLONE\n",
       "Name: postcode, dtype: object"
      ]
     },
     "execution_count": 205,
     "metadata": {},
     "output_type": "execute_result"
    }
   ],
   "source": [
    "locna.loc[locna.postcode.str.len() == 10, 'postcode'].sample(5)"
   ]
  },
  {
   "cell_type": "code",
   "execution_count": 206,
   "id": "cff7b1f8-4301-4990-857c-02204b233e0f",
   "metadata": {},
   "outputs": [
    {
     "data": {
      "text/plain": [
       "1075    DUBLIN 18\n",
       "4895    DUBLIN 18\n",
       "136     DUBLIN 18\n",
       "4291    DUBLIN 18\n",
       "3312    DUBLIN 18\n",
       "Name: postcode, dtype: object"
      ]
     },
     "execution_count": 206,
     "metadata": {},
     "output_type": "execute_result"
    }
   ],
   "source": [
    "locna.loc[locna.postcode.str.len() == 9, 'postcode'].sample(5)"
   ]
  },
  {
   "cell_type": "code",
   "execution_count": 207,
   "id": "4419ed9d-a87c-4b01-8e8f-a1b2d1858593",
   "metadata": {},
   "outputs": [
    {
     "data": {
      "text/plain": [
       "1451    D16\n",
       "4927    F12\n",
       "2648    W23\n",
       "Name: postcode, dtype: object"
      ]
     },
     "execution_count": 207,
     "metadata": {},
     "output_type": "execute_result"
    }
   ],
   "source": [
    "locna.loc[locna.postcode.str.len() == 3, 'postcode'].sample(3)"
   ]
  },
  {
   "cell_type": "code",
   "execution_count": 208,
   "id": "9f9bae3d-745f-4bcf-b062-24e77fb68345",
   "metadata": {},
   "outputs": [
    {
     "data": {
      "text/plain": [
       "113     CO. KILKENNY\n",
       "1542    CO WESTMEATH\n",
       "2330    CO WESTMEATH\n",
       "4208    CO WESTMEATH\n",
       "5440    CO WESTMEATH\n",
       "5543    CO. KILKENNY\n",
       "7549    CO WESTMEATH\n",
       "Name: postcode, dtype: object"
      ]
     },
     "execution_count": 208,
     "metadata": {},
     "output_type": "execute_result"
    }
   ],
   "source": [
    "locna.loc[locna.postcode.str.len() == 12, 'postcode']"
   ]
  },
  {
   "cell_type": "code",
   "execution_count": 209,
   "id": "63695e07-8941-4755-8fa7-48ddb5cb0855",
   "metadata": {},
   "outputs": [
    {
     "data": {
      "text/plain": [
       "404     H91 DV\n",
       "6731    H91 DV\n",
       "Name: postcode, dtype: object"
      ]
     },
     "execution_count": 209,
     "metadata": {},
     "output_type": "execute_result"
    }
   ],
   "source": [
    "locna.loc[locna.postcode.str.len() == 6, 'postcode']"
   ]
  },
  {
   "cell_type": "code",
   "execution_count": 210,
   "id": "b560a32f-928e-4cbb-b36c-adcb248776f8",
   "metadata": {},
   "outputs": [
    {
     "data": {
      "text/plain": [
       "6936    CO. ROSCOMMON\n",
       "7067    CO. ROSCOMMON\n",
       "Name: postcode, dtype: object"
      ]
     },
     "execution_count": 210,
     "metadata": {},
     "output_type": "execute_result"
    }
   ],
   "source": [
    "locna.loc[locna.postcode.str.len() == 13, 'postcode']"
   ]
  },
  {
   "cell_type": "code",
   "execution_count": 211,
   "id": "df5f026d-d116-405e-a721-dbff6aa41627",
   "metadata": {},
   "outputs": [
    {
     "data": {
      "text/plain": [
       "772    0000\n",
       "Name: postcode, dtype: object"
      ]
     },
     "execution_count": 211,
     "metadata": {},
     "output_type": "execute_result"
    }
   ],
   "source": [
    "locna.loc[locna.postcode.str.len() == 4, 'postcode']"
   ]
  },
  {
   "cell_type": "code",
   "execution_count": 212,
   "id": "68291e5e-356d-4ce5-9dbf-b9b01ee06be3",
   "metadata": {},
   "outputs": [
    {
     "data": {
      "text/plain": [
       "6657    CO. WICKLOW\n",
       "Name: postcode, dtype: object"
      ]
     },
     "execution_count": 212,
     "metadata": {},
     "output_type": "execute_result"
    }
   ],
   "source": [
    "locna.loc[locna.postcode.str.len() == 11, 'postcode']"
   ]
  },
  {
   "cell_type": "code",
   "execution_count": 7,
   "id": "9e91e23a-301c-462f-bdbb-c4fc251e7a77",
   "metadata": {},
   "outputs": [],
   "source": [
    "import re\n",
    "\n",
    "def eircode_homogenize(df):\n",
    "\n",
    "    def homogenize(eircode):   # 8, 3, 7, , dublin, 6, 9, 10\n",
    "        if eircode is np.nan: pass\n",
    "        elif len(eircode) == 8: pass\n",
    "        elif len(eircode) == 3: pass\n",
    "        elif len(eircode) == 7:\n",
    "            if re.match(r'\\w{3} \\w{3}', eircode):\n",
    "                eircode = eircode[:3]\n",
    "            else:            \n",
    "                routing_key = re.search(r'(\\b\\w{3})', eircode)[0]\n",
    "                unique_identifier = re.search(r'(\\w{4}\\b)', eircode)[0]\n",
    "                eircode = f'{routing_key} {unique_identifier}'\n",
    "        elif re.match(r'DUBLIN', eircode):\n",
    "            num = eircode[-2:]\n",
    "            try:\n",
    "                if int(num) < 10:\n",
    "                    eircode = f'D0{int(num)}'\n",
    "                elif int(num) < 25:\n",
    "                    eircode = f'D{num}'\n",
    "                else:\n",
    "                    eircode = np.nan\n",
    "            except:  # 6w\n",
    "                eircode = f'D{num}'\n",
    "        elif len(eircode) == 6: eircode = eircode[:3]\n",
    "        elif (len(eircode) == 9) or (len(eircode) == 10):\n",
    "            if eircode == 'CO. CLARE':\n",
    "                eircode = np.nan\n",
    "            elif eircode == 'CO WICKLOW':\n",
    "                eircode = np.nan \n",
    "            elif re.match(r'\\b\\w{3}\\b \\b\\w{2}\\b \\b\\w{2}\\b', eircode):   #D20 HK 69\n",
    "                eircode = eircode[:3]\n",
    "            else:\n",
    "                print('8( ' * 10)\n",
    "                eircode = np.nan\n",
    "                print(eircode)\n",
    "        else:\n",
    "            print('8( ' * 10) \n",
    "            print(eircode)\n",
    "            eircode = np.nan\n",
    "        return eircode\n",
    "    \n",
    "    df['postcode'] = df['postcode'].apply(homogenize)\n",
    "    #df.iloc[:, 5] = df['postcode'].apply(homogenize)\n",
    " \n",
    "    return df"
   ]
  },
  {
   "cell_type": "code",
   "execution_count": 8,
   "id": "6c4e193c-9eec-43fc-8c07-b84d67241377",
   "metadata": {},
   "outputs": [],
   "source": [
    "def add_location(df):\n",
    "    #count = 0\n",
    "    for row in df.iterrows():\n",
    "        #print(type(row[1]))\n",
    "        row_index = row[0]\n",
    "        #print(row_index)\n",
    "        if row[1]['postcode'] is not np.nan:\n",
    "            #routing_key = row[1]['postcode'].split(' ')[0]\n",
    "            routing_key = row[1]['postcode'][:3]\n",
    "        elif row[1]['postcode'] is np.nan:\n",
    "            continue\n",
    "        #else:\n",
    "         #   routing_key = row[1]['postcode'].split(' ')[0]\n",
    "        #print(routing_key)\n",
    "        #try:\n",
    "        geonames_row = geonames_df[geonames_df['code'].str.contains(routing_key)]\n",
    "        if len(geonames_row) != 0:\n",
    "            for column in geonames_df:\n",
    "                #print(column)\n",
    "                #print(df.loc[row_index, column])\n",
    "                #print(geonames_row[column].values)\n",
    "                df.loc[row_index, column] = geonames_row[column].values[0]\n",
    "        #print(geonames_row)\n",
    "        #except:\n",
    "         #   print(geonames_row.index, '!!!!!!!!!!!!!!!!!!!!!!!!!!!!!!!!!!!!!!!!!!!!!!!!!!!!!!')\n",
    "        else: continue\n",
    "        \n",
    "        \n",
    "        #for column in geonames_df:\n",
    "         #   #print(column)\n",
    "          #  #print(df.loc[row_index, column])\n",
    "           # #print(geonames_row[column].values)\n",
    "            #df.loc[row_index, column] = geonames_row[column].values#[0]\n",
    "        \n",
    "        #count += 1\n",
    "        #print(count) \n",
    "    #print(count)    \n",
    "    return df"
   ]
  },
  {
   "cell_type": "code",
   "execution_count": 215,
   "id": "014e8281-11d2-4965-8b4f-4bb3474f0676",
   "metadata": {},
   "outputs": [
    {
     "name": "stdout",
     "output_type": "stream",
     "text": [
      "(4519, 15)\n",
      "8( 8( 8( 8( 8( 8( 8( 8( 8( 8( \n",
      "CO. KILKENNY\n",
      "8( 8( 8( 8( 8( 8( 8( 8( 8( 8( \n",
      "nan\n",
      "8( 8( 8( 8( 8( 8( 8( 8( 8( 8( \n",
      "0000\n",
      "8( 8( 8( 8( 8( 8( 8( 8( 8( 8( \n",
      "nan\n",
      "8( 8( 8( 8( 8( 8( 8( 8( 8( 8( \n",
      "CO WESTMEATH\n",
      "8( 8( 8( 8( 8( 8( 8( 8( 8( 8( \n",
      "CO WESTMEATH\n",
      "8( 8( 8( 8( 8( 8( 8( 8( 8( 8( \n",
      "nan\n",
      "8( 8( 8( 8( 8( 8( 8( 8( 8( 8( \n",
      "nan\n",
      "8( 8( 8( 8( 8( 8( 8( 8( 8( 8( \n",
      "nan\n",
      "8( 8( 8( 8( 8( 8( 8( 8( 8( 8( \n",
      "nan\n",
      "8( 8( 8( 8( 8( 8( 8( 8( 8( 8( \n",
      "nan\n",
      "8( 8( 8( 8( 8( 8( 8( 8( 8( 8( \n",
      "nan\n",
      "8( 8( 8( 8( 8( 8( 8( 8( 8( 8( \n",
      "nan\n",
      "8( 8( 8( 8( 8( 8( 8( 8( 8( 8( \n",
      "nan\n",
      "8( 8( 8( 8( 8( 8( 8( 8( 8( 8( \n",
      "nan\n",
      "8( 8( 8( 8( 8( 8( 8( 8( 8( 8( \n",
      "nan\n",
      "8( 8( 8( 8( 8( 8( 8( 8( 8( 8( \n",
      "CO WESTMEATH\n",
      "8( 8( 8( 8( 8( 8( 8( 8( 8( 8( \n",
      "nan\n",
      "8( 8( 8( 8( 8( 8( 8( 8( 8( 8( \n",
      "nan\n",
      "8( 8( 8( 8( 8( 8( 8( 8( 8( 8( \n",
      "CO WESTMEATH\n",
      "8( 8( 8( 8( 8( 8( 8( 8( 8( 8( \n",
      "CO. KILKENNY\n",
      "8( 8( 8( 8( 8( 8( 8( 8( 8( 8( \n",
      "CO. WICKLOW\n",
      "8( 8( 8( 8( 8( 8( 8( 8( 8( 8( \n",
      "CO. ROSCOMMON\n",
      "8( 8( 8( 8( 8( 8( 8( 8( 8( 8( \n",
      "CO. ROSCOMMON\n",
      "8( 8( 8( 8( 8( 8( 8( 8( 8( 8( \n",
      "nan\n",
      "8( 8( 8( 8( 8( 8( 8( 8( 8( 8( \n",
      "CO WESTMEATH\n",
      "(4519, 15)\n"
     ]
    }
   ],
   "source": [
    "print(locna.shape)\n",
    "locna = eircode_homogenize(locna)\n",
    "print(locna.shape)"
   ]
  },
  {
   "cell_type": "code",
   "execution_count": 216,
   "id": "c5a78919-e2d1-4c8b-a5cd-47439a56a0a4",
   "metadata": {},
   "outputs": [
    {
     "data": {
      "text/plain": [
       "8.0    3358\n",
       "3.0      32\n",
       "Name: postcode, dtype: int64"
      ]
     },
     "execution_count": 216,
     "metadata": {},
     "output_type": "execute_result"
    }
   ],
   "source": [
    "locna['postcode'].str.len().value_counts()"
   ]
  },
  {
   "cell_type": "code",
   "execution_count": null,
   "id": "6c5e224f-4c6c-4535-af32-b930faf463a5",
   "metadata": {},
   "outputs": [],
   "source": []
  },
  {
   "cell_type": "code",
   "execution_count": 217,
   "id": "b3d67469-0331-45d4-8b68-b65c9c144826",
   "metadata": {},
   "outputs": [
    {
     "name": "stdout",
     "output_type": "stream",
     "text": [
      "(4519, 15)\n",
      "(4519, 19)\n"
     ]
    }
   ],
   "source": [
    "print(locna.shape)\n",
    "add_location(locna)\n",
    "print(locna.shape)"
   ]
  },
  {
   "cell_type": "code",
   "execution_count": 218,
   "id": "89a7d7ac-48c2-425a-94c2-cc8bbe283e83",
   "metadata": {},
   "outputs": [
    {
     "data": {
      "text/plain": [
       "url                     0\n",
       "latitude                0\n",
       "longitude               0\n",
       "country_code            0\n",
       "country                 0\n",
       "postcode             1129\n",
       "state_district        287\n",
       "county                230\n",
       "municipality         3939\n",
       "city                 4519\n",
       "town                 4519\n",
       "city_district          45\n",
       "locality             4514\n",
       "road                 1621\n",
       "house_number         4118\n",
       "place                1149\n",
       "code                 1149\n",
       "admin1               1149\n",
       "place_coordinates    1149\n",
       "dtype: int64"
      ]
     },
     "execution_count": 218,
     "metadata": {},
     "output_type": "execute_result"
    }
   ],
   "source": [
    "locna.isna().sum()"
   ]
  },
  {
   "cell_type": "code",
   "execution_count": 219,
   "id": "23404e94-ddc2-4369-9124-761641e6006a",
   "metadata": {},
   "outputs": [
    {
     "data": {
      "text/plain": [
       "Glencullen ED           56\n",
       "Kilcoole ED             32\n",
       "Navan Rural ED          31\n",
       "Enniscorthy Rural ED    27\n",
       "Thurles Urban           26\n",
       "Name: city_district, dtype: int64"
      ]
     },
     "execution_count": 219,
     "metadata": {},
     "output_type": "execute_result"
    }
   ],
   "source": [
    "locna.city_district.value_counts().head()#.count()"
   ]
  },
  {
   "cell_type": "code",
   "execution_count": null,
   "id": "fdcd4324-dd7f-46bb-8fe0-11665a584742",
   "metadata": {},
   "outputs": [],
   "source": []
  },
  {
   "cell_type": "code",
   "execution_count": 220,
   "id": "f3f25ea9-b3a8-421c-bb34-ce54d3a53f93",
   "metadata": {},
   "outputs": [
    {
     "data": {
      "text/plain": [
       "(7692, 15)"
      ]
     },
     "execution_count": 220,
     "metadata": {},
     "output_type": "execute_result"
    }
   ],
   "source": [
    "location_features.shape"
   ]
  },
  {
   "cell_type": "code",
   "execution_count": 221,
   "id": "49649e40-cd0f-4fb8-af84-1b93879b50f1",
   "metadata": {
    "collapsed": true,
    "jupyter": {
     "outputs_hidden": true
    },
    "tags": []
   },
   "outputs": [
    {
     "name": "stdout",
     "output_type": "stream",
     "text": [
      "(7692, 15)\n",
      "8( 8( 8( 8( 8( 8( 8( 8( 8( 8( \n",
      "9\n",
      "8( 8( 8( 8( 8( 8( 8( 8( 8( 8( \n",
      "CO. KILKENNY\n",
      "8( 8( 8( 8( 8( 8( 8( 8( 8( 8( \n",
      "nan\n",
      "8( 8( 8( 8( 8( 8( 8( 8( 8( 8( \n",
      "D5\n",
      "8( 8( 8( 8( 8( 8( 8( 8( 8( 8( \n",
      "9\n",
      "8( 8( 8( 8( 8( 8( 8( 8( 8( 8( \n",
      "8\n",
      "8( 8( 8( 8( 8( 8( 8( 8( 8( 8( \n",
      "4\n",
      "8( 8( 8( 8( 8( 8( 8( 8( 8( 8( \n",
      "D5\n",
      "8( 8( 8( 8( 8( 8( 8( 8( 8( 8( \n",
      "D5\n",
      "8( 8( 8( 8( 8( 8( 8( 8( 8( 8( \n",
      "nan\n",
      "8( 8( 8( 8( 8( 8( 8( 8( 8( 8( \n",
      "0000\n",
      "8( 8( 8( 8( 8( 8( 8( 8( 8( 8( \n",
      "4\n",
      "8( 8( 8( 8( 8( 8( 8( 8( 8( 8( \n",
      "3\n",
      "8( 8( 8( 8( 8( 8( 8( 8( 8( 8( \n",
      "D5\n",
      "8( 8( 8( 8( 8( 8( 8( 8( 8( 8( \n",
      "1\n",
      "8( 8( 8( 8( 8( 8( 8( 8( 8( 8( \n",
      "CO WESTMEATH\n",
      "8( 8( 8( 8( 8( 8( 8( 8( 8( 8( \n",
      "nan\n",
      "8( 8( 8( 8( 8( 8( 8( 8( 8( 8( \n",
      "CO WESTMEATH\n",
      "8( 8( 8( 8( 8( 8( 8( 8( 8( 8( \n",
      "8\n",
      "8( 8( 8( 8( 8( 8( 8( 8( 8( 8( \n",
      "8\n",
      "8( 8( 8( 8( 8( 8( 8( 8( 8( 8( \n",
      "D5\n",
      "8( 8( 8( 8( 8( 8( 8( 8( 8( 8( \n",
      "1\n",
      "8( 8( 8( 8( 8( 8( 8( 8( 8( 8( \n",
      "22\n",
      "8( 8( 8( 8( 8( 8( 8( 8( 8( 8( \n",
      "4\n",
      "8( 8( 8( 8( 8( 8( 8( 8( 8( 8( \n",
      "1\n",
      "8( 8( 8( 8( 8( 8( 8( 8( 8( 8( \n",
      "1\n",
      "8( 8( 8( 8( 8( 8( 8( 8( 8( 8( \n",
      "CO WESTMEATH\n",
      "8( 8( 8( 8( 8( 8( 8( 8( 8( 8( \n",
      "4\n",
      "8( 8( 8( 8( 8( 8( 8( 8( 8( 8( \n",
      "nan\n",
      "8( 8( 8( 8( 8( 8( 8( 8( 8( 8( \n",
      "nan\n",
      "8( 8( 8( 8( 8( 8( 8( 8( 8( 8( \n",
      "nan\n",
      "8( 8( 8( 8( 8( 8( 8( 8( 8( 8( \n",
      "nan\n",
      "8( 8( 8( 8( 8( 8( 8( 8( 8( 8( \n",
      "2\n",
      "8( 8( 8( 8( 8( 8( 8( 8( 8( 8( \n",
      "nan\n",
      "8( 8( 8( 8( 8( 8( 8( 8( 8( 8( \n",
      "nan\n",
      "8( 8( 8( 8( 8( 8( 8( 8( 8( 8( \n",
      "4\n",
      "8( 8( 8( 8( 8( 8( 8( 8( 8( 8( \n",
      "nan\n",
      "8( 8( 8( 8( 8( 8( 8( 8( 8( 8( \n",
      "D5\n",
      "8( 8( 8( 8( 8( 8( 8( 8( 8( 8( \n",
      "D5\n",
      "8( 8( 8( 8( 8( 8( 8( 8( 8( 8( \n",
      "nan\n",
      "8( 8( 8( 8( 8( 8( 8( 8( 8( 8( \n",
      "nan\n",
      "8( 8( 8( 8( 8( 8( 8( 8( 8( 8( \n",
      "nan\n",
      "8( 8( 8( 8( 8( 8( 8( 8( 8( 8( \n",
      "D5\n",
      "8( 8( 8( 8( 8( 8( 8( 8( 8( 8( \n",
      "24\n",
      "8( 8( 8( 8( 8( 8( 8( 8( 8( 8( \n",
      "4\n",
      "8( 8( 8( 8( 8( 8( 8( 8( 8( 8( \n",
      "22\n",
      "8( 8( 8( 8( 8( 8( 8( 8( 8( 8( \n",
      "22\n",
      "8( 8( 8( 8( 8( 8( 8( 8( 8( 8( \n",
      "D5\n",
      "8( 8( 8( 8( 8( 8( 8( 8( 8( 8( \n",
      "1\n",
      "8( 8( 8( 8( 8( 8( 8( 8( 8( 8( \n",
      "CO WESTMEATH\n",
      "8( 8( 8( 8( 8( 8( 8( 8( 8( 8( \n",
      "1\n",
      "8( 8( 8( 8( 8( 8( 8( 8( 8( 8( \n",
      "D5\n",
      "8( 8( 8( 8( 8( 8( 8( 8( 8( 8( \n",
      "22\n",
      "8( 8( 8( 8( 8( 8( 8( 8( 8( 8( \n",
      "nan\n",
      "8( 8( 8( 8( 8( 8( 8( 8( 8( 8( \n",
      "D5\n",
      "8( 8( 8( 8( 8( 8( 8( 8( 8( 8( \n",
      "4\n",
      "8( 8( 8( 8( 8( 8( 8( 8( 8( 8( \n",
      "D5\n",
      "8( 8( 8( 8( 8( 8( 8( 8( 8( 8( \n",
      "D5\n",
      "8( 8( 8( 8( 8( 8( 8( 8( 8( 8( \n",
      "nan\n",
      "8( 8( 8( 8( 8( 8( 8( 8( 8( 8( \n",
      "CO WESTMEATH\n",
      "8( 8( 8( 8( 8( 8( 8( 8( 8( 8( \n",
      "CO. KILKENNY\n",
      "8( 8( 8( 8( 8( 8( 8( 8( 8( 8( \n",
      "17\n",
      "8( 8( 8( 8( 8( 8( 8( 8( 8( 8( \n",
      "17\n",
      "8( 8( 8( 8( 8( 8( 8( 8( 8( 8( \n",
      "4\n",
      "8( 8( 8( 8( 8( 8( 8( 8( 8( 8( \n",
      "CO. WICKLOW\n",
      "8( 8( 8( 8( 8( 8( 8( 8( 8( 8( \n",
      "1\n",
      "8( 8( 8( 8( 8( 8( 8( 8( 8( 8( \n",
      "17\n",
      "8( 8( 8( 8( 8( 8( 8( 8( 8( 8( \n",
      "1\n",
      "8( 8( 8( 8( 8( 8( 8( 8( 8( 8( \n",
      "1\n",
      "8( 8( 8( 8( 8( 8( 8( 8( 8( 8( \n",
      "17\n",
      "8( 8( 8( 8( 8( 8( 8( 8( 8( 8( \n",
      "CO. ROSCOMMON\n",
      "8( 8( 8( 8( 8( 8( 8( 8( 8( 8( \n",
      "17\n",
      "8( 8( 8( 8( 8( 8( 8( 8( 8( 8( \n",
      "CO. ROSCOMMON\n",
      "8( 8( 8( 8( 8( 8( 8( 8( 8( 8( \n",
      "D5\n",
      "8( 8( 8( 8( 8( 8( 8( 8( 8( 8( \n",
      "1\n",
      "8( 8( 8( 8( 8( 8( 8( 8( 8( 8( \n",
      "nan\n",
      "8( 8( 8( 8( 8( 8( 8( 8( 8( 8( \n",
      "1\n",
      "8( 8( 8( 8( 8( 8( 8( 8( 8( 8( \n",
      "1\n",
      "8( 8( 8( 8( 8( 8( 8( 8( 8( 8( \n",
      "CO WESTMEATH\n",
      "(7692, 15)\n"
     ]
    }
   ],
   "source": [
    "print(location_features.shape)\n",
    "location_features = eircode_homogenize(location_features)\n",
    "print(location_features.shape)"
   ]
  },
  {
   "cell_type": "code",
   "execution_count": 223,
   "id": "c80dd926-070b-441f-96b1-11798d13d22b",
   "metadata": {},
   "outputs": [
    {
     "name": "stdout",
     "output_type": "stream",
     "text": [
      "(7692, 15)\n",
      "(7692, 19)\n"
     ]
    }
   ],
   "source": [
    "print(location_features.shape)\n",
    "add_location(location_features)\n",
    "print(location_features.shape)"
   ]
  },
  {
   "cell_type": "code",
   "execution_count": 224,
   "id": "785b431e-c3fb-40f3-8a2a-359a8ec36a24",
   "metadata": {},
   "outputs": [
    {
     "data": {
      "text/plain": [
       "url                     0\n",
       "latitude                0\n",
       "longitude               0\n",
       "country_code            0\n",
       "country                 0\n",
       "postcode             1302\n",
       "state_district        368\n",
       "county                701\n",
       "municipality         6402\n",
       "city                 5648\n",
       "town                 6557\n",
       "city_district         377\n",
       "locality             7687\n",
       "road                 2003\n",
       "house_number         6223\n",
       "place                1372\n",
       "code                 1372\n",
       "admin1               1372\n",
       "place_coordinates    1372\n",
       "dtype: int64"
      ]
     },
     "execution_count": 224,
     "metadata": {},
     "output_type": "execute_result"
    }
   ],
   "source": [
    "location_features.isna().sum()"
   ]
  },
  {
   "cell_type": "code",
   "execution_count": 228,
   "id": "3d1d1662-bc44-4e53-99ed-2aba7bb1af91",
   "metadata": {},
   "outputs": [
    {
     "data": {
      "text/plain": [
       "Leinster    4162\n",
       "Munster     2156\n",
       "Connacht    1006\n",
       "Name: state_district, dtype: int64"
      ]
     },
     "execution_count": 228,
     "metadata": {},
     "output_type": "execute_result"
    }
   ],
   "source": [
    "location_features.state_district.value_counts()"
   ]
  },
  {
   "cell_type": "code",
   "execution_count": 246,
   "id": "d6b38bbe-c51f-4650-92c3-b5420651b5fd",
   "metadata": {},
   "outputs": [],
   "source": [
    "#location_features.loc[location_features.city.notna(), ['postcode','city','town','place']]"
   ]
  },
  {
   "cell_type": "code",
   "execution_count": 252,
   "id": "8cb62d4c-13f7-4f58-bed3-cba779f5370f",
   "metadata": {},
   "outputs": [],
   "source": [
    "#location_features.loc[location_features.place.isna(), ['city','town','place','postcode','latitude','longitude']]"
   ]
  },
  {
   "cell_type": "markdown",
   "id": "edabfbfa-d32c-4cfa-b43c-02b9afbbe097",
   "metadata": {},
   "source": [
    "----------------------"
   ]
  },
  {
   "cell_type": "code",
   "execution_count": 11,
   "id": "9f8fbc2a-906c-4af2-a41c-171343189a2b",
   "metadata": {},
   "outputs": [
    {
     "data": {
      "text/plain": [
       "(7695, 28)"
      ]
     },
     "execution_count": 11,
     "metadata": {},
     "output_type": "execute_result"
    }
   ],
   "source": [
    "sale_data = pd.read_csv('data_available/sale_data_post_geos_eng.csv', sep=',')\n",
    "sale_data.shape"
   ]
  },
  {
   "cell_type": "code",
   "execution_count": 12,
   "id": "22fd433b-1bae-44e8-9a40-a9c82b2a63e8",
   "metadata": {},
   "outputs": [
    {
     "name": "stdout",
     "output_type": "stream",
     "text": [
      "<class 'pandas.core.frame.DataFrame'>\n",
      "RangeIndex: 7695 entries, 0 to 7694\n",
      "Data columns (total 28 columns):\n",
      " #   Column           Non-Null Count  Dtype  \n",
      "---  ------           --------------  -----  \n",
      " 0   daft_id          7695 non-null   int64  \n",
      " 1   url              7695 non-null   object \n",
      " 2   name             7695 non-null   object \n",
      " 3   price            7695 non-null   float64\n",
      " 4   sale_type        7695 non-null   object \n",
      " 5   floor_area       7695 non-null   int64  \n",
      " 6   entered_renewed  7695 non-null   object \n",
      " 7   views            7695 non-null   float64\n",
      " 8   type_house       7695 non-null   object \n",
      " 9   type             7695 non-null   object \n",
      " 10  scraping_date    7695 non-null   object \n",
      " 11  latitude         7695 non-null   float64\n",
      " 12  longitude        7695 non-null   float64\n",
      " 13  bedroom          7695 non-null   int64  \n",
      " 14  bathroom         7695 non-null   int64  \n",
      " 15  country_code     7695 non-null   object \n",
      " 16  country          7695 non-null   object \n",
      " 17  postcode         6480 non-null   object \n",
      " 18  state_district   7324 non-null   object \n",
      " 19  county           6994 non-null   object \n",
      " 20  municipality     1290 non-null   object \n",
      " 21  city             2044 non-null   object \n",
      " 22  town             1136 non-null   object \n",
      " 23  city_district    7315 non-null   object \n",
      " 24  locality         5 non-null      object \n",
      " 25  suburb           1781 non-null   object \n",
      " 26  road             5692 non-null   object \n",
      " 27  house_number     1469 non-null   object \n",
      "dtypes: float64(4), int64(4), object(20)\n",
      "memory usage: 1.6+ MB\n"
     ]
    }
   ],
   "source": [
    "sale_data.info()"
   ]
  },
  {
   "cell_type": "code",
   "execution_count": 13,
   "id": "18d14bf5-4241-4e94-8349-a8f61e316c26",
   "metadata": {
    "tags": []
   },
   "outputs": [
    {
     "name": "stdout",
     "output_type": "stream",
     "text": [
      "(7695, 28)\n",
      "8( 8( 8( 8( 8( 8( 8( 8( 8( 8( \n",
      "9\n",
      "8( 8( 8( 8( 8( 8( 8( 8( 8( 8( \n",
      "CO. KILKENNY\n",
      "8( 8( 8( 8( 8( 8( 8( 8( 8( 8( \n",
      "nan\n",
      "8( 8( 8( 8( 8( 8( 8( 8( 8( 8( \n",
      "D5\n",
      "8( 8( 8( 8( 8( 8( 8( 8( 8( 8( \n",
      "9\n",
      "8( 8( 8( 8( 8( 8( 8( 8( 8( 8( \n",
      "8\n",
      "8( 8( 8( 8( 8( 8( 8( 8( 8( 8( \n",
      "4\n",
      "8( 8( 8( 8( 8( 8( 8( 8( 8( 8( \n",
      "D5\n",
      "8( 8( 8( 8( 8( 8( 8( 8( 8( 8( \n",
      "D5\n",
      "8( 8( 8( 8( 8( 8( 8( 8( 8( 8( \n",
      "nan\n",
      "8( 8( 8( 8( 8( 8( 8( 8( 8( 8( \n",
      "0000\n",
      "8( 8( 8( 8( 8( 8( 8( 8( 8( 8( \n",
      "4\n",
      "8( 8( 8( 8( 8( 8( 8( 8( 8( 8( \n",
      "3\n",
      "8( 8( 8( 8( 8( 8( 8( 8( 8( 8( \n",
      "D5\n",
      "8( 8( 8( 8( 8( 8( 8( 8( 8( 8( \n",
      "1\n",
      "8( 8( 8( 8( 8( 8( 8( 8( 8( 8( \n",
      "CO WESTMEATH\n",
      "8( 8( 8( 8( 8( 8( 8( 8( 8( 8( \n",
      "nan\n",
      "8( 8( 8( 8( 8( 8( 8( 8( 8( 8( \n",
      "CO WESTMEATH\n",
      "8( 8( 8( 8( 8( 8( 8( 8( 8( 8( \n",
      "8\n",
      "8( 8( 8( 8( 8( 8( 8( 8( 8( 8( \n",
      "8\n",
      "8( 8( 8( 8( 8( 8( 8( 8( 8( 8( \n",
      "D5\n",
      "8( 8( 8( 8( 8( 8( 8( 8( 8( 8( \n",
      "1\n",
      "8( 8( 8( 8( 8( 8( 8( 8( 8( 8( \n",
      "22\n",
      "8( 8( 8( 8( 8( 8( 8( 8( 8( 8( \n",
      "4\n",
      "8( 8( 8( 8( 8( 8( 8( 8( 8( 8( \n",
      "1\n",
      "8( 8( 8( 8( 8( 8( 8( 8( 8( 8( \n",
      "1\n",
      "8( 8( 8( 8( 8( 8( 8( 8( 8( 8( \n",
      "CO WESTMEATH\n",
      "8( 8( 8( 8( 8( 8( 8( 8( 8( 8( \n",
      "4\n",
      "8( 8( 8( 8( 8( 8( 8( 8( 8( 8( \n",
      "nan\n",
      "8( 8( 8( 8( 8( 8( 8( 8( 8( 8( \n",
      "nan\n",
      "8( 8( 8( 8( 8( 8( 8( 8( 8( 8( \n",
      "nan\n",
      "8( 8( 8( 8( 8( 8( 8( 8( 8( 8( \n",
      "nan\n",
      "8( 8( 8( 8( 8( 8( 8( 8( 8( 8( \n",
      "2\n",
      "8( 8( 8( 8( 8( 8( 8( 8( 8( 8( \n",
      "nan\n",
      "8( 8( 8( 8( 8( 8( 8( 8( 8( 8( \n",
      "nan\n",
      "8( 8( 8( 8( 8( 8( 8( 8( 8( 8( \n",
      "4\n",
      "8( 8( 8( 8( 8( 8( 8( 8( 8( 8( \n",
      "nan\n",
      "8( 8( 8( 8( 8( 8( 8( 8( 8( 8( \n",
      "D5\n",
      "8( 8( 8( 8( 8( 8( 8( 8( 8( 8( \n",
      "D5\n",
      "8( 8( 8( 8( 8( 8( 8( 8( 8( 8( \n",
      "nan\n",
      "8( 8( 8( 8( 8( 8( 8( 8( 8( 8( \n",
      "nan\n",
      "8( 8( 8( 8( 8( 8( 8( 8( 8( 8( \n",
      "nan\n",
      "8( 8( 8( 8( 8( 8( 8( 8( 8( 8( \n",
      "D5\n",
      "8( 8( 8( 8( 8( 8( 8( 8( 8( 8( \n",
      "24\n",
      "8( 8( 8( 8( 8( 8( 8( 8( 8( 8( \n",
      "4\n",
      "8( 8( 8( 8( 8( 8( 8( 8( 8( 8( \n",
      "22\n",
      "8( 8( 8( 8( 8( 8( 8( 8( 8( 8( \n",
      "22\n",
      "8( 8( 8( 8( 8( 8( 8( 8( 8( 8( \n",
      "D5\n",
      "8( 8( 8( 8( 8( 8( 8( 8( 8( 8( \n",
      "1\n",
      "8( 8( 8( 8( 8( 8( 8( 8( 8( 8( \n",
      "CO WESTMEATH\n",
      "8( 8( 8( 8( 8( 8( 8( 8( 8( 8( \n",
      "1\n",
      "8( 8( 8( 8( 8( 8( 8( 8( 8( 8( \n",
      "D5\n",
      "8( 8( 8( 8( 8( 8( 8( 8( 8( 8( \n",
      "22\n",
      "8( 8( 8( 8( 8( 8( 8( 8( 8( 8( \n",
      "nan\n",
      "8( 8( 8( 8( 8( 8( 8( 8( 8( 8( \n",
      "D5\n",
      "8( 8( 8( 8( 8( 8( 8( 8( 8( 8( \n",
      "4\n",
      "8( 8( 8( 8( 8( 8( 8( 8( 8( 8( \n",
      "D5\n",
      "8( 8( 8( 8( 8( 8( 8( 8( 8( 8( \n",
      "D5\n",
      "8( 8( 8( 8( 8( 8( 8( 8( 8( 8( \n",
      "nan\n",
      "8( 8( 8( 8( 8( 8( 8( 8( 8( 8( \n",
      "CO WESTMEATH\n",
      "8( 8( 8( 8( 8( 8( 8( 8( 8( 8( \n",
      "CO. KILKENNY\n",
      "8( 8( 8( 8( 8( 8( 8( 8( 8( 8( \n",
      "17\n",
      "8( 8( 8( 8( 8( 8( 8( 8( 8( 8( \n",
      "17\n",
      "8( 8( 8( 8( 8( 8( 8( 8( 8( 8( \n",
      "4\n",
      "8( 8( 8( 8( 8( 8( 8( 8( 8( 8( \n",
      "CO. WICKLOW\n",
      "8( 8( 8( 8( 8( 8( 8( 8( 8( 8( \n",
      "1\n",
      "8( 8( 8( 8( 8( 8( 8( 8( 8( 8( \n",
      "17\n",
      "8( 8( 8( 8( 8( 8( 8( 8( 8( 8( \n",
      "1\n",
      "8( 8( 8( 8( 8( 8( 8( 8( 8( 8( \n",
      "1\n",
      "8( 8( 8( 8( 8( 8( 8( 8( 8( 8( \n",
      "17\n",
      "8( 8( 8( 8( 8( 8( 8( 8( 8( 8( \n",
      "CO. ROSCOMMON\n",
      "8( 8( 8( 8( 8( 8( 8( 8( 8( 8( \n",
      "17\n",
      "8( 8( 8( 8( 8( 8( 8( 8( 8( 8( \n",
      "CO. ROSCOMMON\n",
      "8( 8( 8( 8( 8( 8( 8( 8( 8( 8( \n",
      "D5\n",
      "8( 8( 8( 8( 8( 8( 8( 8( 8( 8( \n",
      "1\n",
      "8( 8( 8( 8( 8( 8( 8( 8( 8( 8( \n",
      "nan\n",
      "8( 8( 8( 8( 8( 8( 8( 8( 8( 8( \n",
      "1\n",
      "8( 8( 8( 8( 8( 8( 8( 8( 8( 8( \n",
      "1\n",
      "8( 8( 8( 8( 8( 8( 8( 8( 8( 8( \n",
      "CO WESTMEATH\n",
      "(7695, 28)\n"
     ]
    }
   ],
   "source": [
    "print(sale_data.shape)\n",
    "sale_data = eircode_homogenize(sale_data)\n",
    "print(sale_data.shape)"
   ]
  },
  {
   "cell_type": "code",
   "execution_count": 15,
   "id": "462b0877-b336-468c-9bf5-5a37d3b97cb0",
   "metadata": {},
   "outputs": [],
   "source": [
    "import requests\n",
    "import lxml.html as lh\n",
    "\n",
    "def geonames_dict():\n",
    "    \n",
    "    url = 'http://www.geonames.org/postalcode-search.html?q=&country=IE'\n",
    "    page = requests.get(url)\n",
    "    doc = lh.fromstring(page.content) \n",
    "    tr_elements = doc.xpath('//tr')\n",
    "    \n",
    "    #Create empty dict\n",
    "    col = {}\n",
    "    #For each row, store each first element (header) and an empty list\n",
    "    for i, t in enumerate(tr_elements[2]):\n",
    "        key = t.text_content().lower()\n",
    "        #print('%d: \"%s\"'%(i,name))\n",
    "        col[key] = [] \n",
    "    col['place_coordinates'] = []\n",
    "\n",
    "    # Fill dict\n",
    "    #print(tr_elements[-1].text_content())\n",
    "    for tr in tr_elements[3:]:\n",
    "        \n",
    "        if len(tr) == 7:\n",
    "   \n",
    "            for key, td in zip(col, tr):\n",
    "                td = td.text_content()\n",
    "                #print(td)\n",
    "                col[key].append(td)\n",
    "        elif len(tr) == 2:\n",
    "        \n",
    "            td = tr[-1].text_content()\n",
    "            #print(td)\n",
    "            col['place_coordinates'].append(td)\n",
    "            \n",
    "    del col['']\n",
    "    del col['country']\n",
    "    del col['admin2']\n",
    "    del col['admin3']\n",
    "\n",
    "    return col"
   ]
  },
  {
   "cell_type": "code",
   "execution_count": 16,
   "id": "0629a68c-02a1-4411-9ef2-3f4f90c0dd4a",
   "metadata": {},
   "outputs": [
    {
     "data": {
      "text/html": [
       "<div>\n",
       "<style scoped>\n",
       "    .dataframe tbody tr th:only-of-type {\n",
       "        vertical-align: middle;\n",
       "    }\n",
       "\n",
       "    .dataframe tbody tr th {\n",
       "        vertical-align: top;\n",
       "    }\n",
       "\n",
       "    .dataframe thead th {\n",
       "        text-align: right;\n",
       "    }\n",
       "</style>\n",
       "<table border=\"1\" class=\"dataframe\">\n",
       "  <thead>\n",
       "    <tr style=\"text-align: right;\">\n",
       "      <th></th>\n",
       "      <th>place</th>\n",
       "      <th>code</th>\n",
       "      <th>admin1</th>\n",
       "      <th>place_coordinates</th>\n",
       "    </tr>\n",
       "  </thead>\n",
       "  <tbody>\n",
       "    <tr>\n",
       "      <th>0</th>\n",
       "      <td>Ballyboughal</td>\n",
       "      <td>A41</td>\n",
       "      <td>Leinster</td>\n",
       "      <td>53.52/-6.267</td>\n",
       "    </tr>\n",
       "    <tr>\n",
       "      <th>1</th>\n",
       "      <td>Garristown</td>\n",
       "      <td>A42</td>\n",
       "      <td>Leinster</td>\n",
       "      <td>53.566/-6.386</td>\n",
       "    </tr>\n",
       "    <tr>\n",
       "      <th>2</th>\n",
       "      <td>Oldtown</td>\n",
       "      <td>A45</td>\n",
       "      <td>Leinster</td>\n",
       "      <td>53.525/-6.316</td>\n",
       "    </tr>\n",
       "  </tbody>\n",
       "</table>\n",
       "</div>"
      ],
      "text/plain": [
       "          place code    admin1 place_coordinates\n",
       "0  Ballyboughal  A41  Leinster      53.52/-6.267\n",
       "1    Garristown  A42  Leinster     53.566/-6.386\n",
       "2       Oldtown  A45  Leinster     53.525/-6.316"
      ]
     },
     "execution_count": 16,
     "metadata": {},
     "output_type": "execute_result"
    }
   ],
   "source": [
    "geonames_dict = geonames_dict()  # solo se puede ejecutar una vez\n",
    "geonames_df = pd.DataFrame(geonames_dict)\n",
    "geonames_df.head(3)"
   ]
  },
  {
   "cell_type": "code",
   "execution_count": 17,
   "id": "fbe2611d-be53-45fd-8860-1e4716114cae",
   "metadata": {},
   "outputs": [
    {
     "name": "stdout",
     "output_type": "stream",
     "text": [
      "(7695, 28)\n",
      "(7695, 32)\n"
     ]
    }
   ],
   "source": [
    "print(sale_data.shape)\n",
    "add_location(sale_data)\n",
    "print(sale_data.shape)"
   ]
  },
  {
   "cell_type": "code",
   "execution_count": 20,
   "id": "bac689ee-ed94-43e0-997a-3f919cd3cb90",
   "metadata": {},
   "outputs": [
    {
     "data": {
      "text/plain": [
       "daft_id               0.000000\n",
       "url                   0.000000\n",
       "name                  0.000000\n",
       "price                 0.000000\n",
       "sale_type             0.000000\n",
       "floor_area            0.000000\n",
       "entered_renewed       0.000000\n",
       "views                 0.000000\n",
       "type_house            0.000000\n",
       "type                  0.000000\n",
       "scraping_date         0.000000\n",
       "latitude              0.000000\n",
       "longitude             0.000000\n",
       "bedroom               0.000000\n",
       "bathroom              0.000000\n",
       "country_code          0.000000\n",
       "country               0.000000\n",
       "postcode             16.920078\n",
       "state_district        4.821313\n",
       "county                9.109812\n",
       "municipality         83.235867\n",
       "city                 73.437297\n",
       "town                 85.237167\n",
       "city_district         4.938272\n",
       "locality             99.935023\n",
       "suburb               76.855101\n",
       "road                 26.029890\n",
       "house_number         80.909682\n",
       "place                17.868746\n",
       "code                 17.868746\n",
       "admin1               17.868746\n",
       "place_coordinates    17.868746\n",
       "dtype: float64"
      ]
     },
     "execution_count": 20,
     "metadata": {},
     "output_type": "execute_result"
    }
   ],
   "source": [
    "sale_data.isna().sum() / sale_data.shape[0] *100"
   ]
  },
  {
   "cell_type": "code",
   "execution_count": 21,
   "id": "2ecb14af-63f0-42fe-b8eb-83dd696a9eb2",
   "metadata": {},
   "outputs": [],
   "source": [
    "sale_data.to_csv('data_available/sale_data_geosp_improved.csv', sep=',', index=False)"
   ]
  },
  {
   "cell_type": "code",
   "execution_count": null,
   "id": "ccabd16e-8ff0-4aa4-9744-d62d10caffe3",
   "metadata": {},
   "outputs": [],
   "source": []
  },
  {
   "cell_type": "code",
   "execution_count": null,
   "id": "11c13bd7-3c33-4b45-9141-0689de8c28a5",
   "metadata": {},
   "outputs": [],
   "source": []
  },
  {
   "cell_type": "code",
   "execution_count": null,
   "id": "a1291130-bae0-4237-bced-4d9bfa6afffb",
   "metadata": {},
   "outputs": [],
   "source": []
  },
  {
   "cell_type": "markdown",
   "id": "43f487f3-4506-46a6-9793-eaf6f6622fd3",
   "metadata": {
    "tags": []
   },
   "source": [
    "### Assing Coordinates to Different Clusters"
   ]
  },
  {
   "cell_type": "code",
   "execution_count": null,
   "id": "49b1b9f1-b8d4-4ff0-92ee-3e30d19dcf31",
   "metadata": {},
   "outputs": [],
   "source": [
    "from sklearn.cluster import KMeans\n",
    "\n",
    "def cluster(data):\n",
    "    '''\n",
    "    input: dataframe containing Latitude(x) and Longitude(y) coordinates\n",
    "    output: series of cluster labels that each row of coordinates belongs to.\n",
    "    '''\n",
    "    model = KMeans(n_clusters=50)\n",
    "    labels = model.fit_predict(data)\n",
    "    return labels"
   ]
  },
  {
   "cell_type": "code",
   "execution_count": null,
   "id": "0e56a7f8-86bf-4247-9f2d-54dade68df4f",
   "metadata": {},
   "outputs": [],
   "source": []
  },
  {
   "cell_type": "markdown",
   "id": "b72befc5-bc3c-45b2-a92c-d7223110877d",
   "metadata": {},
   "source": [
    "#### Visualization"
   ]
  },
  {
   "cell_type": "code",
   "execution_count": null,
   "id": "041b499e-01ed-439d-a059-653e191589b5",
   "metadata": {},
   "outputs": [],
   "source": [
    "import matplotlib.pyplot as plt\n",
    "def visualize(data):\n",
    "    '''\n",
    "    input: dataframe containing Latitude(x) and Longitude(y)\n",
    "    '''\n",
    "    plt.scatter(data['longitude'], data['latitude'], color='blue', s=1, alpha=0.1)\n",
    "    #data[['longitude','latitude']].scatter(color='blue', s=1, alpha=0.1)\n",
    "    plt.title('Visualization of Latitude and Longitude')\n",
    "    plt.ylabel('latitude')\n",
    "    plt.xlabel('longitude')\n",
    "    #plt.ylim([53.350, 53.325])\n",
    "    #plt.xlim([-6.24, -6.23])\n",
    "    plt.show()"
   ]
  },
  {
   "cell_type": "code",
   "execution_count": null,
   "id": "3e16e1b4-c47e-436e-9508-9145e69fcb42",
   "metadata": {},
   "outputs": [],
   "source": [
    "visualize(sale_data)"
   ]
  },
  {
   "cell_type": "code",
   "execution_count": null,
   "id": "d205fbab-c837-40ff-ba34-555eb8a6a896",
   "metadata": {},
   "outputs": [],
   "source": []
  },
  {
   "cell_type": "code",
   "execution_count": null,
   "id": "ac33ffc8-5090-4139-8f62-2c0eafac15de",
   "metadata": {},
   "outputs": [],
   "source": []
  },
  {
   "cell_type": "code",
   "execution_count": null,
   "id": "a1adbe20-8a34-4384-86d9-d84c3ae2841e",
   "metadata": {},
   "outputs": [],
   "source": []
  },
  {
   "cell_type": "code",
   "execution_count": null,
   "id": "1655181b-f92a-4001-92f1-351fe2476b84",
   "metadata": {},
   "outputs": [],
   "source": []
  },
  {
   "cell_type": "code",
   "execution_count": null,
   "id": "82e9b430-32f1-4790-ac8c-dbb9f4c8d971",
   "metadata": {},
   "outputs": [],
   "source": []
  },
  {
   "cell_type": "code",
   "execution_count": null,
   "id": "4a28156f-c328-49c0-9f6c-c63454a04d29",
   "metadata": {},
   "outputs": [],
   "source": []
  },
  {
   "cell_type": "code",
   "execution_count": null,
   "id": "1e6accc5-0d28-4260-ad6a-495d63208023",
   "metadata": {},
   "outputs": [],
   "source": []
  },
  {
   "cell_type": "markdown",
   "id": "2c471dfa-81f6-445b-949b-72411b323987",
   "metadata": {
    "tags": []
   },
   "source": [
    "### Reverse-Geocode"
   ]
  },
  {
   "cell_type": "code",
   "execution_count": null,
   "id": "b45143f0-d6be-4369-8dfd-ed3c5d7a13f7",
   "metadata": {},
   "outputs": [],
   "source": [
    "import reverse_geocode"
   ]
  },
  {
   "cell_type": "code",
   "execution_count": null,
   "id": "45a8cfdc-5f61-4ab2-8717-5ee485b4693c",
   "metadata": {},
   "outputs": [],
   "source": [
    "coordinates = (54.276114, -8.506455), (54.276114, -8.506455)\n",
    "reverse_geocode.search(coordinates)"
   ]
  },
  {
   "cell_type": "markdown",
   "id": "b3204582-2f1b-4b36-96b2-2a2a0bfdcf49",
   "metadata": {},
   "source": [
    "### Polar Coordinates"
   ]
  },
  {
   "cell_type": "code",
   "execution_count": null,
   "id": "b9062909-fd45-4e8d-950b-74839abc7342",
   "metadata": {},
   "outputs": [],
   "source": [
    "# Converting Cartesian Coordinate to Polar Coordinate\n",
    "# Importing math library\n",
    "import math\n",
    "\n",
    "# Reading cartesian coordinate\n",
    "x = sale_data['latitude']\n",
    "y = sale_data['longitude']\n",
    "\n",
    "# Converting cartesian to polar coordinate\n",
    "# Calculating radius\n",
    "#radius = math.sqrt( x * x + y * y )\n",
    "radius = ((x * x) + (y * y)) ** (1 / 2)\n",
    "# Calculating angle (theta) in radian\n",
    "theta = np.arctan(y / x)\n",
    "# Converting theta from radian to degree\n",
    "theta = 180 * theta / math.pi\n",
    "\n",
    "# Displaying polar coordinates\n",
    "#print('Polar coordinate is: (radius = %0.2f,theta = %0.2f)' %(radius, theta))"
   ]
  },
  {
   "cell_type": "code",
   "execution_count": null,
   "id": "67255e13-3328-41a4-9d2e-c9584f8a4875",
   "metadata": {},
   "outputs": [],
   "source": [
    "plt.scatter(theta, radius, color='red', s=1);#alpha=0.1"
   ]
  },
  {
   "cell_type": "markdown",
   "id": "99e34b56-d4a8-4980-949a-b626967c440e",
   "metadata": {},
   "source": [
    "### Rotational Cartesian Coordinates"
   ]
  },
  {
   "cell_type": "code",
   "execution_count": null,
   "id": "376212f4-df47-4ba6-a335-dfdc5fd7d55a",
   "metadata": {},
   "outputs": [],
   "source": [
    "def rotation(df):\n",
    "    rot_45_x = (0.707 * df['latitude']) + (0.707 * df['longitude'])\n",
    "    rot_45_y = (0.707 * df['longitude']) + (0.707 * df['latitude'])\n",
    "    rot_30_x = (0.866 * df['latitude']) + (0.5 * df['longitude'])\n",
    "    rot_30_y = (0.866 * df['longitude']) + (0.5 * df['latitude'])\n",
    "    return rot_45_x, rot_45_y, rot_30_x, rot_30_y"
   ]
  },
  {
   "cell_type": "code",
   "execution_count": null,
   "id": "d9a3f288-3f65-4c2d-959f-9c61b92e2981",
   "metadata": {},
   "outputs": [],
   "source": [
    "rot_45_x, rot_45_y, rot_30_x, rot_30_y = rotation(sale_data)"
   ]
  },
  {
   "cell_type": "code",
   "execution_count": null,
   "id": "b78daf1a-0ec2-43c4-b264-11ddcce6c3fc",
   "metadata": {},
   "outputs": [],
   "source": [
    "plt.scatter(rot_45_x, rot_45_y);"
   ]
  },
  {
   "cell_type": "code",
   "execution_count": null,
   "id": "edf50703-1c8f-4625-80fa-d48e1d906985",
   "metadata": {},
   "outputs": [],
   "source": [
    "plt.scatter(rot_30_x, rot_30_y);"
   ]
  },
  {
   "cell_type": "markdown",
   "id": "40e3aeaa-80cd-44bd-a315-b5345e005f32",
   "metadata": {},
   "source": [
    "### Haversine Distance"
   ]
  },
  {
   "cell_type": "code",
   "execution_count": null,
   "id": "79354535-a0b6-40f9-8507-bc6cd04b5890",
   "metadata": {},
   "outputs": [],
   "source": [
    "def haversine_dist(lat1,lng1,lat2,lng2):\n",
    "    lat1, lng1, lat2, lng2 = map(np.radians, (lat1, lng1, lat2, lng2))\n",
    "    radius = 6371  # Earth's radius taken from google\n",
    "    lat = lat2 - lat1\n",
    "    lng = lng2 - lng1\n",
    "    d = np.sin(lat/2) ** 2 + np.cos(lat1) * np.cos(lat2) * np.sin(lng/2) ** 2\n",
    "    h = 2 * radius * np.arcsin(np.sqrt(d))\n",
    "    return h"
   ]
  },
  {
   "cell_type": "code",
   "execution_count": null,
   "id": "2af76c9b-b22b-40df-bfe6-3d168566655c",
   "metadata": {},
   "outputs": [],
   "source": []
  },
  {
   "cell_type": "markdown",
   "id": "ea9c9278-8f69-4fb0-b0d8-e7de058a2aea",
   "metadata": {},
   "source": [
    "### Manhattan Distance"
   ]
  },
  {
   "cell_type": "code",
   "execution_count": null,
   "id": "76a08f25-f32b-445f-abba-f271b38b2355",
   "metadata": {},
   "outputs": [],
   "source": [
    "def manhattan_dist(lat1, lng1, lat2, lng2):\n",
    "    '''\n",
    "    calculating two haversine distances by,\n",
    "     - avoiding Latitude of one point \n",
    "     - avoiding Longitude of one point\n",
    "    and adding it together.\n",
    "    '''\n",
    "    a = haversine_dist(lat1, lng1, lat1, lng2)\n",
    "    b = haversine_dist(lat1, lng1, lat2, lng1)\n",
    "    return a + b"
   ]
  },
  {
   "cell_type": "markdown",
   "id": "d2a03244-2f86-4b48-a9c8-45575cc32390",
   "metadata": {},
   "source": [
    "### Bearing Degree"
   ]
  },
  {
   "cell_type": "code",
   "execution_count": null,
   "id": "6c96899a-04e0-47bd-94c2-3048542ba95c",
   "metadata": {},
   "outputs": [],
   "source": [
    "def bearing_degree(lat1, lng1, lat2, lng2):\n",
    "    '''\n",
    "    calculate angle between two points\n",
    "    '''\n",
    "    radius = 6371  # Mean radius of Earth\n",
    "    diff_lng = np.radians(lng2 - lng1)\n",
    "    lat1, lng1, lat2, lng2 = map(np.radians, (lat1, lng1, lat2, lng2))\n",
    "    y = np.sin(diff_lng) * np.cos(lat2)\n",
    "    x = np.cos(lat1) * np.sin(lat2) - np.sin(lat1) * np.cos(lat2) * np.cos(diff_lng)\n",
    "    return np.degrees(np.arctan2(y, x))"
   ]
  },
  {
   "cell_type": "code",
   "execution_count": null,
   "id": "01247aef-cf67-4740-aaa3-92432aa6fa5a",
   "metadata": {},
   "outputs": [],
   "source": []
  },
  {
   "cell_type": "markdown",
   "id": "a214e756-88a0-459e-a1d1-cfc42f9dcfbd",
   "metadata": {},
   "source": [
    "### Rotational Coordinates using PCA"
   ]
  },
  {
   "cell_type": "markdown",
   "id": "90699dd0-d54f-406d-a836-405872c77020",
   "metadata": {},
   "source": [
    "Here, the idea is only to rotate them which would help decision tree splits in typical tree-based models."
   ]
  },
  {
   "cell_type": "code",
   "execution_count": null,
   "id": "7b6cc4ec-a42f-4a43-907f-4e6d3236afaa",
   "metadata": {},
   "outputs": [],
   "source": [
    "from sklearn.decomposition import PCA\n",
    "def pca(data):\n",
    "    '''\n",
    "    input: dataframe containing Latitude(x) and Longitude(y)\n",
    "    '''\n",
    "    coordinates = data[['x','y']].values\n",
    "    pca_obj = PCA().fit(coordinates)\n",
    "    pca_x = pca_obj.transform(data[['x', 'y']])[:,0]\n",
    "    pca_y = pca_obj.transform(data[['x', 'y']])[:,1]\n",
    "    return pca_x, pca_y"
   ]
  },
  {
   "cell_type": "code",
   "execution_count": null,
   "id": "1d9eb4ce-e7fc-4730-9b02-5be5f1539801",
   "metadata": {},
   "outputs": [],
   "source": []
  }
 ],
 "metadata": {
  "kernelspec": {
   "display_name": "Python 3 (ipykernel)",
   "language": "python",
   "name": "python3"
  },
  "language_info": {
   "codemirror_mode": {
    "name": "ipython",
    "version": 3
   },
   "file_extension": ".py",
   "mimetype": "text/x-python",
   "name": "python",
   "nbconvert_exporter": "python",
   "pygments_lexer": "ipython3",
   "version": "3.7.11"
  }
 },
 "nbformat": 4,
 "nbformat_minor": 5
}
