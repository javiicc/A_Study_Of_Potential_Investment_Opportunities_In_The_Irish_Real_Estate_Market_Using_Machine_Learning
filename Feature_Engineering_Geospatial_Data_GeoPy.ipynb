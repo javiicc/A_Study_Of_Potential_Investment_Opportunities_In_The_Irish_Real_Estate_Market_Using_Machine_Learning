{
 "cells": [
  {
   "cell_type": "markdown",
   "id": "f02d2142-a7e3-46d5-bdf2-e63e2d6969d2",
   "metadata": {},
   "source": [
    "# Goal"
   ]
  },
  {
   "cell_type": "markdown",
   "id": "d63523e5-4e4e-4388-be31-78152569c134",
   "metadata": {
    "jp-MarkdownHeadingCollapsed": true,
    "tags": []
   },
   "source": [
    "In this notebook we are going to use the GeoPy API in order to obtain more useful location related information from the coordinates. This technique is called \"Reverse Geocoding\"."
   ]
  },
  {
   "cell_type": "markdown",
   "id": "23c18132-0057-4356-861c-bdcc61b583b8",
   "metadata": {
    "tags": []
   },
   "source": [
    "# Import Libraries and Set Options"
   ]
  },
  {
   "cell_type": "code",
   "execution_count": 1,
   "id": "f8f37eac-b693-47b8-aa47-2f1310654d1d",
   "metadata": {},
   "outputs": [],
   "source": [
    "import numpy as np\n",
    "import pandas as pd\n",
    "import matplotlib.pyplot as plt\n",
    "\n",
    "from daftpy.daftfeanalysis import (location_dict, location_dataframe, location_engineering, \n",
    "                                   geonames_dict)\n",
    "\n",
    "from daftpy.daftfeanalysis import missing_values, eircode_homogenize, add_location"
   ]
  },
  {
   "cell_type": "code",
   "execution_count": 2,
   "id": "b025ec19-c389-4aa0-877a-fa4156180a78",
   "metadata": {},
   "outputs": [],
   "source": [
    "pd.set_option('display.max_rows', None)\n",
    "pd.set_option('display.max_columns', None)\n",
    "plt.style.use('seaborn')"
   ]
  },
  {
   "cell_type": "markdown",
   "id": "79d2c822-f121-49ee-838c-893a8a094c84",
   "metadata": {
    "tags": []
   },
   "source": [
    "# Load Data"
   ]
  },
  {
   "cell_type": "code",
   "execution_count": 3,
   "id": "912d0d11-c163-4185-94ac-2a7748cac027",
   "metadata": {},
   "outputs": [
    {
     "data": {
      "text/plain": [
       "(7662, 19)"
      ]
     },
     "execution_count": 3,
     "metadata": {},
     "output_type": "execute_result"
    }
   ],
   "source": [
    "sale = pd.read_csv('data_available/sale_cleaned.csv', sep=',', parse_dates=['entered_renewed', 'scraping_date'])\n",
    "sale.shape"
   ]
  },
  {
   "cell_type": "code",
   "execution_count": 4,
   "id": "88da4bef-1760-4f63-88d7-5927c353450f",
   "metadata": {},
   "outputs": [
    {
     "name": "stdout",
     "output_type": "stream",
     "text": [
      "<class 'pandas.core.frame.DataFrame'>\n",
      "RangeIndex: 7662 entries, 0 to 7661\n",
      "Data columns (total 19 columns):\n",
      " #   Column           Non-Null Count  Dtype         \n",
      "---  ------           --------------  -----         \n",
      " 0   daft_id          7662 non-null   int64         \n",
      " 1   url              7662 non-null   object        \n",
      " 2   name             7662 non-null   object        \n",
      " 3   price            7662 non-null   float64       \n",
      " 4   sale_type        7662 non-null   object        \n",
      " 5   floor_area       7662 non-null   int64         \n",
      " 6   psr              7646 non-null   float64       \n",
      " 7   ber              7467 non-null   object        \n",
      " 8   entered_renewed  7662 non-null   datetime64[ns]\n",
      " 9   views            7662 non-null   float64       \n",
      " 10  type_house       7175 non-null   object        \n",
      " 11  type             7662 non-null   object        \n",
      " 12  scraping_date    7662 non-null   datetime64[ns]\n",
      " 13  description      7661 non-null   object        \n",
      " 14  latitude         7662 non-null   float64       \n",
      " 15  longitude        7662 non-null   float64       \n",
      " 16  bedroom          7662 non-null   int64         \n",
      " 17  bathroom         7662 non-null   int64         \n",
      " 18  plus_info        7662 non-null   object        \n",
      "dtypes: datetime64[ns](2), float64(5), int64(4), object(8)\n",
      "memory usage: 1.1+ MB\n"
     ]
    }
   ],
   "source": [
    "sale.info()"
   ]
  },
  {
   "cell_type": "markdown",
   "id": "cbb8fd6d-4007-48d2-8249-4346e302bdd1",
   "metadata": {
    "tags": []
   },
   "source": [
    "# Check Missing Values"
   ]
  },
  {
   "cell_type": "code",
   "execution_count": 5,
   "id": "23385f86-d57c-4492-9c03-f8ac76e04227",
   "metadata": {},
   "outputs": [
    {
     "data": {
      "text/html": [
       "<div>\n",
       "<style scoped>\n",
       "    .dataframe tbody tr th:only-of-type {\n",
       "        vertical-align: middle;\n",
       "    }\n",
       "\n",
       "    .dataframe tbody tr th {\n",
       "        vertical-align: top;\n",
       "    }\n",
       "\n",
       "    .dataframe thead th {\n",
       "        text-align: right;\n",
       "    }\n",
       "</style>\n",
       "<table border=\"1\" class=\"dataframe\">\n",
       "  <thead>\n",
       "    <tr style=\"text-align: right;\">\n",
       "      <th></th>\n",
       "      <th>Absolute</th>\n",
       "      <th>Relative</th>\n",
       "    </tr>\n",
       "  </thead>\n",
       "  <tbody>\n",
       "    <tr>\n",
       "      <th>daft_id</th>\n",
       "      <td>0</td>\n",
       "      <td>0.000000</td>\n",
       "    </tr>\n",
       "    <tr>\n",
       "      <th>url</th>\n",
       "      <td>0</td>\n",
       "      <td>0.000000</td>\n",
       "    </tr>\n",
       "    <tr>\n",
       "      <th>name</th>\n",
       "      <td>0</td>\n",
       "      <td>0.000000</td>\n",
       "    </tr>\n",
       "    <tr>\n",
       "      <th>price</th>\n",
       "      <td>0</td>\n",
       "      <td>0.000000</td>\n",
       "    </tr>\n",
       "    <tr>\n",
       "      <th>sale_type</th>\n",
       "      <td>0</td>\n",
       "      <td>0.000000</td>\n",
       "    </tr>\n",
       "    <tr>\n",
       "      <th>floor_area</th>\n",
       "      <td>0</td>\n",
       "      <td>0.000000</td>\n",
       "    </tr>\n",
       "    <tr>\n",
       "      <th>psr</th>\n",
       "      <td>16</td>\n",
       "      <td>0.002088</td>\n",
       "    </tr>\n",
       "    <tr>\n",
       "      <th>ber</th>\n",
       "      <td>195</td>\n",
       "      <td>0.025450</td>\n",
       "    </tr>\n",
       "    <tr>\n",
       "      <th>entered_renewed</th>\n",
       "      <td>0</td>\n",
       "      <td>0.000000</td>\n",
       "    </tr>\n",
       "    <tr>\n",
       "      <th>views</th>\n",
       "      <td>0</td>\n",
       "      <td>0.000000</td>\n",
       "    </tr>\n",
       "    <tr>\n",
       "      <th>type_house</th>\n",
       "      <td>487</td>\n",
       "      <td>0.063560</td>\n",
       "    </tr>\n",
       "    <tr>\n",
       "      <th>type</th>\n",
       "      <td>0</td>\n",
       "      <td>0.000000</td>\n",
       "    </tr>\n",
       "    <tr>\n",
       "      <th>scraping_date</th>\n",
       "      <td>0</td>\n",
       "      <td>0.000000</td>\n",
       "    </tr>\n",
       "    <tr>\n",
       "      <th>description</th>\n",
       "      <td>1</td>\n",
       "      <td>0.000131</td>\n",
       "    </tr>\n",
       "    <tr>\n",
       "      <th>latitude</th>\n",
       "      <td>0</td>\n",
       "      <td>0.000000</td>\n",
       "    </tr>\n",
       "    <tr>\n",
       "      <th>longitude</th>\n",
       "      <td>0</td>\n",
       "      <td>0.000000</td>\n",
       "    </tr>\n",
       "    <tr>\n",
       "      <th>bedroom</th>\n",
       "      <td>0</td>\n",
       "      <td>0.000000</td>\n",
       "    </tr>\n",
       "    <tr>\n",
       "      <th>bathroom</th>\n",
       "      <td>0</td>\n",
       "      <td>0.000000</td>\n",
       "    </tr>\n",
       "    <tr>\n",
       "      <th>plus_info</th>\n",
       "      <td>0</td>\n",
       "      <td>0.000000</td>\n",
       "    </tr>\n",
       "  </tbody>\n",
       "</table>\n",
       "</div>"
      ],
      "text/plain": [
       "                 Absolute  Relative\n",
       "daft_id                 0  0.000000\n",
       "url                     0  0.000000\n",
       "name                    0  0.000000\n",
       "price                   0  0.000000\n",
       "sale_type               0  0.000000\n",
       "floor_area              0  0.000000\n",
       "psr                    16  0.002088\n",
       "ber                   195  0.025450\n",
       "entered_renewed         0  0.000000\n",
       "views                   0  0.000000\n",
       "type_house            487  0.063560\n",
       "type                    0  0.000000\n",
       "scraping_date           0  0.000000\n",
       "description             1  0.000131\n",
       "latitude                0  0.000000\n",
       "longitude               0  0.000000\n",
       "bedroom                 0  0.000000\n",
       "bathroom                0  0.000000\n",
       "plus_info               0  0.000000"
      ]
     },
     "execution_count": 5,
     "metadata": {},
     "output_type": "execute_result"
    }
   ],
   "source": [
    "# Check missing values in absolute and relative terms\n",
    "missing_values(sale)"
   ]
  },
  {
   "cell_type": "markdown",
   "id": "de60c86f-4869-42c8-936a-b54637adbca4",
   "metadata": {},
   "source": [
    "If you pay attention to the `ber` column you will note that now there are 195 missing values instead 192 as in the other notebook. That is because there was 3 ads which have `NA` in that column. We can understand `NA` value as a lack of information so the the `pd.read_csv` function has fixed that for us."
   ]
  },
  {
   "cell_type": "markdown",
   "id": "a9310e0d-e1d9-45e1-bbcb-7657d1592050",
   "metadata": {
    "tags": []
   },
   "source": [
    "# Reverse Geocoding"
   ]
  },
  {
   "cell_type": "markdown",
   "id": "3f4ba0a2-491e-462e-a29b-a8cfd96f55df",
   "metadata": {},
   "source": [
    "We do reverse geocoding with GeoPy and Nominatim geolocator. The `location_engineering` function uses two more functions, one to creating a dictionary with the extracted information and another one to add that dictionary to the DataFrame."
   ]
  },
  {
   "cell_type": "code",
   "execution_count": 5,
   "id": "dc8216aa-7728-441e-b929-d2c1e963862f",
   "metadata": {},
   "outputs": [
    {
     "name": "stdout",
     "output_type": "stream",
     "text": [
      "0\n",
      "200\n",
      "400\n",
      "600\n",
      "800\n",
      "1000\n",
      "1200\n",
      "1400\n",
      "1600\n",
      "1800\n",
      "2000\n",
      "2200\n",
      "2400\n",
      "2600\n",
      "2800\n",
      "3000\n",
      "3200\n",
      "3400\n",
      "3600\n",
      "3800\n",
      "4000\n",
      "4200\n",
      "4400\n",
      "4600\n",
      "4800\n",
      "5000\n",
      "5200\n",
      "5400\n",
      "5600\n",
      "5800\n",
      "6000\n",
      "6200\n",
      "6400\n",
      "6600\n",
      "6800\n",
      "7000\n",
      "7200\n",
      "7400\n",
      "7600\n",
      "Shape before adding: (7662, 19)\n",
      "Shape after adding: (7662, 32)\n",
      "----------\n",
      "Difference: 13 columns\n"
     ]
    }
   ],
   "source": [
    "sale = location_engineering(df=sale)"
   ]
  },
  {
   "cell_type": "markdown",
   "id": "15207681-6efa-41d4-b867-66ee639ff214",
   "metadata": {},
   "source": [
    "It took a long time so I decided save the resulted dataframe into a csv file."
   ]
  },
  {
   "cell_type": "code",
   "execution_count": 6,
   "id": "52059846-f0a6-4ae9-a843-d19b9284c1af",
   "metadata": {},
   "outputs": [],
   "source": [
    "sale.to_csv('data_available/sale_post_reverse_geocoding.csv', \n",
    "            sep=',', index=False)"
   ]
  },
  {
   "cell_type": "markdown",
   "id": "ab760ed6-ab59-4a04-9da0-6729fcb43d70",
   "metadata": {},
   "source": [
    "--------------"
   ]
  },
  {
   "cell_type": "markdown",
   "id": "60ad9a4b-737e-48eb-8ed9-91597c3a0dfc",
   "metadata": {
    "tags": []
   },
   "source": [
    "# Load Post Reverse Geocoding Data"
   ]
  },
  {
   "cell_type": "code",
   "execution_count": 3,
   "id": "393c40be-80d5-4e5a-896b-9105cbe3fd35",
   "metadata": {},
   "outputs": [
    {
     "data": {
      "text/plain": [
       "(7662, 32)"
      ]
     },
     "execution_count": 3,
     "metadata": {},
     "output_type": "execute_result"
    }
   ],
   "source": [
    "sale = pd.read_csv('data_available/sale_post_reverse_geocoding.csv', sep=',')\n",
    "sale.shape"
   ]
  },
  {
   "cell_type": "code",
   "execution_count": 4,
   "id": "d1258b64-70af-4b72-85b7-c47c835f3304",
   "metadata": {},
   "outputs": [
    {
     "name": "stdout",
     "output_type": "stream",
     "text": [
      "<class 'pandas.core.frame.DataFrame'>\n",
      "RangeIndex: 7662 entries, 0 to 7661\n",
      "Data columns (total 32 columns):\n",
      " #   Column           Non-Null Count  Dtype  \n",
      "---  ------           --------------  -----  \n",
      " 0   daft_id          7662 non-null   int64  \n",
      " 1   url              7662 non-null   object \n",
      " 2   name             7662 non-null   object \n",
      " 3   price            7662 non-null   float64\n",
      " 4   sale_type        7662 non-null   object \n",
      " 5   floor_area       7662 non-null   int64  \n",
      " 6   psr              7646 non-null   float64\n",
      " 7   ber              7467 non-null   object \n",
      " 8   entered_renewed  7662 non-null   object \n",
      " 9   views            7662 non-null   float64\n",
      " 10  type_house       7175 non-null   object \n",
      " 11  type             7662 non-null   object \n",
      " 12  scraping_date    7662 non-null   object \n",
      " 13  description      7661 non-null   object \n",
      " 14  latitude         7662 non-null   float64\n",
      " 15  longitude        7662 non-null   float64\n",
      " 16  bedroom          7662 non-null   int64  \n",
      " 17  bathroom         7662 non-null   int64  \n",
      " 18  plus_info        7662 non-null   object \n",
      " 19  country_code     7662 non-null   object \n",
      " 20  country          7662 non-null   object \n",
      " 21  postcode         6454 non-null   object \n",
      " 22  state_district   7267 non-null   object \n",
      " 23  county           6967 non-null   object \n",
      " 24  municipality     1271 non-null   object \n",
      " 25  city             2016 non-null   object \n",
      " 26  town             1141 non-null   object \n",
      " 27  city_district    7294 non-null   object \n",
      " 28  locality         6 non-null      object \n",
      " 29  suburb           1754 non-null   object \n",
      " 30  road             5727 non-null   object \n",
      " 31  house_number     1404 non-null   object \n",
      "dtypes: float64(5), int64(4), object(23)\n",
      "memory usage: 1.9+ MB\n"
     ]
    }
   ],
   "source": [
    "sale.info()"
   ]
  },
  {
   "cell_type": "markdown",
   "id": "1657cc1e-5c22-4c77-b297-23957e083f4d",
   "metadata": {
    "tags": []
   },
   "source": [
    "# Check Missing Values"
   ]
  },
  {
   "cell_type": "code",
   "execution_count": 5,
   "id": "7f8bdbcd-a1ec-4845-9228-0c164a9c350d",
   "metadata": {},
   "outputs": [
    {
     "data": {
      "text/html": [
       "<div>\n",
       "<style scoped>\n",
       "    .dataframe tbody tr th:only-of-type {\n",
       "        vertical-align: middle;\n",
       "    }\n",
       "\n",
       "    .dataframe tbody tr th {\n",
       "        vertical-align: top;\n",
       "    }\n",
       "\n",
       "    .dataframe thead th {\n",
       "        text-align: right;\n",
       "    }\n",
       "</style>\n",
       "<table border=\"1\" class=\"dataframe\">\n",
       "  <thead>\n",
       "    <tr style=\"text-align: right;\">\n",
       "      <th></th>\n",
       "      <th>Absolute</th>\n",
       "      <th>Relative</th>\n",
       "    </tr>\n",
       "  </thead>\n",
       "  <tbody>\n",
       "    <tr>\n",
       "      <th>daft_id</th>\n",
       "      <td>0</td>\n",
       "      <td>0.000000</td>\n",
       "    </tr>\n",
       "    <tr>\n",
       "      <th>url</th>\n",
       "      <td>0</td>\n",
       "      <td>0.000000</td>\n",
       "    </tr>\n",
       "    <tr>\n",
       "      <th>name</th>\n",
       "      <td>0</td>\n",
       "      <td>0.000000</td>\n",
       "    </tr>\n",
       "    <tr>\n",
       "      <th>price</th>\n",
       "      <td>0</td>\n",
       "      <td>0.000000</td>\n",
       "    </tr>\n",
       "    <tr>\n",
       "      <th>sale_type</th>\n",
       "      <td>0</td>\n",
       "      <td>0.000000</td>\n",
       "    </tr>\n",
       "    <tr>\n",
       "      <th>floor_area</th>\n",
       "      <td>0</td>\n",
       "      <td>0.000000</td>\n",
       "    </tr>\n",
       "    <tr>\n",
       "      <th>psr</th>\n",
       "      <td>16</td>\n",
       "      <td>0.002088</td>\n",
       "    </tr>\n",
       "    <tr>\n",
       "      <th>ber</th>\n",
       "      <td>195</td>\n",
       "      <td>0.025450</td>\n",
       "    </tr>\n",
       "    <tr>\n",
       "      <th>entered_renewed</th>\n",
       "      <td>0</td>\n",
       "      <td>0.000000</td>\n",
       "    </tr>\n",
       "    <tr>\n",
       "      <th>views</th>\n",
       "      <td>0</td>\n",
       "      <td>0.000000</td>\n",
       "    </tr>\n",
       "    <tr>\n",
       "      <th>type_house</th>\n",
       "      <td>487</td>\n",
       "      <td>0.063560</td>\n",
       "    </tr>\n",
       "    <tr>\n",
       "      <th>type</th>\n",
       "      <td>0</td>\n",
       "      <td>0.000000</td>\n",
       "    </tr>\n",
       "    <tr>\n",
       "      <th>scraping_date</th>\n",
       "      <td>0</td>\n",
       "      <td>0.000000</td>\n",
       "    </tr>\n",
       "    <tr>\n",
       "      <th>description</th>\n",
       "      <td>1</td>\n",
       "      <td>0.000131</td>\n",
       "    </tr>\n",
       "    <tr>\n",
       "      <th>latitude</th>\n",
       "      <td>0</td>\n",
       "      <td>0.000000</td>\n",
       "    </tr>\n",
       "    <tr>\n",
       "      <th>longitude</th>\n",
       "      <td>0</td>\n",
       "      <td>0.000000</td>\n",
       "    </tr>\n",
       "    <tr>\n",
       "      <th>bedroom</th>\n",
       "      <td>0</td>\n",
       "      <td>0.000000</td>\n",
       "    </tr>\n",
       "    <tr>\n",
       "      <th>bathroom</th>\n",
       "      <td>0</td>\n",
       "      <td>0.000000</td>\n",
       "    </tr>\n",
       "    <tr>\n",
       "      <th>plus_info</th>\n",
       "      <td>0</td>\n",
       "      <td>0.000000</td>\n",
       "    </tr>\n",
       "    <tr>\n",
       "      <th>country_code</th>\n",
       "      <td>0</td>\n",
       "      <td>0.000000</td>\n",
       "    </tr>\n",
       "    <tr>\n",
       "      <th>country</th>\n",
       "      <td>0</td>\n",
       "      <td>0.000000</td>\n",
       "    </tr>\n",
       "    <tr>\n",
       "      <th>postcode</th>\n",
       "      <td>1208</td>\n",
       "      <td>0.157661</td>\n",
       "    </tr>\n",
       "    <tr>\n",
       "      <th>state_district</th>\n",
       "      <td>395</td>\n",
       "      <td>0.051553</td>\n",
       "    </tr>\n",
       "    <tr>\n",
       "      <th>county</th>\n",
       "      <td>695</td>\n",
       "      <td>0.090707</td>\n",
       "    </tr>\n",
       "    <tr>\n",
       "      <th>municipality</th>\n",
       "      <td>6391</td>\n",
       "      <td>0.834116</td>\n",
       "    </tr>\n",
       "    <tr>\n",
       "      <th>city</th>\n",
       "      <td>5646</td>\n",
       "      <td>0.736883</td>\n",
       "    </tr>\n",
       "    <tr>\n",
       "      <th>town</th>\n",
       "      <td>6521</td>\n",
       "      <td>0.851083</td>\n",
       "    </tr>\n",
       "    <tr>\n",
       "      <th>city_district</th>\n",
       "      <td>368</td>\n",
       "      <td>0.048029</td>\n",
       "    </tr>\n",
       "    <tr>\n",
       "      <th>locality</th>\n",
       "      <td>7656</td>\n",
       "      <td>0.999217</td>\n",
       "    </tr>\n",
       "    <tr>\n",
       "      <th>suburb</th>\n",
       "      <td>5908</td>\n",
       "      <td>0.771078</td>\n",
       "    </tr>\n",
       "    <tr>\n",
       "      <th>road</th>\n",
       "      <td>1935</td>\n",
       "      <td>0.252545</td>\n",
       "    </tr>\n",
       "    <tr>\n",
       "      <th>house_number</th>\n",
       "      <td>6258</td>\n",
       "      <td>0.816758</td>\n",
       "    </tr>\n",
       "  </tbody>\n",
       "</table>\n",
       "</div>"
      ],
      "text/plain": [
       "                 Absolute  Relative\n",
       "daft_id                 0  0.000000\n",
       "url                     0  0.000000\n",
       "name                    0  0.000000\n",
       "price                   0  0.000000\n",
       "sale_type               0  0.000000\n",
       "floor_area              0  0.000000\n",
       "psr                    16  0.002088\n",
       "ber                   195  0.025450\n",
       "entered_renewed         0  0.000000\n",
       "views                   0  0.000000\n",
       "type_house            487  0.063560\n",
       "type                    0  0.000000\n",
       "scraping_date           0  0.000000\n",
       "description             1  0.000131\n",
       "latitude                0  0.000000\n",
       "longitude               0  0.000000\n",
       "bedroom                 0  0.000000\n",
       "bathroom                0  0.000000\n",
       "plus_info               0  0.000000\n",
       "country_code            0  0.000000\n",
       "country                 0  0.000000\n",
       "postcode             1208  0.157661\n",
       "state_district        395  0.051553\n",
       "county                695  0.090707\n",
       "municipality         6391  0.834116\n",
       "city                 5646  0.736883\n",
       "town                 6521  0.851083\n",
       "city_district         368  0.048029\n",
       "locality             7656  0.999217\n",
       "suburb               5908  0.771078\n",
       "road                 1935  0.252545\n",
       "house_number         6258  0.816758"
      ]
     },
     "execution_count": 5,
     "metadata": {},
     "output_type": "execute_result"
    }
   ],
   "source": [
    "# Check missing values in absolute and relative terms\n",
    "missing_values(sale)"
   ]
  },
  {
   "cell_type": "markdown",
   "id": "1c8cc976-10d2-4f62-8365-0a7dcf5711fe",
   "metadata": {},
   "source": [
    "As we can see there are a lot of new missing values in the data recently added. We are going to deal with them in a minut but first let's see if any UK ad managed to skip our data cleaning task when we cleaned the coordinates. IMPROVE CLEANED IN COORDINATES -> AS MAPS"
   ]
  },
  {
   "cell_type": "code",
   "execution_count": 6,
   "id": "8f9fbbb7-81d1-440c-9378-ba6f1e85031e",
   "metadata": {},
   "outputs": [
    {
     "data": {
      "text/plain": [
       "Éire / Ireland    7661\n",
       "United Kingdom       1\n",
       "Name: country, dtype: int64"
      ]
     },
     "execution_count": 6,
     "metadata": {},
     "output_type": "execute_result"
    }
   ],
   "source": [
    "sale.country.value_counts()"
   ]
  },
  {
   "cell_type": "markdown",
   "id": "6a49e7a3-8a26-4e73-a086-9cae6072e995",
   "metadata": {},
   "source": [
    "There it is. Let's quickly drop it."
   ]
  },
  {
   "cell_type": "code",
   "execution_count": 7,
   "id": "e022c745-f1da-46a6-bea4-ab55c97a31d4",
   "metadata": {},
   "outputs": [
    {
     "data": {
      "text/plain": [
       "Éire / Ireland    7661\n",
       "Name: country, dtype: int64"
      ]
     },
     "execution_count": 7,
     "metadata": {},
     "output_type": "execute_result"
    }
   ],
   "source": [
    "sale.drop(sale[sale.country == 'United Kingdom'].index, inplace=True)\n",
    "sale.country.value_counts()"
   ]
  },
  {
   "cell_type": "markdown",
   "id": "bcf954e5-04d6-48fb-86d8-2cd080dd908e",
   "metadata": {
    "tags": []
   },
   "source": [
    "# Dealing With New Missing Values"
   ]
  },
  {
   "cell_type": "markdown",
   "id": "2ab0c26a-016e-472b-9836-c94874558cfd",
   "metadata": {},
   "source": [
    "Let's isolate the variables we are interested in to work eaisier."
   ]
  },
  {
   "cell_type": "code",
   "execution_count": 8,
   "id": "c4cd250c-0219-4436-b039-b37ebb488a8d",
   "metadata": {},
   "outputs": [
    {
     "data": {
      "text/html": [
       "<div>\n",
       "<style scoped>\n",
       "    .dataframe tbody tr th:only-of-type {\n",
       "        vertical-align: middle;\n",
       "    }\n",
       "\n",
       "    .dataframe tbody tr th {\n",
       "        vertical-align: top;\n",
       "    }\n",
       "\n",
       "    .dataframe thead th {\n",
       "        text-align: right;\n",
       "    }\n",
       "</style>\n",
       "<table border=\"1\" class=\"dataframe\">\n",
       "  <thead>\n",
       "    <tr style=\"text-align: right;\">\n",
       "      <th></th>\n",
       "      <th>Absolute</th>\n",
       "      <th>Relative</th>\n",
       "    </tr>\n",
       "  </thead>\n",
       "  <tbody>\n",
       "    <tr>\n",
       "      <th>url</th>\n",
       "      <td>0</td>\n",
       "      <td>0.000000</td>\n",
       "    </tr>\n",
       "    <tr>\n",
       "      <th>latitude</th>\n",
       "      <td>0</td>\n",
       "      <td>0.000000</td>\n",
       "    </tr>\n",
       "    <tr>\n",
       "      <th>longitude</th>\n",
       "      <td>0</td>\n",
       "      <td>0.000000</td>\n",
       "    </tr>\n",
       "    <tr>\n",
       "      <th>country_code</th>\n",
       "      <td>0</td>\n",
       "      <td>0.000000</td>\n",
       "    </tr>\n",
       "    <tr>\n",
       "      <th>country</th>\n",
       "      <td>0</td>\n",
       "      <td>0.000000</td>\n",
       "    </tr>\n",
       "    <tr>\n",
       "      <th>postcode</th>\n",
       "      <td>1208</td>\n",
       "      <td>0.157682</td>\n",
       "    </tr>\n",
       "    <tr>\n",
       "      <th>state_district</th>\n",
       "      <td>394</td>\n",
       "      <td>0.051429</td>\n",
       "    </tr>\n",
       "    <tr>\n",
       "      <th>county</th>\n",
       "      <td>695</td>\n",
       "      <td>0.090719</td>\n",
       "    </tr>\n",
       "    <tr>\n",
       "      <th>municipality</th>\n",
       "      <td>6390</td>\n",
       "      <td>0.834095</td>\n",
       "    </tr>\n",
       "    <tr>\n",
       "      <th>city</th>\n",
       "      <td>5645</td>\n",
       "      <td>0.736849</td>\n",
       "    </tr>\n",
       "    <tr>\n",
       "      <th>town</th>\n",
       "      <td>6520</td>\n",
       "      <td>0.851064</td>\n",
       "    </tr>\n",
       "    <tr>\n",
       "      <th>city_district</th>\n",
       "      <td>367</td>\n",
       "      <td>0.047905</td>\n",
       "    </tr>\n",
       "    <tr>\n",
       "      <th>locality</th>\n",
       "      <td>7655</td>\n",
       "      <td>0.999217</td>\n",
       "    </tr>\n",
       "    <tr>\n",
       "      <th>road</th>\n",
       "      <td>1935</td>\n",
       "      <td>0.252578</td>\n",
       "    </tr>\n",
       "    <tr>\n",
       "      <th>house_number</th>\n",
       "      <td>6257</td>\n",
       "      <td>0.816734</td>\n",
       "    </tr>\n",
       "  </tbody>\n",
       "</table>\n",
       "</div>"
      ],
      "text/plain": [
       "                Absolute  Relative\n",
       "url                    0  0.000000\n",
       "latitude               0  0.000000\n",
       "longitude              0  0.000000\n",
       "country_code           0  0.000000\n",
       "country                0  0.000000\n",
       "postcode            1208  0.157682\n",
       "state_district       394  0.051429\n",
       "county               695  0.090719\n",
       "municipality        6390  0.834095\n",
       "city                5645  0.736849\n",
       "town                6520  0.851064\n",
       "city_district        367  0.047905\n",
       "locality            7655  0.999217\n",
       "road                1935  0.252578\n",
       "house_number        6257  0.816734"
      ]
     },
     "execution_count": 8,
     "metadata": {},
     "output_type": "execute_result"
    }
   ],
   "source": [
    "location_features = ['url', \n",
    "                     'latitude', \n",
    "                     'longitude', \n",
    "                     'country_code', \n",
    "                     'country', \n",
    "                     'postcode', \n",
    "                     'state_district', \n",
    "                     'county', \n",
    "                     'municipality', \n",
    "                     'city', \n",
    "                     'town', \n",
    "                     'city_district', \n",
    "                     'locality', \n",
    "                     'road', \n",
    "                     'house_number']\n",
    "\n",
    "missing_values(sale[location_features])"
   ]
  },
  {
   "cell_type": "markdown",
   "id": "ce3aac63-5888-4481-85f7-3d7ef82c7c84",
   "metadata": {
    "tags": []
   },
   "source": [
    "## Eircode"
   ]
  },
  {
   "cell_type": "markdown",
   "id": "37dbb72b-bed9-4357-a2cb-6af24a9f9b4f",
   "metadata": {},
   "source": [
    "The postcode is called \"Eircode\" in Ireland. It consist of a \"Routing Key\" and a \"Unique Identifier\". The routing key is associated with the city or town and is the three first characters from the Eircode.\n",
    "\n",
    "![](imgs/eircode.png)"
   ]
  },
  {
   "cell_type": "markdown",
   "id": "7e68cd00-17f8-4393-b912-8cd6273bbfce",
   "metadata": {},
   "source": [
    "There is a 73% and a 85% of missing values in `city` and `town` columns respectively. However, there is only a 15% of missing values in the `postcode` column. We can use the `postcode` column to find out the `town` values."
   ]
  },
  {
   "cell_type": "raw",
   "id": "c2fd0fcc-90ce-4348-82c7-45c3ddd06759",
   "metadata": {},
   "source": [
    "Mis coordenadas estan en grados decimales, DD.\n",
    "\n",
    "Estrategia 1 para llenar missing values:\n",
    "- Urban area = city/town\n",
    "- postcode -> urban area"
   ]
  },
  {
   "cell_type": "markdown",
   "id": "7d3dc675-84dd-4257-b6a1-6b78470895e0",
   "metadata": {},
   "source": [
    "Let's check how many missing values there are in both columns at the same time."
   ]
  },
  {
   "cell_type": "code",
   "execution_count": 9,
   "id": "cf2d8255-100a-4729-9099-af70d4cf6e9a",
   "metadata": {},
   "outputs": [
    {
     "data": {
      "text/plain": [
       "(4511, 32)"
      ]
     },
     "execution_count": 9,
     "metadata": {},
     "output_type": "execute_result"
    }
   ],
   "source": [
    "#\n",
    "sale.loc[sale[['city', 'town']].isna().all(axis=1)].shape"
   ]
  },
  {
   "cell_type": "markdown",
   "id": "c8b3e11e-ab97-4824-a484-d108fbcda19a",
   "metadata": {},
   "source": [
    "And missing values in the three columns at the same time."
   ]
  },
  {
   "cell_type": "code",
   "execution_count": 10,
   "id": "ac1019a4-d57e-428f-9b0a-f56722dd25ee",
   "metadata": {},
   "outputs": [
    {
     "data": {
      "text/plain": [
       "(1073, 32)"
      ]
     },
     "execution_count": 10,
     "metadata": {},
     "output_type": "execute_result"
    }
   ],
   "source": [
    "sale.loc[sale[['city', 'town', 'postcode']].isna().all(axis=1)].shape"
   ]
  },
  {
   "cell_type": "raw",
   "id": "5384a3e6-6b49-48e2-9b76-1e45e8fb341d",
   "metadata": {},
   "source": [
    "sale.loc[(sale['postcode'].isna()) & (sale[['town', 'city']].notna().any(axis=1)), ['town', 'city', 'postcode']].sample(5)"
   ]
  },
  {
   "cell_type": "raw",
   "id": "aa7eb488-bbe8-4921-8c50-fe74f2625f47",
   "metadata": {},
   "source": [
    "# \n",
    "print(location_features.loc[location_features[['city', 'town']].notna().all(axis=1), ['city', 'town']].shape)\n",
    "location_features.loc[location_features[['city', 'town']].notna().all(axis=1), ['city', 'town']].head()"
   ]
  },
  {
   "cell_type": "markdown",
   "id": "8474874b-f08e-44ec-82f6-8f3df2b0fa2e",
   "metadata": {
    "tags": []
   },
   "source": [
    "### Scraping Geonames Page"
   ]
  },
  {
   "cell_type": "markdown",
   "id": "4c4a97af-fdee-4fdd-9150-1a23b70dd409",
   "metadata": {},
   "source": [
    "We can scrape [this page](http://www.geonames.org/postalcode-search.html?q=&country=IE) to obtain the information aboyt the town. That page show the eircode's routing key and its respectively town or city. As we have most of the eircodes, we can match them with the city or town names.\n",
    "\n",
    "We will use the `geonames_dict` function to scrape the page and create a dictionary with the info. Also we can create a DataFrame with that dictionary."
   ]
  },
  {
   "cell_type": "code",
   "execution_count": 11,
   "id": "1e0282e9-f5b8-464f-a8a4-d850ff578954",
   "metadata": {},
   "outputs": [
    {
     "name": "stdout",
     "output_type": "stream",
     "text": [
      "(139, 4)\n"
     ]
    },
    {
     "data": {
      "text/html": [
       "<div>\n",
       "<style scoped>\n",
       "    .dataframe tbody tr th:only-of-type {\n",
       "        vertical-align: middle;\n",
       "    }\n",
       "\n",
       "    .dataframe tbody tr th {\n",
       "        vertical-align: top;\n",
       "    }\n",
       "\n",
       "    .dataframe thead th {\n",
       "        text-align: right;\n",
       "    }\n",
       "</style>\n",
       "<table border=\"1\" class=\"dataframe\">\n",
       "  <thead>\n",
       "    <tr style=\"text-align: right;\">\n",
       "      <th></th>\n",
       "      <th>place</th>\n",
       "      <th>code</th>\n",
       "      <th>admin1</th>\n",
       "      <th>place_coordinates</th>\n",
       "    </tr>\n",
       "  </thead>\n",
       "  <tbody>\n",
       "    <tr>\n",
       "      <th>0</th>\n",
       "      <td>Ballyboughal</td>\n",
       "      <td>A41</td>\n",
       "      <td>Leinster</td>\n",
       "      <td>53.52/-6.267</td>\n",
       "    </tr>\n",
       "    <tr>\n",
       "      <th>1</th>\n",
       "      <td>Garristown</td>\n",
       "      <td>A42</td>\n",
       "      <td>Leinster</td>\n",
       "      <td>53.566/-6.386</td>\n",
       "    </tr>\n",
       "    <tr>\n",
       "      <th>2</th>\n",
       "      <td>Oldtown</td>\n",
       "      <td>A45</td>\n",
       "      <td>Leinster</td>\n",
       "      <td>53.525/-6.316</td>\n",
       "    </tr>\n",
       "  </tbody>\n",
       "</table>\n",
       "</div>"
      ],
      "text/plain": [
       "          place code    admin1 place_coordinates\n",
       "0  Ballyboughal  A41  Leinster      53.52/-6.267\n",
       "1    Garristown  A42  Leinster     53.566/-6.386\n",
       "2       Oldtown  A45  Leinster     53.525/-6.316"
      ]
     },
     "execution_count": 11,
     "metadata": {},
     "output_type": "execute_result"
    }
   ],
   "source": [
    "# Make a DataFrame with the dictionary obtained from `geonames_dict` function\n",
    "geonames_df = pd.DataFrame(geonames_dict())\n",
    "print(geonames_df.shape)\n",
    "geonames_df.head(3)"
   ]
  },
  {
   "cell_type": "markdown",
   "id": "bf45d6a6-f98a-4702-851d-78eebadacb91",
   "metadata": {
    "tags": []
   },
   "source": [
    "### Homogenize Postcode Column"
   ]
  },
  {
   "cell_type": "markdown",
   "id": "d3300238-dee0-4e92-8c8e-fd48df997643",
   "metadata": {},
   "source": [
    "Now we need to check the `postcode` column in order to make sure that is has the eircode's routing key. "
   ]
  },
  {
   "cell_type": "markdown",
   "id": "f8be17d8-652d-4949-8e1f-b82e3b615c34",
   "metadata": {},
   "source": [
    "Let's dig a little deeper into `postcode` column."
   ]
  },
  {
   "cell_type": "code",
   "execution_count": 12,
   "id": "65ab3e9a-8ef2-4485-9c70-d9908f1d685d",
   "metadata": {},
   "outputs": [
    {
     "data": {
      "text/plain": [
       "8.0     5682\n",
       "NaN     1208\n",
       "7.0      603\n",
       "9.0       47\n",
       "1.0       30\n",
       "3.0       23\n",
       "2.0       21\n",
       "10.0      17\n",
       "6.0       12\n",
       "12.0       9\n",
       "11.0       4\n",
       "4.0        3\n",
       "13.0       2\n",
       "Name: postcode, dtype: int64"
      ]
     },
     "execution_count": 12,
     "metadata": {},
     "output_type": "execute_result"
    }
   ],
   "source": [
    "sale['postcode'].str.len().value_counts(dropna=False)"
   ]
  },
  {
   "cell_type": "markdown",
   "id": "3f3fb6d3-22b5-4eeb-96e9-048497a232b7",
   "metadata": {},
   "source": [
    "We should check each different case and wrangling and cleaning each one to try to homogenize them."
   ]
  },
  {
   "cell_type": "markdown",
   "id": "0a401854-5ea2-4584-8da9-c7c3d3b6ecb1",
   "metadata": {
    "tags": []
   },
   "source": [
    "#### Eircode length = 8"
   ]
  },
  {
   "cell_type": "markdown",
   "id": "b71e1a06-d103-4633-bcb4-4d11b22c4c3a",
   "metadata": {},
   "source": [
    "Eircode equals to eigth is what we want as adding the blank space an eircode has eigth charactrs, three of the routing key and other four of the unique identifier."
   ]
  },
  {
   "cell_type": "code",
   "execution_count": 13,
   "id": "aef7afd3-cdc0-43e9-9044-ea61a9c0a540",
   "metadata": {},
   "outputs": [
    {
     "data": {
      "text/html": [
       "<div>\n",
       "<style scoped>\n",
       "    .dataframe tbody tr th:only-of-type {\n",
       "        vertical-align: middle;\n",
       "    }\n",
       "\n",
       "    .dataframe tbody tr th {\n",
       "        vertical-align: top;\n",
       "    }\n",
       "\n",
       "    .dataframe thead th {\n",
       "        text-align: right;\n",
       "    }\n",
       "</style>\n",
       "<table border=\"1\" class=\"dataframe\">\n",
       "  <thead>\n",
       "    <tr style=\"text-align: right;\">\n",
       "      <th></th>\n",
       "      <th>postcode</th>\n",
       "    </tr>\n",
       "  </thead>\n",
       "  <tbody>\n",
       "    <tr>\n",
       "      <th>224</th>\n",
       "      <td>T12 H1XY</td>\n",
       "    </tr>\n",
       "    <tr>\n",
       "      <th>7499</th>\n",
       "      <td>T23 V2T0</td>\n",
       "    </tr>\n",
       "    <tr>\n",
       "      <th>117</th>\n",
       "      <td>A82 F866</td>\n",
       "    </tr>\n",
       "  </tbody>\n",
       "</table>\n",
       "</div>"
      ],
      "text/plain": [
       "      postcode\n",
       "224   T12 H1XY\n",
       "7499  T23 V2T0\n",
       "117   A82 F866"
      ]
     },
     "execution_count": 13,
     "metadata": {},
     "output_type": "execute_result"
    }
   ],
   "source": [
    "sale.loc[sale.postcode.str.len() == 8, ['postcode']].sample(3)"
   ]
  },
  {
   "cell_type": "markdown",
   "id": "64e30aad-999f-4676-b59f-918c34ce6838",
   "metadata": {
    "tags": []
   },
   "source": [
    "#### Eircode length = 7"
   ]
  },
  {
   "cell_type": "markdown",
   "id": "01f076ac-53d5-466a-a7f9-e232c4fb7208",
   "metadata": {},
   "source": [
    "We could add a blank space between the routing key and the unique identifier."
   ]
  },
  {
   "cell_type": "code",
   "execution_count": 14,
   "id": "5b994585-c33d-4d7a-a5f1-254caabea5bc",
   "metadata": {},
   "outputs": [
    {
     "data": {
      "text/html": [
       "<div>\n",
       "<style scoped>\n",
       "    .dataframe tbody tr th:only-of-type {\n",
       "        vertical-align: middle;\n",
       "    }\n",
       "\n",
       "    .dataframe tbody tr th {\n",
       "        vertical-align: top;\n",
       "    }\n",
       "\n",
       "    .dataframe thead th {\n",
       "        text-align: right;\n",
       "    }\n",
       "</style>\n",
       "<table border=\"1\" class=\"dataframe\">\n",
       "  <thead>\n",
       "    <tr style=\"text-align: right;\">\n",
       "      <th></th>\n",
       "      <th>postcode</th>\n",
       "    </tr>\n",
       "  </thead>\n",
       "  <tbody>\n",
       "    <tr>\n",
       "      <th>5223</th>\n",
       "      <td>X91HD52</td>\n",
       "    </tr>\n",
       "    <tr>\n",
       "      <th>6485</th>\n",
       "      <td>C15P297</td>\n",
       "    </tr>\n",
       "    <tr>\n",
       "      <th>2923</th>\n",
       "      <td>D06F304</td>\n",
       "    </tr>\n",
       "  </tbody>\n",
       "</table>\n",
       "</div>"
      ],
      "text/plain": [
       "     postcode\n",
       "5223  X91HD52\n",
       "6485  C15P297\n",
       "2923  D06F304"
      ]
     },
     "execution_count": 14,
     "metadata": {},
     "output_type": "execute_result"
    }
   ],
   "source": [
    "sale.loc[sale.postcode.str.len() == 7, ['postcode']].sample(3)"
   ]
  },
  {
   "cell_type": "markdown",
   "id": "006ce74b-0aaf-4116-9f1e-6e3d608c83f6",
   "metadata": {
    "tags": []
   },
   "source": [
    "#### Eircode length = 9"
   ]
  },
  {
   "cell_type": "markdown",
   "id": "7b630fe6-4add-42cd-b886-cfc1e3417a0d",
   "metadata": {},
   "source": [
    "We will handle all this cases in the homogenize function, giving most of them `np.nan`."
   ]
  },
  {
   "cell_type": "code",
   "execution_count": 15,
   "id": "cff7b1f8-4301-4990-857c-02204b233e0f",
   "metadata": {},
   "outputs": [
    {
     "data": {
      "text/html": [
       "<div>\n",
       "<style scoped>\n",
       "    .dataframe tbody tr th:only-of-type {\n",
       "        vertical-align: middle;\n",
       "    }\n",
       "\n",
       "    .dataframe tbody tr th {\n",
       "        vertical-align: top;\n",
       "    }\n",
       "\n",
       "    .dataframe thead th {\n",
       "        text-align: right;\n",
       "    }\n",
       "</style>\n",
       "<table border=\"1\" class=\"dataframe\">\n",
       "  <thead>\n",
       "    <tr style=\"text-align: right;\">\n",
       "      <th></th>\n",
       "      <th>postcode</th>\n",
       "    </tr>\n",
       "  </thead>\n",
       "  <tbody>\n",
       "    <tr>\n",
       "      <th>2942</th>\n",
       "      <td>DUBLIN 22</td>\n",
       "    </tr>\n",
       "    <tr>\n",
       "      <th>5211</th>\n",
       "      <td>DUBLIN 18</td>\n",
       "    </tr>\n",
       "    <tr>\n",
       "      <th>5942</th>\n",
       "      <td>DUBLIN 18</td>\n",
       "    </tr>\n",
       "  </tbody>\n",
       "</table>\n",
       "</div>"
      ],
      "text/plain": [
       "       postcode\n",
       "2942  DUBLIN 22\n",
       "5211  DUBLIN 18\n",
       "5942  DUBLIN 18"
      ]
     },
     "execution_count": 15,
     "metadata": {},
     "output_type": "execute_result"
    }
   ],
   "source": [
    "sale.loc[sale.postcode.str.len() == 9, ['postcode']].sample(3)"
   ]
  },
  {
   "cell_type": "markdown",
   "id": "1accc27e-31ab-4d3a-938f-22630b57faf9",
   "metadata": {
    "tags": []
   },
   "source": [
    "#### Eircode length = 1"
   ]
  },
  {
   "cell_type": "markdown",
   "id": "dcf9480b-53d8-4f3f-b746-721e9784a771",
   "metadata": {},
   "source": [
    "Those ads with a single number as a postcode belong to Dublin. It is reasonable to think that those numbers correspond with the postal district's number so we will fix them in the `homogenize` function."
   ]
  },
  {
   "cell_type": "code",
   "execution_count": 16,
   "id": "5b292b69-6200-4eb9-8e47-30ddc2964941",
   "metadata": {},
   "outputs": [
    {
     "data": {
      "text/html": [
       "<div>\n",
       "<style scoped>\n",
       "    .dataframe tbody tr th:only-of-type {\n",
       "        vertical-align: middle;\n",
       "    }\n",
       "\n",
       "    .dataframe tbody tr th {\n",
       "        vertical-align: top;\n",
       "    }\n",
       "\n",
       "    .dataframe thead th {\n",
       "        text-align: right;\n",
       "    }\n",
       "</style>\n",
       "<table border=\"1\" class=\"dataframe\">\n",
       "  <thead>\n",
       "    <tr style=\"text-align: right;\">\n",
       "      <th></th>\n",
       "      <th>postcode</th>\n",
       "      <th>city</th>\n",
       "    </tr>\n",
       "  </thead>\n",
       "  <tbody>\n",
       "    <tr>\n",
       "      <th>4169</th>\n",
       "      <td>4</td>\n",
       "      <td>Dublin</td>\n",
       "    </tr>\n",
       "    <tr>\n",
       "      <th>2996</th>\n",
       "      <td>9</td>\n",
       "      <td>Dublin</td>\n",
       "    </tr>\n",
       "    <tr>\n",
       "      <th>330</th>\n",
       "      <td>1</td>\n",
       "      <td>Dublin</td>\n",
       "    </tr>\n",
       "  </tbody>\n",
       "</table>\n",
       "</div>"
      ],
      "text/plain": [
       "     postcode    city\n",
       "4169        4  Dublin\n",
       "2996        9  Dublin\n",
       "330         1  Dublin"
      ]
     },
     "execution_count": 16,
     "metadata": {},
     "output_type": "execute_result"
    }
   ],
   "source": [
    "sale.loc[sale.postcode.str.len() == 1, ['postcode','city']].sample(3)"
   ]
  },
  {
   "cell_type": "markdown",
   "id": "64b7394f-72f4-4d7b-94c1-e9c614f714c3",
   "metadata": {
    "tags": []
   },
   "source": [
    "#### Eircode length = 10"
   ]
  },
  {
   "cell_type": "markdown",
   "id": "3c8eaca3-040a-4fae-a768-73eadefb3e03",
   "metadata": {},
   "source": [
    "Values with the patern \"CO.\" mean county so we will fill them with `np.nan`."
   ]
  },
  {
   "cell_type": "code",
   "execution_count": 17,
   "id": "8d67f19e-7fa6-44dd-bbe8-6223c96c4f46",
   "metadata": {},
   "outputs": [
    {
     "data": {
      "text/html": [
       "<div>\n",
       "<style scoped>\n",
       "    .dataframe tbody tr th:only-of-type {\n",
       "        vertical-align: middle;\n",
       "    }\n",
       "\n",
       "    .dataframe tbody tr th {\n",
       "        vertical-align: top;\n",
       "    }\n",
       "\n",
       "    .dataframe thead th {\n",
       "        text-align: right;\n",
       "    }\n",
       "</style>\n",
       "<table border=\"1\" class=\"dataframe\">\n",
       "  <thead>\n",
       "    <tr style=\"text-align: right;\">\n",
       "      <th></th>\n",
       "      <th>postcode</th>\n",
       "      <th>city</th>\n",
       "      <th>town</th>\n",
       "    </tr>\n",
       "  </thead>\n",
       "  <tbody>\n",
       "    <tr>\n",
       "      <th>4489</th>\n",
       "      <td>CO.ATHLONE</td>\n",
       "      <td>NaN</td>\n",
       "      <td>NaN</td>\n",
       "    </tr>\n",
       "    <tr>\n",
       "      <th>5206</th>\n",
       "      <td>CO WICKLOW</td>\n",
       "      <td>NaN</td>\n",
       "      <td>NaN</td>\n",
       "    </tr>\n",
       "    <tr>\n",
       "      <th>1459</th>\n",
       "      <td>CO WICKLOW</td>\n",
       "      <td>NaN</td>\n",
       "      <td>NaN</td>\n",
       "    </tr>\n",
       "  </tbody>\n",
       "</table>\n",
       "</div>"
      ],
      "text/plain": [
       "        postcode city town\n",
       "4489  CO.ATHLONE  NaN  NaN\n",
       "5206  CO WICKLOW  NaN  NaN\n",
       "1459  CO WICKLOW  NaN  NaN"
      ]
     },
     "execution_count": 17,
     "metadata": {},
     "output_type": "execute_result"
    }
   ],
   "source": [
    "sale.loc[sale.postcode.str.len() == 10, ['postcode','city','town']].sample(3)"
   ]
  },
  {
   "cell_type": "markdown",
   "id": "a69e70a0-5ccb-4fc3-918a-1d6126f45566",
   "metadata": {
    "tags": []
   },
   "source": [
    "#### Eircode length = 3"
   ]
  },
  {
   "cell_type": "markdown",
   "id": "65a8b2e6-3139-4b9e-8441-10e4f73e5079",
   "metadata": {},
   "source": [
    "We can keep eircodes with lengt equal to three as they contain the routing key and we don't need the unique identifier."
   ]
  },
  {
   "cell_type": "code",
   "execution_count": 18,
   "id": "4419ed9d-a87c-4b01-8e8f-a1b2d1858593",
   "metadata": {},
   "outputs": [
    {
     "data": {
      "text/html": [
       "<div>\n",
       "<style scoped>\n",
       "    .dataframe tbody tr th:only-of-type {\n",
       "        vertical-align: middle;\n",
       "    }\n",
       "\n",
       "    .dataframe tbody tr th {\n",
       "        vertical-align: top;\n",
       "    }\n",
       "\n",
       "    .dataframe thead th {\n",
       "        text-align: right;\n",
       "    }\n",
       "</style>\n",
       "<table border=\"1\" class=\"dataframe\">\n",
       "  <thead>\n",
       "    <tr style=\"text-align: right;\">\n",
       "      <th></th>\n",
       "      <th>postcode</th>\n",
       "    </tr>\n",
       "  </thead>\n",
       "  <tbody>\n",
       "    <tr>\n",
       "      <th>908</th>\n",
       "      <td>X91</td>\n",
       "    </tr>\n",
       "    <tr>\n",
       "      <th>1042</th>\n",
       "      <td>W23</td>\n",
       "    </tr>\n",
       "    <tr>\n",
       "      <th>3504</th>\n",
       "      <td>D16</td>\n",
       "    </tr>\n",
       "  </tbody>\n",
       "</table>\n",
       "</div>"
      ],
      "text/plain": [
       "     postcode\n",
       "908       X91\n",
       "1042      W23\n",
       "3504      D16"
      ]
     },
     "execution_count": 18,
     "metadata": {},
     "output_type": "execute_result"
    }
   ],
   "source": [
    "sale.loc[sale.postcode.str.len() == 3, ['postcode']].sample(3)"
   ]
  },
  {
   "cell_type": "markdown",
   "id": "da43fddc-c461-4316-a823-55ffb69ef325",
   "metadata": {
    "tags": []
   },
   "source": [
    "#### Eircode length = 12"
   ]
  },
  {
   "cell_type": "markdown",
   "id": "d06bf9ff-dc86-40f7-be4e-1db6f5833afa",
   "metadata": {},
   "source": [
    "We will fill these ones with `np.nan`."
   ]
  },
  {
   "cell_type": "code",
   "execution_count": 19,
   "id": "9f9bae3d-745f-4bcf-b062-24e77fb68345",
   "metadata": {},
   "outputs": [
    {
     "data": {
      "text/html": [
       "<div>\n",
       "<style scoped>\n",
       "    .dataframe tbody tr th:only-of-type {\n",
       "        vertical-align: middle;\n",
       "    }\n",
       "\n",
       "    .dataframe tbody tr th {\n",
       "        vertical-align: top;\n",
       "    }\n",
       "\n",
       "    .dataframe thead th {\n",
       "        text-align: right;\n",
       "    }\n",
       "</style>\n",
       "<table border=\"1\" class=\"dataframe\">\n",
       "  <thead>\n",
       "    <tr style=\"text-align: right;\">\n",
       "      <th></th>\n",
       "      <th>postcode</th>\n",
       "    </tr>\n",
       "  </thead>\n",
       "  <tbody>\n",
       "    <tr>\n",
       "      <th>514</th>\n",
       "      <td>CO WESTMEATH</td>\n",
       "    </tr>\n",
       "    <tr>\n",
       "      <th>655</th>\n",
       "      <td>CO WESTMEATH</td>\n",
       "    </tr>\n",
       "    <tr>\n",
       "      <th>673</th>\n",
       "      <td>CO WESTMEATH</td>\n",
       "    </tr>\n",
       "    <tr>\n",
       "      <th>1474</th>\n",
       "      <td>CO WESTMEATH</td>\n",
       "    </tr>\n",
       "    <tr>\n",
       "      <th>2253</th>\n",
       "      <td>CO. KILKENNY</td>\n",
       "    </tr>\n",
       "    <tr>\n",
       "      <th>4085</th>\n",
       "      <td>CO. KILKENNY</td>\n",
       "    </tr>\n",
       "    <tr>\n",
       "      <th>6040</th>\n",
       "      <td>CO WESTMEATH</td>\n",
       "    </tr>\n",
       "    <tr>\n",
       "      <th>6108</th>\n",
       "      <td>CO. KILKENNY</td>\n",
       "    </tr>\n",
       "    <tr>\n",
       "      <th>7524</th>\n",
       "      <td>CO WESTMEATH</td>\n",
       "    </tr>\n",
       "  </tbody>\n",
       "</table>\n",
       "</div>"
      ],
      "text/plain": [
       "          postcode\n",
       "514   CO WESTMEATH\n",
       "655   CO WESTMEATH\n",
       "673   CO WESTMEATH\n",
       "1474  CO WESTMEATH\n",
       "2253  CO. KILKENNY\n",
       "4085  CO. KILKENNY\n",
       "6040  CO WESTMEATH\n",
       "6108  CO. KILKENNY\n",
       "7524  CO WESTMEATH"
      ]
     },
     "execution_count": 19,
     "metadata": {},
     "output_type": "execute_result"
    }
   ],
   "source": [
    "sale.loc[sale.postcode.str.len() == 12, ['postcode']]"
   ]
  },
  {
   "cell_type": "markdown",
   "id": "3f0ca43d-92ad-4ee5-8a4a-40dc69be7fb2",
   "metadata": {
    "tags": []
   },
   "source": [
    "#### Eircode length = 11"
   ]
  },
  {
   "cell_type": "markdown",
   "id": "9784a451-95a8-4720-aaf2-8278bfb5721c",
   "metadata": {},
   "source": [
    "We will fill these ones with `np.nan`."
   ]
  },
  {
   "cell_type": "code",
   "execution_count": 20,
   "id": "68291e5e-356d-4ce5-9dbf-b9b01ee06be3",
   "metadata": {},
   "outputs": [
    {
     "data": {
      "text/html": [
       "<div>\n",
       "<style scoped>\n",
       "    .dataframe tbody tr th:only-of-type {\n",
       "        vertical-align: middle;\n",
       "    }\n",
       "\n",
       "    .dataframe tbody tr th {\n",
       "        vertical-align: top;\n",
       "    }\n",
       "\n",
       "    .dataframe thead th {\n",
       "        text-align: right;\n",
       "    }\n",
       "</style>\n",
       "<table border=\"1\" class=\"dataframe\">\n",
       "  <thead>\n",
       "    <tr style=\"text-align: right;\">\n",
       "      <th></th>\n",
       "      <th>postcode</th>\n",
       "    </tr>\n",
       "  </thead>\n",
       "  <tbody>\n",
       "    <tr>\n",
       "      <th>3396</th>\n",
       "      <td>CO. WICKLOW</td>\n",
       "    </tr>\n",
       "    <tr>\n",
       "      <th>6848</th>\n",
       "      <td>CO. WICKLOW</td>\n",
       "    </tr>\n",
       "    <tr>\n",
       "      <th>7361</th>\n",
       "      <td>CO. WICKLOW</td>\n",
       "    </tr>\n",
       "    <tr>\n",
       "      <th>7467</th>\n",
       "      <td>CO. WICKLOW</td>\n",
       "    </tr>\n",
       "  </tbody>\n",
       "</table>\n",
       "</div>"
      ],
      "text/plain": [
       "         postcode\n",
       "3396  CO. WICKLOW\n",
       "6848  CO. WICKLOW\n",
       "7361  CO. WICKLOW\n",
       "7467  CO. WICKLOW"
      ]
     },
     "execution_count": 20,
     "metadata": {},
     "output_type": "execute_result"
    }
   ],
   "source": [
    "sale.loc[sale.postcode.str.len() == 11, ['postcode']]"
   ]
  },
  {
   "cell_type": "markdown",
   "id": "e6d1c08d-c28a-4cd6-ab61-76fda8cdf91a",
   "metadata": {
    "tags": []
   },
   "source": [
    "#### Eircode length = 6"
   ]
  },
  {
   "cell_type": "markdown",
   "id": "fda3e6e5-0f1f-4908-80d4-b70cc5a29042",
   "metadata": {},
   "source": [
    "We will take the eircode from those that have it and keep those equal to `DUBLIN` as they are."
   ]
  },
  {
   "cell_type": "code",
   "execution_count": 21,
   "id": "63695e07-8941-4755-8fa7-48ddb5cb0855",
   "metadata": {},
   "outputs": [
    {
     "data": {
      "text/html": [
       "<div>\n",
       "<style scoped>\n",
       "    .dataframe tbody tr th:only-of-type {\n",
       "        vertical-align: middle;\n",
       "    }\n",
       "\n",
       "    .dataframe tbody tr th {\n",
       "        vertical-align: top;\n",
       "    }\n",
       "\n",
       "    .dataframe thead th {\n",
       "        text-align: right;\n",
       "    }\n",
       "</style>\n",
       "<table border=\"1\" class=\"dataframe\">\n",
       "  <thead>\n",
       "    <tr style=\"text-align: right;\">\n",
       "      <th></th>\n",
       "      <th>postcode</th>\n",
       "    </tr>\n",
       "  </thead>\n",
       "  <tbody>\n",
       "    <tr>\n",
       "      <th>365</th>\n",
       "      <td>H91 DV</td>\n",
       "    </tr>\n",
       "    <tr>\n",
       "      <th>527</th>\n",
       "      <td>DUBLIN</td>\n",
       "    </tr>\n",
       "    <tr>\n",
       "      <th>1173</th>\n",
       "      <td>DUBLIN</td>\n",
       "    </tr>\n",
       "  </tbody>\n",
       "</table>\n",
       "</div>"
      ],
      "text/plain": [
       "     postcode\n",
       "365    H91 DV\n",
       "527    DUBLIN\n",
       "1173   DUBLIN"
      ]
     },
     "execution_count": 21,
     "metadata": {},
     "output_type": "execute_result"
    }
   ],
   "source": [
    "sale.loc[sale.postcode.str.len() == 6, ['postcode']].head(3)"
   ]
  },
  {
   "cell_type": "markdown",
   "id": "9421ae1e-b849-49a3-905b-d49824927e05",
   "metadata": {
    "tags": []
   },
   "source": [
    "#### Eircode length = 4"
   ]
  },
  {
   "cell_type": "markdown",
   "id": "d38f6a62-a39a-426d-bee8-8beaa52d5db0",
   "metadata": {},
   "source": [
    "We will fill these ones with `np.nan`."
   ]
  },
  {
   "cell_type": "code",
   "execution_count": 22,
   "id": "df5f026d-d116-405e-a721-dbff6aa41627",
   "metadata": {},
   "outputs": [
    {
     "data": {
      "text/html": [
       "<div>\n",
       "<style scoped>\n",
       "    .dataframe tbody tr th:only-of-type {\n",
       "        vertical-align: middle;\n",
       "    }\n",
       "\n",
       "    .dataframe tbody tr th {\n",
       "        vertical-align: top;\n",
       "    }\n",
       "\n",
       "    .dataframe thead th {\n",
       "        text-align: right;\n",
       "    }\n",
       "</style>\n",
       "<table border=\"1\" class=\"dataframe\">\n",
       "  <thead>\n",
       "    <tr style=\"text-align: right;\">\n",
       "      <th></th>\n",
       "      <th>postcode</th>\n",
       "    </tr>\n",
       "  </thead>\n",
       "  <tbody>\n",
       "    <tr>\n",
       "      <th>1060</th>\n",
       "      <td>0000</td>\n",
       "    </tr>\n",
       "    <tr>\n",
       "      <th>1891</th>\n",
       "      <td>0000</td>\n",
       "    </tr>\n",
       "    <tr>\n",
       "      <th>2302</th>\n",
       "      <td>0000</td>\n",
       "    </tr>\n",
       "  </tbody>\n",
       "</table>\n",
       "</div>"
      ],
      "text/plain": [
       "     postcode\n",
       "1060     0000\n",
       "1891     0000\n",
       "2302     0000"
      ]
     },
     "execution_count": 22,
     "metadata": {},
     "output_type": "execute_result"
    }
   ],
   "source": [
    "sale.loc[sale.postcode.str.len() == 4, ['postcode']]"
   ]
  },
  {
   "cell_type": "markdown",
   "id": "28e61f41-b924-4f07-ac8f-3b5070e18ce7",
   "metadata": {
    "tags": []
   },
   "source": [
    "#### Eircode length = 13"
   ]
  },
  {
   "cell_type": "markdown",
   "id": "7a8c7a55-aab8-40f2-96d1-d4a5b62fc22e",
   "metadata": {},
   "source": [
    "We will fill these ones with `np.nan`."
   ]
  },
  {
   "cell_type": "code",
   "execution_count": 23,
   "id": "b560a32f-928e-4cbb-b36c-adcb248776f8",
   "metadata": {},
   "outputs": [
    {
     "data": {
      "text/html": [
       "<div>\n",
       "<style scoped>\n",
       "    .dataframe tbody tr th:only-of-type {\n",
       "        vertical-align: middle;\n",
       "    }\n",
       "\n",
       "    .dataframe tbody tr th {\n",
       "        vertical-align: top;\n",
       "    }\n",
       "\n",
       "    .dataframe thead th {\n",
       "        text-align: right;\n",
       "    }\n",
       "</style>\n",
       "<table border=\"1\" class=\"dataframe\">\n",
       "  <thead>\n",
       "    <tr style=\"text-align: right;\">\n",
       "      <th></th>\n",
       "      <th>postcode</th>\n",
       "    </tr>\n",
       "  </thead>\n",
       "  <tbody>\n",
       "    <tr>\n",
       "      <th>7044</th>\n",
       "      <td>CO. ROSCOMMON</td>\n",
       "    </tr>\n",
       "    <tr>\n",
       "      <th>7155</th>\n",
       "      <td>CO. ROSCOMMON</td>\n",
       "    </tr>\n",
       "  </tbody>\n",
       "</table>\n",
       "</div>"
      ],
      "text/plain": [
       "           postcode\n",
       "7044  CO. ROSCOMMON\n",
       "7155  CO. ROSCOMMON"
      ]
     },
     "execution_count": 23,
     "metadata": {},
     "output_type": "execute_result"
    }
   ],
   "source": [
    "sale.loc[sale.postcode.str.len() == 13, ['postcode']]"
   ]
  },
  {
   "cell_type": "markdown",
   "id": "637bcd61-136f-4aa5-9bd0-e395ac17b422",
   "metadata": {
    "tags": []
   },
   "source": [
    "#### Eircode length = 2"
   ]
  },
  {
   "cell_type": "markdown",
   "id": "13df6f76-dbe8-4906-a3d5-73d1484151dc",
   "metadata": {},
   "source": [
    "We will fix all these values as they are from Dublin and have the postal district value."
   ]
  },
  {
   "cell_type": "code",
   "execution_count": 24,
   "id": "b7c7a441-0c5e-46f7-9b9d-91db7baf501c",
   "metadata": {},
   "outputs": [
    {
     "data": {
      "text/html": [
       "<div>\n",
       "<style scoped>\n",
       "    .dataframe tbody tr th:only-of-type {\n",
       "        vertical-align: middle;\n",
       "    }\n",
       "\n",
       "    .dataframe tbody tr th {\n",
       "        vertical-align: top;\n",
       "    }\n",
       "\n",
       "    .dataframe thead th {\n",
       "        text-align: right;\n",
       "    }\n",
       "</style>\n",
       "<table border=\"1\" class=\"dataframe\">\n",
       "  <thead>\n",
       "    <tr style=\"text-align: right;\">\n",
       "      <th></th>\n",
       "      <th>postcode</th>\n",
       "      <th>city</th>\n",
       "    </tr>\n",
       "  </thead>\n",
       "  <tbody>\n",
       "    <tr>\n",
       "      <th>4777</th>\n",
       "      <td>D5</td>\n",
       "      <td>Dublin</td>\n",
       "    </tr>\n",
       "    <tr>\n",
       "      <th>5218</th>\n",
       "      <td>D5</td>\n",
       "      <td>Dublin</td>\n",
       "    </tr>\n",
       "    <tr>\n",
       "      <th>6203</th>\n",
       "      <td>17</td>\n",
       "      <td>Dublin</td>\n",
       "    </tr>\n",
       "  </tbody>\n",
       "</table>\n",
       "</div>"
      ],
      "text/plain": [
       "     postcode    city\n",
       "4777       D5  Dublin\n",
       "5218       D5  Dublin\n",
       "6203       17  Dublin"
      ]
     },
     "execution_count": 24,
     "metadata": {},
     "output_type": "execute_result"
    }
   ],
   "source": [
    "sale.loc[sale.postcode.str.len() == 2, ['postcode','city']].sample(3)"
   ]
  },
  {
   "cell_type": "markdown",
   "id": "99c12121-13ec-4e54-9a6f-6d7388535c8f",
   "metadata": {
    "tags": []
   },
   "source": [
    "#### Homogenize Eircode"
   ]
  },
  {
   "cell_type": "markdown",
   "id": "84233417-9235-46d3-8c21-c8485c60f017",
   "metadata": {},
   "source": [
    "Now we can use the `eircode_homogenize` function to homogenize the `postcode` column. This function apply the `homogenize` function to the `postcode` column."
   ]
  },
  {
   "cell_type": "code",
   "execution_count": 25,
   "id": "014e8281-11d2-4965-8b4f-4bb3474f0676",
   "metadata": {},
   "outputs": [],
   "source": [
    "sale = eircode_homogenize(sale)"
   ]
  },
  {
   "cell_type": "markdown",
   "id": "2397aca1-73fc-4377-9ce6-73560ccb3f6b",
   "metadata": {},
   "source": [
    "Let's check whether the function results are as expected."
   ]
  },
  {
   "cell_type": "code",
   "execution_count": 26,
   "id": "c5a78919-e2d1-4c8b-a5cd-47439a56a0a4",
   "metadata": {},
   "outputs": [
    {
     "data": {
      "text/plain": [
       "8.0    6278\n",
       "NaN    1249\n",
       "3.0     124\n",
       "6.0      10\n",
       "Name: postcode, dtype: int64"
      ]
     },
     "execution_count": 26,
     "metadata": {},
     "output_type": "execute_result"
    }
   ],
   "source": [
    "sale['postcode'].str.len().value_counts(dropna=False)"
   ]
  },
  {
   "cell_type": "markdown",
   "id": "40506711-436e-4f2b-b2e5-35a437003498",
   "metadata": {
    "tags": []
   },
   "source": [
    "## Adding Geonames Page Information To Sale DataFrame"
   ]
  },
  {
   "cell_type": "markdown",
   "id": "300ae7e5-bf69-4453-a762-ae8154fff523",
   "metadata": {},
   "source": []
  },
  {
   "cell_type": "code",
   "execution_count": 27,
   "id": "b3d67469-0331-45d4-8b68-b65c9c144826",
   "metadata": {},
   "outputs": [
    {
     "name": "stdout",
     "output_type": "stream",
     "text": [
      "Shape before dropping: (7661, 32)\n",
      "Shape after dropping: (7661, 36)\n",
      "----------\n",
      "Difference: 4 columns\n"
     ]
    }
   ],
   "source": [
    "sale = add_location(df=sale, geonames_df=geonames_df)"
   ]
  },
  {
   "cell_type": "code",
   "execution_count": 28,
   "id": "89a7d7ac-48c2-425a-94c2-cc8bbe283e83",
   "metadata": {},
   "outputs": [
    {
     "data": {
      "text/html": [
       "<div>\n",
       "<style scoped>\n",
       "    .dataframe tbody tr th:only-of-type {\n",
       "        vertical-align: middle;\n",
       "    }\n",
       "\n",
       "    .dataframe tbody tr th {\n",
       "        vertical-align: top;\n",
       "    }\n",
       "\n",
       "    .dataframe thead th {\n",
       "        text-align: right;\n",
       "    }\n",
       "</style>\n",
       "<table border=\"1\" class=\"dataframe\">\n",
       "  <thead>\n",
       "    <tr style=\"text-align: right;\">\n",
       "      <th></th>\n",
       "      <th>Absolute</th>\n",
       "      <th>Relative</th>\n",
       "    </tr>\n",
       "  </thead>\n",
       "  <tbody>\n",
       "    <tr>\n",
       "      <th>daft_id</th>\n",
       "      <td>0</td>\n",
       "      <td>0.000000</td>\n",
       "    </tr>\n",
       "    <tr>\n",
       "      <th>url</th>\n",
       "      <td>0</td>\n",
       "      <td>0.000000</td>\n",
       "    </tr>\n",
       "    <tr>\n",
       "      <th>name</th>\n",
       "      <td>0</td>\n",
       "      <td>0.000000</td>\n",
       "    </tr>\n",
       "    <tr>\n",
       "      <th>price</th>\n",
       "      <td>0</td>\n",
       "      <td>0.000000</td>\n",
       "    </tr>\n",
       "    <tr>\n",
       "      <th>sale_type</th>\n",
       "      <td>0</td>\n",
       "      <td>0.000000</td>\n",
       "    </tr>\n",
       "    <tr>\n",
       "      <th>floor_area</th>\n",
       "      <td>0</td>\n",
       "      <td>0.000000</td>\n",
       "    </tr>\n",
       "    <tr>\n",
       "      <th>psr</th>\n",
       "      <td>16</td>\n",
       "      <td>0.002089</td>\n",
       "    </tr>\n",
       "    <tr>\n",
       "      <th>ber</th>\n",
       "      <td>195</td>\n",
       "      <td>0.025454</td>\n",
       "    </tr>\n",
       "    <tr>\n",
       "      <th>entered_renewed</th>\n",
       "      <td>0</td>\n",
       "      <td>0.000000</td>\n",
       "    </tr>\n",
       "    <tr>\n",
       "      <th>views</th>\n",
       "      <td>0</td>\n",
       "      <td>0.000000</td>\n",
       "    </tr>\n",
       "    <tr>\n",
       "      <th>type_house</th>\n",
       "      <td>487</td>\n",
       "      <td>0.063569</td>\n",
       "    </tr>\n",
       "    <tr>\n",
       "      <th>type</th>\n",
       "      <td>0</td>\n",
       "      <td>0.000000</td>\n",
       "    </tr>\n",
       "    <tr>\n",
       "      <th>scraping_date</th>\n",
       "      <td>0</td>\n",
       "      <td>0.000000</td>\n",
       "    </tr>\n",
       "    <tr>\n",
       "      <th>description</th>\n",
       "      <td>1</td>\n",
       "      <td>0.000131</td>\n",
       "    </tr>\n",
       "    <tr>\n",
       "      <th>latitude</th>\n",
       "      <td>0</td>\n",
       "      <td>0.000000</td>\n",
       "    </tr>\n",
       "    <tr>\n",
       "      <th>longitude</th>\n",
       "      <td>0</td>\n",
       "      <td>0.000000</td>\n",
       "    </tr>\n",
       "    <tr>\n",
       "      <th>bedroom</th>\n",
       "      <td>0</td>\n",
       "      <td>0.000000</td>\n",
       "    </tr>\n",
       "    <tr>\n",
       "      <th>bathroom</th>\n",
       "      <td>0</td>\n",
       "      <td>0.000000</td>\n",
       "    </tr>\n",
       "    <tr>\n",
       "      <th>plus_info</th>\n",
       "      <td>0</td>\n",
       "      <td>0.000000</td>\n",
       "    </tr>\n",
       "    <tr>\n",
       "      <th>country_code</th>\n",
       "      <td>0</td>\n",
       "      <td>0.000000</td>\n",
       "    </tr>\n",
       "    <tr>\n",
       "      <th>country</th>\n",
       "      <td>0</td>\n",
       "      <td>0.000000</td>\n",
       "    </tr>\n",
       "    <tr>\n",
       "      <th>postcode</th>\n",
       "      <td>1249</td>\n",
       "      <td>0.163034</td>\n",
       "    </tr>\n",
       "    <tr>\n",
       "      <th>state_district</th>\n",
       "      <td>394</td>\n",
       "      <td>0.051429</td>\n",
       "    </tr>\n",
       "    <tr>\n",
       "      <th>county</th>\n",
       "      <td>695</td>\n",
       "      <td>0.090719</td>\n",
       "    </tr>\n",
       "    <tr>\n",
       "      <th>municipality</th>\n",
       "      <td>6390</td>\n",
       "      <td>0.834095</td>\n",
       "    </tr>\n",
       "    <tr>\n",
       "      <th>city</th>\n",
       "      <td>5645</td>\n",
       "      <td>0.736849</td>\n",
       "    </tr>\n",
       "    <tr>\n",
       "      <th>town</th>\n",
       "      <td>6520</td>\n",
       "      <td>0.851064</td>\n",
       "    </tr>\n",
       "    <tr>\n",
       "      <th>city_district</th>\n",
       "      <td>367</td>\n",
       "      <td>0.047905</td>\n",
       "    </tr>\n",
       "    <tr>\n",
       "      <th>locality</th>\n",
       "      <td>7655</td>\n",
       "      <td>0.999217</td>\n",
       "    </tr>\n",
       "    <tr>\n",
       "      <th>suburb</th>\n",
       "      <td>5907</td>\n",
       "      <td>0.771048</td>\n",
       "    </tr>\n",
       "    <tr>\n",
       "      <th>road</th>\n",
       "      <td>1935</td>\n",
       "      <td>0.252578</td>\n",
       "    </tr>\n",
       "    <tr>\n",
       "      <th>house_number</th>\n",
       "      <td>6257</td>\n",
       "      <td>0.816734</td>\n",
       "    </tr>\n",
       "    <tr>\n",
       "      <th>place</th>\n",
       "      <td>1304</td>\n",
       "      <td>0.170213</td>\n",
       "    </tr>\n",
       "    <tr>\n",
       "      <th>code</th>\n",
       "      <td>1304</td>\n",
       "      <td>0.170213</td>\n",
       "    </tr>\n",
       "    <tr>\n",
       "      <th>admin1</th>\n",
       "      <td>1304</td>\n",
       "      <td>0.170213</td>\n",
       "    </tr>\n",
       "    <tr>\n",
       "      <th>place_coordinates</th>\n",
       "      <td>1304</td>\n",
       "      <td>0.170213</td>\n",
       "    </tr>\n",
       "  </tbody>\n",
       "</table>\n",
       "</div>"
      ],
      "text/plain": [
       "                   Absolute  Relative\n",
       "daft_id                   0  0.000000\n",
       "url                       0  0.000000\n",
       "name                      0  0.000000\n",
       "price                     0  0.000000\n",
       "sale_type                 0  0.000000\n",
       "floor_area                0  0.000000\n",
       "psr                      16  0.002089\n",
       "ber                     195  0.025454\n",
       "entered_renewed           0  0.000000\n",
       "views                     0  0.000000\n",
       "type_house              487  0.063569\n",
       "type                      0  0.000000\n",
       "scraping_date             0  0.000000\n",
       "description               1  0.000131\n",
       "latitude                  0  0.000000\n",
       "longitude                 0  0.000000\n",
       "bedroom                   0  0.000000\n",
       "bathroom                  0  0.000000\n",
       "plus_info                 0  0.000000\n",
       "country_code              0  0.000000\n",
       "country                   0  0.000000\n",
       "postcode               1249  0.163034\n",
       "state_district          394  0.051429\n",
       "county                  695  0.090719\n",
       "municipality           6390  0.834095\n",
       "city                   5645  0.736849\n",
       "town                   6520  0.851064\n",
       "city_district           367  0.047905\n",
       "locality               7655  0.999217\n",
       "suburb                 5907  0.771048\n",
       "road                   1935  0.252578\n",
       "house_number           6257  0.816734\n",
       "place                  1304  0.170213\n",
       "code                   1304  0.170213\n",
       "admin1                 1304  0.170213\n",
       "place_coordinates      1304  0.170213"
      ]
     },
     "execution_count": 28,
     "metadata": {},
     "output_type": "execute_result"
    }
   ],
   "source": [
    "missing_values(sale)"
   ]
  },
  {
   "cell_type": "markdown",
   "id": "5c6acf96-eee7-4c51-9af4-6c95d4063140",
   "metadata": {},
   "source": [
    "Let's drop those columns that won't be useful in the future."
   ]
  },
  {
   "cell_type": "code",
   "execution_count": 30,
   "id": "2f238c2e-b813-4624-af42-0c16767512e6",
   "metadata": {},
   "outputs": [],
   "source": [
    "sale.drop(columns=['country_code', 'country', 'county', 'municipality', \n",
    "                   'city', 'town', 'locality', 'suburb', 'road', 'house_number', \n",
    "                   'admin1', 'place_coordinates'], inplace=True)"
   ]
  },
  {
   "cell_type": "code",
   "execution_count": 31,
   "id": "2ecb14af-63f0-42fe-b8eb-83dd696a9eb2",
   "metadata": {},
   "outputs": [],
   "source": [
    "sale.to_csv('data_available/sale_post_geosp_fe.csv', \n",
    "                 sep=',', index=False)"
   ]
  },
  {
   "cell_type": "markdown",
   "id": "edabfbfa-d32c-4cfa-b43c-02b9afbbe097",
   "metadata": {},
   "source": [
    "----------------------"
   ]
  },
  {
   "cell_type": "markdown",
   "id": "5656ca4a-7798-4fe8-a9b3-619800ddaa7f",
   "metadata": {
    "tags": []
   },
   "source": [
    "# Comprobar despues "
   ]
  },
  {
   "cell_type": "markdown",
   "id": "43f487f3-4506-46a6-9793-eaf6f6622fd3",
   "metadata": {
    "jp-MarkdownHeadingCollapsed": true,
    "tags": []
   },
   "source": [
    "### Assing Coordinates to Different Clusters"
   ]
  },
  {
   "cell_type": "code",
   "execution_count": null,
   "id": "49b1b9f1-b8d4-4ff0-92ee-3e30d19dcf31",
   "metadata": {},
   "outputs": [],
   "source": [
    "from sklearn.cluster import KMeans\n",
    "\n",
    "def cluster(data):\n",
    "    '''\n",
    "    input: dataframe containing Latitude(x) and Longitude(y) coordinates\n",
    "    output: series of cluster labels that each row of coordinates belongs to.\n",
    "    '''\n",
    "    model = KMeans(n_clusters=50)\n",
    "    labels = model.fit_predict(data)\n",
    "    return labels"
   ]
  },
  {
   "cell_type": "code",
   "execution_count": null,
   "id": "0e56a7f8-86bf-4247-9f2d-54dade68df4f",
   "metadata": {},
   "outputs": [],
   "source": []
  },
  {
   "cell_type": "markdown",
   "id": "b72befc5-bc3c-45b2-a92c-d7223110877d",
   "metadata": {
    "jp-MarkdownHeadingCollapsed": true,
    "tags": []
   },
   "source": [
    "#### Visualization"
   ]
  },
  {
   "cell_type": "code",
   "execution_count": 35,
   "id": "041b499e-01ed-439d-a059-653e191589b5",
   "metadata": {},
   "outputs": [],
   "source": [
    "import matplotlib.pyplot as plt\n",
    "def visualize(data):\n",
    "    '''\n",
    "    input: dataframe containing Latitude(x) and Longitude(y)\n",
    "    '''\n",
    "    plt.scatter(data['longitude'], data['latitude'], color='blue', s=1, alpha=0.1)\n",
    "    #data[['longitude','latitude']].scatter(color='blue', s=1, alpha=0.1)\n",
    "    plt.title('Visualization of Latitude and Longitude')\n",
    "    plt.ylabel('latitude')\n",
    "    plt.xlabel('longitude')\n",
    "    #plt.ylim([53.350, 53.325])\n",
    "    #plt.xlim([-6.24, -6.23])\n",
    "    plt.show()"
   ]
  },
  {
   "cell_type": "code",
   "execution_count": 36,
   "id": "3e16e1b4-c47e-436e-9508-9145e69fcb42",
   "metadata": {},
   "outputs": [
    {
     "data": {
      "image/png": "[encoded data removed]",
      "text/plain": [
       "<Figure size 576x396 with 1 Axes>"
      ]
     },
     "metadata": {},
     "output_type": "display_data"
    }
   ],
   "source": [
    "visualize(sale)"
   ]
  },
  {
   "cell_type": "code",
   "execution_count": null,
   "id": "d205fbab-c837-40ff-ba34-555eb8a6a896",
   "metadata": {},
   "outputs": [],
   "source": []
  },
  {
   "cell_type": "code",
   "execution_count": null,
   "id": "ac33ffc8-5090-4139-8f62-2c0eafac15de",
   "metadata": {},
   "outputs": [],
   "source": []
  },
  {
   "cell_type": "code",
   "execution_count": null,
   "id": "a1adbe20-8a34-4384-86d9-d84c3ae2841e",
   "metadata": {},
   "outputs": [],
   "source": []
  },
  {
   "cell_type": "code",
   "execution_count": null,
   "id": "1655181b-f92a-4001-92f1-351fe2476b84",
   "metadata": {},
   "outputs": [],
   "source": []
  },
  {
   "cell_type": "code",
   "execution_count": null,
   "id": "82e9b430-32f1-4790-ac8c-dbb9f4c8d971",
   "metadata": {},
   "outputs": [],
   "source": []
  },
  {
   "cell_type": "code",
   "execution_count": null,
   "id": "4a28156f-c328-49c0-9f6c-c63454a04d29",
   "metadata": {},
   "outputs": [],
   "source": []
  },
  {
   "cell_type": "code",
   "execution_count": null,
   "id": "1e6accc5-0d28-4260-ad6a-495d63208023",
   "metadata": {},
   "outputs": [],
   "source": []
  },
  {
   "cell_type": "markdown",
   "id": "b3204582-2f1b-4b36-96b2-2a2a0bfdcf49",
   "metadata": {
    "jp-MarkdownHeadingCollapsed": true,
    "tags": []
   },
   "source": [
    "### Polar Coordinates"
   ]
  },
  {
   "cell_type": "code",
   "execution_count": null,
   "id": "b9062909-fd45-4e8d-950b-74839abc7342",
   "metadata": {},
   "outputs": [],
   "source": [
    "# Converting Cartesian Coordinate to Polar Coordinate\n",
    "# Importing math library\n",
    "import math\n",
    "\n",
    "# Reading cartesian coordinate\n",
    "x = sale_data['latitude']\n",
    "y = sale_data['longitude']\n",
    "\n",
    "# Converting cartesian to polar coordinate\n",
    "# Calculating radius\n",
    "#radius = math.sqrt( x * x + y * y )\n",
    "radius = ((x * x) + (y * y)) ** (1 / 2)\n",
    "# Calculating angle (theta) in radian\n",
    "theta = np.arctan(y / x)\n",
    "# Converting theta from radian to degree\n",
    "theta = 180 * theta / math.pi\n",
    "\n",
    "# Displaying polar coordinates\n",
    "#print('Polar coordinate is: (radius = %0.2f,theta = %0.2f)' %(radius, theta))"
   ]
  },
  {
   "cell_type": "code",
   "execution_count": null,
   "id": "67255e13-3328-41a4-9d2e-c9584f8a4875",
   "metadata": {},
   "outputs": [],
   "source": [
    "plt.scatter(theta, radius, color='red', s=1);#alpha=0.1"
   ]
  },
  {
   "cell_type": "markdown",
   "id": "99e34b56-d4a8-4980-949a-b626967c440e",
   "metadata": {
    "jp-MarkdownHeadingCollapsed": true,
    "tags": []
   },
   "source": [
    "### Rotational Cartesian Coordinates"
   ]
  },
  {
   "cell_type": "code",
   "execution_count": null,
   "id": "376212f4-df47-4ba6-a335-dfdc5fd7d55a",
   "metadata": {},
   "outputs": [],
   "source": [
    "def rotation(df):\n",
    "    rot_45_x = (0.707 * df['latitude']) + (0.707 * df['longitude'])\n",
    "    rot_45_y = (0.707 * df['longitude']) + (0.707 * df['latitude'])\n",
    "    rot_30_x = (0.866 * df['latitude']) + (0.5 * df['longitude'])\n",
    "    rot_30_y = (0.866 * df['longitude']) + (0.5 * df['latitude'])\n",
    "    return rot_45_x, rot_45_y, rot_30_x, rot_30_y"
   ]
  },
  {
   "cell_type": "code",
   "execution_count": null,
   "id": "d9a3f288-3f65-4c2d-959f-9c61b92e2981",
   "metadata": {},
   "outputs": [],
   "source": [
    "rot_45_x, rot_45_y, rot_30_x, rot_30_y = rotation(sale_data)"
   ]
  },
  {
   "cell_type": "code",
   "execution_count": null,
   "id": "b78daf1a-0ec2-43c4-b264-11ddcce6c3fc",
   "metadata": {},
   "outputs": [],
   "source": [
    "plt.scatter(rot_45_x, rot_45_y);"
   ]
  },
  {
   "cell_type": "code",
   "execution_count": null,
   "id": "edf50703-1c8f-4625-80fa-d48e1d906985",
   "metadata": {},
   "outputs": [],
   "source": [
    "plt.scatter(rot_30_x, rot_30_y);"
   ]
  },
  {
   "cell_type": "markdown",
   "id": "40e3aeaa-80cd-44bd-a315-b5345e005f32",
   "metadata": {
    "jp-MarkdownHeadingCollapsed": true,
    "tags": []
   },
   "source": [
    "### Haversine Distance"
   ]
  },
  {
   "cell_type": "code",
   "execution_count": null,
   "id": "79354535-a0b6-40f9-8507-bc6cd04b5890",
   "metadata": {},
   "outputs": [],
   "source": [
    "def haversine_dist(lat1,lng1,lat2,lng2):\n",
    "    lat1, lng1, lat2, lng2 = map(np.radians, (lat1, lng1, lat2, lng2))\n",
    "    radius = 6371  # Earth's radius taken from google\n",
    "    lat = lat2 - lat1\n",
    "    lng = lng2 - lng1\n",
    "    d = np.sin(lat/2) ** 2 + np.cos(lat1) * np.cos(lat2) * np.sin(lng/2) ** 2\n",
    "    h = 2 * radius * np.arcsin(np.sqrt(d))\n",
    "    return h"
   ]
  },
  {
   "cell_type": "code",
   "execution_count": null,
   "id": "2af76c9b-b22b-40df-bfe6-3d168566655c",
   "metadata": {},
   "outputs": [],
   "source": []
  },
  {
   "cell_type": "markdown",
   "id": "ea9c9278-8f69-4fb0-b0d8-e7de058a2aea",
   "metadata": {
    "jp-MarkdownHeadingCollapsed": true,
    "tags": []
   },
   "source": [
    "### Manhattan Distance"
   ]
  },
  {
   "cell_type": "code",
   "execution_count": null,
   "id": "76a08f25-f32b-445f-abba-f271b38b2355",
   "metadata": {},
   "outputs": [],
   "source": [
    "def manhattan_dist(lat1, lng1, lat2, lng2):\n",
    "    '''\n",
    "    calculating two haversine distances by,\n",
    "     - avoiding Latitude of one point \n",
    "     - avoiding Longitude of one point\n",
    "    and adding it together.\n",
    "    '''\n",
    "    a = haversine_dist(lat1, lng1, lat1, lng2)\n",
    "    b = haversine_dist(lat1, lng1, lat2, lng1)\n",
    "    return a + b"
   ]
  },
  {
   "cell_type": "markdown",
   "id": "d2a03244-2f86-4b48-a9c8-45575cc32390",
   "metadata": {
    "jp-MarkdownHeadingCollapsed": true,
    "tags": []
   },
   "source": [
    "### Bearing Degree"
   ]
  },
  {
   "cell_type": "code",
   "execution_count": null,
   "id": "6c96899a-04e0-47bd-94c2-3048542ba95c",
   "metadata": {},
   "outputs": [],
   "source": [
    "def bearing_degree(lat1, lng1, lat2, lng2):\n",
    "    '''\n",
    "    calculate angle between two points\n",
    "    '''\n",
    "    radius = 6371  # Mean radius of Earth\n",
    "    diff_lng = np.radians(lng2 - lng1)\n",
    "    lat1, lng1, lat2, lng2 = map(np.radians, (lat1, lng1, lat2, lng2))\n",
    "    y = np.sin(diff_lng) * np.cos(lat2)\n",
    "    x = np.cos(lat1) * np.sin(lat2) - np.sin(lat1) * np.cos(lat2) * np.cos(diff_lng)\n",
    "    return np.degrees(np.arctan2(y, x))"
   ]
  },
  {
   "cell_type": "code",
   "execution_count": null,
   "id": "01247aef-cf67-4740-aaa3-92432aa6fa5a",
   "metadata": {},
   "outputs": [],
   "source": []
  },
  {
   "cell_type": "markdown",
   "id": "a214e756-88a0-459e-a1d1-cfc42f9dcfbd",
   "metadata": {
    "jp-MarkdownHeadingCollapsed": true,
    "tags": []
   },
   "source": [
    "### Rotational Coordinates using PCA"
   ]
  },
  {
   "cell_type": "markdown",
   "id": "90699dd0-d54f-406d-a836-405872c77020",
   "metadata": {},
   "source": [
    "Here, the idea is only to rotate them which would help decision tree splits in typical tree-based models."
   ]
  },
  {
   "cell_type": "code",
   "execution_count": null,
   "id": "7b6cc4ec-a42f-4a43-907f-4e6d3236afaa",
   "metadata": {},
   "outputs": [],
   "source": [
    "from sklearn.decomposition import PCA\n",
    "def pca(data):\n",
    "    '''\n",
    "    input: dataframe containing Latitude(x) and Longitude(y)\n",
    "    '''\n",
    "    coordinates = data[['x','y']].values\n",
    "    pca_obj = PCA().fit(coordinates)\n",
    "    pca_x = pca_obj.transform(data[['x', 'y']])[:,0]\n",
    "    pca_y = pca_obj.transform(data[['x', 'y']])[:,1]\n",
    "    return pca_x, pca_y"
   ]
  },
  {
   "cell_type": "code",
   "execution_count": null,
   "id": "1d9eb4ce-e7fc-4730-9b02-5be5f1539801",
   "metadata": {},
   "outputs": [],
   "source": []
  }
 ],
 "metadata": {
  "kernelspec": {
   "display_name": "Python 3 (ipykernel)",
   "language": "python",
   "name": "python3"
  },
  "language_info": {
   "codemirror_mode": {
    "name": "ipython",
    "version": 3
   },
   "file_extension": ".py",
   "mimetype": "text/x-python",
   "name": "python",
   "nbconvert_exporter": "python",
   "pygments_lexer": "ipython3",
   "version": "3.7.11"
  }
 },
 "nbformat": 4,
 "nbformat_minor": 5
}
