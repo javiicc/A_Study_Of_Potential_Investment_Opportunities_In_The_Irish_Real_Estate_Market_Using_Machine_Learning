{
 "cells": [
  {
   "cell_type": "code",
   "execution_count": 15,
   "id": "a930ee9c",
   "metadata": {},
   "outputs": [],
   "source": [
    "import requests \n",
    "#from pprint import pprint\n",
    "#Lets test what headers are sent by sending a request to HTTPBin\n",
    "r = requests.get('http://httpbin.org/headers')\n",
    "#print(r.json())"
   ]
  },
  {
   "cell_type": "code",
   "execution_count": 16,
   "id": "af2248c6",
   "metadata": {},
   "outputs": [
    {
     "data": {
      "text/plain": [
       "{'headers': {'Accept': '*/*',\n",
       "  'Accept-Encoding': 'gzip, deflate',\n",
       "  'Host': 'httpbin.org',\n",
       "  'User-Agent': 'python-requests/2.25.1',\n",
       "  'X-Amzn-Trace-Id': 'Root=1-611ad2cb-1e35febd5196f8735ab9ce8d'}}"
      ]
     },
     "execution_count": 16,
     "metadata": {},
     "output_type": "execute_result"
    }
   ],
   "source": [
    "r.json()"
   ]
  },
  {
   "cell_type": "code",
   "execution_count": 17,
   "id": "711373e4",
   "metadata": {},
   "outputs": [
    {
     "data": {
      "text/plain": [
       "200"
      ]
     },
     "execution_count": 17,
     "metadata": {},
     "output_type": "execute_result"
    }
   ],
   "source": [
    "r.status_code"
   ]
  },
  {
   "cell_type": "code",
   "execution_count": 19,
   "id": "ffadbfdc",
   "metadata": {},
   "outputs": [
    {
     "data": {
      "text/plain": [
       "{'User-Agent': 'python-requests/2.25.1', 'Accept-Encoding': 'gzip, deflate', 'Accept': '*/*', 'Connection': 'keep-alive'}"
      ]
     },
     "execution_count": 19,
     "metadata": {},
     "output_type": "execute_result"
    }
   ],
   "source": [
    "r.request.headers"
   ]
  },
  {
   "cell_type": "code",
   "execution_count": null,
   "id": "1df58bf0",
   "metadata": {},
   "outputs": [],
   "source": []
  },
  {
   "cell_type": "code",
   "execution_count": 10,
   "id": "4578e8c9",
   "metadata": {},
   "outputs": [
    {
     "data": {
      "text/plain": [
       "{'headers': {'Accept': '*/*',\n",
       "  'Accept-Encoding': 'gzip, deflate',\n",
       "  'Host': 'httpbin.org',\n",
       "  'User-Agent': 'Mozilla/5.0 (Macintosh; Intel Mac OS X 10_15_4) AppleWebKit/537.36 (KHTML, like Gecko) Chrome/83.0.4103.97 Safari/537.36',\n",
       "  'X-Amzn-Trace-Id': 'Root=1-611a849b-0de2e19d6ea1baee1baf1fc9'}}"
      ]
     },
     "execution_count": 10,
     "metadata": {},
     "output_type": "execute_result"
    }
   ],
   "source": [
    "headers = {\"User-Agent\":\"Mozilla/5.0 (Macintosh; Intel Mac OS X 10_15_4) AppleWebKit/537.36 (KHTML, like Gecko) Chrome/83.0.4103.97 Safari/537.36\"}\n",
    "#Lets test what headers are sent by sending a request to HTTPBin\n",
    "r = requests.get('http://httpbin.org/headers',headers=headers)\n",
    "r.json()"
   ]
  },
  {
   "cell_type": "code",
   "execution_count": null,
   "id": "b4e17ba7",
   "metadata": {},
   "outputs": [],
   "source": []
  },
  {
   "cell_type": "code",
   "execution_count": 11,
   "id": "26607eb1",
   "metadata": {},
   "outputs": [
    {
     "data": {
      "text/plain": [
       "{'headers': {'Accept': 'text/html,application/xhtml+xml,application/xml;q=0.9,image/webp,image/apng,*/*;q=0.8,application/signed-exchange;v=b3;q=0.9',\n",
       "  'Accept-Encoding': 'gzip, deflate',\n",
       "  'Accept-Language': 'en-GB,en-US;q=0.9,en;q=0.8',\n",
       "  'Dnt': '1',\n",
       "  'Host': 'httpbin.org',\n",
       "  'Upgrade-Insecure-Requests': '1',\n",
       "  'User-Agent': 'Mozilla/5.0 (Macintosh; Intel Mac OS X 10_15_4) AppleWebKit/537.36 (KHTML, like Gecko) Chrome/83.0.4103.97 Safari/537.36',\n",
       "  'X-Amzn-Trace-Id': 'Root=1-611a85ed-4b2a525c736e74ff6a29042e'}}"
      ]
     },
     "execution_count": 11,
     "metadata": {},
     "output_type": "execute_result"
    }
   ],
   "source": [
    "headers = {\n",
    "\"Accept\": \"text/html,application/xhtml+xml,application/xml;q=0.9,image/webp,image/apng,*/*;q=0.8,application/signed-exchange;v=b3;q=0.9\", \n",
    "\"Accept-Encoding\": \"gzip, deflate\", \n",
    "\"Accept-Language\": \"en-GB,en-US;q=0.9,en;q=0.8\", \n",
    "\"Dnt\": \"1\", \n",
    "\"Host\": \"httpbin.org\", \n",
    "\"Upgrade-Insecure-Requests\": \"1\", \n",
    "\"User-Agent\": \"Mozilla/5.0 (Macintosh; Intel Mac OS X 10_15_4) AppleWebKit/537.36 (KHTML, like Gecko) Chrome/83.0.4103.97 Safari/537.36\", \n",
    "}\n",
    "r = requests.get(\"http://httpbin.org/headers\",headers=headers)\n",
    "r.json()"
   ]
  },
  {
   "cell_type": "code",
   "execution_count": null,
   "id": "7016f988",
   "metadata": {},
   "outputs": [],
   "source": []
  },
  {
   "cell_type": "code",
   "execution_count": 13,
   "id": "6f06c60d",
   "metadata": {},
   "outputs": [
    {
     "name": "stdout",
     "output_type": "stream",
     "text": [
      "Request #1\n",
      "User-Agent Sent:Mozilla/5.0 (Macintosh; Intel Mac OS X 10.15; rv:77.0) Gecko/20100101 Firefox/77.0\n",
      "\n",
      "Headers Recevied by HTTPBin:\n",
      "{'headers': {'Accept': '*/*', 'Accept-Encoding': 'gzip, deflate', 'Host': 'httpbin.org', 'User-Agent': 'Mozilla/5.0 (Macintosh; Intel Mac OS X 10.15; rv:77.0) Gecko/20100101 Firefox/77.0', 'X-Amzn-Trace-Id': 'Root=1-611a8889-3f377bcd723ae073160a3a28'}}\n",
      "-------------------\n",
      "Request #2\n",
      "User-Agent Sent:Mozilla/5.0 (Windows NT 10.0; Win64; x64; rv:77.0) Gecko/20100101 Firefox/77.0\n",
      "\n",
      "Headers Recevied by HTTPBin:\n",
      "{'headers': {'Accept': '*/*', 'Accept-Encoding': 'gzip, deflate', 'Host': 'httpbin.org', 'User-Agent': 'Mozilla/5.0 (Windows NT 10.0; Win64; x64; rv:77.0) Gecko/20100101 Firefox/77.0', 'X-Amzn-Trace-Id': 'Root=1-611a8889-7353cbbf6cf8891a159a2178'}}\n",
      "-------------------\n",
      "Request #3\n",
      "User-Agent Sent:Mozilla/5.0 (Windows NT 10.0; Win64; x64; rv:77.0) Gecko/20100101 Firefox/77.0\n",
      "\n",
      "Headers Recevied by HTTPBin:\n",
      "{'headers': {'Accept': '*/*', 'Accept-Encoding': 'gzip, deflate', 'Host': 'httpbin.org', 'User-Agent': 'Mozilla/5.0 (Windows NT 10.0; Win64; x64; rv:77.0) Gecko/20100101 Firefox/77.0', 'X-Amzn-Trace-Id': 'Root=1-611a888a-5aaae25711a164c611b571c5'}}\n",
      "-------------------\n"
     ]
    }
   ],
   "source": [
    "import random\n",
    "user_agent_list = [\n",
    "'Mozilla/5.0 (Macintosh; Intel Mac OS X 10_15_5) AppleWebKit/605.1.15 (KHTML, like Gecko) Version/13.1.1 Safari/605.1.15',\n",
    "'Mozilla/5.0 (Windows NT 10.0; Win64; x64; rv:77.0) Gecko/20100101 Firefox/77.0',\n",
    "'Mozilla/5.0 (Macintosh; Intel Mac OS X 10_15_5) AppleWebKit/537.36 (KHTML, like Gecko) Chrome/83.0.4103.97 Safari/537.36',\n",
    "'Mozilla/5.0 (Macintosh; Intel Mac OS X 10.15; rv:77.0) Gecko/20100101 Firefox/77.0',\n",
    "'Mozilla/5.0 (Windows NT 10.0; Win64; x64) AppleWebKit/537.36 (KHTML, like Gecko) Chrome/83.0.4103.97 Safari/537.36',\n",
    "]\n",
    "url = 'https://httpbin.org/headers'\n",
    "for i in range(1,4):\n",
    "    #Pick a random user agent\n",
    "    user_agent = random.choice(user_agent_list)\n",
    "    #Set the headers \n",
    "    headers = {'User-Agent': user_agent}\n",
    "    #Make the request\n",
    "    response = requests.get(url,headers=headers)\n",
    "    print(\"Request #%d\\nUser-Agent Sent:%s\\n\\nHeaders Recevied by HTTPBin:\"%(i,user_agent))\n",
    "    print(response.json())\n",
    "    print(\"-------------------\")"
   ]
  },
  {
   "cell_type": "code",
   "execution_count": null,
   "id": "cab5258b",
   "metadata": {},
   "outputs": [],
   "source": []
  },
  {
   "cell_type": "code",
   "execution_count": 14,
   "id": "c9c92436",
   "metadata": {},
   "outputs": [
    {
     "name": "stdout",
     "output_type": "stream",
     "text": [
      "Request #1\n",
      "User-Agent Sent:Mozilla/5.0 (Windows NT 10.0; Win64; x64) AppleWebKit/537.36 (KHTML, like Gecko) Chrome/83.0.4103.97 Safari/537.36\n",
      "\n",
      "Headers Recevied by HTTPBin:\n",
      "{'headers': {'Accept': 'text/html,application/xhtml+xml,application/xml;q=0.9,image/webp,image/apng,*/*;q=0.8,application/signed-exchange;v=b3;q=0.9', 'Accept-Encoding': 'gzip, deflate, br', 'Accept-Language': 'en-US,en;q=0.9', 'Host': 'httpbin.org', 'Referer': 'https://www.google.com/', 'Sec-Fetch-Dest': 'document', 'Sec-Fetch-Mode': 'navigate', 'Sec-Fetch-Site': 'same-origin', 'Sec-Fetch-User': '?1', 'Upgrade-Insecure-Requests': '1', 'User-Agent': 'Mozilla/5.0 (Windows NT 10.0; Win64; x64) AppleWebKit/537.36 (KHTML, like Gecko) Chrome/83.0.4103.97 Safari/537.36', 'X-Amzn-Trace-Id': 'Root=1-611a8bc9-2471a0ef6cbdcc311ced1046'}}\n",
      "-------------------\n",
      "Request #2\n",
      "User-Agent Sent:Mozilla/5.0 (Macintosh; Intel Mac OS X 10.15; rv:77.0) Gecko/20100101 Firefox/77.0\n",
      "\n",
      "Headers Recevied by HTTPBin:\n",
      "{'headers': {'Accept': 'text/html,application/xhtml+xml,application/xml;q=0.9,image/webp,*/*;q=0.8', 'Accept-Encoding': 'identity', 'Accept-Language': 'en-US,en;q=0.5', 'Dnt': '1', 'Host': 'httpbin.org', 'Referer': 'https://www.google.com/', 'Upgrade-Insecure-Requests': '1', 'User-Agent': 'Mozilla/5.0 (Macintosh; Intel Mac OS X 10.15; rv:77.0) Gecko/20100101 Firefox/77.0', 'X-Amzn-Trace-Id': 'Root=1-611a8bca-7923e2ca4d38515748a86723'}}\n",
      "-------------------\n",
      "Request #3\n",
      "User-Agent Sent:Mozilla/5.0 (Windows NT 10.0; Win64; x64) AppleWebKit/537.36 (KHTML, like Gecko) Chrome/83.0.4103.97 Safari/537.36\n",
      "\n",
      "Headers Recevied by HTTPBin:\n",
      "{'headers': {'Accept': 'text/html,application/xhtml+xml,application/xml;q=0.9,image/webp,image/apng,*/*;q=0.8,application/signed-exchange;v=b3;q=0.9', 'Accept-Encoding': 'gzip, deflate, br', 'Accept-Language': 'en-US,en;q=0.9', 'Host': 'httpbin.org', 'Referer': 'https://www.google.com/', 'Sec-Fetch-Dest': 'document', 'Sec-Fetch-Mode': 'navigate', 'Sec-Fetch-Site': 'same-origin', 'Sec-Fetch-User': '?1', 'Upgrade-Insecure-Requests': '1', 'User-Agent': 'Mozilla/5.0 (Windows NT 10.0; Win64; x64) AppleWebKit/537.36 (KHTML, like Gecko) Chrome/83.0.4103.97 Safari/537.36', 'X-Amzn-Trace-Id': 'Root=1-611a8bca-49d1215e44e196ed57eea8bb'}}\n",
      "-------------------\n"
     ]
    }
   ],
   "source": [
    "import requests\n",
    "import random \n",
    "from collections import OrderedDict\n",
    "\n",
    "# This data was created by using the curl method explained above\n",
    "headers_list = [\n",
    "# Firefox 77 Mac\n",
    "{\n",
    "\"User-Agent\": \"Mozilla/5.0 (Macintosh; Intel Mac OS X 10.15; rv:77.0) Gecko/20100101 Firefox/77.0\",\n",
    "\"Accept\": \"text/html,application/xhtml+xml,application/xml;q=0.9,image/webp,*/*;q=0.8\",\n",
    "\"Accept-Language\": \"en-US,en;q=0.5\",\n",
    "\"Referer\": \"https://www.google.com/\",\n",
    "\"DNT\": \"1\",\n",
    "\"Connection\": \"keep-alive\",\n",
    "\"Upgrade-Insecure-Requests\": \"1\"\n",
    "},\n",
    "# Firefox 77 Windows\n",
    "{\n",
    "\"User-Agent\": \"Mozilla/5.0 (Windows NT 10.0; Win64; x64; rv:77.0) Gecko/20100101 Firefox/77.0\",\n",
    "\"Accept\": \"text/html,application/xhtml+xml,application/xml;q=0.9,image/webp,*/*;q=0.8\",\n",
    "\"Accept-Language\": \"en-US,en;q=0.5\",\n",
    "\"Accept-Encoding\": \"gzip, deflate, br\",\n",
    "\"Referer\": \"https://www.google.com/\",\n",
    "\"DNT\": \"1\",\n",
    "\"Connection\": \"keep-alive\",\n",
    "\"Upgrade-Insecure-Requests\": \"1\"\n",
    "},\n",
    "# Chrome 83 Mac\n",
    "{\n",
    "\"Connection\": \"keep-alive\",\n",
    "\"DNT\": \"1\",\n",
    "\"Upgrade-Insecure-Requests\": \"1\",\n",
    "\"User-Agent\": \"Mozilla/5.0 (Macintosh; Intel Mac OS X 10_15_5) AppleWebKit/537.36 (KHTML, like Gecko) Chrome/83.0.4103.97 Safari/537.36\",\n",
    "\"Accept\": \"text/html,application/xhtml+xml,application/xml;q=0.9,image/webp,image/apng,*/*;q=0.8,application/signed-exchange;v=b3;q=0.9\",\n",
    "\"Sec-Fetch-Site\": \"none\",\n",
    "\"Sec-Fetch-Mode\": \"navigate\",\n",
    "\"Sec-Fetch-Dest\": \"document\",\n",
    "\"Referer\": \"https://www.google.com/\",\n",
    "\"Accept-Encoding\": \"gzip, deflate, br\",\n",
    "\"Accept-Language\": \"en-GB,en-US;q=0.9,en;q=0.8\"\n",
    "},\n",
    "# Chrome 83 Windows \n",
    "{\n",
    "\"Connection\": \"keep-alive\",\n",
    "\"Upgrade-Insecure-Requests\": \"1\",\n",
    "\"User-Agent\": \"Mozilla/5.0 (Windows NT 10.0; Win64; x64) AppleWebKit/537.36 (KHTML, like Gecko) Chrome/83.0.4103.97 Safari/537.36\",\n",
    "\"Accept\": \"text/html,application/xhtml+xml,application/xml;q=0.9,image/webp,image/apng,*/*;q=0.8,application/signed-exchange;v=b3;q=0.9\",\n",
    "\"Sec-Fetch-Site\": \"same-origin\",\n",
    "\"Sec-Fetch-Mode\": \"navigate\",\n",
    "\"Sec-Fetch-User\": \"?1\",\n",
    "\"Sec-Fetch-Dest\": \"document\",\n",
    "\"Referer\": \"https://www.google.com/\",\n",
    "\"Accept-Encoding\": \"gzip, deflate, br\",\n",
    "\"Accept-Language\": \"en-US,en;q=0.9\"\n",
    "}\n",
    "]\n",
    "\n",
    "# Create ordered dict from Headers above\n",
    "ordered_headers_list = []\n",
    "for headers in headers_list:\n",
    "    h = OrderedDict()\n",
    "    \n",
    "for header,value in headers.items():\n",
    "    h[header]=value\n",
    "    ordered_headers_list.append(h)\n",
    "    \n",
    "url = 'https://httpbin.org/headers'\n",
    "for i in range(1,4):\n",
    "    #Pick a random browser headers\n",
    "    headers = random.choice(headers_list)\n",
    "    #Create a request session\n",
    "    r = requests.Session()\n",
    "    r.headers = headers\n",
    "    response = r.get(url)\n",
    "    print(\"Request #%d\\nUser-Agent Sent:%s\\n\\nHeaders Recevied by HTTPBin:\"%(i,headers['User-Agent']))\n",
    "    print(response.json())\n",
    "    print(\"-------------------\")\n",
    "    \n",
    "    "
   ]
  },
  {
   "cell_type": "code",
   "execution_count": null,
   "id": "adfdd772",
   "metadata": {},
   "outputs": [],
   "source": []
  },
  {
   "cell_type": "code",
   "execution_count": null,
   "id": "598e67db",
   "metadata": {},
   "outputs": [],
   "source": [
    "headers_list = [\n",
    "    {\n",
    "    \"Accept\": \"text/html,application/xhtml+xml,application/xml;q=0.9,image/avif,image/webp,image/apng,*/*;q=0.8,application/signed-exchange;v=b3;q=0.9\", \n",
    "    \"Accept-Encoding\": \"gzip, deflate, br\", \n",
    "    \"Accept-Language\": \"en-GB,en-US;q=0.9,en;q=0.8\", \n",
    "    \"Host\": \"httpbin.org\", \n",
    "    \"Referer\": \"https://www.scrapehero.com/\", \n",
    "    \"Sec-Ch-Ua\": \"\\\"Chromium\\\";v=\\\"92\\\", \\\" Not A;Brand\\\";v=\\\"99\\\", \\\"Google Chrome\\\";v=\\\"92\\\"\", \n",
    "    \"Sec-Ch-Ua-Mobile\": \"?0\", \n",
    "    \"Sec-Fetch-Dest\": \"document\", \n",
    "    \"Sec-Fetch-Mode\": \"navigate\", \n",
    "    \"Sec-Fetch-Site\": \"cross-site\", \n",
    "    \"Sec-Fetch-User\": \"?1\", \n",
    "    \"Upgrade-Insecure-Requests\": \"1\", \n",
    "    \"User-Agent\": \"Mozilla/5.0 (X11; Linux x86_64) AppleWebKit/537.36 (KHTML, like Gecko) Chrome/92.0.4515.131 Safari/537.36\", \n",
    "  }\n",
    "    \n",
    "    Accept\t\"text/html,application/xhtml+xml,application/xml;q=0.9,image/webp,*/*;q=0.8\"\n",
    "Accept-Encoding\t\"gzip, deflate, br\"\n",
    "Accept-Language\t\"en-US,en;q=0.5\"\n",
    "Host\t\"httpbin.org\"\n",
    "Sec-Fetch-Dest\t\"document\"\n",
    "Sec-Fetch-Mode\t\"navigate\"\n",
    "Sec-Fetch-Site\t\"none\"\n",
    "Sec-Fetch-User\t\"?1\"\n",
    "Upgrade-Insecure-Requests\t\"1\"\n",
    "User-Agent\t\"Mozilla/5.0 (X11; Ubuntu; Linux x86_64; rv:91.0) Gecko/20100101 Firefox/91.0\"\n",
    "X-Amzn-Trace-Id\t\"Root=1-611a8e7c-71986d4830f9ca804c028690\"\n",
    "# Firefox 77 Mac\n",
    "{\n",
    "\"User-Agent\": \"Mozilla/5.0 (Macintosh; Intel Mac OS X 10.15; rv:77.0) Gecko/20100101 Firefox/77.0\",\n",
    "\"Accept\": \"text/html,application/xhtml+xml,application/xml;q=0.9,image/webp,*/*;q=0.8\",\n",
    "\"Accept-Language\": \"en-US,en;q=0.5\",\n",
    "\"Referer\": \"https://www.google.com/\",\n",
    "\"DNT\": \"1\",\n",
    "\"Connection\": \"keep-alive\",\n",
    "\"Upgrade-Insecure-Requests\": \"1\"\n",
    "},\n",
    "# Firefox 77 Windows\n",
    "{\n",
    "\"User-Agent\": \"Mozilla/5.0 (Windows NT 10.0; Win64; x64; rv:77.0) Gecko/20100101 Firefox/77.0\",\n",
    "\"Accept\": \"text/html,application/xhtml+xml,application/xml;q=0.9,image/webp,*/*;q=0.8\",\n",
    "\"Accept-Language\": \"en-US,en;q=0.5\",\n",
    "\"Accept-Encoding\": \"gzip, deflate, br\",\n",
    "\"Referer\": \"https://www.google.com/\",\n",
    "\"DNT\": \"1\",\n",
    "\"Connection\": \"keep-alive\",\n",
    "\"Upgrade-Insecure-Requests\": \"1\"\n",
    "},\n",
    "# Chrome 83 Mac\n",
    "{\n",
    "\"Connection\": \"keep-alive\",\n",
    "\"DNT\": \"1\",\n",
    "\"Upgrade-Insecure-Requests\": \"1\",\n",
    "\"User-Agent\": \"Mozilla/5.0 (Macintosh; Intel Mac OS X 10_15_5) AppleWebKit/537.36 (KHTML, like Gecko) Chrome/83.0.4103.97 Safari/537.36\",\n",
    "\"Accept\": \"text/html,application/xhtml+xml,application/xml;q=0.9,image/webp,image/apng,*/*;q=0.8,application/signed-exchange;v=b3;q=0.9\",\n",
    "\"Sec-Fetch-Site\": \"none\",\n",
    "\"Sec-Fetch-Mode\": \"navigate\",\n",
    "\"Sec-Fetch-Dest\": \"document\",\n",
    "\"Referer\": \"https://www.google.com/\",\n",
    "\"Accept-Encoding\": \"gzip, deflate, br\",\n",
    "\"Accept-Language\": \"en-GB,en-US;q=0.9,en;q=0.8\"\n",
    "},\n",
    "# Chrome 83 Windows \n",
    "{\n",
    "\"Connection\": \"keep-alive\",\n",
    "\"Upgrade-Insecure-Requests\": \"1\",\n",
    "\"User-Agent\": \"Mozilla/5.0 (Windows NT 10.0; Win64; x64) AppleWebKit/537.36 (KHTML, like Gecko) Chrome/83.0.4103.97 Safari/537.36\",\n",
    "\"Accept\": \"text/html,application/xhtml+xml,application/xml;q=0.9,image/webp,image/apng,*/*;q=0.8,application/signed-exchange;v=b3;q=0.9\",\n",
    "\"Sec-Fetch-Site\": \"same-origin\",\n",
    "\"Sec-Fetch-Mode\": \"navigate\",\n",
    "\"Sec-Fetch-User\": \"?1\",\n",
    "\"Sec-Fetch-Dest\": \"document\",\n",
    "\"Referer\": \"https://www.google.com/\",\n",
    "\"Accept-Encoding\": \"gzip, deflate, br\",\n",
    "\"Accept-Language\": \"en-US,en;q=0.9\"\n",
    "}\n",
    "]"
   ]
  }
 ],
 "metadata": {
  "kernelspec": {
   "display_name": "Python 3",
   "language": "python",
   "name": "python3"
  },
  "language_info": {
   "codemirror_mode": {
    "name": "ipython",
    "version": 3
   },
   "file_extension": ".py",
   "mimetype": "text/x-python",
   "name": "python",
   "nbconvert_exporter": "python",
   "pygments_lexer": "ipython3",
   "version": "3.8.8"
  }
 },
 "nbformat": 4,
 "nbformat_minor": 5
}
