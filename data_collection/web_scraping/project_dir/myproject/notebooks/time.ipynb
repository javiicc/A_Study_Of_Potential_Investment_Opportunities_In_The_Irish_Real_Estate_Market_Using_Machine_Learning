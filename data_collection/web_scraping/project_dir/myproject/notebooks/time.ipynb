{
 "cells": [
  {
   "cell_type": "code",
   "execution_count": 31,
   "id": "6ec7c17a",
   "metadata": {},
   "outputs": [],
   "source": [
    "from datetime import datetime"
   ]
  },
  {
   "cell_type": "code",
   "execution_count": 32,
   "id": "cc823402",
   "metadata": {},
   "outputs": [
    {
     "data": {
      "text/plain": [
       "datetime.datetime(2021, 9, 16, 11, 32, 35, 107178)"
      ]
     },
     "execution_count": 32,
     "metadata": {},
     "output_type": "execute_result"
    }
   ],
   "source": [
    "now = datetime.now()\n",
    "now"
   ]
  },
  {
   "cell_type": "code",
   "execution_count": 33,
   "id": "f13359b1",
   "metadata": {},
   "outputs": [
    {
     "name": "stdout",
     "output_type": "stream",
     "text": [
      "2021-9-16\n"
     ]
    }
   ],
   "source": [
    "print('{}-{}-{}'.format(now.year, now.month, now.day))"
   ]
  },
  {
   "cell_type": "code",
   "execution_count": 34,
   "id": "96359a32",
   "metadata": {},
   "outputs": [],
   "source": [
    "def scraping_date():\n",
    "    now = datetime.now()\n",
    "    return '{}-{}-{}'.format(now.year, now.month, now.day)"
   ]
  },
  {
   "cell_type": "code",
   "execution_count": 35,
   "id": "63f14ae3",
   "metadata": {},
   "outputs": [
    {
     "name": "stdout",
     "output_type": "stream",
     "text": [
      "2021-9-16\n"
     ]
    }
   ],
   "source": [
    "print(scraping_date())"
   ]
  },
  {
   "cell_type": "code",
   "execution_count": 36,
   "id": "1378a40f",
   "metadata": {},
   "outputs": [
    {
     "data": {
      "text/plain": [
       "str"
      ]
     },
     "execution_count": 36,
     "metadata": {},
     "output_type": "execute_result"
    }
   ],
   "source": [
    "type(scraping_date())"
   ]
  },
  {
   "cell_type": "code",
   "execution_count": null,
   "id": "0764d68f",
   "metadata": {},
   "outputs": [],
   "source": []
  }
 ],
 "metadata": {
  "kernelspec": {
   "display_name": "Python 3",
   "language": "python",
   "name": "python3"
  },
  "language_info": {
   "codemirror_mode": {
    "name": "ipython",
    "version": 3
   },
   "file_extension": ".py",
   "mimetype": "text/x-python",
   "name": "python",
   "nbconvert_exporter": "python",
   "pygments_lexer": "ipython3",
   "version": "3.8.8"
  }
 },
 "nbformat": 4,
 "nbformat_minor": 5
}
