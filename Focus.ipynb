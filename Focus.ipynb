{
 "cells": [
  {
   "cell_type": "markdown",
   "id": "6a1e7465-adbc-44f5-8948-6e07d874b542",
   "metadata": {},
   "source": [
    "# Dublin Focus"
   ]
  },
  {
   "cell_type": "markdown",
   "id": "49709713-8565-4dfa-b173-3dff02e875ef",
   "metadata": {},
   "source": [
    "En un primer lugar nos limitaremos a estudiar las potenciales oportunidades de inversion en Dublin. Posteriormente podriamos extenderlo a Galway and Cork."
   ]
  },
  {
   "cell_type": "code",
   "execution_count": 2,
   "id": "f969813f-3cb6-4f67-aaaa-5efa500e4039",
   "metadata": {},
   "outputs": [],
   "source": [
    "import numpy as np\n",
    "import pandas as pd\n",
    "import matplotlib.pyplot as plt"
   ]
  },
  {
   "cell_type": "code",
   "execution_count": 3,
   "id": "f43f5b5f-315d-435f-929b-b74c218527fe",
   "metadata": {},
   "outputs": [],
   "source": [
    "pd.set_option('display.max_rows', None)\n",
    "pd.set_option('display.max_columns', None)\n",
    "plt.style.use('seaborn')"
   ]
  },
  {
   "cell_type": "code",
   "execution_count": 4,
   "id": "8506b2d7-4d21-40cf-acae-75c3d44f70e3",
   "metadata": {},
   "outputs": [
    {
     "data": {
      "text/plain": [
       "(6573, 17)"
      ]
     },
     "execution_count": 4,
     "metadata": {},
     "output_type": "execute_result"
    }
   ],
   "source": [
    "sale_data = pd.read_csv('data_available/sale_data.csv', sep=',')\n",
    "sale_data.shape"
   ]
  },
  {
   "cell_type": "code",
   "execution_count": 5,
   "id": "6deac33b-86b3-4e21-82bb-2d068dba41dd",
   "metadata": {},
   "outputs": [
    {
     "data": {
      "text/html": [
       "<div>\n",
       "<style scoped>\n",
       "    .dataframe tbody tr th:only-of-type {\n",
       "        vertical-align: middle;\n",
       "    }\n",
       "\n",
       "    .dataframe tbody tr th {\n",
       "        vertical-align: top;\n",
       "    }\n",
       "\n",
       "    .dataframe thead th {\n",
       "        text-align: right;\n",
       "    }\n",
       "</style>\n",
       "<table border=\"1\" class=\"dataframe\">\n",
       "  <thead>\n",
       "    <tr style=\"text-align: right;\">\n",
       "      <th></th>\n",
       "      <th>daft_id</th>\n",
       "      <th>item_id</th>\n",
       "      <th>url</th>\n",
       "      <th>name</th>\n",
       "      <th>price</th>\n",
       "      <th>info</th>\n",
       "      <th>sale_type</th>\n",
       "      <th>floor_area</th>\n",
       "      <th>psr</th>\n",
       "      <th>ber</th>\n",
       "      <th>entered_renewed</th>\n",
       "      <th>views</th>\n",
       "      <th>type_house</th>\n",
       "      <th>energy_performance_indicator</th>\n",
       "      <th>coordinates</th>\n",
       "      <th>type</th>\n",
       "      <th>scraping_date</th>\n",
       "    </tr>\n",
       "  </thead>\n",
       "  <tbody>\n",
       "    <tr>\n",
       "      <th>5619</th>\n",
       "      <td>14662646</td>\n",
       "      <td>3205539</td>\n",
       "      <td>https://www.daft.ie/for-sale/terraced-house-4-...</td>\n",
       "      <td>4 Saint Mary's Terrace, Wolf Tone Street, Co. ...</td>\n",
       "      <td>€230,000</td>\n",
       "      <td>3 Bed,1 Bath,90 m²,Terrace</td>\n",
       "      <td>For Sale by Private Treaty</td>\n",
       "      <td>90 m²</td>\n",
       "      <td>003259</td>\n",
       "      <td>D2</td>\n",
       "      <td>2021-09-25</td>\n",
       "      <td>18,186</td>\n",
       "      <td>house</td>\n",
       "      <td>none</td>\n",
       "      <td>51.906163+-8.480996</td>\n",
       "      <td>buy</td>\n",
       "      <td>2021-09-25</td>\n",
       "    </tr>\n",
       "  </tbody>\n",
       "</table>\n",
       "</div>"
      ],
      "text/plain": [
       "       daft_id  item_id                                                url  \\\n",
       "5619  14662646  3205539  https://www.daft.ie/for-sale/terraced-house-4-...   \n",
       "\n",
       "                                                   name     price  \\\n",
       "5619  4 Saint Mary's Terrace, Wolf Tone Street, Co. ...  €230,000   \n",
       "\n",
       "                            info                   sale_type floor_area  \\\n",
       "5619  3 Bed,1 Bath,90 m²,Terrace  For Sale by Private Treaty      90 m²   \n",
       "\n",
       "         psr ber entered_renewed   views type_house  \\\n",
       "5619  003259  D2      2021-09-25  18,186      house   \n",
       "\n",
       "     energy_performance_indicator          coordinates type scraping_date  \n",
       "5619                         none  51.906163+-8.480996  buy    2021-09-25  "
      ]
     },
     "execution_count": 5,
     "metadata": {},
     "output_type": "execute_result"
    }
   ],
   "source": [
    "sale_data.sample()"
   ]
  },
  {
   "cell_type": "code",
   "execution_count": null,
   "id": "f083a7bb-3ff9-490a-8d82-3d78640bf7bb",
   "metadata": {},
   "outputs": [],
   "source": []
  }
 ],
 "metadata": {
  "kernelspec": {
   "display_name": "Python 3 (ipykernel)",
   "language": "python",
   "name": "python3"
  },
  "language_info": {
   "codemirror_mode": {
    "name": "ipython",
    "version": 3
   },
   "file_extension": ".py",
   "mimetype": "text/x-python",
   "name": "python",
   "nbconvert_exporter": "python",
   "pygments_lexer": "ipython3",
   "version": "3.7.11"
  }
 },
 "nbformat": 4,
 "nbformat_minor": 5
}
