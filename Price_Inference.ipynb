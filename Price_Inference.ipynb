{
 "cells": [
  {
   "cell_type": "markdown",
   "id": "c0c6583f-8405-4a55-894f-414e650c72e6",
   "metadata": {},
   "source": [
    "# Load Data"
   ]
  },
  {
   "cell_type": "code",
   "execution_count": 1,
   "id": "6b1007dc-b3a7-4b52-b3cb-e7260cdf8baf",
   "metadata": {},
   "outputs": [],
   "source": [
    "import numpy as np\n",
    "import pandas as pd\n",
    "import matplotlib.pyplot as plt\n",
    "\n",
    "\n",
    "from sklearn.model_selection import train_test_split\n",
    "from sklearn.linear_model import LinearRegression\n",
    "\n",
    "import joblib"
   ]
  },
  {
   "cell_type": "code",
   "execution_count": 2,
   "id": "458cf704-359d-4cef-9b6b-d7071c3be864",
   "metadata": {},
   "outputs": [],
   "source": [
    "pd.set_option('display.max_rows', None)\n",
    "pd.set_option('display.max_columns', None)\n",
    "plt.style.use('seaborn')"
   ]
  },
  {
   "cell_type": "code",
   "execution_count": 3,
   "id": "6b90327e-f46b-49ca-86a0-93a8fd8fdbb7",
   "metadata": {},
   "outputs": [
    {
     "data": {
      "text/plain": [
       "(7387, 34)"
      ]
     },
     "execution_count": 3,
     "metadata": {},
     "output_type": "execute_result"
    }
   ],
   "source": [
    "sale_data = pd.read_csv('data_available/sale_data_post_out.csv', sep=',')\n",
    "sale_data.shape  #### cambiar esto"
   ]
  },
  {
   "cell_type": "code",
   "execution_count": 4,
   "id": "56c73224-f9ee-4646-98c1-e13782c520c4",
   "metadata": {},
   "outputs": [
    {
     "name": "stdout",
     "output_type": "stream",
     "text": [
      "<class 'pandas.core.frame.DataFrame'>\n",
      "RangeIndex: 7387 entries, 0 to 7386\n",
      "Data columns (total 34 columns):\n",
      " #   Column             Non-Null Count  Dtype  \n",
      "---  ------             --------------  -----  \n",
      " 0   daft_id            7387 non-null   int64  \n",
      " 1   url                7387 non-null   object \n",
      " 2   name               7387 non-null   object \n",
      " 3   price              7387 non-null   float64\n",
      " 4   sale_type          7387 non-null   object \n",
      " 5   floor_area         7387 non-null   int64  \n",
      " 6   entered_renewed    7387 non-null   object \n",
      " 7   views              7387 non-null   float64\n",
      " 8   type_house         7387 non-null   object \n",
      " 9   type               7387 non-null   object \n",
      " 10  scraping_date      7387 non-null   object \n",
      " 11  latitude           7387 non-null   float64\n",
      " 12  longitude          7387 non-null   float64\n",
      " 13  bedroom            7387 non-null   int64  \n",
      " 14  bathroom           7387 non-null   int64  \n",
      " 15  country_code       7387 non-null   object \n",
      " 16  country            7387 non-null   object \n",
      " 17  postcode           6129 non-null   object \n",
      " 18  state_district     7025 non-null   object \n",
      " 19  county             6706 non-null   object \n",
      " 20  municipality       1247 non-null   object \n",
      " 21  city               1955 non-null   object \n",
      " 22  town               1110 non-null   object \n",
      " 23  city_district      7022 non-null   object \n",
      " 24  locality           5 non-null      object \n",
      " 25  suburb             1713 non-null   object \n",
      " 26  road               5450 non-null   object \n",
      " 27  house_number       1415 non-null   object \n",
      " 28  place              6059 non-null   object \n",
      " 29  code               6059 non-null   object \n",
      " 30  admin1             6059 non-null   object \n",
      " 31  place_coordinates  6059 non-null   object \n",
      " 32  cities             6059 non-null   object \n",
      " 33  m2_price           7387 non-null   float64\n",
      "dtypes: float64(5), int64(4), object(25)\n",
      "memory usage: 1.9+ MB\n"
     ]
    }
   ],
   "source": [
    "sale_data.info()"
   ]
  },
  {
   "cell_type": "code",
   "execution_count": 5,
   "id": "6326fc04-861a-480d-859f-37bc9e35971e",
   "metadata": {},
   "outputs": [
    {
     "data": {
      "text/plain": [
       "(7387, 7)"
      ]
     },
     "execution_count": 5,
     "metadata": {},
     "output_type": "execute_result"
    }
   ],
   "source": [
    "features = [#'price',\n",
    "            'floor_area',\n",
    "            'views',\n",
    "            'latitude',\n",
    "            'longitude',\n",
    "      #      'bedroom',\n",
    "            'bathroom',\n",
    "            #'sale_type',\n",
    "            'type_house',\n",
    "#            'postcode',\n",
    " #           'state_district',\n",
    "  #          'county',\n",
    "  #          'city_district',\n",
    "   #         'road',\n",
    "      #      'place',\n",
    "            'code',\n",
    "  #          'admin1',\n",
    "  #          'cities'\n",
    "]\n",
    "\n",
    "#sale_data = sale_data.dropna().copy()\n",
    "data = sale_data[features].copy()\n",
    "data.shape"
   ]
  },
  {
   "cell_type": "code",
   "execution_count": 6,
   "id": "8269dc88-1472-42e7-bc5f-2c2aa3ff84f5",
   "metadata": {},
   "outputs": [
    {
     "data": {
      "text/plain": [
       "floor_area       0\n",
       "views            0\n",
       "latitude         0\n",
       "longitude        0\n",
       "bathroom         0\n",
       "type_house       0\n",
       "code          1328\n",
       "dtype: int64"
      ]
     },
     "execution_count": 6,
     "metadata": {},
     "output_type": "execute_result"
    }
   ],
   "source": [
    "data.isna().sum()"
   ]
  },
  {
   "cell_type": "code",
   "execution_count": 7,
   "id": "d6bc3260-f126-493e-8871-c58ab7039f5d",
   "metadata": {},
   "outputs": [],
   "source": [
    "num_features = data.select_dtypes('number').columns\n",
    "cat_features =  data.select_dtypes('object').columns"
   ]
  },
  {
   "cell_type": "markdown",
   "id": "2ce89f6c-e3f9-45db-b2f6-456ab14f9678",
   "metadata": {},
   "source": [
    "-----------"
   ]
  },
  {
   "cell_type": "markdown",
   "id": "0bb15326-8376-468d-8752-791c56461487",
   "metadata": {},
   "source": [
    "# Split Data"
   ]
  },
  {
   "cell_type": "code",
   "execution_count": 8,
   "id": "5e72731b-24e0-4021-886b-739ffd451aff",
   "metadata": {},
   "outputs": [
    {
     "data": {
      "text/plain": [
       "(7387,)"
      ]
     },
     "execution_count": 8,
     "metadata": {},
     "output_type": "execute_result"
    }
   ],
   "source": [
    "y = sale_data['price'].copy()\n",
    "y.shape"
   ]
  },
  {
   "cell_type": "code",
   "execution_count": 9,
   "id": "edd4e5fe-bc66-46e8-b79a-3f8c9462a793",
   "metadata": {},
   "outputs": [
    {
     "name": "stdout",
     "output_type": "stream",
     "text": [
      "(7387, 7)\n",
      "(7387, 144)\n"
     ]
    }
   ],
   "source": [
    "print(data.shape)\n",
    "#X = data.copy()\n",
    "X = pd.get_dummies(data).copy() #[num_features]\n",
    "print(X.shape)"
   ]
  },
  {
   "cell_type": "code",
   "execution_count": 10,
   "id": "b22384e3-26b2-4aa0-b3e8-b674a4eba24a",
   "metadata": {},
   "outputs": [
    {
     "data": {
      "text/plain": [
       "((6278, 144), (1109, 144), (6278,), (1109,))"
      ]
     },
     "execution_count": 10,
     "metadata": {},
     "output_type": "execute_result"
    }
   ],
   "source": [
    "X_train, X_test, y_train, y_test = train_test_split(X, y, test_size=.15)\n",
    "X_train.shape, X_test.shape, y_train.shape, y_test.shape"
   ]
  },
  {
   "cell_type": "code",
   "execution_count": null,
   "id": "81b9b583-5803-4486-a2a7-c57c7fe4bd10",
   "metadata": {},
   "outputs": [],
   "source": []
  },
  {
   "cell_type": "raw",
   "id": "3c99d8dc-3504-47da-a12b-520cfb6ea70c",
   "metadata": {},
   "source": [
    "lr = LinearRegression().fit(X_train, y_train)\n",
    "lr.intercept_, lr.coef_"
   ]
  },
  {
   "cell_type": "raw",
   "id": "9361e20c-2b3f-4498-91cc-563ba6526dc9",
   "metadata": {},
   "source": [
    "y_pred = lr.predict(X_test)"
   ]
  },
  {
   "cell_type": "raw",
   "id": "8741e17b-13ac-4742-9b3f-759072d27fa8",
   "metadata": {
    "tags": []
   },
   "source": [
    "len(lr.predict(X_test))"
   ]
  },
  {
   "cell_type": "markdown",
   "id": "3fea1855-2df2-467d-8550-69b064af1434",
   "metadata": {},
   "source": [
    "# Train and Metrics"
   ]
  },
  {
   "cell_type": "markdown",
   "id": "0ce9317b-c9da-446d-a085-2b16dbc6bc8e",
   "metadata": {},
   "source": [
    "En estadística, el **coeficiente de determinación**, denominado R² y pronunciado R cuadrado, es un estadístico usado en el contexto de un modelo estadístico cuyo principal propósito es predecir futuros resultados o probar una hipótesis. El coeficiente determina la calidad del modelo para replicar los resultados, y la proporción de variación de los resultados que puede explicarse por el modelo.\n",
    "\n",
    "Es el porcentaje de la variación en la variable de respuesta que es explicado por un modelo lineal. Es decir:\n",
    "\n",
    "R-cuadrado = Variación explicada / variación total\n",
    "\n",
    "El R-cuadrado siempre está entre 0 y 100%:"
   ]
  },
  {
   "cell_type": "code",
   "execution_count": 11,
   "id": "f99c2e88-4118-4443-a137-bf0a0e878eb3",
   "metadata": {
    "tags": []
   },
   "outputs": [],
   "source": [
    "from sklearn import metrics\n",
    "#metrics.SCORERS"
   ]
  },
  {
   "cell_type": "code",
   "execution_count": 12,
   "id": "bce0151b-04c6-4567-9b0f-f4d54f9e229e",
   "metadata": {},
   "outputs": [],
   "source": [
    "def metrics_regression(y_test, y_pred, squared=False):\n",
    "    \n",
    "    r2_score = metrics.r2_score(y_test, y_pred)\n",
    "    mae = metrics.mean_absolute_error(y_test, y_pred)\n",
    "    mape = metrics.mean_absolute_percentage_error(y_test, y_pred)\n",
    "    mse = metrics.mean_squared_error(y_test, y_pred)\n",
    "    rmse = metrics.mean_squared_error(y_test, y_pred, squared=squared)\n",
    "    \n",
    "    print(f'R²: {r2_score}')\n",
    "    print(f'MAE: {mae}')\n",
    "    print(f'MAPE: {mape}')\n",
    "    #print(f'MSE: {mse}')\n",
    "    print(f'RMSE: {rmse}')\n",
    "    "
   ]
  },
  {
   "cell_type": "raw",
   "id": "bb519562-d075-41ba-ab15-afda7b1a901a",
   "metadata": {},
   "source": [
    "metrics_regression(y_test=y_test, y_pred=y_pred, squared=False)"
   ]
  },
  {
   "cell_type": "markdown",
   "id": "6028ab71-9371-4cdc-b0ae-efbd2537cef1",
   "metadata": {},
   "source": [
    "https://scikit-learn.org/stable/modules/cross_validation.html"
   ]
  },
  {
   "cell_type": "code",
   "execution_count": 13,
   "id": "1cbed8b2-8568-4041-9591-484767c1c8ca",
   "metadata": {},
   "outputs": [],
   "source": [
    "from sklearn.model_selection import cross_validate\n",
    "\n",
    "def cross_validate_custom(estimator, scoring_dict, X_train, y_train, cv=10, return_train_score=False):\n",
    "    estimator = estimator\n",
    "    scoring_dict = scoring_dict\n",
    "\n",
    "    scores = cross_validate(estimator, X=X_train, y=y_train, scoring=scoring_dict, cv=cv, \n",
    "                            return_train_score=return_train_score)\n",
    "    print(scores.keys())\n",
    "    return scores"
   ]
  },
  {
   "cell_type": "raw",
   "id": "bc367966-ed7e-4e69-bf8f-3b52ca5cd1e2",
   "metadata": {},
   "source": [
    "scoring = {'r2': 'r2', \n",
    "           'MAE': 'neg_mean_absolute_error', \n",
    "           'MAPE': 'neg_mean_absolute_percentage_error', \n",
    "           'RMSE': 'neg_root_mean_squared_error'}\n",
    "\n",
    "scores = cross_validate_custom(estimator=LinearRegression(), scoring_dict=scoring, \n",
    "                               X_train=X_train, y_train=y_train, cv=5, return_train_score=False)"
   ]
  },
  {
   "cell_type": "code",
   "execution_count": 14,
   "id": "639e51c4-5c29-4341-9ac5-b61069c176a2",
   "metadata": {},
   "outputs": [],
   "source": [
    "def scores_statistics(estimator, scoring_dict, X_train, y_train, cv=10, return_train_score=False, time_info=False):\n",
    "    \n",
    "    scores = cross_validate(estimator, \n",
    "                            X=X_train, y=y_train, \n",
    "                            scoring=scoring_dict, \n",
    "                            cv=cv, \n",
    "                            return_train_score=return_train_score)\n",
    "    \n",
    "    if time_info:\n",
    "        fit_time_mean = np.mean(scores['fit_time'])\n",
    "        fit_time_std = np.std(scores['fit_time'])\n",
    "        score_time_mean = np.mean(scores['score_time'])\n",
    "        score_time_std = np.std(scores['score_time'])\n",
    "        #time_list = []    \n",
    "        print('fit_time mean:', fit_time_mean)\n",
    "        print('fit_time std:', fit_time_std)\n",
    "        print('score_time mean:', score_time_mea)\n",
    "        print('score_time std:', score_time_std)\n",
    "    \n",
    "    \n",
    "    for key in scoring_dict:\n",
    "        try:\n",
    "            mean = np.mean(scores['test_' + key])\n",
    "            std = np.std(scores['test_' + key])\n",
    "            print(key, 'mean:', mean)\n",
    "            print(key, 'std:', std, '\\n')\n",
    "        except:\n",
    "            continue\n",
    "    return scores"
   ]
  },
  {
   "cell_type": "raw",
   "id": "d803701c-2e9c-4463-a439-ac69a854404e",
   "metadata": {
    "tags": []
   },
   "source": [
    "scoring = {'r2': 'r2', \n",
    "           'MAE': 'neg_mean_absolute_error', \n",
    "           'MAPE': 'neg_mean_absolute_percentage_error', \n",
    "           'RMSE': 'neg_root_mean_squared_error'}\n",
    "\n",
    "scores_statistics(estimator=LinearRegression(), scoring_dict=scoring, \n",
    "                               X_train=X_train, y_train=y_train, cv=5, return_train_score=False)"
   ]
  },
  {
   "cell_type": "code",
   "execution_count": null,
   "id": "62b0ae3a-5839-4a3d-95c7-5e94ddc48105",
   "metadata": {},
   "outputs": [],
   "source": []
  },
  {
   "cell_type": "markdown",
   "id": "02906502-6f02-47f8-a4f0-79e0f3fb33b3",
   "metadata": {},
   "source": [
    "-------------"
   ]
  },
  {
   "cell_type": "raw",
   "id": "f7f7bda9-cf01-4608-9ad6-0f1686e311ca",
   "metadata": {},
   "source": [
    "joblib.dump(lr, 'models/linear_regression.plk')\n",
    "# esto es genial <3"
   ]
  },
  {
   "cell_type": "raw",
   "id": "eda8b9b5-177e-4650-866a-921bc82cc794",
   "metadata": {},
   "source": [
    "testing_load = joblib.load('models/linear_regression.plk')"
   ]
  },
  {
   "cell_type": "raw",
   "id": "8e111d60-6f6f-4870-a93d-24e0e3736fd7",
   "metadata": {},
   "source": [
    "testing_load"
   ]
  },
  {
   "cell_type": "raw",
   "id": "e928cb88-d27a-4808-b425-34ed51ed825b",
   "metadata": {},
   "source": [
    "testing_load.intercept_, testing_load.coef_"
   ]
  },
  {
   "cell_type": "markdown",
   "id": "ac6aedae-ec47-49a5-83f5-d3c9b180498b",
   "metadata": {},
   "source": [
    "------------"
   ]
  },
  {
   "cell_type": "code",
   "execution_count": 15,
   "id": "d69bc5ef-d31d-490a-a5d8-80aae17e5578",
   "metadata": {},
   "outputs": [
    {
     "data": {
      "text/plain": [
       "((6278, 144), (1109, 144), (6278,), (1109,))"
      ]
     },
     "execution_count": 15,
     "metadata": {},
     "output_type": "execute_result"
    }
   ],
   "source": [
    "X_train.shape, X_test.shape, y_train.shape, y_test.shape"
   ]
  },
  {
   "cell_type": "code",
   "execution_count": null,
   "id": "c83ebac1-57a3-4039-a412-13c29b0aa6b5",
   "metadata": {},
   "outputs": [],
   "source": []
  },
  {
   "cell_type": "raw",
   "id": "c9efd21f-ef8e-47bd-9168-80fc6601777b",
   "metadata": {},
   "source": [
    "df = sale_data[['price','floor_area','latitude','longitude','bedroom','type_house']].copy()\n",
    "df.shape"
   ]
  },
  {
   "cell_type": "raw",
   "id": "dd3fbac9-8a59-43d4-bd2d-48576b4e0d99",
   "metadata": {},
   "source": [
    "# Choose columns\n",
    "df.columns\n",
    "\n",
    "df_model = df[['price','floor_area','latitude','longitude','bedroom','type_house']]"
   ]
  },
  {
   "cell_type": "code",
   "execution_count": 16,
   "id": "40b31ad9-b8ba-46e7-aada-0c577df58c84",
   "metadata": {},
   "outputs": [
    {
     "name": "stdout",
     "output_type": "stream",
     "text": [
      "(6278, 144)\n"
     ]
    }
   ],
   "source": [
    "print(X_train.shape)\n",
    "#X_train.isna().sum()"
   ]
  },
  {
   "cell_type": "code",
   "execution_count": 17,
   "id": "d710c780-3f6f-46cb-a9b3-e74b21b67ce2",
   "metadata": {},
   "outputs": [
    {
     "name": "stdout",
     "output_type": "stream",
     "text": [
      "(6278, 144)\n"
     ]
    }
   ],
   "source": [
    "# Get dummy data\n",
    "X_train = pd.get_dummies(X_train).copy()\n",
    "print(X_train.shape)\n",
    "# esto me esta dando resultados muy malos, por que? -> ya no\n",
    "#from sklearn.preprocessing import LabelEncoder\n",
    "#\n",
    "#le = LabelEncoder()\n",
    "#\n",
    "#for column in cat_features:\n",
    " #   X_train[column] = le.fit_transform(X_train[column])"
   ]
  },
  {
   "cell_type": "raw",
   "id": "68c98918-b7ba-4a46-b9af-6e53c4e02648",
   "metadata": {},
   "source": [
    "# Train test split\n",
    "\n",
    "from sklearn.model_selection import train_test_split\n",
    "\n",
    "y = df_dum.price.values\n",
    "X = df_dum.drop('price', axis=1)\n",
    "\n",
    "\n",
    "X_train, X_test, y_train, y_test = train_test_split(X, y, test_size=.15, random_state=42)\n",
    "X_train.shape, X_test.shape, y_train.shape, y_test.shape"
   ]
  },
  {
   "cell_type": "raw",
   "id": "42dd917f-6c12-4f9a-80d1-8bbba4a7081e",
   "metadata": {},
   "source": [
    "# Multiple linear regression\n",
    "\n",
    "import statsmodels.api as sm\n",
    "\n",
    "X_sm = X = sm.add_constant(X) # para el intercept\n",
    "\n",
    "model = sm.OLS(y,X_sm)\n",
    "model.fit().summary()"
   ]
  },
  {
   "cell_type": "code",
   "execution_count": 18,
   "id": "1d2ef8ac-601b-47e4-95a3-d00a968e2310",
   "metadata": {},
   "outputs": [],
   "source": [
    "#print(X_train.shape)\n",
    "#X_train.isna().sum()"
   ]
  },
  {
   "cell_type": "code",
   "execution_count": 19,
   "id": "44524b4a-9a06-458f-b958-c03cdee765fe",
   "metadata": {
    "tags": []
   },
   "outputs": [
    {
     "name": "stdout",
     "output_type": "stream",
     "text": [
      "(6278, 144)\n",
      "r2 mean: 0.6587611305066721\n",
      "r2 std: 0.03517679127895557 \n",
      "\n",
      "MAE mean: -107850.82693683557\n",
      "MAE std: 5129.985607460678 \n",
      "\n",
      "MAPE mean: -0.3171449077544576\n",
      "MAPE std: 0.011619781144053657 \n",
      "\n",
      "RMSE mean: -174596.7853236304\n",
      "RMSE std: 12612.673623854978 \n",
      "\n"
     ]
    },
    {
     "data": {
      "text/plain": [
       "{'fit_time': array([0.05124664, 0.0228467 , 0.01930833, 0.02088499, 0.0195477 ,\n",
       "        0.01676369, 0.01694822, 0.01664162, 0.01620865, 0.01598287]),\n",
       " 'score_time': array([0.00477767, 0.00414991, 0.0047729 , 0.00406289, 0.00409317,\n",
       "        0.00350189, 0.00340915, 0.00351954, 0.00333381, 0.00346804]),\n",
       " 'test_r2': array([0.66491897, 0.58516617, 0.66505855, 0.67411618, 0.71837922,\n",
       "        0.68437437, 0.63132709, 0.64612149, 0.63149244, 0.68665683]),\n",
       " 'test_MAE': array([-108275.36275876, -114335.23365346, -108532.46991317,\n",
       "        -115688.07083499, -100545.33066282, -104749.92070561,\n",
       "        -114786.52486813, -103434.77369875, -103962.97655004,\n",
       "        -104197.60572263]),\n",
       " 'test_MAPE': array([-0.32095181, -0.33014757, -0.31072275, -0.32474615, -0.29417467,\n",
       "        -0.30518902, -0.33555384, -0.31286578, -0.32278502, -0.31431246]),\n",
       " 'test_RMSE': array([-168545.31288794, -198511.22855113, -173586.97063944,\n",
       "        -185271.98381194, -158795.39402639, -165580.01996221,\n",
       "        -193149.96145729, -162486.36908383, -168690.27102354,\n",
       "        -171350.3417926 ])}"
      ]
     },
     "execution_count": 19,
     "metadata": {},
     "output_type": "execute_result"
    }
   ],
   "source": [
    "from sklearn import metrics\n",
    "\n",
    "scoring = {'r2': 'r2', \n",
    "           'MAE': 'neg_mean_absolute_error', \n",
    "           'MAPE': 'neg_mean_absolute_percentage_error', \n",
    "           'RMSE': 'neg_root_mean_squared_error'}\n",
    "print(X_train.shape)\n",
    "scores_statistics(estimator=LinearRegression(), \n",
    "                  scoring_dict=scoring, \n",
    "                  X_train=X_train, \n",
    "                  y_train=y_train, \n",
    "                  cv=10, \n",
    "                  return_train_score=False)"
   ]
  },
  {
   "cell_type": "code",
   "execution_count": 20,
   "id": "05cb24bf-6c2c-417a-b604-a829e59ffb52",
   "metadata": {},
   "outputs": [
    {
     "name": "stdout",
     "output_type": "stream",
     "text": [
      "R²: 0.6459638415138771\n",
      "MAE: 113418.05850569207\n",
      "MAPE: 0.3300826513842755\n",
      "RMSE: 198091.79105672828\n"
     ]
    }
   ],
   "source": [
    "from sklearn.linear_model import LinearRegression\n",
    "\n",
    "lr = LinearRegression().fit(X_train, y_train)\n",
    "#lr.intercept_, lr.coef_\n",
    "#lr.score(X_train, y_train)\n",
    "\n",
    "#X_test = pd.get_dummies(X_test).copy()\n",
    "\n",
    "metrics_regression(y_test=y_test, \n",
    "                   y_pred=lr.predict(X_test), \n",
    "                   squared=False)"
   ]
  },
  {
   "cell_type": "code",
   "execution_count": 21,
   "id": "67df135d-ff11-4e8e-a15f-c3c1a1dddf16",
   "metadata": {},
   "outputs": [
    {
     "data": {
      "text/plain": [
       "['models/linear_regression_01-11-2021.plk']"
      ]
     },
     "execution_count": 21,
     "metadata": {},
     "output_type": "execute_result"
    }
   ],
   "source": [
    "joblib.dump(lr, 'models/linear_regression_01-11-2021.plk')"
   ]
  },
  {
   "cell_type": "raw",
   "id": "1d8de7cf-5480-4583-863d-ddb82664bc1b",
   "metadata": {},
   "source": [
    "from sklearn.linear_model import Lasso\n",
    "\n",
    "lm_lasso = Lasso().fit(X_train, y_train)\n",
    "lr.intercept_, lr.coef_"
   ]
  },
  {
   "cell_type": "raw",
   "id": "da122c32-c182-4d9e-b7b1-71cb035e52b0",
   "metadata": {},
   "source": [
    "scoring = {'r2': 'r2', \n",
    "           'MAE': 'neg_mean_absolute_error', \n",
    "           'MAPE': 'neg_mean_absolute_percentage_error', \n",
    "           'RMSE': 'neg_root_mean_squared_error'}\n",
    "\n",
    "scores_statistics(estimator=Lasso(), \n",
    "                  scoring_dict=scoring, \n",
    "                  X_train=X_train, \n",
    "                  y_train=y_train, \n",
    "                  cv=5, \n",
    "                  return_train_score=False)"
   ]
  },
  {
   "cell_type": "code",
   "execution_count": null,
   "id": "08d0aaa1-cdc0-4ea4-a087-86b90e102bc3",
   "metadata": {},
   "outputs": [],
   "source": []
  }
 ],
 "metadata": {
  "kernelspec": {
   "display_name": "Python 3 (ipykernel)",
   "language": "python",
   "name": "python3"
  },
  "language_info": {
   "codemirror_mode": {
    "name": "ipython",
    "version": 3
   },
   "file_extension": ".py",
   "mimetype": "text/x-python",
   "name": "python",
   "nbconvert_exporter": "python",
   "pygments_lexer": "ipython3",
   "version": "3.7.11"
  }
 },
 "nbformat": 4,
 "nbformat_minor": 5
}
