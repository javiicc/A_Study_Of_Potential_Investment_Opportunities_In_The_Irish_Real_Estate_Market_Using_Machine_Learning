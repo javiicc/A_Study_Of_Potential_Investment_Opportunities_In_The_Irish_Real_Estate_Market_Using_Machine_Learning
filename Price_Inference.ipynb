{
 "cells": [
  {
   "cell_type": "markdown",
   "id": "2b1cde2f-e700-4549-8bf9-3af3141d482a",
   "metadata": {
    "tags": []
   },
   "source": [
    "# Data"
   ]
  },
  {
   "cell_type": "markdown",
   "id": "c0c6583f-8405-4a55-894f-414e650c72e6",
   "metadata": {},
   "source": [
    "## Load Data"
   ]
  },
  {
   "cell_type": "code",
   "execution_count": 15,
   "id": "6b1007dc-b3a7-4b52-b3cb-e7260cdf8baf",
   "metadata": {},
   "outputs": [],
   "source": [
    "import numpy as np\n",
    "import pandas as pd\n",
    "import matplotlib.pyplot as plt\n",
    "import seaborn as sns\n",
    "\n",
    "from sklearn.model_selection import train_test_split, cross_validate\n",
    "from sklearn.linear_model import LinearRegression\n",
    "from sklearn.preprocessing import (StandardScaler, OneHotEncoder,\n",
    "                                   PolynomialFeatures)\n",
    "from sklearn.impute import SimpleImputer\n",
    "\n",
    "from sklearn.pipeline import Pipeline\n",
    "from sklearn.compose import ColumnTransformer\n",
    "\n",
    "from sklearn import metrics\n",
    "from sklearn.impute import SimpleImputer\n",
    "\n",
    "from daftpy.daftmodel import split_data, scores_statistics, metrics_regression\n",
    "\n",
    "import joblib"
   ]
  },
  {
   "cell_type": "code",
   "execution_count": 2,
   "id": "458cf704-359d-4cef-9b6b-d7071c3be864",
   "metadata": {},
   "outputs": [],
   "source": [
    "pd.set_option('display.max_rows', None)\n",
    "pd.set_option('display.max_columns', None)\n",
    "plt.style.use('seaborn')"
   ]
  },
  {
   "cell_type": "code",
   "execution_count": 3,
   "id": "6b90327e-f46b-49ca-86a0-93a8fd8fdbb7",
   "metadata": {},
   "outputs": [
    {
     "data": {
      "text/plain": [
       "(7387, 34)"
      ]
     },
     "execution_count": 3,
     "metadata": {},
     "output_type": "execute_result"
    }
   ],
   "source": [
    "sale_data = pd.read_csv('data_available/sale_data_post_out.csv', sep=',')\n",
    "sale_data.shape  #### cambiar esto"
   ]
  },
  {
   "cell_type": "code",
   "execution_count": 4,
   "id": "56c73224-f9ee-4646-98c1-e13782c520c4",
   "metadata": {},
   "outputs": [],
   "source": [
    "#sale_data.info()"
   ]
  },
  {
   "cell_type": "code",
   "execution_count": 5,
   "id": "6326fc04-861a-480d-859f-37bc9e35971e",
   "metadata": {},
   "outputs": [
    {
     "data": {
      "text/plain": [
       "(7387, 8)"
      ]
     },
     "execution_count": 5,
     "metadata": {},
     "output_type": "execute_result"
    }
   ],
   "source": [
    "features = ['price',\n",
    "            'floor_area',\n",
    "            'views',\n",
    "            'latitude',\n",
    "            'longitude',\n",
    "      #      'bedroom',\n",
    "            'bathroom',\n",
    "            #'sale_type',\n",
    "            'type_house',\n",
    "#            'postcode',\n",
    " #           'state_district',\n",
    "  #          'county',\n",
    "  #          'city_district',\n",
    "   #         'road',\n",
    "      #      'place',\n",
    "            'code',\n",
    "  #          'admin1',\n",
    "  #          'cities'\n",
    "]\n",
    "\n",
    "#sale_data = sale_data.dropna().copy()\n",
    "data = sale_data[features].copy()\n",
    "data.shape"
   ]
  },
  {
   "cell_type": "code",
   "execution_count": 6,
   "id": "8269dc88-1472-42e7-bc5f-2c2aa3ff84f5",
   "metadata": {},
   "outputs": [
    {
     "data": {
      "text/plain": [
       "price            0\n",
       "floor_area       0\n",
       "views            0\n",
       "latitude         0\n",
       "longitude        0\n",
       "bathroom         0\n",
       "type_house       0\n",
       "code          1328\n",
       "dtype: int64"
      ]
     },
     "execution_count": 6,
     "metadata": {},
     "output_type": "execute_result"
    }
   ],
   "source": [
    "data.isna().sum()"
   ]
  },
  {
   "cell_type": "code",
   "execution_count": 7,
   "id": "d6bc3260-f126-493e-8871-c58ab7039f5d",
   "metadata": {},
   "outputs": [],
   "source": [
    "num_features = data.select_dtypes('number').columns\n",
    "cat_features =  data.select_dtypes('object').columns"
   ]
  },
  {
   "cell_type": "markdown",
   "id": "0bb15326-8376-468d-8752-791c56461487",
   "metadata": {},
   "source": [
    "## Split Data"
   ]
  },
  {
   "cell_type": "code",
   "execution_count": 8,
   "id": "89a272e8-6a8a-46a4-bcac-831e677f4a6b",
   "metadata": {},
   "outputs": [
    {
     "name": "stdout",
     "output_type": "stream",
     "text": [
      "X: (7387, 7)\n",
      "y: (7387,)\n"
     ]
    }
   ],
   "source": [
    "X, y = split_data(data=data, \n",
    "                  target='price', \n",
    "                  test_size=.15, \n",
    "                  output='X_y',\n",
    "                  random_state=42)"
   ]
  },
  {
   "cell_type": "code",
   "execution_count": 9,
   "id": "edd4e5fe-bc66-46e8-b79a-3f8c9462a793",
   "metadata": {},
   "outputs": [
    {
     "name": "stdout",
     "output_type": "stream",
     "text": [
      "(7387, 7)\n",
      "(7387, 144)\n"
     ]
    }
   ],
   "source": [
    "print(X.shape)\n",
    "X = pd.get_dummies(X).copy() \n",
    "print(X.shape)\n",
    "# podria crear un nuevo parametro en la funcion: with dummies=True"
   ]
  },
  {
   "cell_type": "code",
   "execution_count": 10,
   "id": "b22384e3-26b2-4aa0-b3e8-b674a4eba24a",
   "metadata": {},
   "outputs": [
    {
     "data": {
      "text/plain": [
       "((6278, 144), (1109, 144), (6278,), (1109,))"
      ]
     },
     "execution_count": 10,
     "metadata": {},
     "output_type": "execute_result"
    }
   ],
   "source": [
    "X_train, X_test, y_train, y_test = train_test_split(X, y, test_size=.15)\n",
    "X_train.shape, X_test.shape, y_train.shape, y_test.shape"
   ]
  },
  {
   "cell_type": "markdown",
   "id": "4031280c-e4ea-48dc-8af8-574ea8894ded",
   "metadata": {},
   "source": [
    "------------"
   ]
  },
  {
   "cell_type": "markdown",
   "id": "3fea1855-2df2-467d-8550-69b064af1434",
   "metadata": {},
   "source": [
    "# Multiple Linear Regression"
   ]
  },
  {
   "cell_type": "markdown",
   "id": "0ce9317b-c9da-446d-a085-2b16dbc6bc8e",
   "metadata": {},
   "source": [
    "En estadística, el **coeficiente de determinación**, denominado R² y pronunciado R cuadrado, es un estadístico usado en el contexto de un modelo estadístico cuyo principal propósito es predecir futuros resultados o probar una hipótesis. El coeficiente determina la calidad del modelo para replicar los resultados, y la proporción de variación de los resultados que puede explicarse por el modelo.\n",
    "\n",
    "Es el porcentaje de la variación en la variable de respuesta que es explicado por un modelo lineal. Es decir:\n",
    "\n",
    "R-cuadrado = Variación explicada / variación total\n",
    "\n",
    "El R-cuadrado siempre está entre 0 y 100%:"
   ]
  },
  {
   "cell_type": "markdown",
   "id": "6028ab71-9371-4cdc-b0ae-efbd2537cef1",
   "metadata": {},
   "source": [
    "https://scikit-learn.org/stable/modules/cross_validation.html"
   ]
  },
  {
   "cell_type": "code",
   "execution_count": 11,
   "id": "44524b4a-9a06-458f-b958-c03cdee765fe",
   "metadata": {
    "tags": []
   },
   "outputs": [
    {
     "name": "stdout",
     "output_type": "stream",
     "text": [
      "r2 mean: 0.6596299569644719\n",
      "r2 std: 0.026732408038252366 \n",
      "\n",
      "MAE mean: -109942.79186902891\n",
      "MAE std: 6118.518902242994 \n",
      "\n",
      "MAPE mean: -0.32432710559647693\n",
      "MAPE std: 0.014909671300858175 \n",
      "\n",
      "RMSE mean: -179595.17712978163\n",
      "RMSE std: 16428.61940084641 \n",
      "\n"
     ]
    }
   ],
   "source": [
    "scoring = {'r2': 'r2', \n",
    "           'MAE': 'neg_mean_absolute_error', \n",
    "           'MAPE': 'neg_mean_absolute_percentage_error', \n",
    "           'RMSE': 'neg_root_mean_squared_error'}\n",
    "\n",
    "scores_lr, scores_resume_lr = scores_statistics(estimator=LinearRegression(), \n",
    "                                                scoring_dict=scoring, \n",
    "                                                X_train=X_train, \n",
    "                                                y_train=y_train, \n",
    "                                                cv=10, \n",
    "                                                return_train_score=False)"
   ]
  },
  {
   "cell_type": "code",
   "execution_count": 14,
   "id": "be2d016f-061a-439f-91af-80fc7dfdea0c",
   "metadata": {},
   "outputs": [
    {
     "data": {
      "text/plain": [
       "{'r2': (0.6596299569644719, 0.026732408038252366),\n",
       " 'MAE': (-109942.79186902891, 6118.518902242994),\n",
       " 'MAPE': (-0.32432710559647693, 0.014909671300858175),\n",
       " 'RMSE': (-179595.17712978163, 16428.61940084641)}"
      ]
     },
     "execution_count": 14,
     "metadata": {},
     "output_type": "execute_result"
    }
   ],
   "source": [
    "scores_resume_lr"
   ]
  },
  {
   "cell_type": "code",
   "execution_count": 16,
   "id": "05cb24bf-6c2c-417a-b604-a829e59ffb52",
   "metadata": {},
   "outputs": [
    {
     "name": "stdout",
     "output_type": "stream",
     "text": [
      "R²: 0.6406738403258727\n",
      "MAE: 106340.58973631932\n",
      "MAPE: 0.3146222499726092\n",
      "RMSE: 166918.14666653427\n"
     ]
    }
   ],
   "source": [
    "lr = LinearRegression().fit(X_train, y_train)\n",
    "#lr.intercept_, lr.coef_\n",
    "#lr.score(X_train, y_train)\n",
    "metrics_regression(y_test=y_test, \n",
    "                   y_pred=lr.predict(X_test), \n",
    "                   squared=False)"
   ]
  },
  {
   "cell_type": "code",
   "execution_count": 17,
   "id": "aaae2cee-7bc7-407a-9beb-56a8b5379925",
   "metadata": {
    "tags": []
   },
   "outputs": [
    {
     "data": {
      "image/png": "[encoded data removed]",
      "text/plain": [
       "<Figure size 576x396 with 1 Axes>"
      ]
     },
     "metadata": {},
     "output_type": "display_data"
    }
   ],
   "source": [
    "sns.regplot(x=y_test, y=lr.predict(X_test), \n",
    "            scatter_kws={\"color\": \"cornflowerblue\"}, line_kws={\"color\": \"red\"})\\\n",
    "           .set_title('Actual vs Predicted');"
   ]
  },
  {
   "cell_type": "markdown",
   "id": "02906502-6f02-47f8-a4f0-79e0f3fb33b3",
   "metadata": {},
   "source": [
    "-------------"
   ]
  },
  {
   "cell_type": "raw",
   "id": "f7f7bda9-cf01-4608-9ad6-0f1686e311ca",
   "metadata": {},
   "source": [
    "joblib.dump(lr, 'models/linear_regression.plk')\n",
    "# esto es genial <3"
   ]
  },
  {
   "cell_type": "raw",
   "id": "eda8b9b5-177e-4650-866a-921bc82cc794",
   "metadata": {},
   "source": [
    "testing_load = joblib.load('models/linear_regression.plk')"
   ]
  },
  {
   "cell_type": "raw",
   "id": "8e111d60-6f6f-4870-a93d-24e0e3736fd7",
   "metadata": {},
   "source": [
    "testing_load"
   ]
  },
  {
   "cell_type": "raw",
   "id": "e928cb88-d27a-4808-b425-34ed51ed825b",
   "metadata": {},
   "source": [
    "testing_load.intercept_, testing_load.coef_"
   ]
  },
  {
   "cell_type": "markdown",
   "id": "ac6aedae-ec47-49a5-83f5-d3c9b180498b",
   "metadata": {},
   "source": [
    "------------"
   ]
  },
  {
   "cell_type": "raw",
   "id": "68c98918-b7ba-4a46-b9af-6e53c4e02648",
   "metadata": {},
   "source": [
    "# Train test split\n",
    "\n",
    "from sklearn.model_selection import train_test_split\n",
    "\n",
    "y = df_dum.price.values\n",
    "X = df_dum.drop('price', axis=1)\n",
    "\n",
    "\n",
    "X_train, X_test, y_train, y_test = train_test_split(X, y, test_size=.15, random_state=42)\n",
    "X_train.shape, X_test.shape, y_train.shape, y_test.shape"
   ]
  },
  {
   "cell_type": "raw",
   "id": "42dd917f-6c12-4f9a-80d1-8bbba4a7081e",
   "metadata": {},
   "source": [
    "# Multiple linear regression\n",
    "\n",
    "import statsmodels.api as sm\n",
    "\n",
    "X_sm = X = sm.add_constant(X) # para el intercept\n",
    "\n",
    "model = sm.OLS(y,X_sm)\n",
    "model.fit().summary()"
   ]
  },
  {
   "cell_type": "code",
   "execution_count": null,
   "id": "63cdb0f6-2fe7-406e-9d58-d024c3d88e1d",
   "metadata": {},
   "outputs": [],
   "source": []
  },
  {
   "cell_type": "code",
   "execution_count": null,
   "id": "67df135d-ff11-4e8e-a15f-c3c1a1dddf16",
   "metadata": {},
   "outputs": [],
   "source": [
    "#joblib.dump(lr, 'models/linear_regression_01-11-2021.plk')"
   ]
  },
  {
   "cell_type": "markdown",
   "id": "aa6501c8-716a-4dbc-b682-4a536c8aa3bf",
   "metadata": {},
   "source": [
    "---------------"
   ]
  },
  {
   "cell_type": "markdown",
   "id": "dd94640e-e436-4e9e-8700-475bbc161121",
   "metadata": {},
   "source": [
    "-------------------"
   ]
  },
  {
   "cell_type": "markdown",
   "id": "654f6fff-86a2-458b-b6dd-9960ed554a0d",
   "metadata": {},
   "source": [
    "# Polynomial Regression"
   ]
  },
  {
   "cell_type": "code",
   "execution_count": null,
   "id": "a75a0e7f-bac9-4bee-be73-eba89c17ca22",
   "metadata": {
    "tags": []
   },
   "outputs": [],
   "source": [
    "from sklearn.pipeline import Pipeline\n",
    "from sklearn.preprocessing import (StandardScaler, OneHotEncoder, \n",
    "                                   PolynomialFeatures)\n",
    "from sklearn.compose import ColumnTransformer\n",
    "from sklearn import metrics\n",
    "from sklearn.impute import SimpleImputer"
   ]
  },
  {
   "cell_type": "raw",
   "id": "05648fda-822a-49b8-914d-3d5822329854",
   "metadata": {},
   "source": [
    "def split_train_test(df, test_ratio=.15):\n",
    "    shuffled_indices = np.random.permutation(len(df))\n",
    "    test_set_size = int(len(df) * test_ratio)\n",
    "    test_indices = shuffled_indices[:test_set_size]\n",
    "    train_indices = shuffled_indices[test_set_size:]\n",
    "    return df.iloc[train_indices], df.iloc[test_indices]"
   ]
  },
  {
   "cell_type": "raw",
   "id": "05f22804-25a2-472d-8904-fcaf2bc3f973",
   "metadata": {
    "tags": []
   },
   "source": [
    "def split_x_y(train_set, test_set, features, target='price'):\n",
    "    y_train = train_set[target].copy()\n",
    "    X_train = train_set[features].copy()\n",
    "    y_test = test_set[target].copy()\n",
    "    X_test = test_set[features].copy()\n",
    "    print('X_train:', X_train.shape, '\\n' + \n",
    "          'X_test:', X_test.shape, '\\n' + \n",
    "          'y_train:', y_train.shape, '\\n' + \n",
    "          'y_test:', y_test.shape, '\\n')\n",
    "    return X_train, X_test, y_train, y_test"
   ]
  },
  {
   "cell_type": "code",
   "execution_count": null,
   "id": "0b125caf-f9e3-4f73-b5d0-7aae6fdac42b",
   "metadata": {},
   "outputs": [],
   "source": [
    "def scores_statistics(estimator, scoring_dict, X_train, y_train, cv=10, return_train_score=False, time_info=False):\n",
    "    \n",
    "    scores = cross_validate(estimator, \n",
    "                            X=X_train, y=y_train, \n",
    "                            scoring=scoring_dict, \n",
    "                            cv=cv, \n",
    "                            return_train_score=return_train_score)\n",
    "    \n",
    "    if time_info:\n",
    "        fit_time_mean = np.mean(scores['fit_time'])\n",
    "        fit_time_std = np.std(scores['fit_time'])\n",
    "        score_time_mean = np.mean(scores['score_time'])\n",
    "        score_time_std = np.std(scores['score_time'])\n",
    "        #time_list = []    \n",
    "        print('fit_time mean:', fit_time_mean)\n",
    "        print('fit_time std:', fit_time_std)\n",
    "        print('score_time mean:', score_time_mea)\n",
    "        print('score_time std:', score_time_std)\n",
    "    \n",
    "    \n",
    "    for key in scoring_dict:\n",
    "        try:\n",
    "            mean = np.mean(scores['test_' + key])\n",
    "            std = np.std(scores['test_' + key])\n",
    "            print(key, 'mean:', mean)\n",
    "            print(key, 'std:', std, '\\n')\n",
    "        except:\n",
    "            continue\n",
    "    return scores"
   ]
  },
  {
   "cell_type": "code",
   "execution_count": null,
   "id": "084c0e15-42e6-4146-a53e-d109b70e75aa",
   "metadata": {},
   "outputs": [],
   "source": [
    "features = ['price',\n",
    "            'floor_area',\n",
    "            'views',\n",
    "            'latitude',\n",
    "            'longitude',\n",
    "      #      'bedroom',\n",
    "            'bathroom',\n",
    "            #'sale_type',\n",
    "            'type_house',\n",
    "#            'postcode',\n",
    " #           'state_district',\n",
    "  #          'county',\n",
    "  #          'city_district',\n",
    "   #         'road',\n",
    "      #      'place',\n",
    "            'code',\n",
    "  #          'admin1',\n",
    "  #          'cities'\n",
    "           ]"
   ]
  },
  {
   "cell_type": "code",
   "execution_count": null,
   "id": "d710adb8-0757-4d1c-82d9-9b9be40ce478",
   "metadata": {},
   "outputs": [],
   "source": [
    "sale_data = pd.read_csv('data_available/sale_data_post_out.csv', sep=',')\n",
    "print(sale_data.shape)  #### cambiar esto\n",
    "\n",
    "data = sale_data[features].copy()\n",
    "print(data.shape)"
   ]
  },
  {
   "cell_type": "code",
   "execution_count": null,
   "id": "84f68a34-600b-47eb-8866-f8e6766a0465",
   "metadata": {},
   "outputs": [],
   "source": [
    "print(data.isna().sum())"
   ]
  },
  {
   "cell_type": "raw",
   "id": "39beedb6-f24a-4aaf-bc0f-04bad78d9efa",
   "metadata": {},
   "source": [
    "data.dropna(subset=['code'], inplace=True)\n",
    "print(data.shape)\n",
    "data.isna().sum()"
   ]
  },
  {
   "cell_type": "code",
   "execution_count": null,
   "id": "c388e5d5-b99a-4d76-b650-2f1060a7218b",
   "metadata": {},
   "outputs": [],
   "source": [
    "train_set, test_set = split_train_test(data, .15)\n",
    "print(train_set.shape, test_set.shape)\n",
    "#print(train_set.isna().sum())"
   ]
  },
  {
   "cell_type": "code",
   "execution_count": null,
   "id": "a2371124-6b2d-42b6-b7c1-ae078c352864",
   "metadata": {},
   "outputs": [],
   "source": [
    "features = list(train_set.columns)\n",
    "features.remove('price')\n",
    "features"
   ]
  },
  {
   "cell_type": "code",
   "execution_count": null,
   "id": "ce1394f7-ffed-4a40-821e-dcef57cc9542",
   "metadata": {},
   "outputs": [],
   "source": [
    "X_train, X_test, y_train, y_test = split_x_y(train_set=train_set, \n",
    "                                             test_set=test_set, \n",
    "                                             features=features, \n",
    "                                             target='price')\n",
    "\n",
    "#print(X_train.isna().sum())"
   ]
  },
  {
   "cell_type": "code",
   "execution_count": null,
   "id": "f6651002-e8f2-4da9-803e-6581658ca8f7",
   "metadata": {},
   "outputs": [],
   "source": [
    "num_pipe = Pipeline([\n",
    "    ('std_scaler', StandardScaler()),\n",
    "    ('poly', PolynomialFeatures(degree=3, include_bias=False)),\n",
    "    ])\n",
    "\n",
    "#cat_features = train_set.select_dtypes('object').columns\n",
    "type_house_levels = train_set.type_house.unique()\n",
    "code_levels = train_set.code.unique()\n",
    "\n",
    "cat_pipe = Pipeline([\n",
    "    ('one_hot_encoder', OneHotEncoder(categories=[type_house_levels, code_levels]))  #code_levels\n",
    "                                      #handle_unknown='ignore'\n",
    "    ])\n",
    "\n",
    "#num_features = data.select_dtypes('number').columns\n",
    "#cat_features =  data.select_dtypes('object').columns\n",
    "num_features = ['floor_area', \n",
    "                'views', \n",
    "                'latitude', \n",
    "                'longitude', \n",
    "                'bathroom']\n",
    "cat_features = ['type_house',\n",
    "                'code']\n",
    "\n",
    "preprocessor = ColumnTransformer([\n",
    "    ('num', num_pipe, num_features),\n",
    "    ('cat', cat_pipe, cat_features),\n",
    "    ]) #, remainder='passthrough'\n",
    "#preprocessor\n",
    "\n",
    "\n",
    "estimator = Pipeline(steps=[\n",
    "    ('preprocessor', preprocessor),\n",
    "    ('imputer', SimpleImputer(strategy='constant', \n",
    "                              fill_value=None)),\n",
    "    ('regressor', LinearRegression())\n",
    "                           ])\n",
    "#estimator"
   ]
  },
  {
   "cell_type": "code",
   "execution_count": null,
   "id": "021b8bca-16fe-41a6-8cb8-8a1e6afd93c9",
   "metadata": {
    "tags": []
   },
   "outputs": [],
   "source": [
    "scoring = {'r2': 'r2', \n",
    "           'MAE': 'neg_mean_absolute_error', \n",
    "           'MAPE': 'neg_mean_absolute_percentage_error', \n",
    "           'RMSE': 'neg_root_mean_squared_error'}\n",
    "print(X_train.shape)\n",
    "\n",
    "scores = scores_statistics(estimator=estimator, \n",
    "                           scoring_dict=scoring, \n",
    "                           X_train=X_train, \n",
    "                           y_train=y_train, \n",
    "                           cv=10, \n",
    "                           return_train_score=False)"
   ]
  },
  {
   "cell_type": "code",
   "execution_count": null,
   "id": "941da852-5a50-4700-a2b8-44f4a0f9d275",
   "metadata": {},
   "outputs": [],
   "source": []
  },
  {
   "cell_type": "code",
   "execution_count": null,
   "id": "cf093502-166f-4801-8299-1b0ed0e80d89",
   "metadata": {},
   "outputs": [],
   "source": [
    "#%%time\n",
    "\n",
    "from sklearn.model_selection import GridSearchCV, ParameterGrid\n",
    "\n",
    "#param_grid = [\n",
    "#    {'degree'=[1,2,3,4,5,6,7,8,9,0]},\n",
    "#]\n",
    "\n",
    "\n",
    "grid_search = GridSearchCV(estimator=estimator, \n",
    "                           param_grid={'preprocessor__num__poly__degree': [1,2,3,4,5]}, \n",
    "                           cv=5, \n",
    "                           n_jobs=-1,\n",
    "                        #   scoring='neg_mean_squared_error',\n",
    "                        #   return_train_score=True\n",
    "                          )\n",
    "\n",
    "grid_search.fit(X_train, y_train)"
   ]
  },
  {
   "cell_type": "code",
   "execution_count": null,
   "id": "8baf4a1e-5113-48c9-bb30-acf027614ef3",
   "metadata": {},
   "outputs": [],
   "source": [
    "grid_search.best_params_"
   ]
  },
  {
   "cell_type": "code",
   "execution_count": null,
   "id": "44f35b71-ef66-4607-8bbd-a0fe10edecaf",
   "metadata": {},
   "outputs": [],
   "source": [
    "grid_search.best_score_"
   ]
  },
  {
   "cell_type": "code",
   "execution_count": null,
   "id": "1c860e1d-3afa-42f3-b22b-cdb400ba71b9",
   "metadata": {},
   "outputs": [],
   "source": [
    "#grid_search.best_estimator_"
   ]
  },
  {
   "cell_type": "code",
   "execution_count": null,
   "id": "37a8e53c-ae97-4d7b-be61-5082c226e76c",
   "metadata": {},
   "outputs": [],
   "source": [
    "pd.DataFrame(grid_search.cv_results_)"
   ]
  },
  {
   "cell_type": "code",
   "execution_count": null,
   "id": "06d9ed09-3fbe-4c4e-a35c-baa1446e6f71",
   "metadata": {},
   "outputs": [],
   "source": [
    "sns.regplot(x=y_test, y=estimator.fit(X_train, y_train).predict(X_test), \n",
    "            scatter_kws={\"color\": \"cornflowerblue\"}, line_kws={\"color\": \"red\"})\\\n",
    "           .set_title('Actual vs Predicted');"
   ]
  },
  {
   "cell_type": "code",
   "execution_count": null,
   "id": "6d0e2014-a92f-451e-bee0-7149a17f1398",
   "metadata": {},
   "outputs": [],
   "source": []
  },
  {
   "cell_type": "code",
   "execution_count": null,
   "id": "aff4dd02-bf1f-422a-99a0-d7e1f1e11c96",
   "metadata": {},
   "outputs": [],
   "source": []
  },
  {
   "cell_type": "markdown",
   "id": "bd5a9815-ef39-43be-ae3d-1791a38f31f7",
   "metadata": {},
   "source": [
    "# Decission Tree Regressor"
   ]
  },
  {
   "cell_type": "code",
   "execution_count": null,
   "id": "fbdb3d59-9964-41fa-834f-65c38cd31b6e",
   "metadata": {},
   "outputs": [],
   "source": [
    "from sklearn.tree import DecisionTreeRegressor"
   ]
  },
  {
   "cell_type": "code",
   "execution_count": null,
   "id": "0e7d7503-1b6e-4d62-b24c-232e76a9115b",
   "metadata": {},
   "outputs": [],
   "source": [
    "num_pipe = Pipeline([\n",
    "    ('std_scaler', StandardScaler()),\n",
    "#    ('poly', PolynomialFeatures(degree=3, include_bias=False)),\n",
    "    ])\n",
    "\n",
    "#cat_features = train_set.select_dtypes('object').columns\n",
    "type_house_levels = train_set.type_house.unique()\n",
    "code_levels = train_set.code.unique()\n",
    "\n",
    "cat_pipe = Pipeline([\n",
    "    ('one_hot_encoder', OneHotEncoder(categories=[type_house_levels, code_levels]))  #code_levels\n",
    "                                      #handle_unknown='ignore'\n",
    "    ])\n",
    "\n",
    "#num_features = data.select_dtypes('number').columns\n",
    "#cat_features =  data.select_dtypes('object').columns\n",
    "num_features = ['floor_area', \n",
    "                'views', \n",
    "                'latitude', \n",
    "                'longitude', \n",
    "                'bathroom']\n",
    "cat_features = ['type_house',\n",
    "                'code']\n",
    "\n",
    "preprocessor = ColumnTransformer([\n",
    "    ('num', num_pipe, num_features),\n",
    "    ('cat', cat_pipe, cat_features),\n",
    "    ]) #, remainder='passthrough'\n",
    "#preprocessor\n",
    "\n",
    "\n",
    "estimator = Pipeline(steps=[\n",
    "    ('preprocessor', preprocessor),\n",
    "    ('imputer', SimpleImputer(strategy='constant', \n",
    "                              fill_value=None)),\n",
    "    ('regressor', DecisionTreeRegressor())\n",
    "                           ])\n",
    "#estimator"
   ]
  },
  {
   "cell_type": "code",
   "execution_count": null,
   "id": "45843b45-e1c4-4b9c-bb9c-ecabea8e3102",
   "metadata": {},
   "outputs": [],
   "source": [
    "grid_search = GridSearchCV(estimator=estimator, \n",
    "                           param_grid={\n",
    "                        #       'preprocessor__num__poly__degree': [1,2,3,4,5],\n",
    "                               'regressor__max_depth': range(1, 15), #[2,3,4,5,6,7]\n",
    "                           }, \n",
    "                           cv=5, \n",
    "                           n_jobs=-1,\n",
    "                        #   scoring='neg_mean_squared_error',\n",
    "                        #   return_train_score=True\n",
    "                          )\n",
    "\n",
    "grid_search.fit(X_train, y_train)"
   ]
  },
  {
   "cell_type": "code",
   "execution_count": null,
   "id": "aac9d9ac-c76e-4e93-82d1-8038908ff227",
   "metadata": {},
   "outputs": [],
   "source": [
    "print(grid_search.best_params_)\n",
    "print(grid_search.best_score_)"
   ]
  },
  {
   "cell_type": "code",
   "execution_count": null,
   "id": "bc94cc2e-635b-4b5c-8c8c-d39566b683c5",
   "metadata": {},
   "outputs": [],
   "source": [
    "#pd.DataFrame(grid_search.cv_results_)"
   ]
  },
  {
   "cell_type": "code",
   "execution_count": null,
   "id": "d17936eb-9cfb-41e2-9e51-2d898ca1e01e",
   "metadata": {},
   "outputs": [],
   "source": [
    "sns.regplot(x=y_test, y=estimator.fit(X_train, y_train).predict(X_test), \n",
    "            scatter_kws={\"color\": \"cornflowerblue\"}, line_kws={\"color\": \"red\"})\\\n",
    "           .set_title('Actual vs Predicted');"
   ]
  },
  {
   "cell_type": "code",
   "execution_count": null,
   "id": "3cbc57b7-1775-40e0-8898-b49ee70bffd9",
   "metadata": {},
   "outputs": [],
   "source": []
  },
  {
   "cell_type": "code",
   "execution_count": null,
   "id": "232fe7b4-d89b-4937-9e36-6baeea87c8d5",
   "metadata": {},
   "outputs": [],
   "source": []
  },
  {
   "cell_type": "code",
   "execution_count": null,
   "id": "9eacf19b-bcf3-45fd-9aef-5d72fe7fe2c0",
   "metadata": {},
   "outputs": [],
   "source": []
  },
  {
   "cell_type": "markdown",
   "id": "ec145ada-90e4-44f5-90b7-65a3754db7b5",
   "metadata": {},
   "source": [
    "# Random Forest Regressor"
   ]
  },
  {
   "cell_type": "code",
   "execution_count": null,
   "id": "81a26ac7-590e-4c71-9477-bc487d621216",
   "metadata": {},
   "outputs": [],
   "source": [
    "from sklearn.ensemble import RandomForestRegressor"
   ]
  },
  {
   "cell_type": "markdown",
   "id": "c4a13429-00e8-4943-9721-f128194aa2e2",
   "metadata": {},
   "source": [
    "```python\n",
    "RandomForestRegressor(n_estimators=100, \n",
    "                      *, \n",
    "                      criterion='squared_error', \n",
    "                      max_depth=None, \n",
    "                      min_samples_split=2, \n",
    "                      min_samples_leaf=1, \n",
    "                      min_weight_fraction_leaf=0.0, \n",
    "                      max_features='auto', \n",
    "                      max_leaf_nodes=None, \n",
    "                      min_impurity_decrease=0.0, \n",
    "                      bootstrap=True, \n",
    "                      oob_score=False, \n",
    "                      n_jobs=None, \n",
    "                      random_state=None, \n",
    "                      verbose=0, \n",
    "                      warm_start=False, \n",
    "                      ccp_alpha=0.0, \n",
    "                      max_samples=None)\n",
    "```"
   ]
  },
  {
   "cell_type": "code",
   "execution_count": null,
   "id": "7a402523-de4a-4bd5-9e7a-7db786028a6e",
   "metadata": {
    "tags": []
   },
   "outputs": [],
   "source": [
    "rfr_pipe_est = Pipeline(steps=[\n",
    "    ('preprocessor', preprocessor),\n",
    "    ('imputer', SimpleImputer(strategy='constant', \n",
    "                              fill_value=None)),\n",
    "    ('regressor', RandomForestRegressor())\n",
    "                           ])\n",
    "#estimator"
   ]
  },
  {
   "cell_type": "code",
   "execution_count": null,
   "id": "894068f3-d8ff-4693-91b4-c3586ad28c78",
   "metadata": {},
   "outputs": [],
   "source": [
    "param_grid = [\n",
    "    {'regressor__n_estimators': [3,10,30], \n",
    "     'regressor__max_features': range(1, 8)},\n",
    "    {'regressor__n_estimators': range(41,60)}, #[3,10,30,40,50,60]\n",
    "]\n",
    "\n",
    "grid_search = GridSearchCV(estimator=rfr_pipe_est, \n",
    "                           param_grid=param_grid,\n",
    "                           #{\n",
    "                        #       'preprocessor__num__poly__degree': [1,2,3,4,5],\n",
    "                        #       'regressor__max_depth': range(1, 15), #[2,3,4,5,6,7]\n",
    "                        #   }, \n",
    "                           cv=5, \n",
    "                           n_jobs=-1,\n",
    "                        #   scoring='neg_mean_squared_error',\n",
    "                        #   return_train_score=True\n",
    "                          )\n",
    "\n",
    "grid_search.fit(X_train, y_train)"
   ]
  },
  {
   "cell_type": "code",
   "execution_count": null,
   "id": "a50cefcc-a772-42ca-b853-643452101d0f",
   "metadata": {},
   "outputs": [],
   "source": [
    "print(grid_search.best_params_)\n",
    "print(grid_search.best_score_)"
   ]
  },
  {
   "cell_type": "code",
   "execution_count": null,
   "id": "62aaff64-8aec-49f1-b9ec-8072fe42fbb0",
   "metadata": {},
   "outputs": [],
   "source": [
    "pd.DataFrame(grid_search.cv_results_).tail()"
   ]
  },
  {
   "cell_type": "code",
   "execution_count": null,
   "id": "fe7876a7-d265-46c3-9254-2f30ff00b190",
   "metadata": {},
   "outputs": [],
   "source": [
    "rfr_pipe_est = Pipeline(steps=[\n",
    "    ('preprocessor', preprocessor),\n",
    "    ('imputer', SimpleImputer(strategy='constant', \n",
    "                              fill_value=None)),\n",
    "    ('regressor', RandomForestRegressor(n_estimators=44))\n",
    "                           ])\n",
    "#estimator\n",
    "\n",
    "scores = scores_statistics(estimator=rfr_pipe_est, \n",
    "                           scoring_dict=scoring, \n",
    "                           X_train=X_train, \n",
    "                           y_train=y_train, \n",
    "                           cv=10, \n",
    "                           return_train_score=False)"
   ]
  },
  {
   "cell_type": "code",
   "execution_count": null,
   "id": "43f0eb29-5db4-4ae2-82cc-92efe56d6f6f",
   "metadata": {},
   "outputs": [],
   "source": []
  },
  {
   "cell_type": "code",
   "execution_count": null,
   "id": "58924f49-c8ce-4233-889c-e8d72232df98",
   "metadata": {},
   "outputs": [],
   "source": [
    "sns.regplot(x=y_test, y=rfr_pipe_est.fit(X_train, y_train).predict(X_test), \n",
    "            scatter_kws={\"color\": \"cornflowerblue\"}, line_kws={\"color\": \"red\"})\\\n",
    "           .set_title('Actual vs Predicted');"
   ]
  },
  {
   "cell_type": "code",
   "execution_count": null,
   "id": "d3950143-d07f-482a-98bd-faa00c1633c9",
   "metadata": {},
   "outputs": [],
   "source": []
  },
  {
   "cell_type": "markdown",
   "id": "f63be031-6a63-4075-9663-ea34c2a32c99",
   "metadata": {},
   "source": [
    "# K Nearest Neighbors Regressor"
   ]
  },
  {
   "cell_type": "code",
   "execution_count": null,
   "id": "1e6894f0-5373-498d-9c3f-2493152584e9",
   "metadata": {},
   "outputs": [],
   "source": [
    "from sklearn.neighbors import KNeighborsRegressor"
   ]
  },
  {
   "cell_type": "markdown",
   "id": "bf419ea6-b599-4628-8e67-4384cac11698",
   "metadata": {},
   "source": [
    "```python\n",
    "KNeighborsRegressor(n_neighbors=5, \n",
    "                    *, \n",
    "                    weights='uniform', \n",
    "                    algorithm='auto', \n",
    "                    leaf_size=30, \n",
    "                    p=2, \n",
    "                    metric='minkowski', \n",
    "                    metric_params=None, \n",
    "                    n_jobs=None)\n",
    "```"
   ]
  },
  {
   "cell_type": "code",
   "execution_count": null,
   "id": "7dbe1784-0d7b-4ecb-8c39-0cbb0edadb27",
   "metadata": {},
   "outputs": [],
   "source": [
    "num_pipe = Pipeline([\n",
    "    ('std_scaler', StandardScaler()),\n",
    "    ('poly', PolynomialFeatures(degree=3, include_bias=False)),\n",
    "    ])\n",
    "\n",
    "#cat_features = train_set.select_dtypes('object').columns\n",
    "type_house_levels = train_set.type_house.unique()\n",
    "code_levels = train_set.code.unique()\n",
    "\n",
    "cat_pipe = Pipeline([\n",
    "    ('one_hot_encoder', OneHotEncoder(categories=[type_house_levels, code_levels]))  #code_levels\n",
    "                                      #handle_unknown='ignore'\n",
    "    ])\n",
    "\n",
    "#num_features = data.select_dtypes('number').columns\n",
    "#cat_features =  data.select_dtypes('object').columns\n",
    "num_features = ['floor_area', \n",
    "                'views', \n",
    "                'latitude', \n",
    "                'longitude', \n",
    "                'bathroom']\n",
    "cat_features = ['type_house',\n",
    "                'code']\n",
    "\n",
    "preprocessor = ColumnTransformer([\n",
    "    ('num', num_pipe, num_features),\n",
    "    ('cat', cat_pipe, cat_features),\n",
    "    ]) #, remainder='passthrough'"
   ]
  },
  {
   "cell_type": "code",
   "execution_count": null,
   "id": "df9e701c-48a8-423b-bfc1-825ba882658f",
   "metadata": {},
   "outputs": [],
   "source": [
    "knnr_pipe_est = Pipeline(steps=[\n",
    "    ('preprocessor', preprocessor),\n",
    "    ('imputer', SimpleImputer(strategy='constant', \n",
    "                              fill_value=None)),\n",
    "    ('regressor', KNeighborsRegressor())\n",
    "                           ])"
   ]
  },
  {
   "cell_type": "code",
   "execution_count": null,
   "id": "8163e35a-c331-419a-9e63-93cc5083e1d8",
   "metadata": {},
   "outputs": [],
   "source": [
    "param_grid = [\n",
    "    {\n",
    "        'regressor__n_neighbors': [5,10,15,20,25,30,35,40,45,50], \n",
    "    },\n",
    "    {\n",
    "        'preprocessor__num__poly__degree': [1,2,3,4,5],\n",
    "        'regressor__n_neighbors': [5,10,15,20,25,30,35,40,45,50],\n",
    "    }, \n",
    "]\n",
    "\n",
    "grid_search = GridSearchCV(estimator=knnr_pipe_est, \n",
    "                           param_grid=param_grid,\n",
    "                           cv=5, \n",
    "                           n_jobs=-1,\n",
    "                        #   scoring='neg_mean_squared_error',\n",
    "                        #   return_train_score=True\n",
    "                          )\n",
    "\n",
    "grid_search.fit(X_train, y_train)"
   ]
  },
  {
   "cell_type": "code",
   "execution_count": null,
   "id": "b567f5b1-4904-47f5-99e5-d30ab6e167f1",
   "metadata": {},
   "outputs": [],
   "source": [
    "print(grid_search.best_params_)\n",
    "print(grid_search.best_score_)"
   ]
  },
  {
   "cell_type": "raw",
   "id": "e97edce9-5ec5-47bc-8471-57fc7320e1e1",
   "metadata": {},
   "source": [
    "pd.DataFrame(grid_search.cv_results_)"
   ]
  },
  {
   "cell_type": "code",
   "execution_count": null,
   "id": "90d11a95-3dc6-40da-894c-93c73b1bc5ee",
   "metadata": {},
   "outputs": [],
   "source": []
  },
  {
   "cell_type": "code",
   "execution_count": null,
   "id": "f3c24587-e8a3-477e-839f-11182578a073",
   "metadata": {},
   "outputs": [],
   "source": []
  }
 ],
 "metadata": {
  "kernelspec": {
   "display_name": "Python 3 (ipykernel)",
   "language": "python",
   "name": "python3"
  },
  "language_info": {
   "codemirror_mode": {
    "name": "ipython",
    "version": 3
   },
   "file_extension": ".py",
   "mimetype": "text/x-python",
   "name": "python",
   "nbconvert_exporter": "python",
   "pygments_lexer": "ipython3",
   "version": "3.7.11"
  },
  "toc-autonumbering": true
 },
 "nbformat": 4,
 "nbformat_minor": 5
}
