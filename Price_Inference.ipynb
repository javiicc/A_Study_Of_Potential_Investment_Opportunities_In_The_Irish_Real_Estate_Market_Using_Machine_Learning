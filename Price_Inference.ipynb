{
 "cells": [
  {
   "cell_type": "markdown",
   "id": "2b1cde2f-e700-4549-8bf9-3af3141d482a",
   "metadata": {
    "tags": []
   },
   "source": [
    "# Data"
   ]
  },
  {
   "cell_type": "markdown",
   "id": "c0c6583f-8405-4a55-894f-414e650c72e6",
   "metadata": {},
   "source": [
    "## Import libraries and Set Options"
   ]
  },
  {
   "cell_type": "code",
   "execution_count": 1,
   "id": "6b1007dc-b3a7-4b52-b3cb-e7260cdf8baf",
   "metadata": {},
   "outputs": [],
   "source": [
    "import numpy as np\n",
    "import pandas as pd\n",
    "import matplotlib.pyplot as plt\n",
    "import seaborn as sns\n",
    "\n",
    "from sklearn.model_selection import train_test_split, cross_validate, GridSearchCV, ParameterGrid\n",
    "from sklearn.preprocessing import (StandardScaler, OneHotEncoder,\n",
    "                                   PolynomialFeatures)\n",
    "from sklearn.impute import SimpleImputer\n",
    "\n",
    "from sklearn.pipeline import Pipeline\n",
    "from sklearn.compose import ColumnTransformer\n",
    "\n",
    "from sklearn.linear_model import LinearRegression\n",
    "from sklearn.tree import DecisionTreeRegressor\n",
    "from sklearn.ensemble import RandomForestRegressor\n",
    "\n",
    "from sklearn import metrics\n",
    "from sklearn.metrics import mean_absolute_percentage_error\n",
    "\n",
    "from daftpy.daftmodel import split_data, scores_statistics, metrics_regression, plot_learning_curves, compare_models\n",
    "\n",
    "import joblib"
   ]
  },
  {
   "cell_type": "code",
   "execution_count": 2,
   "id": "458cf704-359d-4cef-9b6b-d7071c3be864",
   "metadata": {},
   "outputs": [],
   "source": [
    "pd.set_option('display.max_rows', None)\n",
    "pd.set_option('display.max_columns', None)\n",
    "plt.style.use('seaborn')"
   ]
  },
  {
   "cell_type": "markdown",
   "id": "455a52a9-32fb-485f-b06f-34b80561ecfa",
   "metadata": {},
   "source": [
    "## Load Data"
   ]
  },
  {
   "cell_type": "code",
   "execution_count": 3,
   "id": "6b90327e-f46b-49ca-86a0-93a8fd8fdbb7",
   "metadata": {},
   "outputs": [
    {
     "data": {
      "text/plain": [
       "(7387, 34)"
      ]
     },
     "execution_count": 3,
     "metadata": {},
     "output_type": "execute_result"
    }
   ],
   "source": [
    "sale_data = pd.read_csv('data_available/sale_data_post_out.csv', sep=',')\n",
    "sale_data.shape  #### cambiar esto"
   ]
  },
  {
   "cell_type": "code",
   "execution_count": 4,
   "id": "6326fc04-861a-480d-859f-37bc9e35971e",
   "metadata": {},
   "outputs": [
    {
     "data": {
      "text/plain": [
       "(7387, 8)"
      ]
     },
     "execution_count": 4,
     "metadata": {},
     "output_type": "execute_result"
    }
   ],
   "source": [
    "features = [\n",
    "    \n",
    "    'price',\n",
    "    'floor_area',\n",
    "    'views',\n",
    "    'latitude',\n",
    "    'longitude',\n",
    "#    'bedroom',\n",
    "    'bathroom',\n",
    "#    'sale_type',\n",
    "    'type_house',\n",
    "#    'postcode',\n",
    "#    'state_district',\n",
    "#    'county',\n",
    "#    'city_district',\n",
    "#    'road',\n",
    "#    'place',\n",
    "    'code',\n",
    "#    'admin1',\n",
    "#    'cities'\n",
    "]\n",
    "\n",
    "data = sale_data[features].copy()\n",
    "data.shape"
   ]
  },
  {
   "cell_type": "code",
   "execution_count": 5,
   "id": "eb7eaa6d-f353-4d46-91c0-d20992614833",
   "metadata": {},
   "outputs": [
    {
     "data": {
      "text/html": [
       "<div>\n",
       "<style scoped>\n",
       "    .dataframe tbody tr th:only-of-type {\n",
       "        vertical-align: middle;\n",
       "    }\n",
       "\n",
       "    .dataframe tbody tr th {\n",
       "        vertical-align: top;\n",
       "    }\n",
       "\n",
       "    .dataframe thead th {\n",
       "        text-align: right;\n",
       "    }\n",
       "</style>\n",
       "<table border=\"1\" class=\"dataframe\">\n",
       "  <thead>\n",
       "    <tr style=\"text-align: right;\">\n",
       "      <th></th>\n",
       "      <th>numerical</th>\n",
       "      <th>categorical</th>\n",
       "    </tr>\n",
       "  </thead>\n",
       "  <tbody>\n",
       "    <tr>\n",
       "      <th>0</th>\n",
       "      <td>floor_area</td>\n",
       "      <td>type_house</td>\n",
       "    </tr>\n",
       "    <tr>\n",
       "      <th>1</th>\n",
       "      <td>views</td>\n",
       "      <td>code</td>\n",
       "    </tr>\n",
       "    <tr>\n",
       "      <th>2</th>\n",
       "      <td>latitude</td>\n",
       "      <td></td>\n",
       "    </tr>\n",
       "    <tr>\n",
       "      <th>3</th>\n",
       "      <td>longitude</td>\n",
       "      <td></td>\n",
       "    </tr>\n",
       "    <tr>\n",
       "      <th>4</th>\n",
       "      <td>bathroom</td>\n",
       "      <td></td>\n",
       "    </tr>\n",
       "  </tbody>\n",
       "</table>\n",
       "</div>"
      ],
      "text/plain": [
       "    numerical categorical\n",
       "0  floor_area  type_house\n",
       "1       views        code\n",
       "2    latitude            \n",
       "3   longitude            \n",
       "4    bathroom            "
      ]
     },
     "execution_count": 5,
     "metadata": {},
     "output_type": "execute_result"
    }
   ],
   "source": [
    "num_features = list(data.select_dtypes('number').columns) #X_train\n",
    "num_features.remove('price')\n",
    "cat_features =  list(data.select_dtypes('object').columns)\n",
    "\n",
    "num_feat_df = pd.DataFrame({'numerical': num_features}) \n",
    "cat_feat_df = pd.DataFrame({'categorical': cat_features})\n",
    "\n",
    "feat_df = num_feat_df.merge(cat_feat_df, how='left', left_index=True, right_index=True).fillna(' ')\n",
    "feat_df"
   ]
  },
  {
   "cell_type": "code",
   "execution_count": 6,
   "id": "c6599fa1-ea6e-451e-a97a-f8891abb6a77",
   "metadata": {},
   "outputs": [
    {
     "data": {
      "text/html": [
       "<div>\n",
       "<style scoped>\n",
       "    .dataframe tbody tr th:only-of-type {\n",
       "        vertical-align: middle;\n",
       "    }\n",
       "\n",
       "    .dataframe tbody tr th {\n",
       "        vertical-align: top;\n",
       "    }\n",
       "\n",
       "    .dataframe thead th {\n",
       "        text-align: right;\n",
       "    }\n",
       "</style>\n",
       "<table border=\"1\" class=\"dataframe\">\n",
       "  <thead>\n",
       "    <tr style=\"text-align: right;\">\n",
       "      <th></th>\n",
       "      <th>categorical</th>\n",
       "      <th>n_levels</th>\n",
       "      <th>sample</th>\n",
       "    </tr>\n",
       "  </thead>\n",
       "  <tbody>\n",
       "    <tr>\n",
       "      <th>0</th>\n",
       "      <td>type_house</td>\n",
       "      <td>2</td>\n",
       "      <td>[house, apartment]</td>\n",
       "    </tr>\n",
       "    <tr>\n",
       "      <th>1</th>\n",
       "      <td>code</td>\n",
       "      <td>137</td>\n",
       "      <td>[D09, T23, F91, V95, R32]</td>\n",
       "    </tr>\n",
       "  </tbody>\n",
       "</table>\n",
       "</div>"
      ],
      "text/plain": [
       "  categorical  n_levels                     sample\n",
       "0  type_house         2         [house, apartment]\n",
       "1        code       137  [D09, T23, F91, V95, R32]"
      ]
     },
     "execution_count": 6,
     "metadata": {},
     "output_type": "execute_result"
    }
   ],
   "source": [
    "levels_type_house = data.type_house.unique()\n",
    "levels_code = data.code.unique()\n",
    "\n",
    "cat_feat_df['n_levels'] = [data.type_house.nunique(), data.code.nunique()]\n",
    "cat_feat_df['sample'] = [levels_type_house, levels_code[:5]]\n",
    "cat_feat_df # mejorar"
   ]
  },
  {
   "cell_type": "markdown",
   "id": "0bb15326-8376-468d-8752-791c56461487",
   "metadata": {
    "tags": []
   },
   "source": [
    "## Split Data"
   ]
  },
  {
   "cell_type": "code",
   "execution_count": 7,
   "id": "afd1e9e6-afbd-4552-9488-9157053371fa",
   "metadata": {},
   "outputs": [
    {
     "name": "stdout",
     "output_type": "stream",
     "text": [
      "X_train: (5909, 7) \n",
      "X_test: (1478, 7) \n",
      "y_train: (5909,) \n",
      "y_test: (1478,) \n",
      "\n"
     ]
    }
   ],
   "source": [
    "X_train, X_test, y_train, y_test = split_data(data=data, \n",
    "                                              target='price', \n",
    "                                              test_size=.2, \n",
    "                                              output='X_y_train_test',\n",
    "                                              random_state=42)"
   ]
  },
  {
   "cell_type": "markdown",
   "id": "4031280c-e4ea-48dc-8af8-574ea8894ded",
   "metadata": {},
   "source": [
    "------------"
   ]
  },
  {
   "cell_type": "markdown",
   "id": "a7b3673b-54c7-4ae7-b1fa-25289981e0c9",
   "metadata": {
    "tags": []
   },
   "source": [
    "# Metrics"
   ]
  },
  {
   "cell_type": "code",
   "execution_count": 8,
   "id": "5306a3a9-08b6-413a-8fc4-c3a7d7f9c737",
   "metadata": {},
   "outputs": [],
   "source": [
    "scoring = {'r2': 'r2', \n",
    "           'MAE': 'neg_mean_absolute_error', \n",
    "           'MAPE': 'neg_mean_absolute_percentage_error', \n",
    "           'RMSE': 'neg_root_mean_squared_error'}"
   ]
  },
  {
   "cell_type": "markdown",
   "id": "bca2d51d-2d13-42c5-8b3d-3e415b91a560",
   "metadata": {},
   "source": [
    "# Models"
   ]
  },
  {
   "cell_type": "markdown",
   "id": "3fea1855-2df2-467d-8550-69b064af1434",
   "metadata": {
    "tags": []
   },
   "source": [
    "## Multiple Linear Regression"
   ]
  },
  {
   "cell_type": "markdown",
   "id": "0ce9317b-c9da-446d-a085-2b16dbc6bc8e",
   "metadata": {},
   "source": [
    "En estadística, el **coeficiente de determinación**, denominado R² y pronunciado R cuadrado, es un estadístico usado en el contexto de un modelo estadístico cuyo principal propósito es predecir futuros resultados o probar una hipótesis. El coeficiente determina la calidad del modelo para replicar los resultados, y la proporción de variación de los resultados que puede explicarse por el modelo.\n",
    "\n",
    "Es el porcentaje de la variación en la variable de respuesta que es explicado por un modelo lineal. Es decir:\n",
    "\n",
    "R-cuadrado = Variación explicada / variación total\n",
    "\n",
    "El R-cuadrado siempre está entre 0 y 100%:"
   ]
  },
  {
   "cell_type": "markdown",
   "id": "6028ab71-9371-4cdc-b0ae-efbd2537cef1",
   "metadata": {},
   "source": [
    "https://scikit-learn.org/stable/modules/cross_validation.html"
   ]
  },
  {
   "cell_type": "code",
   "execution_count": 9,
   "id": "a1dfedf3-9533-47fd-a31b-b48bb1fe92a9",
   "metadata": {},
   "outputs": [],
   "source": [
    "num_pipe = Pipeline([\n",
    "    ('std_scaler', StandardScaler()),\n",
    "#    ('poly', PolynomialFeatures(degree=3, include_bias=False)),\n",
    "    ])\n",
    "\n",
    "cat_pipe = Pipeline([\n",
    "    ('one_hot_encoder', OneHotEncoder(categories=[levels_type_house, levels_code]))  # No hace nada si ya transformadas\n",
    "                                      #handle_unknown='ignore'\n",
    "    ])\n",
    "# Las transforme antes para evitar problemas no las variables a la hora de predecir e el test_set...\n",
    "\n",
    "preprocessor = ColumnTransformer([\n",
    "    ('num', num_pipe, num_features),\n",
    "    ('cat', cat_pipe, cat_features),\n",
    "    ]) #, remainder='passthrough'\n",
    "\n",
    "\n",
    "lr_pipe_estimator = Pipeline(steps=[\n",
    "    ('preprocessor', preprocessor),\n",
    "    ('imputer', SimpleImputer(strategy='constant', # esto lo puedo agnadir en los otros pipes\n",
    "                              fill_value=None)),\n",
    "    ('regressor', LinearRegression())\n",
    "    ])"
   ]
  },
  {
   "cell_type": "code",
   "execution_count": 10,
   "id": "44524b4a-9a06-458f-b958-c03cdee765fe",
   "metadata": {
    "tags": []
   },
   "outputs": [
    {
     "name": "stdout",
     "output_type": "stream",
     "text": [
      "r2 mean: 0.6581505970522035\n",
      "r2 std: 0.03247492814306588 \n",
      "\n",
      "MAE mean: -108719.58221709491\n",
      "MAE std: 5568.4947907050655 \n",
      "\n",
      "MAPE mean: -0.32069981130761466\n",
      "MAPE std: 0.015889144852600887 \n",
      "\n",
      "RMSE mean: -176983.98634043717\n",
      "RMSE std: 12945.409397794008 \n",
      "\n"
     ]
    }
   ],
   "source": [
    "scores_lr, scores_resume_lr = scores_statistics(estimator=lr_pipe_estimator, \n",
    "                                                scoring_dict=scoring, \n",
    "                                                X_train=X_train, \n",
    "                                                y_train=y_train, \n",
    "                                                cv=10, \n",
    "                                                return_train_score=False)"
   ]
  },
  {
   "cell_type": "markdown",
   "id": "9a5bd6f7-a034-48a1-8720-37e6b296748d",
   "metadata": {},
   "source": [
    "### Overfitting-Underfitting Analysis"
   ]
  },
  {
   "cell_type": "markdown",
   "id": "2421336e-7cfa-4752-acd1-39b010daef44",
   "metadata": {},
   "source": [
    "#### Evaluating on the Training and Test Sets"
   ]
  },
  {
   "cell_type": "markdown",
   "id": "37122528-5f26-471e-899b-22bdba9b4799",
   "metadata": {},
   "source": [
    "We can identify if a machine learning model has overfit by first evaluating the model on the training dataset and then evaluating the same model on a holdout test dataset.\n",
    "\n",
    "If the performance of the model on the training dataset is significantly better than the performance on the test dataset, then the model may have overfit the training dataset."
   ]
  },
  {
   "cell_type": "code",
   "execution_count": 11,
   "id": "ca0bbad9-0fd6-44c4-899a-6d67bf11d076",
   "metadata": {},
   "outputs": [
    {
     "name": "stdout",
     "output_type": "stream",
     "text": [
      "Performance on the training set:\n",
      " ----------\n",
      "R²: 0.6739892726197527\n",
      "MAE: 106081.66588347829\n",
      "MAPE: 0.31183387356867376\n",
      "RMSE: 173716.41014659725\n",
      "\n",
      "Performance on the test set:\n",
      " ----------\n",
      "R²: 0.6468123069342815\n",
      "MAE: 111099.76275851484\n",
      "MAPE: 0.321239513969634\n",
      "RMSE: 183180.30027983472\n",
      "\n"
     ]
    }
   ],
   "source": [
    "lr = lr_pipe_estimator.fit(X_train, y_train)\n",
    "\n",
    "print('Performance on the training set:\\n', '-'*10)\n",
    "y_pred_train = lr.predict(X_train)\n",
    "metrics_regression(y_test=y_train, \n",
    "                   y_pred=y_pred_train, \n",
    "                   squared=False)\n",
    "\n",
    "print('Performance on the test set:\\n', '-'*10)\n",
    "y_pred = lr.predict(X_test)\n",
    "metrics_regression(y_test=y_test, \n",
    "                   y_pred=y_pred, \n",
    "                   squared=False)"
   ]
  },
  {
   "cell_type": "markdown",
   "id": "1db8bd07-35ce-4e84-b9b7-8143398f3ade",
   "metadata": {
    "tags": []
   },
   "source": [
    "#### Learning Curves"
   ]
  },
  {
   "cell_type": "raw",
   "id": "6c2a0f12-03fb-4e08-8315-bff22d8a0e17",
   "metadata": {
    "jupyter": {
     "outputs_hidden": true
    },
    "tags": []
   },
   "source": [
    "plot_learning_curves(model=lr_pipe_estimator, \n",
    "                     X_train=X_train, \n",
    "                     y_train=y_train, \n",
    "                     X_test=X_test, \n",
    "                     y_test=y_test,\n",
    "                     metric='mape')"
   ]
  },
  {
   "cell_type": "markdown",
   "id": "68cc37f1-55f7-47f2-a1b9-192ef4cb877e",
   "metadata": {},
   "source": [
    "The model is underfitting the training data, so we need to use more complex models or come up with better features."
   ]
  },
  {
   "cell_type": "code",
   "execution_count": null,
   "id": "7c9a9e17-1767-458b-a4f6-37fde2ffc619",
   "metadata": {},
   "outputs": [],
   "source": []
  },
  {
   "cell_type": "raw",
   "id": "ccffe742-38cd-4031-9aff-4e5935537938",
   "metadata": {
    "tags": []
   },
   "source": [
    "sns.regplot(x=y_test, y=lr_pipe_estimator.predict(X_test), \n",
    "            scatter_kws={\"color\": \"cornflowerblue\"}, line_kws={\"color\": \"red\"})\\\n",
    "           .set_title('Actual vs Predicted');"
   ]
  },
  {
   "cell_type": "markdown",
   "id": "02906502-6f02-47f8-a4f0-79e0f3fb33b3",
   "metadata": {},
   "source": [
    "-------------"
   ]
  },
  {
   "cell_type": "raw",
   "id": "f7f7bda9-cf01-4608-9ad6-0f1686e311ca",
   "metadata": {},
   "source": [
    "joblib.dump(lr, 'models/linear_regression.plk')\n",
    "# esto es genial <3"
   ]
  },
  {
   "cell_type": "raw",
   "id": "eda8b9b5-177e-4650-866a-921bc82cc794",
   "metadata": {},
   "source": [
    "testing_load = joblib.load('models/linear_regression.plk')"
   ]
  },
  {
   "cell_type": "raw",
   "id": "8e111d60-6f6f-4870-a93d-24e0e3736fd7",
   "metadata": {},
   "source": [
    "testing_load"
   ]
  },
  {
   "cell_type": "raw",
   "id": "e928cb88-d27a-4808-b425-34ed51ed825b",
   "metadata": {},
   "source": [
    "testing_load.intercept_, testing_load.coef_"
   ]
  },
  {
   "cell_type": "markdown",
   "id": "ac6aedae-ec47-49a5-83f5-d3c9b180498b",
   "metadata": {},
   "source": [
    "------------"
   ]
  },
  {
   "cell_type": "raw",
   "id": "68c98918-b7ba-4a46-b9af-6e53c4e02648",
   "metadata": {},
   "source": [
    "# Train test split\n",
    "\n",
    "from sklearn.model_selection import train_test_split\n",
    "\n",
    "y = df_dum.price.values\n",
    "X = df_dum.drop('price', axis=1)\n",
    "\n",
    "\n",
    "X_train, X_test, y_train, y_test = train_test_split(X, y, test_size=.15, random_state=42)\n",
    "X_train.shape, X_test.shape, y_train.shape, y_test.shape"
   ]
  },
  {
   "cell_type": "raw",
   "id": "42dd917f-6c12-4f9a-80d1-8bbba4a7081e",
   "metadata": {},
   "source": [
    "# Multiple linear regression\n",
    "\n",
    "import statsmodels.api as sm\n",
    "\n",
    "X_sm = X = sm.add_constant(X) # para el intercept\n",
    "\n",
    "model = sm.OLS(y,X_sm)\n",
    "model.fit().summary()"
   ]
  },
  {
   "cell_type": "code",
   "execution_count": null,
   "id": "63cdb0f6-2fe7-406e-9d58-d024c3d88e1d",
   "metadata": {},
   "outputs": [],
   "source": []
  },
  {
   "cell_type": "code",
   "execution_count": 12,
   "id": "67df135d-ff11-4e8e-a15f-c3c1a1dddf16",
   "metadata": {},
   "outputs": [],
   "source": [
    "#joblib.dump(lr, 'models/linear_regression_01-11-2021.plk')"
   ]
  },
  {
   "cell_type": "markdown",
   "id": "dd94640e-e436-4e9e-8700-475bbc161121",
   "metadata": {},
   "source": [
    "-------------------"
   ]
  },
  {
   "cell_type": "markdown",
   "id": "654f6fff-86a2-458b-b6dd-9960ed554a0d",
   "metadata": {
    "tags": []
   },
   "source": [
    "## Polynomial Regression"
   ]
  },
  {
   "cell_type": "code",
   "execution_count": 13,
   "id": "f6651002-e8f2-4da9-803e-6581658ca8f7",
   "metadata": {},
   "outputs": [],
   "source": [
    "num_pipe = Pipeline([\n",
    "    ('poly', PolynomialFeatures(degree=3, include_bias=False)),\n",
    "    ('std_scaler', StandardScaler()),\n",
    "    ])\n",
    "\n",
    "cat_pipe = Pipeline([\n",
    "    ('one_hot_encoder', OneHotEncoder(categories=[levels_type_house, levels_code]))  #code_levels\n",
    "                                      #handle_unknown='ignore'\n",
    "    ])\n",
    "\n",
    "\n",
    "preprocessor = ColumnTransformer([\n",
    "    ('num', num_pipe, num_features),\n",
    "    ('cat', cat_pipe, cat_features),\n",
    "    ]) #, remainder='passthrough'\n",
    "\n",
    "\n",
    "poly_pipe_estimator = Pipeline(steps=[\n",
    "    ('preprocessor', preprocessor),\n",
    "    ('imputer', SimpleImputer(strategy='constant', \n",
    "                              fill_value=None)),\n",
    "    ('regressor', LinearRegression())\n",
    "                           ])"
   ]
  },
  {
   "cell_type": "raw",
   "id": "e06c0852-31fb-463b-992c-ba34d9c56197",
   "metadata": {
    "jupyter": {
     "outputs_hidden": true
    },
    "tags": []
   },
   "source": [
    "grid_search = GridSearchCV(estimator=poly_pipe_estimator, \n",
    "                           param_grid={'preprocessor__num__poly__degree': range(1, 10)}, \n",
    "                           cv=5, \n",
    "                           n_jobs=-1,\n",
    "                        #   scoring='neg_mean_squared_error',\n",
    "                        #   return_train_score=True\n",
    "                          )\n",
    "\n",
    "grid_search.fit(X_train, y_train)\n",
    "\n",
    "print(grid_search.best_params_)\n",
    "print(grid_search.best_score_)\n",
    "#grid_search.best_estimator_"
   ]
  },
  {
   "cell_type": "code",
   "execution_count": 14,
   "id": "37a8e53c-ae97-4d7b-be61-5082c226e76c",
   "metadata": {},
   "outputs": [],
   "source": [
    "#pd.DataFrame(grid_search.cv_results_) # plotearlo"
   ]
  },
  {
   "cell_type": "code",
   "execution_count": 15,
   "id": "021b8bca-16fe-41a6-8cb8-8a1e6afd93c9",
   "metadata": {
    "tags": []
   },
   "outputs": [
    {
     "name": "stdout",
     "output_type": "stream",
     "text": [
      "r2 mean: 0.7509266721418995\n",
      "r2 std: 0.029110140197970813 \n",
      "\n",
      "MAE mean: -94476.7902938415\n",
      "MAE std: 3679.6981417813968 \n",
      "\n",
      "MAPE mean: -0.2738010265729388\n",
      "MAPE std: 0.010822070061438843 \n",
      "\n",
      "RMSE mean: -150821.55756749702\n",
      "RMSE std: 10517.670372640698 \n",
      "\n"
     ]
    }
   ],
   "source": [
    "scores = scores_statistics(estimator=poly_pipe_estimator, \n",
    "                           scoring_dict=scoring, \n",
    "                           X_train=X_train, \n",
    "                           y_train=y_train, \n",
    "                           cv=10, \n",
    "                           return_train_score=False)"
   ]
  },
  {
   "cell_type": "code",
   "execution_count": 16,
   "id": "a928248e-a59a-42d6-bf4c-1d10033e3dc3",
   "metadata": {},
   "outputs": [
    {
     "name": "stdout",
     "output_type": "stream",
     "text": [
      "Performance on the training set:\n",
      " ----------\n",
      "R²: 0.7737738943989698\n",
      "MAE: 90784.73634486872\n",
      "MAPE: 0.2629339442693284\n",
      "RMSE: 144709.23924104206\n",
      "\n",
      "Performance on the test set:\n",
      " ----------\n",
      "R²: 0.7341027244460809\n",
      "MAE: 97188.98815136666\n",
      "MAPE: 0.271332077376683\n",
      "RMSE: 158939.89776053437\n",
      "\n"
     ]
    }
   ],
   "source": [
    "poly = poly_pipe_estimator.fit(X_train, y_train)\n",
    "\n",
    "print('Performance on the training set:\\n', '-'*10)\n",
    "y_pred_train = poly.predict(X_train)\n",
    "metrics_regression(y_test=y_train, \n",
    "                    y_pred=y_pred_train, \n",
    "                    squared=False)\n",
    "\n",
    "print('Performance on the test set:\\n', '-'*10)\n",
    "y_pred = poly.predict(X_test)\n",
    "metrics_regression(y_test=y_test, \n",
    "                   y_pred=y_pred, \n",
    "                   squared=False)\n"
   ]
  },
  {
   "cell_type": "raw",
   "id": "573f9d23-e48a-4f1b-9a7f-2826f6fe42c0",
   "metadata": {},
   "source": [
    "plot_learning_curves(model=poly_pipe_estimator, \n",
    "                     X_train=X_train, \n",
    "                     y_train=y_train, \n",
    "                     X_test=X_test, \n",
    "                     y_test=y_test)"
   ]
  },
  {
   "cell_type": "code",
   "execution_count": null,
   "id": "8c0ac7cb-78e7-41f5-bff9-28a1baf152dd",
   "metadata": {},
   "outputs": [],
   "source": []
  },
  {
   "cell_type": "raw",
   "id": "17bbd842-a4d7-49cb-9160-2038c5e35375",
   "metadata": {},
   "source": [
    "sns.regplot(x=y_test, y=poly_pipe_estimator.fit(X_train, y_train).predict(X_test), \n",
    "            scatter_kws={\"color\": \"cornflowerblue\"}, line_kws={\"color\": \"red\"})\\\n",
    "           .set_title('Actual vs Predicted');"
   ]
  },
  {
   "cell_type": "code",
   "execution_count": null,
   "id": "6d0e2014-a92f-451e-bee0-7149a17f1398",
   "metadata": {},
   "outputs": [],
   "source": []
  },
  {
   "cell_type": "markdown",
   "id": "2df32fb6-e8cf-45dc-b3b1-8726c5dd7958",
   "metadata": {
    "jp-MarkdownHeadingCollapsed": true,
    "tags": []
   },
   "source": [
    "## Support Vector Machines"
   ]
  },
  {
   "cell_type": "raw",
   "id": "71069c6b-ee67-4602-a439-c6d8970b6cb5",
   "metadata": {},
   "source": [
    "from sklearn.svm import LinearSVR\n",
    "\n",
    "from sklearn.svm import SVR"
   ]
  },
  {
   "cell_type": "raw",
   "id": "92bef4e9-1c5a-4cd3-bb39-a9f81d8a1af9",
   "metadata": {},
   "source": [
    "num_pipe = Pipeline([\n",
    "    ('poly', PolynomialFeatures(degree=1, include_bias=False)),\n",
    "    ('std_scaler', StandardScaler()),\n",
    "    ])\n",
    "\n",
    "cat_pipe = Pipeline([\n",
    "    ('one_hot_encoder', OneHotEncoder(categories=[levels_type_house, levels_code]))  #code_levels\n",
    "                                      #handle_unknown='ignore'\n",
    "    ])\n",
    "\n",
    "\n",
    "preprocessor = ColumnTransformer([\n",
    "    ('num', num_pipe, num_features),\n",
    "    ('cat', cat_pipe, cat_features),\n",
    "    ]) #, remainder='passthrough'\n",
    "\n",
    "\n",
    "svmr_pipe_est = Pipeline(steps=[\n",
    "    ('preprocessor', preprocessor),\n",
    "    ('imputer', SimpleImputer(strategy='constant', \n",
    "                              fill_value=None)),\n",
    "    ('regressor', SVR()) \n",
    "                           ])\n",
    "#  coef0=1,\n",
    "# SVR(kernel='poly', degree=1, coef0=1, C=1) LinearSVR(epsilon=1)"
   ]
  },
  {
   "cell_type": "raw",
   "id": "c97a648c-f235-43aa-b341-272f51aa0b07",
   "metadata": {
    "tags": []
   },
   "source": [
    "grid_search = GridSearchCV(estimator=svmr_pipe_est, \n",
    "                           param_grid={\n",
    "                               'regressor__degree': [1,3],\n",
    "                               'regressor__epsilon': [.1], #[2,3,4,5,6,7]\n",
    "                               'regressor__C': [50,60,70,80,90,100,120]\n",
    "                           }, \n",
    "                           cv=6, \n",
    "                           n_jobs=-1,\n",
    "                        #   scoring='neg_mean_squared_error',\n",
    "                        #   return_train_score=True\n",
    "                          )\n",
    "\n",
    "grid_search.fit(X_train, y_train)\n",
    "\n",
    "print(grid_search.best_params_)\n",
    "print(grid_search.best_score_)"
   ]
  },
  {
   "cell_type": "raw",
   "id": "2f517762-036c-405c-9706-fc76c9a0bd40",
   "metadata": {},
   "source": [
    "pd.DataFrame(grid_search.cv_results_)"
   ]
  },
  {
   "cell_type": "raw",
   "id": "1a51b9dd-95d5-44d9-aa68-25c86500d14b",
   "metadata": {},
   "source": [
    "svmr_pipe_est = Pipeline(steps=[\n",
    "    ('preprocessor', preprocessor),\n",
    "    ('imputer', SimpleImputer(strategy='constant', \n",
    "                              fill_value=None)),\n",
    "    ('regressor', SVR())\n",
    "])\n",
    "\n",
    "scores = scores_statistics(estimator=svmr_pipe_est, \n",
    "                           scoring_dict=scoring, \n",
    "                           X_train=X_train, \n",
    "                           y_train=y_train, \n",
    "                           cv=10, \n",
    "                           return_train_score=False)"
   ]
  },
  {
   "cell_type": "raw",
   "id": "43aff6f9-d1f3-4d0e-a28b-f97b4127ea85",
   "metadata": {},
   "source": [
    "svmr = svmr_pipe_est.fit(X_train, y_train)\n",
    "\n",
    "print('Performance on the training set:\\n', '-'*10)\n",
    "y_pred_train = svmr.predict(X_train)\n",
    "metrics_regression(y_test=y_train, \n",
    "                   y_pred=y_pred_train, \n",
    "                   squared=False)\n",
    "\n",
    "print('Performance on the test set:\\n', '-'*10)\n",
    "y_pred = svmr.predict(X_test)\n",
    "metrics_regression(y_test=y_test, \n",
    "                   y_pred=y_pred, \n",
    "                   squared=False)"
   ]
  },
  {
   "cell_type": "code",
   "execution_count": null,
   "id": "aff4dd02-bf1f-422a-99a0-d7e1f1e11c96",
   "metadata": {},
   "outputs": [],
   "source": []
  },
  {
   "cell_type": "markdown",
   "id": "f63be031-6a63-4075-9663-ea34c2a32c99",
   "metadata": {
    "jp-MarkdownHeadingCollapsed": true,
    "tags": []
   },
   "source": [
    "## K Nearest Neighbors Regressor"
   ]
  },
  {
   "cell_type": "code",
   "execution_count": 17,
   "id": "1e6894f0-5373-498d-9c3f-2493152584e9",
   "metadata": {},
   "outputs": [],
   "source": [
    "from sklearn.neighbors import KNeighborsRegressor"
   ]
  },
  {
   "cell_type": "code",
   "execution_count": 18,
   "id": "7dbe1784-0d7b-4ecb-8c39-0cbb0edadb27",
   "metadata": {},
   "outputs": [],
   "source": [
    "num_pipe = Pipeline([\n",
    "    ('poly', PolynomialFeatures(degree=1, include_bias=False)),\n",
    "    ('std_scaler', StandardScaler()),\n",
    "    ])\n",
    "\n",
    "cat_pipe = Pipeline([\n",
    "    ('one_hot_encoder', OneHotEncoder(categories=[levels_type_house, levels_code]))  #code_levels\n",
    "                                      #handle_unknown='ignore'\n",
    "    ])\n",
    "\n",
    "\n",
    "preprocessor = ColumnTransformer([\n",
    "    ('num', num_pipe, num_features),\n",
    "    ('cat', cat_pipe, cat_features),\n",
    "    ]) #, remainder='passthrough'\n",
    "\n",
    "\n",
    "knnr_pipe_est = Pipeline(steps=[\n",
    "    ('preprocessor', preprocessor),\n",
    "    ('imputer', SimpleImputer(strategy='constant', \n",
    "                              fill_value=None)),\n",
    "    ('regressor', KNeighborsRegressor())\n",
    "                           ])"
   ]
  },
  {
   "cell_type": "raw",
   "id": "439900f0-94c1-44eb-99f8-41854a977224",
   "metadata": {
    "jupyter": {
     "outputs_hidden": true
    },
    "tags": []
   },
   "source": [
    "param_grid = [\n",
    "#    {\n",
    " #       'regressor__n_neighbors': [5,10,15,20,25,30,35,40,45,50], \n",
    "  #  },\n",
    "    {\n",
    "        'preprocessor__num__poly__degree': [1,2,3,4,5],\n",
    "        'regressor__n_neighbors': [5,10,15,20,25,30,35,40,45,50],\n",
    "    }, \n",
    "]\n",
    "\n",
    "grid_search = GridSearchCV(estimator=knnr_pipe_est, \n",
    "                           param_grid=param_grid,\n",
    "                           cv=5, \n",
    "                           n_jobs=-1,\n",
    "                        #   scoring='neg_mean_squared_error',\n",
    "                        #   return_train_score=True\n",
    "                          )\n",
    "\n",
    "grid_search.fit(X_train, y_train)\n",
    "\n",
    "print(grid_search.best_params_)\n",
    "print(grid_search.best_score_)"
   ]
  },
  {
   "cell_type": "raw",
   "id": "e97edce9-5ec5-47bc-8471-57fc7320e1e1",
   "metadata": {},
   "source": [
    "pd.DataFrame(grid_search.cv_results_)"
   ]
  },
  {
   "cell_type": "code",
   "execution_count": 19,
   "id": "90d11a95-3dc6-40da-894c-93c73b1bc5ee",
   "metadata": {},
   "outputs": [
    {
     "name": "stdout",
     "output_type": "stream",
     "text": [
      "r2 mean: 0.71811523350896\n",
      "r2 std: 0.047035588574515515 \n",
      "\n",
      "MAE mean: -94951.2568978797\n",
      "MAE std: 3616.1771208504674 \n",
      "\n",
      "MAPE mean: -0.2673478345689654\n",
      "MAPE std: 0.006640880486903855 \n",
      "\n",
      "RMSE mean: -160776.974205796\n",
      "RMSE std: 12246.337737638607 \n",
      "\n"
     ]
    }
   ],
   "source": [
    "knnr_pipe_est = Pipeline(steps=[\n",
    "    ('preprocessor', preprocessor),\n",
    "    ('imputer', SimpleImputer(strategy='constant', \n",
    "                              fill_value=None)),\n",
    "    ('regressor', KNeighborsRegressor(n_neighbors=10,\n",
    "                                      \n",
    "                                     ))\n",
    "                           ])\n",
    "\n",
    "scores = scores_statistics(estimator=knnr_pipe_est, \n",
    "                           scoring_dict=scoring, \n",
    "                           X_train=X_train, \n",
    "                           y_train=y_train, \n",
    "                           cv=5, \n",
    "                           return_train_score=False)"
   ]
  },
  {
   "cell_type": "code",
   "execution_count": 20,
   "id": "f3c24587-e8a3-477e-839f-11182578a073",
   "metadata": {},
   "outputs": [
    {
     "name": "stdout",
     "output_type": "stream",
     "text": [
      "Performance on the training set:\n",
      " ----------\n",
      "R²: 0.7808931429920254\n",
      "MAE: 83952.01976645795\n",
      "MAPE: 0.23402768381886224\n",
      "RMSE: 142414.06577198117\n",
      "\n",
      "Performance on the test set:\n",
      " ----------\n",
      "R²: 0.7149744015727351\n",
      "MAE: 94532.48254397836\n",
      "MAPE: 0.25724751266987317\n",
      "RMSE: 164557.59012118593\n",
      "\n"
     ]
    }
   ],
   "source": [
    "knnr = knnr_pipe_est.fit(X_train, y_train)\n",
    "\n",
    "print('Performance on the training set:\\n', '-'*10)\n",
    "y_pred_train = knnr.predict(X_train)\n",
    "metrics_regression(y_test=y_train, \n",
    "                   y_pred=y_pred_train, \n",
    "                   squared=False)\n",
    "\n",
    "print('Performance on the test set:\\n', '-'*10)\n",
    "y_pred = knnr.predict(X_test)\n",
    "metrics_regression(y_test=y_test, \n",
    "                   y_pred=y_pred, \n",
    "                   squared=False)"
   ]
  },
  {
   "cell_type": "markdown",
   "id": "bd5a9815-ef39-43be-ae3d-1791a38f31f7",
   "metadata": {
    "jp-MarkdownHeadingCollapsed": true,
    "tags": []
   },
   "source": [
    "## Decission Tree Regressor"
   ]
  },
  {
   "cell_type": "code",
   "execution_count": 21,
   "id": "0e7d7503-1b6e-4d62-b24c-232e76a9115b",
   "metadata": {
    "tags": []
   },
   "outputs": [],
   "source": [
    "num_pipe = Pipeline([\n",
    "    ('std_scaler', StandardScaler()),\n",
    "    ('poly', PolynomialFeatures(degree=1, include_bias=False)),\n",
    "    ])\n",
    "\n",
    "cat_pipe = Pipeline([\n",
    "    ('one_hot_encoder', OneHotEncoder(categories=[levels_type_house, levels_code]))  #code_levels\n",
    "                                      #handle_unknown='ignore'\n",
    "    ])\n",
    "\n",
    "\n",
    "preprocessor = ColumnTransformer([\n",
    "    ('num', num_pipe, num_features),\n",
    "    ('cat', cat_pipe, cat_features),\n",
    "    ]) #, remainder='passthrough'\n",
    "\n",
    "\n",
    "dtr_pipe_estimator = Pipeline(steps=[\n",
    "    ('preprocessor', preprocessor),\n",
    "    ('imputer', SimpleImputer(strategy='constant', \n",
    "                              fill_value=None)),\n",
    "    ('regressor', DecisionTreeRegressor()) # max_depth=9spoiler\n",
    "                           ])"
   ]
  },
  {
   "cell_type": "raw",
   "id": "2fe96ee8-8683-4d8c-8077-f4a8f80359b7",
   "metadata": {
    "jupyter": {
     "outputs_hidden": true
    },
    "tags": []
   },
   "source": [
    "grid_search = GridSearchCV(estimator=dtr_pipe_estimator, \n",
    "                           param_grid={\n",
    "                               'preprocessor__num__poly__degree': [1], #[1,2,3,4],\n",
    "                               'regressor__max_depth': [7], #range(5, 15), #[2,3,4,5,6,7]\n",
    "                               'regressor__min_samples_leaf': [16], #range(8, 20),\n",
    "                               'regressor__min_samples_split': [43], #[2, 43],\n",
    "                               'regressor__max_leaf_nodes': range(59, 100),\n",
    "                         #      'regressor__max_features':,\n",
    "                           }, \n",
    "                           cv=5, \n",
    "                           n_jobs=-1,\n",
    "                        #   scoring='neg_mean_squared_error',\n",
    "                        #   return_train_score=True\n",
    "                          )\n",
    "\n",
    "grid_search.fit(X_train, y_train)\n",
    "print(grid_search.best_params_)\n",
    "print(grid_search.best_score_)\n"
   ]
  },
  {
   "cell_type": "code",
   "execution_count": 22,
   "id": "bc94cc2e-635b-4b5c-8c8c-d39566b683c5",
   "metadata": {},
   "outputs": [],
   "source": [
    "#pd.DataFrame(grid_search.cv_results_)"
   ]
  },
  {
   "cell_type": "code",
   "execution_count": 57,
   "id": "9adfb000-e88d-4da8-99b1-6c45d78f3a4a",
   "metadata": {},
   "outputs": [
    {
     "name": "stdout",
     "output_type": "stream",
     "text": [
      "r2 mean: 0.7347439806116778\n",
      "r2 std: 0.024814399630088618 \n",
      "\n",
      "MAE mean: -95341.41736197876\n",
      "MAE std: 1686.2968105662758 \n",
      "\n",
      "MAPE mean: -0.27692435189721787\n",
      "MAPE std: 0.006257078986299098 \n",
      "\n",
      "RMSE mean: -156514.0008343089\n",
      "RMSE std: 7832.77912950293 \n",
      "\n"
     ]
    }
   ],
   "source": [
    "dtr_pipe_estimator = Pipeline(steps=[\n",
    "    ('preprocessor', preprocessor),\n",
    "    ('imputer', SimpleImputer(strategy='constant', \n",
    "                              fill_value=None)),\n",
    "    ('regressor', DecisionTreeRegressor(max_depth=10,\n",
    "                                        min_samples_leaf=16,\n",
    "                                        min_samples_split=43,\n",
    "                                        max_leaf_nodes=68\n",
    "                                       )) \n",
    "                           ])\n",
    "\n",
    "scores = scores_statistics(estimator=dtr_pipe_estimator, \n",
    "                           scoring_dict=scoring, \n",
    "                           X_train=X_train, \n",
    "                           y_train=y_train, \n",
    "                           cv=5, \n",
    "                           return_train_score=False)"
   ]
  },
  {
   "cell_type": "code",
   "execution_count": 24,
   "id": "e926339a-e23f-46c9-a3dc-581d96460b25",
   "metadata": {},
   "outputs": [
    {
     "name": "stdout",
     "output_type": "stream",
     "text": [
      "Performance on the training set:\n",
      " ----------\n",
      "R²: 0.7927341211787164\n",
      "MAE: 86542.06835968455\n",
      "MAPE: 0.25752620175637614\n",
      "RMSE: 138512.4486203107\n",
      "\n",
      "Performance on the test set:\n",
      " ----------\n",
      "R²: 0.7304601782182829\n",
      "MAE: 96912.11046384604\n",
      "MAPE: 0.27164761682651445\n",
      "RMSE: 160024.8593006069\n",
      "\n"
     ]
    }
   ],
   "source": [
    "dtr = dtr_pipe_estimator.fit(X_train, y_train)\n",
    "\n",
    "print('Performance on the training set:\\n', '-'*10)\n",
    "y_pred_train = dtr.predict(X_train)\n",
    "metrics_regression(y_test=y_train, \n",
    "                   y_pred=y_pred_train, \n",
    "                   squared=False)\n",
    "\n",
    "print('Performance on the test set:\\n', '-'*10)\n",
    "y_pred = dtr.predict(X_test)\n",
    "metrics_regression(y_test=y_test, \n",
    "                   y_pred=y_pred, \n",
    "                   squared=False)"
   ]
  },
  {
   "cell_type": "code",
   "execution_count": null,
   "id": "a9f23f39-c434-4b61-b263-5c97f940ca1a",
   "metadata": {},
   "outputs": [],
   "source": []
  },
  {
   "cell_type": "raw",
   "id": "a9ed348b-f318-46bb-a94c-68e14f3e4230",
   "metadata": {},
   "source": [
    "dtr_pipe_estimator.get_params()"
   ]
  },
  {
   "cell_type": "raw",
   "id": "f5790c0f-9f8a-4410-98e2-2b6b4224d935",
   "metadata": {},
   "source": [
    "#!pip install dtreeviz   # libreria para ver los arboles\n",
    "#!sudo apt-get install python3-graphviz"
   ]
  },
  {
   "cell_type": "raw",
   "id": "08acf5ec-f41e-4d17-8027-deb4a294b849",
   "metadata": {},
   "source": [
    "from dtreeviz.trees import dtreeviz"
   ]
  },
  {
   "cell_type": "raw",
   "id": "114ad2b7-2199-4fea-a651-800d8de250a9",
   "metadata": {},
   "source": [
    "from sklearn.tree import export_graphviz"
   ]
  },
  {
   "cell_type": "code",
   "execution_count": null,
   "id": "b0425201-8f3d-4d4f-9771-0c6d8616261b",
   "metadata": {},
   "outputs": [],
   "source": []
  },
  {
   "cell_type": "code",
   "execution_count": null,
   "id": "303e1cc5-1f3c-4f63-aaa7-73e4b987215d",
   "metadata": {},
   "outputs": [],
   "source": []
  },
  {
   "cell_type": "raw",
   "id": "7af7cbd0-6d3b-4387-bdc7-534b9442fa00",
   "metadata": {},
   "source": [
    "plot_learning_curves(model=dtr_pipe_estimator, \n",
    "                     X_train=X_train, \n",
    "                     y_train=y_train, \n",
    "                     X_test=X_test, \n",
    "                     y_test=y_test)"
   ]
  },
  {
   "cell_type": "code",
   "execution_count": null,
   "id": "ba154c4d-4dec-4918-b7e0-439a59a072af",
   "metadata": {},
   "outputs": [],
   "source": []
  },
  {
   "cell_type": "raw",
   "id": "94528b32-0277-424b-bee1-d813941afe57",
   "metadata": {},
   "source": [
    "sns.regplot(x=y_test, y=dtr_pipe_estimator.fit(X_train, y_train).predict(X_test), \n",
    "            scatter_kws={\"color\": \"cornflowerblue\"}, line_kws={\"color\": \"red\"})\\\n",
    "           .set_title('Actual vs Predicted');"
   ]
  },
  {
   "cell_type": "markdown",
   "id": "164e4778-c368-46ea-b5df-93872f7d68c0",
   "metadata": {
    "jp-MarkdownHeadingCollapsed": true,
    "tags": []
   },
   "source": [
    "## Voting Regressor"
   ]
  },
  {
   "cell_type": "code",
   "execution_count": 29,
   "id": "082da174-5ec4-4984-bd68-d6ac09c97b1e",
   "metadata": {},
   "outputs": [],
   "source": [
    "from sklearn.ensemble import VotingRegressor"
   ]
  },
  {
   "cell_type": "code",
   "execution_count": 30,
   "id": "2c77b453-bfbf-40d7-b314-fef81ac10324",
   "metadata": {},
   "outputs": [],
   "source": [
    "scoring_comp = {'r2': 'r2',\n",
    "                'MAPE': 'neg_mean_absolute_percentage_error'}"
   ]
  },
  {
   "cell_type": "raw",
   "id": "d3f16d5b-4596-44ac-b188-72e9afdbf2f2",
   "metadata": {},
   "source": [
    "polyr = poly_pipe_estimator\n",
    "knnr = knnr_pipe_est\n",
    "dtr = dtr_pipe_estimator\n",
    "rfr = rfr_pipe_est\n",
    "\n",
    "voting_reg = VotingRegressor(\n",
    "    estimators=[('poly', polyr),('knn', knnr),('dt', dtr)], #('rfr',rfr)\n",
    "   # weights= ,\n",
    ")\n",
    "\n",
    "models_dict = {'Polynomial Regression': polyr, \n",
    "               'K Nearest Neighbors Regressor': knnr, \n",
    "               'Decission Tree Regressor': dtr, \n",
    "             #  'Random Forest Regressor': rfr,\n",
    "               'Voting Regressor': voting_reg}\n",
    "\n",
    "for key in models_dict:\n",
    "    print(key)  \n",
    "    scores = compare_models(estimator=models_dict[key], \n",
    "                            scoring_dict=scoring_comp, \n",
    "                            X_train=X_train, \n",
    "                            y_train=y_train, \n",
    "                            cv=10, \n",
    "                            return_train_score=False)"
   ]
  },
  {
   "cell_type": "markdown",
   "id": "5d0174e6-955d-4776-ab75-47b841cc5238",
   "metadata": {},
   "source": [
    "Con el random forest mejora un poco pero el rfr sigue siendo mejor"
   ]
  },
  {
   "cell_type": "raw",
   "id": "bc4bacf2-62bb-4491-8939-e4620cc2bc7c",
   "metadata": {},
   "source": [
    "voting_reg.fit(X_train, y_train)\n",
    "\n",
    "print('Performance on the training set:\\n', '-'*10)\n",
    "y_pred_train = voting_reg.predict(X_train)\n",
    "metrics_regression(y_test=y_train, \n",
    "                   y_pred=y_pred_train, \n",
    "                   squared=False)\n",
    "\n",
    "print('Performance on the test set:\\n', '-'*10)\n",
    "y_pred = voting_reg.predict(X_test)\n",
    "metrics_regression(y_test=y_test, \n",
    "                   y_pred=y_pred, \n",
    "                   squared=False)"
   ]
  },
  {
   "cell_type": "code",
   "execution_count": 40,
   "id": "fddf134f-051a-47a1-8195-afa518b05867",
   "metadata": {},
   "outputs": [
    {
     "data": {
      "text/plain": [
       "{'poly': 0.33683582637423143,\n",
       " 'knn': 0.3280260622189593,\n",
       " 'dt': 0.33513811140680927}"
      ]
     },
     "execution_count": 40,
     "metadata": {},
     "output_type": "execute_result"
    }
   ],
   "source": [
    "models_r2 = {'poly': 73.41, 'knn': 71.49, 'dt': 73.04}\n",
    "\n",
    "tot = 0\n",
    "for key in models_r2:\n",
    "    tot += models_r2[key]\n",
    "\n",
    "models_weigth = {}\n",
    "models_weigth_list = []\n",
    "for key in models_r2:\n",
    "    weight = models_r2[key] / tot\n",
    "    models_weigth[key] = weight\n",
    "    models_weigth_list.append(weight)\n",
    "models_weigth\n",
    "#models_weigth_list"
   ]
  },
  {
   "cell_type": "code",
   "execution_count": 41,
   "id": "44de04a2-bc87-4d07-a5af-73f85aa9fea4",
   "metadata": {},
   "outputs": [
    {
     "name": "stdout",
     "output_type": "stream",
     "text": [
      "Polynomial Regression\n",
      "r2 mean: 0.7509266721418995\n",
      "MAPE mean: -0.2738010265729388\n",
      "----------\n",
      "K Nearest Neighbors Regressor\n",
      "r2 mean: 0.723478756178525\n",
      "MAPE mean: -0.263912331770578\n",
      "----------\n",
      "Decission Tree Regressor\n",
      "r2 mean: 0.7193170788329176\n",
      "MAPE mean: -0.28016911561435026\n",
      "----------\n",
      "Voting Regressor\n",
      "r2 mean: 0.7833601411843516\n",
      "MAPE mean: -0.2349531052600688\n",
      "----------\n"
     ]
    }
   ],
   "source": [
    "polyr = poly_pipe_estimator\n",
    "knnr = knnr_pipe_est\n",
    "dtr = dtr_pipe_estimator\n",
    "#rfr = rfr_pipe_est\n",
    "\n",
    "voting_reg = VotingRegressor(\n",
    "    estimators= [('poly', polyr),('knn', knnr),('dt', dtr)], #('rfr',rfr)\n",
    "    weights= models_weigth_list,\n",
    ")\n",
    "\n",
    "models_dict = {'Polynomial Regression': polyr, \n",
    "               'K Nearest Neighbors Regressor': knnr, \n",
    "               'Decission Tree Regressor': dtr, \n",
    "             #  'Random Forest Regressor': rfr,\n",
    "               'Voting Regressor': voting_reg}\n",
    "\n",
    "for key in models_dict:\n",
    "    print(key)  \n",
    "    scores = compare_models(estimator=models_dict[key], \n",
    "                            scoring_dict=scoring_comp, \n",
    "                            X_train=X_train, \n",
    "                            y_train=y_train, \n",
    "                            cv=10, \n",
    "                            return_train_score=False)"
   ]
  },
  {
   "cell_type": "code",
   "execution_count": 42,
   "id": "27a0520e-0f1b-4b09-9fea-5c11605e2abc",
   "metadata": {},
   "outputs": [
    {
     "name": "stdout",
     "output_type": "stream",
     "text": [
      "Performance on the training set:\n",
      " ----------\n",
      "R²: 0.8250917470379119\n",
      "MAE: 76384.77001301781\n",
      "MAPE: 0.2170076639656279\n",
      "RMSE: 127241.87252301836\n",
      "\n",
      "Performance on the test set:\n",
      " ----------\n",
      "R²: 0.77813329415568\n",
      "MAE: 83715.56093234899\n",
      "MAPE: 0.22537719887227378\n",
      "RMSE: 145185.10172562115\n",
      "\n"
     ]
    }
   ],
   "source": [
    "voting_reg.fit(X_train, y_train)\n",
    "\n",
    "print('Performance on the training set:\\n', '-'*10)\n",
    "y_pred_train = voting_reg.predict(X_train)\n",
    "metrics_regression(y_test=y_train, \n",
    "                   y_pred=y_pred_train, \n",
    "                   squared=False)\n",
    "\n",
    "print('Performance on the test set:\\n', '-'*10)\n",
    "y_pred = voting_reg.predict(X_test)\n",
    "metrics_regression(y_test=y_test, \n",
    "                   y_pred=y_pred, \n",
    "                   squared=False)"
   ]
  },
  {
   "cell_type": "code",
   "execution_count": null,
   "id": "bb5e50fe-5336-4b24-89c7-00e52af4647a",
   "metadata": {},
   "outputs": [],
   "source": []
  },
  {
   "cell_type": "markdown",
   "id": "f36b8366-b63f-4195-b4ea-6ca0dc3ccca3",
   "metadata": {
    "jp-MarkdownHeadingCollapsed": true,
    "tags": []
   },
   "source": [
    "## Bagging with Polynomial Regression"
   ]
  },
  {
   "cell_type": "code",
   "execution_count": 17,
   "id": "f8a0195f-3304-4a2d-aae9-0739318013a3",
   "metadata": {},
   "outputs": [],
   "source": [
    "from sklearn.ensemble import BaggingRegressor"
   ]
  },
  {
   "cell_type": "code",
   "execution_count": 62,
   "id": "eb37092e-3e6c-4985-af0a-8b8074c95792",
   "metadata": {
    "tags": []
   },
   "outputs": [
    {
     "data": {
      "text/plain": [
       "'\\n    base_estimator=LinearRegression(),\\n    n_estimators=500, \\n    max_samples=2000, \\n#    max_features=1.0, \\n#    bootstrap=True, \\n#    bootstrap_features=False, \\n#    oob_score=True, \\n#    warm_start=False, \\n    n_jobs=-1, \\n    random_state=42, \\n#    verbose=0\\n----------------\\nR²: 0.7724293692138182\\nR²: 0.7353834187513661\\n'"
      ]
     },
     "execution_count": 62,
     "metadata": {},
     "output_type": "execute_result"
    }
   ],
   "source": [
    "bag_regression = BaggingRegressor(\n",
    "    \n",
    "    base_estimator=LinearRegression(),\n",
    "    n_estimators=500, \n",
    "    max_samples=3000, \n",
    "#    max_features=50, \n",
    "#    bootstrap=True, \n",
    "#    bootstrap_features=False, \n",
    "#    oob_score=True, \n",
    "#    warm_start=False, \n",
    "    n_jobs=-1, \n",
    "    random_state=42, \n",
    "#    verbose=0\n",
    ")\n",
    "\n",
    "'''\n",
    "    base_estimator=LinearRegression(),\n",
    "    n_estimators=500, \n",
    "    max_samples=2000, \n",
    "#    max_features=1.0, \n",
    "#    bootstrap=True, \n",
    "#    bootstrap_features=False, \n",
    "#    oob_score=True, \n",
    "#    warm_start=False, \n",
    "    n_jobs=-1, \n",
    "    random_state=42, \n",
    "#    verbose=0\n",
    "----------------\n",
    "R²: 0.7724293692138182\n",
    "R²: 0.7353834187513661\n",
    "'''"
   ]
  },
  {
   "cell_type": "code",
   "execution_count": 63,
   "id": "871b1afb-7206-411d-af37-0a37a636d7e7",
   "metadata": {},
   "outputs": [],
   "source": [
    "num_pipe = Pipeline([\n",
    "    ('poly', PolynomialFeatures(degree=3, include_bias=False)),\n",
    "    ('std_scaler', StandardScaler()),\n",
    "    ])\n",
    "\n",
    "cat_pipe = Pipeline([\n",
    "    ('one_hot_encoder', OneHotEncoder(categories=[levels_type_house, levels_code]))  #code_levels\n",
    "                                      #handle_unknown='ignore'\n",
    "    ])\n",
    "\n",
    "\n",
    "preprocessor = ColumnTransformer([\n",
    "    ('num', num_pipe, num_features),\n",
    "    ('cat', cat_pipe, cat_features),\n",
    "    ]) #, remainder='passthrough'\n",
    "\n",
    "\n",
    "br_pipe_estimator = Pipeline(steps=[\n",
    "    ('preprocessor', preprocessor),\n",
    "    ('imputer', SimpleImputer(strategy='constant', \n",
    "                              fill_value=None)),\n",
    "    ('regressor', bag_regression)\n",
    "                           ])"
   ]
  },
  {
   "cell_type": "code",
   "execution_count": 64,
   "id": "f1af64a4-d996-4ab4-a128-6d3fa39363da",
   "metadata": {
    "tags": []
   },
   "outputs": [
    {
     "name": "stdout",
     "output_type": "stream",
     "text": [
      "r2 mean: 0.7484789696386661\n",
      "r2 std: 0.017753527029554746 \n",
      "\n",
      "MAE mean: -95150.15336594477\n",
      "MAE std: 1727.5519094446418 \n",
      "\n",
      "MAPE mean: -0.2763390928317644\n",
      "MAPE std: 0.007261276392903534 \n",
      "\n",
      "RMSE mean: -152427.59771405012\n",
      "RMSE std: 4919.43221337097 \n",
      "\n"
     ]
    }
   ],
   "source": [
    "scores = scores_statistics(estimator=br_pipe_estimator, \n",
    "                           scoring_dict=scoring, \n",
    "                           X_train=X_train, \n",
    "                           y_train=y_train, \n",
    "                           cv=5, \n",
    "                           return_train_score=False)"
   ]
  },
  {
   "cell_type": "code",
   "execution_count": 65,
   "id": "9ea9e36e-aefa-4ba1-8151-36ecfb96aaf3",
   "metadata": {},
   "outputs": [
    {
     "name": "stdout",
     "output_type": "stream",
     "text": [
      "Performance on the training set:\n",
      " ----------\n",
      "R²: 0.773131274043742\n",
      "MAE: 90769.90056477503\n",
      "MAPE: 0.2623421235946354\n",
      "RMSE: 144914.62481491736\n",
      "\n",
      "Performance on the test set:\n",
      " ----------\n",
      "R²: 0.735524880514952\n",
      "MAE: 96883.90805520506\n",
      "MAPE: 0.26972445640914205\n",
      "RMSE: 158514.28152992387\n",
      "\n"
     ]
    }
   ],
   "source": [
    "bag_reg = br_pipe_estimator.fit(X_train, y_train)\n",
    "\n",
    "print('Performance on the training set:\\n', '-'*10)\n",
    "y_pred_train = bag_reg.predict(X_train)\n",
    "metrics_regression(y_test=y_train, \n",
    "                    y_pred=y_pred_train, \n",
    "                    squared=False)\n",
    "\n",
    "print('Performance on the test set:\\n', '-'*10)\n",
    "y_pred = bag_reg.predict(X_test)\n",
    "metrics_regression(y_test=y_test, \n",
    "                   y_pred=y_pred, \n",
    "                   squared=False)"
   ]
  },
  {
   "cell_type": "code",
   "execution_count": null,
   "id": "0fbfabdd-0b24-479b-bbfd-a30ded98216c",
   "metadata": {},
   "outputs": [],
   "source": []
  },
  {
   "cell_type": "code",
   "execution_count": null,
   "id": "c1805072-47f3-4d07-9182-53627b85f3e3",
   "metadata": {},
   "outputs": [],
   "source": []
  },
  {
   "cell_type": "code",
   "execution_count": null,
   "id": "e6f6dc75-37e2-4837-8c91-8dea7e23055a",
   "metadata": {},
   "outputs": [],
   "source": []
  },
  {
   "cell_type": "code",
   "execution_count": null,
   "id": "11ebd24c-4885-4679-9614-403877a0aa7b",
   "metadata": {},
   "outputs": [],
   "source": []
  },
  {
   "cell_type": "code",
   "execution_count": null,
   "id": "a7edea7a-17fd-448c-a351-3c50d2e0e212",
   "metadata": {},
   "outputs": [],
   "source": []
  },
  {
   "cell_type": "markdown",
   "id": "ec145ada-90e4-44f5-90b7-65a3754db7b5",
   "metadata": {
    "jp-MarkdownHeadingCollapsed": true,
    "tags": []
   },
   "source": [
    "## Random Forest Regressor"
   ]
  },
  {
   "cell_type": "code",
   "execution_count": 71,
   "id": "7a402523-de4a-4bd5-9e7a-7db786028a6e",
   "metadata": {
    "tags": []
   },
   "outputs": [],
   "source": [
    "num_pipe = Pipeline([\n",
    "    ('std_scaler', StandardScaler()),\n",
    "    ('poly', PolynomialFeatures(degree=1, include_bias=False)),\n",
    "    ])\n",
    "\n",
    "cat_pipe = Pipeline([\n",
    "    ('one_hot_encoder', OneHotEncoder(categories=[levels_type_house, levels_code]))  #code_levels\n",
    "                                      #handle_unknown='ignore'\n",
    "    ])\n",
    "\n",
    "\n",
    "preprocessor = ColumnTransformer([\n",
    "    ('num', num_pipe, num_features),\n",
    "    ('cat', cat_pipe, cat_features),\n",
    "    ]) #, remainder='passthrough'\n",
    "\n",
    "\n",
    "rfr_pipe_est = Pipeline(steps=[\n",
    "    ('preprocessor', preprocessor),\n",
    "    ('imputer', SimpleImputer(strategy='constant', \n",
    "                              fill_value=None)),\n",
    "    ('regressor', RandomForestRegressor(n_estimators=100, \n",
    "                               #         *, \n",
    "                                        criterion='squared_error',\n",
    "                                        max_depth=None, \n",
    "                                        min_samples_split=2, \n",
    "                                        min_samples_leaf=1, \n",
    "                                        min_weight_fraction_leaf=0.0, \n",
    "                                        max_features='auto', \n",
    "                                        max_leaf_nodes=None, \n",
    "                                        min_impurity_decrease=0.0, \n",
    "                                        bootstrap=True, \n",
    "                                        oob_score=False, \n",
    "                                        n_jobs=None, \n",
    "                                        random_state=None, \n",
    "                                        verbose=0, \n",
    "                                        warm_start=False, \n",
    "                                        ccp_alpha=0.0, \n",
    "                                        max_samples=None)\n",
    "    )\n",
    "                           ])"
   ]
  },
  {
   "cell_type": "code",
   "execution_count": 91,
   "id": "75f8f55d-244d-4092-878c-e2432ac25dc2",
   "metadata": {},
   "outputs": [
    {
     "name": "stdout",
     "output_type": "stream",
     "text": [
      "{'regressor__n_estimators': 320}\n",
      "0.8078519445963483\n"
     ]
    }
   ],
   "source": [
    "param_grid = [\n",
    "    {\n",
    "#        'preprocessor__num__poly__degree': [1, 3],\n",
    "        'regressor__n_estimators': [310,315,320,325,330], \n",
    " #       'regressor__max_depth': range(2, 15),#[10],\n",
    "  #      'regressor__min_samples_split':range(30, 50), #[43],\n",
    "   #     'regressor__min_samples_leaf': range(5, 20),#[16],\n",
    "    #    'regressor__max_leaf_nodes': range(40, 80),#[68],\n",
    "     #   'regressor__n_jobs': [-1],\n",
    "    },\n",
    "    #{'regressor__n_estimators': range(41,70)}, #[3,10,30,40,50,60]\n",
    "]\n",
    "\n",
    "\n",
    "grid_search = GridSearchCV(estimator=rfr_pipe_est, \n",
    "                           param_grid=param_grid,\n",
    "                           cv=5, \n",
    "                           n_jobs=-1,\n",
    "                        #   scoring='neg_mean_squared_error',\n",
    "                        #   return_train_score=True\n",
    "                          )\n",
    "\n",
    "grid_search.fit(X_train, y_train)\n",
    "\n",
    "print(grid_search.best_params_)\n",
    "print(grid_search.best_score_)"
   ]
  },
  {
   "cell_type": "code",
   "execution_count": 76,
   "id": "62aaff64-8aec-49f1-b9ec-8072fe42fbb0",
   "metadata": {},
   "outputs": [],
   "source": [
    "#pd.DataFrame(grid_search.cv_results_).tail()"
   ]
  },
  {
   "cell_type": "code",
   "execution_count": 92,
   "id": "fe7876a7-d265-46c3-9254-2f30ff00b190",
   "metadata": {},
   "outputs": [
    {
     "name": "stdout",
     "output_type": "stream",
     "text": [
      "r2 mean: 0.8104012260704889\n",
      "r2 std: 0.03305791905049029 \n",
      "\n",
      "MAE mean: -76229.51641800112\n",
      "MAE std: 3091.553179636989 \n",
      "\n",
      "MAPE mean: -0.21519392947248192\n",
      "MAPE std: 0.010073158736609784 \n",
      "\n",
      "RMSE mean: -130985.59535647393\n",
      "RMSE std: 9601.401676860758 \n",
      "\n"
     ]
    }
   ],
   "source": [
    "rfr_pipe_est = Pipeline(steps=[\n",
    "    ('preprocessor', preprocessor),\n",
    "    ('imputer', SimpleImputer(strategy='constant', \n",
    "                              fill_value=None)),\n",
    "    ('regressor', RandomForestRegressor(\n",
    "        n_estimators=320, #325\n",
    "#        max_depth=10,\n",
    "#        min_samples_split=43,\n",
    "#        min_samples_leaf=16,\n",
    "#        max_leaf_nodes=68,\n",
    "        n_jobs=-1,\n",
    "                                       )) \n",
    "                           ])\n",
    "#estimator\n",
    "\n",
    "scores = scores_statistics(estimator=rfr_pipe_est, \n",
    "                           scoring_dict=scoring, \n",
    "                           X_train=X_train, \n",
    "                           y_train=y_train, \n",
    "                           cv=10, \n",
    "                           return_train_score=False)"
   ]
  },
  {
   "cell_type": "code",
   "execution_count": 93,
   "id": "98c2f017-b53b-4bc7-bd4a-19ad225407da",
   "metadata": {},
   "outputs": [
    {
     "name": "stdout",
     "output_type": "stream",
     "text": [
      "Performance on the training set:\n",
      " ----------\n",
      "R²: 0.974280292530381\n",
      "MAE: 28019.635152415805\n",
      "MAPE: 0.07872468600398314\n",
      "RMSE: 48793.04402528927\n",
      "\n",
      "Performance on the test set:\n",
      " ----------\n",
      "R²: 0.8077219486102967\n",
      "MAE: 77397.63373012516\n",
      "MAPE: 0.21008810092531388\n",
      "RMSE: 135157.71524023675\n",
      "\n"
     ]
    }
   ],
   "source": [
    "rfr = rfr_pipe_est.fit(X_train, y_train)\n",
    "\n",
    "print('Performance on the training set:\\n', '-'*10)\n",
    "y_pred_train = rfr.predict(X_train)\n",
    "metrics_regression(y_test=y_train, \n",
    "                   y_pred=y_pred_train, \n",
    "                   squared=False)\n",
    "\n",
    "print('Performance on the test set:\\n', '-'*10)\n",
    "y_pred = rfr.predict(X_test)\n",
    "metrics_regression(y_test=y_test, \n",
    "                   y_pred=y_pred, \n",
    "                   squared=False)"
   ]
  },
  {
   "cell_type": "markdown",
   "id": "518d3eb5-2940-4e18-a9c6-dc896e8c9ad2",
   "metadata": {},
   "source": [
    "The model is overfitting the training data. Necesitamos regularizar!!"
   ]
  },
  {
   "cell_type": "raw",
   "id": "ad5a47a4-0e1d-4261-839d-2db30c66ccff",
   "metadata": {},
   "source": [
    "plot_learning_curves(model=rfr_pipe_est, \n",
    "                     X_train=X_train, \n",
    "                     y_train=y_train, \n",
    "                     X_test=X_test, \n",
    "                     y_test=y_test)"
   ]
  },
  {
   "cell_type": "code",
   "execution_count": null,
   "id": "e506bfae-fbe3-4d0d-a404-ada160ecc2ce",
   "metadata": {},
   "outputs": [],
   "source": []
  },
  {
   "cell_type": "raw",
   "id": "34d718cf-0861-430c-9a49-f7e1b447f629",
   "metadata": {},
   "source": [
    "sns.regplot(x=y_test, y=rfr_pipe_est.fit(X_train, y_train).predict(X_test), \n",
    "            scatter_kws={\"color\": \"cornflowerblue\"}, line_kws={\"color\": \"red\"})\\\n",
    "           .set_title('Actual vs Predicted');"
   ]
  },
  {
   "cell_type": "code",
   "execution_count": null,
   "id": "d2ccd60e-92d2-4913-8bfb-0fbada034967",
   "metadata": {},
   "outputs": [],
   "source": []
  },
  {
   "cell_type": "raw",
   "id": "99604797-37d2-4db1-9d4b-7baaa92aae66",
   "metadata": {},
   "source": [
    "rfr_pipe_est.feature_importances_"
   ]
  },
  {
   "cell_type": "markdown",
   "id": "0e9573c5-6b03-4eeb-8203-e02b06f8333b",
   "metadata": {
    "jp-MarkdownHeadingCollapsed": true,
    "tags": []
   },
   "source": [
    "## Extremely Randomized Trees"
   ]
  },
  {
   "cell_type": "code",
   "execution_count": 96,
   "id": "4ddf2e11-e818-4d1d-9a00-64c7c6c50868",
   "metadata": {},
   "outputs": [],
   "source": [
    "from sklearn.ensemble import ExtraTreesRegressor"
   ]
  },
  {
   "cell_type": "code",
   "execution_count": 97,
   "id": "cdb1ed44-87c1-4566-886f-89cee1b631ba",
   "metadata": {
    "tags": []
   },
   "outputs": [],
   "source": [
    "num_pipe = Pipeline([\n",
    "    ('std_scaler', StandardScaler()),\n",
    "    ('poly', PolynomialFeatures(degree=1, include_bias=False)),\n",
    "    ])\n",
    "\n",
    "cat_pipe = Pipeline([\n",
    "    ('one_hot_encoder', OneHotEncoder(categories=[levels_type_house, levels_code]))  #code_levels\n",
    "                                      #handle_unknown='ignore'\n",
    "    ])\n",
    "\n",
    "\n",
    "preprocessor = ColumnTransformer([\n",
    "    ('num', num_pipe, num_features),\n",
    "    ('cat', cat_pipe, cat_features),\n",
    "    ]) #, remainder='passthrough'\n",
    "\n",
    "\n",
    "etr_pipe_est = Pipeline(steps=[\n",
    "    ('preprocessor', preprocessor),\n",
    "    ('imputer', SimpleImputer(strategy='constant', \n",
    "                              fill_value=None)),\n",
    "    ('regressor', ExtraTreesRegressor(n_estimators=100, \n",
    "                            #          *, \n",
    "                                      criterion='squared_error', \n",
    "                                      max_depth=None, \n",
    "                                      min_samples_split=2, \n",
    "                                      min_samples_leaf=1, \n",
    "                                      min_weight_fraction_leaf=0.0, \n",
    "                                      max_features='auto', \n",
    "                                      max_leaf_nodes=None, \n",
    "                                      min_impurity_decrease=0.0, \n",
    "                                      bootstrap=False, \n",
    "                                      oob_score=False, \n",
    "                                      n_jobs=-1, \n",
    "                                      random_state=None, \n",
    "                                      verbose=0, \n",
    "                                      warm_start=False, \n",
    "                                      ccp_alpha=0.0, \n",
    "                                      max_samples=None)\n",
    "    )\n",
    "                           ])"
   ]
  },
  {
   "cell_type": "code",
   "execution_count": 109,
   "id": "e35846e6-74eb-4d67-951e-a17c82931beb",
   "metadata": {},
   "outputs": [
    {
     "name": "stdout",
     "output_type": "stream",
     "text": [
      "{'regressor__n_estimators': 100}\n",
      "0.8133204632387004\n"
     ]
    }
   ],
   "source": [
    "param_grid = [\n",
    "    {\n",
    "#        'preprocessor__num__poly__degree': [1, 3],\n",
    "        'regressor__n_estimators': [95,100,105,110,115], \n",
    " #       'regressor__max_depth': range(2, 15),#[10],\n",
    "  #      'regressor__min_samples_split':range(30, 50), #[43],\n",
    "   #     'regressor__min_samples_leaf': range(5, 20),#[16],\n",
    "    #    'regressor__max_leaf_nodes': range(40, 80),#[68],\n",
    "     #   'regressor__n_jobs': [-1],\n",
    "    },\n",
    "    #{'regressor__n_estimators': range(41,70)}, #[3,10,30,40,50,60]\n",
    "]\n",
    "\n",
    "\n",
    "grid_search = GridSearchCV(estimator=etr_pipe_est, \n",
    "                           param_grid=param_grid,\n",
    "                           cv=5, \n",
    "                           n_jobs=-1,\n",
    "                        #   scoring='neg_mean_squared_error',\n",
    "                        #   return_train_score=True\n",
    "                          )\n",
    "\n",
    "grid_search.fit(X_train, y_train)\n",
    "\n",
    "print(grid_search.best_params_)\n",
    "print(grid_search.best_score_)"
   ]
  },
  {
   "cell_type": "code",
   "execution_count": 110,
   "id": "e8630469-4b44-427d-a872-07cde400ade2",
   "metadata": {},
   "outputs": [
    {
     "name": "stdout",
     "output_type": "stream",
     "text": [
      "r2 mean: 0.8151091606774411\n",
      "r2 std: 0.03406342439589219 \n",
      "\n",
      "MAE mean: -76142.55296024836\n",
      "MAE std: 3838.1940696224056 \n",
      "\n",
      "MAPE mean: -0.21517666470873778\n",
      "MAPE std: 0.010193661171624362 \n",
      "\n",
      "RMSE mean: -129293.73608983801\n",
      "RMSE std: 9606.194218053794 \n",
      "\n"
     ]
    }
   ],
   "source": [
    "etr_pipe_est = Pipeline(steps=[\n",
    "    ('preprocessor', preprocessor),\n",
    "    ('imputer', SimpleImputer(strategy='constant', \n",
    "                              fill_value=None)),\n",
    "    ('regressor', ExtraTreesRegressor(n_estimators=100, \n",
    "                            #          *, \n",
    "                                      criterion='squared_error', \n",
    "                                      max_depth=None, \n",
    "                                      min_samples_split=2, \n",
    "                                      min_samples_leaf=1, \n",
    "                                      min_weight_fraction_leaf=0.0, \n",
    "                                      max_features='auto', \n",
    "                                      max_leaf_nodes=None, \n",
    "                                      min_impurity_decrease=0.0, \n",
    "                                      bootstrap=False, \n",
    "                                      oob_score=False, \n",
    "                                      n_jobs=-1, \n",
    "                                      random_state=None, \n",
    "                                      verbose=0, \n",
    "                                      warm_start=False, \n",
    "                                      ccp_alpha=0.0, \n",
    "                                      max_samples=None)\n",
    "    )\n",
    "                           ])\n",
    "\n",
    "scores = scores_statistics(estimator=etr_pipe_est, \n",
    "                           scoring_dict=scoring, \n",
    "                           X_train=X_train, \n",
    "                           y_train=y_train, \n",
    "                           cv=10, \n",
    "                           return_train_score=False)"
   ]
  },
  {
   "cell_type": "code",
   "execution_count": 111,
   "id": "29cba6e1-dc73-41f5-8fbc-c6a16547876b",
   "metadata": {},
   "outputs": [
    {
     "name": "stdout",
     "output_type": "stream",
     "text": [
      "Performance on the training set:\n",
      " ----------\n",
      "R²: 0.9999998766477945\n",
      "MAE: 4.400067693349128\n",
      "MAPE: 1.5787791393412072e-05\n",
      "RMSE: 106.85586396750058\n",
      "\n",
      "Performance on the test set:\n",
      " ----------\n",
      "R²: 0.8192602046733184\n",
      "MAE: 76957.01573071719\n",
      "MAPE: 0.20494747422113435\n",
      "RMSE: 131039.69653046742\n",
      "\n"
     ]
    }
   ],
   "source": [
    "etr = etr_pipe_est.fit(X_train, y_train)\n",
    "\n",
    "print('Performance on the training set:\\n', '-'*10)\n",
    "y_pred_train = etr.predict(X_train)\n",
    "metrics_regression(y_test=y_train, \n",
    "                   y_pred=y_pred_train, \n",
    "                   squared=False)\n",
    "\n",
    "print('Performance on the test set:\\n', '-'*10)\n",
    "y_pred = etr.predict(X_test)\n",
    "metrics_regression(y_test=y_test, \n",
    "                   y_pred=y_pred, \n",
    "                   squared=False)"
   ]
  },
  {
   "cell_type": "markdown",
   "id": "aeefbdb1-3664-4b13-aa09-fe8cad312bf8",
   "metadata": {
    "tags": []
   },
   "source": [
    "## AdaBoost Regressor"
   ]
  },
  {
   "cell_type": "code",
   "execution_count": 112,
   "id": "f44d6a55-14a6-4ecb-b5d5-ac8165d1ac57",
   "metadata": {},
   "outputs": [],
   "source": [
    "from sklearn.ensemble import AdaBoostRegressor"
   ]
  },
  {
   "cell_type": "code",
   "execution_count": 125,
   "id": "23630198-74be-439d-9fcc-07dc5a6dc955",
   "metadata": {
    "tags": []
   },
   "outputs": [],
   "source": [
    "num_pipe = Pipeline([\n",
    "    ('std_scaler', StandardScaler()),\n",
    "    ('poly', PolynomialFeatures(degree=1, include_bias=False)),\n",
    "    ])\n",
    "\n",
    "cat_pipe = Pipeline([\n",
    "    ('one_hot_encoder', OneHotEncoder(categories=[levels_type_house, levels_code]))  #code_levels\n",
    "                                      #handle_unknown='ignore'\n",
    "    ])\n",
    "\n",
    "\n",
    "preprocessor = ColumnTransformer([\n",
    "    ('num', num_pipe, num_features),\n",
    "    ('cat', cat_pipe, cat_features),\n",
    "    ]) #, remainder='passthrough'\n",
    "\n",
    "\n",
    "adaboost_pipe_est = Pipeline(steps=[\n",
    "    ('preprocessor', preprocessor),\n",
    "    ('imputer', SimpleImputer(strategy='constant', \n",
    "                              fill_value=None)),\n",
    "    ('regressor', AdaBoostRegressor(base_estimator=DecisionTreeRegressor(), \n",
    "                              #      *, \n",
    "                                    n_estimators=50, \n",
    "                                    learning_rate=1.0, \n",
    "                                    loss='linear', \n",
    "                                    random_state=42))\n",
    "                           ])"
   ]
  },
  {
   "cell_type": "code",
   "execution_count": 134,
   "id": "e453d7d8-3a8e-4f47-9bc8-2b9ec9cd6a93",
   "metadata": {},
   "outputs": [
    {
     "name": "stdout",
     "output_type": "stream",
     "text": [
      "{'regressor__n_estimators': 3}\n",
      "0.6504976212690231\n"
     ]
    }
   ],
   "source": [
    "param_grid = [\n",
    "    {\n",
    "#        'preprocessor__num__poly__degree': [1, 3],\n",
    "        'regressor__n_estimators': [2,3,4,5,6,7,8,9,10,50], \n",
    " #       'regressor__max_depth': range(2, 15),#[10],\n",
    "  #      'regressor__min_samples_split':range(30, 50), #[43],\n",
    "   #     'regressor__min_samples_leaf': range(5, 20),#[16],\n",
    "    #    'regressor__max_leaf_nodes': range(40, 80),#[68],\n",
    "     #   'regressor__n_jobs': [-1],\n",
    "    },\n",
    "    #{'regressor__n_estimators': range(41,70)}, #[3,10,30,40,50,60]\n",
    "]\n",
    "\n",
    "\n",
    "grid_search = GridSearchCV(estimator=adaboost_pipe_est, \n",
    "                           param_grid=param_grid,\n",
    "                           cv=5, \n",
    "                           n_jobs=-1,\n",
    "                        #   scoring='neg_mean_squared_error',\n",
    "                        #   return_train_score=True\n",
    "                          )\n",
    "\n",
    "grid_search.fit(X_train, y_train)\n",
    "\n",
    "print(grid_search.best_params_)\n",
    "print(grid_search.best_score_)"
   ]
  },
  {
   "cell_type": "code",
   "execution_count": 135,
   "id": "3697e3d4-43bb-45b6-82db-b876c34a2cdb",
   "metadata": {},
   "outputs": [
    {
     "name": "stdout",
     "output_type": "stream",
     "text": [
      "r2 mean: 0.6422642094394672\n",
      "r2 std: 0.045081241398125756 \n",
      "\n",
      "MAE mean: -122834.34681543028\n",
      "MAE std: 4608.233441167535 \n",
      "\n",
      "MAPE mean: -0.4030357828910572\n",
      "MAPE std: 0.022817423528780835 \n",
      "\n",
      "RMSE mean: -180430.7810183822\n",
      "RMSE std: 8430.422906990498 \n",
      "\n"
     ]
    }
   ],
   "source": [
    "adaboost_pipe_est = Pipeline(steps=[\n",
    "    ('preprocessor', preprocessor),\n",
    "    ('imputer', SimpleImputer(strategy='constant', \n",
    "                              fill_value=None)),\n",
    "    ('regressor', AdaBoostRegressor(base_estimator=None, \n",
    "                              #      *, \n",
    "                                    n_estimators=3, \n",
    "                                    learning_rate=1.0, \n",
    "                                    loss='linear', \n",
    "                                    random_state=42))\n",
    "                           ])\n",
    "\n",
    "scores = scores_statistics(estimator=adaboost_pipe_est, \n",
    "                           scoring_dict=scoring, \n",
    "                           X_train=X_train, \n",
    "                           y_train=y_train, \n",
    "                           cv=10, \n",
    "                           return_train_score=False)"
   ]
  },
  {
   "cell_type": "code",
   "execution_count": 136,
   "id": "642eef15-34e0-411a-abf9-2cbf6e089092",
   "metadata": {},
   "outputs": [
    {
     "name": "stdout",
     "output_type": "stream",
     "text": [
      "Performance on the training set:\n",
      " ----------\n",
      "R²: 0.6825632436915089\n",
      "MAE: 116749.91257832848\n",
      "MAPE: 0.38086430496936213\n",
      "RMSE: 171416.84878404267\n",
      "\n",
      "Performance on the test set:\n",
      " ----------\n",
      "R²: 0.6400955083561792\n",
      "MAE: 122317.9107731734\n",
      "MAPE: 0.37215236374014693\n",
      "RMSE: 184913.92579798016\n",
      "\n"
     ]
    }
   ],
   "source": [
    "adaboost = adaboost_pipe_est.fit(X_train, y_train)\n",
    "\n",
    "print('Performance on the training set:\\n', '-'*10)\n",
    "y_pred_train = adaboost.predict(X_train)\n",
    "metrics_regression(y_test=y_train, \n",
    "                   y_pred=y_pred_train, \n",
    "                   squared=False)\n",
    "\n",
    "print('Performance on the test set:\\n', '-'*10)\n",
    "y_pred = adaboost.predict(X_test)\n",
    "metrics_regression(y_test=y_test, \n",
    "                   y_pred=y_pred, \n",
    "                   squared=False)"
   ]
  },
  {
   "cell_type": "code",
   "execution_count": 139,
   "id": "477cf01d-900a-4a43-b6b7-62433c4d59e7",
   "metadata": {},
   "outputs": [],
   "source": [
    "from sklearn.ensemble import GradientBoostingRegressor"
   ]
  },
  {
   "cell_type": "code",
   "execution_count": null,
   "id": "1a7ef6e1-cc7e-4abb-93fe-5c5240f11a06",
   "metadata": {},
   "outputs": [],
   "source": []
  },
  {
   "cell_type": "code",
   "execution_count": 125,
   "id": "b974c81b-2427-4624-ba7e-65b8187c04a2",
   "metadata": {
    "tags": []
   },
   "outputs": [],
   "source": [
    "num_pipe = Pipeline([\n",
    "    ('std_scaler', StandardScaler()),\n",
    "    ('poly', PolynomialFeatures(degree=1, include_bias=False)),\n",
    "    ])\n",
    "\n",
    "cat_pipe = Pipeline([\n",
    "    ('one_hot_encoder', OneHotEncoder(categories=[levels_type_house, levels_code]))  #code_levels\n",
    "                                      #handle_unknown='ignore'\n",
    "    ])\n",
    "\n",
    "\n",
    "preprocessor = ColumnTransformer([\n",
    "    ('num', num_pipe, num_features),\n",
    "    ('cat', cat_pipe, cat_features),\n",
    "    ]) #, remainder='passthrough'\n",
    "\n",
    "\n",
    "gb_pipe_est = Pipeline(steps=[\n",
    "    ('preprocessor', preprocessor),\n",
    "    ('imputer', SimpleImputer(strategy='constant', \n",
    "                              fill_value=None)),\n",
    "    ('regressor', GradientBoostingRegressor())\n",
    "                           ])"
   ]
  },
  {
   "cell_type": "raw",
   "id": "22b03cf2-badc-4438-aaf8-d3599aba4569",
   "metadata": {},
   "source": [
    "param_grid = [\n",
    "    {\n",
    "#        'preprocessor__num__poly__degree': [1, 3],\n",
    "        'regressor__n_estimators': [2,3,4,5,6,7,8,9,10,50], \n",
    " #       'regressor__max_depth': range(2, 15),#[10],\n",
    "  #      'regressor__min_samples_split':range(30, 50), #[43],\n",
    "   #     'regressor__min_samples_leaf': range(5, 20),#[16],\n",
    "    #    'regressor__max_leaf_nodes': range(40, 80),#[68],\n",
    "     #   'regressor__n_jobs': [-1],\n",
    "    },\n",
    "    #{'regressor__n_estimators': range(41,70)}, #[3,10,30,40,50,60]\n",
    "]\n",
    "\n",
    "\n",
    "grid_search = GridSearchCV(estimator=adaboost_pipe_est, \n",
    "                           param_grid=param_grid,\n",
    "                           cv=5, \n",
    "                           n_jobs=-1,\n",
    "                        #   scoring='neg_mean_squared_error',\n",
    "                        #   return_train_score=True\n",
    "                          )\n",
    "\n",
    "grid_search.fit(X_train, y_train)\n",
    "\n",
    "print(grid_search.best_params_)\n",
    "print(grid_search.best_score_)"
   ]
  },
  {
   "cell_type": "code",
   "execution_count": 135,
   "id": "7db0cf96-7e52-4539-a533-d1c654ce4565",
   "metadata": {},
   "outputs": [
    {
     "name": "stdout",
     "output_type": "stream",
     "text": [
      "r2 mean: 0.6422642094394672\n",
      "r2 std: 0.045081241398125756 \n",
      "\n",
      "MAE mean: -122834.34681543028\n",
      "MAE std: 4608.233441167535 \n",
      "\n",
      "MAPE mean: -0.4030357828910572\n",
      "MAPE std: 0.022817423528780835 \n",
      "\n",
      "RMSE mean: -180430.7810183822\n",
      "RMSE std: 8430.422906990498 \n",
      "\n"
     ]
    }
   ],
   "source": [
    "gb_pipe_est = Pipeline(steps=[\n",
    "    ('preprocessor', preprocessor),\n",
    "    ('imputer', SimpleImputer(strategy='constant', \n",
    "                              fill_value=None)),\n",
    "    ('regressor', AdaBoostRegressor(base_estimator=None, \n",
    "                              #      *, \n",
    "                                    n_estimators=3, \n",
    "                                    learning_rate=1.0, \n",
    "                                    loss='linear', \n",
    "                                    random_state=42))\n",
    "                           ])\n",
    "\n",
    "scores = scores_statistics(estimator=gb_pipe_est, \n",
    "                           scoring_dict=scoring, \n",
    "                           X_train=X_train, \n",
    "                           y_train=y_train, \n",
    "                           cv=10, \n",
    "                           return_train_score=False)"
   ]
  },
  {
   "cell_type": "code",
   "execution_count": 136,
   "id": "e5b029b0-5d04-42e0-bdc0-bc1e9ee3762a",
   "metadata": {},
   "outputs": [
    {
     "name": "stdout",
     "output_type": "stream",
     "text": [
      "Performance on the training set:\n",
      " ----------\n",
      "R²: 0.6825632436915089\n",
      "MAE: 116749.91257832848\n",
      "MAPE: 0.38086430496936213\n",
      "RMSE: 171416.84878404267\n",
      "\n",
      "Performance on the test set:\n",
      " ----------\n",
      "R²: 0.6400955083561792\n",
      "MAE: 122317.9107731734\n",
      "MAPE: 0.37215236374014693\n",
      "RMSE: 184913.92579798016\n",
      "\n"
     ]
    }
   ],
   "source": [
    "gboost = gb_pipe_est.fit(X_train, y_train)\n",
    "\n",
    "print('Performance on the training set:\\n', '-'*10)\n",
    "y_pred_train = gboost.predict(X_train)\n",
    "metrics_regression(y_test=y_train, \n",
    "                   y_pred=y_pred_train, \n",
    "                   squared=False)\n",
    "\n",
    "print('Performance on the test set:\\n', '-'*10)\n",
    "y_pred = gboost.predict(X_test)\n",
    "metrics_regression(y_test=y_test, \n",
    "                   y_pred=y_pred, \n",
    "                   squared=False)"
   ]
  },
  {
   "cell_type": "code",
   "execution_count": null,
   "id": "396c2f25-0a7a-4adc-959c-e0d509166de2",
   "metadata": {},
   "outputs": [],
   "source": []
  },
  {
   "cell_type": "markdown",
   "id": "62597b80-776d-494a-bbbc-be3c17bc8f42",
   "metadata": {},
   "source": [
    "## Extreme Gradient Boosting"
   ]
  },
  {
   "cell_type": "code",
   "execution_count": 20,
   "id": "3d78883c-9941-4ce2-8306-6b0a4e5230b8",
   "metadata": {},
   "outputs": [],
   "source": [
    "from xgboost import XGBRegressor"
   ]
  },
  {
   "cell_type": "code",
   "execution_count": 21,
   "id": "45b6fb4d-3bee-477a-8ea8-7f335c9c30f2",
   "metadata": {
    "tags": []
   },
   "outputs": [],
   "source": [
    "num_pipe = Pipeline([\n",
    "    ('std_scaler', StandardScaler()),\n",
    "    ('poly', PolynomialFeatures(degree=1, include_bias=False)),\n",
    "    ])\n",
    "\n",
    "cat_pipe = Pipeline([\n",
    "    ('one_hot_encoder', OneHotEncoder(categories=[levels_type_house, levels_code]))  #code_levels\n",
    "                                      #handle_unknown='ignore'\n",
    "    ])\n",
    "\n",
    "\n",
    "preprocessor = ColumnTransformer([\n",
    "    ('num', num_pipe, num_features),\n",
    "    ('cat', cat_pipe, cat_features),\n",
    "    ]) #, remainder='passthrough'\n",
    "\n",
    "\n",
    "\n",
    "\n",
    "xgb_pipe_est = Pipeline(steps=[\n",
    "    ('preprocessor', preprocessor),\n",
    "    ('imputer', SimpleImputer(strategy='constant', \n",
    "                              fill_value=None)),\n",
    "    ('regressor', XGBRegressor())\n",
    "                           ])"
   ]
  },
  {
   "cell_type": "raw",
   "id": "fb5e10d0-2aae-41a7-88cf-93fdf8572d6e",
   "metadata": {},
   "source": [
    "import xgboost as xgb\n",
    "\n",
    "xgb_clf = xgb.XGBClassifier()\n",
    "args = {'max_depth': 10, 'learning_rate': 0.343, 'booster': 'gbtree',\n",
    "        'n_jobs': 0, 'scale_pos_weight': 0.1, 'n_estimators': 100}\n",
    "xgb_clf.set_params(**args)"
   ]
  },
  {
   "cell_type": "code",
   "execution_count": 27,
   "id": "bfc10fc4-ebba-45ee-947e-45a8c3a1ff03",
   "metadata": {
    "tags": []
   },
   "outputs": [
    {
     "name": "stdout",
     "output_type": "stream",
     "text": [
      "{'regressor__n_estimators': 105}\n",
      "0.806309737415259\n"
     ]
    }
   ],
   "source": [
    "grid_search = GridSearchCV(estimator=xgb_pipe_est, \n",
    "                           param_grid={'regressor__n_estimators': [75,80,85,90,95,100,105,110,115,120,125]},\n",
    "                           cv=5, \n",
    "                           n_jobs=-1,\n",
    "                        #   scoring='neg_mean_squared_error',\n",
    "                        #   return_train_score=True\n",
    "                          )\n",
    "\n",
    "grid_search.fit(X_train, y_train)\n",
    "\n",
    "print(grid_search.best_params_)\n",
    "print(grid_search.best_score_)"
   ]
  },
  {
   "cell_type": "code",
   "execution_count": 28,
   "id": "905073ce-2014-4213-9230-800b52c0b65c",
   "metadata": {},
   "outputs": [
    {
     "name": "stdout",
     "output_type": "stream",
     "text": [
      "r2 mean: 0.8103256306854135\n",
      "r2 std: 0.031107022249743918 \n",
      "\n",
      "MAE mean: -76439.83677913898\n",
      "MAE std: 3411.9054419745694 \n",
      "\n",
      "MAPE mean: -0.21207778513758738\n",
      "MAPE std: 0.007134753254566564 \n",
      "\n",
      "RMSE mean: -131197.21047948365\n",
      "RMSE std: 11002.37791559043 \n",
      "\n"
     ]
    }
   ],
   "source": [
    "xgb_pipe_est = Pipeline(steps=[\n",
    "    ('preprocessor', preprocessor),\n",
    "    ('imputer', SimpleImputer(strategy='constant', \n",
    "                              fill_value=None)),\n",
    "    ('regressor', xgboost.XGBRegressor(n_estimators= 105))\n",
    "                           ])\n",
    "\n",
    "scores = scores_statistics(estimator=xgb_pipe_est, \n",
    "                           scoring_dict=scoring, \n",
    "                           X_train=X_train, \n",
    "                           y_train=y_train, \n",
    "                           cv=10, \n",
    "                           return_train_score=False)"
   ]
  },
  {
   "cell_type": "code",
   "execution_count": 29,
   "id": "b908134e-b62e-4a96-883e-cc74262c418b",
   "metadata": {},
   "outputs": [
    {
     "name": "stdout",
     "output_type": "stream",
     "text": [
      "Performance on the training set:\n",
      " ----------\n",
      "R²: 0.9620408504154799\n",
      "MAE: 40626.77943735192\n",
      "MAPE: 0.13112311227814163\n",
      "RMSE: 59276.57986186307\n",
      "\n",
      "Performance on the test set:\n",
      " ----------\n",
      "R²: 0.7992571055286443\n",
      "MAE: 78311.53892506765\n",
      "MAPE: 0.203086652634719\n",
      "RMSE: 138100.76251426517\n",
      "\n"
     ]
    }
   ],
   "source": [
    "xgb = xgb_pipe_est.fit(X_train, y_train)\n",
    "\n",
    "print('Performance on the training set:\\n', '-'*10)\n",
    "y_pred_train = xgb.predict(X_train)\n",
    "metrics_regression(y_test=y_train, \n",
    "                   y_pred=y_pred_train, \n",
    "                   squared=False)\n",
    "\n",
    "print('Performance on the test set:\\n', '-'*10)\n",
    "y_pred = xgb.predict(X_test)\n",
    "metrics_regression(y_test=y_test, \n",
    "                   y_pred=y_pred, \n",
    "                   squared=False)"
   ]
  },
  {
   "cell_type": "code",
   "execution_count": null,
   "id": "94795d4d-f379-4fce-b719-f9e8057bdb85",
   "metadata": {},
   "outputs": [],
   "source": []
  }
 ],
 "metadata": {
  "kernelspec": {
   "display_name": "Python 3 (ipykernel)",
   "language": "python",
   "name": "python3"
  },
  "language_info": {
   "codemirror_mode": {
    "name": "ipython",
    "version": 3
   },
   "file_extension": ".py",
   "mimetype": "text/x-python",
   "name": "python",
   "nbconvert_exporter": "python",
   "pygments_lexer": "ipython3",
   "version": "3.7.11"
  },
  "toc-autonumbering": true
 },
 "nbformat": 4,
 "nbformat_minor": 5
}
