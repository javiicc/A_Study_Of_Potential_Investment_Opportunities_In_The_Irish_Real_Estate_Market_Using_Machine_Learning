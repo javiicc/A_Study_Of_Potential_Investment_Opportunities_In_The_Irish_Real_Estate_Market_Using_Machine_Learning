{
 "cells": [
  {
   "cell_type": "markdown",
   "id": "c0c6583f-8405-4a55-894f-414e650c72e6",
   "metadata": {},
   "source": [
    "# Load Data"
   ]
  },
  {
   "cell_type": "code",
   "execution_count": null,
   "id": "6b1007dc-b3a7-4b52-b3cb-e7260cdf8baf",
   "metadata": {},
   "outputs": [],
   "source": [
    "import numpy as np\n",
    "import pandas as pd\n",
    "import matplotlib.pyplot as plt\n",
    "\n",
    "\n",
    "from sklearn.model_selection import train_test_split\n",
    "from sklearn.linear_model import LinearRegression\n",
    "\n",
    "import joblib"
   ]
  },
  {
   "cell_type": "code",
   "execution_count": null,
   "id": "458cf704-359d-4cef-9b6b-d7071c3be864",
   "metadata": {},
   "outputs": [],
   "source": [
    "pd.set_option('display.max_rows', None)\n",
    "pd.set_option('display.max_columns', None)\n",
    "plt.style.use('seaborn')"
   ]
  },
  {
   "cell_type": "code",
   "execution_count": null,
   "id": "6b90327e-f46b-49ca-86a0-93a8fd8fdbb7",
   "metadata": {},
   "outputs": [],
   "source": [
    "sale_data = pd.read_csv('data_available/sale_data_post_out.csv', sep=',')\n",
    "sale_data.shape  #### cambiar esto"
   ]
  },
  {
   "cell_type": "code",
   "execution_count": null,
   "id": "56c73224-f9ee-4646-98c1-e13782c520c4",
   "metadata": {},
   "outputs": [],
   "source": [
    "sale_data.info()"
   ]
  },
  {
   "cell_type": "code",
   "execution_count": null,
   "id": "6326fc04-861a-480d-859f-37bc9e35971e",
   "metadata": {},
   "outputs": [],
   "source": [
    "features = [#'price',\n",
    "            'floor_area',\n",
    "            'views',\n",
    "            'latitude',\n",
    "            'longitude',\n",
    "      #      'bedroom',\n",
    "            'bathroom',\n",
    "            #'sale_type',\n",
    "            'type_house',\n",
    "#            'postcode',\n",
    " #           'state_district',\n",
    "  #          'county',\n",
    "  #          'city_district',\n",
    "   #         'road',\n",
    "      #      'place',\n",
    "            'code',\n",
    "  #          'admin1',\n",
    "  #          'cities'\n",
    "]\n",
    "\n",
    "#sale_data = sale_data.dropna().copy()\n",
    "data = sale_data[features].copy()\n",
    "data.shape"
   ]
  },
  {
   "cell_type": "code",
   "execution_count": null,
   "id": "8269dc88-1472-42e7-bc5f-2c2aa3ff84f5",
   "metadata": {},
   "outputs": [],
   "source": [
    "data.isna().sum()"
   ]
  },
  {
   "cell_type": "code",
   "execution_count": null,
   "id": "d6bc3260-f126-493e-8871-c58ab7039f5d",
   "metadata": {},
   "outputs": [],
   "source": [
    "num_features = data.select_dtypes('number').columns\n",
    "cat_features =  data.select_dtypes('object').columns"
   ]
  },
  {
   "cell_type": "markdown",
   "id": "2ce89f6c-e3f9-45db-b2f6-456ab14f9678",
   "metadata": {},
   "source": [
    "-----------"
   ]
  },
  {
   "cell_type": "markdown",
   "id": "0bb15326-8376-468d-8752-791c56461487",
   "metadata": {},
   "source": [
    "# Split Data"
   ]
  },
  {
   "cell_type": "code",
   "execution_count": null,
   "id": "5e72731b-24e0-4021-886b-739ffd451aff",
   "metadata": {},
   "outputs": [],
   "source": [
    "y = sale_data['price'].copy()\n",
    "y.shape"
   ]
  },
  {
   "cell_type": "code",
   "execution_count": null,
   "id": "edd4e5fe-bc66-46e8-b79a-3f8c9462a793",
   "metadata": {},
   "outputs": [],
   "source": [
    "print(data.shape)\n",
    "#X = data.copy()\n",
    "X = pd.get_dummies(data).copy() #[num_features]\n",
    "print(X.shape)"
   ]
  },
  {
   "cell_type": "code",
   "execution_count": null,
   "id": "b22384e3-26b2-4aa0-b3e8-b674a4eba24a",
   "metadata": {},
   "outputs": [],
   "source": [
    "X_train, X_test, y_train, y_test = train_test_split(X, y, test_size=.15)\n",
    "X_train.shape, X_test.shape, y_train.shape, y_test.shape"
   ]
  },
  {
   "cell_type": "code",
   "execution_count": null,
   "id": "81b9b583-5803-4486-a2a7-c57c7fe4bd10",
   "metadata": {},
   "outputs": [],
   "source": []
  },
  {
   "cell_type": "raw",
   "id": "3c99d8dc-3504-47da-a12b-520cfb6ea70c",
   "metadata": {},
   "source": [
    "lr = LinearRegression().fit(X_train, y_train)\n",
    "lr.intercept_, lr.coef_"
   ]
  },
  {
   "cell_type": "raw",
   "id": "9361e20c-2b3f-4498-91cc-563ba6526dc9",
   "metadata": {},
   "source": [
    "y_pred = lr.predict(X_test)"
   ]
  },
  {
   "cell_type": "raw",
   "id": "8741e17b-13ac-4742-9b3f-759072d27fa8",
   "metadata": {
    "tags": []
   },
   "source": [
    "len(lr.predict(X_test))"
   ]
  },
  {
   "cell_type": "markdown",
   "id": "3fea1855-2df2-467d-8550-69b064af1434",
   "metadata": {},
   "source": [
    "# Train and Metrics"
   ]
  },
  {
   "cell_type": "markdown",
   "id": "0ce9317b-c9da-446d-a085-2b16dbc6bc8e",
   "metadata": {},
   "source": [
    "En estadística, el **coeficiente de determinación**, denominado R² y pronunciado R cuadrado, es un estadístico usado en el contexto de un modelo estadístico cuyo principal propósito es predecir futuros resultados o probar una hipótesis. El coeficiente determina la calidad del modelo para replicar los resultados, y la proporción de variación de los resultados que puede explicarse por el modelo.\n",
    "\n",
    "Es el porcentaje de la variación en la variable de respuesta que es explicado por un modelo lineal. Es decir:\n",
    "\n",
    "R-cuadrado = Variación explicada / variación total\n",
    "\n",
    "El R-cuadrado siempre está entre 0 y 100%:"
   ]
  },
  {
   "cell_type": "code",
   "execution_count": null,
   "id": "f99c2e88-4118-4443-a137-bf0a0e878eb3",
   "metadata": {
    "tags": []
   },
   "outputs": [],
   "source": [
    "from sklearn import metrics\n",
    "#metrics.SCORERS"
   ]
  },
  {
   "cell_type": "code",
   "execution_count": null,
   "id": "bce0151b-04c6-4567-9b0f-f4d54f9e229e",
   "metadata": {},
   "outputs": [],
   "source": [
    "def metrics_regression(y_test, y_pred, squared=False):\n",
    "    \n",
    "    r2_score = metrics.r2_score(y_test, y_pred)\n",
    "    mae = metrics.mean_absolute_error(y_test, y_pred)\n",
    "    mape = metrics.mean_absolute_percentage_error(y_test, y_pred)\n",
    "    mse = metrics.mean_squared_error(y_test, y_pred)\n",
    "    rmse = metrics.mean_squared_error(y_test, y_pred, squared=squared)\n",
    "    \n",
    "    print(f'R²: {r2_score}')\n",
    "    print(f'MAE: {mae}')\n",
    "    print(f'MAPE: {mape}')\n",
    "    #print(f'MSE: {mse}')\n",
    "    print(f'RMSE: {rmse}')\n",
    "    "
   ]
  },
  {
   "cell_type": "raw",
   "id": "bb519562-d075-41ba-ab15-afda7b1a901a",
   "metadata": {},
   "source": [
    "metrics_regression(y_test=y_test, y_pred=y_pred, squared=False)"
   ]
  },
  {
   "cell_type": "markdown",
   "id": "6028ab71-9371-4cdc-b0ae-efbd2537cef1",
   "metadata": {},
   "source": [
    "https://scikit-learn.org/stable/modules/cross_validation.html"
   ]
  },
  {
   "cell_type": "code",
   "execution_count": null,
   "id": "1cbed8b2-8568-4041-9591-484767c1c8ca",
   "metadata": {},
   "outputs": [],
   "source": [
    "from sklearn.model_selection import cross_validate\n",
    "\n",
    "def cross_validate_custom(estimator, scoring_dict, X_train, y_train, cv=10, return_train_score=False):\n",
    "    estimator = estimator\n",
    "    scoring_dict = scoring_dict\n",
    "\n",
    "    scores = cross_validate(estimator, X=X_train, y=y_train, scoring=scoring_dict, cv=cv, \n",
    "                            return_train_score=return_train_score)\n",
    "    print(scores.keys())\n",
    "    return scores"
   ]
  },
  {
   "cell_type": "raw",
   "id": "bc367966-ed7e-4e69-bf8f-3b52ca5cd1e2",
   "metadata": {},
   "source": [
    "scoring = {'r2': 'r2', \n",
    "           'MAE': 'neg_mean_absolute_error', \n",
    "           'MAPE': 'neg_mean_absolute_percentage_error', \n",
    "           'RMSE': 'neg_root_mean_squared_error'}\n",
    "\n",
    "scores = cross_validate_custom(estimator=LinearRegression(), scoring_dict=scoring, \n",
    "                               X_train=X_train, y_train=y_train, cv=5, return_train_score=False)"
   ]
  },
  {
   "cell_type": "code",
   "execution_count": null,
   "id": "639e51c4-5c29-4341-9ac5-b61069c176a2",
   "metadata": {},
   "outputs": [],
   "source": [
    "def scores_statistics(estimator, scoring_dict, X_train, y_train, cv=10, return_train_score=False, time_info=False):\n",
    "    \n",
    "    scores = cross_validate(estimator, \n",
    "                            X=X_train, y=y_train, \n",
    "                            scoring=scoring_dict, \n",
    "                            cv=cv, \n",
    "                            return_train_score=return_train_score)\n",
    "    \n",
    "    if time_info:\n",
    "        fit_time_mean = np.mean(scores['fit_time'])\n",
    "        fit_time_std = np.std(scores['fit_time'])\n",
    "        score_time_mean = np.mean(scores['score_time'])\n",
    "        score_time_std = np.std(scores['score_time'])\n",
    "        #time_list = []    \n",
    "        print('fit_time mean:', fit_time_mean)\n",
    "        print('fit_time std:', fit_time_std)\n",
    "        print('score_time mean:', score_time_mea)\n",
    "        print('score_time std:', score_time_std)\n",
    "    \n",
    "    \n",
    "    for key in scoring_dict:\n",
    "        try:\n",
    "            mean = np.mean(scores['test_' + key])\n",
    "            std = np.std(scores['test_' + key])\n",
    "            print(key, 'mean:', mean)\n",
    "            print(key, 'std:', std, '\\n')\n",
    "        except:\n",
    "            continue\n",
    "    return scores"
   ]
  },
  {
   "cell_type": "raw",
   "id": "d803701c-2e9c-4463-a439-ac69a854404e",
   "metadata": {
    "tags": []
   },
   "source": [
    "scoring = {'r2': 'r2', \n",
    "           'MAE': 'neg_mean_absolute_error', \n",
    "           'MAPE': 'neg_mean_absolute_percentage_error', \n",
    "           'RMSE': 'neg_root_mean_squared_error'}\n",
    "\n",
    "scores_statistics(estimator=LinearRegression(), scoring_dict=scoring, \n",
    "                               X_train=X_train, y_train=y_train, cv=5, return_train_score=False)"
   ]
  },
  {
   "cell_type": "code",
   "execution_count": null,
   "id": "62b0ae3a-5839-4a3d-95c7-5e94ddc48105",
   "metadata": {},
   "outputs": [],
   "source": []
  },
  {
   "cell_type": "markdown",
   "id": "02906502-6f02-47f8-a4f0-79e0f3fb33b3",
   "metadata": {},
   "source": [
    "-------------"
   ]
  },
  {
   "cell_type": "raw",
   "id": "f7f7bda9-cf01-4608-9ad6-0f1686e311ca",
   "metadata": {},
   "source": [
    "joblib.dump(lr, 'models/linear_regression.plk')\n",
    "# esto es genial <3"
   ]
  },
  {
   "cell_type": "raw",
   "id": "eda8b9b5-177e-4650-866a-921bc82cc794",
   "metadata": {},
   "source": [
    "testing_load = joblib.load('models/linear_regression.plk')"
   ]
  },
  {
   "cell_type": "raw",
   "id": "8e111d60-6f6f-4870-a93d-24e0e3736fd7",
   "metadata": {},
   "source": [
    "testing_load"
   ]
  },
  {
   "cell_type": "raw",
   "id": "e928cb88-d27a-4808-b425-34ed51ed825b",
   "metadata": {},
   "source": [
    "testing_load.intercept_, testing_load.coef_"
   ]
  },
  {
   "cell_type": "markdown",
   "id": "ac6aedae-ec47-49a5-83f5-d3c9b180498b",
   "metadata": {},
   "source": [
    "------------"
   ]
  },
  {
   "cell_type": "code",
   "execution_count": null,
   "id": "d69bc5ef-d31d-490a-a5d8-80aae17e5578",
   "metadata": {},
   "outputs": [],
   "source": [
    "X_train.shape, X_test.shape, y_train.shape, y_test.shape"
   ]
  },
  {
   "cell_type": "code",
   "execution_count": null,
   "id": "c83ebac1-57a3-4039-a412-13c29b0aa6b5",
   "metadata": {},
   "outputs": [],
   "source": []
  },
  {
   "cell_type": "raw",
   "id": "c9efd21f-ef8e-47bd-9168-80fc6601777b",
   "metadata": {},
   "source": [
    "df = sale_data[['price','floor_area','latitude','longitude','bedroom','type_house']].copy()\n",
    "df.shape"
   ]
  },
  {
   "cell_type": "raw",
   "id": "dd3fbac9-8a59-43d4-bd2d-48576b4e0d99",
   "metadata": {},
   "source": [
    "# Choose columns\n",
    "df.columns\n",
    "\n",
    "df_model = df[['price','floor_area','latitude','longitude','bedroom','type_house']]"
   ]
  },
  {
   "cell_type": "code",
   "execution_count": null,
   "id": "40b31ad9-b8ba-46e7-aada-0c577df58c84",
   "metadata": {},
   "outputs": [],
   "source": [
    "print(X_train.shape)\n",
    "#X_train.isna().sum()"
   ]
  },
  {
   "cell_type": "code",
   "execution_count": null,
   "id": "d710c780-3f6f-46cb-a9b3-e74b21b67ce2",
   "metadata": {},
   "outputs": [],
   "source": [
    "# Get dummy data\n",
    "X_train = pd.get_dummies(X_train).copy()\n",
    "print(X_train.shape)\n",
    "# esto me esta dando resultados muy malos, por que? -> ya no\n",
    "#from sklearn.preprocessing import LabelEncoder\n",
    "#\n",
    "#le = LabelEncoder()\n",
    "#\n",
    "#for column in cat_features:\n",
    " #   X_train[column] = le.fit_transform(X_train[column])"
   ]
  },
  {
   "cell_type": "raw",
   "id": "68c98918-b7ba-4a46-b9af-6e53c4e02648",
   "metadata": {},
   "source": [
    "# Train test split\n",
    "\n",
    "from sklearn.model_selection import train_test_split\n",
    "\n",
    "y = df_dum.price.values\n",
    "X = df_dum.drop('price', axis=1)\n",
    "\n",
    "\n",
    "X_train, X_test, y_train, y_test = train_test_split(X, y, test_size=.15, random_state=42)\n",
    "X_train.shape, X_test.shape, y_train.shape, y_test.shape"
   ]
  },
  {
   "cell_type": "raw",
   "id": "42dd917f-6c12-4f9a-80d1-8bbba4a7081e",
   "metadata": {},
   "source": [
    "# Multiple linear regression\n",
    "\n",
    "import statsmodels.api as sm\n",
    "\n",
    "X_sm = X = sm.add_constant(X) # para el intercept\n",
    "\n",
    "model = sm.OLS(y,X_sm)\n",
    "model.fit().summary()"
   ]
  },
  {
   "cell_type": "code",
   "execution_count": null,
   "id": "1d2ef8ac-601b-47e4-95a3-d00a968e2310",
   "metadata": {},
   "outputs": [],
   "source": [
    "#print(X_train.shape)\n",
    "#X_train.isna().sum()"
   ]
  },
  {
   "cell_type": "code",
   "execution_count": null,
   "id": "44524b4a-9a06-458f-b958-c03cdee765fe",
   "metadata": {
    "tags": []
   },
   "outputs": [],
   "source": [
    "from sklearn import metrics\n",
    "\n",
    "scoring = {'r2': 'r2', \n",
    "           'MAE': 'neg_mean_absolute_error', \n",
    "           'MAPE': 'neg_mean_absolute_percentage_error', \n",
    "           'RMSE': 'neg_root_mean_squared_error'}\n",
    "print(X_train.shape)\n",
    "scores_statistics(estimator=LinearRegression(), \n",
    "                  scoring_dict=scoring, \n",
    "                  X_train=X_train, \n",
    "                  y_train=y_train, \n",
    "                  cv=10, \n",
    "                  return_train_score=False)"
   ]
  },
  {
   "cell_type": "code",
   "execution_count": null,
   "id": "05cb24bf-6c2c-417a-b604-a829e59ffb52",
   "metadata": {},
   "outputs": [],
   "source": [
    "from sklearn.linear_model import LinearRegression\n",
    "\n",
    "lr = LinearRegression().fit(X_train, y_train)\n",
    "#lr.intercept_, lr.coef_\n",
    "#lr.score(X_train, y_train)\n",
    "\n",
    "#X_test = pd.get_dummies(X_test).copy()\n",
    "\n",
    "metrics_regression(y_test=y_test, \n",
    "                   y_pred=lr.predict(X_test), \n",
    "                   squared=False)"
   ]
  },
  {
   "cell_type": "code",
   "execution_count": null,
   "id": "67df135d-ff11-4e8e-a15f-c3c1a1dddf16",
   "metadata": {},
   "outputs": [],
   "source": [
    "joblib.dump(lr, 'models/linear_regression_01-11-2021.plk')"
   ]
  },
  {
   "cell_type": "raw",
   "id": "1d8de7cf-5480-4583-863d-ddb82664bc1b",
   "metadata": {},
   "source": [
    "from sklearn.linear_model import Lasso\n",
    "\n",
    "lm_lasso = Lasso().fit(X_train, y_train)\n",
    "lr.intercept_, lr.coef_"
   ]
  },
  {
   "cell_type": "raw",
   "id": "da122c32-c182-4d9e-b7b1-71cb035e52b0",
   "metadata": {},
   "source": [
    "scoring = {'r2': 'r2', \n",
    "           'MAE': 'neg_mean_absolute_error', \n",
    "           'MAPE': 'neg_mean_absolute_percentage_error', \n",
    "           'RMSE': 'neg_root_mean_squared_error'}\n",
    "\n",
    "scores_statistics(estimator=Lasso(), \n",
    "                  scoring_dict=scoring, \n",
    "                  X_train=X_train, \n",
    "                  y_train=y_train, \n",
    "                  cv=5, \n",
    "                  return_train_score=False)"
   ]
  },
  {
   "cell_type": "markdown",
   "id": "aa6501c8-716a-4dbc-b682-4a536c8aa3bf",
   "metadata": {},
   "source": [
    "---------------"
   ]
  },
  {
   "cell_type": "markdown",
   "id": "dd94640e-e436-4e9e-8700-475bbc161121",
   "metadata": {},
   "source": [
    "-------------------"
   ]
  },
  {
   "cell_type": "markdown",
   "id": "654f6fff-86a2-458b-b6dd-9960ed554a0d",
   "metadata": {},
   "source": [
    "# Polynomial Regression"
   ]
  },
  {
   "cell_type": "code",
   "execution_count": 246,
   "id": "a75a0e7f-bac9-4bee-be73-eba89c17ca22",
   "metadata": {
    "tags": []
   },
   "outputs": [],
   "source": [
    "from sklearn.pipeline import Pipeline\n",
    "from sklearn.preprocessing import (StandardScaler, OneHotEncoder, \n",
    "                                   PolynomialFeatures)\n",
    "from sklearn.compose import ColumnTransformer\n",
    "from sklearn import metrics\n",
    "from sklearn.impute import SimpleImputer"
   ]
  },
  {
   "cell_type": "code",
   "execution_count": 247,
   "id": "a7f138ce-2e9c-4732-9fa0-574b2d5dc6bf",
   "metadata": {},
   "outputs": [],
   "source": [
    "def split_train_test(df, test_ratio=.15):\n",
    "    shuffled_indices = np.random.permutation(len(df))\n",
    "    test_set_size = int(len(df) * test_ratio)\n",
    "    test_indices = shuffled_indices[:test_set_size]\n",
    "    train_indices = shuffled_indices[test_set_size:]\n",
    "    return df.iloc[train_indices], df.iloc[test_indices]"
   ]
  },
  {
   "cell_type": "code",
   "execution_count": 248,
   "id": "000c7125-8c51-4d6e-af9d-c0a434aff4df",
   "metadata": {
    "tags": []
   },
   "outputs": [],
   "source": [
    "def split_x_y(train_set, test_set, features, target='price'):\n",
    "    y_train = train_set[target].copy()\n",
    "    X_train = train_set[features].copy()\n",
    "    y_test = test_set[target].copy()\n",
    "    X_test = test_set[features].copy()\n",
    "    print('X_train:', X_train.shape, '\\n' + \n",
    "          'X_test:', X_test.shape, '\\n' + \n",
    "          'y_train:', y_train.shape, '\\n' + \n",
    "          'y_test:', y_test.shape, '\\n')\n",
    "    return X_train, X_test, y_train, y_test"
   ]
  },
  {
   "cell_type": "code",
   "execution_count": 249,
   "id": "0b125caf-f9e3-4f73-b5d0-7aae6fdac42b",
   "metadata": {},
   "outputs": [],
   "source": [
    "def scores_statistics(estimator, scoring_dict, X_train, y_train, cv=10, return_train_score=False, time_info=False):\n",
    "    \n",
    "    scores = cross_validate(estimator, \n",
    "                            X=X_train, y=y_train, \n",
    "                            scoring=scoring_dict, \n",
    "                            cv=cv, \n",
    "                            return_train_score=return_train_score)\n",
    "    \n",
    "    if time_info:\n",
    "        fit_time_mean = np.mean(scores['fit_time'])\n",
    "        fit_time_std = np.std(scores['fit_time'])\n",
    "        score_time_mean = np.mean(scores['score_time'])\n",
    "        score_time_std = np.std(scores['score_time'])\n",
    "        #time_list = []    \n",
    "        print('fit_time mean:', fit_time_mean)\n",
    "        print('fit_time std:', fit_time_std)\n",
    "        print('score_time mean:', score_time_mea)\n",
    "        print('score_time std:', score_time_std)\n",
    "    \n",
    "    \n",
    "    for key in scoring_dict:\n",
    "        try:\n",
    "            mean = np.mean(scores['test_' + key])\n",
    "            std = np.std(scores['test_' + key])\n",
    "            print(key, 'mean:', mean)\n",
    "            print(key, 'std:', std, '\\n')\n",
    "        except:\n",
    "            continue\n",
    "    return scores"
   ]
  },
  {
   "cell_type": "code",
   "execution_count": 250,
   "id": "084c0e15-42e6-4146-a53e-d109b70e75aa",
   "metadata": {},
   "outputs": [],
   "source": [
    "features = ['price',\n",
    "            'floor_area',\n",
    "            'views',\n",
    "            'latitude',\n",
    "            'longitude',\n",
    "      #      'bedroom',\n",
    "            'bathroom',\n",
    "            #'sale_type',\n",
    "            'type_house',\n",
    "#            'postcode',\n",
    " #           'state_district',\n",
    "  #          'county',\n",
    "  #          'city_district',\n",
    "   #         'road',\n",
    "      #      'place',\n",
    "            'code',\n",
    "  #          'admin1',\n",
    "  #          'cities'\n",
    "           ]"
   ]
  },
  {
   "cell_type": "code",
   "execution_count": 251,
   "id": "d710adb8-0757-4d1c-82d9-9b9be40ce478",
   "metadata": {},
   "outputs": [
    {
     "name": "stdout",
     "output_type": "stream",
     "text": [
      "(7387, 34)\n",
      "(7387, 8)\n"
     ]
    }
   ],
   "source": [
    "sale_data = pd.read_csv('data_available/sale_data_post_out.csv', sep=',')\n",
    "print(sale_data.shape)  #### cambiar esto\n",
    "\n",
    "data = sale_data[features].copy()\n",
    "print(data.shape)"
   ]
  },
  {
   "cell_type": "code",
   "execution_count": 252,
   "id": "84f68a34-600b-47eb-8866-f8e6766a0465",
   "metadata": {},
   "outputs": [
    {
     "name": "stdout",
     "output_type": "stream",
     "text": [
      "price            0\n",
      "floor_area       0\n",
      "views            0\n",
      "latitude         0\n",
      "longitude        0\n",
      "bathroom         0\n",
      "type_house       0\n",
      "code          1328\n",
      "dtype: int64\n"
     ]
    }
   ],
   "source": [
    "print(data.isna().sum())"
   ]
  },
  {
   "cell_type": "raw",
   "id": "39beedb6-f24a-4aaf-bc0f-04bad78d9efa",
   "metadata": {},
   "source": [
    "data.dropna(subset=['code'], inplace=True)\n",
    "print(data.shape)\n",
    "data.isna().sum()"
   ]
  },
  {
   "cell_type": "code",
   "execution_count": 253,
   "id": "c388e5d5-b99a-4d76-b650-2f1060a7218b",
   "metadata": {},
   "outputs": [
    {
     "name": "stdout",
     "output_type": "stream",
     "text": [
      "(6279, 8) (1108, 8)\n"
     ]
    }
   ],
   "source": [
    "train_set, test_set = split_train_test(data, .15)\n",
    "print(train_set.shape, test_set.shape)\n",
    "#print(train_set.isna().sum())"
   ]
  },
  {
   "cell_type": "code",
   "execution_count": 254,
   "id": "a2371124-6b2d-42b6-b7c1-ae078c352864",
   "metadata": {},
   "outputs": [
    {
     "data": {
      "text/plain": [
       "['floor_area',\n",
       " 'views',\n",
       " 'latitude',\n",
       " 'longitude',\n",
       " 'bathroom',\n",
       " 'type_house',\n",
       " 'code']"
      ]
     },
     "execution_count": 254,
     "metadata": {},
     "output_type": "execute_result"
    }
   ],
   "source": [
    "features = list(train_set.columns)\n",
    "features.remove('price')\n",
    "features"
   ]
  },
  {
   "cell_type": "code",
   "execution_count": 263,
   "id": "ce1394f7-ffed-4a40-821e-dcef57cc9542",
   "metadata": {},
   "outputs": [
    {
     "name": "stdout",
     "output_type": "stream",
     "text": [
      "X_train: (6279, 7) \n",
      "X_test: (1108, 7) \n",
      "y_train: (6279,) \n",
      "y_test: (1108,) \n",
      "\n"
     ]
    }
   ],
   "source": [
    "X_train, X_test, y_train, y_test = split_x_y(train_set=train_set, \n",
    "                                             test_set=test_set, \n",
    "                                             features=features, \n",
    "                                             target='price')\n",
    "\n",
    "#print(X_train.isna().sum())"
   ]
  },
  {
   "cell_type": "code",
   "execution_count": 287,
   "id": "f6651002-e8f2-4da9-803e-6581658ca8f7",
   "metadata": {},
   "outputs": [],
   "source": [
    "num_pipe = Pipeline([\n",
    "    ('std_scaler', StandardScaler()),\n",
    "    ('poly', PolynomialFeatures(degree=3, include_bias=False)),\n",
    "    ])\n",
    "\n",
    "#cat_features = train_set.select_dtypes('object').columns\n",
    "type_house_levels = train_set.type_house.unique()\n",
    "code_levels = train_set.code.unique()\n",
    "\n",
    "cat_pipe = Pipeline([\n",
    "    ('one_hot_encoder', OneHotEncoder(categories=[type_house_levels, code_levels]))  #code_levels\n",
    "                                      #handle_unknown='ignore'\n",
    "    ])\n",
    "\n",
    "#num_features = data.select_dtypes('number').columns\n",
    "#cat_features =  data.select_dtypes('object').columns\n",
    "num_features = ['floor_area', \n",
    "                'views', \n",
    "                'latitude', \n",
    "                'longitude', \n",
    "                'bathroom']\n",
    "cat_features = ['type_house',\n",
    "                'code']\n",
    "\n",
    "preprocessor = ColumnTransformer([\n",
    "    ('num', num_pipe, num_features),\n",
    "    ('cat', cat_pipe, cat_features),\n",
    "    ]) #, remainder='passthrough'\n",
    "#preprocessor\n",
    "\n",
    "\n",
    "estimator = Pipeline(steps=[\n",
    "    ('preprocessor', preprocessor),\n",
    "    ('imputer', SimpleImputer(strategy='constant', \n",
    "                              fill_value=None)),\n",
    "    ('regressor', LinearRegression())\n",
    "                           ])\n",
    "#estimator"
   ]
  },
  {
   "cell_type": "code",
   "execution_count": 264,
   "id": "021b8bca-16fe-41a6-8cb8-8a1e6afd93c9",
   "metadata": {
    "tags": []
   },
   "outputs": [
    {
     "name": "stdout",
     "output_type": "stream",
     "text": [
      "(6279, 7)\n",
      "r2 mean: 0.7409140436903824\n",
      "r2 std: 0.04372488177613465 \n",
      "\n",
      "MAE mean: -95497.44682321073\n",
      "MAE std: 3504.089447897079 \n",
      "\n",
      "MAPE mean: -0.2746810244943\n",
      "MAPE std: 0.013699581137712797 \n",
      "\n",
      "RMSE mean: -153433.27998466874\n",
      "RMSE std: 9163.199683532202 \n",
      "\n"
     ]
    }
   ],
   "source": [
    "scoring = {'r2': 'r2', \n",
    "           'MAE': 'neg_mean_absolute_error', \n",
    "           'MAPE': 'neg_mean_absolute_percentage_error', \n",
    "           'RMSE': 'neg_root_mean_squared_error'}\n",
    "print(X_train.shape)\n",
    "\n",
    "scores = scores_statistics(estimator=estimator, \n",
    "                           scoring_dict=scoring, \n",
    "                           X_train=X_train, \n",
    "                           y_train=y_train, \n",
    "                           cv=10, \n",
    "                           return_train_score=False)"
   ]
  },
  {
   "cell_type": "code",
   "execution_count": null,
   "id": "941da852-5a50-4700-a2b8-44f4a0f9d275",
   "metadata": {},
   "outputs": [],
   "source": []
  },
  {
   "cell_type": "code",
   "execution_count": 282,
   "id": "cf093502-166f-4801-8299-1b0ed0e80d89",
   "metadata": {},
   "outputs": [
    {
     "data": {
      "text/plain": [
       "GridSearchCV(cv=5,\n",
       "             estimator=Pipeline(steps=[('preprocessor',\n",
       "                                        ColumnTransformer(transformers=[('num',\n",
       "                                                                         Pipeline(steps=[('std_scaler',\n",
       "                                                                                          StandardScaler()),\n",
       "                                                                                         ('poly',\n",
       "                                                                                          PolynomialFeatures(degree=3,\n",
       "                                                                                                             include_bias=False))]),\n",
       "                                                                         ['floor_area',\n",
       "                                                                          'views',\n",
       "                                                                          'latitude',\n",
       "                                                                          'longitude',\n",
       "                                                                          'bathroom']),\n",
       "                                                                        ('cat',\n",
       "                                                                         Pipeline(steps=[('one_hot_encoder',\n",
       "                                                                                          OneHotEncoder(categories=[array(['house', 'ap...\n",
       "       'D17', 'P14', 'N41', 'P72', 'A86', 'H65', 'A81', 'H53', 'F93',\n",
       "       'H18', 'K34', 'R42', 'V15', 'A42', 'T56', 'R14', 'P43', 'A75',\n",
       "       'K45', 'F42', 'P47', 'R21', 'W34', 'F52', 'E53', 'A41', 'X42',\n",
       "       'H23', 'H16'], dtype=object)]))]),\n",
       "                                                                         ['type_house',\n",
       "                                                                          'code'])])),\n",
       "                                       ('imputer',\n",
       "                                        SimpleImputer(strategy='constant')),\n",
       "                                       ('regressor', LinearRegression())]),\n",
       "             n_jobs=-1,\n",
       "             param_grid={'preprocessor__num__poly__degree': [1, 2, 3, 4, 5]})"
      ]
     },
     "execution_count": 282,
     "metadata": {},
     "output_type": "execute_result"
    }
   ],
   "source": [
    "#%%time\n",
    "\n",
    "from sklearn.model_selection import GridSearchCV, ParameterGrid\n",
    "\n",
    "#param_grid = [\n",
    "#    {'degree'=[1,2,3,4,5,6,7,8,9,0]},\n",
    "#]\n",
    "\n",
    "\n",
    "grid_search = GridSearchCV(estimator=estimator, \n",
    "                           param_grid={'preprocessor__num__poly__degree': [1,2,3,4,5]}, \n",
    "                           cv=5, \n",
    "                           n_jobs=-1,\n",
    "                        #   scoring='neg_mean_squared_error',\n",
    "                        #   return_train_score=True\n",
    "                          )\n",
    "\n",
    "grid_search.fit(X_train, y_train)"
   ]
  },
  {
   "cell_type": "code",
   "execution_count": 283,
   "id": "8baf4a1e-5113-48c9-bb30-acf027614ef3",
   "metadata": {},
   "outputs": [
    {
     "data": {
      "text/plain": [
       "{'preprocessor__num__poly__degree': 3}"
      ]
     },
     "execution_count": 283,
     "metadata": {},
     "output_type": "execute_result"
    }
   ],
   "source": [
    "grid_search.best_params_"
   ]
  },
  {
   "cell_type": "code",
   "execution_count": 284,
   "id": "44f35b71-ef66-4607-8bbd-a0fe10edecaf",
   "metadata": {},
   "outputs": [
    {
     "data": {
      "text/plain": [
       "0.7442833804212804"
      ]
     },
     "execution_count": 284,
     "metadata": {},
     "output_type": "execute_result"
    }
   ],
   "source": [
    "grid_search.best_score_"
   ]
  },
  {
   "cell_type": "code",
   "execution_count": 285,
   "id": "1c860e1d-3afa-42f3-b22b-cdb400ba71b9",
   "metadata": {},
   "outputs": [],
   "source": [
    "#grid_search.best_estimator_"
   ]
  },
  {
   "cell_type": "code",
   "execution_count": 286,
   "id": "37a8e53c-ae97-4d7b-be61-5082c226e76c",
   "metadata": {},
   "outputs": [
    {
     "data": {
      "text/html": [
       "<div>\n",
       "<style scoped>\n",
       "    .dataframe tbody tr th:only-of-type {\n",
       "        vertical-align: middle;\n",
       "    }\n",
       "\n",
       "    .dataframe tbody tr th {\n",
       "        vertical-align: top;\n",
       "    }\n",
       "\n",
       "    .dataframe thead th {\n",
       "        text-align: right;\n",
       "    }\n",
       "</style>\n",
       "<table border=\"1\" class=\"dataframe\">\n",
       "  <thead>\n",
       "    <tr style=\"text-align: right;\">\n",
       "      <th></th>\n",
       "      <th>mean_fit_time</th>\n",
       "      <th>std_fit_time</th>\n",
       "      <th>mean_score_time</th>\n",
       "      <th>std_score_time</th>\n",
       "      <th>param_preprocessor__num__poly__degree</th>\n",
       "      <th>params</th>\n",
       "      <th>split0_test_score</th>\n",
       "      <th>split1_test_score</th>\n",
       "      <th>split2_test_score</th>\n",
       "      <th>split3_test_score</th>\n",
       "      <th>split4_test_score</th>\n",
       "      <th>mean_test_score</th>\n",
       "      <th>std_test_score</th>\n",
       "      <th>rank_test_score</th>\n",
       "    </tr>\n",
       "  </thead>\n",
       "  <tbody>\n",
       "    <tr>\n",
       "      <th>0</th>\n",
       "      <td>0.125092</td>\n",
       "      <td>0.010746</td>\n",
       "      <td>0.011654</td>\n",
       "      <td>0.000690</td>\n",
       "      <td>1</td>\n",
       "      <td>{'preprocessor__num__poly__degree': 1}</td>\n",
       "      <td>0.641357</td>\n",
       "      <td>0.668933</td>\n",
       "      <td>0.669079</td>\n",
       "      <td>0.682320</td>\n",
       "      <td>0.639839</td>\n",
       "      <td>0.660306</td>\n",
       "      <td>0.016817</td>\n",
       "      <td>4</td>\n",
       "    </tr>\n",
       "    <tr>\n",
       "      <th>1</th>\n",
       "      <td>0.262651</td>\n",
       "      <td>0.024497</td>\n",
       "      <td>0.016081</td>\n",
       "      <td>0.001651</td>\n",
       "      <td>2</td>\n",
       "      <td>{'preprocessor__num__poly__degree': 2}</td>\n",
       "      <td>0.699572</td>\n",
       "      <td>0.743389</td>\n",
       "      <td>0.754738</td>\n",
       "      <td>0.710256</td>\n",
       "      <td>0.710744</td>\n",
       "      <td>0.723740</td>\n",
       "      <td>0.021362</td>\n",
       "      <td>2</td>\n",
       "    </tr>\n",
       "    <tr>\n",
       "      <th>2</th>\n",
       "      <td>0.934982</td>\n",
       "      <td>0.023024</td>\n",
       "      <td>0.009851</td>\n",
       "      <td>0.000494</td>\n",
       "      <td>3</td>\n",
       "      <td>{'preprocessor__num__poly__degree': 3}</td>\n",
       "      <td>0.706135</td>\n",
       "      <td>0.758940</td>\n",
       "      <td>0.779665</td>\n",
       "      <td>0.734083</td>\n",
       "      <td>0.742594</td>\n",
       "      <td>0.744283</td>\n",
       "      <td>0.024612</td>\n",
       "      <td>1</td>\n",
       "    </tr>\n",
       "    <tr>\n",
       "      <th>3</th>\n",
       "      <td>0.297836</td>\n",
       "      <td>0.051353</td>\n",
       "      <td>0.022748</td>\n",
       "      <td>0.005438</td>\n",
       "      <td>4</td>\n",
       "      <td>{'preprocessor__num__poly__degree': 4}</td>\n",
       "      <td>0.652915</td>\n",
       "      <td>0.778908</td>\n",
       "      <td>0.717026</td>\n",
       "      <td>0.728861</td>\n",
       "      <td>0.736422</td>\n",
       "      <td>0.722826</td>\n",
       "      <td>0.040713</td>\n",
       "      <td>3</td>\n",
       "    </tr>\n",
       "    <tr>\n",
       "      <th>4</th>\n",
       "      <td>0.400963</td>\n",
       "      <td>0.063450</td>\n",
       "      <td>0.018939</td>\n",
       "      <td>0.003567</td>\n",
       "      <td>5</td>\n",
       "      <td>{'preprocessor__num__poly__degree': 5}</td>\n",
       "      <td>-1.915671</td>\n",
       "      <td>0.642585</td>\n",
       "      <td>0.553581</td>\n",
       "      <td>-1.175276</td>\n",
       "      <td>-0.064963</td>\n",
       "      <td>-0.391949</td>\n",
       "      <td>1.000654</td>\n",
       "      <td>5</td>\n",
       "    </tr>\n",
       "  </tbody>\n",
       "</table>\n",
       "</div>"
      ],
      "text/plain": [
       "   mean_fit_time  std_fit_time  mean_score_time  std_score_time  \\\n",
       "0       0.125092      0.010746         0.011654        0.000690   \n",
       "1       0.262651      0.024497         0.016081        0.001651   \n",
       "2       0.934982      0.023024         0.009851        0.000494   \n",
       "3       0.297836      0.051353         0.022748        0.005438   \n",
       "4       0.400963      0.063450         0.018939        0.003567   \n",
       "\n",
       "  param_preprocessor__num__poly__degree  \\\n",
       "0                                     1   \n",
       "1                                     2   \n",
       "2                                     3   \n",
       "3                                     4   \n",
       "4                                     5   \n",
       "\n",
       "                                   params  split0_test_score  \\\n",
       "0  {'preprocessor__num__poly__degree': 1}           0.641357   \n",
       "1  {'preprocessor__num__poly__degree': 2}           0.699572   \n",
       "2  {'preprocessor__num__poly__degree': 3}           0.706135   \n",
       "3  {'preprocessor__num__poly__degree': 4}           0.652915   \n",
       "4  {'preprocessor__num__poly__degree': 5}          -1.915671   \n",
       "\n",
       "   split1_test_score  split2_test_score  split3_test_score  split4_test_score  \\\n",
       "0           0.668933           0.669079           0.682320           0.639839   \n",
       "1           0.743389           0.754738           0.710256           0.710744   \n",
       "2           0.758940           0.779665           0.734083           0.742594   \n",
       "3           0.778908           0.717026           0.728861           0.736422   \n",
       "4           0.642585           0.553581          -1.175276          -0.064963   \n",
       "\n",
       "   mean_test_score  std_test_score  rank_test_score  \n",
       "0         0.660306        0.016817                4  \n",
       "1         0.723740        0.021362                2  \n",
       "2         0.744283        0.024612                1  \n",
       "3         0.722826        0.040713                3  \n",
       "4        -0.391949        1.000654                5  "
      ]
     },
     "execution_count": 286,
     "metadata": {},
     "output_type": "execute_result"
    }
   ],
   "source": [
    "pd.DataFrame(grid_search.cv_results_)"
   ]
  },
  {
   "cell_type": "markdown",
   "id": "bd5a9815-ef39-43be-ae3d-1791a38f31f7",
   "metadata": {},
   "source": [
    "# Decission Tree Regressor"
   ]
  },
  {
   "cell_type": "code",
   "execution_count": 288,
   "id": "fbdb3d59-9964-41fa-834f-65c38cd31b6e",
   "metadata": {},
   "outputs": [],
   "source": [
    "from sklearn.tree import DecisionTreeRegressor"
   ]
  },
  {
   "cell_type": "code",
   "execution_count": 289,
   "id": "0e7d7503-1b6e-4d62-b24c-232e76a9115b",
   "metadata": {},
   "outputs": [],
   "source": [
    "num_pipe = Pipeline([\n",
    "    ('std_scaler', StandardScaler()),\n",
    "#    ('poly', PolynomialFeatures(degree=3, include_bias=False)),\n",
    "    ])\n",
    "\n",
    "#cat_features = train_set.select_dtypes('object').columns\n",
    "type_house_levels = train_set.type_house.unique()\n",
    "code_levels = train_set.code.unique()\n",
    "\n",
    "cat_pipe = Pipeline([\n",
    "    ('one_hot_encoder', OneHotEncoder(categories=[type_house_levels, code_levels]))  #code_levels\n",
    "                                      #handle_unknown='ignore'\n",
    "    ])\n",
    "\n",
    "#num_features = data.select_dtypes('number').columns\n",
    "#cat_features =  data.select_dtypes('object').columns\n",
    "num_features = ['floor_area', \n",
    "                'views', \n",
    "                'latitude', \n",
    "                'longitude', \n",
    "                'bathroom']\n",
    "cat_features = ['type_house',\n",
    "                'code']\n",
    "\n",
    "preprocessor = ColumnTransformer([\n",
    "    ('num', num_pipe, num_features),\n",
    "    ('cat', cat_pipe, cat_features),\n",
    "    ]) #, remainder='passthrough'\n",
    "#preprocessor\n",
    "\n",
    "\n",
    "estimator = Pipeline(steps=[\n",
    "    ('preprocessor', preprocessor),\n",
    "    ('imputer', SimpleImputer(strategy='constant', \n",
    "                              fill_value=None)),\n",
    "    ('regressor', DecisionTreeRegressor())\n",
    "                           ])\n",
    "#estimator"
   ]
  },
  {
   "cell_type": "code",
   "execution_count": 300,
   "id": "45843b45-e1c4-4b9c-bb9c-ecabea8e3102",
   "metadata": {},
   "outputs": [
    {
     "data": {
      "text/plain": [
       "GridSearchCV(cv=5,\n",
       "             estimator=Pipeline(steps=[('preprocessor',\n",
       "                                        ColumnTransformer(transformers=[('num',\n",
       "                                                                         Pipeline(steps=[('std_scaler',\n",
       "                                                                                          StandardScaler())]),\n",
       "                                                                         ['floor_area',\n",
       "                                                                          'views',\n",
       "                                                                          'latitude',\n",
       "                                                                          'longitude',\n",
       "                                                                          'bathroom']),\n",
       "                                                                        ('cat',\n",
       "                                                                         Pipeline(steps=[('one_hot_encoder',\n",
       "                                                                                          OneHotEncoder(categories=[array(['house', 'apartment'], dtype=object),\n",
       "                                                                                                                    array(['H91', 'A63', 'Y35', 'V14', 'R...\n",
       "       'D17', 'P14', 'N41', 'P72', 'A86', 'H65', 'A81', 'H53', 'F93',\n",
       "       'H18', 'K34', 'R42', 'V15', 'A42', 'T56', 'R14', 'P43', 'A75',\n",
       "       'K45', 'F42', 'P47', 'R21', 'W34', 'F52', 'E53', 'A41', 'X42',\n",
       "       'H23', 'H16'], dtype=object)]))]),\n",
       "                                                                         ['type_house',\n",
       "                                                                          'code'])])),\n",
       "                                       ('imputer',\n",
       "                                        SimpleImputer(strategy='constant')),\n",
       "                                       ('regressor', DecisionTreeRegressor())]),\n",
       "             n_jobs=-1, param_grid={'regressor__max_depth': range(1, 15)})"
      ]
     },
     "execution_count": 300,
     "metadata": {},
     "output_type": "execute_result"
    }
   ],
   "source": [
    "grid_search = GridSearchCV(estimator=estimator, \n",
    "                           param_grid={\n",
    "                        #       'preprocessor__num__poly__degree': [1,2,3,4,5],\n",
    "                               'regressor__max_depth': range(1, 15), #[2,3,4,5,6,7]\n",
    "                           }, \n",
    "                           cv=5, \n",
    "                           n_jobs=-1,\n",
    "                        #   scoring='neg_mean_squared_error',\n",
    "                        #   return_train_score=True\n",
    "                          )\n",
    "\n",
    "grid_search.fit(X_train, y_train)"
   ]
  },
  {
   "cell_type": "code",
   "execution_count": 306,
   "id": "aac9d9ac-c76e-4e93-82d1-8038908ff227",
   "metadata": {},
   "outputs": [
    {
     "name": "stdout",
     "output_type": "stream",
     "text": [
      "{'regressor__max_depth': 6}\n",
      "0.6972255986935948\n"
     ]
    }
   ],
   "source": [
    "print(grid_search.best_params_)\n",
    "print(grid_search.best_score_)"
   ]
  },
  {
   "cell_type": "code",
   "execution_count": 304,
   "id": "bc94cc2e-635b-4b5c-8c8c-d39566b683c5",
   "metadata": {},
   "outputs": [],
   "source": [
    "#pd.DataFrame(grid_search.cv_results_)"
   ]
  },
  {
   "cell_type": "markdown",
   "id": "ec145ada-90e4-44f5-90b7-65a3754db7b5",
   "metadata": {},
   "source": [
    "# Random Forest Regressor"
   ]
  },
  {
   "cell_type": "code",
   "execution_count": 307,
   "id": "81a26ac7-590e-4c71-9477-bc487d621216",
   "metadata": {},
   "outputs": [],
   "source": [
    "from sklearn.ensemble import RandomForestRegressor"
   ]
  },
  {
   "cell_type": "markdown",
   "id": "c4a13429-00e8-4943-9721-f128194aa2e2",
   "metadata": {},
   "source": [
    "```python\n",
    "RandomForestRegressor(n_estimators=100, \n",
    "                      *, \n",
    "                      criterion='squared_error', \n",
    "                      max_depth=None, \n",
    "                      min_samples_split=2, \n",
    "                      min_samples_leaf=1, \n",
    "                      min_weight_fraction_leaf=0.0, \n",
    "                      max_features='auto', \n",
    "                      max_leaf_nodes=None, \n",
    "                      min_impurity_decrease=0.0, \n",
    "                      bootstrap=True, \n",
    "                      oob_score=False, \n",
    "                      n_jobs=None, \n",
    "                      random_state=None, \n",
    "                      verbose=0, \n",
    "                      warm_start=False, \n",
    "                      ccp_alpha=0.0, \n",
    "                      max_samples=None)\n",
    "```"
   ]
  },
  {
   "cell_type": "code",
   "execution_count": 319,
   "id": "7a402523-de4a-4bd5-9e7a-7db786028a6e",
   "metadata": {
    "tags": []
   },
   "outputs": [],
   "source": [
    "rfr_pipe_est = Pipeline(steps=[\n",
    "    ('preprocessor', preprocessor),\n",
    "    ('imputer', SimpleImputer(strategy='constant', \n",
    "                              fill_value=None)),\n",
    "    ('regressor', RandomForestRegressor())\n",
    "                           ])\n",
    "#estimator"
   ]
  },
  {
   "cell_type": "code",
   "execution_count": 328,
   "id": "894068f3-d8ff-4693-91b4-c3586ad28c78",
   "metadata": {},
   "outputs": [
    {
     "data": {
      "text/plain": [
       "GridSearchCV(cv=5,\n",
       "             estimator=Pipeline(steps=[('preprocessor',\n",
       "                                        ColumnTransformer(transformers=[('num',\n",
       "                                                                         Pipeline(steps=[('std_scaler',\n",
       "                                                                                          StandardScaler())]),\n",
       "                                                                         ['floor_area',\n",
       "                                                                          'views',\n",
       "                                                                          'latitude',\n",
       "                                                                          'longitude',\n",
       "                                                                          'bathroom']),\n",
       "                                                                        ('cat',\n",
       "                                                                         Pipeline(steps=[('one_hot_encoder',\n",
       "                                                                                          OneHotEncoder(categories=[array(['house', 'apartment'], dtype=object),\n",
       "                                                                                                                    array(['H91', 'A63', 'Y35', 'V14', 'R...\n",
       "       'H18', 'K34', 'R42', 'V15', 'A42', 'T56', 'R14', 'P43', 'A75',\n",
       "       'K45', 'F42', 'P47', 'R21', 'W34', 'F52', 'E53', 'A41', 'X42',\n",
       "       'H23', 'H16'], dtype=object)]))]),\n",
       "                                                                         ['type_house',\n",
       "                                                                          'code'])])),\n",
       "                                       ('imputer',\n",
       "                                        SimpleImputer(strategy='constant')),\n",
       "                                       ('regressor', RandomForestRegressor())]),\n",
       "             n_jobs=-1,\n",
       "             param_grid=[{'regressor__max_features': range(1, 8),\n",
       "                          'regressor__n_estimators': [3, 10, 30]},\n",
       "                         {'regressor__n_estimators': range(41, 60)}])"
      ]
     },
     "execution_count": 328,
     "metadata": {},
     "output_type": "execute_result"
    }
   ],
   "source": [
    "param_grid = [\n",
    "    {'regressor__n_estimators': [3,10,30], \n",
    "     'regressor__max_features': range(1, 8)},\n",
    "    {'regressor__n_estimators': range(41,60)}, #[3,10,30,40,50,60]\n",
    "]\n",
    "\n",
    "grid_search = GridSearchCV(estimator=rfr_pipe_est, \n",
    "                           param_grid=param_grid,\n",
    "                           #{\n",
    "                        #       'preprocessor__num__poly__degree': [1,2,3,4,5],\n",
    "                        #       'regressor__max_depth': range(1, 15), #[2,3,4,5,6,7]\n",
    "                        #   }, \n",
    "                           cv=5, \n",
    "                           n_jobs=-1,\n",
    "                        #   scoring='neg_mean_squared_error',\n",
    "                        #   return_train_score=True\n",
    "                          )\n",
    "\n",
    "grid_search.fit(X_train, y_train)"
   ]
  },
  {
   "cell_type": "code",
   "execution_count": 329,
   "id": "a50cefcc-a772-42ca-b853-643452101d0f",
   "metadata": {},
   "outputs": [
    {
     "name": "stdout",
     "output_type": "stream",
     "text": [
      "{'regressor__n_estimators': 44}\n",
      "0.7998526547606316\n"
     ]
    }
   ],
   "source": [
    "print(grid_search.best_params_)\n",
    "print(grid_search.best_score_)"
   ]
  },
  {
   "cell_type": "code",
   "execution_count": 326,
   "id": "62aaff64-8aec-49f1-b9ec-8072fe42fbb0",
   "metadata": {},
   "outputs": [
    {
     "data": {
      "text/html": [
       "<div>\n",
       "<style scoped>\n",
       "    .dataframe tbody tr th:only-of-type {\n",
       "        vertical-align: middle;\n",
       "    }\n",
       "\n",
       "    .dataframe tbody tr th {\n",
       "        vertical-align: top;\n",
       "    }\n",
       "\n",
       "    .dataframe thead th {\n",
       "        text-align: right;\n",
       "    }\n",
       "</style>\n",
       "<table border=\"1\" class=\"dataframe\">\n",
       "  <thead>\n",
       "    <tr style=\"text-align: right;\">\n",
       "      <th></th>\n",
       "      <th>mean_fit_time</th>\n",
       "      <th>std_fit_time</th>\n",
       "      <th>mean_score_time</th>\n",
       "      <th>std_score_time</th>\n",
       "      <th>param_regressor__max_features</th>\n",
       "      <th>param_regressor__n_estimators</th>\n",
       "      <th>params</th>\n",
       "      <th>split0_test_score</th>\n",
       "      <th>split1_test_score</th>\n",
       "      <th>split2_test_score</th>\n",
       "      <th>split3_test_score</th>\n",
       "      <th>split4_test_score</th>\n",
       "      <th>mean_test_score</th>\n",
       "      <th>std_test_score</th>\n",
       "      <th>rank_test_score</th>\n",
       "    </tr>\n",
       "  </thead>\n",
       "  <tbody>\n",
       "    <tr>\n",
       "      <th>35</th>\n",
       "      <td>6.685643</td>\n",
       "      <td>0.013066</td>\n",
       "      <td>0.031862</td>\n",
       "      <td>0.000349</td>\n",
       "      <td>NaN</td>\n",
       "      <td>55</td>\n",
       "      <td>{'regressor__n_estimators': 55}</td>\n",
       "      <td>0.800315</td>\n",
       "      <td>0.786868</td>\n",
       "      <td>0.833414</td>\n",
       "      <td>0.758655</td>\n",
       "      <td>0.799107</td>\n",
       "      <td>0.795672</td>\n",
       "      <td>0.024106</td>\n",
       "      <td>14</td>\n",
       "    </tr>\n",
       "    <tr>\n",
       "      <th>36</th>\n",
       "      <td>6.954544</td>\n",
       "      <td>0.127430</td>\n",
       "      <td>0.039644</td>\n",
       "      <td>0.004769</td>\n",
       "      <td>NaN</td>\n",
       "      <td>56</td>\n",
       "      <td>{'regressor__n_estimators': 56}</td>\n",
       "      <td>0.799614</td>\n",
       "      <td>0.783382</td>\n",
       "      <td>0.838665</td>\n",
       "      <td>0.767620</td>\n",
       "      <td>0.793577</td>\n",
       "      <td>0.796572</td>\n",
       "      <td>0.023674</td>\n",
       "      <td>8</td>\n",
       "    </tr>\n",
       "    <tr>\n",
       "      <th>37</th>\n",
       "      <td>7.232374</td>\n",
       "      <td>0.050847</td>\n",
       "      <td>0.033035</td>\n",
       "      <td>0.000805</td>\n",
       "      <td>NaN</td>\n",
       "      <td>57</td>\n",
       "      <td>{'regressor__n_estimators': 57}</td>\n",
       "      <td>0.799052</td>\n",
       "      <td>0.788281</td>\n",
       "      <td>0.838785</td>\n",
       "      <td>0.757896</td>\n",
       "      <td>0.797805</td>\n",
       "      <td>0.796364</td>\n",
       "      <td>0.025900</td>\n",
       "      <td>9</td>\n",
       "    </tr>\n",
       "    <tr>\n",
       "      <th>38</th>\n",
       "      <td>6.659633</td>\n",
       "      <td>0.364550</td>\n",
       "      <td>0.023407</td>\n",
       "      <td>0.000420</td>\n",
       "      <td>NaN</td>\n",
       "      <td>58</td>\n",
       "      <td>{'regressor__n_estimators': 58}</td>\n",
       "      <td>0.800109</td>\n",
       "      <td>0.787244</td>\n",
       "      <td>0.840482</td>\n",
       "      <td>0.758941</td>\n",
       "      <td>0.803283</td>\n",
       "      <td>0.798012</td>\n",
       "      <td>0.026376</td>\n",
       "      <td>3</td>\n",
       "    </tr>\n",
       "    <tr>\n",
       "      <th>39</th>\n",
       "      <td>6.372685</td>\n",
       "      <td>0.248393</td>\n",
       "      <td>0.021708</td>\n",
       "      <td>0.001232</td>\n",
       "      <td>NaN</td>\n",
       "      <td>59</td>\n",
       "      <td>{'regressor__n_estimators': 59}</td>\n",
       "      <td>0.805372</td>\n",
       "      <td>0.786744</td>\n",
       "      <td>0.842662</td>\n",
       "      <td>0.757457</td>\n",
       "      <td>0.793277</td>\n",
       "      <td>0.797102</td>\n",
       "      <td>0.027705</td>\n",
       "      <td>7</td>\n",
       "    </tr>\n",
       "  </tbody>\n",
       "</table>\n",
       "</div>"
      ],
      "text/plain": [
       "    mean_fit_time  std_fit_time  mean_score_time  std_score_time  \\\n",
       "35       6.685643      0.013066         0.031862        0.000349   \n",
       "36       6.954544      0.127430         0.039644        0.004769   \n",
       "37       7.232374      0.050847         0.033035        0.000805   \n",
       "38       6.659633      0.364550         0.023407        0.000420   \n",
       "39       6.372685      0.248393         0.021708        0.001232   \n",
       "\n",
       "   param_regressor__max_features param_regressor__n_estimators  \\\n",
       "35                           NaN                            55   \n",
       "36                           NaN                            56   \n",
       "37                           NaN                            57   \n",
       "38                           NaN                            58   \n",
       "39                           NaN                            59   \n",
       "\n",
       "                             params  split0_test_score  split1_test_score  \\\n",
       "35  {'regressor__n_estimators': 55}           0.800315           0.786868   \n",
       "36  {'regressor__n_estimators': 56}           0.799614           0.783382   \n",
       "37  {'regressor__n_estimators': 57}           0.799052           0.788281   \n",
       "38  {'regressor__n_estimators': 58}           0.800109           0.787244   \n",
       "39  {'regressor__n_estimators': 59}           0.805372           0.786744   \n",
       "\n",
       "    split2_test_score  split3_test_score  split4_test_score  mean_test_score  \\\n",
       "35           0.833414           0.758655           0.799107         0.795672   \n",
       "36           0.838665           0.767620           0.793577         0.796572   \n",
       "37           0.838785           0.757896           0.797805         0.796364   \n",
       "38           0.840482           0.758941           0.803283         0.798012   \n",
       "39           0.842662           0.757457           0.793277         0.797102   \n",
       "\n",
       "    std_test_score  rank_test_score  \n",
       "35        0.024106               14  \n",
       "36        0.023674                8  \n",
       "37        0.025900                9  \n",
       "38        0.026376                3  \n",
       "39        0.027705                7  "
      ]
     },
     "execution_count": 326,
     "metadata": {},
     "output_type": "execute_result"
    }
   ],
   "source": [
    "pd.DataFrame(grid_search.cv_results_).tail()"
   ]
  },
  {
   "cell_type": "code",
   "execution_count": 330,
   "id": "fe7876a7-d265-46c3-9254-2f30ff00b190",
   "metadata": {},
   "outputs": [
    {
     "name": "stdout",
     "output_type": "stream",
     "text": [
      "r2 mean: 0.8002624958393272\n",
      "r2 std: 0.026967885518696666 \n",
      "\n",
      "MAE mean: -77849.77205209687\n",
      "MAE std: 3186.794880910816 \n",
      "\n",
      "MAPE mean: -0.21704229815241996\n",
      "MAPE std: 0.008744707519253879 \n",
      "\n",
      "RMSE mean: -135114.36764980553\n",
      "RMSE std: 10821.74195684397 \n",
      "\n"
     ]
    }
   ],
   "source": [
    "rfr_pipe_est = Pipeline(steps=[\n",
    "    ('preprocessor', preprocessor),\n",
    "    ('imputer', SimpleImputer(strategy='constant', \n",
    "                              fill_value=None)),\n",
    "    ('regressor', RandomForestRegressor(n_estimators=44))\n",
    "                           ])\n",
    "#estimator\n",
    "\n",
    "scores = scores_statistics(estimator=rfr_pipe_est, \n",
    "                           scoring_dict=scoring, \n",
    "                           X_train=X_train, \n",
    "                           y_train=y_train, \n",
    "                           cv=10, \n",
    "                           return_train_score=False)"
   ]
  },
  {
   "cell_type": "code",
   "execution_count": null,
   "id": "72873a18-9e02-4d05-a272-bbcbc1a86f4f",
   "metadata": {},
   "outputs": [],
   "source": []
  }
 ],
 "metadata": {
  "kernelspec": {
   "display_name": "Python 3 (ipykernel)",
   "language": "python",
   "name": "python3"
  },
  "language_info": {
   "codemirror_mode": {
    "name": "ipython",
    "version": 3
   },
   "file_extension": ".py",
   "mimetype": "text/x-python",
   "name": "python",
   "nbconvert_exporter": "python",
   "pygments_lexer": "ipython3",
   "version": "3.7.11"
  }
 },
 "nbformat": 4,
 "nbformat_minor": 5
}
