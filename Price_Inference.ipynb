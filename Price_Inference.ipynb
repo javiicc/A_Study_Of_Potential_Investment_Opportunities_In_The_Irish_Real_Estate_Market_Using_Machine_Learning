{
 "cells": [
  {
   "cell_type": "markdown",
   "id": "2b1cde2f-e700-4549-8bf9-3af3141d482a",
   "metadata": {
    "tags": []
   },
   "source": [
    "# Data"
   ]
  },
  {
   "cell_type": "markdown",
   "id": "c0c6583f-8405-4a55-894f-414e650c72e6",
   "metadata": {
    "tags": []
   },
   "source": [
    "## Import libraries and Set Options"
   ]
  },
  {
   "cell_type": "code",
   "execution_count": 1,
   "id": "6b1007dc-b3a7-4b52-b3cb-e7260cdf8baf",
   "metadata": {},
   "outputs": [],
   "source": [
    "import numpy as np\n",
    "import pandas as pd\n",
    "import matplotlib.pyplot as plt\n",
    "import seaborn as sns\n",
    "\n",
    "from sklearn.model_selection import train_test_split, cross_validate, GridSearchCV, ParameterGrid, cross_val_score\n",
    "from sklearn.preprocessing import (StandardScaler, OneHotEncoder,\n",
    "                                   PolynomialFeatures, PowerTransformer)\n",
    "from sklearn.impute import SimpleImputer\n",
    "\n",
    "from sklearn.pipeline import Pipeline\n",
    "from sklearn.compose import ColumnTransformer\n",
    "\n",
    "from sklearn.linear_model import LinearRegression\n",
    "from sklearn.tree import DecisionTreeRegressor\n",
    "from sklearn.ensemble import RandomForestRegressor\n",
    "\n",
    "from sklearn import metrics\n",
    "from sklearn.metrics import mean_absolute_percentage_error\n",
    "\n",
    "from daftpy.daftmodel import (split_data, scores_statistics, metrics_regression, \n",
    "                              plot_learning_curves, compare_models, transformer_estimator,\n",
    "                              residuals)\n",
    "\n",
    "import joblib"
   ]
  },
  {
   "cell_type": "code",
   "execution_count": 2,
   "id": "458cf704-359d-4cef-9b6b-d7071c3be864",
   "metadata": {},
   "outputs": [],
   "source": [
    "pd.set_option('display.max_rows', None)\n",
    "pd.set_option('display.max_columns', None)\n",
    "plt.style.use('seaborn')"
   ]
  },
  {
   "cell_type": "markdown",
   "id": "455a52a9-32fb-485f-b06f-34b80561ecfa",
   "metadata": {
    "tags": []
   },
   "source": [
    "## Load Data"
   ]
  },
  {
   "cell_type": "code",
   "execution_count": 3,
   "id": "6b90327e-f46b-49ca-86a0-93a8fd8fdbb7",
   "metadata": {},
   "outputs": [
    {
     "data": {
      "text/plain": [
       "(7344, 9)"
      ]
     },
     "execution_count": 3,
     "metadata": {},
     "output_type": "execute_result"
    }
   ],
   "source": [
    "data = pd.read_csv('data_available/selected_data.csv', sep=',')\n",
    "data.shape  #### cambiar esto"
   ]
  },
  {
   "cell_type": "markdown",
   "id": "9a4c6ef6-b859-45cf-8c59-bea7c199c207",
   "metadata": {},
   "source": [
    "Let's plot feature names to remember them."
   ]
  },
  {
   "cell_type": "code",
   "execution_count": 4,
   "id": "eb7eaa6d-f353-4d46-91c0-d20992614833",
   "metadata": {},
   "outputs": [
    {
     "data": {
      "text/html": [
       "<div>\n",
       "<style scoped>\n",
       "    .dataframe tbody tr th:only-of-type {\n",
       "        vertical-align: middle;\n",
       "    }\n",
       "\n",
       "    .dataframe tbody tr th {\n",
       "        vertical-align: top;\n",
       "    }\n",
       "\n",
       "    .dataframe thead th {\n",
       "        text-align: right;\n",
       "    }\n",
       "</style>\n",
       "<table border=\"1\" class=\"dataframe\">\n",
       "  <thead>\n",
       "    <tr style=\"text-align: right;\">\n",
       "      <th></th>\n",
       "      <th>numerical</th>\n",
       "      <th>categorical</th>\n",
       "    </tr>\n",
       "  </thead>\n",
       "  <tbody>\n",
       "    <tr>\n",
       "      <th>0</th>\n",
       "      <td>floor_area</td>\n",
       "      <td>code</td>\n",
       "    </tr>\n",
       "    <tr>\n",
       "      <th>1</th>\n",
       "      <td>bedroom</td>\n",
       "      <td>type_house</td>\n",
       "    </tr>\n",
       "    <tr>\n",
       "      <th>2</th>\n",
       "      <td>bathroom</td>\n",
       "      <td></td>\n",
       "    </tr>\n",
       "    <tr>\n",
       "      <th>3</th>\n",
       "      <td>longitude</td>\n",
       "      <td></td>\n",
       "    </tr>\n",
       "    <tr>\n",
       "      <th>4</th>\n",
       "      <td>latitude</td>\n",
       "      <td></td>\n",
       "    </tr>\n",
       "  </tbody>\n",
       "</table>\n",
       "</div>"
      ],
      "text/plain": [
       "    numerical categorical\n",
       "0  floor_area        code\n",
       "1     bedroom  type_house\n",
       "2    bathroom            \n",
       "3   longitude            \n",
       "4    latitude            "
      ]
     },
     "execution_count": 4,
     "metadata": {},
     "output_type": "execute_result"
    }
   ],
   "source": [
    "# Numeric features\n",
    "num_features = list(data.select_dtypes('number').columns) #X_train\n",
    "num_features.remove('price')\n",
    "#num_features.remove('longitude')\n",
    "#num_features.remove('latitude')\n",
    "\n",
    "# Categorical features\n",
    "cat_features =  list(data.select_dtypes('object').columns)\n",
    "cat_features.remove('city_district')\n",
    "\n",
    "num_feat_df = pd.DataFrame({'numerical': num_features}) \n",
    "cat_feat_df = pd.DataFrame({'categorical': cat_features})\n",
    "\n",
    "feat_df = num_feat_df.merge(cat_feat_df, how='left', left_index=True, right_index=True).fillna(' ')\n",
    "feat_df"
   ]
  },
  {
   "cell_type": "markdown",
   "id": "80b06522-5792-4d00-8325-a5a90b49bd93",
   "metadata": {},
   "source": [
    "We can't feed the models with categorical variables in their current form so we will need to encoder them. We will have a new \"variable\" for each level of the categorical variables. "
   ]
  },
  {
   "cell_type": "code",
   "execution_count": 5,
   "id": "c6599fa1-ea6e-451e-a97a-f8891abb6a77",
   "metadata": {},
   "outputs": [
    {
     "data": {
      "text/html": [
       "<div>\n",
       "<style scoped>\n",
       "    .dataframe tbody tr th:only-of-type {\n",
       "        vertical-align: middle;\n",
       "    }\n",
       "\n",
       "    .dataframe tbody tr th {\n",
       "        vertical-align: top;\n",
       "    }\n",
       "\n",
       "    .dataframe thead th {\n",
       "        text-align: right;\n",
       "    }\n",
       "</style>\n",
       "<table border=\"1\" class=\"dataframe\">\n",
       "  <thead>\n",
       "    <tr style=\"text-align: right;\">\n",
       "      <th></th>\n",
       "      <th>categorical</th>\n",
       "      <th>n_levels</th>\n",
       "      <th>sample</th>\n",
       "    </tr>\n",
       "  </thead>\n",
       "  <tbody>\n",
       "    <tr>\n",
       "      <th>0</th>\n",
       "      <td>code</td>\n",
       "      <td>136</td>\n",
       "      <td>[nan, W91, Y35, D08, D6W]</td>\n",
       "    </tr>\n",
       "    <tr>\n",
       "      <th>1</th>\n",
       "      <td>type_house</td>\n",
       "      <td>2</td>\n",
       "      <td>[house, nan, apartment]</td>\n",
       "    </tr>\n",
       "  </tbody>\n",
       "</table>\n",
       "</div>"
      ],
      "text/plain": [
       "  categorical  n_levels                     sample\n",
       "0        code       136  [nan, W91, Y35, D08, D6W]\n",
       "1  type_house         2    [house, nan, apartment]"
      ]
     },
     "execution_count": 5,
     "metadata": {},
     "output_type": "execute_result"
    }
   ],
   "source": [
    "levels_type_house = data.type_house.unique()\n",
    "levels_code = data.code.unique()\n",
    "#levels_city_district = data.city_district.unique()\n",
    "\n",
    "cat_feat_df['n_levels'] = [data.code.nunique(), data.type_house.nunique()]\n",
    "cat_feat_df['sample'] = [levels_code[:5], levels_type_house]\n",
    "cat_feat_df # mejorar"
   ]
  },
  {
   "cell_type": "markdown",
   "id": "0bb15326-8376-468d-8752-791c56461487",
   "metadata": {
    "tags": []
   },
   "source": [
    "## Split Data"
   ]
  },
  {
   "cell_type": "markdown",
   "id": "9150ccdd-cc35-466d-9740-354ecb62838a",
   "metadata": {},
   "source": [
    "QUITAR LAS VARIABLES AL FINAL DEL NOTEBOOK ANTERIOR"
   ]
  },
  {
   "cell_type": "code",
   "execution_count": 6,
   "id": "572c4363-ce69-4827-8b13-741144f0395d",
   "metadata": {},
   "outputs": [
    {
     "data": {
      "text/plain": [
       "(7344, 8)"
      ]
     },
     "execution_count": 6,
     "metadata": {},
     "output_type": "execute_result"
    }
   ],
   "source": [
    "features = [\n",
    "    'price',\n",
    "    'floor_area',\n",
    "#    'views',\n",
    "    'latitude',\n",
    "    'longitude',\n",
    "    'bedroom',\n",
    "    'bathroom',\n",
    "#    'sale_type',\n",
    "    'type_house',\n",
    "#    'postcode',\n",
    "#    'state_district',\n",
    "#    'county',\n",
    "#    'city_district',\n",
    "#    'road',\n",
    "#    'place',\n",
    "    'code',\n",
    "#    'admin1',\n",
    "#    'cities'\n",
    "]\n",
    "\n",
    "data = data[features].copy()\n",
    "data.shape"
   ]
  },
  {
   "cell_type": "code",
   "execution_count": 7,
   "id": "afd1e9e6-afbd-4552-9488-9157053371fa",
   "metadata": {},
   "outputs": [
    {
     "name": "stdout",
     "output_type": "stream",
     "text": [
      "X_train: (6242, 7) \n",
      "X_test: (1102, 7) \n",
      "y_train: (6242,) \n",
      "y_test: (1102,) \n",
      "\n"
     ]
    }
   ],
   "source": [
    "X_train, X_test, y_train, y_test = split_data(data=data, \n",
    "                                              target='price', \n",
    "                                              test_size=.15, \n",
    "                                              output='X_y_train_test',\n",
    "                                              random_state=7)"
   ]
  },
  {
   "cell_type": "markdown",
   "id": "a7b3673b-54c7-4ae7-b1fa-25289981e0c9",
   "metadata": {
    "tags": []
   },
   "source": [
    "# Metrics"
   ]
  },
  {
   "cell_type": "markdown",
   "id": "09ad32d5-43f1-49da-9c71-56dd46148561",
   "metadata": {},
   "source": [
    "We are going to use the following metrics to evaluate the models:"
   ]
  },
  {
   "cell_type": "code",
   "execution_count": 8,
   "id": "5306a3a9-08b6-413a-8fc4-c3a7d7f9c737",
   "metadata": {},
   "outputs": [],
   "source": [
    "scoring = {'r2': 'r2', \n",
    "           'MAE': 'neg_mean_absolute_error', \n",
    "           'MAPE': 'neg_mean_absolute_percentage_error', \n",
    "           'RMSE': 'neg_root_mean_squared_error'}"
   ]
  },
  {
   "cell_type": "markdown",
   "id": "0e95b62f-0ba1-441d-a401-c8b68db59fc4",
   "metadata": {},
   "source": [
    "Transformations\n",
    "\n",
    "https://scikit-learn.org/stable/modules/preprocessing.html"
   ]
  },
  {
   "cell_type": "markdown",
   "id": "bca2d51d-2d13-42c5-8b3d-3e415b91a560",
   "metadata": {
    "tags": []
   },
   "source": [
    "# Models"
   ]
  },
  {
   "cell_type": "markdown",
   "id": "40457c15-cafd-4ed5-8138-1d9f1789c7a9",
   "metadata": {},
   "source": [
    "There are several things that must be taken into account when we want to choose the right machine learning algorithm. Some of them are the size of the data, accuracy and/or interpretability of the output, linearity, etc. Also, it is important that the data conform to the assumptions of the model. \n",
    "\n",
    "Following the book \"Feature Engineering for Machine Learning\" from Alice Zheng & Amanda Casari, we are going to take into account some important aspects of the data in order to better understand what kind of transformations we should apply to the data we are working with.\n",
    "\n",
    "The Magintude of the data\n",
    "- \n",
    "\n",
    "Scale of the features\n",
    "- For models that use Euclidean Distance it is a good idea is to normalize the features so that the output stays on an expected scale.\n",
    "- Tree based models couldn't care less.\n",
    "\n",
    "Distribution of numeric features\n",
    "- Some models assume that the data are distributed like a Gaussian (Empiric rule and CLT)\n",
    "- Power transformations (variance-stabilizing transformations) as logarithmic or Cox Box transformations are powerful tools for dealing with heavy-tailed distributions. \n",
    "\n",
    "\n",
    "\n",
    "Longitude and latitude are bounded in value, do they need feature scaling?\n",
    "\n",
    "As we saw in the Data Analysis notebook the Box Cox transformation brings our features close to a Gaussian, so we could use that transformation. "
   ]
  },
  {
   "cell_type": "markdown",
   "id": "8078d4af-9748-4244-aa25-1bd7647c1f1d",
   "metadata": {},
   "source": [
    "**The Cutoff Levels**\n",
    "\n",
    "||Price|floor Area|Views|Bedroom|Bathroom|\n",
    "|:---:|:---:|:---:|:---:|:---:|:---:|\n",
    "|**Minimum**|32000.00|1|0.00|1|1|\n",
    "|**Cutoff Min**|32000.00|40|0.00|1|1|\n",
    "|**Cutoff Max**|2650000.00|732|46044.00|8|7|\n",
    "|**Maximun**|10000000.00|10279|125030.00|43|47|"
   ]
  },
  {
   "cell_type": "code",
   "execution_count": 9,
   "id": "f45fe5bb-b48e-475f-a451-640016a9892f",
   "metadata": {},
   "outputs": [
    {
     "data": {
      "text/html": [
       "<div>\n",
       "<style scoped>\n",
       "    .dataframe tbody tr th:only-of-type {\n",
       "        vertical-align: middle;\n",
       "    }\n",
       "\n",
       "    .dataframe tbody tr th {\n",
       "        vertical-align: top;\n",
       "    }\n",
       "\n",
       "    .dataframe thead th {\n",
       "        text-align: right;\n",
       "    }\n",
       "</style>\n",
       "<table border=\"1\" class=\"dataframe\">\n",
       "  <thead>\n",
       "    <tr style=\"text-align: right;\">\n",
       "      <th></th>\n",
       "      <th>price</th>\n",
       "      <th>floor_area</th>\n",
       "      <th>latitude</th>\n",
       "      <th>longitude</th>\n",
       "      <th>bedroom</th>\n",
       "      <th>bathroom</th>\n",
       "      <th>type_house</th>\n",
       "      <th>code</th>\n",
       "    </tr>\n",
       "  </thead>\n",
       "  <tbody>\n",
       "    <tr>\n",
       "      <th>6743</th>\n",
       "      <td>900000.0</td>\n",
       "      <td>123</td>\n",
       "      <td>53.322812</td>\n",
       "      <td>-6.237627</td>\n",
       "      <td>3</td>\n",
       "      <td>3</td>\n",
       "      <td>house</td>\n",
       "      <td>D04</td>\n",
       "    </tr>\n",
       "  </tbody>\n",
       "</table>\n",
       "</div>"
      ],
      "text/plain": [
       "         price  floor_area   latitude  longitude  bedroom  bathroom  \\\n",
       "6743  900000.0         123  53.322812  -6.237627        3         3   \n",
       "\n",
       "     type_house code  \n",
       "6743      house  D04  "
      ]
     },
     "execution_count": 9,
     "metadata": {},
     "output_type": "execute_result"
    }
   ],
   "source": [
    "data.sample()"
   ]
  },
  {
   "cell_type": "markdown",
   "id": "19cd5a9a-bcd2-4858-b35b-963a7af6a67e",
   "metadata": {
    "tags": []
   },
   "source": [
    "## Baseline Model"
   ]
  },
  {
   "cell_type": "raw",
   "id": "33a97d11-9219-4e89-aa1e-3e0877ebe5a5",
   "metadata": {},
   "source": [
    "baseline = data[['code', 'price']]\n",
    "\n",
    "baseline = baseline.groupby(['code']).mean()\n",
    "baseline.sort_values('price', ascending=False).head()"
   ]
  },
  {
   "cell_type": "markdown",
   "id": "3fea1855-2df2-467d-8550-69b064af1434",
   "metadata": {
    "tags": []
   },
   "source": [
    "## Multiple Linear Regression"
   ]
  },
  {
   "cell_type": "code",
   "execution_count": 10,
   "id": "e99d62b7-4116-4a7d-bb2a-b8e5812f5e4b",
   "metadata": {},
   "outputs": [],
   "source": [
    "def transformer_estimator(num_transformation, regressor, poly_degree=1):\n",
    "\n",
    "    if num_transformation is 'std_scaler':\n",
    "        num_pipe = Pipeline([\n",
    "            ('std_scaler', StandardScaler())\n",
    "            ('poly', PolynomialFeatures(degree=poly_degree, include_bias=False)),\n",
    "            ])\n",
    "    elif num_transformation is 'power_transformer':\n",
    "        num_pipe = Pipeline([\n",
    "            ('power_transformer', PowerTransformer(method='yeo-johnson')), #, standardize=False\n",
    "            ('poly', PolynomialFeatures(degree=poly_degree, include_bias=False)),\n",
    "            ])    \n",
    "        \n",
    "\n",
    "    cat_pipe = Pipeline([\n",
    "        ('one_hot_encoder', OneHotEncoder(categories=[levels_code, levels_type_house]))  # No hace nada si ya transformadas\n",
    "                                          #handle_unknown='ignore'\n",
    "        ])\n",
    "    # Las transforme antes para evitar problemas no las variables a la hora de predecir e el test_set...\n",
    "\n",
    "    preprocessor = ColumnTransformer([\n",
    "        ('num', num_pipe, num_features),\n",
    "        ('cat', cat_pipe, cat_features),\n",
    "        ]) #, remainder='passthrough'\n",
    "\n",
    "\n",
    "    pipe_estimator = Pipeline(steps=[\n",
    "        ('preprocessor', preprocessor),\n",
    "        ('imputer', SimpleImputer(strategy='constant', # esto lo puedo agnadir en los otros pipes\n",
    "                                  fill_value=None)),\n",
    "        ('regressor', regressor)\n",
    "        ])\n",
    "    \n",
    "    return pipe_estimator"
   ]
  },
  {
   "cell_type": "raw",
   "id": "d7f58c0a-4249-4411-92d2-76c2995f4bb5",
   "metadata": {},
   "source": [
    "def residuals(estimator, X_train, X_test, y_train, y_test):\n",
    "\n",
    "    fig, ax =plt.subplots(1,2,figsize=(14,6))\n",
    "\n",
    "    sns.regplot(x=y_test, y=estimator.fit(X_train, y_train).predict(X_test), \n",
    "                scatter_kws={\"color\": \"cornflowerblue\"}, line_kws={\"color\": \"red\"}, ax=ax[0])\\\n",
    "               .set_title('Actual vs Predicted')\n",
    "\n",
    "    visualizer = ResidualsPlot(estimator, ax=ax[1])\n",
    "    visualizer.fit(X_train, y_train)\n",
    "    visualizer.score(X_test, y_test)\n",
    "    visualizer.show();"
   ]
  },
  {
   "cell_type": "code",
   "execution_count": 11,
   "id": "44524b4a-9a06-458f-b958-c03cdee765fe",
   "metadata": {
    "tags": []
   },
   "outputs": [
    {
     "name": "stdout",
     "output_type": "stream",
     "text": [
      "r2 mean: 0.6385401038326001\n",
      "r2 std: 0.0363618933363959 \n",
      "\n",
      "MAE mean: -114242.50302887018\n",
      "MAE std: 5834.269903833505 \n",
      "\n",
      "MAPE mean: -0.36491816038861413\n",
      "MAPE std: 0.015013071067076713 \n",
      "\n",
      "RMSE mean: -181991.88719066608\n",
      "RMSE std: 15073.472728775814 \n",
      "\n"
     ]
    }
   ],
   "source": [
    "lr_pipe_estimator = transformer_estimator(num_transformation='power_transformer', \n",
    "                              \n",
    "                                       regressor=LinearRegression(), \n",
    "                                       poly_degree=1)\n",
    "\n",
    "scores_lr, scores_resume_lr = scores_statistics(estimator=lr_pipe_estimator, \n",
    "                                                scoring_dict=scoring, \n",
    "                                                X_train=X_train, \n",
    "                                                y_train=y_train, \n",
    "                                                cv=10, \n",
    "                                                return_train_score=False)"
   ]
  },
  {
   "cell_type": "markdown",
   "id": "9a5bd6f7-a034-48a1-8720-37e6b296748d",
   "metadata": {},
   "source": [
    "### Overfitting and Preformance Analysis"
   ]
  },
  {
   "cell_type": "markdown",
   "id": "37122528-5f26-471e-899b-22bdba9b4799",
   "metadata": {},
   "source": [
    "We can identify if a machine learning model has overfit by first evaluating the model on the training dataset and then evaluating the same model on a holdout test dataset.\n",
    "\n",
    "If the performance of the model on the training dataset is significantly better than the performance on the test dataset, then the model may have overfit the training dataset."
   ]
  },
  {
   "cell_type": "code",
   "execution_count": 12,
   "id": "8647bf6c-0d32-4cad-b305-50f51f9e8290",
   "metadata": {
    "jp-MarkdownHeadingCollapsed": true,
    "tags": []
   },
   "outputs": [
    {
     "name": "stdout",
     "output_type": "stream",
     "text": [
      "Performance on the training set:\n",
      " ----------\n",
      "R²: 0.6565418947723425\n",
      "MAE: 111329.76419252346\n",
      "MAPE: 0.35422605390252876\n",
      "RMSE: 178186.41943349098\n",
      "\n",
      "Performance on the test set:\n",
      " ----------\n",
      "R²: 0.6056919434828945\n",
      "MAE: 106990.12688294591\n",
      "MAPE: 0.3594920018529949\n",
      "RMSE: 160136.74861323944\n",
      "\n"
     ]
    }
   ],
   "source": [
    "lr = lr_pipe_estimator.fit(X_train, y_train)\n",
    "\n",
    "print('Performance on the training set:\\n', '-'*10)\n",
    "y_pred_train = lr.predict(X_train)\n",
    "metrics_regression(y_test=y_train, \n",
    "                    y_pred=y_pred_train, \n",
    "                    squared=False)\n",
    "\n",
    "print('Performance on the test set:\\n', '-'*10)\n",
    "y_pred = lr.predict(X_test)\n",
    "metrics_regression(y_test=y_test, \n",
    "                   y_pred=y_pred, \n",
    "                   squared=False)"
   ]
  },
  {
   "cell_type": "markdown",
   "id": "1db8bd07-35ce-4e84-b9b7-8143398f3ade",
   "metadata": {
    "tags": []
   },
   "source": [
    "#### Learning Curves"
   ]
  },
  {
   "cell_type": "raw",
   "id": "8efeb42e-5e25-42ee-9a84-747cb6a937c7",
   "metadata": {
    "tags": []
   },
   "source": [
    "plot_learning_curves(model=pipe_estimator, \n",
    "                     X_train=X_train, \n",
    "                     y_train=y_train, \n",
    "                     X_test=X_test, \n",
    "                     y_test=y_test,\n",
    "                     metric='mape')"
   ]
  },
  {
   "cell_type": "markdown",
   "id": "68cc37f1-55f7-47f2-a1b9-192ef4cb877e",
   "metadata": {},
   "source": [
    "The model is underfitting the training data, so we need to use more complex models or come up with better features."
   ]
  },
  {
   "cell_type": "markdown",
   "id": "aaa78ec1-c908-452b-998d-55940d214c75",
   "metadata": {},
   "source": [
    "### Residual Diagnostics"
   ]
  },
  {
   "cell_type": "code",
   "execution_count": 13,
   "id": "c83281e1-d35f-45de-94fe-122281df388b",
   "metadata": {
    "tags": []
   },
   "outputs": [
    {
     "data": {
      "image/png": "[encoded data removed]",
      "text/plain": [
       "<Figure size 1008x432 with 3 Axes>"
      ]
     },
     "metadata": {},
     "output_type": "display_data"
    }
   ],
   "source": [
    "residuals(lr_pipe_estimator, X_train, X_test, y_train, y_test)"
   ]
  },
  {
   "cell_type": "code",
   "execution_count": null,
   "id": "6f4c7ec5-ddbb-4313-85c5-22ceedfb5011",
   "metadata": {},
   "outputs": [],
   "source": []
  },
  {
   "cell_type": "markdown",
   "id": "654f6fff-86a2-458b-b6dd-9960ed554a0d",
   "metadata": {
    "tags": []
   },
   "source": [
    "## Polynomial Regression"
   ]
  },
  {
   "cell_type": "code",
   "execution_count": 14,
   "id": "b0203025-9dc1-413b-8fc3-fcf725576cd0",
   "metadata": {
    "tags": []
   },
   "outputs": [
    {
     "name": "stdout",
     "output_type": "stream",
     "text": [
      "{'preprocessor__num__poly__degree': 3}\n",
      "0.7475043994942953\n"
     ]
    }
   ],
   "source": [
    "pipe_estimator = transformer_estimator(num_transformation='power_transformer', \n",
    "                          \n",
    "                                       regressor=LinearRegression(), \n",
    "                                       poly_degree=1)\n",
    "\n",
    "grid_search = GridSearchCV(estimator=pipe_estimator, \n",
    "                           param_grid={'preprocessor__num__poly__degree': range(1, 10)}, \n",
    "                           cv=5, \n",
    "                           n_jobs=-1,\n",
    "                        #   scoring='neg_mean_squared_error',\n",
    "                        #   return_train_score=True\n",
    "                          )\n",
    "\n",
    "grid_search.fit(X_train, y_train)\n",
    "\n",
    "print(grid_search.best_params_)\n",
    "print(grid_search.best_score_)\n",
    "#grid_search.best_estimator_"
   ]
  },
  {
   "cell_type": "code",
   "execution_count": 15,
   "id": "37a8e53c-ae97-4d7b-be61-5082c226e76c",
   "metadata": {},
   "outputs": [],
   "source": [
    "#pd.DataFrame(grid_search.cv_results_) # plotearlo"
   ]
  },
  {
   "cell_type": "code",
   "execution_count": 16,
   "id": "021b8bca-16fe-41a6-8cb8-8a1e6afd93c9",
   "metadata": {
    "tags": []
   },
   "outputs": [
    {
     "name": "stdout",
     "output_type": "stream",
     "text": [
      "r2 mean: 0.7477406475852575\n",
      "r2 std: 0.032309826035726436 \n",
      "\n",
      "MAE mean: -94740.95134301903\n",
      "MAE std: 4526.274954095079 \n",
      "\n",
      "MAPE mean: -0.27526340820935996\n",
      "MAPE std: 0.011498338614606751 \n",
      "\n",
      "RMSE mean: -151783.5130225027\n",
      "RMSE std: 11768.920107460568 \n",
      "\n"
     ]
    }
   ],
   "source": [
    "pipe_estimator = transformer_estimator(num_transformation='power_transformer', \n",
    "                          \n",
    "                                         regressor=LinearRegression(),\n",
    "                                       poly_degree=3)\n",
    "\n",
    "scores = scores_statistics(estimator=pipe_estimator, \n",
    "                           scoring_dict=scoring, \n",
    "                           X_train=X_train, \n",
    "                           y_train=y_train, \n",
    "                           cv=10, \n",
    "                           return_train_score=False)"
   ]
  },
  {
   "cell_type": "markdown",
   "id": "f9bb0392-8b29-465e-bef3-b7509a01a373",
   "metadata": {},
   "source": [
    "### Overfitting Analysis"
   ]
  },
  {
   "cell_type": "code",
   "execution_count": 17,
   "id": "a928248e-a59a-42d6-bf4c-1d10033e3dc3",
   "metadata": {},
   "outputs": [
    {
     "name": "stdout",
     "output_type": "stream",
     "text": [
      "Performance on the training set:\n",
      " ----------\n",
      "R²: 0.7716279698936316\n",
      "MAE: 90819.78253894637\n",
      "MAPE: 0.26287242234593095\n",
      "RMSE: 145297.84478598036\n",
      "\n",
      "Performance on the test set:\n",
      " ----------\n",
      "R²: 0.7406695101479435\n",
      "MAE: 84580.92759424279\n",
      "MAPE: 0.2647359471186111\n",
      "RMSE: 129867.34779392317\n",
      "\n"
     ]
    }
   ],
   "source": [
    "poly = pipe_estimator.fit(X_train, y_train)\n",
    "\n",
    "print('Performance on the training set:\\n', '-'*10)\n",
    "y_pred_train = poly.predict(X_train)\n",
    "metrics_regression(y_test=y_train, \n",
    "                    y_pred=y_pred_train, \n",
    "                    squared=False)\n",
    "\n",
    "print('Performance on the test set:\\n', '-'*10)\n",
    "y_pred = poly.predict(X_test)\n",
    "metrics_regression(y_test=y_test, \n",
    "                   y_pred=y_pred, \n",
    "                   squared=False)\n"
   ]
  },
  {
   "cell_type": "code",
   "execution_count": null,
   "id": "1fe50e09-f093-47ce-ad3d-ebfa24d06bb9",
   "metadata": {},
   "outputs": [],
   "source": []
  },
  {
   "cell_type": "markdown",
   "id": "9487c930-ed93-4ec9-a72f-3de9c4028981",
   "metadata": {},
   "source": [
    "#### Learning Curves"
   ]
  },
  {
   "cell_type": "raw",
   "id": "bf3c1beb-209a-45c0-8310-928c4ea32371",
   "metadata": {},
   "source": [
    "plot_learning_curves(model=pipe_estimator, \n",
    "                     X_train=X_train, \n",
    "                     y_train=y_train, \n",
    "                     X_test=X_test, \n",
    "                     y_test=y_test,\n",
    "                     metric='mae')"
   ]
  },
  {
   "cell_type": "code",
   "execution_count": null,
   "id": "8c0ac7cb-78e7-41f5-bff9-28a1baf152dd",
   "metadata": {},
   "outputs": [],
   "source": []
  },
  {
   "cell_type": "code",
   "execution_count": 19,
   "id": "43582f70-19ae-4781-9003-189a0c9c5e1a",
   "metadata": {},
   "outputs": [
    {
     "data": {
      "image/png": "[encoded data removed]",
      "text/plain": [
       "<Figure size 1008x432 with 3 Axes>"
      ]
     },
     "metadata": {},
     "output_type": "display_data"
    }
   ],
   "source": [
    "residuals(pipe_estimator, X_train, X_test, y_train, y_test)"
   ]
  },
  {
   "cell_type": "code",
   "execution_count": null,
   "id": "cebbe932-28b4-4e4f-9141-7ba3bfcc8a7e",
   "metadata": {},
   "outputs": [],
   "source": []
  },
  {
   "cell_type": "markdown",
   "id": "f63be031-6a63-4075-9663-ea34c2a32c99",
   "metadata": {
    "tags": []
   },
   "source": [
    "## K Nearest Neighbors Regressor"
   ]
  },
  {
   "cell_type": "code",
   "execution_count": 121,
   "id": "1e6894f0-5373-498d-9c3f-2493152584e9",
   "metadata": {
    "tags": []
   },
   "outputs": [],
   "source": [
    "from sklearn.neighbors import KNeighborsRegressor"
   ]
  },
  {
   "cell_type": "raw",
   "id": "53479f98-0883-4b94-bfee-33a2dee163ab",
   "metadata": {},
   "source": [
    "num_pipe = Pipeline([\n",
    "    ('poly', PolynomialFeatures(degree=1, include_bias=False)),\n",
    "#    ('std_scaler', StandardScaler()),\n",
    "    ('power_transformer', PowerTransformer(method='yeo-johnson')),\n",
    "    ])\n",
    "\n",
    "cat_pipe = Pipeline([\n",
    "    ('one_hot_encoder', OneHotEncoder(categories=[levels_code, levels_type_house]))  #code_levels\n",
    "                                      #handle_unknown='ignore'\n",
    "    ])\n",
    "\n",
    "\n",
    "preprocessor = ColumnTransformer([\n",
    "    ('num', num_pipe, num_features),\n",
    "    ('cat', cat_pipe, cat_features),\n",
    "    ]) #, remainder='passthrough'\n",
    "\n",
    "\n",
    "knnr_pipe_est = Pipeline(steps=[\n",
    "    ('preprocessor', preprocessor),\n",
    "    ('imputer', SimpleImputer(strategy='constant', \n",
    "                              fill_value=None)),\n",
    "    ('regressor', KNeighborsRegressor())   #################\n",
    "                           ])"
   ]
  },
  {
   "cell_type": "code",
   "execution_count": 123,
   "id": "18df217c-6d1d-4bbe-9c2e-6bc68d93ef45",
   "metadata": {
    "tags": []
   },
   "outputs": [
    {
     "name": "stdout",
     "output_type": "stream",
     "text": [
      "{'preprocessor__num__poly__degree': 1, 'regressor__leaf_size': 30, 'regressor__n_neighbors': 7, 'regressor__weights': 'distance'}\n",
      "0.7524463438092918\n"
     ]
    }
   ],
   "source": [
    "pipe_estimator = transformer_estimator(num_transformation='power_transformer', \n",
    "                                       regressor=KNeighborsRegressor(), \n",
    "                                       poly_degree=1)\n",
    "\n",
    "param_grid = [\n",
    "#    {\n",
    " #       'regressor__n_neighbors': [5,10,15,20,25,30,35,40,45,50], \n",
    "  #  },\n",
    "    {\n",
    "        'preprocessor__num__poly__degree': [1,3],\n",
    "        'regressor__n_neighbors': [7],  ###########################\n",
    "        'regressor__weights': ['uniform','distance'], #,'distance'\n",
    "        'regressor__leaf_size': [30]\n",
    "    }, \n",
    "]\n",
    "\n",
    "grid_search = GridSearchCV(estimator=pipe_estimator, \n",
    "                           param_grid=param_grid,\n",
    "                           cv=3, \n",
    "                           n_jobs=-1,\n",
    "                        #   scoring='neg_mean_squared_error',\n",
    "                        #   return_train_score=True\n",
    "                          )\n",
    "\n",
    "grid_search.fit(X_train, y_train)\n",
    "\n",
    "print(grid_search.best_params_)\n",
    "print(grid_search.best_score_)"
   ]
  },
  {
   "cell_type": "raw",
   "id": "e97edce9-5ec5-47bc-8471-57fc7320e1e1",
   "metadata": {},
   "source": [
    "pd.DataFrame(grid_search.cv_results_)"
   ]
  },
  {
   "cell_type": "code",
   "execution_count": 124,
   "id": "90d11a95-3dc6-40da-894c-93c73b1bc5ee",
   "metadata": {},
   "outputs": [
    {
     "name": "stdout",
     "output_type": "stream",
     "text": [
      "r2 mean: 0.7418281398733264\n",
      "r2 std: 0.018611308789264206 \n",
      "\n",
      "MAE mean: -89904.822404627\n",
      "MAE std: 3245.1154521894887 \n",
      "\n",
      "MAPE mean: -0.24767287366449992\n",
      "MAPE std: 0.00823181830716877 \n",
      "\n",
      "RMSE mean: -153997.83834398555\n",
      "RMSE std: 9876.196137904775 \n",
      "\n"
     ]
    }
   ],
   "source": [
    "pipe_estimator = transformer_estimator(num_transformation='power_transformer', \n",
    "                                       regressor=KNeighborsRegressor(n_neighbors=7,\n",
    "                                                                     weights='uniform'), \n",
    "                                       poly_degree=1)\n",
    "\n",
    "scores = scores_statistics(estimator=pipe_estimator, \n",
    "                           scoring_dict=scoring, \n",
    "                           X_train=X_train, \n",
    "                           y_train=y_train, \n",
    "                           cv=5, \n",
    "                           return_train_score=False)"
   ]
  },
  {
   "cell_type": "markdown",
   "id": "13c8b858-8921-42e3-afa1-20c6a9c8b4d9",
   "metadata": {
    "tags": []
   },
   "source": [
    "### Overfitting Analysis"
   ]
  },
  {
   "cell_type": "markdown",
   "id": "15b9398d-3276-403b-b376-61fb6e9ce7be",
   "metadata": {},
   "source": [
    "```python\n",
    "KNeighborsRegressor(n_neighbors=5,  \n",
    "                    weights='uniform', \n",
    "                    algorithm='auto', \n",
    "                    leaf_size=30, \n",
    "                    p=2, \n",
    "                    metric='minkowski', \n",
    "                    metric_params=None, \n",
    "                    n_jobs=None)\n",
    "```"
   ]
  },
  {
   "cell_type": "code",
   "execution_count": 125,
   "id": "f3c24587-e8a3-477e-839f-11182578a073",
   "metadata": {},
   "outputs": [
    {
     "name": "stdout",
     "output_type": "stream",
     "text": [
      "Performance on the training set:\n",
      " ----------\n",
      "R²: 0.8150594093691621\n",
      "MAE: 75984.16764315467\n",
      "MAPE: 0.20857428371887576\n",
      "RMSE: 130753.65457606062\n",
      "\n",
      "Performance on the test set:\n",
      " ----------\n",
      "R²: 0.7457128445280258\n",
      "MAE: 78811.78428830697\n",
      "MAPE: 0.2275412838229052\n",
      "RMSE: 128598.34898832208\n",
      "\n"
     ]
    }
   ],
   "source": [
    "knnr = pipe_estimator.fit(X_train, y_train)\n",
    "\n",
    "print('Performance on the training set:\\n', '-'*10)\n",
    "y_pred_train = knnr.predict(X_train)\n",
    "metrics_regression(y_test=y_train, \n",
    "                   y_pred=y_pred_train, \n",
    "                   squared=False)\n",
    "\n",
    "print('Performance on the test set:\\n', '-'*10)\n",
    "y_pred = knnr.predict(X_test)\n",
    "metrics_regression(y_test=y_test, \n",
    "                   y_pred=y_pred, \n",
    "                   squared=False)"
   ]
  },
  {
   "cell_type": "markdown",
   "id": "67a32672-034e-4a7b-9549-f9a54be76d9a",
   "metadata": {
    "tags": []
   },
   "source": [
    "### Distribucion de los Errores"
   ]
  },
  {
   "cell_type": "code",
   "execution_count": 126,
   "id": "98a2e04f-484b-44ba-b343-4841c4c80e65",
   "metadata": {},
   "outputs": [
    {
     "data": {
      "image/png": "[encoded data removed]",
      "text/plain": [
       "<Figure size 576x396 with 1 Axes>"
      ]
     },
     "metadata": {},
     "output_type": "display_data"
    }
   ],
   "source": [
    "knnr = pipe_estimator.fit(X_train, y_train)\n",
    "y_pred_test = knnr.predict(X_test)\n",
    "\n",
    "fig, ax =plt.subplots(1, 1)\n",
    "ax.hist(y_pred_test - y_test, bins=20); # estamos restando a la prediccion la verdad\n",
    "# distribucion de los errores\n",
    "ax.ticklabel_format(style='plain', axis='x')"
   ]
  },
  {
   "cell_type": "code",
   "execution_count": 32,
   "id": "ef4677c3-5e91-4fa0-ad79-f3c58db332b7",
   "metadata": {},
   "outputs": [
    {
     "data": {
      "text/plain": [
       "150745.24680821932"
      ]
     },
     "execution_count": 32,
     "metadata": {},
     "output_type": "execute_result"
    }
   ],
   "source": [
    "np.std(y_pred_test - y_test)"
   ]
  },
  {
   "cell_type": "markdown",
   "id": "bd5a9815-ef39-43be-ae3d-1791a38f31f7",
   "metadata": {
    "jp-MarkdownHeadingCollapsed": true,
    "tags": []
   },
   "source": [
    "## Decision Tree Regressor"
   ]
  },
  {
   "cell_type": "raw",
   "id": "91fbd16e-d4bf-4345-95f3-6b3c669b3419",
   "metadata": {
    "tags": []
   },
   "source": [
    "num_pipe = Pipeline([\n",
    "#    ('std_scaler', StandardScaler()),\n",
    "    ('power_transformer', PowerTransformer(method='yeo-johnson')),\n",
    "    ('poly', PolynomialFeatures(degree=1, include_bias=False)),\n",
    "    ])\n",
    "\n",
    "cat_pipe = Pipeline([\n",
    "    ('one_hot_encoder', OneHotEncoder(categories=[levels_code, levels_type_house]))  #code_levels\n",
    "                                      #handle_unknown='ignore'\n",
    "    ])\n",
    "\n",
    "\n",
    "preprocessor = ColumnTransformer([\n",
    "    ('num', num_pipe, num_features),\n",
    "    ('cat', cat_pipe, cat_features),\n",
    "    ]) #, remainder='passthrough'\n",
    "\n",
    "\n",
    "dtr_pipe_estimator = Pipeline(steps=[\n",
    "    ('preprocessor', preprocessor),\n",
    "    ('imputer', SimpleImputer(strategy='constant', \n",
    "                              fill_value=None)),\n",
    "    ('regressor', DecisionTreeRegressor()) # max_depth=9spoiler\n",
    "                           ])"
   ]
  },
  {
   "cell_type": "code",
   "execution_count": 129,
   "id": "8418217a-600e-4196-92ff-a6e185bd9c84",
   "metadata": {
    "tags": []
   },
   "outputs": [
    {
     "name": "stdout",
     "output_type": "stream",
     "text": [
      "{'preprocessor__num__poly__degree': 3, 'regressor__max_depth': 10, 'regressor__max_leaf_nodes': 68, 'regressor__min_samples_leaf': 15, 'regressor__min_samples_split': 43}\n",
      "0.7369323993592258\n"
     ]
    }
   ],
   "source": [
    "pipe_estimator = transformer_estimator(num_transformation='power_transformer', \n",
    "                                       regressor=DecisionTreeRegressor(),\n",
    "                                       poly_degree=1)\n",
    "\n",
    "grid_search = GridSearchCV(estimator=pipe_estimator, \n",
    "                           param_grid={\n",
    "                               'preprocessor__num__poly__degree': [1,3], #[1,2,3,4],\n",
    "                               'regressor__max_depth': [6,7,8,9,10], #range(5, 15), #[2,3,4,5,6,7]\n",
    "                               'regressor__min_samples_leaf': [12,13,14,15,16,17,18], #range(8, 20),\n",
    "                               'regressor__min_samples_split': [43], #[2, 43],\n",
    "                               'regressor__max_leaf_nodes': [68],\n",
    "                         #      'regressor__max_features':,\n",
    "                           }, \n",
    "                           cv=5, \n",
    "                           n_jobs=-1,\n",
    "                        #   scoring='neg_mean_squared_error',\n",
    "                        #   return_train_score=True\n",
    "                          )\n",
    "\n",
    "grid_search.fit(X_train, y_train)\n",
    "print(grid_search.best_params_)\n",
    "print(grid_search.best_score_)\n"
   ]
  },
  {
   "cell_type": "code",
   "execution_count": 95,
   "id": "bc94cc2e-635b-4b5c-8c8c-d39566b683c5",
   "metadata": {},
   "outputs": [],
   "source": [
    "#pd.DataFrame(grid_search.cv_results_)"
   ]
  },
  {
   "cell_type": "code",
   "execution_count": 135,
   "id": "9adfb000-e88d-4da8-99b1-6c45d78f3a4a",
   "metadata": {},
   "outputs": [
    {
     "name": "stdout",
     "output_type": "stream",
     "text": [
      "r2 mean: 0.7331814478476076\n",
      "r2 std: 0.028372689775701898 \n",
      "\n",
      "MAE mean: -96572.4625943238\n",
      "MAE std: 3297.1573413373985 \n",
      "\n",
      "MAPE mean: -0.2835667358527566\n",
      "MAPE std: 0.010014120352926946 \n",
      "\n",
      "RMSE mean: -156196.28818747768\n",
      "RMSE std: 7874.2177010644755 \n",
      "\n"
     ]
    }
   ],
   "source": [
    "pipe_estimator = transformer_estimator(num_transformation='power_transformer', \n",
    "                                       regressor=DecisionTreeRegressor(max_depth=9,\n",
    "                                                                       min_samples_leaf=16,  #16\n",
    "                                                                       min_samples_split=43,\n",
    "                                                                       max_leaf_nodes=68),\n",
    "                                       poly_degree=3)\n",
    "\n",
    "scores = scores_statistics(estimator=pipe_estimator, \n",
    "                           scoring_dict=scoring, \n",
    "                           X_train=X_train, \n",
    "                           y_train=y_train, \n",
    "                           cv=5, \n",
    "                           return_train_score=False)"
   ]
  },
  {
   "cell_type": "markdown",
   "id": "33890bc5-eccf-4cfa-841e-6a4839fc9ff4",
   "metadata": {},
   "source": [
    "### Overfitting Analysis"
   ]
  },
  {
   "cell_type": "code",
   "execution_count": 136,
   "id": "e926339a-e23f-46c9-a3dc-581d96460b25",
   "metadata": {},
   "outputs": [
    {
     "name": "stdout",
     "output_type": "stream",
     "text": [
      "Performance on the training set:\n",
      " ----------\n",
      "R²: 0.8008473747585837\n",
      "MAE: 85552.19462641659\n",
      "MAPE: 0.26211445584421766\n",
      "RMSE: 135684.65476892248\n",
      "\n",
      "Performance on the test set:\n",
      " ----------\n",
      "R²: 0.7177525126625025\n",
      "MAE: 85736.68112194739\n",
      "MAPE: 0.2668021321855172\n",
      "RMSE: 135484.0664780164\n",
      "\n"
     ]
    }
   ],
   "source": [
    "dtr = pipe_estimator.fit(X_train, y_train)\n",
    "\n",
    "print('Performance on the training set:\\n', '-'*10)\n",
    "y_pred_train = dtr.predict(X_train)\n",
    "metrics_regression(y_test=y_train, \n",
    "                   y_pred=y_pred_train, \n",
    "                   squared=False)\n",
    "\n",
    "print('Performance on the test set:\\n', '-'*10)\n",
    "y_pred = dtr.predict(X_test)\n",
    "metrics_regression(y_test=y_test, \n",
    "                   y_pred=y_pred, \n",
    "                   squared=False)"
   ]
  },
  {
   "cell_type": "code",
   "execution_count": null,
   "id": "a9f23f39-c434-4b61-b263-5c97f940ca1a",
   "metadata": {},
   "outputs": [],
   "source": []
  },
  {
   "cell_type": "raw",
   "id": "a9ed348b-f318-46bb-a94c-68e14f3e4230",
   "metadata": {},
   "source": [
    "dtr_pipe_estimator.get_params()"
   ]
  },
  {
   "cell_type": "raw",
   "id": "f5790c0f-9f8a-4410-98e2-2b6b4224d935",
   "metadata": {},
   "source": [
    "#!pip install dtreeviz   # libreria para ver los arboles\n",
    "#!sudo apt-get install python3-graphviz"
   ]
  },
  {
   "cell_type": "raw",
   "id": "08acf5ec-f41e-4d17-8027-deb4a294b849",
   "metadata": {},
   "source": [
    "from dtreeviz.trees import dtreeviz"
   ]
  },
  {
   "cell_type": "raw",
   "id": "114ad2b7-2199-4fea-a651-800d8de250a9",
   "metadata": {},
   "source": [
    "from sklearn.tree import export_graphviz"
   ]
  },
  {
   "cell_type": "code",
   "execution_count": null,
   "id": "b0425201-8f3d-4d4f-9771-0c6d8616261b",
   "metadata": {},
   "outputs": [],
   "source": []
  },
  {
   "cell_type": "code",
   "execution_count": null,
   "id": "303e1cc5-1f3c-4f63-aaa7-73e4b987215d",
   "metadata": {},
   "outputs": [],
   "source": []
  },
  {
   "cell_type": "raw",
   "id": "7af7cbd0-6d3b-4387-bdc7-534b9442fa00",
   "metadata": {},
   "source": [
    "plot_learning_curves(model=dtr_pipe_estimator, \n",
    "                     X_train=X_train, \n",
    "                     y_train=y_train, \n",
    "                     X_test=X_test, \n",
    "                     y_test=y_test)"
   ]
  },
  {
   "cell_type": "code",
   "execution_count": null,
   "id": "ba154c4d-4dec-4918-b7e0-439a59a072af",
   "metadata": {},
   "outputs": [],
   "source": []
  },
  {
   "cell_type": "raw",
   "id": "94528b32-0277-424b-bee1-d813941afe57",
   "metadata": {},
   "source": [
    "sns.regplot(x=y_test, y=dtr_pipe_estimator.fit(X_train, y_train).predict(X_test), \n",
    "            scatter_kws={\"color\": \"cornflowerblue\"}, line_kws={\"color\": \"red\"})\\\n",
    "           .set_title('Actual vs Predicted');"
   ]
  },
  {
   "cell_type": "markdown",
   "id": "898d621f-ce4e-4b84-bc9b-b7a1b2175ed1",
   "metadata": {},
   "source": [
    "### Distribucion de los Errores"
   ]
  },
  {
   "cell_type": "code",
   "execution_count": 137,
   "id": "3a7c0539-8dce-4973-ab13-d003cef45739",
   "metadata": {},
   "outputs": [
    {
     "data": {
      "image/png": "[encoded data removed]",
      "text/plain": [
       "<Figure size 576x396 with 1 Axes>"
      ]
     },
     "metadata": {},
     "output_type": "display_data"
    }
   ],
   "source": [
    "dtr = pipe_estimator.fit(X_train, y_train)\n",
    "y_pred_test = dtr.predict(X_test)\n",
    "\n",
    "fig, ax =plt.subplots(1, 1)\n",
    "ax.hist(y_pred_test - y_test, bins=20); # estamos restando a la prediccion la verdad\n",
    "# distribucion de los errores\n",
    "ax.ticklabel_format(style='plain', axis='x')"
   ]
  },
  {
   "cell_type": "code",
   "execution_count": 39,
   "id": "f444d506-c00f-432e-b6b7-ef9499d9e2ee",
   "metadata": {},
   "outputs": [
    {
     "data": {
      "text/plain": [
       "141847.0997683639"
      ]
     },
     "execution_count": 39,
     "metadata": {},
     "output_type": "execute_result"
    }
   ],
   "source": [
    "np.std(y_pred_test - y_test)"
   ]
  },
  {
   "cell_type": "code",
   "execution_count": null,
   "id": "e0151028-0129-400d-8fd4-badec245a2b8",
   "metadata": {},
   "outputs": [],
   "source": []
  },
  {
   "cell_type": "markdown",
   "id": "164e4778-c368-46ea-b5df-93872f7d68c0",
   "metadata": {
    "jp-MarkdownHeadingCollapsed": true,
    "tags": []
   },
   "source": [
    "## Voting Regressor with Basic Algorithms"
   ]
  },
  {
   "cell_type": "code",
   "execution_count": 99,
   "id": "082da174-5ec4-4984-bd68-d6ac09c97b1e",
   "metadata": {},
   "outputs": [],
   "source": [
    "from sklearn.ensemble import VotingRegressor"
   ]
  },
  {
   "cell_type": "code",
   "execution_count": 100,
   "id": "2c77b453-bfbf-40d7-b314-fef81ac10324",
   "metadata": {},
   "outputs": [],
   "source": [
    "scoring_comp = {'r2': 'r2',\n",
    "                'MAPE': 'neg_mean_absolute_percentage_error'}"
   ]
  },
  {
   "cell_type": "raw",
   "id": "d3f16d5b-4596-44ac-b188-72e9afdbf2f2",
   "metadata": {},
   "source": [
    "polyr = poly_pipe_estimator\n",
    "knnr = knnr_pipe_est\n",
    "dtr = dtr_pipe_estimator\n",
    "rfr = rfr_pipe_est\n",
    "\n",
    "voting_reg = VotingRegressor(\n",
    "    estimators=[('poly', polyr),('knn', knnr),('dt', dtr)], #('rfr',rfr)\n",
    "   # weights= ,\n",
    ")\n",
    "\n",
    "models_dict = {'Polynomial Regression': polyr, \n",
    "               'K Nearest Neighbors Regressor': knnr, \n",
    "               'Decission Tree Regressor': dtr, \n",
    "             #  'Random Forest Regressor': rfr,\n",
    "               'Voting Regressor': voting_reg}\n",
    "\n",
    "for key in models_dict:\n",
    "    print(key)  \n",
    "    scores = compare_models(estimator=models_dict[key], \n",
    "                            scoring_dict=scoring_comp, \n",
    "                            X_train=X_train, \n",
    "                            y_train=y_train, \n",
    "                            cv=10, \n",
    "                            return_train_score=False)"
   ]
  },
  {
   "cell_type": "markdown",
   "id": "5d0174e6-955d-4776-ab75-47b841cc5238",
   "metadata": {},
   "source": [
    "Con el random forest mejora un poco pero el rfr sigue siendo mejor"
   ]
  },
  {
   "cell_type": "raw",
   "id": "bc4bacf2-62bb-4491-8939-e4620cc2bc7c",
   "metadata": {},
   "source": [
    "voting_reg.fit(X_train, y_train)\n",
    "\n",
    "print('Performance on the training set:\\n', '-'*10)\n",
    "y_pred_train = voting_reg.predict(X_train)\n",
    "metrics_regression(y_test=y_train, \n",
    "                   y_pred=y_pred_train, \n",
    "                   squared=False)\n",
    "\n",
    "print('Performance on the test set:\\n', '-'*10)\n",
    "y_pred = voting_reg.predict(X_test)\n",
    "metrics_regression(y_test=y_test, \n",
    "                   y_pred=y_pred, \n",
    "                   squared=False)"
   ]
  },
  {
   "cell_type": "code",
   "execution_count": 139,
   "id": "fddf134f-051a-47a1-8195-afa518b05867",
   "metadata": {},
   "outputs": [
    {
     "data": {
      "text/plain": [
       "{'poly': 0.33683582637423143,\n",
       " 'knn': 0.3280260622189593,\n",
       " 'dt': 0.33513811140680927}"
      ]
     },
     "execution_count": 139,
     "metadata": {},
     "output_type": "execute_result"
    }
   ],
   "source": [
    "models_r2 = {'poly': 73.41, 'knn': 71.49, 'dt': 73.04}\n",
    "\n",
    "tot = 0\n",
    "for key in models_r2:\n",
    "    tot += models_r2[key]\n",
    "\n",
    "models_weigth = {}\n",
    "models_weigth_list = []\n",
    "for key in models_r2:\n",
    "    weight = models_r2[key] / tot\n",
    "    models_weigth[key] = weight\n",
    "    models_weigth_list.append(weight)\n",
    "models_weigth\n",
    "#models_weigth_list"
   ]
  },
  {
   "cell_type": "code",
   "execution_count": 140,
   "id": "44de04a2-bc87-4d07-a5af-73f85aa9fea4",
   "metadata": {},
   "outputs": [
    {
     "name": "stdout",
     "output_type": "stream",
     "text": [
      "Polynomial Regression\n",
      "r2 mean: 0.7477406278774177\n",
      "MAPE mean: -0.2752633944219248\n",
      "----------\n",
      "K Nearest Neighbors Regressor\n",
      "r2 mean: 0.742996312910319\n",
      "MAPE mean: -0.2463997356120617\n",
      "----------\n",
      "Decission Tree Regressor\n",
      "r2 mean: 0.735067030803128\n",
      "MAPE mean: -0.28139453120598595\n",
      "----------\n",
      "Voting Regressor\n",
      "r2 mean: 0.7957129451377274\n",
      "MAPE mean: -0.23190572621127528\n",
      "----------\n"
     ]
    }
   ],
   "source": [
    "polyr = transformer_estimator(num_transformation='power_transformer', \n",
    "                              regressor=LinearRegression(), \n",
    "                              poly_degree=3)\n",
    "knnr = transformer_estimator(num_transformation='power_transformer', \n",
    "                             regressor=KNeighborsRegressor(n_neighbors=7,\n",
    "                                                           weights='uniform'), \n",
    "                             poly_degree=1)\n",
    "dtr = transformer_estimator(num_transformation='power_transformer', \n",
    "                            regressor=DecisionTreeRegressor(max_depth=9,\n",
    "                                                            min_samples_leaf=16,  #16\n",
    "                                                            min_samples_split=43,\n",
    "                                                            max_leaf_nodes=68),\n",
    "                            poly_degree=3)\n",
    "\n",
    "voting_reg = VotingRegressor(\n",
    "    estimators= [('poly', polyr),('knn', knnr),('dt', dtr)], #('rfr',rfr)\n",
    "    weights= models_weigth_list,\n",
    ")\n",
    "\n",
    "models_dict = {'Polynomial Regression': polyr, \n",
    "               'K Nearest Neighbors Regressor': knnr, \n",
    "               'Decission Tree Regressor': dtr, \n",
    "             #  'Random Forest Regressor': rfr,\n",
    "               'Voting Regressor': voting_reg}\n",
    "\n",
    "for key in models_dict:\n",
    "    print(key)  \n",
    "    scores = compare_models(estimator=models_dict[key], \n",
    "                            scoring_dict=scoring_comp, \n",
    "                            X_train=X_train, \n",
    "                            y_train=y_train, \n",
    "                            cv=10, \n",
    "                            return_train_score=False)"
   ]
  },
  {
   "cell_type": "code",
   "execution_count": 141,
   "id": "27a0520e-0f1b-4b09-9fea-5c11605e2abc",
   "metadata": {},
   "outputs": [
    {
     "name": "stdout",
     "output_type": "stream",
     "text": [
      "Performance on the training set:\n",
      " ----------\n",
      "R²: 0.8401053188786644\n",
      "MAE: 73256.82498370217\n",
      "MAPE: 0.21166046659606494\n",
      "RMSE: 121577.92439973805\n",
      "\n",
      "Performance on the test set:\n",
      " ----------\n",
      "R²: 0.7962897430082039\n",
      "MAE: 72195.74720817365\n",
      "MAPE: 0.22227676940381616\n",
      "RMSE: 115101.14115730893\n",
      "\n"
     ]
    }
   ],
   "source": [
    "voting_reg.fit(X_train, y_train)\n",
    "\n",
    "print('Performance on the training set:\\n', '-'*10)\n",
    "y_pred_train = voting_reg.predict(X_train)\n",
    "metrics_regression(y_test=y_train, \n",
    "                   y_pred=y_pred_train, \n",
    "                   squared=False)\n",
    "\n",
    "print('Performance on the test set:\\n', '-'*10)\n",
    "y_pred = voting_reg.predict(X_test)\n",
    "metrics_regression(y_test=y_test, \n",
    "                   y_pred=y_pred, \n",
    "                   squared=False)"
   ]
  },
  {
   "cell_type": "code",
   "execution_count": null,
   "id": "bb5e50fe-5336-4b24-89c7-00e52af4647a",
   "metadata": {},
   "outputs": [],
   "source": []
  },
  {
   "cell_type": "markdown",
   "id": "f36b8366-b63f-4195-b4ea-6ca0dc3ccca3",
   "metadata": {
    "jp-MarkdownHeadingCollapsed": true,
    "tags": []
   },
   "source": [
    "## Bagging with Polynomial Regression"
   ]
  },
  {
   "cell_type": "code",
   "execution_count": 143,
   "id": "f8a0195f-3304-4a2d-aae9-0739318013a3",
   "metadata": {},
   "outputs": [],
   "source": [
    "from sklearn.ensemble import BaggingRegressor"
   ]
  },
  {
   "cell_type": "code",
   "execution_count": 144,
   "id": "eb37092e-3e6c-4985-af0a-8b8074c95792",
   "metadata": {
    "tags": []
   },
   "outputs": [
    {
     "data": {
      "text/plain": [
       "'\\n    base_estimator=LinearRegression(),\\n    n_estimators=500, \\n    max_samples=2000, \\n#    max_features=1.0, \\n#    bootstrap=True, \\n#    bootstrap_features=False, \\n#    oob_score=True, \\n#    warm_start=False, \\n    n_jobs=-1, \\n    random_state=42, \\n#    verbose=0\\n----------------\\nR²: 0.7724293692138182\\nR²: 0.7353834187513661\\n'"
      ]
     },
     "execution_count": 144,
     "metadata": {},
     "output_type": "execute_result"
    }
   ],
   "source": [
    "bag_regression = BaggingRegressor(\n",
    "    \n",
    "    base_estimator=LinearRegression(),\n",
    "    n_estimators=500, \n",
    "    max_samples=3000, \n",
    "#    max_features=50, \n",
    "#    bootstrap=True, \n",
    "#    bootstrap_features=False, \n",
    "#    oob_score=True, \n",
    "#    warm_start=False, \n",
    "    n_jobs=-1, \n",
    "    random_state=42, \n",
    "#    verbose=0\n",
    ")\n",
    "\n",
    "'''\n",
    "    base_estimator=LinearRegression(),\n",
    "    n_estimators=500, \n",
    "    max_samples=2000, \n",
    "#    max_features=1.0, \n",
    "#    bootstrap=True, \n",
    "#    bootstrap_features=False, \n",
    "#    oob_score=True, \n",
    "#    warm_start=False, \n",
    "    n_jobs=-1, \n",
    "    random_state=42, \n",
    "#    verbose=0\n",
    "----------------\n",
    "R²: 0.7724293692138182\n",
    "R²: 0.7353834187513661\n",
    "'''"
   ]
  },
  {
   "cell_type": "raw",
   "id": "26438b2f-555e-45be-bc9f-7c14329ebf4c",
   "metadata": {},
   "source": [
    "num_pipe = Pipeline([\n",
    "    ('poly', PolynomialFeatures(degree=3, include_bias=False)),\n",
    "    ('std_scaler', StandardScaler()),\n",
    "    ])\n",
    "\n",
    "cat_pipe = Pipeline([\n",
    "    ('one_hot_encoder', OneHotEncoder(categories=[levels_code, levels_type_house]))  #code_levels\n",
    "                                      #handle_unknown='ignore'\n",
    "    ])\n",
    "\n",
    "\n",
    "preprocessor = ColumnTransformer([\n",
    "    ('num', num_pipe, num_features),\n",
    "    ('cat', cat_pipe, cat_features),\n",
    "    ]) #, remainder='passthrough'\n",
    "\n",
    "\n",
    "br_pipe_estimator = Pipeline(steps=[\n",
    "    ('preprocessor', preprocessor),\n",
    "    ('imputer', SimpleImputer(strategy='constant', \n",
    "                              fill_value=None)),\n",
    "    ('regressor', bag_regression)\n",
    "                           ])"
   ]
  },
  {
   "cell_type": "code",
   "execution_count": 171,
   "id": "f1af64a4-d996-4ab4-a128-6d3fa39363da",
   "metadata": {
    "tags": []
   },
   "outputs": [
    {
     "name": "stdout",
     "output_type": "stream",
     "text": [
      "r2 mean: 0.7466659406013886\n",
      "r2 std: 0.016944771320615285 \n",
      "\n",
      "MAE mean: -95318.31887764904\n",
      "MAE std: 2816.7350285341413 \n",
      "\n",
      "MAPE mean: -0.27773746805763644\n",
      "MAPE std: 0.009304170112419215 \n",
      "\n",
      "RMSE mean: -152483.7050849386\n",
      "RMSE std: 7757.79636076238 \n",
      "\n"
     ]
    }
   ],
   "source": [
    "bag_poly_pipe_estimator = transformer_estimator(num_transformation='power_transformer', \n",
    "                                       regressor=bag_regression, \n",
    "                                       poly_degree=3)\n",
    "\n",
    "scores = scores_statistics(estimator=bag_poly_pipe_estimator, \n",
    "                           scoring_dict=scoring, \n",
    "                           X_train=X_train, \n",
    "                           y_train=y_train, \n",
    "                           cv=5, \n",
    "                           return_train_score=False)"
   ]
  },
  {
   "cell_type": "code",
   "execution_count": 147,
   "id": "9ea9e36e-aefa-4ba1-8151-36ecfb96aaf3",
   "metadata": {},
   "outputs": [
    {
     "name": "stdout",
     "output_type": "stream",
     "text": [
      "Performance on the training set:\n",
      " ----------\n",
      "R²: 0.7710889141564048\n",
      "MAE: 90983.37902115498\n",
      "MAPE: 0.2637427368344847\n",
      "RMSE: 145469.22626370302\n",
      "\n",
      "Performance on the test set:\n",
      " ----------\n",
      "R²: 0.7406412443524848\n",
      "MAE: 84531.85683341564\n",
      "MAPE: 0.2642208070554524\n",
      "RMSE: 129874.42506407372\n",
      "\n"
     ]
    }
   ],
   "source": [
    "bag_reg = bag_poly_pipe_estimator.fit(X_train, y_train)\n",
    "\n",
    "print('Performance on the training set:\\n', '-'*10)\n",
    "y_pred_train = bag_reg.predict(X_train)\n",
    "metrics_regression(y_test=y_train, \n",
    "                    y_pred=y_pred_train, \n",
    "                    squared=False)\n",
    "\n",
    "print('Performance on the test set:\\n', '-'*10)\n",
    "y_pred = bag_reg.predict(X_test)\n",
    "metrics_regression(y_test=y_test, \n",
    "                   y_pred=y_pred, \n",
    "                   squared=False)"
   ]
  },
  {
   "cell_type": "code",
   "execution_count": null,
   "id": "0fbfabdd-0b24-479b-bbfd-a30ded98216c",
   "metadata": {},
   "outputs": [],
   "source": []
  },
  {
   "cell_type": "code",
   "execution_count": null,
   "id": "c1805072-47f3-4d07-9182-53627b85f3e3",
   "metadata": {},
   "outputs": [],
   "source": []
  },
  {
   "cell_type": "code",
   "execution_count": null,
   "id": "e6f6dc75-37e2-4837-8c91-8dea7e23055a",
   "metadata": {},
   "outputs": [],
   "source": []
  },
  {
   "cell_type": "code",
   "execution_count": null,
   "id": "11ebd24c-4885-4679-9614-403877a0aa7b",
   "metadata": {},
   "outputs": [],
   "source": []
  },
  {
   "cell_type": "code",
   "execution_count": null,
   "id": "a7edea7a-17fd-448c-a351-3c50d2e0e212",
   "metadata": {},
   "outputs": [],
   "source": []
  },
  {
   "cell_type": "markdown",
   "id": "ec145ada-90e4-44f5-90b7-65a3754db7b5",
   "metadata": {
    "jp-MarkdownHeadingCollapsed": true,
    "tags": []
   },
   "source": [
    "## Random Forest Regressor"
   ]
  },
  {
   "cell_type": "raw",
   "id": "0ab595ac-92e6-416c-8800-f7500ec8570e",
   "metadata": {
    "tags": []
   },
   "source": [
    "num_pipe = Pipeline([\n",
    "    ('std_scaler', StandardScaler()),\n",
    "    ('poly', PolynomialFeatures(degree=1, include_bias=False)),\n",
    "    ])\n",
    "\n",
    "cat_pipe = Pipeline([\n",
    "    ('one_hot_encoder', OneHotEncoder(categories=[levels_code, levels_type_house]))  #code_levels\n",
    "                                      #handle_unknown='ignore'\n",
    "    ])\n",
    "\n",
    "\n",
    "preprocessor = ColumnTransformer([\n",
    "    ('num', num_pipe, num_features),\n",
    "    ('cat', cat_pipe, cat_features),\n",
    "    ]) #, remainder='passthrough'\n",
    "\n",
    "\n",
    "rfr_pipe_est = Pipeline(steps=[\n",
    "    ('preprocessor', preprocessor),\n",
    "    ('imputer', SimpleImputer(strategy='constant', \n",
    "                              fill_value=None)),\n",
    "    ('regressor', RandomForestRegressor(n_estimators=100, \n",
    "                               #         *, \n",
    "                                        criterion='squared_error',\n",
    "                                        max_depth=None, \n",
    "                                        min_samples_split=2, \n",
    "                                        min_samples_leaf=1, \n",
    "                                        min_weight_fraction_leaf=0.0, \n",
    "                                        max_features='auto', \n",
    "                                        max_leaf_nodes=None, \n",
    "                                        min_impurity_decrease=0.0, \n",
    "                                        bootstrap=True, \n",
    "                                        oob_score=False, \n",
    "                                        n_jobs=None, \n",
    "                                        random_state=None, \n",
    "                                        verbose=0, \n",
    "                                        warm_start=False, \n",
    "                                        ccp_alpha=0.0, \n",
    "                                        max_samples=None)\n",
    "    )\n",
    "                           ])"
   ]
  },
  {
   "cell_type": "raw",
   "id": "f7423f3d-8b64-430c-b380-1a3ffb67a179",
   "metadata": {
    "jp-MarkdownHeadingCollapsed": true,
    "tags": []
   },
   "source": [
    "param_grid = [\n",
    "    {\n",
    "#        'preprocessor__num__poly__degree': [1, 3],\n",
    "        'regressor__n_estimators': [320], \n",
    "        'regressor__max_depth': [9],#[10],\n",
    "        'regressor__min_samples_split':range(30, 50), #[43],\n",
    "        'regressor__min_samples_leaf': range(5, 20),#[16],\n",
    "        'regressor__max_leaf_nodes': range(40, 80),#[68],\n",
    "        'regressor__n_jobs': [-1],\n",
    "    },\n",
    "    #{'regressor__n_estimators': range(41,70)}, #[3,10,30,40,50,60]\n",
    "]\n",
    "\n",
    "\n",
    "grid_search = GridSearchCV(estimator=rfr_pipe_est, \n",
    "                           param_grid=param_grid,\n",
    "                           cv=5, \n",
    "                           n_jobs=-1,\n",
    "                        #   scoring='neg_mean_squared_error',\n",
    "                        #   return_train_score=True\n",
    "                          )\n",
    "\n",
    "grid_search.fit(X_train, y_train)\n",
    "\n",
    "print(grid_search.best_params_)\n",
    "print(grid_search.best_score_)"
   ]
  },
  {
   "cell_type": "code",
   "execution_count": null,
   "id": "62aaff64-8aec-49f1-b9ec-8072fe42fbb0",
   "metadata": {},
   "outputs": [],
   "source": [
    "#pd.DataFrame(grid_search.cv_results_).tail()"
   ]
  },
  {
   "cell_type": "code",
   "execution_count": 170,
   "id": "a758dfce-b4d7-4913-9287-09303da71d80",
   "metadata": {},
   "outputs": [
    {
     "name": "stdout",
     "output_type": "stream",
     "text": [
      "r2 mean: 0.8167379127041533\n",
      "r2 std: 0.0247462822520955 \n",
      "\n",
      "MAE mean: -74994.58602624404\n",
      "MAE std: 3414.9526905681064 \n",
      "\n",
      "MAPE mean: -0.211879490341008\n",
      "MAPE std: 0.007395139167502591 \n",
      "\n",
      "RMSE mean: -129428.68771850066\n",
      "RMSE std: 10036.62715182907 \n",
      "\n"
     ]
    }
   ],
   "source": [
    "rfr_pipe_estimator = transformer_estimator(num_transformation='power_transformer', \n",
    "                                       regressor=RandomForestRegressor(\n",
    "                                                      n_estimators=320, \n",
    "                                              #        max_depth=9,  # 9\n",
    "                                               #       min_samples_split=20,  # 43\n",
    "                                                #      min_samples_leaf=16,   #16\n",
    "                                                 #     max_leaf_nodes=68,   #68\n",
    "                                                      n_jobs=-1), \n",
    "                                       poly_degree=1)\n",
    "\n",
    "scores = scores_statistics(estimator=rfr_pipe_estimator, \n",
    "                           scoring_dict=scoring, \n",
    "                           X_train=X_train, \n",
    "                           y_train=y_train, \n",
    "                           cv=5, \n",
    "                           return_train_score=False)"
   ]
  },
  {
   "cell_type": "code",
   "execution_count": 151,
   "id": "98c2f017-b53b-4bc7-bd4a-19ad225407da",
   "metadata": {},
   "outputs": [
    {
     "name": "stdout",
     "output_type": "stream",
     "text": [
      "Performance on the training set:\n",
      " ----------\n",
      "R²: 0.9752638990090787\n",
      "MAE: 27243.564228116753\n",
      "MAPE: 0.07695016020719202\n",
      "RMSE: 47819.31369595795\n",
      "\n",
      "Performance on the test set:\n",
      " ----------\n",
      "R²: 0.8022839727084141\n",
      "MAE: 65359.69656846858\n",
      "MAPE: 0.19610825651797534\n",
      "RMSE: 113395.05575410472\n",
      "\n"
     ]
    }
   ],
   "source": [
    "rfr = rfr_pipe_estimator.fit(X_train, y_train)\n",
    "\n",
    "print('Performance on the training set:\\n', '-'*10)\n",
    "y_pred_train = rfr.predict(X_train)\n",
    "metrics_regression(y_test=y_train, \n",
    "                   y_pred=y_pred_train, \n",
    "                   squared=False)\n",
    "\n",
    "print('Performance on the test set:\\n', '-'*10)\n",
    "y_pred = rfr.predict(X_test)\n",
    "metrics_regression(y_test=y_test, \n",
    "                   y_pred=y_pred, \n",
    "                   squared=False)"
   ]
  },
  {
   "cell_type": "markdown",
   "id": "518d3eb5-2940-4e18-a9c6-dc896e8c9ad2",
   "metadata": {},
   "source": [
    "The model is overfitting the training data. Necesitamos regularizar!!"
   ]
  },
  {
   "cell_type": "raw",
   "id": "ad5a47a4-0e1d-4261-839d-2db30c66ccff",
   "metadata": {},
   "source": [
    "plot_learning_curves(model=rfr_pipe_est, \n",
    "                     X_train=X_train, \n",
    "                     y_train=y_train, \n",
    "                     X_test=X_test, \n",
    "                     y_test=y_test)"
   ]
  },
  {
   "cell_type": "code",
   "execution_count": null,
   "id": "e506bfae-fbe3-4d0d-a404-ada160ecc2ce",
   "metadata": {},
   "outputs": [],
   "source": []
  },
  {
   "cell_type": "raw",
   "id": "34d718cf-0861-430c-9a49-f7e1b447f629",
   "metadata": {},
   "source": [
    "sns.regplot(x=y_test, y=rfr_pipe_est.fit(X_train, y_train).predict(X_test), \n",
    "            scatter_kws={\"color\": \"cornflowerblue\"}, line_kws={\"color\": \"red\"})\\\n",
    "           .set_title('Actual vs Predicted');"
   ]
  },
  {
   "cell_type": "code",
   "execution_count": null,
   "id": "d2ccd60e-92d2-4913-8bfb-0fbada034967",
   "metadata": {},
   "outputs": [],
   "source": []
  },
  {
   "cell_type": "raw",
   "id": "99604797-37d2-4db1-9d4b-7baaa92aae66",
   "metadata": {},
   "source": [
    "rfr_pipe_est.feature_importances_"
   ]
  },
  {
   "cell_type": "markdown",
   "id": "0e9573c5-6b03-4eeb-8203-e02b06f8333b",
   "metadata": {
    "tags": []
   },
   "source": [
    "## Extremely Randomized Trees"
   ]
  },
  {
   "cell_type": "code",
   "execution_count": 53,
   "id": "4ddf2e11-e818-4d1d-9a00-64c7c6c50868",
   "metadata": {},
   "outputs": [],
   "source": [
    "from sklearn.ensemble import ExtraTreesRegressor"
   ]
  },
  {
   "cell_type": "raw",
   "id": "de12fe5d-9fd0-4fc8-a6f3-df49d197d159",
   "metadata": {},
   "source": [
    "param_grid = [\n",
    "    {\n",
    "#        'preprocessor__num__poly__degree': [1, 3],\n",
    "        'regressor__n_estimators': [95,100,105,110,115], \n",
    " #       'regressor__max_depth': range(2, 15),#[10],\n",
    "  #      'regressor__min_samples_split':range(30, 50), #[43],\n",
    "   #     'regressor__min_samples_leaf': range(5, 20),#[16],\n",
    "    #    'regressor__max_leaf_nodes': range(40, 80),#[68],\n",
    "     #   'regressor__n_jobs': [-1],\n",
    "    },\n",
    "    #{'regressor__n_estimators': range(41,70)}, #[3,10,30,40,50,60]\n",
    "]\n",
    "\n",
    "\n",
    "grid_search = GridSearchCV(estimator=etr_pipe_est, \n",
    "                           param_grid=param_grid,\n",
    "                           cv=5, \n",
    "                           n_jobs=-1,\n",
    "                        #   scoring='neg_mean_squared_error',\n",
    "                        #   return_train_score=True\n",
    "                          )\n",
    "\n",
    "grid_search.fit(X_train, y_train)\n",
    "\n",
    "print(grid_search.best_params_)\n",
    "print(grid_search.best_score_)"
   ]
  },
  {
   "cell_type": "code",
   "execution_count": 54,
   "id": "a9d12ac2-ba71-49d9-864d-ce6aa37a1eb1",
   "metadata": {},
   "outputs": [
    {
     "name": "stdout",
     "output_type": "stream",
     "text": [
      "r2 mean: 0.7987142666074785\n",
      "r2 std: 0.035184048933931636 \n",
      "\n",
      "MAE mean: -77522.11259743333\n",
      "MAE std: 3806.1322204644243 \n",
      "\n",
      "MAPE mean: -0.21541244375802293\n",
      "MAPE std: 0.007993268687988667 \n",
      "\n",
      "RMSE mean: -135259.1036606323\n",
      "RMSE std: 12648.181006872166 \n",
      "\n"
     ]
    }
   ],
   "source": [
    "etr_pipe_estimator = transformer_estimator(num_transformation='power_transformer', \n",
    "                                       regressor=ExtraTreesRegressor(n_estimators=100, \n",
    "                                                                     max_depth=None, \n",
    "                                                                     min_samples_split=2, \n",
    "                                                                     min_samples_leaf=1, \n",
    "                                                                     min_weight_fraction_leaf=0.0, \n",
    "                                                                     max_features='auto', \n",
    "                                                                     max_leaf_nodes=None, \n",
    "                                                                     min_impurity_decrease=0.0, \n",
    "                                                                     bootstrap=False, \n",
    "                                                                     oob_score=False, \n",
    "                                                                     n_jobs=-1, \n",
    "                                                                     random_state=None, \n",
    "                                                                     verbose=0, \n",
    "                                                                     warm_start=False, \n",
    "                                                                     ccp_alpha=0.0, \n",
    "                                                                     max_samples=None), \n",
    "                                       poly_degree=1)\n",
    "\n",
    "scores = scores_statistics(estimator=etr_pipe_estimator, \n",
    "                           scoring_dict=scoring, \n",
    "                           X_train=X_train, \n",
    "                           y_train=y_train, \n",
    "                           cv=10, \n",
    "                           return_train_score=False)"
   ]
  },
  {
   "cell_type": "code",
   "execution_count": 55,
   "id": "29cba6e1-dc73-41f5-8fbc-c6a16547876b",
   "metadata": {},
   "outputs": [
    {
     "name": "stdout",
     "output_type": "stream",
     "text": [
      "Performance on the training set:\n",
      " ----------\n",
      "R²: 0.9998439992922274\n",
      "MAE: 106.55238705543096\n",
      "MAPE: 0.0001628800565987213\n",
      "RMSE: 3797.5281383487845\n",
      "\n",
      "Performance on the test set:\n",
      " ----------\n",
      "R²: 0.7849289574853389\n",
      "MAE: 68855.48098911071\n",
      "MAPE: 0.2033826941190739\n",
      "RMSE: 118267.15541986255\n",
      "\n"
     ]
    }
   ],
   "source": [
    "etr = etr_pipe_estimator.fit(X_train, y_train)\n",
    "\n",
    "print('Performance on the training set:\\n', '-'*10)\n",
    "y_pred_train = etr.predict(X_train)\n",
    "metrics_regression(y_test=y_train, \n",
    "                   y_pred=y_pred_train, \n",
    "                   squared=False)\n",
    "\n",
    "print('Performance on the test set:\\n', '-'*10)\n",
    "y_pred = etr.predict(X_test)\n",
    "metrics_regression(y_test=y_test, \n",
    "                   y_pred=y_pred, \n",
    "                   squared=False)"
   ]
  },
  {
   "cell_type": "code",
   "execution_count": 68,
   "id": "1614a2d5-8eca-4fd8-99b8-5cebc247b179",
   "metadata": {},
   "outputs": [
    {
     "data": {
      "image/png": "[encoded data removed]",
      "text/plain": [
       "<Figure size 1008x432 with 3 Axes>"
      ]
     },
     "metadata": {},
     "output_type": "display_data"
    }
   ],
   "source": [
    "def residuals(estimator, X_train, X_test, y_train, y_test):\n",
    "\n",
    "    fig, ax =plt.subplots(1,2,figsize=(14,6))\n",
    "\n",
    "    sns.regplot(x=y_test, y=estimator.fit(X_train, y_train).predict(X_test), \n",
    "                scatter_kws={\"color\": \"cornflowerblue\"}, line_kws={\"color\": \"red\"}, ax=ax[0])\\\n",
    "               .set_title('Actual vs Predicted')\n",
    "\n",
    "    visualizer = ResidualsPlot(estimator, ax=ax[1])\n",
    "    visualizer.fit(X_train, y_train)\n",
    "    visualizer.score(X_test, y_test)\n",
    "    visualizer.show();\n",
    "    \n",
    "residuals(etr_pipe_estimator, X_train, X_test, y_train, y_test)"
   ]
  },
  {
   "cell_type": "raw",
   "id": "05fabcfd-d286-4d74-aed9-f35d4bd21663",
   "metadata": {},
   "source": [
    "fig, ax =plt.subplots(1,2,figsize=(14,6))\n",
    "\n",
    "sns.regplot(x=y_test, y=etr_pipe_estimator.fit(X_train, y_train).predict(X_test), \n",
    "            scatter_kws={\"color\": \"cornflowerblue\"}, line_kws={\"color\": \"red\"}, ax=ax[0])\n",
    "\n",
    "y_pred = etr_pipe_estimator.fit(X_train, y_train).predict(X_train)\n",
    "residuals = y_train - y_pred\n",
    "sns.regplot(x=y_train, y=residuals, \n",
    "            scatter_kws={\"color\": \"cornflowerblue\"}, line_kws={\"color\": \"red\"}, ax=ax[1])\n",
    "'''\n",
    "y_pred = etr_pipe_estimator.fit(X_train, y_train).predict(X_test)\n",
    "residuals = y_test - y_pred\n",
    "sns.regplot(x=y_test, y=residuals, \n",
    "            scatter_kws={\"color\": \"cornflowerblue\"}, line_kws={\"color\": \"red\"}, ax=ax[1])\n",
    "'''"
   ]
  },
  {
   "cell_type": "raw",
   "id": "8334fc1a-6a48-483c-ae61-089bdfabec0c",
   "metadata": {},
   "source": [
    "from statsmodels.nonparametric.smoothers_lowess import lowess\n",
    "\n",
    "val_residuals = y_train - etr.predict(X_train)\n",
    "test_residuals = y_test - y_pred\n",
    "\n",
    "# print descriptive statistics\n",
    "print('Validation Residuals MEAN: ', val_residuals.mean())\n",
    "print('Test Residuals MEAN: ', test_residuals.mean())\n",
    "\n",
    "# Plot Actual vs Test Predictions and Actual vs Validation Predictions\n",
    "fig, ax =plt.subplots(1,2,figsize=(10,5))\n",
    "fig.suptitle('Gradient Boosting Model: Fitted values vs Residuals', fontsize=16, fontweight='bold')\n",
    "fig.tight_layout()\n",
    "fig.subplots_adjust(top=0.85, wspace=0.2)\n",
    "\n",
    "smoothed_val = lowess(val_residuals,y_val)\n",
    "smoothed_test = lowess(test_residuals,y_val)\n",
    "ax[0].plot(smoothed_val[:,0],smoothed_val[:,1],color = 'r')\n",
    "ax[1].plot(smoothed_test[:,0],smoothed_test[:,1],color = 'r')\n",
    "\n",
    "\n",
    "sns.regplot(y_val.head(5000), val_residuals[:5000],ax=ax[0],fit_reg=False,\n",
    "           scatter_kws={\"color\": \"cornflowerblue\"}, line_kws={\"color\": \"red\"}) \\\n",
    "            .set_title('Validation')\n",
    "sns.regplot(y_test.head(5000), test_residuals[:5000],  ax=ax[1],fit_reg=False,\n",
    "           scatter_kws={\"color\": \"cornflowerblue\"}, line_kws={\"color\": \"red\"}) \\\n",
    "            .set_title('Test')\n",
    "\n",
    "ax[0].set_xlabel(\"Fitted values\")\n",
    "ax[0].set_ylabel(\"Residuals\")\n",
    "ax[1].set_xlabel(\"Fitted values\")\n",
    "ax[1].set_ylabel(\"Residuals\")"
   ]
  },
  {
   "cell_type": "markdown",
   "id": "08bcee86-b96c-4d4c-94ad-9fc2717056e3",
   "metadata": {
    "jp-MarkdownHeadingCollapsed": true,
    "tags": []
   },
   "source": [
    "## AdaBoost"
   ]
  },
  {
   "cell_type": "code",
   "execution_count": 158,
   "id": "f44d6a55-14a6-4ecb-b5d5-ac8165d1ac57",
   "metadata": {},
   "outputs": [],
   "source": [
    "from sklearn.ensemble import AdaBoostRegressor"
   ]
  },
  {
   "cell_type": "raw",
   "id": "22871c23-3964-4f4c-859e-27784e31d0b5",
   "metadata": {
    "tags": []
   },
   "source": [
    "num_pipe = Pipeline([\n",
    "    ('std_scaler', StandardScaler()),\n",
    "    ('poly', PolynomialFeatures(degree=1, include_bias=False)),\n",
    "    ])\n",
    "\n",
    "cat_pipe = Pipeline([\n",
    "    ('one_hot_encoder', OneHotEncoder(categories=[levels_code, levels_type_house]))  #code_levels\n",
    "                                      #handle_unknown='ignore'\n",
    "    ])\n",
    "\n",
    "\n",
    "preprocessor = ColumnTransformer([\n",
    "    ('num', num_pipe, num_features),\n",
    "    ('cat', cat_pipe, cat_features),\n",
    "    ]) #, remainder='passthrough'\n",
    "\n",
    "\n",
    "adaboost_pipe_est = Pipeline(steps=[\n",
    "    ('preprocessor', preprocessor),\n",
    "    ('imputer', SimpleImputer(strategy='constant', \n",
    "                              fill_value=None)),\n",
    "    ('regressor', AdaBoostRegressor(base_estimator=DecisionTreeRegressor(), \n",
    "                              #      *, \n",
    "                                    n_estimators=50, \n",
    "                                    learning_rate=1.0, \n",
    "                                    loss='linear', \n",
    "                                    random_state=42))\n",
    "                           ])"
   ]
  },
  {
   "cell_type": "raw",
   "id": "ab6caab7-51ea-4849-8a3f-a21e37aeb58f",
   "metadata": {},
   "source": [
    "param_grid = [\n",
    "    {\n",
    "#        'preprocessor__num__poly__degree': [1, 3],\n",
    "        'regressor__n_estimators': [2,3,4,5,6,7,8,9,10,50], \n",
    " #       'regressor__max_depth': range(2, 15),#[10],\n",
    "  #      'regressor__min_samples_split':range(30, 50), #[43],\n",
    "   #     'regressor__min_samples_leaf': range(5, 20),#[16],\n",
    "    #    'regressor__max_leaf_nodes': range(40, 80),#[68],\n",
    "     #   'regressor__n_jobs': [-1],\n",
    "    },\n",
    "    #{'regressor__n_estimators': range(41,70)}, #[3,10,30,40,50,60]\n",
    "]\n",
    "\n",
    "\n",
    "grid_search = GridSearchCV(estimator=adaboost_pipe_est, \n",
    "                           param_grid=param_grid,\n",
    "                           cv=5, \n",
    "                           n_jobs=-1,\n",
    "                        #   scoring='neg_mean_squared_error',\n",
    "                        #   return_train_score=True\n",
    "                          )\n",
    "\n",
    "grid_search.fit(X_train, y_train)\n",
    "\n",
    "print(grid_search.best_params_)\n",
    "print(grid_search.best_score_)"
   ]
  },
  {
   "cell_type": "code",
   "execution_count": 160,
   "id": "3697e3d4-43bb-45b6-82db-b876c34a2cdb",
   "metadata": {},
   "outputs": [
    {
     "name": "stdout",
     "output_type": "stream",
     "text": [
      "r2 mean: 0.6087111797331102\n",
      "r2 std: 0.04381340847533776 \n",
      "\n",
      "MAE mean: -124239.51266233542\n",
      "MAE std: 5199.447956531263 \n",
      "\n",
      "MAPE mean: -0.40192079821847726\n",
      "MAPE std: 0.015902904767572827 \n",
      "\n",
      "RMSE mean: -189105.7788374017\n",
      "RMSE std: 14474.746715075167 \n",
      "\n"
     ]
    }
   ],
   "source": [
    "pipe_estimator = transformer_estimator(num_transformation='power_transformer', \n",
    "                                       regressor=AdaBoostRegressor(base_estimator=None, \n",
    "                                                                   n_estimators=3, \n",
    "                                                                   learning_rate=1.0, \n",
    "                                                                   loss='linear', \n",
    "                                                                   random_state=42), \n",
    "                                       poly_degree=1)\n",
    "\n",
    "scores = scores_statistics(estimator=pipe_estimator, \n",
    "                           scoring_dict=scoring, \n",
    "                           X_train=X_train, \n",
    "                           y_train=y_train, \n",
    "                           cv=10, \n",
    "                           return_train_score=False)"
   ]
  },
  {
   "cell_type": "code",
   "execution_count": 161,
   "id": "642eef15-34e0-411a-abf9-2cbf6e089092",
   "metadata": {},
   "outputs": [
    {
     "name": "stdout",
     "output_type": "stream",
     "text": [
      "Performance on the training set:\n",
      " ----------\n",
      "R²: 0.6496616334989983\n",
      "MAE: 121953.28611895665\n",
      "MAPE: 0.39926011871918493\n",
      "RMSE: 179962.31304278632\n",
      "\n",
      "Performance on the test set:\n",
      " ----------\n",
      "R²: 0.5863296801050738\n",
      "MAE: 110892.0045826529\n",
      "MAPE: 0.38014765838014686\n",
      "RMSE: 164021.34247290366\n",
      "\n"
     ]
    }
   ],
   "source": [
    "adaboost = pipe_estimator.fit(X_train, y_train)\n",
    "\n",
    "print('Performance on the training set:\\n', '-'*10)\n",
    "y_pred_train = adaboost.predict(X_train)\n",
    "metrics_regression(y_test=y_train, \n",
    "                   y_pred=y_pred_train, \n",
    "                   squared=False)\n",
    "\n",
    "print('Performance on the test set:\\n', '-'*10)\n",
    "y_pred = adaboost.predict(X_test)\n",
    "metrics_regression(y_test=y_test, \n",
    "                   y_pred=y_pred, \n",
    "                   squared=False)"
   ]
  },
  {
   "cell_type": "markdown",
   "id": "211d7e47-a44e-4368-b098-d67183a9607a",
   "metadata": {
    "jp-MarkdownHeadingCollapsed": true,
    "tags": []
   },
   "source": [
    "## Gradient Boosting Regressor"
   ]
  },
  {
   "cell_type": "code",
   "execution_count": 162,
   "id": "477cf01d-900a-4a43-b6b7-62433c4d59e7",
   "metadata": {},
   "outputs": [],
   "source": [
    "from sklearn.ensemble import GradientBoostingRegressor"
   ]
  },
  {
   "cell_type": "code",
   "execution_count": null,
   "id": "1a7ef6e1-cc7e-4abb-93fe-5c5240f11a06",
   "metadata": {},
   "outputs": [],
   "source": []
  },
  {
   "cell_type": "raw",
   "id": "710e0808-cd7b-4843-a7bb-04b30caf1fb5",
   "metadata": {
    "tags": []
   },
   "source": [
    "num_pipe = Pipeline([\n",
    "    ('std_scaler', StandardScaler()),\n",
    "    ('poly', PolynomialFeatures(degree=1, include_bias=False)),\n",
    "    ])\n",
    "\n",
    "cat_pipe = Pipeline([\n",
    "    ('one_hot_encoder', OneHotEncoder(categories=[levels_code, levels_type_house]))  #code_levels\n",
    "                                      #handle_unknown='ignore'\n",
    "    ])\n",
    "\n",
    "\n",
    "preprocessor = ColumnTransformer([\n",
    "    ('num', num_pipe, num_features),\n",
    "    ('cat', cat_pipe, cat_features),\n",
    "    ]) #, remainder='passthrough'\n",
    "\n",
    "\n",
    "gb_pipe_est = Pipeline(steps=[\n",
    "    ('preprocessor', preprocessor),\n",
    "    ('imputer', SimpleImputer(strategy='constant', \n",
    "                              fill_value=None)),\n",
    "    ('regressor', GradientBoostingRegressor())\n",
    "                           ])"
   ]
  },
  {
   "cell_type": "raw",
   "id": "22b03cf2-badc-4438-aaf8-d3599aba4569",
   "metadata": {},
   "source": [
    "param_grid = [\n",
    "    {\n",
    "#        'preprocessor__num__poly__degree': [1, 3],\n",
    "        'regressor__n_estimators': [2,3,4,5,6,7,8,9,10,50], \n",
    " #       'regressor__max_depth': range(2, 15),#[10],\n",
    "  #      'regressor__min_samples_split':range(30, 50), #[43],\n",
    "   #     'regressor__min_samples_leaf': range(5, 20),#[16],\n",
    "    #    'regressor__max_leaf_nodes': range(40, 80),#[68],\n",
    "     #   'regressor__n_jobs': [-1],\n",
    "    },\n",
    "    #{'regressor__n_estimators': range(41,70)}, #[3,10,30,40,50,60]\n",
    "]\n",
    "\n",
    "\n",
    "grid_search = GridSearchCV(estimator=adaboost_pipe_est, \n",
    "                           param_grid=param_grid,\n",
    "                           cv=5, \n",
    "                           n_jobs=-1,\n",
    "                        #   scoring='neg_mean_squared_error',\n",
    "                        #   return_train_score=True\n",
    "                          )\n",
    "\n",
    "grid_search.fit(X_train, y_train)\n",
    "\n",
    "print(grid_search.best_params_)\n",
    "print(grid_search.best_score_)"
   ]
  },
  {
   "cell_type": "code",
   "execution_count": null,
   "id": "7db0cf96-7e52-4539-a533-d1c654ce4565",
   "metadata": {},
   "outputs": [],
   "source": [
    "gb_pipe_est = Pipeline(steps=[\n",
    "    ('preprocessor', preprocessor),\n",
    "    ('imputer', SimpleImputer(strategy='constant', \n",
    "                              fill_value=None)),\n",
    "    ('regressor', AdaBoostRegressor(base_estimator=None, \n",
    "                              #      *, \n",
    "                                    n_estimators=3, \n",
    "                                    learning_rate=1.0, \n",
    "                                    loss='linear', \n",
    "                                    random_state=42))\n",
    "                           ])\n",
    "gb_pipe_estimator = transformer_estimator(num_transformation='power_transformer', \n",
    "                                       regressor=AdaBoostRegressor(base_estimator=None, \n",
    "                                                                   n_estimators=3, \n",
    "                                                                   learning_rate=1.0, \n",
    "                                                                   loss='linear', \n",
    "                                                                   random_state=42), \n",
    "                                       poly_degree=1)\n",
    "\n",
    "scores = scores_statistics(estimator=gb_pipe_est, \n",
    "                           scoring_dict=scoring, \n",
    "                           X_train=X_train, \n",
    "                           y_train=y_train, \n",
    "                           cv=10, \n",
    "                           return_train_score=False)"
   ]
  },
  {
   "cell_type": "code",
   "execution_count": null,
   "id": "e5b029b0-5d04-42e0-bdc0-bc1e9ee3762a",
   "metadata": {},
   "outputs": [],
   "source": [
    "gboost = gb_pipe_est.fit(X_train, y_train)\n",
    "\n",
    "print('Performance on the training set:\\n', '-'*10)\n",
    "y_pred_train = gboost.predict(X_train)\n",
    "metrics_regression(y_test=y_train, \n",
    "                   y_pred=y_pred_train, \n",
    "                   squared=False)\n",
    "\n",
    "print('Performance on the test set:\\n', '-'*10)\n",
    "y_pred = gboost.predict(X_test)\n",
    "metrics_regression(y_test=y_test, \n",
    "                   y_pred=y_pred, \n",
    "                   squared=False)"
   ]
  },
  {
   "cell_type": "code",
   "execution_count": null,
   "id": "396c2f25-0a7a-4adc-959c-e0d509166de2",
   "metadata": {},
   "outputs": [],
   "source": []
  },
  {
   "cell_type": "markdown",
   "id": "62597b80-776d-494a-bbbc-be3c17bc8f42",
   "metadata": {
    "jp-MarkdownHeadingCollapsed": true,
    "tags": []
   },
   "source": [
    "## Extreme Gradient Boosting"
   ]
  },
  {
   "cell_type": "code",
   "execution_count": 164,
   "id": "3d78883c-9941-4ce2-8306-6b0a4e5230b8",
   "metadata": {},
   "outputs": [],
   "source": [
    "from xgboost import XGBRegressor"
   ]
  },
  {
   "cell_type": "raw",
   "id": "a9436cd7-af25-45c0-850f-94159e5d0e8e",
   "metadata": {
    "tags": []
   },
   "source": [
    "num_pipe = Pipeline([\n",
    "    ('std_scaler', StandardScaler()),\n",
    "    ('poly', PolynomialFeatures(degree=1, include_bias=False)),\n",
    "    ])\n",
    "\n",
    "cat_pipe = Pipeline([\n",
    "    ('one_hot_encoder', OneHotEncoder(categories=[levels_code, levels_type_house]))  #code_levels\n",
    "                                      #handle_unknown='ignore'\n",
    "    ])\n",
    "\n",
    "\n",
    "preprocessor = ColumnTransformer([\n",
    "    ('num', num_pipe, num_features),\n",
    "    ('cat', cat_pipe, cat_features),\n",
    "    ]) #, remainder='passthrough'\n",
    "\n",
    "\n",
    "\n",
    "\n",
    "xgb_pipe_est = Pipeline(steps=[\n",
    "    ('preprocessor', preprocessor),\n",
    "    ('imputer', SimpleImputer(strategy='constant', \n",
    "                              fill_value=None)),\n",
    "    ('regressor', XGBRegressor())\n",
    "                           ])"
   ]
  },
  {
   "cell_type": "raw",
   "id": "fb5e10d0-2aae-41a7-88cf-93fdf8572d6e",
   "metadata": {},
   "source": [
    "import xgboost as xgb\n",
    "\n",
    "xgb_clf = xgb.XGBClassifier()\n",
    "args = {'max_depth': 10, 'learning_rate': 0.343, 'booster': 'gbtree',\n",
    "        'n_jobs': 0, 'scale_pos_weight': 0.1, 'n_estimators': 100}\n",
    "xgb_clf.set_params(**args)"
   ]
  },
  {
   "cell_type": "raw",
   "id": "2211e587-8d95-4cd6-b382-cffc9082c643",
   "metadata": {
    "tags": []
   },
   "source": [
    "grid_search = GridSearchCV(estimator=xgb_pipe_est, \n",
    "                           param_grid={'regressor__n_estimators': [75,80,85,90,95,100,105,110,115,120,125]},\n",
    "                           cv=5, \n",
    "                           n_jobs=-1,\n",
    "                        #   scoring='neg_mean_squared_error',\n",
    "                        #   return_train_score=True\n",
    "                          )\n",
    "\n",
    "grid_search.fit(X_train, y_train)\n",
    "\n",
    "print(grid_search.best_params_)\n",
    "print(grid_search.best_score_)"
   ]
  },
  {
   "cell_type": "code",
   "execution_count": 202,
   "id": "905073ce-2014-4213-9230-800b52c0b65c",
   "metadata": {},
   "outputs": [
    {
     "name": "stdout",
     "output_type": "stream",
     "text": [
      "r2 mean: 0.8156261612493475\n",
      "r2 std: 0.04096074483664341 \n",
      "\n",
      "MAE mean: -75472.35727565104\n",
      "MAE std: 3983.1304498350905 \n",
      "\n",
      "MAPE mean: -0.21142660774858588\n",
      "MAPE std: 0.008916689870084867 \n",
      "\n",
      "RMSE mean: -128976.76948800625\n",
      "RMSE std: 11850.054757381997 \n",
      "\n"
     ]
    }
   ],
   "source": [
    "xgb_pipe_estimator = transformer_estimator(num_transformation='power_transformer', \n",
    "                                       regressor=XGBRegressor(n_estimators= 105), \n",
    "                                       poly_degree=1)\n",
    "\n",
    "scores = scores_statistics(estimator=xgb_pipe_estimator, \n",
    "                           scoring_dict=scoring, \n",
    "                           X_train=X_train, \n",
    "                           y_train=y_train, \n",
    "                           cv=10, \n",
    "                           return_train_score=False)"
   ]
  },
  {
   "cell_type": "code",
   "execution_count": 166,
   "id": "b908134e-b62e-4a96-883e-cc74262c418b",
   "metadata": {},
   "outputs": [
    {
     "name": "stdout",
     "output_type": "stream",
     "text": [
      "Performance on the training set:\n",
      " ----------\n",
      "R²: 0.9566673253316019\n",
      "MAE: 43095.73254953841\n",
      "MAPE: 0.13845925600346715\n",
      "RMSE: 63291.511041600905\n",
      "\n",
      "Performance on the test set:\n",
      " ----------\n",
      "R²: 0.8062390595590501\n",
      "MAE: 66075.18432395645\n",
      "MAPE: 0.19430881134359762\n",
      "RMSE: 112255.15604881509\n",
      "\n"
     ]
    }
   ],
   "source": [
    "xgb = xgb_pipe_estimator.fit(X_train, y_train)\n",
    "\n",
    "print('Performance on the training set:\\n', '-'*10)\n",
    "y_pred_train = xgb.predict(X_train)\n",
    "metrics_regression(y_test=y_train, \n",
    "                   y_pred=y_pred_train, \n",
    "                   squared=False)\n",
    "\n",
    "print('Performance on the test set:\\n', '-'*10)\n",
    "y_pred = xgb.predict(X_test)\n",
    "metrics_regression(y_test=y_test, \n",
    "                   y_pred=y_pred, \n",
    "                   squared=False)"
   ]
  },
  {
   "cell_type": "code",
   "execution_count": null,
   "id": "94795d4d-f379-4fce-b719-f9e8057bdb85",
   "metadata": {},
   "outputs": [],
   "source": []
  },
  {
   "cell_type": "markdown",
   "id": "23635d28-9382-4601-8495-664ba795eb90",
   "metadata": {
    "jp-MarkdownHeadingCollapsed": true,
    "tags": []
   },
   "source": [
    "## Voting Regressor with Ensemble Methods"
   ]
  },
  {
   "cell_type": "code",
   "execution_count": 172,
   "id": "beef36b1-11f6-4bea-af9e-a1a4fcf75464",
   "metadata": {},
   "outputs": [
    {
     "data": {
      "text/plain": [
       "{'poly': 0.23231012658227848,\n",
       " 'rfr': 0.2560759493670886,\n",
       " 'etr': 0.2587025316455696,\n",
       " 'xgb': 0.2529113924050633}"
      ]
     },
     "execution_count": 172,
     "metadata": {},
     "output_type": "execute_result"
    }
   ],
   "source": [
    "models_r2 = {'poly': 73.41, 'rfr': 80.92, 'etr': 81.75, 'xgb': 79.92} # estoy usando las del train set, no las del test set com antes \n",
    "\n",
    "tot = 0\n",
    "for key in models_r2:\n",
    "    tot += models_r2[key]\n",
    "\n",
    "models_weigth = {}\n",
    "models_weigth_list = []\n",
    "for key in models_r2:\n",
    "    weight = models_r2[key] / tot\n",
    "    models_weigth[key] = weight\n",
    "    models_weigth_list.append(weight)\n",
    "models_weigth\n",
    "#models_weigth_list"
   ]
  },
  {
   "cell_type": "code",
   "execution_count": 174,
   "id": "32b900d2-3614-464f-84b4-aaac0ba6329c",
   "metadata": {},
   "outputs": [
    {
     "name": "stdout",
     "output_type": "stream",
     "text": [
      "Polynomial Regression\n"
     ]
    },
    {
     "name": "stderr",
     "output_type": "stream",
     "text": [
      "/home/javier/anaconda3/envs/tfm/lib/python3.7/site-packages/sklearn/preprocessing/_data.py:3237: RuntimeWarning: divide by zero encountered in log\n",
      "  loglike = -n_samples / 2 * np.log(x_trans.var())\n",
      "/home/javier/anaconda3/envs/tfm/lib/python3.7/site-packages/sklearn/preprocessing/_data.py:3237: RuntimeWarning: divide by zero encountered in log\n",
      "  loglike = -n_samples / 2 * np.log(x_trans.var())\n"
     ]
    },
    {
     "name": "stdout",
     "output_type": "stream",
     "text": [
      "r2 mean: 0.7292553071146599\n",
      "MAPE mean: -0.2794610181293449\n",
      "----------\n",
      "Random Forest Regressor\n",
      "r2 mean: 0.8175478662677577\n",
      "MAPE mean: -0.20973263653327173\n",
      "----------\n",
      "Extra Trees Regressor\n",
      "r2 mean: 0.798224519502141\n",
      "MAPE mean: -0.21580515230414204\n",
      "----------\n",
      "XGBoost\n",
      "r2 mean: 0.8156261612493475\n",
      "MAPE mean: -0.21142660774858588\n",
      "----------\n",
      "Voting Regressor\n"
     ]
    },
    {
     "name": "stderr",
     "output_type": "stream",
     "text": [
      "/home/javier/anaconda3/envs/tfm/lib/python3.7/site-packages/sklearn/preprocessing/_data.py:3237: RuntimeWarning: divide by zero encountered in log\n",
      "  loglike = -n_samples / 2 * np.log(x_trans.var())\n",
      "/home/javier/anaconda3/envs/tfm/lib/python3.7/site-packages/sklearn/preprocessing/_data.py:3237: RuntimeWarning: divide by zero encountered in log\n",
      "  loglike = -n_samples / 2 * np.log(x_trans.var())\n"
     ]
    },
    {
     "name": "stdout",
     "output_type": "stream",
     "text": [
      "r2 mean: 0.8238246608724588\n",
      "MAPE mean: -0.20698566826837733\n",
      "----------\n"
     ]
    }
   ],
   "source": [
    "polyr = poly_pipe_estimator\n",
    "rfr = rfr_pipe_estimator\n",
    "etr = etr_pipe_estimator\n",
    "egb = xgb_pipe_estimator\n",
    "\n",
    "voting_regressor = VotingRegressor(\n",
    "    estimators= [('poly', polyr),\n",
    "                 ('rf', rfr),\n",
    "                 ('et', etr),\n",
    "                 ('egb', egb)], #('rfr',rfr)\n",
    "    weights= models_weigth_list,\n",
    ")\n",
    "\n",
    "models_dict = {'Polynomial Regression': polyr, \n",
    "               'Random Forest Regressor': rfr, \n",
    "               'Extra Trees Regressor': etr,\n",
    "               'XGBoost': egb,\n",
    "               'Voting Regressor': voting_regressor}\n",
    "\n",
    "for key in models_dict:\n",
    "    print(key)  \n",
    "    scores = compare_models(estimator=models_dict[key], \n",
    "                            scoring_dict=scoring_comp, \n",
    "                            X_train=X_train, \n",
    "                            y_train=y_train, \n",
    "                            cv=10, \n",
    "                            return_train_score=False)"
   ]
  },
  {
   "cell_type": "code",
   "execution_count": 175,
   "id": "e88292a5-4e4b-4e75-b1bb-b35dd3815592",
   "metadata": {},
   "outputs": [
    {
     "name": "stderr",
     "output_type": "stream",
     "text": [
      "/home/javier/anaconda3/envs/tfm/lib/python3.7/site-packages/sklearn/preprocessing/_data.py:3237: RuntimeWarning: divide by zero encountered in log\n",
      "  loglike = -n_samples / 2 * np.log(x_trans.var())\n"
     ]
    },
    {
     "name": "stdout",
     "output_type": "stream",
     "text": [
      "Performance on the training set:\n",
      " ----------\n",
      "R²: 0.964680196401373\n",
      "MAE: 36433.18227696468\n",
      "MAPE: 0.1068311627272619\n",
      "RMSE: 57140.87100748259\n",
      "\n",
      "Performance on the test set:\n",
      " ----------\n",
      "R²: 0.8165362270037648\n",
      "MAE: 65381.343107356945\n",
      "MAPE: 0.1968170093883336\n",
      "RMSE: 109231.61163896728\n",
      "\n"
     ]
    }
   ],
   "source": [
    "voting_regressor.fit(X_train, y_train)\n",
    "\n",
    "print('Performance on the training set:\\n', '-'*10)\n",
    "y_pred_train = voting_regressor.predict(X_train)\n",
    "metrics_regression(y_test=y_train, \n",
    "                   y_pred=y_pred_train, \n",
    "                   squared=False)\n",
    "\n",
    "print('Performance on the test set:\\n', '-'*10)\n",
    "y_pred = voting_regressor.predict(X_test)\n",
    "metrics_regression(y_test=y_test, \n",
    "                   y_pred=y_pred, \n",
    "                   squared=False)"
   ]
  },
  {
   "cell_type": "code",
   "execution_count": null,
   "id": "e74d979a-4040-423a-9af3-85012d750843",
   "metadata": {},
   "outputs": [],
   "source": []
  },
  {
   "cell_type": "markdown",
   "id": "3a0146b0-cfd3-473f-9548-2b1f72fadb30",
   "metadata": {},
   "source": [
    "Y si en lugar de usar el Polynomial Regression usamos el Voting Regressor with Basic Algorithms?"
   ]
  },
  {
   "cell_type": "code",
   "execution_count": 176,
   "id": "054200c6-42d7-4948-82e5-b8e76e42b60d",
   "metadata": {},
   "outputs": [
    {
     "data": {
      "text/plain": [
       "{'voting_reg': 0.24285268414481895,\n",
       " 'rfr': 0.2525593008739076,\n",
       " 'etr': 0.2551498127340824,\n",
       " 'xgb': 0.249438202247191}"
      ]
     },
     "execution_count": 176,
     "metadata": {},
     "output_type": "execute_result"
    }
   ],
   "source": [
    "models_r2 = {'voting_reg': 77.81, 'rfr': 80.92, 'etr': 81.75, 'xgb': 79.92} # estoy usando las del train set, no las del test set com antes \n",
    "\n",
    "tot = 0\n",
    "for key in models_r2:\n",
    "    tot += models_r2[key]\n",
    "\n",
    "models_weigth = {}\n",
    "models_weigth_list = []\n",
    "for key in models_r2:\n",
    "    weight = models_r2[key] / tot\n",
    "    models_weigth[key] = weight\n",
    "    models_weigth_list.append(weight)\n",
    "models_weigth\n",
    "#models_weigth_list"
   ]
  },
  {
   "cell_type": "code",
   "execution_count": 178,
   "id": "ba528454-da2a-4a0b-ae92-b7806459b8d8",
   "metadata": {},
   "outputs": [
    {
     "name": "stdout",
     "output_type": "stream",
     "text": [
      "Voting Regressor BA\n",
      "r2 mean: 0.7956753642729896\n",
      "MAPE mean: -0.23194382501195018\n",
      "----------\n",
      "Random Forest Regressor\n",
      "r2 mean: 0.8176598013688274\n",
      "MAPE mean: -0.20995311541832015\n",
      "----------\n",
      "Extra Trees Regressor\n",
      "r2 mean: 0.7970490296865991\n",
      "MAPE mean: -0.21597581613147304\n",
      "----------\n",
      "XGBoost\n",
      "r2 mean: 0.8156261612493475\n",
      "MAPE mean: -0.21142660774858588\n",
      "----------\n",
      "Voting Regressor\n",
      "r2 mean: 0.7966976913460638\n",
      "MAPE mean: -0.23195671096666287\n",
      "----------\n"
     ]
    }
   ],
   "source": [
    "voting_reg = voting_reg\n",
    "rfr = rfr_pipe_estimator\n",
    "etr = etr_pipe_estimator\n",
    "egb = xgb_pipe_estimator\n",
    "\n",
    "voting_regressor = VotingRegressor(\n",
    "    estimators= [('voting_reg', voting_reg),\n",
    "                 ('rf', rfr),\n",
    "                 ('et', etr),\n",
    "                 ('egb', egb)], #('rfr',rfr)\n",
    "    weights= models_weigth_list,\n",
    ")\n",
    "\n",
    "models_dict = {'Voting Regressor BA': voting_reg, \n",
    "               'Random Forest Regressor': rfr, \n",
    "               'Extra Trees Regressor': etr,\n",
    "               'XGBoost': egb,\n",
    "               'Voting Regressor': voting_reg}\n",
    "\n",
    "for key in models_dict:\n",
    "    print(key)  \n",
    "    scores = compare_models(estimator=models_dict[key], \n",
    "                            scoring_dict=scoring_comp, \n",
    "                            X_train=X_train, \n",
    "                            y_train=y_train, \n",
    "                            cv=10, \n",
    "                            return_train_score=False)"
   ]
  },
  {
   "cell_type": "code",
   "execution_count": 179,
   "id": "732936b5-d29c-4071-b5ac-e5b0b8dfb489",
   "metadata": {},
   "outputs": [
    {
     "name": "stdout",
     "output_type": "stream",
     "text": [
      "Performance on the training set:\n",
      " ----------\n",
      "R²: 0.9691868258550684\n",
      "MAE: 33685.33596996932\n",
      "MAPE: 0.10039493845119629\n",
      "RMSE: 53371.073144901224\n",
      "\n",
      "Performance on the test set:\n",
      " ----------\n",
      "R²: 0.8222912626777459\n",
      "MAE: 63691.12128584188\n",
      "MAPE: 0.19228141583224917\n",
      "RMSE: 107504.72971213194\n",
      "\n"
     ]
    }
   ],
   "source": [
    "voting_regressor.fit(X_train, y_train)\n",
    "\n",
    "print('Performance on the training set:\\n', '-'*10)\n",
    "y_pred_train = voting_regressor.predict(X_train)\n",
    "metrics_regression(y_test=y_train, \n",
    "                   y_pred=y_pred_train, \n",
    "                   squared=False)\n",
    "\n",
    "print('Performance on the test set:\\n', '-'*10)\n",
    "y_pred = voting_regressor.predict(X_test)\n",
    "metrics_regression(y_test=y_test, \n",
    "                   y_pred=y_pred, \n",
    "                   squared=False)"
   ]
  },
  {
   "cell_type": "code",
   "execution_count": null,
   "id": "60da9247-4289-4681-a1a6-cf6206363fda",
   "metadata": {},
   "outputs": [],
   "source": []
  },
  {
   "cell_type": "markdown",
   "id": "a2350aaa-1eee-494d-8de8-cb3355703861",
   "metadata": {},
   "source": [
    "y sin ninguno?"
   ]
  },
  {
   "cell_type": "code",
   "execution_count": 180,
   "id": "aefaa391-80a5-435a-836b-54f099556749",
   "metadata": {},
   "outputs": [
    {
     "data": {
      "text/plain": [
       "{'rfr': 0.33356692361597756,\n",
       " 'etr': 0.3369883342264726,\n",
       " 'xgb': 0.32944474215754976}"
      ]
     },
     "execution_count": 180,
     "metadata": {},
     "output_type": "execute_result"
    }
   ],
   "source": [
    "models_r2 = {'rfr': 80.92, 'etr': 81.75, 'xgb': 79.92} # estoy usando las del train set, no las del test set com antes \n",
    "\n",
    "tot = 0\n",
    "for key in models_r2:\n",
    "    tot += models_r2[key]\n",
    "\n",
    "models_weigth = {}\n",
    "models_weigth_list = []\n",
    "for key in models_r2:\n",
    "    weight = models_r2[key] / tot\n",
    "    models_weigth[key] = weight\n",
    "    models_weigth_list.append(weight)\n",
    "models_weigth\n",
    "#models_weigth_list"
   ]
  },
  {
   "cell_type": "code",
   "execution_count": 181,
   "id": "103a267b-318b-4f9b-bd92-04f17c08da6d",
   "metadata": {},
   "outputs": [
    {
     "name": "stdout",
     "output_type": "stream",
     "text": [
      "Random Forest Regressor\n",
      "r2 mean: 0.8167477210903786\n",
      "MAPE mean: -0.21011218623619468\n",
      "----------\n",
      "Extra Trees Regressor\n",
      "r2 mean: 0.7975131710911019\n",
      "MAPE mean: -0.21564048564833027\n",
      "----------\n",
      "XGBoost\n",
      "r2 mean: 0.8156261612493475\n",
      "MAPE mean: -0.21142660774858588\n",
      "----------\n",
      "Voting Regressor\n",
      "r2 mean: 0.8233064381646192\n",
      "MAPE mean: -0.20409000225835855\n",
      "----------\n"
     ]
    }
   ],
   "source": [
    "#polyr = poly_pipe_estimator\n",
    "rfr = rfr_pipe_estimator\n",
    "etr = etr_pipe_estimator\n",
    "egb = xgb_pipe_estimator\n",
    "\n",
    "voting_regressor = VotingRegressor(\n",
    "    estimators= [#('poly', polyr),\n",
    "                 ('rf', rfr),\n",
    "                 ('et', etr),\n",
    "                 ('egb', egb)], #('rfr',rfr)\n",
    "    weights= models_weigth_list,\n",
    ")\n",
    "\n",
    "models_dict = {#'Polynomial Regression': polyr, \n",
    "               'Random Forest Regressor': rfr, \n",
    "               'Extra Trees Regressor': etr,\n",
    "               'XGBoost': egb,\n",
    "               'Voting Regressor': voting_regressor}\n",
    "\n",
    "for key in models_dict:\n",
    "    print(key)  \n",
    "    scores = compare_models(estimator=models_dict[key], \n",
    "                            scoring_dict=scoring_comp, \n",
    "                            X_train=X_train, \n",
    "                            y_train=y_train, \n",
    "                            cv=10, \n",
    "                            return_train_score=False)"
   ]
  },
  {
   "cell_type": "code",
   "execution_count": 182,
   "id": "eb938e02-cfbe-4d3a-bae9-4f9bf4f64987",
   "metadata": {},
   "outputs": [
    {
     "name": "stdout",
     "output_type": "stream",
     "text": [
      "Performance on the training set:\n",
      " ----------\n",
      "R²: 0.9868713041737208\n",
      "MAE: 22709.98010484902\n",
      "MAPE: 0.06940786379074693\n",
      "RMSE: 34837.62254206547\n",
      "\n",
      "Performance on the test set:\n",
      " ----------\n",
      "R²: 0.8124247745799787\n",
      "MAE: 63383.72281259873\n",
      "MAPE: 0.1889940345387361\n",
      "RMSE: 110448.77911461078\n",
      "\n"
     ]
    }
   ],
   "source": [
    "voting_regressor.fit(X_train, y_train)\n",
    "\n",
    "print('Performance on the training set:\\n', '-'*10)\n",
    "y_pred_train = voting_regressor.predict(X_train)\n",
    "metrics_regression(y_test=y_train, \n",
    "                   y_pred=y_pred_train, \n",
    "                   squared=False)\n",
    "\n",
    "print('Performance on the test set:\\n', '-'*10)\n",
    "y_pred = voting_regressor.predict(X_test)\n",
    "metrics_regression(y_test=y_test, \n",
    "                   y_pred=y_pred, \n",
    "                   squared=False)"
   ]
  },
  {
   "cell_type": "code",
   "execution_count": null,
   "id": "4a5b8548-391b-47b6-9691-977bfb15afa8",
   "metadata": {},
   "outputs": [],
   "source": []
  },
  {
   "cell_type": "markdown",
   "id": "8c97f2c9-d0e0-46a9-b7f4-6b43cbb1c47e",
   "metadata": {
    "jp-MarkdownHeadingCollapsed": true,
    "tags": []
   },
   "source": [
    "## Stacking"
   ]
  },
  {
   "cell_type": "markdown",
   "id": "5070001e-bc6b-497d-a41b-8f992a3eb153",
   "metadata": {},
   "source": [
    "Regression Meta-Model: Linear Reagression"
   ]
  },
  {
   "cell_type": "code",
   "execution_count": 183,
   "id": "c415e4f3-0898-44fc-a203-47137500fcc0",
   "metadata": {},
   "outputs": [],
   "source": [
    "from sklearn.ensemble import StackingRegressor"
   ]
  },
  {
   "cell_type": "code",
   "execution_count": 184,
   "id": "bcb96acf-c6e0-47c7-844e-cea882d3c96b",
   "metadata": {},
   "outputs": [],
   "source": [
    "# get a stacking ensemble of models\n",
    "def get_stacking():\n",
    "    # define the base models\n",
    "    level0 = list()\n",
    "    level0.append(('polyr', poly_pipe_estimator))\n",
    "    level0.append(('rfr', rfr_pipe_estimator))\n",
    "    level0.append(('etr', etr_pipe_estimator))\n",
    "    level0.append(('egb', xgb_pipe_estimator))\n",
    "    # define meta learner model\n",
    "    level1 = LinearRegression()\n",
    "    # define the stacking ensemble\n",
    "    model = StackingRegressor(estimators=level0, final_estimator=level1, cv=5)\n",
    "    return model"
   ]
  },
  {
   "cell_type": "code",
   "execution_count": 185,
   "id": "eb80492d-f2b3-4748-9771-7236a1f0b6ec",
   "metadata": {},
   "outputs": [
    {
     "name": "stdout",
     "output_type": "stream",
     "text": [
      "Polynomial Regression\n"
     ]
    },
    {
     "name": "stderr",
     "output_type": "stream",
     "text": [
      "/home/javier/anaconda3/envs/tfm/lib/python3.7/site-packages/sklearn/preprocessing/_data.py:3237: RuntimeWarning: divide by zero encountered in log\n",
      "  loglike = -n_samples / 2 * np.log(x_trans.var())\n",
      "/home/javier/anaconda3/envs/tfm/lib/python3.7/site-packages/sklearn/preprocessing/_data.py:3237: RuntimeWarning: divide by zero encountered in log\n",
      "  loglike = -n_samples / 2 * np.log(x_trans.var())\n"
     ]
    },
    {
     "name": "stdout",
     "output_type": "stream",
     "text": [
      "r2 mean: 0.7292553071146599\n",
      "MAPE mean: -0.2794610181293449\n",
      "----------\n",
      "Random Forest Regressor\n",
      "r2 mean: 0.8166531128534398\n",
      "MAPE mean: -0.21001840868639082\n",
      "----------\n",
      "Extra Trees Regressor\n",
      "r2 mean: 0.7969873481920722\n",
      "MAPE mean: -0.21564934280914416\n",
      "----------\n",
      "XGBoost\n",
      "r2 mean: 0.8156261612493475\n",
      "MAPE mean: -0.21142660774858588\n",
      "----------\n",
      "Stacking\n"
     ]
    },
    {
     "name": "stderr",
     "output_type": "stream",
     "text": [
      "/home/javier/anaconda3/envs/tfm/lib/python3.7/site-packages/sklearn/preprocessing/_data.py:3237: RuntimeWarning: divide by zero encountered in log\n",
      "  loglike = -n_samples / 2 * np.log(x_trans.var())\n",
      "/home/javier/anaconda3/envs/tfm/lib/python3.7/site-packages/sklearn/preprocessing/_data.py:3237: RuntimeWarning: divide by zero encountered in log\n",
      "  loglike = -n_samples / 2 * np.log(x_trans.var())\n",
      "/home/javier/anaconda3/envs/tfm/lib/python3.7/site-packages/sklearn/preprocessing/_data.py:3237: RuntimeWarning: divide by zero encountered in log\n",
      "  loglike = -n_samples / 2 * np.log(x_trans.var())\n",
      "/home/javier/anaconda3/envs/tfm/lib/python3.7/site-packages/sklearn/preprocessing/_data.py:3237: RuntimeWarning: divide by zero encountered in log\n",
      "  loglike = -n_samples / 2 * np.log(x_trans.var())\n",
      "/home/javier/anaconda3/envs/tfm/lib/python3.7/site-packages/sklearn/preprocessing/_data.py:3237: RuntimeWarning: divide by zero encountered in log\n",
      "  loglike = -n_samples / 2 * np.log(x_trans.var())\n",
      "/home/javier/anaconda3/envs/tfm/lib/python3.7/site-packages/sklearn/preprocessing/_data.py:3237: RuntimeWarning: divide by zero encountered in log\n",
      "  loglike = -n_samples / 2 * np.log(x_trans.var())\n",
      "/home/javier/anaconda3/envs/tfm/lib/python3.7/site-packages/sklearn/preprocessing/_data.py:3237: RuntimeWarning: divide by zero encountered in log\n",
      "  loglike = -n_samples / 2 * np.log(x_trans.var())\n",
      "/home/javier/anaconda3/envs/tfm/lib/python3.7/site-packages/sklearn/preprocessing/_data.py:3237: RuntimeWarning: divide by zero encountered in log\n",
      "  loglike = -n_samples / 2 * np.log(x_trans.var())\n",
      "/home/javier/anaconda3/envs/tfm/lib/python3.7/site-packages/sklearn/preprocessing/_data.py:3237: RuntimeWarning: divide by zero encountered in log\n",
      "  loglike = -n_samples / 2 * np.log(x_trans.var())\n",
      "/home/javier/anaconda3/envs/tfm/lib/python3.7/site-packages/sklearn/preprocessing/_data.py:3237: RuntimeWarning: divide by zero encountered in log\n",
      "  loglike = -n_samples / 2 * np.log(x_trans.var())\n",
      "/home/javier/anaconda3/envs/tfm/lib/python3.7/site-packages/sklearn/preprocessing/_data.py:3237: RuntimeWarning: divide by zero encountered in log\n",
      "  loglike = -n_samples / 2 * np.log(x_trans.var())\n",
      "/home/javier/anaconda3/envs/tfm/lib/python3.7/site-packages/sklearn/preprocessing/_data.py:3237: RuntimeWarning: divide by zero encountered in log\n",
      "  loglike = -n_samples / 2 * np.log(x_trans.var())\n",
      "/home/javier/anaconda3/envs/tfm/lib/python3.7/site-packages/sklearn/preprocessing/_data.py:3237: RuntimeWarning: divide by zero encountered in log\n",
      "  loglike = -n_samples / 2 * np.log(x_trans.var())\n",
      "/home/javier/anaconda3/envs/tfm/lib/python3.7/site-packages/sklearn/preprocessing/_data.py:3237: RuntimeWarning: divide by zero encountered in log\n",
      "  loglike = -n_samples / 2 * np.log(x_trans.var())\n",
      "/home/javier/anaconda3/envs/tfm/lib/python3.7/site-packages/sklearn/preprocessing/_data.py:3237: RuntimeWarning: divide by zero encountered in log\n",
      "  loglike = -n_samples / 2 * np.log(x_trans.var())\n",
      "/home/javier/anaconda3/envs/tfm/lib/python3.7/site-packages/sklearn/preprocessing/_data.py:3237: RuntimeWarning: divide by zero encountered in log\n",
      "  loglike = -n_samples / 2 * np.log(x_trans.var())\n",
      "/home/javier/anaconda3/envs/tfm/lib/python3.7/site-packages/sklearn/preprocessing/_data.py:3237: RuntimeWarning: divide by zero encountered in log\n",
      "  loglike = -n_samples / 2 * np.log(x_trans.var())\n",
      "/home/javier/anaconda3/envs/tfm/lib/python3.7/site-packages/sklearn/preprocessing/_data.py:3237: RuntimeWarning: divide by zero encountered in log\n",
      "  loglike = -n_samples / 2 * np.log(x_trans.var())\n",
      "/home/javier/anaconda3/envs/tfm/lib/python3.7/site-packages/sklearn/preprocessing/_data.py:3237: RuntimeWarning: divide by zero encountered in log\n",
      "  loglike = -n_samples / 2 * np.log(x_trans.var())\n",
      "/home/javier/anaconda3/envs/tfm/lib/python3.7/site-packages/sklearn/preprocessing/_data.py:3237: RuntimeWarning: divide by zero encountered in log\n",
      "  loglike = -n_samples / 2 * np.log(x_trans.var())\n",
      "/home/javier/anaconda3/envs/tfm/lib/python3.7/site-packages/sklearn/preprocessing/_data.py:3237: RuntimeWarning: divide by zero encountered in log\n",
      "  loglike = -n_samples / 2 * np.log(x_trans.var())\n",
      "/home/javier/anaconda3/envs/tfm/lib/python3.7/site-packages/sklearn/preprocessing/_data.py:3237: RuntimeWarning: divide by zero encountered in log\n",
      "  loglike = -n_samples / 2 * np.log(x_trans.var())\n",
      "/home/javier/anaconda3/envs/tfm/lib/python3.7/site-packages/sklearn/preprocessing/_data.py:3237: RuntimeWarning: divide by zero encountered in log\n",
      "  loglike = -n_samples / 2 * np.log(x_trans.var())\n",
      "/home/javier/anaconda3/envs/tfm/lib/python3.7/site-packages/sklearn/preprocessing/_data.py:3237: RuntimeWarning: divide by zero encountered in log\n",
      "  loglike = -n_samples / 2 * np.log(x_trans.var())\n",
      "/home/javier/anaconda3/envs/tfm/lib/python3.7/site-packages/sklearn/preprocessing/_data.py:3237: RuntimeWarning: divide by zero encountered in log\n",
      "  loglike = -n_samples / 2 * np.log(x_trans.var())\n",
      "/home/javier/anaconda3/envs/tfm/lib/python3.7/site-packages/sklearn/preprocessing/_data.py:3237: RuntimeWarning: divide by zero encountered in log\n",
      "  loglike = -n_samples / 2 * np.log(x_trans.var())\n",
      "/home/javier/anaconda3/envs/tfm/lib/python3.7/site-packages/sklearn/preprocessing/_data.py:3237: RuntimeWarning: divide by zero encountered in log\n",
      "  loglike = -n_samples / 2 * np.log(x_trans.var())\n",
      "/home/javier/anaconda3/envs/tfm/lib/python3.7/site-packages/sklearn/preprocessing/_data.py:3237: RuntimeWarning: divide by zero encountered in log\n",
      "  loglike = -n_samples / 2 * np.log(x_trans.var())\n",
      "/home/javier/anaconda3/envs/tfm/lib/python3.7/site-packages/sklearn/preprocessing/_data.py:3237: RuntimeWarning: divide by zero encountered in log\n",
      "  loglike = -n_samples / 2 * np.log(x_trans.var())\n",
      "/home/javier/anaconda3/envs/tfm/lib/python3.7/site-packages/sklearn/preprocessing/_data.py:3237: RuntimeWarning: divide by zero encountered in log\n",
      "  loglike = -n_samples / 2 * np.log(x_trans.var())\n",
      "/home/javier/anaconda3/envs/tfm/lib/python3.7/site-packages/sklearn/preprocessing/_data.py:3237: RuntimeWarning: divide by zero encountered in log\n",
      "  loglike = -n_samples / 2 * np.log(x_trans.var())\n",
      "/home/javier/anaconda3/envs/tfm/lib/python3.7/site-packages/sklearn/preprocessing/_data.py:3237: RuntimeWarning: divide by zero encountered in log\n",
      "  loglike = -n_samples / 2 * np.log(x_trans.var())\n",
      "/home/javier/anaconda3/envs/tfm/lib/python3.7/site-packages/sklearn/preprocessing/_data.py:3237: RuntimeWarning: divide by zero encountered in log\n",
      "  loglike = -n_samples / 2 * np.log(x_trans.var())\n",
      "/home/javier/anaconda3/envs/tfm/lib/python3.7/site-packages/sklearn/preprocessing/_data.py:3237: RuntimeWarning: divide by zero encountered in log\n",
      "  loglike = -n_samples / 2 * np.log(x_trans.var())\n",
      "/home/javier/anaconda3/envs/tfm/lib/python3.7/site-packages/sklearn/preprocessing/_data.py:3237: RuntimeWarning: divide by zero encountered in log\n",
      "  loglike = -n_samples / 2 * np.log(x_trans.var())\n",
      "/home/javier/anaconda3/envs/tfm/lib/python3.7/site-packages/sklearn/preprocessing/_data.py:3237: RuntimeWarning: divide by zero encountered in log\n",
      "  loglike = -n_samples / 2 * np.log(x_trans.var())\n",
      "/home/javier/anaconda3/envs/tfm/lib/python3.7/site-packages/sklearn/preprocessing/_data.py:3237: RuntimeWarning: divide by zero encountered in log\n",
      "  loglike = -n_samples / 2 * np.log(x_trans.var())\n",
      "/home/javier/anaconda3/envs/tfm/lib/python3.7/site-packages/sklearn/preprocessing/_data.py:3237: RuntimeWarning: divide by zero encountered in log\n",
      "  loglike = -n_samples / 2 * np.log(x_trans.var())\n",
      "/home/javier/anaconda3/envs/tfm/lib/python3.7/site-packages/sklearn/preprocessing/_data.py:3237: RuntimeWarning: divide by zero encountered in log\n",
      "  loglike = -n_samples / 2 * np.log(x_trans.var())\n",
      "/home/javier/anaconda3/envs/tfm/lib/python3.7/site-packages/sklearn/preprocessing/_data.py:3237: RuntimeWarning: divide by zero encountered in log\n",
      "  loglike = -n_samples / 2 * np.log(x_trans.var())\n",
      "/home/javier/anaconda3/envs/tfm/lib/python3.7/site-packages/sklearn/preprocessing/_data.py:3237: RuntimeWarning: divide by zero encountered in log\n",
      "  loglike = -n_samples / 2 * np.log(x_trans.var())\n",
      "/home/javier/anaconda3/envs/tfm/lib/python3.7/site-packages/sklearn/preprocessing/_data.py:3237: RuntimeWarning: divide by zero encountered in log\n",
      "  loglike = -n_samples / 2 * np.log(x_trans.var())\n",
      "/home/javier/anaconda3/envs/tfm/lib/python3.7/site-packages/sklearn/preprocessing/_data.py:3237: RuntimeWarning: divide by zero encountered in log\n",
      "  loglike = -n_samples / 2 * np.log(x_trans.var())\n",
      "/home/javier/anaconda3/envs/tfm/lib/python3.7/site-packages/sklearn/preprocessing/_data.py:3237: RuntimeWarning: divide by zero encountered in log\n",
      "  loglike = -n_samples / 2 * np.log(x_trans.var())\n",
      "/home/javier/anaconda3/envs/tfm/lib/python3.7/site-packages/sklearn/preprocessing/_data.py:3237: RuntimeWarning: divide by zero encountered in log\n",
      "  loglike = -n_samples / 2 * np.log(x_trans.var())\n",
      "/home/javier/anaconda3/envs/tfm/lib/python3.7/site-packages/sklearn/preprocessing/_data.py:3237: RuntimeWarning: divide by zero encountered in log\n",
      "  loglike = -n_samples / 2 * np.log(x_trans.var())\n",
      "/home/javier/anaconda3/envs/tfm/lib/python3.7/site-packages/sklearn/preprocessing/_data.py:3237: RuntimeWarning: divide by zero encountered in log\n",
      "  loglike = -n_samples / 2 * np.log(x_trans.var())\n",
      "/home/javier/anaconda3/envs/tfm/lib/python3.7/site-packages/sklearn/preprocessing/_data.py:3237: RuntimeWarning: divide by zero encountered in log\n",
      "  loglike = -n_samples / 2 * np.log(x_trans.var())\n",
      "/home/javier/anaconda3/envs/tfm/lib/python3.7/site-packages/sklearn/preprocessing/_data.py:3237: RuntimeWarning: divide by zero encountered in log\n",
      "  loglike = -n_samples / 2 * np.log(x_trans.var())\n",
      "/home/javier/anaconda3/envs/tfm/lib/python3.7/site-packages/sklearn/preprocessing/_data.py:3237: RuntimeWarning: divide by zero encountered in log\n",
      "  loglike = -n_samples / 2 * np.log(x_trans.var())\n",
      "/home/javier/anaconda3/envs/tfm/lib/python3.7/site-packages/sklearn/preprocessing/_data.py:3237: RuntimeWarning: divide by zero encountered in log\n",
      "  loglike = -n_samples / 2 * np.log(x_trans.var())\n",
      "/home/javier/anaconda3/envs/tfm/lib/python3.7/site-packages/sklearn/preprocessing/_data.py:3237: RuntimeWarning: divide by zero encountered in log\n",
      "  loglike = -n_samples / 2 * np.log(x_trans.var())\n"
     ]
    },
    {
     "name": "stdout",
     "output_type": "stream",
     "text": [
      "r2 mean: 0.8267567044474291\n",
      "MAPE mean: -0.20277536728385898\n",
      "----------\n"
     ]
    }
   ],
   "source": [
    "models_dict = {'Polynomial Regression': poly_pipe_estimator, \n",
    "               'Random Forest Regressor': rfr_pipe_estimator, \n",
    "               'Extra Trees Regressor': etr_pipe_estimator,\n",
    "               'XGBoost': xgb_pipe_estimator,\n",
    "               'Stacking': get_stacking()}\n",
    "\n",
    "for key in models_dict:\n",
    "    print(key)  \n",
    "    scores = compare_models(estimator=models_dict[key], \n",
    "                            scoring_dict=scoring_comp, \n",
    "                            X_train=X_train, \n",
    "                            y_train=y_train, \n",
    "                            cv=10, \n",
    "                            return_train_score=False)"
   ]
  },
  {
   "cell_type": "code",
   "execution_count": null,
   "id": "760b7734-18a7-4922-8b5b-6604a815b398",
   "metadata": {},
   "outputs": [],
   "source": [
    "stacking = get_stacking()\n",
    "stacking.fit(X_train, y_train)\n",
    "\n",
    "print('Performance on the training set:\\n', '-'*10)\n",
    "y_pred_train = stacking.predict(X_train)\n",
    "metrics_regression(y_test=y_train, \n",
    "                   y_pred=y_pred_train, \n",
    "                   squared=False)\n",
    "\n",
    "print('Performance on the test set:\\n', '-'*10)\n",
    "y_pred = stacking.predict(X_test)\n",
    "metrics_regression(y_test=y_test, \n",
    "                   y_pred=y_pred, \n",
    "                   squared=False)"
   ]
  },
  {
   "cell_type": "code",
   "execution_count": null,
   "id": "2ca65c46-55a0-4f76-9ad9-76e0c46688fc",
   "metadata": {},
   "outputs": [],
   "source": []
  },
  {
   "cell_type": "markdown",
   "id": "7310fad1-6e5c-4823-a074-a9ec7ce77c05",
   "metadata": {
    "jp-MarkdownHeadingCollapsed": true,
    "tags": []
   },
   "source": [
    "# Dataset to try the frontend:"
   ]
  },
  {
   "cell_type": "code",
   "execution_count": 186,
   "id": "8bb1c88f-a86e-4a0d-9ca3-f0faaf2912d4",
   "metadata": {},
   "outputs": [
    {
     "data": {
      "text/plain": [
       "((1102, 7), (1102,), (1102,))"
      ]
     },
     "execution_count": 186,
     "metadata": {},
     "output_type": "execute_result"
    }
   ],
   "source": [
    "X_test.shape, y_test.shape, y_pred.shape"
   ]
  },
  {
   "cell_type": "code",
   "execution_count": 187,
   "id": "32809e4d-bbb9-4a65-ae54-03916dfbb6b9",
   "metadata": {},
   "outputs": [
    {
     "data": {
      "text/html": [
       "<div>\n",
       "<style scoped>\n",
       "    .dataframe tbody tr th:only-of-type {\n",
       "        vertical-align: middle;\n",
       "    }\n",
       "\n",
       "    .dataframe tbody tr th {\n",
       "        vertical-align: top;\n",
       "    }\n",
       "\n",
       "    .dataframe thead th {\n",
       "        text-align: right;\n",
       "    }\n",
       "</style>\n",
       "<table border=\"1\" class=\"dataframe\">\n",
       "  <thead>\n",
       "    <tr style=\"text-align: right;\">\n",
       "      <th></th>\n",
       "      <th>floor_area</th>\n",
       "      <th>latitude</th>\n",
       "      <th>longitude</th>\n",
       "      <th>bedroom</th>\n",
       "      <th>bathroom</th>\n",
       "      <th>type_house</th>\n",
       "      <th>code</th>\n",
       "    </tr>\n",
       "  </thead>\n",
       "  <tbody>\n",
       "    <tr>\n",
       "      <th>2568</th>\n",
       "      <td>171</td>\n",
       "      <td>52.146575</td>\n",
       "      <td>-8.396217</td>\n",
       "      <td>4</td>\n",
       "      <td>4</td>\n",
       "      <td>house</td>\n",
       "      <td>NaN</td>\n",
       "    </tr>\n",
       "  </tbody>\n",
       "</table>\n",
       "</div>"
      ],
      "text/plain": [
       "      floor_area   latitude  longitude  bedroom  bathroom type_house code\n",
       "2568         171  52.146575  -8.396217        4         4      house  NaN"
      ]
     },
     "execution_count": 187,
     "metadata": {},
     "output_type": "execute_result"
    }
   ],
   "source": [
    "X_test.sample()"
   ]
  },
  {
   "cell_type": "code",
   "execution_count": 188,
   "id": "73c9fd30-6a78-4cb8-b3ea-035fcf4dda27",
   "metadata": {},
   "outputs": [
    {
     "data": {
      "text/plain": [
       "3227    239000.0\n",
       "Name: price, dtype: float64"
      ]
     },
     "execution_count": 188,
     "metadata": {},
     "output_type": "execute_result"
    }
   ],
   "source": [
    "y_test.sample()"
   ]
  },
  {
   "cell_type": "code",
   "execution_count": 189,
   "id": "776a69f9-e5af-4395-8cfd-a3eafc6ae0c3",
   "metadata": {},
   "outputs": [
    {
     "data": {
      "text/plain": [
       "868    166708.027686\n",
       "dtype: float64"
      ]
     },
     "execution_count": 189,
     "metadata": {},
     "output_type": "execute_result"
    }
   ],
   "source": [
    "y_pred = pd.Series(y_pred.copy())\n",
    "y_pred.sample()"
   ]
  },
  {
   "cell_type": "code",
   "execution_count": null,
   "id": "234886e4-608c-4107-922a-10faf12c5452",
   "metadata": {},
   "outputs": [],
   "source": []
  },
  {
   "cell_type": "code",
   "execution_count": 190,
   "id": "0bb0e845-763d-45c7-8470-106ef89ae3e6",
   "metadata": {},
   "outputs": [
    {
     "data": {
      "text/plain": [
       "floor_area      0\n",
       "latitude        0\n",
       "longitude       0\n",
       "bedroom         0\n",
       "bathroom        0\n",
       "type_house     72\n",
       "code          204\n",
       "dtype: int64"
      ]
     },
     "execution_count": 190,
     "metadata": {},
     "output_type": "execute_result"
    }
   ],
   "source": [
    "X_test.isna().sum()"
   ]
  },
  {
   "cell_type": "code",
   "execution_count": 191,
   "id": "31d3644a-ca15-441b-804d-f2fc35e93d36",
   "metadata": {},
   "outputs": [
    {
     "data": {
      "text/plain": [
       "0"
      ]
     },
     "execution_count": 191,
     "metadata": {},
     "output_type": "execute_result"
    }
   ],
   "source": [
    "y_test.isna().sum()"
   ]
  },
  {
   "cell_type": "code",
   "execution_count": 192,
   "id": "1ef207a3-e3c7-4d4b-99d0-0dc255847413",
   "metadata": {},
   "outputs": [
    {
     "data": {
      "text/plain": [
       "0"
      ]
     },
     "execution_count": 192,
     "metadata": {},
     "output_type": "execute_result"
    }
   ],
   "source": [
    "y_pred.isna().sum()"
   ]
  },
  {
   "cell_type": "code",
   "execution_count": 193,
   "id": "d5604e57-75b9-4a6c-9ba5-91b0961e1d44",
   "metadata": {},
   "outputs": [
    {
     "data": {
      "text/plain": [
       "0    228848.401763\n",
       "1    915228.133002\n",
       "2    412512.472691\n",
       "3    476934.844831\n",
       "4    473529.082650\n",
       "dtype: float64"
      ]
     },
     "execution_count": 193,
     "metadata": {},
     "output_type": "execute_result"
    }
   ],
   "source": [
    "y_pred.head(5)"
   ]
  },
  {
   "cell_type": "code",
   "execution_count": 194,
   "id": "e99cda65-7c82-4895-be27-eda0adc23430",
   "metadata": {},
   "outputs": [
    {
     "data": {
      "text/html": [
       "<div>\n",
       "<style scoped>\n",
       "    .dataframe tbody tr th:only-of-type {\n",
       "        vertical-align: middle;\n",
       "    }\n",
       "\n",
       "    .dataframe tbody tr th {\n",
       "        vertical-align: top;\n",
       "    }\n",
       "\n",
       "    .dataframe thead th {\n",
       "        text-align: right;\n",
       "    }\n",
       "</style>\n",
       "<table border=\"1\" class=\"dataframe\">\n",
       "  <thead>\n",
       "    <tr style=\"text-align: right;\">\n",
       "      <th></th>\n",
       "      <th>floor_area</th>\n",
       "      <th>latitude</th>\n",
       "      <th>longitude</th>\n",
       "      <th>bedroom</th>\n",
       "      <th>bathroom</th>\n",
       "      <th>type_house</th>\n",
       "      <th>code</th>\n",
       "    </tr>\n",
       "  </thead>\n",
       "  <tbody>\n",
       "    <tr>\n",
       "      <th>2680</th>\n",
       "      <td>91</td>\n",
       "      <td>52.011200</td>\n",
       "      <td>-8.610169</td>\n",
       "      <td>3</td>\n",
       "      <td>3</td>\n",
       "      <td>house</td>\n",
       "      <td>NaN</td>\n",
       "    </tr>\n",
       "    <tr>\n",
       "      <th>5903</th>\n",
       "      <td>390</td>\n",
       "      <td>51.846032</td>\n",
       "      <td>-8.337456</td>\n",
       "      <td>6</td>\n",
       "      <td>5</td>\n",
       "      <td>house</td>\n",
       "      <td>T12</td>\n",
       "    </tr>\n",
       "    <tr>\n",
       "      <th>5822</th>\n",
       "      <td>105</td>\n",
       "      <td>53.286689</td>\n",
       "      <td>-6.340968</td>\n",
       "      <td>3</td>\n",
       "      <td>1</td>\n",
       "      <td>house</td>\n",
       "      <td>D24</td>\n",
       "    </tr>\n",
       "    <tr>\n",
       "      <th>1514</th>\n",
       "      <td>148</td>\n",
       "      <td>53.446994</td>\n",
       "      <td>-6.251214</td>\n",
       "      <td>3</td>\n",
       "      <td>4</td>\n",
       "      <td>house</td>\n",
       "      <td>K67</td>\n",
       "    </tr>\n",
       "    <tr>\n",
       "      <th>1350</th>\n",
       "      <td>74</td>\n",
       "      <td>53.275541</td>\n",
       "      <td>-6.094164</td>\n",
       "      <td>1</td>\n",
       "      <td>1</td>\n",
       "      <td>apartment</td>\n",
       "      <td>A96</td>\n",
       "    </tr>\n",
       "  </tbody>\n",
       "</table>\n",
       "</div>"
      ],
      "text/plain": [
       "      floor_area   latitude  longitude  bedroom  bathroom type_house code\n",
       "2680          91  52.011200  -8.610169        3         3      house  NaN\n",
       "5903         390  51.846032  -8.337456        6         5      house  T12\n",
       "5822         105  53.286689  -6.340968        3         1      house  D24\n",
       "1514         148  53.446994  -6.251214        3         4      house  K67\n",
       "1350          74  53.275541  -6.094164        1         1  apartment  A96"
      ]
     },
     "execution_count": 194,
     "metadata": {},
     "output_type": "execute_result"
    }
   ],
   "source": [
    "X_test.head()"
   ]
  },
  {
   "cell_type": "code",
   "execution_count": 195,
   "id": "d7e8768f-66ee-422b-aa4c-155a50b36476",
   "metadata": {},
   "outputs": [
    {
     "data": {
      "text/plain": [
       "2680    250000.0\n",
       "5903    990000.0\n",
       "5822    350000.0\n",
       "1514    465000.0\n",
       "1350    450000.0\n",
       "Name: price, dtype: float64"
      ]
     },
     "execution_count": 195,
     "metadata": {},
     "output_type": "execute_result"
    }
   ],
   "source": [
    "y_test.head()"
   ]
  },
  {
   "cell_type": "code",
   "execution_count": 201,
   "id": "8ca20abc-fa12-4d55-8859-d5940019868f",
   "metadata": {},
   "outputs": [
    {
     "data": {
      "text/plain": [
       "Index(['price', 'floor_area', 'latitude', 'longitude', 'bedroom', 'bathroom',\n",
       "       'type_house', 'code'],\n",
       "      dtype='object')"
      ]
     },
     "execution_count": 201,
     "metadata": {},
     "output_type": "execute_result"
    }
   ],
   "source": [
    "data.columns"
   ]
  },
  {
   "cell_type": "code",
   "execution_count": 208,
   "id": "c6368ab4-7dd8-4d71-81cb-b032ece265d6",
   "metadata": {},
   "outputs": [
    {
     "data": {
      "text/html": [
       "<div>\n",
       "<style scoped>\n",
       "    .dataframe tbody tr th:only-of-type {\n",
       "        vertical-align: middle;\n",
       "    }\n",
       "\n",
       "    .dataframe tbody tr th {\n",
       "        vertical-align: top;\n",
       "    }\n",
       "\n",
       "    .dataframe thead th {\n",
       "        text-align: right;\n",
       "    }\n",
       "</style>\n",
       "<table border=\"1\" class=\"dataframe\">\n",
       "  <thead>\n",
       "    <tr style=\"text-align: right;\">\n",
       "      <th></th>\n",
       "      <th>price</th>\n",
       "      <th>floor_area</th>\n",
       "      <th>latitude</th>\n",
       "      <th>longitude</th>\n",
       "      <th>bedroom</th>\n",
       "      <th>bathroom</th>\n",
       "      <th>type_house</th>\n",
       "      <th>code</th>\n",
       "      <th>inferred_price</th>\n",
       "      <th>difference</th>\n",
       "    </tr>\n",
       "  </thead>\n",
       "  <tbody>\n",
       "    <tr>\n",
       "      <th>2306</th>\n",
       "      <td>295000.0</td>\n",
       "      <td>68</td>\n",
       "      <td>53.364192</td>\n",
       "      <td>-6.245409</td>\n",
       "      <td>2</td>\n",
       "      <td>2</td>\n",
       "      <td>apartment</td>\n",
       "      <td>D09</td>\n",
       "      <td>312881.96875</td>\n",
       "      <td>17881.96875</td>\n",
       "    </tr>\n",
       "  </tbody>\n",
       "</table>\n",
       "</div>"
      ],
      "text/plain": [
       "         price  floor_area   latitude  longitude  bedroom  bathroom  \\\n",
       "2306  295000.0          68  53.364192  -6.245409        2         2   \n",
       "\n",
       "     type_house code  inferred_price   difference  \n",
       "2306  apartment  D09    312881.96875  17881.96875  "
      ]
     },
     "execution_count": 208,
     "metadata": {},
     "output_type": "execute_result"
    }
   ],
   "source": [
    "X = data[['floor_area', 'latitude', 'longitude', \n",
    "          'bedroom', 'bathroom', 'type_house', 'code']].copy()\n",
    "y = data['price']\n",
    "\n",
    "#data_to_frontend = X.copy()\n",
    "#data_to_frontend['price'] = y.copy()\n",
    "\n",
    "data_to_frontend = data.copy()\n",
    "xgb = xgb_pipe_estimator.fit(X_train, y_train)\n",
    "\n",
    "y_pred = xgb.predict(X)\n",
    "\n",
    "data_to_frontend['inferred_price'] = list(y_pred) # me daba muchos nan si lo unia siendo una series\n",
    "data_to_frontend['difference'] = data_to_frontend.inferred_price - data_to_frontend.price\n",
    "data_to_frontend.sample()"
   ]
  },
  {
   "cell_type": "code",
   "execution_count": 209,
   "id": "026a74c5-86ef-41c3-be7f-95d2707bc19a",
   "metadata": {},
   "outputs": [
    {
     "data": {
      "text/plain": [
       "price                0\n",
       "floor_area           0\n",
       "latitude             0\n",
       "longitude            0\n",
       "bedroom              0\n",
       "bathroom             0\n",
       "type_house         471\n",
       "code              1263\n",
       "inferred_price       0\n",
       "difference           0\n",
       "dtype: int64"
      ]
     },
     "execution_count": 209,
     "metadata": {},
     "output_type": "execute_result"
    }
   ],
   "source": [
    "data_to_frontend.isna().sum()"
   ]
  },
  {
   "cell_type": "code",
   "execution_count": 210,
   "id": "771cf7b5-dae1-4146-b2b4-cb01ce4d6793",
   "metadata": {},
   "outputs": [
    {
     "data": {
      "text/plain": [
       "0    84772.43750\n",
       "1      660.71875\n",
       "2   -40700.59375\n",
       "3    -4232.12500\n",
       "4    44582.09375\n",
       "Name: difference, dtype: float64"
      ]
     },
     "execution_count": 210,
     "metadata": {},
     "output_type": "execute_result"
    }
   ],
   "source": [
    "data_to_frontend.difference.head()"
   ]
  },
  {
   "cell_type": "code",
   "execution_count": 212,
   "id": "85b9965a-24cc-4a8e-a12c-a93199fcefe2",
   "metadata": {},
   "outputs": [
    {
     "name": "stdout",
     "output_type": "stream",
     "text": [
      "-1290942.3125\n",
      "634161.625\n",
      "1011.3849395552492\n"
     ]
    }
   ],
   "source": [
    "print(data_to_frontend.difference.min())\n",
    "print(data_to_frontend.difference.max())    \n",
    "print(data_to_frontend.difference.mean())    "
   ]
  },
  {
   "cell_type": "code",
   "execution_count": 213,
   "id": "f82d8578-37a9-4fd5-921d-0ee944af4593",
   "metadata": {},
   "outputs": [
    {
     "name": "stdout",
     "output_type": "stream",
     "text": [
      "634161.625\n",
      "12.46875\n"
     ]
    }
   ],
   "source": [
    "print(data_to_frontend.loc[data_to_frontend.difference > 0, 'difference'].max())\n",
    "print(data_to_frontend.loc[data_to_frontend.difference > 0, 'difference'].min())"
   ]
  },
  {
   "cell_type": "code",
   "execution_count": 214,
   "id": "53a5eb8c-b2bd-4dce-99bc-e93ec9461d31",
   "metadata": {},
   "outputs": [
    {
     "name": "stdout",
     "output_type": "stream",
     "text": [
      "-29.09375\n",
      "-1290942.3125\n"
     ]
    }
   ],
   "source": [
    "print(data_to_frontend.loc[data_to_frontend.difference < 0, 'difference'].max())\n",
    "print(data_to_frontend.loc[data_to_frontend.difference < 0, 'difference'].min())"
   ]
  },
  {
   "cell_type": "raw",
   "id": "d7af4f84-f088-4b6f-be10-e6a1740937a2",
   "metadata": {},
   "source": [
    "max_pos = data_to_frontend.loc[data_to_frontend.difference > 0, 'difference'].max()\n",
    "max_neg = data_to_frontend.loc[data_to_frontend.difference < 0, 'difference'].min()\n",
    "\n",
    "if dif > 0:\n",
    "    result = dif / max_pos\n",
    "elif dif < 0:\n",
    "    result = -(dif / max_neg)\n",
    "    \n"
   ]
  },
  {
   "cell_type": "code",
   "execution_count": 217,
   "id": "ce65012e-3d47-47ae-a815-c2b8144cc81e",
   "metadata": {},
   "outputs": [
    {
     "data": {
      "text/plain": [
       "(7344,)"
      ]
     },
     "execution_count": 217,
     "metadata": {},
     "output_type": "execute_result"
    }
   ],
   "source": [
    "nan_array = np.empty(data_to_frontend.shape[0])\n",
    "nan_array[:] = np.NaN\n",
    "nan_ser = pd.Series(nan_array)\n",
    "nan_ser.shape"
   ]
  },
  {
   "cell_type": "code",
   "execution_count": 218,
   "id": "a25faa8b-dbca-4e9f-92c9-b3197c3f69b3",
   "metadata": {},
   "outputs": [
    {
     "data": {
      "text/html": [
       "<div>\n",
       "<style scoped>\n",
       "    .dataframe tbody tr th:only-of-type {\n",
       "        vertical-align: middle;\n",
       "    }\n",
       "\n",
       "    .dataframe tbody tr th {\n",
       "        vertical-align: top;\n",
       "    }\n",
       "\n",
       "    .dataframe thead th {\n",
       "        text-align: right;\n",
       "    }\n",
       "</style>\n",
       "<table border=\"1\" class=\"dataframe\">\n",
       "  <thead>\n",
       "    <tr style=\"text-align: right;\">\n",
       "      <th></th>\n",
       "      <th>price</th>\n",
       "      <th>floor_area</th>\n",
       "      <th>latitude</th>\n",
       "      <th>longitude</th>\n",
       "      <th>bedroom</th>\n",
       "      <th>bathroom</th>\n",
       "      <th>type_house</th>\n",
       "      <th>code</th>\n",
       "      <th>inferred_price</th>\n",
       "      <th>difference</th>\n",
       "      <th>dif_per</th>\n",
       "    </tr>\n",
       "  </thead>\n",
       "  <tbody>\n",
       "    <tr>\n",
       "      <th>60</th>\n",
       "      <td>309000.0</td>\n",
       "      <td>110</td>\n",
       "      <td>51.822164</td>\n",
       "      <td>-8.230662</td>\n",
       "      <td>3</td>\n",
       "      <td>3</td>\n",
       "      <td>house</td>\n",
       "      <td>P25</td>\n",
       "      <td>286741.6875</td>\n",
       "      <td>-22258.3125</td>\n",
       "      <td>NaN</td>\n",
       "    </tr>\n",
       "  </tbody>\n",
       "</table>\n",
       "</div>"
      ],
      "text/plain": [
       "       price  floor_area   latitude  longitude  bedroom  bathroom type_house  \\\n",
       "60  309000.0         110  51.822164  -8.230662        3         3      house   \n",
       "\n",
       "   code  inferred_price  difference  dif_per  \n",
       "60  P25     286741.6875 -22258.3125      NaN  "
      ]
     },
     "execution_count": 218,
     "metadata": {},
     "output_type": "execute_result"
    }
   ],
   "source": [
    "data_to_frontend['dif_per'] = nan_ser\n",
    "data_to_frontend.sample()"
   ]
  },
  {
   "cell_type": "code",
   "execution_count": 219,
   "id": "16230343-1da1-409e-8699-fa10045b7af1",
   "metadata": {},
   "outputs": [],
   "source": [
    "max_pos = data_to_frontend.loc[data_to_frontend.difference > 0, 'difference'].max()\n",
    "max_neg = data_to_frontend.loc[data_to_frontend.difference < 0, 'difference'].min()\n",
    "\n",
    "def difference_percentage(dif):\n",
    "    \n",
    "    if dif > 0:\n",
    "        result = dif / max_pos\n",
    "    elif dif < 0:\n",
    "        result = -(dif / max_neg)\n",
    "        \n",
    "    return result"
   ]
  },
  {
   "cell_type": "code",
   "execution_count": 220,
   "id": "7eaa8761-763c-4031-9797-4996c55e3982",
   "metadata": {
    "tags": []
   },
   "outputs": [],
   "source": [
    "for i, row in data_to_frontend.iterrows():\n",
    "    #print(row.difference)\n",
    "    \n",
    "    dif_per = difference_percentage(row.difference)\n",
    "        \n",
    "    data_to_frontend.loc[i, 'dif_per'] = dif_per\n",
    "    "
   ]
  },
  {
   "cell_type": "code",
   "execution_count": 221,
   "id": "8edac209-264b-4bd4-bb1a-b04d22ff1823",
   "metadata": {},
   "outputs": [
    {
     "data": {
      "text/html": [
       "<div>\n",
       "<style scoped>\n",
       "    .dataframe tbody tr th:only-of-type {\n",
       "        vertical-align: middle;\n",
       "    }\n",
       "\n",
       "    .dataframe tbody tr th {\n",
       "        vertical-align: top;\n",
       "    }\n",
       "\n",
       "    .dataframe thead th {\n",
       "        text-align: right;\n",
       "    }\n",
       "</style>\n",
       "<table border=\"1\" class=\"dataframe\">\n",
       "  <thead>\n",
       "    <tr style=\"text-align: right;\">\n",
       "      <th></th>\n",
       "      <th>price</th>\n",
       "      <th>floor_area</th>\n",
       "      <th>latitude</th>\n",
       "      <th>longitude</th>\n",
       "      <th>bedroom</th>\n",
       "      <th>bathroom</th>\n",
       "      <th>type_house</th>\n",
       "      <th>code</th>\n",
       "      <th>inferred_price</th>\n",
       "      <th>difference</th>\n",
       "      <th>dif_per</th>\n",
       "    </tr>\n",
       "  </thead>\n",
       "  <tbody>\n",
       "    <tr>\n",
       "      <th>2895</th>\n",
       "      <td>330000.0</td>\n",
       "      <td>170</td>\n",
       "      <td>52.260466</td>\n",
       "      <td>-6.389327</td>\n",
       "      <td>3</td>\n",
       "      <td>4</td>\n",
       "      <td>house</td>\n",
       "      <td>Y35</td>\n",
       "      <td>384707.8125</td>\n",
       "      <td>54707.8125</td>\n",
       "      <td>0.086268</td>\n",
       "    </tr>\n",
       "  </tbody>\n",
       "</table>\n",
       "</div>"
      ],
      "text/plain": [
       "         price  floor_area   latitude  longitude  bedroom  bathroom  \\\n",
       "2895  330000.0         170  52.260466  -6.389327        3         4   \n",
       "\n",
       "     type_house code  inferred_price  difference   dif_per  \n",
       "2895      house  Y35     384707.8125  54707.8125  0.086268  "
      ]
     },
     "execution_count": 221,
     "metadata": {},
     "output_type": "execute_result"
    }
   ],
   "source": [
    "data_to_frontend.sample()"
   ]
  },
  {
   "cell_type": "code",
   "execution_count": 222,
   "id": "bf47579a-6d96-4e1b-8e2c-b41083d1f26d",
   "metadata": {},
   "outputs": [
    {
     "data": {
      "text/plain": [
       "price                0\n",
       "floor_area           0\n",
       "latitude             0\n",
       "longitude            0\n",
       "bedroom              0\n",
       "bathroom             0\n",
       "type_house         471\n",
       "code              1263\n",
       "inferred_price       0\n",
       "difference           0\n",
       "dif_per              0\n",
       "dtype: int64"
      ]
     },
     "execution_count": 222,
     "metadata": {},
     "output_type": "execute_result"
    }
   ],
   "source": [
    "data_to_frontend.isna().sum()"
   ]
  },
  {
   "cell_type": "code",
   "execution_count": null,
   "id": "d815d65f-63f3-421d-b431-dcdf6e3fa07f",
   "metadata": {},
   "outputs": [],
   "source": []
  },
  {
   "cell_type": "code",
   "execution_count": 223,
   "id": "4b0842de-324b-4908-961d-e2b8ca9bf2f6",
   "metadata": {},
   "outputs": [],
   "source": [
    "data_to_frontend.to_csv('FrontEnd/data_predicted.csv', sep=',', index=False)"
   ]
  },
  {
   "cell_type": "code",
   "execution_count": null,
   "id": "f7c97975-4a9d-49a1-be3b-1c07f10d00d6",
   "metadata": {},
   "outputs": [],
   "source": []
  }
 ],
 "metadata": {
  "kernelspec": {
   "display_name": "Python 3 (ipykernel)",
   "language": "python",
   "name": "python3"
  },
  "language_info": {
   "codemirror_mode": {
    "name": "ipython",
    "version": 3
   },
   "file_extension": ".py",
   "mimetype": "text/x-python",
   "name": "python",
   "nbconvert_exporter": "python",
   "pygments_lexer": "ipython3",
   "version": "3.7.11"
  },
  "toc-autonumbering": true
 },
 "nbformat": 4,
 "nbformat_minor": 5
}
