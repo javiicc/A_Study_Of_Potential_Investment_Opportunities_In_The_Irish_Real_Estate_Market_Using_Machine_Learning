{
 "cells": [
  {
   "cell_type": "markdown",
   "id": "2b1cde2f-e700-4549-8bf9-3af3141d482a",
   "metadata": {
    "tags": []
   },
   "source": [
    "# Data"
   ]
  },
  {
   "cell_type": "markdown",
   "id": "c0c6583f-8405-4a55-894f-414e650c72e6",
   "metadata": {
    "tags": []
   },
   "source": [
    "## Import libraries and Set Options"
   ]
  },
  {
   "cell_type": "code",
   "execution_count": 4,
   "id": "6b1007dc-b3a7-4b52-b3cb-e7260cdf8baf",
   "metadata": {},
   "outputs": [],
   "source": [
    "import numpy as np\n",
    "import pandas as pd\n",
    "import matplotlib.pyplot as plt\n",
    "import seaborn as sns\n",
    "\n",
    "from sklearn.model_selection import train_test_split, cross_validate, GridSearchCV, ParameterGrid, cross_val_score\n",
    "from sklearn.preprocessing import (StandardScaler, OneHotEncoder,\n",
    "                                   PolynomialFeatures)\n",
    "from sklearn.impute import SimpleImputer\n",
    "\n",
    "from sklearn.pipeline import Pipeline\n",
    "from sklearn.compose import ColumnTransformer\n",
    "\n",
    "from sklearn.linear_model import LinearRegression\n",
    "from sklearn.tree import DecisionTreeRegressor\n",
    "from sklearn.ensemble import RandomForestRegressor\n",
    "\n",
    "from sklearn import metrics\n",
    "from sklearn.metrics import mean_absolute_percentage_error\n",
    "\n",
    "from daftpy.daftmodel import split_data, scores_statistics, metrics_regression, plot_learning_curves, compare_models\n",
    "\n",
    "import joblib"
   ]
  },
  {
   "cell_type": "code",
   "execution_count": 5,
   "id": "458cf704-359d-4cef-9b6b-d7071c3be864",
   "metadata": {},
   "outputs": [],
   "source": [
    "pd.set_option('display.max_rows', None)\n",
    "pd.set_option('display.max_columns', None)\n",
    "plt.style.use('seaborn')"
   ]
  },
  {
   "cell_type": "markdown",
   "id": "455a52a9-32fb-485f-b06f-34b80561ecfa",
   "metadata": {
    "tags": []
   },
   "source": [
    "## Load Data"
   ]
  },
  {
   "cell_type": "code",
   "execution_count": 9,
   "id": "6b90327e-f46b-49ca-86a0-93a8fd8fdbb7",
   "metadata": {},
   "outputs": [
    {
     "data": {
      "text/plain": [
       "(7344, 9)"
      ]
     },
     "execution_count": 9,
     "metadata": {},
     "output_type": "execute_result"
    }
   ],
   "source": [
    "data = pd.read_csv('data_available/selected_data.csv', sep=',')\n",
    "data.shape  #### cambiar esto"
   ]
  },
  {
   "cell_type": "raw",
   "id": "b7a22706-ceae-490b-a833-03d4729f2193",
   "metadata": {},
   "source": [
    "features = [\n",
    "    \n",
    "    'price',\n",
    "    'floor_area',\n",
    "    'views',\n",
    "    'latitude',\n",
    "    'longitude',\n",
    "#    'bedroom',\n",
    "    'bathroom',\n",
    "#    'sale_type',\n",
    "    'type_house',\n",
    "#    'postcode',\n",
    "#    'state_district',\n",
    "#    'county',\n",
    "#    'city_district',\n",
    "#    'road',\n",
    "#    'place',\n",
    "    'code',\n",
    "#    'admin1',\n",
    "#    'cities'\n",
    "]\n",
    "\n",
    "data = sale_data[features].copy()\n",
    "data.shape"
   ]
  },
  {
   "cell_type": "code",
   "execution_count": 10,
   "id": "eb7eaa6d-f353-4d46-91c0-d20992614833",
   "metadata": {},
   "outputs": [
    {
     "data": {
      "text/html": [
       "<div>\n",
       "<style scoped>\n",
       "    .dataframe tbody tr th:only-of-type {\n",
       "        vertical-align: middle;\n",
       "    }\n",
       "\n",
       "    .dataframe tbody tr th {\n",
       "        vertical-align: top;\n",
       "    }\n",
       "\n",
       "    .dataframe thead th {\n",
       "        text-align: right;\n",
       "    }\n",
       "</style>\n",
       "<table border=\"1\" class=\"dataframe\">\n",
       "  <thead>\n",
       "    <tr style=\"text-align: right;\">\n",
       "      <th></th>\n",
       "      <th>numerical</th>\n",
       "      <th>categorical</th>\n",
       "    </tr>\n",
       "  </thead>\n",
       "  <tbody>\n",
       "    <tr>\n",
       "      <th>0</th>\n",
       "      <td>floor_area</td>\n",
       "      <td>place</td>\n",
       "    </tr>\n",
       "    <tr>\n",
       "      <th>1</th>\n",
       "      <td>bedroom</td>\n",
       "      <td>type_house</td>\n",
       "    </tr>\n",
       "    <tr>\n",
       "      <th>2</th>\n",
       "      <td>bathroom</td>\n",
       "      <td>city_district</td>\n",
       "    </tr>\n",
       "    <tr>\n",
       "      <th>3</th>\n",
       "      <td>longitude</td>\n",
       "      <td></td>\n",
       "    </tr>\n",
       "    <tr>\n",
       "      <th>4</th>\n",
       "      <td>latitude</td>\n",
       "      <td></td>\n",
       "    </tr>\n",
       "  </tbody>\n",
       "</table>\n",
       "</div>"
      ],
      "text/plain": [
       "    numerical    categorical\n",
       "0  floor_area          place\n",
       "1     bedroom     type_house\n",
       "2    bathroom  city_district\n",
       "3   longitude               \n",
       "4    latitude               "
      ]
     },
     "execution_count": 10,
     "metadata": {},
     "output_type": "execute_result"
    }
   ],
   "source": [
    "num_features = list(data.select_dtypes('number').columns) #X_train\n",
    "num_features.remove('price')\n",
    "cat_features =  list(data.select_dtypes('object').columns)\n",
    "\n",
    "num_feat_df = pd.DataFrame({'numerical': num_features}) \n",
    "cat_feat_df = pd.DataFrame({'categorical': cat_features})\n",
    "\n",
    "feat_df = num_feat_df.merge(cat_feat_df, how='left', left_index=True, right_index=True).fillna(' ')\n",
    "feat_df"
   ]
  },
  {
   "cell_type": "code",
   "execution_count": 6,
   "id": "c6599fa1-ea6e-451e-a97a-f8891abb6a77",
   "metadata": {},
   "outputs": [
    {
     "data": {
      "text/html": [
       "<div>\n",
       "<style scoped>\n",
       "    .dataframe tbody tr th:only-of-type {\n",
       "        vertical-align: middle;\n",
       "    }\n",
       "\n",
       "    .dataframe tbody tr th {\n",
       "        vertical-align: top;\n",
       "    }\n",
       "\n",
       "    .dataframe thead th {\n",
       "        text-align: right;\n",
       "    }\n",
       "</style>\n",
       "<table border=\"1\" class=\"dataframe\">\n",
       "  <thead>\n",
       "    <tr style=\"text-align: right;\">\n",
       "      <th></th>\n",
       "      <th>categorical</th>\n",
       "      <th>n_levels</th>\n",
       "      <th>sample</th>\n",
       "    </tr>\n",
       "  </thead>\n",
       "  <tbody>\n",
       "    <tr>\n",
       "      <th>0</th>\n",
       "      <td>type_house</td>\n",
       "      <td>2</td>\n",
       "      <td>[house, apartment]</td>\n",
       "    </tr>\n",
       "    <tr>\n",
       "      <th>1</th>\n",
       "      <td>code</td>\n",
       "      <td>137</td>\n",
       "      <td>[D09, T23, F91, V95, R32]</td>\n",
       "    </tr>\n",
       "  </tbody>\n",
       "</table>\n",
       "</div>"
      ],
      "text/plain": [
       "  categorical  n_levels                     sample\n",
       "0  type_house         2         [house, apartment]\n",
       "1        code       137  [D09, T23, F91, V95, R32]"
      ]
     },
     "execution_count": 6,
     "metadata": {},
     "output_type": "execute_result"
    }
   ],
   "source": [
    "levels_type_house = data.type_house.unique()\n",
    "levels_code = data.code.unique()\n",
    "\n",
    "cat_feat_df['n_levels'] = [data.type_house.nunique(), data.code.nunique()]\n",
    "cat_feat_df['sample'] = [levels_type_house, levels_code[:5]]\n",
    "cat_feat_df # mejorar"
   ]
  },
  {
   "cell_type": "markdown",
   "id": "0bb15326-8376-468d-8752-791c56461487",
   "metadata": {
    "jp-MarkdownHeadingCollapsed": true,
    "tags": []
   },
   "source": [
    "## Split Data"
   ]
  },
  {
   "cell_type": "code",
   "execution_count": 7,
   "id": "afd1e9e6-afbd-4552-9488-9157053371fa",
   "metadata": {},
   "outputs": [
    {
     "name": "stdout",
     "output_type": "stream",
     "text": [
      "X_train: (5909, 7) \n",
      "X_test: (1478, 7) \n",
      "y_train: (5909,) \n",
      "y_test: (1478,) \n",
      "\n"
     ]
    }
   ],
   "source": [
    "X_train, X_test, y_train, y_test = split_data(data=data, \n",
    "                                              target='price', \n",
    "                                              test_size=.2, \n",
    "                                              output='X_y_train_test',\n",
    "                                              random_state=42)"
   ]
  },
  {
   "cell_type": "markdown",
   "id": "4031280c-e4ea-48dc-8af8-574ea8894ded",
   "metadata": {},
   "source": [
    "------------"
   ]
  },
  {
   "cell_type": "markdown",
   "id": "a7b3673b-54c7-4ae7-b1fa-25289981e0c9",
   "metadata": {
    "jp-MarkdownHeadingCollapsed": true,
    "tags": []
   },
   "source": [
    "# Metrics"
   ]
  },
  {
   "cell_type": "code",
   "execution_count": 8,
   "id": "5306a3a9-08b6-413a-8fc4-c3a7d7f9c737",
   "metadata": {},
   "outputs": [],
   "source": [
    "scoring = {'r2': 'r2', \n",
    "           'MAE': 'neg_mean_absolute_error', \n",
    "           'MAPE': 'neg_mean_absolute_percentage_error', \n",
    "           'RMSE': 'neg_root_mean_squared_error'}"
   ]
  },
  {
   "cell_type": "markdown",
   "id": "bca2d51d-2d13-42c5-8b3d-3e415b91a560",
   "metadata": {},
   "source": [
    "# Models"
   ]
  },
  {
   "cell_type": "markdown",
   "id": "3fea1855-2df2-467d-8550-69b064af1434",
   "metadata": {
    "jp-MarkdownHeadingCollapsed": true,
    "tags": []
   },
   "source": [
    "## Multiple Linear Regression"
   ]
  },
  {
   "cell_type": "markdown",
   "id": "0ce9317b-c9da-446d-a085-2b16dbc6bc8e",
   "metadata": {},
   "source": [
    "En estadística, el **coeficiente de determinación**, denominado R² y pronunciado R cuadrado, es un estadístico usado en el contexto de un modelo estadístico cuyo principal propósito es predecir futuros resultados o probar una hipótesis. El coeficiente determina la calidad del modelo para replicar los resultados, y la proporción de variación de los resultados que puede explicarse por el modelo.\n",
    "\n",
    "Es el porcentaje de la variación en la variable de respuesta que es explicado por un modelo lineal. Es decir:\n",
    "\n",
    "R-cuadrado = Variación explicada / variación total\n",
    "\n",
    "El R-cuadrado siempre está entre 0 y 100%:"
   ]
  },
  {
   "cell_type": "markdown",
   "id": "6028ab71-9371-4cdc-b0ae-efbd2537cef1",
   "metadata": {},
   "source": [
    "https://scikit-learn.org/stable/modules/cross_validation.html"
   ]
  },
  {
   "cell_type": "code",
   "execution_count": 9,
   "id": "a1dfedf3-9533-47fd-a31b-b48bb1fe92a9",
   "metadata": {},
   "outputs": [],
   "source": [
    "num_pipe = Pipeline([\n",
    "    ('std_scaler', StandardScaler()),\n",
    "#    ('poly', PolynomialFeatures(degree=3, include_bias=False)),\n",
    "    ])\n",
    "\n",
    "cat_pipe = Pipeline([\n",
    "    ('one_hot_encoder', OneHotEncoder(categories=[levels_type_house, levels_code]))  # No hace nada si ya transformadas\n",
    "                                      #handle_unknown='ignore'\n",
    "    ])\n",
    "# Las transforme antes para evitar problemas no las variables a la hora de predecir e el test_set...\n",
    "\n",
    "preprocessor = ColumnTransformer([\n",
    "    ('num', num_pipe, num_features),\n",
    "    ('cat', cat_pipe, cat_features),\n",
    "    ]) #, remainder='passthrough'\n",
    "\n",
    "\n",
    "lr_pipe_estimator = Pipeline(steps=[\n",
    "    ('preprocessor', preprocessor),\n",
    "    ('imputer', SimpleImputer(strategy='constant', # esto lo puedo agnadir en los otros pipes\n",
    "                              fill_value=None)),\n",
    "    ('regressor', LinearRegression())\n",
    "    ])"
   ]
  },
  {
   "cell_type": "code",
   "execution_count": 10,
   "id": "44524b4a-9a06-458f-b958-c03cdee765fe",
   "metadata": {
    "tags": []
   },
   "outputs": [
    {
     "name": "stdout",
     "output_type": "stream",
     "text": [
      "r2 mean: 0.6581505970522035\n",
      "r2 std: 0.03247492814306588 \n",
      "\n",
      "MAE mean: -108719.58221709491\n",
      "MAE std: 5568.4947907050655 \n",
      "\n",
      "MAPE mean: -0.32069981130761466\n",
      "MAPE std: 0.015889144852600887 \n",
      "\n",
      "RMSE mean: -176983.98634043717\n",
      "RMSE std: 12945.409397794008 \n",
      "\n"
     ]
    }
   ],
   "source": [
    "scores_lr, scores_resume_lr = scores_statistics(estimator=lr_pipe_estimator, \n",
    "                                                scoring_dict=scoring, \n",
    "                                                X_train=X_train, \n",
    "                                                y_train=y_train, \n",
    "                                                cv=10, \n",
    "                                                return_train_score=False)"
   ]
  },
  {
   "cell_type": "markdown",
   "id": "9a5bd6f7-a034-48a1-8720-37e6b296748d",
   "metadata": {},
   "source": [
    "### Overfitting Analysis"
   ]
  },
  {
   "cell_type": "markdown",
   "id": "2421336e-7cfa-4752-acd1-39b010daef44",
   "metadata": {},
   "source": [
    "#### Evaluating on the Training and Test Sets"
   ]
  },
  {
   "cell_type": "markdown",
   "id": "37122528-5f26-471e-899b-22bdba9b4799",
   "metadata": {},
   "source": [
    "We can identify if a machine learning model has overfit by first evaluating the model on the training dataset and then evaluating the same model on a holdout test dataset.\n",
    "\n",
    "If the performance of the model on the training dataset is significantly better than the performance on the test dataset, then the model may have overfit the training dataset."
   ]
  },
  {
   "cell_type": "code",
   "execution_count": 11,
   "id": "ca0bbad9-0fd6-44c4-899a-6d67bf11d076",
   "metadata": {},
   "outputs": [
    {
     "name": "stdout",
     "output_type": "stream",
     "text": [
      "Performance on the training set:\n",
      " ----------\n",
      "R²: 0.6739892726197527\n",
      "MAE: 106081.66588347829\n",
      "MAPE: 0.31183387356867376\n",
      "RMSE: 173716.41014659725\n",
      "\n",
      "Performance on the test set:\n",
      " ----------\n",
      "R²: 0.6468123069342815\n",
      "MAE: 111099.76275851484\n",
      "MAPE: 0.321239513969634\n",
      "RMSE: 183180.30027983472\n",
      "\n"
     ]
    }
   ],
   "source": [
    "lr = lr_pipe_estimator.fit(X_train, y_train)\n",
    "\n",
    "print('Performance on the training set:\\n', '-'*10)\n",
    "y_pred_train = lr.predict(X_train)\n",
    "metrics_regression(y_test=y_train, \n",
    "                   y_pred=y_pred_train, \n",
    "                   squared=False)\n",
    "\n",
    "print('Performance on the test set:\\n', '-'*10)\n",
    "y_pred = lr.predict(X_test)\n",
    "metrics_regression(y_test=y_test, \n",
    "                   y_pred=y_pred, \n",
    "                   squared=False)"
   ]
  },
  {
   "cell_type": "markdown",
   "id": "1db8bd07-35ce-4e84-b9b7-8143398f3ade",
   "metadata": {
    "tags": []
   },
   "source": [
    "#### Learning Curves"
   ]
  },
  {
   "cell_type": "raw",
   "id": "6c2a0f12-03fb-4e08-8315-bff22d8a0e17",
   "metadata": {
    "jupyter": {
     "outputs_hidden": true
    },
    "tags": []
   },
   "source": [
    "plot_learning_curves(model=lr_pipe_estimator, \n",
    "                     X_train=X_train, \n",
    "                     y_train=y_train, \n",
    "                     X_test=X_test, \n",
    "                     y_test=y_test,\n",
    "                     metric='mape')"
   ]
  },
  {
   "cell_type": "markdown",
   "id": "68cc37f1-55f7-47f2-a1b9-192ef4cb877e",
   "metadata": {},
   "source": [
    "The model is underfitting the training data, so we need to use more complex models or come up with better features."
   ]
  },
  {
   "cell_type": "code",
   "execution_count": null,
   "id": "7c9a9e17-1767-458b-a4f6-37fde2ffc619",
   "metadata": {},
   "outputs": [],
   "source": []
  },
  {
   "cell_type": "raw",
   "id": "ccffe742-38cd-4031-9aff-4e5935537938",
   "metadata": {
    "tags": []
   },
   "source": [
    "sns.regplot(x=y_test, y=lr_pipe_estimator.predict(X_test), \n",
    "            scatter_kws={\"color\": \"cornflowerblue\"}, line_kws={\"color\": \"red\"})\\\n",
    "           .set_title('Actual vs Predicted');"
   ]
  },
  {
   "cell_type": "markdown",
   "id": "02906502-6f02-47f8-a4f0-79e0f3fb33b3",
   "metadata": {},
   "source": [
    "-------------"
   ]
  },
  {
   "cell_type": "raw",
   "id": "f7f7bda9-cf01-4608-9ad6-0f1686e311ca",
   "metadata": {},
   "source": [
    "joblib.dump(lr, 'models/linear_regression.plk')\n",
    "# esto es genial <3"
   ]
  },
  {
   "cell_type": "raw",
   "id": "eda8b9b5-177e-4650-866a-921bc82cc794",
   "metadata": {},
   "source": [
    "testing_load = joblib.load('models/linear_regression.plk')"
   ]
  },
  {
   "cell_type": "raw",
   "id": "8e111d60-6f6f-4870-a93d-24e0e3736fd7",
   "metadata": {},
   "source": [
    "testing_load"
   ]
  },
  {
   "cell_type": "raw",
   "id": "e928cb88-d27a-4808-b425-34ed51ed825b",
   "metadata": {},
   "source": [
    "testing_load.intercept_, testing_load.coef_"
   ]
  },
  {
   "cell_type": "markdown",
   "id": "ac6aedae-ec47-49a5-83f5-d3c9b180498b",
   "metadata": {},
   "source": [
    "------------"
   ]
  },
  {
   "cell_type": "markdown",
   "id": "87f75da6-97f1-494d-ac43-303396e9ccbe",
   "metadata": {},
   "source": [
    "--------------"
   ]
  },
  {
   "cell_type": "raw",
   "id": "73607191-2179-4617-9a9a-90912b44f574",
   "metadata": {},
   "source": [
    "data.shape"
   ]
  },
  {
   "cell_type": "raw",
   "id": "63e260f1-0718-4839-bc7e-dcb00b8e74fd",
   "metadata": {},
   "source": [
    "df_dum = pd.get_dummies(data.copy())\n",
    "df_dum.shape"
   ]
  },
  {
   "cell_type": "raw",
   "id": "6d5f00db-414b-401f-90e1-f55c5db414e4",
   "metadata": {},
   "source": [
    "# Train test split\n",
    "\n",
    "from sklearn.model_selection import train_test_split\n",
    "\n",
    "y = df_dum.price.values\n",
    "X = df_dum.drop('price', axis=1)\n",
    "\n",
    "\n",
    "X_train, X_test, y_train, y_test = train_test_split(X, y, test_size=.20, random_state=42)\n",
    "X_train.shape, X_test.shape, y_train.shape, y_test.shape"
   ]
  },
  {
   "cell_type": "raw",
   "id": "fad76282-f62b-4908-89f7-e8cbe89ca255",
   "metadata": {
    "jupyter": {
     "outputs_hidden": true
    },
    "tags": []
   },
   "source": [
    "# Multiple linear regression\n",
    "\n",
    "import statsmodels.api as sm\n",
    "\n",
    "X = sm.add_constant(X) # para el intercept\n",
    "\n",
    "model = sm.OLS(y, X)\n",
    "model.fit().summary()"
   ]
  },
  {
   "cell_type": "code",
   "execution_count": null,
   "id": "63cdb0f6-2fe7-406e-9d58-d024c3d88e1d",
   "metadata": {},
   "outputs": [],
   "source": []
  },
  {
   "cell_type": "code",
   "execution_count": 12,
   "id": "67df135d-ff11-4e8e-a15f-c3c1a1dddf16",
   "metadata": {},
   "outputs": [],
   "source": [
    "#joblib.dump(lr, 'models/linear_regression_01-11-2021.plk')"
   ]
  },
  {
   "cell_type": "markdown",
   "id": "dd94640e-e436-4e9e-8700-475bbc161121",
   "metadata": {},
   "source": [
    "-------------------"
   ]
  },
  {
   "cell_type": "markdown",
   "id": "e394be27-c069-4b66-a056-dc501aceebcb",
   "metadata": {
    "jp-MarkdownHeadingCollapsed": true,
    "tags": []
   },
   "source": [
    "## Regularized Linear Models"
   ]
  },
  {
   "cell_type": "code",
   "execution_count": 13,
   "id": "bf0f7cf5-ce9f-4e80-9234-8a6deb36c2aa",
   "metadata": {},
   "outputs": [
    {
     "data": {
      "text/plain": [
       "(7387, 8)"
      ]
     },
     "execution_count": 13,
     "metadata": {},
     "output_type": "execute_result"
    }
   ],
   "source": [
    "data.shape"
   ]
  },
  {
   "cell_type": "code",
   "execution_count": 14,
   "id": "40804673-fda1-413a-b03d-baeb8d38dd2a",
   "metadata": {},
   "outputs": [
    {
     "data": {
      "text/plain": [
       "(7387, 145)"
      ]
     },
     "execution_count": 14,
     "metadata": {},
     "output_type": "execute_result"
    }
   ],
   "source": [
    "df_dum = pd.get_dummies(data.copy())\n",
    "df_dum.shape"
   ]
  },
  {
   "cell_type": "code",
   "execution_count": 15,
   "id": "1e96b7b9-9d5b-484f-aa84-7f9684e43f97",
   "metadata": {},
   "outputs": [
    {
     "data": {
      "text/plain": [
       "((5909, 144), (1478, 144), (5909,), (1478,))"
      ]
     },
     "execution_count": 15,
     "metadata": {},
     "output_type": "execute_result"
    }
   ],
   "source": [
    "# Train test split\n",
    "\n",
    "from sklearn.model_selection import train_test_split\n",
    "\n",
    "y = df_dum.price.values\n",
    "X = df_dum.drop('price', axis=1)\n",
    "\n",
    "\n",
    "X_train, X_test, y_train, y_test = train_test_split(X, y, test_size=.20, random_state=42)\n",
    "X_train.shape, X_test.shape, y_train.shape, y_test.shape"
   ]
  },
  {
   "cell_type": "code",
   "execution_count": 16,
   "id": "bfec463c-c623-4909-96bc-6c4faa271e4c",
   "metadata": {
    "tags": []
   },
   "outputs": [
    {
     "data": {
      "image/png": "[encoded data removed]",
      "text/plain": [
       "<Figure size 576x396 with 1 Axes>"
      ]
     },
     "metadata": {},
     "output_type": "display_data"
    }
   ],
   "source": [
    "# Ridge Regression\n",
    "from sklearn.linear_model import Ridge\n",
    "\n",
    "alpha = []\n",
    "error = []\n",
    "\n",
    "for i in range(1,100):\n",
    "    value = i/100\n",
    "    alpha.append(value)\n",
    "    ridge = Ridge(alpha=value, solver='cholesky')\n",
    "    error.append(np.mean(cross_val_score(ridge, X_train, y_train, scoring='r2', cv=3)))\n",
    "    \n",
    "plt.plot(alpha, error);"
   ]
  },
  {
   "cell_type": "code",
   "execution_count": 17,
   "id": "d1b07386-7dbb-4013-b323-81f09f87e87e",
   "metadata": {},
   "outputs": [
    {
     "data": {
      "text/html": [
       "<div>\n",
       "<style scoped>\n",
       "    .dataframe tbody tr th:only-of-type {\n",
       "        vertical-align: middle;\n",
       "    }\n",
       "\n",
       "    .dataframe tbody tr th {\n",
       "        vertical-align: top;\n",
       "    }\n",
       "\n",
       "    .dataframe thead th {\n",
       "        text-align: right;\n",
       "    }\n",
       "</style>\n",
       "<table border=\"1\" class=\"dataframe\">\n",
       "  <thead>\n",
       "    <tr style=\"text-align: right;\">\n",
       "      <th></th>\n",
       "      <th>alpha</th>\n",
       "      <th>error</th>\n",
       "    </tr>\n",
       "  </thead>\n",
       "  <tbody>\n",
       "    <tr>\n",
       "      <th>62</th>\n",
       "      <td>0.63</td>\n",
       "      <td>0.655409</td>\n",
       "    </tr>\n",
       "  </tbody>\n",
       "</table>\n",
       "</div>"
      ],
      "text/plain": [
       "    alpha     error\n",
       "62   0.63  0.655409"
      ]
     },
     "execution_count": 17,
     "metadata": {},
     "output_type": "execute_result"
    }
   ],
   "source": [
    "err = tuple(zip(alpha, error))\n",
    "df_err = pd.DataFrame(err, columns=['alpha', 'error'])\n",
    "df_err[df_err.error == max(df_err.error)]"
   ]
  },
  {
   "cell_type": "code",
   "execution_count": 18,
   "id": "1489ee72-cdb8-40a2-ba3e-d2a9472d2ced",
   "metadata": {
    "tags": []
   },
   "outputs": [
    {
     "data": {
      "image/png": "[encoded data removed]",
      "text/plain": [
       "<Figure size 576x396 with 1 Axes>"
      ]
     },
     "metadata": {},
     "output_type": "display_data"
    }
   ],
   "source": [
    "# Lasso Regression\n",
    "from sklearn.linear_model import Lasso\n",
    "\n",
    "alpha = []\n",
    "error = []\n",
    "\n",
    "for i in range(1,100):\n",
    "    value = i\n",
    "    alpha.append(value)\n",
    "    lasso = Lasso(alpha=value)\n",
    "    error.append(np.mean(cross_val_score(lasso, X_train, y_train, scoring='r2', cv=3)))\n",
    "    \n",
    "plt.plot(alpha, error);"
   ]
  },
  {
   "cell_type": "code",
   "execution_count": 19,
   "id": "6261fa10-fbf2-4e66-b518-85b0dcf4280c",
   "metadata": {},
   "outputs": [
    {
     "data": {
      "text/html": [
       "<div>\n",
       "<style scoped>\n",
       "    .dataframe tbody tr th:only-of-type {\n",
       "        vertical-align: middle;\n",
       "    }\n",
       "\n",
       "    .dataframe tbody tr th {\n",
       "        vertical-align: top;\n",
       "    }\n",
       "\n",
       "    .dataframe thead th {\n",
       "        text-align: right;\n",
       "    }\n",
       "</style>\n",
       "<table border=\"1\" class=\"dataframe\">\n",
       "  <thead>\n",
       "    <tr style=\"text-align: right;\">\n",
       "      <th></th>\n",
       "      <th>alpha</th>\n",
       "      <th>error</th>\n",
       "    </tr>\n",
       "  </thead>\n",
       "  <tbody>\n",
       "    <tr>\n",
       "      <th>19</th>\n",
       "      <td>20</td>\n",
       "      <td>0.655564</td>\n",
       "    </tr>\n",
       "  </tbody>\n",
       "</table>\n",
       "</div>"
      ],
      "text/plain": [
       "    alpha     error\n",
       "19     20  0.655564"
      ]
     },
     "execution_count": 19,
     "metadata": {},
     "output_type": "execute_result"
    }
   ],
   "source": [
    "err = tuple(zip(alpha, error))\n",
    "df_err = pd.DataFrame(err, columns=['alpha', 'error'])\n",
    "df_err[df_err.error == max(df_err.error)]"
   ]
  },
  {
   "cell_type": "code",
   "execution_count": 20,
   "id": "ffcfcdc4-a3d5-4a42-958b-43c24aea2c25",
   "metadata": {
    "tags": []
   },
   "outputs": [
    {
     "name": "stdout",
     "output_type": "stream",
     "text": [
      "Performance on the training set:\n",
      " ----------\n",
      "R²: 0.6738303044717102\n",
      "MAE: 105911.00915669053\n",
      "MAPE: 0.311308569751956\n",
      "RMSE: 173758.7584622816\n",
      "\n",
      "Performance on the test set:\n",
      " ----------\n",
      "R²: 0.6476035415776213\n",
      "MAE: 110721.13344880374\n",
      "MAPE: 0.32015762440309553\n",
      "RMSE: 182974.99886540006\n",
      "\n"
     ]
    }
   ],
   "source": [
    "ridge = Ridge(alpha=.63, solver='cholesky').fit(X_train, y_train)\n",
    "\n",
    "print('Performance on the training set:\\n', '-'*10)\n",
    "y_pred_train = ridge.predict(X_train)\n",
    "metrics_regression(y_test=y_train, \n",
    "                    y_pred=y_pred_train, \n",
    "                    squared=False)\n",
    "\n",
    "print('Performance on the test set:\\n', '-'*10)\n",
    "y_pred = ridge.predict(X_test)\n",
    "metrics_regression(y_test=y_test, \n",
    "                   y_pred=y_pred, \n",
    "                   squared=False)"
   ]
  },
  {
   "cell_type": "code",
   "execution_count": null,
   "id": "ae3ad93b-004d-45c6-80fd-33fbf1953091",
   "metadata": {},
   "outputs": [],
   "source": []
  },
  {
   "cell_type": "markdown",
   "id": "654f6fff-86a2-458b-b6dd-9960ed554a0d",
   "metadata": {
    "jp-MarkdownHeadingCollapsed": true,
    "tags": []
   },
   "source": [
    "## Polynomial Regression"
   ]
  },
  {
   "cell_type": "code",
   "execution_count": 21,
   "id": "7a9cc473-833e-42e6-8173-3574642056a7",
   "metadata": {},
   "outputs": [
    {
     "name": "stdout",
     "output_type": "stream",
     "text": [
      "X_train: (5909, 7) \n",
      "X_test: (1478, 7) \n",
      "y_train: (5909,) \n",
      "y_test: (1478,) \n",
      "\n"
     ]
    }
   ],
   "source": [
    "X_train, X_test, y_train, y_test = split_data(data=data, \n",
    "                                              target='price', \n",
    "                                              test_size=.2, \n",
    "                                              output='X_y_train_test',\n",
    "                                              random_state=42)"
   ]
  },
  {
   "cell_type": "code",
   "execution_count": 22,
   "id": "f6651002-e8f2-4da9-803e-6581658ca8f7",
   "metadata": {},
   "outputs": [],
   "source": [
    "num_pipe = Pipeline([\n",
    "    ('poly', PolynomialFeatures(degree=3, include_bias=False)),\n",
    "    ('std_scaler', StandardScaler()),\n",
    "    ])\n",
    "\n",
    "cat_pipe = Pipeline([\n",
    "    ('one_hot_encoder', OneHotEncoder(categories=[levels_type_house, levels_code])),  #code_levels\n",
    "                                      #handle_unknown='ignore'\n",
    "    ])\n",
    "\n",
    "\n",
    "preprocessor = ColumnTransformer([\n",
    "    ('num', num_pipe, num_features),\n",
    "    ('cat', cat_pipe, cat_features),\n",
    "    ]) #, remainder='passthrough'\n",
    "\n",
    "\n",
    "poly_pipe_estimator = Pipeline(steps=[\n",
    "    ('preprocessor', preprocessor),\n",
    "    ('imputer', SimpleImputer(strategy='constant', \n",
    "                              fill_value=None)),\n",
    "    ('regressor', LinearRegression())\n",
    "                           ])"
   ]
  },
  {
   "cell_type": "code",
   "execution_count": 23,
   "id": "b0203025-9dc1-413b-8fc3-fcf725576cd0",
   "metadata": {
    "tags": []
   },
   "outputs": [
    {
     "name": "stdout",
     "output_type": "stream",
     "text": [
      "{'preprocessor__num__poly__degree': 3}\n",
      "0.7479684669015497\n"
     ]
    }
   ],
   "source": [
    "grid_search = GridSearchCV(estimator=poly_pipe_estimator, \n",
    "                           param_grid={'preprocessor__num__poly__degree': range(1, 10)}, \n",
    "                           cv=5, \n",
    "                           n_jobs=-1,\n",
    "                        #   scoring='neg_mean_squared_error',\n",
    "                        #   return_train_score=True\n",
    "                          )\n",
    "\n",
    "grid_search.fit(X_train, y_train)\n",
    "\n",
    "print(grid_search.best_params_)\n",
    "print(grid_search.best_score_)\n",
    "#grid_search.best_estimator_"
   ]
  },
  {
   "cell_type": "code",
   "execution_count": 24,
   "id": "37a8e53c-ae97-4d7b-be61-5082c226e76c",
   "metadata": {},
   "outputs": [],
   "source": [
    "#pd.DataFrame(grid_search.cv_results_) # plotearlo"
   ]
  },
  {
   "cell_type": "code",
   "execution_count": 25,
   "id": "021b8bca-16fe-41a6-8cb8-8a1e6afd93c9",
   "metadata": {
    "tags": []
   },
   "outputs": [
    {
     "name": "stdout",
     "output_type": "stream",
     "text": [
      "r2 mean: 0.7509266721418995\n",
      "r2 std: 0.029110140197970813 \n",
      "\n",
      "MAE mean: -94476.7902938415\n",
      "MAE std: 3679.6981417813968 \n",
      "\n",
      "MAPE mean: -0.2738010265729388\n",
      "MAPE std: 0.010822070061438843 \n",
      "\n",
      "RMSE mean: -150821.55756749702\n",
      "RMSE std: 10517.670372640698 \n",
      "\n"
     ]
    }
   ],
   "source": [
    "scores = scores_statistics(estimator=poly_pipe_estimator, \n",
    "                           scoring_dict=scoring, \n",
    "                           X_train=X_train, \n",
    "                           y_train=y_train, \n",
    "                           cv=10, \n",
    "                           return_train_score=False)"
   ]
  },
  {
   "cell_type": "markdown",
   "id": "f9bb0392-8b29-465e-bef3-b7509a01a373",
   "metadata": {},
   "source": [
    "### Overfitting Analysis"
   ]
  },
  {
   "cell_type": "code",
   "execution_count": 26,
   "id": "a928248e-a59a-42d6-bf4c-1d10033e3dc3",
   "metadata": {},
   "outputs": [
    {
     "name": "stdout",
     "output_type": "stream",
     "text": [
      "Performance on the training set:\n",
      " ----------\n",
      "R²: 0.7737738943989698\n",
      "MAE: 90784.73634486872\n",
      "MAPE: 0.2629339442693284\n",
      "RMSE: 144709.23924104206\n",
      "\n",
      "Performance on the test set:\n",
      " ----------\n",
      "R²: 0.7341027244460809\n",
      "MAE: 97188.98815136666\n",
      "MAPE: 0.271332077376683\n",
      "RMSE: 158939.89776053437\n",
      "\n"
     ]
    }
   ],
   "source": [
    "poly = poly_pipe_estimator.fit(X_train, y_train)\n",
    "\n",
    "print('Performance on the training set:\\n', '-'*10)\n",
    "y_pred_train = poly.predict(X_train)\n",
    "metrics_regression(y_test=y_train, \n",
    "                    y_pred=y_pred_train, \n",
    "                    squared=False)\n",
    "\n",
    "print('Performance on the test set:\\n', '-'*10)\n",
    "y_pred = poly.predict(X_test)\n",
    "metrics_regression(y_test=y_test, \n",
    "                   y_pred=y_pred, \n",
    "                   squared=False)\n"
   ]
  },
  {
   "cell_type": "code",
   "execution_count": null,
   "id": "1fe50e09-f093-47ce-ad3d-ebfa24d06bb9",
   "metadata": {},
   "outputs": [],
   "source": []
  },
  {
   "cell_type": "code",
   "execution_count": null,
   "id": "f19bda79-3e47-4608-8b8a-61e2c7e5f74d",
   "metadata": {},
   "outputs": [],
   "source": []
  },
  {
   "cell_type": "raw",
   "id": "573f9d23-e48a-4f1b-9a7f-2826f6fe42c0",
   "metadata": {},
   "source": [
    "plot_learning_curves(model=poly_pipe_estimator, \n",
    "                     X_train=X_train, \n",
    "                     y_train=y_train, \n",
    "                     X_test=X_test, \n",
    "                     y_test=y_test)"
   ]
  },
  {
   "cell_type": "code",
   "execution_count": null,
   "id": "8c0ac7cb-78e7-41f5-bff9-28a1baf152dd",
   "metadata": {},
   "outputs": [],
   "source": []
  },
  {
   "cell_type": "raw",
   "id": "17bbd842-a4d7-49cb-9160-2038c5e35375",
   "metadata": {},
   "source": [
    "sns.regplot(x=y_test, y=poly_pipe_estimator.fit(X_train, y_train).predict(X_test), \n",
    "            scatter_kws={\"color\": \"cornflowerblue\"}, line_kws={\"color\": \"red\"})\\\n",
    "           .set_title('Actual vs Predicted');"
   ]
  },
  {
   "cell_type": "code",
   "execution_count": null,
   "id": "6d0e2014-a92f-451e-bee0-7149a17f1398",
   "metadata": {},
   "outputs": [],
   "source": []
  },
  {
   "cell_type": "raw",
   "id": "71069c6b-ee67-4602-a439-c6d8970b6cb5",
   "metadata": {},
   "source": [
    "from sklearn.svm import LinearSVR\n",
    "\n",
    "from sklearn.svm import SVR"
   ]
  },
  {
   "cell_type": "raw",
   "id": "92bef4e9-1c5a-4cd3-bb39-a9f81d8a1af9",
   "metadata": {},
   "source": [
    "num_pipe = Pipeline([\n",
    "    ('poly', PolynomialFeatures(degree=1, include_bias=False)),\n",
    "    ('std_scaler', StandardScaler()),\n",
    "    ])\n",
    "\n",
    "cat_pipe = Pipeline([\n",
    "    ('one_hot_encoder', OneHotEncoder(categories=[levels_type_house, levels_code]))  #code_levels\n",
    "                                      #handle_unknown='ignore'\n",
    "    ])\n",
    "\n",
    "\n",
    "preprocessor = ColumnTransformer([\n",
    "    ('num', num_pipe, num_features),\n",
    "    ('cat', cat_pipe, cat_features),\n",
    "    ]) #, remainder='passthrough'\n",
    "\n",
    "\n",
    "svmr_pipe_est = Pipeline(steps=[\n",
    "    ('preprocessor', preprocessor),\n",
    "    ('imputer', SimpleImputer(strategy='constant', \n",
    "                              fill_value=None)),\n",
    "    ('regressor', SVR()) \n",
    "                           ])\n",
    "#  coef0=1,\n",
    "# SVR(kernel='poly', degree=1, coef0=1, C=1) LinearSVR(epsilon=1)"
   ]
  },
  {
   "cell_type": "raw",
   "id": "c97a648c-f235-43aa-b341-272f51aa0b07",
   "metadata": {
    "tags": []
   },
   "source": [
    "grid_search = GridSearchCV(estimator=svmr_pipe_est, \n",
    "                           param_grid={\n",
    "                               'regressor__degree': [1,3],\n",
    "                               'regressor__epsilon': [.1], #[2,3,4,5,6,7]\n",
    "                               'regressor__C': [50,60,70,80,90,100,120]\n",
    "                           }, \n",
    "                           cv=6, \n",
    "                           n_jobs=-1,\n",
    "                        #   scoring='neg_mean_squared_error',\n",
    "                        #   return_train_score=True\n",
    "                          )\n",
    "\n",
    "grid_search.fit(X_train, y_train)\n",
    "\n",
    "print(grid_search.best_params_)\n",
    "print(grid_search.best_score_)"
   ]
  },
  {
   "cell_type": "raw",
   "id": "2f517762-036c-405c-9706-fc76c9a0bd40",
   "metadata": {},
   "source": [
    "pd.DataFrame(grid_search.cv_results_)"
   ]
  },
  {
   "cell_type": "raw",
   "id": "1a51b9dd-95d5-44d9-aa68-25c86500d14b",
   "metadata": {},
   "source": [
    "svmr_pipe_est = Pipeline(steps=[\n",
    "    ('preprocessor', preprocessor),\n",
    "    ('imputer', SimpleImputer(strategy='constant', \n",
    "                              fill_value=None)),\n",
    "    ('regressor', SVR())\n",
    "])\n",
    "\n",
    "scores = scores_statistics(estimator=svmr_pipe_est, \n",
    "                           scoring_dict=scoring, \n",
    "                           X_train=X_train, \n",
    "                           y_train=y_train, \n",
    "                           cv=10, \n",
    "                           return_train_score=False)"
   ]
  },
  {
   "cell_type": "raw",
   "id": "43aff6f9-d1f3-4d0e-a28b-f97b4127ea85",
   "metadata": {},
   "source": [
    "svmr = svmr_pipe_est.fit(X_train, y_train)\n",
    "\n",
    "print('Performance on the training set:\\n', '-'*10)\n",
    "y_pred_train = svmr.predict(X_train)\n",
    "metrics_regression(y_test=y_train, \n",
    "                   y_pred=y_pred_train, \n",
    "                   squared=False)\n",
    "\n",
    "print('Performance on the test set:\\n', '-'*10)\n",
    "y_pred = svmr.predict(X_test)\n",
    "metrics_regression(y_test=y_test, \n",
    "                   y_pred=y_pred, \n",
    "                   squared=False)"
   ]
  },
  {
   "cell_type": "code",
   "execution_count": null,
   "id": "aff4dd02-bf1f-422a-99a0-d7e1f1e11c96",
   "metadata": {},
   "outputs": [],
   "source": []
  },
  {
   "cell_type": "markdown",
   "id": "f63be031-6a63-4075-9663-ea34c2a32c99",
   "metadata": {
    "jp-MarkdownHeadingCollapsed": true,
    "tags": []
   },
   "source": [
    "## K Nearest Neighbors Regressor"
   ]
  },
  {
   "cell_type": "code",
   "execution_count": 27,
   "id": "1e6894f0-5373-498d-9c3f-2493152584e9",
   "metadata": {},
   "outputs": [],
   "source": [
    "from sklearn.neighbors import KNeighborsRegressor"
   ]
  },
  {
   "cell_type": "code",
   "execution_count": 28,
   "id": "7dbe1784-0d7b-4ecb-8c39-0cbb0edadb27",
   "metadata": {},
   "outputs": [],
   "source": [
    "num_pipe = Pipeline([\n",
    "    ('poly', PolynomialFeatures(degree=1, include_bias=False)),\n",
    "    ('std_scaler', StandardScaler()),\n",
    "    ])\n",
    "\n",
    "cat_pipe = Pipeline([\n",
    "    ('one_hot_encoder', OneHotEncoder(categories=[levels_type_house, levels_code]))  #code_levels\n",
    "                                      #handle_unknown='ignore'\n",
    "    ])\n",
    "\n",
    "\n",
    "preprocessor = ColumnTransformer([\n",
    "    ('num', num_pipe, num_features),\n",
    "    ('cat', cat_pipe, cat_features),\n",
    "    ]) #, remainder='passthrough'\n",
    "\n",
    "\n",
    "knnr_pipe_est = Pipeline(steps=[\n",
    "    ('preprocessor', preprocessor),\n",
    "    ('imputer', SimpleImputer(strategy='constant', \n",
    "                              fill_value=None)),\n",
    "    ('regressor', KNeighborsRegressor())   #################\n",
    "                           ])"
   ]
  },
  {
   "cell_type": "markdown",
   "id": "80825907-3a4f-4823-b319-8c13f36b2574",
   "metadata": {},
   "source": [
    "```python\n",
    "KNeighborsRegressor(n_neighbors=5, \n",
    "                    weights='uniform', \n",
    "                    algorithm='auto', \n",
    "                    leaf_size=30, \n",
    "                    p=2, \n",
    "                    metric='minkowski', \n",
    "                    metric_params=None, \n",
    "                    n_jobs=None)\n",
    "```"
   ]
  },
  {
   "cell_type": "code",
   "execution_count": 29,
   "id": "18df217c-6d1d-4bbe-9c2e-6bc68d93ef45",
   "metadata": {
    "tags": []
   },
   "outputs": [
    {
     "name": "stdout",
     "output_type": "stream",
     "text": [
      "{'regressor__leaf_size': 30, 'regressor__n_neighbors': 7, 'regressor__weights': 'distance'}\n",
      "0.7124120090874319\n"
     ]
    }
   ],
   "source": [
    "param_grid = [\n",
    "#    {\n",
    " #       'regressor__n_neighbors': [5,10,15,20,25,30,35,40,45,50], \n",
    "  #  },\n",
    "    {\n",
    "   #     'preprocessor__num__poly__degree': [1,2,3,4,5],\n",
    "        'regressor__n_neighbors': [7],  ###########################\n",
    "        'regressor__weights': ['uniform','distance'], #,'distance'\n",
    "        'regressor__leaf_size': [30]\n",
    "    }, \n",
    "]\n",
    "\n",
    "grid_search = GridSearchCV(estimator=knnr_pipe_est, \n",
    "                           param_grid=param_grid,\n",
    "                           cv=3, \n",
    "                           n_jobs=-1,\n",
    "                        #   scoring='neg_mean_squared_error',\n",
    "                        #   return_train_score=True\n",
    "                          )\n",
    "\n",
    "grid_search.fit(X_train, y_train)\n",
    "\n",
    "print(grid_search.best_params_)\n",
    "print(grid_search.best_score_)"
   ]
  },
  {
   "cell_type": "raw",
   "id": "e97edce9-5ec5-47bc-8471-57fc7320e1e1",
   "metadata": {},
   "source": [
    "pd.DataFrame(grid_search.cv_results_)"
   ]
  },
  {
   "cell_type": "code",
   "execution_count": 30,
   "id": "90d11a95-3dc6-40da-894c-93c73b1bc5ee",
   "metadata": {},
   "outputs": [
    {
     "name": "stdout",
     "output_type": "stream",
     "text": [
      "r2 mean: 0.720356996746699\n",
      "r2 std: 0.04726078613165459 \n",
      "\n",
      "MAE mean: -94360.18126123537\n",
      "MAE std: 3166.9588235767487 \n",
      "\n",
      "MAPE mean: -0.2623233863553097\n",
      "MAPE std: 0.007731494131750355 \n",
      "\n",
      "RMSE mean: -160128.7532846894\n",
      "RMSE std: 12202.415979408392 \n",
      "\n"
     ]
    }
   ],
   "source": [
    "knnr_pipe_est = Pipeline(steps=[\n",
    "    ('preprocessor', preprocessor),\n",
    "    ('imputer', SimpleImputer(strategy='constant', \n",
    "                              fill_value=None)),\n",
    "    ('regressor', KNeighborsRegressor(n_neighbors=7,\n",
    "                                      weights='uniform'\n",
    "                                     ))\n",
    "                           ])\n",
    "\n",
    "scores = scores_statistics(estimator=knnr_pipe_est, \n",
    "                           scoring_dict=scoring, \n",
    "                           X_train=X_train, \n",
    "                           y_train=y_train, \n",
    "                           cv=5, \n",
    "                           return_train_score=False)"
   ]
  },
  {
   "cell_type": "markdown",
   "id": "13c8b858-8921-42e3-afa1-20c6a9c8b4d9",
   "metadata": {
    "tags": []
   },
   "source": [
    "### Overfitting Analysis"
   ]
  },
  {
   "cell_type": "markdown",
   "id": "15b9398d-3276-403b-b376-61fb6e9ce7be",
   "metadata": {},
   "source": [
    "```python\n",
    "KNeighborsRegressor(n_neighbors=5,  \n",
    "                    weights='uniform', \n",
    "                    algorithm='auto', \n",
    "                    leaf_size=30, \n",
    "                    p=2, \n",
    "                    metric='minkowski', \n",
    "                    metric_params=None, \n",
    "                    n_jobs=None)\n",
    "```"
   ]
  },
  {
   "cell_type": "code",
   "execution_count": 31,
   "id": "f3c24587-e8a3-477e-839f-11182578a073",
   "metadata": {},
   "outputs": [
    {
     "name": "stdout",
     "output_type": "stream",
     "text": [
      "Performance on the training set:\n",
      " ----------\n",
      "R²: 0.7986783708015246\n",
      "MAE: 80209.40354906558\n",
      "MAPE: 0.2213406428842462\n",
      "RMSE: 136511.77663760813\n",
      "\n",
      "Performance on the test set:\n",
      " ----------\n",
      "R²: 0.7172472308799294\n",
      "MAE: 94092.50898898125\n",
      "MAPE: 0.2558942574938089\n",
      "RMSE: 163900.17565319216\n",
      "\n"
     ]
    }
   ],
   "source": [
    "knnr = knnr_pipe_est.fit(X_train, y_train)\n",
    "\n",
    "print('Performance on the training set:\\n', '-'*10)\n",
    "y_pred_train = knnr.predict(X_train)\n",
    "metrics_regression(y_test=y_train, \n",
    "                   y_pred=y_pred_train, \n",
    "                   squared=False)\n",
    "\n",
    "print('Performance on the test set:\\n', '-'*10)\n",
    "y_pred = knnr.predict(X_test)\n",
    "metrics_regression(y_test=y_test, \n",
    "                   y_pred=y_pred, \n",
    "                   squared=False)"
   ]
  },
  {
   "cell_type": "markdown",
   "id": "67a32672-034e-4a7b-9549-f9a54be76d9a",
   "metadata": {
    "tags": []
   },
   "source": [
    "### Distribucion de los Errores"
   ]
  },
  {
   "cell_type": "code",
   "execution_count": 32,
   "id": "98a2e04f-484b-44ba-b343-4841c4c80e65",
   "metadata": {},
   "outputs": [
    {
     "data": {
      "image/png": "[encoded data removed]",
      "text/plain": [
       "<Figure size 576x396 with 1 Axes>"
      ]
     },
     "metadata": {},
     "output_type": "display_data"
    }
   ],
   "source": [
    "knnr = knnr_pipe_est.fit(X_train, y_train)\n",
    "y_pred_test = knnr.predict(X_test)\n",
    "\n",
    "fig, ax =plt.subplots(1, 1)\n",
    "ax.hist(y_pred_test - y_test, bins=20); # estamos restando a la prediccion la verdad\n",
    "# distribucion de los errores\n",
    "ax.ticklabel_format(style='plain', axis='x')"
   ]
  },
  {
   "cell_type": "code",
   "execution_count": 33,
   "id": "ef4677c3-5e91-4fa0-ad79-f3c58db332b7",
   "metadata": {},
   "outputs": [
    {
     "data": {
      "text/plain": [
       "163739.12985059066"
      ]
     },
     "execution_count": 33,
     "metadata": {},
     "output_type": "execute_result"
    }
   ],
   "source": [
    "np.std(y_pred_test - y_test)"
   ]
  },
  {
   "cell_type": "markdown",
   "id": "bd5a9815-ef39-43be-ae3d-1791a38f31f7",
   "metadata": {
    "jp-MarkdownHeadingCollapsed": true,
    "tags": []
   },
   "source": [
    "## Decision Tree Regressor"
   ]
  },
  {
   "cell_type": "code",
   "execution_count": 34,
   "id": "0e7d7503-1b6e-4d62-b24c-232e76a9115b",
   "metadata": {
    "tags": []
   },
   "outputs": [],
   "source": [
    "num_pipe = Pipeline([\n",
    "    ('std_scaler', StandardScaler()),\n",
    "    ('poly', PolynomialFeatures(degree=1, include_bias=False)),\n",
    "    ])\n",
    "\n",
    "cat_pipe = Pipeline([\n",
    "    ('one_hot_encoder', OneHotEncoder(categories=[levels_type_house, levels_code]))  #code_levels\n",
    "                                      #handle_unknown='ignore'\n",
    "    ])\n",
    "\n",
    "\n",
    "preprocessor = ColumnTransformer([\n",
    "    ('num', num_pipe, num_features),\n",
    "    ('cat', cat_pipe, cat_features),\n",
    "    ]) #, remainder='passthrough'\n",
    "\n",
    "\n",
    "dtr_pipe_estimator = Pipeline(steps=[\n",
    "    ('preprocessor', preprocessor),\n",
    "    ('imputer', SimpleImputer(strategy='constant', \n",
    "                              fill_value=None)),\n",
    "    ('regressor', DecisionTreeRegressor()) # max_depth=9spoiler\n",
    "                           ])"
   ]
  },
  {
   "cell_type": "markdown",
   "id": "86349a5a-c3cf-4532-a5be-82ccc1c05ed7",
   "metadata": {},
   "source": [
    "```python\n",
    "DecisionTreeRegressor(*, criterion='squared_error', splitter='best', max_depth=None, min_samples_split=2, min_samples_leaf=1, min_weight_fraction_leaf=0.0, max_features=None, random_state=None, max_leaf_nodes=None, min_impurity_decrease=0.0, ccp_alpha=0.0)\n",
    "```"
   ]
  },
  {
   "cell_type": "code",
   "execution_count": 35,
   "id": "8418217a-600e-4196-92ff-a6e185bd9c84",
   "metadata": {
    "tags": []
   },
   "outputs": [
    {
     "name": "stdout",
     "output_type": "stream",
     "text": [
      "{'preprocessor__num__poly__degree': 1, 'regressor__max_depth': 9, 'regressor__max_leaf_nodes': 68, 'regressor__min_samples_leaf': 16, 'regressor__min_samples_split': 43}\n",
      "0.7350810549666685\n"
     ]
    }
   ],
   "source": [
    "grid_search = GridSearchCV(estimator=dtr_pipe_estimator, \n",
    "                           param_grid={\n",
    "                               'preprocessor__num__poly__degree': [1], #[1,2,3,4],\n",
    "                               'regressor__max_depth': [6,7,8,9,10], #range(5, 15), #[2,3,4,5,6,7]\n",
    "                               'regressor__min_samples_leaf': [12,13,14,15,16,17,18], #range(8, 20),\n",
    "                               'regressor__min_samples_split': [43], #[2, 43],\n",
    "                               'regressor__max_leaf_nodes': [68],\n",
    "                         #      'regressor__max_features':,\n",
    "                           }, \n",
    "                           cv=5, \n",
    "                           n_jobs=-1,\n",
    "                        #   scoring='neg_mean_squared_error',\n",
    "                        #   return_train_score=True\n",
    "                          )\n",
    "\n",
    "grid_search.fit(X_train, y_train)\n",
    "print(grid_search.best_params_)\n",
    "print(grid_search.best_score_)\n"
   ]
  },
  {
   "cell_type": "code",
   "execution_count": 36,
   "id": "bc94cc2e-635b-4b5c-8c8c-d39566b683c5",
   "metadata": {},
   "outputs": [],
   "source": [
    "#pd.DataFrame(grid_search.cv_results_)"
   ]
  },
  {
   "cell_type": "code",
   "execution_count": 37,
   "id": "9adfb000-e88d-4da8-99b1-6c45d78f3a4a",
   "metadata": {},
   "outputs": [
    {
     "name": "stdout",
     "output_type": "stream",
     "text": [
      "r2 mean: 0.7350810549666685\n",
      "r2 std: 0.024591821745795203 \n",
      "\n",
      "MAE mean: -95188.05586328701\n",
      "MAE std: 1588.1100149899914 \n",
      "\n",
      "MAPE mean: -0.2762505668897066\n",
      "MAPE std: 0.006086016411818382 \n",
      "\n",
      "RMSE mean: -156416.72037856968\n",
      "RMSE std: 7748.604233566981 \n",
      "\n"
     ]
    }
   ],
   "source": [
    "dtr_pipe_estimator = Pipeline(steps=[\n",
    "    ('preprocessor', preprocessor),\n",
    "    ('imputer', SimpleImputer(strategy='constant', \n",
    "                              fill_value=None)),\n",
    "    ('regressor', DecisionTreeRegressor(max_depth=9,\n",
    "                                        min_samples_leaf=16,  #16\n",
    "                                        min_samples_split=43,\n",
    "                                        max_leaf_nodes=68\n",
    "                                       )) \n",
    "                           ])\n",
    "\n",
    "scores = scores_statistics(estimator=dtr_pipe_estimator, \n",
    "                           scoring_dict=scoring, \n",
    "                           X_train=X_train, \n",
    "                           y_train=y_train, \n",
    "                           cv=5, \n",
    "                           return_train_score=False)"
   ]
  },
  {
   "cell_type": "markdown",
   "id": "33890bc5-eccf-4cfa-841e-6a4839fc9ff4",
   "metadata": {},
   "source": [
    "### Overfitting Analysis"
   ]
  },
  {
   "cell_type": "code",
   "execution_count": 38,
   "id": "e926339a-e23f-46c9-a3dc-581d96460b25",
   "metadata": {},
   "outputs": [
    {
     "name": "stdout",
     "output_type": "stream",
     "text": [
      "Performance on the training set:\n",
      " ----------\n",
      "R²: 0.7927341211787164\n",
      "MAE: 86542.06835968455\n",
      "MAPE: 0.25752620175637614\n",
      "RMSE: 138512.4486203107\n",
      "\n",
      "Performance on the test set:\n",
      " ----------\n",
      "R²: 0.7304601782182829\n",
      "MAE: 96912.11046384604\n",
      "MAPE: 0.27164761682651445\n",
      "RMSE: 160024.8593006069\n",
      "\n"
     ]
    }
   ],
   "source": [
    "dtr = dtr_pipe_estimator.fit(X_train, y_train)\n",
    "\n",
    "print('Performance on the training set:\\n', '-'*10)\n",
    "y_pred_train = dtr.predict(X_train)\n",
    "metrics_regression(y_test=y_train, \n",
    "                   y_pred=y_pred_train, \n",
    "                   squared=False)\n",
    "\n",
    "print('Performance on the test set:\\n', '-'*10)\n",
    "y_pred = dtr.predict(X_test)\n",
    "metrics_regression(y_test=y_test, \n",
    "                   y_pred=y_pred, \n",
    "                   squared=False)"
   ]
  },
  {
   "cell_type": "code",
   "execution_count": null,
   "id": "a9f23f39-c434-4b61-b263-5c97f940ca1a",
   "metadata": {},
   "outputs": [],
   "source": []
  },
  {
   "cell_type": "raw",
   "id": "a9ed348b-f318-46bb-a94c-68e14f3e4230",
   "metadata": {},
   "source": [
    "dtr_pipe_estimator.get_params()"
   ]
  },
  {
   "cell_type": "raw",
   "id": "f5790c0f-9f8a-4410-98e2-2b6b4224d935",
   "metadata": {},
   "source": [
    "#!pip install dtreeviz   # libreria para ver los arboles\n",
    "#!sudo apt-get install python3-graphviz"
   ]
  },
  {
   "cell_type": "raw",
   "id": "08acf5ec-f41e-4d17-8027-deb4a294b849",
   "metadata": {},
   "source": [
    "from dtreeviz.trees import dtreeviz"
   ]
  },
  {
   "cell_type": "raw",
   "id": "114ad2b7-2199-4fea-a651-800d8de250a9",
   "metadata": {},
   "source": [
    "from sklearn.tree import export_graphviz"
   ]
  },
  {
   "cell_type": "code",
   "execution_count": null,
   "id": "b0425201-8f3d-4d4f-9771-0c6d8616261b",
   "metadata": {},
   "outputs": [],
   "source": []
  },
  {
   "cell_type": "code",
   "execution_count": null,
   "id": "303e1cc5-1f3c-4f63-aaa7-73e4b987215d",
   "metadata": {},
   "outputs": [],
   "source": []
  },
  {
   "cell_type": "raw",
   "id": "7af7cbd0-6d3b-4387-bdc7-534b9442fa00",
   "metadata": {},
   "source": [
    "plot_learning_curves(model=dtr_pipe_estimator, \n",
    "                     X_train=X_train, \n",
    "                     y_train=y_train, \n",
    "                     X_test=X_test, \n",
    "                     y_test=y_test)"
   ]
  },
  {
   "cell_type": "code",
   "execution_count": null,
   "id": "ba154c4d-4dec-4918-b7e0-439a59a072af",
   "metadata": {},
   "outputs": [],
   "source": []
  },
  {
   "cell_type": "raw",
   "id": "94528b32-0277-424b-bee1-d813941afe57",
   "metadata": {},
   "source": [
    "sns.regplot(x=y_test, y=dtr_pipe_estimator.fit(X_train, y_train).predict(X_test), \n",
    "            scatter_kws={\"color\": \"cornflowerblue\"}, line_kws={\"color\": \"red\"})\\\n",
    "           .set_title('Actual vs Predicted');"
   ]
  },
  {
   "cell_type": "markdown",
   "id": "898d621f-ce4e-4b84-bc9b-b7a1b2175ed1",
   "metadata": {},
   "source": [
    "### Distribucion de los Errores"
   ]
  },
  {
   "cell_type": "code",
   "execution_count": 39,
   "id": "3a7c0539-8dce-4973-ab13-d003cef45739",
   "metadata": {},
   "outputs": [
    {
     "data": {
      "image/png": "[encoded data removed]",
      "text/plain": [
       "<Figure size 576x396 with 1 Axes>"
      ]
     },
     "metadata": {},
     "output_type": "display_data"
    }
   ],
   "source": [
    "dtr = dtr_pipe_estimator.fit(X_train, y_train)\n",
    "y_pred_test = dtr.predict(X_test)\n",
    "\n",
    "fig, ax =plt.subplots(1, 1)\n",
    "ax.hist(y_pred_test - y_test, bins=20); # estamos restando a la prediccion la verdad\n",
    "# distribucion de los errores\n",
    "ax.ticklabel_format(style='plain', axis='x')"
   ]
  },
  {
   "cell_type": "code",
   "execution_count": 40,
   "id": "f444d506-c00f-432e-b6b7-ef9499d9e2ee",
   "metadata": {},
   "outputs": [
    {
     "data": {
      "text/plain": [
       "159968.46938244888"
      ]
     },
     "execution_count": 40,
     "metadata": {},
     "output_type": "execute_result"
    }
   ],
   "source": [
    "np.std(y_pred_test - y_test)"
   ]
  },
  {
   "cell_type": "code",
   "execution_count": null,
   "id": "e0151028-0129-400d-8fd4-badec245a2b8",
   "metadata": {},
   "outputs": [],
   "source": []
  },
  {
   "cell_type": "markdown",
   "id": "164e4778-c368-46ea-b5df-93872f7d68c0",
   "metadata": {
    "jp-MarkdownHeadingCollapsed": true,
    "tags": []
   },
   "source": [
    "## Voting Regressor with Basic Algorithms"
   ]
  },
  {
   "cell_type": "code",
   "execution_count": 41,
   "id": "082da174-5ec4-4984-bd68-d6ac09c97b1e",
   "metadata": {},
   "outputs": [],
   "source": [
    "from sklearn.ensemble import VotingRegressor"
   ]
  },
  {
   "cell_type": "code",
   "execution_count": 42,
   "id": "2c77b453-bfbf-40d7-b314-fef81ac10324",
   "metadata": {},
   "outputs": [],
   "source": [
    "scoring_comp = {'r2': 'r2',\n",
    "                'MAPE': 'neg_mean_absolute_percentage_error'}"
   ]
  },
  {
   "cell_type": "raw",
   "id": "d3f16d5b-4596-44ac-b188-72e9afdbf2f2",
   "metadata": {},
   "source": [
    "polyr = poly_pipe_estimator\n",
    "knnr = knnr_pipe_est\n",
    "dtr = dtr_pipe_estimator\n",
    "rfr = rfr_pipe_est\n",
    "\n",
    "voting_reg = VotingRegressor(\n",
    "    estimators=[('poly', polyr),('knn', knnr),('dt', dtr)], #('rfr',rfr)\n",
    "   # weights= ,\n",
    ")\n",
    "\n",
    "models_dict = {'Polynomial Regression': polyr, \n",
    "               'K Nearest Neighbors Regressor': knnr, \n",
    "               'Decission Tree Regressor': dtr, \n",
    "             #  'Random Forest Regressor': rfr,\n",
    "               'Voting Regressor': voting_reg}\n",
    "\n",
    "for key in models_dict:\n",
    "    print(key)  \n",
    "    scores = compare_models(estimator=models_dict[key], \n",
    "                            scoring_dict=scoring_comp, \n",
    "                            X_train=X_train, \n",
    "                            y_train=y_train, \n",
    "                            cv=10, \n",
    "                            return_train_score=False)"
   ]
  },
  {
   "cell_type": "markdown",
   "id": "5d0174e6-955d-4776-ab75-47b841cc5238",
   "metadata": {},
   "source": [
    "Con el random forest mejora un poco pero el rfr sigue siendo mejor"
   ]
  },
  {
   "cell_type": "raw",
   "id": "bc4bacf2-62bb-4491-8939-e4620cc2bc7c",
   "metadata": {},
   "source": [
    "voting_reg.fit(X_train, y_train)\n",
    "\n",
    "print('Performance on the training set:\\n', '-'*10)\n",
    "y_pred_train = voting_reg.predict(X_train)\n",
    "metrics_regression(y_test=y_train, \n",
    "                   y_pred=y_pred_train, \n",
    "                   squared=False)\n",
    "\n",
    "print('Performance on the test set:\\n', '-'*10)\n",
    "y_pred = voting_reg.predict(X_test)\n",
    "metrics_regression(y_test=y_test, \n",
    "                   y_pred=y_pred, \n",
    "                   squared=False)"
   ]
  },
  {
   "cell_type": "code",
   "execution_count": 43,
   "id": "fddf134f-051a-47a1-8195-afa518b05867",
   "metadata": {},
   "outputs": [
    {
     "data": {
      "text/plain": [
       "{'poly': 0.33683582637423143,\n",
       " 'knn': 0.3280260622189593,\n",
       " 'dt': 0.33513811140680927}"
      ]
     },
     "execution_count": 43,
     "metadata": {},
     "output_type": "execute_result"
    }
   ],
   "source": [
    "models_r2 = {'poly': 73.41, 'knn': 71.49, 'dt': 73.04}\n",
    "\n",
    "tot = 0\n",
    "for key in models_r2:\n",
    "    tot += models_r2[key]\n",
    "\n",
    "models_weigth = {}\n",
    "models_weigth_list = []\n",
    "for key in models_r2:\n",
    "    weight = models_r2[key] / tot\n",
    "    models_weigth[key] = weight\n",
    "    models_weigth_list.append(weight)\n",
    "models_weigth\n",
    "#models_weigth_list"
   ]
  },
  {
   "cell_type": "code",
   "execution_count": 44,
   "id": "44de04a2-bc87-4d07-a5af-73f85aa9fea4",
   "metadata": {},
   "outputs": [
    {
     "name": "stdout",
     "output_type": "stream",
     "text": [
      "Polynomial Regression\n",
      "r2 mean: 0.7509266721418995\n",
      "MAPE mean: -0.2738010265729388\n",
      "----------\n",
      "K Nearest Neighbors Regressor\n",
      "r2 mean: 0.7241851307348128\n",
      "MAPE mean: -0.2593432160479623\n",
      "----------\n",
      "Decission Tree Regressor\n",
      "r2 mean: 0.7191594146557667\n",
      "MAPE mean: -0.2802377795333606\n",
      "----------\n",
      "Voting Regressor\n",
      "r2 mean: 0.7853885812369799\n",
      "MAPE mean: -0.23288328424995655\n",
      "----------\n"
     ]
    }
   ],
   "source": [
    "polyr = poly_pipe_estimator\n",
    "knnr = knnr_pipe_est\n",
    "dtr = dtr_pipe_estimator\n",
    "#rfr = rfr_pipe_est\n",
    "\n",
    "voting_reg = VotingRegressor(\n",
    "    estimators= [('poly', polyr),('knn', knnr),('dt', dtr)], #('rfr',rfr)\n",
    "    weights= models_weigth_list,\n",
    ")\n",
    "\n",
    "models_dict = {'Polynomial Regression': polyr, \n",
    "               'K Nearest Neighbors Regressor': knnr, \n",
    "               'Decission Tree Regressor': dtr, \n",
    "             #  'Random Forest Regressor': rfr,\n",
    "               'Voting Regressor': voting_reg}\n",
    "\n",
    "for key in models_dict:\n",
    "    print(key)  \n",
    "    scores = compare_models(estimator=models_dict[key], \n",
    "                            scoring_dict=scoring_comp, \n",
    "                            X_train=X_train, \n",
    "                            y_train=y_train, \n",
    "                            cv=10, \n",
    "                            return_train_score=False)"
   ]
  },
  {
   "cell_type": "code",
   "execution_count": 45,
   "id": "27a0520e-0f1b-4b09-9fea-5c11605e2abc",
   "metadata": {},
   "outputs": [
    {
     "name": "stdout",
     "output_type": "stream",
     "text": [
      "Performance on the training set:\n",
      " ----------\n",
      "R²: 0.8312331389146667\n",
      "MAE: 75131.68448705049\n",
      "MAPE: 0.21298528909778375\n",
      "RMSE: 124988.0484786615\n",
      "\n",
      "Performance on the test set:\n",
      " ----------\n",
      "R²: 0.782549175309982\n",
      "MAE: 83409.16318385598\n",
      "MAPE: 0.22466104239105456\n",
      "RMSE: 143733.00822142744\n",
      "\n"
     ]
    }
   ],
   "source": [
    "voting_reg.fit(X_train, y_train)\n",
    "\n",
    "print('Performance on the training set:\\n', '-'*10)\n",
    "y_pred_train = voting_reg.predict(X_train)\n",
    "metrics_regression(y_test=y_train, \n",
    "                   y_pred=y_pred_train, \n",
    "                   squared=False)\n",
    "\n",
    "print('Performance on the test set:\\n', '-'*10)\n",
    "y_pred = voting_reg.predict(X_test)\n",
    "metrics_regression(y_test=y_test, \n",
    "                   y_pred=y_pred, \n",
    "                   squared=False)"
   ]
  },
  {
   "cell_type": "code",
   "execution_count": null,
   "id": "bb5e50fe-5336-4b24-89c7-00e52af4647a",
   "metadata": {},
   "outputs": [],
   "source": []
  },
  {
   "cell_type": "markdown",
   "id": "f36b8366-b63f-4195-b4ea-6ca0dc3ccca3",
   "metadata": {
    "jp-MarkdownHeadingCollapsed": true,
    "tags": []
   },
   "source": [
    "## Bagging with Polynomial Regression"
   ]
  },
  {
   "cell_type": "code",
   "execution_count": 46,
   "id": "f8a0195f-3304-4a2d-aae9-0739318013a3",
   "metadata": {},
   "outputs": [],
   "source": [
    "from sklearn.ensemble import BaggingRegressor"
   ]
  },
  {
   "cell_type": "code",
   "execution_count": 47,
   "id": "eb37092e-3e6c-4985-af0a-8b8074c95792",
   "metadata": {
    "tags": []
   },
   "outputs": [
    {
     "data": {
      "text/plain": [
       "'\\n    base_estimator=LinearRegression(),\\n    n_estimators=500, \\n    max_samples=2000, \\n#    max_features=1.0, \\n#    bootstrap=True, \\n#    bootstrap_features=False, \\n#    oob_score=True, \\n#    warm_start=False, \\n    n_jobs=-1, \\n    random_state=42, \\n#    verbose=0\\n----------------\\nR²: 0.7724293692138182\\nR²: 0.7353834187513661\\n'"
      ]
     },
     "execution_count": 47,
     "metadata": {},
     "output_type": "execute_result"
    }
   ],
   "source": [
    "bag_regression = BaggingRegressor(\n",
    "    \n",
    "    base_estimator=LinearRegression(),\n",
    "    n_estimators=500, \n",
    "    max_samples=3000, \n",
    "#    max_features=50, \n",
    "#    bootstrap=True, \n",
    "#    bootstrap_features=False, \n",
    "#    oob_score=True, \n",
    "#    warm_start=False, \n",
    "    n_jobs=-1, \n",
    "    random_state=42, \n",
    "#    verbose=0\n",
    ")\n",
    "\n",
    "'''\n",
    "    base_estimator=LinearRegression(),\n",
    "    n_estimators=500, \n",
    "    max_samples=2000, \n",
    "#    max_features=1.0, \n",
    "#    bootstrap=True, \n",
    "#    bootstrap_features=False, \n",
    "#    oob_score=True, \n",
    "#    warm_start=False, \n",
    "    n_jobs=-1, \n",
    "    random_state=42, \n",
    "#    verbose=0\n",
    "----------------\n",
    "R²: 0.7724293692138182\n",
    "R²: 0.7353834187513661\n",
    "'''"
   ]
  },
  {
   "cell_type": "code",
   "execution_count": 48,
   "id": "871b1afb-7206-411d-af37-0a37a636d7e7",
   "metadata": {},
   "outputs": [],
   "source": [
    "num_pipe = Pipeline([\n",
    "    ('poly', PolynomialFeatures(degree=3, include_bias=False)),\n",
    "    ('std_scaler', StandardScaler()),\n",
    "    ])\n",
    "\n",
    "cat_pipe = Pipeline([\n",
    "    ('one_hot_encoder', OneHotEncoder(categories=[levels_type_house, levels_code]))  #code_levels\n",
    "                                      #handle_unknown='ignore'\n",
    "    ])\n",
    "\n",
    "\n",
    "preprocessor = ColumnTransformer([\n",
    "    ('num', num_pipe, num_features),\n",
    "    ('cat', cat_pipe, cat_features),\n",
    "    ]) #, remainder='passthrough'\n",
    "\n",
    "\n",
    "br_pipe_estimator = Pipeline(steps=[\n",
    "    ('preprocessor', preprocessor),\n",
    "    ('imputer', SimpleImputer(strategy='constant', \n",
    "                              fill_value=None)),\n",
    "    ('regressor', bag_regression)\n",
    "                           ])"
   ]
  },
  {
   "cell_type": "code",
   "execution_count": 49,
   "id": "f1af64a4-d996-4ab4-a128-6d3fa39363da",
   "metadata": {
    "tags": []
   },
   "outputs": [
    {
     "name": "stdout",
     "output_type": "stream",
     "text": [
      "r2 mean: 0.7484789696386661\n",
      "r2 std: 0.017753527029554746 \n",
      "\n",
      "MAE mean: -95150.15336594477\n",
      "MAE std: 1727.5519094446418 \n",
      "\n",
      "MAPE mean: -0.2763390928317644\n",
      "MAPE std: 0.007261276392903534 \n",
      "\n",
      "RMSE mean: -152427.59771405012\n",
      "RMSE std: 4919.43221337097 \n",
      "\n"
     ]
    }
   ],
   "source": [
    "scores = scores_statistics(estimator=br_pipe_estimator, \n",
    "                           scoring_dict=scoring, \n",
    "                           X_train=X_train, \n",
    "                           y_train=y_train, \n",
    "                           cv=5, \n",
    "                           return_train_score=False)"
   ]
  },
  {
   "cell_type": "code",
   "execution_count": 50,
   "id": "9ea9e36e-aefa-4ba1-8151-36ecfb96aaf3",
   "metadata": {},
   "outputs": [
    {
     "name": "stdout",
     "output_type": "stream",
     "text": [
      "Performance on the training set:\n",
      " ----------\n",
      "R²: 0.773131274043742\n",
      "MAE: 90769.90056477503\n",
      "MAPE: 0.2623421235946354\n",
      "RMSE: 144914.62481491736\n",
      "\n",
      "Performance on the test set:\n",
      " ----------\n",
      "R²: 0.735524880514952\n",
      "MAE: 96883.90805520506\n",
      "MAPE: 0.26972445640914205\n",
      "RMSE: 158514.28152992387\n",
      "\n"
     ]
    }
   ],
   "source": [
    "bag_reg = br_pipe_estimator.fit(X_train, y_train)\n",
    "\n",
    "print('Performance on the training set:\\n', '-'*10)\n",
    "y_pred_train = bag_reg.predict(X_train)\n",
    "metrics_regression(y_test=y_train, \n",
    "                    y_pred=y_pred_train, \n",
    "                    squared=False)\n",
    "\n",
    "print('Performance on the test set:\\n', '-'*10)\n",
    "y_pred = bag_reg.predict(X_test)\n",
    "metrics_regression(y_test=y_test, \n",
    "                   y_pred=y_pred, \n",
    "                   squared=False)"
   ]
  },
  {
   "cell_type": "code",
   "execution_count": null,
   "id": "0fbfabdd-0b24-479b-bbfd-a30ded98216c",
   "metadata": {},
   "outputs": [],
   "source": []
  },
  {
   "cell_type": "code",
   "execution_count": null,
   "id": "c1805072-47f3-4d07-9182-53627b85f3e3",
   "metadata": {},
   "outputs": [],
   "source": []
  },
  {
   "cell_type": "code",
   "execution_count": null,
   "id": "e6f6dc75-37e2-4837-8c91-8dea7e23055a",
   "metadata": {},
   "outputs": [],
   "source": []
  },
  {
   "cell_type": "code",
   "execution_count": null,
   "id": "11ebd24c-4885-4679-9614-403877a0aa7b",
   "metadata": {},
   "outputs": [],
   "source": []
  },
  {
   "cell_type": "code",
   "execution_count": null,
   "id": "a7edea7a-17fd-448c-a351-3c50d2e0e212",
   "metadata": {},
   "outputs": [],
   "source": []
  },
  {
   "cell_type": "markdown",
   "id": "ec145ada-90e4-44f5-90b7-65a3754db7b5",
   "metadata": {
    "jp-MarkdownHeadingCollapsed": true,
    "tags": []
   },
   "source": [
    "## Random Forest Regressor"
   ]
  },
  {
   "cell_type": "code",
   "execution_count": 51,
   "id": "7a402523-de4a-4bd5-9e7a-7db786028a6e",
   "metadata": {
    "tags": []
   },
   "outputs": [],
   "source": [
    "num_pipe = Pipeline([\n",
    "    ('std_scaler', StandardScaler()),\n",
    "    ('poly', PolynomialFeatures(degree=1, include_bias=False)),\n",
    "    ])\n",
    "\n",
    "cat_pipe = Pipeline([\n",
    "    ('one_hot_encoder', OneHotEncoder(categories=[levels_type_house, levels_code]))  #code_levels\n",
    "                                      #handle_unknown='ignore'\n",
    "    ])\n",
    "\n",
    "\n",
    "preprocessor = ColumnTransformer([\n",
    "    ('num', num_pipe, num_features),\n",
    "    ('cat', cat_pipe, cat_features),\n",
    "    ]) #, remainder='passthrough'\n",
    "\n",
    "\n",
    "rfr_pipe_est = Pipeline(steps=[\n",
    "    ('preprocessor', preprocessor),\n",
    "    ('imputer', SimpleImputer(strategy='constant', \n",
    "                              fill_value=None)),\n",
    "    ('regressor', RandomForestRegressor(n_estimators=100, \n",
    "                               #         *, \n",
    "                                        criterion='squared_error',\n",
    "                                        max_depth=None, \n",
    "                                        min_samples_split=2, \n",
    "                                        min_samples_leaf=1, \n",
    "                                        min_weight_fraction_leaf=0.0, \n",
    "                                        max_features='auto', \n",
    "                                        max_leaf_nodes=None, \n",
    "                                        min_impurity_decrease=0.0, \n",
    "                                        bootstrap=True, \n",
    "                                        oob_score=False, \n",
    "                                        n_jobs=None, \n",
    "                                        random_state=None, \n",
    "                                        verbose=0, \n",
    "                                        warm_start=False, \n",
    "                                        ccp_alpha=0.0, \n",
    "                                        max_samples=None)\n",
    "    )\n",
    "                           ])"
   ]
  },
  {
   "cell_type": "code",
   "execution_count": null,
   "id": "4385f3af-063c-4c1e-9bf2-341729c98742",
   "metadata": {
    "jp-MarkdownHeadingCollapsed": true,
    "tags": []
   },
   "outputs": [],
   "source": [
    "param_grid = [\n",
    "    {\n",
    "#        'preprocessor__num__poly__degree': [1, 3],\n",
    "        'regressor__n_estimators': [320], \n",
    "        'regressor__max_depth': [9],#[10],\n",
    "        'regressor__min_samples_split':range(30, 50), #[43],\n",
    "        'regressor__min_samples_leaf': range(5, 20),#[16],\n",
    "        'regressor__max_leaf_nodes': range(40, 80),#[68],\n",
    "        'regressor__n_jobs': [-1],\n",
    "    },\n",
    "    #{'regressor__n_estimators': range(41,70)}, #[3,10,30,40,50,60]\n",
    "]\n",
    "\n",
    "\n",
    "grid_search = GridSearchCV(estimator=rfr_pipe_est, \n",
    "                           param_grid=param_grid,\n",
    "                           cv=5, \n",
    "                           n_jobs=-1,\n",
    "                        #   scoring='neg_mean_squared_error',\n",
    "                        #   return_train_score=True\n",
    "                          )\n",
    "\n",
    "grid_search.fit(X_train, y_train)\n",
    "\n",
    "print(grid_search.best_params_)\n",
    "print(grid_search.best_score_)"
   ]
  },
  {
   "cell_type": "code",
   "execution_count": 52,
   "id": "62aaff64-8aec-49f1-b9ec-8072fe42fbb0",
   "metadata": {},
   "outputs": [],
   "source": [
    "#pd.DataFrame(grid_search.cv_results_).tail()"
   ]
  },
  {
   "cell_type": "code",
   "execution_count": null,
   "id": "a758dfce-b4d7-4913-9287-09303da71d80",
   "metadata": {},
   "outputs": [],
   "source": [
    "rfr_pipe_est = Pipeline(steps=[\n",
    "    ('preprocessor', preprocessor),\n",
    "    ('imputer', SimpleImputer(strategy='constant', \n",
    "                              fill_value=None)),\n",
    "    ('regressor', RandomForestRegressor(\n",
    "        n_estimators=320, \n",
    "#        max_depth=9,  # 9\n",
    " #       min_samples_split=20,  # 43\n",
    "  #      min_samples_leaf=16,   #16\n",
    "   #     max_leaf_nodes=68,   #68\n",
    "        n_jobs=-1,  \n",
    "                                       )) \n",
    "                           ])\n",
    "#estimator\n",
    "\n",
    "scores = scores_statistics(estimator=rfr_pipe_est, \n",
    "                           scoring_dict=scoring, \n",
    "                           X_train=X_train, \n",
    "                           y_train=y_train, \n",
    "                           cv=5, \n",
    "                           return_train_score=False)"
   ]
  },
  {
   "cell_type": "code",
   "execution_count": 53,
   "id": "98c2f017-b53b-4bc7-bd4a-19ad225407da",
   "metadata": {},
   "outputs": [
    {
     "name": "stdout",
     "output_type": "stream",
     "text": [
      "Performance on the training set:\n",
      " ----------\n",
      "R²: 0.9738369361580733\n",
      "MAE: 28296.78447114571\n",
      "MAPE: 0.07966000472137386\n",
      "RMSE: 49211.79442940329\n",
      "\n",
      "Performance on the test set:\n",
      " ----------\n",
      "R²: 0.8062782030062432\n",
      "MAE: 77586.20200947227\n",
      "MAPE: 0.21047020328670138\n",
      "RMSE: 135664.19122211242\n",
      "\n"
     ]
    }
   ],
   "source": [
    "rfr = rfr_pipe_est.fit(X_train, y_train)\n",
    "\n",
    "print('Performance on the training set:\\n', '-'*10)\n",
    "y_pred_train = rfr.predict(X_train)\n",
    "metrics_regression(y_test=y_train, \n",
    "                   y_pred=y_pred_train, \n",
    "                   squared=False)\n",
    "\n",
    "print('Performance on the test set:\\n', '-'*10)\n",
    "y_pred = rfr.predict(X_test)\n",
    "metrics_regression(y_test=y_test, \n",
    "                   y_pred=y_pred, \n",
    "                   squared=False)"
   ]
  },
  {
   "cell_type": "markdown",
   "id": "518d3eb5-2940-4e18-a9c6-dc896e8c9ad2",
   "metadata": {},
   "source": [
    "The model is overfitting the training data. Necesitamos regularizar!!"
   ]
  },
  {
   "cell_type": "raw",
   "id": "ad5a47a4-0e1d-4261-839d-2db30c66ccff",
   "metadata": {},
   "source": [
    "plot_learning_curves(model=rfr_pipe_est, \n",
    "                     X_train=X_train, \n",
    "                     y_train=y_train, \n",
    "                     X_test=X_test, \n",
    "                     y_test=y_test)"
   ]
  },
  {
   "cell_type": "code",
   "execution_count": null,
   "id": "e506bfae-fbe3-4d0d-a404-ada160ecc2ce",
   "metadata": {},
   "outputs": [],
   "source": []
  },
  {
   "cell_type": "raw",
   "id": "34d718cf-0861-430c-9a49-f7e1b447f629",
   "metadata": {},
   "source": [
    "sns.regplot(x=y_test, y=rfr_pipe_est.fit(X_train, y_train).predict(X_test), \n",
    "            scatter_kws={\"color\": \"cornflowerblue\"}, line_kws={\"color\": \"red\"})\\\n",
    "           .set_title('Actual vs Predicted');"
   ]
  },
  {
   "cell_type": "code",
   "execution_count": null,
   "id": "d2ccd60e-92d2-4913-8bfb-0fbada034967",
   "metadata": {},
   "outputs": [],
   "source": []
  },
  {
   "cell_type": "raw",
   "id": "99604797-37d2-4db1-9d4b-7baaa92aae66",
   "metadata": {},
   "source": [
    "rfr_pipe_est.feature_importances_"
   ]
  },
  {
   "cell_type": "markdown",
   "id": "0e9573c5-6b03-4eeb-8203-e02b06f8333b",
   "metadata": {
    "jp-MarkdownHeadingCollapsed": true,
    "tags": []
   },
   "source": [
    "## Extremely Randomized Trees"
   ]
  },
  {
   "cell_type": "code",
   "execution_count": 54,
   "id": "4ddf2e11-e818-4d1d-9a00-64c7c6c50868",
   "metadata": {},
   "outputs": [],
   "source": [
    "from sklearn.ensemble import ExtraTreesRegressor"
   ]
  },
  {
   "cell_type": "code",
   "execution_count": 55,
   "id": "cdb1ed44-87c1-4566-886f-89cee1b631ba",
   "metadata": {
    "tags": []
   },
   "outputs": [],
   "source": [
    "num_pipe = Pipeline([\n",
    "    ('std_scaler', StandardScaler()),\n",
    "    ('poly', PolynomialFeatures(degree=1, include_bias=False)),\n",
    "    ])\n",
    "\n",
    "cat_pipe = Pipeline([\n",
    "    ('one_hot_encoder', OneHotEncoder(categories=[levels_type_house, levels_code]))  #code_levels\n",
    "                                      #handle_unknown='ignore'\n",
    "    ])\n",
    "\n",
    "\n",
    "preprocessor = ColumnTransformer([\n",
    "    ('num', num_pipe, num_features),\n",
    "    ('cat', cat_pipe, cat_features),\n",
    "    ]) #, remainder='passthrough'\n",
    "\n",
    "\n",
    "etr_pipe_est = Pipeline(steps=[\n",
    "    ('preprocessor', preprocessor),\n",
    "    ('imputer', SimpleImputer(strategy='constant', \n",
    "                              fill_value=None)),\n",
    "    ('regressor', ExtraTreesRegressor(n_estimators=100, \n",
    "                            #          *, \n",
    "                                      criterion='squared_error', \n",
    "                                      max_depth=None, \n",
    "                                      min_samples_split=2, \n",
    "                                      min_samples_leaf=1, \n",
    "                                      min_weight_fraction_leaf=0.0, \n",
    "                                      max_features='auto', \n",
    "                                      max_leaf_nodes=None, \n",
    "                                      min_impurity_decrease=0.0, \n",
    "                                      bootstrap=False, \n",
    "                                      oob_score=False, \n",
    "                                      n_jobs=-1, \n",
    "                                      random_state=None, \n",
    "                                      verbose=0, \n",
    "                                      warm_start=False, \n",
    "                                      ccp_alpha=0.0, \n",
    "                                      max_samples=None)\n",
    "    )\n",
    "                           ])"
   ]
  },
  {
   "cell_type": "raw",
   "id": "de12fe5d-9fd0-4fc8-a6f3-df49d197d159",
   "metadata": {},
   "source": [
    "param_grid = [\n",
    "    {\n",
    "#        'preprocessor__num__poly__degree': [1, 3],\n",
    "        'regressor__n_estimators': [95,100,105,110,115], \n",
    " #       'regressor__max_depth': range(2, 15),#[10],\n",
    "  #      'regressor__min_samples_split':range(30, 50), #[43],\n",
    "   #     'regressor__min_samples_leaf': range(5, 20),#[16],\n",
    "    #    'regressor__max_leaf_nodes': range(40, 80),#[68],\n",
    "     #   'regressor__n_jobs': [-1],\n",
    "    },\n",
    "    #{'regressor__n_estimators': range(41,70)}, #[3,10,30,40,50,60]\n",
    "]\n",
    "\n",
    "\n",
    "grid_search = GridSearchCV(estimator=etr_pipe_est, \n",
    "                           param_grid=param_grid,\n",
    "                           cv=5, \n",
    "                           n_jobs=-1,\n",
    "                        #   scoring='neg_mean_squared_error',\n",
    "                        #   return_train_score=True\n",
    "                          )\n",
    "\n",
    "grid_search.fit(X_train, y_train)\n",
    "\n",
    "print(grid_search.best_params_)\n",
    "print(grid_search.best_score_)"
   ]
  },
  {
   "cell_type": "code",
   "execution_count": 56,
   "id": "e8630469-4b44-427d-a872-07cde400ade2",
   "metadata": {},
   "outputs": [
    {
     "name": "stdout",
     "output_type": "stream",
     "text": [
      "r2 mean: 0.8125724518820778\n",
      "r2 std: 0.03529617685367397 \n",
      "\n",
      "MAE mean: -76372.88593005536\n",
      "MAE std: 4295.728433760647 \n",
      "\n",
      "MAPE mean: -0.21567619976055546\n",
      "MAPE std: 0.010093792800709276 \n",
      "\n",
      "RMSE mean: -130171.34589868961\n",
      "RMSE std: 11170.958998661185 \n",
      "\n"
     ]
    }
   ],
   "source": [
    "etr_pipe_est = Pipeline(steps=[\n",
    "    ('preprocessor', preprocessor),\n",
    "    ('imputer', SimpleImputer(strategy='constant', \n",
    "                              fill_value=None)),\n",
    "    ('regressor', ExtraTreesRegressor(n_estimators=100, \n",
    "                            #          *, \n",
    "                                      criterion='squared_error', \n",
    "                                      max_depth=None, \n",
    "                                      min_samples_split=2, \n",
    "                                      min_samples_leaf=1, \n",
    "                                      min_weight_fraction_leaf=0.0, \n",
    "                                      max_features='auto', \n",
    "                                      max_leaf_nodes=None, \n",
    "                                      min_impurity_decrease=0.0, \n",
    "                                      bootstrap=False, \n",
    "                                      oob_score=False, \n",
    "                                      n_jobs=-1, \n",
    "                                      random_state=None, \n",
    "                                      verbose=0, \n",
    "                                      warm_start=False, \n",
    "                                      ccp_alpha=0.0, \n",
    "                                      max_samples=None)\n",
    "    )\n",
    "                           ])\n",
    "\n",
    "scores = scores_statistics(estimator=etr_pipe_est, \n",
    "                           scoring_dict=scoring, \n",
    "                           X_train=X_train, \n",
    "                           y_train=y_train, \n",
    "                           cv=10, \n",
    "                           return_train_score=False)"
   ]
  },
  {
   "cell_type": "code",
   "execution_count": 57,
   "id": "29cba6e1-dc73-41f5-8fbc-c6a16547876b",
   "metadata": {},
   "outputs": [
    {
     "name": "stdout",
     "output_type": "stream",
     "text": [
      "Performance on the training set:\n",
      " ----------\n",
      "R²: 0.9999998702397691\n",
      "MAE: 4.603147740734473\n",
      "MAPE: 1.7799165941070736e-05\n",
      "RMSE: 109.59625283730742\n",
      "\n",
      "Performance on the test set:\n",
      " ----------\n",
      "R²: 0.8189993507813427\n",
      "MAE: 76957.70445872801\n",
      "MAPE: 0.20479943262417294\n",
      "RMSE: 131134.2243854076\n",
      "\n"
     ]
    }
   ],
   "source": [
    "etr = etr_pipe_est.fit(X_train, y_train)\n",
    "\n",
    "print('Performance on the training set:\\n', '-'*10)\n",
    "y_pred_train = etr.predict(X_train)\n",
    "metrics_regression(y_test=y_train, \n",
    "                   y_pred=y_pred_train, \n",
    "                   squared=False)\n",
    "\n",
    "print('Performance on the test set:\\n', '-'*10)\n",
    "y_pred = etr.predict(X_test)\n",
    "metrics_regression(y_test=y_test, \n",
    "                   y_pred=y_pred, \n",
    "                   squared=False)"
   ]
  },
  {
   "cell_type": "markdown",
   "id": "08bcee86-b96c-4d4c-94ad-9fc2717056e3",
   "metadata": {
    "jp-MarkdownHeadingCollapsed": true,
    "tags": []
   },
   "source": [
    "## AdaBoost"
   ]
  },
  {
   "cell_type": "code",
   "execution_count": 58,
   "id": "f44d6a55-14a6-4ecb-b5d5-ac8165d1ac57",
   "metadata": {},
   "outputs": [],
   "source": [
    "from sklearn.ensemble import AdaBoostRegressor"
   ]
  },
  {
   "cell_type": "code",
   "execution_count": 59,
   "id": "23630198-74be-439d-9fcc-07dc5a6dc955",
   "metadata": {
    "tags": []
   },
   "outputs": [],
   "source": [
    "num_pipe = Pipeline([\n",
    "    ('std_scaler', StandardScaler()),\n",
    "    ('poly', PolynomialFeatures(degree=1, include_bias=False)),\n",
    "    ])\n",
    "\n",
    "cat_pipe = Pipeline([\n",
    "    ('one_hot_encoder', OneHotEncoder(categories=[levels_type_house, levels_code]))  #code_levels\n",
    "                                      #handle_unknown='ignore'\n",
    "    ])\n",
    "\n",
    "\n",
    "preprocessor = ColumnTransformer([\n",
    "    ('num', num_pipe, num_features),\n",
    "    ('cat', cat_pipe, cat_features),\n",
    "    ]) #, remainder='passthrough'\n",
    "\n",
    "\n",
    "adaboost_pipe_est = Pipeline(steps=[\n",
    "    ('preprocessor', preprocessor),\n",
    "    ('imputer', SimpleImputer(strategy='constant', \n",
    "                              fill_value=None)),\n",
    "    ('regressor', AdaBoostRegressor(base_estimator=DecisionTreeRegressor(), \n",
    "                              #      *, \n",
    "                                    n_estimators=50, \n",
    "                                    learning_rate=1.0, \n",
    "                                    loss='linear', \n",
    "                                    random_state=42))\n",
    "                           ])"
   ]
  },
  {
   "cell_type": "raw",
   "id": "ab6caab7-51ea-4849-8a3f-a21e37aeb58f",
   "metadata": {},
   "source": [
    "param_grid = [\n",
    "    {\n",
    "#        'preprocessor__num__poly__degree': [1, 3],\n",
    "        'regressor__n_estimators': [2,3,4,5,6,7,8,9,10,50], \n",
    " #       'regressor__max_depth': range(2, 15),#[10],\n",
    "  #      'regressor__min_samples_split':range(30, 50), #[43],\n",
    "   #     'regressor__min_samples_leaf': range(5, 20),#[16],\n",
    "    #    'regressor__max_leaf_nodes': range(40, 80),#[68],\n",
    "     #   'regressor__n_jobs': [-1],\n",
    "    },\n",
    "    #{'regressor__n_estimators': range(41,70)}, #[3,10,30,40,50,60]\n",
    "]\n",
    "\n",
    "\n",
    "grid_search = GridSearchCV(estimator=adaboost_pipe_est, \n",
    "                           param_grid=param_grid,\n",
    "                           cv=5, \n",
    "                           n_jobs=-1,\n",
    "                        #   scoring='neg_mean_squared_error',\n",
    "                        #   return_train_score=True\n",
    "                          )\n",
    "\n",
    "grid_search.fit(X_train, y_train)\n",
    "\n",
    "print(grid_search.best_params_)\n",
    "print(grid_search.best_score_)"
   ]
  },
  {
   "cell_type": "code",
   "execution_count": 60,
   "id": "3697e3d4-43bb-45b6-82db-b876c34a2cdb",
   "metadata": {},
   "outputs": [
    {
     "name": "stdout",
     "output_type": "stream",
     "text": [
      "r2 mean: 0.6422642094394672\n",
      "r2 std: 0.045081241398125756 \n",
      "\n",
      "MAE mean: -122834.34681543028\n",
      "MAE std: 4608.233441167535 \n",
      "\n",
      "MAPE mean: -0.4030357828910572\n",
      "MAPE std: 0.022817423528780835 \n",
      "\n",
      "RMSE mean: -180430.7810183822\n",
      "RMSE std: 8430.422906990498 \n",
      "\n"
     ]
    }
   ],
   "source": [
    "adaboost_pipe_est = Pipeline(steps=[\n",
    "    ('preprocessor', preprocessor),\n",
    "    ('imputer', SimpleImputer(strategy='constant', \n",
    "                              fill_value=None)),\n",
    "    ('regressor', AdaBoostRegressor(base_estimator=None, \n",
    "                              #      *, \n",
    "                                    n_estimators=3, \n",
    "                                    learning_rate=1.0, \n",
    "                                    loss='linear', \n",
    "                                    random_state=42))\n",
    "                           ])\n",
    "\n",
    "scores = scores_statistics(estimator=adaboost_pipe_est, \n",
    "                           scoring_dict=scoring, \n",
    "                           X_train=X_train, \n",
    "                           y_train=y_train, \n",
    "                           cv=10, \n",
    "                           return_train_score=False)"
   ]
  },
  {
   "cell_type": "code",
   "execution_count": 61,
   "id": "642eef15-34e0-411a-abf9-2cbf6e089092",
   "metadata": {},
   "outputs": [
    {
     "name": "stdout",
     "output_type": "stream",
     "text": [
      "Performance on the training set:\n",
      " ----------\n",
      "R²: 0.6825632436915089\n",
      "MAE: 116749.91257832848\n",
      "MAPE: 0.38086430496936213\n",
      "RMSE: 171416.84878404267\n",
      "\n",
      "Performance on the test set:\n",
      " ----------\n",
      "R²: 0.6400955083561792\n",
      "MAE: 122317.9107731734\n",
      "MAPE: 0.37215236374014693\n",
      "RMSE: 184913.92579798016\n",
      "\n"
     ]
    }
   ],
   "source": [
    "adaboost = adaboost_pipe_est.fit(X_train, y_train)\n",
    "\n",
    "print('Performance on the training set:\\n', '-'*10)\n",
    "y_pred_train = adaboost.predict(X_train)\n",
    "metrics_regression(y_test=y_train, \n",
    "                   y_pred=y_pred_train, \n",
    "                   squared=False)\n",
    "\n",
    "print('Performance on the test set:\\n', '-'*10)\n",
    "y_pred = adaboost.predict(X_test)\n",
    "metrics_regression(y_test=y_test, \n",
    "                   y_pred=y_pred, \n",
    "                   squared=False)"
   ]
  },
  {
   "cell_type": "markdown",
   "id": "211d7e47-a44e-4368-b098-d67183a9607a",
   "metadata": {
    "jp-MarkdownHeadingCollapsed": true,
    "tags": []
   },
   "source": [
    "## Gradient Boosting Regressor"
   ]
  },
  {
   "cell_type": "code",
   "execution_count": 62,
   "id": "477cf01d-900a-4a43-b6b7-62433c4d59e7",
   "metadata": {},
   "outputs": [],
   "source": [
    "from sklearn.ensemble import GradientBoostingRegressor"
   ]
  },
  {
   "cell_type": "code",
   "execution_count": null,
   "id": "1a7ef6e1-cc7e-4abb-93fe-5c5240f11a06",
   "metadata": {},
   "outputs": [],
   "source": []
  },
  {
   "cell_type": "code",
   "execution_count": 63,
   "id": "b974c81b-2427-4624-ba7e-65b8187c04a2",
   "metadata": {
    "tags": []
   },
   "outputs": [],
   "source": [
    "num_pipe = Pipeline([\n",
    "    ('std_scaler', StandardScaler()),\n",
    "    ('poly', PolynomialFeatures(degree=1, include_bias=False)),\n",
    "    ])\n",
    "\n",
    "cat_pipe = Pipeline([\n",
    "    ('one_hot_encoder', OneHotEncoder(categories=[levels_type_house, levels_code]))  #code_levels\n",
    "                                      #handle_unknown='ignore'\n",
    "    ])\n",
    "\n",
    "\n",
    "preprocessor = ColumnTransformer([\n",
    "    ('num', num_pipe, num_features),\n",
    "    ('cat', cat_pipe, cat_features),\n",
    "    ]) #, remainder='passthrough'\n",
    "\n",
    "\n",
    "gb_pipe_est = Pipeline(steps=[\n",
    "    ('preprocessor', preprocessor),\n",
    "    ('imputer', SimpleImputer(strategy='constant', \n",
    "                              fill_value=None)),\n",
    "    ('regressor', GradientBoostingRegressor())\n",
    "                           ])"
   ]
  },
  {
   "cell_type": "raw",
   "id": "22b03cf2-badc-4438-aaf8-d3599aba4569",
   "metadata": {},
   "source": [
    "param_grid = [\n",
    "    {\n",
    "#        'preprocessor__num__poly__degree': [1, 3],\n",
    "        'regressor__n_estimators': [2,3,4,5,6,7,8,9,10,50], \n",
    " #       'regressor__max_depth': range(2, 15),#[10],\n",
    "  #      'regressor__min_samples_split':range(30, 50), #[43],\n",
    "   #     'regressor__min_samples_leaf': range(5, 20),#[16],\n",
    "    #    'regressor__max_leaf_nodes': range(40, 80),#[68],\n",
    "     #   'regressor__n_jobs': [-1],\n",
    "    },\n",
    "    #{'regressor__n_estimators': range(41,70)}, #[3,10,30,40,50,60]\n",
    "]\n",
    "\n",
    "\n",
    "grid_search = GridSearchCV(estimator=adaboost_pipe_est, \n",
    "                           param_grid=param_grid,\n",
    "                           cv=5, \n",
    "                           n_jobs=-1,\n",
    "                        #   scoring='neg_mean_squared_error',\n",
    "                        #   return_train_score=True\n",
    "                          )\n",
    "\n",
    "grid_search.fit(X_train, y_train)\n",
    "\n",
    "print(grid_search.best_params_)\n",
    "print(grid_search.best_score_)"
   ]
  },
  {
   "cell_type": "code",
   "execution_count": 64,
   "id": "7db0cf96-7e52-4539-a533-d1c654ce4565",
   "metadata": {},
   "outputs": [
    {
     "name": "stdout",
     "output_type": "stream",
     "text": [
      "r2 mean: 0.6422642094394672\n",
      "r2 std: 0.045081241398125756 \n",
      "\n",
      "MAE mean: -122834.34681543028\n",
      "MAE std: 4608.233441167535 \n",
      "\n",
      "MAPE mean: -0.4030357828910572\n",
      "MAPE std: 0.022817423528780835 \n",
      "\n",
      "RMSE mean: -180430.7810183822\n",
      "RMSE std: 8430.422906990498 \n",
      "\n"
     ]
    }
   ],
   "source": [
    "gb_pipe_est = Pipeline(steps=[\n",
    "    ('preprocessor', preprocessor),\n",
    "    ('imputer', SimpleImputer(strategy='constant', \n",
    "                              fill_value=None)),\n",
    "    ('regressor', AdaBoostRegressor(base_estimator=None, \n",
    "                              #      *, \n",
    "                                    n_estimators=3, \n",
    "                                    learning_rate=1.0, \n",
    "                                    loss='linear', \n",
    "                                    random_state=42))\n",
    "                           ])\n",
    "\n",
    "scores = scores_statistics(estimator=gb_pipe_est, \n",
    "                           scoring_dict=scoring, \n",
    "                           X_train=X_train, \n",
    "                           y_train=y_train, \n",
    "                           cv=10, \n",
    "                           return_train_score=False)"
   ]
  },
  {
   "cell_type": "code",
   "execution_count": 65,
   "id": "e5b029b0-5d04-42e0-bdc0-bc1e9ee3762a",
   "metadata": {},
   "outputs": [
    {
     "name": "stdout",
     "output_type": "stream",
     "text": [
      "Performance on the training set:\n",
      " ----------\n",
      "R²: 0.6825632436915089\n",
      "MAE: 116749.91257832848\n",
      "MAPE: 0.38086430496936213\n",
      "RMSE: 171416.84878404267\n",
      "\n",
      "Performance on the test set:\n",
      " ----------\n",
      "R²: 0.6400955083561792\n",
      "MAE: 122317.9107731734\n",
      "MAPE: 0.37215236374014693\n",
      "RMSE: 184913.92579798016\n",
      "\n"
     ]
    }
   ],
   "source": [
    "gboost = gb_pipe_est.fit(X_train, y_train)\n",
    "\n",
    "print('Performance on the training set:\\n', '-'*10)\n",
    "y_pred_train = gboost.predict(X_train)\n",
    "metrics_regression(y_test=y_train, \n",
    "                   y_pred=y_pred_train, \n",
    "                   squared=False)\n",
    "\n",
    "print('Performance on the test set:\\n', '-'*10)\n",
    "y_pred = gboost.predict(X_test)\n",
    "metrics_regression(y_test=y_test, \n",
    "                   y_pred=y_pred, \n",
    "                   squared=False)"
   ]
  },
  {
   "cell_type": "code",
   "execution_count": null,
   "id": "396c2f25-0a7a-4adc-959c-e0d509166de2",
   "metadata": {},
   "outputs": [],
   "source": []
  },
  {
   "cell_type": "markdown",
   "id": "62597b80-776d-494a-bbbc-be3c17bc8f42",
   "metadata": {
    "jp-MarkdownHeadingCollapsed": true,
    "tags": []
   },
   "source": [
    "## Extreme Gradient Boosting"
   ]
  },
  {
   "cell_type": "code",
   "execution_count": 66,
   "id": "3d78883c-9941-4ce2-8306-6b0a4e5230b8",
   "metadata": {},
   "outputs": [],
   "source": [
    "from xgboost import XGBRegressor"
   ]
  },
  {
   "cell_type": "code",
   "execution_count": 67,
   "id": "45b6fb4d-3bee-477a-8ea8-7f335c9c30f2",
   "metadata": {
    "tags": []
   },
   "outputs": [],
   "source": [
    "num_pipe = Pipeline([\n",
    "    ('std_scaler', StandardScaler()),\n",
    "    ('poly', PolynomialFeatures(degree=1, include_bias=False)),\n",
    "    ])\n",
    "\n",
    "cat_pipe = Pipeline([\n",
    "    ('one_hot_encoder', OneHotEncoder(categories=[levels_type_house, levels_code]))  #code_levels\n",
    "                                      #handle_unknown='ignore'\n",
    "    ])\n",
    "\n",
    "\n",
    "preprocessor = ColumnTransformer([\n",
    "    ('num', num_pipe, num_features),\n",
    "    ('cat', cat_pipe, cat_features),\n",
    "    ]) #, remainder='passthrough'\n",
    "\n",
    "\n",
    "\n",
    "\n",
    "xgb_pipe_est = Pipeline(steps=[\n",
    "    ('preprocessor', preprocessor),\n",
    "    ('imputer', SimpleImputer(strategy='constant', \n",
    "                              fill_value=None)),\n",
    "    ('regressor', XGBRegressor())\n",
    "                           ])"
   ]
  },
  {
   "cell_type": "raw",
   "id": "fb5e10d0-2aae-41a7-88cf-93fdf8572d6e",
   "metadata": {},
   "source": [
    "import xgboost as xgb\n",
    "\n",
    "xgb_clf = xgb.XGBClassifier()\n",
    "args = {'max_depth': 10, 'learning_rate': 0.343, 'booster': 'gbtree',\n",
    "        'n_jobs': 0, 'scale_pos_weight': 0.1, 'n_estimators': 100}\n",
    "xgb_clf.set_params(**args)"
   ]
  },
  {
   "cell_type": "raw",
   "id": "2211e587-8d95-4cd6-b382-cffc9082c643",
   "metadata": {
    "tags": []
   },
   "source": [
    "grid_search = GridSearchCV(estimator=xgb_pipe_est, \n",
    "                           param_grid={'regressor__n_estimators': [75,80,85,90,95,100,105,110,115,120,125]},\n",
    "                           cv=5, \n",
    "                           n_jobs=-1,\n",
    "                        #   scoring='neg_mean_squared_error',\n",
    "                        #   return_train_score=True\n",
    "                          )\n",
    "\n",
    "grid_search.fit(X_train, y_train)\n",
    "\n",
    "print(grid_search.best_params_)\n",
    "print(grid_search.best_score_)"
   ]
  },
  {
   "cell_type": "code",
   "execution_count": 68,
   "id": "905073ce-2014-4213-9230-800b52c0b65c",
   "metadata": {},
   "outputs": [
    {
     "name": "stdout",
     "output_type": "stream",
     "text": [
      "r2 mean: 0.8103256306854135\n",
      "r2 std: 0.031107022249743918 \n",
      "\n",
      "MAE mean: -76439.83677913898\n",
      "MAE std: 3411.9054419745694 \n",
      "\n",
      "MAPE mean: -0.21207778513758738\n",
      "MAPE std: 0.007134753254566564 \n",
      "\n",
      "RMSE mean: -131197.21047948365\n",
      "RMSE std: 11002.37791559043 \n",
      "\n"
     ]
    }
   ],
   "source": [
    "xgb_pipe_est = Pipeline(steps=[\n",
    "    ('preprocessor', preprocessor),\n",
    "    ('imputer', SimpleImputer(strategy='constant', \n",
    "                              fill_value=None)),\n",
    "    ('regressor', XGBRegressor(n_estimators= 105))\n",
    "                           ])\n",
    "\n",
    "scores = scores_statistics(estimator=xgb_pipe_est, \n",
    "                           scoring_dict=scoring, \n",
    "                           X_train=X_train, \n",
    "                           y_train=y_train, \n",
    "                           cv=10, \n",
    "                           return_train_score=False)"
   ]
  },
  {
   "cell_type": "code",
   "execution_count": 69,
   "id": "b908134e-b62e-4a96-883e-cc74262c418b",
   "metadata": {},
   "outputs": [
    {
     "name": "stdout",
     "output_type": "stream",
     "text": [
      "Performance on the training set:\n",
      " ----------\n",
      "R²: 0.9620408504154799\n",
      "MAE: 40626.77943735192\n",
      "MAPE: 0.13112311227814163\n",
      "RMSE: 59276.57986186307\n",
      "\n",
      "Performance on the test set:\n",
      " ----------\n",
      "R²: 0.7992571055286443\n",
      "MAE: 78311.53892506765\n",
      "MAPE: 0.203086652634719\n",
      "RMSE: 138100.76251426517\n",
      "\n"
     ]
    }
   ],
   "source": [
    "xgb = xgb_pipe_est.fit(X_train, y_train)\n",
    "\n",
    "print('Performance on the training set:\\n', '-'*10)\n",
    "y_pred_train = xgb.predict(X_train)\n",
    "metrics_regression(y_test=y_train, \n",
    "                   y_pred=y_pred_train, \n",
    "                   squared=False)\n",
    "\n",
    "print('Performance on the test set:\\n', '-'*10)\n",
    "y_pred = xgb.predict(X_test)\n",
    "metrics_regression(y_test=y_test, \n",
    "                   y_pred=y_pred, \n",
    "                   squared=False)"
   ]
  },
  {
   "cell_type": "code",
   "execution_count": null,
   "id": "94795d4d-f379-4fce-b719-f9e8057bdb85",
   "metadata": {},
   "outputs": [],
   "source": []
  },
  {
   "cell_type": "markdown",
   "id": "23635d28-9382-4601-8495-664ba795eb90",
   "metadata": {
    "jp-MarkdownHeadingCollapsed": true,
    "tags": []
   },
   "source": [
    "## Voting Regressor with Ensemble Methods"
   ]
  },
  {
   "cell_type": "code",
   "execution_count": 70,
   "id": "beef36b1-11f6-4bea-af9e-a1a4fcf75464",
   "metadata": {},
   "outputs": [
    {
     "data": {
      "text/plain": [
       "{'poly': 0.23231012658227848,\n",
       " 'rfr': 0.2560759493670886,\n",
       " 'etr': 0.2587025316455696,\n",
       " 'xgb': 0.2529113924050633}"
      ]
     },
     "execution_count": 70,
     "metadata": {},
     "output_type": "execute_result"
    }
   ],
   "source": [
    "models_r2 = {'poly': 73.41, 'rfr': 80.92, 'etr': 81.75, 'xgb': 79.92} # estoy usando las del train set, no las del test set com antes \n",
    "\n",
    "tot = 0\n",
    "for key in models_r2:\n",
    "    tot += models_r2[key]\n",
    "\n",
    "models_weigth = {}\n",
    "models_weigth_list = []\n",
    "for key in models_r2:\n",
    "    weight = models_r2[key] / tot\n",
    "    models_weigth[key] = weight\n",
    "    models_weigth_list.append(weight)\n",
    "models_weigth\n",
    "#models_weigth_list"
   ]
  },
  {
   "cell_type": "code",
   "execution_count": 71,
   "id": "32b900d2-3614-464f-84b4-aaac0ba6329c",
   "metadata": {},
   "outputs": [
    {
     "name": "stdout",
     "output_type": "stream",
     "text": [
      "Polynomial Regression\n",
      "r2 mean: 0.7509266721418995\n",
      "MAPE mean: -0.2738010265729388\n",
      "----------\n",
      "Random Forest Regressor\n",
      "r2 mean: 0.8057678847047166\n",
      "MAPE mean: -0.2168220212876626\n",
      "----------\n",
      "Extra Trees Regressor\n",
      "r2 mean: 0.8152070816017061\n",
      "MAPE mean: -0.21537993289632434\n",
      "----------\n",
      "XGBoost\n",
      "r2 mean: 0.8103256306854135\n",
      "MAPE mean: -0.21207778513758738\n",
      "----------\n",
      "Voting Regressor\n",
      "r2 mean: 0.8253792917607334\n",
      "MAPE mean: -0.20892677208958554\n",
      "----------\n"
     ]
    }
   ],
   "source": [
    "polyr = poly_pipe_estimator\n",
    "rfr = rfr_pipe_est\n",
    "etr = etr_pipe_est\n",
    "egb = xgb_pipe_est\n",
    "\n",
    "voting_regressor = VotingRegressor(\n",
    "    estimators= [('poly', polyr),\n",
    "                 ('rf', rfr),\n",
    "                 ('et', etr),\n",
    "                 ('egb', egb)], #('rfr',rfr)\n",
    "    weights= models_weigth_list,\n",
    ")\n",
    "\n",
    "models_dict = {'Polynomial Regression': polyr, \n",
    "               'Random Forest Regressor': rfr, \n",
    "               'Extra Trees Regressor': etr,\n",
    "               'XGBoost': egb,\n",
    "               'Voting Regressor': voting_regressor}\n",
    "\n",
    "for key in models_dict:\n",
    "    print(key)  \n",
    "    scores = compare_models(estimator=models_dict[key], \n",
    "                            scoring_dict=scoring_comp, \n",
    "                            X_train=X_train, \n",
    "                            y_train=y_train, \n",
    "                            cv=10, \n",
    "                            return_train_score=False)"
   ]
  },
  {
   "cell_type": "code",
   "execution_count": 72,
   "id": "e88292a5-4e4b-4e75-b1bb-b35dd3815592",
   "metadata": {},
   "outputs": [
    {
     "name": "stdout",
     "output_type": "stream",
     "text": [
      "Performance on the training set:\n",
      " ----------\n",
      "R²: 0.9670166576049994\n",
      "MAE: 35766.032370847584\n",
      "MAPE: 0.10507454330199723\n",
      "RMSE: 55255.082574533146\n",
      "\n",
      "Performance on the test set:\n",
      " ----------\n",
      "R²: 0.8191887389382323\n",
      "MAE: 75443.88920169654\n",
      "MAPE: 0.1991302827136437\n",
      "RMSE: 131065.60096029431\n",
      "\n"
     ]
    }
   ],
   "source": [
    "voting_regressor.fit(X_train, y_train)\n",
    "\n",
    "print('Performance on the training set:\\n', '-'*10)\n",
    "y_pred_train = voting_regressor.predict(X_train)\n",
    "metrics_regression(y_test=y_train, \n",
    "                   y_pred=y_pred_train, \n",
    "                   squared=False)\n",
    "\n",
    "print('Performance on the test set:\\n', '-'*10)\n",
    "y_pred = voting_regressor.predict(X_test)\n",
    "metrics_regression(y_test=y_test, \n",
    "                   y_pred=y_pred, \n",
    "                   squared=False)"
   ]
  },
  {
   "cell_type": "code",
   "execution_count": null,
   "id": "e74d979a-4040-423a-9af3-85012d750843",
   "metadata": {},
   "outputs": [],
   "source": []
  },
  {
   "cell_type": "markdown",
   "id": "3a0146b0-cfd3-473f-9548-2b1f72fadb30",
   "metadata": {},
   "source": [
    "Y si en lugar de usar el Polynomial Regression usamos el Voting Regressor with Basic Algorithms?"
   ]
  },
  {
   "cell_type": "code",
   "execution_count": 73,
   "id": "054200c6-42d7-4948-82e5-b8e76e42b60d",
   "metadata": {},
   "outputs": [
    {
     "data": {
      "text/plain": [
       "{'voting_reg': 0.24285268414481895,\n",
       " 'rfr': 0.2525593008739076,\n",
       " 'etr': 0.2551498127340824,\n",
       " 'xgb': 0.249438202247191}"
      ]
     },
     "execution_count": 73,
     "metadata": {},
     "output_type": "execute_result"
    }
   ],
   "source": [
    "models_r2 = {'voting_reg': 77.81, 'rfr': 80.92, 'etr': 81.75, 'xgb': 79.92} # estoy usando las del train set, no las del test set com antes \n",
    "\n",
    "tot = 0\n",
    "for key in models_r2:\n",
    "    tot += models_r2[key]\n",
    "\n",
    "models_weigth = {}\n",
    "models_weigth_list = []\n",
    "for key in models_r2:\n",
    "    weight = models_r2[key] / tot\n",
    "    models_weigth[key] = weight\n",
    "    models_weigth_list.append(weight)\n",
    "models_weigth\n",
    "#models_weigth_list"
   ]
  },
  {
   "cell_type": "code",
   "execution_count": 74,
   "id": "ba528454-da2a-4a0b-ae92-b7806459b8d8",
   "metadata": {},
   "outputs": [
    {
     "name": "stdout",
     "output_type": "stream",
     "text": [
      "Voting Regressor BA\n",
      "r2 mean: 0.7853885812369799\n",
      "MAPE mean: -0.23288328424995655\n",
      "----------\n",
      "Random Forest Regressor\n",
      "r2 mean: 0.8105781814723242\n",
      "MAPE mean: -0.21575597763850288\n",
      "----------\n",
      "Extra Trees Regressor\n",
      "r2 mean: 0.8141423246813249\n",
      "MAPE mean: -0.21607767033481817\n",
      "----------\n",
      "XGBoost\n",
      "r2 mean: 0.8103256306854135\n",
      "MAPE mean: -0.21207778513758738\n",
      "----------\n",
      "Voting Regressor\n",
      "r2 mean: 0.7853885812369799\n",
      "MAPE mean: -0.23288328424995655\n",
      "----------\n"
     ]
    }
   ],
   "source": [
    "voting_reg = voting_reg\n",
    "rfr = rfr_pipe_est\n",
    "etr = etr_pipe_est\n",
    "egb = xgb_pipe_est\n",
    "\n",
    "voting_regressor = VotingRegressor(\n",
    "    estimators= [('voting_reg', voting_reg),\n",
    "                 ('rf', rfr),\n",
    "                 ('et', etr),\n",
    "                 ('egb', egb)], #('rfr',rfr)\n",
    "    weights= models_weigth_list,\n",
    ")\n",
    "\n",
    "models_dict = {'Voting Regressor BA': voting_reg, \n",
    "               'Random Forest Regressor': rfr, \n",
    "               'Extra Trees Regressor': etr,\n",
    "               'XGBoost': egb,\n",
    "               'Voting Regressor': voting_reg}\n",
    "\n",
    "for key in models_dict:\n",
    "    print(key)  \n",
    "    scores = compare_models(estimator=models_dict[key], \n",
    "                            scoring_dict=scoring_comp, \n",
    "                            X_train=X_train, \n",
    "                            y_train=y_train, \n",
    "                            cv=10, \n",
    "                            return_train_score=False)"
   ]
  },
  {
   "cell_type": "code",
   "execution_count": 75,
   "id": "732936b5-d29c-4071-b5ac-e5b0b8dfb489",
   "metadata": {},
   "outputs": [
    {
     "name": "stdout",
     "output_type": "stream",
     "text": [
      "Performance on the training set:\n",
      " ----------\n",
      "R²: 0.9695346776289329\n",
      "MAE: 33828.25543648191\n",
      "MAPE: 0.09983053251051754\n",
      "RMSE: 53104.06781895789\n",
      "\n",
      "Performance on the test set:\n",
      " ----------\n",
      "R²: 0.8198348303733034\n",
      "MAE: 74774.70473706788\n",
      "MAPE: 0.20006509506465592\n",
      "RMSE: 130831.22356563552\n",
      "\n"
     ]
    }
   ],
   "source": [
    "voting_regressor.fit(X_train, y_train)\n",
    "\n",
    "print('Performance on the training set:\\n', '-'*10)\n",
    "y_pred_train = voting_regressor.predict(X_train)\n",
    "metrics_regression(y_test=y_train, \n",
    "                   y_pred=y_pred_train, \n",
    "                   squared=False)\n",
    "\n",
    "print('Performance on the test set:\\n', '-'*10)\n",
    "y_pred = voting_regressor.predict(X_test)\n",
    "metrics_regression(y_test=y_test, \n",
    "                   y_pred=y_pred, \n",
    "                   squared=False)"
   ]
  },
  {
   "cell_type": "code",
   "execution_count": null,
   "id": "60da9247-4289-4681-a1a6-cf6206363fda",
   "metadata": {},
   "outputs": [],
   "source": []
  },
  {
   "cell_type": "markdown",
   "id": "a2350aaa-1eee-494d-8de8-cb3355703861",
   "metadata": {},
   "source": [
    "y sin ninguno?"
   ]
  },
  {
   "cell_type": "code",
   "execution_count": 80,
   "id": "aefaa391-80a5-435a-836b-54f099556749",
   "metadata": {},
   "outputs": [
    {
     "data": {
      "text/plain": [
       "{'rfr': 0.33356692361597756,\n",
       " 'etr': 0.3369883342264726,\n",
       " 'xgb': 0.32944474215754976}"
      ]
     },
     "execution_count": 80,
     "metadata": {},
     "output_type": "execute_result"
    }
   ],
   "source": [
    "models_r2 = {'rfr': 80.92, 'etr': 81.75, 'xgb': 79.92} # estoy usando las del train set, no las del test set com antes \n",
    "\n",
    "tot = 0\n",
    "for key in models_r2:\n",
    "    tot += models_r2[key]\n",
    "\n",
    "models_weigth = {}\n",
    "models_weigth_list = []\n",
    "for key in models_r2:\n",
    "    weight = models_r2[key] / tot\n",
    "    models_weigth[key] = weight\n",
    "    models_weigth_list.append(weight)\n",
    "models_weigth\n",
    "#models_weigth_list"
   ]
  },
  {
   "cell_type": "code",
   "execution_count": 81,
   "id": "103a267b-318b-4f9b-bd92-04f17c08da6d",
   "metadata": {},
   "outputs": [
    {
     "name": "stdout",
     "output_type": "stream",
     "text": [
      "Random Forest Regressor\n",
      "r2 mean: 0.8085763309186712\n",
      "MAPE mean: -0.21639455320624873\n",
      "----------\n",
      "Extra Trees Regressor\n",
      "r2 mean: 0.8136102822216513\n",
      "MAPE mean: -0.2158918201107562\n",
      "----------\n",
      "XGBoost\n",
      "r2 mean: 0.8103256306854135\n",
      "MAPE mean: -0.21207778513758738\n",
      "----------\n",
      "Voting Regressor\n",
      "r2 mean: 0.8239653490464885\n",
      "MAPE mean: -0.2070768729790556\n",
      "----------\n"
     ]
    }
   ],
   "source": [
    "#polyr = poly_pipe_estimator\n",
    "rfr = rfr_pipe_est\n",
    "etr = etr_pipe_est\n",
    "egb = xgb_pipe_est\n",
    "\n",
    "voting_regressor = VotingRegressor(\n",
    "    estimators= [#('poly', polyr),\n",
    "                 ('rf', rfr),\n",
    "                 ('et', etr),\n",
    "                 ('egb', egb)], #('rfr',rfr)\n",
    "    weights= models_weigth_list,\n",
    ")\n",
    "\n",
    "models_dict = {#'Polynomial Regression': polyr, \n",
    "               'Random Forest Regressor': rfr, \n",
    "               'Extra Trees Regressor': etr,\n",
    "               'XGBoost': egb,\n",
    "               'Voting Regressor': voting_regressor}\n",
    "\n",
    "for key in models_dict:\n",
    "    print(key)  \n",
    "    scores = compare_models(estimator=models_dict[key], \n",
    "                            scoring_dict=scoring_comp, \n",
    "                            X_train=X_train, \n",
    "                            y_train=y_train, \n",
    "                            cv=10, \n",
    "                            return_train_score=False)"
   ]
  },
  {
   "cell_type": "code",
   "execution_count": 82,
   "id": "eb938e02-cfbe-4d3a-bae9-4f9bf4f64987",
   "metadata": {},
   "outputs": [
    {
     "name": "stdout",
     "output_type": "stream",
     "text": [
      "Performance on the training set:\n",
      " ----------\n",
      "R²: 0.9879209881403586\n",
      "MAE: 22120.814754155115\n",
      "MAPE: 0.06772981017332462\n",
      "RMSE: 33438.02395245741\n",
      "\n",
      "Performance on the test set:\n",
      " ----------\n",
      "R²: 0.8194482722811417\n",
      "MAE: 74812.67756416505\n",
      "MAPE: 0.1986440993841695\n",
      "RMSE: 130971.50253804495\n",
      "\n"
     ]
    }
   ],
   "source": [
    "voting_regressor.fit(X_train, y_train)\n",
    "\n",
    "print('Performance on the training set:\\n', '-'*10)\n",
    "y_pred_train = voting_regressor.predict(X_train)\n",
    "metrics_regression(y_test=y_train, \n",
    "                   y_pred=y_pred_train, \n",
    "                   squared=False)\n",
    "\n",
    "print('Performance on the test set:\\n', '-'*10)\n",
    "y_pred = voting_regressor.predict(X_test)\n",
    "metrics_regression(y_test=y_test, \n",
    "                   y_pred=y_pred, \n",
    "                   squared=False)"
   ]
  },
  {
   "cell_type": "code",
   "execution_count": null,
   "id": "4a5b8548-391b-47b6-9691-977bfb15afa8",
   "metadata": {},
   "outputs": [],
   "source": []
  },
  {
   "cell_type": "markdown",
   "id": "8c97f2c9-d0e0-46a9-b7f4-6b43cbb1c47e",
   "metadata": {
    "jp-MarkdownHeadingCollapsed": true,
    "tags": []
   },
   "source": [
    "## Stacking"
   ]
  },
  {
   "cell_type": "markdown",
   "id": "5070001e-bc6b-497d-a41b-8f992a3eb153",
   "metadata": {},
   "source": [
    "Regression Meta-Model: Linear Reagression"
   ]
  },
  {
   "cell_type": "code",
   "execution_count": 76,
   "id": "c415e4f3-0898-44fc-a203-47137500fcc0",
   "metadata": {},
   "outputs": [],
   "source": [
    "from sklearn.ensemble import StackingRegressor"
   ]
  },
  {
   "cell_type": "code",
   "execution_count": 77,
   "id": "bcb96acf-c6e0-47c7-844e-cea882d3c96b",
   "metadata": {},
   "outputs": [],
   "source": [
    "# get a stacking ensemble of models\n",
    "def get_stacking():\n",
    "    # define the base models\n",
    "    level0 = list()\n",
    "    level0.append(('polyr', poly_pipe_estimator))\n",
    "    level0.append(('rfr', rfr_pipe_est))\n",
    "    level0.append(('etr', etr_pipe_est))\n",
    "    level0.append(('egb', xgb_pipe_est))\n",
    "    # define meta learner model\n",
    "    level1 = LinearRegression()\n",
    "    # define the stacking ensemble\n",
    "    model = StackingRegressor(estimators=level0, final_estimator=level1, cv=5)\n",
    "    return model"
   ]
  },
  {
   "cell_type": "code",
   "execution_count": 78,
   "id": "eb80492d-f2b3-4748-9771-7236a1f0b6ec",
   "metadata": {},
   "outputs": [
    {
     "name": "stdout",
     "output_type": "stream",
     "text": [
      "Polynomial Regression\n",
      "r2 mean: 0.7509266721418995\n",
      "MAPE mean: -0.2738010265729388\n",
      "----------\n",
      "Random Forest Regressor\n",
      "r2 mean: 0.8076729746434484\n",
      "MAPE mean: -0.21606183775052648\n",
      "----------\n",
      "Extra Trees Regressor\n",
      "r2 mean: 0.8155278256884833\n",
      "MAPE mean: -0.21460297219466806\n",
      "----------\n",
      "XGBoost\n",
      "r2 mean: 0.8103256306854135\n",
      "MAPE mean: -0.21207778513758738\n",
      "----------\n",
      "Stacking\n",
      "r2 mean: 0.8250694997363477\n",
      "MAPE mean: -0.20516023208565753\n",
      "----------\n"
     ]
    }
   ],
   "source": [
    "models_dict = {'Polynomial Regression': poly_pipe_estimator, \n",
    "               'Random Forest Regressor': rfr_pipe_est, \n",
    "               'Extra Trees Regressor': etr_pipe_est,\n",
    "               'XGBoost': xgb_pipe_est,\n",
    "               'Stacking': get_stacking()}\n",
    "\n",
    "for key in models_dict:\n",
    "    print(key)  \n",
    "    scores = compare_models(estimator=models_dict[key], \n",
    "                            scoring_dict=scoring_comp, \n",
    "                            X_train=X_train, \n",
    "                            y_train=y_train, \n",
    "                            cv=10, \n",
    "                            return_train_score=False)"
   ]
  },
  {
   "cell_type": "code",
   "execution_count": 79,
   "id": "760b7734-18a7-4922-8b5b-6604a815b398",
   "metadata": {},
   "outputs": [
    {
     "name": "stdout",
     "output_type": "stream",
     "text": [
      "Performance on the training set:\n",
      " ----------\n",
      "R²: 0.9812665771174053\n",
      "MAE: 28022.1344715855\n",
      "MAPE: 0.08387216590746134\n",
      "RMSE: 41642.181155186336\n",
      "\n",
      "Performance on the test set:\n",
      " ----------\n",
      "R²: 0.8210302467290974\n",
      "MAE: 74723.81927116285\n",
      "MAPE: 0.19503535367925787\n",
      "RMSE: 130396.46117969579\n",
      "\n"
     ]
    }
   ],
   "source": [
    "stacking = get_stacking()\n",
    "stacking.fit(X_train, y_train)\n",
    "\n",
    "print('Performance on the training set:\\n', '-'*10)\n",
    "y_pred_train = stacking.predict(X_train)\n",
    "metrics_regression(y_test=y_train, \n",
    "                   y_pred=y_pred_train, \n",
    "                   squared=False)\n",
    "\n",
    "print('Performance on the test set:\\n', '-'*10)\n",
    "y_pred = stacking.predict(X_test)\n",
    "metrics_regression(y_test=y_test, \n",
    "                   y_pred=y_pred, \n",
    "                   squared=False)"
   ]
  },
  {
   "cell_type": "code",
   "execution_count": null,
   "id": "2ca65c46-55a0-4f76-9ad9-76e0c46688fc",
   "metadata": {},
   "outputs": [],
   "source": []
  },
  {
   "cell_type": "markdown",
   "id": "7310fad1-6e5c-4823-a074-a9ec7ce77c05",
   "metadata": {
    "jp-MarkdownHeadingCollapsed": true,
    "tags": []
   },
   "source": [
    "# Dataset to try the frontend:"
   ]
  },
  {
   "cell_type": "raw",
   "id": "40fca002-2877-40a2-8755-fcebe6c8c25d",
   "metadata": {},
   "source": [
    "X_test.shape, y_test.shape, y_pred.shape"
   ]
  },
  {
   "cell_type": "raw",
   "id": "ea218fe9-e4f7-427e-96f4-ad0e27850bc7",
   "metadata": {},
   "source": [
    "X_test.sample()"
   ]
  },
  {
   "cell_type": "raw",
   "id": "4e48ff19-f27e-4208-aa3d-42b5f98f3034",
   "metadata": {},
   "source": [
    "y_test.sample()"
   ]
  },
  {
   "cell_type": "raw",
   "id": "ba130c9a-c1ad-46a2-a804-d062e528d28f",
   "metadata": {},
   "source": [
    "y_pred = pd.Series(y_pred.copy())\n",
    "y_pred.sample()"
   ]
  },
  {
   "cell_type": "raw",
   "id": "0b1038a6-2398-4290-917b-60c9796c6928",
   "metadata": {},
   "source": []
  },
  {
   "cell_type": "raw",
   "id": "40a69e4c-3767-4021-9214-bd5e20609aac",
   "metadata": {},
   "source": [
    "X_test.isna().sum()"
   ]
  },
  {
   "cell_type": "raw",
   "id": "f7c35049-5310-478b-8c09-5c9fe5b9d28f",
   "metadata": {},
   "source": [
    "y_test.isna().sum()"
   ]
  },
  {
   "cell_type": "raw",
   "id": "5383f227-e971-466e-b4b9-ff7ee54ce9ac",
   "metadata": {},
   "source": [
    "y_pred.isna().sum()"
   ]
  },
  {
   "cell_type": "raw",
   "id": "9640fc3a-0e4d-4414-b917-a10083edafea",
   "metadata": {},
   "source": [
    "y_pred.head(5)"
   ]
  },
  {
   "cell_type": "raw",
   "id": "82326df1-2fe9-4c78-ac14-e59dd84b9db2",
   "metadata": {},
   "source": [
    "X_test.head()"
   ]
  },
  {
   "cell_type": "raw",
   "id": "eed8c3ef-1c05-4270-864b-2b0e033e541e",
   "metadata": {},
   "source": [
    "y_test.head()"
   ]
  },
  {
   "cell_type": "raw",
   "id": "ea0ab683-25a6-4785-93c4-34eac70afafb",
   "metadata": {},
   "source": []
  },
  {
   "cell_type": "raw",
   "id": "2cc92691-0cf2-4f77-abea-86639a51ec3e",
   "metadata": {},
   "source": [
    "data_to_frontend = X_test.copy()\n",
    "data_to_frontend['price'] = y_test.copy()\n",
    "data_to_frontend['inferred_price'] = list(y_pred) # me daba muchos nan si lo unia siendo una series\n",
    "data_to_frontend['difference'] = data_to_frontend.inferred_price - data_to_frontend.price\n",
    "data_to_frontend.sample()"
   ]
  },
  {
   "cell_type": "raw",
   "id": "a84b95a7-765b-4a16-93cc-16b92746eb37",
   "metadata": {},
   "source": [
    "data_to_frontend.isna().sum()"
   ]
  },
  {
   "cell_type": "raw",
   "id": "c923dcbc-4630-4d1c-9c38-e00c76d48e11",
   "metadata": {},
   "source": [
    "data_to_frontend.difference.head()"
   ]
  },
  {
   "cell_type": "raw",
   "id": "f9141eae-4cc3-4049-9b3a-34300431d161",
   "metadata": {},
   "source": [
    "print(data_to_frontend.difference.min())\n",
    "print(data_to_frontend.difference.max())    "
   ]
  },
  {
   "cell_type": "raw",
   "id": "2841f55b-d55d-4da8-a397-eb28328791b4",
   "metadata": {},
   "source": [
    "print(data_to_frontend.loc[data_to_frontend.difference > 0, 'difference'].max())\n",
    "print(data_to_frontend.loc[data_to_frontend.difference > 0, 'difference'].min())"
   ]
  },
  {
   "cell_type": "raw",
   "id": "d17abf4b-934a-49fa-9b92-ff3b0e5cb162",
   "metadata": {},
   "source": [
    "print(data_to_frontend.loc[data_to_frontend.difference < 0, 'difference'].max())\n",
    "print(data_to_frontend.loc[data_to_frontend.difference < 0, 'difference'].min())"
   ]
  },
  {
   "cell_type": "raw",
   "id": "5a1531de-df2c-48e0-ad0e-1aa8108ea6e9",
   "metadata": {},
   "source": [
    "-(-317 / -1348879)"
   ]
  },
  {
   "cell_type": "raw",
   "id": "46d09c1f-04b2-400c-9d1d-c38db70d12c6",
   "metadata": {},
   "source": [
    "max_pos = data_to_frontend.loc[data_to_frontend.difference > 0, 'difference'].max()\n",
    "max_neg = data_to_frontend.loc[data_to_frontend.difference < 0, 'difference'].min()\n",
    "\n",
    "if dif > 0:\n",
    "    result = dif / max_pos\n",
    "elif dif < 0:\n",
    "    result = -(dif / max_neg)\n",
    "    \n"
   ]
  },
  {
   "cell_type": "raw",
   "id": "9af8c322-e9aa-492d-9f69-0d4b6c4b8b92",
   "metadata": {},
   "source": [
    "data_to_frontend.sample()"
   ]
  },
  {
   "cell_type": "raw",
   "id": "91c7eba8-e8bd-43af-90c1-ba1d80723605",
   "metadata": {},
   "source": [
    "nan_array = np.empty(data_to_frontend.shape[0])\n",
    "nan_array[:] = np.NaN\n",
    "nan_ser = pd.Series(nan_array)\n",
    "nan_ser.shape"
   ]
  },
  {
   "cell_type": "raw",
   "id": "c8ea3be6-dcfe-45dc-838e-e918bca3b309",
   "metadata": {},
   "source": [
    "data_to_frontend['dif_per'] = nan_ser\n",
    "data_to_frontend.sample()"
   ]
  },
  {
   "cell_type": "raw",
   "id": "f7d7b640-56ed-48ec-a7cf-ddbe5b6c823c",
   "metadata": {},
   "source": [
    "max_pos = data_to_frontend.loc[data_to_frontend.difference > 0, 'difference'].max()\n",
    "max_neg = data_to_frontend.loc[data_to_frontend.difference < 0, 'difference'].min()\n",
    "\n",
    "def difference_percentage(dif):\n",
    "    \n",
    "    if dif > 0:\n",
    "        result = dif / max_pos\n",
    "    elif dif < 0:\n",
    "        result = -(dif / max_neg)\n",
    "        \n",
    "    return result"
   ]
  },
  {
   "cell_type": "raw",
   "id": "6769407f-6730-48be-93a7-6ce5767a6aad",
   "metadata": {
    "tags": []
   },
   "source": [
    "for i, row in data_to_frontend.iterrows():\n",
    "    #print(row.difference)\n",
    "    \n",
    "    dif_per = difference_percentage(row.difference)\n",
    "        \n",
    "    data_to_frontend.loc[i, 'dif_per'] = dif_per\n",
    "    "
   ]
  },
  {
   "cell_type": "raw",
   "id": "21992e2c-f6a9-4a2e-b0f0-1fa439162d48",
   "metadata": {},
   "source": [
    "data_to_frontend.sample()"
   ]
  },
  {
   "cell_type": "raw",
   "id": "80714c52-ac6e-4a28-8065-e16f802c6bab",
   "metadata": {},
   "source": [
    "data_to_frontend.isna().sum()"
   ]
  },
  {
   "cell_type": "raw",
   "id": "aeef29c2-f97e-487a-8ec7-8e2c6ebcb50a",
   "metadata": {},
   "source": []
  },
  {
   "cell_type": "raw",
   "id": "f26302c6-37ca-466d-affa-147f1520cd42",
   "metadata": {},
   "source": [
    "data_to_frontend.to_csv('FrontEnd/data_example.csv', sep=',', index=False)"
   ]
  }
 ],
 "metadata": {
  "kernelspec": {
   "display_name": "Python 3 (ipykernel)",
   "language": "python",
   "name": "python3"
  },
  "language_info": {
   "codemirror_mode": {
    "name": "ipython",
    "version": 3
   },
   "file_extension": ".py",
   "mimetype": "text/x-python",
   "name": "python",
   "nbconvert_exporter": "python",
   "pygments_lexer": "ipython3",
   "version": "3.7.11"
  },
  "toc-autonumbering": true
 },
 "nbformat": 4,
 "nbformat_minor": 5
}
