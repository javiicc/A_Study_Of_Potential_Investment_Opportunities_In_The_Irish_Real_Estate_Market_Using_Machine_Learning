{
 "cells": [
  {
   "cell_type": "markdown",
   "id": "c0c6583f-8405-4a55-894f-414e650c72e6",
   "metadata": {},
   "source": [
    "# Load Data"
   ]
  },
  {
   "cell_type": "code",
   "execution_count": 1,
   "id": "6b1007dc-b3a7-4b52-b3cb-e7260cdf8baf",
   "metadata": {},
   "outputs": [],
   "source": [
    "import numpy as np\n",
    "import pandas as pd\n",
    "import matplotlib.pyplot as plt\n",
    "\n",
    "\n",
    "from sklearn.model_selection import train_test_split\n",
    "from sklearn.linear_model import LinearRegression\n",
    "\n",
    "import joblib"
   ]
  },
  {
   "cell_type": "code",
   "execution_count": 2,
   "id": "458cf704-359d-4cef-9b6b-d7071c3be864",
   "metadata": {},
   "outputs": [],
   "source": [
    "pd.set_option('display.max_rows', None)\n",
    "pd.set_option('display.max_columns', None)\n",
    "plt.style.use('seaborn')"
   ]
  },
  {
   "cell_type": "code",
   "execution_count": 3,
   "id": "6b90327e-f46b-49ca-86a0-93a8fd8fdbb7",
   "metadata": {},
   "outputs": [
    {
     "data": {
      "text/plain": [
       "(7387, 34)"
      ]
     },
     "execution_count": 3,
     "metadata": {},
     "output_type": "execute_result"
    }
   ],
   "source": [
    "sale_data = pd.read_csv('data_available/sale_data_post_out.csv', sep=',')\n",
    "sale_data.shape  #### cambiar esto"
   ]
  },
  {
   "cell_type": "code",
   "execution_count": 4,
   "id": "56c73224-f9ee-4646-98c1-e13782c520c4",
   "metadata": {},
   "outputs": [
    {
     "name": "stdout",
     "output_type": "stream",
     "text": [
      "<class 'pandas.core.frame.DataFrame'>\n",
      "RangeIndex: 7387 entries, 0 to 7386\n",
      "Data columns (total 34 columns):\n",
      " #   Column             Non-Null Count  Dtype  \n",
      "---  ------             --------------  -----  \n",
      " 0   daft_id            7387 non-null   int64  \n",
      " 1   url                7387 non-null   object \n",
      " 2   name               7387 non-null   object \n",
      " 3   price              7387 non-null   float64\n",
      " 4   sale_type          7387 non-null   object \n",
      " 5   floor_area         7387 non-null   int64  \n",
      " 6   entered_renewed    7387 non-null   object \n",
      " 7   views              7387 non-null   float64\n",
      " 8   type_house         7387 non-null   object \n",
      " 9   type               7387 non-null   object \n",
      " 10  scraping_date      7387 non-null   object \n",
      " 11  latitude           7387 non-null   float64\n",
      " 12  longitude          7387 non-null   float64\n",
      " 13  bedroom            7387 non-null   int64  \n",
      " 14  bathroom           7387 non-null   int64  \n",
      " 15  country_code       7387 non-null   object \n",
      " 16  country            7387 non-null   object \n",
      " 17  postcode           6129 non-null   object \n",
      " 18  state_district     7025 non-null   object \n",
      " 19  county             6706 non-null   object \n",
      " 20  municipality       1247 non-null   object \n",
      " 21  city               1955 non-null   object \n",
      " 22  town               1110 non-null   object \n",
      " 23  city_district      7022 non-null   object \n",
      " 24  locality           5 non-null      object \n",
      " 25  suburb             1713 non-null   object \n",
      " 26  road               5450 non-null   object \n",
      " 27  house_number       1415 non-null   object \n",
      " 28  place              6059 non-null   object \n",
      " 29  code               6059 non-null   object \n",
      " 30  admin1             6059 non-null   object \n",
      " 31  place_coordinates  6059 non-null   object \n",
      " 32  cities             6059 non-null   object \n",
      " 33  m2_price           7387 non-null   float64\n",
      "dtypes: float64(5), int64(4), object(25)\n",
      "memory usage: 1.9+ MB\n"
     ]
    }
   ],
   "source": [
    "sale_data.info()"
   ]
  },
  {
   "cell_type": "code",
   "execution_count": 40,
   "id": "6326fc04-861a-480d-859f-37bc9e35971e",
   "metadata": {},
   "outputs": [
    {
     "data": {
      "text/plain": [
       "(7387, 6)"
      ]
     },
     "execution_count": 40,
     "metadata": {},
     "output_type": "execute_result"
    }
   ],
   "source": [
    "data = sale_data[['price','floor_area','latitude','longitude','bedroom','bathroom']].copy()\n",
    "data.shape"
   ]
  },
  {
   "cell_type": "markdown",
   "id": "2ce89f6c-e3f9-45db-b2f6-456ab14f9678",
   "metadata": {},
   "source": [
    "-----------"
   ]
  },
  {
   "cell_type": "markdown",
   "id": "0bb15326-8376-468d-8752-791c56461487",
   "metadata": {},
   "source": [
    "# Split Data"
   ]
  },
  {
   "cell_type": "code",
   "execution_count": 15,
   "id": "5e72731b-24e0-4021-886b-739ffd451aff",
   "metadata": {},
   "outputs": [
    {
     "data": {
      "text/plain": [
       "(7387,)"
      ]
     },
     "execution_count": 15,
     "metadata": {},
     "output_type": "execute_result"
    }
   ],
   "source": [
    "y = data['price'].copy()\n",
    "y.shape"
   ]
  },
  {
   "cell_type": "code",
   "execution_count": 16,
   "id": "edd4e5fe-bc66-46e8-b79a-3f8c9462a793",
   "metadata": {},
   "outputs": [
    {
     "name": "stdout",
     "output_type": "stream",
     "text": [
      "(7387, 6)\n",
      "(7387, 5)\n"
     ]
    }
   ],
   "source": [
    "print(data.shape)\n",
    "X = data[['floor_area','latitude','longitude','bedroom','bathroom']].copy()\n",
    "print(X.shape)"
   ]
  },
  {
   "cell_type": "code",
   "execution_count": 17,
   "id": "b22384e3-26b2-4aa0-b3e8-b674a4eba24a",
   "metadata": {},
   "outputs": [
    {
     "data": {
      "text/plain": [
       "((6278, 5), (1109, 5), (6278,), (1109,))"
      ]
     },
     "execution_count": 17,
     "metadata": {},
     "output_type": "execute_result"
    }
   ],
   "source": [
    "X_train, X_test, y_train, y_test = train_test_split(X, y, test_size=.15)\n",
    "X_train.shape, X_test.shape, y_train.shape, y_test.shape"
   ]
  },
  {
   "cell_type": "code",
   "execution_count": null,
   "id": "81b9b583-5803-4486-a2a7-c57c7fe4bd10",
   "metadata": {},
   "outputs": [],
   "source": []
  },
  {
   "cell_type": "code",
   "execution_count": 18,
   "id": "eb498a73-09fc-431f-b8d2-b49477142ab3",
   "metadata": {},
   "outputs": [
    {
     "data": {
      "text/plain": [
       "(3531077.9218704947,\n",
       " array([  1951.43095882, -49722.07147303, 113027.16736741,   7950.84251587,\n",
       "         22006.02603142]))"
      ]
     },
     "execution_count": 18,
     "metadata": {},
     "output_type": "execute_result"
    }
   ],
   "source": [
    "lr = LinearRegression().fit(X_train, y_train)\n",
    "lr.intercept_, lr.coef_"
   ]
  },
  {
   "cell_type": "code",
   "execution_count": 19,
   "id": "f12296ba-544c-419f-aff6-f845469e24ae",
   "metadata": {},
   "outputs": [],
   "source": [
    "y_pred = lr.predict(X_test)"
   ]
  },
  {
   "cell_type": "code",
   "execution_count": 20,
   "id": "cfd202cc-c7a0-4b63-8146-1d2b2ada7d08",
   "metadata": {
    "tags": []
   },
   "outputs": [
    {
     "data": {
      "text/plain": [
       "1109"
      ]
     },
     "execution_count": 20,
     "metadata": {},
     "output_type": "execute_result"
    }
   ],
   "source": [
    "len(lr.predict(X_test))"
   ]
  },
  {
   "cell_type": "markdown",
   "id": "3fea1855-2df2-467d-8550-69b064af1434",
   "metadata": {},
   "source": [
    "# Train and Metrics"
   ]
  },
  {
   "cell_type": "markdown",
   "id": "0ce9317b-c9da-446d-a085-2b16dbc6bc8e",
   "metadata": {},
   "source": [
    "En estadística, el **coeficiente de determinación**, denominado R² y pronunciado R cuadrado, es un estadístico usado en el contexto de un modelo estadístico cuyo principal propósito es predecir futuros resultados o probar una hipótesis. El coeficiente determina la calidad del modelo para replicar los resultados, y la proporción de variación de los resultados que puede explicarse por el modelo.\n",
    "\n",
    "Es el porcentaje de la variación en la variable de respuesta que es explicado por un modelo lineal. Es decir:\n",
    "\n",
    "R-cuadrado = Variación explicada / variación total\n",
    "\n",
    "El R-cuadrado siempre está entre 0 y 100%:"
   ]
  },
  {
   "cell_type": "code",
   "execution_count": 23,
   "id": "f99c2e88-4118-4443-a137-bf0a0e878eb3",
   "metadata": {
    "tags": []
   },
   "outputs": [
    {
     "data": {
      "text/plain": [
       "{'explained_variance': make_scorer(explained_variance_score),\n",
       " 'r2': make_scorer(r2_score),\n",
       " 'max_error': make_scorer(max_error, greater_is_better=False),\n",
       " 'neg_median_absolute_error': make_scorer(median_absolute_error, greater_is_better=False),\n",
       " 'neg_mean_absolute_error': make_scorer(mean_absolute_error, greater_is_better=False),\n",
       " 'neg_mean_absolute_percentage_error': make_scorer(mean_absolute_percentage_error, greater_is_better=False),\n",
       " 'neg_mean_squared_error': make_scorer(mean_squared_error, greater_is_better=False),\n",
       " 'neg_mean_squared_log_error': make_scorer(mean_squared_log_error, greater_is_better=False),\n",
       " 'neg_root_mean_squared_error': make_scorer(mean_squared_error, greater_is_better=False, squared=False),\n",
       " 'neg_mean_poisson_deviance': make_scorer(mean_poisson_deviance, greater_is_better=False),\n",
       " 'neg_mean_gamma_deviance': make_scorer(mean_gamma_deviance, greater_is_better=False),\n",
       " 'accuracy': make_scorer(accuracy_score),\n",
       " 'top_k_accuracy': make_scorer(top_k_accuracy_score, needs_threshold=True),\n",
       " 'roc_auc': make_scorer(roc_auc_score, needs_threshold=True),\n",
       " 'roc_auc_ovr': make_scorer(roc_auc_score, needs_proba=True, multi_class=ovr),\n",
       " 'roc_auc_ovo': make_scorer(roc_auc_score, needs_proba=True, multi_class=ovo),\n",
       " 'roc_auc_ovr_weighted': make_scorer(roc_auc_score, needs_proba=True, multi_class=ovr, average=weighted),\n",
       " 'roc_auc_ovo_weighted': make_scorer(roc_auc_score, needs_proba=True, multi_class=ovo, average=weighted),\n",
       " 'balanced_accuracy': make_scorer(balanced_accuracy_score),\n",
       " 'average_precision': make_scorer(average_precision_score, needs_threshold=True),\n",
       " 'neg_log_loss': make_scorer(log_loss, greater_is_better=False, needs_proba=True),\n",
       " 'neg_brier_score': make_scorer(brier_score_loss, greater_is_better=False, needs_proba=True),\n",
       " 'adjusted_rand_score': make_scorer(adjusted_rand_score),\n",
       " 'rand_score': make_scorer(rand_score),\n",
       " 'homogeneity_score': make_scorer(homogeneity_score),\n",
       " 'completeness_score': make_scorer(completeness_score),\n",
       " 'v_measure_score': make_scorer(v_measure_score),\n",
       " 'mutual_info_score': make_scorer(mutual_info_score),\n",
       " 'adjusted_mutual_info_score': make_scorer(adjusted_mutual_info_score),\n",
       " 'normalized_mutual_info_score': make_scorer(normalized_mutual_info_score),\n",
       " 'fowlkes_mallows_score': make_scorer(fowlkes_mallows_score),\n",
       " 'precision': make_scorer(precision_score, average=binary),\n",
       " 'precision_macro': make_scorer(precision_score, pos_label=None, average=macro),\n",
       " 'precision_micro': make_scorer(precision_score, pos_label=None, average=micro),\n",
       " 'precision_samples': make_scorer(precision_score, pos_label=None, average=samples),\n",
       " 'precision_weighted': make_scorer(precision_score, pos_label=None, average=weighted),\n",
       " 'recall': make_scorer(recall_score, average=binary),\n",
       " 'recall_macro': make_scorer(recall_score, pos_label=None, average=macro),\n",
       " 'recall_micro': make_scorer(recall_score, pos_label=None, average=micro),\n",
       " 'recall_samples': make_scorer(recall_score, pos_label=None, average=samples),\n",
       " 'recall_weighted': make_scorer(recall_score, pos_label=None, average=weighted),\n",
       " 'f1': make_scorer(f1_score, average=binary),\n",
       " 'f1_macro': make_scorer(f1_score, pos_label=None, average=macro),\n",
       " 'f1_micro': make_scorer(f1_score, pos_label=None, average=micro),\n",
       " 'f1_samples': make_scorer(f1_score, pos_label=None, average=samples),\n",
       " 'f1_weighted': make_scorer(f1_score, pos_label=None, average=weighted),\n",
       " 'jaccard': make_scorer(jaccard_score, average=binary),\n",
       " 'jaccard_macro': make_scorer(jaccard_score, pos_label=None, average=macro),\n",
       " 'jaccard_micro': make_scorer(jaccard_score, pos_label=None, average=micro),\n",
       " 'jaccard_samples': make_scorer(jaccard_score, pos_label=None, average=samples),\n",
       " 'jaccard_weighted': make_scorer(jaccard_score, pos_label=None, average=weighted)}"
      ]
     },
     "execution_count": 23,
     "metadata": {},
     "output_type": "execute_result"
    }
   ],
   "source": [
    "from sklearn import metrics\n",
    "metrics.SCORERS"
   ]
  },
  {
   "cell_type": "code",
   "execution_count": 24,
   "id": "bce0151b-04c6-4567-9b0f-f4d54f9e229e",
   "metadata": {},
   "outputs": [],
   "source": [
    "def metrics_regression(y_test, y_pred, squared=False):\n",
    "    \n",
    "    r2_score = metrics.r2_score(y_test, y_pred)\n",
    "    mae = metrics.mean_absolute_error(y_test, y_pred)\n",
    "    mape = metrics.mean_absolute_percentage_error(y_test, y_pred)\n",
    "    mse = metrics.mean_squared_error(y_test, y_pred)\n",
    "    rmse = metrics.mean_squared_error(y_test, y_pred, squared=squared)\n",
    "    \n",
    "    print(f'R²: {r2_score}')\n",
    "    print(f'MAE: {mae}')\n",
    "    print(f'MAPE: {mape}')\n",
    "    #print(f'MSE: {mse}')\n",
    "    print(f'RMSE: {rmse}')\n",
    "    "
   ]
  },
  {
   "cell_type": "code",
   "execution_count": 25,
   "id": "12534705-7804-48e9-8a68-416e9e8810f7",
   "metadata": {},
   "outputs": [
    {
     "name": "stdout",
     "output_type": "stream",
     "text": [
      "R²: 0.4912459105996785\n",
      "MAE: 146273.78370368568\n",
      "MAPE: 0.4294870378092866\n",
      "RMSE: 226843.27737470772\n"
     ]
    }
   ],
   "source": [
    "metrics_regression(y_test=y_test, y_pred=y_pred, squared=False)"
   ]
  },
  {
   "cell_type": "markdown",
   "id": "6028ab71-9371-4cdc-b0ae-efbd2537cef1",
   "metadata": {},
   "source": [
    "https://scikit-learn.org/stable/modules/cross_validation.html"
   ]
  },
  {
   "cell_type": "code",
   "execution_count": 31,
   "id": "1cbed8b2-8568-4041-9591-484767c1c8ca",
   "metadata": {},
   "outputs": [],
   "source": [
    "from sklearn.model_selection import cross_validate\n",
    "\n",
    "def cross_validate_custom(estimator, scoring_dict, X_train, y_train, cv=10, return_train_score=False):\n",
    "    estimator = estimator\n",
    "    scoring_dict = scoring_dict\n",
    "\n",
    "    scores = cross_validate(estimator, X=X_train, y=y_train, scoring=scoring_dict, cv=cv, \n",
    "                            return_train_score=return_train_score)\n",
    "    print(scores.keys())\n",
    "    return scores"
   ]
  },
  {
   "cell_type": "code",
   "execution_count": 32,
   "id": "9eb4401d-02ba-4afa-aebf-c13fe28cee05",
   "metadata": {},
   "outputs": [
    {
     "name": "stdout",
     "output_type": "stream",
     "text": [
      "dict_keys(['fit_time', 'score_time', 'test_r2', 'test_MAE', 'test_MAPE', 'test_RMSE'])\n"
     ]
    }
   ],
   "source": [
    "scoring = {'r2': 'r2', \n",
    "           'MAE': 'neg_mean_absolute_error', \n",
    "           'MAPE': 'neg_mean_absolute_percentage_error', \n",
    "           'RMSE': 'neg_root_mean_squared_error'}\n",
    "\n",
    "scores = cross_validate_custom(estimator=LinearRegression(), scoring_dict=scoring, \n",
    "                               X_train=X_train, y_train=y_train, cv=5, return_train_score=False)"
   ]
  },
  {
   "cell_type": "code",
   "execution_count": 33,
   "id": "639e51c4-5c29-4341-9ac5-b61069c176a2",
   "metadata": {},
   "outputs": [],
   "source": [
    "def scores_statistics(estimator, scoring_dict, X_train, y_train, cv=10, return_train_score=False, time_info=False):\n",
    "    \n",
    "    scores = cross_validate(estimator, X=X_train, y=y_train, scoring=scoring_dict, cv=cv, \n",
    "                            return_train_score=return_train_score)\n",
    "    \n",
    "    if time_info:\n",
    "        fit_time_mean = np.mean(scores['fit_time'])\n",
    "        fit_time_std = np.std(scores['fit_time'])\n",
    "        score_time_mean = np.mean(scores['score_time'])\n",
    "        score_time_std = np.std(scores['score_time'])\n",
    "        #time_list = []    \n",
    "        print('fit_time mean:', fit_time_mean)\n",
    "        print('fit_time std:', fit_time_std)\n",
    "        print('score_time mean:', score_time_mea)\n",
    "        print('score_time std:', score_time_std)\n",
    "    \n",
    "    \n",
    "    for key in scoring_dict:\n",
    "        try:\n",
    "            mean = np.mean(scores['test_' + key])\n",
    "            std = np.std(scores['test_' + key])\n",
    "            print(key, 'mean:', mean)\n",
    "            print(key, 'std:', std, '\\n')\n",
    "        except:\n",
    "            continue\n",
    "    return scores"
   ]
  },
  {
   "cell_type": "code",
   "execution_count": 34,
   "id": "13565599-905d-4640-8745-c4245b68ea11",
   "metadata": {},
   "outputs": [
    {
     "name": "stdout",
     "output_type": "stream",
     "text": [
      "r2 mean: 0.4349195417593963\n",
      "r2 std: 0.015494821976440918 \n",
      "\n",
      "MAE mean: -145992.88753021418\n",
      "MAE std: 2393.2316136993395 \n",
      "\n",
      "MAPE mean: -0.44137549753610034\n",
      "MAPE std: 0.024723460830639855 \n",
      "\n",
      "RMSE mean: -227323.91062345955\n",
      "RMSE std: 6991.965821313774 \n",
      "\n"
     ]
    },
    {
     "data": {
      "text/plain": [
       "{'fit_time': array([0.00278783, 0.00217462, 0.00222492, 0.00208974, 0.00204086]),\n",
       " 'score_time': array([0.00233412, 0.00211   , 0.00212574, 0.00209928, 0.00202155]),\n",
       " 'test_r2': array([0.45817976, 0.43258172, 0.43384505, 0.44009228, 0.4098989 ]),\n",
       " 'test_MAE': array([-147167.06618112, -146213.19047293, -146269.10279147,\n",
       "        -141570.15495606, -148744.92324949]),\n",
       " 'test_MAPE': array([-0.42372151, -0.41844647, -0.4557627 , -0.42558792, -0.48335888]),\n",
       " 'test_RMSE': array([-231434.8230439 , -238646.88926501, -223984.39288997,\n",
       "        -218534.53758792, -224018.9103305 ])}"
      ]
     },
     "execution_count": 34,
     "metadata": {},
     "output_type": "execute_result"
    }
   ],
   "source": [
    "scoring = {'r2': 'r2', \n",
    "           'MAE': 'neg_mean_absolute_error', \n",
    "           'MAPE': 'neg_mean_absolute_percentage_error', \n",
    "           'RMSE': 'neg_root_mean_squared_error'}\n",
    "\n",
    "scores_statistics(estimator=LinearRegression(), scoring_dict=scoring, \n",
    "                               X_train=X_train, y_train=y_train, cv=5, return_train_score=False)"
   ]
  },
  {
   "cell_type": "code",
   "execution_count": null,
   "id": "ae3361bf-02a0-4df6-8047-490bf92932df",
   "metadata": {},
   "outputs": [],
   "source": []
  },
  {
   "cell_type": "code",
   "execution_count": null,
   "id": "0cd8aa8c-6e4d-4672-90ee-729314885e00",
   "metadata": {},
   "outputs": [],
   "source": []
  },
  {
   "cell_type": "code",
   "execution_count": null,
   "id": "c041b6e3-0333-4020-b8b2-e4b3477aeaf7",
   "metadata": {},
   "outputs": [],
   "source": []
  },
  {
   "cell_type": "code",
   "execution_count": null,
   "id": "62dc8b36-6793-424b-9c1a-68fbd6e23228",
   "metadata": {},
   "outputs": [],
   "source": []
  },
  {
   "cell_type": "code",
   "execution_count": null,
   "id": "ba1bc43b-34c5-463b-a01b-2216bbf38df0",
   "metadata": {},
   "outputs": [],
   "source": []
  },
  {
   "cell_type": "code",
   "execution_count": null,
   "id": "df98a79b-3c93-4f92-ac8d-e657297f3419",
   "metadata": {},
   "outputs": [],
   "source": []
  },
  {
   "cell_type": "code",
   "execution_count": null,
   "id": "62b0ae3a-5839-4a3d-95c7-5e94ddc48105",
   "metadata": {},
   "outputs": [],
   "source": []
  },
  {
   "cell_type": "markdown",
   "id": "02906502-6f02-47f8-a4f0-79e0f3fb33b3",
   "metadata": {},
   "source": [
    "-------------"
   ]
  },
  {
   "cell_type": "code",
   "execution_count": 14,
   "id": "b11e3ce6-34e6-4756-b99c-c55405f001f3",
   "metadata": {},
   "outputs": [
    {
     "data": {
      "text/plain": [
       "['models/linear_regression.plk']"
      ]
     },
     "execution_count": 14,
     "metadata": {},
     "output_type": "execute_result"
    }
   ],
   "source": [
    "joblib.dump(lr, 'models/linear_regression.plk')\n",
    "# esto es genial <3"
   ]
  },
  {
   "cell_type": "code",
   "execution_count": 15,
   "id": "e207877e-a264-4e2e-b787-e7a2039602c0",
   "metadata": {},
   "outputs": [],
   "source": [
    "testing_load = joblib.load('models/linear_regression.plk')"
   ]
  },
  {
   "cell_type": "code",
   "execution_count": 16,
   "id": "bc80b8ed-0d04-493d-87b9-a7cefe77c5f1",
   "metadata": {},
   "outputs": [
    {
     "data": {
      "text/plain": [
       "LinearRegression()"
      ]
     },
     "execution_count": 16,
     "metadata": {},
     "output_type": "execute_result"
    }
   ],
   "source": [
    "testing_load"
   ]
  },
  {
   "cell_type": "code",
   "execution_count": 17,
   "id": "487e7a16-3f23-41b5-b9b5-45957d2b8740",
   "metadata": {},
   "outputs": [
    {
     "data": {
      "text/plain": [
       "(125383.3335334807, array([  2017.52528504, -19308.42811438,  27338.55891913]))"
      ]
     },
     "execution_count": 17,
     "metadata": {},
     "output_type": "execute_result"
    }
   ],
   "source": [
    "testing_load.intercept_, testing_load.coef_"
   ]
  },
  {
   "cell_type": "markdown",
   "id": "ac6aedae-ec47-49a5-83f5-d3c9b180498b",
   "metadata": {},
   "source": [
    "------------"
   ]
  },
  {
   "cell_type": "code",
   "execution_count": null,
   "id": "d69bc5ef-d31d-490a-a5d8-80aae17e5578",
   "metadata": {},
   "outputs": [],
   "source": []
  },
  {
   "cell_type": "code",
   "execution_count": null,
   "id": "997ebfd3-ad24-414e-bf18-4b9a5899052a",
   "metadata": {},
   "outputs": [],
   "source": []
  },
  {
   "cell_type": "code",
   "execution_count": null,
   "id": "e00c0fb3-7f13-4a29-bea6-8c31ae5905bb",
   "metadata": {},
   "outputs": [],
   "source": []
  },
  {
   "cell_type": "code",
   "execution_count": null,
   "id": "c83ebac1-57a3-4039-a412-13c29b0aa6b5",
   "metadata": {},
   "outputs": [],
   "source": []
  },
  {
   "cell_type": "code",
   "execution_count": 67,
   "id": "3ab42e72-d498-4e81-8f32-f2d0c9b0ad24",
   "metadata": {},
   "outputs": [
    {
     "data": {
      "text/plain": [
       "(7387, 6)"
      ]
     },
     "execution_count": 67,
     "metadata": {},
     "output_type": "execute_result"
    }
   ],
   "source": [
    "df = sale_data[['price','floor_area','latitude','longitude','bedroom','type_house']].copy()\n",
    "df.shape"
   ]
  },
  {
   "cell_type": "code",
   "execution_count": 68,
   "id": "f0d17211-d50c-44e6-8603-d0e8821f81a4",
   "metadata": {},
   "outputs": [],
   "source": [
    "# Choose columns\n",
    "df.columns\n",
    "\n",
    "df_model = df[['price','floor_area','latitude','longitude','bedroom','type_house']]"
   ]
  },
  {
   "cell_type": "code",
   "execution_count": 69,
   "id": "0e517b04-6049-4aa6-96f4-27cbb9f561e2",
   "metadata": {},
   "outputs": [
    {
     "data": {
      "text/plain": [
       "(7387, 7)"
      ]
     },
     "execution_count": 69,
     "metadata": {},
     "output_type": "execute_result"
    }
   ],
   "source": [
    "# Get dummy data\n",
    "df_dum = pd.get_dummies(df_model)\n",
    "df_dum.shape"
   ]
  },
  {
   "cell_type": "code",
   "execution_count": 70,
   "id": "f56db184-7062-42bb-9fbf-6cf728793d5b",
   "metadata": {},
   "outputs": [
    {
     "data": {
      "text/html": [
       "<div>\n",
       "<style scoped>\n",
       "    .dataframe tbody tr th:only-of-type {\n",
       "        vertical-align: middle;\n",
       "    }\n",
       "\n",
       "    .dataframe tbody tr th {\n",
       "        vertical-align: top;\n",
       "    }\n",
       "\n",
       "    .dataframe thead th {\n",
       "        text-align: right;\n",
       "    }\n",
       "</style>\n",
       "<table border=\"1\" class=\"dataframe\">\n",
       "  <thead>\n",
       "    <tr style=\"text-align: right;\">\n",
       "      <th></th>\n",
       "      <th>price</th>\n",
       "      <th>floor_area</th>\n",
       "      <th>latitude</th>\n",
       "      <th>longitude</th>\n",
       "      <th>bedroom</th>\n",
       "      <th>type_house_apartment</th>\n",
       "      <th>type_house_house</th>\n",
       "    </tr>\n",
       "  </thead>\n",
       "  <tbody>\n",
       "    <tr>\n",
       "      <th>3449</th>\n",
       "      <td>274900.0</td>\n",
       "      <td>106</td>\n",
       "      <td>53.486741</td>\n",
       "      <td>-9.992899</td>\n",
       "      <td>3</td>\n",
       "      <td>0</td>\n",
       "      <td>1</td>\n",
       "    </tr>\n",
       "  </tbody>\n",
       "</table>\n",
       "</div>"
      ],
      "text/plain": [
       "         price  floor_area   latitude  longitude  bedroom  \\\n",
       "3449  274900.0         106  53.486741  -9.992899        3   \n",
       "\n",
       "      type_house_apartment  type_house_house  \n",
       "3449                     0                 1  "
      ]
     },
     "execution_count": 70,
     "metadata": {},
     "output_type": "execute_result"
    }
   ],
   "source": [
    "df_dum.sample()"
   ]
  },
  {
   "cell_type": "code",
   "execution_count": 71,
   "id": "5c972e5c-5219-47ab-9c94-0411985b31b2",
   "metadata": {},
   "outputs": [
    {
     "data": {
      "text/plain": [
       "((6278, 6), (1109, 6), (6278,), (1109,))"
      ]
     },
     "execution_count": 71,
     "metadata": {},
     "output_type": "execute_result"
    }
   ],
   "source": [
    "# Train test split\n",
    "\n",
    "from sklearn.model_selection import train_test_split\n",
    "\n",
    "y = df_dum.price.values\n",
    "X = df_dum.drop('price', axis=1)\n",
    "\n",
    "\n",
    "X_train, X_test, y_train, y_test = train_test_split(X, y, test_size=.15, random_state=42)\n",
    "X_train.shape, X_test.shape, y_train.shape, y_test.shape"
   ]
  },
  {
   "cell_type": "code",
   "execution_count": 74,
   "id": "6a1b2ddb-85d9-4c9a-8fd4-87ba00399415",
   "metadata": {},
   "outputs": [
    {
     "name": "stderr",
     "output_type": "stream",
     "text": [
      "/home/javier/anaconda3/envs/tfm/lib/python3.7/site-packages/statsmodels/tsa/tsatools.py:142: FutureWarning: In a future version of pandas all arguments of concat except for the argument 'objs' will be keyword-only\n",
      "  x = pd.concat(x[::order], 1)\n"
     ]
    },
    {
     "data": {
      "text/html": [
       "<table class=\"simpletable\">\n",
       "<caption>OLS Regression Results</caption>\n",
       "<tr>\n",
       "  <th>Dep. Variable:</th>            <td>y</td>        <th>  R-squared:         </th>  <td>   0.443</td>  \n",
       "</tr>\n",
       "<tr>\n",
       "  <th>Model:</th>                   <td>OLS</td>       <th>  Adj. R-squared:    </th>  <td>   0.443</td>  \n",
       "</tr>\n",
       "<tr>\n",
       "  <th>Method:</th>             <td>Least Squares</td>  <th>  F-statistic:       </th>  <td>   1176.</td>  \n",
       "</tr>\n",
       "<tr>\n",
       "  <th>Date:</th>             <td>Wed, 27 Oct 2021</td> <th>  Prob (F-statistic):</th>   <td>  0.00</td>   \n",
       "</tr>\n",
       "<tr>\n",
       "  <th>Time:</th>                 <td>17:26:20</td>     <th>  Log-Likelihood:    </th> <td>-1.0160e+05</td>\n",
       "</tr>\n",
       "<tr>\n",
       "  <th>No. Observations:</th>      <td>  7387</td>      <th>  AIC:               </th>  <td>2.032e+05</td> \n",
       "</tr>\n",
       "<tr>\n",
       "  <th>Df Residuals:</th>          <td>  7381</td>      <th>  BIC:               </th>  <td>2.033e+05</td> \n",
       "</tr>\n",
       "<tr>\n",
       "  <th>Df Model:</th>              <td>     5</td>      <th>                     </th>      <td> </td>     \n",
       "</tr>\n",
       "<tr>\n",
       "  <th>Covariance Type:</th>      <td>nonrobust</td>    <th>                     </th>      <td> </td>     \n",
       "</tr>\n",
       "</table>\n",
       "<table class=\"simpletable\">\n",
       "<tr>\n",
       "            <td></td>              <th>coef</th>     <th>std err</th>      <th>t</th>      <th>P>|t|</th>  <th>[0.025</th>    <th>0.975]</th>  \n",
       "</tr>\n",
       "<tr>\n",
       "  <th>const</th>                <td> 2.333e+06</td> <td> 1.43e+05</td> <td>   16.356</td> <td> 0.000</td> <td> 2.05e+06</td> <td> 2.61e+06</td>\n",
       "</tr>\n",
       "<tr>\n",
       "  <th>floor_area</th>           <td> 2153.5932</td> <td>   48.624</td> <td>   44.291</td> <td> 0.000</td> <td> 2058.276</td> <td> 2248.910</td>\n",
       "</tr>\n",
       "<tr>\n",
       "  <th>latitude</th>             <td>-4.918e+04</td> <td> 3917.433</td> <td>  -12.555</td> <td> 0.000</td> <td>-5.69e+04</td> <td>-4.15e+04</td>\n",
       "</tr>\n",
       "<tr>\n",
       "  <th>longitude</th>            <td> 1.117e+05</td> <td> 2434.888</td> <td>   45.890</td> <td> 0.000</td> <td> 1.07e+05</td> <td> 1.17e+05</td>\n",
       "</tr>\n",
       "<tr>\n",
       "  <th>bedroom</th>              <td> 1.449e+04</td> <td> 3578.855</td> <td>    4.049</td> <td> 0.000</td> <td> 7474.427</td> <td> 2.15e+04</td>\n",
       "</tr>\n",
       "<tr>\n",
       "  <th>type_house_apartment</th> <td> 1.175e+06</td> <td> 7.15e+04</td> <td>   16.430</td> <td> 0.000</td> <td> 1.03e+06</td> <td> 1.32e+06</td>\n",
       "</tr>\n",
       "<tr>\n",
       "  <th>type_house_house</th>     <td> 1.158e+06</td> <td> 7.14e+04</td> <td>   16.225</td> <td> 0.000</td> <td> 1.02e+06</td> <td>  1.3e+06</td>\n",
       "</tr>\n",
       "</table>\n",
       "<table class=\"simpletable\">\n",
       "<tr>\n",
       "  <th>Omnibus:</th>       <td>3768.102</td> <th>  Durbin-Watson:     </th> <td>   1.912</td> \n",
       "</tr>\n",
       "<tr>\n",
       "  <th>Prob(Omnibus):</th>  <td> 0.000</td>  <th>  Jarque-Bera (JB):  </th> <td>47798.226</td>\n",
       "</tr>\n",
       "<tr>\n",
       "  <th>Skew:</th>           <td> 2.142</td>  <th>  Prob(JB):          </th> <td>    0.00</td> \n",
       "</tr>\n",
       "<tr>\n",
       "  <th>Kurtosis:</th>       <td>14.702</td>  <th>  Cond. No.          </th> <td>4.09e+18</td> \n",
       "</tr>\n",
       "</table><br/><br/>Notes:<br/>[1] Standard Errors assume that the covariance matrix of the errors is correctly specified.<br/>[2] The smallest eigenvalue is 1.18e-29. This might indicate that there are<br/>strong multicollinearity problems or that the design matrix is singular."
      ],
      "text/plain": [
       "<class 'statsmodels.iolib.summary.Summary'>\n",
       "\"\"\"\n",
       "                            OLS Regression Results                            \n",
       "==============================================================================\n",
       "Dep. Variable:                      y   R-squared:                       0.443\n",
       "Model:                            OLS   Adj. R-squared:                  0.443\n",
       "Method:                 Least Squares   F-statistic:                     1176.\n",
       "Date:                Wed, 27 Oct 2021   Prob (F-statistic):               0.00\n",
       "Time:                        17:26:20   Log-Likelihood:            -1.0160e+05\n",
       "No. Observations:                7387   AIC:                         2.032e+05\n",
       "Df Residuals:                    7381   BIC:                         2.033e+05\n",
       "Df Model:                           5                                         \n",
       "Covariance Type:            nonrobust                                         \n",
       "========================================================================================\n",
       "                           coef    std err          t      P>|t|      [0.025      0.975]\n",
       "----------------------------------------------------------------------------------------\n",
       "const                 2.333e+06   1.43e+05     16.356      0.000    2.05e+06    2.61e+06\n",
       "floor_area            2153.5932     48.624     44.291      0.000    2058.276    2248.910\n",
       "latitude             -4.918e+04   3917.433    -12.555      0.000   -5.69e+04   -4.15e+04\n",
       "longitude             1.117e+05   2434.888     45.890      0.000    1.07e+05    1.17e+05\n",
       "bedroom               1.449e+04   3578.855      4.049      0.000    7474.427    2.15e+04\n",
       "type_house_apartment  1.175e+06   7.15e+04     16.430      0.000    1.03e+06    1.32e+06\n",
       "type_house_house      1.158e+06   7.14e+04     16.225      0.000    1.02e+06     1.3e+06\n",
       "==============================================================================\n",
       "Omnibus:                     3768.102   Durbin-Watson:                   1.912\n",
       "Prob(Omnibus):                  0.000   Jarque-Bera (JB):            47798.226\n",
       "Skew:                           2.142   Prob(JB):                         0.00\n",
       "Kurtosis:                      14.702   Cond. No.                     4.09e+18\n",
       "==============================================================================\n",
       "\n",
       "Notes:\n",
       "[1] Standard Errors assume that the covariance matrix of the errors is correctly specified.\n",
       "[2] The smallest eigenvalue is 1.18e-29. This might indicate that there are\n",
       "strong multicollinearity problems or that the design matrix is singular.\n",
       "\"\"\""
      ]
     },
     "execution_count": 74,
     "metadata": {},
     "output_type": "execute_result"
    }
   ],
   "source": [
    "# Multiple linear regression\n",
    "\n",
    "import statsmodels.api as sm\n",
    "\n",
    "X_sm = X = sm.add_constant(X) # para el intercept\n",
    "\n",
    "model = sm.OLS(y,X_sm)\n",
    "model.fit().summary()"
   ]
  },
  {
   "cell_type": "code",
   "execution_count": 77,
   "id": "05cb24bf-6c2c-417a-b604-a829e59ffb52",
   "metadata": {},
   "outputs": [
    {
     "data": {
      "text/plain": [
       "(3428954.172541528,\n",
       " array([  2175.63836133, -47935.76025084, 110927.69933547,  13596.10287413,\n",
       "         11205.0226554 , -11205.0226554 ]))"
      ]
     },
     "execution_count": 77,
     "metadata": {},
     "output_type": "execute_result"
    }
   ],
   "source": [
    "from sklearn.linear_model import LinearRegression\n",
    "\n",
    "lr = LinearRegression().fit(X_train, y_train)\n",
    "lr.intercept_, lr.coef_"
   ]
  },
  {
   "cell_type": "code",
   "execution_count": 78,
   "id": "44524b4a-9a06-458f-b958-c03cdee765fe",
   "metadata": {},
   "outputs": [
    {
     "name": "stdout",
     "output_type": "stream",
     "text": [
      "r2 mean: 0.44383255053241405\n",
      "r2 std: 0.02445553110208344 \n",
      "\n",
      "MAE mean: -145629.7606393886\n",
      "MAE std: 3014.423672363449 \n",
      "\n",
      "MAPE mean: -0.44047530648821065\n",
      "MAPE std: 0.019277943979582657 \n",
      "\n",
      "RMSE mean: -226285.62439799658\n",
      "RMSE std: 9250.50281359352 \n",
      "\n"
     ]
    },
    {
     "data": {
      "text/plain": [
       "{'fit_time': array([0.00389361, 0.00292468, 0.00274348, 0.0025804 , 0.00250816]),\n",
       " 'score_time': array([0.00296688, 0.00268984, 0.00245714, 0.00236773, 0.00236392]),\n",
       " 'test_r2': array([0.46270535, 0.46230224, 0.4304763 , 0.40161532, 0.46206354]),\n",
       " 'test_MAE': array([-148196.03104833, -144183.41662962, -143282.3304322 ,\n",
       "        -150148.14339657, -142338.88169022]),\n",
       " 'test_MAPE': array([-0.4139161 , -0.45412717, -0.44587063, -0.46555156, -0.42291106]),\n",
       " 'test_RMSE': array([-234357.76273578, -216430.45649165, -220778.92076039,\n",
       "        -240145.21981917, -219715.762183  ])}"
      ]
     },
     "execution_count": 78,
     "metadata": {},
     "output_type": "execute_result"
    }
   ],
   "source": [
    "from sklearn import metrics\n",
    "\n",
    "scoring = {'r2': 'r2', \n",
    "           'MAE': 'neg_mean_absolute_error', \n",
    "           'MAPE': 'neg_mean_absolute_percentage_error', \n",
    "           'RMSE': 'neg_root_mean_squared_error'}\n",
    "\n",
    "scores_statistics(estimator=LinearRegression(), \n",
    "                  scoring_dict=scoring, \n",
    "                  X_train=X_train, \n",
    "                  y_train=y_train, \n",
    "                  cv=5, \n",
    "                  return_train_score=False)"
   ]
  },
  {
   "cell_type": "code",
   "execution_count": 79,
   "id": "2f64cb45-822d-422c-a273-cff2d6cd6b7a",
   "metadata": {},
   "outputs": [
    {
     "data": {
      "text/plain": [
       "(3428954.172541528,\n",
       " array([  2175.63836133, -47935.76025084, 110927.69933547,  13596.10287413,\n",
       "         11205.0226554 , -11205.0226554 ]))"
      ]
     },
     "execution_count": 79,
     "metadata": {},
     "output_type": "execute_result"
    }
   ],
   "source": [
    "from sklearn.linear_model import Lasso\n",
    "\n",
    "lm_lasso = Lasso().fit(X_train, y_train)\n",
    "lr.intercept_, lr.coef_"
   ]
  },
  {
   "cell_type": "code",
   "execution_count": 80,
   "id": "1cbbc490-bcd4-4600-8926-7f05bedbf105",
   "metadata": {},
   "outputs": [
    {
     "name": "stdout",
     "output_type": "stream",
     "text": [
      "r2 mean: 0.44383257291043127\n",
      "r2 std: 0.024455746601179756 \n",
      "\n",
      "MAE mean: -145629.57133800752\n",
      "MAE std: 3014.3628387341937 \n",
      "\n",
      "MAPE mean: -0.4404747739638205\n",
      "MAPE std: 0.01927786278906522 \n",
      "\n",
      "RMSE mean: -226285.62196074674\n",
      "RMSE std: 9250.600471828206 \n",
      "\n"
     ]
    },
    {
     "data": {
      "text/plain": [
       "{'fit_time': array([0.00430036, 0.00309014, 0.00293541, 0.00308847, 0.00284696]),\n",
       " 'score_time': array([0.00240254, 0.00257206, 0.00208187, 0.00202394, 0.00195765]),\n",
       " 'test_r2': array([0.46270472, 0.46230282, 0.4304765 , 0.40161481, 0.46206401]),\n",
       " 'test_MAE': array([-148195.9003353 , -144183.2294011 , -143282.24803143,\n",
       "        -150147.77933545, -142338.69958676]),\n",
       " 'test_MAPE': array([-0.41391563, -0.4541265 , -0.44587078, -0.4655506 , -0.42291037]),\n",
       " 'test_RMSE': array([-234357.89931278, -216430.33959876, -220778.88205824,\n",
       "        -240145.32232953, -219715.66650442])}"
      ]
     },
     "execution_count": 80,
     "metadata": {},
     "output_type": "execute_result"
    }
   ],
   "source": [
    "scoring = {'r2': 'r2', \n",
    "           'MAE': 'neg_mean_absolute_error', \n",
    "           'MAPE': 'neg_mean_absolute_percentage_error', \n",
    "           'RMSE': 'neg_root_mean_squared_error'}\n",
    "\n",
    "scores_statistics(estimator=Lasso(), \n",
    "                  scoring_dict=scoring, \n",
    "                  X_train=X_train, \n",
    "                  y_train=y_train, \n",
    "                  cv=5, \n",
    "                  return_train_score=False)"
   ]
  },
  {
   "cell_type": "code",
   "execution_count": null,
   "id": "08d0aaa1-cdc0-4ea4-a087-86b90e102bc3",
   "metadata": {},
   "outputs": [],
   "source": []
  }
 ],
 "metadata": {
  "kernelspec": {
   "display_name": "Python 3 (ipykernel)",
   "language": "python",
   "name": "python3"
  },
  "language_info": {
   "codemirror_mode": {
    "name": "ipython",
    "version": 3
   },
   "file_extension": ".py",
   "mimetype": "text/x-python",
   "name": "python",
   "nbconvert_exporter": "python",
   "pygments_lexer": "ipython3",
   "version": "3.7.11"
  }
 },
 "nbformat": 4,
 "nbformat_minor": 5
}
