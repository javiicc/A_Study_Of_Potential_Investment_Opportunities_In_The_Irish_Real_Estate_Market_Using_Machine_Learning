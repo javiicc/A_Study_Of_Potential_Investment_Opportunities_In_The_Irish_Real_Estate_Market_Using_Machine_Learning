{
 "cells": [
  {
   "cell_type": "markdown",
   "id": "e5a87ff5-3682-4e8d-9a36-dd90b8b112d7",
   "metadata": {},
   "source": [
    "# Concatenate Datasets"
   ]
  },
  {
   "cell_type": "code",
   "execution_count": 1,
   "id": "69c22253-cc82-44cc-9172-1cfe11116499",
   "metadata": {
    "tags": []
   },
   "outputs": [],
   "source": [
    "import sqlite3\n",
    "\n",
    "import numpy as np\n",
    "import pandas as pd\n",
    "import matplotlib.pyplot as plt\n",
    "\n",
    "from daftpy.daftdata import get_db, db_dict, to_datetime, sale_dict_daily, drop_renewed, concatenate_dropping_renewed"
   ]
  },
  {
   "cell_type": "code",
   "execution_count": 2,
   "id": "75e846cc-efc2-4df0-95ca-12b1c08aa92e",
   "metadata": {},
   "outputs": [],
   "source": [
    "pd.set_option('display.max_rows', None)\n",
    "pd.set_option('display.max_columns', None)\n",
    "plt.style.use('seaborn')"
   ]
  },
  {
   "cell_type": "code",
   "execution_count": 3,
   "id": "d73d2676-e9fb-4227-9fdd-e7e5fb574e63",
   "metadata": {},
   "outputs": [
    {
     "name": "stdout",
     "output_type": "stream",
     "text": [
      "2021-09-25.db  2021-09-30.db  2021-10-05.db  2021-10-10.db  2021-10-15.db\n",
      "2021-09-26.db  2021-10-01.db  2021-10-06.db  2021-10-11.db  2021-10-16.db\n",
      "2021-09-27.db  2021-10-02.db  2021-10-07.db  2021-10-12.db  2021-10-17.db\n",
      "2021-09-28.db  2021-10-03.db  2021-10-08.db  2021-10-13.db  2021-10-18.db\n",
      "2021-09-29.db  2021-10-04.db  2021-10-09.db  2021-10-14.db  backup\n"
     ]
    }
   ],
   "source": [
    "!ls data"
   ]
  },
  {
   "cell_type": "markdown",
   "id": "b5bb1b82-6969-479e-8a10-4d1c07b4fdbc",
   "metadata": {},
   "source": [
    "------------------"
   ]
  },
  {
   "cell_type": "markdown",
   "id": "4a425a89-fa9e-4ba5-9714-bafc294b4c61",
   "metadata": {},
   "source": [
    "-----------"
   ]
  },
  {
   "cell_type": "code",
   "execution_count": 4,
   "id": "cc25f79f-8626-4461-a44e-6d49d96cb80b",
   "metadata": {},
   "outputs": [
    {
     "data": {
      "text/plain": [
       "dict_keys(['2021-10-05', '2021-09-29', '2021-10-16', '2021-10-09', '2021-10-04', '2021-10-01', '2021-09-28', '2021-09-27', '2021-10-06', '2021-10-15', '2021-10-18', '2021-10-03', '2021-09-30', '2021-10-11', '2021-10-08', '2021-10-12', '2021-10-02', '2021-10-14', '2021-10-13', '2021-09-26', '2021-10-10', '2021-10-17', '2021-10-07', '2021-09-25'])"
      ]
     },
     "execution_count": 4,
     "metadata": {},
     "output_type": "execute_result"
    }
   ],
   "source": [
    "sale_dict = db_dict()\n",
    "sale_dict.keys()"
   ]
  },
  {
   "cell_type": "code",
   "execution_count": 5,
   "id": "ebfdeec3-0711-4d21-ad4a-425ab4d8e331",
   "metadata": {},
   "outputs": [
    {
     "data": {
      "text/plain": [
       "['2021-09-25',\n",
       " '2021-09-26',\n",
       " '2021-09-27',\n",
       " '2021-09-28',\n",
       " '2021-09-29',\n",
       " '2021-09-30',\n",
       " '2021-10-01',\n",
       " '2021-10-02',\n",
       " '2021-10-03',\n",
       " '2021-10-04',\n",
       " '2021-10-05',\n",
       " '2021-10-06',\n",
       " '2021-10-07',\n",
       " '2021-10-08',\n",
       " '2021-10-09',\n",
       " '2021-10-10',\n",
       " '2021-10-11',\n",
       " '2021-10-12',\n",
       " '2021-10-13',\n",
       " '2021-10-14',\n",
       " '2021-10-15',\n",
       " '2021-10-16',\n",
       " '2021-10-17',\n",
       " '2021-10-18']"
      ]
     },
     "execution_count": 5,
     "metadata": {},
     "output_type": "execute_result"
    }
   ],
   "source": [
    "sorted(sale_dict.keys())"
   ]
  },
  {
   "cell_type": "code",
   "execution_count": 6,
   "id": "503cdc4a-fbf7-46a6-8115-00681cb31967",
   "metadata": {},
   "outputs": [
    {
     "data": {
      "text/plain": [
       "odict_keys(['2021-09-25', '2021-09-26', '2021-09-27', '2021-09-28', '2021-09-29', '2021-09-30', '2021-10-01', '2021-10-02', '2021-10-03', '2021-10-04', '2021-10-05', '2021-10-06', '2021-10-07', '2021-10-08', '2021-10-09', '2021-10-10', '2021-10-11', '2021-10-12', '2021-10-13', '2021-10-14', '2021-10-15', '2021-10-16', '2021-10-17', '2021-10-18'])"
      ]
     },
     "execution_count": 6,
     "metadata": {},
     "output_type": "execute_result"
    }
   ],
   "source": [
    "import collections\n",
    "\n",
    "sale_dict = collections.OrderedDict(sorted(sale_dict.items())).copy()\n",
    "\n",
    "sale_dict.keys()"
   ]
  },
  {
   "cell_type": "markdown",
   "id": "23de77db-9114-4210-85b7-4e0f24341d90",
   "metadata": {},
   "source": [
    "Ahora haremos una sola tabla que contenga todos los datos que necesitamos. Como cada dia se escrapean todos los datos de la web, hay muchos anuncios que tendremos que eliminar. Queremos una tabla en la que aparezcan todos los anuncios nuevos de cada dia, pero no los renovados sin modificacion en el precio. \n",
    "\n",
    "Para obtener la tabla deseada tendremos que seguir los pasos siguientes:\n",
    "\n",
    "1. Filtrar cada dataset de forma que obtengamos solo los anuncios cuyo `entered_renewed` se corresponda con el dia de escrapeo, `scraping_date`. De esta forma tenemos los anuncios renovados o publicados actualizados de cada dia.\n",
    "2. Eliminar los anuncios renovados, ya que entendemos que no es un nuevo activo disponible para invertir en el. En caso de que el precio del activo cambie al ser renovado si se tendra en cuenta y no sera eliminado. En caso de que el precio del anuncio cambie al ser renovado, se eliminara el anuncio antiguo, ya que deja de reflejar el precio actual."
   ]
  },
  {
   "cell_type": "markdown",
   "id": "80e642db-e358-47b1-87c8-3cdbdae9376d",
   "metadata": {},
   "source": [
    "--------"
   ]
  },
  {
   "cell_type": "markdown",
   "id": "b73727ef-d2ce-4550-9390-fad8b9fd2054",
   "metadata": {},
   "source": [
    "En primer lugar usamos la funcion `to_datetime` del modulo `daftdata` para convertir las columnas `entered_renewed` y `scraping_date` a `datetime64` type."
   ]
  },
  {
   "cell_type": "code",
   "execution_count": 7,
   "id": "33d68ea0-e3df-4a33-8008-63fbe966aef7",
   "metadata": {},
   "outputs": [],
   "source": [
    "to_datetime(sale_dict)"
   ]
  },
  {
   "cell_type": "code",
   "execution_count": 8,
   "id": "7d7ba0e6-aa8e-4b62-8941-88af813af633",
   "metadata": {},
   "outputs": [
    {
     "name": "stdout",
     "output_type": "stream",
     "text": [
      "<class 'pandas.core.frame.DataFrame'>\n",
      "RangeIndex: 16368 entries, 0 to 16367\n",
      "Data columns (total 17 columns):\n",
      " #   Column                        Non-Null Count  Dtype         \n",
      "---  ------                        --------------  -----         \n",
      " 0   daft_id                       16368 non-null  object        \n",
      " 1   item_id                       16368 non-null  object        \n",
      " 2   url                           16368 non-null  object        \n",
      " 3   name                          16368 non-null  object        \n",
      " 4   price                         16368 non-null  object        \n",
      " 5   info                          16368 non-null  object        \n",
      " 6   sale_type                     16368 non-null  object        \n",
      " 7   floor_area                    16368 non-null  object        \n",
      " 8   psr                           16368 non-null  object        \n",
      " 9   ber                           16368 non-null  object        \n",
      " 10  entered_renewed               16368 non-null  datetime64[ns]\n",
      " 11  views                         16368 non-null  object        \n",
      " 12  type_house                    16368 non-null  object        \n",
      " 13  energy_performance_indicator  16368 non-null  object        \n",
      " 14  coordinates                   16368 non-null  object        \n",
      " 15  type                          16368 non-null  object        \n",
      " 16  scraping_date                 16368 non-null  datetime64[ns]\n",
      "dtypes: datetime64[ns](2), object(15)\n",
      "memory usage: 2.1+ MB\n"
     ]
    }
   ],
   "source": [
    "sale_dict['2021-09-25'].info()"
   ]
  },
  {
   "cell_type": "code",
   "execution_count": 9,
   "id": "a497e6c5-4efa-4a5e-9d27-8400c441ff97",
   "metadata": {},
   "outputs": [
    {
     "data": {
      "text/plain": [
       "datetime.date(2021, 9, 25)"
      ]
     },
     "execution_count": 9,
     "metadata": {},
     "output_type": "execute_result"
    }
   ],
   "source": [
    "sale_dict['2021-09-25']['scraping_date'].dt.date.value_counts().index[0] "
   ]
  },
  {
   "cell_type": "code",
   "execution_count": 10,
   "id": "dc165931-bd18-4c99-a9bf-48907451fd54",
   "metadata": {},
   "outputs": [
    {
     "data": {
      "text/plain": [
       "entered_renewed\n",
       "2021-09-25    2281\n",
       "2021-09-24    4566\n",
       "2021-09-23    1255\n",
       "2021-09-22     781\n",
       "2021-09-21     475\n",
       "Name: daft_id, dtype: int64"
      ]
     },
     "execution_count": 10,
     "metadata": {},
     "output_type": "execute_result"
    }
   ],
   "source": [
    "sale_dict['2021-09-25'].groupby('entered_renewed').agg('count')['daft_id'].sort_index(ascending=False).head()"
   ]
  },
  {
   "cell_type": "markdown",
   "id": "3bd81e82-1fe9-41ea-bdf0-7d0efaf151c3",
   "metadata": {},
   "source": [
    "La web es escrapeada a partir de las 00:02 cada noche, y el proceso dura aproximadamente 7 horas. Al escrapear a las 00:02 lo estamos haciendo con fecha de escrapeo superior en un dia a los anuncios. Sin embargo, puede observarse como un gran numero de anuncios ya tienen fecha de `entered_renewed` igual a la de escrapeo. Probablemente durante el tiempo de escrapeo algunos anuncios han sido automaticamente renovados. Debido a esto, cuando filtremos los anuncios lo haremos trabajando con los dos ultimos dias. "
   ]
  },
  {
   "cell_type": "code",
   "execution_count": 11,
   "id": "6144ff0c-f70a-4bbc-829f-64e3352117d7",
   "metadata": {},
   "outputs": [
    {
     "data": {
      "text/plain": [
       "array([datetime.date(2021, 9, 24), datetime.date(2021, 9, 13),\n",
       "       datetime.date(2021, 9, 13), ..., datetime.date(2021, 9, 6),\n",
       "       datetime.date(2021, 9, 16), datetime.date(2021, 9, 22)],\n",
       "      dtype=object)"
      ]
     },
     "execution_count": 11,
     "metadata": {},
     "output_type": "execute_result"
    }
   ],
   "source": [
    "sale_dict['2021-09-25']['entered_renewed'].dt.date.values#[0]"
   ]
  },
  {
   "cell_type": "code",
   "execution_count": 12,
   "id": "858f6833-b3af-4a30-929b-8676e29b47f0",
   "metadata": {},
   "outputs": [
    {
     "data": {
      "text/plain": [
       "datetime.date(2021, 9, 25)"
      ]
     },
     "execution_count": 12,
     "metadata": {},
     "output_type": "execute_result"
    }
   ],
   "source": [
    "sale_dict['2021-09-25']['scraping_date'].dt.date.value_counts().index[0]"
   ]
  },
  {
   "cell_type": "code",
   "execution_count": 13,
   "id": "eeb0c064-ce05-47fd-b821-9ae4be4eabbb",
   "metadata": {},
   "outputs": [
    {
     "data": {
      "text/plain": [
       "datetime.timedelta(days=1)"
      ]
     },
     "execution_count": 13,
     "metadata": {},
     "output_type": "execute_result"
    }
   ],
   "source": [
    "from datetime import timedelta\n",
    "\n",
    "delta = timedelta(days=1)\n",
    "delta"
   ]
  },
  {
   "cell_type": "code",
   "execution_count": 14,
   "id": "6307be6d-1209-4796-9a6d-2d4ae8e182ce",
   "metadata": {},
   "outputs": [
    {
     "data": {
      "text/plain": [
       "datetime.date(2021, 9, 24)"
      ]
     },
     "execution_count": 14,
     "metadata": {},
     "output_type": "execute_result"
    }
   ],
   "source": [
    "sale_dict['2021-09-25']['scraping_date'].dt.date.value_counts().index[0] - delta"
   ]
  },
  {
   "cell_type": "code",
   "execution_count": 15,
   "id": "f84845f6-bb44-4024-a042-028dc785e669",
   "metadata": {},
   "outputs": [
    {
     "data": {
      "text/plain": [
       "2281"
      ]
     },
     "execution_count": 15,
     "metadata": {},
     "output_type": "execute_result"
    }
   ],
   "source": [
    "(sale_dict['2021-09-25']['entered_renewed'].dt.date.values == sale_dict['2021-09-25']['scraping_date'].dt.date.value_counts().index[0]).sum()"
   ]
  },
  {
   "cell_type": "code",
   "execution_count": 16,
   "id": "f3a5b7f5-1abe-485a-8369-de2ecd5e7cdd",
   "metadata": {},
   "outputs": [
    {
     "data": {
      "text/plain": [
       "4566"
      ]
     },
     "execution_count": 16,
     "metadata": {},
     "output_type": "execute_result"
    }
   ],
   "source": [
    "(sale_dict['2021-09-25']['entered_renewed'].dt.date.values == sale_dict['2021-09-25']['scraping_date'].dt.date.value_counts().index[0] - delta).sum()"
   ]
  },
  {
   "cell_type": "code",
   "execution_count": 17,
   "id": "ee55be19-c74c-4e87-9a10-d6435c0dc5af",
   "metadata": {},
   "outputs": [
    {
     "data": {
      "text/plain": [
       "6847"
      ]
     },
     "execution_count": 17,
     "metadata": {},
     "output_type": "execute_result"
    }
   ],
   "source": [
    "((sale_dict['2021-09-25']['entered_renewed'].dt.date.values == sale_dict['2021-09-25']['scraping_date'].dt.date.value_counts().index[0]) +\\\n",
    "(sale_dict['2021-09-25']['entered_renewed'].dt.date.values == sale_dict['2021-09-25']['scraping_date'].dt.date.value_counts().index[0] - delta)).sum()"
   ]
  },
  {
   "cell_type": "markdown",
   "id": "8a3df310-2389-4de3-987b-f1b4650b3396",
   "metadata": {},
   "source": [
    " ############################## Deberia coger todos los anuncios del primer dataset? o al menos mas dias?"
   ]
  },
  {
   "cell_type": "markdown",
   "id": "7ffed314-76c8-488e-a03f-b914300b4238",
   "metadata": {},
   "source": [
    "Utilizamos la funcion `sale_dict_daily` para crear un dictionary que contenga en cada elemento la fecha de escrapeo (key) y los anuncios publicados o renovados ese dia. Luego llamamos a la funcion `concatenate_dropping_renewed` para concatenar todos los elementos del `daily_dict` dictionary."
   ]
  },
  {
   "cell_type": "code",
   "execution_count": 18,
   "id": "38d52429-d55d-46e6-a471-6629f6aa0275",
   "metadata": {},
   "outputs": [],
   "source": [
    "from datetime import timedelta\n",
    "\n",
    "\n",
    "def sale_dict_daily(dictionary):\n",
    "    delta = timedelta(days=1)\n",
    "    sale_dict_daily = {}\n",
    "    for key in dictionary:\n",
    "        \n",
    "        scraping_date = dictionary[key]['scraping_date'].dt.date.value_counts().index[0]\n",
    "        entered_renewed_date = dictionary[key]['entered_renewed'].dt.date.values\n",
    "        before_scraping_date = entered_renewed_date - delta\n",
    "        \n",
    "        sale_dict_daily[key] = dictionary[key][(entered_renewed_date == scraping_date) | \n",
    "                                               (entered_renewed_date == scraping_date - delta)].reset_index(drop=True)\n",
    "    return sale_dict_daily # 2 last days"
   ]
  },
  {
   "cell_type": "code",
   "execution_count": 19,
   "id": "eb9fc58d-4c10-47e8-afd6-d51b7a91fcd1",
   "metadata": {},
   "outputs": [
    {
     "data": {
      "text/plain": [
       "dict_keys(['2021-09-25', '2021-09-26', '2021-09-27', '2021-09-28', '2021-09-29', '2021-09-30', '2021-10-01', '2021-10-02', '2021-10-03', '2021-10-04', '2021-10-05', '2021-10-06', '2021-10-07', '2021-10-08', '2021-10-09', '2021-10-10', '2021-10-11', '2021-10-12', '2021-10-13', '2021-10-14', '2021-10-15', '2021-10-16', '2021-10-17', '2021-10-18'])"
      ]
     },
     "execution_count": 19,
     "metadata": {},
     "output_type": "execute_result"
    }
   ],
   "source": [
    "daily_dict = sale_dict_daily(sale_dict)\n",
    "daily_dict.keys()"
   ]
  },
  {
   "cell_type": "code",
   "execution_count": 20,
   "id": "dc53d0ca-788f-4fcb-ae36-da2a867bde12",
   "metadata": {},
   "outputs": [
    {
     "data": {
      "text/plain": [
       "(6847, 17)"
      ]
     },
     "execution_count": 20,
     "metadata": {},
     "output_type": "execute_result"
    }
   ],
   "source": [
    "daily_dict['2021-09-25'].shape # bien -> cada dataframe son dos dias"
   ]
  },
  {
   "cell_type": "code",
   "execution_count": 21,
   "id": "c2f3b4f0-4213-4377-8bd1-cbd15b78e2c2",
   "metadata": {},
   "outputs": [],
   "source": [
    "def drop_renewed(old_data, new_data):   # necesito acortar el tiempo de ejecucion de esta funcion\n",
    "    print(f'Shape before dropping: {new_data.shape}')\n",
    "    for url in new_data['url']:\n",
    "\n",
    "        condition_1 = old_data['url'].str.contains(url).sum() != 0\n",
    "        condition_2 = (new_data.loc[\n",
    "                           new_data['url'].str.contains(url), ['url', 'price']].values ==\n",
    "                       old_data.loc[old_data['url'].str.contains(url), ['url',\n",
    "                                                                        'price']].values).all()  # axis=1\n",
    "\n",
    "        if condition_1 and condition_2:\n",
    "            index_to_drop = new_data[new_data['url'].str.contains(url)].index[0]\n",
    "            new_data.drop(index=[index_to_drop], inplace=True)\n",
    "    print(f'Shape after dropping: {new_data.shape}')\n",
    "    print('-' * 10)\n",
    "    return new_data"
   ]
  },
  {
   "cell_type": "code",
   "execution_count": 22,
   "id": "a91de414-3328-47f1-9d68-61076e05ea92",
   "metadata": {},
   "outputs": [
    {
     "data": {
      "text/plain": [
       "datetime.date(2021, 9, 25)"
      ]
     },
     "execution_count": 22,
     "metadata": {},
     "output_type": "execute_result"
    }
   ],
   "source": [
    "from datetime import datetime\n",
    "\n",
    "sale_dict['2021-09-25']['scraping_date'].dt.date.value_counts().index[0]"
   ]
  },
  {
   "cell_type": "code",
   "execution_count": 23,
   "id": "8e726087-83d1-486f-a500-dc1bee1c3219",
   "metadata": {},
   "outputs": [
    {
     "data": {
      "text/plain": [
       "datetime.date(2021, 9, 25)"
      ]
     },
     "execution_count": 23,
     "metadata": {},
     "output_type": "execute_result"
    }
   ],
   "source": [
    "datetime.strptime('2021-09-25', '%Y-%m-%d').date()"
   ]
  },
  {
   "cell_type": "code",
   "execution_count": 24,
   "id": "7603e8ef-77c9-4435-a157-5d0c98c36f87",
   "metadata": {},
   "outputs": [
    {
     "data": {
      "text/plain": [
       "True"
      ]
     },
     "execution_count": 24,
     "metadata": {},
     "output_type": "execute_result"
    }
   ],
   "source": [
    "sale_dict['2021-09-25']['scraping_date'].dt.date.value_counts().index[0] == datetime.strptime('2021-09-25', '%Y-%m-%d').date()"
   ]
  },
  {
   "cell_type": "code",
   "execution_count": 25,
   "id": "602ece02-9da6-4cbf-98cf-cf0cb17a0704",
   "metadata": {},
   "outputs": [
    {
     "data": {
      "text/plain": [
       "2281"
      ]
     },
     "execution_count": 25,
     "metadata": {},
     "output_type": "execute_result"
    }
   ],
   "source": [
    "(sale_dict['2021-09-25']['entered_renewed'].dt.date.values == datetime.strptime('2021-09-25', '%Y-%m-%d').date()).sum()"
   ]
  },
  {
   "cell_type": "code",
   "execution_count": 26,
   "id": "c2b443c9-4e8a-4d4d-8018-92c3155c1fe3",
   "metadata": {},
   "outputs": [],
   "source": [
    "#sale_dict['2021-09-25'][sale_dict['2021-09-25']['entered_renewed'].dt.date.values == datetime.strptime('2021-09-25', '%Y-%m-%d').date()]"
   ]
  },
  {
   "cell_type": "code",
   "execution_count": 27,
   "id": "15acf3bc-183b-4295-a957-6f2acd3f229d",
   "metadata": {},
   "outputs": [],
   "source": [
    "from datetime import timedelta\n",
    "\n",
    "delta = timedelta(days=1)\n",
    "\n",
    "def concatenate_dropping_renewed(initial_key, dictionary):\n",
    "\n",
    "    full_data = dictionary[initial_key]\n",
    "    print(f'First full_data: {full_data.shape}\\n')\n",
    "    \n",
    "    # Filter first day\n",
    "    delta = timedelta(days=1)\n",
    "    init_key_date_df = full_data[full_data['entered_renewed'].dt.date.values == datetime.strptime(initial_key, '%Y-%m-%d').date()] # '2021-09-25'\n",
    "    print(f'init_key_date_df.shape: {init_key_date_df.shape}')\n",
    "    one_day_before_df = full_data[full_data['entered_renewed'].dt.date.values == datetime.strptime(initial_key, '%Y-%m-%d').date() - delta] # '2021-09-24'\n",
    "    print(f'one_day_before_df.shape: {one_day_before_df.shape}\\n')   \n",
    "    init_key_date_df = drop_renewed(one_day_before_df, init_key_date_df)\n",
    "    full_data = pd.concat([init_key_date_df, one_day_before_df], axis=0, ignore_index=True)\n",
    "    print('---> No hay anuncios repetidos en el primer dataset aunque coja los 2 ultimos dias a pesar de durar 7 horas.\\n\\n')\n",
    "    \n",
    "    \n",
    "    \n",
    "    print(f'First full_data after initial filtering: {full_data.shape}')  \n",
    "    print(f\"\\nLet's do it! ---------->\")\n",
    "    \n",
    "    print(f'Initial shape: {full_data.shape}')\n",
    "    print('-'*30)\n",
    "    dictionary.pop('2021-09-25')\n",
    "\n",
    "    for i, key in enumerate(dictionary):\n",
    "        #if key == '2021-09-29': ####\n",
    "         #   break\n",
    "        print(f'Key: {key}')\n",
    "        data_to_concat = drop_renewed(full_data, dictionary[key])   # esto tarda demasiado -> lo puedo mejorar?\n",
    "        full_data = pd.concat([data_to_concat, full_data], axis=0, ignore_index=True)\n",
    "        print(f'Shape after concatenation {i}: {full_data.shape}')\n",
    "        print('-'*20)\n",
    "    print(f'Final shape: {full_data.shape}')\n",
    "    return full_data"
   ]
  },
  {
   "cell_type": "code",
   "execution_count": 28,
   "id": "3b22d96e-a992-426e-9127-abbfc214ac4c",
   "metadata": {
    "tags": []
   },
   "outputs": [
    {
     "name": "stdout",
     "output_type": "stream",
     "text": [
      "First full_data: (6847, 17)\n",
      "\n",
      "init_key_date_df.shape: (2281, 17)\n",
      "one_day_before_df.shape: (4566, 17)\n",
      "\n",
      "Shape before dropping: (2281, 17)\n",
      "Shape after dropping: (2281, 17)\n",
      "----------\n",
      "---> No hay anuncios repetidos en el primer dataset aunque coja los 2 ultimos dias a pesar de durar 7 horas.\n",
      "\n",
      "\n",
      "First full_data after initial filtering: (6847, 17)\n",
      "\n",
      "Let's do it! ---------->\n",
      "Initial shape: (6847, 17)\n",
      "------------------------------\n",
      "Key: 2021-09-26\n",
      "Shape before dropping: (4183, 17)\n",
      "Shape after dropping: (160, 17)\n",
      "----------\n",
      "Shape after concatenation 0: (7007, 17)\n",
      "--------------------\n",
      "Key: 2021-09-27\n",
      "Shape before dropping: (3965, 17)\n",
      "Shape after dropping: (111, 17)\n",
      "----------\n",
      "Shape after concatenation 1: (7118, 17)\n",
      "--------------------\n",
      "Key: 2021-09-28\n",
      "Shape before dropping: (7314, 17)\n",
      "Shape after dropping: (1499, 17)\n",
      "----------\n",
      "Shape after concatenation 2: (8617, 17)\n",
      "--------------------\n",
      "Key: 2021-09-29\n",
      "Shape before dropping: (7372, 17)\n",
      "Shape after dropping: (1149, 17)\n",
      "----------\n",
      "Shape after concatenation 3: (9766, 17)\n",
      "--------------------\n",
      "Key: 2021-09-30\n",
      "Shape before dropping: (6777, 17)\n",
      "Shape after dropping: (775, 17)\n",
      "----------\n",
      "Shape after concatenation 4: (10541, 17)\n",
      "--------------------\n",
      "Key: 2021-10-01\n",
      "Shape before dropping: (6769, 17)\n",
      "Shape after dropping: (582, 17)\n",
      "----------\n",
      "Shape after concatenation 5: (11123, 17)\n",
      "--------------------\n",
      "Key: 2021-10-02\n",
      "Shape before dropping: (7067, 17)\n",
      "Shape after dropping: (657, 17)\n",
      "----------\n",
      "Shape after concatenation 6: (11780, 17)\n",
      "--------------------\n",
      "Key: 2021-10-03\n",
      "Shape before dropping: (4022, 17)\n",
      "Shape after dropping: (115, 17)\n",
      "----------\n",
      "Shape after concatenation 7: (11895, 17)\n",
      "--------------------\n",
      "Key: 2021-10-04\n",
      "Shape before dropping: (3612, 17)\n",
      "Shape after dropping: (73, 17)\n",
      "----------\n",
      "Shape after concatenation 8: (11968, 17)\n",
      "--------------------\n",
      "Key: 2021-10-05\n",
      "Shape before dropping: (6979, 17)\n",
      "Shape after dropping: (703, 17)\n",
      "----------\n",
      "Shape after concatenation 9: (12671, 17)\n",
      "--------------------\n",
      "Key: 2021-10-06\n",
      "Shape before dropping: (6705, 17)\n",
      "Shape after dropping: (639, 17)\n",
      "----------\n",
      "Shape after concatenation 10: (13310, 17)\n",
      "--------------------\n",
      "Key: 2021-10-07\n",
      "Shape before dropping: (7029, 17)\n",
      "Shape after dropping: (692, 17)\n",
      "----------\n",
      "Shape after concatenation 11: (14002, 17)\n",
      "--------------------\n",
      "Key: 2021-10-08\n",
      "Shape before dropping: (4546, 17)\n",
      "Shape after dropping: (430, 17)\n",
      "----------\n",
      "Shape after concatenation 12: (14432, 17)\n",
      "--------------------\n",
      "Key: 2021-10-09\n",
      "Shape before dropping: (6526, 17)\n",
      "Shape after dropping: (527, 17)\n",
      "----------\n",
      "Shape after concatenation 13: (14959, 17)\n",
      "--------------------\n",
      "Key: 2021-10-10\n",
      "Shape before dropping: (3957, 17)\n",
      "Shape after dropping: (145, 17)\n",
      "----------\n",
      "Shape after concatenation 14: (15104, 17)\n",
      "--------------------\n",
      "Key: 2021-10-11\n",
      "Shape before dropping: (3901, 17)\n",
      "Shape after dropping: (109, 17)\n",
      "----------\n",
      "Shape after concatenation 15: (15213, 17)\n",
      "--------------------\n",
      "Key: 2021-10-12\n",
      "Shape before dropping: (7132, 17)\n",
      "Shape after dropping: (610, 17)\n",
      "----------\n",
      "Shape after concatenation 16: (15823, 17)\n",
      "--------------------\n",
      "Key: 2021-10-13\n",
      "Shape before dropping: (6565, 17)\n",
      "Shape after dropping: (562, 17)\n",
      "----------\n",
      "Shape after concatenation 17: (16385, 17)\n",
      "--------------------\n",
      "Key: 2021-10-14\n",
      "Shape before dropping: (6911, 17)\n",
      "Shape after dropping: (668, 17)\n",
      "----------\n",
      "Shape after concatenation 18: (17053, 17)\n",
      "--------------------\n",
      "Key: 2021-10-15\n",
      "Shape before dropping: (6777, 17)\n",
      "Shape after dropping: (549, 17)\n",
      "----------\n",
      "Shape after concatenation 19: (17602, 17)\n",
      "--------------------\n",
      "Key: 2021-10-16\n",
      "Shape before dropping: (7034, 17)\n",
      "Shape after dropping: (616, 17)\n",
      "----------\n",
      "Shape after concatenation 20: (18218, 17)\n",
      "--------------------\n",
      "Key: 2021-10-17\n",
      "Shape before dropping: (4062, 17)\n",
      "Shape after dropping: (198, 17)\n",
      "----------\n",
      "Shape after concatenation 21: (18416, 17)\n",
      "--------------------\n",
      "Key: 2021-10-18\n",
      "Shape before dropping: (3731, 17)\n",
      "Shape after dropping: (143, 17)\n",
      "----------\n",
      "Shape after concatenation 22: (18559, 17)\n",
      "--------------------\n",
      "Final shape: (18559, 17)\n"
     ]
    }
   ],
   "source": [
    "sale_data = concatenate_dropping_renewed('2021-09-25', daily_dict)"
   ]
  },
  {
   "cell_type": "code",
   "execution_count": 29,
   "id": "3025dcbf-5dd3-4a3a-907d-970072cf162c",
   "metadata": {},
   "outputs": [
    {
     "data": {
      "text/html": [
       "<div>\n",
       "<style scoped>\n",
       "    .dataframe tbody tr th:only-of-type {\n",
       "        vertical-align: middle;\n",
       "    }\n",
       "\n",
       "    .dataframe tbody tr th {\n",
       "        vertical-align: top;\n",
       "    }\n",
       "\n",
       "    .dataframe thead th {\n",
       "        text-align: right;\n",
       "    }\n",
       "</style>\n",
       "<table border=\"1\" class=\"dataframe\">\n",
       "  <thead>\n",
       "    <tr style=\"text-align: right;\">\n",
       "      <th></th>\n",
       "      <th>daft_id</th>\n",
       "      <th>item_id</th>\n",
       "      <th>url</th>\n",
       "      <th>name</th>\n",
       "      <th>price</th>\n",
       "      <th>info</th>\n",
       "      <th>sale_type</th>\n",
       "      <th>floor_area</th>\n",
       "      <th>psr</th>\n",
       "      <th>ber</th>\n",
       "      <th>entered_renewed</th>\n",
       "      <th>views</th>\n",
       "      <th>type_house</th>\n",
       "      <th>energy_performance_indicator</th>\n",
       "      <th>coordinates</th>\n",
       "      <th>type</th>\n",
       "      <th>scraping_date</th>\n",
       "    </tr>\n",
       "  </thead>\n",
       "  <tbody>\n",
       "    <tr>\n",
       "      <th>5127</th>\n",
       "      <td>15065671</td>\n",
       "      <td>3260981</td>\n",
       "      <td>https://www.daft.ie/for-sale/detached-house-do...</td>\n",
       "      <td>Donohill Cross, Donohill, Co. Tipperary</td>\n",
       "      <td>€90,000</td>\n",
       "      <td>1 Bed,1 Bath,100 m²,Detached</td>\n",
       "      <td>For Sale by Private Treaty</td>\n",
       "      <td>100 m²</td>\n",
       "      <td>none</td>\n",
       "      <td>SI_666</td>\n",
       "      <td>2021-10-06</td>\n",
       "      <td>7,753</td>\n",
       "      <td>house</td>\n",
       "      <td>none</td>\n",
       "      <td>52.538664+-8.144277</td>\n",
       "      <td>buy</td>\n",
       "      <td>2021-10-07</td>\n",
       "    </tr>\n",
       "  </tbody>\n",
       "</table>\n",
       "</div>"
      ],
      "text/plain": [
       "       daft_id  item_id                                                url  \\\n",
       "5127  15065671  3260981  https://www.daft.ie/for-sale/detached-house-do...   \n",
       "\n",
       "                                         name    price  \\\n",
       "5127  Donohill Cross, Donohill, Co. Tipperary  €90,000   \n",
       "\n",
       "                              info                   sale_type floor_area  \\\n",
       "5127  1 Bed,1 Bath,100 m²,Detached  For Sale by Private Treaty     100 m²   \n",
       "\n",
       "       psr     ber entered_renewed  views type_house  \\\n",
       "5127  none  SI_666      2021-10-06  7,753      house   \n",
       "\n",
       "     energy_performance_indicator          coordinates type scraping_date  \n",
       "5127                         none  52.538664+-8.144277  buy    2021-10-07  "
      ]
     },
     "execution_count": 29,
     "metadata": {},
     "output_type": "execute_result"
    }
   ],
   "source": [
    "sale_data.sample()"
   ]
  },
  {
   "cell_type": "code",
   "execution_count": 30,
   "id": "f268dba6-675b-4ef4-8e1a-54d0febb928e",
   "metadata": {},
   "outputs": [],
   "source": [
    "sale_data.to_csv('data_available/sale_data.csv', sep=',', index=False)"
   ]
  },
  {
   "cell_type": "code",
   "execution_count": 31,
   "id": "342a44a0-99aa-4ef8-aaa3-1f6be69e3122",
   "metadata": {},
   "outputs": [],
   "source": [
    "#pd.read_csv('data_available/sale_data.csv', sep=',').shape"
   ]
  },
  {
   "cell_type": "code",
   "execution_count": null,
   "id": "f22710de-42da-450a-b1b0-6f13bce70fa3",
   "metadata": {},
   "outputs": [],
   "source": []
  },
  {
   "cell_type": "code",
   "execution_count": null,
   "id": "78e89fbb-12cb-4ca8-8ebe-4353bec4b649",
   "metadata": {},
   "outputs": [],
   "source": []
  },
  {
   "cell_type": "code",
   "execution_count": null,
   "id": "0fb9a080-b74d-45b2-92ff-7abecac2e7cb",
   "metadata": {},
   "outputs": [],
   "source": []
  }
 ],
 "metadata": {
  "kernelspec": {
   "display_name": "Python 3 (ipykernel)",
   "language": "python",
   "name": "python3"
  },
  "language_info": {
   "codemirror_mode": {
    "name": "ipython",
    "version": 3
   },
   "file_extension": ".py",
   "mimetype": "text/x-python",
   "name": "python",
   "nbconvert_exporter": "python",
   "pygments_lexer": "ipython3",
   "version": "3.7.11"
  }
 },
 "nbformat": 4,
 "nbformat_minor": 5
}
