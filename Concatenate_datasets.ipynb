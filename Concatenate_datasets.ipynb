{
 "cells": [
  {
   "cell_type": "code",
   "execution_count": 1,
   "id": "69c22253-cc82-44cc-9172-1cfe11116499",
   "metadata": {
    "tags": []
   },
   "outputs": [],
   "source": [
    "import sqlite3\n",
    "\n",
    "import numpy as np\n",
    "import pandas as pd\n",
    "import matplotlib.pyplot as plt\n",
    "\n",
    "from daftpy.daftdata import get_db, db_dict, to_datetime, sale_dict_daily"
   ]
  },
  {
   "cell_type": "code",
   "execution_count": 2,
   "id": "75e846cc-efc2-4df0-95ca-12b1c08aa92e",
   "metadata": {},
   "outputs": [],
   "source": [
    "pd.set_option('display.max_rows', None)\n",
    "pd.set_option('display.max_columns', None)\n",
    "plt.style.use('seaborn')"
   ]
  },
  {
   "cell_type": "code",
   "execution_count": 3,
   "id": "d73d2676-e9fb-4227-9fdd-e7e5fb574e63",
   "metadata": {},
   "outputs": [
    {
     "name": "stdout",
     "output_type": "stream",
     "text": [
      "2021-09-25.db  2021-09-30.db  2021-10-05.db  2021-10-10.db  2021-10-15.db\n",
      "2021-09-26.db  2021-10-01.db  2021-10-06.db  2021-10-11.db  2021-10-16.db\n",
      "2021-09-27.db  2021-10-02.db  2021-10-07.db  2021-10-12.db  2021-10-17.db\n",
      "2021-09-28.db  2021-10-03.db  2021-10-08.db  2021-10-13.db  backup\n",
      "2021-09-29.db  2021-10-04.db  2021-10-09.db  2021-10-14.db\n"
     ]
    }
   ],
   "source": [
    "!ls data"
   ]
  },
  {
   "cell_type": "markdown",
   "id": "b5bb1b82-6969-479e-8a10-4d1c07b4fdbc",
   "metadata": {},
   "source": [
    "------------------"
   ]
  },
  {
   "cell_type": "markdown",
   "id": "4a425a89-fa9e-4ba5-9714-bafc294b4c61",
   "metadata": {},
   "source": [
    "-----------"
   ]
  },
  {
   "cell_type": "code",
   "execution_count": 4,
   "id": "cc25f79f-8626-4461-a44e-6d49d96cb80b",
   "metadata": {},
   "outputs": [
    {
     "data": {
      "text/plain": [
       "dict_keys(['2021-10-05', '2021-09-29', '2021-10-16', '2021-10-09', '2021-10-04', '2021-10-01', '2021-09-28', '2021-09-27', '2021-10-06', '2021-10-15', '2021-10-03', '2021-09-30', '2021-10-11', '2021-10-08', '2021-10-12', '2021-10-02', '2021-10-14', '2021-10-13', '2021-09-26', '2021-10-10', '2021-10-17', '2021-10-07', '2021-09-25'])"
      ]
     },
     "execution_count": 4,
     "metadata": {},
     "output_type": "execute_result"
    }
   ],
   "source": [
    "sale_dict = db_dict()\n",
    "sale_dict.keys()"
   ]
  },
  {
   "cell_type": "code",
   "execution_count": 5,
   "id": "ebfdeec3-0711-4d21-ad4a-425ab4d8e331",
   "metadata": {},
   "outputs": [
    {
     "data": {
      "text/plain": [
       "['2021-09-25',\n",
       " '2021-09-26',\n",
       " '2021-09-27',\n",
       " '2021-09-28',\n",
       " '2021-09-29',\n",
       " '2021-09-30',\n",
       " '2021-10-01',\n",
       " '2021-10-02',\n",
       " '2021-10-03',\n",
       " '2021-10-04',\n",
       " '2021-10-05',\n",
       " '2021-10-06',\n",
       " '2021-10-07',\n",
       " '2021-10-08',\n",
       " '2021-10-09',\n",
       " '2021-10-10',\n",
       " '2021-10-11',\n",
       " '2021-10-12',\n",
       " '2021-10-13',\n",
       " '2021-10-14',\n",
       " '2021-10-15',\n",
       " '2021-10-16',\n",
       " '2021-10-17']"
      ]
     },
     "execution_count": 5,
     "metadata": {},
     "output_type": "execute_result"
    }
   ],
   "source": [
    "sorted(sale_dict.keys())"
   ]
  },
  {
   "cell_type": "code",
   "execution_count": 6,
   "id": "503cdc4a-fbf7-46a6-8115-00681cb31967",
   "metadata": {},
   "outputs": [
    {
     "data": {
      "text/plain": [
       "odict_keys(['2021-09-25', '2021-09-26', '2021-09-27', '2021-09-28', '2021-09-29', '2021-09-30', '2021-10-01', '2021-10-02', '2021-10-03', '2021-10-04', '2021-10-05', '2021-10-06', '2021-10-07', '2021-10-08', '2021-10-09', '2021-10-10', '2021-10-11', '2021-10-12', '2021-10-13', '2021-10-14', '2021-10-15', '2021-10-16', '2021-10-17'])"
      ]
     },
     "execution_count": 6,
     "metadata": {},
     "output_type": "execute_result"
    }
   ],
   "source": [
    "import collections\n",
    "\n",
    "sale_dict = collections.OrderedDict(sorted(sale_dict.items())).copy()\n",
    "\n",
    "sale_dict.keys()"
   ]
  },
  {
   "cell_type": "markdown",
   "id": "23de77db-9114-4210-85b7-4e0f24341d90",
   "metadata": {},
   "source": [
    "Ahora haremos una sola tabla que contenga todos los datos que necesitamos. Como cada dia se escrapean todos los datos de la web, hay muchos anuncios que tendremos que eliminar. Queremos una tabla en la que aparezcan todos los anuncios nuevos de cada dia, pero no los renovados sin modificacion en el precio. \n",
    "\n",
    "Para obtener la tabla deseada tendremos que seguir los pasos siguientes:\n",
    "\n",
    "1. Filtrar cada dataset de forma que obtengamos solo los anuncios cuyo `entered_renewed` se corresponda con el dia de escrapeo, `scraping_date`. De esta forma tenemos los anuncios renovados o publicados actualizados de cada dia.\n",
    "2. Eliminar los anuncios renovados, ya que entendemos que no es un nuevo activo disponible para invertir en el. En caso de que el precio del activo cambie al ser renovado si se tendra en cuenta y no sera eliminado. En caso de que el precio del anuncio cambie al ser renovado, se eliminara el anuncio antiguo, ya que deja de reflejar el precio actual."
   ]
  },
  {
   "cell_type": "markdown",
   "id": "80e642db-e358-47b1-87c8-3cdbdae9376d",
   "metadata": {},
   "source": [
    "--------"
   ]
  },
  {
   "cell_type": "markdown",
   "id": "b73727ef-d2ce-4550-9390-fad8b9fd2054",
   "metadata": {},
   "source": [
    "En primer lugar usamos la funcion `to_datetime` del modulo `daftdata` para convertir las columnas `entered_renewed` y `scraping_date` a `datetime64` type."
   ]
  },
  {
   "cell_type": "code",
   "execution_count": 7,
   "id": "33d68ea0-e3df-4a33-8008-63fbe966aef7",
   "metadata": {},
   "outputs": [],
   "source": [
    "to_datetime(sale_dict)"
   ]
  },
  {
   "cell_type": "code",
   "execution_count": 8,
   "id": "7d7ba0e6-aa8e-4b62-8941-88af813af633",
   "metadata": {},
   "outputs": [
    {
     "name": "stdout",
     "output_type": "stream",
     "text": [
      "<class 'pandas.core.frame.DataFrame'>\n",
      "RangeIndex: 16368 entries, 0 to 16367\n",
      "Data columns (total 17 columns):\n",
      " #   Column                        Non-Null Count  Dtype         \n",
      "---  ------                        --------------  -----         \n",
      " 0   daft_id                       16368 non-null  object        \n",
      " 1   item_id                       16368 non-null  object        \n",
      " 2   url                           16368 non-null  object        \n",
      " 3   name                          16368 non-null  object        \n",
      " 4   price                         16368 non-null  object        \n",
      " 5   info                          16368 non-null  object        \n",
      " 6   sale_type                     16368 non-null  object        \n",
      " 7   floor_area                    16368 non-null  object        \n",
      " 8   psr                           16368 non-null  object        \n",
      " 9   ber                           16368 non-null  object        \n",
      " 10  entered_renewed               16368 non-null  datetime64[ns]\n",
      " 11  views                         16368 non-null  object        \n",
      " 12  type_house                    16368 non-null  object        \n",
      " 13  energy_performance_indicator  16368 non-null  object        \n",
      " 14  coordinates                   16368 non-null  object        \n",
      " 15  type                          16368 non-null  object        \n",
      " 16  scraping_date                 16368 non-null  datetime64[ns]\n",
      "dtypes: datetime64[ns](2), object(15)\n",
      "memory usage: 2.1+ MB\n"
     ]
    }
   ],
   "source": [
    "sale_dict['2021-09-25'].info()"
   ]
  },
  {
   "cell_type": "code",
   "execution_count": 9,
   "id": "4da1ce30-699d-4e27-acf5-92833a5605eb",
   "metadata": {},
   "outputs": [
    {
     "data": {
      "text/plain": [
       "2368"
      ]
     },
     "execution_count": 9,
     "metadata": {},
     "output_type": "execute_result"
    }
   ],
   "source": [
    "(sale_dict['2021-09-25']['entered_renewed'].dt.day == sale_dict['2021-09-25']['scraping_date'].dt.day.value_counts().index[0]).sum()"
   ]
  },
  {
   "cell_type": "markdown",
   "id": "8a3df310-2389-4de3-987b-f1b4650b3396",
   "metadata": {},
   "source": [
    " ############################## Deberia coger todos los anuncios del primer dataset? o al menos mas dias?"
   ]
  },
  {
   "cell_type": "markdown",
   "id": "7ffed314-76c8-488e-a03f-b914300b4238",
   "metadata": {},
   "source": [
    "Utilizamos la funcion `sale_dict_daily` para crear un dictionary que contenga en cada elemento la fecha de escrapeo (key) y los anuncios publicados o renovados ese dia."
   ]
  },
  {
   "cell_type": "code",
   "execution_count": 10,
   "id": "eb9fc58d-4c10-47e8-afd6-d51b7a91fcd1",
   "metadata": {},
   "outputs": [],
   "source": [
    "daily_dict = sale_dict_daily(sale_dict)"
   ]
  },
  {
   "cell_type": "code",
   "execution_count": 11,
   "id": "c2cd7081-5e0a-48a8-aee9-1ffe217d7787",
   "metadata": {},
   "outputs": [
    {
     "name": "stdout",
     "output_type": "stream",
     "text": [
      "(2368, 17)\n",
      "(2339, 17)\n"
     ]
    }
   ],
   "source": [
    "twenty_five = daily_dict['2021-09-25']\n",
    "print(twenty_five.shape)\n",
    "twenty_six = daily_dict['2021-09-26']\n",
    "print(twenty_six.shape)"
   ]
  },
  {
   "cell_type": "code",
   "execution_count": 12,
   "id": "12766ddf-ed84-445c-9eba-bb2b36108977",
   "metadata": {},
   "outputs": [
    {
     "data": {
      "text/plain": [
       "array(['https://www.daft.ie/for-sale/semi-detached-house-34-an-sruth-n-turlough-road-castlebar-co-mayo/3511046'],\n",
       "      dtype=object)"
      ]
     },
     "execution_count": 12,
     "metadata": {},
     "output_type": "execute_result"
    }
   ],
   "source": [
    "twenty_five['url'].sample().values"
   ]
  },
  {
   "cell_type": "code",
   "execution_count": 13,
   "id": "98b847b1-182b-45a8-b395-3e6d0eed2881",
   "metadata": {},
   "outputs": [
    {
     "name": "stdout",
     "output_type": "stream",
     "text": [
      "2195\n"
     ]
    }
   ],
   "source": [
    "count = 0\n",
    "for url in twenty_five['url']:\n",
    "    if twenty_six['url'].str.contains(url).sum() != 0:\n",
    "        count += 1\n",
    "print(count)"
   ]
  },
  {
   "cell_type": "code",
   "execution_count": 14,
   "id": "662832cf-f666-427c-8c8d-ac8d21cae841",
   "metadata": {},
   "outputs": [
    {
     "data": {
      "text/html": [
       "<div>\n",
       "<style scoped>\n",
       "    .dataframe tbody tr th:only-of-type {\n",
       "        vertical-align: middle;\n",
       "    }\n",
       "\n",
       "    .dataframe tbody tr th {\n",
       "        vertical-align: top;\n",
       "    }\n",
       "\n",
       "    .dataframe thead th {\n",
       "        text-align: right;\n",
       "    }\n",
       "</style>\n",
       "<table border=\"1\" class=\"dataframe\">\n",
       "  <thead>\n",
       "    <tr style=\"text-align: right;\">\n",
       "      <th></th>\n",
       "      <th>daft_id</th>\n",
       "      <th>item_id</th>\n",
       "      <th>url</th>\n",
       "      <th>name</th>\n",
       "      <th>price</th>\n",
       "      <th>info</th>\n",
       "      <th>sale_type</th>\n",
       "      <th>floor_area</th>\n",
       "      <th>psr</th>\n",
       "      <th>ber</th>\n",
       "      <th>entered_renewed</th>\n",
       "      <th>views</th>\n",
       "      <th>type_house</th>\n",
       "      <th>energy_performance_indicator</th>\n",
       "      <th>coordinates</th>\n",
       "      <th>type</th>\n",
       "      <th>scraping_date</th>\n",
       "    </tr>\n",
       "  </thead>\n",
       "  <tbody>\n",
       "    <tr>\n",
       "      <th>1111</th>\n",
       "      <td>15734751</td>\n",
       "      <td>3472240</td>\n",
       "      <td>https://www.daft.ie/for-sale/semi-detached-hou...</td>\n",
       "      <td>43 Rowan Drive, Castlebar, Co. Mayo</td>\n",
       "      <td>€120,000</td>\n",
       "      <td>3 Bed,1 Bath,81 m²,Semi-D</td>\n",
       "      <td>For Sale by Private Treaty</td>\n",
       "      <td>81 m²</td>\n",
       "      <td>none</td>\n",
       "      <td>E1</td>\n",
       "      <td>2021-09-26</td>\n",
       "      <td>3,906</td>\n",
       "      <td>house</td>\n",
       "      <td>306.56 kWh/m2/yr</td>\n",
       "      <td>53.861236+-9.291636</td>\n",
       "      <td>buy</td>\n",
       "      <td>2021-09-26</td>\n",
       "    </tr>\n",
       "  </tbody>\n",
       "</table>\n",
       "</div>"
      ],
      "text/plain": [
       "       daft_id  item_id                                                url  \\\n",
       "1111  15734751  3472240  https://www.daft.ie/for-sale/semi-detached-hou...   \n",
       "\n",
       "                                     name     price  \\\n",
       "1111  43 Rowan Drive, Castlebar, Co. Mayo  €120,000   \n",
       "\n",
       "                           info                   sale_type floor_area   psr  \\\n",
       "1111  3 Bed,1 Bath,81 m²,Semi-D  For Sale by Private Treaty      81 m²  none   \n",
       "\n",
       "     ber entered_renewed  views type_house energy_performance_indicator  \\\n",
       "1111  E1      2021-09-26  3,906      house             306.56 kWh/m2/yr   \n",
       "\n",
       "              coordinates type scraping_date  \n",
       "1111  53.861236+-9.291636  buy    2021-09-26  "
      ]
     },
     "execution_count": 14,
     "metadata": {},
     "output_type": "execute_result"
    }
   ],
   "source": [
    "url = 'https://www.daft.ie/for-sale/semi-detached-house-43-rowan-drive-castlebar-co-mayo/3472240'\n",
    "twenty_six[twenty_six['url'].str.contains(url)]#.sum()"
   ]
  },
  {
   "cell_type": "code",
   "execution_count": 15,
   "id": "5919af6b-b58a-4be7-9773-f4e3b8a33bef",
   "metadata": {
    "tags": []
   },
   "outputs": [
    {
     "data": {
      "text/plain": [
       "False"
      ]
     },
     "execution_count": 15,
     "metadata": {},
     "output_type": "execute_result"
    }
   ],
   "source": [
    "(twenty_six[twenty_six['url'].str.contains(url)].values == twenty_five[twenty_five['url'].str.contains(url)].values).all(axis=1)[0]"
   ]
  },
  {
   "cell_type": "code",
   "execution_count": 16,
   "id": "402db82d-1361-4bd9-88c9-0bb84a39dc1d",
   "metadata": {},
   "outputs": [
    {
     "data": {
      "text/plain": [
       "array([['15734751', '3472240',\n",
       "        'https://www.daft.ie/for-sale/semi-detached-house-43-rowan-drive-castlebar-co-mayo/3472240',\n",
       "        '43 Rowan Drive, Castlebar, Co. Mayo', '€120,000',\n",
       "        '3 Bed,1 Bath,81 m²,Semi-D', 'For Sale by Private Treaty',\n",
       "        '81 m²', 'none', 'E1', Timestamp('2021-09-26 00:00:00'), '3,906',\n",
       "        'house', '306.56 kWh/m2/yr', '53.861236+-9.291636', 'buy',\n",
       "        Timestamp('2021-09-26 00:00:00')]], dtype=object)"
      ]
     },
     "execution_count": 16,
     "metadata": {},
     "output_type": "execute_result"
    }
   ],
   "source": [
    "twenty_six[twenty_six['url'].str.contains(url)].values"
   ]
  },
  {
   "cell_type": "code",
   "execution_count": 17,
   "id": "ae6f57be-3f71-4fd3-b93d-4fc2fbe29d4b",
   "metadata": {},
   "outputs": [
    {
     "data": {
      "text/plain": [
       "array([['15734751', '3472240',\n",
       "        'https://www.daft.ie/for-sale/semi-detached-house-43-rowan-drive-castlebar-co-mayo/3472240',\n",
       "        '43 Rowan Drive, Castlebar, Co. Mayo', '€120,000',\n",
       "        '3 Bed,1 Bath,81 m²,Semi-D', 'For Sale by Private Treaty',\n",
       "        '81 m²', '004215', 'E1', Timestamp('2021-09-25 00:00:00'),\n",
       "        '3,872', 'house', '306.56 kWh/m2/yr', '53.861236+-9.291636',\n",
       "        'buy', Timestamp('2021-09-25 00:00:00')]], dtype=object)"
      ]
     },
     "execution_count": 17,
     "metadata": {},
     "output_type": "execute_result"
    }
   ],
   "source": [
    "twenty_five[twenty_five['url'].str.contains(url)].values"
   ]
  },
  {
   "cell_type": "code",
   "execution_count": 18,
   "id": "7b7453e4-f9c1-41bd-89b8-648f2a9014d3",
   "metadata": {},
   "outputs": [
    {
     "data": {
      "text/plain": [
       "array([[ True,  True,  True,  True,  True,  True,  True,  True, False,\n",
       "         True, False, False,  True,  True,  True,  True, False]])"
      ]
     },
     "execution_count": 18,
     "metadata": {},
     "output_type": "execute_result"
    }
   ],
   "source": [
    "twenty_six[twenty_six['url'].str.contains(url)].values == twenty_five[twenty_five['url'].str.contains(url)].values"
   ]
  },
  {
   "cell_type": "code",
   "execution_count": 19,
   "id": "e83290ca-94ae-4a73-bef4-6cbad338e338",
   "metadata": {},
   "outputs": [
    {
     "data": {
      "text/plain": [
       "array(['004215', Timestamp('2021-09-25 00:00:00'), '3,872',\n",
       "       Timestamp('2021-09-25 00:00:00')], dtype=object)"
      ]
     },
     "execution_count": 19,
     "metadata": {},
     "output_type": "execute_result"
    }
   ],
   "source": [
    "twenty_five[twenty_five['url'].str.contains(url)].values[0][[8, 10, 11, 16]]"
   ]
  },
  {
   "cell_type": "code",
   "execution_count": 20,
   "id": "f0558dbc-3e69-4f7b-a428-708ada4a9665",
   "metadata": {},
   "outputs": [
    {
     "data": {
      "text/plain": [
       "array(['none', Timestamp('2021-09-26 00:00:00'), '3,906',\n",
       "       Timestamp('2021-09-26 00:00:00')], dtype=object)"
      ]
     },
     "execution_count": 20,
     "metadata": {},
     "output_type": "execute_result"
    }
   ],
   "source": [
    "twenty_six[twenty_six['url'].str.contains(url)].values[0][[8, 10, 11, 16]]"
   ]
  },
  {
   "cell_type": "code",
   "execution_count": 21,
   "id": "8c8a5f85-4214-432b-8f46-22e3f0ff6fad",
   "metadata": {},
   "outputs": [
    {
     "data": {
      "text/plain": [
       "array([['https://www.daft.ie/for-sale/semi-detached-house-43-rowan-drive-castlebar-co-mayo/3472240',\n",
       "        '€120,000']], dtype=object)"
      ]
     },
     "execution_count": 21,
     "metadata": {},
     "output_type": "execute_result"
    }
   ],
   "source": [
    "twenty_six.loc[twenty_six['url'].str.contains(url), ['url', 'price']].values"
   ]
  },
  {
   "cell_type": "raw",
   "id": "7ff38231-f52e-4a0e-a6e0-5469a2863d0d",
   "metadata": {
    "jupyter": {
     "outputs_hidden": true
    },
    "tags": []
   },
   "source": [
    "count = 0\n",
    "for url in twenty_five['url']:\n",
    "    if (twenty_six[twenty_six['url'].str.contains(url)] == twenty_six[twenty_six['url'].str.contains(url)]).all(axis=1):\n",
    "        count += 1\n",
    "print(count)"
   ]
  },
  {
   "cell_type": "raw",
   "id": "6c9bdb4f-6464-4f92-922b-2929a20ea0a3",
   "metadata": {},
   "source": [
    "count = 0\n",
    "for url in twenty_five['url']:\n",
    "    twenty_six[twenty_six['url'].str.contains(url)].index[0]\n",
    "        count += 1\n",
    "print(count)"
   ]
  },
  {
   "cell_type": "raw",
   "id": "427b21e0-765d-446b-b0ab-6667f09529fc",
   "metadata": {},
   "source": [
    "indice_1 = twenty_six[twenty_six['url'].str.contains('https://www.daft.ie/new-home-for-sale/ros-m-r-ballyneety-road-co-limerick/1117716')].index\n",
    "indice_2 = twenty_six[twenty_six['url'].str.contains('https://www.daft.ie/for-sale/site-residential-site-subject-to-planning-permission-tiermaclane-ennis-co-clare/3503041')].index[0]\n",
    "print(indice_1)\n",
    "print(indice_2)"
   ]
  },
  {
   "cell_type": "raw",
   "id": "9eb48492-e6ba-4fe2-8bdd-0c586dec4949",
   "metadata": {
    "tags": []
   },
   "source": [
    "print(twenty_six.shape)   # (2339, 17)\n",
    "for url in twenty_six['url']:\n",
    "    \n",
    "    condition_1 = twenty_five['url'].str.contains(url).sum() != 0\n",
    "    condition_2 = (twenty_six.loc[twenty_six['url'].str.contains(url), ['url', 'price']].values == \n",
    "                   twenty_five.loc[twenty_five['url'].str.contains(url), ['url', 'price']].values).all(axis=1)\n",
    "    \n",
    "    if condition_1 and condition_2:\n",
    "        index_to_drop = twenty_six[twenty_six['url'].str.contains(url)].index[0]\n",
    "        twenty_six.drop(index=[index_to_drop], inplace=True)\n",
    "print(twenty_six.shape)   # (144, 17)"
   ]
  },
  {
   "cell_type": "raw",
   "id": "bb73f9ab-cffb-4563-87cd-10be8e50d56c",
   "metadata": {},
   "source": [
    "def drop_renewed(old_data, new_data):\n",
    "    print(new_data.shape)\n",
    "    for url in new_data['url']:\n",
    "    \n",
    "        condition_1 = old_data['url'].str.contains(url).sum() != 0\n",
    "        condition_2 = (new_data.loc[new_data['url'].str.contains(url), ['url', 'price']].values == \n",
    "                       old_data.loc[old_data['url'].str.contains(url), ['url', 'price']].values).all(axis=1)\n",
    "    \n",
    "        if condition_1 and condition_2:\n",
    "            index_to_drop = new_data[new_data['url'].str.contains(url)].index[0]\n",
    "            new_data.drop(index=[index_to_drop], inplace=True)\n",
    "    print(new_data.shape)"
   ]
  },
  {
   "cell_type": "code",
   "execution_count": 22,
   "id": "ab95c96f-3ab7-4228-bb59-1b3079023d8b",
   "metadata": {},
   "outputs": [],
   "source": [
    "def drop_renewed(old_data, new_data):\n",
    "    print(f'Shape before dropping: {new_data.shape}')\n",
    "    for url in new_data['url']:\n",
    "    \n",
    "        condition_1 = old_data['url'].str.contains(url).sum() != 0\n",
    "        condition_2 = (new_data.loc[new_data['url'].str.contains(url), ['url', 'price']].values == \n",
    "                       old_data.loc[old_data['url'].str.contains(url), ['url', 'price']].values).all() # axis=1\n",
    "    \n",
    "        if condition_1 and condition_2:\n",
    "            index_to_drop = new_data[new_data['url'].str.contains(url)].index[0]\n",
    "            new_data.drop(index=[index_to_drop], inplace=True)\n",
    "    print(f'Shape after dropping: {new_data.shape}')\n",
    "    print('-'*10)\n",
    "    return new_data"
   ]
  },
  {
   "cell_type": "raw",
   "id": "a40849d1-f102-47a1-8428-ae907592aab2",
   "metadata": {
    "jupyter": {
     "outputs_hidden": true
    },
    "tags": []
   },
   "source": [
    "drop_renewed(twenty_five, twenty_six)"
   ]
  },
  {
   "cell_type": "code",
   "execution_count": 23,
   "id": "2388c5e0-fbbc-45ec-8201-f40b9f345451",
   "metadata": {},
   "outputs": [
    {
     "data": {
      "text/plain": [
       "odict_keys(['2021-09-25', '2021-09-26', '2021-09-27', '2021-09-28', '2021-09-29', '2021-09-30', '2021-10-01', '2021-10-02', '2021-10-03', '2021-10-04', '2021-10-05', '2021-10-06', '2021-10-07', '2021-10-08', '2021-10-09', '2021-10-10', '2021-10-11', '2021-10-12', '2021-10-13', '2021-10-14', '2021-10-15', '2021-10-16', '2021-10-17'])"
      ]
     },
     "execution_count": 23,
     "metadata": {},
     "output_type": "execute_result"
    }
   ],
   "source": [
    "sale_dict.keys()"
   ]
  },
  {
   "cell_type": "code",
   "execution_count": 24,
   "id": "720a4bb5-eb43-452d-8c71-797139e29d3b",
   "metadata": {
    "tags": []
   },
   "outputs": [
    {
     "name": "stdout",
     "output_type": "stream",
     "text": [
      "Initial shape: (2368, 17)\n",
      "------------------------------\n",
      "Key: 2021-09-26\n",
      "Shape before dropping: (2339, 17)\n",
      "Shape after dropping: (144, 17)\n",
      "----------\n",
      "Shape after concatenation 1: (2512, 17)\n",
      "--------------------\n",
      "Key: 2021-09-27\n",
      "Shape before dropping: (2351, 17)\n",
      "Shape after dropping: (169, 17)\n",
      "----------\n",
      "Shape after concatenation 1: (2681, 17)\n",
      "--------------------\n",
      "Key: 2021-09-28\n",
      "Shape before dropping: (2275, 17)\n",
      "Shape after dropping: (106, 17)\n",
      "----------\n",
      "Shape after concatenation 1: (2787, 17)\n",
      "--------------------\n",
      "Key: 2021-09-29\n",
      "Shape before dropping: (2283, 17)\n",
      "Shape after dropping: (112, 17)\n",
      "----------\n",
      "Shape after concatenation 1: (2899, 17)\n",
      "--------------------\n",
      "Key: 2021-09-30\n",
      "Shape before dropping: (2065, 17)\n",
      "Shape after dropping: (183, 17)\n",
      "----------\n",
      "Shape after concatenation 1: (3082, 17)\n",
      "--------------------\n",
      "Key: 2021-10-01\n",
      "Shape before dropping: (2133, 17)\n",
      "Shape after dropping: (267, 17)\n",
      "----------\n",
      "Shape after concatenation 1: (3349, 17)\n",
      "--------------------\n",
      "Key: 2021-10-02\n",
      "Shape before dropping: (2025, 17)\n",
      "Shape after dropping: (208, 17)\n",
      "----------\n",
      "Shape after concatenation 1: (3557, 17)\n",
      "--------------------\n",
      "Key: 2021-10-03\n",
      "Shape before dropping: (2140, 17)\n",
      "Shape after dropping: (256, 17)\n",
      "----------\n",
      "Shape after concatenation 1: (3813, 17)\n",
      "--------------------\n",
      "Key: 2021-10-04\n",
      "Shape before dropping: (2003, 17)\n",
      "Shape after dropping: (98, 17)\n",
      "----------\n",
      "Shape after concatenation 1: (3911, 17)\n",
      "--------------------\n",
      "Key: 2021-10-05\n",
      "Shape before dropping: (2018, 17)\n",
      "Shape after dropping: (134, 17)\n",
      "----------\n",
      "Shape after concatenation 1: (4045, 17)\n",
      "--------------------\n",
      "Key: 2021-10-06\n",
      "Shape before dropping: (2053, 17)\n",
      "Shape after dropping: (195, 17)\n",
      "----------\n",
      "Shape after concatenation 1: (4240, 17)\n",
      "--------------------\n",
      "Key: 2021-10-07\n",
      "Shape before dropping: (2020, 17)\n",
      "Shape after dropping: (178, 17)\n",
      "----------\n",
      "Shape after concatenation 1: (4418, 17)\n",
      "--------------------\n",
      "Key: 2021-10-08\n",
      "Shape before dropping: (1109, 17)\n",
      "Shape after dropping: (132, 17)\n",
      "----------\n",
      "Shape after concatenation 1: (4550, 17)\n",
      "--------------------\n",
      "Key: 2021-10-09\n",
      "Shape before dropping: (2072, 17)\n",
      "Shape after dropping: (247, 17)\n",
      "----------\n",
      "Shape after concatenation 1: (4797, 17)\n",
      "--------------------\n",
      "Key: 2021-10-10\n",
      "Shape before dropping: (2089, 17)\n",
      "Shape after dropping: (243, 17)\n",
      "----------\n",
      "Shape after concatenation 1: (5040, 17)\n",
      "--------------------\n",
      "Key: 2021-10-11\n",
      "Shape before dropping: (1940, 17)\n",
      "Shape after dropping: (100, 17)\n",
      "----------\n",
      "Shape after concatenation 1: (5140, 17)\n",
      "--------------------\n",
      "Key: 2021-10-12\n",
      "Shape before dropping: (1968, 17)\n",
      "Shape after dropping: (145, 17)\n",
      "----------\n",
      "Shape after concatenation 1: (5285, 17)\n",
      "--------------------\n",
      "Key: 2021-10-13\n",
      "Shape before dropping: (2090, 17)\n",
      "Shape after dropping: (290, 17)\n",
      "----------\n",
      "Shape after concatenation 1: (5575, 17)\n",
      "--------------------\n",
      "Key: 2021-10-14\n",
      "Shape before dropping: (2036, 17)\n",
      "Shape after dropping: (245, 17)\n",
      "----------\n",
      "Shape after concatenation 1: (5820, 17)\n",
      "--------------------\n",
      "Key: 2021-10-15\n",
      "Shape before dropping: (2093, 17)\n",
      "Shape after dropping: (319, 17)\n",
      "----------\n",
      "Shape after concatenation 1: (6139, 17)\n",
      "--------------------\n",
      "Key: 2021-10-16\n",
      "Shape before dropping: (2038, 17)\n",
      "Shape after dropping: (207, 17)\n",
      "----------\n",
      "Shape after concatenation 1: (6346, 17)\n",
      "--------------------\n",
      "Key: 2021-10-17\n",
      "Shape before dropping: (2036, 17)\n",
      "Shape after dropping: (227, 17)\n",
      "----------\n",
      "Shape after concatenation 1: (6573, 17)\n",
      "--------------------\n",
      "Final shape: (6573, 17)\n"
     ]
    }
   ],
   "source": [
    "full_data = daily_dict['2021-09-25']\n",
    "print(f'Initial shape: {full_data.shape}')\n",
    "print('-'*30)\n",
    "daily_dict.pop('2021-09-25')\n",
    "\n",
    "for i, key in enumerate(daily_dict):\n",
    "    #if key == '2021-09-29': ####\n",
    "     #   break\n",
    "    print(f'Key: {key}')\n",
    "    data_to_concat = drop_renewed(full_data, daily_dict[key])\n",
    "    full_data = pd.concat([data_to_concat, full_data], axis=0)\n",
    "    print(f'Shape after concatenation {1}: {full_data.shape}')\n",
    "    print('-'*20)\n",
    "print(f'Final shape: {full_data.shape}')"
   ]
  },
  {
   "cell_type": "code",
   "execution_count": 25,
   "id": "74815c10-424e-47c7-91a4-67063e8c90d1",
   "metadata": {},
   "outputs": [
    {
     "data": {
      "text/plain": [
       "(6573, 17)"
      ]
     },
     "execution_count": 25,
     "metadata": {},
     "output_type": "execute_result"
    }
   ],
   "source": [
    "full_data.shape"
   ]
  },
  {
   "cell_type": "raw",
   "id": "f21d9bdc-b15c-4eb6-8db0-76c53b3efa9d",
   "metadata": {
    "tags": []
   },
   "source": [
    "daily_dict['2021-09-28'].shape"
   ]
  },
  {
   "cell_type": "raw",
   "id": "ce613b6a-f42e-4e07-b6d7-ad53218a1f83",
   "metadata": {},
   "source": [
    "daily_dict['2021-09-29'].shape  #Shape before dropping: (2283, 17)"
   ]
  },
  {
   "cell_type": "raw",
   "id": "d081292c-9d23-4338-89ee-15c526aac2e6",
   "metadata": {},
   "source": [
    "full_data.shape"
   ]
  },
  {
   "cell_type": "raw",
   "id": "686637fb-63ba-4875-be99-f6a9edf07937",
   "metadata": {},
   "source": [
    "def drop_renewed(old_data, new_data):\n",
    "    print(f'Shape before dropping: {new_data.shape}')\n",
    "    for url in new_data['url']:\n",
    "        print(url)\n",
    "        condition_1 = old_data['url'].str.contains(url).sum() != 0\n",
    "        condition_2 = (new_data.loc[new_data['url'].str.contains(url), ['url', 'price']].values == \n",
    "                       old_data.loc[old_data['url'].str.contains(url), ['url', 'price']].values).all(axis=1)\n",
    "    \n",
    "        if condition_1 and condition_2:\n",
    "            index_to_drop = new_data[new_data['url'].str.contains(url)].index[0]\n",
    "            new_data.drop(index=[index_to_drop], inplace=True)\n",
    "    print(f'Shape after dropping: {new_data.shape}')\n",
    "    print('-'*10)\n",
    "    return new_data"
   ]
  },
  {
   "cell_type": "raw",
   "id": "83fe3f0c-fd68-4a1a-b27a-8d0ae780757f",
   "metadata": {
    "jupyter": {
     "outputs_hidden": true
    },
    "tags": []
   },
   "source": [
    "#old_data = daily_dict['2021-09-27']\n",
    "#new_data = daily_dict['2021-09-28']\n",
    "\n",
    "drop_renewed(full_data, daily_dict['2021-09-29'])"
   ]
  },
  {
   "cell_type": "raw",
   "id": "b0632a58-c57d-4bc6-a2c2-7fbec74d0e4c",
   "metadata": {},
   "source": [
    "full_data[full_data['url']=='https://www.daft.ie/for-sale/apartment-49-parkgate-place-islandbridge-dublin-8/3532883']"
   ]
  },
  {
   "cell_type": "raw",
   "id": "4c164520-6379-4c55-bece-d21a8c2cf3ca",
   "metadata": {},
   "source": [
    "url = 'https://www.daft.ie/for-sale/apartment-49-parkgate-place-islandbridge-dublin-8/3532883'\n",
    "\n",
    "condition_1 = full_data['url'].str.contains(url).sum() != 0\n",
    "condition_2 = (daily_dict['2021-09-29'].loc[daily_dict['2021-09-29']['url'].str.contains(url), ['url', 'price']].values == \n",
    "                       full_data.loc[full_data['url'].str.contains(url), ['url', 'price']].values).all(axis=1)\n",
    "\n",
    "print(condition_1)\n",
    "print(condition_2)\n",
    "\n",
    "if condition_1 and condition_2:\n",
    "    index_to_drop = daily_dict['2021-09-29'][daily_dict['2021-09-29']['url'].str.contains(url)].index[0]\n",
    "    #new_data.drop(index=[index_to_drop], inplace=True)"
   ]
  },
  {
   "cell_type": "raw",
   "id": "b15345c8-619c-4e8c-99d0-e4908ec5278f",
   "metadata": {},
   "source": [
    "(daily_dict['2021-09-29'].loc[daily_dict['2021-09-29']['url'].str.contains(url), ['url', 'price']].values == \n",
    "                       full_data.loc[full_data['url'].str.contains(url), ['url', 'price']].values).all(axis=1)"
   ]
  },
  {
   "cell_type": "raw",
   "id": "bfc6d3c8-0c7c-43e3-a977-0a33991dd371",
   "metadata": {},
   "source": [
    "a = daily_dict['2021-09-29'].loc[daily_dict['2021-09-29']['url'].str.contains(url), ['url', 'price']].values\n",
    "a"
   ]
  },
  {
   "cell_type": "raw",
   "id": "28ab08c9-0ab6-4a36-8530-3a2bbfe4475b",
   "metadata": {},
   "source": [
    "b= full_data.loc[full_data['url'].str.contains(url), ['url', 'price']].values\n",
    "b"
   ]
  },
  {
   "cell_type": "raw",
   "id": "d0a085d6-7970-4e30-8964-df3ff0275b5b",
   "metadata": {},
   "source": [
    "(a == [['https://www.daft.ie/for-sale/apartment-49-parkgate-place-islandbridge-dublin-8/3532883',\n",
    "        '€299,950']]).all(axis=1)[0]"
   ]
  },
  {
   "cell_type": "raw",
   "id": "8ff641b0-1462-4dff-9cab-0ec1b8d1c6cb",
   "metadata": {},
   "source": [
    "(a == b)#.all(axis=1)"
   ]
  },
  {
   "cell_type": "raw",
   "id": "d8e5ca49-77b5-4adf-8a8d-deef4fc677cc",
   "metadata": {},
   "source": [
    "['https://www.daft.ie/for-sale/apartment-49-parkgate-place-islandbridge-dublin-8/3532883',\n",
    "        '€299,950'] == [['https://www.daft.ie/for-sale/apartment-49-parkgate-place-islandbridge-dublin-8/3532883',\n",
    "        '€5'],\n",
    "       ['https://www.daft.ie/for-sale/apartment-49-parkgate-place-islandbridge-dublin-8/3532883',\n",
    "        '€330,000']]"
   ]
  },
  {
   "cell_type": "raw",
   "id": "8160e811-6272-48c4-ad3d-23092070f78b",
   "metadata": {
    "tags": []
   },
   "source": [
    "(a == b).all(axis=1)#.all()"
   ]
  },
  {
   "cell_type": "raw",
   "id": "1a07b7f5-f7f7-4e81-8e0b-0bb81d6b0916",
   "metadata": {},
   "source": [
    "(a == b).all(axis=0)"
   ]
  },
  {
   "cell_type": "raw",
   "id": "a2a82b4e-e248-456a-8607-4edc13ff4812",
   "metadata": {},
   "source": [
    "(a == b).all()"
   ]
  },
  {
   "cell_type": "raw",
   "id": "57ebfd09-c04f-4ae7-bf3f-665421b4f494",
   "metadata": {},
   "source": [
    "a==a"
   ]
  },
  {
   "cell_type": "raw",
   "id": "171139b9-c092-4f4b-ac98-47519663d04e",
   "metadata": {},
   "source": []
  }
 ],
 "metadata": {
  "kernelspec": {
   "display_name": "Python 3 (ipykernel)",
   "language": "python",
   "name": "python3"
  },
  "language_info": {
   "codemirror_mode": {
    "name": "ipython",
    "version": 3
   },
   "file_extension": ".py",
   "mimetype": "text/x-python",
   "name": "python",
   "nbconvert_exporter": "python",
   "pygments_lexer": "ipython3",
   "version": "3.7.11"
  }
 },
 "nbformat": 4,
 "nbformat_minor": 5
}
