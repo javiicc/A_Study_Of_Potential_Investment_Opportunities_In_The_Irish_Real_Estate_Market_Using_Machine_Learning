{
 "cells": [
  {
   "cell_type": "code",
   "execution_count": 1,
   "id": "0226adfe-318c-4c85-9aa9-4879b5590ae6",
   "metadata": {},
   "outputs": [],
   "source": [
    "import sqlite3\n",
    "\n",
    "import numpy as np\n",
    "import pandas as pd\n",
    "import matplotlib.pyplot as plt"
   ]
  },
  {
   "cell_type": "code",
   "execution_count": 2,
   "id": "cd117984-232c-4548-b9d8-034510fc6a6a",
   "metadata": {},
   "outputs": [],
   "source": [
    "pd.set_option('display.max_rows', None)\n",
    "pd.set_option('display.max_columns', None)\n",
    "plt.style.use('seaborn')"
   ]
  },
  {
   "cell_type": "markdown",
   "id": "c1970aa5-6ddf-4cd4-b72e-6644fd0aaf07",
   "metadata": {},
   "source": [
    "# 2021-09-25.db"
   ]
  },
  {
   "cell_type": "code",
   "execution_count": 4,
   "id": "1dc27105-b5f5-46bc-b5e6-af87637b851a",
   "metadata": {},
   "outputs": [],
   "source": [
    "connection = sqlite3.connect('/home/javier/Desktop/TFM/Fraud_Detection_In_The_Irish_Rental_Market/data/2021-09-25.db') #### change\n",
    "cursor = connection.cursor()"
   ]
  },
  {
   "cell_type": "code",
   "execution_count": 5,
   "id": "2341f831-f308-48a9-a21b-47e7fb175915",
   "metadata": {},
   "outputs": [],
   "source": [
    "query = '''SELECT * FROM rent;'''"
   ]
  },
  {
   "cell_type": "code",
   "execution_count": 6,
   "id": "2fb87762-c959-43ff-af30-a2ed89415760",
   "metadata": {},
   "outputs": [
    {
     "data": {
      "text/plain": [
       "(3092, 19)"
      ]
     },
     "execution_count": 6,
     "metadata": {},
     "output_type": "execute_result"
    }
   ],
   "source": [
    "daft_09_25 = pd.read_sql_query(query, connection)\n",
    "daft_09_25.shape"
   ]
  },
  {
   "cell_type": "code",
   "execution_count": 7,
   "id": "486f4e08-a44d-4abe-bd88-35fd403f9ab0",
   "metadata": {},
   "outputs": [],
   "source": [
    "connection.close()"
   ]
  },
  {
   "cell_type": "code",
   "execution_count": 8,
   "id": "326eb1e5-a6c7-4f6e-928b-530f3e317c47",
   "metadata": {},
   "outputs": [],
   "source": [
    "rent_1 = daft_09_25.copy()"
   ]
  },
  {
   "cell_type": "code",
   "execution_count": 9,
   "id": "63dee314-fabf-4148-981f-ba1b78ced1e1",
   "metadata": {},
   "outputs": [
    {
     "name": "stdout",
     "output_type": "stream",
     "text": [
      "(3092, 19)\n",
      "(3092, 17)\n"
     ]
    }
   ],
   "source": [
    "print(rent_1.shape)\n",
    "rent_1.drop(['contact', 'phone'], axis=1, inplace=True)\n",
    "print(rent_1.shape)"
   ]
  },
  {
   "cell_type": "markdown",
   "id": "3b5bf1c5-f301-4d84-af17-d4d96c264a44",
   "metadata": {},
   "source": [
    "# 2021-09-26.db"
   ]
  },
  {
   "cell_type": "code",
   "execution_count": 10,
   "id": "ea0e147b-21dc-46a6-bb91-8dcd9b9946ad",
   "metadata": {},
   "outputs": [],
   "source": [
    "connection = sqlite3.connect('/home/javier/Desktop/TFM/Fraud_Detection_In_The_Irish_Rental_Market/data/2021-09-26.db')\n",
    "cursor = connection.cursor()"
   ]
  },
  {
   "cell_type": "code",
   "execution_count": 11,
   "id": "10a4bcd3-9bb4-4674-97ba-95bd41aa8e9d",
   "metadata": {},
   "outputs": [
    {
     "data": {
      "text/plain": [
       "(3071, 19)"
      ]
     },
     "execution_count": 11,
     "metadata": {},
     "output_type": "execute_result"
    }
   ],
   "source": [
    "daft_09_26 = pd.read_sql_query(query, connection)\n",
    "daft_09_26.shape"
   ]
  },
  {
   "cell_type": "code",
   "execution_count": 12,
   "id": "f3c902ac-d771-4055-b35c-c6febfe4266c",
   "metadata": {},
   "outputs": [],
   "source": [
    "connection.close()"
   ]
  },
  {
   "cell_type": "code",
   "execution_count": 13,
   "id": "12563624-9adb-42d3-afd0-c50a1d5cf7e9",
   "metadata": {},
   "outputs": [],
   "source": [
    "rent_2 = daft_09_26.copy()"
   ]
  },
  {
   "cell_type": "code",
   "execution_count": 14,
   "id": "1c99f90c-93a9-4b76-b099-90d6cccb346f",
   "metadata": {},
   "outputs": [
    {
     "name": "stdout",
     "output_type": "stream",
     "text": [
      "(3071, 19)\n",
      "(3071, 17)\n"
     ]
    }
   ],
   "source": [
    "print(rent_2.shape)\n",
    "rent_2.drop(['contact', 'phone'], axis=1, inplace=True)\n",
    "print(rent_2.shape)"
   ]
  },
  {
   "cell_type": "code",
   "execution_count": null,
   "id": "a4681f8a-e1e4-49d1-9e90-a5475051b3e1",
   "metadata": {},
   "outputs": [],
   "source": []
  },
  {
   "cell_type": "markdown",
   "id": "784b241a-23de-4f7b-9ad4-73391284f84f",
   "metadata": {},
   "source": [
    "--------------"
   ]
  },
  {
   "cell_type": "code",
   "execution_count": 15,
   "id": "2cee7ae7-b2e8-45aa-aea5-f5d1d1519620",
   "metadata": {},
   "outputs": [
    {
     "data": {
      "text/plain": [
       "24/09/2021    1245\n",
       "23/09/2021     506\n",
       "22/09/2021     303\n",
       "21/09/2021     238\n",
       "20/09/2021     185\n",
       "19/09/2021      97\n",
       "18/09/2021      91\n",
       "17/09/2021      92\n",
       "16/09/2021      54\n",
       "15/09/2021      51\n",
       "14/09/2021      47\n",
       "13/09/2021      64\n",
       "12/09/2021       9\n",
       "11/09/2021      13\n",
       "10/09/2021      22\n",
       "Name: entered_renewed, dtype: int64"
      ]
     },
     "execution_count": 15,
     "metadata": {},
     "output_type": "execute_result"
    }
   ],
   "source": [
    "er_1 = rent_1['entered_renewed'].value_counts().head(15).sort_index(ascending=False)\n",
    "er_1"
   ]
  },
  {
   "cell_type": "code",
   "execution_count": 16,
   "id": "fca3279b-a0c2-48d5-afc2-d515d09e1ced",
   "metadata": {},
   "outputs": [
    {
     "data": {
      "text/plain": [
       "25/09/2021    576\n",
       "24/09/2021    922\n",
       "23/09/2021    432\n",
       "22/09/2021    272\n",
       "21/09/2021    209\n",
       "20/09/2021    158\n",
       "19/09/2021     84\n",
       "18/09/2021     78\n",
       "17/09/2021     38\n",
       "16/09/2021     48\n",
       "15/09/2021     49\n",
       "14/09/2021     48\n",
       "13/09/2021     61\n",
       "11/09/2021     13\n",
       "09/09/2021      8\n",
       "Name: entered_renewed, dtype: int64"
      ]
     },
     "execution_count": 16,
     "metadata": {},
     "output_type": "execute_result"
    }
   ],
   "source": [
    "er_2 = rent_2['entered_renewed'].value_counts().head(15).sort_index(ascending=False)\n",
    "er_2"
   ]
  },
  {
   "cell_type": "code",
   "execution_count": null,
   "id": "c1bffc53-dc00-45f0-9d7d-494a9b1c080a",
   "metadata": {},
   "outputs": [],
   "source": []
  },
  {
   "cell_type": "code",
   "execution_count": 17,
   "id": "56d399b0-0900-4526-ad95-e8ab68636db4",
   "metadata": {},
   "outputs": [
    {
     "data": {
      "text/html": [
       "<div>\n",
       "<style scoped>\n",
       "    .dataframe tbody tr th:only-of-type {\n",
       "        vertical-align: middle;\n",
       "    }\n",
       "\n",
       "    .dataframe tbody tr th {\n",
       "        vertical-align: top;\n",
       "    }\n",
       "\n",
       "    .dataframe thead th {\n",
       "        text-align: right;\n",
       "    }\n",
       "</style>\n",
       "<table border=\"1\" class=\"dataframe\">\n",
       "  <thead>\n",
       "    <tr style=\"text-align: right;\">\n",
       "      <th></th>\n",
       "      <th>entered_renewed_09-25</th>\n",
       "      <th>entered_renewed_09-26</th>\n",
       "    </tr>\n",
       "  </thead>\n",
       "  <tbody>\n",
       "    <tr>\n",
       "      <th>25/09/2021</th>\n",
       "      <td>NaN</td>\n",
       "      <td>576</td>\n",
       "    </tr>\n",
       "    <tr>\n",
       "      <th>24/09/2021</th>\n",
       "      <td>1245.0</td>\n",
       "      <td>922</td>\n",
       "    </tr>\n",
       "    <tr>\n",
       "      <th>23/09/2021</th>\n",
       "      <td>506.0</td>\n",
       "      <td>432</td>\n",
       "    </tr>\n",
       "    <tr>\n",
       "      <th>22/09/2021</th>\n",
       "      <td>303.0</td>\n",
       "      <td>272</td>\n",
       "    </tr>\n",
       "    <tr>\n",
       "      <th>21/09/2021</th>\n",
       "      <td>238.0</td>\n",
       "      <td>209</td>\n",
       "    </tr>\n",
       "    <tr>\n",
       "      <th>20/09/2021</th>\n",
       "      <td>185.0</td>\n",
       "      <td>158</td>\n",
       "    </tr>\n",
       "    <tr>\n",
       "      <th>19/09/2021</th>\n",
       "      <td>97.0</td>\n",
       "      <td>84</td>\n",
       "    </tr>\n",
       "    <tr>\n",
       "      <th>18/09/2021</th>\n",
       "      <td>91.0</td>\n",
       "      <td>78</td>\n",
       "    </tr>\n",
       "    <tr>\n",
       "      <th>17/09/2021</th>\n",
       "      <td>92.0</td>\n",
       "      <td>38</td>\n",
       "    </tr>\n",
       "    <tr>\n",
       "      <th>16/09/2021</th>\n",
       "      <td>54.0</td>\n",
       "      <td>48</td>\n",
       "    </tr>\n",
       "    <tr>\n",
       "      <th>15/09/2021</th>\n",
       "      <td>51.0</td>\n",
       "      <td>49</td>\n",
       "    </tr>\n",
       "    <tr>\n",
       "      <th>14/09/2021</th>\n",
       "      <td>47.0</td>\n",
       "      <td>48</td>\n",
       "    </tr>\n",
       "    <tr>\n",
       "      <th>13/09/2021</th>\n",
       "      <td>64.0</td>\n",
       "      <td>61</td>\n",
       "    </tr>\n",
       "    <tr>\n",
       "      <th>11/09/2021</th>\n",
       "      <td>13.0</td>\n",
       "      <td>13</td>\n",
       "    </tr>\n",
       "    <tr>\n",
       "      <th>09/09/2021</th>\n",
       "      <td>NaN</td>\n",
       "      <td>8</td>\n",
       "    </tr>\n",
       "  </tbody>\n",
       "</table>\n",
       "</div>"
      ],
      "text/plain": [
       "            entered_renewed_09-25  entered_renewed_09-26\n",
       "25/09/2021                    NaN                    576\n",
       "24/09/2021                 1245.0                    922\n",
       "23/09/2021                  506.0                    432\n",
       "22/09/2021                  303.0                    272\n",
       "21/09/2021                  238.0                    209\n",
       "20/09/2021                  185.0                    158\n",
       "19/09/2021                   97.0                     84\n",
       "18/09/2021                   91.0                     78\n",
       "17/09/2021                   92.0                     38\n",
       "16/09/2021                   54.0                     48\n",
       "15/09/2021                   51.0                     49\n",
       "14/09/2021                   47.0                     48\n",
       "13/09/2021                   64.0                     61\n",
       "11/09/2021                   13.0                     13\n",
       "09/09/2021                    NaN                      8"
      ]
     },
     "execution_count": 17,
     "metadata": {},
     "output_type": "execute_result"
    }
   ],
   "source": [
    "combined = pd.merge(left=er_1, right=er_2, how='right', \n",
    "                    left_index=True, right_index=True, \n",
    "                    suffixes=('_09-25','_09-26'))\n",
    "combined"
   ]
  },
  {
   "cell_type": "code",
   "execution_count": 18,
   "id": "9540bd34-f101-4c84-9b3b-8a34c09f5f3b",
   "metadata": {},
   "outputs": [
    {
     "data": {
      "text/html": [
       "<div>\n",
       "<style scoped>\n",
       "    .dataframe tbody tr th:only-of-type {\n",
       "        vertical-align: middle;\n",
       "    }\n",
       "\n",
       "    .dataframe tbody tr th {\n",
       "        vertical-align: top;\n",
       "    }\n",
       "\n",
       "    .dataframe thead th {\n",
       "        text-align: right;\n",
       "    }\n",
       "</style>\n",
       "<table border=\"1\" class=\"dataframe\">\n",
       "  <thead>\n",
       "    <tr style=\"text-align: right;\">\n",
       "      <th></th>\n",
       "      <th>entered_renewed_09-25</th>\n",
       "      <th>entered_renewed_09-26</th>\n",
       "      <th>dif</th>\n",
       "    </tr>\n",
       "  </thead>\n",
       "  <tbody>\n",
       "    <tr>\n",
       "      <th>25/09/2021</th>\n",
       "      <td>NaN</td>\n",
       "      <td>576</td>\n",
       "      <td>NaN</td>\n",
       "    </tr>\n",
       "    <tr>\n",
       "      <th>24/09/2021</th>\n",
       "      <td>1245.0</td>\n",
       "      <td>922</td>\n",
       "      <td>-323.0</td>\n",
       "    </tr>\n",
       "    <tr>\n",
       "      <th>23/09/2021</th>\n",
       "      <td>506.0</td>\n",
       "      <td>432</td>\n",
       "      <td>-74.0</td>\n",
       "    </tr>\n",
       "    <tr>\n",
       "      <th>22/09/2021</th>\n",
       "      <td>303.0</td>\n",
       "      <td>272</td>\n",
       "      <td>-31.0</td>\n",
       "    </tr>\n",
       "    <tr>\n",
       "      <th>21/09/2021</th>\n",
       "      <td>238.0</td>\n",
       "      <td>209</td>\n",
       "      <td>-29.0</td>\n",
       "    </tr>\n",
       "    <tr>\n",
       "      <th>20/09/2021</th>\n",
       "      <td>185.0</td>\n",
       "      <td>158</td>\n",
       "      <td>-27.0</td>\n",
       "    </tr>\n",
       "    <tr>\n",
       "      <th>19/09/2021</th>\n",
       "      <td>97.0</td>\n",
       "      <td>84</td>\n",
       "      <td>-13.0</td>\n",
       "    </tr>\n",
       "    <tr>\n",
       "      <th>18/09/2021</th>\n",
       "      <td>91.0</td>\n",
       "      <td>78</td>\n",
       "      <td>-13.0</td>\n",
       "    </tr>\n",
       "    <tr>\n",
       "      <th>17/09/2021</th>\n",
       "      <td>92.0</td>\n",
       "      <td>38</td>\n",
       "      <td>-54.0</td>\n",
       "    </tr>\n",
       "    <tr>\n",
       "      <th>16/09/2021</th>\n",
       "      <td>54.0</td>\n",
       "      <td>48</td>\n",
       "      <td>-6.0</td>\n",
       "    </tr>\n",
       "    <tr>\n",
       "      <th>15/09/2021</th>\n",
       "      <td>51.0</td>\n",
       "      <td>49</td>\n",
       "      <td>-2.0</td>\n",
       "    </tr>\n",
       "    <tr>\n",
       "      <th>14/09/2021</th>\n",
       "      <td>47.0</td>\n",
       "      <td>48</td>\n",
       "      <td>1.0</td>\n",
       "    </tr>\n",
       "    <tr>\n",
       "      <th>13/09/2021</th>\n",
       "      <td>64.0</td>\n",
       "      <td>61</td>\n",
       "      <td>-3.0</td>\n",
       "    </tr>\n",
       "    <tr>\n",
       "      <th>11/09/2021</th>\n",
       "      <td>13.0</td>\n",
       "      <td>13</td>\n",
       "      <td>0.0</td>\n",
       "    </tr>\n",
       "    <tr>\n",
       "      <th>09/09/2021</th>\n",
       "      <td>NaN</td>\n",
       "      <td>8</td>\n",
       "      <td>NaN</td>\n",
       "    </tr>\n",
       "  </tbody>\n",
       "</table>\n",
       "</div>"
      ],
      "text/plain": [
       "            entered_renewed_09-25  entered_renewed_09-26    dif\n",
       "25/09/2021                    NaN                    576    NaN\n",
       "24/09/2021                 1245.0                    922 -323.0\n",
       "23/09/2021                  506.0                    432  -74.0\n",
       "22/09/2021                  303.0                    272  -31.0\n",
       "21/09/2021                  238.0                    209  -29.0\n",
       "20/09/2021                  185.0                    158  -27.0\n",
       "19/09/2021                   97.0                     84  -13.0\n",
       "18/09/2021                   91.0                     78  -13.0\n",
       "17/09/2021                   92.0                     38  -54.0\n",
       "16/09/2021                   54.0                     48   -6.0\n",
       "15/09/2021                   51.0                     49   -2.0\n",
       "14/09/2021                   47.0                     48    1.0\n",
       "13/09/2021                   64.0                     61   -3.0\n",
       "11/09/2021                   13.0                     13    0.0\n",
       "09/09/2021                    NaN                      8    NaN"
      ]
     },
     "execution_count": 18,
     "metadata": {},
     "output_type": "execute_result"
    }
   ],
   "source": [
    "combined['dif'] = combined['entered_renewed_09-26'] - combined['entered_renewed_09-25']\n",
    "combined"
   ]
  },
  {
   "cell_type": "markdown",
   "id": "24acef67-acb5-46da-9459-8c8312c0ffbc",
   "metadata": {},
   "source": [
    "El 09/14 aparece un nuevo anuncio en los datos referentes al dia 09/26, lo cual no tiene sentido."
   ]
  },
  {
   "cell_type": "code",
   "execution_count": 19,
   "id": "4a697409-754a-4fcb-a2ae-e964b1052d0e",
   "metadata": {},
   "outputs": [
    {
     "data": {
      "text/plain": [
       "(47, 17)"
      ]
     },
     "execution_count": 19,
     "metadata": {},
     "output_type": "execute_result"
    }
   ],
   "source": [
    "rent_1[rent_1['entered_renewed'] == '14/09/2021'].shape"
   ]
  },
  {
   "cell_type": "code",
   "execution_count": 20,
   "id": "9e4eab02-bdb1-4360-85c0-d81d7b4199a6",
   "metadata": {},
   "outputs": [
    {
     "data": {
      "text/plain": [
       "(48, 17)"
      ]
     },
     "execution_count": 20,
     "metadata": {},
     "output_type": "execute_result"
    }
   ],
   "source": [
    "rent_2[rent_2['entered_renewed'] == '14/09/2021'].shape"
   ]
  },
  {
   "cell_type": "raw",
   "id": "fb457293-0d7f-443f-bf44-5867570196f0",
   "metadata": {
    "tags": []
   },
   "source": [
    "for url_2 in rent_2.loc[rent_2['entered_renewed'] == '14/09/2021', 'url']:\n",
    "    for url_1 in rent_1.loc[rent_1['entered_renewed'] == '14/09/2021', 'url']:\n",
    "        if url_2 == url_1:\n",
    "            print(url)"
   ]
  },
  {
   "cell_type": "code",
   "execution_count": 24,
   "id": "f8d2e1cf-7072-4bf4-afb2-ea0e20e8c2b8",
   "metadata": {},
   "outputs": [
    {
     "name": "stdout",
     "output_type": "stream",
     "text": [
      "https://www.daft.ie/for-rent/house-greenfield-park-lahinch-co-clare/3525333\n"
     ]
    }
   ],
   "source": [
    "for url_2 in rent_2.loc[rent_2['entered_renewed'] == '14/09/2021', 'url']:\n",
    "    if url_2 not in list(rent_1.loc[rent_1['entered_renewed'] == '14/09/2021', 'url']):\n",
    "        print(url_2)"
   ]
  },
  {
   "cell_type": "code",
   "execution_count": 26,
   "id": "a2dddb18-8b37-4575-b387-71796de36302",
   "metadata": {},
   "outputs": [
    {
     "data": {
      "text/html": [
       "<div>\n",
       "<style scoped>\n",
       "    .dataframe tbody tr th:only-of-type {\n",
       "        vertical-align: middle;\n",
       "    }\n",
       "\n",
       "    .dataframe tbody tr th {\n",
       "        vertical-align: top;\n",
       "    }\n",
       "\n",
       "    .dataframe thead th {\n",
       "        text-align: right;\n",
       "    }\n",
       "</style>\n",
       "<table border=\"1\" class=\"dataframe\">\n",
       "  <thead>\n",
       "    <tr style=\"text-align: right;\">\n",
       "      <th></th>\n",
       "      <th>daft_id</th>\n",
       "      <th>item_id</th>\n",
       "      <th>url</th>\n",
       "      <th>name</th>\n",
       "      <th>price</th>\n",
       "      <th>info</th>\n",
       "      <th>overview</th>\n",
       "      <th>facilities</th>\n",
       "      <th>ber</th>\n",
       "      <th>entered_renewed</th>\n",
       "      <th>views</th>\n",
       "      <th>psr</th>\n",
       "      <th>type_house</th>\n",
       "      <th>energy_performance_indicator</th>\n",
       "      <th>coordinates</th>\n",
       "      <th>type</th>\n",
       "      <th>scraping_date</th>\n",
       "    </tr>\n",
       "  </thead>\n",
       "  <tbody>\n",
       "    <tr>\n",
       "      <th>2975</th>\n",
       "      <td>26122691</td>\n",
       "      <td>3525333</td>\n",
       "      <td>https://www.daft.ie/for-rent/house-greenfield-...</td>\n",
       "      <td>Greenfield Park, Lahinch, Co. Clare</td>\n",
       "      <td>€800 per month</td>\n",
       "      <td>3 Bed,3 Bath,House</td>\n",
       "      <td>Double Bedroom: 3,Bathroom: 3,Available From: ...</td>\n",
       "      <td>Parking,Central Heating,Cable Television,Washi...</td>\n",
       "      <td>SI_666</td>\n",
       "      <td>14/09/2021</td>\n",
       "      <td>4,141</td>\n",
       "      <td>none</td>\n",
       "      <td>house</td>\n",
       "      <td>none</td>\n",
       "      <td>52.93434860495016+-9.334020947657336</td>\n",
       "      <td>rent</td>\n",
       "      <td>2021-9-26</td>\n",
       "    </tr>\n",
       "  </tbody>\n",
       "</table>\n",
       "</div>"
      ],
      "text/plain": [
       "       daft_id  item_id                                                url  \\\n",
       "2975  26122691  3525333  https://www.daft.ie/for-rent/house-greenfield-...   \n",
       "\n",
       "                                     name           price                info  \\\n",
       "2975  Greenfield Park, Lahinch, Co. Clare  €800 per month  3 Bed,3 Bath,House   \n",
       "\n",
       "                                               overview  \\\n",
       "2975  Double Bedroom: 3,Bathroom: 3,Available From: ...   \n",
       "\n",
       "                                             facilities     ber  \\\n",
       "2975  Parking,Central Heating,Cable Television,Washi...  SI_666   \n",
       "\n",
       "     entered_renewed  views   psr type_house energy_performance_indicator  \\\n",
       "2975      14/09/2021  4,141  none      house                         none   \n",
       "\n",
       "                               coordinates  type scraping_date  \n",
       "2975  52.93434860495016+-9.334020947657336  rent     2021-9-26  "
      ]
     },
     "execution_count": 26,
     "metadata": {},
     "output_type": "execute_result"
    }
   ],
   "source": [
    "rent_2.loc[rent_2['url'] == 'https://www.daft.ie/for-rent/house-greenfield-park-lahinch-co-clare/3525333']"
   ]
  },
  {
   "cell_type": "code",
   "execution_count": 27,
   "id": "e4b8f170-113b-42e5-a8a5-7a1da7722df2",
   "metadata": {},
   "outputs": [
    {
     "data": {
      "text/html": [
       "<div>\n",
       "<style scoped>\n",
       "    .dataframe tbody tr th:only-of-type {\n",
       "        vertical-align: middle;\n",
       "    }\n",
       "\n",
       "    .dataframe tbody tr th {\n",
       "        vertical-align: top;\n",
       "    }\n",
       "\n",
       "    .dataframe thead th {\n",
       "        text-align: right;\n",
       "    }\n",
       "</style>\n",
       "<table border=\"1\" class=\"dataframe\">\n",
       "  <thead>\n",
       "    <tr style=\"text-align: right;\">\n",
       "      <th></th>\n",
       "      <th>daft_id</th>\n",
       "      <th>item_id</th>\n",
       "      <th>url</th>\n",
       "      <th>name</th>\n",
       "      <th>price</th>\n",
       "      <th>info</th>\n",
       "      <th>overview</th>\n",
       "      <th>facilities</th>\n",
       "      <th>ber</th>\n",
       "      <th>entered_renewed</th>\n",
       "      <th>views</th>\n",
       "      <th>psr</th>\n",
       "      <th>type_house</th>\n",
       "      <th>energy_performance_indicator</th>\n",
       "      <th>coordinates</th>\n",
       "      <th>type</th>\n",
       "      <th>scraping_date</th>\n",
       "    </tr>\n",
       "  </thead>\n",
       "  <tbody>\n",
       "  </tbody>\n",
       "</table>\n",
       "</div>"
      ],
      "text/plain": [
       "Empty DataFrame\n",
       "Columns: [daft_id, item_id, url, name, price, info, overview, facilities, ber, entered_renewed, views, psr, type_house, energy_performance_indicator, coordinates, type, scraping_date]\n",
       "Index: []"
      ]
     },
     "execution_count": 27,
     "metadata": {},
     "output_type": "execute_result"
    }
   ],
   "source": [
    "rent_1.loc[rent_1['url'] == 'https://www.daft.ie/for-rent/house-greenfield-park-lahinch-co-clare/3525333']"
   ]
  },
  {
   "cell_type": "markdown",
   "id": "76f5ee09-dcc4-4910-ac71-b727950b152c",
   "metadata": {},
   "source": [
    "------------"
   ]
  },
  {
   "cell_type": "code",
   "execution_count": 28,
   "id": "269f7260-c60c-4a30-b6d7-f8681c2bd6ec",
   "metadata": {},
   "outputs": [],
   "source": [
    "def get_db(date, query = '''SELECT * FROM rent;'''): # 2021-09-26\n",
    "    \n",
    "    connection = sqlite3.connect('/home/javier/Desktop/TFM/Fraud_Detection_In_The_Irish_Rental_Market/data/{}.db')\n",
    "    cursor = connection.cursor()\n",
    "    \n",
    "    daft = pd.read_sql_query(query, connection)\n",
    "    connection.close()\n",
    "    rent = daft.copy()\n",
    "    rent.drop(['contact', 'phone'], axis=1, inplace=True)\n",
    "    \n",
    "    return rent"
   ]
  },
  {
   "cell_type": "code",
   "execution_count": 29,
   "id": "a1e8effa-e914-4d27-928c-81c9a1972eeb",
   "metadata": {},
   "outputs": [
    {
     "name": "stdout",
     "output_type": "stream",
     "text": [
      "/home/javier/Desktop/TFM/Fraud_Detection_In_The_Irish_Rental_Market\n"
     ]
    }
   ],
   "source": [
    "!pwd"
   ]
  },
  {
   "cell_type": "code",
   "execution_count": 30,
   "id": "138c03f5-52b2-47d9-97e9-a9727f15bec0",
   "metadata": {},
   "outputs": [
    {
     "name": "stdout",
     "output_type": "stream",
     "text": [
      "2021-09-22_3_websites.db  2021-09-27.db  2021-09-30.db\t2021-10-03.db\n",
      "2021-09-25.db\t\t  2021-09-28.db  2021-10-01.db\tbackup\n",
      "2021-09-26.db\t\t  2021-09-29.db  2021-10-02.db\tshare.csv\n"
     ]
    }
   ],
   "source": [
    "!ls /home/javier/Desktop/TFM/Fraud_Detection_In_The_Irish_Rental_Market/data"
   ]
  },
  {
   "cell_type": "code",
   "execution_count": 31,
   "id": "9a347eb3-2407-4429-a40f-972f4be89bd6",
   "metadata": {},
   "outputs": [
    {
     "name": "stdout",
     "output_type": "stream",
     "text": [
      "2021-09-22_3_websites.db  2021-09-27.db  2021-09-30.db\t2021-10-03.db\n",
      "2021-09-25.db\t\t  2021-09-28.db  2021-10-01.db\tbackup\n",
      "2021-09-26.db\t\t  2021-09-29.db  2021-10-02.db\tshare.csv\n"
     ]
    }
   ],
   "source": [
    "!ls data"
   ]
  },
  {
   "cell_type": "code",
   "execution_count": 32,
   "id": "2d2ca141-69d3-4e29-a6b0-4955d6606cfd",
   "metadata": {},
   "outputs": [],
   "source": [
    "from os import listdir\n",
    "from os.path import isfile, join"
   ]
  },
  {
   "cell_type": "code",
   "execution_count": 33,
   "id": "5316989c-558d-46cc-8c61-2435c3e4b15b",
   "metadata": {},
   "outputs": [
    {
     "data": {
      "text/plain": [
       "['2021-09-29.db',\n",
       " 'share.csv',\n",
       " '2021-10-01.db',\n",
       " '2021-09-28.db',\n",
       " '2021-09-27.db',\n",
       " '2021-10-03.db',\n",
       " '2021-09-30.db',\n",
       " '2021-10-02.db',\n",
       " '2021-09-26.db',\n",
       " 'backup',\n",
       " '2021-09-22_3_websites.db',\n",
       " '2021-09-25.db']"
      ]
     },
     "execution_count": 33,
     "metadata": {},
     "output_type": "execute_result"
    }
   ],
   "source": [
    "data_path = 'data'\n",
    "\n",
    "listdir(data_path)"
   ]
  },
  {
   "cell_type": "code",
   "execution_count": 34,
   "id": "fc0bddb6-ca8c-4636-a6dc-44116e2d86da",
   "metadata": {},
   "outputs": [
    {
     "data": {
      "text/plain": [
       "['2021-09-29.db',\n",
       " 'share.csv',\n",
       " '2021-10-01.db',\n",
       " '2021-09-28.db',\n",
       " '2021-09-27.db',\n",
       " '2021-10-03.db',\n",
       " '2021-09-30.db',\n",
       " '2021-10-02.db',\n",
       " '2021-09-26.db',\n",
       " '2021-09-22_3_websites.db',\n",
       " '2021-09-25.db']"
      ]
     },
     "execution_count": 34,
     "metadata": {},
     "output_type": "execute_result"
    }
   ],
   "source": [
    "[f for f in listdir(data_path) if isfile(join(data_path, f))]"
   ]
  },
  {
   "cell_type": "code",
   "execution_count": 35,
   "id": "a456f1af-c4eb-4a86-97b2-acfbe0d3660e",
   "metadata": {},
   "outputs": [
    {
     "data": {
      "text/plain": [
       "True"
      ]
     },
     "execution_count": 35,
     "metadata": {},
     "output_type": "execute_result"
    }
   ],
   "source": [
    "isfile(join(data_path, listdir(data_path)[0]))"
   ]
  },
  {
   "cell_type": "code",
   "execution_count": 36,
   "id": "83e33dba-7b71-4406-a667-17c7aaf55436",
   "metadata": {},
   "outputs": [],
   "source": [
    "import re"
   ]
  },
  {
   "cell_type": "code",
   "execution_count": 38,
   "id": "f9b8c400-a13a-4622-aad0-fc3df1fe0053",
   "metadata": {},
   "outputs": [
    {
     "name": "stdout",
     "output_type": "stream",
     "text": [
      "<re.Match object; span=(0, 13), match='2021-09-29.db'>\n"
     ]
    }
   ],
   "source": [
    "date_pattern = r'\\d{4}-\\d{2}-\\d{2}.db'\n",
    "\n",
    "print(re.search(date_pattern, listdir(data_path)[0]))"
   ]
  },
  {
   "cell_type": "code",
   "execution_count": 39,
   "id": "be841ba2-8aa9-43db-a8d7-52fdc76e2c01",
   "metadata": {},
   "outputs": [
    {
     "data": {
      "text/plain": [
       "<re.Match object; span=(0, 13), match='2021-09-29.db'>"
      ]
     },
     "execution_count": 39,
     "metadata": {},
     "output_type": "execute_result"
    }
   ],
   "source": [
    "date_pattern = r'\\d{4}-\\d{2}-\\d{2}.db'\n",
    "\n",
    "re.match(date_pattern, listdir(data_path)[0])"
   ]
  },
  {
   "cell_type": "code",
   "execution_count": 40,
   "id": "df93a231-6ece-43e1-a337-c298ab9cd8f3",
   "metadata": {},
   "outputs": [
    {
     "name": "stdout",
     "output_type": "stream",
     "text": [
      "2021-09-29.db\n"
     ]
    }
   ],
   "source": [
    "date_pattern = r'\\d{4}-\\d{2}-\\d{2}.db'\n",
    "\n",
    "if re.match(date_pattern, listdir(data_path)[0]):\n",
    "    print(listdir(data_path)[0]) # and isfile(join(data_path, f))"
   ]
  },
  {
   "cell_type": "code",
   "execution_count": null,
   "id": "30b2ab48-34ee-4ca2-be64-867b048f0adc",
   "metadata": {},
   "outputs": [],
   "source": []
  },
  {
   "cell_type": "code",
   "execution_count": null,
   "id": "d09d1f37-1c0d-4451-8589-3848750605e6",
   "metadata": {},
   "outputs": [],
   "source": []
  },
  {
   "cell_type": "code",
   "execution_count": 68,
   "id": "9970b56c-aead-4f82-a0f0-9fe043042f66",
   "metadata": {},
   "outputs": [
    {
     "data": {
      "text/plain": [
       "['2021-09-29.db',\n",
       " '2021-10-01.db',\n",
       " '2021-09-28.db',\n",
       " '2021-09-27.db',\n",
       " '2021-10-03.db',\n",
       " '2021-09-30.db',\n",
       " '2021-10-02.db',\n",
       " '2021-09-26.db',\n",
       " '2021-09-25.db']"
      ]
     },
     "execution_count": 68,
     "metadata": {},
     "output_type": "execute_result"
    }
   ],
   "source": [
    "import re\n",
    "from os import listdir\n",
    "from os.path import isfile, join\n",
    "\n",
    "data_pattern = r'\\d{4}-\\d{2}-\\d{2}.db'\n",
    "daily_db = [f for f in listdir(data_path) if isfile(join(data_path, f)) \\\n",
    "            and re.match(date_pattern, f)]\n",
    "daily_db"
   ]
  },
  {
   "cell_type": "markdown",
   "id": "f7748954-fc42-4f7b-bf41-ef045150db3c",
   "metadata": {},
   "source": [
    "-----------------"
   ]
  },
  {
   "cell_type": "code",
   "execution_count": 69,
   "id": "e308d448-3c59-4499-bee9-d7b2539f4c8c",
   "metadata": {},
   "outputs": [],
   "source": [
    "def get_db(dbname, query='''SELECT * FROM rent;'''): # 2021-09-26\n",
    "    \n",
    "    connection = sqlite3.connect(f'/home/javier/Desktop/TFM/Fraud_Detection_In_The_Irish_Rental_Market/data/{dbname}')\n",
    "    cursor = connection.cursor()\n",
    "    \n",
    "    daft = pd.read_sql_query(query, connection)\n",
    "    connection.close()\n",
    "    daft.drop(['contact', 'phone'], axis=1, inplace=True)\n",
    "    \n",
    "    rent = daft.copy() \n",
    "    \n",
    "    return rent"
   ]
  },
  {
   "cell_type": "raw",
   "id": "7dc5c07d-3386-4316-a10d-6fd325085573",
   "metadata": {
    "jupyter": {
     "outputs_hidden": true
    },
    "tags": []
   },
   "source": [
    "db_dict = {}\n",
    "\n",
    "for dbname in daily_db:\n",
    "    \n",
    "    db = get_db(dbname)\n",
    "    key = dbname.split('.')[0]\n",
    "    \n",
    "    if key in db_dict:\n",
    "        pass\n",
    "    else:\n",
    "        db_dict[key] = db"
   ]
  },
  {
   "cell_type": "code",
   "execution_count": 8,
   "id": "0cb016dc-b3ef-47e4-9a0f-107b88110f0c",
   "metadata": {},
   "outputs": [],
   "source": [
    "import re\n",
    "from os import listdir\n",
    "from os.path import isfile, join\n",
    "\n",
    "\n",
    "def get_db(dbname, query='''SELECT * FROM rent;'''): # 2021-09-26\n",
    "    \n",
    "    connection = sqlite3.connect(f'/home/javier/Desktop/TFM/Fraud_Detection_In_The_Irish_Rental_Market/data/{dbname}')\n",
    "    cursor = connection.cursor()\n",
    "    \n",
    "    daft = pd.read_sql_query(query, connection)\n",
    "    connection.close()\n",
    "    daft.drop(['contact', 'phone'], axis=1, inplace=True)\n",
    "    \n",
    "    rent = daft.copy() \n",
    "    \n",
    "    return rent\n",
    "\n",
    "\n",
    "def db_dict():\n",
    "    \n",
    "    data_path = 'data'\n",
    "    #data_pattern = r'\\d{4}-\\d{2}-\\d{2}.db'\n",
    "    daily_db = [f for f in listdir(data_path) if isfile(join(data_path, f)) \\\n",
    "            and re.match(r'\\d{4}-\\d{2}-\\d{2}.db', f)]\n",
    "    #daily_db\n",
    "    \n",
    "    db_dict = {}\n",
    "    for dbname in daily_db:\n",
    "        \n",
    "        db = get_db(dbname)\n",
    "        key = dbname.split('.')[0]    \n",
    "        if key in db_dict:\n",
    "            pass\n",
    "        else:\n",
    "            db_dict[key] = db\n",
    "            \n",
    "    return db_dict "
   ]
  },
  {
   "cell_type": "code",
   "execution_count": 10,
   "id": "ffee5b2d-7853-4249-aa77-7770ddf795d3",
   "metadata": {
    "tags": []
   },
   "outputs": [
    {
     "data": {
      "text/plain": [
       "dict_keys(['2021-09-29', '2021-10-04', '2021-10-01', '2021-09-28', '2021-09-27', '2021-10-03', '2021-09-30', '2021-10-02', '2021-09-26', '2021-09-25'])"
      ]
     },
     "execution_count": 10,
     "metadata": {},
     "output_type": "execute_result"
    }
   ],
   "source": [
    "test_db_dict = db_dict()\n",
    "test_db_dict.keys()"
   ]
  },
  {
   "cell_type": "code",
   "execution_count": 11,
   "id": "a21a3a4b-b1c4-40a7-8f1f-47ec77720bc7",
   "metadata": {},
   "outputs": [
    {
     "name": "stdout",
     "output_type": "stream",
     "text": [
      "2021-09-29\n",
      "2021-10-04\n",
      "2021-10-01\n",
      "2021-09-28\n",
      "2021-09-27\n",
      "2021-10-03\n",
      "2021-09-30\n",
      "2021-10-02\n",
      "2021-09-26\n",
      "2021-09-25\n"
     ]
    }
   ],
   "source": [
    "for key in test_db_dict.keys():\n",
    "    print(key)"
   ]
  },
  {
   "cell_type": "code",
   "execution_count": 14,
   "id": "a4980823-5e78-4510-86bc-ec136a297aca",
   "metadata": {},
   "outputs": [
    {
     "data": {
      "text/plain": [
       "['2021-09-25',\n",
       " '2021-09-26',\n",
       " '2021-09-27',\n",
       " '2021-09-28',\n",
       " '2021-09-29',\n",
       " '2021-09-30',\n",
       " '2021-10-01',\n",
       " '2021-10-02',\n",
       " '2021-10-03',\n",
       " '2021-10-04']"
      ]
     },
     "execution_count": 14,
     "metadata": {},
     "output_type": "execute_result"
    }
   ],
   "source": [
    "sorted(test_db_dict.keys()) #ordenarlas mas adelante"
   ]
  },
  {
   "cell_type": "markdown",
   "id": "1a592f31-e1de-4eef-93b4-057b15eaab7a",
   "metadata": {},
   "source": [
    "Ahora voy a empezar a analizar uno de los datasets enteros y el mes de septiembre. Usare el 2021-10-01 para tomar los datos."
   ]
  },
  {
   "cell_type": "code",
   "execution_count": null,
   "id": "ac8fa7cf-4e64-43f8-9d75-15302c5ae12b",
   "metadata": {},
   "outputs": [],
   "source": []
  }
 ],
 "metadata": {
  "kernelspec": {
   "display_name": "Python 3 (ipykernel)",
   "language": "python",
   "name": "python3"
  },
  "language_info": {
   "codemirror_mode": {
    "name": "ipython",
    "version": 3
   },
   "file_extension": ".py",
   "mimetype": "text/x-python",
   "name": "python",
   "nbconvert_exporter": "python",
   "pygments_lexer": "ipython3",
   "version": "3.7.11"
  }
 },
 "nbformat": 4,
 "nbformat_minor": 5
}
