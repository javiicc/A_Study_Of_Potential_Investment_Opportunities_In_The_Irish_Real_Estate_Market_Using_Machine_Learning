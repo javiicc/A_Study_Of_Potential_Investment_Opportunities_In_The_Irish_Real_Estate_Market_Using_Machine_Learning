{
 "cells": [
  {
   "cell_type": "code",
   "execution_count": 31,
   "id": "c9759f85",
   "metadata": {},
   "outputs": [],
   "source": [
    "from datetime import datetime"
   ]
  },
  {
   "cell_type": "code",
   "execution_count": 32,
   "id": "4ed7dfbc",
   "metadata": {},
   "outputs": [
    {
     "data": {
      "text/plain": [
       "datetime.datetime(2021, 9, 16, 11, 32, 35, 107178)"
      ]
     },
     "execution_count": 32,
     "metadata": {},
     "output_type": "execute_result"
    }
   ],
   "source": [
    "now = datetime.now()\n",
    "now"
   ]
  },
  {
   "cell_type": "code",
   "execution_count": 33,
   "id": "a6a93688",
   "metadata": {},
   "outputs": [
    {
     "name": "stdout",
     "output_type": "stream",
     "text": [
      "2021-9-16\n"
     ]
    }
   ],
   "source": [
    "print('{}-{}-{}'.format(now.year, now.month, now.day))"
   ]
  },
  {
   "cell_type": "code",
   "execution_count": 34,
   "id": "07dbb58d",
   "metadata": {},
   "outputs": [],
   "source": [
    "def scraping_date():\n",
    "    now = datetime.now()\n",
    "    return '{}-{}-{}'.format(now.year, now.month, now.day)"
   ]
  },
  {
   "cell_type": "code",
   "execution_count": 35,
   "id": "f9f21cb5",
   "metadata": {},
   "outputs": [
    {
     "name": "stdout",
     "output_type": "stream",
     "text": [
      "2021-9-16\n"
     ]
    }
   ],
   "source": [
    "print(scraping_date())"
   ]
  },
  {
   "cell_type": "code",
   "execution_count": null,
   "id": "b5dbfbb0",
   "metadata": {},
   "outputs": [],
   "source": []
  }
 ],
 "metadata": {
  "kernelspec": {
   "display_name": "Python 3",
   "language": "python",
   "name": "python3"
  },
  "language_info": {
   "codemirror_mode": {
    "name": "ipython",
    "version": 3
   },
   "file_extension": ".py",
   "mimetype": "text/x-python",
   "name": "python",
   "nbconvert_exporter": "python",
   "pygments_lexer": "ipython3",
   "version": "3.8.8"
  }
 },
 "nbformat": 4,
 "nbformat_minor": 5
}
