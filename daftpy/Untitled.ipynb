{
 "cells": [
  {
   "cell_type": "code",
   "execution_count": 3,
   "id": "26440d83-591c-4a49-b76c-7e876d056224",
   "metadata": {},
   "outputs": [],
   "source": [
    "import pandas as pd\n",
    "import numpy as np"
   ]
  },
  {
   "cell_type": "code",
   "execution_count": 8,
   "id": "92e6a4a2-2105-4ef4-a4bd-71a9e17f46cf",
   "metadata": {},
   "outputs": [
    {
     "data": {
      "text/plain": [
       "0    5\n",
       "1    3\n",
       "2    7\n",
       "3    4\n",
       "4    5\n",
       "5    6\n",
       "6    9\n",
       "7    9\n",
       "8    9\n",
       "dtype: int64"
      ]
     },
     "execution_count": 8,
     "metadata": {},
     "output_type": "execute_result"
    }
   ],
   "source": [
    "series = pd.Series([5,3,7,4,5,6,9,9,9])\n",
    "series"
   ]
  },
  {
   "cell_type": "code",
   "execution_count": 10,
   "id": "c9f3649b-f381-421d-bb18-f343eb1c0cfb",
   "metadata": {},
   "outputs": [
    {
     "name": "stdout",
     "output_type": "stream",
     "text": [
      "5\n",
      "3\n",
      "7\n",
      "4\n",
      "5\n",
      "6\n",
      "9\n",
      "9\n",
      "9\n"
     ]
    },
    {
     "data": {
      "text/plain": [
       "0    None\n",
       "1    None\n",
       "2    None\n",
       "3    None\n",
       "4    None\n",
       "5    None\n",
       "6    None\n",
       "7    None\n",
       "8    None\n",
       "dtype: object"
      ]
     },
     "execution_count": 10,
     "metadata": {},
     "output_type": "execute_result"
    }
   ],
   "source": [
    "series.apply(lambda x: print(x))"
   ]
  },
  {
   "cell_type": "code",
   "execution_count": null,
   "id": "9114e8d3-e498-4896-832d-943ed63b4a27",
   "metadata": {},
   "outputs": [],
   "source": []
  },
  {
   "cell_type": "code",
   "execution_count": null,
   "id": "f2555ed6-20d5-481a-aa49-2fe1c9d565cb",
   "metadata": {},
   "outputs": [],
   "source": []
  },
  {
   "cell_type": "code",
   "execution_count": null,
   "id": "b5acb90f-9c59-4b3c-b85c-f4de792cdbe8",
   "metadata": {},
   "outputs": [],
   "source": []
  },
  {
   "cell_type": "code",
   "execution_count": null,
   "id": "ffcdabdb-2092-4aae-961e-afc251b474c9",
   "metadata": {},
   "outputs": [],
   "source": []
  },
  {
   "cell_type": "code",
   "execution_count": null,
   "id": "ba60e4aa-387d-466d-aa98-a5d3f32558f9",
   "metadata": {},
   "outputs": [],
   "source": []
  },
  {
   "cell_type": "code",
   "execution_count": null,
   "id": "b23413ed-469e-40a2-94be-4ff275aa4299",
   "metadata": {},
   "outputs": [],
   "source": []
  },
  {
   "cell_type": "code",
   "execution_count": null,
   "id": "a18627a0-14e1-4ffd-ab74-ce2cd2f96a8d",
   "metadata": {},
   "outputs": [],
   "source": [
    "absolute_differences_from_mean = np.abs(series - np.mean(series))\n",
    "\n",
    "electricity_price_no_outliers = electricity_price.copy()\n",
    "electricity_price_no_outliers.loc[(series < 100) & (absolute_differences_from_mean > (np.std(series) * 3))] = np.nanmedian(series)"
   ]
  }
 ],
 "metadata": {
  "kernelspec": {
   "display_name": "Python 3",
   "language": "python",
   "name": "python3"
  },
  "language_info": {
   "codemirror_mode": {
    "name": "ipython",
    "version": 3
   },
   "file_extension": ".py",
   "mimetype": "text/x-python",
   "name": "python",
   "nbconvert_exporter": "python",
   "pygments_lexer": "ipython3",
   "version": "3.8.8"
  }
 },
 "nbformat": 4,
 "nbformat_minor": 5
}
