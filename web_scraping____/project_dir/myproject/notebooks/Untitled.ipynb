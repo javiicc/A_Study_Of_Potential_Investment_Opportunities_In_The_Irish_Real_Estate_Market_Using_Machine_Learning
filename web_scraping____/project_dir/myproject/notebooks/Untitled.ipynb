{
 "cells": [
  {
   "cell_type": "code",
   "execution_count": 1,
   "id": "cfb11bca",
   "metadata": {},
   "outputs": [],
   "source": [
    "lista = ['\\n',\n",
    " 'Single Bedroom  ',\n",
    " ' - Single Bedroom  ',\n",
    " ' - Single Bedroom  ',\n",
    " ' - Single Bedroom  ',\n",
    " ' available for 1 year            ',\n",
    " '\\n            ',\n",
    " '\\n',\n",
    " '\\n',\n",
    " '\\nLooking for ',\n",
    " '(House is ',\n",
    " ' owner occupied)',\n",
    " '\\n                ',\n",
    " '\\n\\n            ',\n",
    " '\\n    ',\n",
    " '\\n    \\n            ',\n",
    " '\\n    \\n                    ',\n",
    " '\\n\\n                        ',\n",
    " '\\n                        ',\n",
    " '\\n',\n",
    " '\\n                    ',\n",
    " '\\n            ']\n"
   ]
  },
  {
   "cell_type": "code",
   "execution_count": 2,
   "id": "f753e78d",
   "metadata": {},
   "outputs": [
    {
     "data": {
      "text/plain": [
       "['\\n',\n",
       " 'Single Bedroom  ',\n",
       " ' - Single Bedroom  ',\n",
       " ' - Single Bedroom  ',\n",
       " ' - Single Bedroom  ',\n",
       " ' available for 1 year            ',\n",
       " '\\n            ',\n",
       " '\\n',\n",
       " '\\n',\n",
       " '\\nLooking for ',\n",
       " '(House is ',\n",
       " ' owner occupied)',\n",
       " '\\n                ',\n",
       " '\\n\\n            ',\n",
       " '\\n    ',\n",
       " '\\n    \\n            ',\n",
       " '\\n    \\n                    ',\n",
       " '\\n\\n                        ',\n",
       " '\\n                        ',\n",
       " '\\n',\n",
       " '\\n                    ',\n",
       " '\\n            ']"
      ]
     },
     "execution_count": 2,
     "metadata": {},
     "output_type": "execute_result"
    }
   ],
   "source": [
    "lista"
   ]
  },
  {
   "cell_type": "code",
   "execution_count": 3,
   "id": "a3952b96",
   "metadata": {},
   "outputs": [
    {
     "name": "stdout",
     "output_type": "stream",
     "text": [
      "Single Bedroom  \n",
      " - Single Bedroom  \n",
      " - Single Bedroom  \n",
      " - Single Bedroom  \n"
     ]
    }
   ],
   "source": [
    "for i in lista:\n",
    "    if 'Bedroom' in i:\n",
    "        print(i)"
   ]
  },
  {
   "cell_type": "code",
   "execution_count": 8,
   "id": "a5a1a522",
   "metadata": {},
   "outputs": [
    {
     "data": {
      "text/plain": [
       "'Single Bedroom  '"
      ]
     },
     "execution_count": 8,
     "metadata": {},
     "output_type": "execute_result"
    }
   ],
   "source": [
    "next((x for x in lista if 'Bedroom' in x), 'none')"
   ]
  },
  {
   "cell_type": "code",
   "execution_count": 7,
   "id": "a4e07758",
   "metadata": {},
   "outputs": [
    {
     "data": {
      "text/plain": [
       "['Single Bedroom  ',\n",
       " ' - Single Bedroom  ',\n",
       " ' - Single Bedroom  ',\n",
       " ' - Single Bedroom  ']"
      ]
     },
     "execution_count": 7,
     "metadata": {},
     "output_type": "execute_result"
    }
   ],
   "source": [
    "[x for x in lista if 'Bedroom' in x]"
   ]
  },
  {
   "cell_type": "code",
   "execution_count": null,
   "id": "a1ce7ebf",
   "metadata": {},
   "outputs": [],
   "source": []
  },
  {
   "cell_type": "code",
   "execution_count": null,
   "id": "413c33fa",
   "metadata": {},
   "outputs": [],
   "source": []
  },
  {
   "cell_type": "code",
   "execution_count": null,
   "id": "8fb88309",
   "metadata": {},
   "outputs": [],
   "source": []
  },
  {
   "cell_type": "code",
   "execution_count": null,
   "id": "61ae7471",
   "metadata": {},
   "outputs": [],
   "source": []
  },
  {
   "cell_type": "code",
   "execution_count": null,
   "id": "2bf7f6b1",
   "metadata": {},
   "outputs": [],
   "source": []
  }
 ],
 "metadata": {
  "kernelspec": {
   "display_name": "Python 3",
   "language": "python",
   "name": "python3"
  },
  "language_info": {
   "codemirror_mode": {
    "name": "ipython",
    "version": 3
   },
   "file_extension": ".py",
   "mimetype": "text/x-python",
   "name": "python",
   "nbconvert_exporter": "python",
   "pygments_lexer": "ipython3",
   "version": "3.8.8"
  }
 },
 "nbformat": 4,
 "nbformat_minor": 5
}
