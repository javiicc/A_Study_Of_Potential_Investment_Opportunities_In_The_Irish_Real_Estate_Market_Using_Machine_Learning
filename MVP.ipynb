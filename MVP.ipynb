{
 "cells": [
  {
   "cell_type": "markdown",
   "id": "c0c6583f-8405-4a55-894f-414e650c72e6",
   "metadata": {},
   "source": [
    "# Minimum Viable Product"
   ]
  },
  {
   "cell_type": "code",
   "execution_count": 4,
   "id": "6b1007dc-b3a7-4b52-b3cb-e7260cdf8baf",
   "metadata": {},
   "outputs": [],
   "source": [
    "import numpy as np\n",
    "import pandas as pd\n",
    "import matplotlib.pyplot as plt\n",
    "\n",
    "\n",
    "from sklearn.model_selection import train_test_split\n",
    "from sklearn.linear_model import LinearRegression\n",
    "\n",
    "import joblib"
   ]
  },
  {
   "cell_type": "code",
   "execution_count": 3,
   "id": "458cf704-359d-4cef-9b6b-d7071c3be864",
   "metadata": {},
   "outputs": [],
   "source": [
    "pd.set_option('display.max_rows', None)\n",
    "pd.set_option('display.max_columns', None)\n",
    "plt.style.use('seaborn')"
   ]
  },
  {
   "cell_type": "code",
   "execution_count": 5,
   "id": "6b90327e-f46b-49ca-86a0-93a8fd8fdbb7",
   "metadata": {},
   "outputs": [
    {
     "data": {
      "text/plain": [
       "(10448, 14)"
      ]
     },
     "execution_count": 5,
     "metadata": {},
     "output_type": "execute_result"
    }
   ],
   "source": [
    "sale_data = pd.read_csv('data_available/sale_data_post_C&W.csv', sep=',')\n",
    "sale_data.shape"
   ]
  },
  {
   "cell_type": "code",
   "execution_count": 7,
   "id": "56c73224-f9ee-4646-98c1-e13782c520c4",
   "metadata": {},
   "outputs": [
    {
     "name": "stdout",
     "output_type": "stream",
     "text": [
      "<class 'pandas.core.frame.DataFrame'>\n",
      "RangeIndex: 10448 entries, 0 to 10447\n",
      "Data columns (total 14 columns):\n",
      " #   Column           Non-Null Count  Dtype  \n",
      "---  ------           --------------  -----  \n",
      " 0   daft_id          10448 non-null  int64  \n",
      " 1   url              10448 non-null  object \n",
      " 2   name             10448 non-null  object \n",
      " 3   price            10448 non-null  float64\n",
      " 4   sale_type        10448 non-null  object \n",
      " 5   floor_area       10448 non-null  int64  \n",
      " 6   entered_renewed  10448 non-null  object \n",
      " 7   views            10448 non-null  float64\n",
      " 8   type             10448 non-null  object \n",
      " 9   scraping_date    10448 non-null  object \n",
      " 10  latitude         10448 non-null  float64\n",
      " 11  longitude        10448 non-null  float64\n",
      " 12  bedroom          10448 non-null  int64  \n",
      " 13  bathroom         10448 non-null  int64  \n",
      "dtypes: float64(4), int64(4), object(6)\n",
      "memory usage: 1.1+ MB\n"
     ]
    }
   ],
   "source": [
    "sale_data.info()"
   ]
  },
  {
   "cell_type": "code",
   "execution_count": 9,
   "id": "34089cf2-660c-44c0-9f2c-77bf459993fd",
   "metadata": {},
   "outputs": [
    {
     "data": {
      "text/html": [
       "<div>\n",
       "<style scoped>\n",
       "    .dataframe tbody tr th:only-of-type {\n",
       "        vertical-align: middle;\n",
       "    }\n",
       "\n",
       "    .dataframe tbody tr th {\n",
       "        vertical-align: top;\n",
       "    }\n",
       "\n",
       "    .dataframe thead th {\n",
       "        text-align: right;\n",
       "    }\n",
       "</style>\n",
       "<table border=\"1\" class=\"dataframe\">\n",
       "  <thead>\n",
       "    <tr style=\"text-align: right;\">\n",
       "      <th></th>\n",
       "      <th>daft_id</th>\n",
       "      <th>url</th>\n",
       "      <th>name</th>\n",
       "      <th>price</th>\n",
       "      <th>sale_type</th>\n",
       "      <th>floor_area</th>\n",
       "      <th>entered_renewed</th>\n",
       "      <th>views</th>\n",
       "      <th>type</th>\n",
       "      <th>scraping_date</th>\n",
       "      <th>latitude</th>\n",
       "      <th>longitude</th>\n",
       "      <th>bedroom</th>\n",
       "      <th>bathroom</th>\n",
       "    </tr>\n",
       "  </thead>\n",
       "  <tbody>\n",
       "    <tr>\n",
       "      <th>6480</th>\n",
       "      <td>15682433</td>\n",
       "      <td>https://www.daft.ie/for-sale/detached-house-to...</td>\n",
       "      <td>Townagh, Ballinamuck, Co. Longford</td>\n",
       "      <td>65000.0</td>\n",
       "      <td>For Sale by Private Treaty</td>\n",
       "      <td>48</td>\n",
       "      <td>2021-09-26</td>\n",
       "      <td>7153.0</td>\n",
       "      <td>buy</td>\n",
       "      <td>2021-09-27</td>\n",
       "      <td>53.853087</td>\n",
       "      <td>-7.691479</td>\n",
       "      <td>2</td>\n",
       "      <td>1</td>\n",
       "    </tr>\n",
       "  </tbody>\n",
       "</table>\n",
       "</div>"
      ],
      "text/plain": [
       "       daft_id                                                url  \\\n",
       "6480  15682433  https://www.daft.ie/for-sale/detached-house-to...   \n",
       "\n",
       "                                    name    price                   sale_type  \\\n",
       "6480  Townagh, Ballinamuck, Co. Longford  65000.0  For Sale by Private Treaty   \n",
       "\n",
       "      floor_area entered_renewed   views type scraping_date   latitude  \\\n",
       "6480          48      2021-09-26  7153.0  buy    2021-09-27  53.853087   \n",
       "\n",
       "      longitude  bedroom  bathroom  \n",
       "6480  -7.691479        2         1  "
      ]
     },
     "execution_count": 9,
     "metadata": {},
     "output_type": "execute_result"
    }
   ],
   "source": [
    "sale_data.sample()"
   ]
  },
  {
   "cell_type": "code",
   "execution_count": null,
   "id": "2cbd3744-ab75-495c-99cc-52d47afa8305",
   "metadata": {},
   "outputs": [],
   "source": []
  },
  {
   "cell_type": "code",
   "execution_count": null,
   "id": "99d0f6c9-3127-4fe7-a9c0-6ca4b4c0d8e1",
   "metadata": {},
   "outputs": [],
   "source": []
  },
  {
   "cell_type": "code",
   "execution_count": 8,
   "id": "5e72731b-24e0-4021-886b-739ffd451aff",
   "metadata": {},
   "outputs": [
    {
     "data": {
      "text/plain": [
       "(10448,)"
      ]
     },
     "execution_count": 8,
     "metadata": {},
     "output_type": "execute_result"
    }
   ],
   "source": [
    "y = sale_data['price'].copy()\n",
    "y.shape"
   ]
  },
  {
   "cell_type": "code",
   "execution_count": 10,
   "id": "edd4e5fe-bc66-46e8-b79a-3f8c9462a793",
   "metadata": {},
   "outputs": [
    {
     "name": "stdout",
     "output_type": "stream",
     "text": [
      "(10448, 14)\n",
      "(10448, 1)\n"
     ]
    }
   ],
   "source": [
    "print(sale_data.shape)\n",
    "X = sale_data[['floor_area']]\n",
    "print(X.shape)"
   ]
  },
  {
   "cell_type": "code",
   "execution_count": 12,
   "id": "b22384e3-26b2-4aa0-b3e8-b674a4eba24a",
   "metadata": {},
   "outputs": [
    {
     "data": {
      "text/plain": [
       "((8880, 1), (1568, 1), (8880,), (1568,))"
      ]
     },
     "execution_count": 12,
     "metadata": {},
     "output_type": "execute_result"
    }
   ],
   "source": [
    "X_train, X_test, y_train, y_test = train_test_split(X, y, test_size=.15)\n",
    "X_train.shape, X_test.shape, y_train.shape, y_test.shape"
   ]
  },
  {
   "cell_type": "code",
   "execution_count": 13,
   "id": "eb498a73-09fc-431f-b8d2-b49477142ab3",
   "metadata": {},
   "outputs": [
    {
     "data": {
      "text/plain": [
       "(293856.62213354727, array([1011.26309927]))"
      ]
     },
     "execution_count": 13,
     "metadata": {},
     "output_type": "execute_result"
    }
   ],
   "source": [
    "lr = LinearRegression().fit(X_train, y_train)\n",
    "lr.intercept_, lr.coef_"
   ]
  },
  {
   "cell_type": "code",
   "execution_count": 15,
   "id": "f12296ba-544c-419f-aff6-f845469e24ae",
   "metadata": {},
   "outputs": [
    {
     "data": {
      "text/plain": [
       "array([435433.45603134, 374757.67007514, 494086.715789  , ...,\n",
       "       514311.9777744 , 359588.72358609, 416219.45714521])"
      ]
     },
     "execution_count": 15,
     "metadata": {},
     "output_type": "execute_result"
    }
   ],
   "source": [
    "lr.predict(X_test)"
   ]
  },
  {
   "cell_type": "code",
   "execution_count": 18,
   "id": "cfd202cc-c7a0-4b63-8146-1d2b2ada7d08",
   "metadata": {
    "tags": []
   },
   "outputs": [
    {
     "data": {
      "text/plain": [
       "1568"
      ]
     },
     "execution_count": 18,
     "metadata": {},
     "output_type": "execute_result"
    }
   ],
   "source": [
    "len(lr.predict(X_test))"
   ]
  },
  {
   "cell_type": "code",
   "execution_count": 16,
   "id": "3680b42a-3efe-4fa1-ab1f-2f2a9e408a2c",
   "metadata": {},
   "outputs": [
    {
     "data": {
      "text/plain": [
       "0.16141969205410356"
      ]
     },
     "execution_count": 16,
     "metadata": {},
     "output_type": "execute_result"
    }
   ],
   "source": [
    "# coeficiente de determinacion, R^2\n",
    "lr.score(X_test, y_test) # Va bien como metrica"
   ]
  },
  {
   "cell_type": "code",
   "execution_count": 17,
   "id": "83dc0a0a-93f2-4849-bb20-c93a35d494ff",
   "metadata": {},
   "outputs": [
    {
     "data": {
      "text/plain": [
       "0.12139168021094882"
      ]
     },
     "execution_count": 17,
     "metadata": {},
     "output_type": "execute_result"
    }
   ],
   "source": [
    "lr.score(X_train, y_train)"
   ]
  },
  {
   "cell_type": "code",
   "execution_count": null,
   "id": "10603bf2-62c3-42db-9da0-1dd708cec92b",
   "metadata": {},
   "outputs": [],
   "source": []
  },
  {
   "cell_type": "code",
   "execution_count": 19,
   "id": "b11e3ce6-34e6-4756-b99c-c55405f001f3",
   "metadata": {},
   "outputs": [
    {
     "data": {
      "text/plain": [
       "['models/minimum_viable_model.plk']"
      ]
     },
     "execution_count": 19,
     "metadata": {},
     "output_type": "execute_result"
    }
   ],
   "source": [
    "joblib.dump(lr, 'models/minimum_viable_model.plk')\n",
    "# esto es genial <3"
   ]
  },
  {
   "cell_type": "code",
   "execution_count": 20,
   "id": "e207877e-a264-4e2e-b787-e7a2039602c0",
   "metadata": {},
   "outputs": [],
   "source": [
    "testing_load = joblib.load('models/minimum_viable_model.plk')"
   ]
  },
  {
   "cell_type": "code",
   "execution_count": 21,
   "id": "bc80b8ed-0d04-493d-87b9-a7cefe77c5f1",
   "metadata": {},
   "outputs": [
    {
     "data": {
      "text/plain": [
       "LinearRegression()"
      ]
     },
     "execution_count": 21,
     "metadata": {},
     "output_type": "execute_result"
    }
   ],
   "source": [
    "testing_load"
   ]
  },
  {
   "cell_type": "code",
   "execution_count": 22,
   "id": "487e7a16-3f23-41b5-b9b5-45957d2b8740",
   "metadata": {},
   "outputs": [
    {
     "data": {
      "text/plain": [
       "(293856.62213354727, array([1011.26309927]))"
      ]
     },
     "execution_count": 22,
     "metadata": {},
     "output_type": "execute_result"
    }
   ],
   "source": [
    "testing_load.intercept_, testing_load.coef_"
   ]
  },
  {
   "cell_type": "code",
   "execution_count": null,
   "id": "e3bb54dd-27ec-49e1-80c7-52da7a1cb5de",
   "metadata": {},
   "outputs": [],
   "source": []
  }
 ],
 "metadata": {
  "kernelspec": {
   "display_name": "Python 3 (ipykernel)",
   "language": "python",
   "name": "python3"
  },
  "language_info": {
   "codemirror_mode": {
    "name": "ipython",
    "version": 3
   },
   "file_extension": ".py",
   "mimetype": "text/x-python",
   "name": "python",
   "nbconvert_exporter": "python",
   "pygments_lexer": "ipython3",
   "version": "3.7.11"
  }
 },
 "nbformat": 4,
 "nbformat_minor": 5
}
