{
 "cells": [
  {
   "cell_type": "code",
   "execution_count": 1,
   "id": "5a11c0d1-16f5-4416-8879-2d81ad436054",
   "metadata": {},
   "outputs": [],
   "source": [
    "import numpy as np\n",
    "import pandas as pd\n",
    "import matplotlib.pyplot as plt\n",
    "\n",
    "from sklearn.pipeline import Pipeline\n",
    "from sklearn.preprocessing import OneHotEncoder\n",
    "from sklearn.compose import ColumnTransformer\n",
    "from sklearn import set_config"
   ]
  },
  {
   "cell_type": "code",
   "execution_count": 2,
   "id": "86df92aa-4168-452e-a8a5-5cc05cecf7aa",
   "metadata": {},
   "outputs": [],
   "source": [
    "pd.set_option('display.max_rows', None)\n",
    "pd.set_option('display.max_columns', None)\n",
    "plt.style.use('seaborn')"
   ]
  },
  {
   "cell_type": "markdown",
   "id": "2fad46d3-6808-4285-9df9-95b19f0c6e35",
   "metadata": {},
   "source": [
    "# Load Data"
   ]
  },
  {
   "cell_type": "code",
   "execution_count": 4,
   "id": "7a18c831-0f6f-46e4-aa2d-ba3015cd73ad",
   "metadata": {},
   "outputs": [
    {
     "data": {
      "text/plain": [
       "(7387, 15)"
      ]
     },
     "execution_count": 4,
     "metadata": {},
     "output_type": "execute_result"
    }
   ],
   "source": [
    "sale_data = pd.read_csv('data_available/sale_data_post_out.csv', sep=',')\n",
    "sale_data.shape"
   ]
  },
  {
   "cell_type": "code",
   "execution_count": 5,
   "id": "17db483b-253c-42cf-82a9-f79918f80922",
   "metadata": {},
   "outputs": [
    {
     "name": "stdout",
     "output_type": "stream",
     "text": [
      "<class 'pandas.core.frame.DataFrame'>\n",
      "RangeIndex: 7387 entries, 0 to 7386\n",
      "Data columns (total 15 columns):\n",
      " #   Column           Non-Null Count  Dtype  \n",
      "---  ------           --------------  -----  \n",
      " 0   daft_id          7387 non-null   int64  \n",
      " 1   url              7387 non-null   object \n",
      " 2   name             7387 non-null   object \n",
      " 3   price            7387 non-null   float64\n",
      " 4   sale_type        7387 non-null   object \n",
      " 5   floor_area       7387 non-null   int64  \n",
      " 6   entered_renewed  7387 non-null   object \n",
      " 7   views            7387 non-null   float64\n",
      " 8   type_house       7387 non-null   object \n",
      " 9   type             7387 non-null   object \n",
      " 10  scraping_date    7387 non-null   object \n",
      " 11  latitude         7387 non-null   float64\n",
      " 12  longitude        7387 non-null   float64\n",
      " 13  bedroom          7387 non-null   int64  \n",
      " 14  bathroom         7387 non-null   int64  \n",
      "dtypes: float64(4), int64(4), object(7)\n",
      "memory usage: 865.8+ KB\n"
     ]
    }
   ],
   "source": [
    "sale_data.info()"
   ]
  },
  {
   "cell_type": "code",
   "execution_count": 6,
   "id": "2805ae23-6f38-4d70-93b6-dbb8eb8b9fa0",
   "metadata": {},
   "outputs": [
    {
     "data": {
      "text/html": [
       "<div>\n",
       "<style scoped>\n",
       "    .dataframe tbody tr th:only-of-type {\n",
       "        vertical-align: middle;\n",
       "    }\n",
       "\n",
       "    .dataframe tbody tr th {\n",
       "        vertical-align: top;\n",
       "    }\n",
       "\n",
       "    .dataframe thead th {\n",
       "        text-align: right;\n",
       "    }\n",
       "</style>\n",
       "<table border=\"1\" class=\"dataframe\">\n",
       "  <thead>\n",
       "    <tr style=\"text-align: right;\">\n",
       "      <th></th>\n",
       "      <th>daft_id</th>\n",
       "      <th>url</th>\n",
       "      <th>name</th>\n",
       "      <th>price</th>\n",
       "      <th>sale_type</th>\n",
       "      <th>floor_area</th>\n",
       "      <th>entered_renewed</th>\n",
       "      <th>views</th>\n",
       "      <th>type_house</th>\n",
       "      <th>type</th>\n",
       "      <th>scraping_date</th>\n",
       "      <th>latitude</th>\n",
       "      <th>longitude</th>\n",
       "      <th>bedroom</th>\n",
       "      <th>bathroom</th>\n",
       "    </tr>\n",
       "  </thead>\n",
       "  <tbody>\n",
       "    <tr>\n",
       "      <th>3666</th>\n",
       "      <td>15707860</td>\n",
       "      <td>https://www.daft.ie/for-sale/semi-detached-hou...</td>\n",
       "      <td>61 Fán Glas, Kilmeadan, Co. Waterford</td>\n",
       "      <td>250000.0</td>\n",
       "      <td>For Sale by Private Treaty</td>\n",
       "      <td>107</td>\n",
       "      <td>2021-09-24</td>\n",
       "      <td>5902.0</td>\n",
       "      <td>house</td>\n",
       "      <td>buy</td>\n",
       "      <td>2021-10-19</td>\n",
       "      <td>52.229988</td>\n",
       "      <td>-7.234722</td>\n",
       "      <td>3</td>\n",
       "      <td>3</td>\n",
       "    </tr>\n",
       "  </tbody>\n",
       "</table>\n",
       "</div>"
      ],
      "text/plain": [
       "       daft_id                                                url  \\\n",
       "3666  15707860  https://www.daft.ie/for-sale/semi-detached-hou...   \n",
       "\n",
       "                                       name     price  \\\n",
       "3666  61 Fán Glas, Kilmeadan, Co. Waterford  250000.0   \n",
       "\n",
       "                       sale_type  floor_area entered_renewed   views  \\\n",
       "3666  For Sale by Private Treaty         107      2021-09-24  5902.0   \n",
       "\n",
       "     type_house type scraping_date   latitude  longitude  bedroom  bathroom  \n",
       "3666      house  buy    2021-10-19  52.229988  -7.234722        3         3  "
      ]
     },
     "execution_count": 6,
     "metadata": {},
     "output_type": "execute_result"
    }
   ],
   "source": [
    "sale_data.sample()"
   ]
  },
  {
   "cell_type": "markdown",
   "id": "743c5a50-c3e9-43dc-a663-023e41b745ad",
   "metadata": {},
   "source": [
    "-----------"
   ]
  },
  {
   "cell_type": "markdown",
   "id": "81cf261c-0a73-491a-80ea-c2c31aefd653",
   "metadata": {},
   "source": [
    "-----"
   ]
  },
  {
   "cell_type": "raw",
   "id": "f0e049e3-38e1-4a9c-8d92-ae256b10a9bb",
   "metadata": {},
   "source": [
    "y = sale_data['price'].copy()\n",
    "y.shape"
   ]
  },
  {
   "cell_type": "raw",
   "id": "24e2dd0c-18c2-4a6b-a00b-26ee41570daf",
   "metadata": {},
   "source": [
    "print(sale_data.shape)\n",
    "X = sale_data[['floor_area', 'bedroom', 'bathroom']]\n",
    "print(X.shape)"
   ]
  },
  {
   "cell_type": "markdown",
   "id": "16fe7146-8fab-413c-8e6d-176b38c0bf13",
   "metadata": {},
   "source": [
    "-------"
   ]
  },
  {
   "cell_type": "markdown",
   "id": "f2c15685-324b-454c-baf9-61330119dc4e",
   "metadata": {},
   "source": [
    "# Split Data"
   ]
  },
  {
   "cell_type": "code",
   "execution_count": 9,
   "id": "8a0ea01b-11e5-4d6d-9382-6992094404bb",
   "metadata": {},
   "outputs": [],
   "source": [
    "def split_train_test(df, test_ratio=.2):\n",
    "    shuffled_indices = np.random.permutation(len(df))\n",
    "    test_set_size = int(len(df) * test_ratio)\n",
    "    test_indices = shuffled_indices[:test_set_size]\n",
    "    train_indices = shuffled_indices[test_set_size:]\n",
    "    return df.iloc[train_indices], df.iloc[test_indices]"
   ]
  },
  {
   "cell_type": "code",
   "execution_count": 11,
   "id": "c711b963-b497-48ee-b48c-74949d2e5455",
   "metadata": {},
   "outputs": [
    {
     "name": "stdout",
     "output_type": "stream",
     "text": [
      "(5910, 15) (1477, 15)\n"
     ]
    }
   ],
   "source": [
    "train_set, test_set = split_train_test(sale_data, .2)\n",
    "print(train_set.shape, test_set.shape)"
   ]
  },
  {
   "cell_type": "markdown",
   "id": "4f354020-981d-40f6-a699-05ed8adf382a",
   "metadata": {},
   "source": [
    "Estos los guardaria en dos archivos"
   ]
  },
  {
   "cell_type": "markdown",
   "id": "166dba85-cc64-4855-8fef-9b62239937ea",
   "metadata": {},
   "source": [
    "-----------------"
   ]
  },
  {
   "cell_type": "code",
   "execution_count": 12,
   "id": "363558d7-b2bb-4d25-80a0-4538b9aaafd8",
   "metadata": {},
   "outputs": [
    {
     "data": {
      "text/plain": [
       "(5910,)"
      ]
     },
     "execution_count": 12,
     "metadata": {},
     "output_type": "execute_result"
    }
   ],
   "source": [
    "y_train = train_set['price'].copy()\n",
    "y.shape"
   ]
  },
  {
   "cell_type": "code",
   "execution_count": 14,
   "id": "bf26a9d5-086d-4c9f-ab51-257d5e4d83b8",
   "metadata": {},
   "outputs": [
    {
     "name": "stdout",
     "output_type": "stream",
     "text": [
      "(5910, 15)\n",
      "(5910, 3)\n"
     ]
    }
   ],
   "source": [
    "print(train_set.shape)\n",
    "X_train = train_set[['floor_area', 'bedroom', 'bathroom']]\n",
    "print(X_train.shape)"
   ]
  },
  {
   "cell_type": "code",
   "execution_count": 26,
   "id": "10b00b5d-6ab3-4aa5-bf58-1f494b831f06",
   "metadata": {},
   "outputs": [],
   "source": [
    "def split_x_y(train_set, test_set, features, target='price'):\n",
    "    y_train = train_set[target].copy()\n",
    "    X_train = train_set[features].copy()\n",
    "    y_test = test_set[target].copy()\n",
    "    X_test = test_set[features].copy()\n",
    "    print('X_train:', X_train.shape, '\\n' + \n",
    "          'X_test:', X_test.shape, '\\n' + \n",
    "          'y_train:', y_train.shape, '\\n' + \n",
    "          'y_test:', y_test.shape, '\\n')\n",
    "    return X_train, X_test, y_train, y_test"
   ]
  },
  {
   "cell_type": "code",
   "execution_count": 27,
   "id": "5477efcd-4963-4888-8f9b-c8e6a8c88a00",
   "metadata": {},
   "outputs": [
    {
     "name": "stdout",
     "output_type": "stream",
     "text": [
      "X_train: (5910, 3) \n",
      "X_test: (1477, 3) \n",
      "y_train: (5910,) \n",
      "y_test: (1477,) \n",
      "\n"
     ]
    }
   ],
   "source": [
    "features = ['floor_area', 'bedroom', 'bathroom']\n",
    "\n",
    "X_train, X_test, y_train, y_test = split_x_y(train_set, test_set, features, target='price')"
   ]
  },
  {
   "cell_type": "code",
   "execution_count": 28,
   "id": "aaef107b-297a-43ca-a95d-2a43b72e73cf",
   "metadata": {},
   "outputs": [
    {
     "data": {
      "text/plain": [
       "Index(['floor_area', 'bedroom', 'bathroom'], dtype='object')"
      ]
     },
     "execution_count": 28,
     "metadata": {},
     "output_type": "execute_result"
    }
   ],
   "source": [
    "X_train.columns"
   ]
  },
  {
   "cell_type": "markdown",
   "id": "ae48b396-4b15-4b7f-9178-428540f93ed1",
   "metadata": {},
   "source": [
    "# Transform Data"
   ]
  },
  {
   "cell_type": "markdown",
   "id": "233f57c8-dbfa-45c1-97f4-3a7205530451",
   "metadata": {
    "tags": []
   },
   "source": [
    "## Transformation Pipeline"
   ]
  },
  {
   "cell_type": "code",
   "execution_count": 37,
   "id": "c22a4d29-14d3-488a-a996-393a6af2ec72",
   "metadata": {},
   "outputs": [],
   "source": [
    "from sklearn.pipeline import Pipeline\n",
    "from sklearn.preprocessing import StandardScaler, OneHotEncoder\n"
   ]
  },
  {
   "cell_type": "code",
   "execution_count": 38,
   "id": "e703bae7-6e12-47c5-a613-1ccb8a76d794",
   "metadata": {},
   "outputs": [],
   "source": [
    "num_pipe = Pipeline([\n",
    "    ('std_scaler', StandardScaler()),\n",
    "    ])"
   ]
  },
  {
   "cell_type": "code",
   "execution_count": 39,
   "id": "ec980e43-d4f8-4500-9973-4ea27e69451b",
   "metadata": {},
   "outputs": [],
   "source": [
    "cat_pipe = Pipeline([\n",
    "    ('one_hot_encoder', OneHotEncoder()),\n",
    "    ])"
   ]
  },
  {
   "cell_type": "code",
   "execution_count": 40,
   "id": "efe042be-bf83-4fcf-afc2-527f77c74824",
   "metadata": {},
   "outputs": [],
   "source": [
    "num_features = ['floor_area', 'bedroom', 'bathroom']"
   ]
  },
  {
   "cell_type": "code",
   "execution_count": 41,
   "id": "e22621df-d548-43b6-87c7-7589a901dceb",
   "metadata": {},
   "outputs": [],
   "source": [
    "preprocessor = ColumnTransformer([\n",
    "    ('num', num_pipe, num_features),  # ['place']\n",
    "    ])"
   ]
  },
  {
   "cell_type": "markdown",
   "id": "3470ca87-7f45-4e16-82ac-fd43bcf63f1f",
   "metadata": {},
   "source": [
    "## Linear Regression"
   ]
  },
  {
   "cell_type": "code",
   "execution_count": 43,
   "id": "d9cfaebf-6cce-4e94-af94-537a916d71d7",
   "metadata": {},
   "outputs": [],
   "source": [
    "from sklearn.linear_model import LinearRegression"
   ]
  },
  {
   "cell_type": "code",
   "execution_count": 44,
   "id": "a7c5ccf7-0466-49d9-866b-978577f623a2",
   "metadata": {},
   "outputs": [],
   "source": [
    "lr = Pipeline(steps=[('preprocessor', preprocessor),\n",
    "                     ('regressor', LinearRegression())\n",
    "                    ])"
   ]
  },
  {
   "cell_type": "code",
   "execution_count": 45,
   "id": "41879fc0-faba-46e4-b291-115a5e990f0d",
   "metadata": {},
   "outputs": [
    {
     "data": {
      "text/plain": [
       "Pipeline(steps=[('preprocessor',\n",
       "                 ColumnTransformer(transformers=[('num',\n",
       "                                                  Pipeline(steps=[('std_scaler',\n",
       "                                                                   StandardScaler())]),\n",
       "                                                  ['floor_area', 'bedroom',\n",
       "                                                   'bathroom'])])),\n",
       "                ('regressor', LinearRegression())])"
      ]
     },
     "execution_count": 45,
     "metadata": {},
     "output_type": "execute_result"
    }
   ],
   "source": [
    "lr.fit(X_train, y_train)"
   ]
  },
  {
   "cell_type": "code",
   "execution_count": 46,
   "id": "e0200f21-2e40-4507-93ac-10e6c8b8d194",
   "metadata": {},
   "outputs": [],
   "source": [
    "y_pred = lr.predict(X_test)"
   ]
  },
  {
   "cell_type": "code",
   "execution_count": 47,
   "id": "e980c659-75e4-402e-8e71-0e09f1d37662",
   "metadata": {},
   "outputs": [],
   "source": [
    "def metrics_regression(y_test, y_pred, squared=False):\n",
    "    \n",
    "    r2_score = metrics.r2_score(y_test, y_pred)\n",
    "    mae = metrics.mean_absolute_error(y_test, y_pred)\n",
    "    mape = metrics.mean_absolute_percentage_error(y_test, y_pred)\n",
    "    mse = metrics.mean_squared_error(y_test, y_pred)\n",
    "    rmse = metrics.mean_squared_error(y_test, y_pred, squared=squared)\n",
    "    \n",
    "    print(f'R²: {r2_score}')\n",
    "    print(f'MAE: {mae}')\n",
    "    print(f'MAPE: {mape}')\n",
    "    #print(f'MSE: {mse}')\n",
    "    print(f'RMSE: {rmse}')"
   ]
  },
  {
   "cell_type": "code",
   "execution_count": 49,
   "id": "ee2b9201-12a3-4d9d-9622-168f6409b016",
   "metadata": {},
   "outputs": [
    {
     "name": "stdout",
     "output_type": "stream",
     "text": [
      "R²: 0.2542097152285159\n",
      "MAE: 166846.74095583672\n",
      "MAPE: 0.5284714299128194\n",
      "RMSE: 255348.63731458155\n"
     ]
    }
   ],
   "source": [
    "from sklearn import metrics\n",
    "\n",
    "metrics_regression(y_test=y_test, y_pred=y_pred, squared=False)"
   ]
  },
  {
   "cell_type": "code",
   "execution_count": 50,
   "id": "7290d26e-2f6b-4b8f-a299-752e2bddb0bd",
   "metadata": {},
   "outputs": [],
   "source": [
    "def cross_validate_custom(estimator, scoring_dict, X_train, y_train, cv=10, return_train_score=False):\n",
    "    from sklearn.model_selection import cross_validate\n",
    "    estimator = estimator\n",
    "    scoring_dict = scoring_dict\n",
    "\n",
    "    scores = cross_validate(estimator, X=X_train, y=y_train, scoring=scoring_dict, cv=cv, \n",
    "                            return_train_score=return_train_score)\n",
    "    print(scores.keys())\n",
    "    return scores"
   ]
  },
  {
   "cell_type": "code",
   "execution_count": 51,
   "id": "bea21505-14e4-477e-a005-89989c0e1217",
   "metadata": {},
   "outputs": [],
   "source": [
    "def scores_statistics(estimator, scoring_dict, X_train, y_train, cv=10, return_train_score=False, time_info=False):\n",
    "    \n",
    "    scores = cross_validate(estimator, X=X_train, y=y_train, scoring=scoring_dict, cv=cv, \n",
    "                            return_train_score=return_train_score)\n",
    "    \n",
    "    if time_info:\n",
    "        fit_time_mean = np.mean(scores['fit_time'])\n",
    "        fit_time_std = np.std(scores['fit_time'])\n",
    "        score_time_mean = np.mean(scores['score_time'])\n",
    "        score_time_std = np.std(scores['score_time'])\n",
    "        #time_list = []    \n",
    "        print('fit_time mean:', fit_time_mean)\n",
    "        print('fit_time std:', fit_time_std)\n",
    "        print('score_time mean:', score_time_mea)\n",
    "        print('score_time std:', score_time_std)\n",
    "    \n",
    "    \n",
    "    for key in scoring_dict:\n",
    "        try:\n",
    "            mean = np.mean(scores['test_' + key])\n",
    "            std = np.std(scores['test_' + key])\n",
    "            print(key, 'mean:', mean)\n",
    "            print(key, 'std:', std, '\\n')\n",
    "        except:\n",
    "            continue\n",
    "    return scores"
   ]
  },
  {
   "cell_type": "code",
   "execution_count": 53,
   "id": "44fc1e8a-2788-41be-af41-078c062c2223",
   "metadata": {},
   "outputs": [
    {
     "name": "stdout",
     "output_type": "stream",
     "text": [
      "r2 mean: 0.29015336342152354\n",
      "r2 std: 0.009215464095573198 \n",
      "\n",
      "MAE mean: -167712.81995603567\n",
      "MAE std: 4528.833112565178 \n",
      "\n",
      "MAPE mean: -0.536058383358235\n",
      "MAPE std: 0.016745884098919032 \n",
      "\n",
      "RMSE mean: -258771.62969879303\n",
      "RMSE std: 10770.034783947762 \n",
      "\n"
     ]
    },
    {
     "data": {
      "text/plain": [
       "{'fit_time': array([0.0052197 , 0.00537157, 0.00509667, 0.00530553, 0.00535297]),\n",
       " 'score_time': array([0.00369596, 0.00329375, 0.0032599 , 0.00376558, 0.00315285]),\n",
       " 'test_r2': array([0.27794005, 0.28555833, 0.29736269, 0.28611264, 0.30379311]),\n",
       " 'test_MAE': array([-175624.64366511, -167044.72492564, -164488.1871388 ,\n",
       "        -162460.31667128, -168946.22737934]),\n",
       " 'test_MAPE': array([-0.54578378, -0.56332638, -0.5260799 , -0.51549673, -0.52960513]),\n",
       " 'test_RMSE': array([-275243.84501202, -259215.61307947, -258637.00188986,\n",
       "        -241226.37643073, -259535.31208189])}"
      ]
     },
     "execution_count": 53,
     "metadata": {},
     "output_type": "execute_result"
    }
   ],
   "source": [
    "from sklearn.model_selection import cross_validate\n",
    "\n",
    "scoring = {'r2': 'r2', \n",
    "           'MAE': 'neg_mean_absolute_error', \n",
    "           'MAPE': 'neg_mean_absolute_percentage_error', \n",
    "           'RMSE': 'neg_root_mean_squared_error'}\n",
    "\n",
    "lr = Pipeline(steps=[('preprocessor', preprocessor),\n",
    "                     ('regressor', LinearRegression())\n",
    "                    ])\n",
    "\n",
    "scores_statistics(estimator=lr, scoring_dict=scoring, \n",
    "                  X_train=X_train, y_train=y_train, cv=5, return_train_score=False)"
   ]
  },
  {
   "cell_type": "code",
   "execution_count": null,
   "id": "2c0a388a-cc7f-48e7-9228-7ccf8d18c38e",
   "metadata": {},
   "outputs": [],
   "source": []
  }
 ],
 "metadata": {
  "kernelspec": {
   "display_name": "Python 3 (ipykernel)",
   "language": "python",
   "name": "python3"
  },
  "language_info": {
   "codemirror_mode": {
    "name": "ipython",
    "version": 3
   },
   "file_extension": ".py",
   "mimetype": "text/x-python",
   "name": "python",
   "nbconvert_exporter": "python",
   "pygments_lexer": "ipython3",
   "version": "3.7.11"
  }
 },
 "nbformat": 4,
 "nbformat_minor": 5
}
