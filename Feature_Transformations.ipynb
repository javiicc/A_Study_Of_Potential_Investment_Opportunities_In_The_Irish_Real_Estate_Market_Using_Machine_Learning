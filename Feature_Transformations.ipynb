{
 "cells": [
  {
   "cell_type": "code",
   "execution_count": 1,
   "id": "5a11c0d1-16f5-4416-8879-2d81ad436054",
   "metadata": {},
   "outputs": [],
   "source": [
    "import numpy as np\n",
    "import pandas as pd\n",
    "import matplotlib.pyplot as plt\n",
    "\n",
    "from sklearn.pipeline import Pipeline\n",
    "from sklearn.preprocessing import OneHotEncoder\n",
    "from sklearn.compose import ColumnTransformer\n",
    "from sklearn import set_config"
   ]
  },
  {
   "cell_type": "code",
   "execution_count": 2,
   "id": "86df92aa-4168-452e-a8a5-5cc05cecf7aa",
   "metadata": {},
   "outputs": [],
   "source": [
    "pd.set_option('display.max_rows', None)\n",
    "pd.set_option('display.max_columns', None)\n",
    "plt.style.use('seaborn')"
   ]
  },
  {
   "cell_type": "markdown",
   "id": "2fad46d3-6808-4285-9df9-95b19f0c6e35",
   "metadata": {},
   "source": [
    "# Load Data"
   ]
  },
  {
   "cell_type": "code",
   "execution_count": 3,
   "id": "7a18c831-0f6f-46e4-aa2d-ba3015cd73ad",
   "metadata": {},
   "outputs": [
    {
     "data": {
      "text/plain": [
       "(7387, 15)"
      ]
     },
     "execution_count": 3,
     "metadata": {},
     "output_type": "execute_result"
    }
   ],
   "source": [
    "sale_data = pd.read_csv('data_available/sale_data_post_out.csv', sep=',')\n",
    "sale_data.shape"
   ]
  },
  {
   "cell_type": "code",
   "execution_count": 4,
   "id": "17db483b-253c-42cf-82a9-f79918f80922",
   "metadata": {},
   "outputs": [
    {
     "name": "stdout",
     "output_type": "stream",
     "text": [
      "<class 'pandas.core.frame.DataFrame'>\n",
      "RangeIndex: 7387 entries, 0 to 7386\n",
      "Data columns (total 15 columns):\n",
      " #   Column           Non-Null Count  Dtype  \n",
      "---  ------           --------------  -----  \n",
      " 0   daft_id          7387 non-null   int64  \n",
      " 1   url              7387 non-null   object \n",
      " 2   name             7387 non-null   object \n",
      " 3   price            7387 non-null   float64\n",
      " 4   sale_type        7387 non-null   object \n",
      " 5   floor_area       7387 non-null   int64  \n",
      " 6   entered_renewed  7387 non-null   object \n",
      " 7   views            7387 non-null   float64\n",
      " 8   type_house       7387 non-null   object \n",
      " 9   type             7387 non-null   object \n",
      " 10  scraping_date    7387 non-null   object \n",
      " 11  latitude         7387 non-null   float64\n",
      " 12  longitude        7387 non-null   float64\n",
      " 13  bedroom          7387 non-null   int64  \n",
      " 14  bathroom         7387 non-null   int64  \n",
      "dtypes: float64(4), int64(4), object(7)\n",
      "memory usage: 865.8+ KB\n"
     ]
    }
   ],
   "source": [
    "sale_data.info()"
   ]
  },
  {
   "cell_type": "code",
   "execution_count": 5,
   "id": "2805ae23-6f38-4d70-93b6-dbb8eb8b9fa0",
   "metadata": {},
   "outputs": [
    {
     "data": {
      "text/html": [
       "<div>\n",
       "<style scoped>\n",
       "    .dataframe tbody tr th:only-of-type {\n",
       "        vertical-align: middle;\n",
       "    }\n",
       "\n",
       "    .dataframe tbody tr th {\n",
       "        vertical-align: top;\n",
       "    }\n",
       "\n",
       "    .dataframe thead th {\n",
       "        text-align: right;\n",
       "    }\n",
       "</style>\n",
       "<table border=\"1\" class=\"dataframe\">\n",
       "  <thead>\n",
       "    <tr style=\"text-align: right;\">\n",
       "      <th></th>\n",
       "      <th>daft_id</th>\n",
       "      <th>url</th>\n",
       "      <th>name</th>\n",
       "      <th>price</th>\n",
       "      <th>sale_type</th>\n",
       "      <th>floor_area</th>\n",
       "      <th>entered_renewed</th>\n",
       "      <th>views</th>\n",
       "      <th>type_house</th>\n",
       "      <th>type</th>\n",
       "      <th>scraping_date</th>\n",
       "      <th>latitude</th>\n",
       "      <th>longitude</th>\n",
       "      <th>bedroom</th>\n",
       "      <th>bathroom</th>\n",
       "    </tr>\n",
       "  </thead>\n",
       "  <tbody>\n",
       "    <tr>\n",
       "      <th>4422</th>\n",
       "      <td>15979990</td>\n",
       "      <td>https://www.daft.ie/for-sale/detached-house-fo...</td>\n",
       "      <td>Forramoyle West, Barna, Co. Galway</td>\n",
       "      <td>550000.0</td>\n",
       "      <td>For Sale by Private Treaty</td>\n",
       "      <td>198</td>\n",
       "      <td>2021-10-19</td>\n",
       "      <td>8052.0</td>\n",
       "      <td>house</td>\n",
       "      <td>buy</td>\n",
       "      <td>2021-10-19</td>\n",
       "      <td>53.262403</td>\n",
       "      <td>-9.177427</td>\n",
       "      <td>5</td>\n",
       "      <td>3</td>\n",
       "    </tr>\n",
       "  </tbody>\n",
       "</table>\n",
       "</div>"
      ],
      "text/plain": [
       "       daft_id                                                url  \\\n",
       "4422  15979990  https://www.daft.ie/for-sale/detached-house-fo...   \n",
       "\n",
       "                                    name     price  \\\n",
       "4422  Forramoyle West, Barna, Co. Galway  550000.0   \n",
       "\n",
       "                       sale_type  floor_area entered_renewed   views  \\\n",
       "4422  For Sale by Private Treaty         198      2021-10-19  8052.0   \n",
       "\n",
       "     type_house type scraping_date   latitude  longitude  bedroom  bathroom  \n",
       "4422      house  buy    2021-10-19  53.262403  -9.177427        5         3  "
      ]
     },
     "execution_count": 5,
     "metadata": {},
     "output_type": "execute_result"
    }
   ],
   "source": [
    "sale_data.sample()"
   ]
  },
  {
   "cell_type": "markdown",
   "id": "743c5a50-c3e9-43dc-a663-023e41b745ad",
   "metadata": {},
   "source": [
    "-----------"
   ]
  },
  {
   "cell_type": "markdown",
   "id": "81cf261c-0a73-491a-80ea-c2c31aefd653",
   "metadata": {},
   "source": [
    "-----"
   ]
  },
  {
   "cell_type": "raw",
   "id": "f0e049e3-38e1-4a9c-8d92-ae256b10a9bb",
   "metadata": {},
   "source": [
    "y = sale_data['price'].copy()\n",
    "y.shape"
   ]
  },
  {
   "cell_type": "raw",
   "id": "24e2dd0c-18c2-4a6b-a00b-26ee41570daf",
   "metadata": {},
   "source": [
    "print(sale_data.shape)\n",
    "X = sale_data[['floor_area', 'bedroom', 'bathroom']]\n",
    "print(X.shape)"
   ]
  },
  {
   "cell_type": "markdown",
   "id": "16fe7146-8fab-413c-8e6d-176b38c0bf13",
   "metadata": {},
   "source": [
    "-------"
   ]
  },
  {
   "cell_type": "markdown",
   "id": "f2c15685-324b-454c-baf9-61330119dc4e",
   "metadata": {},
   "source": [
    "# Split Data"
   ]
  },
  {
   "cell_type": "code",
   "execution_count": 6,
   "id": "8a0ea01b-11e5-4d6d-9382-6992094404bb",
   "metadata": {},
   "outputs": [],
   "source": [
    "def split_train_test(df, test_ratio=.2):\n",
    "    shuffled_indices = np.random.permutation(len(df))\n",
    "    test_set_size = int(len(df) * test_ratio)\n",
    "    test_indices = shuffled_indices[:test_set_size]\n",
    "    train_indices = shuffled_indices[test_set_size:]\n",
    "    return df.iloc[train_indices], df.iloc[test_indices]"
   ]
  },
  {
   "cell_type": "code",
   "execution_count": 7,
   "id": "c711b963-b497-48ee-b48c-74949d2e5455",
   "metadata": {},
   "outputs": [
    {
     "name": "stdout",
     "output_type": "stream",
     "text": [
      "(5910, 15) (1477, 15)\n"
     ]
    }
   ],
   "source": [
    "train_set, test_set = split_train_test(sale_data, .2)\n",
    "print(train_set.shape, test_set.shape)"
   ]
  },
  {
   "cell_type": "markdown",
   "id": "4f354020-981d-40f6-a699-05ed8adf382a",
   "metadata": {},
   "source": [
    "Estos los guardaria en dos archivos"
   ]
  },
  {
   "cell_type": "markdown",
   "id": "166dba85-cc64-4855-8fef-9b62239937ea",
   "metadata": {},
   "source": [
    "-----------------"
   ]
  },
  {
   "cell_type": "code",
   "execution_count": 8,
   "id": "363558d7-b2bb-4d25-80a0-4538b9aaafd8",
   "metadata": {},
   "outputs": [
    {
     "data": {
      "text/plain": [
       "(5910,)"
      ]
     },
     "execution_count": 8,
     "metadata": {},
     "output_type": "execute_result"
    }
   ],
   "source": [
    "y_train = train_set['price'].copy()\n",
    "y_train.shape"
   ]
  },
  {
   "cell_type": "code",
   "execution_count": 9,
   "id": "bf26a9d5-086d-4c9f-ab51-257d5e4d83b8",
   "metadata": {},
   "outputs": [
    {
     "name": "stdout",
     "output_type": "stream",
     "text": [
      "(5910, 15)\n",
      "(5910, 3)\n"
     ]
    }
   ],
   "source": [
    "print(train_set.shape)\n",
    "X_train = train_set[['floor_area', 'bedroom', 'bathroom']]\n",
    "print(X_train.shape)"
   ]
  },
  {
   "cell_type": "code",
   "execution_count": 10,
   "id": "10b00b5d-6ab3-4aa5-bf58-1f494b831f06",
   "metadata": {},
   "outputs": [],
   "source": [
    "def split_x_y(train_set, test_set, features, target='price'):\n",
    "    y_train = train_set[target].copy()\n",
    "    X_train = train_set[features].copy()\n",
    "    y_test = test_set[target].copy()\n",
    "    X_test = test_set[features].copy()\n",
    "    print('X_train:', X_train.shape, '\\n' + \n",
    "          'X_test:', X_test.shape, '\\n' + \n",
    "          'y_train:', y_train.shape, '\\n' + \n",
    "          'y_test:', y_test.shape, '\\n')\n",
    "    return X_train, X_test, y_train, y_test"
   ]
  },
  {
   "cell_type": "code",
   "execution_count": 11,
   "id": "5477efcd-4963-4888-8f9b-c8e6a8c88a00",
   "metadata": {},
   "outputs": [
    {
     "name": "stdout",
     "output_type": "stream",
     "text": [
      "X_train: (5910, 3) \n",
      "X_test: (1477, 3) \n",
      "y_train: (5910,) \n",
      "y_test: (1477,) \n",
      "\n"
     ]
    }
   ],
   "source": [
    "features = ['floor_area', 'bedroom', 'bathroom']\n",
    "\n",
    "X_train, X_test, y_train, y_test = split_x_y(train_set, test_set, features, target='price')"
   ]
  },
  {
   "cell_type": "code",
   "execution_count": 12,
   "id": "aaef107b-297a-43ca-a95d-2a43b72e73cf",
   "metadata": {},
   "outputs": [
    {
     "data": {
      "text/plain": [
       "Index(['floor_area', 'bedroom', 'bathroom'], dtype='object')"
      ]
     },
     "execution_count": 12,
     "metadata": {},
     "output_type": "execute_result"
    }
   ],
   "source": [
    "X_train.columns"
   ]
  },
  {
   "cell_type": "markdown",
   "id": "ae48b396-4b15-4b7f-9178-428540f93ed1",
   "metadata": {},
   "source": [
    "# Transform Data"
   ]
  },
  {
   "cell_type": "markdown",
   "id": "233f57c8-dbfa-45c1-97f4-3a7205530451",
   "metadata": {
    "tags": []
   },
   "source": [
    "## Transformation Pipeline"
   ]
  },
  {
   "cell_type": "code",
   "execution_count": 13,
   "id": "c22a4d29-14d3-488a-a996-393a6af2ec72",
   "metadata": {},
   "outputs": [],
   "source": [
    "from sklearn.pipeline import Pipeline\n",
    "from sklearn.preprocessing import StandardScaler, OneHotEncoder\n"
   ]
  },
  {
   "cell_type": "code",
   "execution_count": 14,
   "id": "e703bae7-6e12-47c5-a613-1ccb8a76d794",
   "metadata": {},
   "outputs": [],
   "source": [
    "num_pipe = Pipeline([\n",
    "    ('std_scaler', StandardScaler()),\n",
    "    ])"
   ]
  },
  {
   "cell_type": "code",
   "execution_count": 15,
   "id": "ec980e43-d4f8-4500-9973-4ea27e69451b",
   "metadata": {},
   "outputs": [],
   "source": [
    "cat_pipe = Pipeline([\n",
    "    ('one_hot_encoder', OneHotEncoder()),\n",
    "    ])"
   ]
  },
  {
   "cell_type": "code",
   "execution_count": 16,
   "id": "efe042be-bf83-4fcf-afc2-527f77c74824",
   "metadata": {},
   "outputs": [],
   "source": [
    "num_features = ['floor_area', 'bedroom', 'bathroom']"
   ]
  },
  {
   "cell_type": "code",
   "execution_count": 48,
   "id": "e22621df-d548-43b6-87c7-7589a901dceb",
   "metadata": {},
   "outputs": [
    {
     "data": {
      "text/plain": [
       "ColumnTransformer(transformers=[('num',\n",
       "                                 Pipeline(steps=[('std_scaler',\n",
       "                                                  StandardScaler())]),\n",
       "                                 ['floor_area', 'bedroom', 'bathroom'])])"
      ]
     },
     "execution_count": 48,
     "metadata": {},
     "output_type": "execute_result"
    }
   ],
   "source": [
    "preprocessor = ColumnTransformer([\n",
    "    ('num', num_pipe, num_features),  # ['place']\n",
    "    ])\n",
    "preprocessor"
   ]
  },
  {
   "cell_type": "markdown",
   "id": "3470ca87-7f45-4e16-82ac-fd43bcf63f1f",
   "metadata": {},
   "source": [
    "## Linear Regression"
   ]
  },
  {
   "cell_type": "code",
   "execution_count": 18,
   "id": "d9cfaebf-6cce-4e94-af94-537a916d71d7",
   "metadata": {},
   "outputs": [],
   "source": [
    "from sklearn.linear_model import LinearRegression"
   ]
  },
  {
   "cell_type": "code",
   "execution_count": 19,
   "id": "a7c5ccf7-0466-49d9-866b-978577f623a2",
   "metadata": {},
   "outputs": [],
   "source": [
    "lr = Pipeline(steps=[('preprocessor', preprocessor),\n",
    "                     ('regressor', LinearRegression())\n",
    "                    ])"
   ]
  },
  {
   "cell_type": "code",
   "execution_count": 20,
   "id": "41879fc0-faba-46e4-b291-115a5e990f0d",
   "metadata": {},
   "outputs": [
    {
     "data": {
      "text/plain": [
       "Pipeline(steps=[('preprocessor',\n",
       "                 ColumnTransformer(transformers=[('num',\n",
       "                                                  Pipeline(steps=[('std_scaler',\n",
       "                                                                   StandardScaler())]),\n",
       "                                                  ['floor_area', 'bedroom',\n",
       "                                                   'bathroom'])])),\n",
       "                ('regressor', LinearRegression())])"
      ]
     },
     "execution_count": 20,
     "metadata": {},
     "output_type": "execute_result"
    }
   ],
   "source": [
    "lr.fit(X_train, y_train)"
   ]
  },
  {
   "cell_type": "code",
   "execution_count": 21,
   "id": "e0200f21-2e40-4507-93ac-10e6c8b8d194",
   "metadata": {},
   "outputs": [],
   "source": [
    "y_pred = lr.predict(X_test)"
   ]
  },
  {
   "cell_type": "code",
   "execution_count": 22,
   "id": "e980c659-75e4-402e-8e71-0e09f1d37662",
   "metadata": {},
   "outputs": [],
   "source": [
    "def metrics_regression(y_test, y_pred, squared=False):\n",
    "    \n",
    "    r2_score = metrics.r2_score(y_test, y_pred)\n",
    "    mae = metrics.mean_absolute_error(y_test, y_pred)\n",
    "    mape = metrics.mean_absolute_percentage_error(y_test, y_pred)\n",
    "    mse = metrics.mean_squared_error(y_test, y_pred)\n",
    "    rmse = metrics.mean_squared_error(y_test, y_pred, squared=squared)\n",
    "    \n",
    "    print(f'R²: {r2_score}')\n",
    "    print(f'MAE: {mae}')\n",
    "    print(f'MAPE: {mape}')\n",
    "    #print(f'MSE: {mse}')\n",
    "    print(f'RMSE: {rmse}')"
   ]
  },
  {
   "cell_type": "code",
   "execution_count": 23,
   "id": "ee2b9201-12a3-4d9d-9622-168f6409b016",
   "metadata": {},
   "outputs": [
    {
     "name": "stdout",
     "output_type": "stream",
     "text": [
      "R²: 0.3310600883739735\n",
      "MAE: 161117.34964739715\n",
      "MAPE: 0.5296515941233745\n",
      "RMSE: 242485.2700294838\n"
     ]
    }
   ],
   "source": [
    "from sklearn import metrics\n",
    "\n",
    "metrics_regression(y_test=y_test, y_pred=y_pred, squared=False)"
   ]
  },
  {
   "cell_type": "code",
   "execution_count": 24,
   "id": "7290d26e-2f6b-4b8f-a299-752e2bddb0bd",
   "metadata": {},
   "outputs": [],
   "source": [
    "def cross_validate_custom(estimator, scoring_dict, X_train, y_train, cv=10, return_train_score=False):\n",
    "    from sklearn.model_selection import cross_validate\n",
    "    estimator = estimator\n",
    "    scoring_dict = scoring_dict\n",
    "\n",
    "    scores = cross_validate(estimator, X=X_train, y=y_train, scoring=scoring_dict, cv=cv, \n",
    "                            return_train_score=return_train_score)\n",
    "    print(scores.keys())\n",
    "    return scores"
   ]
  },
  {
   "cell_type": "code",
   "execution_count": 25,
   "id": "bea21505-14e4-477e-a005-89989c0e1217",
   "metadata": {},
   "outputs": [],
   "source": [
    "def scores_statistics(estimator, scoring_dict, X_train, y_train, cv=10, return_train_score=False, time_info=False):\n",
    "    \n",
    "    scores = cross_validate(estimator, X=X_train, y=y_train, scoring=scoring_dict, cv=cv, \n",
    "                            return_train_score=return_train_score)\n",
    "    \n",
    "    if time_info:\n",
    "        fit_time_mean = np.mean(scores['fit_time'])\n",
    "        fit_time_std = np.std(scores['fit_time'])\n",
    "        score_time_mean = np.mean(scores['score_time'])\n",
    "        score_time_std = np.std(scores['score_time'])\n",
    "        #time_list = []    \n",
    "        print('fit_time mean:', fit_time_mean)\n",
    "        print('fit_time std:', fit_time_std)\n",
    "        print('score_time mean:', score_time_mea)\n",
    "        print('score_time std:', score_time_std)\n",
    "    \n",
    "    \n",
    "    for key in scoring_dict:\n",
    "        try:\n",
    "            mean = np.mean(scores['test_' + key])\n",
    "            std = np.std(scores['test_' + key])\n",
    "            print(key, 'mean:', mean)\n",
    "            print(key, 'std:', std, '\\n')\n",
    "        except:\n",
    "            continue\n",
    "    return scores"
   ]
  },
  {
   "cell_type": "code",
   "execution_count": 26,
   "id": "44fc1e8a-2788-41be-af41-078c062c2223",
   "metadata": {},
   "outputs": [
    {
     "name": "stdout",
     "output_type": "stream",
     "text": [
      "r2 mean: 0.27212409962240613\n",
      "r2 std: 0.011038143781119497 \n",
      "\n",
      "MAE mean: -169083.0443155238\n",
      "MAE std: 3265.874062671591 \n",
      "\n",
      "MAPE mean: -0.5390899850709874\n",
      "MAPE std: 0.025115478000243087 \n",
      "\n",
      "RMSE mean: -261952.4222711789\n",
      "RMSE std: 7116.383193420296 \n",
      "\n"
     ]
    },
    {
     "data": {
      "text/plain": [
       "{'fit_time': array([0.0063107 , 0.00543809, 0.0049305 , 0.00476503, 0.00498605]),\n",
       " 'score_time': array([0.00384712, 0.00323558, 0.00376868, 0.00311613, 0.00369358]),\n",
       " 'test_r2': array([0.26484047, 0.26636925, 0.27290313, 0.29320842, 0.26329924]),\n",
       " 'test_MAE': array([-171606.68689616, -163914.27439346, -166830.76031399,\n",
       "        -172792.62476855, -170270.87520547]),\n",
       " 'test_MAPE': array([-0.57813362, -0.52332383, -0.54032753, -0.5500589 , -0.50360604]),\n",
       " 'test_RMSE': array([-267538.81121186, -255952.18283646, -251592.41391577,\n",
       "        -264127.17613021, -270551.52726159])}"
      ]
     },
     "execution_count": 26,
     "metadata": {},
     "output_type": "execute_result"
    }
   ],
   "source": [
    "from sklearn.model_selection import cross_validate\n",
    "\n",
    "scoring = {'r2': 'r2', \n",
    "           'MAE': 'neg_mean_absolute_error', \n",
    "           'MAPE': 'neg_mean_absolute_percentage_error', \n",
    "           'RMSE': 'neg_root_mean_squared_error'}\n",
    "\n",
    "lr = Pipeline(steps=[('preprocessor', preprocessor),\n",
    "                     ('regressor', LinearRegression())\n",
    "                    ])\n",
    "\n",
    "scores_statistics(estimator=lr, scoring_dict=scoring, \n",
    "                  X_train=X_train, y_train=y_train, cv=5, return_train_score=False)"
   ]
  },
  {
   "cell_type": "markdown",
   "id": "6e41abd9-79c3-4cc5-b157-6e2ed790d912",
   "metadata": {},
   "source": [
    "### Recursive Feature Elimination"
   ]
  },
  {
   "cell_type": "code",
   "execution_count": 27,
   "id": "e1c1c700-6cd6-4eee-977c-b58e35f85746",
   "metadata": {},
   "outputs": [],
   "source": [
    "from sklearn import feature_selection"
   ]
  },
  {
   "cell_type": "code",
   "execution_count": 28,
   "id": "c0228be0-4390-4344-a9fc-397756728e6a",
   "metadata": {},
   "outputs": [],
   "source": [
    "lr = Pipeline(steps=[('preprocessor', preprocessor),\n",
    "                     ('regressor', LinearRegression())\n",
    "                    ])"
   ]
  },
  {
   "cell_type": "code",
   "execution_count": 29,
   "id": "6379cbee-87dd-4ae0-b443-9d9d0d5483b5",
   "metadata": {},
   "outputs": [],
   "source": [
    "rfe = feature_selection.RFE(estimator=LinearRegression(), n_features_to_select=1, step=1)"
   ]
  },
  {
   "cell_type": "code",
   "execution_count": 30,
   "id": "d5fb3dc3-d530-45a5-b58d-66146cd4247c",
   "metadata": {},
   "outputs": [
    {
     "data": {
      "text/plain": [
       "RFE(estimator=LinearRegression(), n_features_to_select=1)"
      ]
     },
     "execution_count": 30,
     "metadata": {},
     "output_type": "execute_result"
    }
   ],
   "source": [
    "rfe.fit(X_train, y_train)"
   ]
  },
  {
   "cell_type": "code",
   "execution_count": 31,
   "id": "95bec5c1-0886-40b2-b39a-c3d0158e565f",
   "metadata": {},
   "outputs": [
    {
     "data": {
      "text/plain": [
       "Index(['floor_area', 'bedroom', 'bathroom'], dtype='object')"
      ]
     },
     "execution_count": 31,
     "metadata": {},
     "output_type": "execute_result"
    }
   ],
   "source": [
    "X_train.columns"
   ]
  },
  {
   "cell_type": "code",
   "execution_count": 32,
   "id": "e0fc547b-9fe8-4a93-9447-610864f0b330",
   "metadata": {},
   "outputs": [
    {
     "data": {
      "text/plain": [
       "array([False, False,  True])"
      ]
     },
     "execution_count": 32,
     "metadata": {},
     "output_type": "execute_result"
    }
   ],
   "source": [
    "rfe.support_"
   ]
  },
  {
   "cell_type": "code",
   "execution_count": 33,
   "id": "e2b73485-0320-4d2c-b475-dd56712fe60a",
   "metadata": {},
   "outputs": [
    {
     "data": {
      "text/plain": [
       "array([3, 2, 1])"
      ]
     },
     "execution_count": 33,
     "metadata": {},
     "output_type": "execute_result"
    }
   ],
   "source": [
    "rfe.ranking_"
   ]
  },
  {
   "cell_type": "code",
   "execution_count": 34,
   "id": "2caee4a1-144e-49ae-906c-7354fc6f506c",
   "metadata": {},
   "outputs": [
    {
     "data": {
      "text/html": [
       "<div>\n",
       "<style scoped>\n",
       "    .dataframe tbody tr th:only-of-type {\n",
       "        vertical-align: middle;\n",
       "    }\n",
       "\n",
       "    .dataframe tbody tr th {\n",
       "        vertical-align: top;\n",
       "    }\n",
       "\n",
       "    .dataframe thead th {\n",
       "        text-align: right;\n",
       "    }\n",
       "</style>\n",
       "<table border=\"1\" class=\"dataframe\">\n",
       "  <thead>\n",
       "    <tr style=\"text-align: right;\">\n",
       "      <th></th>\n",
       "      <th>floor_area</th>\n",
       "      <th>bedroom</th>\n",
       "      <th>bathroom</th>\n",
       "    </tr>\n",
       "  </thead>\n",
       "  <tbody>\n",
       "    <tr>\n",
       "      <th>4158</th>\n",
       "      <td>230</td>\n",
       "      <td>5</td>\n",
       "      <td>3</td>\n",
       "    </tr>\n",
       "  </tbody>\n",
       "</table>\n",
       "</div>"
      ],
      "text/plain": [
       "      floor_area  bedroom  bathroom\n",
       "4158         230        5         3"
      ]
     },
     "execution_count": 34,
     "metadata": {},
     "output_type": "execute_result"
    }
   ],
   "source": [
    "X_train.sample()"
   ]
  },
  {
   "cell_type": "code",
   "execution_count": 108,
   "id": "aca903fa-897f-44b7-aba7-b6d84196d535",
   "metadata": {},
   "outputs": [
    {
     "name": "stdout",
     "output_type": "stream",
     "text": [
      "MAE: -169083.044 (3265.874)\n"
     ]
    },
    {
     "data": {
      "text/plain": [
       "array([-171606.68689616, -163914.27439346, -166830.76031399,\n",
       "       -172792.62476855, -170270.87520547])"
      ]
     },
     "execution_count": 108,
     "metadata": {},
     "output_type": "execute_result"
    }
   ],
   "source": [
    "from numpy import mean\n",
    "from numpy import std\n",
    "from sklearn.datasets import make_regression\n",
    "from sklearn.model_selection import cross_val_score\n",
    "from sklearn.model_selection import RepeatedKFold\n",
    "from sklearn.feature_selection import RFE\n",
    "from sklearn.tree import DecisionTreeRegressor\n",
    "from sklearn.pipeline import Pipeline\n",
    "# define dataset\n",
    "#X, y = make_regression(n_samples=1000, n_features=10, n_informative=5, random_state=1)\n",
    "# create pipeline\n",
    "\n",
    "rfe = RFE(estimator=LinearRegression(), n_features_to_select=3, step=1)\n",
    "\n",
    "lr = Pipeline(steps=[('preprocessor', preprocessor),\n",
    "                           ('s',rfe), \n",
    "                           ('regressor', LinearRegression())\n",
    "                          ])\n",
    "\n",
    "#pipeline = Pipeline(steps=[('s',rfe),('m',model)])\n",
    "# evaluate model\n",
    "#cv = RepeatedKFold(n_splits=10, n_repeats=3, random_state=1)\n",
    "n_scores = cross_val_score(estimator=lr, X=X_train, y=y_train, \n",
    "                           scoring='neg_mean_absolute_error', cv=5, n_jobs=-1, \n",
    "                           error_score='raise')\n",
    "# report performance\n",
    "print('MAE: %.3f (%.3f)' % (mean(n_scores), std(n_scores)))\n",
    "n_scores"
   ]
  },
  {
   "cell_type": "code",
   "execution_count": 110,
   "id": "67925214-39b3-4e42-8d7b-71d829494d85",
   "metadata": {},
   "outputs": [
    {
     "name": "stdout",
     "output_type": "stream",
     "text": [
      "MAE: -169367.862 (2912.185)\n",
      "MAE: -169897.470 (2899.959)\n",
      "MAE: -169083.044 (3265.874)\n"
     ]
    },
    {
     "data": {
      "text/plain": [
       "[-169367.86214770522, -169897.47043830532, -169083.0443155238]"
      ]
     },
     "execution_count": 110,
     "metadata": {},
     "output_type": "execute_result"
    }
   ],
   "source": [
    "scores_rfe = []\n",
    "for i in range(1, X_train.shape[1] + 1): # i = 1,..., 13\n",
    "    rfe = RFE(estimator=LinearRegression(), n_features_to_select=i, step=1)\n",
    "\n",
    "    lr = Pipeline(steps=[('preprocessor', preprocessor),\n",
    "                           ('s',rfe), \n",
    "                           ('regressor', LinearRegression())\n",
    "                          ])\n",
    "\n",
    "#pipeline = Pipeline(steps=[('s',rfe),('m',model)])\n",
    "# evaluate model\n",
    "#cv = RepeatedKFold(n_splits=10, n_repeats=3, random_state=1)\n",
    "    n_scores = cross_val_score(estimator=lr, X=X_train, y=y_train, \n",
    "                           scoring='neg_mean_absolute_error', cv=5, n_jobs=-1, \n",
    "                           error_score='raise')\n",
    "# report performance\n",
    "    print('MAE: %.3f (%.3f)' % (mean(n_scores), std(n_scores)))\n",
    "    scores_rfe.append(np.mean(n_scores))\n",
    "scores_rfe"
   ]
  },
  {
   "cell_type": "code",
   "execution_count": 112,
   "id": "574d3c37-0d7b-4d29-96ee-96f77e3ae9cc",
   "metadata": {},
   "outputs": [
    {
     "data": {
      "image/png": "[encoded data removed]",
      "text/plain": [
       "<Figure size 432x216 with 1 Axes>"
      ]
     },
     "metadata": {},
     "output_type": "display_data"
    }
   ],
   "source": [
    "fig, ax = plt.subplots(1, 1, figsize=(6, 3))\n",
    "ax.scatter(range(1, X_train.shape[1] + 1), scores_rfe) # x=1a13, y=scores\n",
    "\n",
    "ax.set_xlabel('Number of Features')\n",
    "ax.set_ylabel('R^2')\n",
    "plt.tight_layout()"
   ]
  },
  {
   "cell_type": "markdown",
   "id": "5e156e1f-85bd-4447-b6e7-d6a4cb5833fe",
   "metadata": {},
   "source": [
    "### Sequential Feature Selector"
   ]
  },
  {
   "cell_type": "code",
   "execution_count": null,
   "id": "34cbf8b4-c84d-469d-a6b8-9738b314c331",
   "metadata": {},
   "outputs": [],
   "source": []
  },
  {
   "cell_type": "markdown",
   "id": "20028453-e9ab-4c85-8904-8353431b6a54",
   "metadata": {},
   "source": [
    "## Grid Search"
   ]
  },
  {
   "cell_type": "code",
   "execution_count": 129,
   "id": "74c2fc80-2fe0-4d5b-92c5-034e59444bd2",
   "metadata": {},
   "outputs": [
    {
     "data": {
      "text/plain": [
       "GridSearchCV(cv=5, estimator=LinearRegression(),\n",
       "             param_grid=[{'n_jobs': [-1]}, {'n_jobs': [1]}],\n",
       "             return_train_score=True, scoring='neg_mean_absolute_error')"
      ]
     },
     "execution_count": 129,
     "metadata": {},
     "output_type": "execute_result"
    }
   ],
   "source": [
    "from sklearn.model_selection import GridSearchCV\n",
    "\n",
    "param_grid = [\n",
    "    {'n_jobs': [-1]},\n",
    "    {'n_jobs': [1]},\n",
    "]\n",
    "\n",
    "#lr = Pipeline(steps=[('preprocessor', preprocessor),\n",
    " #                         # ('s',rfe), \n",
    "  #                         ('regressor', LinearRegression())\n",
    "   #                       ])\n",
    "    \n",
    "preprocessor = ColumnTransformer([\n",
    "    ('num', num_pipe, [0, 1, 2]), \n",
    "    ])\n",
    "\n",
    "num_pipe = Pipeline([\n",
    "    ('std_scaler', StandardScaler()),\n",
    "    ])\n",
    "\n",
    "X_train_prepared = preprocessor.fit_transform(X_train)\n",
    "y_train_prepared = num_pipe.fit_transform(y_train.values.reshape(-1, 1))\n",
    "\n",
    "X_test_prepared = preprocessor.transform(X_test)\n",
    "y_test_prepared = num_pipe.transform(y_test.values.reshape(-1, 1))\n",
    "\n",
    "gs = GridSearchCV(LinearRegression(), param_grid, cv=5, \n",
    "                           scoring='neg_mean_absolute_error', return_train_score=True)\n",
    "\n",
    "gs.fit(X_train_prepared, y_train_prepared)"
   ]
  },
  {
   "cell_type": "code",
   "execution_count": 130,
   "id": "0c18c0b6-90fe-4493-afb6-f20781da584e",
   "metadata": {},
   "outputs": [
    {
     "data": {
      "text/plain": [
       "{'n_jobs': -1}"
      ]
     },
     "execution_count": 130,
     "metadata": {},
     "output_type": "execute_result"
    }
   ],
   "source": [
    "gs.best_params_"
   ]
  },
  {
   "cell_type": "code",
   "execution_count": 131,
   "id": "2b30b675-11fd-4a44-a068-71430504c361",
   "metadata": {},
   "outputs": [
    {
     "data": {
      "text/plain": [
       "LinearRegression(n_jobs=-1)"
      ]
     },
     "execution_count": 131,
     "metadata": {},
     "output_type": "execute_result"
    }
   ],
   "source": [
    "gs.best_estimator_"
   ]
  },
  {
   "cell_type": "code",
   "execution_count": 132,
   "id": "8ace780a-c382-4119-b926-bc1f7a842e6d",
   "metadata": {},
   "outputs": [
    {
     "data": {
      "text/plain": [
       "{'mean_fit_time': array([0.00092988, 0.00080318]),\n",
       " 'std_fit_time': array([1.08933905e-04, 5.89313628e-06]),\n",
       " 'mean_score_time': array([0.00032415, 0.00031219]),\n",
       " 'std_score_time': array([2.51743828e-05, 3.03624352e-05]),\n",
       " 'param_n_jobs': masked_array(data=[-1, 1],\n",
       "              mask=[False, False],\n",
       "        fill_value='?',\n",
       "             dtype=object),\n",
       " 'params': [{'n_jobs': -1}, {'n_jobs': 1}],\n",
       " 'split0_test_score': array([-0.55860569, -0.55860569]),\n",
       " 'split1_test_score': array([-0.53356573, -0.53356573]),\n",
       " 'split2_test_score': array([-0.54305933, -0.54305933]),\n",
       " 'split3_test_score': array([-0.5624661, -0.5624661]),\n",
       " 'split4_test_score': array([-0.55425743, -0.55425743]),\n",
       " 'mean_test_score': array([-0.55039086, -0.55039086]),\n",
       " 'std_test_score': array([0.01063091, 0.01063091]),\n",
       " 'rank_test_score': array([1, 1], dtype=int32),\n",
       " 'split0_train_score': array([-0.54726136, -0.54726136]),\n",
       " 'split1_train_score': array([-0.55440546, -0.55440546]),\n",
       " 'split2_train_score': array([-0.55211741, -0.55211741]),\n",
       " 'split3_train_score': array([-0.54745986, -0.54745986]),\n",
       " 'split4_train_score': array([-0.5476231, -0.5476231]),\n",
       " 'mean_train_score': array([-0.54977344, -0.54977344]),\n",
       " 'std_train_score': array([0.00294064, 0.00294064])}"
      ]
     },
     "execution_count": 132,
     "metadata": {},
     "output_type": "execute_result"
    }
   ],
   "source": [
    "gs.cv_results_"
   ]
  },
  {
   "cell_type": "code",
   "execution_count": 134,
   "id": "fdba1fd3-f4bd-48fd-b58a-1d2a5c594ce7",
   "metadata": {},
   "outputs": [
    {
     "data": {
      "text/html": [
       "<div>\n",
       "<style scoped>\n",
       "    .dataframe tbody tr th:only-of-type {\n",
       "        vertical-align: middle;\n",
       "    }\n",
       "\n",
       "    .dataframe tbody tr th {\n",
       "        vertical-align: top;\n",
       "    }\n",
       "\n",
       "    .dataframe thead th {\n",
       "        text-align: right;\n",
       "    }\n",
       "</style>\n",
       "<table border=\"1\" class=\"dataframe\">\n",
       "  <thead>\n",
       "    <tr style=\"text-align: right;\">\n",
       "      <th></th>\n",
       "      <th>0</th>\n",
       "      <th>1</th>\n",
       "    </tr>\n",
       "  </thead>\n",
       "  <tbody>\n",
       "    <tr>\n",
       "      <th>mean_fit_time</th>\n",
       "      <td>0.00093</td>\n",
       "      <td>0.000803</td>\n",
       "    </tr>\n",
       "    <tr>\n",
       "      <th>std_fit_time</th>\n",
       "      <td>0.000109</td>\n",
       "      <td>0.000006</td>\n",
       "    </tr>\n",
       "    <tr>\n",
       "      <th>mean_score_time</th>\n",
       "      <td>0.000324</td>\n",
       "      <td>0.000312</td>\n",
       "    </tr>\n",
       "    <tr>\n",
       "      <th>std_score_time</th>\n",
       "      <td>0.000025</td>\n",
       "      <td>0.00003</td>\n",
       "    </tr>\n",
       "    <tr>\n",
       "      <th>param_n_jobs</th>\n",
       "      <td>-1</td>\n",
       "      <td>1</td>\n",
       "    </tr>\n",
       "    <tr>\n",
       "      <th>params</th>\n",
       "      <td>{'n_jobs': -1}</td>\n",
       "      <td>{'n_jobs': 1}</td>\n",
       "    </tr>\n",
       "    <tr>\n",
       "      <th>split0_test_score</th>\n",
       "      <td>-0.558606</td>\n",
       "      <td>-0.558606</td>\n",
       "    </tr>\n",
       "    <tr>\n",
       "      <th>split1_test_score</th>\n",
       "      <td>-0.533566</td>\n",
       "      <td>-0.533566</td>\n",
       "    </tr>\n",
       "    <tr>\n",
       "      <th>split2_test_score</th>\n",
       "      <td>-0.543059</td>\n",
       "      <td>-0.543059</td>\n",
       "    </tr>\n",
       "    <tr>\n",
       "      <th>split3_test_score</th>\n",
       "      <td>-0.562466</td>\n",
       "      <td>-0.562466</td>\n",
       "    </tr>\n",
       "    <tr>\n",
       "      <th>split4_test_score</th>\n",
       "      <td>-0.554257</td>\n",
       "      <td>-0.554257</td>\n",
       "    </tr>\n",
       "    <tr>\n",
       "      <th>mean_test_score</th>\n",
       "      <td>-0.550391</td>\n",
       "      <td>-0.550391</td>\n",
       "    </tr>\n",
       "    <tr>\n",
       "      <th>std_test_score</th>\n",
       "      <td>0.010631</td>\n",
       "      <td>0.010631</td>\n",
       "    </tr>\n",
       "    <tr>\n",
       "      <th>rank_test_score</th>\n",
       "      <td>1</td>\n",
       "      <td>1</td>\n",
       "    </tr>\n",
       "    <tr>\n",
       "      <th>split0_train_score</th>\n",
       "      <td>-0.547261</td>\n",
       "      <td>-0.547261</td>\n",
       "    </tr>\n",
       "    <tr>\n",
       "      <th>split1_train_score</th>\n",
       "      <td>-0.554405</td>\n",
       "      <td>-0.554405</td>\n",
       "    </tr>\n",
       "    <tr>\n",
       "      <th>split2_train_score</th>\n",
       "      <td>-0.552117</td>\n",
       "      <td>-0.552117</td>\n",
       "    </tr>\n",
       "    <tr>\n",
       "      <th>split3_train_score</th>\n",
       "      <td>-0.54746</td>\n",
       "      <td>-0.54746</td>\n",
       "    </tr>\n",
       "    <tr>\n",
       "      <th>split4_train_score</th>\n",
       "      <td>-0.547623</td>\n",
       "      <td>-0.547623</td>\n",
       "    </tr>\n",
       "    <tr>\n",
       "      <th>mean_train_score</th>\n",
       "      <td>-0.549773</td>\n",
       "      <td>-0.549773</td>\n",
       "    </tr>\n",
       "    <tr>\n",
       "      <th>std_train_score</th>\n",
       "      <td>0.002941</td>\n",
       "      <td>0.002941</td>\n",
       "    </tr>\n",
       "  </tbody>\n",
       "</table>\n",
       "</div>"
      ],
      "text/plain": [
       "                                 0              1\n",
       "mean_fit_time              0.00093       0.000803\n",
       "std_fit_time              0.000109       0.000006\n",
       "mean_score_time           0.000324       0.000312\n",
       "std_score_time            0.000025        0.00003\n",
       "param_n_jobs                    -1              1\n",
       "params              {'n_jobs': -1}  {'n_jobs': 1}\n",
       "split0_test_score        -0.558606      -0.558606\n",
       "split1_test_score        -0.533566      -0.533566\n",
       "split2_test_score        -0.543059      -0.543059\n",
       "split3_test_score        -0.562466      -0.562466\n",
       "split4_test_score        -0.554257      -0.554257\n",
       "mean_test_score          -0.550391      -0.550391\n",
       "std_test_score            0.010631       0.010631\n",
       "rank_test_score                  1              1\n",
       "split0_train_score       -0.547261      -0.547261\n",
       "split1_train_score       -0.554405      -0.554405\n",
       "split2_train_score       -0.552117      -0.552117\n",
       "split3_train_score        -0.54746       -0.54746\n",
       "split4_train_score       -0.547623      -0.547623\n",
       "mean_train_score         -0.549773      -0.549773\n",
       "std_train_score           0.002941       0.002941"
      ]
     },
     "execution_count": 134,
     "metadata": {},
     "output_type": "execute_result"
    }
   ],
   "source": [
    "pd.DataFrame(gs.cv_results_).transpose()"
   ]
  },
  {
   "cell_type": "code",
   "execution_count": null,
   "id": "86ed5f79-25ad-4715-88ab-0cd9a0f37f12",
   "metadata": {},
   "outputs": [],
   "source": []
  }
 ],
 "metadata": {
  "kernelspec": {
   "display_name": "Python 3 (ipykernel)",
   "language": "python",
   "name": "python3"
  },
  "language_info": {
   "codemirror_mode": {
    "name": "ipython",
    "version": 3
   },
   "file_extension": ".py",
   "mimetype": "text/x-python",
   "name": "python",
   "nbconvert_exporter": "python",
   "pygments_lexer": "ipython3",
   "version": "3.7.11"
  }
 },
 "nbformat": 4,
 "nbformat_minor": 5
}
