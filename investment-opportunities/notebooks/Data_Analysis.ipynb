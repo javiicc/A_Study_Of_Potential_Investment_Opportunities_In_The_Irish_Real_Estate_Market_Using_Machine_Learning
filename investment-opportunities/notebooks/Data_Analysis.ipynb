{
 "cells": [
  {
   "cell_type": "markdown",
   "id": "c5295147-b2c0-4806-bd0f-a4628813516e",
   "metadata": {
    "jp-MarkdownHeadingCollapsed": true,
    "tags": []
   },
   "source": [
    "# Goal"
   ]
  },
  {
   "cell_type": "markdown",
   "id": "60818410-dcb3-4cf0-89b9-d7c8fc0df0ad",
   "metadata": {},
   "source": [
    "The aim of this notebook is to know in deep the current situation of the Irish Real State Market and figure out what are the most promissing variables in order to predict the price."
   ]
  },
  {
   "cell_type": "markdown",
   "id": "25900ee5-def8-4caf-ae7e-ca4f594b671f",
   "metadata": {
    "tags": []
   },
   "source": [
    "# Import Libraries and Set Options"
   ]
  },
  {
   "cell_type": "code",
   "execution_count": 1,
   "id": "3bc7f447-fbb9-431e-8a67-456bd8ad221d",
   "metadata": {},
   "outputs": [],
   "source": [
    "import numpy as np\n",
    "import pandas as pd\n",
    "import matplotlib.pyplot as plt\n",
    "import seaborn as sns\n",
    "import scipy.stats as ss\n",
    "\n",
    "import pylab\n",
    "import scipy.stats as ss\n",
    "from scipy.stats import kstest\n",
    "import scipy.stats as stats\n",
    "from scipy.stats import normaltest\n",
    "\n",
    "import ppscore as pps\n",
    "import random\n",
    "from sklearn.tree import DecisionTreeRegressor\n",
    "\n",
    "from sklearn.linear_model import LinearRegression\n",
    "from sklearn.feature_selection import (RFE, \n",
    "                                       SequentialFeatureSelector)\n",
    "from sklearn.model_selection import train_test_split\n",
    "from sklearn.ensemble import RandomForestRegressor\n",
    "\n",
    "from daftpy.daftfeanalysis import (missing_values, frequencies, pct_method, \n",
    "                                   iqr_method, outlier_bool, drop_outliers, \n",
    "                                  print_limits, drop_outliers_tmp,\n",
    "                                  check_transformations, tchebycheff,\n",
    "                                  outplots, wrapper_methods) \n",
    "\n",
    "from sklearn.preprocessing import (StandardScaler, OneHotEncoder,\n",
    "                                   PolynomialFeatures, PowerTransformer)"
   ]
  },
  {
   "cell_type": "code",
   "execution_count": 2,
   "id": "ba448aa0-61c1-4061-9437-3adb25cb1f7f",
   "metadata": {},
   "outputs": [],
   "source": [
    "pd.set_option('display.max_rows', None)\n",
    "pd.set_option('display.max_columns', None)\n",
    "#plt.style.use('seaborn')\n",
    "\n",
    "pd.set_option('display.float_format', lambda x: '%.2f' % x)"
   ]
  },
  {
   "cell_type": "code",
   "execution_count": 3,
   "id": "16fb12e6-b1fb-4823-aed3-cf0bf306a436",
   "metadata": {},
   "outputs": [],
   "source": [
    "import warnings\n",
    "\n",
    "def fxn():\n",
    "    warnings.warn(\"user\", UserWarning)\n",
    "\n",
    "with warnings.catch_warnings():\n",
    "    warnings.simplefilter(\"ignore\")\n",
    "    fxn()\n",
    "    \n",
    "warnings.filterwarnings(\"ignore\")"
   ]
  },
  {
   "cell_type": "markdown",
   "id": "a1dc517f-556d-4d4e-82ab-981c060dee06",
   "metadata": {
    "tags": []
   },
   "source": [
    "# Load Data"
   ]
  },
  {
   "cell_type": "code",
   "execution_count": 4,
   "id": "343fdd64-c84f-4a11-b0f4-14f9a8a88d36",
   "metadata": {},
   "outputs": [
    {
     "data": {
      "text/plain": [
       "(7661, 24)"
      ]
     },
     "execution_count": 4,
     "metadata": {},
     "output_type": "execute_result"
    }
   ],
   "source": [
    "sale = pd.read_csv('data/sale_post_geosp_fe.csv', sep=',', parse_dates=['entered_renewed', 'scraping_date'])\n",
    "sale.shape"
   ]
  },
  {
   "cell_type": "code",
   "execution_count": 5,
   "id": "3c9d6d40-92fc-4e77-b603-4e3496d19185",
   "metadata": {},
   "outputs": [
    {
     "name": "stdout",
     "output_type": "stream",
     "text": [
      "<class 'pandas.core.frame.DataFrame'>\n",
      "RangeIndex: 7661 entries, 0 to 7660\n",
      "Data columns (total 24 columns):\n",
      " #   Column           Non-Null Count  Dtype         \n",
      "---  ------           --------------  -----         \n",
      " 0   daft_id          7661 non-null   int64         \n",
      " 1   url              7661 non-null   object        \n",
      " 2   name             7661 non-null   object        \n",
      " 3   price            7661 non-null   float64       \n",
      " 4   sale_type        7661 non-null   object        \n",
      " 5   floor_area       7661 non-null   int64         \n",
      " 6   psr              7645 non-null   float64       \n",
      " 7   ber              7466 non-null   object        \n",
      " 8   entered_renewed  7661 non-null   datetime64[ns]\n",
      " 9   views            7661 non-null   float64       \n",
      " 10  type_house       7174 non-null   object        \n",
      " 11  type             7661 non-null   object        \n",
      " 12  scraping_date    7661 non-null   datetime64[ns]\n",
      " 13  description      7660 non-null   object        \n",
      " 14  latitude         7661 non-null   float64       \n",
      " 15  longitude        7661 non-null   float64       \n",
      " 16  bedroom          7661 non-null   int64         \n",
      " 17  bathroom         7661 non-null   int64         \n",
      " 18  plus_info        7661 non-null   object        \n",
      " 19  postcode         6472 non-null   object        \n",
      " 20  state_district   7267 non-null   object        \n",
      " 21  city_district    7298 non-null   object        \n",
      " 22  place            6418 non-null   object        \n",
      " 23  code             6418 non-null   object        \n",
      "dtypes: datetime64[ns](2), float64(5), int64(4), object(13)\n",
      "memory usage: 1.4+ MB\n"
     ]
    }
   ],
   "source": [
    "sale.info()"
   ]
  },
  {
   "cell_type": "markdown",
   "id": "741aef80-5bc4-41da-aaa1-ce4ac6ab53d1",
   "metadata": {},
   "source": [
    "Our target or variable response is `price`, whilst the other ones are predictors - variables that we can use to infer the price. Below you can see two tables with each variable, its meaning, and a brief explanation about whether I intuitively consider it is an important predictor or not."
   ]
  },
  {
   "cell_type": "markdown",
   "id": "9d374e0a-b3fe-4e01-bc05-80a827371e36",
   "metadata": {
    "tags": []
   },
   "source": [
    "## Data Scraped From Daft.ie"
   ]
  },
  {
   "cell_type": "markdown",
   "id": "6104a9cd-e332-48e4-976d-2060ffd05cd3",
   "metadata": {
    "jp-MarkdownHeadingCollapsed": true,
    "tags": []
   },
   "source": [
    "|Variable|Meaning|Importance|Reason|Example|\n",
    "|:---:|:---:|:---:|:---:|:---:|\n",
    "|price|House market price|High|It is the target|180000.0|\n",
    "|daft_id|Ad's id|In-between|It could help us to identify a particular house if we need to|16878701|\n",
    "|url|Ad's url|In-between|We can visit the ad if we need to|[https://www.daft.ie/for-sale/apartment-5-the-willows-rivercourt-drogheda-co-louth/3608666](https://www.daft.ie/for-sale/apartment-5-the-willows-rivercourt-drogheda-co-louth/3608666)|\n",
    "|name|Ad's name|Low|Its sctructure is too much heterogeneous and we have coordinates|5 The Willows, Rivercourt, Drogheda, Co. Louth|\n",
    "|sale_type||Low|Almost all values are the same|For Sale by Private Treaty|\n",
    "|floor_area|House's floor area|High|High potencial as a predictor|106|\n",
    "|psr|Advertiser's identifier|Low|It is not an important attribute of the house|2239.0|\n",
    "|ber|House's energetic efficiency|In-between|No sabe no contesta|B3|\n",
    "|entered_renewed|Date of entry or renewal of the ad|Low|If an ad has been published for a long time or not is impossible to know because it can have been renewed|2021-11-24 00:00:00|\n",
    "|views|Number of visits to the ad|In-between|No sabe no contesta|1381.0|\n",
    "|type_house|Apartment or house|High|It looks like an important attribute|apartment|\n",
    "|type|Buy or rent|Low|We are analyzing houses for sale, al values are the same|buy|\n",
    "|scraping_date|Date when ads were scraped|Low|All values are the same|2021-11-25 00:00:00|\n",
    "|description|Ad's description|In-between||...|\n",
    "|latitude|House's latitude|High|Provides information about location|53.715574|\n",
    "|longitude|House's longitude|High|Provides information about location|-6.371515|\n",
    "|bedroom|Number of bedrooms|High|It looks like an important attribute of a house|2|\n",
    "|bathroom|Number of bathrooms|High|It looks like an important attribute of a house|2|\n",
    "|plus_info|More info in a word|Low|I don't know why but it doesn't look like something important|Detached|"
   ]
  },
  {
   "cell_type": "markdown",
   "id": "df0d07ff-81ec-45c4-bfdc-66ebb15a471c",
   "metadata": {
    "tags": []
   },
   "source": [
    "## Data From Feature Engineering Methods"
   ]
  },
  {
   "cell_type": "markdown",
   "id": "88f85c4a-d343-4e27-8f62-7dfb19fda157",
   "metadata": {},
   "source": [
    "|Variable|Meaning|Importance|Reason|Example|\n",
    "|:---:|:---:|:---:|:---:|:---:|\n",
    "|postcode|It is the eircode|In-between|I will use the place/code|T23 YE35|\n",
    "|state_district|State District|Low|It doesn't give too much info|Munster|\n",
    "|city_district|City District|In-between|Similar to place|Blackpool ED B|\n",
    "|place |Town or city|High|It's the town|Cork city northside|\n",
    "|code|Routing key|In-between|I think it would be the same effect than the variable 'place'|T23|"
   ]
  },
  {
   "cell_type": "markdown",
   "id": "4b9e9f5e-8249-4016-8fc0-5d95dc270a99",
   "metadata": {
    "tags": []
   },
   "source": [
    "# The Ireland's Real Estate Market"
   ]
  },
  {
   "cell_type": "markdown",
   "id": "55fe8bdd-5816-4fdd-8ea1-ca0cf3daee7a",
   "metadata": {
    "tags": []
   },
   "source": [
    "## Introduction"
   ]
  },
  {
   "cell_type": "markdown",
   "id": "4f915af6-e36b-48cb-8dfa-c43d315bb0e6",
   "metadata": {},
   "source": [
    "Ireland, also known as the Republic of Ireland, is a country in north-western Europe consisting of 26 of the 32 counties of the island of Ireland. The capital and largest city is Dublin, on the eastern side of the island. Around 40% of the country's population of 5 million people resides in the Greater Dublin Area.\n",
    "\n",
    "In the next section I will study the current situation of the Irish Real Estate Market hoping to get some insights that helps or guides me in the search of the best predictors and algorithms."
   ]
  },
  {
   "cell_type": "markdown",
   "id": "8621419b-65a7-405f-a966-673d117f957d",
   "metadata": {
    "tags": []
   },
   "source": [
    "## Current Situation of the Ireland's Real Estate Market"
   ]
  },
  {
   "cell_type": "markdown",
   "id": "3f40ec24-b94a-42fb-ba78-cc1871a48be0",
   "metadata": {},
   "source": [
    "The information and graphs here try to help us to know a little bit the Irish Real Estate Market so we can focus in that areas we think are interesting in our search of potential investment opportunities."
   ]
  },
  {
   "cell_type": "markdown",
   "id": "1b76f06f-4fae-445b-ad08-38f794d932a9",
   "metadata": {
    "tags": []
   },
   "source": [
    "### Ireland's Real Estate Market"
   ]
  },
  {
   "cell_type": "markdown",
   "id": "cb47a866-01b5-4f0c-855d-51aadfef167f",
   "metadata": {
    "tags": []
   },
   "source": [
    "#### Advertisements per city"
   ]
  },
  {
   "cell_type": "markdown",
   "id": "57a6ac3f-4c69-49d6-93db-f606207148ca",
   "metadata": {},
   "source": [
    "To figure out the number of advertisements per city we need to aggregate those ads with different postal districts from Dublin as they are separed."
   ]
  },
  {
   "cell_type": "code",
   "execution_count": 6,
   "id": "a9bf9beb-d5e0-4a07-bfc7-8d5662589d38",
   "metadata": {},
   "outputs": [
    {
     "data": {
      "text/html": [
       "<div>\n",
       "<style scoped>\n",
       "    .dataframe tbody tr th:only-of-type {\n",
       "        vertical-align: middle;\n",
       "    }\n",
       "\n",
       "    .dataframe tbody tr th {\n",
       "        vertical-align: top;\n",
       "    }\n",
       "\n",
       "    .dataframe thead th {\n",
       "        text-align: right;\n",
       "    }\n",
       "</style>\n",
       "<table border=\"1\" class=\"dataframe\">\n",
       "  <thead>\n",
       "    <tr style=\"text-align: right;\">\n",
       "      <th></th>\n",
       "      <th>place</th>\n",
       "    </tr>\n",
       "  </thead>\n",
       "  <tbody>\n",
       "    <tr>\n",
       "      <th>4208</th>\n",
       "      <td>Dublin 9</td>\n",
       "    </tr>\n",
       "    <tr>\n",
       "      <th>5853</th>\n",
       "      <td>Dublin 11</td>\n",
       "    </tr>\n",
       "    <tr>\n",
       "      <th>1385</th>\n",
       "      <td>Dublin 18</td>\n",
       "    </tr>\n",
       "  </tbody>\n",
       "</table>\n",
       "</div>"
      ],
      "text/plain": [
       "          place\n",
       "4208   Dublin 9\n",
       "5853  Dublin 11\n",
       "1385  Dublin 18"
      ]
     },
     "execution_count": 6,
     "metadata": {},
     "output_type": "execute_result"
    }
   ],
   "source": [
    "# To show some postal districts\n",
    "sale[['place']].dropna()[sale.place.dropna().str.contains('Dublin')].sample(3)"
   ]
  },
  {
   "cell_type": "markdown",
   "id": "d25b43ae-6a6e-4574-90cc-bae46691fff8",
   "metadata": {},
   "source": [
    "Something similar happens to Cork city but it has sides instead postal districts."
   ]
  },
  {
   "cell_type": "code",
   "execution_count": 7,
   "id": "148f4370-1bf5-4b55-ac0c-64e4a70d18a4",
   "metadata": {},
   "outputs": [
    {
     "data": {
      "text/html": [
       "<div>\n",
       "<style scoped>\n",
       "    .dataframe tbody tr th:only-of-type {\n",
       "        vertical-align: middle;\n",
       "    }\n",
       "\n",
       "    .dataframe tbody tr th {\n",
       "        vertical-align: top;\n",
       "    }\n",
       "\n",
       "    .dataframe thead th {\n",
       "        text-align: right;\n",
       "    }\n",
       "</style>\n",
       "<table border=\"1\" class=\"dataframe\">\n",
       "  <thead>\n",
       "    <tr style=\"text-align: right;\">\n",
       "      <th></th>\n",
       "      <th>freq_abs</th>\n",
       "    </tr>\n",
       "  </thead>\n",
       "  <tbody>\n",
       "    <tr>\n",
       "      <th>Cork city southside</th>\n",
       "      <td>275</td>\n",
       "    </tr>\n",
       "    <tr>\n",
       "      <th>Cork city northside</th>\n",
       "      <td>118</td>\n",
       "    </tr>\n",
       "  </tbody>\n",
       "</table>\n",
       "</div>"
      ],
      "text/plain": [
       "                     freq_abs\n",
       "Cork city southside       275\n",
       "Cork city northside       118"
      ]
     },
     "execution_count": 7,
     "metadata": {},
     "output_type": "execute_result"
    }
   ],
   "source": [
    "# To show both side names\n",
    "pd.DataFrame(sale.place.dropna()[sale.place.dropna().str.contains('Cork')].value_counts()).rename(columns={'place':'freq_abs'})"
   ]
  },
  {
   "cell_type": "markdown",
   "id": "021d8df2-f077-4900-85c7-ef2ee25779a1",
   "metadata": {},
   "source": [
    "So let's build another column changing all those values by `Dublin` or `Cork`. After doing that, we can work with this new column or the another one depending our preferences."
   ]
  },
  {
   "cell_type": "code",
   "execution_count": 8,
   "id": "c5d94dce-8cbf-47e8-a2bd-eb2c15a48f56",
   "metadata": {},
   "outputs": [],
   "source": [
    "# New column from `place` called `cities`\n",
    "sale['cities'] = sale.place.copy()\n",
    "\n",
    "# Index from ads to change\n",
    "ix_to_change_dublin = sale.cities.dropna()[sale.cities.dropna().str.contains('Dublin')].index\n",
    "ix_to_change_cork = sale.cities.dropna()[sale.cities.dropna().str.contains('Cork')].index\n",
    "\n",
    "# Change them\n",
    "sale.loc[ix_to_change_dublin, 'cities'] = 'Dublin'\n",
    "sale.loc[ix_to_change_cork, 'cities'] = 'Cork'"
   ]
  },
  {
   "cell_type": "markdown",
   "id": "5cb97422-2422-4277-8b93-a45e9994e51d",
   "metadata": {},
   "source": [
    "Now let's plot a frequency table to see the number of ads per city."
   ]
  },
  {
   "cell_type": "code",
   "execution_count": 9,
   "id": "0e6feade-d276-40a6-a6ac-38f6e2fb6dc4",
   "metadata": {
    "tags": []
   },
   "outputs": [
    {
     "data": {
      "text/html": [
       "<div>\n",
       "<style scoped>\n",
       "    .dataframe tbody tr th:only-of-type {\n",
       "        vertical-align: middle;\n",
       "    }\n",
       "\n",
       "    .dataframe tbody tr th {\n",
       "        vertical-align: top;\n",
       "    }\n",
       "\n",
       "    .dataframe thead th {\n",
       "        text-align: right;\n",
       "    }\n",
       "</style>\n",
       "<table border=\"1\" class=\"dataframe\">\n",
       "  <thead>\n",
       "    <tr style=\"text-align: right;\">\n",
       "      <th></th>\n",
       "      <th>freq_abs</th>\n",
       "      <th>freq_rel</th>\n",
       "    </tr>\n",
       "  </thead>\n",
       "  <tbody>\n",
       "    <tr>\n",
       "      <th>Dublin</th>\n",
       "      <td>1827</td>\n",
       "      <td>0.24</td>\n",
       "    </tr>\n",
       "    <tr>\n",
       "      <th>Cork</th>\n",
       "      <td>393</td>\n",
       "      <td>0.05</td>\n",
       "    </tr>\n",
       "    <tr>\n",
       "      <th>Galway</th>\n",
       "      <td>204</td>\n",
       "      <td>0.03</td>\n",
       "    </tr>\n",
       "    <tr>\n",
       "      <th>Limerick</th>\n",
       "      <td>180</td>\n",
       "      <td>0.02</td>\n",
       "    </tr>\n",
       "    <tr>\n",
       "      <th>Dun Laoghaire</th>\n",
       "      <td>141</td>\n",
       "      <td>0.02</td>\n",
       "    </tr>\n",
       "  </tbody>\n",
       "</table>\n",
       "</div>"
      ],
      "text/plain": [
       "               freq_abs  freq_rel\n",
       "Dublin             1827      0.24\n",
       "Cork                393      0.05\n",
       "Galway              204      0.03\n",
       "Limerick            180      0.02\n",
       "Dun Laoghaire       141      0.02"
      ]
     },
     "execution_count": 9,
     "metadata": {},
     "output_type": "execute_result"
    }
   ],
   "source": [
    "# Frequency table\n",
    "freq = frequencies(df=sale, variable='cities')\n",
    "freq.head()"
   ]
  },
  {
   "cell_type": "code",
   "execution_count": 10,
   "id": "96869fd4-a388-49b1-ae9c-c03d95e2d5fc",
   "metadata": {},
   "outputs": [
    {
     "data": {
      "image/png": "[encoded data removed]",
      "text/plain": [
       "<Figure size 576x432 with 1 Axes>"
      ]
     },
     "metadata": {
      "needs_background": "light"
     },
     "output_type": "display_data"
    }
   ],
   "source": [
    "# Filter by cities whose frequency is greater than or equal to 50\n",
    "freq_50 = freq[freq.freq_abs >= 100].copy()\n",
    "\n",
    "fig, ax = plt.subplots(figsize=(8,6))\n",
    "\n",
    "ax.barh(freq_50.index, freq_50.freq_rel, color='#b00b1e')\n",
    "\n",
    "ax.set_title('Number of Advertisements Per Town', weight='bold', size=15)\n",
    "ax.set_xlabel('Advertisements in %')\n",
    "\n",
    "for location in ['left', 'bottom', 'right', 'top']:\n",
    "    ax.spines[location].set_visible(False)\n",
    "    \n",
    "#ax.set_yticks([]) \n",
    "ax.tick_params(bottom=False, left=False) "
   ]
  },
  {
   "cell_type": "markdown",
   "id": "d6279b9b-97ab-4a2d-9085-0b8e0031771a",
   "metadata": {},
   "source": [
    "As we can see Dublin and Cork are the cities with more ads. That is not surprising as they are the bigger ones. We will focus on them later."
   ]
  },
  {
   "cell_type": "markdown",
   "id": "b57ba20d-e4b9-4d58-90ee-331e3db302a0",
   "metadata": {
    "tags": []
   },
   "source": [
    "#### Mean price per city"
   ]
  },
  {
   "cell_type": "code",
   "execution_count": 11,
   "id": "74f0b556-8605-41c8-b85c-2e9280db3cbc",
   "metadata": {},
   "outputs": [],
   "source": [
    "# Create new column for square meter prices\n",
    "sale['m2_price'] = sale.price / sale.floor_area"
   ]
  },
  {
   "cell_type": "code",
   "execution_count": 12,
   "id": "238159df-40c9-48d3-a88f-ff4f5341850f",
   "metadata": {},
   "outputs": [
    {
     "data": {
      "text/html": [
       "<div>\n",
       "<style scoped>\n",
       "    .dataframe tbody tr th:only-of-type {\n",
       "        vertical-align: middle;\n",
       "    }\n",
       "\n",
       "    .dataframe tbody tr th {\n",
       "        vertical-align: top;\n",
       "    }\n",
       "\n",
       "    .dataframe thead th {\n",
       "        text-align: right;\n",
       "    }\n",
       "</style>\n",
       "<table border=\"1\" class=\"dataframe\">\n",
       "  <thead>\n",
       "    <tr style=\"text-align: right;\">\n",
       "      <th></th>\n",
       "      <th>m2_price</th>\n",
       "      <th>price</th>\n",
       "    </tr>\n",
       "  </thead>\n",
       "  <tbody>\n",
       "    <tr>\n",
       "      <th>Dublin</th>\n",
       "      <td>5113.91</td>\n",
       "      <td>593717.65</td>\n",
       "    </tr>\n",
       "    <tr>\n",
       "      <th>Cork</th>\n",
       "      <td>3068.37</td>\n",
       "      <td>355484.61</td>\n",
       "    </tr>\n",
       "    <tr>\n",
       "      <th>Galway</th>\n",
       "      <td>2982.44</td>\n",
       "      <td>374845.59</td>\n",
       "    </tr>\n",
       "    <tr>\n",
       "      <th>Limerick</th>\n",
       "      <td>2494.81</td>\n",
       "      <td>316372.22</td>\n",
       "    </tr>\n",
       "    <tr>\n",
       "      <th>Dun Laoghaire</th>\n",
       "      <td>7046.50</td>\n",
       "      <td>1523296.10</td>\n",
       "    </tr>\n",
       "    <tr>\n",
       "      <th>Drogheda</th>\n",
       "      <td>2497.12</td>\n",
       "      <td>301499.58</td>\n",
       "    </tr>\n",
       "    <tr>\n",
       "      <th>Blackrock</th>\n",
       "      <td>6224.91</td>\n",
       "      <td>876110.26</td>\n",
       "    </tr>\n",
       "    <tr>\n",
       "      <th>Waterford</th>\n",
       "      <td>2222.42</td>\n",
       "      <td>332217.59</td>\n",
       "    </tr>\n",
       "  </tbody>\n",
       "</table>\n",
       "</div>"
      ],
      "text/plain": [
       "               m2_price      price\n",
       "Dublin          5113.91  593717.65\n",
       "Cork            3068.37  355484.61\n",
       "Galway          2982.44  374845.59\n",
       "Limerick        2494.81  316372.22\n",
       "Dun Laoghaire   7046.50 1523296.10\n",
       "Drogheda        2497.12  301499.58\n",
       "Blackrock       6224.91  876110.26\n",
       "Waterford       2222.42  332217.59"
      ]
     },
     "execution_count": 12,
     "metadata": {},
     "output_type": "execute_result"
    }
   ],
   "source": [
    "# Mean price by `cities` sorted in descending order\n",
    "# and filter by cities with more than 100 ads\n",
    "mean_price_per_city = pd.pivot_table(data=sale, \n",
    "                                        index='cities', \n",
    "                                        values=['price', 'm2_price'], \n",
    "                                        aggfunc='mean')\\\n",
    "                        .sort_values(by='m2_price', ascending=False)\\\n",
    "                        .loc[freq[freq.freq_abs > 100].index]\n",
    "\n",
    "# Cities with more than 100 ads\n",
    "mean_price_per_city"
   ]
  },
  {
   "cell_type": "markdown",
   "id": "37012458-a1f9-4f27-ba30-0eb36ad98eea",
   "metadata": {},
   "source": [
    "Let's plot both mean prices."
   ]
  },
  {
   "cell_type": "code",
   "execution_count": 13,
   "id": "79486440-342e-40f2-90dd-ff27428e910b",
   "metadata": {},
   "outputs": [
    {
     "data": {
      "image/png": "[encoded data removed]",
      "text/plain": [
       "<Figure size 1224x504 with 2 Axes>"
      ]
     },
     "metadata": {
      "needs_background": "light"
     },
     "output_type": "display_data"
    }
   ],
   "source": [
    "fig, axs = plt.subplots(1, 2, figsize=(17, 7))\n",
    "\n",
    "axs = sns.barplot(mean_price_per_city.price.index, \n",
    "                  mean_price_per_city.price, \n",
    "                  ax=axs[0], color='#b00b1e')\n",
    "axs.set_title('Mean Price Per City', weight='bold', size=15)\n",
    "axs.ticklabel_format(style='plain', axis='y')\n",
    "axs.set_xticklabels(mean_price_per_city.price.index, \n",
    "                    rotation=45)\n",
    "for location in ['left', 'bottom', 'right', 'top']:\n",
    "    axs.spines[location].set_visible(False)\n",
    "    \n",
    "axs.tick_params(bottom=False, left=False);\n",
    "\n",
    "\n",
    "axs = sns.barplot(x=mean_price_per_city.m2_price.index, \n",
    "                  y=mean_price_per_city.m2_price, \n",
    "                  color='#b00b1e') \n",
    "axs.set_title('Mean Square Meter Price Per City', weight='bold', size=15)\n",
    "axs.ticklabel_format(style='plain', axis='y')\n",
    "axs.set_xticklabels(mean_price_per_city.m2_price.index, \n",
    "                    rotation=45)\n",
    "for location in ['left', 'bottom', 'right', 'top']:\n",
    "    axs.spines[location].set_visible(False)\n",
    "    \n",
    "axs.tick_params(bottom=False, left=False);"
   ]
  },
  {
   "cell_type": "markdown",
   "id": "39c9cd9a-af85-4250-b0b6-f1c22a376267",
   "metadata": {},
   "source": [
    "Places with highest prices are Dublin, Laoghaire, and Blackrock. However, Dun Laoghaire and Blackronck belong to Dublin. In this case it has been decided to study them separately.\n",
    "\n",
    "- Blackrock has `m2_price` pretty similar than Dun Laoghaire but a considerable lower `price`, which means that Blackrock houses are smaller than Dun Laoghaire ones.Something similar happens between Dun Laoghaire and Dublin. \n",
    "- Cork y Galway, which are second and third cities by number of unhabitants, have very similar prices."
   ]
  },
  {
   "cell_type": "markdown",
   "id": "49b80954-fdbc-4421-a521-df6369bdf57d",
   "metadata": {
    "tags": []
   },
   "source": [
    "#### Mean price per city by type_house"
   ]
  },
  {
   "cell_type": "code",
   "execution_count": 14,
   "id": "5ddfd39d-b7a0-4f8b-b937-dd8db97908ef",
   "metadata": {},
   "outputs": [
    {
     "data": {
      "text/html": [
       "<div>\n",
       "<style scoped>\n",
       "    .dataframe tbody tr th:only-of-type {\n",
       "        vertical-align: middle;\n",
       "    }\n",
       "\n",
       "    .dataframe tbody tr th {\n",
       "        vertical-align: top;\n",
       "    }\n",
       "\n",
       "    .dataframe thead tr th {\n",
       "        text-align: left;\n",
       "    }\n",
       "\n",
       "    .dataframe thead tr:last-of-type th {\n",
       "        text-align: right;\n",
       "    }\n",
       "</style>\n",
       "<table border=\"1\" class=\"dataframe\">\n",
       "  <thead>\n",
       "    <tr>\n",
       "      <th></th>\n",
       "      <th colspan=\"2\" halign=\"left\">m2_price</th>\n",
       "      <th colspan=\"2\" halign=\"left\">price</th>\n",
       "    </tr>\n",
       "    <tr>\n",
       "      <th>type_house</th>\n",
       "      <th>apartment</th>\n",
       "      <th>house</th>\n",
       "      <th>apartment</th>\n",
       "      <th>house</th>\n",
       "    </tr>\n",
       "    <tr>\n",
       "      <th>cities</th>\n",
       "      <th></th>\n",
       "      <th></th>\n",
       "      <th></th>\n",
       "      <th></th>\n",
       "    </tr>\n",
       "  </thead>\n",
       "  <tbody>\n",
       "    <tr>\n",
       "      <th>Dublin</th>\n",
       "      <td>5201.67</td>\n",
       "      <td>5086.17</td>\n",
       "      <td>384211.42</td>\n",
       "      <td>699814.24</td>\n",
       "    </tr>\n",
       "    <tr>\n",
       "      <th>Cork</th>\n",
       "      <td>3449.26</td>\n",
       "      <td>3009.92</td>\n",
       "      <td>241361.70</td>\n",
       "      <td>374237.88</td>\n",
       "    </tr>\n",
       "    <tr>\n",
       "      <th>Galway</th>\n",
       "      <td>3346.30</td>\n",
       "      <td>2834.34</td>\n",
       "      <td>236055.56</td>\n",
       "      <td>417087.25</td>\n",
       "    </tr>\n",
       "    <tr>\n",
       "      <th>Limerick</th>\n",
       "      <td>2562.78</td>\n",
       "      <td>2499.21</td>\n",
       "      <td>172586.21</td>\n",
       "      <td>348503.55</td>\n",
       "    </tr>\n",
       "    <tr>\n",
       "      <th>Dun Laoghaire</th>\n",
       "      <td>6481.73</td>\n",
       "      <td>7157.72</td>\n",
       "      <td>583698.15</td>\n",
       "      <td>1815234.91</td>\n",
       "    </tr>\n",
       "    <tr>\n",
       "      <th>Drogheda</th>\n",
       "      <td>2356.28</td>\n",
       "      <td>2508.97</td>\n",
       "      <td>171702.94</td>\n",
       "      <td>327551.54</td>\n",
       "    </tr>\n",
       "    <tr>\n",
       "      <th>Blackrock</th>\n",
       "      <td>6084.17</td>\n",
       "      <td>6299.70</td>\n",
       "      <td>508460.26</td>\n",
       "      <td>1074864.19</td>\n",
       "    </tr>\n",
       "    <tr>\n",
       "      <th>Waterford</th>\n",
       "      <td>1970.78</td>\n",
       "      <td>2279.28</td>\n",
       "      <td>133947.37</td>\n",
       "      <td>373687.50</td>\n",
       "    </tr>\n",
       "  </tbody>\n",
       "</table>\n",
       "</div>"
      ],
      "text/plain": [
       "               m2_price             price           \n",
       "type_house    apartment   house apartment      house\n",
       "cities                                              \n",
       "Dublin          5201.67 5086.17 384211.42  699814.24\n",
       "Cork            3449.26 3009.92 241361.70  374237.88\n",
       "Galway          3346.30 2834.34 236055.56  417087.25\n",
       "Limerick        2562.78 2499.21 172586.21  348503.55\n",
       "Dun Laoghaire   6481.73 7157.72 583698.15 1815234.91\n",
       "Drogheda        2356.28 2508.97 171702.94  327551.54\n",
       "Blackrock       6084.17 6299.70 508460.26 1074864.19\n",
       "Waterford       1970.78 2279.28 133947.37  373687.50"
      ]
     },
     "execution_count": 14,
     "metadata": {},
     "output_type": "execute_result"
    }
   ],
   "source": [
    "# Mean price by `cities` and `type_house`\n",
    "# and filter by cities with more than 100 ads\n",
    "mean_price_per_city_by_type_house = pd.pivot_table(data=sale, \n",
    "                                                   index=['cities', 'type_house'], \n",
    "                                                   values=['price', 'm2_price'], \n",
    "                                                   aggfunc='mean')\\\n",
    "                                      .sort_values(by='price', \n",
    "                                                   ascending=False)\\\n",
    "                                      .loc[freq[freq.freq_abs > 100].index]\\\n",
    "                                      .unstack()\n",
    "\n",
    "mean_price_per_city_by_type_house"
   ]
  },
  {
   "cell_type": "code",
   "execution_count": 15,
   "id": "a26541b8-7f54-46fa-9707-560adde6ed4f",
   "metadata": {},
   "outputs": [
    {
     "data": {
      "image/png": "[encoded data removed]",
      "text/plain": [
       "<Figure size 1224x504 with 2 Axes>"
      ]
     },
     "metadata": {
      "needs_background": "light"
     },
     "output_type": "display_data"
    }
   ],
   "source": [
    "fig, ax = plt.subplots(1, 2, figsize=(17, 7))\n",
    "\n",
    "mean_price_per_city_by_type_house.price.plot(kind='bar', \n",
    "                                             stacked=False, \n",
    "                                             ax=ax[0], color=['#294B63', '#b00b1e'])    \n",
    "ax[0].set_title('Mean Price Per City By Type House', weight='bold', size=15)\n",
    "ax[0].ticklabel_format(style='plain', axis='y')\n",
    "ax[0].set_xticklabels(mean_price_per_city_by_type_house.index, rotation=45)\n",
    "ax[0].tick_params(bottom=False, left=False)\n",
    "ax[0].set_xlabel('')\n",
    "for location in ['left', 'bottom', 'right', 'top']:\n",
    "    ax[0].spines[location].set_visible(False)\n",
    "\n",
    "mean_price_per_city_by_type_house.m2_price.plot(kind='bar', \n",
    "                                                stacked=False, \n",
    "                                                ax=ax[1], color=['#294B63', '#b00b1e']);\n",
    "ax[1].set_title('Mean m² Price Per City By Type House', weight='bold', size=15)\n",
    "ax[1].set_xticklabels(mean_price_per_city_by_type_house.index, rotation=45)\n",
    "ax[1].tick_params(bottom=False, left=False)\n",
    "ax[1].set_xlabel('')\n",
    "for location in ['left', 'bottom', 'right', 'top']:\n",
    "    ax[1].spines[location].set_visible(False)"
   ]
  },
  {
   "cell_type": "markdown",
   "id": "c3eb2ee8-47b6-4287-8451-307d888d0df3",
   "metadata": {},
   "source": [
    "- `m2_price` is pretty similar between apartmets and houses in Dublin, Dun Laoghaire, and Blackrock. However, houses prices are more expensive in the three places than apartment prices which means that houses tend to be bigger than apartments. \n",
    "- In Cork, as in Dublin, the apartments square meter prices are a little bigger than apartments ones but houses are more expensives. That means that the same patter happens there. "
   ]
  },
  {
   "cell_type": "markdown",
   "id": "4a0e0874-36d0-417f-abc3-bb13c1ddb1f4",
   "metadata": {
    "tags": []
   },
   "source": [
    "### Dublin's Real Estate Market"
   ]
  },
  {
   "cell_type": "markdown",
   "id": "9b49bc63-30c1-42ff-9678-4bafd573cb16",
   "metadata": {},
   "source": [
    "We will need postal district's data if we want to dig a little into Dublin's Real Estate Market."
   ]
  },
  {
   "cell_type": "markdown",
   "id": "ed9724e6-ad47-434d-8a95-3b931c9b1da2",
   "metadata": {
    "tags": []
   },
   "source": [
    "#### House Mean Price Per Postal District"
   ]
  },
  {
   "cell_type": "code",
   "execution_count": 16,
   "id": "1b2c2e94-dbca-4078-bfce-e276080929ec",
   "metadata": {},
   "outputs": [
    {
     "data": {
      "text/plain": [
       "(2085, 26)"
      ]
     },
     "execution_count": 16,
     "metadata": {},
     "output_type": "execute_result"
    }
   ],
   "source": [
    "# Filter to take Dublin related information\n",
    "sale_dublin = sale.dropna(subset=['place']).loc[(sale.place.dropna().str.contains('Dublin'))\n",
    "                                                | (sale.place == 'Blackrock')\n",
    "                                                | (sale.place == 'Dun Laoghaire')]\n",
    "sale_dublin.shape"
   ]
  },
  {
   "cell_type": "code",
   "execution_count": 17,
   "id": "fb5832c4-e85e-4063-8e39-023421c2f5fd",
   "metadata": {},
   "outputs": [
    {
     "data": {
      "text/html": [
       "<div>\n",
       "<style scoped>\n",
       "    .dataframe tbody tr th:only-of-type {\n",
       "        vertical-align: middle;\n",
       "    }\n",
       "\n",
       "    .dataframe tbody tr th {\n",
       "        vertical-align: top;\n",
       "    }\n",
       "\n",
       "    .dataframe thead th {\n",
       "        text-align: right;\n",
       "    }\n",
       "</style>\n",
       "<table border=\"1\" class=\"dataframe\">\n",
       "  <thead>\n",
       "    <tr style=\"text-align: right;\">\n",
       "      <th></th>\n",
       "      <th>m2_price</th>\n",
       "      <th>price</th>\n",
       "    </tr>\n",
       "    <tr>\n",
       "      <th>place</th>\n",
       "      <th></th>\n",
       "      <th></th>\n",
       "    </tr>\n",
       "  </thead>\n",
       "  <tbody>\n",
       "    <tr>\n",
       "      <th>Dun Laoghaire</th>\n",
       "      <td>7046.50</td>\n",
       "      <td>1523296.10</td>\n",
       "    </tr>\n",
       "    <tr>\n",
       "      <th>Dublin 6</th>\n",
       "      <td>6859.80</td>\n",
       "      <td>1174651.58</td>\n",
       "    </tr>\n",
       "    <tr>\n",
       "      <th>Dublin 4</th>\n",
       "      <td>7393.07</td>\n",
       "      <td>1019543.21</td>\n",
       "    </tr>\n",
       "    <tr>\n",
       "      <th>Blackrock</th>\n",
       "      <td>6224.91</td>\n",
       "      <td>876110.26</td>\n",
       "    </tr>\n",
       "    <tr>\n",
       "      <th>Dublin 2</th>\n",
       "      <td>6666.84</td>\n",
       "      <td>834261.90</td>\n",
       "    </tr>\n",
       "  </tbody>\n",
       "</table>\n",
       "</div>"
      ],
      "text/plain": [
       "               m2_price      price\n",
       "place                             \n",
       "Dun Laoghaire   7046.50 1523296.10\n",
       "Dublin 6        6859.80 1174651.58\n",
       "Dublin 4        7393.07 1019543.21\n",
       "Blackrock       6224.91  876110.26\n",
       "Dublin 2        6666.84  834261.90"
      ]
     },
     "execution_count": 17,
     "metadata": {},
     "output_type": "execute_result"
    }
   ],
   "source": [
    "# Mean price by `place`\n",
    "mean_price_dublin_by_postal_districts = pd.pivot_table(data=sale_dublin, \n",
    "                                                       index='place', \n",
    "                                                       values=['price', 'm2_price'], \n",
    "                                                       aggfunc='mean')\\\n",
    "                                          .sort_values(by='price', \n",
    "                                                       ascending=False)\n",
    "\n",
    "mean_price_dublin_by_postal_districts.head(5)"
   ]
  },
  {
   "cell_type": "code",
   "execution_count": 18,
   "id": "0664a608-ad27-4760-8485-fc8c05594949",
   "metadata": {},
   "outputs": [
    {
     "data": {
      "image/png": "[encoded data removed]",
      "text/plain": [
       "<Figure size 1224x720 with 2 Axes>"
      ]
     },
     "metadata": {
      "needs_background": "light"
     },
     "output_type": "display_data"
    }
   ],
   "source": [
    "data = mean_price_dublin_by_postal_districts\n",
    "\n",
    "fig, ax = plt.subplots(1, 2, figsize=(17, 10))\n",
    "\n",
    "ax[0].barh(data.index, data.price, data=data, color='#b00b1e')\n",
    "ax[0].set_title('Mean price per Postal District', weight='bold', size=15)\n",
    "ax[0].ticklabel_format(style='plain', axis='x')\n",
    "ax[0].tick_params(bottom=False, left=False)\n",
    "for location in ['left', 'bottom', 'right', 'top']:\n",
    "    ax[0].spines[location].set_visible(False)\n",
    "\n",
    "ax[1].barh(data.index, data.m2_price, data=data, color='#b00b1e') \n",
    "ax[1].set_title('Mean m2 price per Postal District', weight='bold', size=15)\n",
    "ax[1].ticklabel_format(style='plain', axis='x')\n",
    "ax[1].tick_params(bottom=False, left=False)\n",
    "for location in ['left', 'bottom', 'right', 'top']:\n",
    "    ax[1].spines[location].set_visible(False)"
   ]
  },
  {
   "cell_type": "markdown",
   "id": "24d7a030-2fac-4ea5-8dc6-c02a57435e41",
   "metadata": {},
   "source": [
    "As we see in the left graph the more expensive districts are Dun Laoghaire, Dublin 6, and Dublin 4. One thing that catch my attention is Dublin 10. Their houses prices are the cheapest ones but their square meter mean price is 6.000€! Despite having low sale prices they are actually pretty expensive."
   ]
  },
  {
   "cell_type": "markdown",
   "id": "fa4a8f57-5ca0-4497-95d1-0e70dbbdbe9b",
   "metadata": {
    "tags": []
   },
   "source": [
    "#### House Mean Price Per Postal District And Type House"
   ]
  },
  {
   "cell_type": "code",
   "execution_count": 19,
   "id": "74c723f7-ebfe-4304-9d45-3e5bf28ec729",
   "metadata": {},
   "outputs": [
    {
     "data": {
      "text/html": [
       "<div>\n",
       "<style scoped>\n",
       "    .dataframe tbody tr th:only-of-type {\n",
       "        vertical-align: middle;\n",
       "    }\n",
       "\n",
       "    .dataframe tbody tr th {\n",
       "        vertical-align: top;\n",
       "    }\n",
       "\n",
       "    .dataframe thead tr th {\n",
       "        text-align: left;\n",
       "    }\n",
       "\n",
       "    .dataframe thead tr:last-of-type th {\n",
       "        text-align: right;\n",
       "    }\n",
       "</style>\n",
       "<table border=\"1\" class=\"dataframe\">\n",
       "  <thead>\n",
       "    <tr>\n",
       "      <th></th>\n",
       "      <th colspan=\"2\" halign=\"left\">m2_price</th>\n",
       "      <th colspan=\"2\" halign=\"left\">price</th>\n",
       "    </tr>\n",
       "    <tr>\n",
       "      <th>type_house</th>\n",
       "      <th>apartment</th>\n",
       "      <th>house</th>\n",
       "      <th>apartment</th>\n",
       "      <th>house</th>\n",
       "    </tr>\n",
       "    <tr>\n",
       "      <th>place</th>\n",
       "      <th></th>\n",
       "      <th></th>\n",
       "      <th></th>\n",
       "      <th></th>\n",
       "    </tr>\n",
       "  </thead>\n",
       "  <tbody>\n",
       "    <tr>\n",
       "      <th>Blackrock</th>\n",
       "      <td>6084.17</td>\n",
       "      <td>6299.70</td>\n",
       "      <td>508460.26</td>\n",
       "      <td>1074864.19</td>\n",
       "    </tr>\n",
       "    <tr>\n",
       "      <th>Dublin 1</th>\n",
       "      <td>5550.61</td>\n",
       "      <td>4782.34</td>\n",
       "      <td>451165.91</td>\n",
       "      <td>483447.96</td>\n",
       "    </tr>\n",
       "    <tr>\n",
       "      <th>Dublin 10</th>\n",
       "      <td>3627.45</td>\n",
       "      <td>6355.89</td>\n",
       "      <td>185000.00</td>\n",
       "      <td>294000.00</td>\n",
       "    </tr>\n",
       "    <tr>\n",
       "      <th>Dublin 11</th>\n",
       "      <td>3432.50</td>\n",
       "      <td>3734.97</td>\n",
       "      <td>212661.11</td>\n",
       "      <td>382877.03</td>\n",
       "    </tr>\n",
       "    <tr>\n",
       "      <th>Dublin 12</th>\n",
       "      <td>3922.84</td>\n",
       "      <td>4384.43</td>\n",
       "      <td>273368.75</td>\n",
       "      <td>445923.53</td>\n",
       "    </tr>\n",
       "  </tbody>\n",
       "</table>\n",
       "</div>"
      ],
      "text/plain": [
       "            m2_price             price           \n",
       "type_house apartment   house apartment      house\n",
       "place                                            \n",
       "Blackrock    6084.17 6299.70 508460.26 1074864.19\n",
       "Dublin 1     5550.61 4782.34 451165.91  483447.96\n",
       "Dublin 10    3627.45 6355.89 185000.00  294000.00\n",
       "Dublin 11    3432.50 3734.97 212661.11  382877.03\n",
       "Dublin 12    3922.84 4384.43 273368.75  445923.53"
      ]
     },
     "execution_count": 19,
     "metadata": {},
     "output_type": "execute_result"
    }
   ],
   "source": [
    "# Mean price by `place` and `type_house`\n",
    "mean_price_dublin_by_postal_district_and_type_house = pd.pivot_table(data=sale_dublin, \n",
    "                                                                     index=['place', 'type_house'], \n",
    "                                                                     values=['price', 'm2_price'], \n",
    "                                                                     aggfunc='mean')\\\n",
    "                                                        .sort_values(by='price', \n",
    "                                                                     ascending=False)\\\n",
    "                                                        .unstack()\n",
    "\n",
    "mean_price_dublin_by_postal_district_and_type_house.head()"
   ]
  },
  {
   "cell_type": "code",
   "execution_count": 20,
   "id": "83f3cbc2-01a0-46e7-8de5-bbc2f1264a18",
   "metadata": {},
   "outputs": [
    {
     "data": {
      "image/png": "[encoded data removed]",
      "text/plain": [
       "<Figure size 1224x504 with 2 Axes>"
      ]
     },
     "metadata": {
      "needs_background": "light"
     },
     "output_type": "display_data"
    }
   ],
   "source": [
    "data = mean_price_dublin_by_postal_district_and_type_house\n",
    "\n",
    "fig, ax = plt.subplots(1, 2, figsize=(17, 7))\n",
    "\n",
    "data.plot(y='price', kind='bar', stacked=False, ax=ax[0], color=['#294B63', '#b00b1e'])\n",
    "ax[0].set_title('Mean Price Per Postal District And Type House', weight='bold', size=15)\n",
    "ax[0].ticklabel_format(style='plain', axis='y')\n",
    "ax[0].tick_params(bottom=False, left=False)\n",
    "ax[0].set_xlabel('')\n",
    "for location in ['left', 'bottom', 'right', 'top']:\n",
    "    ax[0].spines[location].set_visible(False)\n",
    "\n",
    "data.plot(y='m2_price', kind='bar', stacked=False, ax=ax[1], color=['#294B63', '#b00b1e'])\n",
    "ax[1].set_title('Mean m² Price Per Postal District And Type House', weight='bold', size=15)\n",
    "ax[1].tick_params(bottom=False, left=False)\n",
    "ax[1].set_xlabel('')\n",
    "for location in ['left', 'bottom', 'right', 'top']:\n",
    "    ax[1].spines[location].set_visible(False)"
   ]
  },
  {
   "cell_type": "markdown",
   "id": "3705cbce-ba42-467f-b60c-a4cbee557ad2",
   "metadata": {},
   "source": [
    "House total prices are higher than apartment ones but their mean square meter price are similar so that confirm our thouth about houses size. The `type_house` variable should be a good price predictor. "
   ]
  },
  {
   "cell_type": "markdown",
   "id": "0a748084-8bea-44d0-b32c-32676e220362",
   "metadata": {
    "tags": []
   },
   "source": [
    "#### Floor Area Per Postal District And Type House"
   ]
  },
  {
   "cell_type": "code",
   "execution_count": 21,
   "id": "b8385bb3-5269-411f-9281-097611707cb0",
   "metadata": {},
   "outputs": [
    {
     "data": {
      "text/html": [
       "<div>\n",
       "<style scoped>\n",
       "    .dataframe tbody tr th:only-of-type {\n",
       "        vertical-align: middle;\n",
       "    }\n",
       "\n",
       "    .dataframe tbody tr th {\n",
       "        vertical-align: top;\n",
       "    }\n",
       "\n",
       "    .dataframe thead tr th {\n",
       "        text-align: left;\n",
       "    }\n",
       "\n",
       "    .dataframe thead tr:last-of-type th {\n",
       "        text-align: right;\n",
       "    }\n",
       "</style>\n",
       "<table border=\"1\" class=\"dataframe\">\n",
       "  <thead>\n",
       "    <tr>\n",
       "      <th></th>\n",
       "      <th colspan=\"2\" halign=\"left\">floor_area</th>\n",
       "    </tr>\n",
       "    <tr>\n",
       "      <th>type_house</th>\n",
       "      <th>apartment</th>\n",
       "      <th>house</th>\n",
       "    </tr>\n",
       "    <tr>\n",
       "      <th>place</th>\n",
       "      <th></th>\n",
       "      <th></th>\n",
       "    </tr>\n",
       "  </thead>\n",
       "  <tbody>\n",
       "    <tr>\n",
       "      <th>Blackrock</th>\n",
       "      <td>86.23</td>\n",
       "      <td>171.95</td>\n",
       "    </tr>\n",
       "    <tr>\n",
       "      <th>Dublin 1</th>\n",
       "      <td>83.35</td>\n",
       "      <td>101.51</td>\n",
       "    </tr>\n",
       "    <tr>\n",
       "      <th>Dublin 10</th>\n",
       "      <td>51.00</td>\n",
       "      <td>86.27</td>\n",
       "    </tr>\n",
       "    <tr>\n",
       "      <th>Dublin 11</th>\n",
       "      <td>62.78</td>\n",
       "      <td>128.05</td>\n",
       "    </tr>\n",
       "    <tr>\n",
       "      <th>Dublin 12</th>\n",
       "      <td>72.12</td>\n",
       "      <td>103.66</td>\n",
       "    </tr>\n",
       "  </tbody>\n",
       "</table>\n",
       "</div>"
      ],
      "text/plain": [
       "           floor_area       \n",
       "type_house  apartment  house\n",
       "place                       \n",
       "Blackrock       86.23 171.95\n",
       "Dublin 1        83.35 101.51\n",
       "Dublin 10       51.00  86.27\n",
       "Dublin 11       62.78 128.05\n",
       "Dublin 12       72.12 103.66"
      ]
     },
     "execution_count": 21,
     "metadata": {},
     "output_type": "execute_result"
    }
   ],
   "source": [
    "# Mean floor area by `place` and `type_house`\n",
    "mean_floor_area_dublin_by_postal_district = pd.pivot_table(data=sale_dublin, \n",
    "                                                           index=['place', 'type_house'], \n",
    "                                                           values='floor_area', \n",
    "                                                           aggfunc='mean')\\\n",
    "                                              .sort_values(by='floor_area', \n",
    "                                                           ascending=False)\\\n",
    "                                              .unstack()\n",
    "\n",
    "mean_floor_area_dublin_by_postal_district.head()"
   ]
  },
  {
   "cell_type": "code",
   "execution_count": 22,
   "id": "31e1c2b4-df8d-437b-bd2f-e2db81d6e8c6",
   "metadata": {},
   "outputs": [
    {
     "data": {
      "image/png": "[encoded data removed]",
      "text/plain": [
       "<Figure size 576x432 with 1 Axes>"
      ]
     },
     "metadata": {
      "needs_background": "light"
     },
     "output_type": "display_data"
    }
   ],
   "source": [
    "fig, ax = plt.subplots(figsize=(8,6))\n",
    "\n",
    "mean_floor_area_dublin_by_postal_district.plot(y='floor_area', kind='bar', stacked=False, \n",
    "                                               ax=ax, color=['#294B63', '#b00b1e'])\n",
    "ax.set_title('Mean Floor Area Per Postal District And Type House', weight='bold', size=15)\n",
    "ax.tick_params(bottom=False, left=False)\n",
    "ax.set_xlabel('')\n",
    "for location in ['left', 'bottom', 'right', 'top']:\n",
    "    ax.spines[location].set_visible(False)"
   ]
  },
  {
   "cell_type": "markdown",
   "id": "31a3801f-1e77-4f8f-83a7-780a012bae23",
   "metadata": {},
   "source": [
    "As we deduced earlier Dublin 10 has really small houses.\n",
    "\n",
    "`type_house` and `floor_area` should both be good predictors but they may be correlated so they could proxy each other. "
   ]
  },
  {
   "cell_type": "code",
   "execution_count": null,
   "id": "d18be725-e9f5-4756-9754-f1383118292f",
   "metadata": {},
   "outputs": [],
   "source": []
  },
  {
   "cell_type": "raw",
   "id": "05410204-f4ca-4d2b-9519-dad78e206b57",
   "metadata": {},
   "source": [
    "import plotly\n",
    "import plotly.express as px\n",
    "import plotly.graph_objects as go\n",
    "from plotly.subplots import make_subplots"
   ]
  },
  {
   "cell_type": "raw",
   "id": "97af5ee1-b1f2-40b7-9e2e-5eca9cd56fac",
   "metadata": {},
   "source": [
    "sale_dublin.shape"
   ]
  },
  {
   "cell_type": "raw",
   "id": "ee995ddb-e434-4f72-aa18-804dd03733bf",
   "metadata": {
    "tags": []
   },
   "source": [
    "import geojson\n",
    "import pandas as pd\n",
    "import plotly.graph_objects as go\n",
    "\n",
    "with open(\"data/ireland.json\", \"r\", encoding=\"utf-8\") as f:\n",
    "    geometry = geojson.load(f)\n",
    "\n",
    "fig = go.Figure([\n",
    "    go.Choropleth(\n",
    "        geojson = geometry,\n",
    "        locations = df[\"code\"],\n",
    "        z = df[\"crude_rate\"],\n",
    "        text = df[\"label\"]\n",
    ")])\n",
    "\n",
    "fig.update_geos(\n",
    "    fitbounds=\"locations\",\n",
    "    resolution=50,\n",
    "    visible=False,\n",
    "    showframe=False,\n",
    "    projection={\"type\": \"mercator\"},\n",
    ")"
   ]
  },
  {
   "cell_type": "raw",
   "id": "38b298c4-4cc7-477f-b164-c8cdc003870e",
   "metadata": {},
   "source": [
    "df = sale_dublin.groupby('place')[['place', 'price']].mean().reset_index()\n",
    "df.head()"
   ]
  },
  {
   "cell_type": "raw",
   "id": "67d28bf3-f169-44e3-8bfe-c4de1006a7ba",
   "metadata": {},
   "source": [
    "import plotly\n",
    "import plotly.express as px\n",
    "import plotly.graph_objects as go\n",
    "from plotly.subplots import make_subplots\n",
    "import json\n",
    "import geojson\n",
    "import pandas as pd\n",
    "import plotly.graph_objects as go\n",
    "\n",
    "import urlopen\n",
    "    \n",
    "#with urlopen('https://gist.githubusercontent.com/eoiny/2183412/raw/34de95240578d5f269bb7bb2b1356da004d337f5/ireland.json') as response:\n",
    "#type(geometry)   \n",
    " #   geometry = json.load(response)\n",
    "    \n",
    "#with open(\"data/dublin_postcode_boundaries.geojson\", \"r\", encoding=\"utf-8\") as f:\n",
    " #   geometry = geojson.load(f)\n",
    "\n",
    "dublin_pd = json.load(open(\"data/dublin_postcode_boundaries_adapted.geojson\", \"r\"))\n",
    "    \n",
    "    \n",
    "#fig = px.choropleth_mapbox(df, \n",
    " #                          geojson=geometry, \n",
    "  #                         color=\"price\",\n",
    "   #                        locations=\"place\", \n",
    "    #                       featureidkey=\"properties.district\",\n",
    "     #                      center={\"lat\": 53.3434, \"lon\": -6.26761},\n",
    "      #                     mapbox_style=\"carto-positron\", \n",
    "       #                    zoom=9)\n",
    "#fig.show()"
   ]
  },
  {
   "cell_type": "raw",
   "id": "b0cf09d5-a8f1-4279-b435-8b4a2048c37e",
   "metadata": {},
   "source": [
    "dublin_pd['features'][2]['properties']['postcodes']"
   ]
  },
  {
   "cell_type": "raw",
   "id": "8bbcbd78-c53b-4e75-a2dd-c0b43928a7f9",
   "metadata": {},
   "source": [
    "for feature in dublin_pd['features']:\n",
    "    feature['id'] = feature['properties']['postcodes'].split()[1]"
   ]
  },
  {
   "cell_type": "raw",
   "id": "371bf2b2-74f1-41e1-a1bf-bf6233c50115",
   "metadata": {},
   "source": [
    "dublin_pd['features'][2]['place']"
   ]
  },
  {
   "cell_type": "raw",
   "id": "0374f1e3-4de4-4f4f-bad5-a6b7eb2c7657",
   "metadata": {},
   "source": [
    "dublin_pd['features'][2]['id']"
   ]
  },
  {
   "cell_type": "raw",
   "id": "43d30095-3e17-48bf-9278-ab1e0b6f65a8",
   "metadata": {},
   "source": [
    "len(dublin_pd['features'])#['place']"
   ]
  },
  {
   "cell_type": "raw",
   "id": "472457db-5b69-47dc-9975-2dfbf87f8bf6",
   "metadata": {},
   "source": [
    "#dublin_pd['features'][0]"
   ]
  },
  {
   "cell_type": "raw",
   "id": "156cb985-42be-46e0-8ac7-af81122cc515",
   "metadata": {},
   "source": [
    "#df"
   ]
  },
  {
   "cell_type": "raw",
   "id": "52b7fa03-2384-41f1-8800-b1db8a10a321",
   "metadata": {},
   "source": [
    "df2 = df.loc[(df.place != 'Blackrock') & (df.place != 'Dun Laoghaire')]####.head()"
   ]
  },
  {
   "cell_type": "raw",
   "id": "71148c47-d70a-4154-8a98-e077246b3bdf",
   "metadata": {},
   "source": [
    "df2['id'] = df2.place.str.split().str[1]\n",
    "df2.head()"
   ]
  },
  {
   "cell_type": "raw",
   "id": "5f7bf43d-9242-43c4-919c-c2bc92d6136e",
   "metadata": {},
   "source": [
    "#fig = px.choropleth(df2, \n",
    " #                   locations='place', \n",
    "  #                  geojson=dublin_pd, \n",
    "   #                 color='price',\n",
    "    #                center={\"lat\": 53.3434, \"lon\": -6.26761},\n",
    "     #              )\n",
    "\n",
    "fig = px.choropleth_mapbox(df2, \n",
    "                           geojson=dublin_pd, \n",
    "                           color=\"price\",\n",
    "                           locations=\"id\", \n",
    "                           color_continuous_scale=\"Viridis\",\n",
    "                           opacity=0.5,\n",
    "                      #     featureidkey=\"properties.district\",\n",
    "                           center={\"lat\": 53.3434, \"lon\": -6.26761},\n",
    "                           mapbox_style=\"carto-positron\", \n",
    "                           zoom=9)\n",
    "\n",
    "fig.show()"
   ]
  },
  {
   "cell_type": "raw",
   "id": "3a74b85a-61bb-4875-abe9-7dd6c06af909",
   "metadata": {},
   "source": [
    "fig1 = px.choropleth(adh_state, \n",
    "                     locations=adh_state[‘STATEAB’], \n",
    "                     locationmode=”USA-states”,\n",
    "                     color=’PER_ADH’,\n",
    "                     color_continuous_scale=”inferno”,\n",
    "                     range_color=(0, 100),\n",
    " #                    scope=”usa”,\n",
    "  #                   labels={‘PER_ADH’:’%Adherents’},\n",
    "   #                  hover_name=’State Name’,\n",
    "    #                 hover_data={‘STATEAB’:False,\n",
    "     #                            ’State Name’:False,\n",
    "      #                           ’ADHERENT’:False,\n",
    "       #                          ’TOTPOP’:False,\n",
    "        #                         ’PER_ADH’:True}\n",
    "                    )\n",
    "\n",
    "fig1.update_layout(margin={“r”:0,”t”:0,”l”:0,”b”:0})\n",
    "fig1.show()"
   ]
  },
  {
   "cell_type": "raw",
   "id": "2506bbcd-e726-450b-9a33-9b2b34bbb688",
   "metadata": {},
   "source": [
    "fig1 = px.choropleth(adh_county, \n",
    "                     geojson=counties, \n",
    "                     locations=’FIPSMERG’, \n",
    "                     color=’PER_ADH’,\n",
    "                     color_continuous_scale=”inferno”,\n",
    "                     range_color=(0, 100),\n",
    "   #                  scope=”usa”,\n",
    "    #                 labels={‘PER_ADH’:’%Adherents’},\n",
    "     #                hover_name=’CNTYNM’,\n",
    "      #               hover_data={‘FIPSMERG’:False,\n",
    "       #                          ’CNTYNM’:False,\n",
    "        #                         ’STATEAB’:False,\n",
    "         #                        ’ADHERENT’:False,\n",
    "          #                       ‘TOTPOP’:False,\n",
    "           #                      ’PER_ADH’:True})\n",
    "\n",
    "fig1.update_layout(margin={“r”:0,”t”:0,”l”:0,”b”:0})\n",
    "fig1.show()"
   ]
  },
  {
   "cell_type": "markdown",
   "id": "c8888d94-a440-441c-8405-f0a0a430dfe7",
   "metadata": {
    "tags": []
   },
   "source": [
    "### Cork's Real Estate Market"
   ]
  },
  {
   "cell_type": "markdown",
   "id": "0aa621fe-816e-4aa5-a352-cdf26d4e78fc",
   "metadata": {
    "tags": []
   },
   "source": [
    "#### Mean price per side"
   ]
  },
  {
   "cell_type": "code",
   "execution_count": null,
   "id": "7502a04d-8166-427f-b954-0af5a6fbc7e5",
   "metadata": {},
   "outputs": [],
   "source": [
    "# Filter to take Cork related information\n",
    "sale_cork = sale.dropna(subset=['place']).loc[(sale.place.dropna().str.contains('Cork'))]\n",
    "sale_cork.shape"
   ]
  },
  {
   "cell_type": "code",
   "execution_count": null,
   "id": "9a945167-8f56-4438-94eb-7d2cb28048a5",
   "metadata": {},
   "outputs": [],
   "source": [
    "# Mean price by `place`\n",
    "mean_price_cork_by_side = pd.pivot_table(data=sale_cork, \n",
    "                                         index='place', \n",
    "                                         values=['price', 'm2_price'], \n",
    "                                         aggfunc='mean')\\\n",
    "                            .sort_values(by='price', \n",
    "                                         ascending=False)\n",
    "\n",
    "mean_price_cork_by_side"
   ]
  },
  {
   "cell_type": "code",
   "execution_count": null,
   "id": "78ea2b1c-eb23-425b-8478-e096322093de",
   "metadata": {},
   "outputs": [],
   "source": [
    "data = mean_price_cork_by_side\n",
    "\n",
    "fig, ax = plt.subplots(1, 2, figsize=(10, 3))\n",
    "\n",
    "ax[0].bar(data.index, data.price, data=data, color=['#294B63', '#b00b1e'])\n",
    "ax[0].set_title('Mean Price Per Side', weight='bold', size=15)\n",
    "ax[0].tick_params(bottom=False, left=False)\n",
    "for location in ['left', 'bottom', 'right', 'top']:\n",
    "    ax[0].spines[location].set_visible(False)\n",
    "\n",
    "ax[1].bar(data.index, data.m2_price, data=data, color=['#294B63', '#b00b1e'])\n",
    "ax[1].set_title('Mean m² Price Per Side', weight='bold', size=15)\n",
    "ax[1].tick_params(bottom=False, left=False)\n",
    "for location in ['left', 'bottom', 'right', 'top']:\n",
    "    ax[1].spines[location].set_visible(False)"
   ]
  },
  {
   "cell_type": "markdown",
   "id": "c1227e6d-dfe4-4e4e-9746-5c7611c2d8e7",
   "metadata": {
    "tags": []
   },
   "source": [
    "#### Mean price per side and type_house"
   ]
  },
  {
   "cell_type": "code",
   "execution_count": null,
   "id": "fe5ef395-e1a8-41b4-af8c-2c1d6a6a1309",
   "metadata": {},
   "outputs": [],
   "source": [
    "# Mean price by `place` and `type_house`\n",
    "mean_price_cork_by_side_and_type_house = pd.pivot_table(data=sale_cork, \n",
    "                                                        index=['place', 'type_house'], \n",
    "                                                        values=['price', 'm2_price'], \n",
    "                                                        aggfunc='mean')\\\n",
    "                                            .sort_values(by='m2_price', \n",
    "                                                         ascending=False)\\\n",
    "                                            #.unstack()\n",
    "\n",
    "mean_price_cork_by_side_and_type_house"
   ]
  },
  {
   "cell_type": "code",
   "execution_count": null,
   "id": "613a1ac7-0586-42f7-b9ca-983ccb687427",
   "metadata": {},
   "outputs": [],
   "source": [
    "data = mean_price_cork_by_side_and_type_house.unstack()\n",
    "\n",
    "fig, ax = plt.subplots(1, 2, figsize=(12, 7))\n",
    "\n",
    "data.plot(y='price', kind='bar', stacked=False, ax=ax[0], color=['#294B63', '#b00b1e'])\n",
    "ax[0].set_title('Mean Price Per Side And Type House', weight='bold', size=15)\n",
    "ax[0].set_xticklabels(data.index, rotation=0)\n",
    "ax[0].tick_params(bottom=False, left=False)\n",
    "ax[0].set_xlabel('')\n",
    "for location in ['left', 'bottom', 'right', 'top']:\n",
    "    ax[0].spines[location].set_visible(False)\n",
    "\n",
    "\n",
    "data.plot(y='m2_price', kind='bar', stacked=False, ax=ax[1], color=['#294B63', '#b00b1e'])\n",
    "ax[1].set_title('Mean m² Price Per Side And Type House', weight='bold', size=15)\n",
    "ax[1].set_xticklabels(data.index, rotation=0)\n",
    "ax[1].tick_params(bottom=False, left=False)\n",
    "ax[1].set_xlabel('')\n",
    "for location in ['left', 'bottom', 'right', 'top']:\n",
    "    ax[1].spines[location].set_visible(False)"
   ]
  },
  {
   "cell_type": "markdown",
   "id": "5c7d4cbd-c590-4e02-9c51-3a4dfdefe8ea",
   "metadata": {},
   "source": [
    "Cork prices are much smaller than Dublin ones. As expected their prices follow the same pattern as Dublin where houses are more expensive due to the floor area meanly."
   ]
  },
  {
   "cell_type": "markdown",
   "id": "9cd4ad71-d2e1-417f-89c5-f1aae97184df",
   "metadata": {
    "tags": []
   },
   "source": [
    "#### Mean floor area per postal district and type_house"
   ]
  },
  {
   "cell_type": "code",
   "execution_count": null,
   "id": "5eafac88-c8d8-46e2-acd3-bfd2a90916b1",
   "metadata": {},
   "outputs": [],
   "source": [
    "# Mean floor area by `place` and `type_house`\n",
    "mean_floor_area_cork_by_side = pd.pivot_table(data=sale_cork, \n",
    "                                              index=['place', 'type_house'], \n",
    "                                              values='floor_area', aggfunc='mean')\\\n",
    "                                 .sort_values(by='floor_area', \n",
    "                                              ascending=False)\\\n",
    "                                 .unstack()\n",
    "\n",
    "mean_floor_area_cork_by_side"
   ]
  },
  {
   "cell_type": "code",
   "execution_count": null,
   "id": "59a63f50-24d1-4b6d-baed-d99f0be0c315",
   "metadata": {},
   "outputs": [],
   "source": [
    "fig, ax = plt.subplots(figsize=(8,6))\n",
    "\n",
    "mean_floor_area_cork_by_side.plot(y='floor_area', kind='bar', stacked=False, \n",
    "                                  ax=ax, color=['#294B63', '#b00b1e'])\n",
    "ax.set_title('Mean Floor Area Per Side And Type House', weight='bold', size=15)\n",
    "ax.set_xticklabels(mean_floor_area_cork_by_side.index, rotation=0)\n",
    "ax.tick_params(bottom=False, left=False)\n",
    "ax.set_xlabel('')\n",
    "for location in ['left', 'bottom', 'right', 'top']:\n",
    "    ax.spines[location].set_visible(False)"
   ]
  },
  {
   "cell_type": "markdown",
   "id": "68da04be-9a37-4c5a-84e5-2a8af8df2183",
   "metadata": {
    "tags": []
   },
   "source": [
    "# Distributions"
   ]
  },
  {
   "cell_type": "markdown",
   "id": "ce794ff8-b7f6-4dca-92c7-48f2969cbd5b",
   "metadata": {
    "tags": []
   },
   "source": [
    "## Numeric Variables"
   ]
  },
  {
   "cell_type": "markdown",
   "id": "19455649-0d9d-4e82-843c-a6187c0a868f",
   "metadata": {},
   "source": [
    "The graphs below show the distribution of each numeric variable. We can see that most of them are heavy skewed to the right and have a lot of outliers. It is normal to happen when the variable is capped at zero on the lower size. Also, a house do not usually have 10000 square meters and 40 bathrooms so it is possible to have some commercial properties ads in the data set. As we are working on a regression problem we should remove those outliers as they can distort the results and predictive power of the models. "
   ]
  },
  {
   "cell_type": "code",
   "execution_count": null,
   "id": "582f0aba-02d8-4aa6-a6ec-f611e17955c1",
   "metadata": {},
   "outputs": [],
   "source": [
    "fig, ax = plt.subplots(2, 4, figsize=(16, 10))\n",
    "\n",
    "features = ['price', 'floor_area', 'latitude', 'longitude', 'views', 'bedroom', 'bathroom']\n",
    "\n",
    "i = 0\n",
    "row = 0\n",
    "column = 0\n",
    "\n",
    "for feature in features:\n",
    "    if i == 4:\n",
    "        row = 1\n",
    "        column = 0\n",
    "    \n",
    "    if (feature != 'bedroom') and (feature != 'bathroom'):\n",
    "        sns.boxplot(data=sale[feature], x=sale[feature], \n",
    "                    ax=ax[row, column], color='#b00b1e')\n",
    "        ax[row, column].set_title(f'{feature.capitalize()}', weight='bold')\n",
    "        ax[row, column].set_xlabel('')\n",
    "        ax[row, column].tick_params(bottom=False, left=False)\n",
    "    else:\n",
    "        sns.barplot(x=sale[feature].value_counts().index, \n",
    "                    y=sale[feature].value_counts().values, \n",
    "                    ax=ax[row, column], color='#b00b1e')\n",
    "        ax[row, column].set_title(f'{feature.capitalize()}s', weight='bold')\n",
    "        ax[row, column].tick_params(bottom=False, left=False)\n",
    "    for location in ['left', 'bottom', 'right', 'top']:\n",
    "        ax[row, column].spines[location].set_visible(False)\n",
    "        \n",
    "    i += 1\n",
    "    column += 1\n",
    "\n",
    "for location in ['left', 'bottom', 'right', 'top']:\n",
    "    ax[1, 3].spines[location].set_visible(False)\n",
    "#ax[1, 3].set_xticklabels('')\n",
    "#ax[1, 3].set_yticklabels('')\n",
    "ax[1, 3].set_xticks([])\n",
    "ax[1, 3].set_yticks([]);"
   ]
  },
  {
   "cell_type": "markdown",
   "id": "9472aece-5174-4fa2-be7c-a03b10a93ca1",
   "metadata": {},
   "source": [
    "Before dropping any outlier let's calculate the skewness and Tchebycheff bounds in order to be able to check the result of the variable's transformation after dropping them. We are going to use k = 2 so there will be a 75% of probabilities that an ads is between both limits."
   ]
  },
  {
   "cell_type": "code",
   "execution_count": null,
   "id": "5995faf9-6a6a-4b3f-a680-3f7e5731bac5",
   "metadata": {},
   "outputs": [],
   "source": [
    "numeric_features = ['price', 'floor_area', 'views', \n",
    "                    'bedroom', 'bathroom', 'latitude', \n",
    "                    'longitude']\n",
    "\n",
    "tchebycheff(df=sale, \n",
    "            num_features=numeric_features, \n",
    "            k=2)"
   ]
  },
  {
   "cell_type": "markdown",
   "id": "fc08cfac-b823-458f-a688-c11fbaa724a3",
   "metadata": {
    "tags": []
   },
   "source": [
    "### Outliers Detection and Elimination"
   ]
  },
  {
   "cell_type": "markdown",
   "id": "d794af07-023c-4ee5-8373-e0347b30bfd2",
   "metadata": {},
   "source": [
    "We will consider a value as an outlier only when it is detecting for each one of the following methods.\n",
    "\n",
    "**Percentile-Based Method**\n",
    "- The percentile method cuts off a predefined percentage amount from the top and the bottom of a distribution (if both sides are desired). \n",
    "\n",
    "**Interquartile Range Method**\n",
    "- The interquartile range approach first calculates the interquartile range of the data and then this range is multiplied with 1.5. Any data that is then further away than any of the limits calculated is classified as an outlier.\n",
    "\n",
    "Before drop any value let's see how many outliers are detected in each variable and what are the resulting bounds."
   ]
  },
  {
   "cell_type": "markdown",
   "id": "41ec5179-b974-43a6-9b06-7bdd39315f82",
   "metadata": {
    "tags": []
   },
   "source": [
    "#### Detecting `price` Outliers"
   ]
  },
  {
   "cell_type": "code",
   "execution_count": null,
   "id": "3512e2de-723d-41f1-974f-07ab3a499ab5",
   "metadata": {},
   "outputs": [],
   "source": [
    "print_limits(sale, 'price')"
   ]
  },
  {
   "cell_type": "code",
   "execution_count": null,
   "id": "22d9a215-9812-478f-8b7a-023b7a284562",
   "metadata": {},
   "outputs": [],
   "source": [
    "no_out_price, outliers_price = drop_outliers_tmp(sale, 'price', continuous=True)"
   ]
  },
  {
   "cell_type": "markdown",
   "id": "5f907bbe-b8d8-4ced-bf76-d388566dc7d7",
   "metadata": {
    "tags": []
   },
   "source": [
    "#### Detecting `floor_area` Outliers"
   ]
  },
  {
   "cell_type": "code",
   "execution_count": null,
   "id": "27d0fa80-e1fa-4574-92fa-20457c87e1ac",
   "metadata": {},
   "outputs": [],
   "source": [
    "print_limits(sale, 'floor_area')"
   ]
  },
  {
   "cell_type": "code",
   "execution_count": null,
   "id": "041529f5-3255-4d7f-9a06-8842f0a98563",
   "metadata": {},
   "outputs": [],
   "source": [
    "no_out_farea, outliers_farea = drop_outliers_tmp(sale, 'floor_area', continuous=True)"
   ]
  },
  {
   "cell_type": "markdown",
   "id": "6ebc54e9-6664-4ea8-993b-8bc41917de46",
   "metadata": {
    "tags": []
   },
   "source": [
    "#### Detecting `views` Outliers"
   ]
  },
  {
   "cell_type": "code",
   "execution_count": null,
   "id": "11c28478-6a4c-40d4-9526-42e014b22fde",
   "metadata": {},
   "outputs": [],
   "source": [
    "print_limits(sale, 'views')"
   ]
  },
  {
   "cell_type": "code",
   "execution_count": null,
   "id": "09db0868-760a-4eed-9662-00980b2c3c1d",
   "metadata": {},
   "outputs": [],
   "source": [
    "no_out_views, outliers_views = drop_outliers_tmp(sale, 'views', continuous=True)"
   ]
  },
  {
   "cell_type": "markdown",
   "id": "61dcd3e6-138e-4934-a150-178ad8282440",
   "metadata": {
    "tags": []
   },
   "source": [
    "#### Detecting `bedroom` Outliers"
   ]
  },
  {
   "cell_type": "code",
   "execution_count": null,
   "id": "57536db1-c780-437a-9f48-678d6460ca90",
   "metadata": {},
   "outputs": [],
   "source": [
    "print_limits(sale, 'bedroom')"
   ]
  },
  {
   "cell_type": "code",
   "execution_count": null,
   "id": "e96bed15-2dcd-4d7b-8d45-e769905a53ae",
   "metadata": {},
   "outputs": [],
   "source": [
    "no_out_bedroom, outliers_bedroom = drop_outliers_tmp(sale, 'bedroom', continuous=True)"
   ]
  },
  {
   "cell_type": "markdown",
   "id": "23037c8d-10c6-4dcd-9a1a-8492fce5ae0c",
   "metadata": {
    "tags": []
   },
   "source": [
    "#### Detecting `bathroom` Outliers"
   ]
  },
  {
   "cell_type": "code",
   "execution_count": null,
   "id": "2cbe0863-8f62-4343-bbae-eb53059d4553",
   "metadata": {},
   "outputs": [],
   "source": [
    "print_limits(sale, 'bathroom')"
   ]
  },
  {
   "cell_type": "code",
   "execution_count": null,
   "id": "111bf2b1-b5cf-4d91-a3b4-c63033ead53f",
   "metadata": {},
   "outputs": [],
   "source": [
    "no_out_bathroom, outliers_bathroom = drop_outliers_tmp(sale, 'bathroom', continuous=True)"
   ]
  },
  {
   "cell_type": "markdown",
   "id": "f66759b9-5572-473f-b53c-809f946848dc",
   "metadata": {
    "tags": []
   },
   "source": [
    "#### Dropping Outliers"
   ]
  },
  {
   "cell_type": "markdown",
   "id": "9f05ebb7-c09d-44b2-8461-d1c55a05b312",
   "metadata": {},
   "source": [
    "Once we have detected the outliers we can use their index to drop them."
   ]
  },
  {
   "cell_type": "code",
   "execution_count": null,
   "id": "b7028abc-6799-4d9b-b088-eb371d373f79",
   "metadata": {},
   "outputs": [],
   "source": [
    "sale_out = drop_outliers(df=sale)"
   ]
  },
  {
   "cell_type": "markdown",
   "id": "ff6b8d21-a0f7-4652-83ee-9003ccb41fbf",
   "metadata": {},
   "source": [
    "And if we check the skewness and the Tchebycheff bounds we will see that skewness and kurtosis have reduced a lot and the bounds are closer to each other. \n",
    "\n",
    "The statistics of skewness and kurtosis can be used to detect desviations from normality. A kurtosis and coefficient of asymmetry values between -1 and 1 is generally considered a weak desviation from normality (Bulmer, 1979), (Brown, n.d.). One between -2 and 2 would be an evident desviation from normality but not extreme. [cienciadelosdatos.net](https://www.cienciadedatos.net/documentos/pystats06-analisis-normalidad-python.html)"
   ]
  },
  {
   "cell_type": "code",
   "execution_count": null,
   "id": "b830d1cf-25b5-4b1a-811f-2cbb9db77b3e",
   "metadata": {},
   "outputs": [],
   "source": [
    "tchebycheff(df=sale_out, num_features=numeric_features, k=2)"
   ]
  },
  {
   "cell_type": "markdown",
   "id": "41ced72c-29f5-4566-994f-b485b2fd01bc",
   "metadata": {
    "tags": []
   },
   "source": [
    "### Checking Outliers Elimination Results"
   ]
  },
  {
   "cell_type": "markdown",
   "id": "fe44a357-1aee-404a-8567-8fa69fc167e3",
   "metadata": {},
   "source": [
    "Now let's dig a little deeper to check the results of those outliers elimination and how the distributions are afected by that and other transformation like Logarithmic or Coxbox transformations."
   ]
  },
  {
   "cell_type": "markdown",
   "id": "8add2f5d-e117-4c7f-9e9c-9298ef612279",
   "metadata": {},
   "source": [
    "**The Cutoff Levels**\n",
    "\n",
    "||Price|floor Area|Views|Bedroom|Bathroom|\n",
    "|:---:|:---:|:---:|:---:|:---:|:---:|\n",
    "|**Minimum**|32000.00|1|0.00|1|1|\n",
    "|**Cutoff Min**|32000.00|40|0.00|1|1|\n",
    "|**Cutoff Max**|2650000.00|732|46044.00|8|7|\n",
    "|**Maximun**|10000000.00|10279|125030.00|43|47|"
   ]
  },
  {
   "cell_type": "markdown",
   "id": "b1f91830-0c0b-4098-95ac-651813aebde5",
   "metadata": {},
   "source": [
    "After dropping outliers the cutoff levels appear much more reasonable.\n",
    "\n",
    "We are going to plot every variable whit histograms (bar plots for discrete ones) and probability plots. The dangerous zone (red area) is where the outliers are, it has been colored to see more easily the effect of the transformations."
   ]
  },
  {
   "cell_type": "markdown",
   "id": "893ccbce-02f4-48dd-a459-45ea5173a957",
   "metadata": {
    "tags": []
   },
   "source": [
    "#### Price Outliers Elimination Results"
   ]
  },
  {
   "cell_type": "code",
   "execution_count": null,
   "id": "9e43efcb-8fcd-4b5e-bd41-86a07d49ced1",
   "metadata": {
    "tags": []
   },
   "outputs": [],
   "source": [
    "check_transformations('price', sale, sale_out)"
   ]
  },
  {
   "cell_type": "markdown",
   "id": "f359aadc-cca2-473c-ad6d-04e375ae6720",
   "metadata": {
    "tags": []
   },
   "source": [
    "#### Floor Area Outliers Elimination Results"
   ]
  },
  {
   "cell_type": "code",
   "execution_count": null,
   "id": "51083234-210e-4184-9066-5e4011405ecc",
   "metadata": {},
   "outputs": [],
   "source": [
    "check_transformations('floor_area', sale, sale_out)"
   ]
  },
  {
   "cell_type": "markdown",
   "id": "ef3a6a82-e25b-4b2f-a21b-348701ddc439",
   "metadata": {
    "tags": []
   },
   "source": [
    "#### Views Outliers Elimination Results"
   ]
  },
  {
   "cell_type": "code",
   "execution_count": null,
   "id": "26e01efe-6c42-462f-aeb0-3b81ff264625",
   "metadata": {},
   "outputs": [],
   "source": [
    "check_transformations('views', \n",
    "                      sale.loc[sale['views']!=0].copy(), \n",
    "                      sale_out.loc[sale_out['views']!=0].copy())"
   ]
  },
  {
   "cell_type": "markdown",
   "id": "449d45f3-955d-4bc3-816d-342bdd9df2b6",
   "metadata": {
    "tags": []
   },
   "source": [
    "#### Bedroom Outliers Elimination Results"
   ]
  },
  {
   "cell_type": "code",
   "execution_count": null,
   "id": "d5816e5d-6b7f-4e1f-a591-db295d317bad",
   "metadata": {
    "tags": []
   },
   "outputs": [],
   "source": [
    "check_transformations('bedroom', sale, sale_out)"
   ]
  },
  {
   "cell_type": "markdown",
   "id": "a6a44a29-94bf-47ad-8206-0fc94788dda1",
   "metadata": {
    "tags": []
   },
   "source": [
    "#### Bathroom Outliers Elimination Results"
   ]
  },
  {
   "cell_type": "code",
   "execution_count": null,
   "id": "1fbcf197-91ec-406a-ab90-756e84967093",
   "metadata": {
    "tags": []
   },
   "outputs": [],
   "source": [
    "check_transformations('bathroom', sale, sale_out)"
   ]
  },
  {
   "cell_type": "markdown",
   "id": "39fe173c-7a02-4c94-9703-3df5df7269af",
   "metadata": {
    "tags": []
   },
   "source": [
    "### Conclusions"
   ]
  },
  {
   "cell_type": "markdown",
   "id": "1e943e93-d7e4-4c02-8573-006fcb48f885",
   "metadata": {},
   "source": [
    "As we have seen, the elimination of outliers and a few kind of transformations can help us to reduce the skewness and obtain something closer to a Gaussian distribution. As will use several algorithms which are built on the assumption of normality in the distribution of the data so I will use it in most of cases. "
   ]
  },
  {
   "cell_type": "code",
   "execution_count": null,
   "id": "1b4e95c4-06b2-4d08-9fd3-3518c9ed608a",
   "metadata": {},
   "outputs": [],
   "source": [
    "tchebycheff(df=sale, num_features=numeric_features, k=2)"
   ]
  },
  {
   "cell_type": "code",
   "execution_count": null,
   "id": "d648df99-f983-41ee-a683-6f0439e11692",
   "metadata": {},
   "outputs": [],
   "source": [
    "tchebycheff(df=sale_out, num_features=numeric_features, k=2)"
   ]
  },
  {
   "cell_type": "markdown",
   "id": "5e13f343-9eb9-410b-ba47-d56a59b7b9c1",
   "metadata": {
    "tags": []
   },
   "source": [
    "## Categorical Variables"
   ]
  },
  {
   "cell_type": "markdown",
   "id": "dc3ecdab-ed66-4a00-a3f5-0fed7d225194",
   "metadata": {},
   "source": [
    "We will need to transform the categorical data before to show it to the algorithms so let's explore it."
   ]
  },
  {
   "cell_type": "markdown",
   "id": "bc8ad6a0-27f7-48ed-a1f5-f85bebf17f13",
   "metadata": {
    "tags": []
   },
   "source": [
    "### Type House"
   ]
  },
  {
   "cell_type": "markdown",
   "id": "e991a97e-5649-4eef-931b-1826c624d682",
   "metadata": {},
   "source": [
    "Below you can see the houses and apartments frequencies. There are much more ads of houses than of apartments."
   ]
  },
  {
   "cell_type": "code",
   "execution_count": null,
   "id": "fa8b8d0e-9d3c-4e62-b096-2b524c6399fb",
   "metadata": {},
   "outputs": [],
   "source": [
    "fig, ax = plt.subplots(figsize=(6,4))\n",
    "\n",
    "sns.countplot(data=sale_out, x='type_house', palette=\"Blues_d\", ax=ax)\n",
    "ax.set_title('Houses And Apartments Frequencies', weight='bold', size=15)\n",
    "\n",
    "for location in ['left', 'bottom', 'right', 'top']:\n",
    "    ax.spines[location].set_visible(False)\n",
    "    \n",
    "ax.tick_params(bottom=False, left=False) \n",
    "ax.set_xlabel('')\n",
    "ax.set_ylabel('');"
   ]
  },
  {
   "cell_type": "markdown",
   "id": "77cafff1-f860-496d-a112-0c8a9c85ebf0",
   "metadata": {},
   "source": [
    "Houses and apartments have similar squared meter prices but houses tend to be more expensive and I conclud that is because the houses' floor area is bigger. The imagen bellow shows the distributions of houses and apartments prices."
   ]
  },
  {
   "cell_type": "code",
   "execution_count": null,
   "id": "48f8105d-446c-43de-8465-50ecafcb9bd0",
   "metadata": {},
   "outputs": [],
   "source": [
    "fig, ax = plt.subplots(figsize=(16, 7))\n",
    "\n",
    "ax = sns.boxplot(data=sale_out, x='price', y='type_house', orient='h', \n",
    "                 order=['house', 'apartment'],\n",
    "                 whis=np.inf, palette=\"Set3\")\n",
    "\n",
    "ax = sns.stripplot(data=sale_out, x='price', y='type_house' ,orient='h', \n",
    "                   order=['house', 'apartment'],\n",
    "                   color=\"gray\", edgecolor=\"pink\", linewidth=.3,  size=3)\n",
    "\n",
    "ax.set_title('Prices By Type Of House', weight='bold', size=15)\n",
    "ax.ticklabel_format(style='plain', axis='x')\n",
    "\n",
    "for location in ['left', 'bottom', 'right', 'top']:\n",
    "    ax.spines[location].set_visible(False)\n",
    "    \n",
    "ax.tick_params(bottom=False, left=False) \n",
    "ax.set_xlabel('')\n",
    "ax.set_ylabel('');"
   ]
  },
  {
   "cell_type": "markdown",
   "id": "6d5c8711-f0f1-423a-bb88-19b5d2d35250",
   "metadata": {
    "tags": []
   },
   "source": [
    "### Ber"
   ]
  },
  {
   "cell_type": "markdown",
   "id": "12f36b9b-0192-40be-96d7-0b70c7b75c3f",
   "metadata": {},
   "source": [
    "A Building Energy Rating (BER) certificate rates your home's energy performance on a scale between A and G. A-rated homes are the most energy efficient while G-rated are the least energy efficient. [Sustainable Energy Authority of Ireland](https://www.seai.ie/home-energy/building-energy-rating-ber/)\n",
    "\n",
    "I have my doubs about the utility of this variable as a predictor for the price but maybe it could be correlated with the age of the house, been the newest houses more energy efficient. But that is just a thinking and I can not check it with the current available data."
   ]
  },
  {
   "cell_type": "code",
   "execution_count": null,
   "id": "e62f3b1b-6d47-43c6-90fc-56bc765199b9",
   "metadata": {},
   "outputs": [],
   "source": [
    "fig, ax = plt.subplots(figsize=(6,4))\n",
    "\n",
    "sns.countplot(data=sale_out, x='ber', palette=\"Blues_d\", ax=ax)\n",
    "ax.set_title('Ber Frequencies', weight='bold', size=15)\n",
    "\n",
    "for location in ['left', 'bottom', 'right', 'top']:\n",
    "    ax.spines[location].set_visible(False)\n",
    "    \n",
    "ax.tick_params(bottom=False, left=False) \n",
    "ax.set_xlabel('')\n",
    "ax.set_ylabel('');"
   ]
  },
  {
   "cell_type": "code",
   "execution_count": null,
   "id": "2b5d191c-2072-459a-9486-088c050460ff",
   "metadata": {},
   "outputs": [],
   "source": [
    "# sale_out.ber.value_counts()"
   ]
  },
  {
   "cell_type": "markdown",
   "id": "c1fd9771-0856-49cf-9adc-24307bd6a8df",
   "metadata": {
    "tags": []
   },
   "source": [
    "### Plus Info"
   ]
  },
  {
   "cell_type": "markdown",
   "id": "af879274-ccdf-4aa7-9245-3811d0ef5dab",
   "metadata": {},
   "source": [
    "Plus info doesn't seem any useful at all. Maybe is a little useful in order to predict houses prices but I don't need it is to predict apartments prices as practically all apartments that show this information have the value `Apartment`."
   ]
  },
  {
   "cell_type": "code",
   "execution_count": null,
   "id": "af0146c7-0861-4ebc-b7ad-b8f7f0c25cbb",
   "metadata": {},
   "outputs": [],
   "source": [
    "fig, ax = plt.subplots(figsize=(6,4))\n",
    "\n",
    "sns.countplot(data=sale_out, x='plus_info', palette=\"Blues_d\", hue='type_house', ax=ax)\n",
    "ax.set_title('Plus Info Frequencies', weight='bold', size=15)\n",
    "\n",
    "for location in ['left', 'bottom', 'right', 'top']:\n",
    "    ax.spines[location].set_visible(False)\n",
    "\n",
    "ax.set_xticklabels(sale_out.plus_info.unique(), rotation=45)\n",
    "ax.tick_params(bottom=False, left=False) \n",
    "ax.set_xlabel('')\n",
    "ax.set_ylabel('');"
   ]
  },
  {
   "cell_type": "code",
   "execution_count": null,
   "id": "8e631e3d-6bd2-4ceb-9f6c-3776e5e0d179",
   "metadata": {},
   "outputs": [],
   "source": [
    "# sale.plus_info.value_counts()"
   ]
  },
  {
   "cell_type": "markdown",
   "id": "6e3b0297-0f28-4f25-a8bf-b45583804e71",
   "metadata": {
    "tags": []
   },
   "source": [
    "### Place"
   ]
  },
  {
   "cell_type": "markdown",
   "id": "6b0c97e1-16f9-4796-8975-1283eee5a690",
   "metadata": {},
   "source": [
    "This variable has been explored earlier. It seems to be a great predictor."
   ]
  },
  {
   "cell_type": "code",
   "execution_count": null,
   "id": "5767dba7-d7a0-485d-ad20-5953038aceb3",
   "metadata": {},
   "outputs": [],
   "source": [
    "sale_out.place.value_counts().sort_values(ascending=False).head()"
   ]
  },
  {
   "cell_type": "markdown",
   "id": "2990a00a-c462-433a-9ca3-00fea9d7bf3e",
   "metadata": {
    "tags": []
   },
   "source": [
    "### Postcode and Code"
   ]
  },
  {
   "cell_type": "markdown",
   "id": "808f73d9-5a31-4a9e-be0e-00ff61bd9698",
   "metadata": {},
   "source": [
    "`postcode` has a potentilly similar effect than code as the code is the routing key of the eircode. The postcode/eircode has also the unique identifier. I think that something that identify every house or apartment individually like the unique identidier can not be a good predictor if we want that our model can generalize well. I think that using the postcode as a predictor, thus using the unique identifier, is exactly the same as whether the `daft_id` identifier was used. It doesn't make sense for me."
   ]
  },
  {
   "cell_type": "code",
   "execution_count": null,
   "id": "6ebfce60-a9e2-4d94-9f03-1227204a8fcd",
   "metadata": {},
   "outputs": [],
   "source": [
    "# sale_out.postcode.value_counts()  "
   ]
  },
  {
   "cell_type": "code",
   "execution_count": null,
   "id": "30ef146d-b7e8-4b6b-8c47-c251f010b5b9",
   "metadata": {},
   "outputs": [],
   "source": [
    "# sale_out.code.value_counts() "
   ]
  },
  {
   "cell_type": "markdown",
   "id": "ab959f08-ba1e-47c4-ab3a-87c071704104",
   "metadata": {},
   "source": [
    "`code` and `place` should have the same efect in the models as there is a place for each code/routing key. So we will use only one of them in the model."
   ]
  },
  {
   "cell_type": "markdown",
   "id": "bcbdb5c7-609c-4d29-8b52-545d465f5f01",
   "metadata": {
    "tags": []
   },
   "source": [
    "### State District"
   ]
  },
  {
   "cell_type": "code",
   "execution_count": null,
   "id": "2d2b1b99-5dbf-452e-a118-13dcc863fcd0",
   "metadata": {},
   "outputs": [],
   "source": [
    "sale_out.state_district.value_counts()"
   ]
  },
  {
   "cell_type": "markdown",
   "id": "db427b12-511b-45b5-a5b2-b7c04580bca0",
   "metadata": {},
   "source": [
    "Intuitively I don't think this variable will have a big inpact in the model performance but let's explore it more in the \"Relationships and Feature Selection\" section. I think that this variable does not contribute anything that the `place` variable can not contribute."
   ]
  },
  {
   "cell_type": "markdown",
   "id": "280cea8f-52a8-402c-8302-27f216ff55fe",
   "metadata": {
    "tags": []
   },
   "source": [
    "### City District"
   ]
  },
  {
   "cell_type": "markdown",
   "id": "c0bccda7-8cdd-472c-9fc6-b5ddfc93ce60",
   "metadata": {},
   "source": [
    "`city_district` could have a little more potential as a predictor than `state_district` as it specifies the location. However, I have available the coordinates as well so I think that work could be done by them. I will study better all the variables as predictors in the nex section."
   ]
  },
  {
   "cell_type": "code",
   "execution_count": null,
   "id": "f57dc763-653b-42b9-bdee-50d5896d6a8b",
   "metadata": {},
   "outputs": [],
   "source": [
    "sale_out.city_district.value_counts().head()  "
   ]
  },
  {
   "cell_type": "markdown",
   "id": "3d8ccb05-741e-40fd-b7cb-be5eca2bec6c",
   "metadata": {
    "tags": []
   },
   "source": [
    "# Relationships and Feature Selection"
   ]
  },
  {
   "cell_type": "markdown",
   "id": "9185a0f3-8116-4f94-88ef-1f13765b7ba7",
   "metadata": {
    "tags": []
   },
   "source": [
    "## Scatter Plots"
   ]
  },
  {
   "cell_type": "markdown",
   "id": "7f448b35-717a-423b-bbdd-b996bda2c995",
   "metadata": {},
   "source": [
    "I will use scatter plots in order to figure out relationships between variables. Scatter plots can help us visualizate linear relationships as well as nonlinear ones. "
   ]
  },
  {
   "cell_type": "code",
   "execution_count": null,
   "id": "1bc71b31-5bbb-44da-9bc6-c9fc88802151",
   "metadata": {
    "tags": []
   },
   "outputs": [],
   "source": [
    "variables = ['price', \n",
    "             'floor_area', \n",
    "             'views', \n",
    "             'latitude', \n",
    "             'longitude', \n",
    "             'bedroom', \n",
    "             'bathroom',  \n",
    "            # 'm2_price',\n",
    "            ]\n",
    "\n",
    "sns.pairplot(sale_out[variables],\n",
    "             kind= 'scatter'\n",
    "            );"
   ]
  },
  {
   "cell_type": "markdown",
   "id": "a118c3c9-3801-4cdf-bb05-273f079a85a1",
   "metadata": {},
   "source": [
    "It is difficult to see any relationship in most cases but there are a few ones:\n",
    "- It seems to be an increasing linear relationships between `price` and `floor_area`.\n",
    "- `bedroom` and `bathroom` seem to have a mild relationships with `price` and maybe a little stronger one with `floor_area`.\n",
    "- `latitude` and `longitude` both show two rare patterns where `price` increases around two differents coordinates values. Actually these patterns have a logical explanation. The longitude with higher prices matches with Dublin and the other one that stands out from the rest matches with Cork and Galway, as both have similar coordinates. Something similar happens in the latitude plot. Dublin and Galway have similar latitudes and Cork is in the south. We can see this if we look a map as the scatter plot between `latitude` and `longitude` and compare it with the other plots."
   ]
  },
  {
   "cell_type": "markdown",
   "id": "2f3b3d75-9c91-4e8f-9eaa-3f29d16cd18f",
   "metadata": {
    "tags": []
   },
   "source": [
    "## Correlations"
   ]
  },
  {
   "cell_type": "markdown",
   "id": "3324947f-73b1-468e-bca9-4740cd1e27a6",
   "metadata": {},
   "source": [
    "Now let's see what correlation coefficients have to say. We are going to plot a heatmap for the Pearson correlation coefficient and another one for the Spearman's one. But first let's remember them."
   ]
  },
  {
   "cell_type": "markdown",
   "id": "a652df2a-7f8c-44c3-8d8e-a48422973bca",
   "metadata": {},
   "source": [
    "Pearson vs Spearman:\n",
    "\n",
    "- The Pearson correlation coefficient is a statistic that measures the linear correlation between two variables. This statistic can evaluate only a linear relationship between two continuous variables (proportional change).\n",
    "- The Spearman's rank correlation coefficient is a nonparametric measure of [rank correlation](https://en.wikipedia.org/wiki/Rank_correlation). This statistic can evaluate a [monotonic](https://es.wikipedia.org/wiki/Funci%C3%B3n_mon%C3%B3tona) relatinship between two variables - continuous or ordinal.\n",
    "\n",
    "Differences:\n",
    "- Pearson coefficient works with linear relationships whereas Spearman coefficient works with monotonic relationships as well.\n",
    "- Pearson works with raw data values of the variable whereas Spearman works with rank-ordered variables."
   ]
  },
  {
   "cell_type": "code",
   "execution_count": null,
   "id": "7bc2554d-92e0-4a10-92e5-bca1b46e0606",
   "metadata": {},
   "outputs": [],
   "source": [
    "fig, ax = plt.subplots(1, 2, figsize=(17, 7))\n",
    "\n",
    "sns.heatmap(sale_out.drop(columns=['daft_id']).corr(method='pearson'), \n",
    "            annot=True, cmap='mako', ax=ax[0])\n",
    "ax[0].set_title(\"Pearson's Correlation\", weight='bold', size=15)\n",
    "ax[0].tick_params(bottom=False, left=False)\n",
    "\n",
    "sns.heatmap(sale_out.drop(columns=['daft_id']).corr(method='spearman'), \n",
    "            annot=True, cmap='mako', ax=ax[1])\n",
    "ax[1].set_title(\"Spearman's Correlation\", weight='bold', size=15)\n",
    "ax[1].tick_params(bottom=False, left=False)"
   ]
  },
  {
   "cell_type": "markdown",
   "id": "205f7ac6-c4ef-4877-a1be-a2d16a570046",
   "metadata": {},
   "source": [
    "Conclusions:\n",
    "\n",
    "- As we concluded from the scatter plots there is a linear relationships between `price` and `floor_area`. \n",
    "- `longitude`, `bedroom`, and `bathroom` show interesting relationships with the `price`. We can note how `bedroom` and `bathroom` are also correlated with `floor_area`, which makes sense.\n",
    "- There are no strong decreasing relationships between variables.\n",
    "\n",
    "I conclude that it would be good looking for more data in order to find more variables with predictive capabilities."
   ]
  },
  {
   "cell_type": "markdown",
   "id": "6ec9873f-12aa-44a8-a78c-2c664e5ffe27",
   "metadata": {
    "tags": []
   },
   "source": [
    "## Predictive Power Score"
   ]
  },
  {
   "cell_type": "markdown",
   "id": "78e0ad47-3ad8-4fc2-9916-05409de87465",
   "metadata": {},
   "source": [
    "Predictive Power Score is a kind of score that is asymmetric and data-type agnostic and helps in identifying linear and non-linear relationships between two variables. We can figure out how useful a variable would be in predicting the values of another one.\n",
    "\n",
    "- PPS lies between 0 (no predictive power) and 1 (highest predictive power).\n",
    "- PPS let us handle not only numerical variables (as correlation) but also other kinds of values namely categoric, nominal, etc.\n",
    "- PPS can find out non-linear relationships among different variables whic cannot be obtained from correlation.\n",
    "- Correlation matrix is symmetrical, which can give a misleading interpretation that the correlation of column A to B is and B to A is the same. PPS is asymmetric, which means that if column A can predict column B values, it does not mean that column B can also predict column A."
   ]
  },
  {
   "cell_type": "markdown",
   "id": "fe5ab4a6-f318-4d1c-b17a-aa96206d984b",
   "metadata": {},
   "source": [
    "More information about PPS:\n",
    "\n",
    "- [ppscore - a Python implementation of the Predictive Power Score (PPS)](https://github.com/8080labs/ppscore)\n",
    "- [Introducing the Predictive Power Score (PPS)](https://docs.bamboolib.8080labs.com/documentation/reference/predictors#introducing-the-predictive-power-score-pps)\n",
    "- [RIP correlation. Introducing the Predictive Power Score](https://medium.com/towards-data-science/rip-correlation-introducing-the-predictive-power-score-3d90808b9598)\n",
    "- [What is Predictive Power Score (PPS) – Is it better than Correlation ?](https://machinelearningknowledge.ai/predictive-power-score-vs-correlation-with-python-implementation/)"
   ]
  },
  {
   "cell_type": "markdown",
   "id": "b81dc6f7-c047-440f-9438-6f6e07ec782b",
   "metadata": {},
   "source": [
    "**Regression**\n",
    "\n",
    "In case of a regression, the ppscore uses the mean absolute error (MAE) as the underlying evaluation metric (MAE_model). The best possible score of the MAE is 0 and higher is worse. As a baseline score, we calculate the MAE of a naive model (MAE_naive) that always predicts the median of the target column. The PPS is the result of the following normalization (and never smaller than 0):\n",
    "\n",
    "> PPS = 1 - (MAE_model / MAE_naive)"
   ]
  },
  {
   "cell_type": "code",
   "execution_count": null,
   "id": "40924e21-7b6f-4cda-9481-09a36d6c87b5",
   "metadata": {},
   "outputs": [],
   "source": [
    "variables = ['price', 'sale_type', 'floor_area', 'psr', \n",
    "             'ber', 'views', 'type_house',\n",
    "             'latitude', 'longitude', 'bedroom',\n",
    "             'bathroom', 'plus_info', 'postcode', \n",
    "             'state_district', 'city_district',\n",
    "             'place', 'code', 'cities']\n",
    "\n",
    "# You can see the resulted DataFrame with the following line of code\n",
    "pps.predictors(sale_out[variables], 'price', output='df', sorted=True).head()"
   ]
  },
  {
   "cell_type": "code",
   "execution_count": null,
   "id": "05281491-6e8a-4fb6-95ef-519f7a10ef0d",
   "metadata": {},
   "outputs": [],
   "source": [
    "fig, ax = plt.subplots(figsize=(15, 10))\n",
    "                               \n",
    "matrix_df = pps.matrix(sale_out[variables])[['x', 'y', 'ppscore']].pivot(columns='x', index='y', values='ppscore')\n",
    "sns.heatmap(matrix_df, vmin=0, vmax=1, cmap=\"Blues\", linewidths=0.5, annot=True, ax=ax)\n",
    "ax.tick_params(bottom=False, left=False)\n",
    "ax.set_xlabel('')\n",
    "ax.set_ylabel('');"
   ]
  },
  {
   "cell_type": "markdown",
   "id": "2532fb34-8574-4475-8d16-0c541ac24665",
   "metadata": {},
   "source": [
    "The PPS matrix shows a slow predictive power to predict the `price` with the other variables. This is a bit disappointing. However, let's be possitive and focus in learning what we can from the results.\n",
    "\n",
    "- `city_district`, `code`, `place`, and `postcode` have some predictive power to the `price`. If we pay attention we can realize that all of them are **location** variables, which makes sense. Moreover, `code` and `place` are exactly the same but with different characters as place was extracted from `code` just exchanging the Eircode for the corresponding city or town.\n",
    "- `cities` has some predictive power but is the same that `place` without differenciating Dublin postal districts.\n",
    "- `psr` has some predictive power and it also makes sense because the psr identify the seller. It is normal to think that a particular seller will tend to offer houses in the same area or city or in close cities instead of the same number of houses in each city. So I think we could undestand the `psr` as something similar to another location variable.\n",
    "\n",
    "There are a strong predictive power between other variables, so let's dig a little deeper on that:\n",
    "- The most striking pattern is the predictive power of location variables from each others. This is normal as they are location variables. This could be a little tricky as they can proxy to each other.\n",
    "- `floor_area` has a good predictive power to `bedroom` and `bathroom` which is normal as it makes sense to think that the more square meters the more rooms in the house. This also occurs in the opposite direction. A similar relationsgip occurs between `bedroom` and `bathroom`.\n",
    "- The row of the `type_house` variable shows us some interesting relationships. We can see that `plus_info` has an almost perfect predictive power to `type_house`. We can quickly understand why aggregating by both variables as we have done below. Normally when an element is usually in  houses it is not in apartments and viceversa. Also `bedroom` and `floor_area` have quite predictive power to `type_house` which makes sense as well because there is a relationship between them, houses usually have more squared meters than apartments and there is a strong correlation between `bedroom` and `floor_area`. Finally we can see some predictive power of `city_district` and `postcode` to `type_house` and it could be because in some districts abound more houses than apartments."
   ]
  },
  {
   "cell_type": "code",
   "execution_count": null,
   "id": "eadf1d0f-10e1-48e0-b939-e5b0421a9faa",
   "metadata": {},
   "outputs": [],
   "source": [
    "# To understand the PPS of `plus_info` to `type_house`\n",
    "sale_out.groupby(['plus_info', 'type_house'])[['daft_id']].count()"
   ]
  },
  {
   "cell_type": "markdown",
   "id": "67f55d83-aa59-4f10-b9b4-6d3c338ec05f",
   "metadata": {
    "tags": []
   },
   "source": [
    "## Wrapper Methods"
   ]
  },
  {
   "cell_type": "markdown",
   "id": "f25ec3f5-8f9f-4390-ada0-2d4c88390185",
   "metadata": {},
   "source": [
    "Now let's use wrapper methods in order to see what variables we should choose. We already have an idea of that because we studied correlations and predictive power but let's see what wrapper methods have to say. For that we will use another amazing function called `wrapper_methods`."
   ]
  },
  {
   "cell_type": "code",
   "execution_count": null,
   "id": "01e84af0-9152-47cc-8b18-a6dd274e9b34",
   "metadata": {},
   "outputs": [],
   "source": [
    "sale_out.shape"
   ]
  },
  {
   "cell_type": "code",
   "execution_count": null,
   "id": "e9446776-1688-40bf-a8ca-ab3a09299dda",
   "metadata": {
    "tags": []
   },
   "outputs": [],
   "source": [
    "num_features = ['price',\n",
    "               # 'sale_type', \n",
    "                'floor_area', \n",
    "                'psr',\n",
    "               # 'ber', \n",
    "                'views', \n",
    "               # 'type_house',\n",
    "                'latitude', \n",
    "                'longitude', \n",
    "                'bedroom',\n",
    "                'bathroom', \n",
    "               # 'plus_info', \n",
    "               # 'postcode', \n",
    "               # 'state_district', \n",
    "               # 'city_district',\n",
    "               # 'place', \n",
    "               # 'code', \n",
    "               # 'cities', \n",
    "               ]\n",
    "\n",
    "# Take numeric features\n",
    "sale_outna = sale_out[num_features].copy()\n",
    "# Drop missing values\n",
    "sale_outna.dropna(inplace=True)\n",
    "\n",
    "# Target variable\n",
    "y = sale_outna['price'].copy()\n",
    "# Predictors\n",
    "X = sale_outna.drop(columns='price').copy()\n",
    "\n",
    "X_train, X_test, y_train, y_test = train_test_split(X, y, \n",
    "                                                    test_size=.15, \n",
    "                                                    random_state=7)\n",
    "X_train.shape, X_test.shape, y_train.shape, y_test.shape"
   ]
  },
  {
   "cell_type": "code",
   "execution_count": null,
   "id": "cebd88ab-b9c3-4e8e-a04d-770c51b5baca",
   "metadata": {},
   "outputs": [],
   "source": [
    "# Estimators to try in each wrapper method\n",
    "estimators = {'LinearRegression': LinearRegression(), \n",
    "              'DecisionTreeRegressor': DecisionTreeRegressor(max_depth=10)}"
   ]
  },
  {
   "cell_type": "markdown",
   "id": "e1b1d893-c8b7-428f-b3f1-b94ba2f900b7",
   "metadata": {
    "tags": []
   },
   "source": [
    "### Recursive Feature Elimination"
   ]
  },
  {
   "cell_type": "code",
   "execution_count": null,
   "id": "a94063ea-0bf5-4b89-8d88-f7b6e4b72fe1",
   "metadata": {},
   "outputs": [],
   "source": [
    "wrapper_methods(estimators_dict=estimators, method='rfe', \n",
    "                X_train=X_train, y_train=y_train, X_test=X_test, y_test=y_test)"
   ]
  },
  {
   "cell_type": "markdown",
   "id": "46dfbc5d-e914-492d-9899-427834e108e1",
   "metadata": {},
   "source": [
    "I would choose the four or five best features:\n",
    "\n",
    "- `floor_area` \n",
    "- `latitude` \n",
    "- `longitude` \n",
    "- `bathroom`\n",
    "- `views`"
   ]
  },
  {
   "cell_type": "markdown",
   "id": "fb39af58-ed5b-4826-9922-ace82fa890e6",
   "metadata": {
    "tags": []
   },
   "source": [
    "### Forward Feature Selection"
   ]
  },
  {
   "cell_type": "code",
   "execution_count": null,
   "id": "904f6ca5-7f12-49ed-9510-cd56598fcb01",
   "metadata": {},
   "outputs": [],
   "source": [
    "wrapper_methods(estimators_dict=estimators, method='sfs_forward', \n",
    "                X_train=X_train, y_train=y_train, X_test=X_test, y_test=y_test)"
   ]
  },
  {
   "cell_type": "markdown",
   "id": "d079d51d-d43a-4fda-a717-0ec15f8e49be",
   "metadata": {},
   "source": [
    "I would choose the four or five best features:\n",
    "\n",
    "- `floor_area` \n",
    "- `latitude` \n",
    "- `longitude` \n",
    "- `bedroom`\n",
    "- `psr`"
   ]
  },
  {
   "cell_type": "markdown",
   "id": "c4fcaf35-b8de-40d5-8679-f209376d8ee9",
   "metadata": {
    "tags": []
   },
   "source": [
    "### Backward Feature Elimination"
   ]
  },
  {
   "cell_type": "code",
   "execution_count": null,
   "id": "9320d33d-bc79-4060-9e26-f4c8a0c2a4d6",
   "metadata": {},
   "outputs": [],
   "source": [
    "wrapper_methods(estimators_dict=estimators, method='sfs_backward', \n",
    "                X_train=X_train, y_train=y_train, X_test=X_test, y_test=y_test)"
   ]
  },
  {
   "cell_type": "markdown",
   "id": "0f49cfba-d1c2-4630-aa3e-fa0c56c48c18",
   "metadata": {},
   "source": [
    "I would choose the four or five best features:\n",
    "\n",
    "- `floor_area` \n",
    "- `latitude` \n",
    "- `longitude` \n",
    "- `bedroom`\n",
    "- `bathroom`"
   ]
  },
  {
   "cell_type": "markdown",
   "id": "a13e186e-bee2-4230-854e-d30dd2471770",
   "metadata": {
    "tags": []
   },
   "source": [
    "### Conclusions"
   ]
  },
  {
   "cell_type": "markdown",
   "id": "d84345a0-f37d-401c-8448-f01acb4bbc67",
   "metadata": {},
   "source": [
    "I think we should choose those variables that are most repeated in the three methods so my decision would be the following:\n",
    "\n",
    "- `floor_area` \n",
    "- `latitude` \n",
    "- `longitude` \n",
    "- `bedroom`\n",
    "- `bathroom`\n",
    "\n",
    "Also as I said earlier `psr` could be similar than place or location features.\n",
    "\n",
    "It is important to note that we have made the wrapper methods without categorical data, so it could be categorical variables that acts as a proxy for any of the variables. "
   ]
  },
  {
   "cell_type": "markdown",
   "id": "28a7f4a0-af76-4f5e-b472-94b691cbbe1c",
   "metadata": {
    "tags": []
   },
   "source": [
    "## Conclusions"
   ]
  },
  {
   "cell_type": "markdown",
   "id": "6560846f-5a9d-4d6e-b484-e400792d71a8",
   "metadata": {},
   "source": [
    "After the full analysis made I think tha the following variables are the best predictors in order to predict the houses prices:\n",
    "\n",
    "- `floor_area` \n",
    "- `latitude` \n",
    "- `longitude` \n",
    "- `bedroom`\n",
    "- `bathroom`\n",
    "- `place`\n",
    "- `type_house`\n",
    "- `city_district` (not sure)"
   ]
  },
  {
   "cell_type": "code",
   "execution_count": null,
   "id": "621d7109-b424-4886-8677-2d604230e9ec",
   "metadata": {},
   "outputs": [],
   "source": [
    "selected_variables = ['price', \n",
    "                      'floor_area', \n",
    "                      'bedroom', \n",
    "                      'bathroom', \n",
    "                      'place', \n",
    "                      'type_house', \n",
    "                      'longitude', \n",
    "                      'latitude', \n",
    "                      'city_district'] # , 'city_district'   code en lugar de place"
   ]
  },
  {
   "cell_type": "code",
   "execution_count": null,
   "id": "9d304108-0fe2-46aa-9935-7c098c6546b3",
   "metadata": {},
   "outputs": [],
   "source": [
    "sale_out[selected_variables].to_csv('data/selected_data.csv', sep=',', index=False)"
   ]
  }
 ],
 "metadata": {
  "kernelspec": {
   "display_name": "Python 3 (ipykernel)",
   "language": "python",
   "name": "python3"
  },
  "language_info": {
   "codemirror_mode": {
    "name": "ipython",
    "version": 3
   },
   "file_extension": ".py",
   "mimetype": "text/x-python",
   "name": "python",
   "nbconvert_exporter": "python",
   "pygments_lexer": "ipython3",
   "version": "3.7.11"
  },
  "toc-autonumbering": true
 },
 "nbformat": 4,
 "nbformat_minor": 5
}
