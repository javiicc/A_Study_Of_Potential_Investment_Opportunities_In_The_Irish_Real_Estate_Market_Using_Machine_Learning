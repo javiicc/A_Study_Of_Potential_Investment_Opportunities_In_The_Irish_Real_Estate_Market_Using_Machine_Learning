{
 "cells": [
  {
   "cell_type": "code",
   "execution_count": 97,
   "id": "339f7c58-ea8e-440c-8b50-db3391fc52fe",
   "metadata": {},
   "outputs": [],
   "source": [
    "import numpy as np\n",
    "import pandas as pd\n",
    "import matplotlib.pyplot as plt"
   ]
  },
  {
   "cell_type": "code",
   "execution_count": 98,
   "id": "af621f24-eb32-4d6c-adc8-18954cb4230e",
   "metadata": {},
   "outputs": [],
   "source": [
    "pd.set_option('display.max_rows', None)\n",
    "pd.set_option('display.max_columns', None)\n",
    "plt.style.use('seaborn')"
   ]
  },
  {
   "cell_type": "code",
   "execution_count": null,
   "id": "ec9cc9f2-6bed-4489-b231-23ea695902f4",
   "metadata": {},
   "outputs": [],
   "source": []
  },
  {
   "cell_type": "code",
   "execution_count": 122,
   "id": "b0807bdf-cbf7-41a3-bd09-0feaebe96d48",
   "metadata": {},
   "outputs": [],
   "source": [
    "import requests\n",
    "import lxml.html as l\n",
    "\n",
    "def get_2021_population():\n",
    "    \n",
    "    url = 'https://worldpopulationreview.com/countries/cities/ireland'\n",
    "    page = requests.get(url)\n",
    "    doc = lh.fromstring(page.content) \n",
    "    td_elements = doc.xpath('//tr/td')\n",
    "    \n",
    "    population = {}\n",
    "    for i, td in enumerate(td_elements):\n",
    "        #print(i)\n",
    "        td = td.text_content()\n",
    "        if i % 2 == 0:\n",
    "            population[td] = ''\n",
    "        elif i % 2 == 1:\n",
    "            last_key = list(population.keys())[-1]\n",
    "            population[last_key] = int(td.replace(',', ''))\n",
    "    return population"
   ]
  },
  {
   "cell_type": "code",
   "execution_count": 123,
   "id": "d7243a24-23f6-43a6-8262-bb7b26a389af",
   "metadata": {},
   "outputs": [],
   "source": [
    "population_dict = get_2021_population()"
   ]
  },
  {
   "cell_type": "code",
   "execution_count": 125,
   "id": "64b5c71b-229e-4c5a-9318-505e68146d3c",
   "metadata": {
    "collapsed": true,
    "jupyter": {
     "outputs_hidden": true
    },
    "tags": []
   },
   "outputs": [
    {
     "data": {
      "text/plain": [
       "{'Dublin': 1088309,\n",
       " 'Cork': 190384,\n",
       " 'Dun Laoghaire': 185400,\n",
       " 'Luimneach': 90054,\n",
       " 'Gaillimh': 70686,\n",
       " 'Waterford': 47904,\n",
       " 'Swords': 36924,\n",
       " 'Drogheda': 33441,\n",
       " 'Dundalk': 33428,\n",
       " 'Navan': 24545,\n",
       " 'Ennis': 24427,\n",
       " 'Balbriggan': 23364,\n",
       " 'Tralee': 22941,\n",
       " 'Sandyford': 22288,\n",
       " 'Kilkenny': 21589,\n",
       " 'Naas': 20713,\n",
       " 'Sligo': 20228,\n",
       " 'Carlow': 20055,\n",
       " 'Loch Garman': 19913,\n",
       " 'Finglas': 19768,\n",
       " 'Celbridge': 19537,\n",
       " 'Droichead Nua': 18860,\n",
       " 'Cluain Meala': 17394,\n",
       " 'An Muileann gCearr': 17262,\n",
       " 'Letterkenny': 16901,\n",
       " 'Blanchardstown': 16511,\n",
       " 'Athlone': 15951,\n",
       " 'Malahide': 15846,\n",
       " 'Leixlip': 15452,\n",
       " 'Donaghmede': 15299,\n",
       " 'Lucan': 15269,\n",
       " 'Kilquade': 14886,\n",
       " 'Carrigaline': 14775,\n",
       " 'Knocklyon': 14628,\n",
       " 'Clondalkin': 14508,\n",
       " 'Wicklow': 14048,\n",
       " 'Portlaoise': 13622,\n",
       " 'Greystones': 13492,\n",
       " 'Castlebar': 12874,\n",
       " 'Foxrock': 12870,\n",
       " 'Athy': 12855,\n",
       " 'Maynooth': 12510,\n",
       " 'Dundrum': 12152,\n",
       " 'Arklow': 11761,\n",
       " 'Tullamore': 11575,\n",
       " 'Ashbourne': 11355,\n",
       " 'Crumlin': 11294,\n",
       " 'Rathmines': 11044,\n",
       " 'Marino': 11023,\n",
       " 'Laytown': 10889,\n",
       " 'Jobstown': 10825,\n",
       " 'Donnybrook': 10645,\n",
       " 'Cobh': 10501,\n",
       " 'Shankill': 10102,\n",
       " 'Ballina': 10087,\n",
       " 'Cabinteely': 10038,\n",
       " 'Derry': 10000,\n",
       " 'Oldbawn': 9784,\n",
       " 'Enniscorthy': 9709,\n",
       " 'Shannon': 9673,\n",
       " 'Skerries': 9671,\n",
       " 'Ballyboden': 9611,\n",
       " 'Mallow': 9495,\n",
       " 'Portmarnock': 9285,\n",
       " 'An Ros': 9231,\n",
       " 'Tra Mhor': 9164,\n",
       " 'Balally': 9051,\n",
       " 'Ratoath': 9043,\n",
       " 'Sandymount': 8967,\n",
       " 'Midleton': 8891,\n",
       " 'Blackrock': 8821,\n",
       " 'Beaumont': 8609,\n",
       " 'Ballyfermot': 8558,\n",
       " 'Ballinteer': 8547,\n",
       " 'Rathgar': 8394,\n",
       " 'Castleknock': 8301,\n",
       " 'Ringsend': 8202,\n",
       " 'Kildare': 8142,\n",
       " 'Baldoyle': 8043,\n",
       " 'Little Bray': 8015,\n",
       " 'Cherry Orchard': 7924,\n",
       " 'Mount Merrion': 7846,\n",
       " 'Portarlington': 7788,\n",
       " 'Longford': 7787,\n",
       " 'Terenure': 7674,\n",
       " 'Donnycarney': 7660,\n",
       " 'Thurles': 7588,\n",
       " 'Dungarvan': 7551,\n",
       " 'Cill Airne': 7300,\n",
       " 'Palmerstown': 7197,\n",
       " 'Raheny': 7197,\n",
       " 'Booterstown': 7142,\n",
       " 'Templeogue': 7023,\n",
       " 'Lusk': 7022,\n",
       " 'Dunboyne': 6959,\n",
       " 'Sallynoggin': 6916,\n",
       " 'Greenhills': 6876,\n",
       " 'Youghal': 6868,\n",
       " 'Firhouse': 6859,\n",
       " 'Newtown Trim': 6781,\n",
       " 'Donabate': 6778,\n",
       " 'Clane': 6702,\n",
       " 'New Ross': 6695,\n",
       " 'Nenagh Bridge': 6672,\n",
       " 'Dalkey': 6622,\n",
       " 'Bray': 6477,\n",
       " 'Ballinasloe': 6388,\n",
       " 'Cavan': 6388,\n",
       " 'Cherryville': 6380,\n",
       " 'Newcastle West': 6327,\n",
       " 'Ballymun': 6262,\n",
       " 'Westport': 6200,\n",
       " 'Tuam': 6130,\n",
       " 'Gorey': 6040,\n",
       " 'Monaghan': 5937,\n",
       " 'Hartstown': 5882,\n",
       " 'Kinsealy-Drinan': 5814,\n",
       " 'Carrick-on-Suir': 5710,\n",
       " 'Roscommon': 5693,\n",
       " 'Darndale': 5667,\n",
       " 'Monkstown': 5555,\n",
       " 'Buncrana': 5546,\n",
       " 'Kilcock': 5533,\n",
       " 'Nenagh': 5500,\n",
       " 'Bandon': 5492,\n",
       " 'Roscrea': 5403,\n",
       " 'Confey': 5389,\n",
       " 'Eadestown': 5346,\n",
       " 'Artane': 5328,\n",
       " 'Chapelizod': 5296,\n",
       " 'Sallins': 5283,\n",
       " 'Killester': 5099,\n",
       " 'Dollymount': 5070,\n",
       " 'Loughrea': 5062,\n",
       " 'Blessington': 5010}"
      ]
     },
     "execution_count": 125,
     "metadata": {},
     "output_type": "execute_result"
    }
   ],
   "source": [
    "population_dict['Dublin'] = 1024027 + 64282\n",
    "del population_dict['Tallaght']\n",
    "population_dict"
   ]
  },
  {
   "cell_type": "code",
   "execution_count": 101,
   "id": "80002ad8-ed1e-46a1-a7a8-ac99931c77fb",
   "metadata": {},
   "outputs": [
    {
     "data": {
      "text/plain": [
       "(7695, 32)"
      ]
     },
     "execution_count": 101,
     "metadata": {},
     "output_type": "execute_result"
    }
   ],
   "source": [
    "sale_data_post_geosp = pd.read_csv('data_available/sale_data_geosp_improved.csv', sep=',')\n",
    "sale_data_post_geosp.shape"
   ]
  },
  {
   "cell_type": "code",
   "execution_count": 102,
   "id": "709ed74f-a6b8-4a56-8498-9896e81ce892",
   "metadata": {},
   "outputs": [
    {
     "name": "stdout",
     "output_type": "stream",
     "text": [
      "(7695, 32)\n",
      "(7695, 33)\n"
     ]
    },
    {
     "name": "stderr",
     "output_type": "stream",
     "text": [
      "/home/javier/anaconda3/envs/tfm/lib/python3.7/site-packages/pandas/core/indexing.py:1732: SettingWithCopyWarning: \n",
      "A value is trying to be set on a copy of a slice from a DataFrame\n",
      "\n",
      "See the caveats in the documentation: https://pandas.pydata.org/pandas-docs/stable/user_guide/indexing.html#returning-a-view-versus-a-copy\n",
      "  self._setitem_single_block(indexer, value, name)\n"
     ]
    }
   ],
   "source": [
    "print(sale_data_post_geosp.shape)\n",
    "sale_data_post_geosp['cities'] = sale_data_post_geosp.place.copy()\n",
    "print(sale_data_post_geosp.shape)\n",
    "\n",
    "ix_to_change_dublin = sale_data_post_geosp.cities.dropna()[sale_data_post_geosp.cities.dropna().str.contains('Dublin')].index\n",
    "ix_to_change_cork = sale_data_post_geosp.cities.dropna()[sale_data_post_geosp.cities.dropna().str.contains('Cork')].index\n",
    "#ix_to_change\n",
    "sale_data_post_geosp.cities.iloc[ix_to_change_dublin] = 'Dublin'\n",
    "sale_data_post_geosp.cities.iloc[ix_to_change_cork] = 'Cork'"
   ]
  },
  {
   "cell_type": "code",
   "execution_count": 103,
   "id": "3d805524-68ee-46da-a5f6-62a3755a5399",
   "metadata": {},
   "outputs": [
    {
     "data": {
      "text/plain": [
       "array([nan, nan, nan, ..., nan, nan, nan])"
      ]
     },
     "execution_count": 103,
     "metadata": {},
     "output_type": "execute_result"
    }
   ],
   "source": [
    "myarray = np.empty(7695)#[:]\n",
    "myarray[:] = np.nan\n",
    "myarray"
   ]
  },
  {
   "cell_type": "raw",
   "id": "c71ea170-1ae8-4f48-88f2-acdc49a451c4",
   "metadata": {
    "jupyter": {
     "outputs_hidden": true
    },
    "tags": []
   },
   "source": [
    "sale_data_post_geosp['population'] = myarray\n",
    "for city, population in zip(sale_data_post_geosp.cities, sale_data_post_geosp.population):\n",
    "    if city in population_dict:\n",
    "        population = int(population_dict[city].replace(',', ''))\n",
    "    else:\n",
    "        print(f'Faillll!!!!: {city}')"
   ]
  },
  {
   "cell_type": "code",
   "execution_count": 111,
   "id": "4fb9ef1a-76e3-420e-b94d-dcff8b59cd55",
   "metadata": {},
   "outputs": [],
   "source": [
    "gaeilge_translation = {}\n",
    "\n",
    "\n"
   ]
  },
  {
   "cell_type": "code",
   "execution_count": 119,
   "id": "56d7e3ce-3653-4201-b216-d2a3a39e3610",
   "metadata": {},
   "outputs": [
    {
     "data": {
      "text/plain": [
       "''"
      ]
     },
     "execution_count": 119,
     "metadata": {},
     "output_type": "execute_result"
    }
   ],
   "source": [
    "translations_list = [\n",
    "    'Limerick','Galway','','','','','','','','',\n",
    "    '','','','','','','','','','',\n",
    "    '','','','','','','','','','',\n",
    "    '','','','','','','','','','',\n",
    "    '','','','','','','','','','',\n",
    "    '','','','','','','','','','',\n",
    "    '','','','','','','','','','',\n",
    "    '','','','','','','','','',\n",
    "]"
   ]
  },
  {
   "cell_type": "code",
   "execution_count": 126,
   "id": "8b29b803-3065-411a-8d46-051ff5d83961",
   "metadata": {
    "tags": []
   },
   "outputs": [
    {
     "data": {
      "text/plain": [
       "{'Luimneach': '',\n",
       " 'Gaillimh': '',\n",
       " 'Navan': '',\n",
       " 'Sandyford': '',\n",
       " 'Loch Garman': '',\n",
       " 'Finglas': '',\n",
       " 'Celbridge': '',\n",
       " 'Droichead Nua': '',\n",
       " 'Cluain Meala': '',\n",
       " 'An Muileann gCearr': '',\n",
       " 'Blanchardstown': '',\n",
       " 'Leixlip': '',\n",
       " 'Donaghmede': '',\n",
       " 'Kilquade': '',\n",
       " 'Knocklyon': '',\n",
       " 'Clondalkin': '',\n",
       " 'Foxrock': '',\n",
       " 'Dundrum': '',\n",
       " 'Crumlin': '',\n",
       " 'Rathmines': '',\n",
       " 'Marino': '',\n",
       " 'Laytown': '',\n",
       " 'Jobstown': '',\n",
       " 'Donnybrook': '',\n",
       " 'Shankill': '',\n",
       " 'Cabinteely': '',\n",
       " 'Derry': '',\n",
       " 'Oldbawn': '',\n",
       " 'Ballyboden': '',\n",
       " 'Portmarnock': '',\n",
       " 'An Ros': '',\n",
       " 'Tra Mhor': '',\n",
       " 'Balally': '',\n",
       " 'Ratoath': '',\n",
       " 'Sandymount': '',\n",
       " 'Beaumont': '',\n",
       " 'Ballyfermot': '',\n",
       " 'Ballinteer': '',\n",
       " 'Rathgar': '',\n",
       " 'Castleknock': '',\n",
       " 'Ringsend': '',\n",
       " 'Baldoyle': '',\n",
       " 'Little Bray': '',\n",
       " 'Cherry Orchard': '',\n",
       " 'Mount Merrion': '',\n",
       " 'Portarlington': '',\n",
       " 'Terenure': '',\n",
       " 'Donnycarney': '',\n",
       " 'Dungarvan': '',\n",
       " 'Cill Airne': '',\n",
       " 'Palmerstown': '',\n",
       " 'Raheny': '',\n",
       " 'Booterstown': '',\n",
       " 'Templeogue': '',\n",
       " 'Sallynoggin': '',\n",
       " 'Greenhills': '',\n",
       " 'Firhouse': '',\n",
       " 'Newtown Trim': '',\n",
       " 'Donabate': '',\n",
       " 'Clane': '',\n",
       " 'Nenagh Bridge': '',\n",
       " 'Dalkey': '',\n",
       " 'Cherryville': '',\n",
       " 'Ballymun': '',\n",
       " 'Hartstown': '',\n",
       " 'Kinsealy-Drinan': '',\n",
       " 'Carrick-on-Suir': '',\n",
       " 'Darndale': '',\n",
       " 'Monkstown': '',\n",
       " 'Buncrana': '',\n",
       " 'Kilcock': '',\n",
       " 'Confey': '',\n",
       " 'Eadestown': '',\n",
       " 'Artane': '',\n",
       " 'Chapelizod': '',\n",
       " 'Sallins': '',\n",
       " 'Killester': '',\n",
       " 'Dollymount': '',\n",
       " 'Blessington': ''}"
      ]
     },
     "execution_count": 126,
     "metadata": {},
     "output_type": "execute_result"
    }
   ],
   "source": [
    "gaeilge_translation = {}\n",
    "for key in population_dict:\n",
    "    if sale_data_post_geosp['cities'].str.contains(key).any():\n",
    "        pass\n",
    "    else:\n",
    "        gaeilge_translation[key] = ''\n",
    "gaeilge_translation"
   ]
  },
  {
   "cell_type": "code",
   "execution_count": 120,
   "id": "9c071f8b-3873-41f9-8032-23873e6e3b30",
   "metadata": {},
   "outputs": [
    {
     "data": {
      "text/plain": [
       "80"
      ]
     },
     "execution_count": 120,
     "metadata": {},
     "output_type": "execute_result"
    }
   ],
   "source": [
    "len(gaeilge_translation)"
   ]
  },
  {
   "cell_type": "code",
   "execution_count": null,
   "id": "aeda6b45-7238-4b2e-839e-3766d49923fb",
   "metadata": {},
   "outputs": [],
   "source": []
  }
 ],
 "metadata": {
  "kernelspec": {
   "display_name": "Python 3 (ipykernel)",
   "language": "python",
   "name": "python3"
  },
  "language_info": {
   "codemirror_mode": {
    "name": "ipython",
    "version": 3
   },
   "file_extension": ".py",
   "mimetype": "text/x-python",
   "name": "python",
   "nbconvert_exporter": "python",
   "pygments_lexer": "ipython3",
   "version": "3.7.11"
  }
 },
 "nbformat": 4,
 "nbformat_minor": 5
}
