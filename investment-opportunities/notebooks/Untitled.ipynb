{
 "cells": [
  {
   "cell_type": "code",
   "execution_count": 1,
   "id": "cb551d51-557f-4722-b508-f9978b03f3f6",
   "metadata": {},
   "outputs": [],
   "source": [
    "test_scores = {\n",
    "    'Multiple Linear Regression': [0.64, 0.67],\n",
    "    'Regularize'\n",
    "    'Polynomial Regression': [0.73, 0.77],\n",
    "    'K Nearest Neighbors Regressor': [0.71, 0.79],\n",
    "    'Decission Tree Regressor': [0.73, 0.79],\n",
    "    'Voting Regressor with Basic Algorithms': [0.78, 0.83],\n",
    "    'Bagging with Polynomial Regression': [0.73, 0.77],\n",
    "    'Random Forest Regressor': [0.80, 0.97],\n",
    "    'Extremely Randomized Trees': [0.81, 0.99],\n",
    "    'AdaBoost': [0.64, 0.68],\n",
    "    'Gradient Boosting Regressor': [0.64, 0.68],\n",
    "    'Extreme Gradient Boosting': [0.79, 0.96], \n",
    "    'Voting Regressor with Ensemble Methods \"poly\"': [0.8191, 0.9670],\n",
    "    'Voting Regressor with Ensemble Methods \"voting BA\"': [0.8198, 0.9695],\n",
    "    'Voting Regressor with Ensemble Methods': [0.8194, 0.9879],\n",
    "    'Stacking': [0.8210, 0.9812], \n",
    "}"
   ]
  },
  {
   "cell_type": "code",
   "execution_count": 1,
   "id": "b3177cbc-4106-4bf7-acd5-b4ce0da81007",
   "metadata": {},
   "outputs": [],
   "source": [
    "import pandas as pd\n",
    "import seaborn as sns\n",
    "import matplotlib.pyplot as plt"
   ]
  },
  {
   "cell_type": "code",
   "execution_count": 3,
   "id": "de07f86b-35eb-4c30-97e6-5656acea700e",
   "metadata": {},
   "outputs": [
    {
     "data": {
      "text/html": [
       "<div>\n",
       "<style scoped>\n",
       "    .dataframe tbody tr th:only-of-type {\n",
       "        vertical-align: middle;\n",
       "    }\n",
       "\n",
       "    .dataframe tbody tr th {\n",
       "        vertical-align: top;\n",
       "    }\n",
       "\n",
       "    .dataframe thead th {\n",
       "        text-align: right;\n",
       "    }\n",
       "</style>\n",
       "<table border=\"1\" class=\"dataframe\">\n",
       "  <thead>\n",
       "    <tr style=\"text-align: right;\">\n",
       "      <th></th>\n",
       "      <th>test</th>\n",
       "      <th>train</th>\n",
       "    </tr>\n",
       "  </thead>\n",
       "  <tbody>\n",
       "    <tr>\n",
       "      <th>Multiple Linear Regression</th>\n",
       "      <td>0.6400</td>\n",
       "      <td>0.6700</td>\n",
       "    </tr>\n",
       "    <tr>\n",
       "      <th>RegularizePolynomial Regression</th>\n",
       "      <td>0.7300</td>\n",
       "      <td>0.7700</td>\n",
       "    </tr>\n",
       "    <tr>\n",
       "      <th>K Nearest Neighbors Regressor</th>\n",
       "      <td>0.7100</td>\n",
       "      <td>0.7900</td>\n",
       "    </tr>\n",
       "    <tr>\n",
       "      <th>Decission Tree Regressor</th>\n",
       "      <td>0.7300</td>\n",
       "      <td>0.7900</td>\n",
       "    </tr>\n",
       "    <tr>\n",
       "      <th>Voting Regressor with Basic Algorithms</th>\n",
       "      <td>0.7800</td>\n",
       "      <td>0.8300</td>\n",
       "    </tr>\n",
       "    <tr>\n",
       "      <th>Bagging with Polynomial Regression</th>\n",
       "      <td>0.7300</td>\n",
       "      <td>0.7700</td>\n",
       "    </tr>\n",
       "    <tr>\n",
       "      <th>Random Forest Regressor</th>\n",
       "      <td>0.8000</td>\n",
       "      <td>0.9700</td>\n",
       "    </tr>\n",
       "    <tr>\n",
       "      <th>Extremely Randomized Trees</th>\n",
       "      <td>0.8100</td>\n",
       "      <td>0.9900</td>\n",
       "    </tr>\n",
       "    <tr>\n",
       "      <th>AdaBoost</th>\n",
       "      <td>0.6400</td>\n",
       "      <td>0.6800</td>\n",
       "    </tr>\n",
       "    <tr>\n",
       "      <th>Gradient Boosting Regressor</th>\n",
       "      <td>0.6400</td>\n",
       "      <td>0.6800</td>\n",
       "    </tr>\n",
       "    <tr>\n",
       "      <th>Extreme Gradient Boosting</th>\n",
       "      <td>0.7900</td>\n",
       "      <td>0.9600</td>\n",
       "    </tr>\n",
       "    <tr>\n",
       "      <th>Voting Regressor with Ensemble Methods \"poly\"</th>\n",
       "      <td>0.8191</td>\n",
       "      <td>0.9670</td>\n",
       "    </tr>\n",
       "    <tr>\n",
       "      <th>Voting Regressor with Ensemble Methods \"voting BA\"</th>\n",
       "      <td>0.8198</td>\n",
       "      <td>0.9695</td>\n",
       "    </tr>\n",
       "    <tr>\n",
       "      <th>Voting Regressor with Ensemble Methods</th>\n",
       "      <td>0.8194</td>\n",
       "      <td>0.9879</td>\n",
       "    </tr>\n",
       "    <tr>\n",
       "      <th>Stacking</th>\n",
       "      <td>0.8210</td>\n",
       "      <td>0.9812</td>\n",
       "    </tr>\n",
       "  </tbody>\n",
       "</table>\n",
       "</div>"
      ],
      "text/plain": [
       "                                                      test   train\n",
       "Multiple Linear Regression                          0.6400  0.6700\n",
       "RegularizePolynomial Regression                     0.7300  0.7700\n",
       "K Nearest Neighbors Regressor                       0.7100  0.7900\n",
       "Decission Tree Regressor                            0.7300  0.7900\n",
       "Voting Regressor with Basic Algorithms              0.7800  0.8300\n",
       "Bagging with Polynomial Regression                  0.7300  0.7700\n",
       "Random Forest Regressor                             0.8000  0.9700\n",
       "Extremely Randomized Trees                          0.8100  0.9900\n",
       "AdaBoost                                            0.6400  0.6800\n",
       "Gradient Boosting Regressor                         0.6400  0.6800\n",
       "Extreme Gradient Boosting                           0.7900  0.9600\n",
       "Voting Regressor with Ensemble Methods \"poly\"       0.8191  0.9670\n",
       "Voting Regressor with Ensemble Methods \"voting BA\"  0.8198  0.9695\n",
       "Voting Regressor with Ensemble Methods              0.8194  0.9879\n",
       "Stacking                                            0.8210  0.9812"
      ]
     },
     "execution_count": 3,
     "metadata": {},
     "output_type": "execute_result"
    }
   ],
   "source": [
    "df = pd.DataFrame(test_scores).transpose()\n",
    "df.rename(columns={0: 'test', 1: 'train'}, inplace=True)\n",
    "df"
   ]
  },
  {
   "cell_type": "code",
   "execution_count": 10,
   "id": "09fc835a-64ca-49ee-8ce4-d9c0b1c95c03",
   "metadata": {},
   "outputs": [
    {
     "data": {
      "text/html": [
       "<div>\n",
       "<style scoped>\n",
       "    .dataframe tbody tr th:only-of-type {\n",
       "        vertical-align: middle;\n",
       "    }\n",
       "\n",
       "    .dataframe tbody tr th {\n",
       "        vertical-align: top;\n",
       "    }\n",
       "\n",
       "    .dataframe thead th {\n",
       "        text-align: right;\n",
       "    }\n",
       "</style>\n",
       "<table border=\"1\" class=\"dataframe\">\n",
       "  <thead>\n",
       "    <tr style=\"text-align: right;\">\n",
       "      <th></th>\n",
       "      <th>test</th>\n",
       "      <th>train</th>\n",
       "    </tr>\n",
       "    <tr>\n",
       "      <th>test</th>\n",
       "      <th></th>\n",
       "      <th></th>\n",
       "    </tr>\n",
       "  </thead>\n",
       "  <tbody>\n",
       "    <tr>\n",
       "      <th>0.6400</th>\n",
       "      <td>0.6400</td>\n",
       "      <td>0.676667</td>\n",
       "    </tr>\n",
       "    <tr>\n",
       "      <th>0.7100</th>\n",
       "      <td>0.7100</td>\n",
       "      <td>0.790000</td>\n",
       "    </tr>\n",
       "    <tr>\n",
       "      <th>0.7300</th>\n",
       "      <td>0.7300</td>\n",
       "      <td>0.776667</td>\n",
       "    </tr>\n",
       "    <tr>\n",
       "      <th>0.7800</th>\n",
       "      <td>0.7800</td>\n",
       "      <td>0.830000</td>\n",
       "    </tr>\n",
       "    <tr>\n",
       "      <th>0.7900</th>\n",
       "      <td>0.7900</td>\n",
       "      <td>0.960000</td>\n",
       "    </tr>\n",
       "    <tr>\n",
       "      <th>0.8000</th>\n",
       "      <td>0.8000</td>\n",
       "      <td>0.970000</td>\n",
       "    </tr>\n",
       "    <tr>\n",
       "      <th>0.8100</th>\n",
       "      <td>0.8100</td>\n",
       "      <td>0.990000</td>\n",
       "    </tr>\n",
       "    <tr>\n",
       "      <th>0.8191</th>\n",
       "      <td>0.8191</td>\n",
       "      <td>0.967000</td>\n",
       "    </tr>\n",
       "    <tr>\n",
       "      <th>0.8194</th>\n",
       "      <td>0.8194</td>\n",
       "      <td>0.987900</td>\n",
       "    </tr>\n",
       "    <tr>\n",
       "      <th>0.8198</th>\n",
       "      <td>0.8198</td>\n",
       "      <td>0.969500</td>\n",
       "    </tr>\n",
       "    <tr>\n",
       "      <th>0.8210</th>\n",
       "      <td>0.8210</td>\n",
       "      <td>0.981200</td>\n",
       "    </tr>\n",
       "  </tbody>\n",
       "</table>\n",
       "</div>"
      ],
      "text/plain": [
       "          test     train\n",
       "test                    \n",
       "0.6400  0.6400  0.676667\n",
       "0.7100  0.7100  0.790000\n",
       "0.7300  0.7300  0.776667\n",
       "0.7800  0.7800  0.830000\n",
       "0.7900  0.7900  0.960000\n",
       "0.8000  0.8000  0.970000\n",
       "0.8100  0.8100  0.990000\n",
       "0.8191  0.8191  0.967000\n",
       "0.8194  0.8194  0.987900\n",
       "0.8198  0.8198  0.969500\n",
       "0.8210  0.8210  0.981200"
      ]
     },
     "execution_count": 10,
     "metadata": {},
     "output_type": "execute_result"
    }
   ],
   "source": [
    "df2 = df.groupby('test')[['test', 'train']].mean()\n",
    "df2#.columns"
   ]
  },
  {
   "cell_type": "code",
   "execution_count": 7,
   "id": "b92ecd31-1f8a-4ad4-9be4-60535cd5b5a3",
   "metadata": {},
   "outputs": [
    {
     "data": {
      "image/png": "[encoded data removed]",
      "text/plain": [
       "<Figure size 432x432 with 1 Axes>"
      ]
     },
     "metadata": {},
     "output_type": "display_data"
    }
   ],
   "source": [
    "plt.style.use('seaborn')\n",
    "df.plot(kind='barh', stacked=False, figsize=(6,6), fontsize=14);"
   ]
  },
  {
   "cell_type": "code",
   "execution_count": 2,
   "id": "55e613a4-356a-4c48-8fca-2c2c972f5d1c",
   "metadata": {},
   "outputs": [],
   "source": [
    "import sys"
   ]
  },
  {
   "cell_type": "code",
   "execution_count": 3,
   "id": "d313b81b-1880-4cad-a6e3-077d318e832a",
   "metadata": {},
   "outputs": [
    {
     "data": {
      "text/plain": [
       "['/home/javier/Desktop/potential-investments/A_Study_Of_Potential_Investment_Opportunities_In_The_Irish_Real_Estate_Market_Using_Machine_Learning',\n",
       " '/home/javier/anaconda3/envs/tfm/lib/python37.zip',\n",
       " '/home/javier/anaconda3/envs/tfm/lib/python3.7',\n",
       " '/home/javier/anaconda3/envs/tfm/lib/python3.7/lib-dynload',\n",
       " '',\n",
       " '/home/javier/anaconda3/envs/tfm/lib/python3.7/site-packages',\n",
       " '/home/javier/anaconda3/envs/tfm/lib/python3.7/site-packages/IPython/extensions',\n",
       " '/home/javier/.ipython']"
      ]
     },
     "execution_count": 3,
     "metadata": {},
     "output_type": "execute_result"
    }
   ],
   "source": [
    "sys.path"
   ]
  },
  {
   "cell_type": "markdown",
   "id": "342c2923-abba-46d0-9746-6355b6df14f6",
   "metadata": {},
   "source": [
    "Tengo que hacer esto cada vez que abro el proyecto"
   ]
  },
  {
   "cell_type": "raw",
   "id": "89a9277d-7196-40ff-9b85-d962e7ba1d93",
   "metadata": {},
   "source": [
    "!export PYTHONPATH=\"${PYTHONPATH}:/home/javier/Desktop/potential-investments/A_Study_Of_Potential_Investment_Opportunities_In_The_Irish_Real_Estate_Market_Using_Machine_Learning\""
   ]
  },
  {
   "cell_type": "code",
   "execution_count": null,
   "id": "701f74f7-b5f9-4187-ba11-117884c19167",
   "metadata": {
    "jupyter": {
     "source_hidden": true
    },
    "tags": []
   },
   "outputs": [],
   "source": [
    "def transformer_estimator(num_transformation, regressor, poly_degree=1):\n",
    "\n",
    "    if num_transformation is 'std_scaler':\n",
    "        num_pipe = Pipeline([\n",
    "            ('std_scaler', StandardScaler())\n",
    "            ('poly', PolynomialFeatures(degree=poly_degree, include_bias=False)),\n",
    "            ])\n",
    "    elif num_transformation is 'power_transformer':\n",
    "        num_pipe = Pipeline([\n",
    "            ('power_transformer', PowerTransformer(method='yeo-johnson')), #, standardize=False\n",
    "            ('poly', PolynomialFeatures(degree=poly_degree, include_bias=False)),\n",
    "            ])    \n",
    "        \n",
    "\n",
    "    cat_pipe = Pipeline([\n",
    "        ('one_hot_encoder', OneHotEncoder(categories=[levels_code, levels_type_house]))  # No hace nada si ya transformadas\n",
    "                                          #handle_unknown='ignore'\n",
    "        ])\n",
    "    # Las transforme antes para evitar problemas no las variables a la hora de predecir e el test_set...\n",
    "\n",
    "    preprocessor = ColumnTransformer([\n",
    "        ('num', num_pipe, num_features),\n",
    "        ('cat', cat_pipe, cat_features),\n",
    "        ]) #, remainder='passthrough'\n",
    "\n",
    "\n",
    "    pipe_estimator = Pipeline(steps=[\n",
    "        ('preprocessor', preprocessor),\n",
    "        ('imputer', SimpleImputer(strategy='constant', # esto lo puedo agnadir en los otros pipes\n",
    "                                  fill_value=None)),\n",
    "        ('regressor', LinearRegression())\n",
    "        ])\n",
    "    \n",
    "    return pipe_estimator"
   ]
  },
  {
   "cell_type": "code",
   "execution_count": null,
   "id": "6ca4e768-f7a1-4007-8668-ec6d9dd7552a",
   "metadata": {},
   "outputs": [],
   "source": []
  },
  {
   "cell_type": "code",
   "execution_count": 2,
   "id": "072da7e2-b961-4d60-8cdf-ea6ddf185c8a",
   "metadata": {},
   "outputs": [
    {
     "data": {
      "text/html": [
       "<div>\n",
       "<style scoped>\n",
       "    .dataframe tbody tr th:only-of-type {\n",
       "        vertical-align: middle;\n",
       "    }\n",
       "\n",
       "    .dataframe tbody tr th {\n",
       "        vertical-align: top;\n",
       "    }\n",
       "\n",
       "    .dataframe thead th {\n",
       "        text-align: right;\n",
       "    }\n",
       "</style>\n",
       "<table border=\"1\" class=\"dataframe\">\n",
       "  <thead>\n",
       "    <tr style=\"text-align: right;\">\n",
       "      <th></th>\n",
       "      <th>floor_area</th>\n",
       "      <th>latitude</th>\n",
       "      <th>longitude</th>\n",
       "      <th>bedroom</th>\n",
       "      <th>bathroom</th>\n",
       "      <th>type_house</th>\n",
       "      <th>code</th>\n",
       "      <th>actual_price</th>\n",
       "      <th>predicted_price</th>\n",
       "      <th>residual</th>\n",
       "      <th>res_percentage</th>\n",
       "      <th>url</th>\n",
       "      <th>place</th>\n",
       "    </tr>\n",
       "  </thead>\n",
       "  <tbody>\n",
       "    <tr>\n",
       "      <th>0</th>\n",
       "      <td>253</td>\n",
       "      <td>53.422157</td>\n",
       "      <td>-9.323780</td>\n",
       "      <td>5</td>\n",
       "      <td>4</td>\n",
       "      <td>house</td>\n",
       "      <td>NaN</td>\n",
       "      <td>549000.0</td>\n",
       "      <td>491811.730899</td>\n",
       "      <td>-57188.269101</td>\n",
       "      <td>-0.104168</td>\n",
       "      <td>https://www.daft.ie/for-sale/detached-house-cr...</td>\n",
       "      <td>NaN</td>\n",
       "    </tr>\n",
       "    <tr>\n",
       "      <th>1</th>\n",
       "      <td>165</td>\n",
       "      <td>53.231042</td>\n",
       "      <td>-6.648264</td>\n",
       "      <td>4</td>\n",
       "      <td>3</td>\n",
       "      <td>house</td>\n",
       "      <td>W91</td>\n",
       "      <td>495000.0</td>\n",
       "      <td>449712.628846</td>\n",
       "      <td>-45287.371154</td>\n",
       "      <td>-0.091490</td>\n",
       "      <td>https://www.daft.ie/for-sale/detached-house-4-...</td>\n",
       "      <td>Naas</td>\n",
       "    </tr>\n",
       "    <tr>\n",
       "      <th>2</th>\n",
       "      <td>131</td>\n",
       "      <td>52.314025</td>\n",
       "      <td>-6.465860</td>\n",
       "      <td>3</td>\n",
       "      <td>2</td>\n",
       "      <td>NaN</td>\n",
       "      <td>Y35</td>\n",
       "      <td>350000.0</td>\n",
       "      <td>293238.559856</td>\n",
       "      <td>-56761.440144</td>\n",
       "      <td>-0.162176</td>\n",
       "      <td>https://www.daft.ie/for-sale/bungalow-st-micha...</td>\n",
       "      <td>Wexford</td>\n",
       "    </tr>\n",
       "    <tr>\n",
       "      <th>3</th>\n",
       "      <td>188</td>\n",
       "      <td>52.344317</td>\n",
       "      <td>-6.501705</td>\n",
       "      <td>4</td>\n",
       "      <td>3</td>\n",
       "      <td>house</td>\n",
       "      <td>Y35</td>\n",
       "      <td>450000.0</td>\n",
       "      <td>424775.165162</td>\n",
       "      <td>-25224.834838</td>\n",
       "      <td>-0.056055</td>\n",
       "      <td>https://www.daft.ie/for-sale/detached-house-42...</td>\n",
       "      <td>Wexford</td>\n",
       "    </tr>\n",
       "    <tr>\n",
       "      <th>4</th>\n",
       "      <td>73</td>\n",
       "      <td>53.333751</td>\n",
       "      <td>-6.289374</td>\n",
       "      <td>2</td>\n",
       "      <td>1</td>\n",
       "      <td>house</td>\n",
       "      <td>D08</td>\n",
       "      <td>325000.0</td>\n",
       "      <td>354357.760379</td>\n",
       "      <td>29357.760379</td>\n",
       "      <td>0.090332</td>\n",
       "      <td>https://www.daft.ie/for-sale/end-of-terrace-ho...</td>\n",
       "      <td>Dublin 8</td>\n",
       "    </tr>\n",
       "  </tbody>\n",
       "</table>\n",
       "</div>"
      ],
      "text/plain": [
       "   floor_area   latitude  longitude  bedroom  bathroom type_house code  \\\n",
       "0         253  53.422157  -9.323780        5         4      house  NaN   \n",
       "1         165  53.231042  -6.648264        4         3      house  W91   \n",
       "2         131  52.314025  -6.465860        3         2        NaN  Y35   \n",
       "3         188  52.344317  -6.501705        4         3      house  Y35   \n",
       "4          73  53.333751  -6.289374        2         1      house  D08   \n",
       "\n",
       "   actual_price  predicted_price      residual  res_percentage  \\\n",
       "0      549000.0    491811.730899 -57188.269101       -0.104168   \n",
       "1      495000.0    449712.628846 -45287.371154       -0.091490   \n",
       "2      350000.0    293238.559856 -56761.440144       -0.162176   \n",
       "3      450000.0    424775.165162 -25224.834838       -0.056055   \n",
       "4      325000.0    354357.760379  29357.760379        0.090332   \n",
       "\n",
       "                                                 url     place  \n",
       "0  https://www.daft.ie/for-sale/detached-house-cr...       NaN  \n",
       "1  https://www.daft.ie/for-sale/detached-house-4-...      Naas  \n",
       "2  https://www.daft.ie/for-sale/bungalow-st-micha...   Wexford  \n",
       "3  https://www.daft.ie/for-sale/detached-house-42...   Wexford  \n",
       "4  https://www.daft.ie/for-sale/end-of-terrace-ho...  Dublin 8  "
      ]
     },
     "execution_count": 2,
     "metadata": {},
     "output_type": "execute_result"
    }
   ],
   "source": [
    "df = pd.read_csv('/home/javier/Desktop/Identifyin_Potential_Investment_Opportunities_In_The_Irish_Real_Estate_Market_Using_Machine_Learning/investment-opportunities/data/07_model_output/data_for_frontend.csv')\n",
    "df.head()"
   ]
  },
  {
   "cell_type": "code",
   "execution_count": 4,
   "id": "4211a1e9-3e2e-4365-a05d-49fd895a128c",
   "metadata": {},
   "outputs": [
    {
     "data": {
      "text/plain": [
       "[{'label': 'Unknown', 'value': 'Unknown'},\n",
       " {'label': 'Naas', 'value': 'Naas'},\n",
       " {'label': 'Wexford', 'value': 'Wexford'},\n",
       " {'label': 'Dublin 8', 'value': 'Dublin 8'},\n",
       " {'label': 'Dublin 6W', 'value': 'Dublin 6W'},\n",
       " {'label': 'Carrick on Suir', 'value': 'Carrick on Suir'},\n",
       " {'label': 'Galway', 'value': 'Galway'},\n",
       " {'label': 'Malahide', 'value': 'Malahide'},\n",
       " {'label': 'Portlaoise', 'value': 'Portlaoise'},\n",
       " {'label': 'Sligo', 'value': 'Sligo'},\n",
       " {'label': 'Waterford', 'value': 'Waterford'},\n",
       " {'label': 'Miltown Malbay', 'value': 'Miltown Malbay'},\n",
       " {'label': 'Greystones', 'value': 'Greystones'},\n",
       " {'label': 'Cork city southside', 'value': 'Cork city southside'},\n",
       " {'label': 'Knock', 'value': 'Knock'},\n",
       " {'label': 'Maynooth', 'value': 'Maynooth'},\n",
       " {'label': 'Trim', 'value': 'Trim'},\n",
       " {'label': 'Dublin 7', 'value': 'Dublin 7'},\n",
       " {'label': 'Dublin 9', 'value': 'Dublin 9'},\n",
       " {'label': 'Dublin 20', 'value': 'Dublin 20'},\n",
       " {'label': 'Cork city northside', 'value': 'Cork city northside'},\n",
       " {'label': 'Dublin 15', 'value': 'Dublin 15'},\n",
       " {'label': 'Tullamore', 'value': 'Tullamore'},\n",
       " {'label': 'Midleton', 'value': 'Midleton'},\n",
       " {'label': 'Kells', 'value': 'Kells'},\n",
       " {'label': 'Dublin 6', 'value': 'Dublin 6'},\n",
       " {'label': 'Dunshaughlin', 'value': 'Dunshaughlin'},\n",
       " {'label': 'Dundalk', 'value': 'Dundalk'},\n",
       " {'label': 'Balbriggan', 'value': 'Balbriggan'},\n",
       " {'label': 'Swords', 'value': 'Swords'},\n",
       " {'label': 'Kilkenny', 'value': 'Kilkenny'},\n",
       " {'label': 'Dunmanway', 'value': 'Dunmanway'},\n",
       " {'label': 'Drogheda', 'value': 'Drogheda'},\n",
       " {'label': 'Bandon', 'value': 'Bandon'},\n",
       " {'label': 'Dublin 13', 'value': 'Dublin 13'},\n",
       " {'label': 'Rylane', 'value': 'Rylane'},\n",
       " {'label': 'Limerick', 'value': 'Limerick'},\n",
       " {'label': 'Dublin 18', 'value': 'Dublin 18'},\n",
       " {'label': 'Dublin 11', 'value': 'Dublin 11'},\n",
       " {'label': 'Carrick On Shannon', 'value': 'Carrick On Shannon'},\n",
       " {'label': 'Kinsale', 'value': 'Kinsale'},\n",
       " {'label': 'Dublin 14', 'value': 'Dublin 14'},\n",
       " {'label': 'Glanmire', 'value': 'Glanmire'},\n",
       " {'label': 'Kenmare', 'value': 'Kenmare'},\n",
       " {'label': 'Youghal', 'value': 'Youghal'},\n",
       " {'label': 'Mullingar', 'value': 'Mullingar'},\n",
       " {'label': 'Dublin 5', 'value': 'Dublin 5'},\n",
       " {'label': 'Blackrock', 'value': 'Blackrock'},\n",
       " {'label': 'New Ross', 'value': 'New Ross'},\n",
       " {'label': 'Nenagh', 'value': 'Nenagh'},\n",
       " {'label': 'Monaghan', 'value': 'Monaghan'},\n",
       " {'label': 'Dublin 24', 'value': 'Dublin 24'},\n",
       " {'label': 'Enniscorthy', 'value': 'Enniscorthy'},\n",
       " {'label': 'Skibbereen', 'value': 'Skibbereen'},\n",
       " {'label': 'Letterkenny', 'value': 'Letterkenny'},\n",
       " {'label': 'Dublin 2', 'value': 'Dublin 2'},\n",
       " {'label': 'Dungarvan', 'value': 'Dungarvan'},\n",
       " {'label': 'Thurles', 'value': 'Thurles'},\n",
       " {'label': 'Tuam', 'value': 'Tuam'},\n",
       " {'label': 'Garristown', 'value': 'Garristown'},\n",
       " {'label': 'Newbridge', 'value': 'Newbridge'},\n",
       " {'label': 'Shannon', 'value': 'Shannon'},\n",
       " {'label': 'Ballymote', 'value': 'Ballymote'},\n",
       " {'label': 'Wicklow', 'value': 'Wicklow'},\n",
       " {'label': 'Belturbet', 'value': 'Belturbet'},\n",
       " {'label': 'Ballincollig', 'value': 'Ballincollig'},\n",
       " {'label': 'Bray', 'value': 'Bray'},\n",
       " {'label': 'Dun Laoghaire', 'value': 'Dun Laoghaire'},\n",
       " {'label': 'Dublin 1', 'value': 'Dublin 1'},\n",
       " {'label': 'Lusk', 'value': 'Lusk'},\n",
       " {'label': 'Westport', 'value': 'Westport'},\n",
       " {'label': 'Lucan', 'value': 'Lucan'},\n",
       " {'label': 'Bantry', 'value': 'Bantry'},\n",
       " {'label': 'Macroom', 'value': 'Macroom'},\n",
       " {'label': 'Arklow', 'value': 'Arklow'},\n",
       " {'label': 'Dublin 3', 'value': 'Dublin 3'},\n",
       " {'label': 'Dublin 12', 'value': 'Dublin 12'},\n",
       " {'label': 'Bagenalstown', 'value': 'Bagenalstown'},\n",
       " {'label': 'Dublin 16', 'value': 'Dublin 16'},\n",
       " {'label': 'Dublin 4', 'value': 'Dublin 4'},\n",
       " {'label': 'Gorey', 'value': 'Gorey'},\n",
       " {'label': 'Dublin 17', 'value': 'Dublin 17'},\n",
       " {'label': 'Ballyboughal', 'value': 'Ballyboughal'},\n",
       " {'label': 'Carrigaline', 'value': 'Carrigaline'},\n",
       " {'label': 'Charleville', 'value': 'Charleville'},\n",
       " {'label': 'Longford', 'value': 'Longford'},\n",
       " {'label': 'Dublin 22', 'value': 'Dublin 22'},\n",
       " {'label': 'Castlerea', 'value': 'Castlerea'},\n",
       " {'label': 'Clonakilty', 'value': 'Clonakilty'},\n",
       " {'label': 'Athy', 'value': 'Athy'},\n",
       " {'label': 'Enfield', 'value': 'Enfield'},\n",
       " {'label': 'Mallow', 'value': 'Mallow'},\n",
       " {'label': 'Ballina', 'value': 'Ballina'},\n",
       " {'label': 'Loughrea', 'value': 'Loughrea'},\n",
       " {'label': 'Athlone', 'value': 'Athlone'},\n",
       " {'label': 'Athenry', 'value': 'Athenry'},\n",
       " {'label': 'Cavan', 'value': 'Cavan'},\n",
       " {'label': 'Lifford', 'value': 'Lifford'},\n",
       " {'label': 'Carlow', 'value': 'Carlow'},\n",
       " {'label': 'Castlebar', 'value': 'Castlebar'},\n",
       " {'label': 'Tralee', 'value': 'Tralee'},\n",
       " {'label': 'Roscommon', 'value': 'Roscommon'},\n",
       " {'label': 'Cashel', 'value': 'Cashel'},\n",
       " {'label': 'Cobh', 'value': 'Cobh'},\n",
       " {'label': 'Ballinasloe', 'value': 'Ballinasloe'},\n",
       " {'label': 'Monasterevin', 'value': 'Monasterevin'},\n",
       " {'label': 'Newcastle West', 'value': 'Newcastle West'},\n",
       " {'label': 'Tipperary', 'value': 'Tipperary'},\n",
       " {'label': 'Castleblayney', 'value': 'Castleblayney'},\n",
       " {'label': 'Rush', 'value': 'Rush'},\n",
       " {'label': 'Ashbourne', 'value': 'Ashbourne'},\n",
       " {'label': 'Roscrea', 'value': 'Roscrea'},\n",
       " {'label': 'Dublin 10', 'value': 'Dublin 10'},\n",
       " {'label': 'Ballinrobe', 'value': 'Ballinrobe'},\n",
       " {'label': 'Dunboyne', 'value': 'Dunboyne'},\n",
       " {'label': 'Mitchelstown', 'value': 'Mitchelstown'},\n",
       " {'label': 'Curragh', 'value': 'Curragh'},\n",
       " {'label': 'Clonmel', 'value': 'Clonmel'},\n",
       " {'label': 'Kildare', 'value': 'Kildare'},\n",
       " {'label': 'Kilmacthomas', 'value': 'Kilmacthomas'},\n",
       " {'label': 'Edenderry', 'value': 'Edenderry'},\n",
       " {'label': 'Fermoy', 'value': 'Fermoy'},\n",
       " {'label': 'Skerries', 'value': 'Skerries'},\n",
       " {'label': 'Cahir', 'value': 'Cahir'},\n",
       " {'label': 'Kilrush', 'value': 'Kilrush'},\n",
       " {'label': 'Listowel', 'value': 'Listowel'},\n",
       " {'label': 'Caherciveen', 'value': 'Caherciveen'},\n",
       " {'label': 'Boyle', 'value': 'Boyle'},\n",
       " {'label': 'Clifden', 'value': 'Clifden'},\n",
       " {'label': 'Carrignavar', 'value': 'Carrignavar'},\n",
       " {'label': 'Bundoran', 'value': 'Bundoran'},\n",
       " {'label': 'Carrickmacross', 'value': 'Carrickmacross'},\n",
       " {'label': 'Ballyhaunis', 'value': 'Ballyhaunis'},\n",
       " {'label': 'Kilmallock', 'value': 'Kilmallock'},\n",
       " {'label': 'Crookstown', 'value': 'Crookstown'},\n",
       " {'label': 'Watergrasshill', 'value': 'Watergrasshill'},\n",
       " {'label': 'Birr', 'value': 'Birr'}]"
      ]
     },
     "execution_count": 4,
     "metadata": {},
     "output_type": "execute_result"
    }
   ],
   "source": [
    "[{'label': x, 'value': x} for x in df['place'].fillna('Unknown').unique()]"
   ]
  },
  {
   "cell_type": "code",
   "execution_count": null,
   "id": "7dd978a0-550d-4873-8469-5c3b7b609235",
   "metadata": {},
   "outputs": [],
   "source": []
  },
  {
   "cell_type": "code",
   "execution_count": 9,
   "id": "347eebd7-c714-4278-80e6-85fcbab364c2",
   "metadata": {},
   "outputs": [
    {
     "data": {
      "text/plain": [
       "'/home/javier/Desktop/Identifyin_Potential_Investment_Opportunities_In_The_Irish_Real_Estate_Market_Using_Machine_Learning/investment-opportunities'"
      ]
     },
     "execution_count": 9,
     "metadata": {},
     "output_type": "execute_result"
    }
   ],
   "source": [
    "import os.path as path\n",
    "\n",
    "two_up =  path.abspath(path.join('Untitled.ipynb', \"../..\")) #\"../..\"\n",
    "two_up"
   ]
  },
  {
   "cell_type": "code",
   "execution_count": 3,
   "id": "da3b75f8-cdd3-4dd3-9f83-c9980612e2ce",
   "metadata": {},
   "outputs": [
    {
     "data": {
      "text/html": [
       "<div>\n",
       "<style scoped>\n",
       "    .dataframe tbody tr th:only-of-type {\n",
       "        vertical-align: middle;\n",
       "    }\n",
       "\n",
       "    .dataframe tbody tr th {\n",
       "        vertical-align: top;\n",
       "    }\n",
       "\n",
       "    .dataframe thead th {\n",
       "        text-align: right;\n",
       "    }\n",
       "</style>\n",
       "<table border=\"1\" class=\"dataframe\">\n",
       "  <thead>\n",
       "    <tr style=\"text-align: right;\">\n",
       "      <th></th>\n",
       "      <th>price</th>\n",
       "      <th>floor_area</th>\n",
       "      <th>latitude</th>\n",
       "      <th>longitude</th>\n",
       "      <th>bedroom</th>\n",
       "      <th>bathroom</th>\n",
       "      <th>type_house</th>\n",
       "      <th>place</th>\n",
       "      <th>predicted_price</th>\n",
       "      <th>residual</th>\n",
       "      <th>res_percentage</th>\n",
       "    </tr>\n",
       "  </thead>\n",
       "  <tbody>\n",
       "    <tr>\n",
       "      <th>0</th>\n",
       "      <td>549000.0</td>\n",
       "      <td>253</td>\n",
       "      <td>53.422157</td>\n",
       "      <td>-9.323780</td>\n",
       "      <td>5</td>\n",
       "      <td>4</td>\n",
       "      <td>house</td>\n",
       "      <td>NaN</td>\n",
       "      <td>483793.908059</td>\n",
       "      <td>-65206.091941</td>\n",
       "      <td>-0.118772</td>\n",
       "    </tr>\n",
       "    <tr>\n",
       "      <th>1</th>\n",
       "      <td>495000.0</td>\n",
       "      <td>165</td>\n",
       "      <td>53.231042</td>\n",
       "      <td>-6.648264</td>\n",
       "      <td>4</td>\n",
       "      <td>3</td>\n",
       "      <td>house</td>\n",
       "      <td>Naas</td>\n",
       "      <td>454280.323511</td>\n",
       "      <td>-40719.676489</td>\n",
       "      <td>-0.082262</td>\n",
       "    </tr>\n",
       "    <tr>\n",
       "      <th>2</th>\n",
       "      <td>350000.0</td>\n",
       "      <td>131</td>\n",
       "      <td>52.314025</td>\n",
       "      <td>-6.465860</td>\n",
       "      <td>3</td>\n",
       "      <td>2</td>\n",
       "      <td>NaN</td>\n",
       "      <td>Wexford</td>\n",
       "      <td>306115.393629</td>\n",
       "      <td>-43884.606371</td>\n",
       "      <td>-0.125385</td>\n",
       "    </tr>\n",
       "    <tr>\n",
       "      <th>3</th>\n",
       "      <td>450000.0</td>\n",
       "      <td>188</td>\n",
       "      <td>52.344317</td>\n",
       "      <td>-6.501705</td>\n",
       "      <td>4</td>\n",
       "      <td>3</td>\n",
       "      <td>house</td>\n",
       "      <td>Wexford</td>\n",
       "      <td>421523.614511</td>\n",
       "      <td>-28476.385489</td>\n",
       "      <td>-0.063281</td>\n",
       "    </tr>\n",
       "    <tr>\n",
       "      <th>4</th>\n",
       "      <td>325000.0</td>\n",
       "      <td>73</td>\n",
       "      <td>53.333751</td>\n",
       "      <td>-6.289374</td>\n",
       "      <td>2</td>\n",
       "      <td>1</td>\n",
       "      <td>house</td>\n",
       "      <td>Dublin 8</td>\n",
       "      <td>359277.301913</td>\n",
       "      <td>34277.301913</td>\n",
       "      <td>0.105469</td>\n",
       "    </tr>\n",
       "  </tbody>\n",
       "</table>\n",
       "</div>"
      ],
      "text/plain": [
       "      price  floor_area   latitude  longitude  bedroom  bathroom type_house  \\\n",
       "0  549000.0         253  53.422157  -9.323780        5         4      house   \n",
       "1  495000.0         165  53.231042  -6.648264        4         3      house   \n",
       "2  350000.0         131  52.314025  -6.465860        3         2        NaN   \n",
       "3  450000.0         188  52.344317  -6.501705        4         3      house   \n",
       "4  325000.0          73  53.333751  -6.289374        2         1      house   \n",
       "\n",
       "      place  predicted_price      residual  res_percentage  \n",
       "0       NaN    483793.908059 -65206.091941       -0.118772  \n",
       "1      Naas    454280.323511 -40719.676489       -0.082262  \n",
       "2   Wexford    306115.393629 -43884.606371       -0.125385  \n",
       "3   Wexford    421523.614511 -28476.385489       -0.063281  \n",
       "4  Dublin 8    359277.301913  34277.301913        0.105469  "
      ]
     },
     "execution_count": 3,
     "metadata": {},
     "output_type": "execute_result"
    }
   ],
   "source": [
    "df = pd.read_csv('data/data_predicted.csv')\n",
    "df.head()"
   ]
  },
  {
   "cell_type": "code",
   "execution_count": 19,
   "id": "234bc0c4-c5fc-4568-b902-a48ee9cfa05e",
   "metadata": {},
   "outputs": [],
   "source": [
    "df2 = df['place'].unique()"
   ]
  },
  {
   "cell_type": "code",
   "execution_count": null,
   "id": "eeac5e77-0c84-4e8e-bc76-15c13ab3b0a4",
   "metadata": {},
   "outputs": [],
   "source": []
  },
  {
   "cell_type": "code",
   "execution_count": 24,
   "id": "16539ff6-dc55-49a1-8ee5-5b47af13b17e",
   "metadata": {},
   "outputs": [],
   "source": [
    "def cities(place):\n",
    "    if type(place) is not str:\n",
    "        return 'Unknown'\n",
    "    elif ('Dublin' in place) or ('Blackrock' in place) or ('Dun Laoghaire' in place):\n",
    "        return 'Dublin'\n",
    "    else:\n",
    "        return place\n",
    "\n",
    "\n",
    "df['city'] = df['place'].apply(cities)"
   ]
  },
  {
   "cell_type": "code",
   "execution_count": 25,
   "id": "2b901875-ee91-4802-ad97-eb87da88f281",
   "metadata": {},
   "outputs": [
    {
     "data": {
      "text/html": [
       "<div>\n",
       "<style scoped>\n",
       "    .dataframe tbody tr th:only-of-type {\n",
       "        vertical-align: middle;\n",
       "    }\n",
       "\n",
       "    .dataframe tbody tr th {\n",
       "        vertical-align: top;\n",
       "    }\n",
       "\n",
       "    .dataframe thead th {\n",
       "        text-align: right;\n",
       "    }\n",
       "</style>\n",
       "<table border=\"1\" class=\"dataframe\">\n",
       "  <thead>\n",
       "    <tr style=\"text-align: right;\">\n",
       "      <th></th>\n",
       "      <th>price</th>\n",
       "      <th>floor_area</th>\n",
       "      <th>latitude</th>\n",
       "      <th>longitude</th>\n",
       "      <th>bedroom</th>\n",
       "      <th>bathroom</th>\n",
       "      <th>type_house</th>\n",
       "      <th>place</th>\n",
       "      <th>predicted_price</th>\n",
       "      <th>residual</th>\n",
       "      <th>res_percentage</th>\n",
       "      <th>city</th>\n",
       "    </tr>\n",
       "  </thead>\n",
       "  <tbody>\n",
       "    <tr>\n",
       "      <th>0</th>\n",
       "      <td>549000.0</td>\n",
       "      <td>253</td>\n",
       "      <td>53.422157</td>\n",
       "      <td>-9.323780</td>\n",
       "      <td>5</td>\n",
       "      <td>4</td>\n",
       "      <td>house</td>\n",
       "      <td>NaN</td>\n",
       "      <td>483793.908059</td>\n",
       "      <td>-65206.091941</td>\n",
       "      <td>-0.118772</td>\n",
       "      <td>Unknown</td>\n",
       "    </tr>\n",
       "    <tr>\n",
       "      <th>1</th>\n",
       "      <td>495000.0</td>\n",
       "      <td>165</td>\n",
       "      <td>53.231042</td>\n",
       "      <td>-6.648264</td>\n",
       "      <td>4</td>\n",
       "      <td>3</td>\n",
       "      <td>house</td>\n",
       "      <td>Naas</td>\n",
       "      <td>454280.323511</td>\n",
       "      <td>-40719.676489</td>\n",
       "      <td>-0.082262</td>\n",
       "      <td>Naas</td>\n",
       "    </tr>\n",
       "    <tr>\n",
       "      <th>2</th>\n",
       "      <td>350000.0</td>\n",
       "      <td>131</td>\n",
       "      <td>52.314025</td>\n",
       "      <td>-6.465860</td>\n",
       "      <td>3</td>\n",
       "      <td>2</td>\n",
       "      <td>NaN</td>\n",
       "      <td>Wexford</td>\n",
       "      <td>306115.393629</td>\n",
       "      <td>-43884.606371</td>\n",
       "      <td>-0.125385</td>\n",
       "      <td>Wexford</td>\n",
       "    </tr>\n",
       "    <tr>\n",
       "      <th>3</th>\n",
       "      <td>450000.0</td>\n",
       "      <td>188</td>\n",
       "      <td>52.344317</td>\n",
       "      <td>-6.501705</td>\n",
       "      <td>4</td>\n",
       "      <td>3</td>\n",
       "      <td>house</td>\n",
       "      <td>Wexford</td>\n",
       "      <td>421523.614511</td>\n",
       "      <td>-28476.385489</td>\n",
       "      <td>-0.063281</td>\n",
       "      <td>Wexford</td>\n",
       "    </tr>\n",
       "    <tr>\n",
       "      <th>4</th>\n",
       "      <td>325000.0</td>\n",
       "      <td>73</td>\n",
       "      <td>53.333751</td>\n",
       "      <td>-6.289374</td>\n",
       "      <td>2</td>\n",
       "      <td>1</td>\n",
       "      <td>house</td>\n",
       "      <td>Dublin 8</td>\n",
       "      <td>359277.301913</td>\n",
       "      <td>34277.301913</td>\n",
       "      <td>0.105469</td>\n",
       "      <td>Dublin</td>\n",
       "    </tr>\n",
       "  </tbody>\n",
       "</table>\n",
       "</div>"
      ],
      "text/plain": [
       "      price  floor_area   latitude  longitude  bedroom  bathroom type_house  \\\n",
       "0  549000.0         253  53.422157  -9.323780        5         4      house   \n",
       "1  495000.0         165  53.231042  -6.648264        4         3      house   \n",
       "2  350000.0         131  52.314025  -6.465860        3         2        NaN   \n",
       "3  450000.0         188  52.344317  -6.501705        4         3      house   \n",
       "4  325000.0          73  53.333751  -6.289374        2         1      house   \n",
       "\n",
       "      place  predicted_price      residual  res_percentage     city  \n",
       "0       NaN    483793.908059 -65206.091941       -0.118772  Unknown  \n",
       "1      Naas    454280.323511 -40719.676489       -0.082262     Naas  \n",
       "2   Wexford    306115.393629 -43884.606371       -0.125385  Wexford  \n",
       "3   Wexford    421523.614511 -28476.385489       -0.063281  Wexford  \n",
       "4  Dublin 8    359277.301913  34277.301913        0.105469   Dublin  "
      ]
     },
     "execution_count": 25,
     "metadata": {},
     "output_type": "execute_result"
    }
   ],
   "source": [
    "df.head()"
   ]
  },
  {
   "cell_type": "code",
   "execution_count": 23,
   "id": "0d75ebc9-dbb1-41f7-b1e0-5830c4fad811",
   "metadata": {},
   "outputs": [
    {
     "data": {
      "text/plain": [
       "[{'label': 'nan'},\n",
       " {'label': 'Naas'},\n",
       " {'label': 'Wexford'},\n",
       " {'label': 'Dublin 8'},\n",
       " {'label': 'Dublin 6W'},\n",
       " {'label': 'Carrick on Suir'},\n",
       " {'label': 'Galway'},\n",
       " {'label': 'Malahide'},\n",
       " {'label': 'Portlaoise'},\n",
       " {'label': 'Sligo'},\n",
       " {'label': 'Waterford'},\n",
       " {'label': 'Miltown Malbay'},\n",
       " {'label': 'Greystones'},\n",
       " {'label': 'Cork city southside'},\n",
       " {'label': 'Knock'},\n",
       " {'label': 'Maynooth'},\n",
       " {'label': 'Trim'},\n",
       " {'label': 'Dublin 7'},\n",
       " {'label': 'Dublin 9'},\n",
       " {'label': 'Dublin 20'},\n",
       " {'label': 'Cork city northside'},\n",
       " {'label': 'Dublin 15'},\n",
       " {'label': 'Tullamore'},\n",
       " {'label': 'Midleton'},\n",
       " {'label': 'Kells'},\n",
       " {'label': 'Dublin 6'},\n",
       " {'label': 'Dunshaughlin'},\n",
       " {'label': 'Dundalk'},\n",
       " {'label': 'Balbriggan'},\n",
       " {'label': 'Swords'},\n",
       " {'label': 'Kilkenny'},\n",
       " {'label': 'Dunmanway'},\n",
       " {'label': 'Drogheda'},\n",
       " {'label': 'Bandon'},\n",
       " {'label': 'Dublin 13'},\n",
       " {'label': 'Rylane'},\n",
       " {'label': 'Limerick'},\n",
       " {'label': 'Dublin 18'},\n",
       " {'label': 'Dublin 11'},\n",
       " {'label': 'Carrick On Shannon'},\n",
       " {'label': 'Kinsale'},\n",
       " {'label': 'Dublin 14'},\n",
       " {'label': 'Glanmire'},\n",
       " {'label': 'Kenmare'},\n",
       " {'label': 'Youghal'},\n",
       " {'label': 'Mullingar'},\n",
       " {'label': 'Dublin 5'},\n",
       " {'label': 'Blackrock'},\n",
       " {'label': 'New Ross'},\n",
       " {'label': 'Nenagh'},\n",
       " {'label': 'Monaghan'},\n",
       " {'label': 'Dublin 24'},\n",
       " {'label': 'Enniscorthy'},\n",
       " {'label': 'Skibbereen'},\n",
       " {'label': 'Letterkenny'},\n",
       " {'label': 'Dublin 2'},\n",
       " {'label': 'Dungarvan'},\n",
       " {'label': 'Thurles'},\n",
       " {'label': 'Tuam'},\n",
       " {'label': 'Garristown'},\n",
       " {'label': 'Newbridge'},\n",
       " {'label': 'Shannon'},\n",
       " {'label': 'Ballymote'},\n",
       " {'label': 'Wicklow'},\n",
       " {'label': 'Belturbet'},\n",
       " {'label': 'Ballincollig'},\n",
       " {'label': 'Bray'},\n",
       " {'label': 'Dun Laoghaire'},\n",
       " {'label': 'Dublin 1'},\n",
       " {'label': 'Lusk'},\n",
       " {'label': 'Westport'},\n",
       " {'label': 'Lucan'},\n",
       " {'label': 'Bantry'},\n",
       " {'label': 'Macroom'},\n",
       " {'label': 'Arklow'},\n",
       " {'label': 'Dublin 3'},\n",
       " {'label': 'Dublin 12'},\n",
       " {'label': 'Bagenalstown'},\n",
       " {'label': 'Dublin 16'},\n",
       " {'label': 'Dublin 4'},\n",
       " {'label': 'Gorey'},\n",
       " {'label': 'Dublin 17'},\n",
       " {'label': 'Ballyboughal'},\n",
       " {'label': 'Carrigaline'},\n",
       " {'label': 'Charleville'},\n",
       " {'label': 'Longford'},\n",
       " {'label': 'Dublin 22'},\n",
       " {'label': 'Castlerea'},\n",
       " {'label': 'Clonakilty'},\n",
       " {'label': 'Athy'},\n",
       " {'label': 'Enfield'},\n",
       " {'label': 'Mallow'},\n",
       " {'label': 'Ballina'},\n",
       " {'label': 'Loughrea'},\n",
       " {'label': 'Athlone'},\n",
       " {'label': 'Athenry'},\n",
       " {'label': 'Cavan'},\n",
       " {'label': 'Lifford'},\n",
       " {'label': 'Carlow'},\n",
       " {'label': 'Castlebar'},\n",
       " {'label': 'Tralee'},\n",
       " {'label': 'Roscommon'},\n",
       " {'label': 'Cashel'},\n",
       " {'label': 'Cobh'},\n",
       " {'label': 'Ballinasloe'},\n",
       " {'label': 'Monasterevin'},\n",
       " {'label': 'Newcastle West'},\n",
       " {'label': 'Tipperary'},\n",
       " {'label': 'Castleblayney'},\n",
       " {'label': 'Rush'},\n",
       " {'label': 'Ashbourne'},\n",
       " {'label': 'Roscrea'},\n",
       " {'label': 'Dublin 10'},\n",
       " {'label': 'Ballinrobe'},\n",
       " {'label': 'Dunboyne'},\n",
       " {'label': 'Mitchelstown'},\n",
       " {'label': 'Curragh'},\n",
       " {'label': 'Clonmel'},\n",
       " {'label': 'Kildare'},\n",
       " {'label': 'Kilmacthomas'},\n",
       " {'label': 'Edenderry'},\n",
       " {'label': 'Fermoy'},\n",
       " {'label': 'Skerries'},\n",
       " {'label': 'Cahir'},\n",
       " {'label': 'Kilrush'},\n",
       " {'label': 'Listowel'},\n",
       " {'label': 'Caherciveen'},\n",
       " {'label': 'Boyle'},\n",
       " {'label': 'Clifden'},\n",
       " {'label': 'Carrignavar'},\n",
       " {'label': 'Bundoran'},\n",
       " {'label': 'Carrickmacross'},\n",
       " {'label': 'Ballyhaunis'},\n",
       " {'label': 'Kilmallock'},\n",
       " {'label': 'Crookstown'},\n",
       " {'label': 'Watergrasshill'},\n",
       " {'label': 'Birr'}]"
      ]
     },
     "execution_count": 23,
     "metadata": {},
     "output_type": "execute_result"
    }
   ],
   "source": [
    "[{'label': f'{city}'} for city in df['place'].unique()]"
   ]
  },
  {
   "cell_type": "code",
   "execution_count": 2,
   "id": "040ff8fa-89af-4caf-999e-f137f5f44cd8",
   "metadata": {},
   "outputs": [],
   "source": [
    "import re"
   ]
  },
  {
   "cell_type": "code",
   "execution_count": 28,
   "id": "50ce9aab-893f-4118-b36f-a41cab2feb34",
   "metadata": {},
   "outputs": [],
   "source": [
    "string = '{ \"points\": [ { \"curveNumber\": 0, \"pointNumber\": 4184, \"pointIndex\": 4184, \"lon\": -6.403226, \"lat\": 53.362621, \"hovertext\": -56632, \"marker.size\": 350000, \"marker.color\": -0.1618066044796388, \"bbox\": { \"x0\": 1026.3924084752466, \"x1\": 1034.1017510064974, \"y0\": 634.3854952326058, \"y1\": 642.0948377638565 }, \"customdata\": 350000, 293368, 53.362621, -6.403226, -0.1618066044796388, -56632, \"https://www.daft.ie/for-sale/semi-detached-house-2-silvermount-cottages-strawberry-beds-co-dublin/3547377\" } ] }'"
   ]
  },
  {
   "cell_type": "code",
   "execution_count": 42,
   "id": "e73ec0b7-0710-4f14-887c-ae65bcb3780f",
   "metadata": {},
   "outputs": [
    {
     "data": {
      "text/plain": [
       "<re.Match object; span=(388, 500), match='https://www.daft.ie/for-sale/semi-detached-house->"
      ]
     },
     "execution_count": 42,
     "metadata": {},
     "output_type": "execute_result"
    }
   ],
   "source": [
    "dd = re.search(r'(https:).+', string)\n",
    "dd"
   ]
  },
  {
   "cell_type": "code",
   "execution_count": 46,
   "id": "6304cdb8-5791-4b5c-aa09-c9a36ff1031c",
   "metadata": {},
   "outputs": [
    {
     "data": {
      "text/plain": [
       "<re.Match object; span=(388, 500), match='https://www.daft.ie/for-sale/semi-detached-house->"
      ]
     },
     "execution_count": 46,
     "metadata": {},
     "output_type": "execute_result"
    }
   ],
   "source": [
    "dd"
   ]
  },
  {
   "cell_type": "code",
   "execution_count": 34,
   "id": "a8532a5d-0022-4a22-8314-daee4e6c2fe9",
   "metadata": {},
   "outputs": [
    {
     "ename": "AttributeError",
     "evalue": "'NoneType' object has no attribute 'string'",
     "output_type": "error",
     "traceback": [
      "\u001b[0;31m---------------------------------------------------------------------------\u001b[0m",
      "\u001b[0;31mAttributeError\u001b[0m                            Traceback (most recent call last)",
      "\u001b[0;32m/tmp/ipykernel_140214/3551517597.py\u001b[0m in \u001b[0;36m<module>\u001b[0;34m\u001b[0m\n\u001b[0;32m----> 1\u001b[0;31m \u001b[0mdd\u001b[0m\u001b[0;34m.\u001b[0m\u001b[0mstring\u001b[0m\u001b[0;34m\u001b[0m\u001b[0;34m\u001b[0m\u001b[0m\n\u001b[0m",
      "\u001b[0;31mAttributeError\u001b[0m: 'NoneType' object has no attribute 'string'"
     ]
    }
   ],
   "source": [
    "dd.string"
   ]
  },
  {
   "cell_type": "code",
   "execution_count": 29,
   "id": "0ef1a6ab-d8ca-4860-a07b-1c3681ce4737",
   "metadata": {},
   "outputs": [
    {
     "data": {
      "text/plain": [
       "'{ \"points\": [ { \"curveNumber\": 0, \"pointNumber\": 4184, \"pointIndex\": 4184, \"lon\": -6.403226, \"lat\": 53.362621, \"hovertext\": -56632, \"marker.size\": 350000, \"marker.color\": -0.1618066044796388, \"bbox\": { \"x0\": 1026.3924084752466, \"x1\": 1034.1017510064974, \"y0\": 634.3854952326058, \"y1\": 642.0948377638565 }, \"customdata\": 350000, 293368, 53.362621, -6.403226, -0.1618066044796388, -56632, \"https://www.daft.ie/for-sale/semi-detached-house-2-silvermount-cottages-strawberry-beds-co-dublin/3547377\" } ] }'"
      ]
     },
     "execution_count": 29,
     "metadata": {},
     "output_type": "execute_result"
    }
   ],
   "source": [
    "string"
   ]
  },
  {
   "cell_type": "code",
   "execution_count": 48,
   "id": "b0295006-0f1c-4d15-8257-ff6aa6df1d55",
   "metadata": {},
   "outputs": [
    {
     "data": {
      "text/plain": [
       "True"
      ]
     },
     "execution_count": 48,
     "metadata": {},
     "output_type": "execute_result"
    }
   ],
   "source": [
    "None is None"
   ]
  },
  {
   "cell_type": "code",
   "execution_count": 51,
   "id": "551f4e05-9eee-4416-87f7-266f76182e09",
   "metadata": {},
   "outputs": [
    {
     "data": {
      "text/plain": [
       "'https://www.daft.ie/for-sale/semi-detached-house-2-silvermount-cottages-strawberry-beds-co-dublin/3547377'"
      ]
     },
     "execution_count": 51,
     "metadata": {},
     "output_type": "execute_result"
    }
   ],
   "source": [
    "dd.group().split('\"')[0]"
   ]
  },
  {
   "cell_type": "code",
   "execution_count": null,
   "id": "ac3025d9-a7f4-4000-b39b-d3830641e37f",
   "metadata": {},
   "outputs": [],
   "source": []
  },
  {
   "cell_type": "code",
   "execution_count": null,
   "id": "5254d671-5155-45c7-ba1e-b297fe1075fb",
   "metadata": {},
   "outputs": [],
   "source": []
  },
  {
   "cell_type": "code",
   "execution_count": 22,
   "id": "0946fb2b-c025-4d5f-89c3-5d8f14caec84",
   "metadata": {},
   "outputs": [],
   "source": [
    "sale = pd.read_csv('/home/javier/Desktop/Identifyin_Potential_Investment_Opportunities_In_The_Irish_Real_Estate_Market_Using_Machine_Learning/investment-opportunities/notebooks/data/sale_post_geosp_fe.csv')\n",
    "kedro = pd.read_csv('/home/javier/Desktop/Identifyin_Potential_Investment_Opportunities_In_The_Irish_Real_Estate_Market_Using_Machine_Learning/investment-opportunities/data/04_feature/ads_with_location_features_and_geonames.csv')"
   ]
  },
  {
   "cell_type": "code",
   "execution_count": 23,
   "id": "448deed9-e386-4d8d-9c9f-cd86e22a1684",
   "metadata": {},
   "outputs": [
    {
     "name": "stdout",
     "output_type": "stream",
     "text": [
      "(7661, 24)\n",
      "(7344, 26)\n"
     ]
    }
   ],
   "source": [
    "print(sale.shape)\n",
    "print(kedro.shape)"
   ]
  },
  {
   "cell_type": "code",
   "execution_count": 24,
   "id": "c61b9690-dac1-41d5-ae9f-1517206a065c",
   "metadata": {},
   "outputs": [
    {
     "data": {
      "text/plain": [
       "['daft_id',\n",
       " 'url',\n",
       " 'name',\n",
       " 'price',\n",
       " 'sale_type',\n",
       " 'floor_area',\n",
       " 'psr',\n",
       " 'ber',\n",
       " 'entered_renewed',\n",
       " 'views',\n",
       " 'type_house',\n",
       " 'type',\n",
       " 'scraping_date',\n",
       " 'description',\n",
       " 'latitude',\n",
       " 'longitude',\n",
       " 'bedroom',\n",
       " 'bathroom',\n",
       " 'plus_info',\n",
       " 'postcode',\n",
       " 'state_district',\n",
       " 'city_district',\n",
       " 'place',\n",
       " 'code']"
      ]
     },
     "execution_count": 24,
     "metadata": {},
     "output_type": "execute_result"
    }
   ],
   "source": [
    "list(sale.columns)"
   ]
  },
  {
   "cell_type": "code",
   "execution_count": 25,
   "id": "568eb108-c268-4416-9695-42275e317566",
   "metadata": {},
   "outputs": [
    {
     "data": {
      "text/plain": [
       "['daft_id',\n",
       " 'url',\n",
       " 'name',\n",
       " 'price',\n",
       " 'sale_type',\n",
       " 'floor_area',\n",
       " 'psr',\n",
       " 'ber',\n",
       " 'entered_renewed',\n",
       " 'views',\n",
       " 'type_house',\n",
       " 'type',\n",
       " 'scraping_date',\n",
       " 'description',\n",
       " 'latitude',\n",
       " 'longitude',\n",
       " 'bedroom',\n",
       " 'bathroom',\n",
       " 'plus_info',\n",
       " 'postcode',\n",
       " 'state_district',\n",
       " 'city_district',\n",
       " 'place',\n",
       " 'code',\n",
       " 'admin1',\n",
       " 'place_coordinates']"
      ]
     },
     "execution_count": 25,
     "metadata": {},
     "output_type": "execute_result"
    }
   ],
   "source": [
    "list(kedro.columns)"
   ]
  },
  {
   "cell_type": "code",
   "execution_count": 26,
   "id": "86b1fe4a-def8-4a6f-8a8d-caca7f24c9da",
   "metadata": {},
   "outputs": [
    {
     "data": {
      "text/html": [
       "<div>\n",
       "<style scoped>\n",
       "    .dataframe tbody tr th:only-of-type {\n",
       "        vertical-align: middle;\n",
       "    }\n",
       "\n",
       "    .dataframe tbody tr th {\n",
       "        vertical-align: top;\n",
       "    }\n",
       "\n",
       "    .dataframe thead th {\n",
       "        text-align: right;\n",
       "    }\n",
       "</style>\n",
       "<table border=\"1\" class=\"dataframe\">\n",
       "  <thead>\n",
       "    <tr style=\"text-align: right;\">\n",
       "      <th></th>\n",
       "      <th>daft_id</th>\n",
       "      <th>url</th>\n",
       "      <th>name</th>\n",
       "      <th>price</th>\n",
       "      <th>sale_type</th>\n",
       "      <th>floor_area</th>\n",
       "      <th>psr</th>\n",
       "      <th>ber</th>\n",
       "      <th>entered_renewed</th>\n",
       "      <th>views</th>\n",
       "      <th>...</th>\n",
       "      <th>bedroom</th>\n",
       "      <th>bathroom</th>\n",
       "      <th>plus_info</th>\n",
       "      <th>postcode</th>\n",
       "      <th>state_district</th>\n",
       "      <th>city_district</th>\n",
       "      <th>place</th>\n",
       "      <th>code</th>\n",
       "      <th>admin1</th>\n",
       "      <th>place_coordinates</th>\n",
       "    </tr>\n",
       "  </thead>\n",
       "  <tbody>\n",
       "    <tr>\n",
       "      <th>5258</th>\n",
       "      <td>16139381</td>\n",
       "      <td>https://www.daft.ie/for-sale/detached-house-hi...</td>\n",
       "      <td>Hillview, Rathmoy, Borrisoleigh, Co. Tipperary</td>\n",
       "      <td>120000.0</td>\n",
       "      <td>For Sale by Private Treaty</td>\n",
       "      <td>88</td>\n",
       "      <td>1219.0</td>\n",
       "      <td>D2</td>\n",
       "      <td>10/09/2021</td>\n",
       "      <td>9007.0</td>\n",
       "      <td>...</td>\n",
       "      <td>2</td>\n",
       "      <td>1</td>\n",
       "      <td>Detached</td>\n",
       "      <td>NaN</td>\n",
       "      <td>Munster</td>\n",
       "      <td>Borrisoleigh</td>\n",
       "      <td>NaN</td>\n",
       "      <td>NaN</td>\n",
       "      <td>NaN</td>\n",
       "      <td>NaN</td>\n",
       "    </tr>\n",
       "    <tr>\n",
       "      <th>4991</th>\n",
       "      <td>16194195</td>\n",
       "      <td>https://www.daft.ie/for-sale/semi-detached-hou...</td>\n",
       "      <td>8 An Corran, Oram, Castleblayney, Co. Monaghan</td>\n",
       "      <td>195000.0</td>\n",
       "      <td>For Sale by Private Treaty</td>\n",
       "      <td>122</td>\n",
       "      <td>4174.0</td>\n",
       "      <td>C3</td>\n",
       "      <td>17/11/2021</td>\n",
       "      <td>2856.0</td>\n",
       "      <td>...</td>\n",
       "      <td>4</td>\n",
       "      <td>2</td>\n",
       "      <td>Semi-D</td>\n",
       "      <td>NaN</td>\n",
       "      <td>NaN</td>\n",
       "      <td>Church Hill ED</td>\n",
       "      <td>NaN</td>\n",
       "      <td>NaN</td>\n",
       "      <td>NaN</td>\n",
       "      <td>NaN</td>\n",
       "    </tr>\n",
       "    <tr>\n",
       "      <th>1163</th>\n",
       "      <td>16977593</td>\n",
       "      <td>https://www.daft.ie/for-sale/semi-detached-hou...</td>\n",
       "      <td>43 Fort Hill, Moneygurney, Douglas, Co. Cork</td>\n",
       "      <td>300000.0</td>\n",
       "      <td>For Sale by Private Treaty</td>\n",
       "      <td>99</td>\n",
       "      <td>1430.0</td>\n",
       "      <td>B3</td>\n",
       "      <td>24/11/2021</td>\n",
       "      <td>4159.0</td>\n",
       "      <td>...</td>\n",
       "      <td>3</td>\n",
       "      <td>3</td>\n",
       "      <td>Semi-D</td>\n",
       "      <td>T12 ND82</td>\n",
       "      <td>Munster</td>\n",
       "      <td>Ballincollig - Carrigaline</td>\n",
       "      <td>Cork city southside</td>\n",
       "      <td>T12</td>\n",
       "      <td>Munster</td>\n",
       "      <td>51.873/-8.49</td>\n",
       "    </tr>\n",
       "    <tr>\n",
       "      <th>4039</th>\n",
       "      <td>16411107</td>\n",
       "      <td>https://www.daft.ie/for-sale/terraced-house-12...</td>\n",
       "      <td>12 Heytesbury Street, Portobello, Dublin 8</td>\n",
       "      <td>950000.0</td>\n",
       "      <td>For Sale by Private Treaty</td>\n",
       "      <td>254</td>\n",
       "      <td>3320.0</td>\n",
       "      <td>SI_666</td>\n",
       "      <td>03/11/2021</td>\n",
       "      <td>8062.0</td>\n",
       "      <td>...</td>\n",
       "      <td>5</td>\n",
       "      <td>7</td>\n",
       "      <td>Terrace</td>\n",
       "      <td>D08 DR60</td>\n",
       "      <td>Leinster</td>\n",
       "      <td>Wood Quay B ED</td>\n",
       "      <td>Dublin 8</td>\n",
       "      <td>D08</td>\n",
       "      <td>Leinster</td>\n",
       "      <td>53.335/-6.273</td>\n",
       "    </tr>\n",
       "    <tr>\n",
       "      <th>3161</th>\n",
       "      <td>16613886</td>\n",
       "      <td>https://www.daft.ie/for-sale/terraced-house-47...</td>\n",
       "      <td>47 Main Street, Howth, Dublin 13</td>\n",
       "      <td>375000.0</td>\n",
       "      <td>For Sale by Private Treaty</td>\n",
       "      <td>64</td>\n",
       "      <td>4017.0</td>\n",
       "      <td>F</td>\n",
       "      <td>21/10/2021</td>\n",
       "      <td>6520.0</td>\n",
       "      <td>...</td>\n",
       "      <td>2</td>\n",
       "      <td>1</td>\n",
       "      <td>Terrace</td>\n",
       "      <td>D13 X4W0</td>\n",
       "      <td>Leinster</td>\n",
       "      <td>Howth ED</td>\n",
       "      <td>Dublin 13</td>\n",
       "      <td>D13</td>\n",
       "      <td>Leinster</td>\n",
       "      <td>53.395/-6.149</td>\n",
       "    </tr>\n",
       "  </tbody>\n",
       "</table>\n",
       "<p>5 rows × 26 columns</p>\n",
       "</div>"
      ],
      "text/plain": [
       "       daft_id                                                url  \\\n",
       "5258  16139381  https://www.daft.ie/for-sale/detached-house-hi...   \n",
       "4991  16194195  https://www.daft.ie/for-sale/semi-detached-hou...   \n",
       "1163  16977593  https://www.daft.ie/for-sale/semi-detached-hou...   \n",
       "4039  16411107  https://www.daft.ie/for-sale/terraced-house-12...   \n",
       "3161  16613886  https://www.daft.ie/for-sale/terraced-house-47...   \n",
       "\n",
       "                                                name     price  \\\n",
       "5258  Hillview, Rathmoy, Borrisoleigh, Co. Tipperary  120000.0   \n",
       "4991  8 An Corran, Oram, Castleblayney, Co. Monaghan  195000.0   \n",
       "1163    43 Fort Hill, Moneygurney, Douglas, Co. Cork  300000.0   \n",
       "4039      12 Heytesbury Street, Portobello, Dublin 8  950000.0   \n",
       "3161                47 Main Street, Howth, Dublin 13  375000.0   \n",
       "\n",
       "                       sale_type  floor_area     psr     ber entered_renewed  \\\n",
       "5258  For Sale by Private Treaty          88  1219.0      D2      10/09/2021   \n",
       "4991  For Sale by Private Treaty         122  4174.0      C3      17/11/2021   \n",
       "1163  For Sale by Private Treaty          99  1430.0      B3      24/11/2021   \n",
       "4039  For Sale by Private Treaty         254  3320.0  SI_666      03/11/2021   \n",
       "3161  For Sale by Private Treaty          64  4017.0       F      21/10/2021   \n",
       "\n",
       "       views  ... bedroom bathroom plus_info  postcode  state_district  \\\n",
       "5258  9007.0  ...       2        1  Detached       NaN         Munster   \n",
       "4991  2856.0  ...       4        2    Semi-D       NaN             NaN   \n",
       "1163  4159.0  ...       3        3    Semi-D  T12 ND82         Munster   \n",
       "4039  8062.0  ...       5        7   Terrace  D08 DR60        Leinster   \n",
       "3161  6520.0  ...       2        1   Terrace  D13 X4W0        Leinster   \n",
       "\n",
       "                   city_district                place  code    admin1  \\\n",
       "5258                Borrisoleigh                  NaN   NaN       NaN   \n",
       "4991              Church Hill ED                  NaN   NaN       NaN   \n",
       "1163  Ballincollig - Carrigaline  Cork city southside   T12   Munster   \n",
       "4039              Wood Quay B ED             Dublin 8   D08  Leinster   \n",
       "3161                    Howth ED            Dublin 13   D13  Leinster   \n",
       "\n",
       "     place_coordinates  \n",
       "5258               NaN  \n",
       "4991               NaN  \n",
       "1163      51.873/-8.49  \n",
       "4039     53.335/-6.273  \n",
       "3161     53.395/-6.149  \n",
       "\n",
       "[5 rows x 26 columns]"
      ]
     },
     "execution_count": 26,
     "metadata": {},
     "output_type": "execute_result"
    }
   ],
   "source": [
    "kedro.sample(5)"
   ]
  },
  {
   "cell_type": "code",
   "execution_count": 27,
   "id": "f182a931-4187-4dfb-94fd-189d0f6546c1",
   "metadata": {},
   "outputs": [],
   "source": [
    "kedrofe = pd.read_csv('/home/javier/Desktop/Identifyin_Potential_Investment_Opportunities_In_The_Irish_Real_Estate_Market_Using_Machine_Learning/investment-opportunities/data/04_feature/ads_with_location_features.csv')"
   ]
  },
  {
   "cell_type": "code",
   "execution_count": 13,
   "id": "0adeb10b-8fcd-4a3d-9106-bc9d0be81ae7",
   "metadata": {},
   "outputs": [
    {
     "data": {
      "text/plain": [
       "(7344, 22)"
      ]
     },
     "execution_count": 13,
     "metadata": {},
     "output_type": "execute_result"
    }
   ],
   "source": [
    "kedrofe.shape"
   ]
  },
  {
   "cell_type": "code",
   "execution_count": 14,
   "id": "99910471-a0d2-4888-aea2-d2f18278ada5",
   "metadata": {},
   "outputs": [
    {
     "data": {
      "text/plain": [
       "['daft_id',\n",
       " 'url',\n",
       " 'name',\n",
       " 'price',\n",
       " 'sale_type',\n",
       " 'floor_area',\n",
       " 'psr',\n",
       " 'ber',\n",
       " 'entered_renewed',\n",
       " 'views',\n",
       " 'type_house',\n",
       " 'type',\n",
       " 'scraping_date',\n",
       " 'description',\n",
       " 'latitude',\n",
       " 'longitude',\n",
       " 'bedroom',\n",
       " 'bathroom',\n",
       " 'plus_info',\n",
       " 'postcode',\n",
       " 'state_district',\n",
       " 'city_district']"
      ]
     },
     "execution_count": 14,
     "metadata": {},
     "output_type": "execute_result"
    }
   ],
   "source": [
    "list(kedrofe.columns)"
   ]
  },
  {
   "cell_type": "code",
   "execution_count": 17,
   "id": "f2d338cb-7b04-4917-8a97-a4cbad65f889",
   "metadata": {},
   "outputs": [
    {
     "data": {
      "text/plain": [
       "138.0"
      ]
     },
     "execution_count": 17,
     "metadata": {},
     "output_type": "execute_result"
    }
   ],
   "source": [
    "kedro['Unnamed: 0'].max()"
   ]
  },
  {
   "cell_type": "code",
   "execution_count": null,
   "id": "25ff6b1f-0e2b-4fb6-a556-1812d2df45aa",
   "metadata": {},
   "outputs": [],
   "source": []
  },
  {
   "cell_type": "code",
   "execution_count": null,
   "id": "922b100d-e4b8-427f-a8be-60a419354051",
   "metadata": {},
   "outputs": [],
   "source": []
  },
  {
   "cell_type": "code",
   "execution_count": null,
   "id": "fd9a480b-b66c-4af5-a58e-e0235f9e500f",
   "metadata": {},
   "outputs": [],
   "source": []
  },
  {
   "cell_type": "code",
   "execution_count": 36,
   "id": "21b71e60-bf2d-4990-823e-d01e4a725409",
   "metadata": {},
   "outputs": [],
   "source": [
    "sale = pd.read_csv('/home/javier/Desktop/Identifyin_Potential_Investment_Opportunities_In_The_Irish_Real_Estate_Market_Using_Machine_Learning/investment-opportunities/notebooks/data/selected_data.csv')\n",
    "kedro = pd.read_csv('/home/javier/Desktop/Identifyin_Potential_Investment_Opportunities_In_The_Irish_Real_Estate_Market_Using_Machine_Learning/investment-opportunities/data/05_model_input/model_input.csv')"
   ]
  },
  {
   "cell_type": "code",
   "execution_count": 37,
   "id": "f37558e4-2a97-4530-96ee-6aa068f8eea2",
   "metadata": {},
   "outputs": [
    {
     "name": "stdout",
     "output_type": "stream",
     "text": [
      "(7344, 9)\n",
      "(7344, 26)\n"
     ]
    }
   ],
   "source": [
    "print(sale.shape)\n",
    "print(kedro.shape)"
   ]
  },
  {
   "cell_type": "code",
   "execution_count": 38,
   "id": "578e6994-ba1b-4e03-b1ac-37d689c6d275",
   "metadata": {},
   "outputs": [],
   "source": [
    "kedro = kedro.loc[:, [\n",
    "        'price',\n",
    "        'floor_area',\n",
    "        # 'views',\n",
    "        'latitude',\n",
    "        'longitude',\n",
    "        'bedroom',\n",
    "        'bathroom',\n",
    "        # 'sale_type',\n",
    "        'type_house',\n",
    "        # 'postcode',\n",
    "        # 'state_district',\n",
    "        # 'county',\n",
    "        # 'city_district',\n",
    "        # 'road',\n",
    "        'place',\n",
    "        # 'code',\n",
    "        # 'admin1',\n",
    "        # 'cities'\n",
    "    ]].copy()"
   ]
  },
  {
   "cell_type": "code",
   "execution_count": 39,
   "id": "fc13d223-11eb-4064-ae2e-cfc8c3511d76",
   "metadata": {},
   "outputs": [
    {
     "data": {
      "text/plain": [
       "(7344, 8)"
      ]
     },
     "execution_count": 39,
     "metadata": {},
     "output_type": "execute_result"
    }
   ],
   "source": [
    "kedro.shape"
   ]
  },
  {
   "cell_type": "code",
   "execution_count": 42,
   "id": "5e250bb3-17d9-4be1-987a-e5f94b6c046f",
   "metadata": {},
   "outputs": [
    {
     "data": {
      "text/plain": [
       "['price',\n",
       " 'floor_area',\n",
       " 'bedroom',\n",
       " 'bathroom',\n",
       " 'place',\n",
       " 'type_house',\n",
       " 'longitude',\n",
       " 'latitude',\n",
       " 'city_district']"
      ]
     },
     "execution_count": 42,
     "metadata": {},
     "output_type": "execute_result"
    }
   ],
   "source": [
    "sale.columns.tolist()"
   ]
  },
  {
   "cell_type": "code",
   "execution_count": 43,
   "id": "765659ce-ae59-492f-94c2-b4d6d1cafb7b",
   "metadata": {},
   "outputs": [
    {
     "data": {
      "text/plain": [
       "['price',\n",
       " 'floor_area',\n",
       " 'latitude',\n",
       " 'longitude',\n",
       " 'bedroom',\n",
       " 'bathroom',\n",
       " 'type_house',\n",
       " 'place']"
      ]
     },
     "execution_count": 43,
     "metadata": {},
     "output_type": "execute_result"
    }
   ],
   "source": [
    "kedro.columns.tolist()"
   ]
  },
  {
   "cell_type": "code",
   "execution_count": 49,
   "id": "de9576f8-8527-4ff1-82fb-dc044a6392e8",
   "metadata": {},
   "outputs": [
    {
     "data": {
      "text/plain": [
       "6129"
      ]
     },
     "execution_count": 49,
     "metadata": {},
     "output_type": "execute_result"
    }
   ],
   "source": [
    "(sale['place'] == kedro['place']).sum()"
   ]
  },
  {
   "cell_type": "code",
   "execution_count": 46,
   "id": "5fff848f-afd1-47a5-8d9a-3cd274589283",
   "metadata": {},
   "outputs": [
    {
     "data": {
      "text/plain": [
       "0         NaN\n",
       "1        Naas\n",
       "2     Wexford\n",
       "3     Wexford\n",
       "4    Dublin 8\n",
       "Name: place, dtype: object"
      ]
     },
     "execution_count": 46,
     "metadata": {},
     "output_type": "execute_result"
    }
   ],
   "source": [
    "sale['place'].head()"
   ]
  },
  {
   "cell_type": "code",
   "execution_count": 47,
   "id": "f8d66479-e2b9-43d3-99c6-1f88fbe36fd0",
   "metadata": {},
   "outputs": [
    {
     "data": {
      "text/plain": [
       "0         NaN\n",
       "1        Naas\n",
       "2     Wexford\n",
       "3     Wexford\n",
       "4    Dublin 8\n",
       "Name: place, dtype: object"
      ]
     },
     "execution_count": 47,
     "metadata": {},
     "output_type": "execute_result"
    }
   ],
   "source": [
    "kedro['place'].head()"
   ]
  },
  {
   "cell_type": "code",
   "execution_count": 50,
   "id": "f77ffbb7-2edb-4889-b3a5-cab6481506a2",
   "metadata": {},
   "outputs": [
    {
     "data": {
      "text/plain": [
       "(7344, 9)"
      ]
     },
     "execution_count": 50,
     "metadata": {},
     "output_type": "execute_result"
    }
   ],
   "source": [
    "sale.shape"
   ]
  },
  {
   "cell_type": "code",
   "execution_count": 51,
   "id": "31c432f9-ee8d-4869-8388-bf896814d2c2",
   "metadata": {},
   "outputs": [
    {
     "data": {
      "text/plain": [
       "1215"
      ]
     },
     "execution_count": 51,
     "metadata": {},
     "output_type": "execute_result"
    }
   ],
   "source": [
    "7344 - 6129"
   ]
  },
  {
   "cell_type": "code",
   "execution_count": 56,
   "id": "e1bfe0e0-ab0c-4201-aceb-47bb671b8d37",
   "metadata": {},
   "outputs": [
    {
     "data": {
      "text/plain": [
       "RangeIndex(start=0, stop=7344, step=1)"
      ]
     },
     "execution_count": 56,
     "metadata": {},
     "output_type": "execute_result"
    }
   ],
   "source": [
    "sale.place.isna().index"
   ]
  },
  {
   "cell_type": "code",
   "execution_count": 57,
   "id": "360ea2b6-31ce-4cdc-9dbb-a7a4257b7abc",
   "metadata": {},
   "outputs": [
    {
     "data": {
      "text/plain": [
       "RangeIndex(start=0, stop=7344, step=1)"
      ]
     },
     "execution_count": 57,
     "metadata": {},
     "output_type": "execute_result"
    }
   ],
   "source": [
    "kedro.place.isna().index"
   ]
  },
  {
   "cell_type": "code",
   "execution_count": 59,
   "id": "e0bfa0ff-d5af-4d4d-88cf-eb6ea04ef082",
   "metadata": {},
   "outputs": [
    {
     "data": {
      "text/plain": [
       "7344"
      ]
     },
     "execution_count": 59,
     "metadata": {},
     "output_type": "execute_result"
    }
   ],
   "source": [
    "(sale.place.isna().index == kedro.place.isna().index).sum()"
   ]
  },
  {
   "cell_type": "code",
   "execution_count": 65,
   "id": "c5c898f7-61f7-4e4e-ac9a-7af05495f612",
   "metadata": {},
   "outputs": [],
   "source": [
    "import numpy as np"
   ]
  },
  {
   "cell_type": "code",
   "execution_count": 73,
   "id": "5ec57137-6315-4497-9f99-61701ae2128b",
   "metadata": {},
   "outputs": [],
   "source": [
    "thelist = sale[sale['place'] != kedro['place']].place.index.tolist()"
   ]
  },
  {
   "cell_type": "code",
   "execution_count": 77,
   "id": "95f84597-5f39-4f12-81e8-420727df851d",
   "metadata": {},
   "outputs": [],
   "source": [
    "pd.set_option('display.max_rows', None)\n",
    "pd.set_option('display.max_columns', None)"
   ]
  },
  {
   "cell_type": "code",
   "execution_count": 87,
   "id": "f9c9bc65-1c1e-4dad-903e-aa1ea7d3cabf",
   "metadata": {},
   "outputs": [
    {
     "data": {
      "text/plain": [
       "[1256, 3241, 3956, 4509, 4740, 6766, 7172]"
      ]
     },
     "execution_count": 87,
     "metadata": {},
     "output_type": "execute_result"
    }
   ],
   "source": [
    "sale.loc[thelist][sale.loc[thelist].place.str.contains('Dublin').notna()].index.tolist()"
   ]
  },
  {
   "cell_type": "code",
   "execution_count": 95,
   "id": "b28e39f9-1549-419c-9e85-d8657f345291",
   "metadata": {},
   "outputs": [
    {
     "data": {
      "text/plain": [
       "Index(['price', 'floor_area', 'bedroom', 'bathroom', 'place', 'type_house',\n",
       "       'longitude', 'latitude', 'city_district'],\n",
       "      dtype='object')"
      ]
     },
     "execution_count": 95,
     "metadata": {},
     "output_type": "execute_result"
    }
   ],
   "source": [
    "sale.columns"
   ]
  },
  {
   "cell_type": "code",
   "execution_count": null,
   "id": "28f2418e-b9da-40e5-ba26-bf5a248e57e0",
   "metadata": {},
   "outputs": [],
   "source": []
  },
  {
   "cell_type": "code",
   "execution_count": 96,
   "id": "23c94788-f715-4cfa-96b9-69a5c2df20d0",
   "metadata": {},
   "outputs": [
    {
     "data": {
      "text/html": [
       "<div>\n",
       "<style scoped>\n",
       "    .dataframe tbody tr th:only-of-type {\n",
       "        vertical-align: middle;\n",
       "    }\n",
       "\n",
       "    .dataframe tbody tr th {\n",
       "        vertical-align: top;\n",
       "    }\n",
       "\n",
       "    .dataframe thead th {\n",
       "        text-align: right;\n",
       "    }\n",
       "</style>\n",
       "<table border=\"1\" class=\"dataframe\">\n",
       "  <thead>\n",
       "    <tr style=\"text-align: right;\">\n",
       "      <th></th>\n",
       "      <th>price</th>\n",
       "      <th>floor_area</th>\n",
       "      <th>bedroom</th>\n",
       "      <th>bathroom</th>\n",
       "      <th>place</th>\n",
       "      <th>type_house</th>\n",
       "      <th>longitude</th>\n",
       "      <th>latitude</th>\n",
       "      <th>city_district</th>\n",
       "    </tr>\n",
       "  </thead>\n",
       "  <tbody>\n",
       "    <tr>\n",
       "      <th>1256</th>\n",
       "      <td>495000.0</td>\n",
       "      <td>108</td>\n",
       "      <td>3</td>\n",
       "      <td>1</td>\n",
       "      <td>Dublin 13</td>\n",
       "      <td>house</td>\n",
       "      <td>-6.174588</td>\n",
       "      <td>53.387104</td>\n",
       "      <td>Howth ED</td>\n",
       "    </tr>\n",
       "    <tr>\n",
       "      <th>3241</th>\n",
       "      <td>695000.0</td>\n",
       "      <td>103</td>\n",
       "      <td>3</td>\n",
       "      <td>2</td>\n",
       "      <td>Dublin 1</td>\n",
       "      <td>apartment</td>\n",
       "      <td>-6.237414</td>\n",
       "      <td>53.345221</td>\n",
       "      <td>NaN</td>\n",
       "    </tr>\n",
       "    <tr>\n",
       "      <th>3956</th>\n",
       "      <td>350000.0</td>\n",
       "      <td>94</td>\n",
       "      <td>3</td>\n",
       "      <td>1</td>\n",
       "      <td>Dublin 17</td>\n",
       "      <td>house</td>\n",
       "      <td>-6.185688</td>\n",
       "      <td>53.385177</td>\n",
       "      <td>Edenmore ED</td>\n",
       "    </tr>\n",
       "    <tr>\n",
       "      <th>4509</th>\n",
       "      <td>275000.0</td>\n",
       "      <td>71</td>\n",
       "      <td>2</td>\n",
       "      <td>2</td>\n",
       "      <td>Dublin 17</td>\n",
       "      <td>house</td>\n",
       "      <td>-6.181611</td>\n",
       "      <td>53.386520</td>\n",
       "      <td>Edenmore ED</td>\n",
       "    </tr>\n",
       "    <tr>\n",
       "      <th>4740</th>\n",
       "      <td>475000.0</td>\n",
       "      <td>94</td>\n",
       "      <td>3</td>\n",
       "      <td>2</td>\n",
       "      <td>Dublin 13</td>\n",
       "      <td>house</td>\n",
       "      <td>-6.174171</td>\n",
       "      <td>53.388538</td>\n",
       "      <td>Grange E ED</td>\n",
       "    </tr>\n",
       "    <tr>\n",
       "      <th>6766</th>\n",
       "      <td>285000.0</td>\n",
       "      <td>53</td>\n",
       "      <td>1</td>\n",
       "      <td>1</td>\n",
       "      <td>Dublin 8</td>\n",
       "      <td>apartment</td>\n",
       "      <td>-6.268618</td>\n",
       "      <td>53.345125</td>\n",
       "      <td>Royal Exchange A ED</td>\n",
       "    </tr>\n",
       "    <tr>\n",
       "      <th>7172</th>\n",
       "      <td>595000.0</td>\n",
       "      <td>91</td>\n",
       "      <td>3</td>\n",
       "      <td>2</td>\n",
       "      <td>Dublin 1</td>\n",
       "      <td>apartment</td>\n",
       "      <td>-6.236190</td>\n",
       "      <td>53.345461</td>\n",
       "      <td>NaN</td>\n",
       "    </tr>\n",
       "  </tbody>\n",
       "</table>\n",
       "</div>"
      ],
      "text/plain": [
       "         price  floor_area  bedroom  bathroom      place type_house  \\\n",
       "1256  495000.0         108        3         1  Dublin 13      house   \n",
       "3241  695000.0         103        3         2   Dublin 1  apartment   \n",
       "3956  350000.0          94        3         1  Dublin 17      house   \n",
       "4509  275000.0          71        2         2  Dublin 17      house   \n",
       "4740  475000.0          94        3         2  Dublin 13      house   \n",
       "6766  285000.0          53        1         1   Dublin 8  apartment   \n",
       "7172  595000.0          91        3         2   Dublin 1  apartment   \n",
       "\n",
       "      longitude   latitude        city_district  \n",
       "1256  -6.174588  53.387104             Howth ED  \n",
       "3241  -6.237414  53.345221                  NaN  \n",
       "3956  -6.185688  53.385177          Edenmore ED  \n",
       "4509  -6.181611  53.386520          Edenmore ED  \n",
       "4740  -6.174171  53.388538          Grange E ED  \n",
       "6766  -6.268618  53.345125  Royal Exchange A ED  \n",
       "7172  -6.236190  53.345461                  NaN  "
      ]
     },
     "execution_count": 96,
     "metadata": {},
     "output_type": "execute_result"
    }
   ],
   "source": [
    "sale.loc[[1256, 3241, 3956, 4509, 4740, 6766, 7172]]"
   ]
  },
  {
   "cell_type": "code",
   "execution_count": 97,
   "id": "e6573de4-6d10-4ede-a73a-1c2cdad63366",
   "metadata": {},
   "outputs": [
    {
     "data": {
      "text/html": [
       "<div>\n",
       "<style scoped>\n",
       "    .dataframe tbody tr th:only-of-type {\n",
       "        vertical-align: middle;\n",
       "    }\n",
       "\n",
       "    .dataframe tbody tr th {\n",
       "        vertical-align: top;\n",
       "    }\n",
       "\n",
       "    .dataframe thead th {\n",
       "        text-align: right;\n",
       "    }\n",
       "</style>\n",
       "<table border=\"1\" class=\"dataframe\">\n",
       "  <thead>\n",
       "    <tr style=\"text-align: right;\">\n",
       "      <th></th>\n",
       "      <th>price</th>\n",
       "      <th>floor_area</th>\n",
       "      <th>latitude</th>\n",
       "      <th>longitude</th>\n",
       "      <th>bedroom</th>\n",
       "      <th>bathroom</th>\n",
       "      <th>type_house</th>\n",
       "      <th>place</th>\n",
       "    </tr>\n",
       "  </thead>\n",
       "  <tbody>\n",
       "    <tr>\n",
       "      <th>1256</th>\n",
       "      <td>495000.0</td>\n",
       "      <td>108</td>\n",
       "      <td>53.387104</td>\n",
       "      <td>-6.174588</td>\n",
       "      <td>3</td>\n",
       "      <td>1</td>\n",
       "      <td>house</td>\n",
       "      <td>Dublin 5</td>\n",
       "    </tr>\n",
       "    <tr>\n",
       "      <th>3241</th>\n",
       "      <td>695000.0</td>\n",
       "      <td>103</td>\n",
       "      <td>53.345221</td>\n",
       "      <td>-6.237414</td>\n",
       "      <td>3</td>\n",
       "      <td>2</td>\n",
       "      <td>apartment</td>\n",
       "      <td>Dublin 2</td>\n",
       "    </tr>\n",
       "    <tr>\n",
       "      <th>3956</th>\n",
       "      <td>350000.0</td>\n",
       "      <td>94</td>\n",
       "      <td>53.385177</td>\n",
       "      <td>-6.185688</td>\n",
       "      <td>3</td>\n",
       "      <td>1</td>\n",
       "      <td>house</td>\n",
       "      <td>Dublin 5</td>\n",
       "    </tr>\n",
       "    <tr>\n",
       "      <th>4509</th>\n",
       "      <td>275000.0</td>\n",
       "      <td>71</td>\n",
       "      <td>53.386520</td>\n",
       "      <td>-6.181611</td>\n",
       "      <td>2</td>\n",
       "      <td>2</td>\n",
       "      <td>house</td>\n",
       "      <td>Dublin 5</td>\n",
       "    </tr>\n",
       "    <tr>\n",
       "      <th>4740</th>\n",
       "      <td>475000.0</td>\n",
       "      <td>94</td>\n",
       "      <td>53.388538</td>\n",
       "      <td>-6.174171</td>\n",
       "      <td>3</td>\n",
       "      <td>2</td>\n",
       "      <td>house</td>\n",
       "      <td>Dublin 5</td>\n",
       "    </tr>\n",
       "    <tr>\n",
       "      <th>6766</th>\n",
       "      <td>285000.0</td>\n",
       "      <td>53</td>\n",
       "      <td>53.345125</td>\n",
       "      <td>-6.268618</td>\n",
       "      <td>1</td>\n",
       "      <td>1</td>\n",
       "      <td>apartment</td>\n",
       "      <td>Dublin 2</td>\n",
       "    </tr>\n",
       "    <tr>\n",
       "      <th>7172</th>\n",
       "      <td>595000.0</td>\n",
       "      <td>91</td>\n",
       "      <td>53.345461</td>\n",
       "      <td>-6.236190</td>\n",
       "      <td>3</td>\n",
       "      <td>2</td>\n",
       "      <td>apartment</td>\n",
       "      <td>Dublin 2</td>\n",
       "    </tr>\n",
       "  </tbody>\n",
       "</table>\n",
       "</div>"
      ],
      "text/plain": [
       "         price  floor_area   latitude  longitude  bedroom  bathroom  \\\n",
       "1256  495000.0         108  53.387104  -6.174588        3         1   \n",
       "3241  695000.0         103  53.345221  -6.237414        3         2   \n",
       "3956  350000.0          94  53.385177  -6.185688        3         1   \n",
       "4509  275000.0          71  53.386520  -6.181611        2         2   \n",
       "4740  475000.0          94  53.388538  -6.174171        3         2   \n",
       "6766  285000.0          53  53.345125  -6.268618        1         1   \n",
       "7172  595000.0          91  53.345461  -6.236190        3         2   \n",
       "\n",
       "     type_house     place  \n",
       "1256      house  Dublin 5  \n",
       "3241  apartment  Dublin 2  \n",
       "3956      house  Dublin 5  \n",
       "4509      house  Dublin 5  \n",
       "4740      house  Dublin 5  \n",
       "6766  apartment  Dublin 2  \n",
       "7172  apartment  Dublin 2  "
      ]
     },
     "execution_count": 97,
     "metadata": {},
     "output_type": "execute_result"
    }
   ],
   "source": [
    "kedro.loc[[1256, 3241, 3956, 4509, 4740, 6766, 7172]]"
   ]
  },
  {
   "cell_type": "code",
   "execution_count": null,
   "id": "34d43f41-94b3-4b6f-914a-4170acec462e",
   "metadata": {},
   "outputs": [],
   "source": []
  },
  {
   "cell_type": "code",
   "execution_count": 4,
   "id": "db95603b-6796-47ce-a63a-769c75ae24e8",
   "metadata": {},
   "outputs": [],
   "source": [
    "from daftpy.daftfeanalysis import drop_outliers"
   ]
  },
  {
   "cell_type": "code",
   "execution_count": 10,
   "id": "d01f216d-64e8-48a3-b85a-58a98b5dc5b7",
   "metadata": {},
   "outputs": [
    {
     "data": {
      "text/plain": [
       "(7661, 24)"
      ]
     },
     "execution_count": 10,
     "metadata": {},
     "output_type": "execute_result"
    }
   ],
   "source": [
    "data = pd.read_csv('/home/javier/Desktop/Identifyin_Potential_Investment_Opportunities_In_The_Irish_Real_Estate_Market_Using_Machine_Learning/investment-opportunities/notebooks/data/sale_post_geosp_fe.csv')\n",
    "data.shape"
   ]
  },
  {
   "cell_type": "code",
   "execution_count": 11,
   "id": "25dfb29a-e19f-4e8b-bc79-aac4397ef828",
   "metadata": {},
   "outputs": [
    {
     "name": "stdout",
     "output_type": "stream",
     "text": [
      "PRICE\n",
      "Range before: [32000.0, 10000000.0]\n",
      "\n",
      "Limits: [-155000.0, 2650000.0]\n",
      "No outliers: 7587\n",
      "Outliers: 74\n",
      "\n",
      "Range after: [32000.0, 10000000.0]\n",
      "-----------\n",
      "FLOOR_AREA\n",
      "Range before: [1, 10279]\n",
      "\n",
      "Limits: [40.0, 628.1999999999971]\n",
      "No outliers: 7513\n",
      "Outliers: 148\n",
      "\n",
      "Range after: [1, 10279]\n",
      "-----------\n",
      "VIEWS\n",
      "Range before: [0.0, 125030.0]\n",
      "\n",
      "Limits: [-6010.5, 37978.59999999989]\n",
      "No outliers: 7584\n",
      "Outliers: 77\n",
      "\n",
      "Range after: [0.0, 125030.0]\n",
      "-----------\n",
      "BEDROOM\n",
      "Range before: [1, 43]\n",
      "\n",
      "Limits: [1, 8.0]\n",
      "No outliers: 7608\n",
      "Outliers: 53\n",
      "\n",
      "Range after: [1, 43]\n",
      "-----------\n",
      "BATHROOM\n",
      "Range before: [1, 47]\n",
      "\n",
      "Limits: [1, 7.0]\n",
      "No outliers: 7594\n",
      "Outliers: 67\n",
      "\n",
      "Range after: [1, 47]\n",
      "-----------\n",
      "---------------\n",
      "Shape before: (7661, 24)\n",
      "Shape after: (7344, 24)\n",
      "Outliers dropped: 317\n"
     ]
    }
   ],
   "source": [
    "ssss = drop_outliers(data)"
   ]
  },
  {
   "cell_type": "code",
   "execution_count": 12,
   "id": "861fb033-1d54-400a-8a4b-dbea5b013d05",
   "metadata": {},
   "outputs": [
    {
     "data": {
      "text/plain": [
       "(7344, 24)"
      ]
     },
     "execution_count": 12,
     "metadata": {},
     "output_type": "execute_result"
    }
   ],
   "source": [
    "ssss.shape"
   ]
  },
  {
   "cell_type": "code",
   "execution_count": 13,
   "id": "c253c452-eeb9-47c8-8014-715227cb26d8",
   "metadata": {},
   "outputs": [],
   "source": [
    "ssss.to_csv('/home/javier/Desktop/losdatos.csv')"
   ]
  },
  {
   "cell_type": "code",
   "execution_count": 14,
   "id": "29d9048e-3605-4f23-9a60-44ec280b0045",
   "metadata": {},
   "outputs": [
    {
     "data": {
      "text/html": [
       "<div>\n",
       "<style scoped>\n",
       "    .dataframe tbody tr th:only-of-type {\n",
       "        vertical-align: middle;\n",
       "    }\n",
       "\n",
       "    .dataframe tbody tr th {\n",
       "        vertical-align: top;\n",
       "    }\n",
       "\n",
       "    .dataframe thead th {\n",
       "        text-align: right;\n",
       "    }\n",
       "</style>\n",
       "<table border=\"1\" class=\"dataframe\">\n",
       "  <thead>\n",
       "    <tr style=\"text-align: right;\">\n",
       "      <th></th>\n",
       "      <th>daft_id</th>\n",
       "      <th>url</th>\n",
       "      <th>name</th>\n",
       "      <th>price</th>\n",
       "      <th>sale_type</th>\n",
       "      <th>floor_area</th>\n",
       "      <th>psr</th>\n",
       "      <th>ber</th>\n",
       "      <th>entered_renewed</th>\n",
       "      <th>views</th>\n",
       "      <th>...</th>\n",
       "      <th>latitude</th>\n",
       "      <th>longitude</th>\n",
       "      <th>bedroom</th>\n",
       "      <th>bathroom</th>\n",
       "      <th>plus_info</th>\n",
       "      <th>postcode</th>\n",
       "      <th>state_district</th>\n",
       "      <th>city_district</th>\n",
       "      <th>place</th>\n",
       "      <th>code</th>\n",
       "    </tr>\n",
       "  </thead>\n",
       "  <tbody>\n",
       "    <tr>\n",
       "      <th>0</th>\n",
       "      <td>16790866</td>\n",
       "      <td>https://www.daft.ie/for-sale/detached-house-cr...</td>\n",
       "      <td>Cregg, Oughterard, Co. Galway</td>\n",
       "      <td>549000.0</td>\n",
       "      <td>For Sale by Private Treaty</td>\n",
       "      <td>253</td>\n",
       "      <td>1512.0</td>\n",
       "      <td>C1</td>\n",
       "      <td>2021-11-24</td>\n",
       "      <td>19546.0</td>\n",
       "      <td>...</td>\n",
       "      <td>53.422157</td>\n",
       "      <td>-9.323780</td>\n",
       "      <td>5</td>\n",
       "      <td>4</td>\n",
       "      <td>Detached</td>\n",
       "      <td>NaN</td>\n",
       "      <td>Connacht</td>\n",
       "      <td>Oughterard ED</td>\n",
       "      <td>NaN</td>\n",
       "      <td>NaN</td>\n",
       "    </tr>\n",
       "    <tr>\n",
       "      <th>1</th>\n",
       "      <td>16233668</td>\n",
       "      <td>https://www.daft.ie/for-sale/detached-house-4-...</td>\n",
       "      <td>4 Gleann Na Riogh Drive, Naas, Co. Kildare</td>\n",
       "      <td>495000.0</td>\n",
       "      <td>For Sale by Private Treaty</td>\n",
       "      <td>165</td>\n",
       "      <td>1393.0</td>\n",
       "      <td>C3</td>\n",
       "      <td>2021-11-23</td>\n",
       "      <td>9863.0</td>\n",
       "      <td>...</td>\n",
       "      <td>53.231042</td>\n",
       "      <td>-6.648264</td>\n",
       "      <td>4</td>\n",
       "      <td>3</td>\n",
       "      <td>Detached</td>\n",
       "      <td>W91 X67A</td>\n",
       "      <td>Leinster</td>\n",
       "      <td>Naas Urban ED</td>\n",
       "      <td>Naas</td>\n",
       "      <td>W91</td>\n",
       "    </tr>\n",
       "    <tr>\n",
       "      <th>2</th>\n",
       "      <td>16451539</td>\n",
       "      <td>https://www.daft.ie/for-sale/bungalow-st-micha...</td>\n",
       "      <td>St Michaels, Rocksborough, Wexford Town, Co. W...</td>\n",
       "      <td>350000.0</td>\n",
       "      <td>For Sale by Private Treaty</td>\n",
       "      <td>131</td>\n",
       "      <td>1313.0</td>\n",
       "      <td>D2</td>\n",
       "      <td>2021-11-24</td>\n",
       "      <td>6719.0</td>\n",
       "      <td>...</td>\n",
       "      <td>52.314025</td>\n",
       "      <td>-6.465860</td>\n",
       "      <td>3</td>\n",
       "      <td>2</td>\n",
       "      <td>Bungalow</td>\n",
       "      <td>Y35 E77E</td>\n",
       "      <td>Leinster</td>\n",
       "      <td>Wexford Rural ED</td>\n",
       "      <td>Wexford</td>\n",
       "      <td>Y35</td>\n",
       "    </tr>\n",
       "    <tr>\n",
       "      <th>3</th>\n",
       "      <td>16232577</td>\n",
       "      <td>https://www.daft.ie/for-sale/detached-house-42...</td>\n",
       "      <td>42 Ard Na Slaine, Newtown Road, Wexford Town, ...</td>\n",
       "      <td>450000.0</td>\n",
       "      <td>For Sale by Private Treaty</td>\n",
       "      <td>188</td>\n",
       "      <td>1313.0</td>\n",
       "      <td>A2</td>\n",
       "      <td>2021-11-24</td>\n",
       "      <td>3955.0</td>\n",
       "      <td>...</td>\n",
       "      <td>52.344317</td>\n",
       "      <td>-6.501705</td>\n",
       "      <td>4</td>\n",
       "      <td>3</td>\n",
       "      <td>Detached</td>\n",
       "      <td>Y35 K0WC</td>\n",
       "      <td>Leinster</td>\n",
       "      <td>Wexford Rural ED</td>\n",
       "      <td>Wexford</td>\n",
       "      <td>Y35</td>\n",
       "    </tr>\n",
       "    <tr>\n",
       "      <th>4</th>\n",
       "      <td>16624813</td>\n",
       "      <td>https://www.daft.ie/for-sale/end-of-terrace-ho...</td>\n",
       "      <td>11 Reilly's Avenue, Cork Street, Dolphin's Bar...</td>\n",
       "      <td>325000.0</td>\n",
       "      <td>For Sale by Private Treaty</td>\n",
       "      <td>73</td>\n",
       "      <td>4004.0</td>\n",
       "      <td>C3</td>\n",
       "      <td>2021-11-24</td>\n",
       "      <td>5601.0</td>\n",
       "      <td>...</td>\n",
       "      <td>53.333751</td>\n",
       "      <td>-6.289374</td>\n",
       "      <td>2</td>\n",
       "      <td>1</td>\n",
       "      <td>End of Terrace</td>\n",
       "      <td>D08 N2X7</td>\n",
       "      <td>Leinster</td>\n",
       "      <td>NaN</td>\n",
       "      <td>Dublin 8</td>\n",
       "      <td>D08</td>\n",
       "    </tr>\n",
       "  </tbody>\n",
       "</table>\n",
       "<p>5 rows × 24 columns</p>\n",
       "</div>"
      ],
      "text/plain": [
       "    daft_id                                                url  \\\n",
       "0  16790866  https://www.daft.ie/for-sale/detached-house-cr...   \n",
       "1  16233668  https://www.daft.ie/for-sale/detached-house-4-...   \n",
       "2  16451539  https://www.daft.ie/for-sale/bungalow-st-micha...   \n",
       "3  16232577  https://www.daft.ie/for-sale/detached-house-42...   \n",
       "4  16624813  https://www.daft.ie/for-sale/end-of-terrace-ho...   \n",
       "\n",
       "                                                name     price  \\\n",
       "0                      Cregg, Oughterard, Co. Galway  549000.0   \n",
       "1         4 Gleann Na Riogh Drive, Naas, Co. Kildare  495000.0   \n",
       "2  St Michaels, Rocksborough, Wexford Town, Co. W...  350000.0   \n",
       "3  42 Ard Na Slaine, Newtown Road, Wexford Town, ...  450000.0   \n",
       "4  11 Reilly's Avenue, Cork Street, Dolphin's Bar...  325000.0   \n",
       "\n",
       "                    sale_type  floor_area     psr ber entered_renewed  \\\n",
       "0  For Sale by Private Treaty         253  1512.0  C1      2021-11-24   \n",
       "1  For Sale by Private Treaty         165  1393.0  C3      2021-11-23   \n",
       "2  For Sale by Private Treaty         131  1313.0  D2      2021-11-24   \n",
       "3  For Sale by Private Treaty         188  1313.0  A2      2021-11-24   \n",
       "4  For Sale by Private Treaty          73  4004.0  C3      2021-11-24   \n",
       "\n",
       "     views  ...   latitude longitude bedroom bathroom       plus_info  \\\n",
       "0  19546.0  ...  53.422157 -9.323780       5        4        Detached   \n",
       "1   9863.0  ...  53.231042 -6.648264       4        3        Detached   \n",
       "2   6719.0  ...  52.314025 -6.465860       3        2        Bungalow   \n",
       "3   3955.0  ...  52.344317 -6.501705       4        3        Detached   \n",
       "4   5601.0  ...  53.333751 -6.289374       2        1  End of Terrace   \n",
       "\n",
       "   postcode  state_district     city_district     place code  \n",
       "0       NaN        Connacht     Oughterard ED       NaN  NaN  \n",
       "1  W91 X67A        Leinster     Naas Urban ED      Naas  W91  \n",
       "2  Y35 E77E        Leinster  Wexford Rural ED   Wexford  Y35  \n",
       "3  Y35 K0WC        Leinster  Wexford Rural ED   Wexford  Y35  \n",
       "4  D08 N2X7        Leinster               NaN  Dublin 8  D08  \n",
       "\n",
       "[5 rows x 24 columns]"
      ]
     },
     "execution_count": 14,
     "metadata": {},
     "output_type": "execute_result"
    }
   ],
   "source": [
    "ssss.head()"
   ]
  },
  {
   "cell_type": "code",
   "execution_count": null,
   "id": "69652133-841c-43ba-b594-ea04ad1e5ddf",
   "metadata": {},
   "outputs": [],
   "source": []
  },
  {
   "cell_type": "code",
   "execution_count": null,
   "id": "e02a7c73-fa2f-43be-bcba-56e40c9599ca",
   "metadata": {},
   "outputs": [],
   "source": []
  },
  {
   "cell_type": "code",
   "execution_count": null,
   "id": "95f1852e-3e8c-4e00-a7d8-994c02617b27",
   "metadata": {},
   "outputs": [],
   "source": []
  },
  {
   "cell_type": "code",
   "execution_count": null,
   "id": "47143c7a-2c7b-450d-93b0-9674434cddbd",
   "metadata": {},
   "outputs": [],
   "source": []
  }
 ],
 "metadata": {
  "kernelspec": {
   "display_name": "Python 3 (ipykernel)",
   "language": "python",
   "name": "python3"
  },
  "language_info": {
   "codemirror_mode": {
    "name": "ipython",
    "version": 3
   },
   "file_extension": ".py",
   "mimetype": "text/x-python",
   "name": "python",
   "nbconvert_exporter": "python",
   "pygments_lexer": "ipython3",
   "version": "3.7.11"
  }
 },
 "nbformat": 4,
 "nbformat_minor": 5
}
