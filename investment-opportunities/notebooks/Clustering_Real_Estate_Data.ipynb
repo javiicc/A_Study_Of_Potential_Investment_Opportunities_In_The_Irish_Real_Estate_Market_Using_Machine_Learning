{
 "cells": [
  {
   "cell_type": "code",
   "execution_count": 3,
   "id": "a2783690-08bd-4c22-a922-8bf58ed8a36b",
   "metadata": {},
   "outputs": [],
   "source": [
    "import numpy as np\n",
    "import pandas as pd\n",
    "import matplotlib.pyplot as plt\n",
    "import seaborn as sns\n",
    "\n",
    "from sklearn.model_selection import train_test_split, cross_validate, GridSearchCV, ParameterGrid, cross_val_score\n",
    "from sklearn.preprocessing import (StandardScaler, OneHotEncoder,\n",
    "                                   PolynomialFeatures, PowerTransformer)\n",
    "from sklearn.impute import SimpleImputer\n",
    "\n",
    "from sklearn.pipeline import Pipeline\n",
    "from sklearn.compose import ColumnTransformer\n",
    "\n",
    "from sklearn.linear_model import LinearRegression\n",
    "from sklearn.tree import DecisionTreeRegressor\n",
    "from sklearn.ensemble import RandomForestRegressor\n",
    "\n",
    "from sklearn import metrics\n",
    "from sklearn.metrics import mean_absolute_percentage_error, r2_score\n",
    "\n",
    "from daftpy.daftmodel import (split_data, scores_statistics, metrics_regression, \n",
    "                              plot_learning_curves, compare_models, residuals, \n",
    "                              transformer_estimator, IdentityTransformer, get_weigts, plot_metrics)\n",
    "#, transformer_estimator,residuals\n",
    "from yellowbrick.regressor import ResidualsPlot\n",
    "from sklearn.neighbors import KNeighborsRegressor\n",
    "from sklearn.ensemble import VotingRegressor\n",
    "from xgboost import XGBRegressor\n",
    "from sklearn.ensemble import StackingRegressor\n",
    "\n",
    "import joblib"
   ]
  },
  {
   "cell_type": "code",
   "execution_count": 4,
   "id": "5131e22e-cb50-4040-862b-27d97cc22562",
   "metadata": {},
   "outputs": [],
   "source": [
    "pd.set_option('display.max_rows', None)\n",
    "pd.set_option('display.max_columns', None)\n",
    "# plt.style.use('seaborn')"
   ]
  },
  {
   "cell_type": "code",
   "execution_count": null,
   "id": "4719e8e7-18be-4644-81d0-5e85be52135e",
   "metadata": {},
   "outputs": [],
   "source": []
  },
  {
   "cell_type": "code",
   "execution_count": 5,
   "id": "e93281d6-01f3-410c-aefd-d76ee05b4e65",
   "metadata": {},
   "outputs": [
    {
     "data": {
      "text/plain": [
       "(7344, 9)"
      ]
     },
     "execution_count": 5,
     "metadata": {},
     "output_type": "execute_result"
    }
   ],
   "source": [
    "data = pd.read_csv('data/selected_data.csv', sep=',')\n",
    "data.shape "
   ]
  },
  {
   "cell_type": "code",
   "execution_count": 6,
   "id": "9bfca7ab-4f0c-4dfa-a4d5-7decfdf6d422",
   "metadata": {},
   "outputs": [
    {
     "data": {
      "text/html": [
       "<div>\n",
       "<style scoped>\n",
       "    .dataframe tbody tr th:only-of-type {\n",
       "        vertical-align: middle;\n",
       "    }\n",
       "\n",
       "    .dataframe tbody tr th {\n",
       "        vertical-align: top;\n",
       "    }\n",
       "\n",
       "    .dataframe thead th {\n",
       "        text-align: right;\n",
       "    }\n",
       "</style>\n",
       "<table border=\"1\" class=\"dataframe\">\n",
       "  <thead>\n",
       "    <tr style=\"text-align: right;\">\n",
       "      <th></th>\n",
       "      <th>numerical</th>\n",
       "      <th>categorical</th>\n",
       "    </tr>\n",
       "  </thead>\n",
       "  <tbody>\n",
       "    <tr>\n",
       "      <th>0</th>\n",
       "      <td>floor_area</td>\n",
       "      <td>place</td>\n",
       "    </tr>\n",
       "    <tr>\n",
       "      <th>1</th>\n",
       "      <td>bedroom</td>\n",
       "      <td>type_house</td>\n",
       "    </tr>\n",
       "    <tr>\n",
       "      <th>2</th>\n",
       "      <td>bathroom</td>\n",
       "      <td></td>\n",
       "    </tr>\n",
       "    <tr>\n",
       "      <th>3</th>\n",
       "      <td>longitude</td>\n",
       "      <td></td>\n",
       "    </tr>\n",
       "    <tr>\n",
       "      <th>4</th>\n",
       "      <td>latitude</td>\n",
       "      <td></td>\n",
       "    </tr>\n",
       "  </tbody>\n",
       "</table>\n",
       "</div>"
      ],
      "text/plain": [
       "    numerical categorical\n",
       "0  floor_area       place\n",
       "1     bedroom  type_house\n",
       "2    bathroom            \n",
       "3   longitude            \n",
       "4    latitude            "
      ]
     },
     "execution_count": 6,
     "metadata": {},
     "output_type": "execute_result"
    }
   ],
   "source": [
    "# Numeric features\n",
    "num_features = list(data.select_dtypes('number').columns) #X_train\n",
    "num_features.remove('price')\n",
    "#num_features.remove('longitude')\n",
    "#num_features.remove('latitude')\n",
    "\n",
    "# Categorical features\n",
    "cat_features =  list(data.select_dtypes('object').columns)\n",
    "cat_features.remove('city_district')\n",
    "\n",
    "# Make DataFrames to present the features\n",
    "num_feat_df = pd.DataFrame({'numerical': num_features}) \n",
    "cat_feat_df = pd.DataFrame({'categorical': cat_features})\n",
    "\n",
    "# Merge both DataFrames\n",
    "feat_df = num_feat_df.merge(cat_feat_df, how='left', left_index=True, right_index=True).fillna(' ')\n",
    "feat_df"
   ]
  },
  {
   "cell_type": "code",
   "execution_count": 77,
   "id": "a7fd9769-8a2f-4737-a719-73afc0dd6884",
   "metadata": {},
   "outputs": [
    {
     "data": {
      "text/html": [
       "<div>\n",
       "<style scoped>\n",
       "    .dataframe tbody tr th:only-of-type {\n",
       "        vertical-align: middle;\n",
       "    }\n",
       "\n",
       "    .dataframe tbody tr th {\n",
       "        vertical-align: top;\n",
       "    }\n",
       "\n",
       "    .dataframe thead th {\n",
       "        text-align: right;\n",
       "    }\n",
       "</style>\n",
       "<table border=\"1\" class=\"dataframe\">\n",
       "  <thead>\n",
       "    <tr style=\"text-align: right;\">\n",
       "      <th></th>\n",
       "      <th>categorical</th>\n",
       "      <th>n_levels</th>\n",
       "      <th>sample</th>\n",
       "    </tr>\n",
       "  </thead>\n",
       "  <tbody>\n",
       "    <tr>\n",
       "      <th>0</th>\n",
       "      <td>place</td>\n",
       "      <td>[nan, Naas, Wexford, Dublin 8, Dublin 6W, Carr...</td>\n",
       "      <td>[nan, Naas, Wexford, Dublin 8, Dublin 6W]</td>\n",
       "    </tr>\n",
       "    <tr>\n",
       "      <th>1</th>\n",
       "      <td>type_house</td>\n",
       "      <td>[house, nan, apartment]</td>\n",
       "      <td>[house, nan, apartment]</td>\n",
       "    </tr>\n",
       "  </tbody>\n",
       "</table>\n",
       "</div>"
      ],
      "text/plain": [
       "  categorical                                           n_levels  \\\n",
       "0       place  [nan, Naas, Wexford, Dublin 8, Dublin 6W, Carr...   \n",
       "1  type_house                            [house, nan, apartment]   \n",
       "\n",
       "                                      sample  \n",
       "0  [nan, Naas, Wexford, Dublin 8, Dublin 6W]  \n",
       "1                    [house, nan, apartment]  "
      ]
     },
     "execution_count": 77,
     "metadata": {},
     "output_type": "execute_result"
    }
   ],
   "source": [
    "levels_type_house = data.type_house.unique()\n",
    "levels_place = data.place.unique()\n",
    "# levels_city_district = data.city_district.unique()\n",
    "levels_list = [levels_place, levels_type_house]\n",
    "\n",
    "cat_feat_df['n_levels'] = [levels_place, levels_type_house] #, levels_city_district\n",
    "cat_feat_df['sample'] = [levels_place[:5], levels_type_house] #, levels_city_district[:4]\n",
    "cat_feat_df # mejorar"
   ]
  },
  {
   "cell_type": "code",
   "execution_count": 8,
   "id": "1d43ec84-be4e-493f-b976-d0e3d05e7c38",
   "metadata": {},
   "outputs": [
    {
     "data": {
      "text/plain": [
       "(7344, 8)"
      ]
     },
     "execution_count": 8,
     "metadata": {},
     "output_type": "execute_result"
    }
   ],
   "source": [
    "features = [\n",
    "    'price',\n",
    "    'floor_area',\n",
    "    'latitude',\n",
    "    'longitude',\n",
    "    'bedroom',\n",
    "    'bathroom',\n",
    "    'type_house',\n",
    "#    'city_district',\n",
    "    'place']\n",
    "\n",
    "data = data[features].copy()\n",
    "data.shape"
   ]
  },
  {
   "cell_type": "code",
   "execution_count": 11,
   "id": "4ab4ed4b-2496-4334-a508-379336d85f8c",
   "metadata": {},
   "outputs": [
    {
     "name": "stdout",
     "output_type": "stream",
     "text": [
      "X: (7344, 7)\n",
      "y: (7344,)\n"
     ]
    }
   ],
   "source": [
    "X, y = split_data(data=data, \n",
    "                  target='price', \n",
    "                  test_size=.15, \n",
    "                  output='X_y',\n",
    "                  random_state=7)"
   ]
  },
  {
   "cell_type": "markdown",
   "id": "a8fa2788-9a76-4b98-a5a9-1d52e1781f07",
   "metadata": {},
   "source": [
    "# KMeans"
   ]
  },
  {
   "cell_type": "code",
   "execution_count": 16,
   "id": "8794c908-1dd0-4d4f-9c20-38a5488e4c46",
   "metadata": {},
   "outputs": [],
   "source": [
    "from sklearn.cluster import KMeans, MiniBatchKMeans\n",
    "from sklearn.metrics import silhouette_score"
   ]
  },
  {
   "cell_type": "code",
   "execution_count": null,
   "id": "76cf60a7-21f2-4484-9530-5558596f9fa5",
   "metadata": {},
   "outputs": [],
   "source": []
  },
  {
   "cell_type": "code",
   "execution_count": 39,
   "id": "1f0be248-17cf-42cb-80a6-7612e31e0448",
   "metadata": {},
   "outputs": [],
   "source": [
    "num_pipe = Pipeline([\n",
    "            ('power_transformer', StandardScaler()), #PowerTransformer(method='yeo-johnson')\n",
    "            ('poly', PolynomialFeatures(degree=1, include_bias=False)),\n",
    "            ('imputer', SimpleImputer(strategy='median')),\n",
    "            ])\n",
    "cat_pipe = Pipeline([\n",
    "            ('one_hot_encoder', OneHotEncoder(categories=levels_list)), \n",
    "            ('imputer', SimpleImputer(strategy='constant', fill_value=None)),\n",
    "            ])\n",
    "preprocessor = ColumnTransformer([\n",
    "            ('num', num_pipe, num_features),\n",
    "            ('cat', cat_pipe, cat_features),\n",
    "            ])\n",
    "pipe_estimator = Pipeline(steps=[\n",
    "            ('preprocessor', preprocessor),\n",
    "            ('cluster', kmeans),\n",
    "            ])\n",
    "\n",
    "    \n",
    "X_transformed = pipe_estimator.fit_transform(X)"
   ]
  },
  {
   "cell_type": "code",
   "execution_count": null,
   "id": "595442f2-e318-42fa-a509-a77a11454c86",
   "metadata": {},
   "outputs": [],
   "source": []
  },
  {
   "cell_type": "code",
   "execution_count": 61,
   "id": "f12ac63b-cf24-4059-9e40-312ed809b390",
   "metadata": {},
   "outputs": [
    {
     "name": "stdout",
     "output_type": "stream",
     "text": [
      "1\n",
      "35600.26439075578\n",
      "2\n",
      "22434.504900784745\n",
      "3\n",
      "16877.7931649965\n",
      "4\n",
      "13528.542297924745\n",
      "5\n",
      "10684.625717540393\n",
      "6\n",
      "9445.6855045956\n",
      "7\n",
      "8449.755581301366\n",
      "8\n",
      "7630.730928047858\n",
      "9\n",
      "6925.854686846261\n",
      "10\n",
      "6367.8230662472115\n"
     ]
    }
   ],
   "source": [
    "max_cluster = 10\n",
    "inertia_dict = {}\n",
    "for n_clusters in range(1, max_cluster + 1):\n",
    "    \n",
    "    kmeans = KMeans(n_clusters=n_clusters, random_state=7)  #, n_init=10  MiniBatchKMeans\n",
    "    y_pred = kmeans.fit(X_transformed)\n",
    "    \n",
    "    inertia_dict[n_clusters] = kmeans.inertia_\n",
    "    \n",
    "    print(n_clusters)\n",
    "    print(kmeans.inertia_)  \n",
    "#    print(kmeans.score(X_transformed))\n",
    "#    print(silhouette_score(X_transformed, kmeans.labels_)) "
   ]
  },
  {
   "cell_type": "code",
   "execution_count": 76,
   "id": "aa5579ab-e830-4040-a150-6503c2e25ac7",
   "metadata": {},
   "outputs": [
    {
     "data": {
      "text/plain": [
       "[<matplotlib.lines.Line2D at 0x7fdb5d4adb10>]"
      ]
     },
     "execution_count": 76,
     "metadata": {},
     "output_type": "execute_result"
    },
    {
     "data": {
      "image/png": "[encoded data removed]",
      "text/plain": [
       "<Figure size 576x396 with 1 Axes>"
      ]
     },
     "metadata": {},
     "output_type": "display_data"
    }
   ],
   "source": [
    "plt.scatter(x=inertia_dict.keys(), y=inertia_dict.values())\n",
    "plt.plot(inertia_dict.keys(), inertia_dict.values())"
   ]
  },
  {
   "cell_type": "code",
   "execution_count": 54,
   "id": "e4b21425-b208-4181-b798-b785f28821aa",
   "metadata": {},
   "outputs": [
    {
     "data": {
      "text/plain": [
       "{2: 0.44548964044762773,\n",
       " 3: 0.29732584283378855,\n",
       " 4: 0.33040903138148137,\n",
       " 5: 0.3397067377121687,\n",
       " 6: 0.303611596138964,\n",
       " 7: 0.3407526710799161,\n",
       " 8: 0.30417769915753984,\n",
       " 9: 0.3034867610768991,\n",
       " 10: 0.31227503832360637}"
      ]
     },
     "execution_count": 54,
     "metadata": {},
     "output_type": "execute_result"
    }
   ],
   "source": [
    "# Number of maximum clusters tried \n",
    "max_cluster = 10\n",
    "# Initialise dictionary \n",
    "sil_graph = {}\n",
    "# Looping starting with 2 clusters and then\n",
    "for cluster in range(2, max_cluster + 1):    \n",
    "    # Calculate the kmeans with clusters\n",
    "    kmeans = KMeans(n_clusters=cluster, random_state=7).fit(X_transformed)\n",
    "    # Calculate the kmeans labels\n",
    "    sil_graph[cluster] = silhouette_score(X_transformed, kmeans.labels_)\n",
    "sil_graph"
   ]
  },
  {
   "cell_type": "code",
   "execution_count": 75,
   "id": "f2a23a32-088e-4c93-b73c-10d4b5999c4d",
   "metadata": {},
   "outputs": [
    {
     "data": {
      "text/plain": [
       "[<matplotlib.lines.Line2D at 0x7fdb5df7bb50>]"
      ]
     },
     "execution_count": 75,
     "metadata": {},
     "output_type": "execute_result"
    },
    {
     "data": {
      "image/png": "[encoded data removed]",
      "text/plain": [
       "<Figure size 576x396 with 1 Axes>"
      ]
     },
     "metadata": {},
     "output_type": "display_data"
    }
   ],
   "source": [
    "plt.scatter(x=sil_graph.keys(), y=sil_graph.values())\n",
    "plt.plot(sil_graph.keys(), sil_graph.values())"
   ]
  },
  {
   "cell_type": "code",
   "execution_count": null,
   "id": "ada27bdf-5af4-4b40-9eb9-c561261d9c7f",
   "metadata": {},
   "outputs": [],
   "source": []
  },
  {
   "cell_type": "markdown",
   "id": "143bc695-edc4-416a-be2e-74684eca49f5",
   "metadata": {},
   "source": [
    "# DBSCAN"
   ]
  },
  {
   "cell_type": "code",
   "execution_count": null,
   "id": "f9dfd63d-60a3-42ba-80de-72917a1ff98c",
   "metadata": {},
   "outputs": [],
   "source": []
  },
  {
   "cell_type": "code",
   "execution_count": null,
   "id": "9c079d3b-b207-4204-be3c-95c5b17ac653",
   "metadata": {},
   "outputs": [],
   "source": []
  },
  {
   "cell_type": "code",
   "execution_count": null,
   "id": "933dae4c-b965-415b-94f4-231693c7a477",
   "metadata": {},
   "outputs": [],
   "source": []
  },
  {
   "cell_type": "code",
   "execution_count": null,
   "id": "3cdf6758-3d2f-4acf-9e1e-a5832f01315c",
   "metadata": {},
   "outputs": [],
   "source": []
  },
  {
   "cell_type": "code",
   "execution_count": null,
   "id": "730b84e9-b09d-457a-b799-3d82e85c8f0d",
   "metadata": {},
   "outputs": [],
   "source": []
  }
 ],
 "metadata": {
  "kernelspec": {
   "display_name": "Python 3 (ipykernel)",
   "language": "python",
   "name": "python3"
  },
  "language_info": {
   "codemirror_mode": {
    "name": "ipython",
    "version": 3
   },
   "file_extension": ".py",
   "mimetype": "text/x-python",
   "name": "python",
   "nbconvert_exporter": "python",
   "pygments_lexer": "ipython3",
   "version": "3.7.11"
  }
 },
 "nbformat": 4,
 "nbformat_minor": 5
}
