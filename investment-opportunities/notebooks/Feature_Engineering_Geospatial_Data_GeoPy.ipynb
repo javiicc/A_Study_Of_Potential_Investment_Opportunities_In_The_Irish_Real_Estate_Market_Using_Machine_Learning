{
 "cells": [
  {
   "cell_type": "markdown",
   "id": "f02d2142-a7e3-46d5-bdf2-e63e2d6969d2",
   "metadata": {},
   "source": [
    "# Goal"
   ]
  },
  {
   "cell_type": "markdown",
   "id": "d63523e5-4e4e-4388-be31-78152569c134",
   "metadata": {
    "jp-MarkdownHeadingCollapsed": true,
    "tags": []
   },
   "source": [
    "In this notebook we are going to use the GeoPy API in order to obtain more useful location related information from the coordinates. This technique is called *\"Reverse Geocoding\"*."
   ]
  },
  {
   "cell_type": "markdown",
   "id": "23c18132-0057-4356-861c-bdcc61b583b8",
   "metadata": {
    "tags": []
   },
   "source": [
    "# Import Libraries and Set Options"
   ]
  },
  {
   "cell_type": "code",
   "execution_count": 23,
   "id": "f8f37eac-b693-47b8-aa47-2f1310654d1d",
   "metadata": {},
   "outputs": [],
   "source": [
    "import numpy as np\n",
    "import pandas as pd\n",
    "import matplotlib.pyplot as plt\n",
    "\n",
    "from daftpy.daftfeanalysis import (location_dict, location_dataframe, location_engineering, \n",
    "                                   geonames_dict, missing_values, \n",
    "                                   eircode_homogenize, add_location)"
   ]
  },
  {
   "cell_type": "code",
   "execution_count": 24,
   "id": "b025ec19-c389-4aa0-877a-fa4156180a78",
   "metadata": {},
   "outputs": [],
   "source": [
    "pd.set_option('display.max_rows', None)\n",
    "pd.set_option('display.max_columns', None)\n",
    "plt.style.use('seaborn')"
   ]
  },
  {
   "cell_type": "markdown",
   "id": "79d2c822-f121-49ee-838c-893a8a094c84",
   "metadata": {
    "tags": []
   },
   "source": [
    "# Load Data"
   ]
  },
  {
   "cell_type": "code",
   "execution_count": 25,
   "id": "912d0d11-c163-4185-94ac-2a7748cac027",
   "metadata": {},
   "outputs": [
    {
     "data": {
      "text/plain": [
       "(7662, 19)"
      ]
     },
     "execution_count": 25,
     "metadata": {},
     "output_type": "execute_result"
    }
   ],
   "source": [
    "sale = pd.read_csv('data/sale_cleaned.csv', sep=',')\n",
    "sale.shape"
   ]
  },
  {
   "cell_type": "code",
   "execution_count": 26,
   "id": "88da4bef-1760-4f63-88d7-5927c353450f",
   "metadata": {},
   "outputs": [
    {
     "name": "stdout",
     "output_type": "stream",
     "text": [
      "<class 'pandas.core.frame.DataFrame'>\n",
      "RangeIndex: 7662 entries, 0 to 7661\n",
      "Data columns (total 19 columns):\n",
      " #   Column           Non-Null Count  Dtype  \n",
      "---  ------           --------------  -----  \n",
      " 0   daft_id          7662 non-null   int64  \n",
      " 1   url              7662 non-null   object \n",
      " 2   name             7662 non-null   object \n",
      " 3   price            7662 non-null   float64\n",
      " 4   sale_type        7662 non-null   object \n",
      " 5   floor_area       7662 non-null   int64  \n",
      " 6   psr              7646 non-null   float64\n",
      " 7   ber              7467 non-null   object \n",
      " 8   entered_renewed  7662 non-null   object \n",
      " 9   views            7662 non-null   float64\n",
      " 10  type_house       7175 non-null   object \n",
      " 11  type             7662 non-null   object \n",
      " 12  scraping_date    7662 non-null   object \n",
      " 13  description      7661 non-null   object \n",
      " 14  latitude         7662 non-null   float64\n",
      " 15  longitude        7662 non-null   float64\n",
      " 16  bedroom          7662 non-null   int64  \n",
      " 17  bathroom         7662 non-null   int64  \n",
      " 18  plus_info        7662 non-null   object \n",
      "dtypes: float64(5), int64(4), object(10)\n",
      "memory usage: 1.1+ MB\n"
     ]
    }
   ],
   "source": [
    "sale.info()"
   ]
  },
  {
   "cell_type": "markdown",
   "id": "cbb8fd6d-4007-48d2-8249-4346e302bdd1",
   "metadata": {
    "tags": []
   },
   "source": [
    "# Check Missing Values"
   ]
  },
  {
   "cell_type": "code",
   "execution_count": 27,
   "id": "23385f86-d57c-4492-9c03-f8ac76e04227",
   "metadata": {},
   "outputs": [
    {
     "data": {
      "text/html": [
       "<div>\n",
       "<style scoped>\n",
       "    .dataframe tbody tr th:only-of-type {\n",
       "        vertical-align: middle;\n",
       "    }\n",
       "\n",
       "    .dataframe tbody tr th {\n",
       "        vertical-align: top;\n",
       "    }\n",
       "\n",
       "    .dataframe thead th {\n",
       "        text-align: right;\n",
       "    }\n",
       "</style>\n",
       "<table border=\"1\" class=\"dataframe\">\n",
       "  <thead>\n",
       "    <tr style=\"text-align: right;\">\n",
       "      <th></th>\n",
       "      <th>Absolute</th>\n",
       "      <th>Relative</th>\n",
       "    </tr>\n",
       "  </thead>\n",
       "  <tbody>\n",
       "    <tr>\n",
       "      <th>daft_id</th>\n",
       "      <td>0</td>\n",
       "      <td>0.000000</td>\n",
       "    </tr>\n",
       "    <tr>\n",
       "      <th>url</th>\n",
       "      <td>0</td>\n",
       "      <td>0.000000</td>\n",
       "    </tr>\n",
       "    <tr>\n",
       "      <th>name</th>\n",
       "      <td>0</td>\n",
       "      <td>0.000000</td>\n",
       "    </tr>\n",
       "    <tr>\n",
       "      <th>price</th>\n",
       "      <td>0</td>\n",
       "      <td>0.000000</td>\n",
       "    </tr>\n",
       "    <tr>\n",
       "      <th>sale_type</th>\n",
       "      <td>0</td>\n",
       "      <td>0.000000</td>\n",
       "    </tr>\n",
       "    <tr>\n",
       "      <th>floor_area</th>\n",
       "      <td>0</td>\n",
       "      <td>0.000000</td>\n",
       "    </tr>\n",
       "    <tr>\n",
       "      <th>psr</th>\n",
       "      <td>16</td>\n",
       "      <td>0.002088</td>\n",
       "    </tr>\n",
       "    <tr>\n",
       "      <th>ber</th>\n",
       "      <td>195</td>\n",
       "      <td>0.025450</td>\n",
       "    </tr>\n",
       "    <tr>\n",
       "      <th>entered_renewed</th>\n",
       "      <td>0</td>\n",
       "      <td>0.000000</td>\n",
       "    </tr>\n",
       "    <tr>\n",
       "      <th>views</th>\n",
       "      <td>0</td>\n",
       "      <td>0.000000</td>\n",
       "    </tr>\n",
       "    <tr>\n",
       "      <th>type_house</th>\n",
       "      <td>487</td>\n",
       "      <td>0.063560</td>\n",
       "    </tr>\n",
       "    <tr>\n",
       "      <th>type</th>\n",
       "      <td>0</td>\n",
       "      <td>0.000000</td>\n",
       "    </tr>\n",
       "    <tr>\n",
       "      <th>scraping_date</th>\n",
       "      <td>0</td>\n",
       "      <td>0.000000</td>\n",
       "    </tr>\n",
       "    <tr>\n",
       "      <th>description</th>\n",
       "      <td>1</td>\n",
       "      <td>0.000131</td>\n",
       "    </tr>\n",
       "    <tr>\n",
       "      <th>latitude</th>\n",
       "      <td>0</td>\n",
       "      <td>0.000000</td>\n",
       "    </tr>\n",
       "    <tr>\n",
       "      <th>longitude</th>\n",
       "      <td>0</td>\n",
       "      <td>0.000000</td>\n",
       "    </tr>\n",
       "    <tr>\n",
       "      <th>bedroom</th>\n",
       "      <td>0</td>\n",
       "      <td>0.000000</td>\n",
       "    </tr>\n",
       "    <tr>\n",
       "      <th>bathroom</th>\n",
       "      <td>0</td>\n",
       "      <td>0.000000</td>\n",
       "    </tr>\n",
       "    <tr>\n",
       "      <th>plus_info</th>\n",
       "      <td>0</td>\n",
       "      <td>0.000000</td>\n",
       "    </tr>\n",
       "  </tbody>\n",
       "</table>\n",
       "</div>"
      ],
      "text/plain": [
       "                 Absolute  Relative\n",
       "daft_id                 0  0.000000\n",
       "url                     0  0.000000\n",
       "name                    0  0.000000\n",
       "price                   0  0.000000\n",
       "sale_type               0  0.000000\n",
       "floor_area              0  0.000000\n",
       "psr                    16  0.002088\n",
       "ber                   195  0.025450\n",
       "entered_renewed         0  0.000000\n",
       "views                   0  0.000000\n",
       "type_house            487  0.063560\n",
       "type                    0  0.000000\n",
       "scraping_date           0  0.000000\n",
       "description             1  0.000131\n",
       "latitude                0  0.000000\n",
       "longitude               0  0.000000\n",
       "bedroom                 0  0.000000\n",
       "bathroom                0  0.000000\n",
       "plus_info               0  0.000000"
      ]
     },
     "execution_count": 27,
     "metadata": {},
     "output_type": "execute_result"
    }
   ],
   "source": [
    "# Check missing values in absolute and relative terms\n",
    "missing_values(sale)"
   ]
  },
  {
   "cell_type": "markdown",
   "id": "a9310e0d-e1d9-45e1-bbcb-7657d1592050",
   "metadata": {
    "tags": []
   },
   "source": [
    "# Reverse Geocoding"
   ]
  },
  {
   "cell_type": "markdown",
   "id": "3f4ba0a2-491e-462e-a29b-a8cfd96f55df",
   "metadata": {},
   "source": [
    "We do reverse geocoding with GeoPy and Nominatim geocoder. The `location_engineering` function uses two more functions, one to creating a dictionary with the extracted information and another one to add that dictionary to the DataFrame."
   ]
  },
  {
   "cell_type": "markdown",
   "id": "0c13e129-e7cf-4ebf-8d72-58ff2b54f2cd",
   "metadata": {},
   "source": [
    "The cell bellow need around two or three hours. The resulting DataFrame is saved as a CSV file in the following cell so you can avoid running it. Also, if you run it and save the result instead keeping the current saved file you could see a little different results in the analysis notebook.  "
   ]
  },
  {
   "cell_type": "code",
   "execution_count": 6,
   "id": "dc8216aa-7728-441e-b929-d2c1e963862f",
   "metadata": {},
   "outputs": [
    {
     "name": "stdout",
     "output_type": "stream",
     "text": [
      "0\n",
      "200\n",
      "400\n",
      "600\n",
      "800\n",
      "1000\n",
      "1200\n",
      "1400\n",
      "1600\n",
      "1800\n",
      "2000\n",
      "2200\n",
      "2400\n",
      "2600\n",
      "2800\n",
      "3000\n",
      "3200\n",
      "3400\n",
      "3600\n",
      "3800\n",
      "4000\n",
      "4200\n",
      "4400\n",
      "4600\n",
      "4800\n",
      "5000\n",
      "5200\n",
      "5400\n",
      "5600\n",
      "5800\n",
      "6000\n",
      "6200\n",
      "6400\n",
      "6600\n",
      "6800\n",
      "7000\n",
      "7200\n",
      "7400\n",
      "7600\n",
      "Shape before adding: (7662, 19)\n",
      "Shape after adding: (7662, 32)\n",
      "----------\n",
      "Difference: 13 columns\n"
     ]
    }
   ],
   "source": [
    "sale = location_engineering(df=sale)"
   ]
  },
  {
   "cell_type": "markdown",
   "id": "15207681-6efa-41d4-b867-66ee639ff214",
   "metadata": {},
   "source": [
    "It took a long time so I decided save the resulted dataframe into a csv file."
   ]
  },
  {
   "cell_type": "code",
   "execution_count": 7,
   "id": "52059846-f0a6-4ae9-a843-d19b9284c1af",
   "metadata": {},
   "outputs": [],
   "source": [
    "sale.to_csv('data/sale_post_reverse_geocoding.csv', \n",
    "            sep=',', index=False)"
   ]
  },
  {
   "cell_type": "markdown",
   "id": "ab760ed6-ab59-4a04-9da0-6729fcb43d70",
   "metadata": {},
   "source": [
    "--------------"
   ]
  },
  {
   "cell_type": "markdown",
   "id": "60ad9a4b-737e-48eb-8ed9-91597c3a0dfc",
   "metadata": {
    "tags": []
   },
   "source": [
    "# Load Post Reverse Geocoding Data"
   ]
  },
  {
   "cell_type": "code",
   "execution_count": 28,
   "id": "393c40be-80d5-4e5a-896b-9105cbe3fd35",
   "metadata": {},
   "outputs": [
    {
     "data": {
      "text/plain": [
       "(7662, 32)"
      ]
     },
     "execution_count": 28,
     "metadata": {},
     "output_type": "execute_result"
    }
   ],
   "source": [
    "sale = pd.read_csv('data/sale_post_reverse_geocoding.csv', sep=',')\n",
    "sale.shape"
   ]
  },
  {
   "cell_type": "code",
   "execution_count": 29,
   "id": "d1258b64-70af-4b72-85b7-c47c835f3304",
   "metadata": {},
   "outputs": [
    {
     "name": "stdout",
     "output_type": "stream",
     "text": [
      "<class 'pandas.core.frame.DataFrame'>\n",
      "RangeIndex: 7662 entries, 0 to 7661\n",
      "Data columns (total 32 columns):\n",
      " #   Column           Non-Null Count  Dtype  \n",
      "---  ------           --------------  -----  \n",
      " 0   daft_id          7662 non-null   int64  \n",
      " 1   url              7662 non-null   object \n",
      " 2   name             7662 non-null   object \n",
      " 3   price            7662 non-null   float64\n",
      " 4   sale_type        7662 non-null   object \n",
      " 5   floor_area       7662 non-null   int64  \n",
      " 6   psr              7646 non-null   float64\n",
      " 7   ber              7467 non-null   object \n",
      " 8   entered_renewed  7662 non-null   object \n",
      " 9   views            7662 non-null   float64\n",
      " 10  type_house       7175 non-null   object \n",
      " 11  type             7662 non-null   object \n",
      " 12  scraping_date    7662 non-null   object \n",
      " 13  description      7661 non-null   object \n",
      " 14  latitude         7662 non-null   float64\n",
      " 15  longitude        7662 non-null   float64\n",
      " 16  bedroom          7662 non-null   int64  \n",
      " 17  bathroom         7662 non-null   int64  \n",
      " 18  plus_info        7662 non-null   object \n",
      " 19  country_code     7662 non-null   object \n",
      " 20  country          7662 non-null   object \n",
      " 21  postcode         6508 non-null   object \n",
      " 22  state_district   7267 non-null   object \n",
      " 23  county           6964 non-null   object \n",
      " 24  municipality     1269 non-null   object \n",
      " 25  city             2017 non-null   object \n",
      " 26  town             1110 non-null   object \n",
      " 27  city_district    7298 non-null   object \n",
      " 28  locality         16 non-null     object \n",
      " 29  suburb           1756 non-null   object \n",
      " 30  road             5739 non-null   object \n",
      " 31  house_number     1414 non-null   object \n",
      "dtypes: float64(5), int64(4), object(23)\n",
      "memory usage: 1.9+ MB\n"
     ]
    }
   ],
   "source": [
    "sale.info()"
   ]
  },
  {
   "cell_type": "markdown",
   "id": "1657cc1e-5c22-4c77-b297-23957e083f4d",
   "metadata": {
    "tags": []
   },
   "source": [
    "# Check Missing Values"
   ]
  },
  {
   "cell_type": "code",
   "execution_count": 30,
   "id": "7f8bdbcd-a1ec-4845-9228-0c164a9c350d",
   "metadata": {},
   "outputs": [
    {
     "data": {
      "text/html": [
       "<div>\n",
       "<style scoped>\n",
       "    .dataframe tbody tr th:only-of-type {\n",
       "        vertical-align: middle;\n",
       "    }\n",
       "\n",
       "    .dataframe tbody tr th {\n",
       "        vertical-align: top;\n",
       "    }\n",
       "\n",
       "    .dataframe thead th {\n",
       "        text-align: right;\n",
       "    }\n",
       "</style>\n",
       "<table border=\"1\" class=\"dataframe\">\n",
       "  <thead>\n",
       "    <tr style=\"text-align: right;\">\n",
       "      <th></th>\n",
       "      <th>Absolute</th>\n",
       "      <th>Relative</th>\n",
       "    </tr>\n",
       "  </thead>\n",
       "  <tbody>\n",
       "    <tr>\n",
       "      <th>daft_id</th>\n",
       "      <td>0</td>\n",
       "      <td>0.000000</td>\n",
       "    </tr>\n",
       "    <tr>\n",
       "      <th>url</th>\n",
       "      <td>0</td>\n",
       "      <td>0.000000</td>\n",
       "    </tr>\n",
       "    <tr>\n",
       "      <th>name</th>\n",
       "      <td>0</td>\n",
       "      <td>0.000000</td>\n",
       "    </tr>\n",
       "    <tr>\n",
       "      <th>price</th>\n",
       "      <td>0</td>\n",
       "      <td>0.000000</td>\n",
       "    </tr>\n",
       "    <tr>\n",
       "      <th>sale_type</th>\n",
       "      <td>0</td>\n",
       "      <td>0.000000</td>\n",
       "    </tr>\n",
       "    <tr>\n",
       "      <th>floor_area</th>\n",
       "      <td>0</td>\n",
       "      <td>0.000000</td>\n",
       "    </tr>\n",
       "    <tr>\n",
       "      <th>psr</th>\n",
       "      <td>16</td>\n",
       "      <td>0.002088</td>\n",
       "    </tr>\n",
       "    <tr>\n",
       "      <th>ber</th>\n",
       "      <td>195</td>\n",
       "      <td>0.025450</td>\n",
       "    </tr>\n",
       "    <tr>\n",
       "      <th>entered_renewed</th>\n",
       "      <td>0</td>\n",
       "      <td>0.000000</td>\n",
       "    </tr>\n",
       "    <tr>\n",
       "      <th>views</th>\n",
       "      <td>0</td>\n",
       "      <td>0.000000</td>\n",
       "    </tr>\n",
       "    <tr>\n",
       "      <th>type_house</th>\n",
       "      <td>487</td>\n",
       "      <td>0.063560</td>\n",
       "    </tr>\n",
       "    <tr>\n",
       "      <th>type</th>\n",
       "      <td>0</td>\n",
       "      <td>0.000000</td>\n",
       "    </tr>\n",
       "    <tr>\n",
       "      <th>scraping_date</th>\n",
       "      <td>0</td>\n",
       "      <td>0.000000</td>\n",
       "    </tr>\n",
       "    <tr>\n",
       "      <th>description</th>\n",
       "      <td>1</td>\n",
       "      <td>0.000131</td>\n",
       "    </tr>\n",
       "    <tr>\n",
       "      <th>latitude</th>\n",
       "      <td>0</td>\n",
       "      <td>0.000000</td>\n",
       "    </tr>\n",
       "    <tr>\n",
       "      <th>longitude</th>\n",
       "      <td>0</td>\n",
       "      <td>0.000000</td>\n",
       "    </tr>\n",
       "    <tr>\n",
       "      <th>bedroom</th>\n",
       "      <td>0</td>\n",
       "      <td>0.000000</td>\n",
       "    </tr>\n",
       "    <tr>\n",
       "      <th>bathroom</th>\n",
       "      <td>0</td>\n",
       "      <td>0.000000</td>\n",
       "    </tr>\n",
       "    <tr>\n",
       "      <th>plus_info</th>\n",
       "      <td>0</td>\n",
       "      <td>0.000000</td>\n",
       "    </tr>\n",
       "    <tr>\n",
       "      <th>country_code</th>\n",
       "      <td>0</td>\n",
       "      <td>0.000000</td>\n",
       "    </tr>\n",
       "    <tr>\n",
       "      <th>country</th>\n",
       "      <td>0</td>\n",
       "      <td>0.000000</td>\n",
       "    </tr>\n",
       "    <tr>\n",
       "      <th>postcode</th>\n",
       "      <td>1154</td>\n",
       "      <td>0.150613</td>\n",
       "    </tr>\n",
       "    <tr>\n",
       "      <th>state_district</th>\n",
       "      <td>395</td>\n",
       "      <td>0.051553</td>\n",
       "    </tr>\n",
       "    <tr>\n",
       "      <th>county</th>\n",
       "      <td>698</td>\n",
       "      <td>0.091099</td>\n",
       "    </tr>\n",
       "    <tr>\n",
       "      <th>municipality</th>\n",
       "      <td>6393</td>\n",
       "      <td>0.834377</td>\n",
       "    </tr>\n",
       "    <tr>\n",
       "      <th>city</th>\n",
       "      <td>5645</td>\n",
       "      <td>0.736753</td>\n",
       "    </tr>\n",
       "    <tr>\n",
       "      <th>town</th>\n",
       "      <td>6552</td>\n",
       "      <td>0.855129</td>\n",
       "    </tr>\n",
       "    <tr>\n",
       "      <th>city_district</th>\n",
       "      <td>364</td>\n",
       "      <td>0.047507</td>\n",
       "    </tr>\n",
       "    <tr>\n",
       "      <th>locality</th>\n",
       "      <td>7646</td>\n",
       "      <td>0.997912</td>\n",
       "    </tr>\n",
       "    <tr>\n",
       "      <th>suburb</th>\n",
       "      <td>5906</td>\n",
       "      <td>0.770817</td>\n",
       "    </tr>\n",
       "    <tr>\n",
       "      <th>road</th>\n",
       "      <td>1923</td>\n",
       "      <td>0.250979</td>\n",
       "    </tr>\n",
       "    <tr>\n",
       "      <th>house_number</th>\n",
       "      <td>6248</td>\n",
       "      <td>0.815453</td>\n",
       "    </tr>\n",
       "  </tbody>\n",
       "</table>\n",
       "</div>"
      ],
      "text/plain": [
       "                 Absolute  Relative\n",
       "daft_id                 0  0.000000\n",
       "url                     0  0.000000\n",
       "name                    0  0.000000\n",
       "price                   0  0.000000\n",
       "sale_type               0  0.000000\n",
       "floor_area              0  0.000000\n",
       "psr                    16  0.002088\n",
       "ber                   195  0.025450\n",
       "entered_renewed         0  0.000000\n",
       "views                   0  0.000000\n",
       "type_house            487  0.063560\n",
       "type                    0  0.000000\n",
       "scraping_date           0  0.000000\n",
       "description             1  0.000131\n",
       "latitude                0  0.000000\n",
       "longitude               0  0.000000\n",
       "bedroom                 0  0.000000\n",
       "bathroom                0  0.000000\n",
       "plus_info               0  0.000000\n",
       "country_code            0  0.000000\n",
       "country                 0  0.000000\n",
       "postcode             1154  0.150613\n",
       "state_district        395  0.051553\n",
       "county                698  0.091099\n",
       "municipality         6393  0.834377\n",
       "city                 5645  0.736753\n",
       "town                 6552  0.855129\n",
       "city_district         364  0.047507\n",
       "locality             7646  0.997912\n",
       "suburb               5906  0.770817\n",
       "road                 1923  0.250979\n",
       "house_number         6248  0.815453"
      ]
     },
     "execution_count": 30,
     "metadata": {},
     "output_type": "execute_result"
    }
   ],
   "source": [
    "# Check missing values in absolute and relative terms\n",
    "missing_values(sale)"
   ]
  },
  {
   "cell_type": "markdown",
   "id": "1c8cc976-10d2-4f62-8365-0a7dcf5711fe",
   "metadata": {},
   "source": [
    "As we can see there are a lot of new missing values in the data recently added. We are going to deal with them in a minut but first let's see if any UK ad managed to skip our data cleaning task when we cleaned the coordinates."
   ]
  },
  {
   "cell_type": "code",
   "execution_count": 31,
   "id": "8f9fbbb7-81d1-440c-9378-ba6f1e85031e",
   "metadata": {},
   "outputs": [
    {
     "data": {
      "text/plain": [
       "Éire / Ireland    7661\n",
       "United Kingdom       1\n",
       "Name: country, dtype: int64"
      ]
     },
     "execution_count": 31,
     "metadata": {},
     "output_type": "execute_result"
    }
   ],
   "source": [
    "sale.country.value_counts()"
   ]
  },
  {
   "cell_type": "markdown",
   "id": "6a49e7a3-8a26-4e73-a086-9cae6072e995",
   "metadata": {},
   "source": [
    "There it is. Let's quickly drop it."
   ]
  },
  {
   "cell_type": "code",
   "execution_count": 32,
   "id": "e022c745-f1da-46a6-bea4-ab55c97a31d4",
   "metadata": {},
   "outputs": [
    {
     "data": {
      "text/plain": [
       "Éire / Ireland    7661\n",
       "Name: country, dtype: int64"
      ]
     },
     "execution_count": 32,
     "metadata": {},
     "output_type": "execute_result"
    }
   ],
   "source": [
    "sale.drop(sale[sale.country == 'United Kingdom'].index, inplace=True)\n",
    "sale.country.value_counts()"
   ]
  },
  {
   "cell_type": "markdown",
   "id": "bcf954e5-04d6-48fb-86d8-2cd080dd908e",
   "metadata": {
    "tags": []
   },
   "source": [
    "# Dealing With New Missing Values"
   ]
  },
  {
   "cell_type": "markdown",
   "id": "2ab0c26a-016e-472b-9836-c94874558cfd",
   "metadata": {},
   "source": [
    "Let's isolate the variables we are interested in to work easier."
   ]
  },
  {
   "cell_type": "code",
   "execution_count": 33,
   "id": "c4cd250c-0219-4436-b039-b37ebb488a8d",
   "metadata": {},
   "outputs": [
    {
     "data": {
      "text/html": [
       "<div>\n",
       "<style scoped>\n",
       "    .dataframe tbody tr th:only-of-type {\n",
       "        vertical-align: middle;\n",
       "    }\n",
       "\n",
       "    .dataframe tbody tr th {\n",
       "        vertical-align: top;\n",
       "    }\n",
       "\n",
       "    .dataframe thead th {\n",
       "        text-align: right;\n",
       "    }\n",
       "</style>\n",
       "<table border=\"1\" class=\"dataframe\">\n",
       "  <thead>\n",
       "    <tr style=\"text-align: right;\">\n",
       "      <th></th>\n",
       "      <th>Absolute</th>\n",
       "      <th>Relative</th>\n",
       "    </tr>\n",
       "  </thead>\n",
       "  <tbody>\n",
       "    <tr>\n",
       "      <th>url</th>\n",
       "      <td>0</td>\n",
       "      <td>0.000000</td>\n",
       "    </tr>\n",
       "    <tr>\n",
       "      <th>latitude</th>\n",
       "      <td>0</td>\n",
       "      <td>0.000000</td>\n",
       "    </tr>\n",
       "    <tr>\n",
       "      <th>longitude</th>\n",
       "      <td>0</td>\n",
       "      <td>0.000000</td>\n",
       "    </tr>\n",
       "    <tr>\n",
       "      <th>country_code</th>\n",
       "      <td>0</td>\n",
       "      <td>0.000000</td>\n",
       "    </tr>\n",
       "    <tr>\n",
       "      <th>country</th>\n",
       "      <td>0</td>\n",
       "      <td>0.000000</td>\n",
       "    </tr>\n",
       "    <tr>\n",
       "      <th>postcode</th>\n",
       "      <td>1154</td>\n",
       "      <td>0.150633</td>\n",
       "    </tr>\n",
       "    <tr>\n",
       "      <th>state_district</th>\n",
       "      <td>394</td>\n",
       "      <td>0.051429</td>\n",
       "    </tr>\n",
       "    <tr>\n",
       "      <th>county</th>\n",
       "      <td>698</td>\n",
       "      <td>0.091111</td>\n",
       "    </tr>\n",
       "    <tr>\n",
       "      <th>municipality</th>\n",
       "      <td>6392</td>\n",
       "      <td>0.834356</td>\n",
       "    </tr>\n",
       "    <tr>\n",
       "      <th>city</th>\n",
       "      <td>5644</td>\n",
       "      <td>0.736718</td>\n",
       "    </tr>\n",
       "    <tr>\n",
       "      <th>town</th>\n",
       "      <td>6551</td>\n",
       "      <td>0.855110</td>\n",
       "    </tr>\n",
       "    <tr>\n",
       "      <th>city_district</th>\n",
       "      <td>363</td>\n",
       "      <td>0.047383</td>\n",
       "    </tr>\n",
       "    <tr>\n",
       "      <th>locality</th>\n",
       "      <td>7645</td>\n",
       "      <td>0.997911</td>\n",
       "    </tr>\n",
       "    <tr>\n",
       "      <th>road</th>\n",
       "      <td>1923</td>\n",
       "      <td>0.251012</td>\n",
       "    </tr>\n",
       "    <tr>\n",
       "      <th>house_number</th>\n",
       "      <td>6247</td>\n",
       "      <td>0.815429</td>\n",
       "    </tr>\n",
       "  </tbody>\n",
       "</table>\n",
       "</div>"
      ],
      "text/plain": [
       "                Absolute  Relative\n",
       "url                    0  0.000000\n",
       "latitude               0  0.000000\n",
       "longitude              0  0.000000\n",
       "country_code           0  0.000000\n",
       "country                0  0.000000\n",
       "postcode            1154  0.150633\n",
       "state_district       394  0.051429\n",
       "county               698  0.091111\n",
       "municipality        6392  0.834356\n",
       "city                5644  0.736718\n",
       "town                6551  0.855110\n",
       "city_district        363  0.047383\n",
       "locality            7645  0.997911\n",
       "road                1923  0.251012\n",
       "house_number        6247  0.815429"
      ]
     },
     "execution_count": 33,
     "metadata": {},
     "output_type": "execute_result"
    }
   ],
   "source": [
    "location_features = ['url', \n",
    "                     'latitude', \n",
    "                     'longitude', \n",
    "                     'country_code', \n",
    "                     'country', \n",
    "                     'postcode', \n",
    "                     'state_district', \n",
    "                     'county', \n",
    "                     'municipality', \n",
    "                     'city', \n",
    "                     'town', \n",
    "                     'city_district', \n",
    "                     'locality', \n",
    "                     'road', \n",
    "                     'house_number']\n",
    "\n",
    "missing_values(sale[location_features])"
   ]
  },
  {
   "cell_type": "markdown",
   "id": "ce3aac63-5888-4481-85f7-3d7ef82c7c84",
   "metadata": {
    "tags": []
   },
   "source": [
    "## Eircode"
   ]
  },
  {
   "cell_type": "markdown",
   "id": "37dbb72b-bed9-4357-a2cb-6af24a9f9b4f",
   "metadata": {},
   "source": [
    "The postcode is called \"Eircode\" in Ireland. It consists of a \"Routing Key\" and a \"Unique Identifier\". The routing key is associated with the city or town and is the three first characters from the Eircode.\n",
    "\n",
    "![](imgs/eircode.png)"
   ]
  },
  {
   "cell_type": "markdown",
   "id": "7e68cd00-17f8-4393-b912-8cd6273bbfce",
   "metadata": {},
   "source": [
    "There is a 73% and a 85% of missing values in `city` and `town` columns respectively. However, there is only a 15% of missing values in the `postcode` column. So we can use the `postcode` column to figure out the `town` values."
   ]
  },
  {
   "cell_type": "markdown",
   "id": "7d3dc675-84dd-4257-b6a1-6b78470895e0",
   "metadata": {},
   "source": [
    "Let's check how many missing values there are in both columns at the same time."
   ]
  },
  {
   "cell_type": "code",
   "execution_count": 34,
   "id": "cf2d8255-100a-4729-9099-af70d4cf6e9a",
   "metadata": {},
   "outputs": [
    {
     "data": {
      "text/plain": [
       "(4541, 32)"
      ]
     },
     "execution_count": 34,
     "metadata": {},
     "output_type": "execute_result"
    }
   ],
   "source": [
    "sale.loc[sale[['city', 'town']].isna().all(axis=1)].shape"
   ]
  },
  {
   "cell_type": "markdown",
   "id": "c8b3e11e-ab97-4824-a484-d108fbcda19a",
   "metadata": {},
   "source": [
    "And how many missing values there are in the three columns at the same time."
   ]
  },
  {
   "cell_type": "code",
   "execution_count": 35,
   "id": "ac1019a4-d57e-428f-9b0a-f56722dd25ee",
   "metadata": {},
   "outputs": [
    {
     "data": {
      "text/plain": [
       "(1046, 32)"
      ]
     },
     "execution_count": 35,
     "metadata": {},
     "output_type": "execute_result"
    }
   ],
   "source": [
    "sale.loc[sale[['city', 'town', 'postcode']].isna().all(axis=1)].shape"
   ]
  },
  {
   "cell_type": "markdown",
   "id": "8474874b-f08e-44ec-82f6-8f3df2b0fa2e",
   "metadata": {
    "tags": []
   },
   "source": [
    "### Scraping Geonames Page"
   ]
  },
  {
   "cell_type": "markdown",
   "id": "4c4a97af-fdee-4fdd-9150-1a23b70dd409",
   "metadata": {},
   "source": [
    "We can scrape [Geonames.org](http://www.geonames.org/postalcode-search.html?q=&country=IE) website to obtain the information about the town. That page shows the eircode's routing key and its respectively town or city. As we have most of the eircodes, we can match them with the city or town names.\n",
    "\n",
    "We will use the `geonames_dict()` function to scrape the page and create a dictionary with the info. Also we can create a DataFrame with that dictionary."
   ]
  },
  {
   "cell_type": "code",
   "execution_count": 36,
   "id": "1e0282e9-f5b8-464f-a8a4-d850ff578954",
   "metadata": {},
   "outputs": [
    {
     "name": "stdout",
     "output_type": "stream",
     "text": [
      "(139, 4)\n"
     ]
    },
    {
     "data": {
      "text/html": [
       "<div>\n",
       "<style scoped>\n",
       "    .dataframe tbody tr th:only-of-type {\n",
       "        vertical-align: middle;\n",
       "    }\n",
       "\n",
       "    .dataframe tbody tr th {\n",
       "        vertical-align: top;\n",
       "    }\n",
       "\n",
       "    .dataframe thead th {\n",
       "        text-align: right;\n",
       "    }\n",
       "</style>\n",
       "<table border=\"1\" class=\"dataframe\">\n",
       "  <thead>\n",
       "    <tr style=\"text-align: right;\">\n",
       "      <th></th>\n",
       "      <th>place</th>\n",
       "      <th>code</th>\n",
       "      <th>admin1</th>\n",
       "      <th>place_coordinates</th>\n",
       "    </tr>\n",
       "  </thead>\n",
       "  <tbody>\n",
       "    <tr>\n",
       "      <th>0</th>\n",
       "      <td>Ballyboughal</td>\n",
       "      <td>A41</td>\n",
       "      <td>Leinster</td>\n",
       "      <td>53.52/-6.267</td>\n",
       "    </tr>\n",
       "    <tr>\n",
       "      <th>1</th>\n",
       "      <td>Garristown</td>\n",
       "      <td>A42</td>\n",
       "      <td>Leinster</td>\n",
       "      <td>53.566/-6.386</td>\n",
       "    </tr>\n",
       "    <tr>\n",
       "      <th>2</th>\n",
       "      <td>Oldtown</td>\n",
       "      <td>A45</td>\n",
       "      <td>Leinster</td>\n",
       "      <td>53.525/-6.316</td>\n",
       "    </tr>\n",
       "  </tbody>\n",
       "</table>\n",
       "</div>"
      ],
      "text/plain": [
       "          place code    admin1 place_coordinates\n",
       "0  Ballyboughal  A41  Leinster      53.52/-6.267\n",
       "1    Garristown  A42  Leinster     53.566/-6.386\n",
       "2       Oldtown  A45  Leinster     53.525/-6.316"
      ]
     },
     "execution_count": 36,
     "metadata": {},
     "output_type": "execute_result"
    }
   ],
   "source": [
    "# Make a DataFrame with the dictionary obtained from `geonames_dict` function\n",
    "geonames_df = pd.DataFrame(geonames_dict())\n",
    "print(geonames_df.shape)\n",
    "geonames_df.head(3)"
   ]
  },
  {
   "cell_type": "markdown",
   "id": "bf45d6a6-f98a-4702-851d-78eebadacb91",
   "metadata": {
    "tags": []
   },
   "source": [
    "### Homogenize Postcode Column"
   ]
  },
  {
   "cell_type": "markdown",
   "id": "d3300238-dee0-4e92-8c8e-fd48df997643",
   "metadata": {},
   "source": [
    "Now we need to check the `postcode` column in order to make sure that it has the eircode's routing key. "
   ]
  },
  {
   "cell_type": "markdown",
   "id": "f8be17d8-652d-4949-8e1f-b82e3b615c34",
   "metadata": {},
   "source": [
    "Let's dig a little deeper into `postcode` column."
   ]
  },
  {
   "cell_type": "code",
   "execution_count": 37,
   "id": "65ab3e9a-8ef2-4485-9c70-d9908f1d685d",
   "metadata": {},
   "outputs": [
    {
     "data": {
      "text/plain": [
       "8.0     5773\n",
       "NaN     1154\n",
       "7.0      578\n",
       "9.0       48\n",
       "1.0       30\n",
       "3.0       21\n",
       "2.0       19\n",
       "6.0       12\n",
       "12.0       9\n",
       "10.0       8\n",
       "11.0       4\n",
       "4.0        3\n",
       "13.0       2\n",
       "Name: postcode, dtype: int64"
      ]
     },
     "execution_count": 37,
     "metadata": {},
     "output_type": "execute_result"
    }
   ],
   "source": [
    "sale['postcode'].str.len().value_counts(dropna=False)"
   ]
  },
  {
   "cell_type": "markdown",
   "id": "3f3fb6d3-22b5-4eeb-96e9-048497a232b7",
   "metadata": {},
   "source": [
    "We should check each different case and wrang and clean each one to try to homogenize them."
   ]
  },
  {
   "cell_type": "markdown",
   "id": "0a401854-5ea2-4584-8da9-c7c3d3b6ecb1",
   "metadata": {
    "tags": []
   },
   "source": [
    "#### Eircode length = 8"
   ]
  },
  {
   "cell_type": "markdown",
   "id": "b71e1a06-d103-4633-bcb4-4d11b22c4c3a",
   "metadata": {},
   "source": [
    "Eircode equals to eigth is what we want. The eircode has eigth characters, three of the routing key, other four of the unique identifier, and the blank space."
   ]
  },
  {
   "cell_type": "code",
   "execution_count": 38,
   "id": "aef7afd3-cdc0-43e9-9044-ea61a9c0a540",
   "metadata": {},
   "outputs": [
    {
     "data": {
      "text/html": [
       "<div>\n",
       "<style scoped>\n",
       "    .dataframe tbody tr th:only-of-type {\n",
       "        vertical-align: middle;\n",
       "    }\n",
       "\n",
       "    .dataframe tbody tr th {\n",
       "        vertical-align: top;\n",
       "    }\n",
       "\n",
       "    .dataframe thead th {\n",
       "        text-align: right;\n",
       "    }\n",
       "</style>\n",
       "<table border=\"1\" class=\"dataframe\">\n",
       "  <thead>\n",
       "    <tr style=\"text-align: right;\">\n",
       "      <th></th>\n",
       "      <th>postcode</th>\n",
       "    </tr>\n",
       "  </thead>\n",
       "  <tbody>\n",
       "    <tr>\n",
       "      <th>6893</th>\n",
       "      <td>A67 X225</td>\n",
       "    </tr>\n",
       "    <tr>\n",
       "      <th>5307</th>\n",
       "      <td>K45 K650</td>\n",
       "    </tr>\n",
       "    <tr>\n",
       "      <th>3576</th>\n",
       "      <td>A98 VP11</td>\n",
       "    </tr>\n",
       "  </tbody>\n",
       "</table>\n",
       "</div>"
      ],
      "text/plain": [
       "      postcode\n",
       "6893  A67 X225\n",
       "5307  K45 K650\n",
       "3576  A98 VP11"
      ]
     },
     "execution_count": 38,
     "metadata": {},
     "output_type": "execute_result"
    }
   ],
   "source": [
    "sale.loc[sale.postcode.str.len() == 8, ['postcode']].sample(3)"
   ]
  },
  {
   "cell_type": "markdown",
   "id": "64e30aad-999f-4676-b59f-918c34ce6838",
   "metadata": {
    "tags": []
   },
   "source": [
    "#### Eircode length = 7"
   ]
  },
  {
   "cell_type": "markdown",
   "id": "01f076ac-53d5-466a-a7f9-e232c4fb7208",
   "metadata": {},
   "source": [
    "We could add a blank space between the routing key and the unique identifier."
   ]
  },
  {
   "cell_type": "code",
   "execution_count": 39,
   "id": "5b994585-c33d-4d7a-a5f1-254caabea5bc",
   "metadata": {},
   "outputs": [
    {
     "data": {
      "text/html": [
       "<div>\n",
       "<style scoped>\n",
       "    .dataframe tbody tr th:only-of-type {\n",
       "        vertical-align: middle;\n",
       "    }\n",
       "\n",
       "    .dataframe tbody tr th {\n",
       "        vertical-align: top;\n",
       "    }\n",
       "\n",
       "    .dataframe thead th {\n",
       "        text-align: right;\n",
       "    }\n",
       "</style>\n",
       "<table border=\"1\" class=\"dataframe\">\n",
       "  <thead>\n",
       "    <tr style=\"text-align: right;\">\n",
       "      <th></th>\n",
       "      <th>postcode</th>\n",
       "    </tr>\n",
       "  </thead>\n",
       "  <tbody>\n",
       "    <tr>\n",
       "      <th>281</th>\n",
       "      <td>A96H312</td>\n",
       "    </tr>\n",
       "    <tr>\n",
       "      <th>2781</th>\n",
       "      <td>W23EP48</td>\n",
       "    </tr>\n",
       "    <tr>\n",
       "      <th>6976</th>\n",
       "      <td>F92W803</td>\n",
       "    </tr>\n",
       "  </tbody>\n",
       "</table>\n",
       "</div>"
      ],
      "text/plain": [
       "     postcode\n",
       "281   A96H312\n",
       "2781  W23EP48\n",
       "6976  F92W803"
      ]
     },
     "execution_count": 39,
     "metadata": {},
     "output_type": "execute_result"
    }
   ],
   "source": [
    "sale.loc[sale.postcode.str.len() == 7, ['postcode']].sample(3)"
   ]
  },
  {
   "cell_type": "markdown",
   "id": "006ce74b-0aaf-4116-9f1e-6e3d608c83f6",
   "metadata": {
    "tags": []
   },
   "source": [
    "#### Eircode length = 9"
   ]
  },
  {
   "cell_type": "markdown",
   "id": "7b630fe6-4add-42cd-b886-cfc1e3417a0d",
   "metadata": {},
   "source": [
    "We will handle all this cases in the homogenize function, giving most of them a `np.nan` value."
   ]
  },
  {
   "cell_type": "code",
   "execution_count": 40,
   "id": "cff7b1f8-4301-4990-857c-02204b233e0f",
   "metadata": {},
   "outputs": [
    {
     "data": {
      "text/html": [
       "<div>\n",
       "<style scoped>\n",
       "    .dataframe tbody tr th:only-of-type {\n",
       "        vertical-align: middle;\n",
       "    }\n",
       "\n",
       "    .dataframe tbody tr th {\n",
       "        vertical-align: top;\n",
       "    }\n",
       "\n",
       "    .dataframe thead th {\n",
       "        text-align: right;\n",
       "    }\n",
       "</style>\n",
       "<table border=\"1\" class=\"dataframe\">\n",
       "  <thead>\n",
       "    <tr style=\"text-align: right;\">\n",
       "      <th></th>\n",
       "      <th>postcode</th>\n",
       "    </tr>\n",
       "  </thead>\n",
       "  <tbody>\n",
       "    <tr>\n",
       "      <th>1608</th>\n",
       "      <td>DUBLIN 13</td>\n",
       "    </tr>\n",
       "    <tr>\n",
       "      <th>971</th>\n",
       "      <td>DUBLIN 13</td>\n",
       "    </tr>\n",
       "    <tr>\n",
       "      <th>4201</th>\n",
       "      <td>DUBLIN 18</td>\n",
       "    </tr>\n",
       "  </tbody>\n",
       "</table>\n",
       "</div>"
      ],
      "text/plain": [
       "       postcode\n",
       "1608  DUBLIN 13\n",
       "971   DUBLIN 13\n",
       "4201  DUBLIN 18"
      ]
     },
     "execution_count": 40,
     "metadata": {},
     "output_type": "execute_result"
    }
   ],
   "source": [
    "sale.loc[sale.postcode.str.len() == 9, ['postcode']].sample(3)"
   ]
  },
  {
   "cell_type": "markdown",
   "id": "1accc27e-31ab-4d3a-938f-22630b57faf9",
   "metadata": {
    "tags": []
   },
   "source": [
    "#### Eircode length = 1"
   ]
  },
  {
   "cell_type": "markdown",
   "id": "dcf9480b-53d8-4f3f-b746-721e9784a771",
   "metadata": {},
   "source": [
    "Those ads with a single number as a postcode belong to Dublin. It is reasonable to think that those numbers correspond with the postal district's number so we will fix them in the `homogenize()` function."
   ]
  },
  {
   "cell_type": "code",
   "execution_count": 41,
   "id": "5b292b69-6200-4eb9-8e47-30ddc2964941",
   "metadata": {},
   "outputs": [
    {
     "data": {
      "text/html": [
       "<div>\n",
       "<style scoped>\n",
       "    .dataframe tbody tr th:only-of-type {\n",
       "        vertical-align: middle;\n",
       "    }\n",
       "\n",
       "    .dataframe tbody tr th {\n",
       "        vertical-align: top;\n",
       "    }\n",
       "\n",
       "    .dataframe thead th {\n",
       "        text-align: right;\n",
       "    }\n",
       "</style>\n",
       "<table border=\"1\" class=\"dataframe\">\n",
       "  <thead>\n",
       "    <tr style=\"text-align: right;\">\n",
       "      <th></th>\n",
       "      <th>postcode</th>\n",
       "      <th>city</th>\n",
       "    </tr>\n",
       "  </thead>\n",
       "  <tbody>\n",
       "    <tr>\n",
       "      <th>2996</th>\n",
       "      <td>9</td>\n",
       "      <td>Dublin</td>\n",
       "    </tr>\n",
       "    <tr>\n",
       "      <th>6600</th>\n",
       "      <td>4</td>\n",
       "      <td>Dublin</td>\n",
       "    </tr>\n",
       "    <tr>\n",
       "      <th>4294</th>\n",
       "      <td>1</td>\n",
       "      <td>Dublin</td>\n",
       "    </tr>\n",
       "  </tbody>\n",
       "</table>\n",
       "</div>"
      ],
      "text/plain": [
       "     postcode    city\n",
       "2996        9  Dublin\n",
       "6600        4  Dublin\n",
       "4294        1  Dublin"
      ]
     },
     "execution_count": 41,
     "metadata": {},
     "output_type": "execute_result"
    }
   ],
   "source": [
    "sale.loc[sale.postcode.str.len() == 1, ['postcode','city']].sample(3)"
   ]
  },
  {
   "cell_type": "markdown",
   "id": "64b7394f-72f4-4d7b-94c1-e9c614f714c3",
   "metadata": {
    "tags": []
   },
   "source": [
    "#### Eircode length = 10"
   ]
  },
  {
   "cell_type": "markdown",
   "id": "3c8eaca3-040a-4fae-a768-73eadefb3e03",
   "metadata": {},
   "source": [
    "Values with the patern \"CO.\" mean \"county\" so we will fill them with `np.nan`."
   ]
  },
  {
   "cell_type": "code",
   "execution_count": 42,
   "id": "8d67f19e-7fa6-44dd-bbe8-6223c96c4f46",
   "metadata": {},
   "outputs": [
    {
     "data": {
      "text/html": [
       "<div>\n",
       "<style scoped>\n",
       "    .dataframe tbody tr th:only-of-type {\n",
       "        vertical-align: middle;\n",
       "    }\n",
       "\n",
       "    .dataframe tbody tr th {\n",
       "        vertical-align: top;\n",
       "    }\n",
       "\n",
       "    .dataframe thead th {\n",
       "        text-align: right;\n",
       "    }\n",
       "</style>\n",
       "<table border=\"1\" class=\"dataframe\">\n",
       "  <thead>\n",
       "    <tr style=\"text-align: right;\">\n",
       "      <th></th>\n",
       "      <th>postcode</th>\n",
       "      <th>city</th>\n",
       "      <th>town</th>\n",
       "    </tr>\n",
       "  </thead>\n",
       "  <tbody>\n",
       "    <tr>\n",
       "      <th>1459</th>\n",
       "      <td>CO WICKLOW</td>\n",
       "      <td>NaN</td>\n",
       "      <td>NaN</td>\n",
       "    </tr>\n",
       "    <tr>\n",
       "      <th>1810</th>\n",
       "      <td>CO WICKLOW</td>\n",
       "      <td>NaN</td>\n",
       "      <td>NaN</td>\n",
       "    </tr>\n",
       "    <tr>\n",
       "      <th>811</th>\n",
       "      <td>CO WICKLOW</td>\n",
       "      <td>NaN</td>\n",
       "      <td>NaN</td>\n",
       "    </tr>\n",
       "  </tbody>\n",
       "</table>\n",
       "</div>"
      ],
      "text/plain": [
       "        postcode city town\n",
       "1459  CO WICKLOW  NaN  NaN\n",
       "1810  CO WICKLOW  NaN  NaN\n",
       "811   CO WICKLOW  NaN  NaN"
      ]
     },
     "execution_count": 42,
     "metadata": {},
     "output_type": "execute_result"
    }
   ],
   "source": [
    "sale.loc[sale.postcode.str.len() == 10, ['postcode','city','town']].sample(3)"
   ]
  },
  {
   "cell_type": "markdown",
   "id": "a69e70a0-5ccb-4fc3-918a-1d6126f45566",
   "metadata": {
    "tags": []
   },
   "source": [
    "#### Eircode length = 3"
   ]
  },
  {
   "cell_type": "markdown",
   "id": "65a8b2e6-3139-4b9e-8441-10e4f73e5079",
   "metadata": {},
   "source": [
    "We can keep eircodes with lengt equal to three since they contain the routing key and we don't need the unique identifier."
   ]
  },
  {
   "cell_type": "code",
   "execution_count": 43,
   "id": "4419ed9d-a87c-4b01-8e8f-a1b2d1858593",
   "metadata": {},
   "outputs": [
    {
     "data": {
      "text/html": [
       "<div>\n",
       "<style scoped>\n",
       "    .dataframe tbody tr th:only-of-type {\n",
       "        vertical-align: middle;\n",
       "    }\n",
       "\n",
       "    .dataframe tbody tr th {\n",
       "        vertical-align: top;\n",
       "    }\n",
       "\n",
       "    .dataframe thead th {\n",
       "        text-align: right;\n",
       "    }\n",
       "</style>\n",
       "<table border=\"1\" class=\"dataframe\">\n",
       "  <thead>\n",
       "    <tr style=\"text-align: right;\">\n",
       "      <th></th>\n",
       "      <th>postcode</th>\n",
       "    </tr>\n",
       "  </thead>\n",
       "  <tbody>\n",
       "    <tr>\n",
       "      <th>5706</th>\n",
       "      <td>F12</td>\n",
       "    </tr>\n",
       "    <tr>\n",
       "      <th>2929</th>\n",
       "      <td>D04</td>\n",
       "    </tr>\n",
       "    <tr>\n",
       "      <th>5372</th>\n",
       "      <td>D16</td>\n",
       "    </tr>\n",
       "  </tbody>\n",
       "</table>\n",
       "</div>"
      ],
      "text/plain": [
       "     postcode\n",
       "5706      F12\n",
       "2929      D04\n",
       "5372      D16"
      ]
     },
     "execution_count": 43,
     "metadata": {},
     "output_type": "execute_result"
    }
   ],
   "source": [
    "sale.loc[sale.postcode.str.len() == 3, ['postcode']].sample(3)"
   ]
  },
  {
   "cell_type": "markdown",
   "id": "da43fddc-c461-4316-a823-55ffb69ef325",
   "metadata": {
    "tags": []
   },
   "source": [
    "#### Eircode length = 12"
   ]
  },
  {
   "cell_type": "markdown",
   "id": "d06bf9ff-dc86-40f7-be4e-1db6f5833afa",
   "metadata": {},
   "source": [
    "We will fill these ones with `np.nan`."
   ]
  },
  {
   "cell_type": "code",
   "execution_count": 44,
   "id": "9f9bae3d-745f-4bcf-b062-24e77fb68345",
   "metadata": {},
   "outputs": [
    {
     "data": {
      "text/html": [
       "<div>\n",
       "<style scoped>\n",
       "    .dataframe tbody tr th:only-of-type {\n",
       "        vertical-align: middle;\n",
       "    }\n",
       "\n",
       "    .dataframe tbody tr th {\n",
       "        vertical-align: top;\n",
       "    }\n",
       "\n",
       "    .dataframe thead th {\n",
       "        text-align: right;\n",
       "    }\n",
       "</style>\n",
       "<table border=\"1\" class=\"dataframe\">\n",
       "  <thead>\n",
       "    <tr style=\"text-align: right;\">\n",
       "      <th></th>\n",
       "      <th>postcode</th>\n",
       "    </tr>\n",
       "  </thead>\n",
       "  <tbody>\n",
       "    <tr>\n",
       "      <th>514</th>\n",
       "      <td>CO WESTMEATH</td>\n",
       "    </tr>\n",
       "    <tr>\n",
       "      <th>655</th>\n",
       "      <td>CO WESTMEATH</td>\n",
       "    </tr>\n",
       "    <tr>\n",
       "      <th>673</th>\n",
       "      <td>CO WESTMEATH</td>\n",
       "    </tr>\n",
       "    <tr>\n",
       "      <th>1474</th>\n",
       "      <td>CO WESTMEATH</td>\n",
       "    </tr>\n",
       "    <tr>\n",
       "      <th>2253</th>\n",
       "      <td>CO. KILKENNY</td>\n",
       "    </tr>\n",
       "    <tr>\n",
       "      <th>4085</th>\n",
       "      <td>CO. KILKENNY</td>\n",
       "    </tr>\n",
       "    <tr>\n",
       "      <th>6040</th>\n",
       "      <td>CO WESTMEATH</td>\n",
       "    </tr>\n",
       "    <tr>\n",
       "      <th>6108</th>\n",
       "      <td>CO. KILKENNY</td>\n",
       "    </tr>\n",
       "    <tr>\n",
       "      <th>7524</th>\n",
       "      <td>CO WESTMEATH</td>\n",
       "    </tr>\n",
       "  </tbody>\n",
       "</table>\n",
       "</div>"
      ],
      "text/plain": [
       "          postcode\n",
       "514   CO WESTMEATH\n",
       "655   CO WESTMEATH\n",
       "673   CO WESTMEATH\n",
       "1474  CO WESTMEATH\n",
       "2253  CO. KILKENNY\n",
       "4085  CO. KILKENNY\n",
       "6040  CO WESTMEATH\n",
       "6108  CO. KILKENNY\n",
       "7524  CO WESTMEATH"
      ]
     },
     "execution_count": 44,
     "metadata": {},
     "output_type": "execute_result"
    }
   ],
   "source": [
    "sale.loc[sale.postcode.str.len() == 12, ['postcode']]"
   ]
  },
  {
   "cell_type": "markdown",
   "id": "3f0ca43d-92ad-4ee5-8a4a-40dc69be7fb2",
   "metadata": {
    "tags": []
   },
   "source": [
    "#### Eircode length = 11"
   ]
  },
  {
   "cell_type": "markdown",
   "id": "9784a451-95a8-4720-aaf2-8278bfb5721c",
   "metadata": {},
   "source": [
    "We will fill these ones with `np.nan`."
   ]
  },
  {
   "cell_type": "code",
   "execution_count": 45,
   "id": "68291e5e-356d-4ce5-9dbf-b9b01ee06be3",
   "metadata": {},
   "outputs": [
    {
     "data": {
      "text/html": [
       "<div>\n",
       "<style scoped>\n",
       "    .dataframe tbody tr th:only-of-type {\n",
       "        vertical-align: middle;\n",
       "    }\n",
       "\n",
       "    .dataframe tbody tr th {\n",
       "        vertical-align: top;\n",
       "    }\n",
       "\n",
       "    .dataframe thead th {\n",
       "        text-align: right;\n",
       "    }\n",
       "</style>\n",
       "<table border=\"1\" class=\"dataframe\">\n",
       "  <thead>\n",
       "    <tr style=\"text-align: right;\">\n",
       "      <th></th>\n",
       "      <th>postcode</th>\n",
       "    </tr>\n",
       "  </thead>\n",
       "  <tbody>\n",
       "    <tr>\n",
       "      <th>3396</th>\n",
       "      <td>CO. WICKLOW</td>\n",
       "    </tr>\n",
       "    <tr>\n",
       "      <th>6848</th>\n",
       "      <td>CO. WICKLOW</td>\n",
       "    </tr>\n",
       "    <tr>\n",
       "      <th>7361</th>\n",
       "      <td>CO. WICKLOW</td>\n",
       "    </tr>\n",
       "    <tr>\n",
       "      <th>7467</th>\n",
       "      <td>CO. WICKLOW</td>\n",
       "    </tr>\n",
       "  </tbody>\n",
       "</table>\n",
       "</div>"
      ],
      "text/plain": [
       "         postcode\n",
       "3396  CO. WICKLOW\n",
       "6848  CO. WICKLOW\n",
       "7361  CO. WICKLOW\n",
       "7467  CO. WICKLOW"
      ]
     },
     "execution_count": 45,
     "metadata": {},
     "output_type": "execute_result"
    }
   ],
   "source": [
    "sale.loc[sale.postcode.str.len() == 11, ['postcode']]"
   ]
  },
  {
   "cell_type": "markdown",
   "id": "e6d1c08d-c28a-4cd6-ab61-76fda8cdf91a",
   "metadata": {
    "tags": []
   },
   "source": [
    "#### Eircode length = 6"
   ]
  },
  {
   "cell_type": "markdown",
   "id": "fda3e6e5-0f1f-4908-80d4-b70cc5a29042",
   "metadata": {},
   "source": [
    "We will take the eircode from those that have it and keep those equal to `DUBLIN` as they are."
   ]
  },
  {
   "cell_type": "code",
   "execution_count": 46,
   "id": "63695e07-8941-4755-8fa7-48ddb5cb0855",
   "metadata": {},
   "outputs": [
    {
     "data": {
      "text/html": [
       "<div>\n",
       "<style scoped>\n",
       "    .dataframe tbody tr th:only-of-type {\n",
       "        vertical-align: middle;\n",
       "    }\n",
       "\n",
       "    .dataframe tbody tr th {\n",
       "        vertical-align: top;\n",
       "    }\n",
       "\n",
       "    .dataframe thead th {\n",
       "        text-align: right;\n",
       "    }\n",
       "</style>\n",
       "<table border=\"1\" class=\"dataframe\">\n",
       "  <thead>\n",
       "    <tr style=\"text-align: right;\">\n",
       "      <th></th>\n",
       "      <th>postcode</th>\n",
       "    </tr>\n",
       "  </thead>\n",
       "  <tbody>\n",
       "    <tr>\n",
       "      <th>365</th>\n",
       "      <td>H91 DV</td>\n",
       "    </tr>\n",
       "    <tr>\n",
       "      <th>527</th>\n",
       "      <td>DUBLIN</td>\n",
       "    </tr>\n",
       "    <tr>\n",
       "      <th>1173</th>\n",
       "      <td>DUBLIN</td>\n",
       "    </tr>\n",
       "  </tbody>\n",
       "</table>\n",
       "</div>"
      ],
      "text/plain": [
       "     postcode\n",
       "365    H91 DV\n",
       "527    DUBLIN\n",
       "1173   DUBLIN"
      ]
     },
     "execution_count": 46,
     "metadata": {},
     "output_type": "execute_result"
    }
   ],
   "source": [
    "sale.loc[sale.postcode.str.len() == 6, ['postcode']].head(3)"
   ]
  },
  {
   "cell_type": "markdown",
   "id": "9421ae1e-b849-49a3-905b-d49824927e05",
   "metadata": {
    "tags": []
   },
   "source": [
    "#### Eircode length = 4"
   ]
  },
  {
   "cell_type": "markdown",
   "id": "d38f6a62-a39a-426d-bee8-8beaa52d5db0",
   "metadata": {},
   "source": [
    "We will fill these ones with `np.nan`."
   ]
  },
  {
   "cell_type": "code",
   "execution_count": 47,
   "id": "df5f026d-d116-405e-a721-dbff6aa41627",
   "metadata": {},
   "outputs": [
    {
     "data": {
      "text/html": [
       "<div>\n",
       "<style scoped>\n",
       "    .dataframe tbody tr th:only-of-type {\n",
       "        vertical-align: middle;\n",
       "    }\n",
       "\n",
       "    .dataframe tbody tr th {\n",
       "        vertical-align: top;\n",
       "    }\n",
       "\n",
       "    .dataframe thead th {\n",
       "        text-align: right;\n",
       "    }\n",
       "</style>\n",
       "<table border=\"1\" class=\"dataframe\">\n",
       "  <thead>\n",
       "    <tr style=\"text-align: right;\">\n",
       "      <th></th>\n",
       "      <th>postcode</th>\n",
       "    </tr>\n",
       "  </thead>\n",
       "  <tbody>\n",
       "    <tr>\n",
       "      <th>1060</th>\n",
       "      <td>0000</td>\n",
       "    </tr>\n",
       "    <tr>\n",
       "      <th>1891</th>\n",
       "      <td>0000</td>\n",
       "    </tr>\n",
       "    <tr>\n",
       "      <th>2302</th>\n",
       "      <td>0000</td>\n",
       "    </tr>\n",
       "  </tbody>\n",
       "</table>\n",
       "</div>"
      ],
      "text/plain": [
       "     postcode\n",
       "1060     0000\n",
       "1891     0000\n",
       "2302     0000"
      ]
     },
     "execution_count": 47,
     "metadata": {},
     "output_type": "execute_result"
    }
   ],
   "source": [
    "sale.loc[sale.postcode.str.len() == 4, ['postcode']]"
   ]
  },
  {
   "cell_type": "markdown",
   "id": "28e61f41-b924-4f07-ac8f-3b5070e18ce7",
   "metadata": {
    "tags": []
   },
   "source": [
    "#### Eircode length = 13"
   ]
  },
  {
   "cell_type": "markdown",
   "id": "7a8c7a55-aab8-40f2-96d1-d4a5b62fc22e",
   "metadata": {},
   "source": [
    "We will fill these ones with `np.nan`."
   ]
  },
  {
   "cell_type": "code",
   "execution_count": 48,
   "id": "b560a32f-928e-4cbb-b36c-adcb248776f8",
   "metadata": {},
   "outputs": [
    {
     "data": {
      "text/html": [
       "<div>\n",
       "<style scoped>\n",
       "    .dataframe tbody tr th:only-of-type {\n",
       "        vertical-align: middle;\n",
       "    }\n",
       "\n",
       "    .dataframe tbody tr th {\n",
       "        vertical-align: top;\n",
       "    }\n",
       "\n",
       "    .dataframe thead th {\n",
       "        text-align: right;\n",
       "    }\n",
       "</style>\n",
       "<table border=\"1\" class=\"dataframe\">\n",
       "  <thead>\n",
       "    <tr style=\"text-align: right;\">\n",
       "      <th></th>\n",
       "      <th>postcode</th>\n",
       "    </tr>\n",
       "  </thead>\n",
       "  <tbody>\n",
       "    <tr>\n",
       "      <th>7044</th>\n",
       "      <td>CO. ROSCOMMON</td>\n",
       "    </tr>\n",
       "    <tr>\n",
       "      <th>7155</th>\n",
       "      <td>CO. ROSCOMMON</td>\n",
       "    </tr>\n",
       "  </tbody>\n",
       "</table>\n",
       "</div>"
      ],
      "text/plain": [
       "           postcode\n",
       "7044  CO. ROSCOMMON\n",
       "7155  CO. ROSCOMMON"
      ]
     },
     "execution_count": 48,
     "metadata": {},
     "output_type": "execute_result"
    }
   ],
   "source": [
    "sale.loc[sale.postcode.str.len() == 13, ['postcode']]"
   ]
  },
  {
   "cell_type": "markdown",
   "id": "637bcd61-136f-4aa5-9bd0-e395ac17b422",
   "metadata": {
    "tags": []
   },
   "source": [
    "#### Eircode length = 2"
   ]
  },
  {
   "cell_type": "markdown",
   "id": "13df6f76-dbe8-4906-a3d5-73d1484151dc",
   "metadata": {},
   "source": [
    "We will fix all these values since they are from Dublin and have the postal district value."
   ]
  },
  {
   "cell_type": "code",
   "execution_count": 49,
   "id": "b7c7a441-0c5e-46f7-9b9d-91db7baf501c",
   "metadata": {},
   "outputs": [
    {
     "data": {
      "text/html": [
       "<div>\n",
       "<style scoped>\n",
       "    .dataframe tbody tr th:only-of-type {\n",
       "        vertical-align: middle;\n",
       "    }\n",
       "\n",
       "    .dataframe tbody tr th {\n",
       "        vertical-align: top;\n",
       "    }\n",
       "\n",
       "    .dataframe thead th {\n",
       "        text-align: right;\n",
       "    }\n",
       "</style>\n",
       "<table border=\"1\" class=\"dataframe\">\n",
       "  <thead>\n",
       "    <tr style=\"text-align: right;\">\n",
       "      <th></th>\n",
       "      <th>postcode</th>\n",
       "      <th>city</th>\n",
       "    </tr>\n",
       "  </thead>\n",
       "  <tbody>\n",
       "    <tr>\n",
       "      <th>1266</th>\n",
       "      <td>D5</td>\n",
       "      <td>Dublin</td>\n",
       "    </tr>\n",
       "    <tr>\n",
       "      <th>4933</th>\n",
       "      <td>D5</td>\n",
       "      <td>Dublin</td>\n",
       "    </tr>\n",
       "    <tr>\n",
       "      <th>2185</th>\n",
       "      <td>12</td>\n",
       "      <td>Dublin</td>\n",
       "    </tr>\n",
       "  </tbody>\n",
       "</table>\n",
       "</div>"
      ],
      "text/plain": [
       "     postcode    city\n",
       "1266       D5  Dublin\n",
       "4933       D5  Dublin\n",
       "2185       12  Dublin"
      ]
     },
     "execution_count": 49,
     "metadata": {},
     "output_type": "execute_result"
    }
   ],
   "source": [
    "sale.loc[sale.postcode.str.len() == 2, ['postcode','city']].sample(3)"
   ]
  },
  {
   "cell_type": "markdown",
   "id": "99c12121-13ec-4e54-9a6f-6d7388535c8f",
   "metadata": {
    "tags": []
   },
   "source": [
    "#### Homogenize Eircode"
   ]
  },
  {
   "cell_type": "markdown",
   "id": "84233417-9235-46d3-8c21-c8485c60f017",
   "metadata": {},
   "source": [
    "Now we can use the `eircode_homogenize()` function to homogenize the `postcode` column. This function applies the `homogenize()` function to the `postcode` column."
   ]
  },
  {
   "cell_type": "code",
   "execution_count": 50,
   "id": "014e8281-11d2-4965-8b4f-4bb3474f0676",
   "metadata": {},
   "outputs": [],
   "source": [
    "sale = eircode_homogenize(sale)"
   ]
  },
  {
   "cell_type": "markdown",
   "id": "2397aca1-73fc-4377-9ce6-73560ccb3f6b",
   "metadata": {},
   "source": [
    "Let's check whether the function results are as expected."
   ]
  },
  {
   "cell_type": "code",
   "execution_count": 51,
   "id": "c5a78919-e2d1-4c8b-a5cd-47439a56a0a4",
   "metadata": {},
   "outputs": [
    {
     "data": {
      "text/plain": [
       "8.0    6344\n",
       "NaN    1189\n",
       "3.0     118\n",
       "6.0      10\n",
       "Name: postcode, dtype: int64"
      ]
     },
     "execution_count": 51,
     "metadata": {},
     "output_type": "execute_result"
    }
   ],
   "source": [
    "sale['postcode'].str.len().value_counts(dropna=False)"
   ]
  },
  {
   "cell_type": "markdown",
   "id": "40506711-436e-4f2b-b2e5-35a437003498",
   "metadata": {
    "tags": []
   },
   "source": [
    "## Adding Geonames Page Information To Sale DataFrame"
   ]
  },
  {
   "cell_type": "code",
   "execution_count": 52,
   "id": "b3d67469-0331-45d4-8b68-b65c9c144826",
   "metadata": {},
   "outputs": [
    {
     "name": "stdout",
     "output_type": "stream",
     "text": [
      "Shape before dropping: (7661, 32)\n",
      "Shape after dropping: (7661, 36)\n",
      "----------\n",
      "Difference: 4 columns\n"
     ]
    }
   ],
   "source": [
    "sale = add_location(df=sale, geonames_df=geonames_df)"
   ]
  },
  {
   "cell_type": "code",
   "execution_count": 53,
   "id": "89a7d7ac-48c2-425a-94c2-cc8bbe283e83",
   "metadata": {},
   "outputs": [
    {
     "data": {
      "text/html": [
       "<div>\n",
       "<style scoped>\n",
       "    .dataframe tbody tr th:only-of-type {\n",
       "        vertical-align: middle;\n",
       "    }\n",
       "\n",
       "    .dataframe tbody tr th {\n",
       "        vertical-align: top;\n",
       "    }\n",
       "\n",
       "    .dataframe thead th {\n",
       "        text-align: right;\n",
       "    }\n",
       "</style>\n",
       "<table border=\"1\" class=\"dataframe\">\n",
       "  <thead>\n",
       "    <tr style=\"text-align: right;\">\n",
       "      <th></th>\n",
       "      <th>Absolute</th>\n",
       "      <th>Relative</th>\n",
       "    </tr>\n",
       "  </thead>\n",
       "  <tbody>\n",
       "    <tr>\n",
       "      <th>daft_id</th>\n",
       "      <td>0</td>\n",
       "      <td>0.000000</td>\n",
       "    </tr>\n",
       "    <tr>\n",
       "      <th>url</th>\n",
       "      <td>0</td>\n",
       "      <td>0.000000</td>\n",
       "    </tr>\n",
       "    <tr>\n",
       "      <th>name</th>\n",
       "      <td>0</td>\n",
       "      <td>0.000000</td>\n",
       "    </tr>\n",
       "    <tr>\n",
       "      <th>price</th>\n",
       "      <td>0</td>\n",
       "      <td>0.000000</td>\n",
       "    </tr>\n",
       "    <tr>\n",
       "      <th>sale_type</th>\n",
       "      <td>0</td>\n",
       "      <td>0.000000</td>\n",
       "    </tr>\n",
       "    <tr>\n",
       "      <th>floor_area</th>\n",
       "      <td>0</td>\n",
       "      <td>0.000000</td>\n",
       "    </tr>\n",
       "    <tr>\n",
       "      <th>psr</th>\n",
       "      <td>16</td>\n",
       "      <td>0.002089</td>\n",
       "    </tr>\n",
       "    <tr>\n",
       "      <th>ber</th>\n",
       "      <td>195</td>\n",
       "      <td>0.025454</td>\n",
       "    </tr>\n",
       "    <tr>\n",
       "      <th>entered_renewed</th>\n",
       "      <td>0</td>\n",
       "      <td>0.000000</td>\n",
       "    </tr>\n",
       "    <tr>\n",
       "      <th>views</th>\n",
       "      <td>0</td>\n",
       "      <td>0.000000</td>\n",
       "    </tr>\n",
       "    <tr>\n",
       "      <th>type_house</th>\n",
       "      <td>487</td>\n",
       "      <td>0.063569</td>\n",
       "    </tr>\n",
       "    <tr>\n",
       "      <th>type</th>\n",
       "      <td>0</td>\n",
       "      <td>0.000000</td>\n",
       "    </tr>\n",
       "    <tr>\n",
       "      <th>scraping_date</th>\n",
       "      <td>0</td>\n",
       "      <td>0.000000</td>\n",
       "    </tr>\n",
       "    <tr>\n",
       "      <th>description</th>\n",
       "      <td>1</td>\n",
       "      <td>0.000131</td>\n",
       "    </tr>\n",
       "    <tr>\n",
       "      <th>latitude</th>\n",
       "      <td>0</td>\n",
       "      <td>0.000000</td>\n",
       "    </tr>\n",
       "    <tr>\n",
       "      <th>longitude</th>\n",
       "      <td>0</td>\n",
       "      <td>0.000000</td>\n",
       "    </tr>\n",
       "    <tr>\n",
       "      <th>bedroom</th>\n",
       "      <td>0</td>\n",
       "      <td>0.000000</td>\n",
       "    </tr>\n",
       "    <tr>\n",
       "      <th>bathroom</th>\n",
       "      <td>0</td>\n",
       "      <td>0.000000</td>\n",
       "    </tr>\n",
       "    <tr>\n",
       "      <th>plus_info</th>\n",
       "      <td>0</td>\n",
       "      <td>0.000000</td>\n",
       "    </tr>\n",
       "    <tr>\n",
       "      <th>country_code</th>\n",
       "      <td>0</td>\n",
       "      <td>0.000000</td>\n",
       "    </tr>\n",
       "    <tr>\n",
       "      <th>country</th>\n",
       "      <td>0</td>\n",
       "      <td>0.000000</td>\n",
       "    </tr>\n",
       "    <tr>\n",
       "      <th>postcode</th>\n",
       "      <td>1189</td>\n",
       "      <td>0.155202</td>\n",
       "    </tr>\n",
       "    <tr>\n",
       "      <th>state_district</th>\n",
       "      <td>394</td>\n",
       "      <td>0.051429</td>\n",
       "    </tr>\n",
       "    <tr>\n",
       "      <th>county</th>\n",
       "      <td>698</td>\n",
       "      <td>0.091111</td>\n",
       "    </tr>\n",
       "    <tr>\n",
       "      <th>municipality</th>\n",
       "      <td>6392</td>\n",
       "      <td>0.834356</td>\n",
       "    </tr>\n",
       "    <tr>\n",
       "      <th>city</th>\n",
       "      <td>5644</td>\n",
       "      <td>0.736718</td>\n",
       "    </tr>\n",
       "    <tr>\n",
       "      <th>town</th>\n",
       "      <td>6551</td>\n",
       "      <td>0.855110</td>\n",
       "    </tr>\n",
       "    <tr>\n",
       "      <th>city_district</th>\n",
       "      <td>363</td>\n",
       "      <td>0.047383</td>\n",
       "    </tr>\n",
       "    <tr>\n",
       "      <th>locality</th>\n",
       "      <td>7645</td>\n",
       "      <td>0.997911</td>\n",
       "    </tr>\n",
       "    <tr>\n",
       "      <th>suburb</th>\n",
       "      <td>5905</td>\n",
       "      <td>0.770787</td>\n",
       "    </tr>\n",
       "    <tr>\n",
       "      <th>road</th>\n",
       "      <td>1923</td>\n",
       "      <td>0.251012</td>\n",
       "    </tr>\n",
       "    <tr>\n",
       "      <th>house_number</th>\n",
       "      <td>6247</td>\n",
       "      <td>0.815429</td>\n",
       "    </tr>\n",
       "    <tr>\n",
       "      <th>place</th>\n",
       "      <td>1243</td>\n",
       "      <td>0.162250</td>\n",
       "    </tr>\n",
       "    <tr>\n",
       "      <th>code</th>\n",
       "      <td>1243</td>\n",
       "      <td>0.162250</td>\n",
       "    </tr>\n",
       "    <tr>\n",
       "      <th>admin1</th>\n",
       "      <td>1243</td>\n",
       "      <td>0.162250</td>\n",
       "    </tr>\n",
       "    <tr>\n",
       "      <th>place_coordinates</th>\n",
       "      <td>1243</td>\n",
       "      <td>0.162250</td>\n",
       "    </tr>\n",
       "  </tbody>\n",
       "</table>\n",
       "</div>"
      ],
      "text/plain": [
       "                   Absolute  Relative\n",
       "daft_id                   0  0.000000\n",
       "url                       0  0.000000\n",
       "name                      0  0.000000\n",
       "price                     0  0.000000\n",
       "sale_type                 0  0.000000\n",
       "floor_area                0  0.000000\n",
       "psr                      16  0.002089\n",
       "ber                     195  0.025454\n",
       "entered_renewed           0  0.000000\n",
       "views                     0  0.000000\n",
       "type_house              487  0.063569\n",
       "type                      0  0.000000\n",
       "scraping_date             0  0.000000\n",
       "description               1  0.000131\n",
       "latitude                  0  0.000000\n",
       "longitude                 0  0.000000\n",
       "bedroom                   0  0.000000\n",
       "bathroom                  0  0.000000\n",
       "plus_info                 0  0.000000\n",
       "country_code              0  0.000000\n",
       "country                   0  0.000000\n",
       "postcode               1189  0.155202\n",
       "state_district          394  0.051429\n",
       "county                  698  0.091111\n",
       "municipality           6392  0.834356\n",
       "city                   5644  0.736718\n",
       "town                   6551  0.855110\n",
       "city_district           363  0.047383\n",
       "locality               7645  0.997911\n",
       "suburb                 5905  0.770787\n",
       "road                   1923  0.251012\n",
       "house_number           6247  0.815429\n",
       "place                  1243  0.162250\n",
       "code                   1243  0.162250\n",
       "admin1                 1243  0.162250\n",
       "place_coordinates      1243  0.162250"
      ]
     },
     "execution_count": 53,
     "metadata": {},
     "output_type": "execute_result"
    }
   ],
   "source": [
    "missing_values(sale)"
   ]
  },
  {
   "cell_type": "markdown",
   "id": "5c6acf96-eee7-4c51-9af4-6c95d4063140",
   "metadata": {},
   "source": [
    "Let's drop those columns that won't be useful in the future."
   ]
  },
  {
   "cell_type": "code",
   "execution_count": 54,
   "id": "2f238c2e-b813-4624-af42-0c16767512e6",
   "metadata": {},
   "outputs": [],
   "source": [
    "sale.drop(columns=['country_code', 'country', 'county', 'municipality', \n",
    "                   'city', 'town', 'locality', 'suburb', 'road', 'house_number', \n",
    "                   'admin1', 'place_coordinates'], inplace=True)"
   ]
  },
  {
   "cell_type": "code",
   "execution_count": 55,
   "id": "2ecb14af-63f0-42fe-b8eb-83dd696a9eb2",
   "metadata": {},
   "outputs": [],
   "source": [
    "sale.to_csv('data/sale_post_geosp_fe.csv', \n",
    "                 sep=',', index=False)"
   ]
  }
 ],
 "metadata": {
  "kernelspec": {
   "display_name": "Python 3 (ipykernel)",
   "language": "python",
   "name": "python3"
  },
  "language_info": {
   "codemirror_mode": {
    "name": "ipython",
    "version": 3
   },
   "file_extension": ".py",
   "mimetype": "text/x-python",
   "name": "python",
   "nbconvert_exporter": "python",
   "pygments_lexer": "ipython3",
   "version": "3.7.0"
  }
 },
 "nbformat": 4,
 "nbformat_minor": 5
}
