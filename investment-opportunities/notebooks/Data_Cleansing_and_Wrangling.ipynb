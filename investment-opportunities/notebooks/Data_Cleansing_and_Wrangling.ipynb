{
 "cells": [
  {
   "cell_type": "markdown",
   "id": "784d05a6-d076-41af-bd27-1cf4c09a94d4",
   "metadata": {
    "tags": []
   },
   "source": [
    "# Import Libraries and Set Options"
   ]
  },
  {
   "cell_type": "code",
   "execution_count": 1,
   "id": "baee3aeb-1780-4c57-b74f-2da0c07a9982",
   "metadata": {},
   "outputs": [],
   "source": [
    "import numpy as np\n",
    "import pandas as pd\n",
    "import matplotlib.pyplot as plt\n",
    "\n",
    "import sqlite3\n",
    "import collections\n",
    "\n",
    "from daftpy.daftprep import (get_db, num_perc, process_price, process_coordinates, drop_coord_outliers, \n",
    "                             drop_floor_area, floor_area_wragling, process_floor_area, \n",
    "                             drop_info, process_info, process_views, process_rooms)\n",
    "\n",
    "from daftpy.daftfeanalysis import missing_values"
   ]
  },
  {
   "cell_type": "code",
   "execution_count": 2,
   "id": "313e192f-3157-415e-b586-eae61c434588",
   "metadata": {},
   "outputs": [],
   "source": [
    "pd.set_option('display.max_rows', None)\n",
    "pd.set_option('display.max_columns', None)\n",
    "plt.style.use('seaborn')"
   ]
  },
  {
   "cell_type": "markdown",
   "id": "f5d452ad-34ac-4114-ab18-63048b806453",
   "metadata": {
    "tags": []
   },
   "source": [
    "# Load Data"
   ]
  },
  {
   "cell_type": "markdown",
   "id": "914423be-e757-4b14-9ef9-636e75ece002",
   "metadata": {},
   "source": [
    "We load the information through a fuction which drops the advertiser's personal information. "
   ]
  },
  {
   "cell_type": "code",
   "execution_count": 3,
   "id": "3d51039a-844a-44d4-8162-6cd561c67232",
   "metadata": {},
   "outputs": [],
   "source": [
    "sale = get_db(dbname='2021-11-25.db')"
   ]
  },
  {
   "cell_type": "code",
   "execution_count": 4,
   "id": "a346a762-c60c-4479-a5af-49cdd3e3c0b2",
   "metadata": {},
   "outputs": [
    {
     "name": "stdout",
     "output_type": "stream",
     "text": [
      "<class 'pandas.core.frame.DataFrame'>\n",
      "RangeIndex: 15391 entries, 0 to 15390\n",
      "Data columns (total 18 columns):\n",
      " #   Column                        Non-Null Count  Dtype \n",
      "---  ------                        --------------  ----- \n",
      " 0   daft_id                       15391 non-null  object\n",
      " 1   item_id                       15391 non-null  object\n",
      " 2   url                           15391 non-null  object\n",
      " 3   name                          15113 non-null  object\n",
      " 4   price                         15113 non-null  object\n",
      " 5   info                          15113 non-null  object\n",
      " 6   sale_type                     15106 non-null  object\n",
      " 7   floor_area                    15106 non-null  object\n",
      " 8   psr                           15311 non-null  object\n",
      " 9   ber                           11649 non-null  object\n",
      " 10  entered_renewed               15391 non-null  object\n",
      " 11  views                         15391 non-null  object\n",
      " 12  type_house                    11269 non-null  object\n",
      " 13  energy_performance_indicator  5693 non-null   object\n",
      " 14  coordinates                   15391 non-null  object\n",
      " 15  type                          15391 non-null  object\n",
      " 16  scraping_date                 15391 non-null  object\n",
      " 17  description                   15389 non-null  object\n",
      "dtypes: object(18)\n",
      "memory usage: 2.1+ MB\n"
     ]
    }
   ],
   "source": [
    "sale.info()"
   ]
  },
  {
   "cell_type": "markdown",
   "id": "ec9fa2e0-cdaf-499a-acfc-0f57574e54aa",
   "metadata": {
    "tags": []
   },
   "source": [
    "# Check Missing Values and Duplicates"
   ]
  },
  {
   "cell_type": "code",
   "execution_count": 5,
   "id": "e07becae-74c1-49c5-abf3-48ee012c4114",
   "metadata": {},
   "outputs": [
    {
     "data": {
      "text/html": [
       "<div>\n",
       "<style scoped>\n",
       "    .dataframe tbody tr th:only-of-type {\n",
       "        vertical-align: middle;\n",
       "    }\n",
       "\n",
       "    .dataframe tbody tr th {\n",
       "        vertical-align: top;\n",
       "    }\n",
       "\n",
       "    .dataframe thead th {\n",
       "        text-align: right;\n",
       "    }\n",
       "</style>\n",
       "<table border=\"1\" class=\"dataframe\">\n",
       "  <thead>\n",
       "    <tr style=\"text-align: right;\">\n",
       "      <th></th>\n",
       "      <th>Absolute</th>\n",
       "      <th>Relative</th>\n",
       "    </tr>\n",
       "  </thead>\n",
       "  <tbody>\n",
       "    <tr>\n",
       "      <th>daft_id</th>\n",
       "      <td>0</td>\n",
       "      <td>0.000000</td>\n",
       "    </tr>\n",
       "    <tr>\n",
       "      <th>item_id</th>\n",
       "      <td>0</td>\n",
       "      <td>0.000000</td>\n",
       "    </tr>\n",
       "    <tr>\n",
       "      <th>url</th>\n",
       "      <td>0</td>\n",
       "      <td>0.000000</td>\n",
       "    </tr>\n",
       "    <tr>\n",
       "      <th>name</th>\n",
       "      <td>278</td>\n",
       "      <td>0.018063</td>\n",
       "    </tr>\n",
       "    <tr>\n",
       "      <th>price</th>\n",
       "      <td>278</td>\n",
       "      <td>0.018063</td>\n",
       "    </tr>\n",
       "    <tr>\n",
       "      <th>info</th>\n",
       "      <td>278</td>\n",
       "      <td>0.018063</td>\n",
       "    </tr>\n",
       "    <tr>\n",
       "      <th>sale_type</th>\n",
       "      <td>285</td>\n",
       "      <td>0.018517</td>\n",
       "    </tr>\n",
       "    <tr>\n",
       "      <th>floor_area</th>\n",
       "      <td>285</td>\n",
       "      <td>0.018517</td>\n",
       "    </tr>\n",
       "    <tr>\n",
       "      <th>psr</th>\n",
       "      <td>80</td>\n",
       "      <td>0.005198</td>\n",
       "    </tr>\n",
       "    <tr>\n",
       "      <th>ber</th>\n",
       "      <td>3742</td>\n",
       "      <td>0.243129</td>\n",
       "    </tr>\n",
       "    <tr>\n",
       "      <th>entered_renewed</th>\n",
       "      <td>0</td>\n",
       "      <td>0.000000</td>\n",
       "    </tr>\n",
       "    <tr>\n",
       "      <th>views</th>\n",
       "      <td>0</td>\n",
       "      <td>0.000000</td>\n",
       "    </tr>\n",
       "    <tr>\n",
       "      <th>type_house</th>\n",
       "      <td>4122</td>\n",
       "      <td>0.267819</td>\n",
       "    </tr>\n",
       "    <tr>\n",
       "      <th>energy_performance_indicator</th>\n",
       "      <td>9698</td>\n",
       "      <td>0.630109</td>\n",
       "    </tr>\n",
       "    <tr>\n",
       "      <th>coordinates</th>\n",
       "      <td>0</td>\n",
       "      <td>0.000000</td>\n",
       "    </tr>\n",
       "    <tr>\n",
       "      <th>type</th>\n",
       "      <td>0</td>\n",
       "      <td>0.000000</td>\n",
       "    </tr>\n",
       "    <tr>\n",
       "      <th>scraping_date</th>\n",
       "      <td>0</td>\n",
       "      <td>0.000000</td>\n",
       "    </tr>\n",
       "    <tr>\n",
       "      <th>description</th>\n",
       "      <td>2</td>\n",
       "      <td>0.000130</td>\n",
       "    </tr>\n",
       "  </tbody>\n",
       "</table>\n",
       "</div>"
      ],
      "text/plain": [
       "                              Absolute  Relative\n",
       "daft_id                              0  0.000000\n",
       "item_id                              0  0.000000\n",
       "url                                  0  0.000000\n",
       "name                               278  0.018063\n",
       "price                              278  0.018063\n",
       "info                               278  0.018063\n",
       "sale_type                          285  0.018517\n",
       "floor_area                         285  0.018517\n",
       "psr                                 80  0.005198\n",
       "ber                               3742  0.243129\n",
       "entered_renewed                      0  0.000000\n",
       "views                                0  0.000000\n",
       "type_house                        4122  0.267819\n",
       "energy_performance_indicator      9698  0.630109\n",
       "coordinates                          0  0.000000\n",
       "type                                 0  0.000000\n",
       "scraping_date                        0  0.000000\n",
       "description                          2  0.000130"
      ]
     },
     "execution_count": 5,
     "metadata": {},
     "output_type": "execute_result"
    }
   ],
   "source": [
    "# Check missing values in absolute and relative terms\n",
    "missing_values(sale)"
   ]
  },
  {
   "cell_type": "markdown",
   "id": "a13b144b-6b1c-456a-88de-4685e089acd1",
   "metadata": {},
   "source": [
    "The feature `energy_performance_indicator` has too many missing values, thus we should beware of them.\n",
    "\n",
    "|Feature|% missing values|\n",
    "|:---:|:---:|\n",
    "|energy_performance_indicator|63|\n",
    "\n",
    "As it has such a high percentage of missing values and it doesn't appear to be a critical feature we can drop it.\n",
    "\n",
    "We shouldn't have any duplicated listing thanks to the *DuplicatesPipeline* implemented in the Scrapy project."
   ]
  },
  {
   "cell_type": "code",
   "execution_count": 6,
   "id": "b851501e-239d-4cec-8e8f-eab730d593c4",
   "metadata": {},
   "outputs": [
    {
     "data": {
      "text/plain": [
       "0"
      ]
     },
     "execution_count": 6,
     "metadata": {},
     "output_type": "execute_result"
    }
   ],
   "source": [
    "sale.duplicated(keep=False).sum()"
   ]
  },
  {
   "cell_type": "code",
   "execution_count": 7,
   "id": "07a4234c-5b04-43ef-87b7-f7296c250662",
   "metadata": {},
   "outputs": [
    {
     "data": {
      "text/html": [
       "<div>\n",
       "<style scoped>\n",
       "    .dataframe tbody tr th:only-of-type {\n",
       "        vertical-align: middle;\n",
       "    }\n",
       "\n",
       "    .dataframe tbody tr th {\n",
       "        vertical-align: top;\n",
       "    }\n",
       "\n",
       "    .dataframe thead th {\n",
       "        text-align: right;\n",
       "    }\n",
       "</style>\n",
       "<table border=\"1\" class=\"dataframe\">\n",
       "  <thead>\n",
       "    <tr style=\"text-align: right;\">\n",
       "      <th></th>\n",
       "      <th>daft_id</th>\n",
       "      <th>item_id</th>\n",
       "      <th>url</th>\n",
       "      <th>name</th>\n",
       "      <th>price</th>\n",
       "      <th>info</th>\n",
       "      <th>sale_type</th>\n",
       "      <th>floor_area</th>\n",
       "      <th>psr</th>\n",
       "      <th>ber</th>\n",
       "      <th>entered_renewed</th>\n",
       "      <th>views</th>\n",
       "      <th>type_house</th>\n",
       "      <th>energy_performance_indicator</th>\n",
       "      <th>coordinates</th>\n",
       "      <th>type</th>\n",
       "      <th>scraping_date</th>\n",
       "      <th>description</th>\n",
       "    </tr>\n",
       "  </thead>\n",
       "  <tbody>\n",
       "    <tr>\n",
       "      <th>4698</th>\n",
       "      <td>16691690</td>\n",
       "      <td>3592615</td>\n",
       "      <td>https://www.daft.ie/for-sale/bungalow-rathcono...</td>\n",
       "      <td>Rathconor, Four Mile House, Co. Roscommon</td>\n",
       "      <td>€250,000</td>\n",
       "      <td>4 Bed,3 Bath,140 m²,Bungalow</td>\n",
       "      <td>For Sale by Private Treaty</td>\n",
       "      <td>140 m²</td>\n",
       "      <td>004420</td>\n",
       "      <td>C3</td>\n",
       "      <td>24/11/2021</td>\n",
       "      <td>1,889</td>\n",
       "      <td>house</td>\n",
       "      <td>NaN</td>\n",
       "      <td>53.685099+-8.229881</td>\n",
       "      <td>buy</td>\n",
       "      <td>2021-11-25</td>\n",
       "      <td>Property Partners Earley present to market a 4...</td>\n",
       "    </tr>\n",
       "  </tbody>\n",
       "</table>\n",
       "</div>"
      ],
      "text/plain": [
       "       daft_id  item_id                                                url  \\\n",
       "4698  16691690  3592615  https://www.daft.ie/for-sale/bungalow-rathcono...   \n",
       "\n",
       "                                           name     price  \\\n",
       "4698  Rathconor, Four Mile House, Co. Roscommon  €250,000   \n",
       "\n",
       "                              info                   sale_type floor_area  \\\n",
       "4698  4 Bed,3 Bath,140 m²,Bungalow  For Sale by Private Treaty     140 m²   \n",
       "\n",
       "         psr ber entered_renewed  views type_house  \\\n",
       "4698  004420  C3      24/11/2021  1,889      house   \n",
       "\n",
       "     energy_performance_indicator          coordinates type scraping_date  \\\n",
       "4698                          NaN  53.685099+-8.229881  buy    2021-11-25   \n",
       "\n",
       "                                            description  \n",
       "4698  Property Partners Earley present to market a 4...  "
      ]
     },
     "execution_count": 7,
     "metadata": {},
     "output_type": "execute_result"
    }
   ],
   "source": [
    "sale.sample()"
   ]
  },
  {
   "cell_type": "markdown",
   "id": "bfa56211-8ed5-4058-a428-f5c21b96d390",
   "metadata": {},
   "source": [
    "Next, let's start the cleansing and wrangling tasks. We will need cleaned prices and other features if we want to analize them."
   ]
  },
  {
   "cell_type": "markdown",
   "id": "669ca13d-c358-4c54-8f1a-c1cd9f116599",
   "metadata": {
    "tags": []
   },
   "source": [
    "# Energy Performance Indicator"
   ]
  },
  {
   "cell_type": "markdown",
   "id": "80664749-a19b-43b4-92a9-b468bb6e3b16",
   "metadata": {},
   "source": [
    "We start dropping `energy_performance_indicator` column as we concluded above."
   ]
  },
  {
   "cell_type": "code",
   "execution_count": 8,
   "id": "03bff320-a9bd-4345-8c04-974842988493",
   "metadata": {},
   "outputs": [
    {
     "name": "stdout",
     "output_type": "stream",
     "text": [
      "Before dropping: (15391, 18)\n",
      "After dropping: (15391, 17)\n"
     ]
    }
   ],
   "source": [
    "print(f'Before dropping: {sale.shape}')\n",
    "sale.drop(columns=['energy_performance_indicator'], inplace=True)\n",
    "print(f'After dropping: {sale.shape}')"
   ]
  },
  {
   "cell_type": "markdown",
   "id": "c8dae39f-9572-4a84-a769-c76d4c687109",
   "metadata": {
    "tags": []
   },
   "source": [
    "# Price"
   ]
  },
  {
   "cell_type": "markdown",
   "id": "16355217-a723-4a81-a76f-bfc70444fcc2",
   "metadata": {},
   "source": [
    "We have strange data points in the column. Let's investigate the different structures we can see:"
   ]
  },
  {
   "cell_type": "code",
   "execution_count": 9,
   "id": "063d796d-0454-48d6-8b9e-2f895740a6d6",
   "metadata": {
    "tags": []
   },
   "outputs": [],
   "source": [
    "# sale['price'].value_counts()"
   ]
  },
  {
   "cell_type": "code",
   "execution_count": 10,
   "id": "9948116d-f680-4ed8-be63-9430fa2d15a2",
   "metadata": {
    "tags": []
   },
   "outputs": [
    {
     "data": {
      "text/plain": [
       "0                         €549,000\n",
       "8                    AMV: €725,000\n",
       "13                             NaN\n",
       "28            Price on Application\n",
       "1442     AMV: Price on Application\n",
       "12842          £149,000 (€173,554)\n",
       "Name: price, dtype: object"
      ]
     },
     "execution_count": 10,
     "metadata": {},
     "output_type": "execute_result"
    }
   ],
   "source": [
    "# The following are the diferent data point extructures that we can see in \n",
    "# the `price` column\n",
    "sale['price'][[0, 8, 13, 28, 1442, 12842]]"
   ]
  },
  {
   "cell_type": "markdown",
   "id": "77fe46ee-c94c-4477-845c-1e535bca5044",
   "metadata": {},
   "source": [
    "**1. Price on Application**"
   ]
  },
  {
   "cell_type": "markdown",
   "id": "3f9ddaa2-4462-48b6-9d5a-bfd2955cb980",
   "metadata": {},
   "source": [
    "`Price on Application` is the most repeated value in the `price` column. It equates to a 7.63% of ads."
   ]
  },
  {
   "cell_type": "code",
   "execution_count": 11,
   "id": "1b87f484-fb78-4c47-90c5-e781c67beb22",
   "metadata": {},
   "outputs": [
    {
     "name": "stdout",
     "output_type": "stream",
     "text": [
      "Ads with \"Price on Application\": 1174\n",
      "Ads with \"Price on Application\": 7.63%\n"
     ]
    },
    {
     "data": {
      "text/html": [
       "<div>\n",
       "<style scoped>\n",
       "    .dataframe tbody tr th:only-of-type {\n",
       "        vertical-align: middle;\n",
       "    }\n",
       "\n",
       "    .dataframe tbody tr th {\n",
       "        vertical-align: top;\n",
       "    }\n",
       "\n",
       "    .dataframe thead th {\n",
       "        text-align: right;\n",
       "    }\n",
       "</style>\n",
       "<table border=\"1\" class=\"dataframe\">\n",
       "  <thead>\n",
       "    <tr style=\"text-align: right;\">\n",
       "      <th></th>\n",
       "      <th>daft_id</th>\n",
       "      <th>item_id</th>\n",
       "      <th>url</th>\n",
       "      <th>name</th>\n",
       "      <th>price</th>\n",
       "      <th>info</th>\n",
       "      <th>sale_type</th>\n",
       "      <th>floor_area</th>\n",
       "      <th>psr</th>\n",
       "      <th>ber</th>\n",
       "      <th>entered_renewed</th>\n",
       "      <th>views</th>\n",
       "      <th>type_house</th>\n",
       "      <th>coordinates</th>\n",
       "      <th>type</th>\n",
       "      <th>scraping_date</th>\n",
       "      <th>description</th>\n",
       "    </tr>\n",
       "  </thead>\n",
       "  <tbody>\n",
       "    <tr>\n",
       "      <th>12638</th>\n",
       "      <td>14329177</td>\n",
       "      <td>3169689</td>\n",
       "      <td>https://www.daft.ie/for-sale/site-ref-921-wate...</td>\n",
       "      <td>Ref 921 - Waterfront Site, Kilnabrack Lower, G...</td>\n",
       "      <td>Price on Application</td>\n",
       "      <td>0.98 ac,Site</td>\n",
       "      <td>For Sale by Private Treaty</td>\n",
       "      <td>0.98 ac</td>\n",
       "      <td>002897</td>\n",
       "      <td>NaN</td>\n",
       "      <td>12/11/2021</td>\n",
       "      <td>4,541</td>\n",
       "      <td>NaN</td>\n",
       "      <td>52.07064497840432+-9.947377114217545</td>\n",
       "      <td>buy</td>\n",
       "      <td>2021-11-25</td>\n",
       "      <td>***SALE ARRANGED***SALE ARRANGED****SALE ARRAN...</td>\n",
       "    </tr>\n",
       "  </tbody>\n",
       "</table>\n",
       "</div>"
      ],
      "text/plain": [
       "        daft_id  item_id                                                url  \\\n",
       "12638  14329177  3169689  https://www.daft.ie/for-sale/site-ref-921-wate...   \n",
       "\n",
       "                                                    name  \\\n",
       "12638  Ref 921 - Waterfront Site, Kilnabrack Lower, G...   \n",
       "\n",
       "                      price          info                   sale_type  \\\n",
       "12638  Price on Application  0.98 ac,Site  For Sale by Private Treaty   \n",
       "\n",
       "      floor_area     psr  ber entered_renewed  views type_house  \\\n",
       "12638    0.98 ac  002897  NaN      12/11/2021  4,541        NaN   \n",
       "\n",
       "                                coordinates type scraping_date  \\\n",
       "12638  52.07064497840432+-9.947377114217545  buy    2021-11-25   \n",
       "\n",
       "                                             description  \n",
       "12638  ***SALE ARRANGED***SALE ARRANGED****SALE ARRAN...  "
      ]
     },
     "execution_count": 11,
     "metadata": {},
     "output_type": "execute_result"
    }
   ],
   "source": [
    "# Ads with `Price on Application` pattern\n",
    "num_perc(df=sale, \n",
    "         feature='price', \n",
    "         pattern='Price on Application')"
   ]
  },
  {
   "cell_type": "markdown",
   "id": "a7cc775a-ac50-4f0f-b941-0160c9fe3ed7",
   "metadata": {},
   "source": [
    "We will drop this kind of ads because we can't find out their prices."
   ]
  },
  {
   "cell_type": "markdown",
   "id": "4d91e5fe-0669-4b4e-8ae1-e456176b9735",
   "metadata": {},
   "source": [
    "**2. AMV: Price on Application**"
   ]
  },
  {
   "cell_type": "code",
   "execution_count": 12,
   "id": "7a4bf87c-71f3-41b3-aba5-aab103139e25",
   "metadata": {},
   "outputs": [
    {
     "name": "stdout",
     "output_type": "stream",
     "text": [
      "Ads with \"AMV: Price on Application\": 8\n",
      "Ads with \"AMV: Price on Application\": 0.05%\n"
     ]
    },
    {
     "data": {
      "text/html": [
       "<div>\n",
       "<style scoped>\n",
       "    .dataframe tbody tr th:only-of-type {\n",
       "        vertical-align: middle;\n",
       "    }\n",
       "\n",
       "    .dataframe tbody tr th {\n",
       "        vertical-align: top;\n",
       "    }\n",
       "\n",
       "    .dataframe thead th {\n",
       "        text-align: right;\n",
       "    }\n",
       "</style>\n",
       "<table border=\"1\" class=\"dataframe\">\n",
       "  <thead>\n",
       "    <tr style=\"text-align: right;\">\n",
       "      <th></th>\n",
       "      <th>daft_id</th>\n",
       "      <th>item_id</th>\n",
       "      <th>url</th>\n",
       "      <th>name</th>\n",
       "      <th>price</th>\n",
       "      <th>info</th>\n",
       "      <th>sale_type</th>\n",
       "      <th>floor_area</th>\n",
       "      <th>psr</th>\n",
       "      <th>ber</th>\n",
       "      <th>entered_renewed</th>\n",
       "      <th>views</th>\n",
       "      <th>type_house</th>\n",
       "      <th>coordinates</th>\n",
       "      <th>type</th>\n",
       "      <th>scraping_date</th>\n",
       "      <th>description</th>\n",
       "    </tr>\n",
       "  </thead>\n",
       "  <tbody>\n",
       "    <tr>\n",
       "      <th>11133</th>\n",
       "      <td>15531906</td>\n",
       "      <td>3441506</td>\n",
       "      <td>https://www.daft.ie/for-sale/detached-house-as...</td>\n",
       "      <td>Askinamoe, Ferns, Enniscorthy, Co. Wexford</td>\n",
       "      <td>AMV: Price on Application</td>\n",
       "      <td>1 Bed,Detached</td>\n",
       "      <td>For Sale by Public Auction</td>\n",
       "      <td>ON-LINE</td>\n",
       "      <td>002020</td>\n",
       "      <td>SI_666</td>\n",
       "      <td>24/11/2021</td>\n",
       "      <td>4,118</td>\n",
       "      <td>house</td>\n",
       "      <td>52.6068023705902+-6.518592035977434</td>\n",
       "      <td>buy</td>\n",
       "      <td>2021-11-25</td>\n",
       "      <td>Property Ref: P4986\\r\\n \\r\\nValuable C. 7.2 Ac...</td>\n",
       "    </tr>\n",
       "  </tbody>\n",
       "</table>\n",
       "</div>"
      ],
      "text/plain": [
       "        daft_id  item_id                                                url  \\\n",
       "11133  15531906  3441506  https://www.daft.ie/for-sale/detached-house-as...   \n",
       "\n",
       "                                             name                      price  \\\n",
       "11133  Askinamoe, Ferns, Enniscorthy, Co. Wexford  AMV: Price on Application   \n",
       "\n",
       "                 info                   sale_type floor_area     psr     ber  \\\n",
       "11133  1 Bed,Detached  For Sale by Public Auction    ON-LINE  002020  SI_666   \n",
       "\n",
       "      entered_renewed  views type_house                          coordinates  \\\n",
       "11133      24/11/2021  4,118      house  52.6068023705902+-6.518592035977434   \n",
       "\n",
       "      type scraping_date                                        description  \n",
       "11133  buy    2021-11-25  Property Ref: P4986\\r\\n \\r\\nValuable C. 7.2 Ac...  "
      ]
     },
     "execution_count": 12,
     "metadata": {},
     "output_type": "execute_result"
    }
   ],
   "source": [
    "# Ads with `AMV: Price on Application` pattern\n",
    "num_perc(df=sale, \n",
    "         feature='price', \n",
    "         pattern='AMV: Price on Application')"
   ]
  },
  {
   "cell_type": "markdown",
   "id": "b3ee7cdf-d7dd-492b-87e0-174b3e4cf917",
   "metadata": {},
   "source": [
    "We will drop this kind of ads because we can't find out their prices."
   ]
  },
  {
   "cell_type": "markdown",
   "id": "456aa69c-bed2-4510-bcc0-157dec234f17",
   "metadata": {},
   "source": [
    "**3. AMV: €725,000**"
   ]
  },
  {
   "cell_type": "markdown",
   "id": "38a50165-717d-42a4-80d6-11227bc7b6fd",
   "metadata": {},
   "source": [
    "This patron is repeated a lot of times in the column, we will have to apply wrangling tasks on them."
   ]
  },
  {
   "cell_type": "markdown",
   "id": "f02b2710-ff77-4d8d-91c7-6589841f094a",
   "metadata": {},
   "source": [
    "**4. NaN**"
   ]
  },
  {
   "cell_type": "code",
   "execution_count": 13,
   "id": "8a47da76-be6b-4d0d-842e-2694c963de1e",
   "metadata": {},
   "outputs": [
    {
     "name": "stdout",
     "output_type": "stream",
     "text": [
      "Ads with \"nan\": 278\n",
      "Ads with \"nan\": 1.81%\n"
     ]
    },
    {
     "data": {
      "text/html": [
       "<div>\n",
       "<style scoped>\n",
       "    .dataframe tbody tr th:only-of-type {\n",
       "        vertical-align: middle;\n",
       "    }\n",
       "\n",
       "    .dataframe tbody tr th {\n",
       "        vertical-align: top;\n",
       "    }\n",
       "\n",
       "    .dataframe thead th {\n",
       "        text-align: right;\n",
       "    }\n",
       "</style>\n",
       "<table border=\"1\" class=\"dataframe\">\n",
       "  <thead>\n",
       "    <tr style=\"text-align: right;\">\n",
       "      <th></th>\n",
       "      <th>daft_id</th>\n",
       "      <th>item_id</th>\n",
       "      <th>url</th>\n",
       "      <th>name</th>\n",
       "      <th>price</th>\n",
       "      <th>info</th>\n",
       "      <th>sale_type</th>\n",
       "      <th>floor_area</th>\n",
       "      <th>psr</th>\n",
       "      <th>ber</th>\n",
       "      <th>entered_renewed</th>\n",
       "      <th>views</th>\n",
       "      <th>type_house</th>\n",
       "      <th>coordinates</th>\n",
       "      <th>type</th>\n",
       "      <th>scraping_date</th>\n",
       "      <th>description</th>\n",
       "    </tr>\n",
       "  </thead>\n",
       "  <tbody>\n",
       "    <tr>\n",
       "      <th>598</th>\n",
       "      <td>95483062</td>\n",
       "      <td>3436295</td>\n",
       "      <td>https://www.daft.ie/new-home-for-sale/thornbro...</td>\n",
       "      <td>NaN</td>\n",
       "      <td>NaN</td>\n",
       "      <td>NaN</td>\n",
       "      <td>NaN</td>\n",
       "      <td>NaN</td>\n",
       "      <td>001314</td>\n",
       "      <td>A2</td>\n",
       "      <td>19/11/2021</td>\n",
       "      <td>13,760</td>\n",
       "      <td>NaN</td>\n",
       "      <td>53.19079340305086+-6.133077740132876</td>\n",
       "      <td>buy</td>\n",
       "      <td>2021-11-25</td>\n",
       "      <td>Dillon Marshall New Homes are proud to present...</td>\n",
       "    </tr>\n",
       "  </tbody>\n",
       "</table>\n",
       "</div>"
      ],
      "text/plain": [
       "      daft_id  item_id                                                url  \\\n",
       "598  95483062  3436295  https://www.daft.ie/new-home-for-sale/thornbro...   \n",
       "\n",
       "    name price info sale_type floor_area     psr ber entered_renewed   views  \\\n",
       "598  NaN   NaN  NaN       NaN        NaN  001314  A2      19/11/2021  13,760   \n",
       "\n",
       "    type_house                           coordinates type scraping_date  \\\n",
       "598        NaN  53.19079340305086+-6.133077740132876  buy    2021-11-25   \n",
       "\n",
       "                                           description  \n",
       "598  Dillon Marshall New Homes are proud to present...  "
      ]
     },
     "execution_count": 13,
     "metadata": {},
     "output_type": "execute_result"
    }
   ],
   "source": [
    "# Ads with missing values\n",
    "num_perc(df=sale, \n",
    "         feature='price', \n",
    "         pattern=np.nan)"
   ]
  },
  {
   "cell_type": "markdown",
   "id": "de95f547-5090-41f2-936e-e3f4ee835152",
   "metadata": {},
   "source": [
    "Advertisements with missing values in the `price` column are \"Development\" ads, not \"Houses\" ads. Development ads have several houses in it and that is why they have missing values. Furthermore, the houses belonging to developments are already scraped so we should drop the development ads."
   ]
  },
  {
   "cell_type": "code",
   "execution_count": 14,
   "id": "4a983840-e960-46d7-ac9f-6eff37ebdcb7",
   "metadata": {},
   "outputs": [
    {
     "data": {
      "text/plain": [
       "array(['https://www.daft.ie/new-home-for-sale/loughvella-ennis-co-clare/3474268'],\n",
       "      dtype=object)"
      ]
     },
     "execution_count": 14,
     "metadata": {},
     "output_type": "execute_result"
    }
   ],
   "source": [
    "# You can check the above statement with the lines of code bellow\n",
    "\n",
    "# sale[sale['price'].isna()] # Commented for sthetic reasons\n",
    "sale.loc[sale['price'].isna(), 'url'].sample().values # url to check the ad"
   ]
  },
  {
   "cell_type": "markdown",
   "id": "b8cd735d-efbe-4f5e-ac53-56ea87127350",
   "metadata": {},
   "source": [
    "**5. £149,000 (€173,554)**"
   ]
  },
  {
   "cell_type": "code",
   "execution_count": 15,
   "id": "0e90fcf8-6bbc-429a-af4e-f525d6a23e46",
   "metadata": {},
   "outputs": [
    {
     "name": "stdout",
     "output_type": "stream",
     "text": [
      "Ads with \"£\": 25\n",
      "Ads with \"£\": 0.16%\n"
     ]
    },
    {
     "data": {
      "text/html": [
       "<div>\n",
       "<style scoped>\n",
       "    .dataframe tbody tr th:only-of-type {\n",
       "        vertical-align: middle;\n",
       "    }\n",
       "\n",
       "    .dataframe tbody tr th {\n",
       "        vertical-align: top;\n",
       "    }\n",
       "\n",
       "    .dataframe thead th {\n",
       "        text-align: right;\n",
       "    }\n",
       "</style>\n",
       "<table border=\"1\" class=\"dataframe\">\n",
       "  <thead>\n",
       "    <tr style=\"text-align: right;\">\n",
       "      <th></th>\n",
       "      <th>daft_id</th>\n",
       "      <th>item_id</th>\n",
       "      <th>url</th>\n",
       "      <th>name</th>\n",
       "      <th>price</th>\n",
       "      <th>info</th>\n",
       "      <th>sale_type</th>\n",
       "      <th>floor_area</th>\n",
       "      <th>psr</th>\n",
       "      <th>ber</th>\n",
       "      <th>entered_renewed</th>\n",
       "      <th>views</th>\n",
       "      <th>type_house</th>\n",
       "      <th>coordinates</th>\n",
       "      <th>type</th>\n",
       "      <th>scraping_date</th>\n",
       "      <th>description</th>\n",
       "    </tr>\n",
       "  </thead>\n",
       "  <tbody>\n",
       "    <tr>\n",
       "      <th>13382</th>\n",
       "      <td>13155815</td>\n",
       "      <td>2731545</td>\n",
       "      <td>https://www.daft.ie/for-sale/detached-house-sh...</td>\n",
       "      <td>Shandragh, Knockans, Rathlin Island, Ballycast...</td>\n",
       "      <td>£79,950 (€93,125)</td>\n",
       "      <td>2 Bed,1 Bath,Detached</td>\n",
       "      <td>For Sale by Private Treaty</td>\n",
       "      <td>For Sale by Private Treaty</td>\n",
       "      <td>002978</td>\n",
       "      <td>NaN</td>\n",
       "      <td>10/11/2021</td>\n",
       "      <td>7,396</td>\n",
       "      <td>house</td>\n",
       "      <td>55.29709858131622+-6.21913270636054</td>\n",
       "      <td>buy</td>\n",
       "      <td>2021-11-25</td>\n",
       "      <td>For Sale by Rodgers &amp; Browne Estate Agents, Ho...</td>\n",
       "    </tr>\n",
       "  </tbody>\n",
       "</table>\n",
       "</div>"
      ],
      "text/plain": [
       "        daft_id  item_id                                                url  \\\n",
       "13382  13155815  2731545  https://www.daft.ie/for-sale/detached-house-sh...   \n",
       "\n",
       "                                                    name              price  \\\n",
       "13382  Shandragh, Knockans, Rathlin Island, Ballycast...  £79,950 (€93,125)   \n",
       "\n",
       "                        info                   sale_type  \\\n",
       "13382  2 Bed,1 Bath,Detached  For Sale by Private Treaty   \n",
       "\n",
       "                       floor_area     psr  ber entered_renewed  views  \\\n",
       "13382  For Sale by Private Treaty  002978  NaN      10/11/2021  7,396   \n",
       "\n",
       "      type_house                          coordinates type scraping_date  \\\n",
       "13382      house  55.29709858131622+-6.21913270636054  buy    2021-11-25   \n",
       "\n",
       "                                             description  \n",
       "13382  For Sale by Rodgers & Browne Estate Agents, Ho...  "
      ]
     },
     "execution_count": 15,
     "metadata": {},
     "output_type": "execute_result"
    }
   ],
   "source": [
    "# Ads with '£' pattern\n",
    "num_perc(df=sale, \n",
    "         feature='price', \n",
    "         pattern='£')"
   ]
  },
  {
   "cell_type": "markdown",
   "id": "333c162a-893e-4ee3-a81d-ea0bad73412b",
   "metadata": {},
   "source": [
    "Ads with prices in pounds are usually from North Ireland, which belongs to United Kingdom so we will drop these ads."
   ]
  },
  {
   "cell_type": "code",
   "execution_count": 16,
   "id": "f30eb2fb-e466-4925-acd8-0abbdf91b4e1",
   "metadata": {},
   "outputs": [
    {
     "data": {
      "text/plain": [
       "array(['https://www.daft.ie/for-sale/detached-house-4-old-chapel-road-aughnacloy-co-tyrone/3610164'],\n",
       "      dtype=object)"
      ]
     },
     "execution_count": 16,
     "metadata": {},
     "output_type": "execute_result"
    }
   ],
   "source": [
    "# You can check the above statement with the lines of code bellow\n",
    "\n",
    "# sale.dropna(subset=['price']).loc[\n",
    " #    sale.dropna(subset=['price'])['price'].str.contains('£')] # Commented for sthetic reasons\n",
    "\n",
    "sale.dropna(subset=['price']).loc[\n",
    "    sale.dropna(subset=['price'])['price'].str.contains('£'), 'url'\n",
    "                                 ].sample().values # url to check the ad"
   ]
  },
  {
   "cell_type": "markdown",
   "id": "0feacbd5-857b-4255-aa08-31ec463899c9",
   "metadata": {},
   "source": [
    "**-> Conclusion**"
   ]
  },
  {
   "cell_type": "markdown",
   "id": "2c03d54f-dcba-45da-9ba8-262de0ea9f43",
   "metadata": {},
   "source": [
    "Wrangling and cleansing tasks: \n",
    "\n",
    "|Value structure in ad's price|Number of ads|Percentage of ads|Task|\n",
    "|:---:|:---:|:---:|:---:|\n",
    "|€549,000|||Wrangling|\n",
    "|AMV: €725,000|||Wrangling|\n",
    "|£149,000 (€173,554)|25|0.16%|Drop|\n",
    "|Price on Application|1174|7.63%|Drop|\n",
    "|AMV: Price on Application|8|0.05%|Drop|\n",
    "|NaN|278|1.81%|Drop|"
   ]
  },
  {
   "cell_type": "markdown",
   "id": "d18fa6bf-9155-4687-9a3b-57b0dca36a1f",
   "metadata": {},
   "source": [
    "Let's compare the before and after of transformations."
   ]
  },
  {
   "cell_type": "code",
   "execution_count": 17,
   "id": "71735666-f159-4552-be7f-8f97c3a89784",
   "metadata": {},
   "outputs": [
    {
     "name": "stdout",
     "output_type": "stream",
     "text": [
      "Rows before dropping: 15391\n",
      "Rows after dropping: 13906\n",
      "----------\n",
      "Difference: -1485\n"
     ]
    },
    {
     "data": {
      "text/html": [
       "<div>\n",
       "<style scoped>\n",
       "    .dataframe tbody tr th:only-of-type {\n",
       "        vertical-align: middle;\n",
       "    }\n",
       "\n",
       "    .dataframe tbody tr th {\n",
       "        vertical-align: top;\n",
       "    }\n",
       "\n",
       "    .dataframe thead th {\n",
       "        text-align: right;\n",
       "    }\n",
       "</style>\n",
       "<table border=\"1\" class=\"dataframe\">\n",
       "  <thead>\n",
       "    <tr style=\"text-align: right;\">\n",
       "      <th></th>\n",
       "      <th>before</th>\n",
       "      <th>after</th>\n",
       "    </tr>\n",
       "  </thead>\n",
       "  <tbody>\n",
       "    <tr>\n",
       "      <th>0</th>\n",
       "      <td>€549,000</td>\n",
       "      <td>549000.0</td>\n",
       "    </tr>\n",
       "    <tr>\n",
       "      <th>1</th>\n",
       "      <td>€220,000</td>\n",
       "      <td>220000.0</td>\n",
       "    </tr>\n",
       "    <tr>\n",
       "      <th>2</th>\n",
       "      <td>€495,000</td>\n",
       "      <td>495000.0</td>\n",
       "    </tr>\n",
       "    <tr>\n",
       "      <th>3</th>\n",
       "      <td>€350,000</td>\n",
       "      <td>350000.0</td>\n",
       "    </tr>\n",
       "    <tr>\n",
       "      <th>4</th>\n",
       "      <td>€450,000</td>\n",
       "      <td>450000.0</td>\n",
       "    </tr>\n",
       "    <tr>\n",
       "      <th>5</th>\n",
       "      <td>€365,000</td>\n",
       "      <td>365000.0</td>\n",
       "    </tr>\n",
       "    <tr>\n",
       "      <th>6</th>\n",
       "      <td>€325,000</td>\n",
       "      <td>325000.0</td>\n",
       "    </tr>\n",
       "    <tr>\n",
       "      <th>7</th>\n",
       "      <td>€550,000</td>\n",
       "      <td>550000.0</td>\n",
       "    </tr>\n",
       "    <tr>\n",
       "      <th>8</th>\n",
       "      <td>AMV: €725,000</td>\n",
       "      <td>725000.0</td>\n",
       "    </tr>\n",
       "    <tr>\n",
       "      <th>9</th>\n",
       "      <td>€325,000</td>\n",
       "      <td>325000.0</td>\n",
       "    </tr>\n",
       "  </tbody>\n",
       "</table>\n",
       "</div>"
      ],
      "text/plain": [
       "          before     after\n",
       "0       €549,000  549000.0\n",
       "1       €220,000  220000.0\n",
       "2       €495,000  495000.0\n",
       "3       €350,000  350000.0\n",
       "4       €450,000  450000.0\n",
       "5       €365,000  365000.0\n",
       "6       €325,000  325000.0\n",
       "7       €550,000  550000.0\n",
       "8  AMV: €725,000  725000.0\n",
       "9       €325,000  325000.0"
      ]
     },
     "execution_count": 17,
     "metadata": {},
     "output_type": "execute_result"
    }
   ],
   "source": [
    "pd.DataFrame({'before': sale['price'], \n",
    "              'after': process_price(sale)['price']}).head(10)"
   ]
  },
  {
   "cell_type": "markdown",
   "id": "d534b941-3e3d-48c8-a325-0faa888d0ec9",
   "metadata": {},
   "source": [
    "Let's do it!"
   ]
  },
  {
   "cell_type": "code",
   "execution_count": 18,
   "id": "36bba0c3-7963-4897-b12f-889b6ee1a06c",
   "metadata": {},
   "outputs": [
    {
     "name": "stdout",
     "output_type": "stream",
     "text": [
      "Rows before dropping: 15391\n",
      "Rows after dropping: 13906\n",
      "----------\n",
      "Difference: -1485\n"
     ]
    }
   ],
   "source": [
    "sale = process_price(sale.copy()).reset_index(drop=True)"
   ]
  },
  {
   "cell_type": "markdown",
   "id": "e358169b-8453-4a96-bd46-fb8af574a218",
   "metadata": {
    "tags": []
   },
   "source": [
    "# Coordinates"
   ]
  },
  {
   "cell_type": "markdown",
   "id": "f950da1c-5578-4709-975c-e7bebbdfa5b1",
   "metadata": {},
   "source": [
    "There are no missing values in the coordinates columns and the structure is the same in all data points. We will use the `process_coordinates` function to make one new column for `latitude` and another one for `longitude`. The function also drops the `coordinates` column once it has been processed."
   ]
  },
  {
   "cell_type": "code",
   "execution_count": 19,
   "id": "1c4db85d-58bf-4b62-b6a6-bf77f0b588ef",
   "metadata": {},
   "outputs": [
    {
     "data": {
      "text/plain": [
       "7355    53.299712+-6.494623\n",
       "Name: coordinates, dtype: object"
      ]
     },
     "execution_count": 19,
     "metadata": {},
     "output_type": "execute_result"
    }
   ],
   "source": [
    "# Same structure in all data points in the column\n",
    "sale['coordinates'].sample()"
   ]
  },
  {
   "cell_type": "markdown",
   "id": "ef9b6455-3ae2-47de-ada3-c697a764657a",
   "metadata": {},
   "source": [
    "As the structure is the same in all ads, we can split the `coordinates` column in `+` using vectorized operations and create new columns from that. "
   ]
  },
  {
   "cell_type": "code",
   "execution_count": 20,
   "id": "4e1d3303-9770-4d3c-8aaa-ea20b2387e2e",
   "metadata": {},
   "outputs": [
    {
     "name": "stdout",
     "output_type": "stream",
     "text": [
      "Shape before process: (13906, 17)\n",
      "Shape after process: (13906, 18)\n"
     ]
    }
   ],
   "source": [
    "sale = process_coordinates(sale)"
   ]
  },
  {
   "cell_type": "markdown",
   "id": "29cceb4e-be84-402d-a8ff-1e5cf28faca6",
   "metadata": {},
   "source": [
    "We can use the new columns to make a scatter plot in order to check whether the points show a similar form to Ireland."
   ]
  },
  {
   "cell_type": "code",
   "execution_count": 21,
   "id": "0b2aea88-d63c-4d7d-9ccb-0272a2900171",
   "metadata": {},
   "outputs": [
    {
     "data": {
      "image/png": "[encoded data removed]",
      "text/plain": [
       "<Figure size 576x396 with 1 Axes>"
      ]
     },
     "metadata": {},
     "output_type": "display_data"
    }
   ],
   "source": [
    "# Check coordinates outliers \n",
    "sale.plot(kind='scatter', x='longitude', y='latitude', title='Houses for sale, Ireland');"
   ]
  },
  {
   "cell_type": "markdown",
   "id": "d1ffcf1b-e27c-4573-adb7-82c5ede85357",
   "metadata": {},
   "source": [
    "As you can see above, there are some isolated points with a lower `latitude` that make it difficult to visualizate any country so the right thing would be drop them."
   ]
  },
  {
   "cell_type": "code",
   "execution_count": 22,
   "id": "c6f70397-2526-4dc4-9844-bed2978bb5ac",
   "metadata": {},
   "outputs": [
    {
     "name": "stdout",
     "output_type": "stream",
     "text": [
      "Rows before dropping: 13906\n",
      "Rows after dropping: 13899\n",
      "----------\n",
      "Difference: -7\n"
     ]
    }
   ],
   "source": [
    "# Drops coordinates outliers\n",
    "sale = drop_coord_outliers(sale)"
   ]
  },
  {
   "cell_type": "code",
   "execution_count": 23,
   "id": "44bb480f-f6ea-4c71-9473-94f97264d9e9",
   "metadata": {},
   "outputs": [
    {
     "data": {
      "image/png": "[encoded data removed]",
      "text/plain": [
       "<Figure size 576x396 with 1 Axes>"
      ]
     },
     "metadata": {},
     "output_type": "display_data"
    }
   ],
   "source": [
    "sale.plot(kind='scatter', x='longitude', y='latitude', title='Houses for sale, Ireland'); # esta un poco achatada pero es Irlanda"
   ]
  },
  {
   "cell_type": "markdown",
   "id": "c510c569-99aa-4291-94e4-2a9687bc4c4c",
   "metadata": {
    "tags": []
   },
   "source": [
    "# Floor Area"
   ]
  },
  {
   "cell_type": "markdown",
   "id": "ac3fa4ff-2c8a-424b-8265-fa54dd8ac50a",
   "metadata": {},
   "source": [
    "The most common pattern in the `floor_area` column follows a structure like this: `177 m²`. Nevertheless, there are several patterns which will need be handled."
   ]
  },
  {
   "cell_type": "code",
   "execution_count": 24,
   "id": "8f0456f7-b907-4c07-bc56-8e5a5ad453c2",
   "metadata": {},
   "outputs": [],
   "source": [
    "# sale['floor_area'].sample(30)"
   ]
  },
  {
   "cell_type": "code",
   "execution_count": 25,
   "id": "1372d417-6fcd-4558-89e7-340fc06a1782",
   "metadata": {},
   "outputs": [
    {
     "data": {
      "text/plain": [
       "1861     For Sale by Public Auction\n",
       "12076                       0.65 ac\n",
       "10284    For Sale by Private Treaty\n",
       "5114                         267 m²\n",
       "Name: floor_area, dtype: object"
      ]
     },
     "execution_count": 25,
     "metadata": {},
     "output_type": "execute_result"
    }
   ],
   "source": [
    "# The following are the diferent data point extructures that we can see in \n",
    "# the `price` column\n",
    "sale['floor_area'][[1861, 12076, 10284, 5114]]"
   ]
  },
  {
   "cell_type": "markdown",
   "id": "9e348cab-1b5c-4140-bf90-6842bf277e66",
   "metadata": {},
   "source": [
    "**1. m²**"
   ]
  },
  {
   "cell_type": "markdown",
   "id": "5f446949-770c-4928-b1b4-953441d8b2e2",
   "metadata": {},
   "source": [
    "`floor_area` is a promising predictor but only a 55% of ads show this information. We will drop the other values but let's explore ads whose `floor_area` feature is mesured in `acres` to check whether we can keep them."
   ]
  },
  {
   "cell_type": "code",
   "execution_count": 26,
   "id": "4518b6b1-a713-4813-a0e4-b99e0daa59ef",
   "metadata": {},
   "outputs": [
    {
     "name": "stdout",
     "output_type": "stream",
     "text": [
      "Ads with \"m²\": 7757\n",
      "Ads with \"m²\": 55.81%\n"
     ]
    },
    {
     "data": {
      "text/html": [
       "<div>\n",
       "<style scoped>\n",
       "    .dataframe tbody tr th:only-of-type {\n",
       "        vertical-align: middle;\n",
       "    }\n",
       "\n",
       "    .dataframe tbody tr th {\n",
       "        vertical-align: top;\n",
       "    }\n",
       "\n",
       "    .dataframe thead th {\n",
       "        text-align: right;\n",
       "    }\n",
       "</style>\n",
       "<table border=\"1\" class=\"dataframe\">\n",
       "  <thead>\n",
       "    <tr style=\"text-align: right;\">\n",
       "      <th></th>\n",
       "      <th>daft_id</th>\n",
       "      <th>item_id</th>\n",
       "      <th>url</th>\n",
       "      <th>name</th>\n",
       "      <th>price</th>\n",
       "      <th>info</th>\n",
       "      <th>sale_type</th>\n",
       "      <th>floor_area</th>\n",
       "      <th>psr</th>\n",
       "      <th>ber</th>\n",
       "      <th>entered_renewed</th>\n",
       "      <th>views</th>\n",
       "      <th>type_house</th>\n",
       "      <th>type</th>\n",
       "      <th>scraping_date</th>\n",
       "      <th>description</th>\n",
       "      <th>latitude</th>\n",
       "      <th>longitude</th>\n",
       "    </tr>\n",
       "  </thead>\n",
       "  <tbody>\n",
       "    <tr>\n",
       "      <th>2550</th>\n",
       "      <td>16892153</td>\n",
       "      <td>3610386</td>\n",
       "      <td>https://www.daft.ie/for-sale/end-of-terrace-ho...</td>\n",
       "      <td>22 Ballentree Grove, Tyrellstown, Tyrrelstown,...</td>\n",
       "      <td>265000.0</td>\n",
       "      <td>3 Bed,2 Bath,85 m²,End of Terrace</td>\n",
       "      <td>For Sale by Private Treaty</td>\n",
       "      <td>85 m²</td>\n",
       "      <td>003119</td>\n",
       "      <td>C2</td>\n",
       "      <td>15/11/2021</td>\n",
       "      <td>1,821</td>\n",
       "      <td>house</td>\n",
       "      <td>buy</td>\n",
       "      <td>2021-11-25</td>\n",
       "      <td>Liam Reilly Auctioneers are proud to bring to ...</td>\n",
       "      <td>53.416673</td>\n",
       "      <td>-6.384818</td>\n",
       "    </tr>\n",
       "  </tbody>\n",
       "</table>\n",
       "</div>"
      ],
      "text/plain": [
       "       daft_id  item_id                                                url  \\\n",
       "2550  16892153  3610386  https://www.daft.ie/for-sale/end-of-terrace-ho...   \n",
       "\n",
       "                                                   name     price  \\\n",
       "2550  22 Ballentree Grove, Tyrellstown, Tyrrelstown,...  265000.0   \n",
       "\n",
       "                                   info                   sale_type  \\\n",
       "2550  3 Bed,2 Bath,85 m²,End of Terrace  For Sale by Private Treaty   \n",
       "\n",
       "     floor_area     psr ber entered_renewed  views type_house type  \\\n",
       "2550      85 m²  003119  C2      15/11/2021  1,821      house  buy   \n",
       "\n",
       "     scraping_date                                        description  \\\n",
       "2550    2021-11-25  Liam Reilly Auctioneers are proud to bring to ...   \n",
       "\n",
       "       latitude  longitude  \n",
       "2550  53.416673  -6.384818  "
      ]
     },
     "execution_count": 26,
     "metadata": {},
     "output_type": "execute_result"
    }
   ],
   "source": [
    "# Ads with 'm²' pattern\n",
    "num_perc(df=sale, \n",
    "         feature='floor_area', \n",
    "         pattern='m²')"
   ]
  },
  {
   "cell_type": "markdown",
   "id": "6d1184bc-3e64-458b-9146-dd8a7b44fb20",
   "metadata": {},
   "source": [
    "**2. ac**"
   ]
  },
  {
   "cell_type": "code",
   "execution_count": 27,
   "id": "00ef59e4-9649-419e-bc07-c110d4e4b616",
   "metadata": {},
   "outputs": [
    {
     "name": "stdout",
     "output_type": "stream",
     "text": [
      "Ads with \"ac\": 2540\n",
      "Ads with \"ac\": 18.27%\n"
     ]
    },
    {
     "data": {
      "text/html": [
       "<div>\n",
       "<style scoped>\n",
       "    .dataframe tbody tr th:only-of-type {\n",
       "        vertical-align: middle;\n",
       "    }\n",
       "\n",
       "    .dataframe tbody tr th {\n",
       "        vertical-align: top;\n",
       "    }\n",
       "\n",
       "    .dataframe thead th {\n",
       "        text-align: right;\n",
       "    }\n",
       "</style>\n",
       "<table border=\"1\" class=\"dataframe\">\n",
       "  <thead>\n",
       "    <tr style=\"text-align: right;\">\n",
       "      <th></th>\n",
       "      <th>daft_id</th>\n",
       "      <th>item_id</th>\n",
       "      <th>url</th>\n",
       "      <th>name</th>\n",
       "      <th>price</th>\n",
       "      <th>info</th>\n",
       "      <th>sale_type</th>\n",
       "      <th>floor_area</th>\n",
       "      <th>psr</th>\n",
       "      <th>ber</th>\n",
       "      <th>entered_renewed</th>\n",
       "      <th>views</th>\n",
       "      <th>type_house</th>\n",
       "      <th>type</th>\n",
       "      <th>scraping_date</th>\n",
       "      <th>description</th>\n",
       "      <th>latitude</th>\n",
       "      <th>longitude</th>\n",
       "    </tr>\n",
       "  </thead>\n",
       "  <tbody>\n",
       "    <tr>\n",
       "      <th>11151</th>\n",
       "      <td>14883019</td>\n",
       "      <td>3230278</td>\n",
       "      <td>https://www.daft.ie/for-sale/site-cooliska-coa...</td>\n",
       "      <td>Cooliska, Coachford, Co. Cork</td>\n",
       "      <td>105000.0</td>\n",
       "      <td>1.5 ac,Site</td>\n",
       "      <td>For Sale by Private Treaty</td>\n",
       "      <td>1.5 ac</td>\n",
       "      <td>001092</td>\n",
       "      <td>NaN</td>\n",
       "      <td>22/11/2021</td>\n",
       "      <td>3,849</td>\n",
       "      <td>NaN</td>\n",
       "      <td>buy</td>\n",
       "      <td>2021-11-25</td>\n",
       "      <td>O'Mahony Walsh &amp; Associates offer for sale c.1...</td>\n",
       "      <td>51.922217</td>\n",
       "      <td>-8.899655</td>\n",
       "    </tr>\n",
       "  </tbody>\n",
       "</table>\n",
       "</div>"
      ],
      "text/plain": [
       "        daft_id  item_id                                                url  \\\n",
       "11151  14883019  3230278  https://www.daft.ie/for-sale/site-cooliska-coa...   \n",
       "\n",
       "                                name     price         info  \\\n",
       "11151  Cooliska, Coachford, Co. Cork  105000.0  1.5 ac,Site   \n",
       "\n",
       "                        sale_type floor_area     psr  ber entered_renewed  \\\n",
       "11151  For Sale by Private Treaty     1.5 ac  001092  NaN      22/11/2021   \n",
       "\n",
       "       views type_house type scraping_date  \\\n",
       "11151  3,849        NaN  buy    2021-11-25   \n",
       "\n",
       "                                             description   latitude  longitude  \n",
       "11151  O'Mahony Walsh & Associates offer for sale c.1...  51.922217  -8.899655  "
      ]
     },
     "execution_count": 27,
     "metadata": {},
     "output_type": "execute_result"
    }
   ],
   "source": [
    "# Ads with 'ac' pattern\n",
    "num_perc(df=sale, \n",
    "         feature='floor_area', \n",
    "         pattern='ac')"
   ]
  },
  {
   "cell_type": "markdown",
   "id": "90e0bc6e-cb11-4900-8aeb-f490d0a0bcb1",
   "metadata": {},
   "source": [
    "If we check some ads we will see that ads with `ac` pattern refer to land extensions so we will drop them as well as the other ads with different patterns."
   ]
  },
  {
   "cell_type": "code",
   "execution_count": 28,
   "id": "07212d69-78c3-4ee3-be90-053094ef738a",
   "metadata": {},
   "outputs": [
    {
     "data": {
      "text/plain": [
       "array(['https://www.daft.ie/for-sale/site-lacken-kilkenny-road-castlecomer-co-kilkenny/1490866'],\n",
       "      dtype=object)"
      ]
     },
     "execution_count": 28,
     "metadata": {},
     "output_type": "execute_result"
    }
   ],
   "source": [
    "sale.dropna(subset=['floor_area']).loc[\n",
    "    sale.dropna(subset=['floor_area'])['floor_area'].str.contains('ac'), 'url'\n",
    "                                 ].sample().values # url to check the ad"
   ]
  },
  {
   "cell_type": "markdown",
   "id": "2b4bad54-9102-4dbe-8279-3fd935678e38",
   "metadata": {},
   "source": [
    "**3. NaN**"
   ]
  },
  {
   "cell_type": "markdown",
   "id": "9ad244de-e23b-4d25-98b3-350aa2314768",
   "metadata": {},
   "source": [
    "There are just two missing values becuse we dropped almost all of them when we dropped the ads with `NaN` values in the `price` column."
   ]
  },
  {
   "cell_type": "code",
   "execution_count": 29,
   "id": "9904108d-072e-4e52-9ab4-a2a028d1c265",
   "metadata": {},
   "outputs": [
    {
     "name": "stdout",
     "output_type": "stream",
     "text": [
      "Ads with \"nan\": 2\n",
      "Ads with \"nan\": 0.01%\n"
     ]
    },
    {
     "data": {
      "text/html": [
       "<div>\n",
       "<style scoped>\n",
       "    .dataframe tbody tr th:only-of-type {\n",
       "        vertical-align: middle;\n",
       "    }\n",
       "\n",
       "    .dataframe tbody tr th {\n",
       "        vertical-align: top;\n",
       "    }\n",
       "\n",
       "    .dataframe thead th {\n",
       "        text-align: right;\n",
       "    }\n",
       "</style>\n",
       "<table border=\"1\" class=\"dataframe\">\n",
       "  <thead>\n",
       "    <tr style=\"text-align: right;\">\n",
       "      <th></th>\n",
       "      <th>daft_id</th>\n",
       "      <th>item_id</th>\n",
       "      <th>url</th>\n",
       "      <th>name</th>\n",
       "      <th>price</th>\n",
       "      <th>info</th>\n",
       "      <th>sale_type</th>\n",
       "      <th>floor_area</th>\n",
       "      <th>psr</th>\n",
       "      <th>ber</th>\n",
       "      <th>entered_renewed</th>\n",
       "      <th>views</th>\n",
       "      <th>type_house</th>\n",
       "      <th>type</th>\n",
       "      <th>scraping_date</th>\n",
       "      <th>description</th>\n",
       "      <th>latitude</th>\n",
       "      <th>longitude</th>\n",
       "    </tr>\n",
       "  </thead>\n",
       "  <tbody>\n",
       "    <tr>\n",
       "      <th>8171</th>\n",
       "      <td>16148994</td>\n",
       "      <td>3531355</td>\n",
       "      <td>https://www.daft.ie/for-sale/terraced-house-st...</td>\n",
       "      <td>St. Cormac's Park, Kilcormac, Co. Offaly</td>\n",
       "      <td>170000.0</td>\n",
       "      <td>3 Bed,1 Bath,Terrace</td>\n",
       "      <td>NaN</td>\n",
       "      <td>NaN</td>\n",
       "      <td>003314</td>\n",
       "      <td>C2</td>\n",
       "      <td>25/11/2021</td>\n",
       "      <td>4,151</td>\n",
       "      <td>house</td>\n",
       "      <td>buy</td>\n",
       "      <td>2021-11-25</td>\n",
       "      <td>Fabulous opportunity for first time buyers! St...</td>\n",
       "      <td>53.173276</td>\n",
       "      <td>-7.725095</td>\n",
       "    </tr>\n",
       "  </tbody>\n",
       "</table>\n",
       "</div>"
      ],
      "text/plain": [
       "       daft_id  item_id                                                url  \\\n",
       "8171  16148994  3531355  https://www.daft.ie/for-sale/terraced-house-st...   \n",
       "\n",
       "                                          name     price  \\\n",
       "8171  St. Cormac's Park, Kilcormac, Co. Offaly  170000.0   \n",
       "\n",
       "                      info sale_type floor_area     psr ber entered_renewed  \\\n",
       "8171  3 Bed,1 Bath,Terrace       NaN        NaN  003314  C2      25/11/2021   \n",
       "\n",
       "      views type_house type scraping_date  \\\n",
       "8171  4,151      house  buy    2021-11-25   \n",
       "\n",
       "                                            description   latitude  longitude  \n",
       "8171  Fabulous opportunity for first time buyers! St...  53.173276  -7.725095  "
      ]
     },
     "execution_count": 29,
     "metadata": {},
     "output_type": "execute_result"
    }
   ],
   "source": [
    "# Ads with 'NaN' pattern\n",
    "num_perc(df=sale, \n",
    "         feature='floor_area', \n",
    "         pattern=np.nan)"
   ]
  },
  {
   "cell_type": "markdown",
   "id": "d8b1ae6c-23de-4620-b79b-7cae8630ef30",
   "metadata": {},
   "source": [
    "**-> Conclusions**\n",
    "\n",
    "Wrangling and cleansing tasks: \n",
    "\n",
    "|Value structure in ad's price|Number of ads|Percentage of ads|Task|\n",
    "|:---:|:---:|:---:|:---:|\n",
    "|756 m²|7757|55.81%|Wrangling|\n",
    "|2 ac|2540|18.27%|Drop|\n",
    "|NaN|2|0.01%|Drop|\n",
    "|For Sale by Private Treaty|||Drop|\n",
    "|Section 27|||Drop|\n",
    "|Thu, Nov 25th at 12:00 PM|||Drop|"
   ]
  },
  {
   "cell_type": "markdown",
   "id": "1079d9a3-e235-4c41-83f3-18599e3e97ff",
   "metadata": {},
   "source": [
    "Let's compare the before and after of transformations."
   ]
  },
  {
   "cell_type": "code",
   "execution_count": 30,
   "id": "b0b99d80-4adf-4224-8b48-7aadce440673",
   "metadata": {
    "tags": []
   },
   "outputs": [
    {
     "name": "stdout",
     "output_type": "stream",
     "text": [
      "Rows after dropping: 13899\n",
      "Rows after dropping: 7757\n",
      "----------\n",
      "Difference: -6142\n"
     ]
    },
    {
     "data": {
      "text/html": [
       "<div>\n",
       "<style scoped>\n",
       "    .dataframe tbody tr th:only-of-type {\n",
       "        vertical-align: middle;\n",
       "    }\n",
       "\n",
       "    .dataframe tbody tr th {\n",
       "        vertical-align: top;\n",
       "    }\n",
       "\n",
       "    .dataframe thead th {\n",
       "        text-align: right;\n",
       "    }\n",
       "</style>\n",
       "<table border=\"1\" class=\"dataframe\">\n",
       "  <thead>\n",
       "    <tr style=\"text-align: right;\">\n",
       "      <th></th>\n",
       "      <th>before</th>\n",
       "      <th>after</th>\n",
       "    </tr>\n",
       "  </thead>\n",
       "  <tbody>\n",
       "    <tr>\n",
       "      <th>0</th>\n",
       "      <td>253 m²</td>\n",
       "      <td>253</td>\n",
       "    </tr>\n",
       "    <tr>\n",
       "      <th>1</th>\n",
       "      <td>For Sale by Private Treaty</td>\n",
       "      <td>NaN</td>\n",
       "    </tr>\n",
       "    <tr>\n",
       "      <th>2</th>\n",
       "      <td>165 m²</td>\n",
       "      <td>165</td>\n",
       "    </tr>\n",
       "    <tr>\n",
       "      <th>3</th>\n",
       "      <td>131 m²</td>\n",
       "      <td>131</td>\n",
       "    </tr>\n",
       "    <tr>\n",
       "      <th>4</th>\n",
       "      <td>188 m²</td>\n",
       "      <td>188</td>\n",
       "    </tr>\n",
       "    <tr>\n",
       "      <th>5</th>\n",
       "      <td>For Sale by Private Treaty</td>\n",
       "      <td>NaN</td>\n",
       "    </tr>\n",
       "    <tr>\n",
       "      <th>6</th>\n",
       "      <td>73 m²</td>\n",
       "      <td>73</td>\n",
       "    </tr>\n",
       "    <tr>\n",
       "      <th>7</th>\n",
       "      <td>111 m²</td>\n",
       "      <td>111</td>\n",
       "    </tr>\n",
       "    <tr>\n",
       "      <th>8</th>\n",
       "      <td>The Leinster Property Auctions</td>\n",
       "      <td>NaN</td>\n",
       "    </tr>\n",
       "    <tr>\n",
       "      <th>9</th>\n",
       "      <td>192 m²</td>\n",
       "      <td>192</td>\n",
       "    </tr>\n",
       "  </tbody>\n",
       "</table>\n",
       "</div>"
      ],
      "text/plain": [
       "                           before after\n",
       "0                          253 m²   253\n",
       "1      For Sale by Private Treaty   NaN\n",
       "2                          165 m²   165\n",
       "3                          131 m²   131\n",
       "4                          188 m²   188\n",
       "5      For Sale by Private Treaty   NaN\n",
       "6                           73 m²    73\n",
       "7                          111 m²   111\n",
       "8  The Leinster Property Auctions   NaN\n",
       "9                          192 m²   192"
      ]
     },
     "execution_count": 30,
     "metadata": {},
     "output_type": "execute_result"
    }
   ],
   "source": [
    "pd.DataFrame({'before': sale.dropna(subset=['floor_area'])['floor_area'], \n",
    "              'after': process_floor_area(sale)['floor_area']}).head(10)"
   ]
  },
  {
   "cell_type": "markdown",
   "id": "c317e61a-172b-445a-b06a-7727614f5870",
   "metadata": {},
   "source": [
    "The following function helps us dropping all rows that do not contain the pattern `m²` as well as those with missing values. Furthermore, it will wrang the column to let us analyze the data in the next notebook."
   ]
  },
  {
   "cell_type": "code",
   "execution_count": 31,
   "id": "7ce1917c-2b93-412f-8a03-11058f4a2ace",
   "metadata": {},
   "outputs": [
    {
     "name": "stdout",
     "output_type": "stream",
     "text": [
      "Rows after dropping: 13899\n",
      "Rows after dropping: 7757\n",
      "----------\n",
      "Difference: -6142\n"
     ]
    }
   ],
   "source": [
    "sale = process_floor_area(sale)"
   ]
  },
  {
   "cell_type": "markdown",
   "id": "103e38d8-1204-47cb-808a-e56c73f22145",
   "metadata": {
    "tags": []
   },
   "source": [
    "# Info"
   ]
  },
  {
   "cell_type": "markdown",
   "id": "10e086fd-f681-488e-a239-90488dc78833",
   "metadata": {},
   "source": [
    "If we look at the info example we can see four variables into the same column, so it would be a good idea to split them in different columns."
   ]
  },
  {
   "cell_type": "code",
   "execution_count": 32,
   "id": "ce7cc64e-6ef2-4a83-8d81-5da962bc7f8a",
   "metadata": {},
   "outputs": [
    {
     "data": {
      "text/html": [
       "<div>\n",
       "<style scoped>\n",
       "    .dataframe tbody tr th:only-of-type {\n",
       "        vertical-align: middle;\n",
       "    }\n",
       "\n",
       "    .dataframe tbody tr th {\n",
       "        vertical-align: top;\n",
       "    }\n",
       "\n",
       "    .dataframe thead th {\n",
       "        text-align: right;\n",
       "    }\n",
       "</style>\n",
       "<table border=\"1\" class=\"dataframe\">\n",
       "  <thead>\n",
       "    <tr style=\"text-align: right;\">\n",
       "      <th></th>\n",
       "      <th>info</th>\n",
       "      <th>floor_area</th>\n",
       "    </tr>\n",
       "  </thead>\n",
       "  <tbody>\n",
       "    <tr>\n",
       "      <th>8090</th>\n",
       "      <td>3 Bed,2 Bath,100 m²,Semi-D</td>\n",
       "      <td>100</td>\n",
       "    </tr>\n",
       "    <tr>\n",
       "      <th>9462</th>\n",
       "      <td>3 Bed,3 Bath,98 m²,Semi-D</td>\n",
       "      <td>98</td>\n",
       "    </tr>\n",
       "    <tr>\n",
       "      <th>4777</th>\n",
       "      <td>4 Bed,3 Bath,148 m²,Semi-D</td>\n",
       "      <td>148</td>\n",
       "    </tr>\n",
       "    <tr>\n",
       "      <th>602</th>\n",
       "      <td>3 Bed,2 Bath,228 m²,Terrace</td>\n",
       "      <td>228</td>\n",
       "    </tr>\n",
       "    <tr>\n",
       "      <th>822</th>\n",
       "      <td>4 Bed,2 Bath,164 m²,Detached</td>\n",
       "      <td>164</td>\n",
       "    </tr>\n",
       "  </tbody>\n",
       "</table>\n",
       "</div>"
      ],
      "text/plain": [
       "                              info floor_area\n",
       "8090    3 Bed,2 Bath,100 m²,Semi-D        100\n",
       "9462     3 Bed,3 Bath,98 m²,Semi-D         98\n",
       "4777    4 Bed,3 Bath,148 m²,Semi-D        148\n",
       "602    3 Bed,2 Bath,228 m²,Terrace        228\n",
       "822   4 Bed,2 Bath,164 m²,Detached        164"
      ]
     },
     "execution_count": 32,
     "metadata": {},
     "output_type": "execute_result"
    }
   ],
   "source": [
    "sale[['info', 'floor_area']].sample(5)"
   ]
  },
  {
   "cell_type": "markdown",
   "id": "c116ce37-3312-4b9b-9cf7-e66407049686",
   "metadata": {},
   "source": [
    "Also, we can see that there is no more missing values in the `info` column."
   ]
  },
  {
   "cell_type": "code",
   "execution_count": 33,
   "id": "d77d7c72-1d0b-4f02-9bc2-9a8cfc59b90f",
   "metadata": {},
   "outputs": [
    {
     "data": {
      "text/plain": [
       "0"
      ]
     },
     "execution_count": 33,
     "metadata": {},
     "output_type": "execute_result"
    }
   ],
   "source": [
    "sale['info'].isna().sum()"
   ]
  },
  {
   "cell_type": "markdown",
   "id": "019ababf-13ad-4912-aa32-84984e9cb262",
   "metadata": {},
   "source": [
    "Let's check the possible data point's length after been splitted by a comma:"
   ]
  },
  {
   "cell_type": "code",
   "execution_count": 34,
   "id": "d7309e21-70d0-45b6-b5dc-08bbb7dbfb62",
   "metadata": {},
   "outputs": [
    {
     "data": {
      "text/html": [
       "<div>\n",
       "<style scoped>\n",
       "    .dataframe tbody tr th:only-of-type {\n",
       "        vertical-align: middle;\n",
       "    }\n",
       "\n",
       "    .dataframe tbody tr th {\n",
       "        vertical-align: top;\n",
       "    }\n",
       "\n",
       "    .dataframe thead th {\n",
       "        text-align: right;\n",
       "    }\n",
       "</style>\n",
       "<table border=\"1\" class=\"dataframe\">\n",
       "  <thead>\n",
       "    <tr style=\"text-align: right;\">\n",
       "      <th></th>\n",
       "      <th>Absolute</th>\n",
       "      <th>Relative</th>\n",
       "    </tr>\n",
       "  </thead>\n",
       "  <tbody>\n",
       "    <tr>\n",
       "      <th>4</th>\n",
       "      <td>7662</td>\n",
       "      <td>0.987753</td>\n",
       "    </tr>\n",
       "    <tr>\n",
       "      <th>3</th>\n",
       "      <td>81</td>\n",
       "      <td>0.010442</td>\n",
       "    </tr>\n",
       "    <tr>\n",
       "      <th>2</th>\n",
       "      <td>14</td>\n",
       "      <td>0.001805</td>\n",
       "    </tr>\n",
       "  </tbody>\n",
       "</table>\n",
       "</div>"
      ],
      "text/plain": [
       "   Absolute  Relative\n",
       "4      7662  0.987753\n",
       "3        81  0.010442\n",
       "2        14  0.001805"
      ]
     },
     "execution_count": 34,
     "metadata": {},
     "output_type": "execute_result"
    }
   ],
   "source": [
    "# Create a DataFrame with the number of values with different lengths\n",
    "pd.DataFrame({'Absolute': sale['info'].str.split(',').apply(len).value_counts(), \n",
    "              'Relative': sale['info'].str.split(',').apply(len).value_counts() / sale.shape[0]})"
   ]
  },
  {
   "cell_type": "markdown",
   "id": "c013fa86-4c1b-4080-9c83-0be4dda6b201",
   "metadata": {},
   "source": [
    "Let's dig a little deeper into the different cases."
   ]
  },
  {
   "cell_type": "markdown",
   "id": "2f9dd7ca-2909-4e0b-8993-71507cece674",
   "metadata": {},
   "source": [
    "**1. Length = 2**"
   ]
  },
  {
   "cell_type": "markdown",
   "id": "f49fb1c3-e235-40fb-819a-bf90e39c5edc",
   "metadata": {},
   "source": [
    "Ads with splitted `info` length equal to two usually forget both the number of bedrooms and bathrooms."
   ]
  },
  {
   "cell_type": "code",
   "execution_count": 35,
   "id": "ccd6db5e-d4fc-4e1b-90ce-e0c5e372ad32",
   "metadata": {},
   "outputs": [
    {
     "data": {
      "text/html": [
       "<div>\n",
       "<style scoped>\n",
       "    .dataframe tbody tr th:only-of-type {\n",
       "        vertical-align: middle;\n",
       "    }\n",
       "\n",
       "    .dataframe tbody tr th {\n",
       "        vertical-align: top;\n",
       "    }\n",
       "\n",
       "    .dataframe thead th {\n",
       "        text-align: right;\n",
       "    }\n",
       "</style>\n",
       "<table border=\"1\" class=\"dataframe\">\n",
       "  <thead>\n",
       "    <tr style=\"text-align: right;\">\n",
       "      <th></th>\n",
       "      <th>info</th>\n",
       "      <th>floor_area</th>\n",
       "    </tr>\n",
       "  </thead>\n",
       "  <tbody>\n",
       "    <tr>\n",
       "      <th>2290</th>\n",
       "      <td>41 m²,Studio</td>\n",
       "      <td>41</td>\n",
       "    </tr>\n",
       "    <tr>\n",
       "      <th>10826</th>\n",
       "      <td>2900 m²,Detached</td>\n",
       "      <td>2900</td>\n",
       "    </tr>\n",
       "    <tr>\n",
       "      <th>10998</th>\n",
       "      <td>30 m²,Studio</td>\n",
       "      <td>30</td>\n",
       "    </tr>\n",
       "    <tr>\n",
       "      <th>6924</th>\n",
       "      <td>3035 m²,Detached</td>\n",
       "      <td>3035</td>\n",
       "    </tr>\n",
       "    <tr>\n",
       "      <th>95</th>\n",
       "      <td>99 m²,Terrace</td>\n",
       "      <td>99</td>\n",
       "    </tr>\n",
       "  </tbody>\n",
       "</table>\n",
       "</div>"
      ],
      "text/plain": [
       "                   info floor_area\n",
       "2290       41 m²,Studio         41\n",
       "10826  2900 m²,Detached       2900\n",
       "10998      30 m²,Studio         30\n",
       "6924   3035 m²,Detached       3035\n",
       "95        99 m²,Terrace         99"
      ]
     },
     "execution_count": 35,
     "metadata": {},
     "output_type": "execute_result"
    }
   ],
   "source": [
    "# Splitted `info` length = 2\n",
    "#sale.dropna(subset=['info']).loc[sale['info'].dropna().str.split(',').apply(len) == 2, ['info', 'floor_area']].sample(5) \n",
    "sale.loc[sale['info'].str.split(',').apply(len) == 2, ['info', 'floor_area']].sample(5) "
   ]
  },
  {
   "cell_type": "markdown",
   "id": "13bb9d98-29fa-495d-a31d-88bd2187656f",
   "metadata": {},
   "source": [
    "**2. Length = 3**"
   ]
  },
  {
   "cell_type": "markdown",
   "id": "e52b0077-7410-47db-a066-a92ab80e687b",
   "metadata": {},
   "source": [
    "If we check the rows which have a splitted `info` length of three we will see the following pattern where the advertiser forgot to add the number of bathrooms or the number of bedrooms. Usually he forgot the number of bathrooms."
   ]
  },
  {
   "cell_type": "code",
   "execution_count": 36,
   "id": "b2cba4ab-0f49-4162-ab20-ba4f37f966c0",
   "metadata": {},
   "outputs": [
    {
     "data": {
      "text/html": [
       "<div>\n",
       "<style scoped>\n",
       "    .dataframe tbody tr th:only-of-type {\n",
       "        vertical-align: middle;\n",
       "    }\n",
       "\n",
       "    .dataframe tbody tr th {\n",
       "        vertical-align: top;\n",
       "    }\n",
       "\n",
       "    .dataframe thead th {\n",
       "        text-align: right;\n",
       "    }\n",
       "</style>\n",
       "<table border=\"1\" class=\"dataframe\">\n",
       "  <thead>\n",
       "    <tr style=\"text-align: right;\">\n",
       "      <th></th>\n",
       "      <th>info</th>\n",
       "      <th>floor_area</th>\n",
       "    </tr>\n",
       "  </thead>\n",
       "  <tbody>\n",
       "    <tr>\n",
       "      <th>265</th>\n",
       "      <td>3 Bed,90 m²,Semi-D</td>\n",
       "      <td>90</td>\n",
       "    </tr>\n",
       "    <tr>\n",
       "      <th>383</th>\n",
       "      <td>2 Bed,79 m²,Apartment</td>\n",
       "      <td>79</td>\n",
       "    </tr>\n",
       "    <tr>\n",
       "      <th>984</th>\n",
       "      <td>2 Bed,64 m²,Terrace</td>\n",
       "      <td>64</td>\n",
       "    </tr>\n",
       "    <tr>\n",
       "      <th>987</th>\n",
       "      <td>4 Bed,173 m²,Terrace</td>\n",
       "      <td>173</td>\n",
       "    </tr>\n",
       "    <tr>\n",
       "      <th>1390</th>\n",
       "      <td>6 Bed,190 m²,End of Terrace</td>\n",
       "      <td>190</td>\n",
       "    </tr>\n",
       "  </tbody>\n",
       "</table>\n",
       "</div>"
      ],
      "text/plain": [
       "                             info floor_area\n",
       "265            3 Bed,90 m²,Semi-D         90\n",
       "383         2 Bed,79 m²,Apartment         79\n",
       "984           2 Bed,64 m²,Terrace         64\n",
       "987          4 Bed,173 m²,Terrace        173\n",
       "1390  6 Bed,190 m²,End of Terrace        190"
      ]
     },
     "execution_count": 36,
     "metadata": {},
     "output_type": "execute_result"
    }
   ],
   "source": [
    "sale.loc[(sale['info'].str.split(',').apply(len) == 3), ['info', 'floor_area']].head()"
   ]
  },
  {
   "cell_type": "markdown",
   "id": "6fadfb45-0ff2-44b8-aa39-b64d5c754481",
   "metadata": {},
   "source": [
    "**-> Conclusions**"
   ]
  },
  {
   "cell_type": "markdown",
   "id": "f77d7a01-51cc-4ebc-a56a-10401f2db78d",
   "metadata": {},
   "source": [
    "Since rows that forget one or two values are so few we can drop them instead filling the lack of information.  \n",
    "\n",
    "We will split the other ones into three columns as we already have the floor area."
   ]
  },
  {
   "cell_type": "markdown",
   "id": "8b4bf153-1469-4210-8c40-5c9e6215f072",
   "metadata": {},
   "source": [
    "Wrangling and cleansing tasks: \n",
    "\n",
    "|Value structure in ad's price|Number of ads|Percentage of ads|Task|\n",
    "|:---:|:---:|:---:|:---:|\n",
    "|4|7662|0.98|Wrangling: Split into 3 columns|\n",
    "|3|81|0.01|Drop|\n",
    "|2|14|0.001|Drop|"
   ]
  },
  {
   "cell_type": "markdown",
   "id": "43eab5e9-415a-4eb0-8c5e-8c9c6804e709",
   "metadata": {},
   "source": [
    "So let's do it! We will use a fuction to drop those rows which have a splitted `info` length less than four and we will split the other ones into three new columns as well as dropping the `info` column."
   ]
  },
  {
   "cell_type": "code",
   "execution_count": 37,
   "id": "71cc2c8b-b890-4e52-adad-0a64e434c8d0",
   "metadata": {},
   "outputs": [
    {
     "name": "stdout",
     "output_type": "stream",
     "text": [
      "Shape before dropping: (7757, 18)\n",
      "Shape after dropping: (7662, 18)\n",
      "----------\n",
      "Dropped: 95 rows\n",
      "\n",
      "Shape before splitting: (7662, 18)\n",
      "Shape after splitting: (7662, 20)\n",
      "----------\n",
      "Difference: 2 columns\n"
     ]
    }
   ],
   "source": [
    "sale = process_info(sale)"
   ]
  },
  {
   "cell_type": "markdown",
   "id": "da344587-9bae-4d58-ad26-dd9a2e17e3fa",
   "metadata": {
    "tags": []
   },
   "source": [
    "# Views"
   ]
  },
  {
   "cell_type": "code",
   "execution_count": 38,
   "id": "09c30e0f-7154-4018-aaf1-7f89a00d8717",
   "metadata": {},
   "outputs": [
    {
     "data": {
      "text/html": [
       "<div>\n",
       "<style scoped>\n",
       "    .dataframe tbody tr th:only-of-type {\n",
       "        vertical-align: middle;\n",
       "    }\n",
       "\n",
       "    .dataframe tbody tr th {\n",
       "        vertical-align: top;\n",
       "    }\n",
       "\n",
       "    .dataframe thead th {\n",
       "        text-align: right;\n",
       "    }\n",
       "</style>\n",
       "<table border=\"1\" class=\"dataframe\">\n",
       "  <thead>\n",
       "    <tr style=\"text-align: right;\">\n",
       "      <th></th>\n",
       "      <th>views</th>\n",
       "    </tr>\n",
       "  </thead>\n",
       "  <tbody>\n",
       "    <tr>\n",
       "      <th>11801</th>\n",
       "      <td>9,464</td>\n",
       "    </tr>\n",
       "    <tr>\n",
       "      <th>3613</th>\n",
       "      <td>3,519</td>\n",
       "    </tr>\n",
       "    <tr>\n",
       "      <th>6824</th>\n",
       "      <td>5,114</td>\n",
       "    </tr>\n",
       "  </tbody>\n",
       "</table>\n",
       "</div>"
      ],
      "text/plain": [
       "       views\n",
       "11801  9,464\n",
       "3613   3,519\n",
       "6824   5,114"
      ]
     },
     "execution_count": 38,
     "metadata": {},
     "output_type": "execute_result"
    }
   ],
   "source": [
    "sale[['views']].sample(3)"
   ]
  },
  {
   "cell_type": "markdown",
   "id": "92ccce6d-28a9-427c-b424-93b68fcdadb4",
   "metadata": {},
   "source": [
    "The only wrangling task we have to apply in the `views` column is to quit the comma. We have a simple function for that. "
   ]
  },
  {
   "cell_type": "code",
   "execution_count": 39,
   "id": "6e535a2a-db34-4c56-9582-33013a15b4db",
   "metadata": {},
   "outputs": [],
   "source": [
    "sale = process_views(sale)"
   ]
  },
  {
   "cell_type": "markdown",
   "id": "31cad9eb-b5fb-4c3b-894b-f86dbb398bc7",
   "metadata": {
    "tags": []
   },
   "source": [
    "# Bedroom and Bathroom"
   ]
  },
  {
   "cell_type": "markdown",
   "id": "59ce2fc0-c117-4a8a-954b-1386ca609468",
   "metadata": {},
   "source": [
    "The only wrangling task we need to apply on `bedroom` and `bathroom` columns is isolating the number and erasing the word."
   ]
  },
  {
   "cell_type": "code",
   "execution_count": 40,
   "id": "98870415-2513-4e11-94fb-c23d2188ce00",
   "metadata": {},
   "outputs": [
    {
     "data": {
      "text/html": [
       "<div>\n",
       "<style scoped>\n",
       "    .dataframe tbody tr th:only-of-type {\n",
       "        vertical-align: middle;\n",
       "    }\n",
       "\n",
       "    .dataframe tbody tr th {\n",
       "        vertical-align: top;\n",
       "    }\n",
       "\n",
       "    .dataframe thead th {\n",
       "        text-align: right;\n",
       "    }\n",
       "</style>\n",
       "<table border=\"1\" class=\"dataframe\">\n",
       "  <thead>\n",
       "    <tr style=\"text-align: right;\">\n",
       "      <th></th>\n",
       "      <th>bedroom</th>\n",
       "    </tr>\n",
       "  </thead>\n",
       "  <tbody>\n",
       "    <tr>\n",
       "      <th>4190</th>\n",
       "      <td>2 Bed</td>\n",
       "    </tr>\n",
       "    <tr>\n",
       "      <th>4917</th>\n",
       "      <td>4 Bed</td>\n",
       "    </tr>\n",
       "    <tr>\n",
       "      <th>4775</th>\n",
       "      <td>3 Bed</td>\n",
       "    </tr>\n",
       "  </tbody>\n",
       "</table>\n",
       "</div>"
      ],
      "text/plain": [
       "     bedroom\n",
       "4190   2 Bed\n",
       "4917   4 Bed\n",
       "4775   3 Bed"
      ]
     },
     "execution_count": 40,
     "metadata": {},
     "output_type": "execute_result"
    }
   ],
   "source": [
    "sale[['bedroom']].sample(3)"
   ]
  },
  {
   "cell_type": "code",
   "execution_count": 41,
   "id": "2a00e38d-8b51-4768-831b-f920a1e3df0e",
   "metadata": {},
   "outputs": [
    {
     "data": {
      "text/html": [
       "<div>\n",
       "<style scoped>\n",
       "    .dataframe tbody tr th:only-of-type {\n",
       "        vertical-align: middle;\n",
       "    }\n",
       "\n",
       "    .dataframe tbody tr th {\n",
       "        vertical-align: top;\n",
       "    }\n",
       "\n",
       "    .dataframe thead th {\n",
       "        text-align: right;\n",
       "    }\n",
       "</style>\n",
       "<table border=\"1\" class=\"dataframe\">\n",
       "  <thead>\n",
       "    <tr style=\"text-align: right;\">\n",
       "      <th></th>\n",
       "      <th>bathroom</th>\n",
       "    </tr>\n",
       "  </thead>\n",
       "  <tbody>\n",
       "    <tr>\n",
       "      <th>4617</th>\n",
       "      <td>1 Bath</td>\n",
       "    </tr>\n",
       "    <tr>\n",
       "      <th>3409</th>\n",
       "      <td>1 Bath</td>\n",
       "    </tr>\n",
       "    <tr>\n",
       "      <th>11128</th>\n",
       "      <td>4 Bath</td>\n",
       "    </tr>\n",
       "  </tbody>\n",
       "</table>\n",
       "</div>"
      ],
      "text/plain": [
       "      bathroom\n",
       "4617    1 Bath\n",
       "3409    1 Bath\n",
       "11128   4 Bath"
      ]
     },
     "execution_count": 41,
     "metadata": {},
     "output_type": "execute_result"
    }
   ],
   "source": [
    "sale[['bathroom']].sample(3)"
   ]
  },
  {
   "cell_type": "markdown",
   "id": "6e3c30b3-12cf-4052-801c-9553a5c098fb",
   "metadata": {},
   "source": [
    "We have a simple function prepared to do it."
   ]
  },
  {
   "cell_type": "code",
   "execution_count": 42,
   "id": "03eb4c88-e0e3-4e5a-a8d4-4a328a13a00a",
   "metadata": {},
   "outputs": [],
   "source": [
    "sale = process_rooms(sale)"
   ]
  },
  {
   "cell_type": "code",
   "execution_count": 43,
   "id": "1d2bc504-f921-48e5-8d67-2bdfce2631b1",
   "metadata": {},
   "outputs": [
    {
     "data": {
      "text/html": [
       "<div>\n",
       "<style scoped>\n",
       "    .dataframe tbody tr th:only-of-type {\n",
       "        vertical-align: middle;\n",
       "    }\n",
       "\n",
       "    .dataframe tbody tr th {\n",
       "        vertical-align: top;\n",
       "    }\n",
       "\n",
       "    .dataframe thead th {\n",
       "        text-align: right;\n",
       "    }\n",
       "</style>\n",
       "<table border=\"1\" class=\"dataframe\">\n",
       "  <thead>\n",
       "    <tr style=\"text-align: right;\">\n",
       "      <th></th>\n",
       "      <th>bedroom</th>\n",
       "      <th>bathroom</th>\n",
       "    </tr>\n",
       "  </thead>\n",
       "  <tbody>\n",
       "    <tr>\n",
       "      <th>7620</th>\n",
       "      <td>4</td>\n",
       "      <td>4</td>\n",
       "    </tr>\n",
       "    <tr>\n",
       "      <th>1105</th>\n",
       "      <td>3</td>\n",
       "      <td>2</td>\n",
       "    </tr>\n",
       "    <tr>\n",
       "      <th>3786</th>\n",
       "      <td>3</td>\n",
       "      <td>1</td>\n",
       "    </tr>\n",
       "  </tbody>\n",
       "</table>\n",
       "</div>"
      ],
      "text/plain": [
       "     bedroom bathroom\n",
       "7620       4        4\n",
       "1105       3        2\n",
       "3786       3        1"
      ]
     },
     "execution_count": 43,
     "metadata": {},
     "output_type": "execute_result"
    }
   ],
   "source": [
    "sale[['bedroom', 'bathroom']].sample(3)"
   ]
  },
  {
   "cell_type": "markdown",
   "id": "786314ac-69be-43a8-b0aa-999456700f9b",
   "metadata": {
    "tags": []
   },
   "source": [
    "# Ber and Type House"
   ]
  },
  {
   "cell_type": "markdown",
   "id": "b78e2489-dbef-41d8-b6e8-4bb4dc86ae2c",
   "metadata": {},
   "source": [
    "![](imgs/ber.png)\n",
    "\n",
    "[Building Energy Rating Certificate, SEAI](https://www.seai.ie/home-energy/building-energy-rating-ber/)\n",
    "\n",
    "[Buiding Energy Rating Guide](https://www.seai.ie/publications/Your-Guide-to-Building-Energy-Rating.pdf)"
   ]
  },
  {
   "cell_type": "markdown",
   "id": "60a0fd35-6d04-497b-a27a-b2d764b14124",
   "metadata": {},
   "source": [
    "`ber` and `type_house` columns don't need wrangling tasks since we extracted them pretty well thanks to Scrapy.\n",
    "\n",
    "However, both columns contain aroun a 25% of missing values each one. We will leave them as they are for now."
   ]
  },
  {
   "cell_type": "code",
   "execution_count": 44,
   "id": "3d70a340-bcae-4116-be87-1821efd8f474",
   "metadata": {},
   "outputs": [
    {
     "data": {
      "text/html": [
       "<div>\n",
       "<style scoped>\n",
       "    .dataframe tbody tr th:only-of-type {\n",
       "        vertical-align: middle;\n",
       "    }\n",
       "\n",
       "    .dataframe tbody tr th {\n",
       "        vertical-align: top;\n",
       "    }\n",
       "\n",
       "    .dataframe thead th {\n",
       "        text-align: right;\n",
       "    }\n",
       "</style>\n",
       "<table border=\"1\" class=\"dataframe\">\n",
       "  <thead>\n",
       "    <tr style=\"text-align: right;\">\n",
       "      <th></th>\n",
       "      <th>ber</th>\n",
       "      <th>type_house</th>\n",
       "    </tr>\n",
       "  </thead>\n",
       "  <tbody>\n",
       "    <tr>\n",
       "      <th>7255</th>\n",
       "      <td>B3</td>\n",
       "      <td>apartment</td>\n",
       "    </tr>\n",
       "    <tr>\n",
       "      <th>4645</th>\n",
       "      <td>C2</td>\n",
       "      <td>apartment</td>\n",
       "    </tr>\n",
       "    <tr>\n",
       "      <th>8475</th>\n",
       "      <td>E1</td>\n",
       "      <td>house</td>\n",
       "    </tr>\n",
       "  </tbody>\n",
       "</table>\n",
       "</div>"
      ],
      "text/plain": [
       "     ber type_house\n",
       "7255  B3  apartment\n",
       "4645  C2  apartment\n",
       "8475  E1      house"
      ]
     },
     "execution_count": 44,
     "metadata": {},
     "output_type": "execute_result"
    }
   ],
   "source": [
    "sale[['ber', 'type_house']].sample(3)"
   ]
  },
  {
   "cell_type": "markdown",
   "id": "3deab2bd-e4ec-4b32-b081-3979affe0060",
   "metadata": {
    "tags": []
   },
   "source": [
    "# PSR"
   ]
  },
  {
   "cell_type": "markdown",
   "id": "2e1cf5a3-5a05-430f-97af-a7d954c473f3",
   "metadata": {},
   "source": [
    "The Register identifies licensed property service providers by name, number, licence type and location.\n",
    "\n",
    "You can find more information about PSR Licence Number in the [Property Seervices Regulatory Authority website](http://www.psr.ie/en/PSRA/Pages/Register_Licensed_PSP)."
   ]
  },
  {
   "cell_type": "code",
   "execution_count": 45,
   "id": "53dc318f-4c6f-4210-8d09-e35e5bd19f74",
   "metadata": {},
   "outputs": [
    {
     "data": {
      "text/html": [
       "<div>\n",
       "<style scoped>\n",
       "    .dataframe tbody tr th:only-of-type {\n",
       "        vertical-align: middle;\n",
       "    }\n",
       "\n",
       "    .dataframe tbody tr th {\n",
       "        vertical-align: top;\n",
       "    }\n",
       "\n",
       "    .dataframe thead th {\n",
       "        text-align: right;\n",
       "    }\n",
       "</style>\n",
       "<table border=\"1\" class=\"dataframe\">\n",
       "  <thead>\n",
       "    <tr style=\"text-align: right;\">\n",
       "      <th></th>\n",
       "      <th>psr</th>\n",
       "    </tr>\n",
       "  </thead>\n",
       "  <tbody>\n",
       "    <tr>\n",
       "      <th>4050</th>\n",
       "      <td>002183</td>\n",
       "    </tr>\n",
       "    <tr>\n",
       "      <th>12828</th>\n",
       "      <td>002823</td>\n",
       "    </tr>\n",
       "    <tr>\n",
       "      <th>13224</th>\n",
       "      <td>004259</td>\n",
       "    </tr>\n",
       "  </tbody>\n",
       "</table>\n",
       "</div>"
      ],
      "text/plain": [
       "          psr\n",
       "4050   002183\n",
       "12828  002823\n",
       "13224  004259"
      ]
     },
     "execution_count": 45,
     "metadata": {},
     "output_type": "execute_result"
    }
   ],
   "source": [
    "sale[['psr']].sample(3)"
   ]
  },
  {
   "cell_type": "markdown",
   "id": "b3ed386e-bb01-45ae-97a4-f8231c705f97",
   "metadata": {
    "tags": []
   },
   "source": [
    "# Description"
   ]
  },
  {
   "cell_type": "markdown",
   "id": "556d96ba-6726-42cf-8652-196648ba8f37",
   "metadata": {},
   "source": [
    "This information won't be used for now but I will keep it."
   ]
  },
  {
   "cell_type": "code",
   "execution_count": 46,
   "id": "0f651cd2-5b71-49d6-8498-c7f7bc222827",
   "metadata": {},
   "outputs": [
    {
     "data": {
      "text/plain": [
       "array(['Dwelling on 6.25 Acres\\r\\nSpectacular views to the rear of the property with potential to create beautiful family home.\\r\\n13km from the Town of Ardee\\r\\n\\r\\nThis two bed property extending to 81 square metres / 881 square feet contains; entrance hall, sitting room, living area, utility, kitchen, toilet, stairs, bedroom (1) & bedroom (2). \\r\\n\\r\\nThe land extending to 6.25 acres offers tremendous potential to extend the property into a beautiful family home subject to the necessary planning permission. Useful outbuildings with the property.\\r\\n\\r\\nServices \\r\\nWater by private well, sewerage by septic tank and heating for one radiator off solid fuel stove in living area.\\r\\n\\r\\nThe property is situated just 7km from the Village of Nobber and 13km from the Town of Ardee off the N52.\\r\\nDirections: From Navan travel the R162 and when you reach Nobber turn right onto the L3401 signposted Drumconrath. Continue for 4.6km and turn left (signpost for Halpin Aluminium), take the next right and the property is 220 metres up on the left hand side'],\n",
       "      dtype=object)"
      ]
     },
     "execution_count": 46,
     "metadata": {},
     "output_type": "execute_result"
    }
   ],
   "source": [
    "sale['description'].sample().values"
   ]
  },
  {
   "cell_type": "markdown",
   "id": "2704d910-b70f-407f-a6d7-6f957fa1830f",
   "metadata": {
    "tags": []
   },
   "source": [
    "# Other columns"
   ]
  },
  {
   "cell_type": "markdown",
   "id": "ee65d882-bed7-464d-81fa-f2b186d830bd",
   "metadata": {
    "tags": []
   },
   "source": [
    "### Daft_id, Item_id, url, Name"
   ]
  },
  {
   "cell_type": "markdown",
   "id": "7017d63a-801a-4f08-b9c2-3dfbd58b0ba9",
   "metadata": {},
   "source": [
    "These four columns don't seem very useful in order to infer houses prices. However, we should keep some of them for several reasons. \n",
    "\n",
    "- `daft_id`: This is the ad identifier provided by the website.\n",
    "- `item_id`: After know that the website provides an identifier I bilt one so now it is completely useless. This identifier was extracted from the ad's url.\n",
    "- `url`: The url could be useful as an indentifier but I prefer to give that task to the `daft.ie` column. The url will be saved just in case we need to check some advertisements.\n",
    "- `name`: It can't be used as an idetifier because is possible to have some of them repeated. We will keep it because it could provide some information, but a priori I don't think we will use it.\n",
    "\n",
    "|Column|What to do?|\n",
    "|:---:|:---:|\n",
    "|daft_ie|Keep|\n",
    "|item_ie|Drop|\n",
    "|url|Keep|\n",
    "|name|Keep|"
   ]
  },
  {
   "cell_type": "code",
   "execution_count": 47,
   "id": "6adc5b67-4548-4644-b3c0-43ee46c80f0d",
   "metadata": {},
   "outputs": [],
   "source": [
    "sale.drop(columns='item_id', inplace=True)"
   ]
  },
  {
   "cell_type": "markdown",
   "id": "2cfaf4ba-0bb7-421a-bdbc-b7a84c781d5a",
   "metadata": {
    "tags": []
   },
   "source": [
    "### Sale Type"
   ]
  },
  {
   "cell_type": "markdown",
   "id": "685a5634-8b5f-4933-ab59-c8571dd489d9",
   "metadata": {},
   "source": [
    "The `sale_type` column doesn't seem very interesting but we will keep it by the moment.\n",
    "\n",
    "Also, there are a few ads with prices that seem to be from developments. We will consider those ads as a house."
   ]
  },
  {
   "cell_type": "code",
   "execution_count": 48,
   "id": "ca6dccf0-56cc-4c36-88d9-6e035e6013ed",
   "metadata": {},
   "outputs": [
    {
     "data": {
      "text/plain": [
       "For Sale by Private Treaty                7561\n",
       "1 units available in this development       22\n",
       "For Sale by Public Auction                  17\n",
       "2 units available in this development        9\n",
       "6 units available in this development        8\n",
       "4 units available in this development        7\n",
       "5 units available in this development        7\n",
       "10 units available in this development       7\n",
       "3 units available in this development        5\n",
       "8 units available in this development        3\n",
       "For Sale by Private Tender                   3\n",
       "7 units available in this development        2\n",
       "16 units available in this development       2\n",
       "For Sale by Public Tender                    2\n",
       "20 units available in this development       1\n",
       "26 units available in this development       1\n",
       "12 units available in this development       1\n",
       "9 units available in this development        1\n",
       "13 units available in this development       1\n",
       "88 m²                                        1\n",
       "111 m²                                       1\n",
       "Name: sale_type, dtype: int64"
      ]
     },
     "execution_count": 48,
     "metadata": {},
     "output_type": "execute_result"
    }
   ],
   "source": [
    "sale['sale_type'].value_counts()"
   ]
  },
  {
   "cell_type": "code",
   "execution_count": 49,
   "id": "fa689fab-fb06-48e6-8be8-58ca2a612114",
   "metadata": {},
   "outputs": [
    {
     "data": {
      "text/plain": [
       "array(['https://www.daft.ie/new-home-for-sale/semi-detached-house-4-bedroom-semi-detached-house-archers-wood-archers-wood-delgany-co-wicklow/2744543',\n",
       "       'https://www.daft.ie/new-home-for-sale/semi-detached-house-3-bedroom-semi-detached-archers-wood-archers-wood-delgany-co-wicklow/2743326',\n",
       "       'https://www.daft.ie/new-home-for-sale/terraced-house-3-bedroom-terrace-house-graydon-graydon-newcastle-co-dublin/2534537',\n",
       "       'https://www.daft.ie/new-home-for-sale/terraced-house-type-b-dromdiah-park-dromdiah-park-killeagh-co-cork/3507932',\n",
       "       'https://www.daft.ie/new-home-for-sale/semi-detached-house-house-type-bb-old-forge-road-old-forge-road-milehouse-road-enniscorthy-co-wexford/3509743',\n",
       "       'https://www.daft.ie/new-home-for-sale/duplex-the-maple-breagagh-valley-breagagh-valley-kilkenny-co-kilkenny/3572097',\n",
       "       'https://www.daft.ie/new-home-for-sale/apartment-2-bedroom-apartment-plus-study-donnybrook-gardens-donnybrook-gardens-dublin-4/2515108',\n",
       "       'https://www.daft.ie/new-home-for-sale/apartment-2-bedroom-apartment-donnybrook-gardens-donnybrook-gardens-dublin-4/2515107',\n",
       "       'https://www.daft.ie/new-home-for-sale/semi-detached-house-semi-detached-cul-na-coirre-cul-na-coirre-church-rd-headford-headford-co-galway/3628471'],\n",
       "      dtype=object)"
      ]
     },
     "execution_count": 49,
     "metadata": {},
     "output_type": "execute_result"
    }
   ],
   "source": [
    "sale.loc[sale['sale_type']=='2 units available in this development', 'url'].values"
   ]
  },
  {
   "cell_type": "markdown",
   "id": "c3f73696-c7f3-4460-bcae-08e22cef15c6",
   "metadata": {
    "tags": []
   },
   "source": [
    "### Entered-Renewed"
   ]
  },
  {
   "cell_type": "markdown",
   "id": "093b0352-3aa5-4ab9-82a9-feec8b6a20e5",
   "metadata": {},
   "source": [
    "`entered_renewed` is the date that the ad was entered or renewed. It doesn't need wrangling task but we could convert it to a datetime type. We will do that later in another notebook."
   ]
  },
  {
   "cell_type": "code",
   "execution_count": 50,
   "id": "75ed7366-4fb7-4d4f-9ab0-00f754aa405e",
   "metadata": {},
   "outputs": [
    {
     "data": {
      "text/html": [
       "<div>\n",
       "<style scoped>\n",
       "    .dataframe tbody tr th:only-of-type {\n",
       "        vertical-align: middle;\n",
       "    }\n",
       "\n",
       "    .dataframe tbody tr th {\n",
       "        vertical-align: top;\n",
       "    }\n",
       "\n",
       "    .dataframe thead th {\n",
       "        text-align: right;\n",
       "    }\n",
       "</style>\n",
       "<table border=\"1\" class=\"dataframe\">\n",
       "  <thead>\n",
       "    <tr style=\"text-align: right;\">\n",
       "      <th></th>\n",
       "      <th>entered_renewed</th>\n",
       "    </tr>\n",
       "  </thead>\n",
       "  <tbody>\n",
       "    <tr>\n",
       "      <th>5749</th>\n",
       "      <td>23/11/2021</td>\n",
       "    </tr>\n",
       "    <tr>\n",
       "      <th>9027</th>\n",
       "      <td>24/11/2021</td>\n",
       "    </tr>\n",
       "    <tr>\n",
       "      <th>6802</th>\n",
       "      <td>24/11/2021</td>\n",
       "    </tr>\n",
       "  </tbody>\n",
       "</table>\n",
       "</div>"
      ],
      "text/plain": [
       "     entered_renewed\n",
       "5749      23/11/2021\n",
       "9027      24/11/2021\n",
       "6802      24/11/2021"
      ]
     },
     "execution_count": 50,
     "metadata": {},
     "output_type": "execute_result"
    }
   ],
   "source": [
    "sale[['entered_renewed']].sample(3)"
   ]
  },
  {
   "cell_type": "markdown",
   "id": "f9f7f531-9356-4a63-b5d1-b0c8d3df6a73",
   "metadata": {
    "tags": []
   },
   "source": [
    "### Type"
   ]
  },
  {
   "cell_type": "markdown",
   "id": "7c1f7515-1cbe-45a9-aaac-506be063f5de",
   "metadata": {},
   "source": [
    "This column shows whether the ad is for sale or for rent. There are houses and rooms for rent in the other table of the database."
   ]
  },
  {
   "cell_type": "code",
   "execution_count": 51,
   "id": "9e57e564-f348-40af-b821-229d194ee1bf",
   "metadata": {},
   "outputs": [
    {
     "data": {
      "text/plain": [
       "buy    7662\n",
       "Name: type, dtype: int64"
      ]
     },
     "execution_count": 51,
     "metadata": {},
     "output_type": "execute_result"
    }
   ],
   "source": [
    "sale['type'].value_counts()"
   ]
  },
  {
   "cell_type": "markdown",
   "id": "e0e99cf3-30f7-4281-aee5-3cd45c68dae7",
   "metadata": {
    "tags": []
   },
   "source": [
    "### scraping_date"
   ]
  },
  {
   "cell_type": "code",
   "execution_count": 52,
   "id": "b79fc390-6725-4231-8408-97a69afc8b59",
   "metadata": {},
   "outputs": [
    {
     "data": {
      "text/plain": [
       "2021-11-25    7662\n",
       "Name: scraping_date, dtype: int64"
      ]
     },
     "execution_count": 52,
     "metadata": {},
     "output_type": "execute_result"
    }
   ],
   "source": [
    "sale['scraping_date'].value_counts()"
   ]
  },
  {
   "cell_type": "markdown",
   "id": "9492dc73-e6bc-473e-bc55-0ed39fa64ebd",
   "metadata": {
    "tags": []
   },
   "source": [
    "# Check Missing Values"
   ]
  },
  {
   "cell_type": "code",
   "execution_count": 53,
   "id": "d6138988-1c87-449c-957d-e3a8358fd6cf",
   "metadata": {},
   "outputs": [
    {
     "data": {
      "text/html": [
       "<div>\n",
       "<style scoped>\n",
       "    .dataframe tbody tr th:only-of-type {\n",
       "        vertical-align: middle;\n",
       "    }\n",
       "\n",
       "    .dataframe tbody tr th {\n",
       "        vertical-align: top;\n",
       "    }\n",
       "\n",
       "    .dataframe thead th {\n",
       "        text-align: right;\n",
       "    }\n",
       "</style>\n",
       "<table border=\"1\" class=\"dataframe\">\n",
       "  <thead>\n",
       "    <tr style=\"text-align: right;\">\n",
       "      <th></th>\n",
       "      <th>Absolute</th>\n",
       "      <th>Relative</th>\n",
       "    </tr>\n",
       "  </thead>\n",
       "  <tbody>\n",
       "    <tr>\n",
       "      <th>daft_id</th>\n",
       "      <td>0</td>\n",
       "      <td>0.000000</td>\n",
       "    </tr>\n",
       "    <tr>\n",
       "      <th>url</th>\n",
       "      <td>0</td>\n",
       "      <td>0.000000</td>\n",
       "    </tr>\n",
       "    <tr>\n",
       "      <th>name</th>\n",
       "      <td>0</td>\n",
       "      <td>0.000000</td>\n",
       "    </tr>\n",
       "    <tr>\n",
       "      <th>price</th>\n",
       "      <td>0</td>\n",
       "      <td>0.000000</td>\n",
       "    </tr>\n",
       "    <tr>\n",
       "      <th>sale_type</th>\n",
       "      <td>0</td>\n",
       "      <td>0.000000</td>\n",
       "    </tr>\n",
       "    <tr>\n",
       "      <th>floor_area</th>\n",
       "      <td>0</td>\n",
       "      <td>0.000000</td>\n",
       "    </tr>\n",
       "    <tr>\n",
       "      <th>psr</th>\n",
       "      <td>16</td>\n",
       "      <td>0.002088</td>\n",
       "    </tr>\n",
       "    <tr>\n",
       "      <th>ber</th>\n",
       "      <td>192</td>\n",
       "      <td>0.025059</td>\n",
       "    </tr>\n",
       "    <tr>\n",
       "      <th>entered_renewed</th>\n",
       "      <td>0</td>\n",
       "      <td>0.000000</td>\n",
       "    </tr>\n",
       "    <tr>\n",
       "      <th>views</th>\n",
       "      <td>0</td>\n",
       "      <td>0.000000</td>\n",
       "    </tr>\n",
       "    <tr>\n",
       "      <th>type_house</th>\n",
       "      <td>487</td>\n",
       "      <td>0.063560</td>\n",
       "    </tr>\n",
       "    <tr>\n",
       "      <th>type</th>\n",
       "      <td>0</td>\n",
       "      <td>0.000000</td>\n",
       "    </tr>\n",
       "    <tr>\n",
       "      <th>scraping_date</th>\n",
       "      <td>0</td>\n",
       "      <td>0.000000</td>\n",
       "    </tr>\n",
       "    <tr>\n",
       "      <th>description</th>\n",
       "      <td>1</td>\n",
       "      <td>0.000131</td>\n",
       "    </tr>\n",
       "    <tr>\n",
       "      <th>latitude</th>\n",
       "      <td>0</td>\n",
       "      <td>0.000000</td>\n",
       "    </tr>\n",
       "    <tr>\n",
       "      <th>longitude</th>\n",
       "      <td>0</td>\n",
       "      <td>0.000000</td>\n",
       "    </tr>\n",
       "    <tr>\n",
       "      <th>bedroom</th>\n",
       "      <td>0</td>\n",
       "      <td>0.000000</td>\n",
       "    </tr>\n",
       "    <tr>\n",
       "      <th>bathroom</th>\n",
       "      <td>0</td>\n",
       "      <td>0.000000</td>\n",
       "    </tr>\n",
       "    <tr>\n",
       "      <th>plus_info</th>\n",
       "      <td>0</td>\n",
       "      <td>0.000000</td>\n",
       "    </tr>\n",
       "  </tbody>\n",
       "</table>\n",
       "</div>"
      ],
      "text/plain": [
       "                 Absolute  Relative\n",
       "daft_id                 0  0.000000\n",
       "url                     0  0.000000\n",
       "name                    0  0.000000\n",
       "price                   0  0.000000\n",
       "sale_type               0  0.000000\n",
       "floor_area              0  0.000000\n",
       "psr                    16  0.002088\n",
       "ber                   192  0.025059\n",
       "entered_renewed         0  0.000000\n",
       "views                   0  0.000000\n",
       "type_house            487  0.063560\n",
       "type                    0  0.000000\n",
       "scraping_date           0  0.000000\n",
       "description             1  0.000131\n",
       "latitude                0  0.000000\n",
       "longitude               0  0.000000\n",
       "bedroom                 0  0.000000\n",
       "bathroom                0  0.000000\n",
       "plus_info               0  0.000000"
      ]
     },
     "execution_count": 53,
     "metadata": {},
     "output_type": "execute_result"
    }
   ],
   "source": [
    "# Check missing values in absolute and relative terms\n",
    "missing_values(sale)"
   ]
  },
  {
   "cell_type": "markdown",
   "id": "3dafd678-b2ba-4e41-a7d2-67e4561786b2",
   "metadata": {
    "tags": []
   },
   "source": [
    "# Save Data"
   ]
  },
  {
   "cell_type": "code",
   "execution_count": 54,
   "id": "6d1fbca1-c7b0-441f-900f-3c0f55e934f6",
   "metadata": {},
   "outputs": [
    {
     "name": "stdout",
     "output_type": "stream",
     "text": [
      "<class 'pandas.core.frame.DataFrame'>\n",
      "Int64Index: 7662 entries, 0 to 13881\n",
      "Data columns (total 19 columns):\n",
      " #   Column           Non-Null Count  Dtype  \n",
      "---  ------           --------------  -----  \n",
      " 0   daft_id          7662 non-null   object \n",
      " 1   url              7662 non-null   object \n",
      " 2   name             7662 non-null   object \n",
      " 3   price            7662 non-null   float64\n",
      " 4   sale_type        7662 non-null   object \n",
      " 5   floor_area       7662 non-null   object \n",
      " 6   psr              7646 non-null   object \n",
      " 7   ber              7470 non-null   object \n",
      " 8   entered_renewed  7662 non-null   object \n",
      " 9   views            7662 non-null   float64\n",
      " 10  type_house       7175 non-null   object \n",
      " 11  type             7662 non-null   object \n",
      " 12  scraping_date    7662 non-null   object \n",
      " 13  description      7661 non-null   object \n",
      " 14  latitude         7662 non-null   float64\n",
      " 15  longitude        7662 non-null   float64\n",
      " 16  bedroom          7662 non-null   object \n",
      " 17  bathroom         7662 non-null   object \n",
      " 18  plus_info        7662 non-null   object \n",
      "dtypes: float64(4), object(15)\n",
      "memory usage: 1.2+ MB\n"
     ]
    }
   ],
   "source": [
    "sale.info()"
   ]
  },
  {
   "cell_type": "code",
   "execution_count": 55,
   "id": "9b80865c-860f-40ed-a854-02aa9ccb8d19",
   "metadata": {},
   "outputs": [],
   "source": [
    "sale.to_csv('data/sale_cleaned.csv', sep=',', index=False) "
   ]
  }
 ],
 "metadata": {
  "kernelspec": {
   "display_name": "Python 3 (ipykernel)",
   "language": "python",
   "name": "python3"
  },
  "language_info": {
   "codemirror_mode": {
    "name": "ipython",
    "version": 3
   },
   "file_extension": ".py",
   "mimetype": "text/x-python",
   "name": "python",
   "nbconvert_exporter": "python",
   "pygments_lexer": "ipython3",
   "version": "3.7.0"
  },
  "toc-autonumbering": true
 },
 "nbformat": 4,
 "nbformat_minor": 5
}
