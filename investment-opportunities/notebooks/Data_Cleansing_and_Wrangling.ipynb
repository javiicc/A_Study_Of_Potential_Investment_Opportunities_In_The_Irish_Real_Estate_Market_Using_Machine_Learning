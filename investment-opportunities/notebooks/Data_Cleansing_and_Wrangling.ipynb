{
 "cells": [
  {
   "cell_type": "markdown",
   "id": "784d05a6-d076-41af-bd27-1cf4c09a94d4",
   "metadata": {
    "tags": []
   },
   "source": [
    "# Import Libraries and Set Options"
   ]
  },
  {
   "cell_type": "code",
   "execution_count": 1,
   "id": "baee3aeb-1780-4c57-b74f-2da0c07a9982",
   "metadata": {},
   "outputs": [],
   "source": [
    "import numpy as np\n",
    "import pandas as pd\n",
    "import matplotlib.pyplot as plt\n",
    "\n",
    "import sqlite3\n",
    "import collections\n",
    "\n",
    "from daftpy.daftprep import (get_db, num_perc, process_price, process_coordinates, drop_coord_outliers, \n",
    "                             drop_floor_area, floor_area_wragling, process_floor_area, \n",
    "                             drop_info, process_info, process_views, process_rooms)\n",
    "\n",
    "from daftpy.daftfeanalysis import missing_values"
   ]
  },
  {
   "cell_type": "code",
   "execution_count": 2,
   "id": "313e192f-3157-415e-b586-eae61c434588",
   "metadata": {},
   "outputs": [],
   "source": [
    "pd.set_option('display.max_rows', None)\n",
    "pd.set_option('display.max_columns', None)\n",
    "plt.style.use('seaborn')"
   ]
  },
  {
   "cell_type": "markdown",
   "id": "f5d452ad-34ac-4114-ab18-63048b806453",
   "metadata": {
    "tags": []
   },
   "source": [
    "# Load Data"
   ]
  },
  {
   "cell_type": "markdown",
   "id": "914423be-e757-4b14-9ef9-636e75ece002",
   "metadata": {},
   "source": [
    "We load the information through a fuction which drops the advertiser's personal information. "
   ]
  },
  {
   "cell_type": "code",
   "execution_count": 3,
   "id": "3d51039a-844a-44d4-8162-6cd561c67232",
   "metadata": {},
   "outputs": [
    {
     "ename": "OperationalError",
     "evalue": "unable to open database file",
     "output_type": "error",
     "traceback": [
      "\u001b[0;31m---------------------------------------------------------------------------\u001b[0m",
      "\u001b[0;31mOperationalError\u001b[0m                          Traceback (most recent call last)",
      "\u001b[0;32m/tmp/ipykernel_29803/2359101212.py\u001b[0m in \u001b[0;36m<module>\u001b[0;34m\u001b[0m\n\u001b[0;32m----> 1\u001b[0;31m \u001b[0msale\u001b[0m \u001b[0;34m=\u001b[0m \u001b[0mget_db\u001b[0m\u001b[0;34m(\u001b[0m\u001b[0mdbname\u001b[0m\u001b[0;34m=\u001b[0m\u001b[0;34m'2021-11-25.db'\u001b[0m\u001b[0;34m)\u001b[0m\u001b[0;34m\u001b[0m\u001b[0m\n\u001b[0m",
      "\u001b[0;32m~/repos/Identifying_Potential_Investment_Opportunities_In_The_Irish_Real_Estate_Market_Using_MachineLearning/investment-opportunities/notebooks/daftpy/daftprep.py\u001b[0m in \u001b[0;36mget_db\u001b[0;34m(dbname, query)\u001b[0m\n\u001b[1;32m     25\u001b[0m     \u001b[0mdatabase_path\u001b[0m \u001b[0;34m=\u001b[0m \u001b[0;34mf'../data/01_raw/{dbname}'\u001b[0m\u001b[0;34m\u001b[0m\u001b[0m\n\u001b[1;32m     26\u001b[0m \u001b[0;34m\u001b[0m\u001b[0m\n\u001b[0;32m---> 27\u001b[0;31m     \u001b[0mconnection\u001b[0m \u001b[0;34m=\u001b[0m \u001b[0msqlite3\u001b[0m\u001b[0;34m.\u001b[0m\u001b[0mconnect\u001b[0m\u001b[0;34m(\u001b[0m\u001b[0mdatabase_path\u001b[0m\u001b[0;34m)\u001b[0m\u001b[0;34m\u001b[0m\u001b[0m\n\u001b[0m\u001b[1;32m     28\u001b[0m     \u001b[0;31m# cursor = connection.cursor()\u001b[0m\u001b[0;34m\u001b[0m\u001b[0;34m\u001b[0m\u001b[0m\n\u001b[1;32m     29\u001b[0m \u001b[0;34m\u001b[0m\u001b[0m\n",
      "\u001b[0;31mOperationalError\u001b[0m: unable to open database file"
     ]
    }
   ],
   "source": [
    "sale = get_db(dbname='2021-11-25.db')"
   ]
  },
  {
   "cell_type": "code",
   "execution_count": null,
   "id": "a346a762-c60c-4479-a5af-49cdd3e3c0b2",
   "metadata": {},
   "outputs": [],
   "source": [
    "sale.info()"
   ]
  },
  {
   "cell_type": "markdown",
   "id": "ec9fa2e0-cdaf-499a-acfc-0f57574e54aa",
   "metadata": {
    "tags": []
   },
   "source": [
    "# Check Missing Values and Duplicates"
   ]
  },
  {
   "cell_type": "code",
   "execution_count": null,
   "id": "e07becae-74c1-49c5-abf3-48ee012c4114",
   "metadata": {},
   "outputs": [],
   "source": [
    "# Check missing values in absolute and relative terms\n",
    "missing_values(sale)"
   ]
  },
  {
   "cell_type": "markdown",
   "id": "a13b144b-6b1c-456a-88de-4685e089acd1",
   "metadata": {},
   "source": [
    "The feature `energy_performance_indicator` has too many missing values, thus we should beware of them.\n",
    "\n",
    "|Feature|% missing values|\n",
    "|:---:|:---:|\n",
    "|energy_performance_indicator|63|\n",
    "\n",
    "As it has such a high percentage of missing values and it doesn't appear to be a critical feature we can drop it.\n",
    "\n",
    "We shouldn't have any duplicated listing thanks to the *DuplicatesPipeline* implemented in the Scrapy project."
   ]
  },
  {
   "cell_type": "code",
   "execution_count": null,
   "id": "b851501e-239d-4cec-8e8f-eab730d593c4",
   "metadata": {},
   "outputs": [],
   "source": [
    "sale.duplicated(keep=False).sum()"
   ]
  },
  {
   "cell_type": "code",
   "execution_count": null,
   "id": "07a4234c-5b04-43ef-87b7-f7296c250662",
   "metadata": {},
   "outputs": [],
   "source": [
    "sale.sample()"
   ]
  },
  {
   "cell_type": "markdown",
   "id": "bfa56211-8ed5-4058-a428-f5c21b96d390",
   "metadata": {},
   "source": [
    "Next, let's start the cleansing and wrangling tasks. We will need cleaned prices and other features if we want to analize them."
   ]
  },
  {
   "cell_type": "markdown",
   "id": "669ca13d-c358-4c54-8f1a-c1cd9f116599",
   "metadata": {
    "tags": []
   },
   "source": [
    "# Energy Performance Indicator"
   ]
  },
  {
   "cell_type": "markdown",
   "id": "80664749-a19b-43b4-92a9-b468bb6e3b16",
   "metadata": {},
   "source": [
    "We start dropping `energy_performance_indicator` column as we concluded above."
   ]
  },
  {
   "cell_type": "code",
   "execution_count": null,
   "id": "03bff320-a9bd-4345-8c04-974842988493",
   "metadata": {},
   "outputs": [],
   "source": [
    "print(f'Before dropping: {sale.shape}')\n",
    "sale.drop(columns=['energy_performance_indicator'], inplace=True)\n",
    "print(f'After dropping: {sale.shape}')"
   ]
  },
  {
   "cell_type": "markdown",
   "id": "c8dae39f-9572-4a84-a769-c76d4c687109",
   "metadata": {
    "tags": []
   },
   "source": [
    "# Price"
   ]
  },
  {
   "cell_type": "markdown",
   "id": "16355217-a723-4a81-a76f-bfc70444fcc2",
   "metadata": {},
   "source": [
    "We have strange data points in the column. Let's investigate the different structures we can see:"
   ]
  },
  {
   "cell_type": "code",
   "execution_count": null,
   "id": "063d796d-0454-48d6-8b9e-2f895740a6d6",
   "metadata": {
    "tags": []
   },
   "outputs": [],
   "source": [
    "# sale['price'].value_counts()"
   ]
  },
  {
   "cell_type": "code",
   "execution_count": null,
   "id": "9948116d-f680-4ed8-be63-9430fa2d15a2",
   "metadata": {
    "tags": []
   },
   "outputs": [],
   "source": [
    "# The following are the diferent data point extructures that we can see in \n",
    "# the `price` column\n",
    "sale['price'][[0, 8, 13, 28, 1442, 12842]]"
   ]
  },
  {
   "cell_type": "markdown",
   "id": "77fe46ee-c94c-4477-845c-1e535bca5044",
   "metadata": {},
   "source": [
    "**1. Price on Application**"
   ]
  },
  {
   "cell_type": "markdown",
   "id": "3f9ddaa2-4462-48b6-9d5a-bfd2955cb980",
   "metadata": {},
   "source": [
    "`Price on Application` is the most repeated value in the `price` column. It equates to a 7.63% of ads."
   ]
  },
  {
   "cell_type": "code",
   "execution_count": null,
   "id": "1b87f484-fb78-4c47-90c5-e781c67beb22",
   "metadata": {},
   "outputs": [],
   "source": [
    "# Ads with `Price on Application` pattern\n",
    "num_perc(df=sale, \n",
    "         feature='price', \n",
    "         pattern='Price on Application')"
   ]
  },
  {
   "cell_type": "markdown",
   "id": "a7cc775a-ac50-4f0f-b941-0160c9fe3ed7",
   "metadata": {},
   "source": [
    "We will drop this kind of ads because we can't find out their prices."
   ]
  },
  {
   "cell_type": "markdown",
   "id": "4d91e5fe-0669-4b4e-8ae1-e456176b9735",
   "metadata": {},
   "source": [
    "**2. AMV: Price on Application**"
   ]
  },
  {
   "cell_type": "code",
   "execution_count": null,
   "id": "7a4bf87c-71f3-41b3-aba5-aab103139e25",
   "metadata": {},
   "outputs": [],
   "source": [
    "# Ads with `AMV: Price on Application` pattern\n",
    "num_perc(df=sale, \n",
    "         feature='price', \n",
    "         pattern='AMV: Price on Application')"
   ]
  },
  {
   "cell_type": "markdown",
   "id": "b3ee7cdf-d7dd-492b-87e0-174b3e4cf917",
   "metadata": {},
   "source": [
    "We will drop this kind of ads because we can't find out their prices."
   ]
  },
  {
   "cell_type": "markdown",
   "id": "456aa69c-bed2-4510-bcc0-157dec234f17",
   "metadata": {},
   "source": [
    "**3. AMV: €725,000**"
   ]
  },
  {
   "cell_type": "markdown",
   "id": "38a50165-717d-42a4-80d6-11227bc7b6fd",
   "metadata": {},
   "source": [
    "This patron is repeated a lot of times in the column, we will have to apply wrangling tasks on them."
   ]
  },
  {
   "cell_type": "markdown",
   "id": "f02b2710-ff77-4d8d-91c7-6589841f094a",
   "metadata": {},
   "source": [
    "**4. NaN**"
   ]
  },
  {
   "cell_type": "code",
   "execution_count": null,
   "id": "8a47da76-be6b-4d0d-842e-2694c963de1e",
   "metadata": {},
   "outputs": [],
   "source": [
    "# Ads with missing values\n",
    "num_perc(df=sale, \n",
    "         feature='price', \n",
    "         pattern=np.nan)"
   ]
  },
  {
   "cell_type": "markdown",
   "id": "de95f547-5090-41f2-936e-e3f4ee835152",
   "metadata": {},
   "source": [
    "Advertisements with missing values in the `price` column are \"Development\" ads, not \"Houses\" ads. Development ads have several houses in it and that is why they have missing values. Furthermore, the houses belonging to developments are already scraped so we should drop the development ads."
   ]
  },
  {
   "cell_type": "code",
   "execution_count": null,
   "id": "4a983840-e960-46d7-ac9f-6eff37ebdcb7",
   "metadata": {},
   "outputs": [],
   "source": [
    "# You can check the above statement with the lines of code bellow\n",
    "\n",
    "# sale[sale['price'].isna()] # Commented for sthetic reasons\n",
    "sale.loc[sale['price'].isna(), 'url'].sample().values # url to check the ad"
   ]
  },
  {
   "cell_type": "markdown",
   "id": "b8cd735d-efbe-4f5e-ac53-56ea87127350",
   "metadata": {},
   "source": [
    "**5. £149,000 (€173,554)**"
   ]
  },
  {
   "cell_type": "code",
   "execution_count": null,
   "id": "0e90fcf8-6bbc-429a-af4e-f525d6a23e46",
   "metadata": {},
   "outputs": [],
   "source": [
    "# Ads with '£' pattern\n",
    "num_perc(df=sale, \n",
    "         feature='price', \n",
    "         pattern='£')"
   ]
  },
  {
   "cell_type": "markdown",
   "id": "333c162a-893e-4ee3-a81d-ea0bad73412b",
   "metadata": {},
   "source": [
    "Ads with prices in pounds are usually from North Ireland, which belongs to United Kingdom so we will drop these ads."
   ]
  },
  {
   "cell_type": "code",
   "execution_count": null,
   "id": "f30eb2fb-e466-4925-acd8-0abbdf91b4e1",
   "metadata": {},
   "outputs": [],
   "source": [
    "# You can check the above statement with the lines of code bellow\n",
    "\n",
    "# sale.dropna(subset=['price']).loc[\n",
    " #    sale.dropna(subset=['price'])['price'].str.contains('£')] # Commented for sthetic reasons\n",
    "\n",
    "sale.dropna(subset=['price']).loc[\n",
    "    sale.dropna(subset=['price'])['price'].str.contains('£'), 'url'\n",
    "                                 ].sample().values # url to check the ad"
   ]
  },
  {
   "cell_type": "markdown",
   "id": "0feacbd5-857b-4255-aa08-31ec463899c9",
   "metadata": {},
   "source": [
    "**-> Conclusion**"
   ]
  },
  {
   "cell_type": "markdown",
   "id": "2c03d54f-dcba-45da-9ba8-262de0ea9f43",
   "metadata": {},
   "source": [
    "Wrangling and cleansing tasks: \n",
    "\n",
    "|Value structure in ad's price|Number of ads|Percentage of ads|Task|\n",
    "|:---:|:---:|:---:|:---:|\n",
    "|€549,000|||Wrangling|\n",
    "|AMV: €725,000|||Wrangling|\n",
    "|£149,000 (€173,554)|25|0.16%|Drop|\n",
    "|Price on Application|1174|7.63%|Drop|\n",
    "|AMV: Price on Application|8|0.05%|Drop|\n",
    "|NaN|278|1.81%|Drop|"
   ]
  },
  {
   "cell_type": "markdown",
   "id": "d18fa6bf-9155-4687-9a3b-57b0dca36a1f",
   "metadata": {},
   "source": [
    "Let's compare the before and after of transformations."
   ]
  },
  {
   "cell_type": "code",
   "execution_count": null,
   "id": "71735666-f159-4552-be7f-8f97c3a89784",
   "metadata": {},
   "outputs": [],
   "source": [
    "pd.DataFrame({'before': sale['price'], \n",
    "              'after': process_price(sale)['price']}).head(10)"
   ]
  },
  {
   "cell_type": "markdown",
   "id": "d534b941-3e3d-48c8-a325-0faa888d0ec9",
   "metadata": {},
   "source": [
    "Let's do it!"
   ]
  },
  {
   "cell_type": "code",
   "execution_count": null,
   "id": "36bba0c3-7963-4897-b12f-889b6ee1a06c",
   "metadata": {},
   "outputs": [],
   "source": [
    "sale = process_price(sale.copy()).reset_index(drop=True)"
   ]
  },
  {
   "cell_type": "markdown",
   "id": "e358169b-8453-4a96-bd46-fb8af574a218",
   "metadata": {
    "tags": []
   },
   "source": [
    "# Coordinates"
   ]
  },
  {
   "cell_type": "markdown",
   "id": "f950da1c-5578-4709-975c-e7bebbdfa5b1",
   "metadata": {},
   "source": [
    "There are no missing values in the coordinates columns and the structure is the same in all data points. We will use the `process_coordinates` function to make one new column for `latitude` and another one for `longitude`. The function also drops the `coordinates` column once it has been processed."
   ]
  },
  {
   "cell_type": "code",
   "execution_count": null,
   "id": "1c4db85d-58bf-4b62-b6a6-bf77f0b588ef",
   "metadata": {},
   "outputs": [],
   "source": [
    "# Same structure in all data points in the column\n",
    "sale['coordinates'].sample()"
   ]
  },
  {
   "cell_type": "markdown",
   "id": "ef9b6455-3ae2-47de-ada3-c697a764657a",
   "metadata": {},
   "source": [
    "As the structure is the same in all ads, we can split the `coordinates` column in `+` using vectorized operations and create new columns from that. "
   ]
  },
  {
   "cell_type": "code",
   "execution_count": null,
   "id": "4e1d3303-9770-4d3c-8aaa-ea20b2387e2e",
   "metadata": {},
   "outputs": [],
   "source": [
    "sale = process_coordinates(sale)"
   ]
  },
  {
   "cell_type": "markdown",
   "id": "29cceb4e-be84-402d-a8ff-1e5cf28faca6",
   "metadata": {},
   "source": [
    "We can use the new columns to make a scatter plot in order to check whether the points show a similar form to Ireland."
   ]
  },
  {
   "cell_type": "code",
   "execution_count": null,
   "id": "0b2aea88-d63c-4d7d-9ccb-0272a2900171",
   "metadata": {},
   "outputs": [],
   "source": [
    "# Check coordinates outliers \n",
    "sale.plot(kind='scatter', x='longitude', y='latitude', title='Houses for sale, Ireland');"
   ]
  },
  {
   "cell_type": "markdown",
   "id": "d1ffcf1b-e27c-4573-adb7-82c5ede85357",
   "metadata": {},
   "source": [
    "As you can see above, there are some isolated points with a lower `latitude` that make it difficult to visualizate any country so the right thing would be drop them."
   ]
  },
  {
   "cell_type": "code",
   "execution_count": null,
   "id": "c6f70397-2526-4dc4-9844-bed2978bb5ac",
   "metadata": {},
   "outputs": [],
   "source": [
    "# Drops coordinates outliers\n",
    "sale = drop_coord_outliers(sale)"
   ]
  },
  {
   "cell_type": "code",
   "execution_count": null,
   "id": "44bb480f-f6ea-4c71-9473-94f97264d9e9",
   "metadata": {},
   "outputs": [],
   "source": [
    "sale.plot(kind='scatter', x='longitude', y='latitude', title='Houses for sale, Ireland'); # esta un poco achatada pero es Irlanda"
   ]
  },
  {
   "cell_type": "markdown",
   "id": "c510c569-99aa-4291-94e4-2a9687bc4c4c",
   "metadata": {
    "tags": []
   },
   "source": [
    "# Floor Area"
   ]
  },
  {
   "cell_type": "markdown",
   "id": "ac3fa4ff-2c8a-424b-8265-fa54dd8ac50a",
   "metadata": {},
   "source": [
    "The most common pattern in the `floor_area` column follows a structure like this: `177 m²`. Nevertheless, there are several patterns which will need be handled."
   ]
  },
  {
   "cell_type": "code",
   "execution_count": null,
   "id": "8f0456f7-b907-4c07-bc56-8e5a5ad453c2",
   "metadata": {},
   "outputs": [],
   "source": [
    "# sale['floor_area'].sample(30)"
   ]
  },
  {
   "cell_type": "code",
   "execution_count": null,
   "id": "1372d417-6fcd-4558-89e7-340fc06a1782",
   "metadata": {},
   "outputs": [],
   "source": [
    "# The following are the diferent data point extructures that we can see in \n",
    "# the `price` column\n",
    "sale['floor_area'][[1861, 12076, 10284, 5114]]"
   ]
  },
  {
   "cell_type": "markdown",
   "id": "9e348cab-1b5c-4140-bf90-6842bf277e66",
   "metadata": {},
   "source": [
    "**1. m²**"
   ]
  },
  {
   "cell_type": "markdown",
   "id": "5f446949-770c-4928-b1b4-953441d8b2e2",
   "metadata": {},
   "source": [
    "`floor_area` is a promising predictor but only a 55% of ads show this information. We will drop the other values but let's explore ads whose `floor_area` feature is mesured in `acres` to check whether we can keep them."
   ]
  },
  {
   "cell_type": "code",
   "execution_count": null,
   "id": "4518b6b1-a713-4813-a0e4-b99e0daa59ef",
   "metadata": {},
   "outputs": [],
   "source": [
    "# Ads with 'm²' pattern\n",
    "num_perc(df=sale, \n",
    "         feature='floor_area', \n",
    "         pattern='m²')"
   ]
  },
  {
   "cell_type": "markdown",
   "id": "6d1184bc-3e64-458b-9146-dd8a7b44fb20",
   "metadata": {},
   "source": [
    "**2. ac**"
   ]
  },
  {
   "cell_type": "code",
   "execution_count": null,
   "id": "00ef59e4-9649-419e-bc07-c110d4e4b616",
   "metadata": {},
   "outputs": [],
   "source": [
    "# Ads with 'ac' pattern\n",
    "num_perc(df=sale, \n",
    "         feature='floor_area', \n",
    "         pattern='ac')"
   ]
  },
  {
   "cell_type": "markdown",
   "id": "90e0bc6e-cb11-4900-8aeb-f490d0a0bcb1",
   "metadata": {},
   "source": [
    "If we check some ads we will see that ads with `ac` pattern refer to land extensions so we will drop them as well as the other ads with different patterns."
   ]
  },
  {
   "cell_type": "code",
   "execution_count": null,
   "id": "07212d69-78c3-4ee3-be90-053094ef738a",
   "metadata": {},
   "outputs": [],
   "source": [
    "sale.dropna(subset=['floor_area']).loc[\n",
    "    sale.dropna(subset=['floor_area'])['floor_area'].str.contains('ac'), 'url'\n",
    "                                 ].sample().values # url to check the ad"
   ]
  },
  {
   "cell_type": "markdown",
   "id": "2b4bad54-9102-4dbe-8279-3fd935678e38",
   "metadata": {},
   "source": [
    "**3. NaN**"
   ]
  },
  {
   "cell_type": "markdown",
   "id": "9ad244de-e23b-4d25-98b3-350aa2314768",
   "metadata": {},
   "source": [
    "There are just two missing values becuse we dropped almost all of them when we dropped the ads with `NaN` values in the `price` column."
   ]
  },
  {
   "cell_type": "code",
   "execution_count": null,
   "id": "9904108d-072e-4e52-9ab4-a2a028d1c265",
   "metadata": {},
   "outputs": [],
   "source": [
    "# Ads with 'NaN' pattern\n",
    "num_perc(df=sale, \n",
    "         feature='floor_area', \n",
    "         pattern=np.nan)"
   ]
  },
  {
   "cell_type": "markdown",
   "id": "d8b1ae6c-23de-4620-b79b-7cae8630ef30",
   "metadata": {},
   "source": [
    "**-> Conclusions**\n",
    "\n",
    "Wrangling and cleansing tasks: \n",
    "\n",
    "|Value structure in ad's price|Number of ads|Percentage of ads|Task|\n",
    "|:---:|:---:|:---:|:---:|\n",
    "|756 m²|7757|55.81%|Wrangling|\n",
    "|2 ac|2540|18.27%|Drop|\n",
    "|NaN|2|0.01%|Drop|\n",
    "|For Sale by Private Treaty|||Drop|\n",
    "|Section 27|||Drop|\n",
    "|Thu, Nov 25th at 12:00 PM|||Drop|"
   ]
  },
  {
   "cell_type": "markdown",
   "id": "1079d9a3-e235-4c41-83f3-18599e3e97ff",
   "metadata": {},
   "source": [
    "Let's compare the before and after of transformations."
   ]
  },
  {
   "cell_type": "code",
   "execution_count": null,
   "id": "b0b99d80-4adf-4224-8b48-7aadce440673",
   "metadata": {
    "tags": []
   },
   "outputs": [],
   "source": [
    "pd.DataFrame({'before': sale.dropna(subset=['floor_area'])['floor_area'], \n",
    "              'after': process_floor_area(sale)['floor_area']}).head(10)"
   ]
  },
  {
   "cell_type": "markdown",
   "id": "c317e61a-172b-445a-b06a-7727614f5870",
   "metadata": {},
   "source": [
    "The following function helps us dropping all rows that do not contain the pattern `m²` as well as those with missing values. Furthermore, it will wrang the column to let us analyze the data in the next notebook."
   ]
  },
  {
   "cell_type": "code",
   "execution_count": null,
   "id": "7ce1917c-2b93-412f-8a03-11058f4a2ace",
   "metadata": {},
   "outputs": [],
   "source": [
    "sale = process_floor_area(sale)"
   ]
  },
  {
   "cell_type": "markdown",
   "id": "103e38d8-1204-47cb-808a-e56c73f22145",
   "metadata": {
    "tags": []
   },
   "source": [
    "# Info"
   ]
  },
  {
   "cell_type": "markdown",
   "id": "10e086fd-f681-488e-a239-90488dc78833",
   "metadata": {},
   "source": [
    "If we look at the info example we can see four variables into the same column, so it would be a good idea to split them in different columns."
   ]
  },
  {
   "cell_type": "code",
   "execution_count": null,
   "id": "ce7cc64e-6ef2-4a83-8d81-5da962bc7f8a",
   "metadata": {},
   "outputs": [],
   "source": [
    "sale[['info', 'floor_area']].sample(5)"
   ]
  },
  {
   "cell_type": "markdown",
   "id": "c116ce37-3312-4b9b-9cf7-e66407049686",
   "metadata": {},
   "source": [
    "Also, we can see that there is no more missing values in the `info` column."
   ]
  },
  {
   "cell_type": "code",
   "execution_count": null,
   "id": "d77d7c72-1d0b-4f02-9bc2-9a8cfc59b90f",
   "metadata": {},
   "outputs": [],
   "source": [
    "sale['info'].isna().sum()"
   ]
  },
  {
   "cell_type": "markdown",
   "id": "019ababf-13ad-4912-aa32-84984e9cb262",
   "metadata": {},
   "source": [
    "Let's check the possible data point's length after been splitted by a comma:"
   ]
  },
  {
   "cell_type": "code",
   "execution_count": null,
   "id": "d7309e21-70d0-45b6-b5dc-08bbb7dbfb62",
   "metadata": {},
   "outputs": [],
   "source": [
    "# Create a DataFrame with the number of values with different lengths\n",
    "pd.DataFrame({'Absolute': sale['info'].str.split(',').apply(len).value_counts(), \n",
    "              'Relative': sale['info'].str.split(',').apply(len).value_counts() / sale.shape[0]})"
   ]
  },
  {
   "cell_type": "markdown",
   "id": "c013fa86-4c1b-4080-9c83-0be4dda6b201",
   "metadata": {},
   "source": [
    "Let's dig a little deeper into the different cases."
   ]
  },
  {
   "cell_type": "markdown",
   "id": "2f9dd7ca-2909-4e0b-8993-71507cece674",
   "metadata": {},
   "source": [
    "**1. Length = 2**"
   ]
  },
  {
   "cell_type": "markdown",
   "id": "f49fb1c3-e235-40fb-819a-bf90e39c5edc",
   "metadata": {},
   "source": [
    "Ads with splitted `info` length equal to two usually forget both the number of bedrooms and bathrooms."
   ]
  },
  {
   "cell_type": "code",
   "execution_count": null,
   "id": "ccd6db5e-d4fc-4e1b-90ce-e0c5e372ad32",
   "metadata": {},
   "outputs": [],
   "source": [
    "# Splitted `info` length = 2\n",
    "#sale.dropna(subset=['info']).loc[sale['info'].dropna().str.split(',').apply(len) == 2, ['info', 'floor_area']].sample(5) \n",
    "sale.loc[sale['info'].str.split(',').apply(len) == 2, ['info', 'floor_area']].sample(5) "
   ]
  },
  {
   "cell_type": "markdown",
   "id": "13bb9d98-29fa-495d-a31d-88bd2187656f",
   "metadata": {},
   "source": [
    "**2. Length = 3**"
   ]
  },
  {
   "cell_type": "markdown",
   "id": "e52b0077-7410-47db-a066-a92ab80e687b",
   "metadata": {},
   "source": [
    "If we check the rows which have a splitted `info` length of three we will see the following pattern where the advertiser forgot to add the number of bathrooms or the number of bedrooms. Usually he forgot the number of bathrooms."
   ]
  },
  {
   "cell_type": "code",
   "execution_count": null,
   "id": "b2cba4ab-0f49-4162-ab20-ba4f37f966c0",
   "metadata": {},
   "outputs": [],
   "source": [
    "sale.loc[(sale['info'].str.split(',').apply(len) == 3), ['info', 'floor_area']].head()"
   ]
  },
  {
   "cell_type": "markdown",
   "id": "6fadfb45-0ff2-44b8-aa39-b64d5c754481",
   "metadata": {},
   "source": [
    "**-> Conclusions**"
   ]
  },
  {
   "cell_type": "markdown",
   "id": "f77d7a01-51cc-4ebc-a56a-10401f2db78d",
   "metadata": {},
   "source": [
    "Since rows that forget one or two values are so few we can drop them instead filling the lack of information.  \n",
    "\n",
    "We will split the other ones into three columns as we already have the floor area."
   ]
  },
  {
   "cell_type": "markdown",
   "id": "8b4bf153-1469-4210-8c40-5c9e6215f072",
   "metadata": {},
   "source": [
    "Wrangling and cleansing tasks: \n",
    "\n",
    "|Value structure in ad's price|Number of ads|Percentage of ads|Task|\n",
    "|:---:|:---:|:---:|:---:|\n",
    "|4|7662|0.98|Wrangling: Split into 3 columns|\n",
    "|3|81|0.01|Drop|\n",
    "|2|14|0.001|Drop|"
   ]
  },
  {
   "cell_type": "markdown",
   "id": "43eab5e9-415a-4eb0-8c5e-8c9c6804e709",
   "metadata": {},
   "source": [
    "So let's do it! We will use a fuction to drop those rows which have a splitted `info` length less than four and we will split the other ones into three new columns as well as dropping the `info` column."
   ]
  },
  {
   "cell_type": "code",
   "execution_count": null,
   "id": "71cc2c8b-b890-4e52-adad-0a64e434c8d0",
   "metadata": {},
   "outputs": [],
   "source": [
    "sale = process_info(sale)"
   ]
  },
  {
   "cell_type": "markdown",
   "id": "da344587-9bae-4d58-ad26-dd9a2e17e3fa",
   "metadata": {
    "tags": []
   },
   "source": [
    "# Views"
   ]
  },
  {
   "cell_type": "code",
   "execution_count": null,
   "id": "09c30e0f-7154-4018-aaf1-7f89a00d8717",
   "metadata": {},
   "outputs": [],
   "source": [
    "sale[['views']].sample(3)"
   ]
  },
  {
   "cell_type": "markdown",
   "id": "92ccce6d-28a9-427c-b424-93b68fcdadb4",
   "metadata": {},
   "source": [
    "The only wrangling task we have to apply in the `views` column is to quit the comma. We have a simple function for that. "
   ]
  },
  {
   "cell_type": "code",
   "execution_count": null,
   "id": "6e535a2a-db34-4c56-9582-33013a15b4db",
   "metadata": {},
   "outputs": [],
   "source": [
    "sale = process_views(sale)"
   ]
  },
  {
   "cell_type": "markdown",
   "id": "31cad9eb-b5fb-4c3b-894b-f86dbb398bc7",
   "metadata": {
    "tags": []
   },
   "source": [
    "# Bedroom and Bathroom"
   ]
  },
  {
   "cell_type": "markdown",
   "id": "59ce2fc0-c117-4a8a-954b-1386ca609468",
   "metadata": {},
   "source": [
    "The only wrangling task we need to apply on `bedroom` and `bathroom` columns is isolating the number and erasing the word."
   ]
  },
  {
   "cell_type": "code",
   "execution_count": null,
   "id": "98870415-2513-4e11-94fb-c23d2188ce00",
   "metadata": {},
   "outputs": [],
   "source": [
    "sale[['bedroom']].sample(3)"
   ]
  },
  {
   "cell_type": "code",
   "execution_count": null,
   "id": "2a00e38d-8b51-4768-831b-f920a1e3df0e",
   "metadata": {},
   "outputs": [],
   "source": [
    "sale[['bathroom']].sample(3)"
   ]
  },
  {
   "cell_type": "markdown",
   "id": "6e3c30b3-12cf-4052-801c-9553a5c098fb",
   "metadata": {},
   "source": [
    "We have a simple function prepared to do it."
   ]
  },
  {
   "cell_type": "code",
   "execution_count": null,
   "id": "03eb4c88-e0e3-4e5a-a8d4-4a328a13a00a",
   "metadata": {},
   "outputs": [],
   "source": [
    "sale = process_rooms(sale)"
   ]
  },
  {
   "cell_type": "code",
   "execution_count": null,
   "id": "1d2bc504-f921-48e5-8d67-2bdfce2631b1",
   "metadata": {},
   "outputs": [],
   "source": [
    "sale[['bedroom', 'bathroom']].sample(3)"
   ]
  },
  {
   "cell_type": "markdown",
   "id": "786314ac-69be-43a8-b0aa-999456700f9b",
   "metadata": {
    "tags": []
   },
   "source": [
    "# Ber and Type House"
   ]
  },
  {
   "cell_type": "markdown",
   "id": "b78e2489-dbef-41d8-b6e8-4bb4dc86ae2c",
   "metadata": {},
   "source": [
    "![](imgs/ber.png)\n",
    "\n",
    "[Building Energy Rating Certificate, SEAI](https://www.seai.ie/home-energy/building-energy-rating-ber/)\n",
    "\n",
    "[Buiding Energy Rating Guide](https://www.seai.ie/publications/Your-Guide-to-Building-Energy-Rating.pdf)"
   ]
  },
  {
   "cell_type": "markdown",
   "id": "60a0fd35-6d04-497b-a27a-b2d764b14124",
   "metadata": {},
   "source": [
    "`ber` and `type_house` columns don't need wrangling tasks since we extracted them pretty well thanks to Scrapy.\n",
    "\n",
    "However, both columns contain aroun a 25% of missing values each one. We will leave them as they are for now."
   ]
  },
  {
   "cell_type": "code",
   "execution_count": null,
   "id": "3d70a340-bcae-4116-be87-1821efd8f474",
   "metadata": {},
   "outputs": [],
   "source": [
    "sale[['ber', 'type_house']].sample(3)"
   ]
  },
  {
   "cell_type": "markdown",
   "id": "3deab2bd-e4ec-4b32-b081-3979affe0060",
   "metadata": {
    "tags": []
   },
   "source": [
    "# PSR"
   ]
  },
  {
   "cell_type": "markdown",
   "id": "2e1cf5a3-5a05-430f-97af-a7d954c473f3",
   "metadata": {},
   "source": [
    "The Register identifies licensed property service providers by name, number, licence type and location.\n",
    "\n",
    "You can find more information about PSR Licence Number in the [Property Seervices Regulatory Authority website](http://www.psr.ie/en/PSRA/Pages/Register_Licensed_PSP)."
   ]
  },
  {
   "cell_type": "code",
   "execution_count": null,
   "id": "53dc318f-4c6f-4210-8d09-e35e5bd19f74",
   "metadata": {},
   "outputs": [],
   "source": [
    "sale[['psr']].sample(3)"
   ]
  },
  {
   "cell_type": "markdown",
   "id": "b3ed386e-bb01-45ae-97a4-f8231c705f97",
   "metadata": {
    "tags": []
   },
   "source": [
    "# Description"
   ]
  },
  {
   "cell_type": "markdown",
   "id": "556d96ba-6726-42cf-8652-196648ba8f37",
   "metadata": {},
   "source": [
    "This information won't be used for now but I will keep it."
   ]
  },
  {
   "cell_type": "code",
   "execution_count": null,
   "id": "0f651cd2-5b71-49d6-8498-c7f7bc222827",
   "metadata": {},
   "outputs": [],
   "source": [
    "sale['description'].sample().values"
   ]
  },
  {
   "cell_type": "markdown",
   "id": "2704d910-b70f-407f-a6d7-6f957fa1830f",
   "metadata": {
    "tags": []
   },
   "source": [
    "# Other columns"
   ]
  },
  {
   "cell_type": "markdown",
   "id": "ee65d882-bed7-464d-81fa-f2b186d830bd",
   "metadata": {
    "tags": []
   },
   "source": [
    "### Daft_id, Item_id, url, Name"
   ]
  },
  {
   "cell_type": "markdown",
   "id": "7017d63a-801a-4f08-b9c2-3dfbd58b0ba9",
   "metadata": {},
   "source": [
    "These four columns don't seem very useful in order to infer houses prices. However, we should keep some of them for several reasons. \n",
    "\n",
    "- `daft_id`: This is the ad identifier provided by the website.\n",
    "- `item_id`: After know that the website provides an identifier I bilt one so now it is completely useless. This identifier was extracted from the ad's url.\n",
    "- `url`: The url could be useful as an indentifier but I prefer to give that task to the `daft.ie` column. The url will be saved just in case we need to check some advertisements.\n",
    "- `name`: It can't be used as an idetifier because is possible to have some of them repeated. We will keep it because it could provide some information, but a priori I don't think we will use it.\n",
    "\n",
    "|Column|What to do?|\n",
    "|:---:|:---:|\n",
    "|daft_ie|Keep|\n",
    "|item_ie|Drop|\n",
    "|url|Keep|\n",
    "|name|Keep|"
   ]
  },
  {
   "cell_type": "code",
   "execution_count": null,
   "id": "6adc5b67-4548-4644-b3c0-43ee46c80f0d",
   "metadata": {},
   "outputs": [],
   "source": [
    "sale.drop(columns='item_id', inplace=True)"
   ]
  },
  {
   "cell_type": "markdown",
   "id": "2cfaf4ba-0bb7-421a-bdbc-b7a84c781d5a",
   "metadata": {
    "tags": []
   },
   "source": [
    "### Sale Type"
   ]
  },
  {
   "cell_type": "markdown",
   "id": "685a5634-8b5f-4933-ab59-c8571dd489d9",
   "metadata": {},
   "source": [
    "The `sale_type` column doesn't seem very interesting but we will keep it by the moment.\n",
    "\n",
    "Also, there are a few ads with prices that seem to be from developments. We will consider those ads as a house."
   ]
  },
  {
   "cell_type": "code",
   "execution_count": null,
   "id": "ca6dccf0-56cc-4c36-88d9-6e035e6013ed",
   "metadata": {},
   "outputs": [],
   "source": [
    "sale['sale_type'].value_counts()"
   ]
  },
  {
   "cell_type": "code",
   "execution_count": null,
   "id": "fa689fab-fb06-48e6-8be8-58ca2a612114",
   "metadata": {},
   "outputs": [],
   "source": [
    "sale.loc[sale['sale_type']=='2 units available in this development', 'url'].values"
   ]
  },
  {
   "cell_type": "markdown",
   "id": "c3f73696-c7f3-4460-bcae-08e22cef15c6",
   "metadata": {
    "tags": []
   },
   "source": [
    "### Entered-Renewed"
   ]
  },
  {
   "cell_type": "markdown",
   "id": "093b0352-3aa5-4ab9-82a9-feec8b6a20e5",
   "metadata": {},
   "source": [
    "`entered_renewed` is the date that the ad was entered or renewed. It doesn't need wrangling task but we could convert it to a datetime type. We will do that later in another notebook."
   ]
  },
  {
   "cell_type": "code",
   "execution_count": null,
   "id": "75ed7366-4fb7-4d4f-9ab0-00f754aa405e",
   "metadata": {},
   "outputs": [],
   "source": [
    "sale[['entered_renewed']].sample(3)"
   ]
  },
  {
   "cell_type": "markdown",
   "id": "f9f7f531-9356-4a63-b5d1-b0c8d3df6a73",
   "metadata": {
    "tags": []
   },
   "source": [
    "### Type"
   ]
  },
  {
   "cell_type": "markdown",
   "id": "7c1f7515-1cbe-45a9-aaac-506be063f5de",
   "metadata": {},
   "source": [
    "This column shows whether the ad is for sale or for rent. There are houses and rooms for rent in the other table of the database."
   ]
  },
  {
   "cell_type": "code",
   "execution_count": null,
   "id": "9e57e564-f348-40af-b821-229d194ee1bf",
   "metadata": {},
   "outputs": [],
   "source": [
    "sale['type'].value_counts()"
   ]
  },
  {
   "cell_type": "markdown",
   "id": "e0e99cf3-30f7-4281-aee5-3cd45c68dae7",
   "metadata": {
    "tags": []
   },
   "source": [
    "### scraping_date"
   ]
  },
  {
   "cell_type": "code",
   "execution_count": null,
   "id": "b79fc390-6725-4231-8408-97a69afc8b59",
   "metadata": {},
   "outputs": [],
   "source": [
    "sale['scraping_date'].value_counts()"
   ]
  },
  {
   "cell_type": "markdown",
   "id": "9492dc73-e6bc-473e-bc55-0ed39fa64ebd",
   "metadata": {
    "tags": []
   },
   "source": [
    "# Check Missing Values"
   ]
  },
  {
   "cell_type": "code",
   "execution_count": null,
   "id": "d6138988-1c87-449c-957d-e3a8358fd6cf",
   "metadata": {},
   "outputs": [],
   "source": [
    "# Check missing values in absolute and relative terms\n",
    "missing_values(sale)"
   ]
  },
  {
   "cell_type": "markdown",
   "id": "3dafd678-b2ba-4e41-a7d2-67e4561786b2",
   "metadata": {
    "tags": []
   },
   "source": [
    "# Save Data"
   ]
  },
  {
   "cell_type": "code",
   "execution_count": null,
   "id": "6d1fbca1-c7b0-441f-900f-3c0f55e934f6",
   "metadata": {},
   "outputs": [],
   "source": [
    "sale.info()"
   ]
  },
  {
   "cell_type": "code",
   "execution_count": null,
   "id": "9b80865c-860f-40ed-a854-02aa9ccb8d19",
   "metadata": {},
   "outputs": [],
   "source": [
    "sale.to_csv('data/sale_cleaned.csv', sep=',', index=False) "
   ]
  }
 ],
 "metadata": {
  "kernelspec": {
   "display_name": "Python 3 (ipykernel)",
   "language": "python",
   "name": "python3"
  },
  "language_info": {
   "codemirror_mode": {
    "name": "ipython",
    "version": 3
   },
   "file_extension": ".py",
   "mimetype": "text/x-python",
   "name": "python",
   "nbconvert_exporter": "python",
   "pygments_lexer": "ipython3",
   "version": "3.7.0"
  },
  "toc-autonumbering": true
 },
 "nbformat": 4,
 "nbformat_minor": 5
}
