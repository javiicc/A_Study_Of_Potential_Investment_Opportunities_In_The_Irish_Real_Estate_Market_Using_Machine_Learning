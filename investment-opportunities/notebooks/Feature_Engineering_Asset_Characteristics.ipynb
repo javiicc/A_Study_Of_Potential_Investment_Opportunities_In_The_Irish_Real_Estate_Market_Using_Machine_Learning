{
 "cells": [
  {
   "cell_type": "code",
   "execution_count": 1,
   "id": "62f8456e-8865-41c1-9f1f-ab42e152d804",
   "metadata": {},
   "outputs": [],
   "source": [
    "import numpy as np\n",
    "import pandas as pd\n",
    "import matplotlib.pyplot as plt"
   ]
  },
  {
   "cell_type": "code",
   "execution_count": 2,
   "id": "b67dcc9c-64a3-4e8f-a985-7bfab2766fc6",
   "metadata": {},
   "outputs": [],
   "source": [
    "pd.set_option('display.max_rows', None)\n",
    "pd.set_option('display.max_columns', None)\n",
    "plt.style.use('seaborn')"
   ]
  },
  {
   "cell_type": "code",
   "execution_count": 3,
   "id": "8391cccf-8b71-4dac-b22b-02c8faf10191",
   "metadata": {},
   "outputs": [
    {
     "data": {
      "text/plain": [
       "(10448, 14)"
      ]
     },
     "execution_count": 3,
     "metadata": {},
     "output_type": "execute_result"
    }
   ],
   "source": [
    "sale_data = pd.read_csv('data_available/sale_data_post_C&W.csv', sep=',')\n",
    "sale_data.shape"
   ]
  },
  {
   "cell_type": "code",
   "execution_count": 4,
   "id": "fcc235c3-9154-4fad-9488-a317f1ebf600",
   "metadata": {},
   "outputs": [
    {
     "name": "stdout",
     "output_type": "stream",
     "text": [
      "<class 'pandas.core.frame.DataFrame'>\n",
      "RangeIndex: 10448 entries, 0 to 10447\n",
      "Data columns (total 14 columns):\n",
      " #   Column           Non-Null Count  Dtype  \n",
      "---  ------           --------------  -----  \n",
      " 0   daft_id          10448 non-null  int64  \n",
      " 1   url              10448 non-null  object \n",
      " 2   name             10448 non-null  object \n",
      " 3   price            10448 non-null  float64\n",
      " 4   sale_type        10448 non-null  object \n",
      " 5   floor_area       10448 non-null  int64  \n",
      " 6   entered_renewed  10448 non-null  object \n",
      " 7   views            10448 non-null  float64\n",
      " 8   type             10448 non-null  object \n",
      " 9   scraping_date    10448 non-null  object \n",
      " 10  latitude         10448 non-null  float64\n",
      " 11  longitude        10448 non-null  float64\n",
      " 12  bedroom          10448 non-null  int64  \n",
      " 13  bathroom         10448 non-null  int64  \n",
      "dtypes: float64(4), int64(4), object(6)\n",
      "memory usage: 1.1+ MB\n"
     ]
    }
   ],
   "source": [
    "sale_data.info()"
   ]
  },
  {
   "cell_type": "code",
   "execution_count": 5,
   "id": "2a9c3808-80c5-4f4f-907e-5bd44fa7cbc7",
   "metadata": {},
   "outputs": [
    {
     "data": {
      "text/html": [
       "<div>\n",
       "<style scoped>\n",
       "    .dataframe tbody tr th:only-of-type {\n",
       "        vertical-align: middle;\n",
       "    }\n",
       "\n",
       "    .dataframe tbody tr th {\n",
       "        vertical-align: top;\n",
       "    }\n",
       "\n",
       "    .dataframe thead th {\n",
       "        text-align: right;\n",
       "    }\n",
       "</style>\n",
       "<table border=\"1\" class=\"dataframe\">\n",
       "  <thead>\n",
       "    <tr style=\"text-align: right;\">\n",
       "      <th></th>\n",
       "      <th>daft_id</th>\n",
       "      <th>url</th>\n",
       "      <th>name</th>\n",
       "      <th>price</th>\n",
       "      <th>sale_type</th>\n",
       "      <th>floor_area</th>\n",
       "      <th>entered_renewed</th>\n",
       "      <th>views</th>\n",
       "      <th>type</th>\n",
       "      <th>scraping_date</th>\n",
       "      <th>latitude</th>\n",
       "      <th>longitude</th>\n",
       "      <th>bedroom</th>\n",
       "      <th>bathroom</th>\n",
       "    </tr>\n",
       "  </thead>\n",
       "  <tbody>\n",
       "    <tr>\n",
       "      <th>4144</th>\n",
       "      <td>16357273</td>\n",
       "      <td>https://www.daft.ie/for-sale/bungalow-636-whit...</td>\n",
       "      <td>636 Whitechurch Road, Rathfarnham, Dublin 16</td>\n",
       "      <td>595000.0</td>\n",
       "      <td>For Sale by Private Treaty</td>\n",
       "      <td>91</td>\n",
       "      <td>2021-10-01</td>\n",
       "      <td>684.0</td>\n",
       "      <td>buy</td>\n",
       "      <td>2021-10-02</td>\n",
       "      <td>53.281523</td>\n",
       "      <td>-6.28529</td>\n",
       "      <td>3</td>\n",
       "      <td>2</td>\n",
       "    </tr>\n",
       "  </tbody>\n",
       "</table>\n",
       "</div>"
      ],
      "text/plain": [
       "       daft_id                                                url  \\\n",
       "4144  16357273  https://www.daft.ie/for-sale/bungalow-636-whit...   \n",
       "\n",
       "                                              name     price  \\\n",
       "4144  636 Whitechurch Road, Rathfarnham, Dublin 16  595000.0   \n",
       "\n",
       "                       sale_type  floor_area entered_renewed  views type  \\\n",
       "4144  For Sale by Private Treaty          91      2021-10-01  684.0  buy   \n",
       "\n",
       "     scraping_date   latitude  longitude  bedroom  bathroom  \n",
       "4144    2021-10-02  53.281523   -6.28529        3         2  "
      ]
     },
     "execution_count": 5,
     "metadata": {},
     "output_type": "execute_result"
    }
   ],
   "source": [
    "sale_data.sample()"
   ]
  },
  {
   "cell_type": "markdown",
   "id": "65b5bfbf-3a68-41f6-8165-b777ed9571fe",
   "metadata": {},
   "source": [
    "- `price`\n",
    "- `floor_area`\n",
    "- `bedroom`\n",
    "- `bathroom`"
   ]
  },
  {
   "cell_type": "code",
   "execution_count": null,
   "id": "9349e709-ce25-4f4c-8d5c-8629272dd648",
   "metadata": {},
   "outputs": [],
   "source": []
  }
 ],
 "metadata": {
  "kernelspec": {
   "display_name": "Python 3 (ipykernel)",
   "language": "python",
   "name": "python3"
  },
  "language_info": {
   "codemirror_mode": {
    "name": "ipython",
    "version": 3
   },
   "file_extension": ".py",
   "mimetype": "text/x-python",
   "name": "python",
   "nbconvert_exporter": "python",
   "pygments_lexer": "ipython3",
   "version": "3.7.11"
  }
 },
 "nbformat": 4,
 "nbformat_minor": 5
}
