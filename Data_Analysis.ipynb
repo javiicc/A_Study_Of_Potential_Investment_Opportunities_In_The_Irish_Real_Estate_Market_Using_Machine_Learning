{
 "cells": [
  {
   "cell_type": "markdown",
   "id": "6caf1226-e1ff-4a50-96e6-8995b1375f3d",
   "metadata": {},
   "source": [
    "- Distributions\n",
    "- Outliers\n",
    "- Clustering\n",
    "- Remove redundant variables\n",
    "- Variable selection"
   ]
  },
  {
   "cell_type": "code",
   "execution_count": null,
   "id": "b5068d88-08cf-49bd-a92a-aafd8742b860",
   "metadata": {},
   "outputs": [],
   "source": []
  },
  {
   "cell_type": "markdown",
   "id": "f5dcce5a-8c9a-412a-9dc8-0fd20ecb352e",
   "metadata": {},
   "source": [
    "Target: `price`\n",
    "\n",
    "Feature == Important == In-between == Not-important ==Reason\n",
    "\n",
    "1. **daft_id**:\n",
    "    - Verdict:\n",
    "    - Reason:\n",
    "2. **url**:\n",
    "    - Verdict:\n",
    "    - Reason:\n",
    "3. **name**:\n",
    "    - Verdict:\n",
    "    - Reason:\n",
    "4. **price**:\n",
    "    - Verdict:\n",
    "    - Reason:\n",
    "5. **sale_type**:\n",
    "    - Verdict:\n",
    "    - Reason:\n",
    "6. **floor_area**:\n",
    "    - Verdict:\n",
    "    - Reason:\n",
    "7. **entered_renewed**:\n",
    "    - Verdict:\n",
    "    - Reason:\n",
    "8. **views**:\n",
    "    - Verdict:\n",
    "    - Reason:\n",
    "9. **type**:\n",
    "    - Verdict:\n",
    "    - Reason:\n",
    "10. **scraping_date**:\n",
    "    - Verdict:\n",
    "    - Reason:\n",
    "11. **latitude**:\n",
    "    - Verdict:\n",
    "    - Reason:\n",
    "12. **longitude**:\n",
    "    - Verdict:\n",
    "    - Reason:\n",
    "13. **bedroom**:\n",
    "    - Verdict:\n",
    "    - Reason:\n",
    "14. **bathroom**:\n",
    "    - Verdict:\n",
    "    - Reason:\n",
    "15. ****:\n",
    "    - Verdict:\n",
    "    - Reason:\n",
    "16. ****:\n",
    "    - Verdict:\n",
    "    - Reason:\n",
    "\n"
   ]
  },
  {
   "cell_type": "code",
   "execution_count": null,
   "id": "c43c703d-942f-4380-a5c4-cbd2d9dee4e0",
   "metadata": {},
   "outputs": [],
   "source": []
  },
  {
   "cell_type": "code",
   "execution_count": 1,
   "id": "a9e8d26d-4a7c-4abf-832b-059a8d7165ef",
   "metadata": {},
   "outputs": [],
   "source": [
    "import numpy as np\n",
    "import pandas as pd\n",
    "import matplotlib.pyplot as plt\n",
    "import seaborn as sns\n",
    "import scipy.stats as ss"
   ]
  },
  {
   "cell_type": "code",
   "execution_count": 2,
   "id": "a19e208d-3d7a-4d75-b0f6-48cf0a59e244",
   "metadata": {},
   "outputs": [],
   "source": [
    "pd.set_option('display.max_rows', None)\n",
    "pd.set_option('display.max_columns', None)\n",
    "plt.style.use('seaborn')"
   ]
  },
  {
   "cell_type": "code",
   "execution_count": 3,
   "id": "914d694d-8b29-4d5a-a950-7d44d83b0456",
   "metadata": {},
   "outputs": [
    {
     "data": {
      "text/plain": [
       "(7695, 15)"
      ]
     },
     "execution_count": 3,
     "metadata": {},
     "output_type": "execute_result"
    }
   ],
   "source": [
    "sale_data = pd.read_csv('data_available/sale_data_post_C&W.csv', sep=',', parse_dates=['entered_renewed', 'scraping_date'])\n",
    "sale_data.shape"
   ]
  },
  {
   "cell_type": "code",
   "execution_count": 4,
   "id": "7311256b-88e0-43a6-b81a-a80c4fbe88d6",
   "metadata": {},
   "outputs": [
    {
     "name": "stdout",
     "output_type": "stream",
     "text": [
      "<class 'pandas.core.frame.DataFrame'>\n",
      "RangeIndex: 7695 entries, 0 to 7694\n",
      "Data columns (total 15 columns):\n",
      " #   Column           Non-Null Count  Dtype         \n",
      "---  ------           --------------  -----         \n",
      " 0   daft_id          7695 non-null   int64         \n",
      " 1   url              7695 non-null   object        \n",
      " 2   name             7695 non-null   object        \n",
      " 3   price            7695 non-null   float64       \n",
      " 4   sale_type        7695 non-null   object        \n",
      " 5   floor_area       7695 non-null   int64         \n",
      " 6   entered_renewed  7695 non-null   datetime64[ns]\n",
      " 7   views            7695 non-null   float64       \n",
      " 8   type_house       7695 non-null   object        \n",
      " 9   type             7695 non-null   object        \n",
      " 10  scraping_date    7695 non-null   datetime64[ns]\n",
      " 11  latitude         7695 non-null   float64       \n",
      " 12  longitude        7695 non-null   float64       \n",
      " 13  bedroom          7695 non-null   int64         \n",
      " 14  bathroom         7695 non-null   int64         \n",
      "dtypes: datetime64[ns](2), float64(4), int64(4), object(5)\n",
      "memory usage: 901.9+ KB\n"
     ]
    }
   ],
   "source": [
    "sale_data.info()"
   ]
  },
  {
   "cell_type": "markdown",
   "id": "ce794ff8-b7f6-4dca-92c7-48f2969cbd5b",
   "metadata": {},
   "source": [
    "# Numeric Variables"
   ]
  },
  {
   "cell_type": "code",
   "execution_count": 5,
   "id": "efbca231-a436-4334-8b18-796dca054e2b",
   "metadata": {},
   "outputs": [
    {
     "data": {
      "text/html": [
       "<div>\n",
       "<style scoped>\n",
       "    .dataframe tbody tr th:only-of-type {\n",
       "        vertical-align: middle;\n",
       "    }\n",
       "\n",
       "    .dataframe tbody tr th {\n",
       "        vertical-align: top;\n",
       "    }\n",
       "\n",
       "    .dataframe thead th {\n",
       "        text-align: right;\n",
       "    }\n",
       "</style>\n",
       "<table border=\"1\" class=\"dataframe\">\n",
       "  <thead>\n",
       "    <tr style=\"text-align: right;\">\n",
       "      <th></th>\n",
       "      <th>count</th>\n",
       "      <th>mean</th>\n",
       "      <th>std</th>\n",
       "      <th>min</th>\n",
       "      <th>25%</th>\n",
       "      <th>50%</th>\n",
       "      <th>75%</th>\n",
       "      <th>max</th>\n",
       "    </tr>\n",
       "  </thead>\n",
       "  <tbody>\n",
       "    <tr>\n",
       "      <th>price</th>\n",
       "      <td>7695.0</td>\n",
       "      <td>441123.840026</td>\n",
       "      <td>559497.409220</td>\n",
       "      <td>25000.000000</td>\n",
       "      <td>220000.000000</td>\n",
       "      <td>315000.000000</td>\n",
       "      <td>475000.000000</td>\n",
       "      <td>1.000000e+07</td>\n",
       "    </tr>\n",
       "    <tr>\n",
       "      <th>floor_area</th>\n",
       "      <td>7695.0</td>\n",
       "      <td>149.191813</td>\n",
       "      <td>187.894773</td>\n",
       "      <td>1.000000</td>\n",
       "      <td>83.000000</td>\n",
       "      <td>112.000000</td>\n",
       "      <td>170.000000</td>\n",
       "      <td>1.027900e+04</td>\n",
       "    </tr>\n",
       "    <tr>\n",
       "      <th>views</th>\n",
       "      <td>7695.0</td>\n",
       "      <td>6813.656660</td>\n",
       "      <td>7594.513251</td>\n",
       "      <td>0.000000</td>\n",
       "      <td>2526.500000</td>\n",
       "      <td>4567.000000</td>\n",
       "      <td>8257.000000</td>\n",
       "      <td>1.364560e+05</td>\n",
       "    </tr>\n",
       "    <tr>\n",
       "      <th>latitude</th>\n",
       "      <td>7695.0</td>\n",
       "      <td>53.073054</td>\n",
       "      <td>0.718554</td>\n",
       "      <td>51.460139</td>\n",
       "      <td>52.607087</td>\n",
       "      <td>53.283705</td>\n",
       "      <td>53.395819</td>\n",
       "      <td>5.536339e+01</td>\n",
       "    </tr>\n",
       "    <tr>\n",
       "      <th>longitude</th>\n",
       "      <td>7695.0</td>\n",
       "      <td>-7.432629</td>\n",
       "      <td>1.191594</td>\n",
       "      <td>-10.459878</td>\n",
       "      <td>-8.493948</td>\n",
       "      <td>-7.109124</td>\n",
       "      <td>-6.277835</td>\n",
       "      <td>-6.027847e+00</td>\n",
       "    </tr>\n",
       "    <tr>\n",
       "      <th>bedroom</th>\n",
       "      <td>7695.0</td>\n",
       "      <td>3.419753</td>\n",
       "      <td>1.510908</td>\n",
       "      <td>1.000000</td>\n",
       "      <td>3.000000</td>\n",
       "      <td>3.000000</td>\n",
       "      <td>4.000000</td>\n",
       "      <td>4.300000e+01</td>\n",
       "    </tr>\n",
       "    <tr>\n",
       "      <th>bathroom</th>\n",
       "      <td>7695.0</td>\n",
       "      <td>2.350227</td>\n",
       "      <td>1.476052</td>\n",
       "      <td>1.000000</td>\n",
       "      <td>1.000000</td>\n",
       "      <td>2.000000</td>\n",
       "      <td>3.000000</td>\n",
       "      <td>4.700000e+01</td>\n",
       "    </tr>\n",
       "  </tbody>\n",
       "</table>\n",
       "</div>"
      ],
      "text/plain": [
       "             count           mean            std           min            25%  \\\n",
       "price       7695.0  441123.840026  559497.409220  25000.000000  220000.000000   \n",
       "floor_area  7695.0     149.191813     187.894773      1.000000      83.000000   \n",
       "views       7695.0    6813.656660    7594.513251      0.000000    2526.500000   \n",
       "latitude    7695.0      53.073054       0.718554     51.460139      52.607087   \n",
       "longitude   7695.0      -7.432629       1.191594    -10.459878      -8.493948   \n",
       "bedroom     7695.0       3.419753       1.510908      1.000000       3.000000   \n",
       "bathroom    7695.0       2.350227       1.476052      1.000000       1.000000   \n",
       "\n",
       "                      50%            75%           max  \n",
       "price       315000.000000  475000.000000  1.000000e+07  \n",
       "floor_area     112.000000     170.000000  1.027900e+04  \n",
       "views         4567.000000    8257.000000  1.364560e+05  \n",
       "latitude        53.283705      53.395819  5.536339e+01  \n",
       "longitude       -7.109124      -6.277835 -6.027847e+00  \n",
       "bedroom          3.000000       4.000000  4.300000e+01  \n",
       "bathroom         2.000000       3.000000  4.700000e+01  "
      ]
     },
     "execution_count": 5,
     "metadata": {},
     "output_type": "execute_result"
    }
   ],
   "source": [
    "sale_data.drop(columns=['daft_id']).describe().transpose()"
   ]
  },
  {
   "cell_type": "markdown",
   "id": "05a1862a-d641-411b-8e8e-72adee61898c",
   "metadata": {},
   "source": []
  },
  {
   "cell_type": "markdown",
   "id": "1b54a31c-534c-4f37-9b12-91143a282643",
   "metadata": {},
   "source": [
    "--------------"
   ]
  },
  {
   "cell_type": "code",
   "execution_count": 6,
   "id": "499c6966-5646-4f59-8c42-bd8da2069186",
   "metadata": {},
   "outputs": [
    {
     "data": {
      "image/png": "[encoded data removed]",
      "text/plain": [
       "<Figure size 1152x1152 with 16 Axes>"
      ]
     },
     "metadata": {},
     "output_type": "display_data"
    }
   ],
   "source": [
    "fig, axs = plt.subplots(4, 4, figsize=(16, 16))\n",
    "\n",
    "sns.histplot(data=sale_data.price, kde=True, bins=30, color=\"skyblue\", ax=axs[0, 0], label='Price interval frequency')  #stat='density', label='Price interval frequency'\n",
    "sns.boxplot(data=sale_data.price, x=sale_data.price, ax=axs[1, 0])\n",
    "sns.histplot(data=sale_data.floor_area, kde=True, bins=30, color=\"olive\", ax=axs[0, 1])\n",
    "sns.boxplot(data=sale_data.floor_area, x=sale_data.floor_area, ax=axs[1, 1])\n",
    "\n",
    "sns.histplot(data=sale_data.latitude, kde=True, bins=30, color=\"olive\", ax=axs[0, 2])\n",
    "sns.boxplot(data=sale_data.latitude, x=sale_data.latitude, ax=axs[1, 2])\n",
    "sns.histplot(data=sale_data.longitude, kde=True, bins=30, color=\"olive\", ax=axs[0, 3])\n",
    "sns.boxplot(data=sale_data.longitude, x=sale_data.longitude, ax=axs[1, 3])\n",
    "\n",
    "sns.histplot(data=sale_data.bedroom, kde=True, bins=30, color=\"skyblue\", ax=axs[2, 0])  #stat='density', label='Price interval frequency'\n",
    "sns.boxplot(data=sale_data.bedroom, x=sale_data.bedroom, ax=axs[3, 0])\n",
    "sns.histplot(data=sale_data.bathroom, kde=True, bins=30, color=\"olive\", ax=axs[2, 1])\n",
    "sns.boxplot(data=sale_data.bathroom, x=sale_data.bathroom, ax=axs[3, 1])\n",
    "\n",
    "sns.histplot(data=sale_data.views, kde=True, bins=30, color=\"olive\", ax=axs[2, 2])\n",
    "sns.boxplot(data=sale_data.views, x=sale_data.views, ax=axs[3, 2])\n",
    "\n",
    "axs[0, 0].legend(); "
   ]
  },
  {
   "cell_type": "code",
   "execution_count": 7,
   "id": "6a73deb2-018e-40e9-98be-e3130866c3e7",
   "metadata": {},
   "outputs": [
    {
     "data": {
      "text/plain": [
       "8.052228514856877"
      ]
     },
     "execution_count": 7,
     "metadata": {},
     "output_type": "execute_result"
    }
   ],
   "source": [
    "# Fisher-Pearson coefficient of skewness\n",
    "ss.skew(sale_data.price) \n",
    "# => Asimetria a la derecha"
   ]
  },
  {
   "cell_type": "code",
   "execution_count": 8,
   "id": "6efc8755-45e7-49d3-bcae-2de1dc44a94b",
   "metadata": {},
   "outputs": [
    {
     "name": "stdout",
     "output_type": "stream",
     "text": [
      "Kursotis: 96.87977995734863\n",
      "Skewness: 8.052228514856877\n"
     ]
    }
   ],
   "source": [
    "from scipy import stats\n",
    "\n",
    "print('Kursotis:', stats.kurtosis(sale_data.price))\n",
    "print('Skewness:', stats.skew(sale_data.price))"
   ]
  },
  {
   "cell_type": "markdown",
   "id": "5e13f343-9eb9-410b-ba47-d56a59b7b9c1",
   "metadata": {},
   "source": [
    "# Categorical Variables"
   ]
  },
  {
   "cell_type": "code",
   "execution_count": 9,
   "id": "cb7b9918-9178-4275-95a9-c2c923d4ad88",
   "metadata": {},
   "outputs": [
    {
     "data": {
      "text/plain": [
       "house        6479\n",
       "apartment    1216\n",
       "Name: type_house, dtype: int64"
      ]
     },
     "execution_count": 9,
     "metadata": {},
     "output_type": "execute_result"
    }
   ],
   "source": [
    "sale_data.type_house.value_counts()"
   ]
  },
  {
   "cell_type": "code",
   "execution_count": 10,
   "id": "fa8b8d0e-9d3c-4e62-b096-2b524c6399fb",
   "metadata": {},
   "outputs": [
    {
     "data": {
      "image/png": "[encoded data removed]",
      "text/plain": [
       "<Figure size 576x396 with 1 Axes>"
      ]
     },
     "metadata": {},
     "output_type": "display_data"
    }
   ],
   "source": [
    "sns.countplot(data=sale_data, x='type_house', palette=\"Blues_d\");"
   ]
  },
  {
   "cell_type": "code",
   "execution_count": null,
   "id": "6a82a16d-fc87-43c0-8262-7e9d50635d3d",
   "metadata": {},
   "outputs": [],
   "source": []
  },
  {
   "cell_type": "code",
   "execution_count": 11,
   "id": "3778ff62-66f0-4f92-9087-aceeaab49d24",
   "metadata": {},
   "outputs": [
    {
     "data": {
      "text/html": [
       "<div>\n",
       "<style scoped>\n",
       "    .dataframe tbody tr th:only-of-type {\n",
       "        vertical-align: middle;\n",
       "    }\n",
       "\n",
       "    .dataframe tbody tr th {\n",
       "        vertical-align: top;\n",
       "    }\n",
       "\n",
       "    .dataframe thead th {\n",
       "        text-align: right;\n",
       "    }\n",
       "</style>\n",
       "<table border=\"1\" class=\"dataframe\">\n",
       "  <thead>\n",
       "    <tr style=\"text-align: right;\">\n",
       "      <th></th>\n",
       "      <th>price</th>\n",
       "      <th>floor_area</th>\n",
       "      <th>views</th>\n",
       "      <th>bedroom</th>\n",
       "      <th>bathroom</th>\n",
       "    </tr>\n",
       "    <tr>\n",
       "      <th>type_house</th>\n",
       "      <th></th>\n",
       "      <th></th>\n",
       "      <th></th>\n",
       "      <th></th>\n",
       "      <th></th>\n",
       "    </tr>\n",
       "  </thead>\n",
       "  <tbody>\n",
       "    <tr>\n",
       "      <th>apartment</th>\n",
       "      <td>320578.248355</td>\n",
       "      <td>76.536184</td>\n",
       "      <td>4813.012336</td>\n",
       "      <td>2.000822</td>\n",
       "      <td>1.615954</td>\n",
       "    </tr>\n",
       "    <tr>\n",
       "      <th>house</th>\n",
       "      <td>463748.232598</td>\n",
       "      <td>162.828060</td>\n",
       "      <td>7189.144158</td>\n",
       "      <td>3.686063</td>\n",
       "      <td>2.488038</td>\n",
       "    </tr>\n",
       "  </tbody>\n",
       "</table>\n",
       "</div>"
      ],
      "text/plain": [
       "                    price  floor_area        views   bedroom  bathroom\n",
       "type_house                                                            \n",
       "apartment   320578.248355   76.536184  4813.012336  2.000822  1.615954\n",
       "house       463748.232598  162.828060  7189.144158  3.686063  2.488038"
      ]
     },
     "execution_count": 11,
     "metadata": {},
     "output_type": "execute_result"
    }
   ],
   "source": [
    "sale_data.drop(columns=['daft_id', 'latitude', 'longitude']).groupby(by='type_house').agg('mean')"
   ]
  },
  {
   "cell_type": "code",
   "execution_count": 12,
   "id": "4dd62047-fcf1-4eef-87f4-27f61af5bf19",
   "metadata": {},
   "outputs": [
    {
     "data": {
      "image/png": "[encoded data removed]",
      "text/plain": [
       "<Figure size 576x396 with 1 Axes>"
      ]
     },
     "metadata": {},
     "output_type": "display_data"
    }
   ],
   "source": [
    "sns.histplot(data=sale_data, x='price', hue='type_house', legend=True, bins=30, \n",
    "             kde=True, stat='density', element=\"step\", common_norm=True);"
   ]
  },
  {
   "cell_type": "code",
   "execution_count": 13,
   "id": "f50dac06-29c3-40bc-be37-d610ab06e124",
   "metadata": {},
   "outputs": [
    {
     "data": {
      "image/png": "[encoded data removed]",
      "text/plain": [
       "<Figure size 1152x504 with 1 Axes>"
      ]
     },
     "metadata": {},
     "output_type": "display_data"
    }
   ],
   "source": [
    "fig, ax = plt.subplots(figsize=(16, 7))\n",
    "\n",
    "ax = sns.boxplot(data=sale_data, x='price', y='type_house', orient='h', \n",
    "                 order=['house', 'apartment'],\n",
    "                 whis=np.inf, palette=\"Set3\")\n",
    "ax = sns.stripplot(data=sale_data, x='price', y='type_house' ,orient='h', \n",
    "                   order=['house', 'apartment'],\n",
    "                   color=\"gray\", edgecolor=\"pink\", linewidth=.3,  size=3)"
   ]
  },
  {
   "cell_type": "code",
   "execution_count": null,
   "id": "c7f81e90-4e67-48f6-9001-6e12ceb26be0",
   "metadata": {},
   "outputs": [],
   "source": []
  },
  {
   "cell_type": "markdown",
   "id": "3355371b-ba12-485a-84d8-5b768a85d4c6",
   "metadata": {},
   "source": [
    "# Statistics"
   ]
  },
  {
   "cell_type": "markdown",
   "id": "f0927cc5-ef4e-4dcc-bff7-3ff5a6a433ff",
   "metadata": {},
   "source": [
    "## Pre-Outliers Cleansing"
   ]
  },
  {
   "cell_type": "code",
   "execution_count": 14,
   "id": "de2a7775-849c-4a83-b8db-2a5e69538fd8",
   "metadata": {},
   "outputs": [
    {
     "data": {
      "text/html": [
       "<div>\n",
       "<style scoped>\n",
       "    .dataframe tbody tr th:only-of-type {\n",
       "        vertical-align: middle;\n",
       "    }\n",
       "\n",
       "    .dataframe tbody tr th {\n",
       "        vertical-align: top;\n",
       "    }\n",
       "\n",
       "    .dataframe thead th {\n",
       "        text-align: right;\n",
       "    }\n",
       "</style>\n",
       "<table border=\"1\" class=\"dataframe\">\n",
       "  <thead>\n",
       "    <tr style=\"text-align: right;\">\n",
       "      <th></th>\n",
       "      <th>count</th>\n",
       "      <th>mean</th>\n",
       "      <th>std</th>\n",
       "      <th>min</th>\n",
       "      <th>25%</th>\n",
       "      <th>50%</th>\n",
       "      <th>75%</th>\n",
       "      <th>max</th>\n",
       "    </tr>\n",
       "  </thead>\n",
       "  <tbody>\n",
       "    <tr>\n",
       "      <th>price</th>\n",
       "      <td>7695.0</td>\n",
       "      <td>441123.840026</td>\n",
       "      <td>559497.409220</td>\n",
       "      <td>25000.000000</td>\n",
       "      <td>220000.000000</td>\n",
       "      <td>315000.000000</td>\n",
       "      <td>475000.000000</td>\n",
       "      <td>1.000000e+07</td>\n",
       "    </tr>\n",
       "    <tr>\n",
       "      <th>floor_area</th>\n",
       "      <td>7695.0</td>\n",
       "      <td>149.191813</td>\n",
       "      <td>187.894773</td>\n",
       "      <td>1.000000</td>\n",
       "      <td>83.000000</td>\n",
       "      <td>112.000000</td>\n",
       "      <td>170.000000</td>\n",
       "      <td>1.027900e+04</td>\n",
       "    </tr>\n",
       "    <tr>\n",
       "      <th>views</th>\n",
       "      <td>7695.0</td>\n",
       "      <td>6813.656660</td>\n",
       "      <td>7594.513251</td>\n",
       "      <td>0.000000</td>\n",
       "      <td>2526.500000</td>\n",
       "      <td>4567.000000</td>\n",
       "      <td>8257.000000</td>\n",
       "      <td>1.364560e+05</td>\n",
       "    </tr>\n",
       "    <tr>\n",
       "      <th>latitude</th>\n",
       "      <td>7695.0</td>\n",
       "      <td>53.073054</td>\n",
       "      <td>0.718554</td>\n",
       "      <td>51.460139</td>\n",
       "      <td>52.607087</td>\n",
       "      <td>53.283705</td>\n",
       "      <td>53.395819</td>\n",
       "      <td>5.536339e+01</td>\n",
       "    </tr>\n",
       "    <tr>\n",
       "      <th>longitude</th>\n",
       "      <td>7695.0</td>\n",
       "      <td>-7.432629</td>\n",
       "      <td>1.191594</td>\n",
       "      <td>-10.459878</td>\n",
       "      <td>-8.493948</td>\n",
       "      <td>-7.109124</td>\n",
       "      <td>-6.277835</td>\n",
       "      <td>-6.027847e+00</td>\n",
       "    </tr>\n",
       "    <tr>\n",
       "      <th>bedroom</th>\n",
       "      <td>7695.0</td>\n",
       "      <td>3.419753</td>\n",
       "      <td>1.510908</td>\n",
       "      <td>1.000000</td>\n",
       "      <td>3.000000</td>\n",
       "      <td>3.000000</td>\n",
       "      <td>4.000000</td>\n",
       "      <td>4.300000e+01</td>\n",
       "    </tr>\n",
       "    <tr>\n",
       "      <th>bathroom</th>\n",
       "      <td>7695.0</td>\n",
       "      <td>2.350227</td>\n",
       "      <td>1.476052</td>\n",
       "      <td>1.000000</td>\n",
       "      <td>1.000000</td>\n",
       "      <td>2.000000</td>\n",
       "      <td>3.000000</td>\n",
       "      <td>4.700000e+01</td>\n",
       "    </tr>\n",
       "  </tbody>\n",
       "</table>\n",
       "</div>"
      ],
      "text/plain": [
       "             count           mean            std           min            25%  \\\n",
       "price       7695.0  441123.840026  559497.409220  25000.000000  220000.000000   \n",
       "floor_area  7695.0     149.191813     187.894773      1.000000      83.000000   \n",
       "views       7695.0    6813.656660    7594.513251      0.000000    2526.500000   \n",
       "latitude    7695.0      53.073054       0.718554     51.460139      52.607087   \n",
       "longitude   7695.0      -7.432629       1.191594    -10.459878      -8.493948   \n",
       "bedroom     7695.0       3.419753       1.510908      1.000000       3.000000   \n",
       "bathroom    7695.0       2.350227       1.476052      1.000000       1.000000   \n",
       "\n",
       "                      50%            75%           max  \n",
       "price       315000.000000  475000.000000  1.000000e+07  \n",
       "floor_area     112.000000     170.000000  1.027900e+04  \n",
       "views         4567.000000    8257.000000  1.364560e+05  \n",
       "latitude        53.283705      53.395819  5.536339e+01  \n",
       "longitude       -7.109124      -6.277835 -6.027847e+00  \n",
       "bedroom          3.000000       4.000000  4.300000e+01  \n",
       "bathroom         2.000000       3.000000  4.700000e+01  "
      ]
     },
     "execution_count": 14,
     "metadata": {},
     "output_type": "execute_result"
    }
   ],
   "source": [
    "sale_data.drop(columns=['daft_id']).describe().transpose()"
   ]
  },
  {
   "cell_type": "markdown",
   "id": "49b4cde9-ee49-4180-b36f-cb0f94866e1b",
   "metadata": {},
   "source": [
    "- Measures of Position\n",
    "- Measures of Dispersion\n",
    "    - MD Absolutes\n",
    "    - MD Relatives\n",
    "    - Teorema de Tchebycheff\n",
    "- Asymmetry and Kurtosis"
   ]
  },
  {
   "cell_type": "markdown",
   "id": "e5f046a2-8dc6-45cd-807f-a9a27c9f363e",
   "metadata": {},
   "source": [
    "## Post-Outliers Cleansing"
   ]
  },
  {
   "cell_type": "markdown",
   "id": "fc08cfac-b823-458f-a688-c11fbaa724a3",
   "metadata": {},
   "source": [
    "### Outliers Detection"
   ]
  },
  {
   "cell_type": "markdown",
   "id": "d9c85c98-0fc2-4415-b936-8591163b8488",
   "metadata": {},
   "source": [
    "#### Percentile based method"
   ]
  },
  {
   "cell_type": "code",
   "execution_count": 15,
   "id": "1a69a22b-8936-4e7a-9208-bf845b88db95",
   "metadata": {},
   "outputs": [],
   "source": [
    "def pct_method(data, level):\n",
    "    # Upper and lower limits by percentiles\n",
    "    upper = np.percentile(data, 100 - level)\n",
    "    lower = np.percentile(data, level)\n",
    "    # Returning the upper and lower limits\n",
    "    return [lower, upper]"
   ]
  },
  {
   "cell_type": "markdown",
   "id": "4bc1bc78-4837-4aba-a944-28beb8049590",
   "metadata": {},
   "source": [
    "#### Interquartile range method"
   ]
  },
  {
   "cell_type": "code",
   "execution_count": 16,
   "id": "c44f4df2-c130-492b-b8be-e10d57f7b1fa",
   "metadata": {},
   "outputs": [],
   "source": [
    "def iqr_method(data):\n",
    "    # Calculating the IQR\n",
    "    perc_75 = np.percentile(data, 75)\n",
    "    perc_25 = np.percentile(data, 25)\n",
    "    iqr_range = perc_75 - perc_25\n",
    "    # Obtaining the lower and upper bound\n",
    "    iqr_upper = perc_75 + 1.5 * iqr_range\n",
    "    iqr_lower = perc_25 - 1.5 * iqr_range\n",
    "    # Returning the upper and lower limits\n",
    "    return [iqr_lower, iqr_upper]"
   ]
  },
  {
   "cell_type": "code",
   "execution_count": 17,
   "id": "03d08990-0866-422d-917d-7568e3e34646",
   "metadata": {},
   "outputs": [],
   "source": [
    "# This approach only works if the data is approximately Gaussian\n",
    "def std_method(data):\n",
    "    # Creating three standard deviations away boundaries\n",
    "    std = np.std(data)\n",
    "    upper_3std = np.mean(data) + 3 * std\n",
    "    lower_3std = np.mean(data) - 3 * std\n",
    "    # Returning the upper and lower limits\n",
    "    return [lower_3std, upper_3std]"
   ]
  },
  {
   "cell_type": "code",
   "execution_count": 28,
   "id": "4d77b147-46c6-4c20-9807-3d66877cd746",
   "metadata": {},
   "outputs": [],
   "source": [
    "def outlier_bool(df, feature, level=1, continuous=False, log=False):\n",
    "    \n",
    "    data = df[feature]\n",
    "    \n",
    "    \n",
    "    \n",
    "    # Taking logs is specified\n",
    "    if log is True:\n",
    "        data = np.log(data + 1)\n",
    "    # Obtaining the ranges\n",
    "    pct_range = pct_method(data, level)\n",
    "    iqr_range = iqr_method(data)\n",
    "    std_range = std_method(data)\n",
    "    \n",
    "    if continuous is False:\n",
    "        # Setting the lower limit fixed for discrete variables\n",
    "        low_limit = np.min(data)\n",
    "        high_limit = np.max([pct_range[1],\n",
    "                             iqr_range[1],\n",
    "                             std_range[1]])\n",
    "        \n",
    "    elif continuous is True:\n",
    "        if feature is 'floor_area':\n",
    "            #print('si')\n",
    "            low_limit = pct_range[0]\n",
    "        else:\n",
    "            #print('no')\n",
    "            low_limit = np.min([pct_range[0],\n",
    "                                iqr_range[0],\n",
    "                                std_range[0]])\n",
    "        high_limit = np.max([pct_range[1],\n",
    "                             iqr_range[1],\n",
    "                             std_range[1]])\n",
    "        \n",
    "    print(f'Limits: {[low_limit, high_limit]}')\n",
    "# Restrict the data with the minimum and maximum\n",
    "    outlier = data.between(low_limit, high_limit)\n",
    "    print(f'No outliers: {outlier.sum()}')\n",
    "    print(f'Outliers: {(outlier==False).sum()}\\n')\n",
    "    \n",
    "    \n",
    "# Return boolean\n",
    "    return outlier"
   ]
  },
  {
   "cell_type": "code",
   "execution_count": 29,
   "id": "8742fe65-9b90-42ff-80e5-70bf51dc0782",
   "metadata": {},
   "outputs": [],
   "source": [
    "def drop_outliers(df, feature, level=1, continuous=False, log=False, inplace=False):\n",
    "    print(f'Range before: {[df[feature].min(), df[feature].max()]}\\n')\n",
    "    outlier_boolean = outlier_bool(df=df, feature=feature, level=1, continuous=continuous, log=False)\n",
    "    rows_before = df.shape[0]\n",
    "    df = df[outlier_boolean]\n",
    "    rows_after = df.shape[0]\n",
    "    print(f'Range after: {[df[feature].min(), df[feature].max()]}')\n",
    "    print(f'Outliers dropped: {rows_before - rows_after}')\n",
    "    return df"
   ]
  },
  {
   "cell_type": "markdown",
   "id": "41ec5179-b974-43a6-9b06-7bdd39315f82",
   "metadata": {},
   "source": [
    "#### Dropping `price` Outliers"
   ]
  },
  {
   "cell_type": "code",
   "execution_count": 48,
   "id": "f496a1d8-8b87-4bf5-ab6f-02c49e03c13e",
   "metadata": {},
   "outputs": [
    {
     "name": "stdout",
     "output_type": "stream",
     "text": [
      "Range before: [25000.0, 10000000.0]\n",
      "\n",
      "Limits: [-1237259.320268431, 2650000.0]\n",
      "No outliers: 7621\n",
      "Outliers: 74\n",
      "\n",
      "Range after: [25000.0, 2650000.0]\n",
      "Outliers dropped: 74\n"
     ]
    },
    {
     "data": {
      "text/plain": [
       "(7621, 15)"
      ]
     },
     "execution_count": 48,
     "metadata": {},
     "output_type": "execute_result"
    }
   ],
   "source": [
    "sd_out_price = drop_outliers(sale_data, 'price', continuous=True)\n",
    "sd_out_price.shape"
   ]
  },
  {
   "cell_type": "code",
   "execution_count": 41,
   "id": "a5348847-75d5-4790-84a5-583338a565e4",
   "metadata": {},
   "outputs": [
    {
     "name": "stdout",
     "output_type": "stream",
     "text": [
      "[80000.0, 2650000.0]\n",
      "[-162500.0, 857500.0]\n",
      "[-1237259.320268431, 2119507.0003204127]\n"
     ]
    }
   ],
   "source": [
    "pct_range = pct_method(sale_data.price, level=1)\n",
    "iqr_range = iqr_method(sale_data.price)\n",
    "std_range = std_method(sale_data.price)\n",
    "\n",
    "print(pct_range)\n",
    "print(iqr_range)\n",
    "print(std_range)"
   ]
  },
  {
   "cell_type": "code",
   "execution_count": 45,
   "id": "2ee0342a-64a2-4b66-81b4-a2ce550c51de",
   "metadata": {},
   "outputs": [
    {
     "data": {
      "text/plain": [
       "1054    25000.0\n",
       "7306    32000.0\n",
       "6953    40000.0\n",
       "7671    40000.0\n",
       "7066    45000.0\n",
       "Name: price, dtype: float64"
      ]
     },
     "execution_count": 45,
     "metadata": {},
     "output_type": "execute_result"
    }
   ],
   "source": [
    "sale_data.price.sort_values().head() # Los quito?"
   ]
  },
  {
   "cell_type": "markdown",
   "id": "5f907bbe-b8d8-4ced-bf76-d388566dc7d7",
   "metadata": {
    "tags": []
   },
   "source": [
    "#### Dropping `floor_area` Outliers"
   ]
  },
  {
   "cell_type": "code",
   "execution_count": 31,
   "id": "041529f5-3255-4d7f-9a06-8842f0a98563",
   "metadata": {},
   "outputs": [
    {
     "name": "stdout",
     "output_type": "stream",
     "text": [
      "Range before: [1, 10279]\n",
      "\n",
      "Limits: [38.0, 712.8395035046221]\n",
      "No outliers: 7575\n",
      "Outliers: 120\n",
      "\n",
      "Range after: [38, 710]\n",
      "Outliers dropped: 120\n"
     ]
    },
    {
     "data": {
      "text/plain": [
       "(7575, 15)"
      ]
     },
     "execution_count": 31,
     "metadata": {},
     "output_type": "execute_result"
    }
   ],
   "source": [
    "sale_data_out = drop_outliers(sale_data, 'floor_area', continuous=True)\n",
    "sale_data_out.shape"
   ]
  },
  {
   "cell_type": "markdown",
   "id": "cada260a-0a20-4d8e-9f6c-a15ab62f238e",
   "metadata": {},
   "source": [
    "Aqui no funciona muy bien porque permite valores pequegnos sin sentido para una casa. En este caso usaremos el limite inferior del percentile method, que es el mas restrictivo. "
   ]
  },
  {
   "cell_type": "code",
   "execution_count": 40,
   "id": "ecc640b8-5d56-4f8c-81ce-53104e2726c2",
   "metadata": {},
   "outputs": [
    {
     "name": "stdout",
     "output_type": "stream",
     "text": [
      "[38.0, 624.5399999999954]\n",
      "[-47.5, 300.5]\n",
      "[-414.45587777362795, 712.8395035046221]\n"
     ]
    }
   ],
   "source": [
    "pct_range = pct_method(sale_data.floor_area, level=1)\n",
    "iqr_range = iqr_method(sale_data.floor_area)\n",
    "std_range = std_method(sale_data.floor_area)\n",
    "\n",
    "print(pct_range)\n",
    "print(iqr_range)\n",
    "print(std_range)"
   ]
  },
  {
   "cell_type": "code",
   "execution_count": 46,
   "id": "7364673e-99e1-4750-860e-4422c61569cf",
   "metadata": {},
   "outputs": [
    {
     "data": {
      "text/plain": [
       "6243    1\n",
       "4072    1\n",
       "7229    1\n",
       "7236    1\n",
       "7096    1\n",
       "Name: floor_area, dtype: int64"
      ]
     },
     "execution_count": 46,
     "metadata": {},
     "output_type": "execute_result"
    }
   ],
   "source": [
    "sale_data.floor_area.sort_values().head()"
   ]
  },
  {
   "cell_type": "markdown",
   "id": "6ebc54e9-6664-4ea8-993b-8bc41917de46",
   "metadata": {},
   "source": [
    "#### Dropping `views` Outliers"
   ]
  },
  {
   "cell_type": "code",
   "execution_count": 34,
   "id": "09db0868-760a-4eed-9662-00980b2c3c1d",
   "metadata": {},
   "outputs": [
    {
     "name": "stdout",
     "output_type": "stream",
     "text": [
      "Range before: [0.0, 136456.0]\n",
      "\n",
      "Limits: [-15968.402634048929, 36608.39999999998]\n",
      "No outliers: 7618\n",
      "Outliers: 77\n",
      "\n",
      "Range after: [0.0, 36606.0]\n",
      "Outliers dropped: 77\n"
     ]
    },
    {
     "data": {
      "text/plain": [
       "(7618, 15)"
      ]
     },
     "execution_count": 34,
     "metadata": {},
     "output_type": "execute_result"
    }
   ],
   "source": [
    "sale_data_out = drop_outliers(sale_data, 'views', continuous=True)\n",
    "sale_data_out.shape"
   ]
  },
  {
   "cell_type": "code",
   "execution_count": 39,
   "id": "5bf79a82-3968-488c-8c30-f247bca561a4",
   "metadata": {},
   "outputs": [
    {
     "name": "stdout",
     "output_type": "stream",
     "text": [
      "[413.88, 36608.39999999998]\n",
      "[-6069.25, 16852.75]\n",
      "[-15968.402634048929, 29595.71595438681]\n"
     ]
    }
   ],
   "source": [
    "pct_range = pct_method(sale_data.views, level=1)\n",
    "iqr_range = iqr_method(sale_data.views)\n",
    "std_range = std_method(sale_data.views)\n",
    "\n",
    "print(pct_range)\n",
    "print(iqr_range)\n",
    "print(std_range)"
   ]
  },
  {
   "cell_type": "code",
   "execution_count": 47,
   "id": "bdab92f3-55ef-4daf-a153-a2754a2553c6",
   "metadata": {
    "tags": []
   },
   "outputs": [
    {
     "data": {
      "text/plain": [
       "1652    0.0\n",
       "5160    0.0\n",
       "7048    0.0\n",
       "5984    0.0\n",
       "3857    0.0\n",
       "Name: views, dtype: float64"
      ]
     },
     "execution_count": 47,
     "metadata": {},
     "output_type": "execute_result"
    }
   ],
   "source": [
    "sale_data['views'].sort_values().head()"
   ]
  },
  {
   "cell_type": "markdown",
   "id": "61dcd3e6-138e-4934-a150-178ad8282440",
   "metadata": {},
   "source": [
    "#### Dropping "
   ]
  },
  {
   "cell_type": "code",
   "execution_count": null,
   "id": "e96bed15-2dcd-4d7b-8d45-e769905a53ae",
   "metadata": {},
   "outputs": [],
   "source": []
  },
  {
   "cell_type": "code",
   "execution_count": 33,
   "id": "c2ed9a8c-8dfe-46a1-9c33-a7f7fe4f289d",
   "metadata": {},
   "outputs": [
    {
     "data": {
      "text/html": [
       "<div>\n",
       "<style scoped>\n",
       "    .dataframe tbody tr th:only-of-type {\n",
       "        vertical-align: middle;\n",
       "    }\n",
       "\n",
       "    .dataframe tbody tr th {\n",
       "        vertical-align: top;\n",
       "    }\n",
       "\n",
       "    .dataframe thead th {\n",
       "        text-align: right;\n",
       "    }\n",
       "</style>\n",
       "<table border=\"1\" class=\"dataframe\">\n",
       "  <thead>\n",
       "    <tr style=\"text-align: right;\">\n",
       "      <th></th>\n",
       "      <th>count</th>\n",
       "      <th>mean</th>\n",
       "      <th>std</th>\n",
       "      <th>min</th>\n",
       "      <th>25%</th>\n",
       "      <th>50%</th>\n",
       "      <th>75%</th>\n",
       "      <th>max</th>\n",
       "    </tr>\n",
       "  </thead>\n",
       "  <tbody>\n",
       "    <tr>\n",
       "      <th>price</th>\n",
       "      <td>7575.0</td>\n",
       "      <td>429530.963564</td>\n",
       "      <td>477760.749847</td>\n",
       "      <td>25000.000000</td>\n",
       "      <td>220000.000000</td>\n",
       "      <td>315000.000000</td>\n",
       "      <td>475000.000000</td>\n",
       "      <td>8.900000e+06</td>\n",
       "    </tr>\n",
       "    <tr>\n",
       "      <th>floor_area</th>\n",
       "      <td>7575.0</td>\n",
       "      <td>141.077756</td>\n",
       "      <td>90.105990</td>\n",
       "      <td>38.000000</td>\n",
       "      <td>84.000000</td>\n",
       "      <td>112.000000</td>\n",
       "      <td>168.000000</td>\n",
       "      <td>7.100000e+02</td>\n",
       "    </tr>\n",
       "    <tr>\n",
       "      <th>views</th>\n",
       "      <td>7575.0</td>\n",
       "      <td>6671.947723</td>\n",
       "      <td>6972.090094</td>\n",
       "      <td>0.000000</td>\n",
       "      <td>2506.500000</td>\n",
       "      <td>4533.000000</td>\n",
       "      <td>8204.000000</td>\n",
       "      <td>8.118800e+04</td>\n",
       "    </tr>\n",
       "    <tr>\n",
       "      <th>latitude</th>\n",
       "      <td>7575.0</td>\n",
       "      <td>53.077770</td>\n",
       "      <td>0.717805</td>\n",
       "      <td>51.460139</td>\n",
       "      <td>52.625920</td>\n",
       "      <td>53.284525</td>\n",
       "      <td>53.397481</td>\n",
       "      <td>5.536339e+01</td>\n",
       "    </tr>\n",
       "    <tr>\n",
       "      <th>longitude</th>\n",
       "      <td>7575.0</td>\n",
       "      <td>-7.426586</td>\n",
       "      <td>1.187277</td>\n",
       "      <td>-10.459878</td>\n",
       "      <td>-8.491297</td>\n",
       "      <td>-7.107007</td>\n",
       "      <td>-6.277164</td>\n",
       "      <td>-6.027847e+00</td>\n",
       "    </tr>\n",
       "    <tr>\n",
       "      <th>bedroom</th>\n",
       "      <td>7575.0</td>\n",
       "      <td>3.404356</td>\n",
       "      <td>1.356772</td>\n",
       "      <td>1.000000</td>\n",
       "      <td>3.000000</td>\n",
       "      <td>3.000000</td>\n",
       "      <td>4.000000</td>\n",
       "      <td>1.800000e+01</td>\n",
       "    </tr>\n",
       "    <tr>\n",
       "      <th>bathroom</th>\n",
       "      <td>7575.0</td>\n",
       "      <td>2.331881</td>\n",
       "      <td>1.331687</td>\n",
       "      <td>1.000000</td>\n",
       "      <td>1.000000</td>\n",
       "      <td>2.000000</td>\n",
       "      <td>3.000000</td>\n",
       "      <td>1.600000e+01</td>\n",
       "    </tr>\n",
       "  </tbody>\n",
       "</table>\n",
       "</div>"
      ],
      "text/plain": [
       "             count           mean            std           min            25%  \\\n",
       "price       7575.0  429530.963564  477760.749847  25000.000000  220000.000000   \n",
       "floor_area  7575.0     141.077756      90.105990     38.000000      84.000000   \n",
       "views       7575.0    6671.947723    6972.090094      0.000000    2506.500000   \n",
       "latitude    7575.0      53.077770       0.717805     51.460139      52.625920   \n",
       "longitude   7575.0      -7.426586       1.187277    -10.459878      -8.491297   \n",
       "bedroom     7575.0       3.404356       1.356772      1.000000       3.000000   \n",
       "bathroom    7575.0       2.331881       1.331687      1.000000       1.000000   \n",
       "\n",
       "                      50%            75%           max  \n",
       "price       315000.000000  475000.000000  8.900000e+06  \n",
       "floor_area     112.000000     168.000000  7.100000e+02  \n",
       "views         4533.000000    8204.000000  8.118800e+04  \n",
       "latitude        53.284525      53.397481  5.536339e+01  \n",
       "longitude       -7.107007      -6.277164 -6.027847e+00  \n",
       "bedroom          3.000000       4.000000  1.800000e+01  \n",
       "bathroom         2.000000       3.000000  1.600000e+01  "
      ]
     },
     "execution_count": 33,
     "metadata": {},
     "output_type": "execute_result"
    }
   ],
   "source": [
    "sale_data_out.drop(columns=['daft_id']).describe().transpose()"
   ]
  },
  {
   "cell_type": "code",
   "execution_count": null,
   "id": "530d0f99-5d14-4d32-88f8-fe542b9119a5",
   "metadata": {},
   "outputs": [],
   "source": []
  },
  {
   "cell_type": "markdown",
   "id": "3d8ccb05-741e-40fd-b7cb-be5eca2bec6c",
   "metadata": {},
   "source": [
    "# Relationships"
   ]
  },
  {
   "cell_type": "code",
   "execution_count": null,
   "id": "7a2dd232-cfdc-4aba-b747-3c2adef907f6",
   "metadata": {},
   "outputs": [],
   "source": [
    "sns.pairplot(sale_data.drop(columns=['daft_id']), hue='type_house');"
   ]
  },
  {
   "cell_type": "code",
   "execution_count": null,
   "id": "f0ce8c7f-8e60-456f-b242-782a384ea013",
   "metadata": {},
   "outputs": [],
   "source": [
    "sns.heatmap(sale_data.corr(), annot=True, cmap='mako');  "
   ]
  },
  {
   "cell_type": "code",
   "execution_count": null,
   "id": "cc7ecb0a-9ec3-4d9c-a06f-a3fa139f4006",
   "metadata": {},
   "outputs": [],
   "source": []
  },
  {
   "cell_type": "code",
   "execution_count": null,
   "id": "65a17cb6-d37e-487f-bc1d-6a56e3bb0448",
   "metadata": {},
   "outputs": [],
   "source": []
  },
  {
   "cell_type": "code",
   "execution_count": null,
   "id": "9c44b190-43f5-4e3d-ab3c-333fcd05f7fb",
   "metadata": {},
   "outputs": [],
   "source": []
  },
  {
   "cell_type": "markdown",
   "id": "fe5ab4a6-f318-4d1c-b17a-aa96206d984b",
   "metadata": {},
   "source": [
    "https://medium.com/towards-data-science/rip-correlation-introducing-the-predictive-power-score-3d90808b9598"
   ]
  },
  {
   "cell_type": "code",
   "execution_count": null,
   "id": "e7a9fc86-b85c-4a85-afa5-4ad8d041be57",
   "metadata": {},
   "outputs": [],
   "source": []
  }
 ],
 "metadata": {
  "kernelspec": {
   "display_name": "Python 3 (ipykernel)",
   "language": "python",
   "name": "python3"
  },
  "language_info": {
   "codemirror_mode": {
    "name": "ipython",
    "version": 3
   },
   "file_extension": ".py",
   "mimetype": "text/x-python",
   "name": "python",
   "nbconvert_exporter": "python",
   "pygments_lexer": "ipython3",
   "version": "3.7.11"
  }
 },
 "nbformat": 4,
 "nbformat_minor": 5
}
