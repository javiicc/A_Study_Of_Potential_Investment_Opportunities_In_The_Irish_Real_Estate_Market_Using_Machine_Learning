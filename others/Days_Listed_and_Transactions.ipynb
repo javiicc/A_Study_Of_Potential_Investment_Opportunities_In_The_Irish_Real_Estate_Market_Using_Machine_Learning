{
 "cells": [
  {
   "cell_type": "code",
   "execution_count": 1,
   "id": "75148d14-06cd-4bbb-9f4b-0a04bd7b91e4",
   "metadata": {},
   "outputs": [],
   "source": [
    "import sqlite3\n",
    "\n",
    "import numpy as np\n",
    "import pandas as pd\n",
    "import matplotlib.pyplot as plt\n",
    "\n",
    "from daftpy.daftdata import get_db, db_dict, to_datetime, sale_dict_daily, drop_renewed, concatenate_dropping_renewed"
   ]
  },
  {
   "cell_type": "code",
   "execution_count": 2,
   "id": "03f52a15-5a72-43f2-8c89-6f0375d48c1a",
   "metadata": {},
   "outputs": [],
   "source": [
    "pd.set_option('display.max_rows', None)\n",
    "pd.set_option('display.max_columns', None)\n",
    "plt.style.use('seaborn')"
   ]
  },
  {
   "cell_type": "code",
   "execution_count": 3,
   "id": "12e50791-1c5f-4dff-baab-29bd1790f2a3",
   "metadata": {},
   "outputs": [
    {
     "name": "stdout",
     "output_type": "stream",
     "text": [
      "2021-09-25.db  2021-10-01.db  2021-10-07.db  2021-10-13.db  2021-10-19.db\n",
      "2021-09-26.db  2021-10-02.db  2021-10-08.db  2021-10-14.db  backup\n",
      "2021-09-27.db  2021-10-03.db  2021-10-09.db  2021-10-15.db\n",
      "2021-09-28.db  2021-10-04.db  2021-10-10.db  2021-10-16.db\n",
      "2021-09-29.db  2021-10-05.db  2021-10-11.db  2021-10-17.db\n",
      "2021-09-30.db  2021-10-06.db  2021-10-12.db  2021-10-18.db\n"
     ]
    }
   ],
   "source": [
    "!ls data"
   ]
  },
  {
   "cell_type": "markdown",
   "id": "ea5123a3-4adf-45d7-bfea-b4db785592ed",
   "metadata": {},
   "source": [
    "--------"
   ]
  },
  {
   "cell_type": "markdown",
   "id": "e6af0c89-5491-4da2-9408-d3b05ef37d79",
   "metadata": {},
   "source": [
    "--------"
   ]
  },
  {
   "cell_type": "code",
   "execution_count": 4,
   "id": "527dd63b-a6bf-466c-a4f1-66f9537e826d",
   "metadata": {},
   "outputs": [
    {
     "data": {
      "text/plain": [
       "dict_keys(['2021-10-05', '2021-09-29', '2021-10-16', '2021-10-09', '2021-10-04', '2021-10-01', '2021-09-28', '2021-09-27', '2021-10-06', '2021-10-15', '2021-10-18', '2021-10-03', '2021-09-30', '2021-10-19', '2021-10-11', '2021-10-08', '2021-10-12', '2021-10-02', '2021-10-14', '2021-10-13', '2021-09-26', '2021-10-10', '2021-10-17', '2021-10-07', '2021-09-25'])"
      ]
     },
     "execution_count": 4,
     "metadata": {},
     "output_type": "execute_result"
    }
   ],
   "source": [
    "sale_dict = db_dict()\n",
    "sale_dict.keys()"
   ]
  },
  {
   "cell_type": "code",
   "execution_count": 5,
   "id": "3ed221ca-6d9e-4cc6-bd9d-3905bf4547de",
   "metadata": {},
   "outputs": [
    {
     "data": {
      "text/plain": [
       "odict_keys(['2021-09-25', '2021-09-26', '2021-09-27', '2021-09-28', '2021-09-29', '2021-09-30', '2021-10-01', '2021-10-02', '2021-10-03', '2021-10-04', '2021-10-05', '2021-10-06', '2021-10-07', '2021-10-08', '2021-10-09', '2021-10-10', '2021-10-11', '2021-10-12', '2021-10-13', '2021-10-14', '2021-10-15', '2021-10-16', '2021-10-17', '2021-10-18', '2021-10-19'])"
      ]
     },
     "execution_count": 5,
     "metadata": {},
     "output_type": "execute_result"
    }
   ],
   "source": [
    "import collections\n",
    "\n",
    "sale_dict = collections.OrderedDict(sorted(sale_dict.items())).copy()\n",
    "\n",
    "sale_dict.keys()"
   ]
  },
  {
   "cell_type": "code",
   "execution_count": 6,
   "id": "17c41ba3-3185-489c-8bb5-fdeb901fd3ab",
   "metadata": {},
   "outputs": [],
   "source": [
    "to_datetime(sale_dict)"
   ]
  },
  {
   "cell_type": "code",
   "execution_count": 7,
   "id": "7dcaf1a3-c0df-4a87-ad92-2484a133f02b",
   "metadata": {},
   "outputs": [
    {
     "name": "stdout",
     "output_type": "stream",
     "text": [
      "<class 'pandas.core.frame.DataFrame'>\n",
      "RangeIndex: 16368 entries, 0 to 16367\n",
      "Data columns (total 17 columns):\n",
      " #   Column                        Non-Null Count  Dtype         \n",
      "---  ------                        --------------  -----         \n",
      " 0   daft_id                       16368 non-null  object        \n",
      " 1   item_id                       16368 non-null  object        \n",
      " 2   url                           16368 non-null  object        \n",
      " 3   name                          16368 non-null  object        \n",
      " 4   price                         16368 non-null  object        \n",
      " 5   info                          16368 non-null  object        \n",
      " 6   sale_type                     16368 non-null  object        \n",
      " 7   floor_area                    16368 non-null  object        \n",
      " 8   psr                           16368 non-null  object        \n",
      " 9   ber                           16368 non-null  object        \n",
      " 10  entered_renewed               16368 non-null  datetime64[ns]\n",
      " 11  views                         16368 non-null  object        \n",
      " 12  type_house                    16368 non-null  object        \n",
      " 13  energy_performance_indicator  16368 non-null  object        \n",
      " 14  coordinates                   16368 non-null  object        \n",
      " 15  type                          16368 non-null  object        \n",
      " 16  scraping_date                 16368 non-null  datetime64[ns]\n",
      "dtypes: datetime64[ns](2), object(15)\n",
      "memory usage: 2.1+ MB\n"
     ]
    }
   ],
   "source": [
    "sale_dict['2021-09-25'].info()"
   ]
  },
  {
   "cell_type": "code",
   "execution_count": null,
   "id": "0bd151c3-fdec-4138-990c-67ddf8c94131",
   "metadata": {},
   "outputs": [],
   "source": []
  }
 ],
 "metadata": {
  "kernelspec": {
   "display_name": "Python 3 (ipykernel)",
   "language": "python",
   "name": "python3"
  },
  "language_info": {
   "codemirror_mode": {
    "name": "ipython",
    "version": 3
   },
   "file_extension": ".py",
   "mimetype": "text/x-python",
   "name": "python",
   "nbconvert_exporter": "python",
   "pygments_lexer": "ipython3",
   "version": "3.7.11"
  }
 },
 "nbformat": 4,
 "nbformat_minor": 5
}
