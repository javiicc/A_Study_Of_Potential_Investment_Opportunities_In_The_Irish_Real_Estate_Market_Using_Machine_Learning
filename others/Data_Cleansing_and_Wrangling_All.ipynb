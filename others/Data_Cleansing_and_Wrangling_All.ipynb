{
 "cells": [
  {
   "cell_type": "markdown",
   "id": "e167dfc7-b604-4195-ae3f-8c327970651d",
   "metadata": {},
   "source": [
    "# Cleansing and Wrangling Data All Data Published Since 2021-09-25"
   ]
  },
  {
   "cell_type": "code",
   "execution_count": 1,
   "id": "a4f70b93-41bc-4163-8650-5139313cd5ff",
   "metadata": {},
   "outputs": [],
   "source": [
    "import numpy as np\n",
    "import pandas as pd\n",
    "import matplotlib.pyplot as plt\n",
    "\n",
    "from daftpy.daftprep import process_price, process_coordinates, drop_coord_outliers, drop_floor_area, \\\n",
    "floor_area_wragling, process_floor_area, drop_info, process_info, process_views, process_rooms"
   ]
  },
  {
   "cell_type": "code",
   "execution_count": 2,
   "id": "526846e6-61bb-4060-b9c7-11441123cb38",
   "metadata": {},
   "outputs": [],
   "source": [
    "pd.set_option('display.max_rows', None)\n",
    "pd.set_option('display.max_columns', None)\n",
    "plt.style.use('seaborn')"
   ]
  },
  {
   "cell_type": "code",
   "execution_count": 3,
   "id": "24de3113-9436-4b2a-bfe6-ed073878fa48",
   "metadata": {},
   "outputs": [
    {
     "data": {
      "text/plain": [
       "(18559, 17)"
      ]
     },
     "execution_count": 3,
     "metadata": {},
     "output_type": "execute_result"
    }
   ],
   "source": [
    "sale_data = pd.read_csv('data_available/sale_data.csv', sep=',', parse_dates=['entered_renewed', 'scraping_date'])\n",
    "sale_data.shape"
   ]
  },
  {
   "cell_type": "code",
   "execution_count": 4,
   "id": "0e86db7c-7716-4574-bf2e-87274ff44d8d",
   "metadata": {},
   "outputs": [
    {
     "name": "stdout",
     "output_type": "stream",
     "text": [
      "<class 'pandas.core.frame.DataFrame'>\n",
      "RangeIndex: 18559 entries, 0 to 18558\n",
      "Data columns (total 17 columns):\n",
      " #   Column                        Non-Null Count  Dtype         \n",
      "---  ------                        --------------  -----         \n",
      " 0   daft_id                       18559 non-null  int64         \n",
      " 1   item_id                       18559 non-null  int64         \n",
      " 2   url                           18559 non-null  object        \n",
      " 3   name                          18559 non-null  object        \n",
      " 4   price                         18559 non-null  object        \n",
      " 5   info                          18559 non-null  object        \n",
      " 6   sale_type                     18559 non-null  object        \n",
      " 7   floor_area                    18559 non-null  object        \n",
      " 8   psr                           18559 non-null  object        \n",
      " 9   ber                           18494 non-null  object        \n",
      " 10  entered_renewed               18559 non-null  datetime64[ns]\n",
      " 11  views                         18559 non-null  object        \n",
      " 12  type_house                    18559 non-null  object        \n",
      " 13  energy_performance_indicator  18559 non-null  object        \n",
      " 14  coordinates                   18559 non-null  object        \n",
      " 15  type                          18559 non-null  object        \n",
      " 16  scraping_date                 18559 non-null  datetime64[ns]\n",
      "dtypes: datetime64[ns](2), int64(2), object(13)\n",
      "memory usage: 2.4+ MB\n"
     ]
    }
   ],
   "source": [
    "sale_data.info()"
   ]
  },
  {
   "cell_type": "code",
   "execution_count": 5,
   "id": "5dfe454e-aab4-4322-a4f0-5ae7b7203332",
   "metadata": {},
   "outputs": [
    {
     "data": {
      "text/plain": [
       "daft_id                             0\n",
       "item_id                             0\n",
       "url                                 0\n",
       "name                              220\n",
       "price                             220\n",
       "info                              220\n",
       "sale_type                         231\n",
       "floor_area                        231\n",
       "psr                             10466\n",
       "ber                              3446\n",
       "entered_renewed                     0\n",
       "views                               0\n",
       "type_house                       3767\n",
       "energy_performance_indicator    10545\n",
       "coordinates                         0\n",
       "type                                0\n",
       "scraping_date                       0\n",
       "dtype: int64"
      ]
     },
     "execution_count": 5,
     "metadata": {},
     "output_type": "execute_result"
    }
   ],
   "source": [
    "sale_data.replace('none', np.nan, inplace=True)\n",
    "sale_data.isna().sum()"
   ]
  },
  {
   "cell_type": "code",
   "execution_count": 6,
   "id": "9205ca0d-f532-4c3f-85bd-0bafa42e0b69",
   "metadata": {},
   "outputs": [
    {
     "data": {
      "text/html": [
       "<div>\n",
       "<style scoped>\n",
       "    .dataframe tbody tr th:only-of-type {\n",
       "        vertical-align: middle;\n",
       "    }\n",
       "\n",
       "    .dataframe tbody tr th {\n",
       "        vertical-align: top;\n",
       "    }\n",
       "\n",
       "    .dataframe thead th {\n",
       "        text-align: right;\n",
       "    }\n",
       "</style>\n",
       "<table border=\"1\" class=\"dataframe\">\n",
       "  <thead>\n",
       "    <tr style=\"text-align: right;\">\n",
       "      <th></th>\n",
       "      <th>daft_id</th>\n",
       "      <th>item_id</th>\n",
       "      <th>url</th>\n",
       "      <th>name</th>\n",
       "      <th>price</th>\n",
       "      <th>info</th>\n",
       "      <th>sale_type</th>\n",
       "      <th>floor_area</th>\n",
       "      <th>psr</th>\n",
       "      <th>ber</th>\n",
       "      <th>entered_renewed</th>\n",
       "      <th>views</th>\n",
       "      <th>type_house</th>\n",
       "      <th>energy_performance_indicator</th>\n",
       "      <th>coordinates</th>\n",
       "      <th>type</th>\n",
       "      <th>scraping_date</th>\n",
       "    </tr>\n",
       "  </thead>\n",
       "  <tbody>\n",
       "    <tr>\n",
       "      <th>3716</th>\n",
       "      <td>16457421</td>\n",
       "      <td>3571268</td>\n",
       "      <td>https://www.daft.ie/for-sale/semi-detached-hou...</td>\n",
       "      <td>57 Shanliss Road, Santry, Dublin 9</td>\n",
       "      <td>€395,000</td>\n",
       "      <td>3 Bed,2 Bath,88 m²,Semi-D</td>\n",
       "      <td>For Sale by Private Treaty</td>\n",
       "      <td>88 m²</td>\n",
       "      <td>NaN</td>\n",
       "      <td>F</td>\n",
       "      <td>2021-10-08</td>\n",
       "      <td>275</td>\n",
       "      <td>house</td>\n",
       "      <td>434.55 kWh/m2/yr</td>\n",
       "      <td>53.391241+-6.253806</td>\n",
       "      <td>buy</td>\n",
       "      <td>2021-10-09</td>\n",
       "    </tr>\n",
       "  </tbody>\n",
       "</table>\n",
       "</div>"
      ],
      "text/plain": [
       "       daft_id  item_id                                                url  \\\n",
       "3716  16457421  3571268  https://www.daft.ie/for-sale/semi-detached-hou...   \n",
       "\n",
       "                                    name     price                       info  \\\n",
       "3716  57 Shanliss Road, Santry, Dublin 9  €395,000  3 Bed,2 Bath,88 m²,Semi-D   \n",
       "\n",
       "                       sale_type floor_area  psr ber entered_renewed views  \\\n",
       "3716  For Sale by Private Treaty      88 m²  NaN   F      2021-10-08   275   \n",
       "\n",
       "     type_house energy_performance_indicator          coordinates type  \\\n",
       "3716      house             434.55 kWh/m2/yr  53.391241+-6.253806  buy   \n",
       "\n",
       "     scraping_date  \n",
       "3716    2021-10-09  "
      ]
     },
     "execution_count": 6,
     "metadata": {},
     "output_type": "execute_result"
    }
   ],
   "source": [
    "sale_data.sample()"
   ]
  },
  {
   "cell_type": "markdown",
   "id": "a7a56815-43fd-4e27-a595-e019d8609e09",
   "metadata": {},
   "source": [
    "## Price"
   ]
  },
  {
   "cell_type": "code",
   "execution_count": 7,
   "id": "bc635f6f-7231-41b9-9cad-5bd1a6d44103",
   "metadata": {},
   "outputs": [
    {
     "data": {
      "text/html": [
       "<div>\n",
       "<style scoped>\n",
       "    .dataframe tbody tr th:only-of-type {\n",
       "        vertical-align: middle;\n",
       "    }\n",
       "\n",
       "    .dataframe tbody tr th {\n",
       "        vertical-align: top;\n",
       "    }\n",
       "\n",
       "    .dataframe thead th {\n",
       "        text-align: right;\n",
       "    }\n",
       "</style>\n",
       "<table border=\"1\" class=\"dataframe\">\n",
       "  <thead>\n",
       "    <tr style=\"text-align: right;\">\n",
       "      <th></th>\n",
       "      <th>price</th>\n",
       "    </tr>\n",
       "  </thead>\n",
       "  <tbody>\n",
       "    <tr>\n",
       "      <th>0</th>\n",
       "      <td>€779,000</td>\n",
       "    </tr>\n",
       "    <tr>\n",
       "      <th>1</th>\n",
       "      <td>€224,000</td>\n",
       "    </tr>\n",
       "    <tr>\n",
       "      <th>2</th>\n",
       "      <td>€185,000</td>\n",
       "    </tr>\n",
       "    <tr>\n",
       "      <th>3</th>\n",
       "      <td>AMV: €249,950</td>\n",
       "    </tr>\n",
       "    <tr>\n",
       "      <th>4</th>\n",
       "      <td>€995,000</td>\n",
       "    </tr>\n",
       "    <tr>\n",
       "      <th>5</th>\n",
       "      <td>€540,000</td>\n",
       "    </tr>\n",
       "    <tr>\n",
       "      <th>6</th>\n",
       "      <td>€420,000</td>\n",
       "    </tr>\n",
       "    <tr>\n",
       "      <th>7</th>\n",
       "      <td>€250,000</td>\n",
       "    </tr>\n",
       "    <tr>\n",
       "      <th>8</th>\n",
       "      <td>Price on Application</td>\n",
       "    </tr>\n",
       "    <tr>\n",
       "      <th>9</th>\n",
       "      <td>€625,000</td>\n",
       "    </tr>\n",
       "  </tbody>\n",
       "</table>\n",
       "</div>"
      ],
      "text/plain": [
       "                  price\n",
       "0              €779,000\n",
       "1              €224,000\n",
       "2              €185,000\n",
       "3         AMV: €249,950\n",
       "4              €995,000\n",
       "5              €540,000\n",
       "6              €420,000\n",
       "7              €250,000\n",
       "8  Price on Application\n",
       "9              €625,000"
      ]
     },
     "execution_count": 7,
     "metadata": {},
     "output_type": "execute_result"
    }
   ],
   "source": [
    "sale_data[['price']].head(10) ###AMV"
   ]
  },
  {
   "cell_type": "raw",
   "id": "599f88a9-709e-4aa3-868a-29ee9760d695",
   "metadata": {},
   "source": [
    "def process_price(df): \n",
    "    # Drop prices    \n",
    "    #df = df.loc[(df['price'] != 'Price on Application') & (df['price'] != 'AMV: Price on Application')]\n",
    "    df = df[((df['price'] != 'Price on Application') & (df['price'] != 'AMV: Price on Application'))].copy()\n",
    "    # Prices wrangling      £120,000 (€139,775)\n",
    "    df['price'] = df['price'].str.split('€').str[-1].str.replace(',', '', regex=False).str.replace(')', '', regex=False).astype(float)\n",
    "    \n",
    "    return df"
   ]
  },
  {
   "cell_type": "code",
   "execution_count": 8,
   "id": "5cff3b8a-62d9-48fc-a981-1a82ce19ba11",
   "metadata": {
    "tags": []
   },
   "outputs": [],
   "source": [
    "#sale_data.loc[(sale_data['price'] != 'Price on Application') & (sale_data['price'] != 'AMV: Price on Application'), 'price']"
   ]
  },
  {
   "cell_type": "code",
   "execution_count": 9,
   "id": "0a531e84-fa7e-4c01-bdf2-a1c4b1a52bb3",
   "metadata": {
    "tags": []
   },
   "outputs": [
    {
     "data": {
      "text/html": [
       "<div>\n",
       "<style scoped>\n",
       "    .dataframe tbody tr th:only-of-type {\n",
       "        vertical-align: middle;\n",
       "    }\n",
       "\n",
       "    .dataframe tbody tr th {\n",
       "        vertical-align: top;\n",
       "    }\n",
       "\n",
       "    .dataframe thead th {\n",
       "        text-align: right;\n",
       "    }\n",
       "</style>\n",
       "<table border=\"1\" class=\"dataframe\">\n",
       "  <thead>\n",
       "    <tr style=\"text-align: right;\">\n",
       "      <th></th>\n",
       "      <th>before</th>\n",
       "      <th>after</th>\n",
       "    </tr>\n",
       "  </thead>\n",
       "  <tbody>\n",
       "    <tr>\n",
       "      <th>0</th>\n",
       "      <td>€779,000</td>\n",
       "      <td>779000.0</td>\n",
       "    </tr>\n",
       "    <tr>\n",
       "      <th>1</th>\n",
       "      <td>€224,000</td>\n",
       "      <td>224000.0</td>\n",
       "    </tr>\n",
       "    <tr>\n",
       "      <th>2</th>\n",
       "      <td>€185,000</td>\n",
       "      <td>185000.0</td>\n",
       "    </tr>\n",
       "    <tr>\n",
       "      <th>3</th>\n",
       "      <td>AMV: €249,950</td>\n",
       "      <td>249950.0</td>\n",
       "    </tr>\n",
       "    <tr>\n",
       "      <th>4</th>\n",
       "      <td>€995,000</td>\n",
       "      <td>995000.0</td>\n",
       "    </tr>\n",
       "    <tr>\n",
       "      <th>5</th>\n",
       "      <td>€540,000</td>\n",
       "      <td>540000.0</td>\n",
       "    </tr>\n",
       "    <tr>\n",
       "      <th>6</th>\n",
       "      <td>€420,000</td>\n",
       "      <td>420000.0</td>\n",
       "    </tr>\n",
       "    <tr>\n",
       "      <th>7</th>\n",
       "      <td>€250,000</td>\n",
       "      <td>250000.0</td>\n",
       "    </tr>\n",
       "    <tr>\n",
       "      <th>8</th>\n",
       "      <td>Price on Application</td>\n",
       "      <td>NaN</td>\n",
       "    </tr>\n",
       "    <tr>\n",
       "      <th>9</th>\n",
       "      <td>€625,000</td>\n",
       "      <td>625000.0</td>\n",
       "    </tr>\n",
       "  </tbody>\n",
       "</table>\n",
       "</div>"
      ],
      "text/plain": [
       "                 before     after\n",
       "0              €779,000  779000.0\n",
       "1              €224,000  224000.0\n",
       "2              €185,000  185000.0\n",
       "3         AMV: €249,950  249950.0\n",
       "4              €995,000  995000.0\n",
       "5              €540,000  540000.0\n",
       "6              €420,000  420000.0\n",
       "7              €250,000  250000.0\n",
       "8  Price on Application       NaN\n",
       "9              €625,000  625000.0"
      ]
     },
     "execution_count": 9,
     "metadata": {},
     "output_type": "execute_result"
    }
   ],
   "source": [
    "pd.DataFrame({'before': sale_data['price'], \n",
    "              'after': process_price(sale_data)['price']}).head(10)\n",
    "# Al llamar aqui se cambia el df, por eso lo aplicamos sobre una copia"
   ]
  },
  {
   "cell_type": "code",
   "execution_count": 10,
   "id": "198b6338-7e6a-40e1-a5e6-94517f27cdd3",
   "metadata": {},
   "outputs": [
    {
     "name": "stdout",
     "output_type": "stream",
     "text": [
      "(17559, 17)\n"
     ]
    },
    {
     "data": {
      "text/plain": [
       "220"
      ]
     },
     "execution_count": 10,
     "metadata": {},
     "output_type": "execute_result"
    }
   ],
   "source": [
    "sale_data = process_price(sale_data.copy()).reset_index(drop=True)\n",
    "print(sale_data.shape)\n",
    "sale_data['price'].isna().sum()"
   ]
  },
  {
   "cell_type": "code",
   "execution_count": 11,
   "id": "c76c1c91-2f77-443b-942f-9cee3640309b",
   "metadata": {},
   "outputs": [
    {
     "name": "stdout",
     "output_type": "stream",
     "text": [
      "(17559, 17)\n",
      "(17339, 17)\n"
     ]
    }
   ],
   "source": [
    "print(sale_data.shape)\n",
    "#sale_data.dropna(subset=['price'], inplace=True).reset_index(drop=True, inplace=True)\n",
    "sale_data = sale_data.dropna(subset=['price']).reset_index(drop=True)\n",
    "print(sale_data.shape)"
   ]
  },
  {
   "cell_type": "markdown",
   "id": "daac680e-f4f7-4ff1-9083-f47d1b927805",
   "metadata": {},
   "source": [
    "## Coordinates"
   ]
  },
  {
   "cell_type": "code",
   "execution_count": 12,
   "id": "88ec9594-9bfe-415a-87c6-68e65163d3d0",
   "metadata": {},
   "outputs": [
    {
     "data": {
      "text/plain": [
       "14819    52.687005+-8.617782\n",
       "Name: coordinates, dtype: object"
      ]
     },
     "execution_count": 12,
     "metadata": {},
     "output_type": "execute_result"
    }
   ],
   "source": [
    "sale_data['coordinates'].sample()"
   ]
  },
  {
   "cell_type": "raw",
   "id": "814c426a-e4af-49f3-be88-e90c1642b1a9",
   "metadata": {},
   "source": [
    "def process_coordinates(df):\n",
    "    print(df.shape)\n",
    "    df['latitude'] = df['coordinates'].str.split('+').str[0].astype(float)\n",
    "    df['longitude'] = df['coordinates'].str.split('+').str[1].astype(float)\n",
    "    print(df.shape)\n",
    "    return df\n",
    "\n",
    "def drop_coord_outliers(df):\n",
    "    print(df.shape)\n",
    "    df.drop(index=df[(df['latitude'] < 51.3) | (df['latitude'] > 55.4) | \\\n",
    "                     (df['longitude'] > -5.9) | (df['longitude'] < -10.6)].index, inplace=True)\n",
    "    print(df.shape)\n",
    "    return df"
   ]
  },
  {
   "cell_type": "code",
   "execution_count": 13,
   "id": "a8ee0a58-5021-4d54-b53e-8e243c283e8f",
   "metadata": {},
   "outputs": [
    {
     "name": "stdout",
     "output_type": "stream",
     "text": [
      "(17339, 17)\n",
      "(17339, 18)\n"
     ]
    }
   ],
   "source": [
    "sale_data = process_coordinates(sale_data)"
   ]
  },
  {
   "cell_type": "code",
   "execution_count": 14,
   "id": "f6b28358-47fe-4049-919d-ae43bb8c60d1",
   "metadata": {},
   "outputs": [
    {
     "data": {
      "image/png": "[encoded data removed]",
      "text/plain": [
       "<Figure size 576x396 with 1 Axes>"
      ]
     },
     "metadata": {},
     "output_type": "display_data"
    }
   ],
   "source": [
    "sale_data.plot(kind='scatter', x='longitude', y='latitude', title='Houses for sale, Ireland');"
   ]
  },
  {
   "cell_type": "code",
   "execution_count": 15,
   "id": "c1fac19e-e010-49b0-b2a6-0e5995b69ae1",
   "metadata": {},
   "outputs": [
    {
     "name": "stdout",
     "output_type": "stream",
     "text": [
      "(17339, 18)\n",
      "(17325, 18)\n"
     ]
    }
   ],
   "source": [
    "sale_data = drop_coord_outliers(sale_data)"
   ]
  },
  {
   "cell_type": "code",
   "execution_count": 16,
   "id": "b35847bf-b681-4e04-92b1-dcc9718b2443",
   "metadata": {},
   "outputs": [
    {
     "data": {
      "image/png": "[encoded data removed]",
      "text/plain": [
       "<Figure size 576x396 with 1 Axes>"
      ]
     },
     "metadata": {},
     "output_type": "display_data"
    }
   ],
   "source": [
    "sale_data.plot(kind='scatter', x='longitude', y='latitude', title='Houses for sale, Ireland'); # esta un poco achatada pero es Irlanda"
   ]
  },
  {
   "cell_type": "markdown",
   "id": "f439bc22-6bed-497c-bfbe-06a52e2d9adb",
   "metadata": {},
   "source": [
    "## Floor Area"
   ]
  },
  {
   "cell_type": "code",
   "execution_count": 17,
   "id": "243ad6cc-46b8-4a65-9db7-9eecf6959b69",
   "metadata": {},
   "outputs": [
    {
     "data": {
      "text/plain": [
       "6947                          96 m²\n",
       "1800                          93 m²\n",
       "4                            316 m²\n",
       "14910                         85 m²\n",
       "10357    For Sale by Private Treaty\n",
       "13222                        418 m²\n",
       "81                            85 m²\n",
       "17303    For Sale by Private Treaty\n",
       "9682                         121 m²\n",
       "2282     For Sale by Private Treaty\n",
       "11613                        136 m²\n",
       "938      For Sale by Private Treaty\n",
       "15663                        135 m²\n",
       "15116                        103 m²\n",
       "8573                          81 m²\n",
       "10974                        154 m²\n",
       "6555     For Sale by Private Treaty\n",
       "9938                        1.27 ac\n",
       "9009                          77 m²\n",
       "1226                         154 m²\n",
       "16780                       0.82 ac\n",
       "9018                        2.38 ac\n",
       "11093                         85 m²\n",
       "1145                         125 m²\n",
       "8112                         0.5 ac\n",
       "1003                          80 m²\n",
       "371                          155 m²\n",
       "15910                        135 m²\n",
       "8153                         187 m²\n",
       "12510                        187 m²\n",
       "Name: floor_area, dtype: object"
      ]
     },
     "execution_count": 17,
     "metadata": {},
     "output_type": "execute_result"
    }
   ],
   "source": [
    "sale_data['floor_area'].sample(30)"
   ]
  },
  {
   "cell_type": "code",
   "execution_count": 18,
   "id": "fee5d1a9-8a5a-4129-b152-2f061e624f4d",
   "metadata": {},
   "outputs": [
    {
     "data": {
      "text/plain": [
       "10645"
      ]
     },
     "execution_count": 18,
     "metadata": {},
     "output_type": "execute_result"
    }
   ],
   "source": [
    "sale_data['floor_area'].str.contains('m²').sum()"
   ]
  },
  {
   "cell_type": "code",
   "execution_count": 19,
   "id": "aa995991-0033-45ad-b34c-195fa96d1c82",
   "metadata": {},
   "outputs": [
    {
     "data": {
      "text/plain": [
       "6680"
      ]
     },
     "execution_count": 19,
     "metadata": {},
     "output_type": "execute_result"
    }
   ],
   "source": [
    "sale_data.shape[0] - sale_data['floor_area'].str.contains('m²').sum() #---> Drop 6680 assets\n",
    "# Estudiar los precios medios, etc, de las casas eliminadas para ver si son similares a los que tienen m²"
   ]
  },
  {
   "cell_type": "code",
   "execution_count": 20,
   "id": "36ae68f3-e027-4272-896b-50edadb1ab2b",
   "metadata": {
    "tags": []
   },
   "outputs": [],
   "source": [
    "#sale_data.dropna(subset=['floor_area']).loc[sale_data.dropna(subset=['floor_area'])['floor_area'].str.contains('m²'), ['floor_area']]"
   ]
  },
  {
   "cell_type": "code",
   "execution_count": 21,
   "id": "bf177391-2e96-4b6c-92ae-05623ff06219",
   "metadata": {},
   "outputs": [
    {
     "data": {
      "text/plain": [
       "0     True\n",
       "1    False\n",
       "2     True\n",
       "Name: floor_area, dtype: object"
      ]
     },
     "execution_count": 21,
     "metadata": {},
     "output_type": "execute_result"
    }
   ],
   "source": [
    "sale_data['floor_area'].str.contains('m²').head(3)"
   ]
  },
  {
   "cell_type": "code",
   "execution_count": 22,
   "id": "9dc8df06-dd2f-4cd8-9347-9eebd7e3328c",
   "metadata": {},
   "outputs": [
    {
     "data": {
      "text/plain": [
       "0    False\n",
       "1     True\n",
       "2    False\n",
       "Name: floor_area, dtype: bool"
      ]
     },
     "execution_count": 22,
     "metadata": {},
     "output_type": "execute_result"
    }
   ],
   "source": [
    "sale_data['floor_area'].str.contains('m²').head(3) == False"
   ]
  },
  {
   "cell_type": "code",
   "execution_count": 23,
   "id": "cc4f39c9-e8bb-4387-932f-bbdc90ca9490",
   "metadata": {},
   "outputs": [
    {
     "data": {
      "text/plain": [
       "6672"
      ]
     },
     "execution_count": 23,
     "metadata": {},
     "output_type": "execute_result"
    }
   ],
   "source": [
    "index_to_drop = sale_data[sale_data['floor_area'].str.contains('m²') == False].index\n",
    "len(index_to_drop) # esta diferenci de 8 se debe a missing values"
   ]
  },
  {
   "cell_type": "code",
   "execution_count": 24,
   "id": "3d2e505b-81a3-4c1d-a99a-c4d092f15ce9",
   "metadata": {},
   "outputs": [
    {
     "data": {
      "text/plain": [
       "8"
      ]
     },
     "execution_count": 24,
     "metadata": {},
     "output_type": "execute_result"
    }
   ],
   "source": [
    "#, inplace=True\n",
    "sale_data.drop(index=index_to_drop)['floor_area'].isna().sum()"
   ]
  },
  {
   "cell_type": "code",
   "execution_count": 25,
   "id": "29d2072b-f9d1-4b2d-8a12-1f17ac9b7f2f",
   "metadata": {},
   "outputs": [
    {
     "data": {
      "text/html": [
       "<div>\n",
       "<style scoped>\n",
       "    .dataframe tbody tr th:only-of-type {\n",
       "        vertical-align: middle;\n",
       "    }\n",
       "\n",
       "    .dataframe tbody tr th {\n",
       "        vertical-align: top;\n",
       "    }\n",
       "\n",
       "    .dataframe thead th {\n",
       "        text-align: right;\n",
       "    }\n",
       "</style>\n",
       "<table border=\"1\" class=\"dataframe\">\n",
       "  <thead>\n",
       "    <tr style=\"text-align: right;\">\n",
       "      <th></th>\n",
       "      <th>info</th>\n",
       "    </tr>\n",
       "  </thead>\n",
       "  <tbody>\n",
       "    <tr>\n",
       "      <th>7757</th>\n",
       "      <td>3 Bed,1 Bath,Detached</td>\n",
       "    </tr>\n",
       "    <tr>\n",
       "      <th>12236</th>\n",
       "      <td>Site</td>\n",
       "    </tr>\n",
       "    <tr>\n",
       "      <th>12653</th>\n",
       "      <td>Site</td>\n",
       "    </tr>\n",
       "    <tr>\n",
       "      <th>12895</th>\n",
       "      <td>5 Bed,2 Bath,Semi-D</td>\n",
       "    </tr>\n",
       "    <tr>\n",
       "      <th>12984</th>\n",
       "      <td>Site</td>\n",
       "    </tr>\n",
       "    <tr>\n",
       "      <th>12998</th>\n",
       "      <td>Site</td>\n",
       "    </tr>\n",
       "    <tr>\n",
       "      <th>13003</th>\n",
       "      <td>Site</td>\n",
       "    </tr>\n",
       "    <tr>\n",
       "      <th>15251</th>\n",
       "      <td>3 Bed,1 Bath,Terrace</td>\n",
       "    </tr>\n",
       "  </tbody>\n",
       "</table>\n",
       "</div>"
      ],
      "text/plain": [
       "                        info\n",
       "7757   3 Bed,1 Bath,Detached\n",
       "12236                   Site\n",
       "12653                   Site\n",
       "12895    5 Bed,2 Bath,Semi-D\n",
       "12984                   Site\n",
       "12998                   Site\n",
       "13003                   Site\n",
       "15251   3 Bed,1 Bath,Terrace"
      ]
     },
     "execution_count": 25,
     "metadata": {},
     "output_type": "execute_result"
    }
   ],
   "source": [
    "sale_data.drop(index=index_to_drop).loc[sale_data.drop(index=index_to_drop)['floor_area'].isna(), ['info']]\n",
    "# Los que tienen missing value en `floor_area` tampoco tienen los m² en `info` ---> Drop"
   ]
  },
  {
   "cell_type": "code",
   "execution_count": 26,
   "id": "b6805e58-00b4-4fa1-9c47-25d40b3ec23a",
   "metadata": {},
   "outputs": [
    {
     "data": {
      "text/plain": [
       "6680"
      ]
     },
     "execution_count": 26,
     "metadata": {},
     "output_type": "execute_result"
    }
   ],
   "source": [
    "index_to_drop = sale_data[(sale_data['floor_area'].str.contains('m²') == False) | \n",
    "                          (sale_data['floor_area'].isna())].index\n",
    "len(index_to_drop) # esta diferenci de 8 se debe a missing values"
   ]
  },
  {
   "cell_type": "raw",
   "id": "ab31872e-9e84-4ef1-a85a-4651f1cfdc01",
   "metadata": {},
   "source": [
    "shape_before = sale_data.shape[0]\n",
    "print(f'Before dropping: {sale_data.shape}')\n",
    "sale_data.drop(index=index_to_drop, inplace=True)\n",
    "print(f'After dropping: {sale_data.shape}')\n",
    "print(f'Diference: {shape_before - sale_data.shape[0]} rows')"
   ]
  },
  {
   "cell_type": "raw",
   "id": "662755d2-7736-455d-8b9c-9d586371f487",
   "metadata": {},
   "source": [
    "def drop_floor_area(df):\n",
    "    \n",
    "    index_to_drop = df[(df['floor_area'].str.contains('m²') == False) | \n",
    "                       (df['floor_area'].isna())].index\n",
    "    print(f'index_to_drop: {len(index_to_drop)}\\n') # esta diferenci de 8 se debe a missing values\n",
    "    \n",
    "    shape_before = df.shape[0]\n",
    "    print(f'Before dropping: {df.shape}')\n",
    "    df.drop(index=index_to_drop, inplace=True)\n",
    "    print(f'After dropping: {df.shape}\\n----------')\n",
    "    print(f'Diference: {shape_before - df.shape[0]} rows')\n",
    "    return df"
   ]
  },
  {
   "cell_type": "raw",
   "id": "e68ad119-7550-47d3-b88c-0a3221024a9b",
   "metadata": {},
   "source": [
    "sale_data = drop_floor_area(sale_data)"
   ]
  },
  {
   "cell_type": "code",
   "execution_count": 27,
   "id": "05d01c68-22c0-4763-b8d0-102b992f8c2c",
   "metadata": {},
   "outputs": [
    {
     "data": {
      "text/plain": [
       "12400                         60 m²\n",
       "17126    For Sale by Private Treaty\n",
       "14401                         84 m²\n",
       "Name: floor_area, dtype: object"
      ]
     },
     "execution_count": 27,
     "metadata": {},
     "output_type": "execute_result"
    }
   ],
   "source": [
    "sale_data['floor_area'].sample(3)"
   ]
  },
  {
   "cell_type": "raw",
   "id": "1f13ea9a-ea6e-4054-8ff7-86a9e0f61212",
   "metadata": {},
   "source": [
    "sale_data['floor_area'].str.split(' ').apply(len).value_counts()"
   ]
  },
  {
   "cell_type": "raw",
   "id": "9cbd5b76-631b-48dc-ba5a-30e61bfe7146",
   "metadata": {},
   "source": [
    "sale_data['floor_area'] = sale_data['floor_area'].str.split(' ').str[0]\n",
    "sale_data['floor_area'].sample(3)"
   ]
  },
  {
   "cell_type": "raw",
   "id": "13880166-eeb8-4d14-8da7-c306b133794c",
   "metadata": {},
   "source": [
    "def floor_area_wragling(df):\n",
    "    df['floor_area'] = df['floor_area'].str.split(' ').str[0]\n",
    "    return df"
   ]
  },
  {
   "cell_type": "raw",
   "id": "53dc9ec3-3964-49bf-b56f-547ffbd72eff",
   "metadata": {},
   "source": [
    "def process_floor_area(df):\n",
    "    df_dropped = drop_floor_area(df)\n",
    "    df_wrangled = floor_area_wragling(df_dropped)\n",
    "    return df_wrangled"
   ]
  },
  {
   "cell_type": "code",
   "execution_count": 28,
   "id": "6e451e16-a67a-4a5d-bd03-761ba5025060",
   "metadata": {},
   "outputs": [
    {
     "name": "stdout",
     "output_type": "stream",
     "text": [
      "Before: (17325, 18)\n",
      "index_to_drop: 6680\n",
      "\n",
      "Before dropping: (17325, 18)\n",
      "After dropping: (10645, 18)\n",
      "----------\n",
      "Diference: 6680 rows\n",
      "After: (10645, 18)\n"
     ]
    }
   ],
   "source": [
    "print(f'Before: {sale_data.shape}')\n",
    "sale_data = process_floor_area(sale_data)\n",
    "print(f'After: {sale_data.shape}')"
   ]
  },
  {
   "cell_type": "markdown",
   "id": "e619124f-e960-4f41-bbe4-72a7ccb2e10b",
   "metadata": {
    "tags": []
   },
   "source": [
    "## Info"
   ]
  },
  {
   "cell_type": "code",
   "execution_count": 29,
   "id": "ec336a4f-ce16-4af3-aa34-f6066a5fd89f",
   "metadata": {},
   "outputs": [
    {
     "data": {
      "text/html": [
       "<div>\n",
       "<style scoped>\n",
       "    .dataframe tbody tr th:only-of-type {\n",
       "        vertical-align: middle;\n",
       "    }\n",
       "\n",
       "    .dataframe tbody tr th {\n",
       "        vertical-align: top;\n",
       "    }\n",
       "\n",
       "    .dataframe thead th {\n",
       "        text-align: right;\n",
       "    }\n",
       "</style>\n",
       "<table border=\"1\" class=\"dataframe\">\n",
       "  <thead>\n",
       "    <tr style=\"text-align: right;\">\n",
       "      <th></th>\n",
       "      <th>info</th>\n",
       "      <th>floor_area</th>\n",
       "    </tr>\n",
       "  </thead>\n",
       "  <tbody>\n",
       "    <tr>\n",
       "      <th>7570</th>\n",
       "      <td>4 Bed,3 Bath,145 m²,Detached</td>\n",
       "      <td>145</td>\n",
       "    </tr>\n",
       "    <tr>\n",
       "      <th>9527</th>\n",
       "      <td>4 Bed,3 Bath,107 m²,Semi-D</td>\n",
       "      <td>107</td>\n",
       "    </tr>\n",
       "    <tr>\n",
       "      <th>9831</th>\n",
       "      <td>3 Bed,3 Bath,84 m²,Apartment</td>\n",
       "      <td>84</td>\n",
       "    </tr>\n",
       "    <tr>\n",
       "      <th>1349</th>\n",
       "      <td>2 Bed,2 Bath,59 m²,Apartment</td>\n",
       "      <td>59</td>\n",
       "    </tr>\n",
       "    <tr>\n",
       "      <th>16397</th>\n",
       "      <td>2 Bed,1 Bath,83 m²,Terrace</td>\n",
       "      <td>83</td>\n",
       "    </tr>\n",
       "    <tr>\n",
       "      <th>12110</th>\n",
       "      <td>3 Bed,2 Bath,87 m²,Semi-D</td>\n",
       "      <td>87</td>\n",
       "    </tr>\n",
       "    <tr>\n",
       "      <th>1581</th>\n",
       "      <td>4 Bed,3 Bath,101 m²,Semi-D</td>\n",
       "      <td>101</td>\n",
       "    </tr>\n",
       "    <tr>\n",
       "      <th>13383</th>\n",
       "      <td>5 Bed,5 Bath,413 m²,Detached</td>\n",
       "      <td>413</td>\n",
       "    </tr>\n",
       "    <tr>\n",
       "      <th>14565</th>\n",
       "      <td>4 Bed,3 Bath,155 m²,Detached</td>\n",
       "      <td>155</td>\n",
       "    </tr>\n",
       "    <tr>\n",
       "      <th>1218</th>\n",
       "      <td>1 Bed,1 Bath,53 m²,Detached</td>\n",
       "      <td>53</td>\n",
       "    </tr>\n",
       "    <tr>\n",
       "      <th>2359</th>\n",
       "      <td>3 Bed,3 Bath,100 m²,Semi-D</td>\n",
       "      <td>100</td>\n",
       "    </tr>\n",
       "    <tr>\n",
       "      <th>40</th>\n",
       "      <td>1 Bed,1 Bath,53 m²,Detached</td>\n",
       "      <td>53</td>\n",
       "    </tr>\n",
       "    <tr>\n",
       "      <th>11701</th>\n",
       "      <td>4 Bed,1 Bath,235 m²,Detached</td>\n",
       "      <td>235</td>\n",
       "    </tr>\n",
       "    <tr>\n",
       "      <th>14269</th>\n",
       "      <td>4 Bed,3 Bath,122 m²,Detached</td>\n",
       "      <td>122</td>\n",
       "    </tr>\n",
       "    <tr>\n",
       "      <th>2082</th>\n",
       "      <td>4 Bed,1 Bath,133 m²,Semi-D</td>\n",
       "      <td>133</td>\n",
       "    </tr>\n",
       "  </tbody>\n",
       "</table>\n",
       "</div>"
      ],
      "text/plain": [
       "                               info floor_area\n",
       "7570   4 Bed,3 Bath,145 m²,Detached        145\n",
       "9527     4 Bed,3 Bath,107 m²,Semi-D        107\n",
       "9831   3 Bed,3 Bath,84 m²,Apartment         84\n",
       "1349   2 Bed,2 Bath,59 m²,Apartment         59\n",
       "16397    2 Bed,1 Bath,83 m²,Terrace         83\n",
       "12110     3 Bed,2 Bath,87 m²,Semi-D         87\n",
       "1581     4 Bed,3 Bath,101 m²,Semi-D        101\n",
       "13383  5 Bed,5 Bath,413 m²,Detached        413\n",
       "14565  4 Bed,3 Bath,155 m²,Detached        155\n",
       "1218    1 Bed,1 Bath,53 m²,Detached         53\n",
       "2359     3 Bed,3 Bath,100 m²,Semi-D        100\n",
       "40      1 Bed,1 Bath,53 m²,Detached         53\n",
       "11701  4 Bed,1 Bath,235 m²,Detached        235\n",
       "14269  4 Bed,3 Bath,122 m²,Detached        122\n",
       "2082     4 Bed,1 Bath,133 m²,Semi-D        133"
      ]
     },
     "execution_count": 29,
     "metadata": {},
     "output_type": "execute_result"
    }
   ],
   "source": [
    "sale_data[['info', 'floor_area']].sample(15)"
   ]
  },
  {
   "cell_type": "code",
   "execution_count": 30,
   "id": "c08a4138-22ab-4fb6-9b09-8152e4fdeb61",
   "metadata": {},
   "outputs": [
    {
     "data": {
      "text/plain": [
       "0"
      ]
     },
     "execution_count": 30,
     "metadata": {},
     "output_type": "execute_result"
    }
   ],
   "source": [
    "sale_data['info'].isna().sum()"
   ]
  },
  {
   "cell_type": "code",
   "execution_count": 31,
   "id": "ba85175a-e8e4-489c-8b23-535e1d6e9312",
   "metadata": {
    "tags": []
   },
   "outputs": [
    {
     "data": {
      "text/plain": [
       "4    10448\n",
       "3      163\n",
       "2       34\n",
       "Name: info, dtype: int64"
      ]
     },
     "execution_count": 31,
     "metadata": {},
     "output_type": "execute_result"
    }
   ],
   "source": [
    "sale_data['info'].dropna().str.split(',').apply(len).value_counts()"
   ]
  },
  {
   "cell_type": "raw",
   "id": "bb95dacf-5893-46f2-8636-bcb370b50b67",
   "metadata": {},
   "source": [
    "sale_data.dropna(subset=['info']).loc[sale_data['info'].dropna().str.split(',').apply(len) == 1, ['info']].head(10) \n",
    "#---> Drop"
   ]
  },
  {
   "cell_type": "code",
   "execution_count": 32,
   "id": "e00f8b47-d6a0-438c-97c3-350937f8cf4e",
   "metadata": {},
   "outputs": [
    {
     "data": {
      "text/html": [
       "<div>\n",
       "<style scoped>\n",
       "    .dataframe tbody tr th:only-of-type {\n",
       "        vertical-align: middle;\n",
       "    }\n",
       "\n",
       "    .dataframe tbody tr th {\n",
       "        vertical-align: top;\n",
       "    }\n",
       "\n",
       "    .dataframe thead th {\n",
       "        text-align: right;\n",
       "    }\n",
       "</style>\n",
       "<table border=\"1\" class=\"dataframe\">\n",
       "  <thead>\n",
       "    <tr style=\"text-align: right;\">\n",
       "      <th></th>\n",
       "      <th>info</th>\n",
       "      <th>floor_area</th>\n",
       "    </tr>\n",
       "  </thead>\n",
       "  <tbody>\n",
       "    <tr>\n",
       "      <th>16</th>\n",
       "      <td>121 m²,Terrace</td>\n",
       "      <td>121</td>\n",
       "    </tr>\n",
       "    <tr>\n",
       "      <th>157</th>\n",
       "      <td>121 m²,Terrace</td>\n",
       "      <td>121</td>\n",
       "    </tr>\n",
       "    <tr>\n",
       "      <th>364</th>\n",
       "      <td>121 m²,Terrace</td>\n",
       "      <td>121</td>\n",
       "    </tr>\n",
       "    <tr>\n",
       "      <th>949</th>\n",
       "      <td>121 m²,Terrace</td>\n",
       "      <td>121</td>\n",
       "    </tr>\n",
       "    <tr>\n",
       "      <th>1459</th>\n",
       "      <td>121 m²,Terrace</td>\n",
       "      <td>121</td>\n",
       "    </tr>\n",
       "  </tbody>\n",
       "</table>\n",
       "</div>"
      ],
      "text/plain": [
       "                info floor_area\n",
       "16    121 m²,Terrace        121\n",
       "157   121 m²,Terrace        121\n",
       "364   121 m²,Terrace        121\n",
       "949   121 m²,Terrace        121\n",
       "1459  121 m²,Terrace        121"
      ]
     },
     "execution_count": 32,
     "metadata": {},
     "output_type": "execute_result"
    }
   ],
   "source": [
    "sale_data.dropna(subset=['info']).loc[sale_data['info'].dropna().str.split(',').apply(len) == 2, ['info', 'floor_area']].head() \n",
    "#---> Drop, no tenemos info sobre `bedroom` and `bathroom`"
   ]
  },
  {
   "cell_type": "code",
   "execution_count": 33,
   "id": "6ad940d2-4fe0-4175-83ea-8a94af13d59c",
   "metadata": {},
   "outputs": [
    {
     "data": {
      "text/html": [
       "<div>\n",
       "<style scoped>\n",
       "    .dataframe tbody tr th:only-of-type {\n",
       "        vertical-align: middle;\n",
       "    }\n",
       "\n",
       "    .dataframe tbody tr th {\n",
       "        vertical-align: top;\n",
       "    }\n",
       "\n",
       "    .dataframe thead th {\n",
       "        text-align: right;\n",
       "    }\n",
       "</style>\n",
       "<table border=\"1\" class=\"dataframe\">\n",
       "  <thead>\n",
       "    <tr style=\"text-align: right;\">\n",
       "      <th></th>\n",
       "      <th>info</th>\n",
       "      <th>floor_area</th>\n",
       "    </tr>\n",
       "  </thead>\n",
       "  <tbody>\n",
       "    <tr>\n",
       "      <th>0</th>\n",
       "      <td>5 Bed,260 m²,Detached</td>\n",
       "      <td>260</td>\n",
       "    </tr>\n",
       "    <tr>\n",
       "      <th>123</th>\n",
       "      <td>3 Bed,113 m²,Semi-D</td>\n",
       "      <td>113</td>\n",
       "    </tr>\n",
       "    <tr>\n",
       "      <th>139</th>\n",
       "      <td>5 Bed,260 m²,Detached</td>\n",
       "      <td>260</td>\n",
       "    </tr>\n",
       "    <tr>\n",
       "      <th>304</th>\n",
       "      <td>3 Bed,113 m²,Semi-D</td>\n",
       "      <td>113</td>\n",
       "    </tr>\n",
       "    <tr>\n",
       "      <th>332</th>\n",
       "      <td>5 Bed,260 m²,Detached</td>\n",
       "      <td>260</td>\n",
       "    </tr>\n",
       "  </tbody>\n",
       "</table>\n",
       "</div>"
      ],
      "text/plain": [
       "                      info floor_area\n",
       "0    5 Bed,260 m²,Detached        260\n",
       "123    3 Bed,113 m²,Semi-D        113\n",
       "139  5 Bed,260 m²,Detached        260\n",
       "304    3 Bed,113 m²,Semi-D        113\n",
       "332  5 Bed,260 m²,Detached        260"
      ]
     },
     "execution_count": 33,
     "metadata": {},
     "output_type": "execute_result"
    }
   ],
   "source": [
    "sale_data.dropna(subset=['info']).loc[(sale_data['info'].dropna().str.split(',').apply(len) == 3), ['info', 'floor_area']].head()\n",
    "#---> Drop, falta info sobre `bedrooms` or `bathroom`. Si esas variables resultan no ser relevantes podemos agnadir las rows despues"
   ]
  },
  {
   "cell_type": "raw",
   "id": "94a48e9b-4be5-42de-a939-cddda3f8fee9",
   "metadata": {},
   "source": [
    "def drop_info(df):\n",
    "    before_dropping = df.shape\n",
    "    print(before_dropping)\n",
    "    df.dropna(subset=['info'])\n",
    "    df = df[df['info'].str.split(',').apply(len) == 4]\n",
    "    print(df.shape, '\\n---------')\n",
    "    print(f'Dropped: {before_dropping[0] - df.shape[0]} rows\\n')\n",
    "    return df"
   ]
  },
  {
   "cell_type": "raw",
   "id": "15224b5e-85a2-4f00-95e2-5553e5c3e6cd",
   "metadata": {},
   "source": [
    "def process_info(df):\n",
    "    \n",
    "    df = drop_info(df).copy()\n",
    "    before_wrangling = df.shape\n",
    "    print(df.shape)\n",
    "    df['bedroom'] = df['info'].str.split(',').str[0]\n",
    "    df['bathroom'] = df['info'].str.split(',').str[1]\n",
    "\n",
    "    print(df.shape, '\\n---------')\n",
    "    print(f'Dropped: {df.shape[1] - before_wrangling[1]} columns\\n')\n",
    "    return df"
   ]
  },
  {
   "cell_type": "raw",
   "id": "86aa6aca-b096-4276-a404-0cbed2397d09",
   "metadata": {},
   "source": [
    "sale_data = drop_info(sale_data)\n"
   ]
  },
  {
   "cell_type": "code",
   "execution_count": 34,
   "id": "f127cdc4-c74a-4098-92a0-f3ca3306d3f4",
   "metadata": {},
   "outputs": [
    {
     "name": "stdout",
     "output_type": "stream",
     "text": [
      "(10645, 18)\n",
      "(10448, 18) \n",
      "---------\n",
      "Dropped: 197 rows\n",
      "\n",
      "(10448, 18)\n",
      "(10448, 20) \n",
      "---------\n",
      "Dropped: 2 columns\n",
      "\n"
     ]
    }
   ],
   "source": [
    "sale_data = process_info(sale_data)"
   ]
  },
  {
   "cell_type": "markdown",
   "id": "5c888610-4f3c-4aaa-b396-7442b94f2556",
   "metadata": {},
   "source": [
    "## Psr and Energy Performance Indicator"
   ]
  },
  {
   "cell_type": "code",
   "execution_count": 35,
   "id": "f0bed2da-d977-4a34-a85c-3c5a5e61c226",
   "metadata": {},
   "outputs": [
    {
     "data": {
      "text/plain": [
       "daft_id                            0\n",
       "item_id                            0\n",
       "url                                0\n",
       "name                               0\n",
       "price                              0\n",
       "info                               0\n",
       "sale_type                          0\n",
       "floor_area                         0\n",
       "psr                             5888\n",
       "ber                              352\n",
       "entered_renewed                    0\n",
       "views                              0\n",
       "type_house                       701\n",
       "energy_performance_indicator    4472\n",
       "type                               0\n",
       "scraping_date                      0\n",
       "latitude                           0\n",
       "longitude                          0\n",
       "bedroom                            0\n",
       "bathroom                           0\n",
       "dtype: int64"
      ]
     },
     "execution_count": 35,
     "metadata": {},
     "output_type": "execute_result"
    }
   ],
   "source": [
    "sale_data.isna().sum()"
   ]
  },
  {
   "cell_type": "code",
   "execution_count": 36,
   "id": "0a201ae6-6062-4feb-a198-d5ad326c43f8",
   "metadata": {},
   "outputs": [
    {
     "data": {
      "text/plain": [
       "psr                             0.436447\n",
       "energy_performance_indicator    0.571975\n",
       "dtype: float64"
      ]
     },
     "execution_count": 36,
     "metadata": {},
     "output_type": "execute_result"
    }
   ],
   "source": [
    "(sale_data.shape[0] - sale_data[['psr', 'energy_performance_indicator']].isna().sum()) / sale_data.shape[0]"
   ]
  },
  {
   "cell_type": "markdown",
   "id": "7085da3a-763c-428c-bcc7-011b725a45aa",
   "metadata": {},
   "source": [
    "Vamos a eliminar las dos columnas porque tienen un elevado porcentaje de missing values."
   ]
  },
  {
   "cell_type": "code",
   "execution_count": 37,
   "id": "51a50850-7e1e-4f77-b96c-e684e61f424e",
   "metadata": {},
   "outputs": [
    {
     "name": "stdout",
     "output_type": "stream",
     "text": [
      "Before dropping: (10448, 20)\n",
      "After dropping: (10448, 18)\n"
     ]
    }
   ],
   "source": [
    "print(f'Before dropping: {sale_data.shape}')\n",
    "sale_data.drop(columns=['psr', 'energy_performance_indicator'], inplace=True)\n",
    "print(f'After dropping: {sale_data.shape}')"
   ]
  },
  {
   "cell_type": "markdown",
   "id": "eab2a343-39ff-4d7a-838b-188bbdd9eb41",
   "metadata": {},
   "source": [
    "## Ber and Type House"
   ]
  },
  {
   "cell_type": "markdown",
   "id": "fa01a8d0-03ac-41c4-b3a6-76c28ec552f3",
   "metadata": {},
   "source": [
    "No parecen variables muy relevantes a priori, de modo que las vamos a eliminar en un principio para no lidiar con los missing values de dichas clumnas."
   ]
  },
  {
   "cell_type": "code",
   "execution_count": 38,
   "id": "f323ed94-3cbf-49b8-8659-90a628b29c16",
   "metadata": {},
   "outputs": [
    {
     "name": "stdout",
     "output_type": "stream",
     "text": [
      "Before dropping: (10448, 18)\n",
      "After dropping: (10448, 14)\n"
     ]
    }
   ],
   "source": [
    "print(f'Before dropping: {sale_data.shape}')\n",
    "sale_data.drop(columns=['ber', 'type_house', 'item_id', 'info'], inplace=True) # tambien eliminamos otra que seran inutiles\n",
    "print(f'After dropping: {sale_data.shape}')"
   ]
  },
  {
   "cell_type": "code",
   "execution_count": 39,
   "id": "00fe5ceb-2c0f-4060-91c4-2917627f4b6a",
   "metadata": {},
   "outputs": [
    {
     "data": {
      "text/html": [
       "<div>\n",
       "<style scoped>\n",
       "    .dataframe tbody tr th:only-of-type {\n",
       "        vertical-align: middle;\n",
       "    }\n",
       "\n",
       "    .dataframe tbody tr th {\n",
       "        vertical-align: top;\n",
       "    }\n",
       "\n",
       "    .dataframe thead th {\n",
       "        text-align: right;\n",
       "    }\n",
       "</style>\n",
       "<table border=\"1\" class=\"dataframe\">\n",
       "  <thead>\n",
       "    <tr style=\"text-align: right;\">\n",
       "      <th></th>\n",
       "      <th>daft_id</th>\n",
       "      <th>url</th>\n",
       "      <th>name</th>\n",
       "      <th>price</th>\n",
       "      <th>sale_type</th>\n",
       "      <th>floor_area</th>\n",
       "      <th>entered_renewed</th>\n",
       "      <th>views</th>\n",
       "      <th>type</th>\n",
       "      <th>scraping_date</th>\n",
       "      <th>latitude</th>\n",
       "      <th>longitude</th>\n",
       "      <th>bedroom</th>\n",
       "      <th>bathroom</th>\n",
       "    </tr>\n",
       "  </thead>\n",
       "  <tbody>\n",
       "    <tr>\n",
       "      <th>6355</th>\n",
       "      <td>16365986</td>\n",
       "      <td>https://www.daft.ie/for-sale/semi-detached-hou...</td>\n",
       "      <td>9 Kildalton Walk, Banagher Court, Piltown, Co....</td>\n",
       "      <td>185000.0</td>\n",
       "      <td>For Sale by Private Treaty</td>\n",
       "      <td>102</td>\n",
       "      <td>2021-10-01</td>\n",
       "      <td>53</td>\n",
       "      <td>buy</td>\n",
       "      <td>2021-10-02</td>\n",
       "      <td>52.352752</td>\n",
       "      <td>-7.331756</td>\n",
       "      <td>3 Bed</td>\n",
       "      <td>3 Bath</td>\n",
       "    </tr>\n",
       "  </tbody>\n",
       "</table>\n",
       "</div>"
      ],
      "text/plain": [
       "       daft_id                                                url  \\\n",
       "6355  16365986  https://www.daft.ie/for-sale/semi-detached-hou...   \n",
       "\n",
       "                                                   name     price  \\\n",
       "6355  9 Kildalton Walk, Banagher Court, Piltown, Co....  185000.0   \n",
       "\n",
       "                       sale_type floor_area entered_renewed views type  \\\n",
       "6355  For Sale by Private Treaty        102      2021-10-01    53  buy   \n",
       "\n",
       "     scraping_date   latitude  longitude bedroom bathroom  \n",
       "6355    2021-10-02  52.352752  -7.331756   3 Bed   3 Bath  "
      ]
     },
     "execution_count": 39,
     "metadata": {},
     "output_type": "execute_result"
    }
   ],
   "source": [
    "sale_data.sample()"
   ]
  },
  {
   "cell_type": "code",
   "execution_count": 40,
   "id": "2647f93e-4116-4451-8f28-8c3f9eb3597b",
   "metadata": {},
   "outputs": [
    {
     "data": {
      "text/plain": [
       "daft_id            0\n",
       "url                0\n",
       "name               0\n",
       "price              0\n",
       "sale_type          0\n",
       "floor_area         0\n",
       "entered_renewed    0\n",
       "views              0\n",
       "type               0\n",
       "scraping_date      0\n",
       "latitude           0\n",
       "longitude          0\n",
       "bedroom            0\n",
       "bathroom           0\n",
       "dtype: int64"
      ]
     },
     "execution_count": 40,
     "metadata": {},
     "output_type": "execute_result"
    }
   ],
   "source": [
    "sale_data.isna().sum()"
   ]
  },
  {
   "cell_type": "markdown",
   "id": "ef0fd17f-32bc-484e-9264-8eb374aa9150",
   "metadata": {},
   "source": [
    "## Views"
   ]
  },
  {
   "cell_type": "code",
   "execution_count": 41,
   "id": "089eac08-11fd-4ce8-ae24-f8aa12b59434",
   "metadata": {},
   "outputs": [
    {
     "data": {
      "text/plain": [
       "0"
      ]
     },
     "execution_count": 41,
     "metadata": {},
     "output_type": "execute_result"
    }
   ],
   "source": [
    "sale_data['views'].isna().sum()"
   ]
  },
  {
   "cell_type": "code",
   "execution_count": 42,
   "id": "c133d85c-42c8-4268-aa80-4022a327aa68",
   "metadata": {},
   "outputs": [],
   "source": [
    "def process_views(df):\n",
    "    df['views'] = df['views'].str.replace(',', '').astype(float)\n",
    "    return df"
   ]
  },
  {
   "cell_type": "code",
   "execution_count": 43,
   "id": "a3bdda17-2df2-4a48-b773-66d097d6fad5",
   "metadata": {},
   "outputs": [],
   "source": [
    "sale_data = process_views(sale_data)"
   ]
  },
  {
   "cell_type": "markdown",
   "id": "d607cda5-3e69-4691-962b-362741e08c0f",
   "metadata": {},
   "source": [
    "## Bedroom and Bathroom"
   ]
  },
  {
   "cell_type": "code",
   "execution_count": 44,
   "id": "d39aba5f-4d5f-4888-b0b7-4ecae11b0d4b",
   "metadata": {},
   "outputs": [
    {
     "data": {
      "text/plain": [
       "3 Bed     3686\n",
       "4 Bed     2655\n",
       "2 Bed     2199\n",
       "5 Bed     1057\n",
       "1 Bed      428\n",
       "6 Bed      264\n",
       "7 Bed       66\n",
       "8 Bed       40\n",
       "9 Bed       14\n",
       "10 Bed      13\n",
       "12 Bed       7\n",
       "13 Bed       5\n",
       "11 Bed       4\n",
       "14 Bed       4\n",
       "18 Bed       2\n",
       "24 Bed       1\n",
       "16 Bed       1\n",
       "19 Bed       1\n",
       "43 Bed       1\n",
       "Name: bedroom, dtype: int64"
      ]
     },
     "execution_count": 44,
     "metadata": {},
     "output_type": "execute_result"
    }
   ],
   "source": [
    "sale_data['bedroom'].value_counts()"
   ]
  },
  {
   "cell_type": "code",
   "execution_count": 45,
   "id": "d650fbf1-2e54-41dc-bfe4-2b0d5aee75ce",
   "metadata": {},
   "outputs": [
    {
     "data": {
      "text/plain": [
       "2 Bath     3403\n",
       "1 Bath     3203\n",
       "3 Bath     2568\n",
       "4 Bath      802\n",
       "5 Bath      262\n",
       "6 Bath       82\n",
       "7 Bath       49\n",
       "8 Bath       31\n",
       "9 Bath       24\n",
       "10 Bath       7\n",
       "11 Bath       6\n",
       "16 Bath       3\n",
       "14 Bath       2\n",
       "12 Bath       2\n",
       "15 Bath       1\n",
       "13 Bath       1\n",
       "47 Bath       1\n",
       "17 Bath       1\n",
       "Name: bathroom, dtype: int64"
      ]
     },
     "execution_count": 45,
     "metadata": {},
     "output_type": "execute_result"
    }
   ],
   "source": [
    "sale_data['bathroom'].value_counts()"
   ]
  },
  {
   "cell_type": "code",
   "execution_count": 46,
   "id": "876a1354-e7a8-49db-9587-fab94c77f0fb",
   "metadata": {},
   "outputs": [],
   "source": [
    "def process_rooms(df):\n",
    "    df['bedroom'] = df['bedroom'].str.split(' ').str[0]\n",
    "    df['bathroom'] = df['bathroom'].str.split(' ').str[0]\n",
    "    return df"
   ]
  },
  {
   "cell_type": "raw",
   "id": "d59801b8-0e2e-4ccf-aa08-a1e5b659f2c4",
   "metadata": {},
   "source": [
    "pd.DataFrame({'before': sale_data['bathroom'], \n",
    "              'after': process_rooms(sale_data)['bathroom']}).head(10)\n",
    "# Al llamar aqui se cambia el df, por eso lo aplicamos sobre una copia"
   ]
  },
  {
   "cell_type": "code",
   "execution_count": 47,
   "id": "41b13777-4495-4177-922a-553b3ae7b55a",
   "metadata": {},
   "outputs": [],
   "source": [
    "sale_data = process_rooms(sale_data)"
   ]
  },
  {
   "cell_type": "code",
   "execution_count": 48,
   "id": "b818d820-8331-4e10-95a6-3bf8e38a3b95",
   "metadata": {},
   "outputs": [
    {
     "data": {
      "text/html": [
       "<div>\n",
       "<style scoped>\n",
       "    .dataframe tbody tr th:only-of-type {\n",
       "        vertical-align: middle;\n",
       "    }\n",
       "\n",
       "    .dataframe tbody tr th {\n",
       "        vertical-align: top;\n",
       "    }\n",
       "\n",
       "    .dataframe thead th {\n",
       "        text-align: right;\n",
       "    }\n",
       "</style>\n",
       "<table border=\"1\" class=\"dataframe\">\n",
       "  <thead>\n",
       "    <tr style=\"text-align: right;\">\n",
       "      <th></th>\n",
       "      <th>bedroom</th>\n",
       "      <th>bathroom</th>\n",
       "    </tr>\n",
       "  </thead>\n",
       "  <tbody>\n",
       "    <tr>\n",
       "      <th>955</th>\n",
       "      <td>2</td>\n",
       "      <td>1</td>\n",
       "    </tr>\n",
       "    <tr>\n",
       "      <th>1505</th>\n",
       "      <td>4</td>\n",
       "      <td>3</td>\n",
       "    </tr>\n",
       "    <tr>\n",
       "      <th>9231</th>\n",
       "      <td>3</td>\n",
       "      <td>3</td>\n",
       "    </tr>\n",
       "  </tbody>\n",
       "</table>\n",
       "</div>"
      ],
      "text/plain": [
       "     bedroom bathroom\n",
       "955        2        1\n",
       "1505       4        3\n",
       "9231       3        3"
      ]
     },
     "execution_count": 48,
     "metadata": {},
     "output_type": "execute_result"
    }
   ],
   "source": [
    "sale_data[['bedroom', 'bathroom']].sample(3)"
   ]
  },
  {
   "cell_type": "code",
   "execution_count": null,
   "id": "82d4dfa5-84d8-4264-8ab8-6a7c4a76a108",
   "metadata": {},
   "outputs": [],
   "source": []
  },
  {
   "cell_type": "code",
   "execution_count": null,
   "id": "88b7db6c-c60b-49c6-ad1c-4a4157c485b6",
   "metadata": {},
   "outputs": [],
   "source": []
  },
  {
   "cell_type": "code",
   "execution_count": null,
   "id": "6ed39efb-7514-4721-822a-61b7064d77bf",
   "metadata": {},
   "outputs": [],
   "source": []
  },
  {
   "cell_type": "code",
   "execution_count": null,
   "id": "6eb306dc-5aa2-4000-9a39-414c8cc42b81",
   "metadata": {},
   "outputs": [],
   "source": []
  },
  {
   "cell_type": "code",
   "execution_count": null,
   "id": "338cfbc8-9d13-4741-b872-2b08492bcb5a",
   "metadata": {},
   "outputs": [],
   "source": []
  },
  {
   "cell_type": "code",
   "execution_count": 49,
   "id": "7ca9e45b-8c52-43f7-bb1c-38ffc79ef0b3",
   "metadata": {},
   "outputs": [],
   "source": [
    "sale_data.to_csv('data_available/sale_data_post_C&W_All.csv', sep=',', index=False)"
   ]
  },
  {
   "cell_type": "code",
   "execution_count": 50,
   "id": "798854cf-f19e-4a03-a0bd-a3ae541805d4",
   "metadata": {},
   "outputs": [],
   "source": [
    "#pd.read_csv('data_available/sale_data_post_C&W_All.csv', sep=',').shape"
   ]
  },
  {
   "cell_type": "code",
   "execution_count": null,
   "id": "c079594b-b5e5-4299-a71e-9e05beb2c63b",
   "metadata": {},
   "outputs": [],
   "source": []
  },
  {
   "cell_type": "code",
   "execution_count": null,
   "id": "7a00919d-1fce-43b7-82ec-d149214b009d",
   "metadata": {},
   "outputs": [],
   "source": []
  },
  {
   "cell_type": "code",
   "execution_count": null,
   "id": "f94eb27b-4c7c-4c06-b320-4da2d13894e7",
   "metadata": {},
   "outputs": [],
   "source": []
  },
  {
   "cell_type": "code",
   "execution_count": null,
   "id": "eb171dab-b279-4612-9b49-5440e78e95b6",
   "metadata": {},
   "outputs": [],
   "source": []
  }
 ],
 "metadata": {
  "kernelspec": {
   "display_name": "Python 3 (ipykernel)",
   "language": "python",
   "name": "python3"
  },
  "language_info": {
   "codemirror_mode": {
    "name": "ipython",
    "version": 3
   },
   "file_extension": ".py",
   "mimetype": "text/x-python",
   "name": "python",
   "nbconvert_exporter": "python",
   "pygments_lexer": "ipython3",
   "version": "3.7.11"
  }
 },
 "nbformat": 4,
 "nbformat_minor": 5
}
