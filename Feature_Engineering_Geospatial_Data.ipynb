{
 "cells": [
  {
   "cell_type": "markdown",
   "id": "23c18132-0057-4356-861c-bdcc61b583b8",
   "metadata": {
    "tags": []
   },
   "source": [
    "# Feature Engineering Geospatial Data"
   ]
  },
  {
   "cell_type": "code",
   "execution_count": 11,
   "id": "753f1dbd-cf56-4053-98c0-ab36a933f0c8",
   "metadata": {},
   "outputs": [],
   "source": [
    "import numpy as np\n",
    "import pandas as pd\n",
    "import matplotlib.pyplot as plt"
   ]
  },
  {
   "cell_type": "code",
   "execution_count": 12,
   "id": "70650d8d-c117-4bc7-8e9e-10573cd976ab",
   "metadata": {},
   "outputs": [],
   "source": [
    "pd.set_option('display.max_rows', None)\n",
    "pd.set_option('display.max_columns', None)\n",
    "plt.style.use('seaborn')"
   ]
  },
  {
   "cell_type": "code",
   "execution_count": 13,
   "id": "912d0d11-c163-4185-94ac-2a7748cac027",
   "metadata": {},
   "outputs": [
    {
     "data": {
      "text/plain": [
       "(8235, 14)"
      ]
     },
     "execution_count": 13,
     "metadata": {},
     "output_type": "execute_result"
    }
   ],
   "source": [
    "sale_data = pd.read_csv('data_available/sale_data_post_C&W.csv', sep=',')\n",
    "sale_data.shape"
   ]
  },
  {
   "cell_type": "code",
   "execution_count": 14,
   "id": "88da4bef-1760-4f63-88d7-5927c353450f",
   "metadata": {},
   "outputs": [
    {
     "name": "stdout",
     "output_type": "stream",
     "text": [
      "<class 'pandas.core.frame.DataFrame'>\n",
      "RangeIndex: 8235 entries, 0 to 8234\n",
      "Data columns (total 14 columns):\n",
      " #   Column           Non-Null Count  Dtype  \n",
      "---  ------           --------------  -----  \n",
      " 0   daft_id          8235 non-null   int64  \n",
      " 1   url              8235 non-null   object \n",
      " 2   name             8235 non-null   object \n",
      " 3   price            8235 non-null   float64\n",
      " 4   sale_type        8235 non-null   object \n",
      " 5   floor_area       8235 non-null   int64  \n",
      " 6   entered_renewed  8235 non-null   object \n",
      " 7   views            8235 non-null   float64\n",
      " 8   type             8235 non-null   object \n",
      " 9   scraping_date    8235 non-null   object \n",
      " 10  latitude         8235 non-null   float64\n",
      " 11  longitude        8235 non-null   float64\n",
      " 12  bedroom          8235 non-null   int64  \n",
      " 13  bathroom         8235 non-null   int64  \n",
      "dtypes: float64(4), int64(4), object(6)\n",
      "memory usage: 900.8+ KB\n"
     ]
    }
   ],
   "source": [
    "sale_data.info()"
   ]
  },
  {
   "cell_type": "markdown",
   "id": "f20d79f4-6fa1-49e4-baf6-4c58d9e9ee00",
   "metadata": {},
   "source": [
    "- `latitude`\n",
    "- `longitude`"
   ]
  },
  {
   "cell_type": "markdown",
   "id": "a9310e0d-e1d9-45e1-bbcb-7657d1592050",
   "metadata": {},
   "source": [
    "### Geopandas"
   ]
  },
  {
   "cell_type": "code",
   "execution_count": 15,
   "id": "86ea7c68-7d7f-46ab-b7a7-9fcd7f77ecaf",
   "metadata": {},
   "outputs": [],
   "source": [
    "from geopy.geocoders import Nominatim\n",
    "from geopy.exc import GeocoderTimedOut\n",
    "import time\n",
    "\n",
    "def do_geocode(geolocator, lat, lon, attempt=1, max_attempts=10):\n",
    "    try:\n",
    "        return geolocator.reverse(f\"{lat}, {lon}\")\n",
    "    except GeocoderTimedOut:\n",
    "        if attempt <= max_attempts:\n",
    "            return do_geocode(geolocator, lat, lon, attempt=attempt+1)\n",
    "        else: # raise\n",
    "            print('!!!!!!!!!!!!!')\n",
    "            return np.nan\n",
    "\n",
    "\n",
    "def location_features(df, attempt=1, max_attempts=5): ## this is so slow\n",
    "    \n",
    "    lat_series = df['latitude']\n",
    "    lon_series = df['latitude']\n",
    "    \n",
    "    geolocator = Nominatim(user_agent=\"my_geocoder\")\n",
    "    location_dict = {'country_code': [], \n",
    "                    'country': [], \n",
    "                    'postcode': [], \n",
    "                    'state_district': [], \n",
    "                    'county': [], \n",
    "                    'municipality': [], \n",
    "                    'city': [], \n",
    "                    'town': [], \n",
    "                    'city_district': [], \n",
    "                    'locality': [], \n",
    "                    'road': [], \n",
    "                    'house_number': []}\n",
    "    \n",
    "    for i, coordinates in enumerate(zip(lat_series, lon_series)):\n",
    "        lat = coordinates[0]\n",
    "        lon = coordinates[1]\n",
    "        \n",
    "        time.sleep(1) # sleeps for 1 second\n",
    "        \n",
    "        try:\n",
    "            #location = geolocator.reverse(f\"{lat}, {lon}\")\n",
    "            location = do_geocode(geolocator, lat, lon, attempt=1, max_attempts=5)\n",
    "        except: continue\n",
    "            #location = \n",
    " \n",
    "            \n",
    "        for key in location_dict:\n",
    "            try:\n",
    "                location_dict[key].append(location.raw['address'][key])\n",
    "            except:\n",
    "                location_dict[key].append(np.nan)\n",
    "        \n",
    "            \n",
    "        \n",
    "        if i in range(0, df.shape[0], 100):\n",
    "            print(i)\n",
    "        \n",
    "            \n",
    "    return location_dict "
   ]
  },
  {
   "cell_type": "raw",
   "id": "5c980373-13da-494e-8eb5-c1d426c078fc",
   "metadata": {},
   "source": [
    "location_dict = address_features(sale_data['latitude'], sale_data['longitude'])\n",
    "# esto tarda un chingo pero creo que no puedo hacerlo mas rapido"
   ]
  },
  {
   "cell_type": "raw",
   "id": "743649f2-82a9-46b9-9f48-7f506ffbfe5e",
   "metadata": {},
   "source": [
    "len(location_dict['country'])"
   ]
  },
  {
   "cell_type": "raw",
   "id": "6fd14b2a-4ebb-417d-804a-ccf82af68496",
   "metadata": {},
   "source": [
    "location_dict.keys()"
   ]
  },
  {
   "cell_type": "code",
   "execution_count": 16,
   "id": "932b2d2c-544b-495b-9d32-295e1fe2c437",
   "metadata": {},
   "outputs": [],
   "source": [
    "def location_dataframe(df, dictionary):\n",
    "\n",
    "    print(df.shape)\n",
    "    for key in dictionary:\n",
    "        df[key] = dictionary[key]\n",
    "    print(df.shape)\n",
    "    return df"
   ]
  },
  {
   "cell_type": "code",
   "execution_count": 17,
   "id": "b38c1a36-9fd7-4902-9676-80b761e8c0de",
   "metadata": {},
   "outputs": [],
   "source": [
    "def location_engineering(df):\n",
    "    location_dict = location_features(df)\n",
    "    df = location_dataframe(df, location_dict)\n",
    "    return df"
   ]
  },
  {
   "cell_type": "code",
   "execution_count": 18,
   "id": "c903c149-1726-4b89-a1da-dde4eff18089",
   "metadata": {
    "tags": []
   },
   "outputs": [],
   "source": [
    "#sale_data = location_engineering(sale_data)"
   ]
  },
  {
   "cell_type": "code",
   "execution_count": 19,
   "id": "9d98a491-7dcf-4cd1-8d08-bbd70c9b8223",
   "metadata": {},
   "outputs": [
    {
     "name": "stdout",
     "output_type": "stream",
     "text": [
      "0\n",
      "100\n",
      "200\n",
      "300\n",
      "400\n",
      "500\n",
      "600\n",
      "700\n",
      "800\n",
      "900\n",
      "1000\n",
      "1100\n",
      "1200\n",
      "1300\n",
      "1400\n",
      "1500\n",
      "1600\n",
      "1700\n",
      "1800\n",
      "1900\n",
      "2000\n",
      "2100\n",
      "2200\n",
      "2300\n",
      "2400\n",
      "2500\n",
      "2600\n",
      "2700\n",
      "2800\n",
      "2900\n",
      "3000\n",
      "3100\n",
      "3200\n"
     ]
    },
    {
     "ename": "KeyboardInterrupt",
     "evalue": "",
     "output_type": "error",
     "traceback": [
      "\u001b[0;31m---------------------------------------------------------------------------\u001b[0m",
      "\u001b[0;31mKeyboardInterrupt\u001b[0m                         Traceback (most recent call last)",
      "\u001b[0;32m/tmp/ipykernel_304778/4177732237.py\u001b[0m in \u001b[0;36m<module>\u001b[0;34m\u001b[0m\n\u001b[0;32m----> 1\u001b[0;31m \u001b[0msale_dict\u001b[0m \u001b[0;34m=\u001b[0m \u001b[0mlocation_features\u001b[0m\u001b[0;34m(\u001b[0m\u001b[0msale_data\u001b[0m\u001b[0;34m)\u001b[0m\u001b[0;34m\u001b[0m\u001b[0;34m\u001b[0m\u001b[0m\n\u001b[0m",
      "\u001b[0;32m/tmp/ipykernel_304778/1423858929.py\u001b[0m in \u001b[0;36mlocation_features\u001b[0;34m(df, attempt, max_attempts)\u001b[0m\n\u001b[1;32m     37\u001b[0m         \u001b[0mlon\u001b[0m \u001b[0;34m=\u001b[0m \u001b[0mcoordinates\u001b[0m\u001b[0;34m[\u001b[0m\u001b[0;36m1\u001b[0m\u001b[0;34m]\u001b[0m\u001b[0;34m\u001b[0m\u001b[0;34m\u001b[0m\u001b[0m\n\u001b[1;32m     38\u001b[0m \u001b[0;34m\u001b[0m\u001b[0m\n\u001b[0;32m---> 39\u001b[0;31m         \u001b[0mtime\u001b[0m\u001b[0;34m.\u001b[0m\u001b[0msleep\u001b[0m\u001b[0;34m(\u001b[0m\u001b[0;36m1\u001b[0m\u001b[0;34m)\u001b[0m \u001b[0;31m# sleeps for 1 second\u001b[0m\u001b[0;34m\u001b[0m\u001b[0;34m\u001b[0m\u001b[0m\n\u001b[0m\u001b[1;32m     40\u001b[0m \u001b[0;34m\u001b[0m\u001b[0m\n\u001b[1;32m     41\u001b[0m         \u001b[0;32mtry\u001b[0m\u001b[0;34m:\u001b[0m\u001b[0;34m\u001b[0m\u001b[0;34m\u001b[0m\u001b[0m\n",
      "\u001b[0;31mKeyboardInterrupt\u001b[0m: "
     ]
    }
   ],
   "source": [
    "print(sale_data.shape)\n",
    "sale_dict = location_features(sale_data)\n",
    "len(sale_dict['postcode'])"
   ]
  },
  {
   "cell_type": "code",
   "execution_count": null,
   "id": "1124d971-7730-424b-84ce-5930b19b9024",
   "metadata": {
    "tags": []
   },
   "outputs": [],
   "source": [
    "print(sale_data.shape)\n",
    "for key in sale_dict:\n",
    "    sale_data[key] = sale_dict[key]\n",
    "print(sale_data.shape)"
   ]
  },
  {
   "cell_type": "code",
   "execution_count": null,
   "id": "52059846-f0a6-4ae9-a843-d19b9284c1af",
   "metadata": {},
   "outputs": [],
   "source": [
    "sale_data.to_csv('data_available/sale_data_post_loc_eng.csv', sep=',', index=False)"
   ]
  },
  {
   "cell_type": "code",
   "execution_count": null,
   "id": "393c40be-80d5-4e5a-896b-9105cbe3fd35",
   "metadata": {},
   "outputs": [],
   "source": [
    "sale_data = pd.read_csv('data_available/sale_data_post_loc_eng.csv', sep=',')\n",
    "sale_data.shape"
   ]
  },
  {
   "cell_type": "code",
   "execution_count": 13,
   "id": "73096e2e-5849-46cc-83a0-195742f13b31",
   "metadata": {},
   "outputs": [
    {
     "name": "stdout",
     "output_type": "stream",
     "text": [
      "<class 'pandas.core.frame.DataFrame'>\n",
      "RangeIndex: 10448 entries, 0 to 10447\n",
      "Data columns (total 14 columns):\n",
      " #   Column           Non-Null Count  Dtype  \n",
      "---  ------           --------------  -----  \n",
      " 0   daft_id          10448 non-null  int64  \n",
      " 1   url              10448 non-null  object \n",
      " 2   name             10448 non-null  object \n",
      " 3   price            10448 non-null  float64\n",
      " 4   sale_type        10448 non-null  object \n",
      " 5   floor_area       10448 non-null  int64  \n",
      " 6   entered_renewed  10448 non-null  object \n",
      " 7   views            10448 non-null  float64\n",
      " 8   type             10448 non-null  object \n",
      " 9   scraping_date    10448 non-null  object \n",
      " 10  latitude         10448 non-null  float64\n",
      " 11  longitude        10448 non-null  float64\n",
      " 12  bedroom          10448 non-null  object \n",
      " 13  bathroom         10448 non-null  object \n",
      "dtypes: float64(4), int64(2), object(8)\n",
      "memory usage: 1.1+ MB\n"
     ]
    }
   ],
   "source": [
    "sale_data.info()"
   ]
  },
  {
   "cell_type": "code",
   "execution_count": null,
   "id": "8fe65b41-d029-4b9b-9dcf-25c99b9a77d7",
   "metadata": {},
   "outputs": [],
   "source": []
  },
  {
   "cell_type": "markdown",
   "id": "2c471dfa-81f6-445b-949b-72411b323987",
   "metadata": {
    "jupyter": {
     "source_hidden": true
    },
    "tags": []
   },
   "source": [
    "### Reverse-Geocode"
   ]
  },
  {
   "cell_type": "code",
   "execution_count": null,
   "id": "b45143f0-d6be-4369-8dfd-ed3c5d7a13f7",
   "metadata": {},
   "outputs": [],
   "source": [
    "import reverse_geocode"
   ]
  },
  {
   "cell_type": "code",
   "execution_count": null,
   "id": "45a8cfdc-5f61-4ab2-8717-5ee485b4693c",
   "metadata": {},
   "outputs": [],
   "source": [
    "coordinates = (54.276114, -8.506455), (54.276114, -8.506455)\n",
    "reverse_geocode.search(coordinates)"
   ]
  },
  {
   "cell_type": "code",
   "execution_count": null,
   "id": "d205fbab-c837-40ff-ba34-555eb8a6a896",
   "metadata": {},
   "outputs": [],
   "source": []
  },
  {
   "cell_type": "markdown",
   "id": "b3204582-2f1b-4b36-96b2-2a2a0bfdcf49",
   "metadata": {},
   "source": [
    "### Polar Coordinates"
   ]
  },
  {
   "cell_type": "code",
   "execution_count": 5,
   "id": "b9062909-fd45-4e8d-950b-74839abc7342",
   "metadata": {},
   "outputs": [],
   "source": [
    "# Converting Cartesian Coordinate to Polar Coordinate\n",
    "# Importing math library\n",
    "import math\n",
    "\n",
    "# Reading cartesian coordinate\n",
    "x = sale_data['latitude']\n",
    "y = sale_data['longitude']\n",
    "\n",
    "# Converting cartesian to polar coordinate\n",
    "# Calculating radius\n",
    "#radius = math.sqrt( x * x + y * y )\n",
    "radius = ((x * x) + (y * y)) ** (1 / 2)\n",
    "# Calculating angle (theta) in radian\n",
    "theta = np.arctan(y / x)\n",
    "# Converting theta from radian to degree\n",
    "theta = 180 * theta / math.pi\n",
    "\n",
    "# Displaying polar coordinates\n",
    "#print('Polar coordinate is: (radius = %0.2f,theta = %0.2f)' %(radius, theta))"
   ]
  },
  {
   "cell_type": "code",
   "execution_count": 6,
   "id": "67255e13-3328-41a4-9d2e-c9584f8a4875",
   "metadata": {},
   "outputs": [
    {
     "data": {
      "image/png": "[encoded data removed]",
      "text/plain": [
       "<Figure size 576x396 with 1 Axes>"
      ]
     },
     "metadata": {},
     "output_type": "display_data"
    }
   ],
   "source": [
    "plt.scatter(theta, radius, color='red', s=1);#alpha=0.1"
   ]
  },
  {
   "cell_type": "markdown",
   "id": "99e34b56-d4a8-4980-949a-b626967c440e",
   "metadata": {},
   "source": [
    "### Rotational Cartesian Coordinates"
   ]
  },
  {
   "cell_type": "code",
   "execution_count": 7,
   "id": "376212f4-df47-4ba6-a335-dfdc5fd7d55a",
   "metadata": {},
   "outputs": [],
   "source": [
    "def rotation(df):\n",
    "    rot_45_x = (0.707 * df['latitude']) + (0.707 * df['longitude'])\n",
    "    rot_45_y = (0.707 * df['longitude']) + (0.707 * df['latitude'])\n",
    "    rot_30_x = (0.866 * df['latitude']) + (0.5 * df['longitude'])\n",
    "    rot_30_y = (0.866 * df['longitude']) + (0.5 * df['latitude'])\n",
    "    return rot_45_x, rot_45_y, rot_30_x, rot_30_y"
   ]
  },
  {
   "cell_type": "code",
   "execution_count": 8,
   "id": "d9a3f288-3f65-4c2d-959f-9c61b92e2981",
   "metadata": {},
   "outputs": [],
   "source": [
    "rot_45_x, rot_45_y, rot_30_x, rot_30_y = rotation(sale_data)"
   ]
  },
  {
   "cell_type": "code",
   "execution_count": 9,
   "id": "b78daf1a-0ec2-43c4-b264-11ddcce6c3fc",
   "metadata": {},
   "outputs": [
    {
     "data": {
      "image/png": "[encoded data removed]",
      "text/plain": [
       "<Figure size 576x396 with 1 Axes>"
      ]
     },
     "metadata": {},
     "output_type": "display_data"
    }
   ],
   "source": [
    "plt.scatter(rot_45_x, rot_45_y);"
   ]
  },
  {
   "cell_type": "code",
   "execution_count": 10,
   "id": "edf50703-1c8f-4625-80fa-d48e1d906985",
   "metadata": {},
   "outputs": [
    {
     "data": {
      "image/png": "[encoded data removed]",
      "text/plain": [
       "<Figure size 576x396 with 1 Axes>"
      ]
     },
     "metadata": {},
     "output_type": "display_data"
    }
   ],
   "source": [
    "plt.scatter(rot_30_x, rot_30_y);"
   ]
  },
  {
   "cell_type": "markdown",
   "id": "40e3aeaa-80cd-44bd-a315-b5345e005f32",
   "metadata": {},
   "source": [
    "### Haversine Distance"
   ]
  },
  {
   "cell_type": "code",
   "execution_count": 66,
   "id": "79354535-a0b6-40f9-8507-bc6cd04b5890",
   "metadata": {},
   "outputs": [],
   "source": [
    "def haversine_dist(lat1,lng1,lat2,lng2):\n",
    "    lat1, lng1, lat2, lng2 = map(np.radians, (lat1, lng1, lat2, lng2))\n",
    "    radius = 6371  # Earth's radius taken from google\n",
    "    lat = lat2 - lat1\n",
    "    lng = lng2 - lng1\n",
    "    d = np.sin(lat/2) ** 2 + np.cos(lat1) * np.cos(lat2) * np.sin(lng/2) ** 2\n",
    "    h = 2 * radius * np.arcsin(np.sqrt(d))\n",
    "    return h"
   ]
  },
  {
   "cell_type": "code",
   "execution_count": null,
   "id": "2af76c9b-b22b-40df-bfe6-3d168566655c",
   "metadata": {},
   "outputs": [],
   "source": []
  },
  {
   "cell_type": "markdown",
   "id": "ea9c9278-8f69-4fb0-b0d8-e7de058a2aea",
   "metadata": {},
   "source": [
    "### Manhattan Distance"
   ]
  },
  {
   "cell_type": "code",
   "execution_count": 67,
   "id": "76a08f25-f32b-445f-abba-f271b38b2355",
   "metadata": {},
   "outputs": [],
   "source": [
    "def manhattan_dist(lat1, lng1, lat2, lng2):\n",
    "    '''\n",
    "    calculating two haversine distances by,\n",
    "     - avoiding Latitude of one point \n",
    "     - avoiding Longitude of one point\n",
    "    and adding it together.\n",
    "    '''\n",
    "    a = haversine_dist(lat1, lng1, lat1, lng2)\n",
    "    b = haversine_dist(lat1, lng1, lat2, lng1)\n",
    "    return a + b"
   ]
  },
  {
   "cell_type": "code",
   "execution_count": null,
   "id": "a89e8cf3-7dae-42a7-aad7-460449efd859",
   "metadata": {},
   "outputs": [],
   "source": []
  },
  {
   "cell_type": "markdown",
   "id": "d2a03244-2f86-4b48-a9c8-45575cc32390",
   "metadata": {},
   "source": [
    "### Bearing Degree"
   ]
  },
  {
   "cell_type": "code",
   "execution_count": 68,
   "id": "6c96899a-04e0-47bd-94c2-3048542ba95c",
   "metadata": {},
   "outputs": [],
   "source": [
    "def bearing_degree(lat1, lng1, lat2, lng2):\n",
    "    '''\n",
    "    calculate angle between two points\n",
    "    '''\n",
    "    radius = 6371  # Mean radius of Earth\n",
    "    diff_lng = np.radians(lng2 - lng1)\n",
    "    lat1, lng1, lat2, lng2 = map(np.radians, (lat1, lng1, lat2, lng2))\n",
    "    y = np.sin(diff_lng) * np.cos(lat2)\n",
    "    x = np.cos(lat1) * np.sin(lat2) - np.sin(lat1) * np.cos(lat2) * np.cos(diff_lng)\n",
    "    return np.degrees(np.arctan2(y, x))"
   ]
  },
  {
   "cell_type": "code",
   "execution_count": null,
   "id": "01247aef-cf67-4740-aaa3-92432aa6fa5a",
   "metadata": {},
   "outputs": [],
   "source": []
  },
  {
   "cell_type": "markdown",
   "id": "a214e756-88a0-459e-a1d1-cfc42f9dcfbd",
   "metadata": {},
   "source": [
    "### Rotational Coordinates using PCA"
   ]
  },
  {
   "cell_type": "markdown",
   "id": "90699dd0-d54f-406d-a836-405872c77020",
   "metadata": {},
   "source": [
    "Here, the idea is only to rotate them which would help decision tree splits in typical tree-based models."
   ]
  },
  {
   "cell_type": "code",
   "execution_count": 69,
   "id": "7b6cc4ec-a42f-4a43-907f-4e6d3236afaa",
   "metadata": {},
   "outputs": [],
   "source": [
    "from sklearn.decomposition import PCA\n",
    "def pca(data):\n",
    "    '''\n",
    "    input: dataframe containing Latitude(x) and Longitude(y)\n",
    "    '''\n",
    "    coordinates = data[['x','y']].values\n",
    "    pca_obj = PCA().fit(coordinates)\n",
    "    pca_x = pca_obj.transform(data[['x', 'y']])[:,0]\n",
    "    pca_y = pca_obj.transform(data[['x', 'y']])[:,1]\n",
    "    return pca_x, pca_y"
   ]
  },
  {
   "cell_type": "code",
   "execution_count": null,
   "id": "1d9eb4ce-e7fc-4730-9b02-5be5f1539801",
   "metadata": {},
   "outputs": [],
   "source": []
  },
  {
   "cell_type": "markdown",
   "id": "43f487f3-4506-46a6-9793-eaf6f6622fd3",
   "metadata": {},
   "source": [
    "### Assing Coordinates to Different Clusters"
   ]
  },
  {
   "cell_type": "code",
   "execution_count": 70,
   "id": "49b1b9f1-b8d4-4ff0-92ee-3e30d19dcf31",
   "metadata": {},
   "outputs": [],
   "source": [
    "from sklearn.cluster import KMeans\n",
    "\n",
    "def cluster(data):\n",
    "    '''\n",
    "    input: dataframe containing Latitude(x) and Longitude(y) coordinates\n",
    "    output: series of cluster labels that each row of coordinates belongs to.\n",
    "    '''\n",
    "    model = KMeans(n_clusters=50)\n",
    "    labels = model.fit_predict(data)\n",
    "    return labels"
   ]
  },
  {
   "cell_type": "code",
   "execution_count": null,
   "id": "0e56a7f8-86bf-4247-9f2d-54dade68df4f",
   "metadata": {},
   "outputs": [],
   "source": []
  },
  {
   "cell_type": "markdown",
   "id": "b72befc5-bc3c-45b2-a92c-d7223110877d",
   "metadata": {},
   "source": [
    "#### Visualization"
   ]
  },
  {
   "cell_type": "code",
   "execution_count": 39,
   "id": "041b499e-01ed-439d-a059-653e191589b5",
   "metadata": {},
   "outputs": [],
   "source": [
    "import matplotlib.pyplot as plt\n",
    "def visualize(data):\n",
    "    '''\n",
    "    input: dataframe containing Latitude(x) and Longitude(y)\n",
    "    '''\n",
    "    plt.scatter(data['longitude'], data['latitude'], color='blue', s=1, alpha=0.1)\n",
    "    #data[['longitude','latitude']].scatter(color='blue', s=1, alpha=0.1)\n",
    "    plt.title('Visualization of Latitude and Longitude')\n",
    "    plt.ylabel('latitude')\n",
    "    plt.xlabel('longitude')\n",
    "    #plt.ylim([53.350, 53.325])\n",
    "    #plt.xlim([-6.24, -6.23])\n",
    "    plt.show()"
   ]
  },
  {
   "cell_type": "code",
   "execution_count": 40,
   "id": "3e16e1b4-c47e-436e-9508-9145e69fcb42",
   "metadata": {},
   "outputs": [
    {
     "data": {
      "image/png": "[encoded data removed]",
      "text/plain": [
       "<Figure size 576x396 with 1 Axes>"
      ]
     },
     "metadata": {},
     "output_type": "display_data"
    }
   ],
   "source": [
    "visualize(sale_data)"
   ]
  },
  {
   "cell_type": "code",
   "execution_count": null,
   "id": "a5fef6d1-e126-414e-bf89-bd24fb05e44e",
   "metadata": {},
   "outputs": [],
   "source": []
  }
 ],
 "metadata": {
  "kernelspec": {
   "display_name": "Python 3 (ipykernel)",
   "language": "python",
   "name": "python3"
  },
  "language_info": {
   "codemirror_mode": {
    "name": "ipython",
    "version": 3
   },
   "file_extension": ".py",
   "mimetype": "text/x-python",
   "name": "python",
   "nbconvert_exporter": "python",
   "pygments_lexer": "ipython3",
   "version": "3.7.11"
  }
 },
 "nbformat": 4,
 "nbformat_minor": 5
}
